{
 "cells": [
  {
   "cell_type": "markdown",
   "id": "193aa5ec",
   "metadata": {},
   "source": [
    "# ASOS Lookup Function\n",
    "\n",
    "A user can pass either the ASOS airport code or the “city” and the script/function identifes and returns the name of the HDP station. \n",
    "E.g., “I need to find KSAC weather station” or “I need to find the Sacramento Executive Airport weather station” \n",
    "\n",
    "Script then identifies KSAC as “ASOSAWOS_XXXXXXXX”\n",
    "\n",
    "Reasoning: Looking up the specific HDP stations from the attached spreadsheet was not straightforward or easy; users may very likely come to HDP knowing specifically which station they are looking for, and it’s not obvious which station is which.\n"
   ]
  },
  {
   "cell_type": "code",
   "execution_count": 1,
   "id": "9177ab10",
   "metadata": {},
   "outputs": [],
   "source": [
    "# imports\n",
    "import boto3\n",
    "import numpy as np\n",
    "import pandas as pd\n",
    "import xarray as xr\n",
    "import geopandas as gpd\n",
    "import matplotlib.pyplot as plt\n",
    "from matplotlib import cm\n",
    "from matplotlib.colors import ListedColormap\n",
    "import os\n",
    "from shapely.geometry import Point\n",
    "import sys  # Used for progress bar\n",
    "import datetime\n",
    "import sys\n",
    "import os\n",
    "from io import BytesIO\n",
    "\n",
    "plt.style.use(\"tableau-colorblind10\")\n",
    "\n",
    "# Set AWS credentials\n",
    "s3 = boto3.resource(\"s3\")\n",
    "s3_cl = boto3.client(\"s3\")  # for lower-level processes\n",
    "\n",
    "# Set relative paths to other folders and objects in repository.\n",
    "BUCKET_NAME = \"wecc-historical-wx\"\n",
    "QAQC_DIR = \"3_qaqc_wx\"\n",
    "MERGE_DIR = \"4_merge_wx\"\n",
    "stations_csv_path = f\"s3://{BUCKET_NAME}/{MERGE_DIR}/all_network_stationlist_merge.csv\""
   ]
  },
  {
   "cell_type": "markdown",
   "id": "e789fca5",
   "metadata": {},
   "source": [
    "## Development"
   ]
  },
  {
   "cell_type": "markdown",
   "id": "d8a3bc2f",
   "metadata": {},
   "source": [
    "grab the station codes from the pull station list version and append as a new column into the merge station list."
   ]
  },
  {
   "cell_type": "code",
   "execution_count": 130,
   "id": "593e025e",
   "metadata": {},
   "outputs": [
    {
     "name": "stdout",
     "output_type": "stream",
     "text": [
      "There are multiple stations associated with 'Sacramento': ['ASOSAWOS_72483023232', 'ASOSAWOS_72483323206']\n"
     ]
    }
   ],
   "source": [
    "asos_station_lookup(code=None, city='Sacramento')"
   ]
  },
  {
   "cell_type": "markdown",
   "id": "894a9dba",
   "metadata": {},
   "source": [
    "## Scraps"
   ]
  },
  {
   "cell_type": "markdown",
   "id": "1ca66bf5",
   "metadata": {},
   "source": [
    "I matched up ASOSAWOS stations from the merge station list with the lat lons of the stations in the list that Mithra shared."
   ]
  },
  {
   "cell_type": "code",
   "execution_count": null,
   "id": "5d0e8cd7",
   "metadata": {},
   "outputs": [],
   "source": [
    "# load station list\n",
    "station_list = pd.read_csv(stations_csv_path)\n",
    "station_list = station_list[station_list['network']=='ASOSAWOS']"
   ]
  },
  {
   "cell_type": "code",
   "execution_count": 45,
   "id": "937b7723",
   "metadata": {},
   "outputs": [],
   "source": [
    "# convert to geodataframe\n",
    "asos_stns = gpd.GeoDataFrame(\n",
    "    station_list,\n",
    "    geometry=gpd.points_from_xy(\n",
    "        station_list.longitude, station_list.latitude, crs=\"EPSG:4326\"\n",
    "    ),\n",
    ")"
   ]
  },
  {
   "cell_type": "code",
   "execution_count": null,
   "id": "d8c8b33e",
   "metadata": {},
   "outputs": [],
   "source": [
    "# load in list that Mithra shared (stored in separate repo)\n",
    "lookup_table = pd.read_csv(\"../../skillshare_demo/lookup_table.csv\")"
   ]
  },
  {
   "cell_type": "code",
   "execution_count": null,
   "id": "6234b290",
   "metadata": {},
   "outputs": [],
   "source": [
    "# convert it to a geodataframe\n",
    "lookup_table = gpd.GeoDataFrame(\n",
    "    lookup_table,\n",
    "    geometry=gpd.points_from_xy(\n",
    "        lookup_table.longitude, lookup_table.latitude, crs=\"EPSG:4326\"\n",
    "    ),\n",
    ")"
   ]
  },
  {
   "cell_type": "code",
   "execution_count": null,
   "id": "d7403be1",
   "metadata": {},
   "outputs": [],
   "source": [
    "# and filter for ease of use later\n",
    "lookup_table = lookup_table[\n",
    "    [\"Airport Code\", \"City\", \"latitude\", \"longitude\",'geometry']\n",
    "]"
   ]
  },
  {
   "cell_type": "code",
   "execution_count": null,
   "id": "4f5a3b39",
   "metadata": {},
   "outputs": [
    {
     "name": "stderr",
     "output_type": "stream",
     "text": [
      "/tmp/ipykernel_31410/1684058703.py:6: UserWarning: Geometry is in a geographic CRS. Results from 'buffer' are likely incorrect. Use 'GeoSeries.to_crs()' to re-project geometries to a projected CRS before this operation.\n",
      "\n",
      "  lookup_table_buffered[\"geometry\"] = lookup_table.geometry.buffer(error_margin)\n",
      "/tmp/ipykernel_31410/1684058703.py:9: UserWarning: Geometry is in a geographic CRS. Results from 'buffer' are likely incorrect. Use 'GeoSeries.to_crs()' to re-project geometries to a projected CRS before this operation.\n",
      "\n",
      "  asos_stns_buffered[\"geometry\"] = asos_stns.geometry.buffer(error_margin)\n"
     ]
    }
   ],
   "source": [
    "# establish buffers around the point geometries, as they will not be exact matches\n",
    "\n",
    "# define the error margin (buffer distance)\n",
    "error_margin = 0.1  # Adjust this value as needed\n",
    "\n",
    "# apply buffer to account for the error margin\n",
    "lookup_table_buffered = lookup_table.copy()\n",
    "lookup_table_buffered[\"geometry\"] = lookup_table.geometry.buffer(error_margin)\n",
    "\n",
    "asos_stns_buffered = asos_stns.copy()\n",
    "asos_stns_buffered[\"geometry\"] = asos_stns.geometry.buffer(error_margin)"
   ]
  },
  {
   "cell_type": "code",
   "execution_count": null,
   "id": "686e0925",
   "metadata": {},
   "outputs": [],
   "source": [
    "# perform the overlay operation (e.g., intersection)\n",
    "matchup_buffered = gpd.overlay(asos_stns_buffered, lookup_table_buffered, how=\"intersection\")"
   ]
  },
  {
   "cell_type": "code",
   "execution_count": null,
   "id": "a01a0e80",
   "metadata": {},
   "outputs": [],
   "source": [
    "# clean things up \n",
    "matchup_buffered = matchup_buffered[[\"era-id\", \"longitude_1\", \"latitude_1\",\"longitude_2\", \"latitude_2\",'Airport Code','City']]"
   ]
  },
  {
   "cell_type": "markdown",
   "id": "5ce4dd08",
   "metadata": {},
   "source": [
    "Now go through each city in the list (which I added manually before starting this process) and check which HDP station is a match. I added the station ID to a copy of the list in my drive along the way."
   ]
  },
  {
   "cell_type": "code",
   "execution_count": 102,
   "id": "cebc20c2",
   "metadata": {},
   "outputs": [
    {
     "data": {
      "text/html": [
       "<div>\n",
       "<style scoped>\n",
       "    .dataframe tbody tr th:only-of-type {\n",
       "        vertical-align: middle;\n",
       "    }\n",
       "\n",
       "    .dataframe tbody tr th {\n",
       "        vertical-align: top;\n",
       "    }\n",
       "\n",
       "    .dataframe thead th {\n",
       "        text-align: right;\n",
       "    }\n",
       "</style>\n",
       "<table border=\"1\" class=\"dataframe\">\n",
       "  <thead>\n",
       "    <tr style=\"text-align: right;\">\n",
       "      <th></th>\n",
       "      <th>era-id</th>\n",
       "      <th>longitude_1</th>\n",
       "      <th>latitude_1</th>\n",
       "      <th>longitude_2</th>\n",
       "      <th>latitude_2</th>\n",
       "      <th>Airport Code</th>\n",
       "      <th>City</th>\n",
       "    </tr>\n",
       "  </thead>\n",
       "  <tbody>\n",
       "    <tr>\n",
       "      <th>19</th>\n",
       "      <td>ASOSAWOS_72494523293</td>\n",
       "      <td>-121.924</td>\n",
       "      <td>37.359</td>\n",
       "      <td>-121.82</td>\n",
       "      <td>37.33</td>\n",
       "      <td>KRHV</td>\n",
       "      <td>San Jose</td>\n",
       "    </tr>\n",
       "  </tbody>\n",
       "</table>\n",
       "</div>"
      ],
      "text/plain": [
       "                  era-id  longitude_1  latitude_1  longitude_2  latitude_2  \\\n",
       "19  ASOSAWOS_72494523293     -121.924      37.359      -121.82       37.33   \n",
       "\n",
       "   Airport Code      City  \n",
       "19         KRHV  San Jose  "
      ]
     },
     "execution_count": 102,
     "metadata": {},
     "output_type": "execute_result"
    }
   ],
   "source": [
    "matchup_buffered[matchup_buffered[\"City\"] == \"San Jose\"]"
   ]
  },
  {
   "cell_type": "markdown",
   "id": "814a74a9",
   "metadata": {},
   "source": [
    "I then downloaded a cleaned version of the table and load it in here (again, stored in a separate repo)."
   ]
  },
  {
   "cell_type": "code",
   "execution_count": null,
   "id": "6724b8a6",
   "metadata": {},
   "outputs": [],
   "source": [
    "matchup_table = pd.read_csv(\"../../skillshare_demo/final_lookup_table.csv\")"
   ]
  },
  {
   "cell_type": "markdown",
   "id": "2fb42ad7",
   "metadata": {},
   "source": [
    "And generated two dictionaries from it - one for airport codes, another for airport cities"
   ]
  },
  {
   "cell_type": "code",
   "execution_count": 123,
   "id": "76158772",
   "metadata": {},
   "outputs": [],
   "source": [
    "code_dict = pd.Series(matchup_table[\"HDP station\"].values, index=matchup_table[\"Airport Code\"]).to_dict()"
   ]
  },
  {
   "cell_type": "code",
   "execution_count": 124,
   "id": "3b526d9d",
   "metadata": {},
   "outputs": [],
   "source": [
    "city_dict = pd.Series(\n",
    "    matchup_table[\"HDP station\"].values, index=matchup_table[\"City\"]\n",
    ").to_dict()"
   ]
  },
  {
   "cell_type": "markdown",
   "id": "1eccd7e3",
   "metadata": {},
   "source": [
    "The dictionaries are generated manually in the function itself."
   ]
  }
 ],
 "metadata": {
  "kernelspec": {
   "display_name": "hist-obs",
   "language": "python",
   "name": "python3"
  },
  "language_info": {
   "codemirror_mode": {
    "name": "ipython",
    "version": 3
   },
   "file_extension": ".py",
   "mimetype": "text/x-python",
   "name": "python",
   "nbconvert_exporter": "python",
   "pygments_lexer": "ipython3",
   "version": "3.10.13"
  }
 },
 "nbformat": 4,
 "nbformat_minor": 5
}
