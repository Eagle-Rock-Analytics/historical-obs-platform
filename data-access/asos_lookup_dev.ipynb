{
 "cells": [
  {
   "cell_type": "markdown",
   "id": "193aa5ec",
   "metadata": {},
   "source": [
    "# ASOS Lookup Function\n",
    "\n",
    "A user can pass either the ASOS airport code or the “city” and the script/function identifes and returns the name of the HDP station. \n",
    "E.g., “I need to find KSAC weather station” or “I need to find the Sacramento Executive Airport weather station” \n",
    "\n",
    "Script then identifies KSAC as “ASOSAWOS_XXXXXXXX”\n",
    "\n",
    "Reasoning: Looking up the specific HDP stations from the attached spreadsheet was not straightforward or easy; users may very likely come to HDP knowing specifically which station they are looking for, and it’s not obvious which station is which.\n"
   ]
  },
  {
   "cell_type": "code",
   "execution_count": 1,
   "id": "9177ab10",
   "metadata": {},
   "outputs": [],
   "source": [
    "# imports\n",
    "import boto3\n",
    "import numpy as np\n",
    "import pandas as pd\n",
    "import xarray as xr\n",
    "import geopandas as gpd\n",
    "import matplotlib.pyplot as plt\n",
    "from matplotlib import cm\n",
    "from matplotlib.colors import ListedColormap\n",
    "import os\n",
    "from shapely.geometry import Point\n",
    "import sys  # Used for progress bar\n",
    "import datetime\n",
    "import sys\n",
    "import os\n",
    "from io import BytesIO\n",
    "\n",
    "plt.style.use(\"tableau-colorblind10\")\n",
    "\n",
    "# Set AWS credentials\n",
    "s3 = boto3.resource(\"s3\")\n",
    "s3_cl = boto3.client(\"s3\")  # for lower-level processes\n",
    "\n",
    "# Set relative paths to other folders and objects in repository.\n",
    "BUCKET_NAME = \"wecc-historical-wx\"\n",
    "QAQC_DIR = \"3_qaqc_wx\"\n",
    "MERGE_DIR = \"4_merge_wx\"\n",
    "stations_csv_path = f\"s3://{BUCKET_NAME}/{MERGE_DIR}/all_network_stationlist_merge.csv\""
   ]
  },
  {
   "cell_type": "markdown",
   "id": "e789fca5",
   "metadata": {},
   "source": [
    "## Development"
   ]
  },
  {
   "cell_type": "markdown",
   "id": "d8a3bc2f",
   "metadata": {},
   "source": [
    "grab the station codes from the pull station list version and append as a new column into the merge station list."
   ]
  },
  {
   "cell_type": "code",
   "execution_count": 5,
   "id": "d898871d",
   "metadata": {},
   "outputs": [
    {
     "data": {
      "text/html": [
       "<div>\n",
       "<style scoped>\n",
       "    .dataframe tbody tr th:only-of-type {\n",
       "        vertical-align: middle;\n",
       "    }\n",
       "\n",
       "    .dataframe tbody tr th {\n",
       "        vertical-align: top;\n",
       "    }\n",
       "\n",
       "    .dataframe thead th {\n",
       "        text-align: right;\n",
       "    }\n",
       "</style>\n",
       "<table border=\"1\" class=\"dataframe\">\n",
       "  <thead>\n",
       "    <tr style=\"text-align: right;\">\n",
       "      <th></th>\n",
       "      <th>ERA-ID</th>\n",
       "      <th>USAF</th>\n",
       "      <th>WBAN</th>\n",
       "      <th>STATION NAME</th>\n",
       "      <th>CTRY</th>\n",
       "      <th>STATE</th>\n",
       "      <th>ICAO</th>\n",
       "      <th>LAT</th>\n",
       "      <th>LON</th>\n",
       "      <th>ELEV(M)</th>\n",
       "      <th>...</th>\n",
       "      <th>sfcWind_dir_nobs</th>\n",
       "      <th>rsds</th>\n",
       "      <th>rsds_nobs</th>\n",
       "      <th>total_nobs</th>\n",
       "      <th>QAQC</th>\n",
       "      <th>Time_QAQC</th>\n",
       "      <th>Errors_QAQC</th>\n",
       "      <th>merged</th>\n",
       "      <th>Time_Merge</th>\n",
       "      <th>Errors_Merge</th>\n",
       "    </tr>\n",
       "  </thead>\n",
       "  <tbody>\n",
       "    <tr>\n",
       "      <th>0</th>\n",
       "      <td>ASOSAWOS_72681024131</td>\n",
       "      <td>726810</td>\n",
       "      <td>24131</td>\n",
       "      <td>BOISE AIR TERMINAL/GOWEN FD AIRPORT</td>\n",
       "      <td>US</td>\n",
       "      <td>ID</td>\n",
       "      <td>KBOI</td>\n",
       "      <td>43.567</td>\n",
       "      <td>-116.241</td>\n",
       "      <td>860.5</td>\n",
       "      <td>...</td>\n",
       "      <td>379116</td>\n",
       "      <td>Y</td>\n",
       "      <td>87216</td>\n",
       "      <td>470754</td>\n",
       "      <td>Y</td>\n",
       "      <td>2025-05-01 19:48:20+00:00</td>\n",
       "      <td>NaN</td>\n",
       "      <td>Y</td>\n",
       "      <td>2025-06-12 21:37:35+00:00</td>\n",
       "      <td>NaN</td>\n",
       "    </tr>\n",
       "  </tbody>\n",
       "</table>\n",
       "<p>1 rows × 74 columns</p>\n",
       "</div>"
      ],
      "text/plain": [
       "                 ERA-ID    USAF   WBAN                         STATION NAME  \\\n",
       "0  ASOSAWOS_72681024131  726810  24131  BOISE AIR TERMINAL/GOWEN FD AIRPORT   \n",
       "\n",
       "  CTRY STATE  ICAO     LAT      LON  ELEV(M)  ...  sfcWind_dir_nobs  rsds  \\\n",
       "0   US    ID  KBOI  43.567 -116.241    860.5  ...            379116     Y   \n",
       "\n",
       "  rsds_nobs total_nobs QAQC                  Time_QAQC  Errors_QAQC merged  \\\n",
       "0     87216     470754    Y  2025-05-01 19:48:20+00:00          NaN      Y   \n",
       "\n",
       "                  Time_Merge Errors_Merge  \n",
       "0  2025-06-12 21:37:35+00:00          NaN  \n",
       "\n",
       "[1 rows x 74 columns]"
      ]
     },
     "execution_count": 5,
     "metadata": {},
     "output_type": "execute_result"
    }
   ],
   "source": [
    "# load merge station list\n",
    "merge_list = pd.read_csv(\n",
    "    f\"s3://wecc-historical-wx/{MERGE_DIR}/ASOSAWOS/stationlist_ASOSAWOS_merge.csv\"\n",
    ")\n",
    "merge_list.head(1)"
   ]
  },
  {
   "cell_type": "code",
   "execution_count": 12,
   "id": "a25ee2d1",
   "metadata": {},
   "outputs": [
    {
     "data": {
      "text/html": [
       "<div>\n",
       "<style scoped>\n",
       "    .dataframe tbody tr th:only-of-type {\n",
       "        vertical-align: middle;\n",
       "    }\n",
       "\n",
       "    .dataframe tbody tr th {\n",
       "        vertical-align: top;\n",
       "    }\n",
       "\n",
       "    .dataframe thead th {\n",
       "        text-align: right;\n",
       "    }\n",
       "</style>\n",
       "<table border=\"1\" class=\"dataframe\">\n",
       "  <thead>\n",
       "    <tr style=\"text-align: right;\">\n",
       "      <th></th>\n",
       "      <th>ERA-ID</th>\n",
       "      <th>STATION NAME</th>\n",
       "      <th>STATE</th>\n",
       "      <th>ICAO</th>\n",
       "      <th>LAT</th>\n",
       "      <th>LON</th>\n",
       "      <th>NAME</th>\n",
       "      <th>ALTNAME</th>\n",
       "      <th>COUNTRY</th>\n",
       "      <th>ST</th>\n",
       "      <th>COUNTY</th>\n",
       "      <th>ELEV</th>\n",
       "      <th>UTC</th>\n",
       "      <th>STNTYPE</th>\n",
       "    </tr>\n",
       "  </thead>\n",
       "  <tbody>\n",
       "    <tr>\n",
       "      <th>0</th>\n",
       "      <td>ASOSAWOS_72681024131</td>\n",
       "      <td>BOISE AIR TERMINAL/GOWEN FD AIRPORT</td>\n",
       "      <td>ID</td>\n",
       "      <td>KBOI</td>\n",
       "      <td>43.567</td>\n",
       "      <td>-116.241</td>\n",
       "      <td>BOISE AIR TERMINAL</td>\n",
       "      <td>BOISE AIR TERMINAL</td>\n",
       "      <td>UNITED STATES</td>\n",
       "      <td>ID</td>\n",
       "      <td>ADA</td>\n",
       "      <td>860.4504</td>\n",
       "      <td>-7.0</td>\n",
       "      <td>ASOS,COOP,PLCD</td>\n",
       "    </tr>\n",
       "    <tr>\n",
       "      <th>1</th>\n",
       "      <td>ASOSAWOS_72677024033</td>\n",
       "      <td>BILLINGS LOGAN INTERNATIONAL AIRPORT</td>\n",
       "      <td>MT</td>\n",
       "      <td>KBIL</td>\n",
       "      <td>45.807</td>\n",
       "      <td>-108.546</td>\n",
       "      <td>BILLINGS INTL AP</td>\n",
       "      <td>BILLINGS INTL AP</td>\n",
       "      <td>UNITED STATES</td>\n",
       "      <td>MT</td>\n",
       "      <td>YELLOWSTONE</td>\n",
       "      <td>1094.2320</td>\n",
       "      <td>-7.0</td>\n",
       "      <td>ASOS,COOP,PLCD</td>\n",
       "    </tr>\n",
       "    <tr>\n",
       "      <th>2</th>\n",
       "      <td>ASOSAWOS_72698024229</td>\n",
       "      <td>PORTLAND INTERNATIONAL AIRPORT</td>\n",
       "      <td>OR</td>\n",
       "      <td>KPDX</td>\n",
       "      <td>45.596</td>\n",
       "      <td>-122.609</td>\n",
       "      <td>PORTLAND INTL AP</td>\n",
       "      <td>PORTLAND INTL AP</td>\n",
       "      <td>UNITED STATES</td>\n",
       "      <td>OR</td>\n",
       "      <td>MULTNOMAH</td>\n",
       "      <td>6.7056</td>\n",
       "      <td>-8.0</td>\n",
       "      <td>ASOS,COOP,PLCD</td>\n",
       "    </tr>\n",
       "    <tr>\n",
       "      <th>3</th>\n",
       "      <td>ASOSAWOS_72569024089</td>\n",
       "      <td>NATRONA COUNTY INTERNATIONAL AP</td>\n",
       "      <td>WY</td>\n",
       "      <td>KCPR</td>\n",
       "      <td>42.898</td>\n",
       "      <td>-106.474</td>\n",
       "      <td>CASPER-NATRONA CO AP</td>\n",
       "      <td>CASPER-NATRONA CO AP</td>\n",
       "      <td>UNITED STATES</td>\n",
       "      <td>WY</td>\n",
       "      <td>NATRONA</td>\n",
       "      <td>1621.2312</td>\n",
       "      <td>-7.0</td>\n",
       "      <td>AIRWAYS,ASOS,COOP,PLCD,WXSVC</td>\n",
       "    </tr>\n",
       "    <tr>\n",
       "      <th>4</th>\n",
       "      <td>ASOSAWOS_72297793184</td>\n",
       "      <td>J. WAYNE APT-ORANGE CO APT</td>\n",
       "      <td>CA</td>\n",
       "      <td>KSNA</td>\n",
       "      <td>33.680</td>\n",
       "      <td>-117.867</td>\n",
       "      <td>SANTA ANA JOHN WAYNE AP</td>\n",
       "      <td>SANTA ANA JOHN WAYNE AP</td>\n",
       "      <td>UNITED STATES</td>\n",
       "      <td>CA</td>\n",
       "      <td>ORANGE</td>\n",
       "      <td>13.1064</td>\n",
       "      <td>-8.0</td>\n",
       "      <td>AIRWAYS,ASOS</td>\n",
       "    </tr>\n",
       "    <tr>\n",
       "      <th>...</th>\n",
       "      <td>...</td>\n",
       "      <td>...</td>\n",
       "      <td>...</td>\n",
       "      <td>...</td>\n",
       "      <td>...</td>\n",
       "      <td>...</td>\n",
       "      <td>...</td>\n",
       "      <td>...</td>\n",
       "      <td>...</td>\n",
       "      <td>...</td>\n",
       "      <td>...</td>\n",
       "      <td>...</td>\n",
       "      <td>...</td>\n",
       "      <td>...</td>\n",
       "    </tr>\n",
       "    <tr>\n",
       "      <th>470</th>\n",
       "      <td>ASOSAWOS_A0705300346</td>\n",
       "      <td>TRINITY CENTER AIRPORT</td>\n",
       "      <td>CA</td>\n",
       "      <td>KO86</td>\n",
       "      <td>40.983</td>\n",
       "      <td>-122.694</td>\n",
       "      <td>TRINITY CENTER AP</td>\n",
       "      <td>NaN</td>\n",
       "      <td>UNITED STATES</td>\n",
       "      <td>CA</td>\n",
       "      <td>TRINITY</td>\n",
       "      <td>728.1672</td>\n",
       "      <td>-8.0</td>\n",
       "      <td>AWOS</td>\n",
       "    </tr>\n",
       "    <tr>\n",
       "      <th>471</th>\n",
       "      <td>ASOSAWOS_A0704900320</td>\n",
       "      <td>PETALUMA MUNICIPAL AIRPORT</td>\n",
       "      <td>CA</td>\n",
       "      <td>KO69</td>\n",
       "      <td>38.250</td>\n",
       "      <td>-122.600</td>\n",
       "      <td>PETALUMA MUNI AP</td>\n",
       "      <td>NaN</td>\n",
       "      <td>UNITED STATES</td>\n",
       "      <td>CA</td>\n",
       "      <td>SONOMA</td>\n",
       "      <td>27.1272</td>\n",
       "      <td>-8.0</td>\n",
       "      <td>AWOS</td>\n",
       "    </tr>\n",
       "    <tr>\n",
       "      <th>472</th>\n",
       "      <td>ASOSAWOS_A0685400115</td>\n",
       "      <td>BIG BEAR CITY AIRPORT</td>\n",
       "      <td>CA</td>\n",
       "      <td>KL35</td>\n",
       "      <td>34.264</td>\n",
       "      <td>-116.854</td>\n",
       "      <td>BIG BEAR CITY AP</td>\n",
       "      <td>NaN</td>\n",
       "      <td>UNITED STATES</td>\n",
       "      <td>CA</td>\n",
       "      <td>SAN BERNARDINO</td>\n",
       "      <td>2057.0952</td>\n",
       "      <td>-8.0</td>\n",
       "      <td>AWOS</td>\n",
       "    </tr>\n",
       "    <tr>\n",
       "      <th>473</th>\n",
       "      <td>ASOSAWOS_A0001823162</td>\n",
       "      <td>DELTA MUNICIPAL AIRPORT</td>\n",
       "      <td>UT</td>\n",
       "      <td>KDTA</td>\n",
       "      <td>39.383</td>\n",
       "      <td>-112.517</td>\n",
       "      <td>DELTA FAA AP</td>\n",
       "      <td>NaN</td>\n",
       "      <td>UNITED STATES</td>\n",
       "      <td>UT</td>\n",
       "      <td>MILLARD</td>\n",
       "      <td>1450.5432</td>\n",
       "      <td>-7.0</td>\n",
       "      <td>AWOS</td>\n",
       "    </tr>\n",
       "    <tr>\n",
       "      <th>474</th>\n",
       "      <td>ASOSAWOS_A0002804116</td>\n",
       "      <td>SALT LAKE CITY MUNI 2 ARPT</td>\n",
       "      <td>UT</td>\n",
       "      <td>KU42</td>\n",
       "      <td>40.619</td>\n",
       "      <td>-111.993</td>\n",
       "      <td>SALT LAKE CITY MUNI AP 2</td>\n",
       "      <td>NaN</td>\n",
       "      <td>UNITED STATES</td>\n",
       "      <td>UT</td>\n",
       "      <td>SALT LAKE</td>\n",
       "      <td>1402.9944</td>\n",
       "      <td>-7.0</td>\n",
       "      <td>AWOS</td>\n",
       "    </tr>\n",
       "  </tbody>\n",
       "</table>\n",
       "<p>475 rows × 14 columns</p>\n",
       "</div>"
      ],
      "text/plain": [
       "                   ERA-ID                          STATION NAME STATE  ICAO  \\\n",
       "0    ASOSAWOS_72681024131   BOISE AIR TERMINAL/GOWEN FD AIRPORT    ID  KBOI   \n",
       "1    ASOSAWOS_72677024033  BILLINGS LOGAN INTERNATIONAL AIRPORT    MT  KBIL   \n",
       "2    ASOSAWOS_72698024229        PORTLAND INTERNATIONAL AIRPORT    OR  KPDX   \n",
       "3    ASOSAWOS_72569024089       NATRONA COUNTY INTERNATIONAL AP    WY  KCPR   \n",
       "4    ASOSAWOS_72297793184            J. WAYNE APT-ORANGE CO APT    CA  KSNA   \n",
       "..                    ...                                   ...   ...   ...   \n",
       "470  ASOSAWOS_A0705300346                TRINITY CENTER AIRPORT    CA  KO86   \n",
       "471  ASOSAWOS_A0704900320            PETALUMA MUNICIPAL AIRPORT    CA  KO69   \n",
       "472  ASOSAWOS_A0685400115                 BIG BEAR CITY AIRPORT    CA  KL35   \n",
       "473  ASOSAWOS_A0001823162               DELTA MUNICIPAL AIRPORT    UT  KDTA   \n",
       "474  ASOSAWOS_A0002804116            SALT LAKE CITY MUNI 2 ARPT    UT  KU42   \n",
       "\n",
       "        LAT      LON                      NAME                  ALTNAME  \\\n",
       "0    43.567 -116.241        BOISE AIR TERMINAL       BOISE AIR TERMINAL   \n",
       "1    45.807 -108.546          BILLINGS INTL AP         BILLINGS INTL AP   \n",
       "2    45.596 -122.609          PORTLAND INTL AP         PORTLAND INTL AP   \n",
       "3    42.898 -106.474      CASPER-NATRONA CO AP     CASPER-NATRONA CO AP   \n",
       "4    33.680 -117.867   SANTA ANA JOHN WAYNE AP  SANTA ANA JOHN WAYNE AP   \n",
       "..      ...      ...                       ...                      ...   \n",
       "470  40.983 -122.694         TRINITY CENTER AP                      NaN   \n",
       "471  38.250 -122.600          PETALUMA MUNI AP                      NaN   \n",
       "472  34.264 -116.854          BIG BEAR CITY AP                      NaN   \n",
       "473  39.383 -112.517              DELTA FAA AP                      NaN   \n",
       "474  40.619 -111.993  SALT LAKE CITY MUNI AP 2                      NaN   \n",
       "\n",
       "           COUNTRY  ST          COUNTY       ELEV  UTC  \\\n",
       "0    UNITED STATES  ID             ADA   860.4504 -7.0   \n",
       "1    UNITED STATES  MT     YELLOWSTONE  1094.2320 -7.0   \n",
       "2    UNITED STATES  OR       MULTNOMAH     6.7056 -8.0   \n",
       "3    UNITED STATES  WY         NATRONA  1621.2312 -7.0   \n",
       "4    UNITED STATES  CA          ORANGE    13.1064 -8.0   \n",
       "..             ...  ..             ...        ...  ...   \n",
       "470  UNITED STATES  CA         TRINITY   728.1672 -8.0   \n",
       "471  UNITED STATES  CA          SONOMA    27.1272 -8.0   \n",
       "472  UNITED STATES  CA  SAN BERNARDINO  2057.0952 -8.0   \n",
       "473  UNITED STATES  UT         MILLARD  1450.5432 -7.0   \n",
       "474  UNITED STATES  UT       SALT LAKE  1402.9944 -7.0   \n",
       "\n",
       "                          STNTYPE  \n",
       "0                  ASOS,COOP,PLCD  \n",
       "1                  ASOS,COOP,PLCD  \n",
       "2                  ASOS,COOP,PLCD  \n",
       "3    AIRWAYS,ASOS,COOP,PLCD,WXSVC  \n",
       "4                    AIRWAYS,ASOS  \n",
       "..                            ...  \n",
       "470                          AWOS  \n",
       "471                          AWOS  \n",
       "472                          AWOS  \n",
       "473                          AWOS  \n",
       "474                          AWOS  \n",
       "\n",
       "[475 rows x 14 columns]"
      ]
     },
     "execution_count": 12,
     "metadata": {},
     "output_type": "execute_result"
    }
   ],
   "source": [
    "merge_list[['ERA-ID','STATION NAME', 'STATE', 'ICAO','LAT', 'LON','NAME', 'ALTNAME', 'COUNTRY','ST', 'COUNTY', 'ELEV', 'UTC', 'STNTYPE']]"
   ]
  },
  {
   "cell_type": "code",
   "execution_count": 32,
   "id": "f40d7cff",
   "metadata": {},
   "outputs": [
    {
     "data": {
      "text/plain": [
       "0            BOISE AIR TERMINAL\n",
       "1              BILLINGS INTL AP\n",
       "2              PORTLAND INTL AP\n",
       "3          CASPER-NATRONA CO AP\n",
       "4       SANTA ANA JOHN WAYNE AP\n",
       "                 ...           \n",
       "470           TRINITY CENTER AP\n",
       "471            PETALUMA MUNI AP\n",
       "472            BIG BEAR CITY AP\n",
       "473                DELTA FAA AP\n",
       "474    SALT LAKE CITY MUNI AP 2\n",
       "Name: NAME, Length: 475, dtype: object"
      ]
     },
     "execution_count": 32,
     "metadata": {},
     "output_type": "execute_result"
    }
   ],
   "source": [
    "merge_list['NAME']"
   ]
  },
  {
   "cell_type": "code",
   "execution_count": 33,
   "id": "bd0327b5",
   "metadata": {},
   "outputs": [],
   "source": [
    "code_dict = pd.Series(\n",
    "    merge_list[\"ERA-ID\"].values, index=merge_list[\"ICAO\"]\n",
    ").to_dict()"
   ]
  },
  {
   "cell_type": "code",
   "execution_count": 91,
   "id": "ee20220e",
   "metadata": {},
   "outputs": [],
   "source": [
    "city_dict = pd.Series(merge_list[\"ERA-ID\"].values, index=merge_list[\"STATION NAME\"]).to_dict()"
   ]
  },
  {
   "cell_type": "code",
   "execution_count": 95,
   "id": "f57d3f98",
   "metadata": {},
   "outputs": [
    {
     "data": {
      "text/plain": [
       "['ASOSAWOS_72681024131']"
      ]
     },
     "execution_count": 95,
     "metadata": {},
     "output_type": "execute_result"
    }
   ],
   "source": [
    "[value for key, value in city_dict.items() if city in key]"
   ]
  },
  {
   "cell_type": "code",
   "execution_count": null,
   "id": "59eb2048",
   "metadata": {},
   "outputs": [],
   "source": [
    "\n",
    "hdp_station = hdp_station[0]"
   ]
  },
  {
   "cell_type": "code",
   "execution_count": 105,
   "id": "9b9f29a3",
   "metadata": {},
   "outputs": [],
   "source": [
    "def asos_station_lookup(code: str | None = None, city: str | None = None) -> None:\n",
    "    \"\"\"\n",
    "    Function that returns the HDP station ID for an input of either the\n",
    "    1. four digit code or (e.g. KSAC)\n",
    "    2. city (e.g. Sacramento)\n",
    "\n",
    "    of the airport associated with the station.\n",
    "\n",
    "    This functon is specific to the 16 stations of interest shared by project partners.\n",
    "\n",
    "    Paramters\n",
    "    ---------\n",
    "    code : str\n",
    "        ASOS airport code (e.g. KSAC weather station)\n",
    "    city : str\n",
    "        ASOS aiport city (e.g. Sacramento Executive Airport weather station)\n",
    "\n",
    "    Returns\n",
    "    -------\n",
    "    None\n",
    "\n",
    "    \"\"\"\n",
    "    # Define dictionaries matching HDP station IDs to airport codes and cities\n",
    "    ## this was developed beforehand matching HDP ASOSAWOS station locations with those in a list of stations provided by partners\n",
    "\n",
    "    merge_list = pd.read_csv(\n",
    "        f\"s3://wecc-historical-wx/{MERGE_DIR}/ASOSAWOS/stationlist_ASOSAWOS_merge.csv\"\n",
    "    )\n",
    "    code_dict = pd.Series(\n",
    "        merge_list[\"ERA-ID\"].values, index=merge_list[\"ICAO\"]\n",
    "    ).to_dict()\n",
    "    city_dict = pd.Series(merge_list[\"ERA-ID\"].values, index=merge_list[\"STATION NAME\"]).to_dict()\n",
    "\n",
    "    # If user inputs an airport code\n",
    "    if code:\n",
    "        if code in code_dict:\n",
    "            hdp_station = code_dict[code]\n",
    "            print(\n",
    "                f\"The HDP station name for input airport code {code} is {hdp_station}\"\n",
    "            )\n",
    "        else:\n",
    "            print(f\"Input code '{code}' not in station dictionary.\")\n",
    "    # If user inputs a city\n",
    "    elif city:\n",
    "        # this catches cases in which the user inputs the entire airport name\n",
    "        hdp_station = [val for key, val in city_dict.items() if city in key]\n",
    "        if len(hdp_station)==1:\n",
    "            # now pull the ID out from the list that is returned above\n",
    "            hdp_station = hdp_station[0]\n",
    "            print(\n",
    "                f\"The HDP station name for input airport city '{city}' is {hdp_station}\"\n",
    "            )\n",
    "        elif len(hdp_station) > 1:\n",
    "            print(f\"There are multiple stations associated with '{city}': {hdp_station}\")\n",
    "        else:\n",
    "            print(f\"Input city '{city}' not in station dictionary.\")\n",
    "    else:\n",
    "        print(\n",
    "            \"Please input either an airport code (e.g. code='KSAC') or city (e.g. city='Sacramento').\"\n",
    "        )\n",
    "\n",
    "    return None"
   ]
  },
  {
   "cell_type": "code",
   "execution_count": 108,
   "id": "593e025e",
   "metadata": {},
   "outputs": [
    {
     "name": "stdout",
     "output_type": "stream",
     "text": [
      "Input city 'nan' not in station dictionary.\n"
     ]
    }
   ],
   "source": [
    "asos_station_lookup(code=None, city='nan')"
   ]
  },
  {
   "cell_type": "markdown",
   "id": "894a9dba",
   "metadata": {},
   "source": [
    "## Scraps"
   ]
  },
  {
   "cell_type": "markdown",
   "id": "1ca66bf5",
   "metadata": {},
   "source": [
    "I matched up ASOSAWOS stations from the merge station list with the lat lons of the stations in the list that Mithra shared."
   ]
  },
  {
   "cell_type": "code",
   "execution_count": null,
   "id": "5d0e8cd7",
   "metadata": {},
   "outputs": [],
   "source": [
    "# load station list\n",
    "station_list = pd.read_csv(stations_csv_path)\n",
    "station_list = station_list[station_list['network']=='ASOSAWOS']"
   ]
  },
  {
   "cell_type": "code",
   "execution_count": 45,
   "id": "937b7723",
   "metadata": {},
   "outputs": [],
   "source": [
    "# convert to geodataframe\n",
    "asos_stns = gpd.GeoDataFrame(\n",
    "    station_list,\n",
    "    geometry=gpd.points_from_xy(\n",
    "        station_list.longitude, station_list.latitude, crs=\"EPSG:4326\"\n",
    "    ),\n",
    ")"
   ]
  },
  {
   "cell_type": "code",
   "execution_count": null,
   "id": "d8c8b33e",
   "metadata": {},
   "outputs": [],
   "source": [
    "# load in list that Mithra shared (stored in separate repo)\n",
    "lookup_table = pd.read_csv(\"../../skillshare_demo/lookup_table.csv\")"
   ]
  },
  {
   "cell_type": "code",
   "execution_count": null,
   "id": "6234b290",
   "metadata": {},
   "outputs": [],
   "source": [
    "# convert it to a geodataframe\n",
    "lookup_table = gpd.GeoDataFrame(\n",
    "    lookup_table,\n",
    "    geometry=gpd.points_from_xy(\n",
    "        lookup_table.longitude, lookup_table.latitude, crs=\"EPSG:4326\"\n",
    "    ),\n",
    ")"
   ]
  },
  {
   "cell_type": "code",
   "execution_count": null,
   "id": "d7403be1",
   "metadata": {},
   "outputs": [],
   "source": [
    "# and filter for ease of use later\n",
    "lookup_table = lookup_table[\n",
    "    [\"Airport Code\", \"City\", \"latitude\", \"longitude\",'geometry']\n",
    "]"
   ]
  },
  {
   "cell_type": "code",
   "execution_count": null,
   "id": "4f5a3b39",
   "metadata": {},
   "outputs": [
    {
     "name": "stderr",
     "output_type": "stream",
     "text": [
      "/tmp/ipykernel_31410/1684058703.py:6: UserWarning: Geometry is in a geographic CRS. Results from 'buffer' are likely incorrect. Use 'GeoSeries.to_crs()' to re-project geometries to a projected CRS before this operation.\n",
      "\n",
      "  lookup_table_buffered[\"geometry\"] = lookup_table.geometry.buffer(error_margin)\n",
      "/tmp/ipykernel_31410/1684058703.py:9: UserWarning: Geometry is in a geographic CRS. Results from 'buffer' are likely incorrect. Use 'GeoSeries.to_crs()' to re-project geometries to a projected CRS before this operation.\n",
      "\n",
      "  asos_stns_buffered[\"geometry\"] = asos_stns.geometry.buffer(error_margin)\n"
     ]
    }
   ],
   "source": [
    "# establish buffers around the point geometries, as they will not be exact matches\n",
    "\n",
    "# define the error margin (buffer distance)\n",
    "error_margin = 0.1  # Adjust this value as needed\n",
    "\n",
    "# apply buffer to account for the error margin\n",
    "lookup_table_buffered = lookup_table.copy()\n",
    "lookup_table_buffered[\"geometry\"] = lookup_table.geometry.buffer(error_margin)\n",
    "\n",
    "asos_stns_buffered = asos_stns.copy()\n",
    "asos_stns_buffered[\"geometry\"] = asos_stns.geometry.buffer(error_margin)"
   ]
  },
  {
   "cell_type": "code",
   "execution_count": null,
   "id": "686e0925",
   "metadata": {},
   "outputs": [],
   "source": [
    "# perform the overlay operation (e.g., intersection)\n",
    "matchup_buffered = gpd.overlay(asos_stns_buffered, lookup_table_buffered, how=\"intersection\")"
   ]
  },
  {
   "cell_type": "code",
   "execution_count": null,
   "id": "a01a0e80",
   "metadata": {},
   "outputs": [],
   "source": [
    "# clean things up \n",
    "matchup_buffered = matchup_buffered[[\"era-id\", \"longitude_1\", \"latitude_1\",\"longitude_2\", \"latitude_2\",'Airport Code','City']]"
   ]
  },
  {
   "cell_type": "markdown",
   "id": "5ce4dd08",
   "metadata": {},
   "source": [
    "Now go through each city in the list (which I added manually before starting this process) and check which HDP station is a match. I added the station ID to a copy of the list in my drive along the way."
   ]
  },
  {
   "cell_type": "code",
   "execution_count": 102,
   "id": "cebc20c2",
   "metadata": {},
   "outputs": [
    {
     "data": {
      "text/html": [
       "<div>\n",
       "<style scoped>\n",
       "    .dataframe tbody tr th:only-of-type {\n",
       "        vertical-align: middle;\n",
       "    }\n",
       "\n",
       "    .dataframe tbody tr th {\n",
       "        vertical-align: top;\n",
       "    }\n",
       "\n",
       "    .dataframe thead th {\n",
       "        text-align: right;\n",
       "    }\n",
       "</style>\n",
       "<table border=\"1\" class=\"dataframe\">\n",
       "  <thead>\n",
       "    <tr style=\"text-align: right;\">\n",
       "      <th></th>\n",
       "      <th>era-id</th>\n",
       "      <th>longitude_1</th>\n",
       "      <th>latitude_1</th>\n",
       "      <th>longitude_2</th>\n",
       "      <th>latitude_2</th>\n",
       "      <th>Airport Code</th>\n",
       "      <th>City</th>\n",
       "    </tr>\n",
       "  </thead>\n",
       "  <tbody>\n",
       "    <tr>\n",
       "      <th>19</th>\n",
       "      <td>ASOSAWOS_72494523293</td>\n",
       "      <td>-121.924</td>\n",
       "      <td>37.359</td>\n",
       "      <td>-121.82</td>\n",
       "      <td>37.33</td>\n",
       "      <td>KRHV</td>\n",
       "      <td>San Jose</td>\n",
       "    </tr>\n",
       "  </tbody>\n",
       "</table>\n",
       "</div>"
      ],
      "text/plain": [
       "                  era-id  longitude_1  latitude_1  longitude_2  latitude_2  \\\n",
       "19  ASOSAWOS_72494523293     -121.924      37.359      -121.82       37.33   \n",
       "\n",
       "   Airport Code      City  \n",
       "19         KRHV  San Jose  "
      ]
     },
     "execution_count": 102,
     "metadata": {},
     "output_type": "execute_result"
    }
   ],
   "source": [
    "matchup_buffered[matchup_buffered[\"City\"] == \"San Jose\"]"
   ]
  },
  {
   "cell_type": "markdown",
   "id": "814a74a9",
   "metadata": {},
   "source": [
    "I then downloaded a cleaned version of the table and load it in here (again, stored in a separate repo)."
   ]
  },
  {
   "cell_type": "code",
   "execution_count": null,
   "id": "6724b8a6",
   "metadata": {},
   "outputs": [],
   "source": [
    "matchup_table = pd.read_csv(\"../../skillshare_demo/final_lookup_table.csv\")"
   ]
  },
  {
   "cell_type": "markdown",
   "id": "2fb42ad7",
   "metadata": {},
   "source": [
    "And generated two dictionaries from it - one for airport codes, another for airport cities"
   ]
  },
  {
   "cell_type": "code",
   "execution_count": 123,
   "id": "76158772",
   "metadata": {},
   "outputs": [],
   "source": [
    "code_dict = pd.Series(matchup_table[\"HDP station\"].values, index=matchup_table[\"Airport Code\"]).to_dict()"
   ]
  },
  {
   "cell_type": "code",
   "execution_count": 124,
   "id": "3b526d9d",
   "metadata": {},
   "outputs": [],
   "source": [
    "city_dict = pd.Series(\n",
    "    matchup_table[\"HDP station\"].values, index=matchup_table[\"City\"]\n",
    ").to_dict()"
   ]
  },
  {
   "cell_type": "markdown",
   "id": "1eccd7e3",
   "metadata": {},
   "source": [
    "The dictionaries are generated manually in the function itself."
   ]
  }
 ],
 "metadata": {
  "kernelspec": {
   "display_name": "hist-obs",
   "language": "python",
   "name": "python3"
  },
  "language_info": {
   "codemirror_mode": {
    "name": "ipython",
    "version": 3
   },
   "file_extension": ".py",
   "mimetype": "text/x-python",
   "name": "python",
   "nbconvert_exporter": "python",
   "pygments_lexer": "ipython3",
   "version": "3.10.13"
  }
 },
 "nbformat": 4,
 "nbformat_minor": 5
}
