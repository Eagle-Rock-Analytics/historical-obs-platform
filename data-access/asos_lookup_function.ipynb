{
 "cells": [
  {
   "cell_type": "markdown",
   "id": "193aa5ec",
   "metadata": {},
   "source": [
    "# ASOS Lookup Function\n",
    "\n",
    "A user can pass either the ASOS airport code or the “city” and the script/function identifes and returns the name of the HDP station. \n",
    "E.g., “I need to find KSAC weather station” or “I need to find the Sacramento Executive Airport weather station” \n",
    "\n",
    "Script then identifies KSAC as “ASOSAWOS_XXXXXXXX”\n",
    "\n",
    "Reasoning: Looking up the specific HDP stations from the attached spreadsheet was not straightforward or easy; users may very likely come to HDP knowing specifically which station they are looking for, and it’s not obvious which station is which.\n"
   ]
  },
  {
   "cell_type": "code",
   "execution_count": 2,
   "id": "9177ab10",
   "metadata": {},
   "outputs": [],
   "source": [
    "# imports\n",
    "import boto3\n",
    "import numpy as np\n",
    "import pandas as pd\n",
    "import xarray as xr\n",
    "import geopandas as gpd\n",
    "import matplotlib.pyplot as plt\n",
    "from matplotlib import cm\n",
    "from matplotlib.colors import ListedColormap\n",
    "import os\n",
    "from shapely.geometry import Point\n",
    "import sys  # Used for progress bar\n",
    "import datetime\n",
    "import sys\n",
    "import os\n",
    "from io import BytesIO\n",
    "\n",
    "plt.style.use(\"tableau-colorblind10\")\n",
    "\n",
    "# Import qaqc stage plot functions\n",
    "sys.path.append(os.path.abspath(\"../scripts/3_qaqc_data\"))\n",
    "from qaqc_plot import flagged_timeseries_plot, _plot_format_helper, id_flag\n",
    "\n",
    "\n",
    "# Set AWS credentials\n",
    "s3 = boto3.resource(\"s3\")\n",
    "s3_cl = boto3.client(\"s3\")  # for lower-level processes\n",
    "\n",
    "# Set relative paths to other folders and objects in repository.\n",
    "BUCKET_NAME = \"wecc-historical-wx\"\n",
    "QAQC_DIR = \"3_qaqc_wx\"\n",
    "MERGE_DIR = \"4_merge_wx\"\n",
    "stations_csv_path = f\"s3://{BUCKET_NAME}/{QAQC_DIR}/all_network_stationlist_qaqc.csv\""
   ]
  },
  {
   "cell_type": "markdown",
   "id": "894a9dba",
   "metadata": {},
   "source": [
    "## Develop lookup "
   ]
  },
  {
   "cell_type": "code",
   "execution_count": 9,
   "id": "5d0e8cd7",
   "metadata": {},
   "outputs": [],
   "source": [
    "station_list = pd.read_csv(\n",
    "    f\"s3://{BUCKET_NAME}/{MERGE_DIR}/all_network_stationlist_merge.csv\"\n",
    ")\n",
    "station_list = station_list[station_list['network']=='ASOSAWOS']"
   ]
  },
  {
   "cell_type": "code",
   "execution_count": 11,
   "id": "937b7723",
   "metadata": {},
   "outputs": [],
   "source": [
    "asos_stns = gpd.GeoDataFrame(\n",
    "    station_list,\n",
    "    geometry=gpd.points_from_xy(\n",
    "        station_list.longitude, station_list.latitude, crs=\"EPSG:4326\"\n",
    "    ),\n",
    ")"
   ]
  },
  {
   "cell_type": "code",
   "execution_count": 13,
   "id": "dcfe950c",
   "metadata": {},
   "outputs": [],
   "source": [
    "ca_counties = gpd.read_file(\n",
    "    \"s3://wecc-historical-wx/0_maps/ca_counties/CA_Counties.shp\"\n",
    ")\n",
    "ca_counties = ca_counties.to_crs(asos_stns.crs)"
   ]
  },
  {
   "cell_type": "code",
   "execution_count": 23,
   "id": "49a3c9ab",
   "metadata": {},
   "outputs": [],
   "source": [
    "ca_cities = gpd.read_file(\n",
    "    \"../../skillshare_demo/California_Cities\"\n",
    ")\n",
    "ca_cities = ca_cities.to_crs(asos_stns.crs)"
   ]
  },
  {
   "cell_type": "code",
   "execution_count": 34,
   "id": "5db00b3c",
   "metadata": {},
   "outputs": [],
   "source": [
    "ca_cities = ca_cities[['CDTFA_CITY','geometry']]"
   ]
  },
  {
   "cell_type": "code",
   "execution_count": 35,
   "id": "6e3cbf95",
   "metadata": {},
   "outputs": [],
   "source": [
    "city_intersect = gpd.overlay(asos_stns, ca_cities, how=\"intersection\")"
   ]
  },
  {
   "cell_type": "markdown",
   "id": "5e707977",
   "metadata": {},
   "source": [
    "Oooooh! I see. I need to merge on lat lon. Oop."
   ]
  },
  {
   "cell_type": "code",
   "execution_count": 53,
   "id": "d8c8b33e",
   "metadata": {},
   "outputs": [],
   "source": [
    "lookup_table = pd.read_csv(\"../../skillshare_demo/lookup_table.csv\")"
   ]
  },
  {
   "cell_type": "code",
   "execution_count": 56,
   "id": "6234b290",
   "metadata": {},
   "outputs": [],
   "source": [
    "lookup_table = gpd.GeoDataFrame(\n",
    "    lookup_table,\n",
    "    geometry=gpd.points_from_xy(\n",
    "        lookup_table.longitude, lookup_table.latitude, crs=\"EPSG:4326\"\n",
    "    ),\n",
    ")"
   ]
  },
  {
   "cell_type": "code",
   "execution_count": 58,
   "id": "d7403be1",
   "metadata": {},
   "outputs": [],
   "source": [
    "lookup_table = lookup_table[\n",
    "    [\"Airport Code\", \"City\", \"latitude\", \"longitude\",'geometry']\n",
    "]"
   ]
  },
  {
   "cell_type": "code",
   "execution_count": 59,
   "id": "950f4a8f",
   "metadata": {},
   "outputs": [],
   "source": [
    "matchup = gpd.overlay(asos_stns, lookup_table, how=\"intersection\")"
   ]
  },
  {
   "cell_type": "code",
   "execution_count": 99,
   "id": "4f5a3b39",
   "metadata": {},
   "outputs": [
    {
     "name": "stderr",
     "output_type": "stream",
     "text": [
      "/tmp/ipykernel_31410/1684058703.py:6: UserWarning: Geometry is in a geographic CRS. Results from 'buffer' are likely incorrect. Use 'GeoSeries.to_crs()' to re-project geometries to a projected CRS before this operation.\n",
      "\n",
      "  lookup_table_buffered[\"geometry\"] = lookup_table.geometry.buffer(error_margin)\n",
      "/tmp/ipykernel_31410/1684058703.py:9: UserWarning: Geometry is in a geographic CRS. Results from 'buffer' are likely incorrect. Use 'GeoSeries.to_crs()' to re-project geometries to a projected CRS before this operation.\n",
      "\n",
      "  asos_stns_buffered[\"geometry\"] = asos_stns.geometry.buffer(error_margin)\n"
     ]
    }
   ],
   "source": [
    "# Define the error margin (buffer distance)\n",
    "error_margin = 0.1  # Adjust this value as needed\n",
    "\n",
    "# Apply buffer to account for the error margin\n",
    "lookup_table_buffered = lookup_table.copy()\n",
    "lookup_table_buffered[\"geometry\"] = lookup_table.geometry.buffer(error_margin)\n",
    "\n",
    "asos_stns_buffered = asos_stns.copy()\n",
    "asos_stns_buffered[\"geometry\"] = asos_stns.geometry.buffer(error_margin)"
   ]
  },
  {
   "cell_type": "code",
   "execution_count": 100,
   "id": "686e0925",
   "metadata": {},
   "outputs": [],
   "source": [
    "# Perform the overlay operation (e.g., intersection)\n",
    "matchup_buffered = gpd.overlay(asos_stns_buffered, lookup_table_buffered, how=\"intersection\")"
   ]
  },
  {
   "cell_type": "code",
   "execution_count": 101,
   "id": "a01a0e80",
   "metadata": {},
   "outputs": [],
   "source": [
    "matchup_buffered = matchup_buffered[[\"era-id\", \"longitude_1\", \"latitude_1\",\"longitude_2\", \"latitude_2\",'Airport Code','City']]"
   ]
  },
  {
   "cell_type": "code",
   "execution_count": 102,
   "id": "cebc20c2",
   "metadata": {},
   "outputs": [
    {
     "data": {
      "text/html": [
       "<div>\n",
       "<style scoped>\n",
       "    .dataframe tbody tr th:only-of-type {\n",
       "        vertical-align: middle;\n",
       "    }\n",
       "\n",
       "    .dataframe tbody tr th {\n",
       "        vertical-align: top;\n",
       "    }\n",
       "\n",
       "    .dataframe thead th {\n",
       "        text-align: right;\n",
       "    }\n",
       "</style>\n",
       "<table border=\"1\" class=\"dataframe\">\n",
       "  <thead>\n",
       "    <tr style=\"text-align: right;\">\n",
       "      <th></th>\n",
       "      <th>era-id</th>\n",
       "      <th>longitude_1</th>\n",
       "      <th>latitude_1</th>\n",
       "      <th>longitude_2</th>\n",
       "      <th>latitude_2</th>\n",
       "      <th>Airport Code</th>\n",
       "      <th>City</th>\n",
       "    </tr>\n",
       "  </thead>\n",
       "  <tbody>\n",
       "    <tr>\n",
       "      <th>19</th>\n",
       "      <td>ASOSAWOS_72494523293</td>\n",
       "      <td>-121.924</td>\n",
       "      <td>37.359</td>\n",
       "      <td>-121.82</td>\n",
       "      <td>37.33</td>\n",
       "      <td>KRHV</td>\n",
       "      <td>San Jose</td>\n",
       "    </tr>\n",
       "  </tbody>\n",
       "</table>\n",
       "</div>"
      ],
      "text/plain": [
       "                  era-id  longitude_1  latitude_1  longitude_2  latitude_2  \\\n",
       "19  ASOSAWOS_72494523293     -121.924      37.359      -121.82       37.33   \n",
       "\n",
       "   Airport Code      City  \n",
       "19         KRHV  San Jose  "
      ]
     },
     "execution_count": 102,
     "metadata": {},
     "output_type": "execute_result"
    }
   ],
   "source": [
    "matchup_buffered[matchup_buffered[\"City\"] == \"San Jose\"]"
   ]
  },
  {
   "cell_type": "markdown",
   "id": "831fedf1",
   "metadata": {},
   "source": [
    "I have constructed the lookup table!"
   ]
  },
  {
   "cell_type": "markdown",
   "id": "814a74a9",
   "metadata": {},
   "source": [
    "## Develop function"
   ]
  },
  {
   "cell_type": "code",
   "execution_count": null,
   "id": "6724b8a6",
   "metadata": {},
   "outputs": [],
   "source": [
    "matchup_table = pd.read_csv(\"../../skillshare_demo/final_lookup_table.csv\")"
   ]
  },
  {
   "cell_type": "code",
   "execution_count": 123,
   "id": "76158772",
   "metadata": {},
   "outputs": [],
   "source": [
    "code_dict = pd.Series(matchup_table[\"HDP station\"].values, index=matchup_table[\"Airport Code\"]).to_dict()"
   ]
  },
  {
   "cell_type": "code",
   "execution_count": 124,
   "id": "3b526d9d",
   "metadata": {},
   "outputs": [],
   "source": [
    "city_dict = pd.Series(\n",
    "    matchup_table[\"HDP station\"].values, index=matchup_table[\"City\"]\n",
    ").to_dict()"
   ]
  },
  {
   "cell_type": "code",
   "execution_count": null,
   "id": "d1a60b66",
   "metadata": {},
   "outputs": [],
   "source": [
    "def asos_station_lookup(\n",
    "    code: str | None = None, city: str | None = None\n",
    ") -> str:\n",
    "    \"\"\"\n",
    "    Function that returns the HDP station ID for an input of either the\n",
    "    1. four digit code or (e.g. KSAC)\n",
    "    2. city (e.g. Sacramento)\n",
    "\n",
    "    of the airport associated with the station\n",
    "\n",
    "    Paramters\n",
    "    ---------\n",
    "    code : str\n",
    "        ASOS airport code (e.g. KSAC weather station)\n",
    "    city : str\n",
    "        ASOS aiport city (e.g. Sacramento Executive Airport weather station)\n",
    "\n",
    "    Returns\n",
    "    -------\n",
    "    str\n",
    "        name (ERA ID) of the associated HDP station (e.g. ASOSAWOS_XXXXXXXX)\n",
    "\n",
    "    Example\n",
    "    ------\n",
    "    asos_station_lookup(code=\"KSAC\") return \n",
    "    \"\"\"\n",
    "    city_dict = {\n",
    "        \"Arcata\": \"ASOSAWOS_72594524283\",\n",
    "        \"Eureka\": \"ASOSAWOS_72594524283\",\n",
    "        \"Blue Canyon\": \"ASOSAWOS_72584523225\",\n",
    "        \"Burbank\": \"ASOSAWOS_72288023152\",\n",
    "        \"Fresno\": \"ASOSAWOS_72389093193\",\n",
    "        \"Fullerton\": \"ASOSAWOS_72297603166\",\n",
    "        \"Oakland\": \"ASOSAWOS_72493023230\",\n",
    "        \"Palm Springs\": \"ASOSAWOS_72286893138\",\n",
    "        \"Palmdale\": \"ASOSAWOS_72382023182\",\n",
    "        \"Red Bluff\": \"ASOSAWOS_72591024216\",\n",
    "        \"Riverside\": \"ASOSAWOS_72286903171\",\n",
    "        \"Sacramento\": \"ASOSAWOS_72483023232\",\n",
    "        \"San Diego\": \"ASOSAWOS_72290023188\",\n",
    "        \"San Jose\": \"ASOSAWOS_72494523293\",\n",
    "        \"Santa Maria\": \"ASOSAWOS_72394023273\",\n",
    "        \"Santa Rosa\": \"ASOSAWOS_72495723213\",\n",
    "        \"Torrance\": \"ASOSAWOS_72295503174\",\n",
    "    }\n",
    "\n",
    "    code_dict = {\n",
    "        \"KACV\": \"ASOSAWOS_72594524283\",\n",
    "        \"KBLU\": \"ASOSAWOS_72584523225\",\n",
    "        \"KBUR\": \"ASOSAWOS_72288023152\",\n",
    "        \"KFAT\": \"ASOSAWOS_72389093193\",\n",
    "        \"KFUL\": \"ASOSAWOS_72297603166\",\n",
    "        \"KOAK\": \"ASOSAWOS_72493023230\",\n",
    "        \"KPSP\": \"ASOSAWOS_72286893138\",\n",
    "        \"KPMD\": \"ASOSAWOS_72382023182\",\n",
    "        \"KRBL\": \"ASOSAWOS_72591024216\",\n",
    "        \"KRAL\": \"ASOSAWOS_72286903171\",\n",
    "        \"KSAC\": \"ASOSAWOS_72483023232\",\n",
    "        \"KSAN\": \"ASOSAWOS_72290023188\",\n",
    "        \"KRHV\": \"ASOSAWOS_72494523293\",\n",
    "        \"KSMX\": \"ASOSAWOS_72394023273\",\n",
    "        \"KSTS\": \"ASOSAWOS_72495723213\",\n",
    "        \"KTOA\": \"ASOSAWOS_72295503174\",\n",
    "    }\n",
    "\n",
    "    if code:\n",
    "        hdp_station = code_dict[code]\n",
    "    elif city:\n",
    "        hdp_station = [val for key, val in city_dict.items() if key in city]\n",
    "\n",
    "    return hdp_station"
   ]
  },
  {
   "cell_type": "code",
   "execution_count": null,
   "id": "1b10b2bc",
   "metadata": {},
   "outputs": [
    {
     "data": {
      "text/plain": [
       "['ASOSAWOS_72389093193']"
      ]
     },
     "execution_count": 149,
     "metadata": {},
     "output_type": "execute_result"
    }
   ],
   "source": [
    "asos_station_lookup(city=\"Eureka\")"
   ]
  }
 ],
 "metadata": {
  "kernelspec": {
   "display_name": "hist-obs",
   "language": "python",
   "name": "python3"
  },
  "language_info": {
   "codemirror_mode": {
    "name": "ipython",
    "version": 3
   },
   "file_extension": ".py",
   "mimetype": "text/x-python",
   "name": "python",
   "nbconvert_exporter": "python",
   "pygments_lexer": "ipython3",
   "version": "3.10.13"
  }
 },
 "nbformat": 4,
 "nbformat_minor": 5
}
