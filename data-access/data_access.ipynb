{
 "cells": [
  {
   "cell_type": "markdown",
   "id": "5c64909f",
   "metadata": {},
   "source": [
    "# Accessing Historic Observation Data Platform data\n",
    "\n",
    "You can easily access the finalized cloud-optimized data using the Python library `intake`, which interfaces with our data catalog. This notebook demonstrates how to interact with the data catalog to download data, along with some simple plotting code to generate figures of the data. "
   ]
  },
  {
   "cell_type": "code",
   "execution_count": null,
   "id": "ccc34b3e",
   "metadata": {},
   "outputs": [],
   "source": [
    "import intake"
   ]
  },
  {
   "cell_type": "markdown",
   "id": "d9d4eb1c",
   "metadata": {},
   "source": [
    "First, open the catalog using `intake`"
   ]
  },
  {
   "cell_type": "code",
   "execution_count": null,
   "id": "6ccad77a",
   "metadata": {},
   "outputs": [],
   "source": [
    "cat = intake.open_esm_datastore(\"https://cadcat.s3.amazonaws.com/histwxstns/era-hdp-collection.json\")"
   ]
  },
  {
   "cell_type": "markdown",
   "id": "989e64b5",
   "metadata": {},
   "source": [
    "Next, view the catalog in table format. You can inspect the first few rows by calling `.head()` on the table."
   ]
  },
  {
   "cell_type": "code",
   "execution_count": null,
   "id": "0389d0d0",
   "metadata": {},
   "outputs": [],
   "source": [
    "# Access catalog as dataframe and inspect the first few rows\n",
    "cat_df = cat.df\n",
    "cat_df"
   ]
  },
  {
   "cell_type": "markdown",
   "id": "e57cfbd5",
   "metadata": {},
   "source": [
    "View all the weather station networks by using the following code "
   ]
  },
  {
   "cell_type": "code",
   "execution_count": null,
   "id": "c743e382",
   "metadata": {},
   "outputs": [],
   "source": [
    "# See all network options \n",
    "cat_df[\"network_id\"].unique()"
   ]
  },
  {
   "cell_type": "markdown",
   "id": "4864dd8c",
   "metadata": {},
   "source": [
    "You can also filter the catalog to see all stations within a network"
   ]
  },
  {
   "cell_type": "code",
   "execution_count": null,
   "id": "687f661b",
   "metadata": {},
   "outputs": [],
   "source": [
    "my_network = \"ASOSAWOS\"\n",
    "cat_df[cat_df[\"network_id\"] == my_network]"
   ]
  },
  {
   "cell_type": "markdown",
   "id": "3ddfe314",
   "metadata": {},
   "source": [
    "You can subset the catalog and read in the cloud-optimized data as `xarray.Dataset` objects using the method shown below. To change the data downloaded, simply modify the inputs in the dictionary `query`. These inputs must correspond to valid options in the catalog. "
   ]
  },
  {
   "cell_type": "code",
   "execution_count": null,
   "id": "a169749a",
   "metadata": {},
   "outputs": [],
   "source": [
    "# Set your query here\n",
    "query = {\n",
    "    \"network_id\": \"ASOSAWOS\",  # Name of the network\n",
    "    \"station_id\": [\"ASOSAWOS_A0002694297\",\"ASOSAWOS_A0704900320\",\"ASOSAWOS_72020200118\"] # List of stations to get data for \n",
    "}\n",
    "\n",
    "# Subset catalog\n",
    "cat_subset = cat.search(**query)\n",
    "\n",
    "# View the data you've selected before downloading\n",
    "cat_subset.df"
   ]
  },
  {
   "cell_type": "code",
   "execution_count": null,
   "id": "b6c5caf2",
   "metadata": {},
   "outputs": [],
   "source": [
    "cat_subset"
   ]
  },
  {
   "cell_type": "markdown",
   "id": "31bc9a9b",
   "metadata": {},
   "source": [
    "Then, you can download all the files. The files will be downloaded as a dictionary, in which each key is a string description of the data, and the item is the data object. "
   ]
  },
  {
   "cell_type": "code",
   "execution_count": null,
   "id": "7a6eaf70",
   "metadata": {},
   "outputs": [],
   "source": [
    "# Get dataset dictionary \n",
    "dsets = cat_subset.to_dataset_dict(\n",
    "    xarray_open_kwargs={'consolidated':False},\n",
    "    storage_options={'anon':True}\n",
    ")"
   ]
  },
  {
   "cell_type": "markdown",
   "id": "21362aa5",
   "metadata": {},
   "source": [
    "To see all the string IDs for the Datasets in the dictionary, you can print them with the following code: "
   ]
  },
  {
   "cell_type": "code",
   "execution_count": null,
   "id": "da39ed95",
   "metadata": {},
   "outputs": [],
   "source": [
    "list(dsets.keys())"
   ]
  },
  {
   "cell_type": "markdown",
   "id": "da72e866",
   "metadata": {},
   "source": [
    "You can easily access the files in the dictionary using the following format: \n",
    "```\n",
    "dsets[<string ID of data>]\n",
    "```\n",
    "The string ID of the data is constructed using both the network ID and the station ID for each individual weather station. "
   ]
  },
  {
   "cell_type": "code",
   "execution_count": null,
   "id": "e55e7d34",
   "metadata": {},
   "outputs": [],
   "source": [
    "# Retrieve a single file\n",
    "ds = dsets[\"ASOSAWOS.ASOSAWOS_72020200118\"]\n",
    "ds"
   ]
  },
  {
   "cell_type": "markdown",
   "id": "d69020ce",
   "metadata": {},
   "source": [
    "## Make a quick plot of the data \n",
    "`xarray` has some nice mapping features that enable you to quickly generate a plot for a single timestep. This lets you get a sense for the data you read in. "
   ]
  },
  {
   "cell_type": "code",
   "execution_count": null,
   "id": "313a99bc",
   "metadata": {},
   "outputs": [],
   "source": [
    "variable_to_plot = \"tas\"\n",
    "ds.squeeze()[variable_to_plot].plot(x=\"time\");"
   ]
  },
  {
   "cell_type": "markdown",
   "id": "0a3b9da1",
   "metadata": {},
   "source": [
    "# Subset the historical weather stations for a region\n",
    "\n",
    "If you're interested in historical weather observation stations in a specific area, you can also subset the full archive of stations to identify those that you are interested in. We will read in the Historical Data Platform station list, which provides the coordinates, dates of coverage, source network, and total number of observations for each station. We'll soon be adding additional information like the state and common station identifiers!\n",
    "\n",
    "For this, we'll use an area shapefile; upload your own to see which stations are in your area! You can pass either a **web link to an open access shapefile**, or **upload your own shapefile** to your Hub instance too."
   ]
  },
  {
   "cell_type": "code",
   "execution_count": null,
   "id": "3de3d9b8",
   "metadata": {},
   "outputs": [],
   "source": [
    "# Imports\n",
    "import geopandas as gpd\n",
    "import pandas as pd\n",
    "import sys\n",
    "import os\n",
    "\n",
    "# Import a shapefile clipping function from figure_utils\n",
    "sys.path.append(os.path.abspath(\"../notebooks\"))\n",
    "from figure_utils import clip_gpd_to_shapefile"
   ]
  },
  {
   "cell_type": "code",
   "execution_count": null,
   "id": "4a2c4d16",
   "metadata": {},
   "outputs": [],
   "source": [
    "# Read in the Historical Data Platform station list\n",
    "# Note: this will be replaced with the cadcat station list in AWS\n",
    "hdp_stns = pd.read_csv(\"s3://wecc-historical-wx/4_merge_wx/all_network_stationlist_merge.csv\")"
   ]
  },
  {
   "cell_type": "code",
   "execution_count": null,
   "id": "dea0c6bc",
   "metadata": {},
   "outputs": [],
   "source": [
    "# Region of Interest shapefile, and set coordinate reference system\n",
    "roi = gpd.read_file(\"...\")  # Replace this with your own shapefile!\n",
    "roi = roi.to_crs(\"EPSG:3857\")\n",
    "\n",
    "# If there are multiple polygons within the shapefile and you want to further subset, you will need to do so.\n",
    "# Example\n",
    "# roi = roi[roi[\"NAME\"] == \"SPECIFIC_AREA\"]"
   ]
  },
  {
   "cell_type": "code",
   "execution_count": null,
   "id": "2490c12c",
   "metadata": {},
   "outputs": [],
   "source": [
    "# Clip the stationlist to subset within your area of interest\n",
    "stns_within_area = clip_gpd_to_shapefile(hdp_stns, roi)"
   ]
  },
  {
   "cell_type": "markdown",
   "id": "063aea27",
   "metadata": {},
   "source": [
    "This subset are the stations within the designated area from your submitted shapefile! You can easily export this list now for your own information, and use it to look up specific stations."
   ]
  },
  {
   "cell_type": "code",
   "execution_count": null,
   "id": "77126aad",
   "metadata": {},
   "outputs": [],
   "source": [
    "# Export the subset portion of station list\n",
    "stns_within_area.to_csv(\"subset_station_list.csv\")"
   ]
  },
  {
   "cell_type": "markdown",
   "id": "638e6d25",
   "metadata": {},
   "source": [
    "Want a more interactive way to zoom in on an area? use stns.explore()! Note, it may take some time to load."
   ]
  },
  {
   "cell_type": "code",
   "execution_count": null,
   "id": "1bb6733a",
   "metadata": {},
   "outputs": [],
   "source": [
    "stns_within_area.explore()"
   ]
  },
  {
   "cell_type": "code",
   "execution_count": null,
   "id": "9a83271f-067b-4ab8-9ffb-8ab880b8c8f7",
   "metadata": {},
   "outputs": [],
   "source": []
  }
 ],
 "metadata": {
  "kernelspec": {
   "display_name": "Python 3 (ipykernel)",
   "language": "python",
   "name": "python3"
  },
  "language_info": {
   "codemirror_mode": {
    "name": "ipython",
    "version": 3
   },
   "file_extension": ".py",
   "mimetype": "text/x-python",
   "name": "python",
   "nbconvert_exporter": "python",
   "pygments_lexer": "ipython3",
   "version": "3.10.13"
  }
 },
 "nbformat": 4,
 "nbformat_minor": 5
}
