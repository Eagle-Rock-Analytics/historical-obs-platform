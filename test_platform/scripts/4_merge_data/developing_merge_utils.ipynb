{
 "cells": [
  {
   "cell_type": "markdown",
   "metadata": {},
   "source": [
    "# Developing Merge Utilities"
   ]
  },
  {
   "cell_type": "markdown",
   "metadata": {},
   "source": [
    "## Development Notes"
   ]
  },
  {
   "cell_type": "markdown",
   "metadata": {},
   "source": [
    "### Option 1\n",
    "Split the data into subsets, perform different resampling scheme for each, then combine.\n",
    "\n",
    "\n",
    "--> This is the strategy that this script currently utlizes\n",
    "\n",
    "### Option 2\n",
    "Make a library and use a custom resampler on the entire dataset\n",
    "\n",
    "\n",
    "### TODO\n",
    "\n",
    "- Decide on whether we should use \"reduce\" from \"functools\" to combine the susbets, or use repeated merges. The second option involves more code, but the first requires an additional module to be used. Unclear which is computatinoally more intensive.\n",
    "\n",
    "\n",
    "- If the variable is flagged by _eraqc it should be ignored prior to standardization. So for example if precip at :01 is flagged, but precip at :06 is not, the obs at :06 is the one kept etc. We potentially might need to think on if there are qaqc flags that \"are okay to keep\" and one's that are not.\n",
    "\n",
    "\n",
    "- Option 2 above could be used in the future\n",
    "\n",
    "- the function does not output the expected message when fed a dataset with no sub-hourly precipitation data\n",
    "\n"
   ]
  },
  {
   "cell_type": "markdown",
   "metadata": {},
   "source": [
    "## Methodology"
   ]
  },
  {
   "cell_type": "markdown",
   "metadata": {},
   "source": [
    "We break the input dataset into four subsets and then perform resampling on each one between combining them into a single result.\n",
    "\n",
    "\n",
    "**1. constant variables**\n",
    "\n",
    "\n",
    "Includes: columns like elevation and station name, which stay the same through time\n",
    "\n",
    "\n",
    "Method: Take the first value to \"replace\" in the new time stamp. Use \"first()\" resampler.\n",
    "\n",
    "\n",
    "**2. time variables**\n",
    "\n",
    "\n",
    "Includes: any time-related columns, like date and year\n",
    "\n",
    "\n",
    "Method: Only the \"time\" column will be modified, to be the top of the hour. All others (day, month, year, date) are constant within each hour. Use \"first()\" resampler.\n",
    "\n",
    "\n",
    "**3. QA/QC flags**\n",
    "\n",
    "\n",
    "Method: start off with treating them like strings, and concatenanting, with a comma\n",
    "\n",
    "\n",
    "Notes: There's an exception here: if the variable is flagged by _eraqc it should be ignored prior to standardization. So for example if precip at :01 is flagged, but precip at :06 is not, the obs at :06 is the one kept etc. We potentially might need to think on if there are qaqc flags that \"are okay to keep\" and one's that are not.\n",
    "\n",
    "\n",
    "**4. meteorological variables**\n",
    "\n",
    "\n",
    "Method: Precipitation is summed within each hour (using \".sum() resampler\"). This script currently applies to other meteorological variables as well, but this will change in the future\n"
   ]
  },
  {
   "cell_type": "markdown",
   "metadata": {},
   "source": [
    "## Setup"
   ]
  },
  {
   "cell_type": "code",
   "execution_count": 4,
   "metadata": {},
   "outputs": [],
   "source": [
    "#TODO: include this module as required module OR use merge instead\n",
    "from functools import reduce\n",
    "\n",
    "import boto3\n",
    "import geopandas as gpd\n",
    "import numpy as np\n",
    "import pandas as pd\n",
    "import requests\n",
    "import urllib\n",
    "import datetime\n",
    "import math\n",
    "import shapely\n",
    "import xarray as xr\n",
    "import matplotlib.pyplot as plt\n",
    "from io import BytesIO, StringIO\n",
    "import scipy.stats as stats\n",
    "\n",
    "import s3fs\n",
    "import tempfile # Used for downloading (and then deleting) netcdfs to local drive from s3 bucket\n",
    "import os\n",
    "from shapely.geometry import Point\n",
    "import time # Used for progress bar \n",
    "import sys # Used for progress bar \n",
    "\n",
    "# Silence warnings\n",
    "import warnings\n",
    "from shapely.errors import ShapelyDeprecationWarning\n",
    "warnings.filterwarnings(\"ignore\", category=RuntimeWarning)\n",
    "warnings.filterwarnings(\"ignore\", category=ShapelyDeprecationWarning) # Warning is raised when creating Point object from coords. Can't figure out why. "
   ]
  },
  {
   "cell_type": "code",
   "execution_count": 5,
   "metadata": {},
   "outputs": [],
   "source": [
    "## Set AWS credentials\n",
    "s3 = boto3.resource(\"s3\")\n",
    "s3_cl = boto3.client('s3') # for lower-level processes\n",
    "\n",
    "## Set relative paths to other folders and objects in repository.\n",
    "bucket_name = \"wecc-historical-wx\"\n",
    "wecc_terr = \"s3://wecc-historical-wx/0_maps/WECC_Informational_MarineCoastal_Boundary_land.shp\"\n",
    "wecc_mar = \"s3://wecc-historical-wx/0_maps/WECC_Informational_MarineCoastal_Boundary_marine.shp\""
   ]
  },
  {
   "cell_type": "code",
   "execution_count": 6,
   "metadata": {},
   "outputs": [],
   "source": [
    "# Define temporary directory in local drive for downloading data from S3 bucket\n",
    "# If the directory doesn't exist, it will be created\n",
    "# If we used zarr, this wouldn't be neccessary \n",
    "temp_dir = \"./tmp\"\n",
    "if not os.path.exists(temp_dir): \n",
    "    os.mkdir(temp_dir)"
   ]
  },
  {
   "cell_type": "markdown",
   "metadata": {},
   "source": [
    "## Define helper functions"
   ]
  },
  {
   "cell_type": "code",
   "execution_count": 7,
   "metadata": {},
   "outputs": [],
   "source": [
    "def progressbar(it, prefix=\"\", size=60, out=sys.stdout): # Python3.6+\n",
    "    \"\"\"\n",
    "    Print a progress bar to console \n",
    "\n",
    "    References\n",
    "    ----------\n",
    "    https://stackoverflow.com/questions/3160699/python-progress-bar\n",
    "    \n",
    "    \"\"\"\n",
    "    count = len(it)\n",
    "    start = time.time() # time estimate start\n",
    "    def show(j):\n",
    "        x = int(size*j/count)\n",
    "        # time estimate calculation and string\n",
    "        remaining = ((time.time() - start) / j) * (count - j)        \n",
    "        mins, sec = divmod(remaining, 60) # limited to minutes\n",
    "        time_str = f\"{int(mins):02}:{sec:03.1f}\"\n",
    "        print(f\"{prefix}[{u'█'*x}{('.'*(size-x))}] {j}/{count} Est wait {time_str}\", end='\\r', file=out, flush=True)\n",
    "    show(0.1) # avoid div/0 \n",
    "    for i, item in enumerate(it):\n",
    "        yield item\n",
    "        show(i+1)\n",
    "    print(\"\\n\", flush=True, file=out)"
   ]
  },
  {
   "cell_type": "code",
   "execution_count": 8,
   "metadata": {},
   "outputs": [],
   "source": [
    "def read_nc_from_s3(network_name, station_id, temp_dir):\n",
    "    \"\"\"Read netcdf file containing station data for a single station of interest from AWS s3 bucket \n",
    "\n",
    "    Parameters\n",
    "    ----------\n",
    "    network_name: str \n",
    "        Name of network (i.e. \"ASOSAWOS\")\n",
    "        Must correspond with a valid directory in the s3 bucket (i.e. \"CAHYDRO\", \"CDEC\", \"ASOSAWOS\")\n",
    "    station_id: str\n",
    "        Station identifier; i.e. the name of the netcdf file in the bucket (i.e. \"ASOSAWOS_72012200114.nc\")\n",
    "    \n",
    "    Returns \n",
    "    -------\n",
    "    station_data: xr.Dataset \n",
    "    \n",
    "    Notes\n",
    "    -----\n",
    "    The data is first downloaded from AWS into a tempfile, which is then deleted after xarray reads in the file \n",
    "    I'd like to see us use a zarr workflow if possible to avoid this. \n",
    "\n",
    "    \"\"\"\n",
    "\n",
    "    # Temp file for downloading from s3\n",
    "    temp_file = tempfile.NamedTemporaryFile(\n",
    "        dir = temp_dir, \n",
    "        prefix = \"\", \n",
    "        suffix = \".nc\",\n",
    "        delete = True\n",
    "    )\n",
    "\n",
    "    # Create s3 file system \n",
    "    s3 = s3fs.S3FileSystem(anon=False)\n",
    "\n",
    "    # Get URL to netcdf in S3\n",
    "    s3_url = 's3://wecc-historical-wx/3_qaqc_wx_dev/{}/{}.nc'.format(network_name, station_id)\n",
    "\n",
    "    # Read in the data using xarray \n",
    "    s3_file_obj = s3.get(s3_url, temp_file.name)\n",
    "    station_data = xr.open_dataset(temp_file.name, engine='h5netcdf').load()\n",
    "\n",
    "    # Close temporary file \n",
    "    temp_file.close()\n",
    "\n",
    "    return station_data "
   ]
  },
  {
   "cell_type": "code",
   "execution_count": 9,
   "metadata": {},
   "outputs": [],
   "source": [
    "def qaqc_ds_to_df(ds, verbose=False):\n",
    "    ## Add qc_flag variable for all variables, including elevation; \n",
    "    ## defaulting to nan for fill value that will be replaced with qc flag\n",
    "\n",
    "    for key,val in ds.variables.items():\n",
    "        if val.dtype==object:\n",
    "            if key=='station':\n",
    "                if str in [type(v) for v in ds[key].values]:\n",
    "                    ds[key] = ds[key].astype(str)\n",
    "            else:\n",
    "                if str in [type(v) for v in ds.isel(station=0)[key].values]:\n",
    "                    ds[key] = ds[key].astype(str)\n",
    "                \n",
    "    exclude_qaqc = [\"time\", \"station\", \"lat\", \"lon\", \n",
    "                    \"qaqc_process\", \"sfcWind_method\", \n",
    "                    \"pr_duration\", \"pr_depth\", \"PREC_flag\",\n",
    "                    \"rsds_duration\", \"rsds_flag\", \n",
    "                    \"anemometer_height_m\",\n",
    "                    \"thermometer_height_m\"\n",
    "                   ] # lat, lon have different qc check\n",
    "\n",
    "    raw_qc_vars = [] # qc_variable for each data variable, will vary station to station\n",
    "    era_qc_vars = [] # our ERA qc variable\n",
    "    old_era_qc_vars = [] # our ERA qc variable\n",
    "\n",
    "    for var in ds.data_vars:\n",
    "        if 'q_code' in var: \n",
    "            raw_qc_vars.append(var) # raw qc variable, need to keep for comparison, then drop\n",
    "        if '_qc' in var: \n",
    "            raw_qc_vars.append(var) # raw qc variables, need to keep for comparison, then drop\n",
    "        if '_eraqc' in var:\n",
    "            era_qc_vars.append(var) # raw qc variables, need to keep for comparison, then drop\n",
    "            old_era_qc_vars.append(var)\n",
    "\n",
    "    print(f\"era_qc existing variables:\\n{era_qc_vars}\")\n",
    "    n_qc = len(era_qc_vars)\n",
    "    \n",
    "    for var in ds.data_vars:\n",
    "        if var not in exclude_qaqc and var not in raw_qc_vars and \"_eraqc\" not in var:\n",
    "            qc_var = var + \"_eraqc\" # variable/column label\n",
    "\n",
    "            # if qaqc var does not exist, adds new variable in shape of original variable with designated nan fill value\n",
    "            if qc_var not in era_qc_vars:\n",
    "                print(f\"nans created for {qc_var}\")\n",
    "                ds = ds.assign({qc_var: xr.ones_like(ds[var])*np.nan})\n",
    "                era_qc_vars.append(qc_var)\n",
    "    \n",
    "    print(\"{} created era_qc variables\".format(len(era_qc_vars)-len(old_era_qc_vars)))\n",
    "    if len(era_qc_vars)!=n_qc:    \n",
    "        print(\"{}\".format(np.setdiff1d(old_era_qc_vars, era_qc_vars)))\n",
    "    \n",
    "    # Save attributes to inheret them to the QAQC'ed file\n",
    "    attrs = ds.attrs\n",
    "    var_attrs = {var:ds[var].attrs for var in list(ds.data_vars.keys())}\n",
    "\n",
    "    with warnings.catch_warnings():\n",
    "        warnings.filterwarnings(\"ignore\", category=RuntimeWarning)\n",
    "        df = ds.to_dataframe()\n",
    "\n",
    "    # instrumentation heights\n",
    "    if 'anemometer_height_m' not in df.columns:\n",
    "        try:\n",
    "            df['anemometer_height_m'] = np.ones(ds['time'].shape)*ds.anemometer_height_m\n",
    "        except:\n",
    "            print(\"Filling anemometer_height_m with NaN.\", flush=True)\n",
    "            df['anemometer_height_m'] = np.ones(len(df))*np.nan\n",
    "        finally:\n",
    "            pass\n",
    "    if 'thermometer_height_m' not in df.columns:\n",
    "        try:\n",
    "            df['thermometer_height_m'] = np.ones(ds['time'].shape)*ds.thermometer_height_m\n",
    "        except:\n",
    "            print(\"Filling thermometer_height_m with NaN.\", flush=True)\n",
    "            df['thermometer_height_m'] = np.ones(len(df))*np.nan\n",
    "        finally:\n",
    "            pass\n",
    "\n",
    "    # De-duplicate time axis\n",
    "    df = df[~df.index.duplicated()].sort_index()\n",
    "           \n",
    "    # Save station/time multiindex\n",
    "    MultiIndex = df.index\n",
    "    station = df.index.get_level_values(0)\n",
    "    df['station'] = station\n",
    "    \n",
    "    # Station pd.Series to str\n",
    "    station = station.unique().values[0]\n",
    "    \n",
    "    # Convert time/station index to columns and reset index\n",
    "    df = df.droplevel(0).reset_index()\n",
    "\n",
    "    # Add time variables needed by multiple functions\n",
    "    df['hour'] = pd.to_datetime(df['time']).dt.hour\n",
    "    df['day'] = pd.to_datetime(df['time']).dt.day \n",
    "    df['month'] = pd.to_datetime(df['time']).dt.month \n",
    "    df['year'] = pd.to_datetime(df['time']).dt.year \n",
    "    df['date']  = pd.to_datetime(df['time']).dt.date\n",
    "    \n",
    "    return df#, MultiIndex, attrs, var_attrs, era_qc_vars "
   ]
  },
  {
   "cell_type": "markdown",
   "metadata": {},
   "source": [
    "## Load, Explore, and Prepare the data"
   ]
  },
  {
   "cell_type": "code",
   "execution_count": 22,
   "metadata": {},
   "outputs": [
    {
     "name": "stdout",
     "output_type": "stream",
     "text": [
      "era_qc existing variables:\n",
      "['ps_eraqc', 'tas_eraqc', 'tdps_eraqc', 'pr_eraqc', 'sfcWind_eraqc', 'sfcWind_dir_eraqc', 'elevation_eraqc', 'ps_altimeter_eraqc', 'psl_eraqc']\n",
      "0 created era_qc variables\n"
     ]
    },
    {
     "data": {
      "text/plain": [
       "['pr', 'qaqc_process', 'pr_qc', 'pr_duration', 'pr_depth_qc', 'pr_eraqc']"
      ]
     },
     "execution_count": 22,
     "metadata": {},
     "output_type": "execute_result"
    }
   ],
   "source": [
    "# load in single dc file from AWS\n",
    "ds = read_nc_from_s3('CRN', 'CRN_AGPC2', temp_dir) \n",
    "#ds = read_nc_from_s3('CRN', 'CRN_CETC2', temp_dir) \n",
    "#ds = read_nc_from_s3('ASOSAWOS', 'ASOSAWOS_72494023234', temp_dir) \n",
    "\n",
    "#convert to formatted pandas dataframe\n",
    "df = qaqc_ds_to_df(ds, verbose=False)\n",
    "\n",
    "# check if precipitation data present\n",
    "all_pr_vars = [var for var in df.columns if 'pr' in var]\n",
    "all_pr_vars\n",
    "\n",
    "\n",
    "# datasets that have been checked\n",
    "# - CRN_AGPC2\n",
    "# - CRN_CETC2"
   ]
  },
  {
   "cell_type": "code",
   "execution_count": 23,
   "metadata": {},
   "outputs": [
    {
     "name": "stdout",
     "output_type": "stream",
     "text": [
      "Index(['time', 'ps', 'tas', 'tdps', 'pr', 'sfcWind', 'sfcWind_dir',\n",
      "       'elevation', 'qaqc_process', 'ps_qc', 'ps_altimeter', 'ps_altimeter_qc',\n",
      "       'psl', 'psl_qc', 'tas_qc', 'tdps_qc', 'pr_qc', 'pr_duration',\n",
      "       'pr_depth_qc', 'sfcWind_qc', 'sfcWind_method', 'sfcWind_dir_qc', 'lat',\n",
      "       'lon', 'ps_eraqc', 'tas_eraqc', 'tdps_eraqc', 'pr_eraqc',\n",
      "       'sfcWind_eraqc', 'sfcWind_dir_eraqc', 'elevation_eraqc',\n",
      "       'ps_altimeter_eraqc', 'psl_eraqc', 'anemometer_height_m',\n",
      "       'thermometer_height_m', 'station', 'hour', 'day', 'month', 'year',\n",
      "       'date'],\n",
      "      dtype='object')\n"
     ]
    }
   ],
   "source": [
    "#check the columns present in the dataset\n",
    "print(df.columns)"
   ]
  },
  {
   "cell_type": "code",
   "execution_count": 35,
   "metadata": {},
   "outputs": [],
   "source": [
    "# groupings of columns that fall into each category\n",
    "# TODO: enentually add all possible variables - the below is just a subset based on the CRN network\n",
    "\n",
    "constant_vars = [\"time\",\"station\", \"lat\", \"lon\", \"elevation\",\n",
    "                    \"anemometer_height_m\",\"thermometer_height_m\"]\n",
    "\n",
    "time_vars = [\"time\",\"hour\",\"day\",\"month\",\"year\",\"date\"]\n",
    "\n",
    "# do not include \"time\" in this dataframe - it will be added in the next chunk\n",
    "qaqc_vars = [\"tas_qc\", \"tas_eraqc\",\n",
    "                \"pr_5min_eraqc\",\"pr_1h_eraqc\",\"pr_5min_qc\",\n",
    "                \"elevation_eraqc\"]\n",
    "qaqc_vars_complete = qaqc_vars + [\"time\"]\n",
    "\n",
    "met_vars = [\"time\",\"tas\",\"pr\",\"pr_localmid\",\"pr_24h\",\"pr_5min\",\"pr_1h\",\n",
    "                \"tdps\",\"tdps_derived\",\n",
    "                \"ps\",\"psl\",\"ps_altimeter\",\n",
    "                \"hurs\",\"sfcwind\",\"sfcwind_dir\",\"rsds\",\"total\",]\n"
   ]
  },
  {
   "cell_type": "code",
   "execution_count": 25,
   "metadata": {},
   "outputs": [
    {
     "name": "stdout",
     "output_type": "stream",
     "text": [
      "['time', 'station', 'lat', 'lon', 'elevation', 'anemometer_height_m', 'thermometer_height_m', 'time', 'hour', 'day', 'month', 'year', 'date', 'tas_qc', 'tas_eraqc', 'pr_5min_eraqc', 'pr_1h_eraqc', 'pr_5min_qc', 'elevation_eraqc', 'time', 'tas', 'pr', 'pr_localmid', 'pr_24h', 'pr_5min', 'pr_1h', 'tdps', 'tdps_derived', 'ps', 'psl', 'ps_altimeter', 'hurs', 'sfcwind', 'sfcwind_dir', 'rsds', 'total']\n"
     ]
    }
   ],
   "source": [
    "all_vars = constant_vars + time_vars + qaqc_vars + met_vars\n",
    "print(all_vars)"
   ]
  },
  {
   "cell_type": "code",
   "execution_count": 37,
   "metadata": {},
   "outputs": [
    {
     "name": "stderr",
     "output_type": "stream",
     "text": [
      "/var/folders/gq/kbcbbl557b96fgdc4pc5k8mh0000gn/T/ipykernel_884/1548315889.py:11: SettingWithCopyWarning: \n",
      "A value is trying to be set on a copy of a slice from a DataFrame.\n",
      "Try using .loc[row_indexer,col_indexer] = value instead\n",
      "\n",
      "See the caveats in the documentation: https://pandas.pydata.org/pandas-docs/stable/user_guide/indexing.html#returning-a-view-versus-a-copy\n",
      "  qaqc_df[[col for col in qaqc_vars if col in df.columns]] = qaqc_df[[col for col in qaqc_vars if col in df.columns]].astype(str)\n"
     ]
    }
   ],
   "source": [
    "constant_df = df[[col for col in constant_vars if col in df.columns]]\n",
    "\n",
    "#constant_df.columns\n",
    "\n",
    "time_df = df[[col for col in time_vars if col in df.columns]]\n",
    "#time_df.columns\n",
    "\n",
    "#TODO: this throws an warning - come back and address it\n",
    "\n",
    "qaqc_df = df[[col for col in qaqc_vars_complete if col in df.columns]]\n",
    "qaqc_df[[col for col in qaqc_vars if col in df.columns]] = qaqc_df[[col for col in qaqc_vars if col in df.columns]].astype(str)\n",
    "#qaqc_df.columns\n",
    "\n",
    "met_df = df[[col for col in met_vars if col in df.columns]]\n",
    "#met_df.columns"
   ]
  },
  {
   "cell_type": "code",
   "execution_count": null,
   "metadata": {},
   "outputs": [],
   "source": [
    "#check column entry tyme, to confirm tha the type conversion for qaqc_df was successful\n",
    "print(qaqc_df['tas_qc'].apply(type))"
   ]
  },
  {
   "cell_type": "markdown",
   "metadata": {},
   "source": [
    "## Development"
   ]
  },
  {
   "cell_type": "code",
   "execution_count": null,
   "metadata": {},
   "outputs": [],
   "source": [
    "# resample meteorological variables \n",
    "met_result =  met_df.resample('1h',on='time').sum().rename(columns={'pr_5min': 'pr_1hr_test'})\n",
    "print(met_result)\n"
   ]
  },
  {
   "cell_type": "code",
   "execution_count": null,
   "metadata": {},
   "outputs": [],
   "source": [
    "# keep the first value in each hour\n",
    "constant_result =  constant_df.resample('1h',on='time').first()\n",
    "print(constant_result)\n"
   ]
  },
  {
   "cell_type": "code",
   "execution_count": null,
   "metadata": {},
   "outputs": [],
   "source": [
    "# concatenate entries within each hour\n",
    "qaqc_result = qaqc_df.resample('1h',on='time').apply(lambda x: ','.join(x))\n",
    "print(qaqc_result)"
   ]
  },
  {
   "cell_type": "code",
   "execution_count": null,
   "metadata": {},
   "outputs": [],
   "source": [
    "# keep the first value in each hour\n",
    "time_result =  time_df.resample('1h',on='time').first()\n",
    "print(time_result)"
   ]
  },
  {
   "cell_type": "code",
   "execution_count": null,
   "metadata": {},
   "outputs": [],
   "source": [
    "\n",
    "result_list = [met_result,constant_result,time_result,qaqc_result]\n",
    "\n",
    "result = reduce(lambda  left,right: pd.merge(left,right,on=['time'],\n",
    "                                            how='outer'), result_list)\n",
    "\n",
    "print(result)"
   ]
  },
  {
   "cell_type": "code",
   "execution_count": null,
   "metadata": {},
   "outputs": [],
   "source": [
    "#alternative method for combinding the subsets that does not require a new module\n",
    "result_test = met_result.merge(constant_result, on='time', how='outer').merge(time_result, on='time', how='outer').merge(qaqc_result, on='time', how='outer')\n",
    "print(result_test)"
   ]
  },
  {
   "cell_type": "markdown",
   "metadata": {},
   "source": [
    "## Hourly Resampling Function "
   ]
  },
  {
   "cell_type": "code",
   "execution_count": 38,
   "metadata": {},
   "outputs": [],
   "source": [
    "def precip_hourly_standardization(df):\n",
    "    \n",
    "    \"\"\"\n",
    "    \n",
    "    Rules:\n",
    "    ------\n",
    "        1) pr_5min < pr_1h < pr_24h\n",
    "        2) pr_localmid should never exceed pr_24h\n",
    "\n",
    "    Input:\n",
    "    ------\n",
    "        df [pd.DataFrame]: station dataset converted to dataframe through QAQC pipeline\n",
    "\n",
    "    Output:\n",
    "    -------\n",
    "        if success:\n",
    "            df [pd.DataFrame]: QAQC dataframe with additional column \"pr_1hr\"\n",
    "        if failure:\n",
    "            None\n",
    "    \"\"\"\n",
    "\n",
    "    print(\"Running: precip_hourly_standardization\", flush=True)\n",
    "\n",
    "    ##### define the variables for each sub-dataframe #####\n",
    "    constant_vars = [\"time\",\"station\", \"lat\", \"lon\", \"elevation\",\n",
    "                    \"anemometer_height_m\",\"thermometer_height_m\"]\n",
    "\n",
    "    time_vars = [\"time\",\"hour\",\"day\",\"month\",\"year\",\"date\"]\n",
    "\n",
    "    # do not include \"time\" in this dataframe - it will be added in the next chunk\n",
    "    qaqc_vars = [\"tas_qc\", \"tas_eraqc\",\n",
    "                    \"pr_5min_eraqc\",\"pr_1h_eraqc\",\"pr_5min_qc\",\"elevation_eraqc\"]\n",
    "    qaqc_vars_complete = qaqc_vars + [\"time\"]\n",
    "    \n",
    "    met_vars = [\"time\",\"tas\", \"pr_5min\",\"pr_1h\"]\n",
    "    \n",
    "    ##### identify which precipitation vars are reported  #####\n",
    "    all_pr_vars = [var for var in df.columns if 'pr' in var] # can be variable length depending if there is a raw qc var\n",
    "    #pr_vars = [var for var in all_pr_vars if not any(True for item in vars_to_remove if item in var)] # remove all qc variables so they do not also run through: raw, eraqc, qaqc_process\n",
    "    \n",
    "    ##### subset the dataframe\n",
    "    print(\"generating subsets\", flush=True)\n",
    "\n",
    "    constant_df = df[[col for col in constant_vars if col in df.columns]]\n",
    "\n",
    "    time_df = df[[col for col in time_vars if col in df.columns]]\n",
    "\n",
    "    qaqc_df = df[[col for col in qaqc_vars_complete if col in df.columns]]\n",
    "    qaqc_df[[col for col in qaqc_vars if col in df.columns]] = qaqc_df[[col for col in qaqc_vars if col in df.columns]].astype(str)\n",
    "\n",
    "    met_df = df[[col for col in met_vars if col in df.columns]]\n",
    "    \n",
    "    ##### \n",
    "    print(\"checking if dataset contains sub-hourly precipitation data\", flush=True)\n",
    "    # TODO: add to log file\n",
    "    try:        \n",
    "        # if station does not report any precipitation values, or only one, bypass\n",
    "        if len(all_pr_vars) == 0:\n",
    "            print('Station does not report precipitation variables - bypassing hourly aggregation', flush=True)\n",
    "            return df\n",
    "        if 'pr_1h' in all_pr_vars and 'pr_5min' not in all_pr_vars:\n",
    "            print('Station already reports hourly precipitation - bypassing hourly aggregation', flush=True)\n",
    "            return df\n",
    "        if 'pr_24h' in all_pr_vars and 'pr_5min' not in all_pr_vars:\n",
    "            print('Station reports daily precipitation - bypassing hourly aggregation', flush=True)\n",
    "            return df\n",
    "        if 'pr_5min' in all_pr_vars: #and 'pr_24h' not in pr_vars and 'pr_1h' not in pr_vars:\n",
    "            print('performing hourly aggregation', flush=True)\n",
    "            \n",
    "            #perform resampling for each subset separately\n",
    "            met_result =  met_df.resample('1h',on='time').sum().rename(columns={'pr_5min': 'pr_1hr_test'}) #renames the subhourly precipitation column\n",
    "            constant_result =  constant_df.resample('1h',on='time').first()\n",
    "            time_result =  time_df.resample('1h',on='time').first()\n",
    "            qaqc_result = qaqc_df.resample('1h',on='time').apply(lambda x: ','.join(x))\n",
    "\n",
    "            #merge all subsets on \"time\" column\n",
    "            result_list = [met_result,constant_result,time_result,qaqc_result]\n",
    "            #result = reduce(lambda  left,right: pd.merge(left,right,on=['time'],\n",
    "            #                                how='outer'), result_list)\n",
    "            result = met_result.merge(constant_result, on='time', how='outer').merge(time_result, on='time', how='outer').merge(qaqc_result, on='time', how='outer')\n",
    "            return result\n",
    "    \n",
    "    except Exception as e:\n",
    "        print(\"precip_hourly_standardization failed with Exception: {0}\".format(e), flush=true)\n",
    "        return None"
   ]
  },
  {
   "cell_type": "code",
   "execution_count": 39,
   "metadata": {},
   "outputs": [
    {
     "name": "stdout",
     "output_type": "stream",
     "text": [
      "Running: precip_hourly_standardization\n",
      "generating subsets\n",
      "checking if dataset contains sub-hourly precipitation data\n",
      "None\n"
     ]
    },
    {
     "name": "stderr",
     "output_type": "stream",
     "text": [
      "/var/folders/gq/kbcbbl557b96fgdc4pc5k8mh0000gn/T/ipykernel_884/2398692303.py:49: SettingWithCopyWarning: \n",
      "A value is trying to be set on a copy of a slice from a DataFrame.\n",
      "Try using .loc[row_indexer,col_indexer] = value instead\n",
      "\n",
      "See the caveats in the documentation: https://pandas.pydata.org/pandas-docs/stable/user_guide/indexing.html#returning-a-view-versus-a-copy\n",
      "  qaqc_df[[col for col in qaqc_vars if col in df.columns]] = qaqc_df[[col for col in qaqc_vars if col in df.columns]].astype(str)\n"
     ]
    }
   ],
   "source": [
    "result = precip_hourly_standardization(df)\n",
    "print(result)"
   ]
  },
  {
   "cell_type": "markdown",
   "metadata": {},
   "source": [
    "## Code Sandbox"
   ]
  },
  {
   "cell_type": "code",
   "execution_count": null,
   "metadata": {},
   "outputs": [],
   "source": [
    "\n",
    "# agg_funcs = {\n",
    "#     col:'sum' if col in met_vars else continue\n",
    "#     for col in df.columns\n",
    "# }\n",
    "\n",
    "#df_resampled = df.resample('D').agg(agg_funcs)\n",
    "\n",
    "# result = df.resample('1h',on='time').add_funcs()\n",
    "# result"
   ]
  },
  {
   "cell_type": "code",
   "execution_count": null,
   "metadata": {},
   "outputs": [],
   "source": [
    "# Sample DataFrame\n",
    "df = pd.DataFrame({\n",
    "    'date': pd.date_range('2023-01-01', periods=10, freq='D'),\n",
    "    'category': ['A', 'B', 'A', 'B', 'A', 'B', 'A', 'B', 'A', 'B'],\n",
    "    'value': [10, 15, 12, 18, 14, 20, 16, 22, 18, 24]\n",
    "})\n",
    "df.set_index('date', inplace=True)\n",
    "\n",
    "# Group by the variable and apply different resampling techniques\n",
    "resampled_df = df.groupby('category').resample('W').agg({\n",
    "    'value': {'A': 'mean', 'B': 'first'}\n",
    "})"
   ]
  }
 ],
 "metadata": {
  "kernelspec": {
   "display_name": "hist-obs",
   "language": "python",
   "name": "python3"
  },
  "language_info": {
   "codemirror_mode": {
    "name": "ipython",
    "version": 3
   },
   "file_extension": ".py",
   "mimetype": "text/x-python",
   "name": "python",
   "nbconvert_exporter": "python",
   "pygments_lexer": "ipython3",
   "version": "3.9.20"
  }
 },
 "nbformat": 4,
 "nbformat_minor": 2
}
