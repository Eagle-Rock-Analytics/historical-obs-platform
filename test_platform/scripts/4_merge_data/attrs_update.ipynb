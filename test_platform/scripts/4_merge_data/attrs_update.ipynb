{
 "cells": [
  {
   "cell_type": "markdown",
   "id": "fa6801a8",
   "metadata": {},
   "source": [
    "# Updating attributes\n"
   ]
  },
  {
   "cell_type": "markdown",
   "id": "2b18926e",
   "metadata": {},
   "source": [
    "## Environment set-up"
   ]
  },
  {
   "cell_type": "code",
   "execution_count": null,
   "id": "dce3d8ce",
   "metadata": {},
   "outputs": [],
   "source": [
    "import datetime\n",
    "import boto3\n",
    "import geopandas as gpd\n",
    "import numpy as np\n",
    "import pandas as pd\n",
    "import xarray as xr\n",
    "import matplotlib.pyplot as plt\n",
    "from io import BytesIO, StringIO\n",
    "\n",
    "from merge_log_config import logger\n",
    "\n",
    "# Silence warnings\n",
    "import warnings\n",
    "from shapely.errors import ShapelyDeprecationWarning\n",
    "\n",
    "warnings.filterwarnings(\"ignore\", category=RuntimeWarning)\n",
    "warnings.filterwarnings(\n",
    "    \"ignore\", category=ShapelyDeprecationWarning\n",
    ")  # Warning is raised when creating Point object from coords. Can't figure out why.\n",
    "\n",
    "plt.rcParams[\"figure.dpi\"] = 300"
   ]
  },
  {
   "cell_type": "code",
   "execution_count": 6,
   "id": "a94aad5e",
   "metadata": {},
   "outputs": [],
   "source": [
    "# AWS credentials\n",
    "s3 = boto3.resource(\"s3\")\n",
    "s3_cl = boto3.client(\"s3\")\n",
    "\n",
    "## AWS buckets\n",
    "bucket = \"wecc-historical-wx\"\n",
    "qaqcdir = \"3_qaqc_wx/\"\n",
    "mergedir = \"4_merge_wx/\""
   ]
  },
  {
   "cell_type": "markdown",
   "id": "fe8c7e69",
   "metadata": {},
   "source": [
    "## Investigate"
   ]
  },
  {
   "cell_type": "code",
   "execution_count": 10,
   "id": "ab2b3b8e",
   "metadata": {},
   "outputs": [],
   "source": [
    "def merge_ds_to_df(ds):\n",
    "    \"\"\"Converts xarray ds for a station to pandas df in the format needed for processing.\n",
    "\n",
    "    Parameters\n",
    "    ----------\n",
    "    ds: xr.Dataset\n",
    "        Data object with information about each network and station\n",
    "    verbose: boolean\n",
    "        Flag as to whether to print runtime statements to terminal. Default is False. Set in ALLNETWORKS_merge.py run.\n",
    "\n",
    "    Returns\n",
    "    -------\n",
    "    df: pd.DataFrame\n",
    "        Table object with information about each network and station\n",
    "    MultiIndex: pd.DataFrame (I think)\n",
    "        Original multi-index of station and time, to be used on conversion back to ds\n",
    "    attrs:\n",
    "        Save ds attributes to inherent to the final merged file\n",
    "    var_attrs:\n",
    "        Save variable attributes to inherent to the final merged file\n",
    "    \"\"\"\n",
    "\n",
    "    # Save attributes to inherent them to the final merged file\n",
    "    attrs = ds.attrs\n",
    "    var_attrs = {var: ds[var].attrs for var in list(ds.data_vars.keys())}\n",
    "\n",
    "    with warnings.catch_warnings():\n",
    "        warnings.filterwarnings(\"ignore\", category=RuntimeWarning)\n",
    "        df = ds.to_dataframe()\n",
    "\n",
    "    # Save instrumentation heights\n",
    "    if \"anemometer_height_m\" not in df.columns:\n",
    "        try:\n",
    "            df[\"anemometer_height_m\"] = (\n",
    "                np.ones(ds[\"time\"].shape) * ds.anemometer_height_m\n",
    "            )\n",
    "        except:\n",
    "            logger.info(\"Filling anemometer_height_m with NaN.\")\n",
    "            df[\"anemometer_height_m\"] = np.ones(len(df)) * np.nan\n",
    "        finally:\n",
    "            pass\n",
    "    if \"thermometer_height_m\" not in df.columns:\n",
    "        try:\n",
    "            df[\"thermometer_height_m\"] = (\n",
    "                np.ones(ds[\"time\"].shape) * ds.thermometer_height_m\n",
    "            )\n",
    "        except:\n",
    "            logger.info(\"Filling thermometer_height_m with NaN.\")\n",
    "            df[\"thermometer_height_m\"] = np.ones(len(df)) * np.nan\n",
    "        finally:\n",
    "            pass\n",
    "\n",
    "    # De-duplicate time axis\n",
    "    df = df[~df.index.duplicated()].sort_index()\n",
    "\n",
    "    # Save station/time multiindex\n",
    "    MultiIndex = df.index\n",
    "    station = df.index.get_level_values(0)\n",
    "    df[\"station\"] = station\n",
    "\n",
    "    # Station pd.Series to str\n",
    "    station = station.unique().values[0]\n",
    "\n",
    "    # Convert time/station index to columns and reset index\n",
    "    df = df.droplevel(0).reset_index()\n",
    "\n",
    "    return df, MultiIndex, attrs, var_attrs"
   ]
  },
  {
   "cell_type": "code",
   "execution_count": 40,
   "id": "8530e8da",
   "metadata": {},
   "outputs": [],
   "source": [
    "url = \"s3://wecc-historical-wx/3_qaqc_wx/VALLEYWATER/VALLEYWATER_6001.zarr\"  \n",
    "# url = \"s3://wecc-historical-wx/3_qaqc_wx/ASOSAWOS/ASOSAWOS_69007093217.zarr\"\n",
    "ds = xr.open_zarr(url)"
   ]
  },
  {
   "cell_type": "code",
   "execution_count": 41,
   "id": "0f11d2f0",
   "metadata": {},
   "outputs": [],
   "source": [
    "df, MultiIndex, attrs, var_attrs = merge_ds_to_df(ds)"
   ]
  },
  {
   "cell_type": "code",
   "execution_count": 42,
   "id": "463030b3",
   "metadata": {},
   "outputs": [
    {
     "data": {
      "text/plain": [
       "{'anemometer_height_m': {},\n",
       " 'elevation': {'ancillary_variables': 'elevation_eraqc',\n",
       "  'long_name': 'station_elevation',\n",
       "  'positive': 'up',\n",
       "  'standard_name': 'height_above_mean_sea_level',\n",
       "  'units': 'meter'},\n",
       " 'elevation_eraqc': {},\n",
       " 'lat': {},\n",
       " 'lon': {},\n",
       " 'pr_15min': {'ancillary_variables': 'pr_15min_eraqc',\n",
       "  'comment': 'Precipitation accumulated in previous 15 minutes.',\n",
       "  'long_name': '15_minute_precipitation_amount',\n",
       "  'units': 'mm/15min'},\n",
       " 'pr_15min_eraqc': {},\n",
       " 'raw_qc': {},\n",
       " 'thermometer_height_m': {}}"
      ]
     },
     "execution_count": 42,
     "metadata": {},
     "output_type": "execute_result"
    }
   ],
   "source": [
    "var_attrs"
   ]
  },
  {
   "cell_type": "code",
   "execution_count": 45,
   "id": "7380acfd",
   "metadata": {},
   "outputs": [],
   "source": [
    "var_attrs['pr_15min']['name'] = 'love'"
   ]
  },
  {
   "cell_type": "code",
   "execution_count": 46,
   "id": "d7e4b086",
   "metadata": {},
   "outputs": [
    {
     "data": {
      "text/plain": [
       "{'anemometer_height_m': {},\n",
       " 'elevation': {'ancillary_variables': 'elevation_eraqc',\n",
       "  'long_name': 'station_elevation',\n",
       "  'positive': 'up',\n",
       "  'standard_name': 'height_above_mean_sea_level',\n",
       "  'units': 'meter'},\n",
       " 'elevation_eraqc': {},\n",
       " 'lat': {},\n",
       " 'lon': {},\n",
       " 'pr_15min': {'ancillary_variables': 'pr_15min_eraqc',\n",
       "  'comment': 'Precipitation accumulated in previous 15 minutes.',\n",
       "  'long_name': '15_minute_precipitation_amount',\n",
       "  'units': 'mm/15min',\n",
       "  'name': 'love'},\n",
       " 'pr_15min_eraqc': {},\n",
       " 'raw_qc': {},\n",
       " 'thermometer_height_m': {}}"
      ]
     },
     "execution_count": 46,
     "metadata": {},
     "output_type": "execute_result"
    }
   ],
   "source": [
    "var_attrs"
   ]
  },
  {
   "cell_type": "code",
   "execution_count": 43,
   "id": "2f3f51e7",
   "metadata": {},
   "outputs": [],
   "source": [
    "sub_hourly_vars = [i for i in df.columns if \"min\" in i and \"qc\" not in i]"
   ]
  },
  {
   "cell_type": "code",
   "execution_count": 44,
   "id": "89cc1ecb",
   "metadata": {},
   "outputs": [
    {
     "data": {
      "text/plain": [
       "['pr_15min']"
      ]
     },
     "execution_count": 44,
     "metadata": {},
     "output_type": "execute_result"
    }
   ],
   "source": [
    "sub_hourly_vars"
   ]
  },
  {
   "cell_type": "code",
   "execution_count": 51,
   "id": "9e8597ae",
   "metadata": {},
   "outputs": [],
   "source": [
    "for var in sub_hourly_vars:\n",
    "    var_attrs[var]['new_comment'] = '{} has been standardized to an hourly timestep, but will retain its original name'.format(var)"
   ]
  },
  {
   "cell_type": "code",
   "execution_count": 52,
   "id": "3de5617b",
   "metadata": {},
   "outputs": [
    {
     "data": {
      "text/plain": [
       "{'anemometer_height_m': {},\n",
       " 'elevation': {'ancillary_variables': 'elevation_eraqc',\n",
       "  'long_name': 'station_elevation',\n",
       "  'positive': 'up',\n",
       "  'standard_name': 'height_above_mean_sea_level',\n",
       "  'units': 'meter'},\n",
       " 'elevation_eraqc': {},\n",
       " 'lat': {},\n",
       " 'lon': {},\n",
       " 'pr_15min': {'ancillary_variables': 'pr_15min_eraqc',\n",
       "  'comment': 'Precipitation accumulated in previous 15 minutes.',\n",
       "  'long_name': '15_minute_precipitation_amount',\n",
       "  'units': 'mm/15min',\n",
       "  'name': 'love',\n",
       "  'new_comment': 'pr_15min has been standardized to an hourly timestep, but will retain its original name'},\n",
       " 'pr_15min_eraqc': {},\n",
       " 'raw_qc': {},\n",
       " 'thermometer_height_m': {}}"
      ]
     },
     "execution_count": 52,
     "metadata": {},
     "output_type": "execute_result"
    }
   ],
   "source": [
    "var_attrs"
   ]
  }
 ],
 "metadata": {
  "kernelspec": {
   "display_name": "hist-obs",
   "language": "python",
   "name": "python3"
  },
  "language_info": {
   "codemirror_mode": {
    "name": "ipython",
    "version": 3
   },
   "file_extension": ".py",
   "mimetype": "text/x-python",
   "name": "python",
   "nbconvert_exporter": "python",
   "pygments_lexer": "ipython3",
   "version": "3.10.13"
  }
 },
 "nbformat": 4,
 "nbformat_minor": 5
}
