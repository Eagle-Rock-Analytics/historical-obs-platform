{
 "cells": [
  {
   "cell_type": "markdown",
   "id": "eb530e2d",
   "metadata": {},
   "source": [
    "# Flag summary development"
   ]
  },
  {
   "cell_type": "markdown",
   "id": "d4432f44",
   "metadata": {},
   "source": [
    "## Environment set-up"
   ]
  },
  {
   "cell_type": "code",
   "execution_count": null,
   "id": "ba9ff277",
   "metadata": {},
   "outputs": [],
   "source": [
    "import boto3\n",
    "import numpy as np\n",
    "import pandas as pd\n",
    "import xarray as xr\n",
    "import matplotlib.pyplot as plt\n",
    "\n",
    "# New logger function\n",
    "from merge_log_config import logger\n",
    "\n",
    "# Silence warnings\n",
    "import warnings\n",
    "from shapely.errors import ShapelyDeprecationWarning\n",
    "\n",
    "warnings.filterwarnings(\"ignore\", category=RuntimeWarning)\n",
    "warnings.filterwarnings(\n",
    "    \"ignore\", category=ShapelyDeprecationWarning\n",
    ")  # Warning is raised when creating Point object from coords. Can't figure out why.\n",
    "\n",
    "plt.rcParams[\"figure.dpi\"] = 300"
   ]
  },
  {
   "cell_type": "code",
   "execution_count": 2,
   "id": "f4606f8c",
   "metadata": {},
   "outputs": [],
   "source": [
    "# AWS credentials\n",
    "s3 = boto3.resource(\"s3\")\n",
    "s3_cl = boto3.client(\"s3\")\n",
    "\n",
    "## AWS buckets\n",
    "bucket = \"wecc-historical-wx\"\n",
    "cleandir = \"2_clean_wx/\"\n",
    "qaqcdir = \"3_qaqc_wx/\"\n",
    "mergedir = \"4_merge_wx/\""
   ]
  },
  {
   "cell_type": "markdown",
   "id": "b8a144f0",
   "metadata": {},
   "source": [
    "## Function"
   ]
  },
  {
   "cell_type": "code",
   "execution_count": null,
   "id": "3f56e89e",
   "metadata": {},
   "outputs": [],
   "source": [
    "def flag_summary(df: pd.DataFrame, timestep: str):\n",
    "    \"\"\"\n",
    "    Generates summary of flags set on all QAQC tests.\n",
    "    Returns \n",
    "    - list of unique flag values for each variable\n",
    "    - % of total obs per variable that was flagged\n",
    "    - total number of observations per variable\n",
    "    - number of flagged observations per variable\n",
    "\n",
    "\n",
    "    Parameters\n",
    "    ----------\n",
    "    df : pd.DataFrame\n",
    "        station dataset converted to dataframe through QAQC pipeline\n",
    "    timestep: str\n",
    "        can be set to \"native\" or \"hourly\"\n",
    "\n",
    "    Returns\n",
    "    -------\n",
    "    pd.dataFrame\n",
    "    \"\"\"\n",
    "\n",
    "    logger.info(\"Running: flag_summary\")\n",
    "\n",
    "    # identify _eraqc variables\n",
    "    eraqc_vars = [var for var in df.columns if \"_eraqc\" in var]\n",
    "\n",
    "    # Select obs variables to plot and ignore originally accumulated variables (pr)\n",
    "    obs_vars = [var.split(\"_e\")[0] for var in eraqc_vars if \"accum\" not in var]\n",
    "\n",
    "    \n",
    "\n",
    "    for var in eraqc_vars:\n",
    "        logger.info(\n",
    "            \"Flags set on {}: {}\".format(var, df[var].unique()),\n",
    "        )  # unique flag values\n",
    "        logger.info(\n",
    "            \"Coverage of {} obs flagged: {} of {} obs ({}%)\".format(\n",
    "                var,\n",
    "                len(df.loc[(df[var].isnull() == False)]),\n",
    "                len(df),\n",
    "                round((len(df.loc[(df[var].isnull() == False)]) / len(df)) * 100, 3),\n",
    "            )\n",
    "        )  # % of coverage flagged\n",
    "\n",
    "    for var in obs_vars:\n",
    "        try:\n",
    "            flagged_timeseries_plot(df, var)\n",
    "        except Exception as e:\n",
    "            logger.info(\n",
    "                \"flagged_timeseries_plot failed for {} with Exception: {}\".format(\n",
    "                    var, e\n",
    "                )\n",
    "            )"
   ]
  }
 ],
 "metadata": {
  "kernelspec": {
   "display_name": "hist-obs",
   "language": "python",
   "name": "python3"
  },
  "language_info": {
   "codemirror_mode": {
    "name": "ipython",
    "version": 3
   },
   "file_extension": ".py",
   "mimetype": "text/x-python",
   "name": "python",
   "nbconvert_exporter": "python",
   "pygments_lexer": "ipython3",
   "version": "3.10.13"
  }
 },
 "nbformat": 4,
 "nbformat_minor": 5
}
