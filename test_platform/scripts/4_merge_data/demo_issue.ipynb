{
 "cells": [
  {
   "cell_type": "markdown",
   "id": "7d9ad49a",
   "metadata": {},
   "source": [
    "# merge_hourly_standardization debugging \n",
    "Demonstrate issues with merge_hourly_standardization function. <br>Date: May 18, 2025"
   ]
  },
  {
   "cell_type": "code",
   "execution_count": 1,
   "id": "59b26e95",
   "metadata": {},
   "outputs": [],
   "source": [
    "import xarray as xr \n",
    "import pandas as pd\n",
    "import logging\n",
    "\n",
    "from merge_hourly_standardization import merge_hourly_standardization\n",
    "from merge_derive_missing_vars import merge_derive_missing_vars"
   ]
  },
  {
   "cell_type": "markdown",
   "id": "2c3eb8d5",
   "metadata": {},
   "source": [
    "### 1. Read in a sample zarr, setup for input to function\n",
    "1. Make a simple logger that just prints to the console (required input to function)\n",
    "2. Read in zarr as xr.Dataset \n",
    "3. Convert xr.Dataset --> pd.DataFrame (required input to function)\n",
    "4. Change MultiIndex DataFrame to a flat (single-level) DataFrame, with `time` and `station` as normal columns \n",
    "5. Input DataFrame, variable attributes, and logger to `merge_hourly_standardization`"
   ]
  },
  {
   "cell_type": "code",
   "execution_count": null,
   "id": "81c21496",
   "metadata": {},
   "outputs": [
    {
     "name": "stderr",
     "output_type": "stream",
     "text": [
      "INFO:aiobotocore.credentials:Found credentials in environment variables.\n",
      "/Users/nicolekeeney/opt/anaconda3/envs/hist-obs/lib/python3.10/site-packages/pandas/core/arrays/timedeltas.py:908: RuntimeWarning: invalid value encountered in cast\n",
      "  base = data.astype(np.int64)\n",
      "/Users/nicolekeeney/opt/anaconda3/envs/hist-obs/lib/python3.10/site-packages/pandas/core/arrays/timedeltas.py:912: RuntimeWarning: invalid value encountered in cast\n",
      "  data = (base * m + (frac * m).astype(np.int64)).view(\"timedelta64[ns]\")\n"
     ]
    }
   ],
   "source": [
    "# Create a simple logger that just prints to the console\n",
    "logging.basicConfig(level=logging.INFO)\n",
    "logger = logging.getLogger()  \n",
    "\n",
    "# Read in zarr as xarray object \n",
    "s3_path = \"s3://wecc-historical-wx/3_qaqc_wx/ASOSAWOS/ASOSAWOS_69007093217.zarr/\"\n",
    "ds = xr.open_zarr(s3_path)\n",
    "var_attrs = {\n",
    "        var: ds[var].attrs for var in list(ds.data_vars.keys())\n",
    "    }  # Attributes from each variable\n",
    "\n",
    "# Convert to dataframe \n",
    "df = ds.to_dataframe()\n",
    "\n",
    "# Set index MultiIndex --> normal df \n",
    "df.reset_index(inplace=True)\n",
    "\n",
    "# Input dataframe to merge_hourly_standardization function \n",
    "df_after_merge, var_attrs = merge_hourly_standardization(df, var_attrs, logger)\n",
    "\n",
    "# Derive missing vars \n",
    "df_after_missing_vars = merge_derive_missing_vars(df_after_merge)"
   ]
  },
  {
   "cell_type": "markdown",
   "id": "18119e83",
   "metadata": {},
   "source": [
    "### 2. Observe the original DataFrame\n",
    "Note how `station` and `time` are columns "
   ]
  },
  {
   "cell_type": "code",
   "execution_count": null,
   "id": "36c0395e",
   "metadata": {},
   "outputs": [],
   "source": [
    "df"
   ]
  },
  {
   "cell_type": "markdown",
   "id": "1287d5d8",
   "metadata": {},
   "source": [
    "### 3. Obeserve the output DataFrames"
   ]
  },
  {
   "cell_type": "code",
   "execution_count": null,
   "id": "dd185a19",
   "metadata": {},
   "outputs": [],
   "source": [
    "# df after merge_hourly_standardization function \n",
    "df_after_merge"
   ]
  },
  {
   "cell_type": "code",
   "execution_count": null,
   "id": "eb443e91",
   "metadata": {},
   "outputs": [],
   "source": [
    "# df after merge_derive_missing_vars function \n",
    "df_after_merge"
   ]
  }
 ],
 "metadata": {
  "kernelspec": {
   "display_name": "hist-obs",
   "language": "python",
   "name": "python3"
  },
  "language_info": {
   "codemirror_mode": {
    "name": "ipython",
    "version": 3
   },
   "file_extension": ".py",
   "mimetype": "text/x-python",
   "name": "python",
   "nbconvert_exporter": "python",
   "pygments_lexer": "ipython3",
   "version": "3.10.13"
  }
 },
 "nbformat": 4,
 "nbformat_minor": 5
}
