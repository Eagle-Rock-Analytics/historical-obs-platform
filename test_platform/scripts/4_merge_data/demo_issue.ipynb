{
 "cells": [
  {
   "cell_type": "markdown",
   "id": "7d9ad49a",
   "metadata": {},
   "source": [
    "# Merge pipeline debugging "
   ]
  },
  {
   "cell_type": "code",
   "execution_count": null,
   "id": "59b26e95",
   "metadata": {},
   "outputs": [],
   "source": [
    "import xarray as xr \n",
    "import pandas as pd\n",
    "import numpy as np\n",
    "import logging\n",
    "\n",
    "from merge_hourly_standardization import merge_hourly_standardization\n",
    "from merge_derive_missing import merge_derive_missing_vars\n",
    "from merge_clean_vars import merge_reorder_vars, merge_drop_vars"
   ]
  },
  {
   "cell_type": "markdown",
   "id": "2c3eb8d5",
   "metadata": {},
   "source": [
    "### 1. Read in a sample zarr, setup for input to function\n",
    "1. Make a simple logger that just prints to the console (required input to function)\n",
    "2. Read in zarr as xr.Dataset \n",
    "3. Convert xr.Dataset --> pd.DataFrame (required input to function)\n",
    "4. Change MultiIndex DataFrame to a flat (single-level) DataFrame, with `time` and `station` as normal columns \n",
    "5. Input DataFrame, variable attributes, and logger to `merge_hourly_standardization`"
   ]
  },
  {
   "cell_type": "code",
   "execution_count": null,
   "id": "81c21496",
   "metadata": {},
   "outputs": [],
   "source": [
    "# Create a simple logger that just prints to the console\n",
    "logging.basicConfig(level=logging.INFO)\n",
    "logger = logging.getLogger()  \n",
    "\n",
    "# Read in zarr as xarray object \n",
    "s3_path = \"s3://wecc-historical-wx/3_qaqc_wx/ASOSAWOS/ASOSAWOS_69007093217.zarr/\"\n",
    "ds = xr.open_zarr(s3_path)\n",
    "var_attrs = {\n",
    "        var: ds[var].attrs for var in list(ds.data_vars.keys())\n",
    "    }  # Attributes from each variable\n",
    "\n",
    "# Convert to dataframe \n",
    "df = ds.to_dataframe()\n",
    "\n",
    "# Set index MultiIndex --> normal df \n",
    "df.reset_index(inplace=True)\n",
    "\n",
    "# Derive missing vars \n",
    "df_after_missing_vars, var_attrs = merge_derive_missing_vars(df, var_attrs, logger)\n",
    "\n",
    "# Input dataframe to merge_hourly_standardization function \n",
    "df_after_merge, var_attrs = merge_hourly_standardization(df_after_missing_vars, var_attrs, logger)\n",
    "\n",
    "# Part 5: Drops raw _qc variables (DECISION TO MAKE) or provide code to filter \n",
    "df_final, var_attrs = merge_drop_vars(df_after_merge, var_attrs)\n",
    "\n",
    "# Part 6: Re-orders variables into final preferred order\n",
    "df_final = merge_reorder_vars(df_final)\n",
    "\n",
    "# Convert to xarray dataset\n",
    "ds = df_final.to_xarray()\n",
    "\n",
    "# Assign attributes for each variable\n",
    "for var, attrs in var_attrs.items():\n",
    "    ds[var] = ds[var].assign_attrs(attrs)"
   ]
  },
  {
   "cell_type": "markdown",
   "id": "18119e83",
   "metadata": {},
   "source": [
    "### 2. Observe the original DataFrame"
   ]
  },
  {
   "cell_type": "code",
   "execution_count": null,
   "id": "36c0395e",
   "metadata": {},
   "outputs": [],
   "source": [
    "df.head()"
   ]
  },
  {
   "cell_type": "markdown",
   "id": "1287d5d8",
   "metadata": {},
   "source": [
    "### 3. Obeserve the output DataFrames"
   ]
  },
  {
   "cell_type": "code",
   "execution_count": null,
   "id": "dd185a19",
   "metadata": {},
   "outputs": [],
   "source": [
    "# df after merge_hourly_standardization function \n",
    "df_after_merge.head()"
   ]
  },
  {
   "cell_type": "code",
   "execution_count": null,
   "id": "eb443e91",
   "metadata": {},
   "outputs": [],
   "source": [
    "# df after merge_derive_missing_vars function \n",
    "df_after_merge.head()"
   ]
  },
  {
   "cell_type": "code",
   "execution_count": null,
   "id": "b3c50bd5",
   "metadata": {},
   "outputs": [],
   "source": [
    "df_final.head()"
   ]
  },
  {
   "cell_type": "code",
   "execution_count": null,
   "id": "0eef5498",
   "metadata": {},
   "outputs": [],
   "source": [
    "list(var_attrs.keys())"
   ]
  },
  {
   "cell_type": "code",
   "execution_count": null,
   "id": "13ce1c37",
   "metadata": {},
   "outputs": [],
   "source": [
    "df_final.columns"
   ]
  }
 ],
 "metadata": {
  "kernelspec": {
   "display_name": "hist-obs",
   "language": "python",
   "name": "python3"
  },
  "language_info": {
   "codemirror_mode": {
    "name": "ipython",
    "version": 3
   },
   "file_extension": ".py",
   "mimetype": "text/x-python",
   "name": "python",
   "nbconvert_exporter": "python",
   "pygments_lexer": "ipython3",
   "version": "3.10.13"
  }
 },
 "nbformat": 4,
 "nbformat_minor": 5
}
