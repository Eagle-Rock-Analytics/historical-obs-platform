{
 "cells": [
  {
   "cell_type": "markdown",
   "id": "081f2a78",
   "metadata": {},
   "source": [
    "# Remove unnecesary variables\n"
   ]
  },
  {
   "cell_type": "markdown",
   "id": "ebe525f3",
   "metadata": {},
   "source": [
    "## Environment set-up"
   ]
  },
  {
   "cell_type": "code",
   "execution_count": null,
   "id": "8c0fc3f4",
   "metadata": {},
   "outputs": [],
   "source": [
    "import boto3\n",
    "import numpy as np\n",
    "import pandas as pd\n",
    "import xarray as xr\n",
    "import matplotlib.pyplot as plt\n",
    "\n",
    "# Silence warnings\n",
    "import warnings\n",
    "from shapely.errors import ShapelyDeprecationWarning\n",
    "\n",
    "warnings.filterwarnings(\"ignore\", category=RuntimeWarning)\n",
    "warnings.filterwarnings(\n",
    "    \"ignore\", category=ShapelyDeprecationWarning\n",
    ")  # Warning is raised when creating Point object from coords. Can't figure out why.\n",
    "\n",
    "plt.rcParams[\"figure.dpi\"] = 300"
   ]
  },
  {
   "cell_type": "code",
   "execution_count": null,
   "id": "f3395254",
   "metadata": {},
   "outputs": [],
   "source": [
    "# AWS credentials\n",
    "s3 = boto3.resource(\"s3\")\n",
    "s3_cl = boto3.client(\"s3\")\n",
    "\n",
    "## AWS buckets\n",
    "bucket = \"wecc-historical-wx\"\n",
    "cleandir = \"2_clean_wx/\"\n",
    "qaqcdir = \"3_qaqc_wx/\"\n",
    "mergedir = \"4_merge_wx/\""
   ]
  },
  {
   "cell_type": "code",
   "execution_count": null,
   "id": "dc9739b5",
   "metadata": {},
   "outputs": [],
   "source": [
    "def merge_ds_to_df(ds):\n",
    "    \"\"\"Converts xarray ds for a station to pandas df in the format needed for processing.\n",
    "\n",
    "    Parameters\n",
    "    ----------\n",
    "    ds: xr.Dataset\n",
    "        Data object with information about each network and station\n",
    "    verbose: boolean\n",
    "        Flag as to whether to print runtime statements to terminal. Default is False. Set in ALLNETWORKS_merge.py run.\n",
    "\n",
    "    Returns\n",
    "    -------\n",
    "    df: pd.DataFrame\n",
    "        Table object with information about each network and station\n",
    "    MultiIndex: pd.DataFrame (I think)\n",
    "        Original multi-index of station and time, to be used on conversion back to ds\n",
    "    attrs:\n",
    "        Save ds attributes to inherent to the final merged file\n",
    "    var_attrs:\n",
    "        Save variable attributes to inherent to the final merged file\n",
    "    \"\"\"\n",
    "\n",
    "    # Save attributes to inherent them to the final merged file\n",
    "    attrs = ds.attrs\n",
    "    var_attrs = {var: ds[var].attrs for var in list(ds.data_vars.keys())}\n",
    "\n",
    "    with warnings.catch_warnings():\n",
    "        warnings.filterwarnings(\"ignore\", category=RuntimeWarning)\n",
    "        df = ds.to_dataframe()\n",
    "\n",
    "    # Save instrumentation heights\n",
    "    if \"anemometer_height_m\" not in df.columns:\n",
    "        try:\n",
    "            df[\"anemometer_height_m\"] = (\n",
    "                np.ones(ds[\"time\"].shape) * ds.anemometer_height_m\n",
    "            )\n",
    "        except:\n",
    "            logger.info(\"Filling anemometer_height_m with NaN.\")\n",
    "            df[\"anemometer_height_m\"] = np.ones(len(df)) * np.nan\n",
    "        finally:\n",
    "            pass\n",
    "    if \"thermometer_height_m\" not in df.columns:\n",
    "        try:\n",
    "            df[\"thermometer_height_m\"] = (\n",
    "                np.ones(ds[\"time\"].shape) * ds.thermometer_height_m\n",
    "            )\n",
    "        except:\n",
    "            logger.info(\"Filling thermometer_height_m with NaN.\")\n",
    "            df[\"thermometer_height_m\"] = np.ones(len(df)) * np.nan\n",
    "        finally:\n",
    "            pass\n",
    "\n",
    "    # De-duplicate time axis\n",
    "    df = df[~df.index.duplicated()].sort_index()\n",
    "\n",
    "    # Save station/time multiindex\n",
    "    MultiIndex = df.index\n",
    "    station = df.index.get_level_values(0)\n",
    "    df[\"station\"] = station\n",
    "\n",
    "    # Station pd.Series to str\n",
    "    station = station.unique().values[0]\n",
    "\n",
    "    # Convert time/station index to columns and reset index\n",
    "    df = df.droplevel(0).reset_index()\n",
    "\n",
    "    return df, MultiIndex, attrs, var_attrs"
   ]
  },
  {
   "cell_type": "markdown",
   "id": "4c82aa27",
   "metadata": {},
   "source": [
    "## Testing"
   ]
  },
  {
   "cell_type": "markdown",
   "id": "b8b2d649",
   "metadata": {},
   "source": [
    "### Load in datasets for testing"
   ]
  },
  {
   "cell_type": "code",
   "execution_count": null,
   "id": "12057a96",
   "metadata": {},
   "outputs": [],
   "source": [
    "url = \"s3://wecc-historical-wx/3_qaqc_wx/ASOSAWOS/ASOSAWOS_69007093217.zarr\"\n",
    "ds_a = xr.open_zarr(url)"
   ]
  },
  {
   "cell_type": "code",
   "execution_count": null,
   "id": "acdb5934",
   "metadata": {},
   "outputs": [],
   "source": [
    "url = \"s3://wecc-historical-wx/3_qaqc_wx/MARITIME/MARITIME_ANVC1.zarr\"\n",
    "ds_m = xr.open_zarr(url)"
   ]
  },
  {
   "cell_type": "code",
   "execution_count": null,
   "id": "dfe3deee",
   "metadata": {},
   "outputs": [],
   "source": [
    "url = \"s3://wecc-historical-wx/3_qaqc_wx/VALLEYWATER/VALLEYWATER_6001.zarr\"\n",
    "ds_v = xr.open_zarr(url)"
   ]
  },
  {
   "cell_type": "code",
   "execution_count": 29,
   "id": "62443109",
   "metadata": {},
   "outputs": [],
   "source": [
    "df, MultiIndex, attrs, var_attrs = merge_ds_to_df(ds_a)"
   ]
  },
  {
   "cell_type": "markdown",
   "id": "b37748d0",
   "metadata": {},
   "source": [
    "### Define function"
   ]
  },
  {
   "cell_type": "code",
   "execution_count": null,
   "id": "3d9bc31f",
   "metadata": {},
   "outputs": [],
   "source": [
    "def delete_vars(df: pd.DataFrame, var_attrs: dict) -> tuple[pd.DataFrame, dict]:\n",
    "    \"\"\"\n",
    "    Keep “_eraqc” vars and drop the following variables\n",
    "    \n",
    "        - qaqc_process\n",
    "        - pr_duration\n",
    "        - pr_depth\n",
    "        - PREC_flag\n",
    "        - rsds_duration\n",
    "        - rsds_flag\n",
    "        - q_code\n",
    "        - any \"_qc\" or \"method \"variable\n",
    "\n",
    "    Parameters\n",
    "    ------\n",
    "    df: pd.DataFrame\n",
    "        station data\n",
    "    var_attrs: dict\n",
    "        variable attributes\n",
    "\n",
    "    Returns\n",
    "    -------\n",
    "    if success:\n",
    "        df: pd.DataFrame\n",
    "        var_attrs: dict\n",
    "\n",
    "    if failure:\n",
    "        None\n",
    "    \"\"\"\n",
    "    drop_vars_keywords = [\n",
    "        \"qaqc_process\",\n",
    "        \"pr_duration\",\n",
    "        \"pr_depth\",\n",
    "        \"PREC_flag\",\n",
    "        \"rsds_duration\",\n",
    "        \"rsds_flag\",\n",
    "        \"_qc\",\n",
    "        \"method\"\n",
    "    ]\n",
    "\n",
    "    # Select variables that contain the keywords defined above\n",
    "    drop_vars = [\n",
    "        i for keyword in drop_vars_keywords for i in df.columns if keyword in i\n",
    "    ]\n",
    "\n",
    "    # Remove those variables\n",
    "    df = df.drop(columns=drop_vars)\n",
    "\n",
    "    # Remove the attributes of the dropped variables\n",
    "    for key in drop_vars_keywords:\n",
    "        if key in var_attrs:\n",
    "            del var_attrs[key]\n",
    "\n",
    "    return df, var_attrs"
   ]
  },
  {
   "cell_type": "markdown",
   "id": "bbec20d5",
   "metadata": {},
   "source": [
    "### Test"
   ]
  },
  {
   "cell_type": "code",
   "execution_count": 33,
   "id": "97de89fd",
   "metadata": {},
   "outputs": [],
   "source": [
    "df_test, attrs_test = delete_vars(df,var_attrs)"
   ]
  },
  {
   "cell_type": "code",
   "execution_count": 34,
   "id": "7adfec3e",
   "metadata": {},
   "outputs": [
    {
     "data": {
      "text/plain": [
       "Index(['time', 'anemometer_height_m', 'elevation', 'elevation_eraqc', 'lat',\n",
       "       'lon', 'pr', 'pr_eraqc', 'ps_altimeter', 'ps_altimeter_eraqc', 'psl',\n",
       "       'psl_eraqc', 'sfcWind', 'sfcWind_dir', 'sfcWind_dir_eraqc',\n",
       "       'sfcWind_eraqc', 'tas', 'tas_eraqc', 'tdps', 'tdps_eraqc',\n",
       "       'thermometer_height_m', 'station'],\n",
       "      dtype='object')"
      ]
     },
     "execution_count": 34,
     "metadata": {},
     "output_type": "execute_result"
    }
   ],
   "source": [
    "df_test.columns"
   ]
  },
  {
   "cell_type": "code",
   "execution_count": 35,
   "id": "d2a35160",
   "metadata": {},
   "outputs": [
    {
     "data": {
      "text/plain": [
       "{'anemometer_height_m': {},\n",
       " 'elevation': {'ancillary_variables': 'elevation_eraqc',\n",
       "  'long_name': 'station_elevation',\n",
       "  'positive': 'up',\n",
       "  'standard_name': 'height_above_mean_sea_level',\n",
       "  'units': 'meter'},\n",
       " 'elevation_eraqc': {},\n",
       " 'lat': {},\n",
       " 'lon': {},\n",
       " 'pr': {'ancillary_variables': 'pr_qc pr_depth_qc pr_duration, pr_eraqc',\n",
       "  'comment': '',\n",
       "  'long_name': 'precipitation_accumuation',\n",
       "  'units': 'mm/?'},\n",
       " 'pr_depth_qc': {'flag_meanings': 'See QA/QC csv for network.',\n",
       "  'flag_values': '1 2 3 4 5 6 7 8 E I J 9'},\n",
       " 'pr_eraqc': {},\n",
       " 'pr_qc': {'flag_meanings': 'See QA/QC csv for network.',\n",
       "  'flag_values': '0 1 2 3 4 5 6 7 9 A I M P R U'},\n",
       " 'ps_altimeter': {'ancillary_variables': 'ps ps_qc ps_altimeter ps_altimeter_qc, ps_altimeter_eraqc',\n",
       "  'comment': 'Converted from hPa to Pa. The pressure value to which an aircraft altimeter is set so that it will indicate the altitude relative to mean sea level of an aircraft on the ground at the location for which the value was determined.',\n",
       "  'long_name': 'altimeter_setting',\n",
       "  'units': 'Pa'},\n",
       " 'ps_altimeter_eraqc': {},\n",
       " 'ps_altimeter_qc': {'flag_meanings': 'See QA/QC csv for network.',\n",
       "  'flag_values': '0 1 2 3 4 5 6 7 M 9'},\n",
       " 'ps_qc': {'flag_meanings': 'See QA/QC csv for network.',\n",
       "  'flag_values': '0 1 2 3 4 5 6 7 M 9'},\n",
       " 'psl': {'ancillary_variables': 'psl_eraqc'},\n",
       " 'psl_eraqc': {},\n",
       " 'psl_qc': {},\n",
       " 'sfcWind': {'ancillary_variables': 'sfcWind_qc sfcWind_method, sfcWind_eraqc',\n",
       "  'comment': 'Method of wind speed calculation varies, see sfcWind_method.',\n",
       "  'long_name': 'wind_speed',\n",
       "  'standard_name': 'wind_speed',\n",
       "  'units': 'm s-1'},\n",
       " 'sfcWind_dir': {'ancillary_variables': 'sfcWind_dir_qc, sfcWind_dir_eraqc',\n",
       "  'long_name': 'wind_direction',\n",
       "  'standard_name': 'wind_from_direction',\n",
       "  'units': 'degrees_clockwise_from_north'},\n",
       " 'sfcWind_dir_eraqc': {},\n",
       " 'sfcWind_dir_qc': {'flag_meanings': 'See QA/QC csv for network.',\n",
       "  'flag_values': '0 1 2 3 4 5 6 7 9'},\n",
       " 'sfcWind_eraqc': {},\n",
       " 'sfcWind_method': {'flag_meanings': 'See QA/QC csv for network.',\n",
       "  'flag_values': '0 1 2 3 4 5 6 7 9',\n",
       "  'long_name': 'wind_speed_calculation_method'},\n",
       " 'sfcWind_qc': {},\n",
       " 'tas': {'ancillary_variables': 'tas_qc, tas_eraqc',\n",
       "  'comment': 'Converted from Celsius.',\n",
       "  'long_name': 'air_temperature',\n",
       "  'standard_name': 'air_temperature',\n",
       "  'units': 'degree_Kelvin'},\n",
       " 'tas_eraqc': {},\n",
       " 'tas_qc': {'flag_meanings': 'See QA/QC csv for network.',\n",
       "  'flag_values': '0 1 2 3 4 5 6 7 9 A C I M P R U'},\n",
       " 'tdps': {'ancillary_variables': 'tdps_qc, tdps_eraqc',\n",
       "  'comment': 'Converted from Celsius.',\n",
       "  'long_name': 'dew_point_temperature',\n",
       "  'standard_name': 'dew_point_temperature',\n",
       "  'units': 'degree_Kelvin'},\n",
       " 'tdps_eraqc': {},\n",
       " 'tdps_qc': {'flag_meanings': 'See QA/QC csv for network.',\n",
       "  'flag_values': '0 1 2 3 4 5 6 7 9 A C I M P R U'},\n",
       " 'thermometer_height_m': {}}"
      ]
     },
     "execution_count": 35,
     "metadata": {},
     "output_type": "execute_result"
    }
   ],
   "source": [
    "attrs_test"
   ]
  }
 ],
 "metadata": {
  "kernelspec": {
   "display_name": "hist-obs",
   "language": "python",
   "name": "python3"
  },
  "language_info": {
   "codemirror_mode": {
    "name": "ipython",
    "version": 3
   },
   "file_extension": ".py",
   "mimetype": "text/x-python",
   "name": "python",
   "nbconvert_exporter": "python",
   "pygments_lexer": "ipython3",
   "version": "3.10.13"
  }
 },
 "nbformat": 4,
 "nbformat_minor": 5
}
