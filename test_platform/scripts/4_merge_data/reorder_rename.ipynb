{
 "cells": [
  {
   "cell_type": "markdown",
   "id": "0da6896d",
   "metadata": {},
   "source": [
    "# Set final variable order \n"
   ]
  },
  {
   "cell_type": "markdown",
   "id": "c8c23702",
   "metadata": {},
   "source": [
    "Set final order, for consistency."
   ]
  },
  {
   "cell_type": "markdown",
   "id": "cb13a136",
   "metadata": {},
   "source": [
    "## Environment set-up"
   ]
  },
  {
   "cell_type": "code",
   "execution_count": null,
   "id": "7d8d9f4f",
   "metadata": {},
   "outputs": [],
   "source": [
    "import datetime\n",
    "import boto3\n",
    "import geopandas as gpd\n",
    "import numpy as np\n",
    "import pandas as pd\n",
    "import xarray as xr\n",
    "import matplotlib.pyplot as plt\n",
    "from io import BytesIO, StringIO\n",
    "\n",
    "# Silence warnings\n",
    "import warnings\n",
    "from shapely.errors import ShapelyDeprecationWarning\n",
    "\n",
    "warnings.filterwarnings(\"ignore\", category=RuntimeWarning)\n",
    "warnings.filterwarnings(\n",
    "    \"ignore\", category=ShapelyDeprecationWarning\n",
    ")  # Warning is raised when creating Point object from coords. Can't figure out why.\n",
    "\n",
    "plt.rcParams[\"figure.dpi\"] = 300"
   ]
  },
  {
   "cell_type": "code",
   "execution_count": 2,
   "id": "19df352f",
   "metadata": {},
   "outputs": [],
   "source": [
    "# AWS credentials\n",
    "s3 = boto3.resource(\"s3\")\n",
    "s3_cl = boto3.client(\"s3\")\n",
    "\n",
    "## AWS buckets\n",
    "bucket = \"wecc-historical-wx\"\n",
    "cleandir = '2_clean_wx/'\n",
    "qaqcdir = \"3_qaqc_wx/\"\n",
    "mergedir = \"4_merge_wx/\""
   ]
  },
  {
   "cell_type": "markdown",
   "id": "813327ac",
   "metadata": {},
   "source": [
    "## Step 1: Reorder Columns"
   ]
  },
  {
   "cell_type": "markdown",
   "id": "daa327c4",
   "metadata": {},
   "source": [
    "Load in datasets from VALLEYWATER, ASOSAWOS, and MARITIME for testing"
   ]
  },
  {
   "cell_type": "code",
   "execution_count": 3,
   "id": "8292cb8a",
   "metadata": {},
   "outputs": [],
   "source": [
    "url = \"s3://wecc-historical-wx/3_qaqc_wx/ASOSAWOS/ASOSAWOS_69007093217.zarr\"\n",
    "ds = xr.open_zarr(url)\n",
    "df_a = ds.to_dataframe()"
   ]
  },
  {
   "cell_type": "code",
   "execution_count": 53,
   "id": "e95a4c0e",
   "metadata": {},
   "outputs": [],
   "source": [
    "url = \"s3://wecc-historical-wx/3_qaqc_wx/MARITIME/MARITIME_ANVC1.zarr\"\n",
    "ds = xr.open_zarr(url)\n",
    "df_m = ds.to_dataframe()"
   ]
  },
  {
   "cell_type": "code",
   "execution_count": 54,
   "id": "e04c6f34",
   "metadata": {},
   "outputs": [],
   "source": [
    "url = \"s3://wecc-historical-wx/3_qaqc_wx/VALLEYWATER/VALLEYWATER_6001.zarr\"\n",
    "ds = xr.open_zarr(url)\n",
    "df_v = ds.to_dataframe()"
   ]
  },
  {
   "cell_type": "code",
   "execution_count": null,
   "id": "070f0188",
   "metadata": {},
   "outputs": [],
   "source": [
    "def reorder_variables(df: pd.DataFrame) -> pd.DataFrame:\n",
    "    \"\"\"\n",
    "    Reorders input dataframe columns\n",
    "\n",
    "    Rules\n",
    "    ------\n",
    "        1.) Non-qaqc variables that start with the strings in \"desired_order\" come first,\n",
    "            followed by their associated qaqc variables, followed by all remaining variables\n",
    "\n",
    "    Parameters\n",
    "    ------\n",
    "    df: pd.DataFrame\n",
    "\n",
    "    Returns\n",
    "    -------\n",
    "    if success:\n",
    "        df: pd.DataFrame\n",
    "\n",
    "    if failure:\n",
    "        None\n",
    "\n",
    "    Notes\n",
    "    -------\n",
    "\n",
    "    \"\"\"\n",
    "    # Reorder variables\n",
    "    desired_order = [\n",
    "        \"ps\",\n",
    "        \"tas\",\n",
    "        \"tdps\",\n",
    "        \"pr\",\n",
    "        \"hurs\",\n",
    "        \"rsds\",\n",
    "        \"sfcWind\",\n",
    "        \"pvp\",\n",
    "        \"svp\",\n",
    "        ]\n",
    "\n",
    "    # Select variables with names that start with those in \"desired_order\"\n",
    "    new_order = [\n",
    "        i for keyword in desired_order for i in df.columns if i.startswith(keyword)\n",
    "    ]\n",
    "\n",
    "    # Now split them into qaqc and non-qaqc variables\n",
    "    qaqc_vars = [i for i in new_order if \"qc\" in i]\n",
    "    nonqaqc_vars = [i for i in new_order if i not in qaqc_vars]\n",
    "\n",
    "    # Now store all remaining columns\n",
    "    rest_of_vars = [\n",
    "        i for i in list(df.columns) if i not in new_order\n",
    "    ]  \n",
    "\n",
    "    # Generate the complete list of variables, in the correct order\n",
    "    final_order = nonqaqc_vars + qaqc_vars + rest_of_vars\n",
    "\n",
    "    # Remove 'method' and 'duration' vars\n",
    "    final_order = [\n",
    "        i for i in final_order if not any(sub in i for sub in [\"duration\", \"method\"])\n",
    "    ]\n",
    "\n",
    "    # Use that list to reorder the columns in \"df\"\n",
    "    df = df[final_order]\n",
    "\n",
    "    return df"
   ]
  },
  {
   "cell_type": "code",
   "execution_count": 80,
   "id": "0ad5c993",
   "metadata": {},
   "outputs": [
    {
     "data": {
      "text/html": [
       "<div>\n",
       "<style scoped>\n",
       "    .dataframe tbody tr th:only-of-type {\n",
       "        vertical-align: middle;\n",
       "    }\n",
       "\n",
       "    .dataframe tbody tr th {\n",
       "        vertical-align: top;\n",
       "    }\n",
       "\n",
       "    .dataframe thead th {\n",
       "        text-align: right;\n",
       "    }\n",
       "</style>\n",
       "<table border=\"1\" class=\"dataframe\">\n",
       "  <thead>\n",
       "    <tr style=\"text-align: right;\">\n",
       "      <th></th>\n",
       "      <th></th>\n",
       "      <th>pr_15min</th>\n",
       "      <th>elevation_eraqc</th>\n",
       "      <th>pr_15min_eraqc</th>\n",
       "      <th>raw_qc</th>\n",
       "      <th>anemometer_height_m</th>\n",
       "      <th>elevation</th>\n",
       "      <th>elevation_eraqc</th>\n",
       "      <th>lat</th>\n",
       "      <th>lon</th>\n",
       "      <th>pr_15min_eraqc</th>\n",
       "      <th>raw_qc</th>\n",
       "      <th>thermometer_height_m</th>\n",
       "    </tr>\n",
       "    <tr>\n",
       "      <th>station</th>\n",
       "      <th>time</th>\n",
       "      <th></th>\n",
       "      <th></th>\n",
       "      <th></th>\n",
       "      <th></th>\n",
       "      <th></th>\n",
       "      <th></th>\n",
       "      <th></th>\n",
       "      <th></th>\n",
       "      <th></th>\n",
       "      <th></th>\n",
       "      <th></th>\n",
       "      <th></th>\n",
       "    </tr>\n",
       "  </thead>\n",
       "  <tbody>\n",
       "    <tr>\n",
       "      <th rowspan=\"2\" valign=\"top\">VALLEYWATER_6001</th>\n",
       "      <th>1985-02-07 20:30:00</th>\n",
       "      <td>0.0</td>\n",
       "      <td>3.0</td>\n",
       "      <td>NaN</td>\n",
       "      <td>Approved</td>\n",
       "      <td>NaN</td>\n",
       "      <td>0.0</td>\n",
       "      <td>3.0</td>\n",
       "      <td>37.2471</td>\n",
       "      <td>-121.871</td>\n",
       "      <td>NaN</td>\n",
       "      <td>Approved</td>\n",
       "      <td>NaN</td>\n",
       "    </tr>\n",
       "    <tr>\n",
       "      <th>1985-02-07 20:45:00</th>\n",
       "      <td>0.0</td>\n",
       "      <td>3.0</td>\n",
       "      <td>NaN</td>\n",
       "      <td>Approved</td>\n",
       "      <td>NaN</td>\n",
       "      <td>0.0</td>\n",
       "      <td>3.0</td>\n",
       "      <td>37.2471</td>\n",
       "      <td>-121.871</td>\n",
       "      <td>NaN</td>\n",
       "      <td>Approved</td>\n",
       "      <td>NaN</td>\n",
       "    </tr>\n",
       "  </tbody>\n",
       "</table>\n",
       "</div>"
      ],
      "text/plain": [
       "                                      pr_15min  elevation_eraqc  \\\n",
       "station          time                                             \n",
       "VALLEYWATER_6001 1985-02-07 20:30:00       0.0              3.0   \n",
       "                 1985-02-07 20:45:00       0.0              3.0   \n",
       "\n",
       "                                      pr_15min_eraqc    raw_qc  \\\n",
       "station          time                                            \n",
       "VALLEYWATER_6001 1985-02-07 20:30:00             NaN  Approved   \n",
       "                 1985-02-07 20:45:00             NaN  Approved   \n",
       "\n",
       "                                      anemometer_height_m  elevation  \\\n",
       "station          time                                                  \n",
       "VALLEYWATER_6001 1985-02-07 20:30:00                  NaN        0.0   \n",
       "                 1985-02-07 20:45:00                  NaN        0.0   \n",
       "\n",
       "                                      elevation_eraqc      lat      lon  \\\n",
       "station          time                                                     \n",
       "VALLEYWATER_6001 1985-02-07 20:30:00              3.0  37.2471 -121.871   \n",
       "                 1985-02-07 20:45:00              3.0  37.2471 -121.871   \n",
       "\n",
       "                                      pr_15min_eraqc    raw_qc  \\\n",
       "station          time                                            \n",
       "VALLEYWATER_6001 1985-02-07 20:30:00             NaN  Approved   \n",
       "                 1985-02-07 20:45:00             NaN  Approved   \n",
       "\n",
       "                                      thermometer_height_m  \n",
       "station          time                                       \n",
       "VALLEYWATER_6001 1985-02-07 20:30:00                   NaN  \n",
       "                 1985-02-07 20:45:00                   NaN  "
      ]
     },
     "execution_count": 80,
     "metadata": {},
     "output_type": "execute_result"
    }
   ],
   "source": [
    "df_test = reorder_variables(df_v)\n",
    "df_test.head(2)"
   ]
  }
 ],
 "metadata": {
  "kernelspec": {
   "display_name": "hist-obs",
   "language": "python",
   "name": "python3"
  },
  "language_info": {
   "codemirror_mode": {
    "name": "ipython",
    "version": 3
   },
   "file_extension": ".py",
   "mimetype": "text/x-python",
   "name": "python",
   "nbconvert_exporter": "python",
   "pygments_lexer": "ipython3",
   "version": "3.10.13"
  }
 },
 "nbformat": 4,
 "nbformat_minor": 5
}
