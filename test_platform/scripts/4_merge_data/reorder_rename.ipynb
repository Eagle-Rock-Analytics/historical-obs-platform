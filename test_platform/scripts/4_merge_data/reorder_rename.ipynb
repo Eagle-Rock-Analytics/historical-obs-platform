{
 "cells": [
  {
   "cell_type": "markdown",
   "id": "0da6896d",
   "metadata": {},
   "source": [
    "# Set final variable order and names\n"
   ]
  },
  {
   "cell_type": "markdown",
   "id": "c8c23702",
   "metadata": {},
   "source": [
    "Set final order and names of variables, for consistency."
   ]
  },
  {
   "cell_type": "markdown",
   "id": "cb13a136",
   "metadata": {},
   "source": [
    "## Environment set-up"
   ]
  },
  {
   "cell_type": "code",
   "execution_count": 3,
   "id": "7d8d9f4f",
   "metadata": {},
   "outputs": [],
   "source": [
    "import datetime\n",
    "import boto3\n",
    "import geopandas as gpd\n",
    "import numpy as np\n",
    "import pandas as pd\n",
    "import xarray as xr\n",
    "import matplotlib.pyplot as plt\n",
    "from io import BytesIO, StringIO\n",
    "\n",
    "# Silence warnings\n",
    "import warnings\n",
    "from shapely.errors import ShapelyDeprecationWarning\n",
    "\n",
    "warnings.filterwarnings(\"ignore\", category=RuntimeWarning)\n",
    "warnings.filterwarnings(\n",
    "    \"ignore\", category=ShapelyDeprecationWarning\n",
    ")  # Warning is raised when creating Point object from coords. Can't figure out why.\n",
    "\n",
    "plt.rcParams[\"figure.dpi\"] = 300"
   ]
  },
  {
   "cell_type": "code",
   "execution_count": 4,
   "id": "19df352f",
   "metadata": {},
   "outputs": [],
   "source": [
    "# AWS credentials\n",
    "s3 = boto3.resource(\"s3\")\n",
    "s3_cl = boto3.client(\"s3\")\n",
    "\n",
    "## AWS buckets\n",
    "bucket = \"wecc-historical-wx\"\n",
    "cleandir = '2_clean_wx/'\n",
    "qaqcdir = \"3_qaqc_wx/\"\n",
    "mergedir = \"4_merge_wx/\""
   ]
  },
  {
   "cell_type": "markdown",
   "id": "813327ac",
   "metadata": {},
   "source": [
    "## Step 1: Assess differences in order and names"
   ]
  },
  {
   "cell_type": "markdown",
   "id": "daa327c4",
   "metadata": {},
   "source": [
    "Load in datasets from VALLEYWATER, ASOSAWOS, and MARITIME. "
   ]
  },
  {
   "cell_type": "code",
   "execution_count": 5,
   "id": "8292cb8a",
   "metadata": {},
   "outputs": [],
   "source": [
    "url = \"s3://wecc-historical-wx/3_qaqc_wx/ASOSAWOS/ASOSAWOS_69007093217.zarr\"\n",
    "ds = xr.open_zarr(url)\n",
    "df_a = ds.to_dataframe()"
   ]
  },
  {
   "cell_type": "code",
   "execution_count": 6,
   "id": "e95a4c0e",
   "metadata": {},
   "outputs": [],
   "source": [
    "url = \"s3://wecc-historical-wx/3_qaqc_wx/MARITIME/MARITIME_ANVC1.zarr\"\n",
    "ds = xr.open_zarr(url)\n",
    "df_m = ds.to_dataframe()"
   ]
  },
  {
   "cell_type": "code",
   "execution_count": 7,
   "id": "e04c6f34",
   "metadata": {},
   "outputs": [],
   "source": [
    "url = \"s3://wecc-historical-wx/3_qaqc_wx/VALLEYWATER/VALLEYWATER_6001.zarr\"\n",
    "ds = xr.open_zarr(url)\n",
    "df_v = ds.to_dataframe()"
   ]
  },
  {
   "cell_type": "code",
   "execution_count": 12,
   "id": "b694f690",
   "metadata": {},
   "outputs": [
    {
     "name": "stdout",
     "output_type": "stream",
     "text": [
      "Index(['anemometer_height_m', 'elevation', 'elevation_eraqc', 'lat', 'lon',\n",
      "       'pr', 'pr_depth_qc', 'pr_duration', 'pr_eraqc', 'pr_qc', 'ps_altimeter',\n",
      "       'ps_altimeter_eraqc', 'ps_altimeter_qc', 'ps_qc', 'psl', 'psl_eraqc',\n",
      "       'psl_qc', 'qaqc_process', 'sfcWind', 'sfcWind_dir', 'sfcWind_dir_eraqc',\n",
      "       'sfcWind_dir_qc', 'sfcWind_eraqc', 'sfcWind_method', 'sfcWind_qc',\n",
      "       'tas', 'tas_eraqc', 'tas_qc', 'tdps', 'tdps_eraqc', 'tdps_qc',\n",
      "       'thermometer_height_m'],\n",
      "      dtype='object')\n",
      "Index(['anemometer_height_m', 'elevation', 'elevation_eraqc', 'lat', 'lon',\n",
      "       'ps', 'ps_eraqc', 'sfcWind', 'sfcWind_dir', 'sfcWind_dir_eraqc',\n",
      "       'sfcWind_eraqc', 'tas', 'tas_eraqc', 'thermometer_height_m'],\n",
      "      dtype='object')\n",
      "Index(['anemometer_height_m', 'elevation', 'elevation_eraqc', 'lat', 'lon',\n",
      "       'pr_15min', 'pr_15min_eraqc', 'raw_qc', 'thermometer_height_m'],\n",
      "      dtype='object')\n"
     ]
    }
   ],
   "source": [
    "print(df_a.columns)\n",
    "print(df_m.columns)\n",
    "print(df_v.columns)"
   ]
  },
  {
   "cell_type": "code",
   "execution_count": null,
   "id": "8c9875c1",
   "metadata": {},
   "outputs": [],
   "source": [
    "# define standard order and name\n",
    "\n",
    "var_order = [] \n",
    "# could be alphabetical within types perhaps\n",
    "## all containing 'qc' at the end\n",
    "##\n",
    "var_names = {} # this could be a library"
   ]
  },
  {
   "cell_type": "code",
   "execution_count": 71,
   "id": "070f0188",
   "metadata": {},
   "outputs": [],
   "source": [
    "def reorder_rename(df) -> pd.DataFrame:\n",
    "    \"\"\"\n",
    "\n",
    "\n",
    "    Rules\n",
    "    ------\n",
    "        1.)\n",
    "    Parameters\n",
    "    ------\n",
    "        df: pd.DataFrame\n",
    "\n",
    "    Returns\n",
    "    -------\n",
    "        if success:\n",
    "\n",
    "        if failure:\n",
    "            None\n",
    "    Notes\n",
    "    -------\n",
    "\n",
    "    \"\"\"\n",
    "    # Reorder variables\n",
    "    desired_order = [\n",
    "        \"ps\",\n",
    "        \"tas\",\n",
    "        \"tdps\",\n",
    "        \"pr\",\n",
    "        \"hurs\",\n",
    "        \"rsds\",\n",
    "        \"sfcWind\",\n",
    "        \"sfcWind_dir\",\n",
    "        \"pvp\",\n",
    "        \"svp\",\n",
    "        ]\n",
    "\n",
    "    #actual_order = [i for i in desired_order if i.str.contains(desired_order)] #change to if includes string\n",
    "    actual_order = [i for i in desired_order if i in list(df.columns)]\n",
    "\n",
    "    # extract qaqc variables, to be sent to the back\n",
    "\n",
    "    qaqc_vars = [i for i in actual_order if i ]\n",
    "\n",
    "    rest_of_vars = [\n",
    "        i for i in list(df.columns) if i not in desired_order\n",
    "    ]  # Retain rest of variables at the bottom\n",
    "\n",
    "    new_order = actual_order + rest_of_vars\n",
    "\n",
    "    df = df[new_order]\n",
    "\n",
    "    # remove 'method' and 'duration vars\n",
    "\n",
    "    return df"
   ]
  },
  {
   "cell_type": "code",
   "execution_count": 72,
   "id": "0ad5c993",
   "metadata": {},
   "outputs": [
    {
     "data": {
      "text/html": [
       "<div>\n",
       "<style scoped>\n",
       "    .dataframe tbody tr th:only-of-type {\n",
       "        vertical-align: middle;\n",
       "    }\n",
       "\n",
       "    .dataframe tbody tr th {\n",
       "        vertical-align: top;\n",
       "    }\n",
       "\n",
       "    .dataframe thead th {\n",
       "        text-align: right;\n",
       "    }\n",
       "</style>\n",
       "<table border=\"1\" class=\"dataframe\">\n",
       "  <thead>\n",
       "    <tr style=\"text-align: right;\">\n",
       "      <th></th>\n",
       "      <th></th>\n",
       "      <th>tas</th>\n",
       "      <th>tdps</th>\n",
       "      <th>pr</th>\n",
       "      <th>sfcWind</th>\n",
       "      <th>sfcWind_dir</th>\n",
       "      <th>anemometer_height_m</th>\n",
       "      <th>elevation</th>\n",
       "      <th>elevation_eraqc</th>\n",
       "      <th>lat</th>\n",
       "      <th>lon</th>\n",
       "      <th>...</th>\n",
       "      <th>sfcWind_dir_eraqc</th>\n",
       "      <th>sfcWind_dir_qc</th>\n",
       "      <th>sfcWind_eraqc</th>\n",
       "      <th>sfcWind_method</th>\n",
       "      <th>sfcWind_qc</th>\n",
       "      <th>tas_eraqc</th>\n",
       "      <th>tas_qc</th>\n",
       "      <th>tdps_eraqc</th>\n",
       "      <th>tdps_qc</th>\n",
       "      <th>thermometer_height_m</th>\n",
       "    </tr>\n",
       "    <tr>\n",
       "      <th>station</th>\n",
       "      <th>time</th>\n",
       "      <th></th>\n",
       "      <th></th>\n",
       "      <th></th>\n",
       "      <th></th>\n",
       "      <th></th>\n",
       "      <th></th>\n",
       "      <th></th>\n",
       "      <th></th>\n",
       "      <th></th>\n",
       "      <th></th>\n",
       "      <th></th>\n",
       "      <th></th>\n",
       "      <th></th>\n",
       "      <th></th>\n",
       "      <th></th>\n",
       "      <th></th>\n",
       "      <th></th>\n",
       "      <th></th>\n",
       "      <th></th>\n",
       "      <th></th>\n",
       "      <th></th>\n",
       "    </tr>\n",
       "  </thead>\n",
       "  <tbody>\n",
       "    <tr>\n",
       "      <th rowspan=\"2\" valign=\"top\">ASOSAWOS_69007093217</th>\n",
       "      <th>1991-01-02 12:00:00</th>\n",
       "      <td>19</td>\n",
       "      <td>19</td>\n",
       "      <td>0.0</td>\n",
       "      <td>4.1</td>\n",
       "      <td>90.0</td>\n",
       "      <td>NaN</td>\n",
       "      <td>41.0</td>\n",
       "      <td>NaN</td>\n",
       "      <td>36.683</td>\n",
       "      <td>-121.767</td>\n",
       "      <td>...</td>\n",
       "      <td>NaN</td>\n",
       "      <td>1</td>\n",
       "      <td>NaN</td>\n",
       "      <td>N</td>\n",
       "      <td>1</td>\n",
       "      <td>NaN</td>\n",
       "      <td>1</td>\n",
       "      <td>28.0</td>\n",
       "      <td>1</td>\n",
       "      <td>NaN</td>\n",
       "    </tr>\n",
       "    <tr>\n",
       "      <th>1991-01-02 13:00:00</th>\n",
       "      <td>19</td>\n",
       "      <td>19</td>\n",
       "      <td>NaN</td>\n",
       "      <td>3.6</td>\n",
       "      <td>90.0</td>\n",
       "      <td>NaN</td>\n",
       "      <td>41.0</td>\n",
       "      <td>NaN</td>\n",
       "      <td>36.683</td>\n",
       "      <td>-121.767</td>\n",
       "      <td>...</td>\n",
       "      <td>NaN</td>\n",
       "      <td>1</td>\n",
       "      <td>NaN</td>\n",
       "      <td>N</td>\n",
       "      <td>1</td>\n",
       "      <td>NaN</td>\n",
       "      <td>1</td>\n",
       "      <td>28.0</td>\n",
       "      <td>1</td>\n",
       "      <td>NaN</td>\n",
       "    </tr>\n",
       "  </tbody>\n",
       "</table>\n",
       "<p>2 rows × 32 columns</p>\n",
       "</div>"
      ],
      "text/plain": [
       "                                          tas  tdps   pr  sfcWind  \\\n",
       "station              time                                           \n",
       "ASOSAWOS_69007093217 1991-01-02 12:00:00   19    19  0.0      4.1   \n",
       "                     1991-01-02 13:00:00   19    19  NaN      3.6   \n",
       "\n",
       "                                          sfcWind_dir  anemometer_height_m  \\\n",
       "station              time                                                    \n",
       "ASOSAWOS_69007093217 1991-01-02 12:00:00         90.0                  NaN   \n",
       "                     1991-01-02 13:00:00         90.0                  NaN   \n",
       "\n",
       "                                          elevation  elevation_eraqc     lat  \\\n",
       "station              time                                                      \n",
       "ASOSAWOS_69007093217 1991-01-02 12:00:00       41.0              NaN  36.683   \n",
       "                     1991-01-02 13:00:00       41.0              NaN  36.683   \n",
       "\n",
       "                                              lon  ...  sfcWind_dir_eraqc  \\\n",
       "station              time                          ...                      \n",
       "ASOSAWOS_69007093217 1991-01-02 12:00:00 -121.767  ...                NaN   \n",
       "                     1991-01-02 13:00:00 -121.767  ...                NaN   \n",
       "\n",
       "                                         sfcWind_dir_qc  sfcWind_eraqc  \\\n",
       "station              time                                                \n",
       "ASOSAWOS_69007093217 1991-01-02 12:00:00              1            NaN   \n",
       "                     1991-01-02 13:00:00              1            NaN   \n",
       "\n",
       "                                         sfcWind_method  sfcWind_qc  \\\n",
       "station              time                                             \n",
       "ASOSAWOS_69007093217 1991-01-02 12:00:00              N           1   \n",
       "                     1991-01-02 13:00:00              N           1   \n",
       "\n",
       "                                          tas_eraqc tas_qc tdps_eraqc  \\\n",
       "station              time                                               \n",
       "ASOSAWOS_69007093217 1991-01-02 12:00:00        NaN      1       28.0   \n",
       "                     1991-01-02 13:00:00        NaN      1       28.0   \n",
       "\n",
       "                                          tdps_qc  thermometer_height_m  \n",
       "station              time                                                \n",
       "ASOSAWOS_69007093217 1991-01-02 12:00:00        1                   NaN  \n",
       "                     1991-01-02 13:00:00        1                   NaN  \n",
       "\n",
       "[2 rows x 32 columns]"
      ]
     },
     "execution_count": 72,
     "metadata": {},
     "output_type": "execute_result"
    }
   ],
   "source": [
    "df_test = reorder_rename(df_a)\n",
    "df_test.head(2)"
   ]
  },
  {
   "cell_type": "code",
   "execution_count": 62,
   "id": "e9c35c71",
   "metadata": {},
   "outputs": [],
   "source": [
    "desired_order = [\n",
    "    \"ps\",\n",
    "    \"tas\",\n",
    "    \"tdps\",\n",
    "    \"pr\",\n",
    "    \"hurs\",\n",
    "    \"rsds\",\n",
    "    \"sfcWind\",\n",
    "    \"sfcWind_dir\",\n",
    "    \"pvp\",\n",
    "    \"svp\",\n",
    "    ]"
   ]
  },
  {
   "cell_type": "code",
   "execution_count": null,
   "id": "c3f60f41",
   "metadata": {},
   "outputs": [],
   "source": [
    "\n",
    "actual_order = [i for i in desired_order if i in list(df_a.columns)]\n",
    "\n"
   ]
  },
  {
   "cell_type": "code",
   "execution_count": null,
   "id": "91fc2445",
   "metadata": {},
   "outputs": [],
   "source": [
    "# not useful yet, but will be\n",
    "qaqc_vars = [i for i in actual_order if 'qc' in i]"
   ]
  },
  {
   "cell_type": "code",
   "execution_count": null,
   "id": "4768479b",
   "metadata": {},
   "outputs": [],
   "source": [
    "rest_of_vars = [\n",
    "    i for i in list(df_a.columns) if i not in desired_order\n",
    "]  # Retain rest of variables at the bottom"
   ]
  }
 ],
 "metadata": {
  "kernelspec": {
   "display_name": "hist-obs",
   "language": "python",
   "name": "python3"
  },
  "language_info": {
   "codemirror_mode": {
    "name": "ipython",
    "version": 3
   },
   "file_extension": ".py",
   "mimetype": "text/x-python",
   "name": "python",
   "nbconvert_exporter": "python",
   "pygments_lexer": "ipython3",
   "version": "3.10.13"
  }
 },
 "nbformat": 4,
 "nbformat_minor": 5
}
