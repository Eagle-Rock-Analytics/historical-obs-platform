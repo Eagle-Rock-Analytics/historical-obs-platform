{
 "cells": [
  {
   "cell_type": "markdown",
   "metadata": {},
   "source": [
    "to-do: \n",
    "1) Add ValleyWater data to main table \n",
    "2) For all other stations, pr_15min_nobs should be 0 \n",
    "3) For ValleyWater, every other nobs should be 0"
   ]
  },
  {
   "cell_type": "code",
   "execution_count": null,
   "metadata": {},
   "outputs": [],
   "source": [
    "import pandas as pd"
   ]
  },
  {
   "cell_type": "code",
   "execution_count": null,
   "metadata": {},
   "outputs": [],
   "source": [
    "vw_filepath = \"s3://wecc-historical-wx/2_clean_wx/VALLEYWATER/stationlist_VALLEYWATER_cleaned.csv\"\n",
    "full_station_list_s3_path = \"s3://wecc-historical-wx/2_clean_wx/temp_clean_all_station_list.csv\""
   ]
  },
  {
   "cell_type": "code",
   "execution_count": null,
   "metadata": {},
   "outputs": [],
   "source": [
    "vw_stationlist = pd.read_csv(vw_filepath)\n",
    "all_stationlist = pd.read_csv(full_station_list_s3_path)\n",
    "all_stationlist.pop(\"Unnamed: 0\")"
   ]
  },
  {
   "cell_type": "code",
   "execution_count": null,
   "metadata": {},
   "outputs": [],
   "source": [
    "add_to_vw_columns = [col for col in all_stationlist.columns if col not in vw_stationlist.columns]\n",
    "\n",
    "list_of_0 = [0]*(len(vw_stationlist))\n",
    "\n",
    "for col in add_to_vw_columns: \n",
    "    vw_stationlist[col] = list_of_0"
   ]
  }
 ],
 "metadata": {
  "kernelspec": {
   "display_name": "hist-obs",
   "language": "python",
   "name": "python3"
  },
  "language_info": {
   "codemirror_mode": {
    "name": "ipython",
    "version": 3
   },
   "file_extension": ".py",
   "mimetype": "text/x-python",
   "name": "python",
   "nbconvert_exporter": "python",
   "pygments_lexer": "ipython3",
   "version": "3.9.18"
  }
 },
 "nbformat": 4,
 "nbformat_minor": 2
}
