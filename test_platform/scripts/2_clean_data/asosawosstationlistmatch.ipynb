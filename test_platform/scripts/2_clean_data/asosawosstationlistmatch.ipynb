{
 "cells": [
  {
   "attachments": {},
   "cell_type": "markdown",
   "metadata": {},
   "source": [
    "This code is designed to take the ASOS and AWOS station lists sourced from NCEI and the ASOS/AWOS station list sourced from ISD, compare and combine them. The code below is exploratory, designed to get a sense of how complete the merge is and what possible data cleaning issues exist. The complete code for performing the station merge is integrated into the ASOSAWOS_clean.py script, as the merge_station_list() function. The code below here is for reference only and should not be run."
   ]
  },
  {
   "cell_type": "code",
   "execution_count": null,
   "metadata": {},
   "outputs": [],
   "source": [
    "import pandas as pd\n",
    "import boto3\n",
    "from io import BytesIO\n",
    "s3_cl = boto3.client('s3') # for lower-level processes\n",
    "\n",
    "asosawos = s3_cl.get_object(Bucket='wecc-historical-wx', Key='1_raw_wx/ASOSAWOS/stationlist_ASOSAWOS.csv')\n",
    "asosawos_list = pd.read_csv(BytesIO(asosawos['Body'].read()))  \n",
    "\n",
    "asosawos_list # 399 records\n",
    "    \n",
    "isd = s3_cl.get_object(Bucket='wecc-historical-wx', Key='1_raw_wx/ASOSAWOS/stationlist_ISD_ASOSAWOS.csv')\n",
    "isd_list = pd.read_csv(BytesIO(isd['Body'].read()))  \n",
    "\n",
    "print(isd_list)\n",
    "\n",
    "#print(asosawos_list.columns)\n",
    "#print(isd_list.columns)\n",
    "\n",
    "# Try match on WBAN, lat, lon\n",
    "#print(asosawos_list[['WBAN', 'LAT', 'LON']])\n",
    "#print(isd_list[['WBAN', 'LAT', 'LON']])\n",
    "\n",
    "# Round asosawos down to 3 decimal points of accuracy\n",
    "asosawos_round = asosawos_list.round({'LAT':3, 'LON':3})\n",
    "\n",
    "# To do so, try exact match first\n",
    "join = isd_list.merge(asosawos_round, left_on = ['WBAN', 'LAT', 'LON'], right_on = ['WBAN', 'LAT', 'LON'], how = 'inner')\n",
    "join # 413 matches\n",
    "\n",
    "missed = asosawos_list[~asosawos_list.NCDCID.isin(join.NCDCID)]\n",
    "missed\n",
    "\n",
    "    "
   ]
  }
 ],
 "metadata": {
  "kernelspec": {
   "display_name": "Python 3.9.13",
   "language": "python",
   "name": "python3"
  },
  "language_info": {
   "codemirror_mode": {
    "name": "ipython",
    "version": 3
   },
   "file_extension": ".py",
   "mimetype": "text/x-python",
   "name": "python",
   "nbconvert_exporter": "python",
   "pygments_lexer": "ipython3",
   "version": "3.9.13 (main, Aug 25 2022, 23:26:10) \n[GCC 11.2.0]"
  },
  "orig_nbformat": 4,
  "vscode": {
   "interpreter": {
    "hash": "4b143eb979cf5515e2cd3ecb004a34bf20911b4f75739c4d295f9535d4cc57dd"
   }
  }
 },
 "nbformat": 4,
 "nbformat_minor": 2
}
