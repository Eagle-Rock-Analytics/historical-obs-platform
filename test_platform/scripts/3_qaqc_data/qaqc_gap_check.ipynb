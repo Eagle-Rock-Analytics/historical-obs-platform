{
 "cells": [
  {
   "cell_type": "markdown",
   "metadata": {},
   "source": [
    "## Setup"
   ]
  },
  {
   "cell_type": "code",
   "execution_count": 1,
   "metadata": {},
   "outputs": [],
   "source": [
    "\n",
    "\n",
    "# necessary for using for loop ending at last day of month\n",
    "import calendar\n",
    "\n",
    "import boto3\n",
    "import geopandas as gpd\n",
    "import numpy as np\n",
    "import pandas as pd\n",
    "import xarray as xr\n",
    "import matplotlib.pyplot as plt\n",
    "from io import BytesIO, StringIO\n",
    "import scipy.stats as stats\n",
    "\n",
    "import s3fs\n",
    "import tempfile  # Used for downloading (and then deleting) netcdfs to local drive from s3 bucket\n",
    "import os\n",
    "from shapely.geometry import Point\n",
    "\n",
    "# Silence warnings\n",
    "import warnings\n",
    "from shapely.errors import ShapelyDeprecationWarning\n",
    "\n",
    "# New logger function\n",
    "from log_config import logger\n",
    "\n",
    "warnings.filterwarnings(\"ignore\", category=RuntimeWarning)\n",
    "warnings.filterwarnings(\n",
    "    \"ignore\", category=ShapelyDeprecationWarning\n",
    ")  # Warning is raised when creating Point object from coords. Can't figure out why."
   ]
  },
  {
   "cell_type": "code",
   "execution_count": 2,
   "metadata": {},
   "outputs": [],
   "source": [
    "# -----------------------------------------------------------------------------\n",
    "## Set AWS credentials\n",
    "s3 = boto3.resource(\"s3\")\n",
    "s3_cl = boto3.client(\"s3\")  # for lower-level processes\n",
    "\n",
    "# -----------------------------------------------------------------------------\n",
    "## Set relative paths to other folders and objects in repository.\n",
    "bucket_name = \"wecc-historical-wx\"\n",
    "wecc_terr = (\n",
    "    \"s3://wecc-historical-wx/0_maps/WECC_Informational_MarineCoastal_Boundary_land.shp\"\n",
    ")\n",
    "wecc_mar = \"s3://wecc-historical-wx/0_maps/WECC_Informational_MarineCoastal_Boundary_marine.shp\"\n",
    "# Define temporary directory in local drive for downloading data from S3 bucket\n",
    "# If the directory doesn't exist, it will be created\n",
    "# If we used zarr, this wouldn't be neccessary\n",
    "temp_dir = \"./tmp\"\n",
    "if not os.path.exists(temp_dir):\n",
    "    os.mkdir(temp_dir)\n",
    "def open_log_file_merge(file):\n",
    "    global log_file\n",
    "    log_file = file\n",
    "def read_nc_from_s3(network_name, station_id, temp_dir):\n",
    "    \"\"\"Read netcdf file containing station data for a single station of interest from AWS s3 bucket\n",
    "\n",
    "    Parameters\n",
    "    ----------\n",
    "    network_name: str\n",
    "        Name of network (i.e. \"ASOSAWOS\")\n",
    "        Must correspond with a valid directory in the s3 bucket (i.e. \"CAHYDRO\", \"CDEC\", \"ASOSAWOS\")\n",
    "    station_id: str\n",
    "        Station identifier; i.e. the name of the netcdf file in the bucket (i.e. \"ASOSAWOS_72012200114.nc\")\n",
    "\n",
    "    Returns\n",
    "    -------\n",
    "    station_data: xr.Dataset\n",
    "\n",
    "    Notes\n",
    "    -----\n",
    "    The data is first downloaded from AWS into a tempfile, which is then deleted after xarray reads in the file\n",
    "    I'd like to see us use a zarr workflow if possible to avoid this.\n",
    "\n",
    "    \"\"\"\n",
    "# -----------------------------------------------------------------------------\n",
    "    # Temp file for downloading from s3\n",
    "    temp_file = tempfile.NamedTemporaryFile(\n",
    "        dir=temp_dir, prefix=\"\", suffix=\".nc\", delete=True\n",
    "    )\n",
    "# -----------------------------------------------------------------------------\n",
    "    # Create s3 file system\n",
    "    s3 = s3fs.S3FileSystem(anon=False)\n",
    "\n",
    "    # Get URL to netcdf in S3\n",
    "    s3_url = \"s3://wecc-historical-wx/2_clean_wx/{}/{}.nc\".format(\n",
    "        network_name, station_id\n",
    "    )\n",
    "\n",
    "    # Read in the data using xarray\n",
    "    s3_file_obj = s3.get(s3_url, temp_file.name)\n",
    "    station_data = xr.open_dataset(temp_file.name, engine=\"h5netcdf\").load()\n",
    "\n",
    "    # Close temporary file\n",
    "    temp_file.close()\n",
    "\n",
    "    return station_data\n",
    "# -----------------------------------------------------------------------------\n",
    "def qaqc_ds_to_df(ds, verbose=False):\n",
    "    ## Add qc_flag variable for all variables, including elevation;\n",
    "    ## defaulting to nan for fill value that will be replaced with qc flag\n",
    "\n",
    "    for key, val in ds.variables.items():\n",
    "        if val.dtype == object:\n",
    "            if key == \"station\":\n",
    "                if str in [type(v) for v in ds[key].values]:\n",
    "                    ds[key] = ds[key].astype(str)\n",
    "            else:\n",
    "                if str in [type(v) for v in ds.isel(station=0)[key].values]:\n",
    "                    ds[key] = ds[key].astype(str)\n",
    "\n",
    "    exclude_qaqc = [\n",
    "        \"time\",\n",
    "        \"station\",\n",
    "        \"lat\",\n",
    "        \"lon\",\n",
    "        \"qaqc_process\",\n",
    "        \"sfcWind_method\",\n",
    "        \"pr_duration\",\n",
    "        \"pr_depth\",\n",
    "        \"PREC_flag\",\n",
    "        \"rsds_duration\",\n",
    "        \"rsds_flag\",\n",
    "        \"anemometer_height_m\",\n",
    "        \"thermometer_height_m\",\n",
    "    ]  # lat, lon have different qc check\n",
    "\n",
    "    raw_qc_vars = []  # qc_variable for each data variable, will vary station to station\n",
    "    era_qc_vars = []  # our ERA qc variable\n",
    "    old_era_qc_vars = []  # our ERA qc variable\n",
    "\n",
    "    for var in ds.data_vars:\n",
    "        if \"q_code\" in var:\n",
    "            raw_qc_vars.append(\n",
    "                var\n",
    "            )  # raw qc variable, need to keep for comparison, then drop\n",
    "        if \"_qc\" in var:\n",
    "            raw_qc_vars.append(\n",
    "                var\n",
    "            )  # raw qc variables, need to keep for comparison, then drop\n",
    "        if \"_eraqc\" in var:\n",
    "            era_qc_vars.append(\n",
    "                var\n",
    "            )  # raw qc variables, need to keep for comparison, then drop\n",
    "            old_era_qc_vars.append(var)\n",
    "\n",
    "    print(f\"era_qc existing variables:\\n{era_qc_vars}\")\n",
    "    n_qc = len(era_qc_vars)\n",
    "\n",
    "    for var in ds.data_vars:\n",
    "        if var not in exclude_qaqc and var not in raw_qc_vars and \"_eraqc\" not in var:\n",
    "            qc_var = var + \"_eraqc\"  # variable/column label\n",
    "\n",
    "            # if qaqc var does not exist, adds new variable in shape of original variable with designated nan fill value\n",
    "            if qc_var not in era_qc_vars:\n",
    "                print(f\"nans created for {qc_var}\")\n",
    "                ds = ds.assign({qc_var: xr.ones_like(ds[var]) * np.nan})\n",
    "                era_qc_vars.append(qc_var)\n",
    "\n",
    "    print(\"{} created era_qc variables\".format(len(era_qc_vars) - len(old_era_qc_vars)))\n",
    "    if len(era_qc_vars) != n_qc:\n",
    "        print(\"{}\".format(np.setdiff1d(old_era_qc_vars, era_qc_vars)))\n",
    "\n",
    "    # Save attributes to inheret them to the QAQC'ed file\n",
    "    attrs = ds.attrs\n",
    "    var_attrs = {var: ds[var].attrs for var in list(ds.data_vars.keys())}\n",
    "\n",
    "    with warnings.catch_warnings():\n",
    "        warnings.filterwarnings(\"ignore\", category=RuntimeWarning)\n",
    "        df = ds.to_dataframe()\n",
    "\n",
    "    # instrumentation heights\n",
    "    if \"anemometer_height_m\" not in df.columns:\n",
    "        try:\n",
    "            df[\"anemometer_height_m\"] = (\n",
    "                np.ones(ds[\"time\"].shape) * ds.anemometer_height_m\n",
    "            )\n",
    "        except:\n",
    "            print(\"Filling anemometer_height_m with NaN.\", flush=True)\n",
    "            df[\"anemometer_height_m\"] = np.ones(len(df)) * np.nan\n",
    "        finally:\n",
    "            pass\n",
    "    if \"thermometer_height_m\" not in df.columns:\n",
    "        try:\n",
    "            df[\"thermometer_height_m\"] = (\n",
    "                np.ones(ds[\"time\"].shape) * ds.thermometer_height_m\n",
    "            )\n",
    "        except:\n",
    "            print(\"Filling thermometer_height_m with NaN.\", flush=True)\n",
    "            df[\"thermometer_height_m\"] = np.ones(len(df)) * np.nan\n",
    "        finally:\n",
    "            pass\n",
    "\n",
    "    # De-duplicate time axis\n",
    "    df = df[~df.index.duplicated()].sort_index()\n",
    "\n",
    "    # Save station/time multiindex\n",
    "    MultiIndex = df.index\n",
    "    station = df.index.get_level_values(0)\n",
    "    df[\"station\"] = station\n",
    "\n",
    "    # Station pd.Series to str\n",
    "    station = station.unique().values[0]\n",
    "\n",
    "    # Convert time/station index to columns and reset index\n",
    "    df = df.droplevel(0).reset_index()\n",
    "\n",
    "    # Add time variables needed by multiple functions\n",
    "    df[\"hour\"] = pd.to_datetime(df[\"time\"]).dt.hour\n",
    "    df[\"day\"] = pd.to_datetime(df[\"time\"]).dt.day\n",
    "    df[\"month\"] = pd.to_datetime(df[\"time\"]).dt.month\n",
    "    df[\"year\"] = pd.to_datetime(df[\"time\"]).dt.year\n",
    "    df[\"date\"] = pd.to_datetime(df[\"time\"]).dt.date\n",
    "\n",
    "    return df  # , MultiIndex, attrs, var_attrs, era_qc_vars\n",
    "\n",
    "# -----------------------------------------------------------------------------\n",
    "def printf(*args, verbose=True, log_file=None, **kwargs):\n",
    "    import datetime\n",
    "\n",
    "    tLog = lambda: datetime.datetime.utcnow().strftime(\"%m-%d-%Y %H:%M:%S\") + \" : \\t\"\n",
    "    args = [str(a) for a in args]\n",
    "\n",
    "    if verbose:\n",
    "        if log_file is not None:\n",
    "            print(\" \".join([tLog(), *args]), **kwargs) or print(\n",
    "                \" \".join([tLog(), *args]), file=log_file, **kwargs\n",
    "            )\n",
    "        else:\n",
    "            print(\" \".join([tLog(), *args]), **kwargs)\n",
    "    else:\n",
    "        if log_file is not None:\n",
    "            print(\" \".join([tLog(), *args]), file=log_file, **kwargs)\n",
    "        else:\n",
    "            pass"
   ]
  },
  {
   "cell_type": "markdown",
   "metadata": {},
   "source": [
    "## Load Data"
   ]
  },
  {
   "cell_type": "code",
   "execution_count": 3,
   "metadata": {},
   "outputs": [
    {
     "name": "stdout",
     "output_type": "stream",
     "text": [
      "era_qc existing variables:\n",
      "[]\n",
      "nans created for ps_eraqc\n",
      "nans created for tas_eraqc\n",
      "nans created for tdps_eraqc\n",
      "nans created for pr_eraqc\n",
      "nans created for sfcWind_eraqc\n",
      "nans created for sfcWind_dir_eraqc\n",
      "nans created for elevation_eraqc\n",
      "nans created for ps_altimeter_eraqc\n",
      "nans created for psl_eraqc\n",
      "9 created era_qc variables\n",
      "[]\n"
     ]
    }
   ],
   "source": [
    "# load in single dc file from AWS\n",
    "ds = read_nc_from_s3(\"ASOSAWOS\", \"ASOSAWOS_72494523293\", temp_dir)\n",
    "# [\"ASOSAWOS_74948400395\", \"ASOSAWOS_74509023244\", \"ASOSAWOS_72494523293\"]\n",
    "\n",
    "# convert to formatted pandas dataframe\n",
    "df = qaqc_ds_to_df(ds, verbose=False)\n"
   ]
  },
  {
   "cell_type": "markdown",
   "metadata": {},
   "source": [
    "## Steps"
   ]
  },
  {
   "cell_type": "code",
   "execution_count": 4,
   "metadata": {},
   "outputs": [
    {
     "name": "stdout",
     "output_type": "stream",
     "text": [
      "              pr  pr_eraqc\n",
      "time                      \n",
      "2016-01-01   0.0       0.0\n",
      "2016-01-02   0.0       0.0\n",
      "2016-01-03   0.0       0.0\n",
      "2016-01-04   0.3       0.0\n",
      "2016-01-05  28.4       0.0\n",
      "...          ...       ...\n",
      "2016-12-27   0.0       0.0\n",
      "2016-12-28   0.0       0.0\n",
      "2016-12-29   0.0       0.0\n",
      "2016-12-30   0.0       0.0\n",
      "2016-12-31   0.0       0.0\n",
      "\n",
      "[366 rows x 2 columns]\n"
     ]
    }
   ],
   "source": [
    "## filter by year and precipitation variable \n",
    "\n",
    "year = 2016\n",
    "var = 'pr'\n",
    "new_df = df.loc[df[\"year\"] == 2016] \n",
    "\n",
    "## sum daily precipitation values\n",
    "\n",
    "new_df = new_df[['time',var,var+'_eraqc']]\n",
    "df_daily_sum = new_df.resample(\"1D\", on=\"time\").sum()\n",
    "#.reset_index(), the time information gets lost in resampling when this is used \n",
    "print(df_daily_sum)"
   ]
  },
  {
   "cell_type": "code",
   "execution_count": 5,
   "metadata": {},
   "outputs": [
    {
     "name": "stdout",
     "output_type": "stream",
     "text": [
      "              pr  pr_eraqc\n",
      "time                      \n",
      "2016-01-01   0.0       0.0\n",
      "2016-01-02   0.0       0.0\n",
      "2016-01-03   0.0       0.0\n",
      "2016-01-04   0.3       0.0\n",
      "2016-01-05  28.4       0.0\n"
     ]
    }
   ],
   "source": [
    "## get current month observations\n",
    "\n",
    "month = 1\n",
    "# monthly_df = df_daily_sum.loc[df_daily_sum['time'].dt.month == month]\n",
    "monthly_df = df_daily_sum.loc[df_daily_sum.index.month == month]\n",
    "print(monthly_df.head())\n"
   ]
  },
  {
   "cell_type": "code",
   "execution_count": 6,
   "metadata": {},
   "outputs": [
    {
     "name": "stdout",
     "output_type": "stream",
     "text": [
      "              pr  pr_eraqc\n",
      "time                      \n",
      "2016-01-18  62.7       0.0\n"
     ]
    }
   ],
   "source": [
    "## get the current day observation\n",
    "\n",
    "# current_obs = monthly_df.loc[monthly_df['time'].dt.day == 18]\n",
    "current_obs = monthly_df.loc[monthly_df.index.day == 18]\n",
    "print(current_obs)"
   ]
  },
  {
   "cell_type": "code",
   "execution_count": 7,
   "metadata": {},
   "outputs": [
    {
     "name": "stdout",
     "output_type": "stream",
     "text": [
      "time\n",
      "2016-01-18    True\n",
      "Freq: D, dtype: bool\n"
     ]
    }
   ],
   "source": [
    "## substract every other day observatino from the current observation, then get the max difference\n",
    "\n",
    "diff_max = monthly_df['pr'].apply(lambda row: current_obs['pr'] - row).max()#.reset_index()\n",
    "\n",
    "## check if the max difference is past threshold\n",
    "\n",
    "check = diff_max > 60\n",
    "\n",
    "## the result is a boolean with the associated timeIndex \n",
    "\n",
    "print(check) \n",
    "\n",
    "# series -> dataframe "
   ]
  },
  {
   "cell_type": "code",
   "execution_count": 8,
   "metadata": {},
   "outputs": [
    {
     "name": "stdout",
     "output_type": "stream",
     "text": [
      "0   2016-01-18\n",
      "Name: time, dtype: datetime64[ns]\n"
     ]
    }
   ],
   "source": [
    "# convert boolean series into dataframe, which will be used to assign flags in the original df\n",
    "\n",
    "check_df = check.to_frame(name='values')\n",
    "check_df.reset_index(inplace=True)\n",
    "check_df.columns = ['time','values']\n",
    "\n",
    "flagged_days = check_df[check_df['values']]\n",
    "\n",
    "# a dataframe of \"flagged\" datetimes\n",
    "\n",
    "flagged_days = flagged_days['time']\n",
    "\n",
    "print(flagged_days)"
   ]
  },
  {
   "cell_type": "code",
   "execution_count": 9,
   "metadata": {},
   "outputs": [
    {
     "data": {
      "text/plain": [
       "[Timestamp('2016-01-18 00:00:00')]"
      ]
     },
     "execution_count": 9,
     "metadata": {},
     "output_type": "execute_result"
    }
   ],
   "source": [
    "# turned into a list in case that's useful? did not work either\n",
    "list = flagged_days.tolist()\n",
    "list"
   ]
  },
  {
   "cell_type": "code",
   "execution_count": 10,
   "metadata": {},
   "outputs": [],
   "source": [
    "# making a copy of the df for testing\n",
    "\n",
    "df_copy = df"
   ]
  },
  {
   "cell_type": "code",
   "execution_count": 45,
   "metadata": {},
   "outputs": [],
   "source": [
    "# now trying to add flags to \"pr_eraqc\". there should be a flag assigned to 2016-01-18\n",
    "\n",
    "df_copy.loc[\n",
    "        (\n",
    "            (   \n",
    "                df_copy[\"year\"].isin(flagged_days)\n",
    "                & df_copy[\"month\"].isin(flagged_days)\n",
    "                & df_copy[\"day\"].isin(flagged_days)\n",
    "            )\n",
    "        ),\n",
    "        var + \"_eraqc\",\n",
    "    ] = 32\n",
    "\n"
   ]
  },
  {
   "cell_type": "code",
   "execution_count": 46,
   "metadata": {},
   "outputs": [
    {
     "data": {
      "text/plain": [
       "nan"
      ]
     },
     "execution_count": 46,
     "metadata": {},
     "output_type": "execute_result"
    }
   ],
   "source": [
    "# check if the flag was added (should be 32)\n",
    "# I am seeing only nan, alas\n",
    "\n",
    "df_copy['pr_eraqc'].max()"
   ]
  },
  {
   "cell_type": "markdown",
   "metadata": {},
   "source": [
    "## Final Function (not updated, don't run)"
   ]
  },
  {
   "cell_type": "code",
   "execution_count": 11,
   "metadata": {},
   "outputs": [],
   "source": [
    "# begins with         # precip focused check\n",
    "        # for var in pr_vars_to_check:\n",
    "        #     df = qaqc_frequent_precip(df, var)\n",
    "\n",
    "def gap_check(df, vars_to_check, year, threshold, var, plot=True, verbose=False, local=False):\n",
    "    \"\"\"\n",
    "    gap check\n",
    "        - compare all precipitation obs in a single month, all years\n",
    "        - sums observations to daily timestep, then checks each daily sum to every other sum in that month\n",
    "        - flags days on which the sum is 300m more than any other daily observation in that month\n",
    "    Goal: flags precipitation values that are at least 300 mm larger than all other precipitation totals \n",
    "          for a given station and calendar month.\n",
    "\n",
    "    Inputs\n",
    "    ------\n",
    "        df [pd.DataFrame]: QAQC dataframe to run through test\n",
    "        var [str]: variable name\n",
    "        moderate_thresh [int]: moderate precipitation total to check\n",
    "        day_thresh [int]: num. of min consecutive days to flag\n",
    "        verbose [boolean]: whether to provide output to local env\n",
    "\n",
    "    Returns\n",
    "    -------\n",
    "        df [pd.DataFrame]: QAQC dataframe with flagged values (see below for flag meaning)\n",
    "\n",
    "    Notes:\n",
    "    ------\n",
    "    PRELIMINARY: Thresholds/decisions may change with refinement.\n",
    "\n",
    "    Flag Meaning\n",
    "    ------------\n",
    "        \n",
    "    \"\"\"\n",
    "    ### Filter df to precipitation variables and sum daily observations\n",
    "    # TODO: when is year specified in frequent gaps check?\n",
    "\n",
    "    new_df = df.copy\n",
    "\n",
    "    new_df = new_df.loc[new_df[\"year\"] == year] \n",
    "    new_df = new_df[['time', var,var+'_eraqc']]\n",
    "    df_daily_sum = df.resample(\"1D\", on=\"time\").sum().reset_index()\n",
    "\n",
    "\n",
    "    for month in range(1, 13):\n",
    "        month_flags = []\n",
    "\n",
    "        # Select month data\n",
    "        monthly_df = df_daily_sum.loc[df_daily_sum.index.month == month]\n",
    "\n",
    "        # Now to iterate over each day in the current month\n",
    "        end_day = calendar.monthrange(year, month)[1]\n",
    "\n",
    "        for day in range(1,end_day):\n",
    "            #print('Compare each day sum to every other day sum in a given month.')\n",
    "\n",
    "            current_obs = monthly_df[var].loc[monthly_df.index.day == day]\n",
    "            #print(monthly_df)\n",
    "    \n",
    "            diff = monthly_df[var].apply(lambda row: current_obs - row).max()\n",
    "\n",
    "            flag = diff > threshold\n",
    "\n",
    "            month_flags.append(flag)\n",
    "\n",
    "        month_flags = pd.concat(month_flags, axis=0)\n",
    "\n",
    "        print(month_flags)\n",
    "\n",
    "\n",
    "    return df"
   ]
  },
  {
   "cell_type": "code",
   "execution_count": 19,
   "metadata": {},
   "outputs": [],
   "source": [
    "try:\n",
    "    from qaqc_unusual_gaps import *\n",
    "except Exception as e:\n",
    "    print(\"Error importing qaqc script: {}\".format(e))\n"
   ]
  },
  {
   "cell_type": "code",
   "execution_count": 186,
   "metadata": {},
   "outputs": [],
   "source": [
    "def qaqc_unusual_gaps_precip(df, var, threshold=200, verbose=False):\n",
    "    ### Filter df to precipitation variables and sum daily observations\n",
    "\n",
    "    logger.info(\"Running qaqc_unusual_gaps_precip on: {}\".format(var))\n",
    "    new_df = df.copy()\n",
    "    df_valid = grab_valid_obs(new_df, var)\n",
    "\n",
    "    # aggregate to daily, subset on time, var, and eraqc var\n",
    "    df_sub = df_valid[[\"time\", 'year','month', 'day', var, var+\"_eraqc\"]]\n",
    "    df_dy = df_sub.resample(\"1D\", on=\"time\").agg({var: \"sum\",var+\"_eraqc\": \"first\", \"year\": \"first\", \"month\": \"first\", \"day\": \"first\"})#.reset_index()\n",
    "\n",
    "    # compare all precipitation obs in a single month, all years\n",
    "    for mon in range(1, 13):\n",
    "        month_flags = []\n",
    "        # Select month data\n",
    "        monthly_df = df_dy.loc[df_dy.month == mon]\n",
    "\n",
    "        for n in range(1,len(monthly_df)):\n",
    "\n",
    "            current_obs = monthly_df.iloc[[n]]\n",
    "\n",
    "            diff_max = monthly_df[var].apply(lambda row: current_obs[var] - row).max()#.reset_index()\n",
    "\n",
    "            #print(diff_max < threshold)\n",
    "\n",
    "            # first check if any day exceeds threshold, or if diff minus threshold is a neg number\n",
    "            if (diff_max < threshold).bool() | (diff_max - threshold == 0):\n",
    "                continue\n",
    "                \n",
    "            # else: # day does exceed threshold            \n",
    "            #     # find days where value exceeds threshold -- need to flag specific day that exceeds\n",
    "            #     flagged_days = monthly_df.copy()\n",
    "            #     flagged_days['flagged_day'] = flagged_days[var] > (diff - threshold) # returns a boolean array\n",
    "\n",
    "            #     logger.info('Flagging all obs in days with precip total greater than: {}'.format(diff - threshold))\n",
    "            #     # identify days larger than threshold and flag\n",
    "            #     new_df.loc[new_df.year.isin(flagged_days.year) & new_df.month.isin(flagged_days.month) & new_df.day.isin(flagged_days.day), var + \"_eraqc\"] = 33\n",
    "\n",
    "    return new_df"
   ]
  },
  {
   "cell_type": "code",
   "execution_count": 156,
   "metadata": {},
   "outputs": [],
   "source": [
    "test_years = [2016,2017]\n",
    "sub_df = df.loc[df['year'].isin(test_years)]"
   ]
  },
  {
   "cell_type": "code",
   "execution_count": 187,
   "metadata": {},
   "outputs": [
    {
     "ename": "ValueError",
     "evalue": "The truth value of a Series is ambiguous. Use a.empty, a.bool(), a.item(), a.any() or a.all().",
     "output_type": "error",
     "traceback": [
      "\u001b[0;31m---------------------------------------------------------------------------\u001b[0m",
      "\u001b[0;31mValueError\u001b[0m                                Traceback (most recent call last)",
      "\u001b[0;32m/tmp/ipykernel_3675/3548926444.py\u001b[0m in \u001b[0;36m?\u001b[0;34m()\u001b[0m\n\u001b[0;32m----> 1\u001b[0;31m \u001b[0moutput\u001b[0m \u001b[0;34m=\u001b[0m \u001b[0mqaqc_unusual_gaps_precip\u001b[0m\u001b[0;34m(\u001b[0m\u001b[0msub_df\u001b[0m\u001b[0;34m,\u001b[0m \u001b[0;34m'pr'\u001b[0m\u001b[0;34m,\u001b[0m \u001b[0mthreshold\u001b[0m\u001b[0;34m=\u001b[0m\u001b[0;36m20\u001b[0m\u001b[0;34m,\u001b[0m \u001b[0mverbose\u001b[0m\u001b[0;34m=\u001b[0m\u001b[0;32mFalse\u001b[0m\u001b[0;34m)\u001b[0m\u001b[0;34m\u001b[0m\u001b[0;34m\u001b[0m\u001b[0m\n\u001b[0m",
      "\u001b[0;32m/tmp/ipykernel_3675/1030016758.py\u001b[0m in \u001b[0;36m?\u001b[0;34m(df, var, threshold, verbose)\u001b[0m\n\u001b[1;32m     23\u001b[0m \u001b[0;34m\u001b[0m\u001b[0m\n\u001b[1;32m     24\u001b[0m             \u001b[0;31m#print(diff_max < threshold)\u001b[0m\u001b[0;34m\u001b[0m\u001b[0;34m\u001b[0m\u001b[0m\n\u001b[1;32m     25\u001b[0m \u001b[0;34m\u001b[0m\u001b[0m\n\u001b[1;32m     26\u001b[0m             \u001b[0;31m# first check if any day exceeds threshold, or if diff minus threshold is a neg number\u001b[0m\u001b[0;34m\u001b[0m\u001b[0;34m\u001b[0m\u001b[0m\n\u001b[0;32m---> 27\u001b[0;31m             \u001b[0;32mif\u001b[0m \u001b[0;34m(\u001b[0m\u001b[0mdiff_max\u001b[0m \u001b[0;34m<\u001b[0m \u001b[0mthreshold\u001b[0m\u001b[0;34m)\u001b[0m\u001b[0;34m.\u001b[0m\u001b[0mbool\u001b[0m\u001b[0;34m(\u001b[0m\u001b[0;34m)\u001b[0m \u001b[0;34m|\u001b[0m \u001b[0;34m(\u001b[0m\u001b[0mdiff_max\u001b[0m \u001b[0;34m-\u001b[0m \u001b[0mthreshold\u001b[0m \u001b[0;34m==\u001b[0m \u001b[0;36m0\u001b[0m\u001b[0;34m)\u001b[0m\u001b[0;34m:\u001b[0m\u001b[0;34m\u001b[0m\u001b[0;34m\u001b[0m\u001b[0m\n\u001b[0m\u001b[1;32m     28\u001b[0m                 \u001b[0;32mcontinue\u001b[0m\u001b[0;34m\u001b[0m\u001b[0;34m\u001b[0m\u001b[0m\n\u001b[1;32m     29\u001b[0m \u001b[0;34m\u001b[0m\u001b[0m\n\u001b[1;32m     30\u001b[0m             \u001b[0;31m# else: # day does exceed threshold\u001b[0m\u001b[0;34m\u001b[0m\u001b[0;34m\u001b[0m\u001b[0m\n",
      "\u001b[0;32m~/miniconda3/envs/hist-obs/lib/python3.10/site-packages/pandas/core/generic.py\u001b[0m in \u001b[0;36m?\u001b[0;34m(self)\u001b[0m\n\u001b[1;32m   1524\u001b[0m     \u001b[0;34m@\u001b[0m\u001b[0mfinal\u001b[0m\u001b[0;34m\u001b[0m\u001b[0;34m\u001b[0m\u001b[0m\n\u001b[1;32m   1525\u001b[0m     \u001b[0;32mdef\u001b[0m \u001b[0m__nonzero__\u001b[0m\u001b[0;34m(\u001b[0m\u001b[0mself\u001b[0m\u001b[0;34m)\u001b[0m \u001b[0;34m->\u001b[0m \u001b[0mNoReturn\u001b[0m\u001b[0;34m:\u001b[0m\u001b[0;34m\u001b[0m\u001b[0;34m\u001b[0m\u001b[0m\n\u001b[0;32m-> 1526\u001b[0;31m         raise ValueError(\n\u001b[0m\u001b[1;32m   1527\u001b[0m             \u001b[0;34mf\"The truth value of a {type(self).__name__} is ambiguous. \"\u001b[0m\u001b[0;34m\u001b[0m\u001b[0;34m\u001b[0m\u001b[0m\n\u001b[1;32m   1528\u001b[0m             \u001b[0;34m\"Use a.empty, a.bool(), a.item(), a.any() or a.all().\"\u001b[0m\u001b[0;34m\u001b[0m\u001b[0;34m\u001b[0m\u001b[0m\n\u001b[1;32m   1529\u001b[0m         )\n",
      "\u001b[0;31mValueError\u001b[0m: The truth value of a Series is ambiguous. Use a.empty, a.bool(), a.item(), a.any() or a.all()."
     ]
    }
   ],
   "source": [
    "output = qaqc_unusual_gaps_precip(sub_df, 'pr', threshold=20, verbose=False)\n"
   ]
  },
  {
   "cell_type": "code",
   "execution_count": 127,
   "metadata": {},
   "outputs": [
    {
     "name": "stdout",
     "output_type": "stream",
     "text": [
      "time\n",
      "2017-12-31    False\n",
      "dtype: bool\n"
     ]
    }
   ],
   "source": [
    "print(output)"
   ]
  },
  {
   "cell_type": "code",
   "execution_count": null,
   "metadata": {},
   "outputs": [],
   "source": [
    "                # Index to flag finds where df_month is out of the distribution\n",
    "                # index_to_flag = (df_month < low) | (df_month > high)\n",
    "\n",
    "                # # Since grouping, the index of df_month is years\n",
    "                # years_to_flag = df_month[index_to_flag].index\n",
    "\n",
    "                # flag all obs in that day\n",
    "                # bad = np.logical_and(df[\"month\"] == month, df[\"year\"].isin(years_to_flag))\n",
    "                # df.loc[bad, var + \"_eraqc\"] = 21  "
   ]
  }
 ],
 "metadata": {
  "kernelspec": {
   "display_name": "hist-obs",
   "language": "python",
   "name": "python3"
  },
  "language_info": {
   "codemirror_mode": {
    "name": "ipython",
    "version": 3
   },
   "file_extension": ".py",
   "mimetype": "text/x-python",
   "name": "python",
   "nbconvert_exporter": "python",
   "pygments_lexer": "ipython3",
   "version": "3.10.13"
  }
 },
 "nbformat": 4,
 "nbformat_minor": 2
}
