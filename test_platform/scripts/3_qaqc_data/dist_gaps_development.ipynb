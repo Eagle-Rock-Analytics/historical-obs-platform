{
 "cells": [
  {
   "cell_type": "code",
   "execution_count": 1,
   "id": "89508b0f",
   "metadata": {},
   "outputs": [
    {
     "name": "stdout",
     "output_type": "stream",
     "text": [
      "Intel MKL WARNING: Support of Intel(R) Streaming SIMD Extensions 4.2 (Intel(R) SSE4.2) enabled only processors has been deprecated. Intel oneAPI Math Kernel Library 2025.0 will require Intel(R) Advanced Vector Extensions (Intel(R) AVX) instructions.\n",
      "Intel MKL WARNING: Support of Intel(R) Streaming SIMD Extensions 4.2 (Intel(R) SSE4.2) enabled only processors has been deprecated. Intel oneAPI Math Kernel Library 2025.0 will require Intel(R) Advanced Vector Extensions (Intel(R) AVX) instructions.\n"
     ]
    }
   ],
   "source": [
    "import pandas as pd\n",
    "import numpy as np\n",
    "import xarray as xr\n",
    "\n",
    "import scipy.stats as stats\n",
    "import matplotlib.pyplot as plt\n",
    "\n",
    "from matplotlib.ticker import FuncFormatter\n",
    "from matplotlib.dates import DateFormatter"
   ]
  },
  {
   "cell_type": "code",
   "execution_count": 2,
   "id": "62c14416",
   "metadata": {},
   "outputs": [
    {
     "data": {
      "text/html": [
       "<div>\n",
       "<style scoped>\n",
       "    .dataframe tbody tr th:only-of-type {\n",
       "        vertical-align: middle;\n",
       "    }\n",
       "\n",
       "    .dataframe tbody tr th {\n",
       "        vertical-align: top;\n",
       "    }\n",
       "\n",
       "    .dataframe thead th {\n",
       "        text-align: right;\n",
       "    }\n",
       "</style>\n",
       "<table border=\"1\" class=\"dataframe\">\n",
       "  <thead>\n",
       "    <tr style=\"text-align: right;\">\n",
       "      <th></th>\n",
       "      <th>station</th>\n",
       "      <th>time</th>\n",
       "      <th>tas</th>\n",
       "      <th>pr</th>\n",
       "      <th>tas_qc</th>\n",
       "      <th>elevation</th>\n",
       "      <th>lat</th>\n",
       "      <th>lon</th>\n",
       "      <th>month</th>\n",
       "      <th>year</th>\n",
       "    </tr>\n",
       "  </thead>\n",
       "  <tbody>\n",
       "    <tr>\n",
       "      <th>0</th>\n",
       "      <td>CAHYDRO_BROC1</td>\n",
       "      <td>2010-05-30 15:30:00</td>\n",
       "      <td>300.940</td>\n",
       "      <td>NaN</td>\n",
       "      <td>nan</td>\n",
       "      <td>549.8592</td>\n",
       "      <td>33.2314</td>\n",
       "      <td>-116.4144</td>\n",
       "      <td>5</td>\n",
       "      <td>2010</td>\n",
       "    </tr>\n",
       "    <tr>\n",
       "      <th>1</th>\n",
       "      <td>CAHYDRO_BROC1</td>\n",
       "      <td>2010-05-31 15:20:00</td>\n",
       "      <td>301.490</td>\n",
       "      <td>NaN</td>\n",
       "      <td>nan</td>\n",
       "      <td>549.8592</td>\n",
       "      <td>33.2314</td>\n",
       "      <td>-116.4144</td>\n",
       "      <td>5</td>\n",
       "      <td>2010</td>\n",
       "    </tr>\n",
       "    <tr>\n",
       "      <th>2</th>\n",
       "      <td>CAHYDRO_BROC1</td>\n",
       "      <td>2010-06-05 15:20:00</td>\n",
       "      <td>303.160</td>\n",
       "      <td>NaN</td>\n",
       "      <td>nan</td>\n",
       "      <td>549.8592</td>\n",
       "      <td>33.2314</td>\n",
       "      <td>-116.4144</td>\n",
       "      <td>6</td>\n",
       "      <td>2010</td>\n",
       "    </tr>\n",
       "    <tr>\n",
       "      <th>3</th>\n",
       "      <td>CAHYDRO_BROC1</td>\n",
       "      <td>2010-06-06 15:25:00</td>\n",
       "      <td>304.830</td>\n",
       "      <td>NaN</td>\n",
       "      <td>nan</td>\n",
       "      <td>549.8592</td>\n",
       "      <td>33.2314</td>\n",
       "      <td>-116.4144</td>\n",
       "      <td>6</td>\n",
       "      <td>2010</td>\n",
       "    </tr>\n",
       "    <tr>\n",
       "      <th>4</th>\n",
       "      <td>CAHYDRO_BROC1</td>\n",
       "      <td>2010-06-12 15:25:00</td>\n",
       "      <td>294.830</td>\n",
       "      <td>NaN</td>\n",
       "      <td>nan</td>\n",
       "      <td>549.8592</td>\n",
       "      <td>33.2314</td>\n",
       "      <td>-116.4144</td>\n",
       "      <td>6</td>\n",
       "      <td>2010</td>\n",
       "    </tr>\n",
       "    <tr>\n",
       "      <th>...</th>\n",
       "      <td>...</td>\n",
       "      <td>...</td>\n",
       "      <td>...</td>\n",
       "      <td>...</td>\n",
       "      <td>...</td>\n",
       "      <td>...</td>\n",
       "      <td>...</td>\n",
       "      <td>...</td>\n",
       "      <td>...</td>\n",
       "      <td>...</td>\n",
       "    </tr>\n",
       "    <tr>\n",
       "      <th>2968</th>\n",
       "      <td>CAHYDRO_BROC1</td>\n",
       "      <td>2022-07-31 23:50:00</td>\n",
       "      <td>311.494</td>\n",
       "      <td>NaN</td>\n",
       "      <td>nan</td>\n",
       "      <td>549.8592</td>\n",
       "      <td>33.2314</td>\n",
       "      <td>-116.4144</td>\n",
       "      <td>7</td>\n",
       "      <td>2022</td>\n",
       "    </tr>\n",
       "    <tr>\n",
       "      <th>2969</th>\n",
       "      <td>CAHYDRO_BROC1</td>\n",
       "      <td>2022-08-06 23:20:00</td>\n",
       "      <td>315.383</td>\n",
       "      <td>NaN</td>\n",
       "      <td>nan</td>\n",
       "      <td>549.8592</td>\n",
       "      <td>33.2314</td>\n",
       "      <td>-116.4144</td>\n",
       "      <td>8</td>\n",
       "      <td>2022</td>\n",
       "    </tr>\n",
       "    <tr>\n",
       "      <th>2970</th>\n",
       "      <td>CAHYDRO_BROC1</td>\n",
       "      <td>2022-08-08 00:40:00</td>\n",
       "      <td>312.050</td>\n",
       "      <td>NaN</td>\n",
       "      <td>nan</td>\n",
       "      <td>549.8592</td>\n",
       "      <td>33.2314</td>\n",
       "      <td>-116.4144</td>\n",
       "      <td>8</td>\n",
       "      <td>2022</td>\n",
       "    </tr>\n",
       "    <tr>\n",
       "      <th>2971</th>\n",
       "      <td>CAHYDRO_BROC1</td>\n",
       "      <td>2022-08-21 00:20:00</td>\n",
       "      <td>310.939</td>\n",
       "      <td>NaN</td>\n",
       "      <td>nan</td>\n",
       "      <td>549.8592</td>\n",
       "      <td>33.2314</td>\n",
       "      <td>-116.4144</td>\n",
       "      <td>8</td>\n",
       "      <td>2022</td>\n",
       "    </tr>\n",
       "    <tr>\n",
       "      <th>2972</th>\n",
       "      <td>CAHYDRO_BROC1</td>\n",
       "      <td>2022-08-22 00:30:00</td>\n",
       "      <td>312.606</td>\n",
       "      <td>NaN</td>\n",
       "      <td>nan</td>\n",
       "      <td>549.8592</td>\n",
       "      <td>33.2314</td>\n",
       "      <td>-116.4144</td>\n",
       "      <td>8</td>\n",
       "      <td>2022</td>\n",
       "    </tr>\n",
       "  </tbody>\n",
       "</table>\n",
       "<p>2973 rows × 10 columns</p>\n",
       "</div>"
      ],
      "text/plain": [
       "            station                time      tas  pr tas_qc  elevation  \\\n",
       "0     CAHYDRO_BROC1 2010-05-30 15:30:00  300.940 NaN    nan   549.8592   \n",
       "1     CAHYDRO_BROC1 2010-05-31 15:20:00  301.490 NaN    nan   549.8592   \n",
       "2     CAHYDRO_BROC1 2010-06-05 15:20:00  303.160 NaN    nan   549.8592   \n",
       "3     CAHYDRO_BROC1 2010-06-06 15:25:00  304.830 NaN    nan   549.8592   \n",
       "4     CAHYDRO_BROC1 2010-06-12 15:25:00  294.830 NaN    nan   549.8592   \n",
       "...             ...                 ...      ...  ..    ...        ...   \n",
       "2968  CAHYDRO_BROC1 2022-07-31 23:50:00  311.494 NaN    nan   549.8592   \n",
       "2969  CAHYDRO_BROC1 2022-08-06 23:20:00  315.383 NaN    nan   549.8592   \n",
       "2970  CAHYDRO_BROC1 2022-08-08 00:40:00  312.050 NaN    nan   549.8592   \n",
       "2971  CAHYDRO_BROC1 2022-08-21 00:20:00  310.939 NaN    nan   549.8592   \n",
       "2972  CAHYDRO_BROC1 2022-08-22 00:30:00  312.606 NaN    nan   549.8592   \n",
       "\n",
       "          lat       lon  month  year  \n",
       "0     33.2314 -116.4144      5  2010  \n",
       "1     33.2314 -116.4144      5  2010  \n",
       "2     33.2314 -116.4144      6  2010  \n",
       "3     33.2314 -116.4144      6  2010  \n",
       "4     33.2314 -116.4144      6  2010  \n",
       "...       ...       ...    ...   ...  \n",
       "2968  33.2314 -116.4144      7  2022  \n",
       "2969  33.2314 -116.4144      8  2022  \n",
       "2970  33.2314 -116.4144      8  2022  \n",
       "2971  33.2314 -116.4144      8  2022  \n",
       "2972  33.2314 -116.4144      8  2022  \n",
       "\n",
       "[2973 rows x 10 columns]"
      ]
     },
     "execution_count": 2,
     "metadata": {},
     "output_type": "execute_result"
    }
   ],
   "source": [
    "# testing file\n",
    "file = xr.open_dataset('/Users/victoriaford/Desktop/Train_Files/CAHYDRO_BROC1.nc') # has flagged vars\n",
    "# file = xr.open_dataset('/Users/victoriaford/Downloads/ASOSAWOS_72053900165.nc') # longer record, fewer flag vars\n",
    "df = file.to_dataframe()\n",
    "df = df.reset_index() \n",
    "df['month'] = pd.to_datetime(df['time']).dt.month # sets month to new variable\n",
    "df['year'] = pd.to_datetime(df['time']).dt.year # sets year to new variable\n",
    "df"
   ]
  },
  {
   "cell_type": "code",
   "execution_count": 3,
   "id": "fb8f2a02",
   "metadata": {},
   "outputs": [],
   "source": [
    "def nice_plot_scatter(df, var):\n",
    "    # ideally would plot using the eraqc column as color -- need to find a way to add a color for nan values\n",
    "    df_good = df.loc[df[var+'_eraqc'] != 18]\n",
    "    df_bad = df.loc[df[var+'_eraqc'] == 18]\n",
    "    \n",
    "    ax = df_good.plot.scatter(x='time', y=var, figsize=(9,2), s=1, color='k', label='Pass') \n",
    "    df_bad.plot.scatter(x='time', y=var, figsize=(9,2), s=1, color='r', label='Flagged', ax=ax) "
   ]
  },
  {
   "cell_type": "code",
   "execution_count": 4,
   "id": "52ffe332",
   "metadata": {},
   "outputs": [],
   "source": [
    "def iqr_standardize(df, var):\n",
    "    q1 = df[var].quantile(0.25)\n",
    "    q3 = df[var].quantile(0.75)\n",
    "    iqr = q3 - q1\n",
    "    \n",
    "    return (df[var].values - df[var].median()) / iqr"
   ]
  },
  {
   "cell_type": "code",
   "execution_count": 5,
   "id": "97eb04fd",
   "metadata": {},
   "outputs": [],
   "source": [
    "def qaqc_dist_gaps_part1(df):\n",
    "    \"\"\"\n",
    "    Part 1 / monthly check\n",
    "        - compare anomalies of monthly median values\n",
    "        - standardize against interquartile range\n",
    "        - compare stepwise from the middle of the distribution outwards\n",
    "        - asymmetries are identified and flagged if severe\n",
    "    Goal: identifies suspect months and flags all obs within month  \n",
    "    \"\"\"\n",
    "    \n",
    "    # in order to grab the time information more easily -- would prefer not to do this\n",
    "    df = df.reset_index() \n",
    "    df['month'] = pd.to_datetime(df['time']).dt.month # sets month to new variable\n",
    "    df['year'] = pd.to_datetime(df['time']).dt.year # sets year to new variable\n",
    "    \n",
    "    # calculate monthly medians\n",
    "    df_anom = df.sub(df.resample('M', on='time').transform('median', numeric_only=True))\n",
    "    df_anom['time'] = df['time'] # add time column back in to do quantiles\n",
    "\n",
    "    df_q1 = df_anom.resample('M', on='time').transform('quantile', 0.25, numeric_only=True)\n",
    "    df_q3 = df_anom.resample('M', on='time').transform('quantile', 0.75, numeric_only=True)\n",
    "    df_iqr = df_q3 - df_q1\n",
    "    df_anom_iqr = df_anom / df_iqr\n",
    "    \n",
    "    # run through every var, excluding qaqc/duration/method vars\n",
    "    vars_to_remove = ['index','station','qc','duration','method','lat','lon','elevation','time','month','year','sfcWind_dir'] # list of var substrings to exclude if present in var\n",
    "    vars_to_check = [var for var in df.columns if not any(True for item in vars_to_remove if item in var)] # remove all non-primary variables\n",
    "        \n",
    "    for var in vars_to_check:\n",
    "        # standardize against calendar-month IQR range\n",
    "#         df_anom_iqr = iqr_standardize(df_anom, var)\n",
    "\n",
    "        # add _eraqc column for each variable\n",
    "        df[var+'_eraqc'] = np.nan # default value of nan\n",
    "\n",
    "        # standardized anomalies are ranked (necessary?) and calculate median\n",
    "        std_med = df_anom_iqr[var].median() \n",
    "\n",
    "        # add standardized anomaly median to IQR-standardized data\n",
    "        df_std_med = df_anom_iqr + std_med\n",
    "        df_std_med['time'] = df['time'] # add time columns back in... again\n",
    "        df_std_med['year'] = df['year']\n",
    "        df_std_med['month'] = df['month']\n",
    "\n",
    "        # identify where any obs are +/- 5 IQR away from standardized anomaly median\n",
    "        if len(df_std_med.loc[np.abs(df_std_med[var]) > 5]) != 0:\n",
    "\n",
    "            bad_idxs = df_std_med.loc[np.abs(df_std_med[var]) > 5].index.tolist() # grab indices of suspect obs\n",
    "            bad_df = df.iloc[bad_idxs] # creates df subset of all flagged obs\n",
    "            unique_bad = bad_df[['year', 'month']].drop_duplicates() # returns a df of idx, year, month\n",
    "            \n",
    "            print('{0} suspicious {1} observations present across {2} months'.format(len(bad_idxs), var, len(unique_bad)))\n",
    "                        \n",
    "            for i in unique_bad.index:\n",
    "                \n",
    "                # identify all indices for months encapsulating suspect obs\n",
    "                bad_obs_yr = unique_bad.iloc[unique_bad.index == i]['year'].values[0]\n",
    "                bad_obs_mon = unique_bad.iloc[unique_bad.index == i]['month'].values[0]\n",
    "                \n",
    "                bad_obs_per_month = df.loc[(df['year'] == bad_obs_yr) & (df['month'] == bad_obs_mon)]\n",
    "                all_idx_to_flag = bad_obs_per_month.index\n",
    "\n",
    "                # flag all indices in full df from the flagged months\n",
    "                for i in all_idx_to_flag: # flag all indices in those months\n",
    "                    df.loc[df.index == i, var+'_eraqc'] = 18 # see era_qaqc_flag_meanings.csv # DOUBLE CHECK VALUE\n",
    "\n",
    "        else:\n",
    "            print('Part 1: PASS. All {} obs are within +/- 5 IQR range'.format(var))\n",
    "                \n",
    "    return df\n"
   ]
  },
  {
   "cell_type": "code",
   "execution_count": 6,
   "id": "d8e34b8e",
   "metadata": {},
   "outputs": [
    {
     "name": "stdout",
     "output_type": "stream",
     "text": [
      "1 suspicious tas observations present across 1 months\n",
      "Part 1: PASS. All pr obs are within +/- 5 IQR range\n"
     ]
    }
   ],
   "source": [
    "test = qaqc_dist_gaps_part1(df)"
   ]
  },
  {
   "cell_type": "code",
   "execution_count": 7,
   "id": "546e4a51",
   "metadata": {
    "scrolled": false
   },
   "outputs": [
    {
     "data": {
      "image/png": "[encoded data removed]",
      "text/plain": [
       "<Figure size 900x200 with 1 Axes>"
      ]
     },
     "metadata": {},
     "output_type": "display_data"
    }
   ],
   "source": [
    "nice_plot_scatter(test, var='tas')"
   ]
  },
  {
   "cell_type": "code",
   "execution_count": 11,
   "id": "d8d1ade8",
   "metadata": {},
   "outputs": [],
   "source": [
    "jun_df = test.loc[test['month'] == 6]"
   ]
  },
  {
   "cell_type": "code",
   "execution_count": 12,
   "id": "bd776788",
   "metadata": {},
   "outputs": [
    {
     "data": {
      "text/plain": [
       "310.93899999999996"
      ]
     },
     "execution_count": 12,
     "metadata": {},
     "output_type": "execute_result"
    }
   ],
   "source": [
    "jun_df['tas'].median()"
   ]
  },
  {
   "cell_type": "code",
   "execution_count": 19,
   "id": "ef40ce44",
   "metadata": {},
   "outputs": [
    {
     "data": {
      "text/plain": [
       "302.60999999999996"
      ]
     },
     "execution_count": 19,
     "metadata": {},
     "output_type": "execute_result"
    }
   ],
   "source": [
    "df_bad_1m['tas'].median()"
   ]
  },
  {
   "cell_type": "code",
   "execution_count": 20,
   "id": "05f22d61",
   "metadata": {},
   "outputs": [
    {
     "data": {
      "text/plain": [
       "6.389999999999986"
      ]
     },
     "execution_count": 20,
     "metadata": {},
     "output_type": "execute_result"
    }
   ],
   "source": [
    "q1 = jun_df['tas'].quantile(0.25)\n",
    "q3 = jun_df['tas'].quantile(0.75)\n",
    "iqr = q3-q1\n",
    "iqr"
   ]
  },
  {
   "cell_type": "code",
   "execution_count": 10,
   "id": "1920b511",
   "metadata": {
    "scrolled": false
   },
   "outputs": [
    {
     "data": {
      "text/plain": [
       "<Axes: xlabel='time', ylabel='tas'>"
      ]
     },
     "execution_count": 10,
     "metadata": {},
     "output_type": "execute_result"
    },
    {
     "data": {
      "image/png": "[encoded data removed]",
      "text/plain": [
       "<Figure size 640x480 with 1 Axes>"
      ]
     },
     "metadata": {},
     "output_type": "display_data"
    }
   ],
   "source": [
    "var = 'tas'\n",
    "df_bad = test.loc[test[var+'_eraqc'] == 18]\n",
    "df_bad.plot.scatter(x='time', y='tas')"
   ]
  },
  {
   "cell_type": "code",
   "execution_count": 13,
   "id": "5fd466a3",
   "metadata": {},
   "outputs": [],
   "source": [
    "df_bad_1m = df_bad.loc[(df_bad['year']==2010) & (df_bad['month']==6)]\n",
    "# df_all_1m = df.loc[(df['year']==2004) & (df['month']==3)] # test grab all data from that month to check"
   ]
  },
  {
   "cell_type": "code",
   "execution_count": 15,
   "id": "d947eeb2",
   "metadata": {},
   "outputs": [
    {
     "data": {
      "text/plain": [
       "302.60999999999996"
      ]
     },
     "execution_count": 15,
     "metadata": {},
     "output_type": "execute_result"
    }
   ],
   "source": [
    "df_bad_1m['tas'].median()"
   ]
  },
  {
   "cell_type": "code",
   "execution_count": 18,
   "id": "eda0e6f6",
   "metadata": {
    "scrolled": false
   },
   "outputs": [
    {
     "data": {
      "text/plain": [
       "<matplotlib.lines.Line2D at 0x131d77350>"
      ]
     },
     "execution_count": 18,
     "metadata": {},
     "output_type": "execute_result"
    },
    {
     "data": {
      "image/png": "[encoded data removed]",
      "text/plain": [
       "<Figure size 1200x400 with 1 Axes>"
      ]
     },
     "metadata": {},
     "output_type": "display_data"
    }
   ],
   "source": [
    "df_bad_1m.plot.scatter(x='time', y='tas', figsize=(12,4))\n",
    "# df_all_1m.plot.scatter(x='time', y='tdps_derived', figsize=(12,4)) # is this all of the data? yes\n",
    "\n",
    "plt.axhline(y=df_bad_1m['tas'].median(), color='k', linewidth=0.5)\n",
    "top_5iqr = df_bad_1m['tas'].median() + iqr*5\n",
    "plt.axhline(y=top_5iqr, color='r', linewidth=0.5)"
   ]
  },
  {
   "cell_type": "code",
   "execution_count": 17,
   "id": "5ad8de91",
   "metadata": {},
   "outputs": [
    {
     "data": {
      "text/plain": [
       "1.384999999999991"
      ]
     },
     "execution_count": 17,
     "metadata": {},
     "output_type": "execute_result"
    }
   ],
   "source": [
    "q1 = df_bad_1m['tas'].quantile(0.25)\n",
    "q3 = df_bad_1m['tas'].quantile(0.75)\n",
    "iqr = q3-q1\n",
    "iqr"
   ]
  },
  {
   "cell_type": "code",
   "execution_count": null,
   "id": "679f928f",
   "metadata": {},
   "outputs": [],
   "source": [
    "def plot_gap_scatter(df, var):\n",
    "    \n",
    "    yr_list = df['time'].dt.year.unique().tolist()\n",
    "    num_yrs = len(yr_list)\n",
    "    if num_yrs > 5:\n",
    "        num_yrs = 3 # select specific years?\n",
    "        \n",
    "    # ideally would plot using the eraqc column as color -- need to find a way to add a color for nan values\n",
    "    df_good = df.loc[df[var+'_eraqc'] != 18]\n",
    "    df_bad = df.loc[df[var+'_eraqc'] == 18]\n",
    "        \n",
    "    month_fmt = DateFormatter('%b')\n",
    "    def m_fmt(x, pos=None):\n",
    "        return month_fmt(x)[0]  \n",
    "    \n",
    "    for yr in yr_list:    \n",
    "        ax = df_good.loc[df['time'].dt.year == yr].plot.scatter(x='time', y=var, figsize=(6,2), s=1, color='k', label='Pass') \n",
    "        df_bad.loc[df_bad['time'].dt.year == yr].plot.scatter(x='time', y=var, figsize=(6,2), s=1, color='r', label='Flagged', ax=ax) \n",
    "\n",
    "        # what to do if one year of data has all nan values -- ex: sensor was added later on?\n",
    "        ax.xaxis.set_major_formatter(FuncFormatter(m_fmt))\n",
    "        ax.set_xlim(pd.Timestamp(str(yr)+'-01-01'), pd.Timestamp(str(yr)+'-12-31'))\n",
    "        ax.set_ylim(int(df[var].min()), int(df[var].max())+1)\n",
    "        ax.set_xlabel(yr) # for now\n",
    "        \n",
    "        # flagged/suspicious data in different color - need to overlap, not new axis\n",
    "#         bad_vals = df.loc[df[var+'_eraqc'] == 18]\n",
    "#         ax = bad_vals.loc[bad_vals['time'].dt.year == yr].plot.scatter(x='time', y=var, s=1, color='r', label='Flagged')\n",
    "\n",
    "\n",
    "    # modify so that legend only appears once\n",
    "    # legend item text size small, 2 cols\n"
   ]
  },
  {
   "cell_type": "code",
   "execution_count": null,
   "id": "25f1837d",
   "metadata": {},
   "outputs": [],
   "source": [
    "plot_gap_scatter(df, var='tas')"
   ]
  }
 ],
 "metadata": {
  "kernelspec": {
   "display_name": "Python 3 (ipykernel)",
   "language": "python",
   "name": "python3"
  },
  "language_info": {
   "codemirror_mode": {
    "name": "ipython",
    "version": 3
   },
   "file_extension": ".py",
   "mimetype": "text/x-python",
   "name": "python",
   "nbconvert_exporter": "python",
   "pygments_lexer": "ipython3",
   "version": "3.11.4"
  }
 },
 "nbformat": 4,
 "nbformat_minor": 5
}
