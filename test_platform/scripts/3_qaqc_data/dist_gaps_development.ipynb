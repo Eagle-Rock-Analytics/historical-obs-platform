{
 "cells": [
  {
   "cell_type": "code",
   "execution_count": 1,
   "id": "89508b0f",
   "metadata": {},
   "outputs": [
    {
     "name": "stdout",
     "output_type": "stream",
     "text": [
      "Intel MKL WARNING: Support of Intel(R) Streaming SIMD Extensions 4.2 (Intel(R) SSE4.2) enabled only processors has been deprecated. Intel oneAPI Math Kernel Library 2025.0 will require Intel(R) Advanced Vector Extensions (Intel(R) AVX) instructions.\n",
      "Intel MKL WARNING: Support of Intel(R) Streaming SIMD Extensions 4.2 (Intel(R) SSE4.2) enabled only processors has been deprecated. Intel oneAPI Math Kernel Library 2025.0 will require Intel(R) Advanced Vector Extensions (Intel(R) AVX) instructions.\n"
     ]
    }
   ],
   "source": [
    "import pandas as pd\n",
    "import numpy as np\n",
    "import xarray as xr\n",
    "\n",
    "import scipy.stats as stats\n",
    "import matplotlib.pyplot as plt\n",
    "\n",
    "from matplotlib.ticker import FuncFormatter\n",
    "from matplotlib.dates import DateFormatter"
   ]
  },
  {
   "cell_type": "code",
   "execution_count": 9,
   "id": "62c14416",
   "metadata": {},
   "outputs": [
    {
     "data": {
      "text/html": [
       "<div>\n",
       "<style scoped>\n",
       "    .dataframe tbody tr th:only-of-type {\n",
       "        vertical-align: middle;\n",
       "    }\n",
       "\n",
       "    .dataframe tbody tr th {\n",
       "        vertical-align: top;\n",
       "    }\n",
       "\n",
       "    .dataframe thead th {\n",
       "        text-align: right;\n",
       "    }\n",
       "</style>\n",
       "<table border=\"1\" class=\"dataframe\">\n",
       "  <thead>\n",
       "    <tr style=\"text-align: right;\">\n",
       "      <th></th>\n",
       "      <th>station</th>\n",
       "      <th>time</th>\n",
       "      <th>tas</th>\n",
       "      <th>hurs</th>\n",
       "      <th>sfcWind</th>\n",
       "      <th>sfcWind_dir</th>\n",
       "      <th>ps_altimeter</th>\n",
       "      <th>tas_qc</th>\n",
       "      <th>sfcWind_qc</th>\n",
       "      <th>tdps_derived</th>\n",
       "      <th>ps_derived</th>\n",
       "      <th>elevation</th>\n",
       "      <th>lat</th>\n",
       "      <th>lon</th>\n",
       "      <th>month</th>\n",
       "      <th>year</th>\n",
       "    </tr>\n",
       "  </thead>\n",
       "  <tbody>\n",
       "    <tr>\n",
       "      <th>0</th>\n",
       "      <td>CWOP_AP153</td>\n",
       "      <td>2003-09-16 16:30:00</td>\n",
       "      <td>283.16</td>\n",
       "      <td>53.0</td>\n",
       "      <td>0.00</td>\n",
       "      <td>289.0</td>\n",
       "      <td>NaN</td>\n",
       "      <td>nan</td>\n",
       "      <td>nan</td>\n",
       "      <td>273.93</td>\n",
       "      <td>NaN</td>\n",
       "      <td>1406.0424</td>\n",
       "      <td>41.543</td>\n",
       "      <td>-120.5332</td>\n",
       "      <td>9</td>\n",
       "      <td>2003</td>\n",
       "    </tr>\n",
       "    <tr>\n",
       "      <th>1</th>\n",
       "      <td>CWOP_AP153</td>\n",
       "      <td>2003-09-16 17:00:00</td>\n",
       "      <td>284.83</td>\n",
       "      <td>44.0</td>\n",
       "      <td>0.90</td>\n",
       "      <td>263.0</td>\n",
       "      <td>NaN</td>\n",
       "      <td>nan</td>\n",
       "      <td>nan</td>\n",
       "      <td>272.88</td>\n",
       "      <td>NaN</td>\n",
       "      <td>1406.0424</td>\n",
       "      <td>41.543</td>\n",
       "      <td>-120.5332</td>\n",
       "      <td>9</td>\n",
       "      <td>2003</td>\n",
       "    </tr>\n",
       "    <tr>\n",
       "      <th>2</th>\n",
       "      <td>CWOP_AP153</td>\n",
       "      <td>2003-09-16 17:30:00</td>\n",
       "      <td>287.05</td>\n",
       "      <td>39.0</td>\n",
       "      <td>5.36</td>\n",
       "      <td>305.0</td>\n",
       "      <td>NaN</td>\n",
       "      <td>nan</td>\n",
       "      <td>nan</td>\n",
       "      <td>273.22</td>\n",
       "      <td>NaN</td>\n",
       "      <td>1406.0424</td>\n",
       "      <td>41.543</td>\n",
       "      <td>-120.5332</td>\n",
       "      <td>9</td>\n",
       "      <td>2003</td>\n",
       "    </tr>\n",
       "    <tr>\n",
       "      <th>3</th>\n",
       "      <td>CWOP_AP153</td>\n",
       "      <td>2003-09-16 18:00:00</td>\n",
       "      <td>287.61</td>\n",
       "      <td>37.0</td>\n",
       "      <td>4.47</td>\n",
       "      <td>296.0</td>\n",
       "      <td>NaN</td>\n",
       "      <td>nan</td>\n",
       "      <td>nan</td>\n",
       "      <td>273.00</td>\n",
       "      <td>NaN</td>\n",
       "      <td>1406.0424</td>\n",
       "      <td>41.543</td>\n",
       "      <td>-120.5332</td>\n",
       "      <td>9</td>\n",
       "      <td>2003</td>\n",
       "    </tr>\n",
       "    <tr>\n",
       "      <th>4</th>\n",
       "      <td>CWOP_AP153</td>\n",
       "      <td>2003-09-16 18:30:00</td>\n",
       "      <td>288.72</td>\n",
       "      <td>35.0</td>\n",
       "      <td>3.13</td>\n",
       "      <td>254.0</td>\n",
       "      <td>NaN</td>\n",
       "      <td>nan</td>\n",
       "      <td>nan</td>\n",
       "      <td>273.22</td>\n",
       "      <td>NaN</td>\n",
       "      <td>1406.0424</td>\n",
       "      <td>41.543</td>\n",
       "      <td>-120.5332</td>\n",
       "      <td>9</td>\n",
       "      <td>2003</td>\n",
       "    </tr>\n",
       "    <tr>\n",
       "      <th>...</th>\n",
       "      <td>...</td>\n",
       "      <td>...</td>\n",
       "      <td>...</td>\n",
       "      <td>...</td>\n",
       "      <td>...</td>\n",
       "      <td>...</td>\n",
       "      <td>...</td>\n",
       "      <td>...</td>\n",
       "      <td>...</td>\n",
       "      <td>...</td>\n",
       "      <td>...</td>\n",
       "      <td>...</td>\n",
       "      <td>...</td>\n",
       "      <td>...</td>\n",
       "      <td>...</td>\n",
       "      <td>...</td>\n",
       "    </tr>\n",
       "    <tr>\n",
       "      <th>8930</th>\n",
       "      <td>CWOP_AP153</td>\n",
       "      <td>2005-03-08 18:00:00</td>\n",
       "      <td>281.49</td>\n",
       "      <td>66.0</td>\n",
       "      <td>0.00</td>\n",
       "      <td>247.0</td>\n",
       "      <td>86725.20</td>\n",
       "      <td>nan</td>\n",
       "      <td>nan</td>\n",
       "      <td>275.44</td>\n",
       "      <td>73203.68</td>\n",
       "      <td>1406.0424</td>\n",
       "      <td>41.543</td>\n",
       "      <td>-120.5332</td>\n",
       "      <td>3</td>\n",
       "      <td>2005</td>\n",
       "    </tr>\n",
       "    <tr>\n",
       "      <th>8931</th>\n",
       "      <td>CWOP_AP153</td>\n",
       "      <td>2005-03-08 18:15:00</td>\n",
       "      <td>282.61</td>\n",
       "      <td>62.0</td>\n",
       "      <td>0.00</td>\n",
       "      <td>342.0</td>\n",
       "      <td>86725.20</td>\n",
       "      <td>nan</td>\n",
       "      <td>nan</td>\n",
       "      <td>275.62</td>\n",
       "      <td>73203.68</td>\n",
       "      <td>1406.0424</td>\n",
       "      <td>41.543</td>\n",
       "      <td>-120.5332</td>\n",
       "      <td>3</td>\n",
       "      <td>2005</td>\n",
       "    </tr>\n",
       "    <tr>\n",
       "      <th>8932</th>\n",
       "      <td>CWOP_AP153</td>\n",
       "      <td>2005-03-08 18:30:00</td>\n",
       "      <td>283.72</td>\n",
       "      <td>60.0</td>\n",
       "      <td>0.00</td>\n",
       "      <td>224.0</td>\n",
       "      <td>86725.20</td>\n",
       "      <td>nan</td>\n",
       "      <td>nan</td>\n",
       "      <td>276.20</td>\n",
       "      <td>73203.68</td>\n",
       "      <td>1406.0424</td>\n",
       "      <td>41.543</td>\n",
       "      <td>-120.5332</td>\n",
       "      <td>3</td>\n",
       "      <td>2005</td>\n",
       "    </tr>\n",
       "    <tr>\n",
       "      <th>8933</th>\n",
       "      <td>CWOP_AP153</td>\n",
       "      <td>2005-03-08 20:15:00</td>\n",
       "      <td>290.38</td>\n",
       "      <td>35.0</td>\n",
       "      <td>0.90</td>\n",
       "      <td>349.0</td>\n",
       "      <td>86639.45</td>\n",
       "      <td>nan</td>\n",
       "      <td>nan</td>\n",
       "      <td>274.70</td>\n",
       "      <td>73131.30</td>\n",
       "      <td>1406.0424</td>\n",
       "      <td>41.543</td>\n",
       "      <td>-120.5332</td>\n",
       "      <td>3</td>\n",
       "      <td>2005</td>\n",
       "    </tr>\n",
       "    <tr>\n",
       "      <th>8934</th>\n",
       "      <td>CWOP_AP153</td>\n",
       "      <td>2005-03-08 20:30:00</td>\n",
       "      <td>290.94</td>\n",
       "      <td>36.0</td>\n",
       "      <td>0.00</td>\n",
       "      <td>269.0</td>\n",
       "      <td>86610.86</td>\n",
       "      <td>nan</td>\n",
       "      <td>nan</td>\n",
       "      <td>275.59</td>\n",
       "      <td>73107.17</td>\n",
       "      <td>1406.0424</td>\n",
       "      <td>41.543</td>\n",
       "      <td>-120.5332</td>\n",
       "      <td>3</td>\n",
       "      <td>2005</td>\n",
       "    </tr>\n",
       "  </tbody>\n",
       "</table>\n",
       "<p>8935 rows × 16 columns</p>\n",
       "</div>"
      ],
      "text/plain": [
       "         station                time     tas  hurs  sfcWind  sfcWind_dir  \\\n",
       "0     CWOP_AP153 2003-09-16 16:30:00  283.16  53.0     0.00        289.0   \n",
       "1     CWOP_AP153 2003-09-16 17:00:00  284.83  44.0     0.90        263.0   \n",
       "2     CWOP_AP153 2003-09-16 17:30:00  287.05  39.0     5.36        305.0   \n",
       "3     CWOP_AP153 2003-09-16 18:00:00  287.61  37.0     4.47        296.0   \n",
       "4     CWOP_AP153 2003-09-16 18:30:00  288.72  35.0     3.13        254.0   \n",
       "...          ...                 ...     ...   ...      ...          ...   \n",
       "8930  CWOP_AP153 2005-03-08 18:00:00  281.49  66.0     0.00        247.0   \n",
       "8931  CWOP_AP153 2005-03-08 18:15:00  282.61  62.0     0.00        342.0   \n",
       "8932  CWOP_AP153 2005-03-08 18:30:00  283.72  60.0     0.00        224.0   \n",
       "8933  CWOP_AP153 2005-03-08 20:15:00  290.38  35.0     0.90        349.0   \n",
       "8934  CWOP_AP153 2005-03-08 20:30:00  290.94  36.0     0.00        269.0   \n",
       "\n",
       "      ps_altimeter tas_qc sfcWind_qc  tdps_derived  ps_derived  elevation  \\\n",
       "0              NaN    nan        nan        273.93         NaN  1406.0424   \n",
       "1              NaN    nan        nan        272.88         NaN  1406.0424   \n",
       "2              NaN    nan        nan        273.22         NaN  1406.0424   \n",
       "3              NaN    nan        nan        273.00         NaN  1406.0424   \n",
       "4              NaN    nan        nan        273.22         NaN  1406.0424   \n",
       "...            ...    ...        ...           ...         ...        ...   \n",
       "8930      86725.20    nan        nan        275.44    73203.68  1406.0424   \n",
       "8931      86725.20    nan        nan        275.62    73203.68  1406.0424   \n",
       "8932      86725.20    nan        nan        276.20    73203.68  1406.0424   \n",
       "8933      86639.45    nan        nan        274.70    73131.30  1406.0424   \n",
       "8934      86610.86    nan        nan        275.59    73107.17  1406.0424   \n",
       "\n",
       "         lat       lon  month  year  \n",
       "0     41.543 -120.5332      9  2003  \n",
       "1     41.543 -120.5332      9  2003  \n",
       "2     41.543 -120.5332      9  2003  \n",
       "3     41.543 -120.5332      9  2003  \n",
       "4     41.543 -120.5332      9  2003  \n",
       "...      ...       ...    ...   ...  \n",
       "8930  41.543 -120.5332      3  2005  \n",
       "8931  41.543 -120.5332      3  2005  \n",
       "8932  41.543 -120.5332      3  2005  \n",
       "8933  41.543 -120.5332      3  2005  \n",
       "8934  41.543 -120.5332      3  2005  \n",
       "\n",
       "[8935 rows x 16 columns]"
      ]
     },
     "execution_count": 9,
     "metadata": {},
     "output_type": "execute_result"
    }
   ],
   "source": [
    "# testing file\n",
    "file = xr.open_dataset('/Users/victoriaford/Downloads/CWOP_AP153.nc') # has flagged vars\n",
    "# file = xr.open_dataset('/Users/victoriaford/Downloads/ASOSAWOS_72053900165.nc') # longer record, fewer flag vars\n",
    "df = file.to_dataframe()\n",
    "df = df.reset_index() \n",
    "df['month'] = pd.to_datetime(df['time']).dt.month # sets month to new variable\n",
    "df['year'] = pd.to_datetime(df['time']).dt.year # sets year to new variable\n",
    "df"
   ]
  },
  {
   "cell_type": "code",
   "execution_count": 10,
   "id": "fb8f2a02",
   "metadata": {},
   "outputs": [],
   "source": [
    "def nice_plot_scatter(df, var):\n",
    "    # ideally would plot using the eraqc column as color -- need to find a way to add a color for nan values\n",
    "    df_good = df.loc[df[var+'_eraqc'] != 18]\n",
    "    df_bad = df.loc[df[var+'_eraqc'] == 18]\n",
    "    \n",
    "    ax = df_good.plot.scatter(x='time', y=var, figsize=(9,2), s=1, color='k', label='Pass') \n",
    "    df_bad.plot.scatter(x='time', y=var, figsize=(9,2), s=1, color='r', label='Flagged', ax=ax) "
   ]
  },
  {
   "cell_type": "code",
   "execution_count": 11,
   "id": "52ffe332",
   "metadata": {},
   "outputs": [],
   "source": [
    "def iqr_standardize(df, var):\n",
    "    q1 = df[var].quantile(0.25)\n",
    "    q3 = df[var].quantile(0.75)\n",
    "    iqr = q3 - q1\n",
    "    \n",
    "    return (df[var].values - df[var].median()) / iqr"
   ]
  },
  {
   "cell_type": "code",
   "execution_count": 12,
   "id": "97eb04fd",
   "metadata": {},
   "outputs": [],
   "source": [
    "def qaqc_dist_gaps_part1(df):\n",
    "    \"\"\"\n",
    "    Part 1 / monthly check\n",
    "        - compare anomalies of monthly median values\n",
    "        - standardize against interquartile range\n",
    "        - compare stepwise from the middle of the distribution outwards\n",
    "        - asymmetries are identified and flagged if severe\n",
    "    Goal: identifies individual suspect observations and flags the entire month  \n",
    "    \"\"\"\n",
    "    \n",
    "    # in order to grab the time information more easily -- would prefer not to do this\n",
    "    df = df.reset_index() \n",
    "    df['month'] = pd.to_datetime(df['time']).dt.month # sets month to new variable\n",
    "    df['year'] = pd.to_datetime(df['time']).dt.year # sets year to new variable\n",
    "    \n",
    "    # calculate monthly medians\n",
    "    df_anom = df.sub(df.resample('M', on='time').transform('median', numeric_only=True))\n",
    "    df_anom['time'] = df['time'] # add time column back in to do quantiles\n",
    "\n",
    "    df_q1 = df_anom.resample('M', on='time').transform('quantile', 0.25, numeric_only=True)\n",
    "    df_q3 = df_anom.resample('M', on='time').transform('quantile', 0.75, numeric_only=True)\n",
    "    df_iqr = df_q3 - df_q1\n",
    "    df_anom_iqr = df_anom / df_iqr\n",
    "    \n",
    "    # run through every var, excluding qaqc/duration/method vars\n",
    "    vars_to_remove = ['index','station','qc', 'duration', 'method', 'lat', 'lon', 'elevation', 'time', 'month', 'year', 'sfcWind_dir'] # list of var substrings to exclude if present in var\n",
    "    vars_to_check = [var for var in df.columns if not any(True for item in vars_to_remove if item in var)] # remove all non-primary variables\n",
    "    \n",
    "#     vars_to_check = ['tdps'] # testing\n",
    "    \n",
    "    for var in vars_to_check:\n",
    "        # standardize against calendar-month IQR range\n",
    "#         df_anom_iqr = iqr_standardize(df_anom, var)\n",
    "\n",
    "        # add _eraqc column for each variable\n",
    "        df[var+'_eraqc'] = np.nan # default value of nan\n",
    "\n",
    "        # standardized anomalies are ranked (necessary?) and calculate median\n",
    "        std_med = df_anom_iqr[var].median() \n",
    "\n",
    "        # add standardized anomaly median to IQR-standardized data\n",
    "        df_std_med = df_anom_iqr + std_med\n",
    "        df_std_med['time'] = df['time'] # add time columns back in... again\n",
    "        df_std_med['year'] = df['year']\n",
    "        df_std_med['month'] = df['month']\n",
    "\n",
    "        # identify where any obs are +/- 5 IQR away from standardized anomaly median\n",
    "        if len(df_std_med.loc[np.abs(df_std_med[var]) > 5]) != 0:\n",
    "\n",
    "            bad_idxs = df_std_med.loc[np.abs(df_std_med[var]) > 5].index.tolist() # grab indices of suspect obs\n",
    "            bad_df = df.iloc[bad_idxs] # creates df subset of all flagged obs\n",
    "            unique_bad = bad_df[['year', 'month']].drop_duplicates() # returns a df of idx, year, month\n",
    "            \n",
    "            print('{0} suspicious {1} observations present across {2} months'.format(len(bad_idxs), var, len(unique_bad)))\n",
    "                        \n",
    "            for i in unique_bad.index:\n",
    "                \n",
    "                # identify all indices for months encapsulating suspect obs\n",
    "                bad_obs_yr = unique_bad.iloc[unique_bad.index == i]['year'].values[0]\n",
    "                bad_obs_mon = unique_bad.iloc[unique_bad.index == i]['month'].values[0]\n",
    "                \n",
    "                bad_obs_per_month = df.loc[(df['year'] == bad_obs_yr) & (df['month'] == bad_obs_mon)]\n",
    "                all_idx_to_flag = bad_obs_per_month.index\n",
    "\n",
    "                # flag all indices in full df from the flagged months\n",
    "                for i in all_idx_to_flag: # flag all indices in those months\n",
    "                    df.loc[df.index == i, var+'_eraqc'] = 18 # see era_qaqc_flag_meanings.csv # DOUBLE CHECK VALUE\n",
    "\n",
    "        else:\n",
    "            print('Part 1: PASS. All {} obs are within +/- 5 IQR range'.format(var))\n",
    "                \n",
    "    return df\n"
   ]
  },
  {
   "cell_type": "code",
   "execution_count": 13,
   "id": "d8e34b8e",
   "metadata": {},
   "outputs": [
    {
     "name": "stdout",
     "output_type": "stream",
     "text": [
      "Part 1: PASS. All tas obs are within +/- 5 IQR range\n",
      "Part 1: PASS. All hurs obs are within +/- 5 IQR range\n",
      "8 suspicious sfcWind observations present across 1 months\n",
      "12 suspicious tdps_derived observations present across 4 months\n",
      "20 suspicious ps_derived observations present across 5 months\n"
     ]
    }
   ],
   "source": [
    "test = qaqc_dist_gaps_part1(df)"
   ]
  },
  {
   "cell_type": "code",
   "execution_count": 24,
   "id": "546e4a51",
   "metadata": {
    "scrolled": true
   },
   "outputs": [
    {
     "data": {
      "image/png": "[encoded data removed]",
      "text/plain": [
       "<Figure size 900x200 with 1 Axes>"
      ]
     },
     "metadata": {},
     "output_type": "display_data"
    }
   ],
   "source": [
    "nice_plot_scatter(test, var='tdps_derived')"
   ]
  },
  {
   "cell_type": "code",
   "execution_count": 25,
   "id": "1920b511",
   "metadata": {
    "scrolled": false
   },
   "outputs": [
    {
     "data": {
      "text/plain": [
       "<Axes: xlabel='time', ylabel='tdps_derived'>"
      ]
     },
     "execution_count": 25,
     "metadata": {},
     "output_type": "execute_result"
    },
    {
     "data": {
      "image/png": "[encoded data removed]",
      "text/plain": [
       "<Figure size 640x480 with 1 Axes>"
      ]
     },
     "metadata": {},
     "output_type": "display_data"
    }
   ],
   "source": [
    "var = 'tdps_derived'\n",
    "df_bad = test.loc[test[var+'_eraqc'] == 18]\n",
    "df_bad.plot.scatter(x='time', y='tdps_derived')"
   ]
  },
  {
   "cell_type": "code",
   "execution_count": 26,
   "id": "5fd466a3",
   "metadata": {},
   "outputs": [],
   "source": [
    "df_bad_1m = df_bad.loc[(df_bad['year']==2004) & (df_bad['month']==3)]\n",
    "# df_all_1m = df.loc[(df['year']==2004) & (df['month']==3)] # test grab all data from that month to check"
   ]
  },
  {
   "cell_type": "code",
   "execution_count": 32,
   "id": "d947eeb2",
   "metadata": {},
   "outputs": [
    {
     "data": {
      "text/plain": [
       "272.77"
      ]
     },
     "execution_count": 32,
     "metadata": {},
     "output_type": "execute_result"
    }
   ],
   "source": [
    "df_bad_1m['tdps_derived'].median()"
   ]
  },
  {
   "cell_type": "code",
   "execution_count": 33,
   "id": "eda0e6f6",
   "metadata": {
    "scrolled": false
   },
   "outputs": [
    {
     "data": {
      "text/plain": [
       "<matplotlib.lines.Line2D at 0x131300210>"
      ]
     },
     "execution_count": 33,
     "metadata": {},
     "output_type": "execute_result"
    },
    {
     "data": {
      "image/png": "[encoded data removed]",
      "text/plain": [
       "<Figure size 1200x400 with 1 Axes>"
      ]
     },
     "metadata": {},
     "output_type": "display_data"
    }
   ],
   "source": [
    "df_bad_1m.plot.scatter(x='time', y='tdps_derived', figsize=(12,4))\n",
    "# df_all_1m.plot.scatter(x='time', y='tdps_derived', figsize=(12,4)) # is this all of the data? yes\n",
    "\n",
    "plt.axhline(y=df_bad_1m['tdps_derived'].median(), color='k', linewidth=0.5)\n",
    "top_5iqr = df_bad_1m['tdps_derived'].median() + iqr*5\n",
    "plt.axhline(y=top_5iqr, color='r', linewidth=0.5)"
   ]
  },
  {
   "cell_type": "code",
   "execution_count": 29,
   "id": "5ad8de91",
   "metadata": {},
   "outputs": [
    {
     "data": {
      "text/plain": [
       "4.064999999999941"
      ]
     },
     "execution_count": 29,
     "metadata": {},
     "output_type": "execute_result"
    }
   ],
   "source": [
    "q1 = df_bad_1m['tdps_derived'].quantile(0.25)\n",
    "q3 = df_bad_1m['tdps_derived'].quantile(0.75)\n",
    "iqr = q3-q1\n",
    "iqr"
   ]
  },
  {
   "cell_type": "code",
   "execution_count": null,
   "id": "679f928f",
   "metadata": {},
   "outputs": [],
   "source": [
    "def plot_gap_scatter(df, var):\n",
    "    \n",
    "    yr_list = df['time'].dt.year.unique().tolist()\n",
    "    num_yrs = len(yr_list)\n",
    "    if num_yrs > 5:\n",
    "        num_yrs = 3 # select specific years?\n",
    "        \n",
    "    # ideally would plot using the eraqc column as color -- need to find a way to add a color for nan values\n",
    "    df_good = df.loc[df[var+'_eraqc'] != 18]\n",
    "    df_bad = df.loc[df[var+'_eraqc'] == 18]\n",
    "        \n",
    "    month_fmt = DateFormatter('%b')\n",
    "    def m_fmt(x, pos=None):\n",
    "        return month_fmt(x)[0]  \n",
    "    \n",
    "    for yr in yr_list:    \n",
    "        ax = df_good.loc[df['time'].dt.year == yr].plot.scatter(x='time', y=var, figsize=(6,2), s=1, color='k', label='Pass') \n",
    "        df_bad.loc[df_bad['time'].dt.year == yr].plot.scatter(x='time', y=var, figsize=(6,2), s=1, color='r', label='Flagged', ax=ax) \n",
    "\n",
    "        # what to do if one year of data has all nan values -- ex: sensor was added later on?\n",
    "        ax.xaxis.set_major_formatter(FuncFormatter(m_fmt))\n",
    "        ax.set_xlim(pd.Timestamp(str(yr)+'-01-01'), pd.Timestamp(str(yr)+'-12-31'))\n",
    "        ax.set_ylim(int(df[var].min()), int(df[var].max())+1)\n",
    "        ax.set_xlabel(yr) # for now\n",
    "        \n",
    "        # flagged/suspicious data in different color - need to overlap, not new axis\n",
    "#         bad_vals = df.loc[df[var+'_eraqc'] == 18]\n",
    "#         ax = bad_vals.loc[bad_vals['time'].dt.year == yr].plot.scatter(x='time', y=var, s=1, color='r', label='Flagged')\n",
    "\n",
    "\n",
    "    # modify so that legend only appears once\n",
    "    # legend item text size small, 2 cols\n"
   ]
  },
  {
   "cell_type": "code",
   "execution_count": null,
   "id": "25f1837d",
   "metadata": {},
   "outputs": [],
   "source": [
    "plot_gap_scatter(df, var='tas')"
   ]
  }
 ],
 "metadata": {
  "kernelspec": {
   "display_name": "Python 3 (ipykernel)",
   "language": "python",
   "name": "python3"
  },
  "language_info": {
   "codemirror_mode": {
    "name": "ipython",
    "version": 3
   },
   "file_extension": ".py",
   "mimetype": "text/x-python",
   "name": "python",
   "nbconvert_exporter": "python",
   "pygments_lexer": "ipython3",
   "version": "3.11.4"
  }
 },
 "nbformat": 4,
 "nbformat_minor": 5
}
