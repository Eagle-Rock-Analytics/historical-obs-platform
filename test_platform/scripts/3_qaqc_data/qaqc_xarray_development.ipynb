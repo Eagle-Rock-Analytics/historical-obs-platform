{
 "cells": [
  {
   "cell_type": "markdown",
   "id": "935a7345",
   "metadata": {},
   "source": [
    "# QA/QC pipeline testing\n",
    "\n",
    "### Development of qaqc pipeline using xarray and pandas\n",
    "\n",
    "- Functions tested for now:\n",
    "    - qaqc_missing_latlon\n",
    "    - qaqc_within_wecc\n",
    "    - qaqc_elev_range\n",
    "    - qaqc_precip_logic_nonegvals\n",
    "    - qaqc_precip_logic_accum_amounts\n",
    "    - spurious_buoy_check\n",
    "    - qaqc_sensor_height_w\n",
    "    - qaqc_sensor_height_t\n",
    "    - qaqc_world_record\n",
    "    - qaqc_crossvar_logic_tdps_to_tas\n",
    "    - qaqc_crossvar_logic_calm_wind_dir"
   ]
  },
  {
   "cell_type": "code",
   "execution_count": 7,
   "id": "89508b0f",
   "metadata": {
    "execution": {
     "iopub.execute_input": "2023-10-10T16:50:31.497675Z",
     "iopub.status.busy": "2023-10-10T16:50:31.497320Z",
     "iopub.status.idle": "2023-10-10T16:50:31.542735Z",
     "shell.execute_reply": "2023-10-10T16:50:31.542425Z",
     "shell.execute_reply.started": "2023-10-10T16:50:31.497664Z"
    }
   },
   "outputs": [
    {
     "data": {
      "text/html": [
       "<style>.container { width:85% !important; }</style>"
      ],
      "text/plain": [
       "<IPython.core.display.HTML object>"
      ]
     },
     "metadata": {},
     "output_type": "display_data"
    },
    {
     "name": "stdout",
     "output_type": "stream",
     "text": [
      "The autoreload extension is already loaded. To reload it, use:\n",
      "  %reload_ext autoreload\n"
     ]
    }
   ],
   "source": [
    "import pandas as pd\n",
    "import numpy as np\n",
    "import xarray as xr\n",
    "import matplotlib.pyplot as plt\n",
    "import glob\n",
    "import sys\n",
    "import os\n",
    "import warnings\n",
    "from IPython.display import display, HTML\n",
    "display(HTML(\"<style>.container { width:85% !important; }</style>\"))\n",
    "\n",
    "%load_ext autoreload\n",
    "%autoreload 2"
   ]
  },
  {
   "cell_type": "markdown",
   "id": "08457231",
   "metadata": {},
   "source": [
    "## Timing original/xarray/pandas version\n",
    "\n",
    "- Saving files into temp/{station}_{version}.nc\n",
    "- Testing the first 4 stations in a station (RAWS for now)"
   ]
  },
  {
   "cell_type": "code",
   "execution_count": 3,
   "id": "cda899cf-91b6-4e33-ad0c-a185a042dc1a",
   "metadata": {
    "execution": {
     "iopub.execute_input": "2023-10-10T16:50:27.445802Z",
     "iopub.status.busy": "2023-10-10T16:50:27.445697Z",
     "iopub.status.idle": "2023-10-10T16:50:27.476887Z",
     "shell.execute_reply": "2023-10-10T16:50:27.476542Z",
     "shell.execute_reply.started": "2023-10-10T16:50:27.445793Z"
    }
   },
   "outputs": [
    {
     "data": {
      "text/plain": [
       "'/Users/hector/anaconda3/envs/era_py39/bin/python3.9'"
      ]
     },
     "execution_count": 3,
     "metadata": {},
     "output_type": "execute_result"
    }
   ],
   "source": [
    "\"\"\" Python executable with era_py39 kernel \"\"\"\n",
    "PYTHON = sys.executable\n",
    "PYTHON"
   ]
  },
  {
   "cell_type": "markdown",
   "id": "2eae0911-22b9-443f-a117-325da1321d3c",
   "metadata": {
    "execution": {
     "iopub.execute_input": "2023-09-22T19:23:28.336512Z",
     "iopub.status.busy": "2023-09-22T19:23:28.336095Z",
     "iopub.status.idle": "2023-09-22T19:25:55.771071Z",
     "shell.execute_reply": "2023-09-22T19:25:55.770679Z",
     "shell.execute_reply.started": "2023-09-22T19:23:28.336485Z"
    }
   },
   "source": [
    "### Original version\n",
    "\n",
    "`which python` ALLNETWORKS_qaqc.py --network RAWS --sample 4\n",
    "\n",
    "- real\t10m10.727s\n",
    "- user\t0m42.571s\n",
    "- sys\t0m26.752s"
   ]
  },
  {
   "cell_type": "markdown",
   "id": "86ab6dfa-a9f7-49e8-aa24-144fb375f573",
   "metadata": {},
   "source": [
    "### xarray version\n",
    "\n",
    "`which python` ALLNETWORKS_qaqc_xarray.py --network RAWS --sample 4\n",
    "\n",
    "- real\t10m49.677s\n",
    "- user\t0m45.524s\n",
    "- sys\t0m24.015s"
   ]
  },
  {
   "cell_type": "markdown",
   "id": "8c8c8130-7c2c-475b-b4cc-c876f7cd46b7",
   "metadata": {},
   "source": [
    "### pandas (optimized) version\n",
    "\n",
    "`which python` ALLNETWORKS_qaqc_pandas.py --network RAWS --sample 4\n",
    "\n",
    "- real\t8m49.695s\n",
    "- user\t0m34.030s\n",
    "- sys\t0m16.152s"
   ]
  },
  {
   "cell_type": "markdown",
   "id": "102ef7ae",
   "metadata": {},
   "source": [
    "### Conclusions on timing\n",
    "\n",
    "- Most of the time is spent reading in from s3 bucket and writing back to aws.\n",
    "- The optimized pandas functions run faster and are more clear and more consistent between each other.\n",
    "- Only pandas (not mix of pandas and xarray) is used.\n",
    "- The real difference with the pandas optimized version will be noticed once everything is run in AWS server."
   ]
  },
  {
   "cell_type": "code",
   "execution_count": 4,
   "id": "603e0eb2-34ce-4317-a047-0cfca551e5e6",
   "metadata": {
    "execution": {
     "iopub.execute_input": "2023-10-10T16:50:27.477393Z",
     "iopub.status.busy": "2023-10-10T16:50:27.477301Z",
     "iopub.status.idle": "2023-10-10T16:50:27.881551Z",
     "shell.execute_reply": "2023-10-10T16:50:27.881273Z",
     "shell.execute_reply.started": "2023-10-10T16:50:27.477384Z"
    }
   },
   "outputs": [],
   "source": [
    "import calc_qaqc_pandas as cpd\n",
    "import QAQC_pipeline_pandas as qpd \n",
    "\n",
    "import calc_qaqc_xarray as cxr\n",
    "import QAQC_pipeline_xarray as qxr\n",
    "\n",
    "import QAQC_pipeline_original as qor"
   ]
  },
  {
   "cell_type": "code",
   "execution_count": 5,
   "id": "fb6832b7-aec1-4073-8aad-5b37cb7df4c9",
   "metadata": {
    "execution": {
     "iopub.execute_input": "2023-10-10T16:50:27.882917Z",
     "iopub.status.busy": "2023-10-10T16:50:27.882619Z",
     "iopub.status.idle": "2023-10-10T16:50:27.918001Z",
     "shell.execute_reply": "2023-10-10T16:50:27.917751Z",
     "shell.execute_reply.started": "2023-10-10T16:50:27.882908Z"
    }
   },
   "outputs": [],
   "source": [
    "errors, end_api, timestamp = qpd.setup_error_handling()"
   ]
  },
  {
   "cell_type": "code",
   "execution_count": 6,
   "id": "136b802f-b5bd-49cc-9545-b06ac97bdb71",
   "metadata": {
    "execution": {
     "iopub.execute_input": "2023-10-10T16:50:27.918443Z",
     "iopub.status.busy": "2023-10-10T16:50:27.918354Z",
     "iopub.status.idle": "2023-10-10T16:50:28.656785Z",
     "shell.execute_reply": "2023-10-10T16:50:28.654902Z",
     "shell.execute_reply.started": "2023-10-10T16:50:27.918435Z"
    }
   },
   "outputs": [
    {
     "name": "stderr",
     "output_type": "stream",
     "text": [
      "\n",
      "KeyboardInterrupt\n",
      "\n"
     ]
    }
   ],
   "source": [
    "ds = xr.open_dataset(\"train_files/RAWS_NWRU1.nc\")"
   ]
  },
  {
   "cell_type": "code",
   "execution_count": null,
   "id": "6262a92f-6165-4a68-a931-6467a868ae98",
   "metadata": {
    "execution": {
     "iopub.status.busy": "2023-10-10T16:50:28.657140Z",
     "iopub.status.idle": "2023-10-10T16:50:28.657273Z",
     "shell.execute_reply": "2023-10-10T16:50:28.657210Z",
     "shell.execute_reply.started": "2023-10-10T16:50:28.657204Z"
    }
   },
   "outputs": [],
   "source": [
    "exclude_qaqc = [\"time\", \"station\", \"lat\", \"lon\", \"qaqc_process\", \"sfcWind_method\"] # lat and lon have a different qc check\n",
    "raw_qc_vars = [] # qc_variable for each data variable, will vary station to station\n",
    "era_qc_vars = [] # our qc variable\n",
    "for var in ds.variables:\n",
    "    if 'q_code' in var:\n",
    "        raw_qc_vars.append(var) # raw qc variable, need to keep for comparison, then drop\n",
    "    if '_qc' in var:\n",
    "        raw_qc_vars.append(var) # raw qc variables, need to keep for comparison, then drop\n",
    "\n",
    "for var in ds.variables:\n",
    "    if var not in exclude_qaqc and var not in raw_qc_vars:\n",
    "        qc_var = var + \"_eraqc\" # variable/column label\n",
    "        era_qc_vars.append(qc_var)\n",
    "        ds[qc_var] = xr.full_like(ds[var], np.nan) # adds new variable in shape of original variable with designated nan fill value\n",
    "df = ds.to_dataframe().reset_index()"
   ]
  },
  {
   "cell_type": "code",
   "execution_count": null,
   "id": "2a151f5a-7eba-4915-a518-88e3e63d5e9e",
   "metadata": {
    "execution": {
     "iopub.status.busy": "2023-10-10T16:50:28.657708Z",
     "iopub.status.idle": "2023-10-10T16:50:28.657825Z",
     "shell.execute_reply": "2023-10-10T16:50:28.657766Z",
     "shell.execute_reply.started": "2023-10-10T16:50:28.657761Z"
    }
   },
   "outputs": [],
   "source": [
    "test_pd = qpd.run_qaqc_pipeline(control, \n",
    "                                \"RAWS\", \n",
    "                                \"timing_files/RAWS_NWRU1.nc\",\n",
    "                                errors,\n",
    "                                \"RAWS_NWRU1\",\n",
    "                                end_api,\n",
    "                                verbose=True)"
   ]
  },
  {
   "cell_type": "code",
   "execution_count": null,
   "id": "d13e26f3-d890-4f58-a4e2-874fb664a2a3",
   "metadata": {
    "execution": {
     "iopub.status.busy": "2023-10-10T16:50:28.658431Z",
     "iopub.status.idle": "2023-10-10T16:50:28.658623Z",
     "shell.execute_reply": "2023-10-10T16:50:28.658523Z",
     "shell.execute_reply.started": "2023-10-10T16:50:28.658516Z"
    }
   },
   "outputs": [],
   "source": [
    "test_xr = qxr.run_qaqc_pipeline(control, \n",
    "                                \"RAWS\", \n",
    "                                \"timing_files/RAWS_NWRU1.nc\",\n",
    "                                errors,\n",
    "                                \"RAWS_NWRU1\",\n",
    "                                end_api,\n",
    "                                verbose=True)"
   ]
  },
  {
   "cell_type": "code",
   "execution_count": null,
   "id": "95ecd05c-e00b-4182-b43b-2105d5d5d237",
   "metadata": {
    "execution": {
     "iopub.status.busy": "2023-10-10T16:50:28.659245Z",
     "iopub.status.idle": "2023-10-10T16:50:28.659380Z",
     "shell.execute_reply": "2023-10-10T16:50:28.659313Z",
     "shell.execute_reply.started": "2023-10-10T16:50:28.659308Z"
    }
   },
   "outputs": [],
   "source": [
    "test_or = qor.run_qaqc_pipeline(control, network=\"RAWS\", verbose=True)"
   ]
  },
  {
   "cell_type": "code",
   "execution_count": null,
   "id": "7e87dba1-9d0f-41ac-953d-e7fa1bb28b80",
   "metadata": {
    "execution": {
     "iopub.status.busy": "2023-10-10T16:50:28.659984Z",
     "iopub.status.idle": "2023-10-10T16:50:28.660253Z",
     "shell.execute_reply": "2023-10-10T16:50:28.660159Z",
     "shell.execute_reply.started": "2023-10-10T16:50:28.660152Z"
    },
    "scrolled": true
   },
   "outputs": [],
   "source": [
    "differences = {}\n",
    "\n",
    "train_files = np.sort(glob.glob(\"train_files/*.nc\"))\n",
    "for f in train_files[::100]:\n",
    "    station = f.split(\"/\")[-1].split(\".nc\")[0]\n",
    "    differences[station] = {}\n",
    "    network = station.split(\"_\")[0]\n",
    "    with xr.open_dataset(f, engine=\"h5netcdf\") as ds:\n",
    "        try:\n",
    "            test_xr = qxr.run_qaqc_pipeline(ds, network, f, errors, station, end_api, verbose=False)\n",
    "            test_pd = qxr.run_qaqc_pipeline(ds, network, f, errors, station, end_api, verbose=False)\n",
    "            test_or = qor.run_qaqc_pipeline(ds, network, verbose=False)\n",
    "        except:\n",
    "            pass\n",
    "            for var in era_qc_vars:\n",
    "                try:\n",
    "                    mean = (test_or[var].reset_index()[var] - test_xr[var].to_dataframe().reset_index()[var]).mean()\n",
    "                    std  = (test_or[var].reset_index()[var] - test_xr[var].to_dataframe().reset_index()[var]).std()\n",
    "                    differences[station][var] = [\"{} +- {}\".format(mean,std)]\n",
    "                except:\n",
    "                    pass\n",
    "    \n",
    "                try:\n",
    "                    mean = (test_or[var].reset_index()[var] - test_pd[var].reset_index()[var]).mean()\n",
    "                    std  = (test_or[var].reset_index()[var] - test_pd[var].reset_index()[var]).std()\n",
    "                    differences[station][var].extend([\"{} +- {}\".format(mean,std)])\n",
    "                except:\n",
    "                    pass"
   ]
  },
  {
   "cell_type": "code",
   "execution_count": null,
   "id": "95ddea88-042f-4a34-b15b-e1be04cba5d6",
   "metadata": {
    "execution": {
     "iopub.status.busy": "2023-10-10T16:50:28.660701Z",
     "iopub.status.idle": "2023-10-10T16:50:28.660879Z",
     "shell.execute_reply": "2023-10-10T16:50:28.660780Z",
     "shell.execute_reply.started": "2023-10-10T16:50:28.660774Z"
    }
   },
   "outputs": [],
   "source": [
    "differences = {}\n",
    "\n",
    "train_files = np.sort(glob.glob(\"train_files/*.nc\"))\n",
    "for f in train_files[::100]:\n",
    "    station = f.split(\"/\")[-1].split(\".nc\")[0]\n",
    "    differences[station] = {}\n",
    "    network = station.split(\"_\")[0]\n",
    "    with xr.open_dataset(f, engine=\"h5netcdf\") as ds:\n",
    "        ds = ds.drop_duplicates(dim=\"time\")\n",
    "        test_xr = qxr.run_qaqc_pipeline(ds, network, f, errors, station, end_api, verbose=False)\n",
    "        test_pd = qxr.run_qaqc_pipeline(ds, network, f, errors, station, end_api, verbose=False)\n",
    "        test_or = qor.run_qaqc_pipeline(ds, network, errors, end_api, verbose=False)\n"
   ]
  },
  {
   "cell_type": "code",
   "execution_count": null,
   "id": "dd434fc2-2f80-472d-a711-9490c7c2a228",
   "metadata": {},
   "outputs": [],
   "source": []
  },
  {
   "cell_type": "code",
   "execution_count": null,
   "id": "f1493468-81da-44bb-81a9-13d0cac5e86f",
   "metadata": {},
   "outputs": [],
   "source": []
  },
  {
   "cell_type": "code",
   "execution_count": null,
   "id": "98342ca5-886e-4a01-a6b1-c11bc4f38975",
   "metadata": {},
   "outputs": [],
   "source": []
  },
  {
   "cell_type": "code",
   "execution_count": null,
   "id": "c5c6d916-480d-4e1c-99a3-72d2c7917c86",
   "metadata": {},
   "outputs": [],
   "source": []
  },
  {
   "cell_type": "code",
   "execution_count": null,
   "id": "08acacb7-3e59-45ef-8883-eabfb87be3f4",
   "metadata": {},
   "outputs": [],
   "source": []
  },
  {
   "cell_type": "code",
   "execution_count": null,
   "id": "dfefb455-64e7-4bda-ab0e-509600a4a47b",
   "metadata": {},
   "outputs": [],
   "source": []
  },
  {
   "cell_type": "code",
   "execution_count": null,
   "id": "b326349d-a0aa-439a-afd3-0c8e2bf0e23b",
   "metadata": {},
   "outputs": [],
   "source": []
  },
  {
   "cell_type": "code",
   "execution_count": null,
   "id": "99952da2-4ed0-4c13-b192-79ffacd26004",
   "metadata": {},
   "outputs": [],
   "source": []
  },
  {
   "cell_type": "code",
   "execution_count": null,
   "id": "ad015e09-bde0-4cd6-9933-f939ecc8e4d9",
   "metadata": {},
   "outputs": [],
   "source": []
  },
  {
   "cell_type": "code",
   "execution_count": null,
   "id": "4228ebfd-6abb-4773-8c23-35144943d05d",
   "metadata": {},
   "outputs": [],
   "source": []
  },
  {
   "cell_type": "code",
   "execution_count": null,
   "id": "fc76b043-5498-4e4c-8a88-e1e8dfc74fb1",
   "metadata": {},
   "outputs": [],
   "source": []
  },
  {
   "cell_type": "code",
   "execution_count": null,
   "id": "3153ccde-8b65-4df5-a8dd-72f34422d1ea",
   "metadata": {},
   "outputs": [],
   "source": []
  },
  {
   "cell_type": "code",
   "execution_count": null,
   "id": "09fbf54d-0784-4b65-bbd8-f6ab6c35cb20",
   "metadata": {},
   "outputs": [],
   "source": []
  },
  {
   "cell_type": "code",
   "execution_count": null,
   "id": "cb5ea28d-5627-4a6c-961f-2f98c4635d71",
   "metadata": {
    "execution": {
     "iopub.status.busy": "2023-10-10T16:50:28.661329Z",
     "iopub.status.idle": "2023-10-10T16:50:28.661446Z",
     "shell.execute_reply": "2023-10-10T16:50:28.661389Z",
     "shell.execute_reply.started": "2023-10-10T16:50:28.661383Z"
    }
   },
   "outputs": [],
   "source": [
    "differences['ASOSAWOS_72041100137']"
   ]
  },
  {
   "cell_type": "code",
   "execution_count": null,
   "id": "09d162af-4890-405f-9df0-83b196d31392",
   "metadata": {
    "execution": {
     "iopub.status.busy": "2023-10-10T16:50:28.661971Z",
     "iopub.status.idle": "2023-10-10T16:50:28.662109Z",
     "shell.execute_reply": "2023-10-10T16:50:28.662032Z",
     "shell.execute_reply.started": "2023-10-10T16:50:28.662025Z"
    }
   },
   "outputs": [],
   "source": [
    "differences"
   ]
  },
  {
   "cell_type": "code",
   "execution_count": null,
   "id": "5097a619-00d7-4bf9-9096-97e9764f542f",
   "metadata": {
    "execution": {
     "iopub.status.busy": "2023-10-10T16:50:28.662745Z",
     "iopub.status.idle": "2023-10-10T16:50:28.662924Z",
     "shell.execute_reply": "2023-10-10T16:50:28.662827Z",
     "shell.execute_reply.started": "2023-10-10T16:50:28.662821Z"
    }
   },
   "outputs": [],
   "source": [
    "ds"
   ]
  },
  {
   "cell_type": "code",
   "execution_count": null,
   "id": "3a567432-e516-4d66-a8ad-4b71ebd5d90b",
   "metadata": {
    "execution": {
     "iopub.status.busy": "2023-10-10T16:50:28.663652Z",
     "iopub.status.idle": "2023-10-10T16:50:28.663869Z",
     "shell.execute_reply": "2023-10-10T16:50:28.663784Z",
     "shell.execute_reply.started": "2023-10-10T16:50:28.663776Z"
    }
   },
   "outputs": [],
   "source": [
    "ds.drop_duplicates(dim=\"time\")"
   ]
  },
  {
   "cell_type": "code",
   "execution_count": null,
   "id": "c9b0b4a5-a180-4d97-9a6d-23e8f3d6de0e",
   "metadata": {
    "execution": {
     "iopub.status.busy": "2023-10-10T16:50:28.664404Z",
     "iopub.status.idle": "2023-10-10T16:50:28.664562Z",
     "shell.execute_reply": "2023-10-10T16:50:28.664473Z",
     "shell.execute_reply.started": "2023-10-10T16:50:28.664467Z"
    }
   },
   "outputs": [],
   "source": [
    "a = [1,2]"
   ]
  },
  {
   "cell_type": "code",
   "execution_count": null,
   "id": "85d29140-a45f-4a15-a4d5-d636e7eb1790",
   "metadata": {
    "execution": {
     "iopub.status.busy": "2023-10-10T16:50:28.665722Z",
     "iopub.status.idle": "2023-10-10T16:50:28.665844Z",
     "shell.execute_reply": "2023-10-10T16:50:28.665784Z",
     "shell.execute_reply.started": "2023-10-10T16:50:28.665779Z"
    }
   },
   "outputs": [],
   "source": [
    "a.extend(2)"
   ]
  },
  {
   "cell_type": "code",
   "execution_count": null,
   "id": "d8820a33-6958-4758-a49c-91e9bff08703",
   "metadata": {},
   "outputs": [],
   "source": []
  },
  {
   "cell_type": "code",
   "execution_count": null,
   "id": "a65eb8a1-73ea-4676-9378-61a34959f618",
   "metadata": {
    "execution": {
     "iopub.status.busy": "2023-10-10T16:50:28.666506Z",
     "iopub.status.idle": "2023-10-10T16:50:28.666696Z",
     "shell.execute_reply": "2023-10-10T16:50:28.666594Z",
     "shell.execute_reply.started": "2023-10-10T16:50:28.666582Z"
    }
   },
   "outputs": [],
   "source": [
    "fig,ax = plt.subplots()\n",
    "\n",
    "(test_pd.sfcWind_dir_eraqc.reset_index().sfcWind_dir_eraqc - \n",
    " test_xr.sfcWind_dir_eraqc.to_dataframe().reset_index().sfcWind_dir_eraqc)\\\n",
    ".plot(ax=ax, marker='.', ls='')\n",
    "    "
   ]
  },
  {
   "cell_type": "code",
   "execution_count": null,
   "id": "85f30b35-37c1-44b9-b43c-63626a145230",
   "metadata": {
    "execution": {
     "iopub.status.busy": "2023-10-10T16:50:28.667326Z",
     "iopub.status.idle": "2023-10-10T16:50:28.667472Z",
     "shell.execute_reply": "2023-10-10T16:50:28.667401Z",
     "shell.execute_reply.started": "2023-10-10T16:50:28.667395Z"
    }
   },
   "outputs": [],
   "source": [
    "fig,ax = plt.subplots()\n",
    "\n",
    "(test_pd.sfcWind_dir_eraqc.reset_index().sfcWind_dir_eraqc - \n",
    " test_or.sfcWind_dir_eraqc.reset_index().sfcWind_dir_eraqc)\\\n",
    ".plot(ax=ax, marker='.', ls='')"
   ]
  },
  {
   "cell_type": "code",
   "execution_count": null,
   "id": "f9f45fe5-208d-46e0-a003-3e29bd391f04",
   "metadata": {},
   "outputs": [],
   "source": []
  },
  {
   "cell_type": "code",
   "execution_count": null,
   "id": "f68ef301-b6cb-4b49-8f31-c239dd9b6146",
   "metadata": {},
   "outputs": [],
   "source": []
  },
  {
   "cell_type": "code",
   "execution_count": null,
   "id": "07a13898-0cfa-41b2-a7a1-79688136a2e8",
   "metadata": {},
   "outputs": [],
   "source": []
  },
  {
   "cell_type": "code",
   "execution_count": null,
   "id": "1a451edf-ae7c-4d8c-8781-c15edfc329cb",
   "metadata": {
    "execution": {
     "iopub.status.busy": "2023-10-10T16:50:28.667873Z",
     "iopub.status.idle": "2023-10-10T16:50:28.668040Z",
     "shell.execute_reply": "2023-10-10T16:50:28.667951Z",
     "shell.execute_reply.started": "2023-10-10T16:50:28.667946Z"
    }
   },
   "outputs": [],
   "source": [
    "import netCDF4 as nc\n",
    "control = nc.Dataset(\"timing_files/RAWS_NWRU1.nc\")\n",
    "np.where(np.isnan(control[\"time\"][:]))[0]"
   ]
  },
  {
   "cell_type": "code",
   "execution_count": null,
   "id": "42504a83",
   "metadata": {
    "execution": {
     "iopub.status.busy": "2023-10-10T16:50:28.668502Z",
     "iopub.status.idle": "2023-10-10T16:50:28.668630Z",
     "shell.execute_reply": "2023-10-10T16:50:28.668571Z",
     "shell.execute_reply.started": "2023-10-10T16:50:28.668565Z"
    }
   },
   "outputs": [],
   "source": [
    "def plot_flag_scatter(xrf, pdf):\n",
    "    \n",
    "    xrf = xr.open_dataset(xrf)\n",
    "    pdf = xr.open_dataset(pdf)\n",
    "    variables = list(xrf.data_vars.keys())\n",
    "    data_vars = [var for var in variables if \"qc\" not in var]\n",
    "    eraqc_vars = [var for var in variables if \"eraqc\" in var]\n",
    "    nVars = len(data_vars)\n",
    "    \n",
    "    fig,ax = plt.subplots(figsize=(10,3))\n",
    "    \n",
    "    i=0\n",
    "    for dv,ev in zip(data_vars, eraqc_vars):\n",
    "        xrNan = np.isnan(xrf[ev].squeeze())\n",
    "        pdNan = np.isnan(pdf[ev].squeeze())\n",
    "        \n",
    "#         ax.plot(xrf.time, xrf[ev][0,:], 'x',\n",
    "#                 markersize=4, c=\"C\"+str(i),\n",
    "#                 markerfacecolor=\"none\",\n",
    "#                 alpha=0.35\n",
    "#                )\n",
    "#         ax.plot(xrf.time, xrf[ev][0,:], '.',\n",
    "#                 markersize=2, c=\"C\"+str(i)\n",
    "#                )\n",
    "        diff = xrf[ev][0,:] - pdf[ev][0,:]\n",
    "        ax.plot(i + diff, label=ev)\n",
    "        i += 1\n",
    "        \n",
    "    # Shrink current axis by 20%\n",
    "    box = ax.get_position()\n",
    "    ax.set_position([box.x0, box.y0, box.width * 0.8, box.height])\n",
    "\n",
    "    # Put a legend to the right of the current axis\n",
    "    ax.legend(loc='center left', bbox_to_anchor=(1, 0.5), fontsize=10)\n",
    "    \n",
    "    station = xrf.encoding['source']\n",
    "    station = station.split(\"/\")[-1].split(\"_xar\")[0]\n",
    "    ax.set_title(station)\n",
    "#         ylabel = \"{} [{}]\".format(xrf[dv].attrs['long_name'], \n",
    "#                                   xrf[dv].attrs['units'])\n",
    "#         ax.set_ylabel(ylabel, fontdict={\"size\":8})"
   ]
  },
  {
   "cell_type": "markdown",
   "id": "a1ac4c37",
   "metadata": {},
   "source": [
    "#### Plot the difference between xarray and pandas flag vars"
   ]
  },
  {
   "cell_type": "code",
   "execution_count": null,
   "id": "8a2ad161",
   "metadata": {
    "execution": {
     "iopub.status.busy": "2023-10-10T16:50:28.669029Z",
     "iopub.status.idle": "2023-10-10T16:50:28.669149Z",
     "shell.execute_reply": "2023-10-10T16:50:28.669088Z",
     "shell.execute_reply.started": "2023-10-10T16:50:28.669083Z"
    }
   },
   "outputs": [],
   "source": [
    "plot_flag_scatter(xr_files[0], pd_files[0])\n",
    "plot_flag_scatter(xr_files[1], pd_files[1])\n",
    "plot_flag_scatter(xr_files[2], pd_files[2])\n",
    "plot_flag_scatter(xr_files[3], pd_files[3])\n",
    "plot_flag_scatter(xr_files[4], pd_files[4])\n",
    "plot_flag_scatter(xr_files[5], pd_files[5])"
   ]
  },
  {
   "cell_type": "markdown",
   "id": "4d177a0f",
   "metadata": {},
   "source": [
    "# Timing individual funcions"
   ]
  },
  {
   "cell_type": "code",
   "execution_count": null,
   "id": "0afe32ba",
   "metadata": {
    "execution": {
     "iopub.status.busy": "2023-10-10T16:50:28.669727Z",
     "iopub.status.idle": "2023-10-10T16:50:28.670065Z",
     "shell.execute_reply": "2023-10-10T16:50:28.669964Z",
     "shell.execute_reply.started": "2023-10-10T16:50:28.669956Z"
    }
   },
   "outputs": [],
   "source": [
    "ds = xr.open_dataset(\"train_files/RAWS_BCFO3.nc\")\n",
    "exclude_qaqc = [\"time\", \"station\", \"lat\", \"lon\", \"qaqc_process\", \"sfcWind_method\"] # lat and lon have a different qc check\n",
    "raw_qc_vars = [] # qc_variable for each data variable, will vary station to station\n",
    "era_qc_vars = [] # our qc variable\n",
    "for var in ds.variables:\n",
    "    if 'q_code' in var:\n",
    "        raw_qc_vars.append(var) # raw qc variable, need to keep for comparison, then drop\n",
    "    if '_qc' in var:\n",
    "        raw_qc_vars.append(var) # raw qc variables, need to keep for comparison, then drop\n",
    "\n",
    "for var in ds.variables:\n",
    "    if var not in exclude_qaqc and var not in raw_qc_vars:\n",
    "        qc_var = var + \"_eraqc\" # variable/column label\n",
    "        era_qc_vars.append(qc_var)\n",
    "        ds[qc_var] = xr.full_like(ds[var], np.nan) # adds new variable in shape of original variable with designated nan fill value\n",
    "df = ds.to_dataframe().reset_index()"
   ]
  },
  {
   "cell_type": "code",
   "execution_count": null,
   "id": "8d3a2280-8440-40b2-99b4-9d3ef3019d04",
   "metadata": {
    "execution": {
     "iopub.status.busy": "2023-10-10T16:50:28.670401Z",
     "iopub.status.idle": "2023-10-10T16:50:28.670520Z",
     "shell.execute_reply": "2023-10-10T16:50:28.670461Z",
     "shell.execute_reply.started": "2023-10-10T16:50:28.670455Z"
    }
   },
   "outputs": [],
   "source": [
    "ds1 = xr.open_dataset(\"train_files/CIMIS_75.nc\")\n",
    "exclude_qaqc = [\"time\", \"station\", \"lat\", \"lon\", \"qaqc_process\", \"sfcWind_method\"] # lat and lon have a different qc check\n",
    "raw_qc_vars = [] # qc_variable for each data variable, will vary station to station\n",
    "era_qc_vars = [] # our qc variable\n",
    "for var in ds1.variables:\n",
    "    if 'q_code' in var:\n",
    "        raw_qc_vars.append(var) # raw qc variable, need to keep for comparison, then drop\n",
    "    if '_qc' in var:\n",
    "        raw_qc_vars.append(var) # raw qc variables, need to keep for comparison, then drop\n",
    "\n",
    "for var in ds1.variables:\n",
    "    if var not in exclude_qaqc and var not in raw_qc_vars:\n",
    "        qc_var = var + \"_eraqc\" # variable/column label\n",
    "        era_qc_vars.append(qc_var)\n",
    "        ds1[qc_var] = xr.full_like(ds1[var], np.nan) # adds new variable in shape of original variable with designated nan fill value\n",
    "df1 = ds1.to_dataframe().reset_index()\n",
    "[var for var in df1.columns if 'pr' in var]"
   ]
  },
  {
   "cell_type": "code",
   "execution_count": null,
   "id": "c6286ba7-1475-4c09-966a-9706d369e6db",
   "metadata": {
    "execution": {
     "iopub.status.busy": "2023-10-10T16:50:28.671095Z",
     "iopub.status.idle": "2023-10-10T16:50:28.671225Z",
     "shell.execute_reply": "2023-10-10T16:50:28.671156Z",
     "shell.execute_reply.started": "2023-10-10T16:50:28.671151Z"
    }
   },
   "outputs": [],
   "source": [
    "ds2 = xr.open_dataset(\"train_files/NDBC_46023.nc\")\n",
    "\n",
    "exclude_qaqc = [\"time\", \"station\", \"lat\", \"lon\", \"qaqc_process\", \"sfcWind_method\"] # lat and lon have a different qc check\n",
    "raw_qc_vars = [] # qc_variable for each data variable, will vary station to station\n",
    "era_qc_vars = [] # our qc variable\n",
    "\n",
    "for var in ds2.variables:\n",
    "    if 'q_code' in var:\n",
    "        raw_qc_vars.append(var) # raw qc variable, need to keep for comparison, then drop\n",
    "    if '_qc' in var:\n",
    "        raw_qc_vars.append(var) # raw qc variables, need to keep for comparison, then drop\n",
    "\n",
    "for var in ds2.variables:\n",
    "    if var not in exclude_qaqc and var not in raw_qc_vars:\n",
    "        qc_var = var + \"_eraqc\" # variable/column label\n",
    "        era_qc_vars.append(qc_var)\n",
    "        ds2[qc_var] = xr.full_like(ds2[var], np.nan) # adds new variable in shape of original variable with designated nan fill value\n",
    "df2 = ds2.to_dataframe().reset_index()\n",
    "tmp = era_qc_vars\n",
    "try:\n",
    "    tmp.remove(\"elevation_eraqc\")\n",
    "except:\n",
    "    pass"
   ]
  },
  {
   "cell_type": "markdown",
   "id": "e338189c",
   "metadata": {},
   "source": [
    "### Original"
   ]
  },
  {
   "cell_type": "code",
   "execution_count": null,
   "id": "6ec041f5",
   "metadata": {
    "execution": {
     "iopub.status.busy": "2023-10-10T16:50:28.671897Z",
     "iopub.status.idle": "2023-10-10T16:50:28.672042Z",
     "shell.execute_reply": "2023-10-10T16:50:28.671964Z",
     "shell.execute_reply.started": "2023-10-10T16:50:28.671958Z"
    }
   },
   "outputs": [],
   "source": [
    "import ALLNETWORKS_qaqc as oo_functions"
   ]
  },
  {
   "cell_type": "markdown",
   "id": "d77a49be",
   "metadata": {},
   "source": [
    "### xarray"
   ]
  },
  {
   "cell_type": "code",
   "execution_count": null,
   "id": "5d6e77ed",
   "metadata": {
    "execution": {
     "iopub.status.busy": "2023-10-10T16:50:28.672821Z",
     "iopub.status.idle": "2023-10-10T16:50:28.673075Z",
     "shell.execute_reply": "2023-10-10T16:50:28.673013Z",
     "shell.execute_reply.started": "2023-10-10T16:50:28.673007Z"
    }
   },
   "outputs": [],
   "source": [
    "import ALLNETWORKS_qaqc_xarray as xr_functions"
   ]
  },
  {
   "cell_type": "markdown",
   "id": "78a6e085-b994-4ef5-9588-74b260b5e4cf",
   "metadata": {},
   "source": [
    "### Pandas optimized"
   ]
  },
  {
   "cell_type": "code",
   "execution_count": null,
   "id": "0189c31d-59e0-48b9-8d36-521c3eb9041d",
   "metadata": {
    "execution": {
     "iopub.status.busy": "2023-10-10T16:50:28.673381Z",
     "iopub.status.idle": "2023-10-10T16:50:28.673491Z",
     "shell.execute_reply": "2023-10-10T16:50:28.673435Z",
     "shell.execute_reply.started": "2023-10-10T16:50:28.673430Z"
    }
   },
   "outputs": [],
   "source": [
    "import ALLNETWORKS_qaqc_pandas as pd_functions"
   ]
  },
  {
   "cell_type": "markdown",
   "id": "701bf1d1-36d3-4de6-aee2-00a807f384e0",
   "metadata": {},
   "source": [
    "### Timing functions"
   ]
  },
  {
   "cell_type": "code",
   "execution_count": null,
   "id": "70e03f50-6526-48b0-89af-573575fbb60c",
   "metadata": {
    "execution": {
     "iopub.status.busy": "2023-10-10T16:50:28.674020Z",
     "iopub.status.idle": "2023-10-10T16:50:28.674132Z",
     "shell.execute_reply": "2023-10-10T16:50:28.674075Z",
     "shell.execute_reply.started": "2023-10-10T16:50:28.674070Z"
    },
    "scrolled": true
   },
   "outputs": [],
   "source": [
    "oo_t0  = %timeit -o oo_functions.qaqc_missing_latlon(df)\n",
    "xr_t0 = %timeit  -o xr_functions.qaqc_missing_latlon(ds)\n",
    "pd_t0 = %timeit  -o pd_functions.qaqc_missing_latlon(df)\n",
    "\n",
    "oo_t1 = %timeit -o oo_functions.qaqc_within_wecc(df)\n",
    "xr_t1 = %timeit -o xr_functions.qaqc_within_wecc(ds)\n",
    "pd_t1 = %timeit -o pd_functions.qaqc_within_wecc(df)\n",
    "\n",
    "oo_t2 = %timeit -o oo_functions.qaqc_elev_infill(df)\n",
    "xr_t2 = %timeit -o xr_functions.qaqc_elev_infill(ds, verbose=False)\n",
    "pd_t2 = %timeit -o pd_functions.qaqc_elev_infill(df, verbose=False)\n",
    "\n",
    "oo_t3 = %timeit -o oo_functions.qaqc_elev_range(df)\n",
    "xr_t3 = %timeit -o xr_functions.qaqc_elev_range(ds, verbose=False)\n",
    "pd_t3 = %timeit -o pd_functions.qaqc_elev_range(df, verbose=False)\n",
    "\n",
    "oo_t4 = %timeit -o oo_functions.qaqc_precip_logic_nonegvals(df)\n",
    "xr_t4 = %timeit -o xr_functions.qaqc_precip_logic_nonegvals(ds, verbose=False)\n",
    "pd_t4 = %timeit -o pd_functions.qaqc_precip_logic_nonegvals(df, verbose=False)\n",
    "\n",
    "oo_t5 = %timeit -o oo_functions.qaqc_precip_logic_accum_amounts(df1)\n",
    "xr_t5 = %timeit -o xr_functions.qaqc_precip_logic_accum_amounts(ds1, verbose=False)\n",
    "pd_t5 = %timeit -o pd_functions.qaqc_precip_logic_accum_amounts(df1, verbose=False)\n",
    "\n",
    "# oo_t6 = %timeit -o oo_functions.spurious_buoy_check(\"NDBC_46023\", df2, tmp)\n",
    "oo_t6 = np.nan\n",
    "# xr_t6 = %timeit -o xr_functions.spurious_buoy_check(ds2, verbose=False)\n",
    "xr_t6 = np.nan\n",
    "pd_t6 = %timeit -o pd_functions.spurious_buoy_check(df2.copy(), era_qc_vars, verbose=False)\n",
    "\n",
    "oo_t7 = %timeit -o oo_functions.qaqc_sensor_height_w(ds, df)\n",
    "xr_t7 = %timeit -o xr_functions.qaqc_sensor_height_w(ds, verbose=False)\n",
    "pd_t7 = %timeit -o pd_functions.qaqc_sensor_height_w(df, verbose=False)\n",
    "\n",
    "oo_t8 = %timeit -o oo_functions.qaqc_sensor_height_t(ds, df)\n",
    "xr_t8 = %timeit -o xr_functions.qaqc_sensor_height_t(ds, verbose=False)\n",
    "pd_t8 = %timeit -o pd_functions.qaqc_sensor_height_t(df, verbose=False)\n",
    "\n",
    "oo_t9 = %timeit -o oo_functions.qaqc_world_record(df)\n",
    "xr_t9 = %timeit -o xr_functions.qaqc_world_record(ds, verbose=False)\n",
    "pd_t9 = %timeit -o pd_functions.qaqc_world_record(df, verbose=False)\n",
    "\n",
    "oo_t10 = %timeit -o oo_functions.qaqc_crossvar_logic_tdps_to_tas(df)\n",
    "xr_t10 = %timeit -o xr_functions.qaqc_crossvar_logic_tdps_to_tas(ds, verbose=False)\n",
    "pd_t10 = %timeit -o pd_functions.qaqc_crossvar_logic_tdps_to_tas(df, verbose=False)\n",
    "\n",
    "oo_t11 = %timeit -o oo_functions.qaqc_crossvar_logic_calm_wind_dir(df)\n",
    "xr_t11 = %timeit -o xr_functions.qaqc_crossvar_logic_calm_wind_dir(ds, verbose=False)\n",
    "pd_t11 = %timeit -o pd_functions.qaqc_crossvar_logic_calm_wind_dir(df, verbose=False)"
   ]
  },
  {
   "cell_type": "code",
   "execution_count": null,
   "id": "e019976d",
   "metadata": {
    "execution": {
     "iopub.status.busy": "2023-10-10T16:50:28.674526Z",
     "iopub.status.idle": "2023-10-10T16:50:28.674630Z",
     "shell.execute_reply": "2023-10-10T16:50:28.674575Z",
     "shell.execute_reply.started": "2023-10-10T16:50:28.674571Z"
    }
   },
   "outputs": [],
   "source": [
    "oo_timing = [oo_t0,oo_t1,oo_t2,oo_t3,oo_t4,oo_t5,\n",
    "             oo_t6,oo_t7,oo_t8,oo_t9,oo_t10,oo_t11]\n",
    "\n",
    "xr_timing = [xr_t0,xr_t1,xr_t2,xr_t3,xr_t4,xr_t5,\n",
    "             xr_t6,xr_t7,xr_t8,xr_t9,xr_t10,xr_t11]\n",
    "\n",
    "pd_timing = [pd_t0,pd_t1,pd_t2,pd_t3,pd_t4,pd_t5,\n",
    "             pd_t6,pd_t7,pd_t8,pd_t9,pd_t10,pd_t11]"
   ]
  },
  {
   "cell_type": "code",
   "execution_count": null,
   "id": "f62f0492",
   "metadata": {
    "execution": {
     "iopub.status.busy": "2023-10-10T16:50:28.675177Z",
     "iopub.status.idle": "2023-10-10T16:50:28.675294Z",
     "shell.execute_reply": "2023-10-10T16:50:28.675234Z",
     "shell.execute_reply.started": "2023-10-10T16:50:28.675229Z"
    }
   },
   "outputs": [],
   "source": [
    "functions = [\n",
    "    \"qaqc_missing_latlon\",\n",
    "    \"qaqc_within_wecc\",\n",
    "    \"qaqc_elev_infill\",\n",
    "    \"qaqc_elev_range\",\n",
    "    \"qaqc_precip_logic_nonegvals\",\n",
    "    \"qaqc_precip_logic_accum_amounts\",\n",
    "    \"spurious_buoy_check\",\n",
    "    \"qaqc_sensor_height_w\",\n",
    "    \"qaqc_sensor_height_t\",\n",
    "    \"qaqc_world_record\",\n",
    "    \"qaqc_crossvar_logic_tdps_to_tas\",\n",
    "    \"qaqc_crossvar_logic_calm_wind_dir\"\n",
    "]"
   ]
  },
  {
   "cell_type": "code",
   "execution_count": null,
   "id": "00121936",
   "metadata": {
    "execution": {
     "iopub.status.busy": "2023-10-10T16:50:28.675701Z",
     "iopub.status.idle": "2023-10-10T16:50:28.675914Z",
     "shell.execute_reply": "2023-10-10T16:50:28.675825Z",
     "shell.execute_reply.started": "2023-10-10T16:50:28.675819Z"
    }
   },
   "outputs": [],
   "source": [
    "odt, xrt, pdt = [], [], []\n",
    "for o,x,p in zip(oo_timing, xr_timing, pd_timing):\n",
    "    try:\n",
    "        odt.append(o.average)\n",
    "    except:\n",
    "        odt.append(np.nan)\n",
    "\n",
    "    try:\n",
    "        xrt.append(x.average)\n",
    "    except:\n",
    "        xrt.append(np.nan)\n",
    "        \n",
    "    try:\n",
    "        pdt.append(p.average)\n",
    "    except:\n",
    "        pdt.append(np.nan)\n",
    "        \n",
    "odt = np.array(odt)\n",
    "xrt = np.array(xrt)\n",
    "pdt = np.array(pdt)"
   ]
  },
  {
   "cell_type": "code",
   "execution_count": null,
   "id": "1ca4d604",
   "metadata": {
    "execution": {
     "iopub.status.busy": "2023-10-10T16:50:28.676456Z",
     "iopub.status.idle": "2023-10-10T16:50:28.676587Z",
     "shell.execute_reply": "2023-10-10T16:50:28.676526Z",
     "shell.execute_reply.started": "2023-10-10T16:50:28.676521Z"
    }
   },
   "outputs": [],
   "source": [
    "fig,ax = plt.subplots(figsize=(7,3))\n",
    "\n",
    "ax.plot(odt,'.:', label=\"original\")\n",
    "ax.plot(xrt,'.:', label=\"xarray\")\n",
    "ax.plot(pdt,'.:', label=\"pandas opt\")\n",
    "\n",
    "ax.set_yscale(\"log\")\n",
    "ax.set_ylabel(\"Timing [s]\")\n",
    "leg = ax.legend()\n",
    "\n",
    "ax.set_xticks(np.arange(len(pd_timing)))\n",
    "_ = ax.set_xticklabels(functions, rotation = 45, ha=\"right\")"
   ]
  },
  {
   "cell_type": "code",
   "execution_count": 29,
   "id": "349834b9-cfb1-4e0d-8865-66ff70e6496e",
   "metadata": {
    "execution": {
     "iopub.execute_input": "2023-10-10T17:32:43.480427Z",
     "iopub.status.busy": "2023-10-10T17:32:43.479687Z",
     "iopub.status.idle": "2023-10-10T17:32:43.640018Z",
     "shell.execute_reply": "2023-10-10T17:32:43.639485Z",
     "shell.execute_reply.started": "2023-10-10T17:32:43.480352Z"
    }
   },
   "outputs": [
    {
     "ename": "NameError",
     "evalue": "name 'df' is not defined",
     "output_type": "error",
     "traceback": [
      "\u001b[0;31m---------------------------------------------------------------------------\u001b[0m",
      "\u001b[0;31mNameError\u001b[0m                                 Traceback (most recent call last)",
      "Cell \u001b[0;32mIn[29], line 1\u001b[0m\n\u001b[0;32m----> 1\u001b[0m \u001b[43mdf\u001b[49m[\u001b[38;5;124m'\u001b[39m\u001b[38;5;124manemometer_height_m\u001b[39m\u001b[38;5;124m'\u001b[39m]\n",
      "\u001b[0;31mNameError\u001b[0m: name 'df' is not defined"
     ]
    }
   ],
   "source": []
  },
  {
   "cell_type": "code",
   "execution_count": null,
   "id": "3f0512e7-4522-4363-84e2-5b8980a31555",
   "metadata": {},
   "outputs": [],
   "source": []
  },
  {
   "cell_type": "code",
   "execution_count": 21,
   "id": "b210a221-a7a0-4b4b-a84f-49ec4b0d9aa8",
   "metadata": {
    "execution": {
     "iopub.execute_input": "2023-10-10T16:55:10.980824Z",
     "iopub.status.busy": "2023-10-10T16:55:10.979909Z",
     "iopub.status.idle": "2023-10-10T16:55:11.059313Z",
     "shell.execute_reply": "2023-10-10T16:55:11.058933Z",
     "shell.execute_reply.started": "2023-10-10T16:55:10.980765Z"
    }
   },
   "outputs": [
    {
     "name": "stdout",
     "output_type": "stream",
     "text": [
      "<xarray.DataArray 'station' (station: 1)>\n",
      "array(['RAWS_BCHN5'], dtype=object)\n",
      "Coordinates:\n",
      "  * station  (station) object 'RAWS_BCHN5'\n",
      "Attributes:\n",
      "    long_name:  station_id\n",
      "    comment:    Unique ID created by Eagle Rock Analytics. Includes network n...\n"
     ]
    },
    {
     "data": {
      "text/html": [
       "<div><svg style=\"position: absolute; width: 0; height: 0; overflow: hidden\">\n",
       "<defs>\n",
       "<symbol id=\"icon-database\" viewBox=\"0 0 32 32\">\n",
       "<path d=\"M16 0c-8.837 0-16 2.239-16 5v4c0 2.761 7.163 5 16 5s16-2.239 16-5v-4c0-2.761-7.163-5-16-5z\"></path>\n",
       "<path d=\"M16 17c-8.837 0-16-2.239-16-5v6c0 2.761 7.163 5 16 5s16-2.239 16-5v-6c0 2.761-7.163 5-16 5z\"></path>\n",
       "<path d=\"M16 26c-8.837 0-16-2.239-16-5v6c0 2.761 7.163 5 16 5s16-2.239 16-5v-6c0 2.761-7.163 5-16 5z\"></path>\n",
       "</symbol>\n",
       "<symbol id=\"icon-file-text2\" viewBox=\"0 0 32 32\">\n",
       "<path d=\"M28.681 7.159c-0.694-0.947-1.662-2.053-2.724-3.116s-2.169-2.030-3.116-2.724c-1.612-1.182-2.393-1.319-2.841-1.319h-15.5c-1.378 0-2.5 1.121-2.5 2.5v27c0 1.378 1.122 2.5 2.5 2.5h23c1.378 0 2.5-1.122 2.5-2.5v-19.5c0-0.448-0.137-1.23-1.319-2.841zM24.543 5.457c0.959 0.959 1.712 1.825 2.268 2.543h-4.811v-4.811c0.718 0.556 1.584 1.309 2.543 2.268zM28 29.5c0 0.271-0.229 0.5-0.5 0.5h-23c-0.271 0-0.5-0.229-0.5-0.5v-27c0-0.271 0.229-0.5 0.5-0.5 0 0 15.499-0 15.5 0v7c0 0.552 0.448 1 1 1h7v19.5z\"></path>\n",
       "<path d=\"M23 26h-14c-0.552 0-1-0.448-1-1s0.448-1 1-1h14c0.552 0 1 0.448 1 1s-0.448 1-1 1z\"></path>\n",
       "<path d=\"M23 22h-14c-0.552 0-1-0.448-1-1s0.448-1 1-1h14c0.552 0 1 0.448 1 1s-0.448 1-1 1z\"></path>\n",
       "<path d=\"M23 18h-14c-0.552 0-1-0.448-1-1s0.448-1 1-1h14c0.552 0 1 0.448 1 1s-0.448 1-1 1z\"></path>\n",
       "</symbol>\n",
       "</defs>\n",
       "</svg>\n",
       "<style>/* CSS stylesheet for displaying xarray objects in jupyterlab.\n",
       " *\n",
       " */\n",
       "\n",
       ":root {\n",
       "  --xr-font-color0: var(--jp-content-font-color0, rgba(0, 0, 0, 1));\n",
       "  --xr-font-color2: var(--jp-content-font-color2, rgba(0, 0, 0, 0.54));\n",
       "  --xr-font-color3: var(--jp-content-font-color3, rgba(0, 0, 0, 0.38));\n",
       "  --xr-border-color: var(--jp-border-color2, #e0e0e0);\n",
       "  --xr-disabled-color: var(--jp-layout-color3, #bdbdbd);\n",
       "  --xr-background-color: var(--jp-layout-color0, white);\n",
       "  --xr-background-color-row-even: var(--jp-layout-color1, white);\n",
       "  --xr-background-color-row-odd: var(--jp-layout-color2, #eeeeee);\n",
       "}\n",
       "\n",
       "html[theme=dark],\n",
       "body.vscode-dark {\n",
       "  --xr-font-color0: rgba(255, 255, 255, 1);\n",
       "  --xr-font-color2: rgba(255, 255, 255, 0.54);\n",
       "  --xr-font-color3: rgba(255, 255, 255, 0.38);\n",
       "  --xr-border-color: #1F1F1F;\n",
       "  --xr-disabled-color: #515151;\n",
       "  --xr-background-color: #111111;\n",
       "  --xr-background-color-row-even: #111111;\n",
       "  --xr-background-color-row-odd: #313131;\n",
       "}\n",
       "\n",
       ".xr-wrap {\n",
       "  display: block !important;\n",
       "  min-width: 300px;\n",
       "  max-width: 700px;\n",
       "}\n",
       "\n",
       ".xr-text-repr-fallback {\n",
       "  /* fallback to plain text repr when CSS is not injected (untrusted notebook) */\n",
       "  display: none;\n",
       "}\n",
       "\n",
       ".xr-header {\n",
       "  padding-top: 6px;\n",
       "  padding-bottom: 6px;\n",
       "  margin-bottom: 4px;\n",
       "  border-bottom: solid 1px var(--xr-border-color);\n",
       "}\n",
       "\n",
       ".xr-header > div,\n",
       ".xr-header > ul {\n",
       "  display: inline;\n",
       "  margin-top: 0;\n",
       "  margin-bottom: 0;\n",
       "}\n",
       "\n",
       ".xr-obj-type,\n",
       ".xr-array-name {\n",
       "  margin-left: 2px;\n",
       "  margin-right: 10px;\n",
       "}\n",
       "\n",
       ".xr-obj-type {\n",
       "  color: var(--xr-font-color2);\n",
       "}\n",
       "\n",
       ".xr-sections {\n",
       "  padding-left: 0 !important;\n",
       "  display: grid;\n",
       "  grid-template-columns: 150px auto auto 1fr 20px 20px;\n",
       "}\n",
       "\n",
       ".xr-section-item {\n",
       "  display: contents;\n",
       "}\n",
       "\n",
       ".xr-section-item input {\n",
       "  display: none;\n",
       "}\n",
       "\n",
       ".xr-section-item input + label {\n",
       "  color: var(--xr-disabled-color);\n",
       "}\n",
       "\n",
       ".xr-section-item input:enabled + label {\n",
       "  cursor: pointer;\n",
       "  color: var(--xr-font-color2);\n",
       "}\n",
       "\n",
       ".xr-section-item input:enabled + label:hover {\n",
       "  color: var(--xr-font-color0);\n",
       "}\n",
       "\n",
       ".xr-section-summary {\n",
       "  grid-column: 1;\n",
       "  color: var(--xr-font-color2);\n",
       "  font-weight: 500;\n",
       "}\n",
       "\n",
       ".xr-section-summary > span {\n",
       "  display: inline-block;\n",
       "  padding-left: 0.5em;\n",
       "}\n",
       "\n",
       ".xr-section-summary-in:disabled + label {\n",
       "  color: var(--xr-font-color2);\n",
       "}\n",
       "\n",
       ".xr-section-summary-in + label:before {\n",
       "  display: inline-block;\n",
       "  content: '►';\n",
       "  font-size: 11px;\n",
       "  width: 15px;\n",
       "  text-align: center;\n",
       "}\n",
       "\n",
       ".xr-section-summary-in:disabled + label:before {\n",
       "  color: var(--xr-disabled-color);\n",
       "}\n",
       "\n",
       ".xr-section-summary-in:checked + label:before {\n",
       "  content: '▼';\n",
       "}\n",
       "\n",
       ".xr-section-summary-in:checked + label > span {\n",
       "  display: none;\n",
       "}\n",
       "\n",
       ".xr-section-summary,\n",
       ".xr-section-inline-details {\n",
       "  padding-top: 4px;\n",
       "  padding-bottom: 4px;\n",
       "}\n",
       "\n",
       ".xr-section-inline-details {\n",
       "  grid-column: 2 / -1;\n",
       "}\n",
       "\n",
       ".xr-section-details {\n",
       "  display: none;\n",
       "  grid-column: 1 / -1;\n",
       "  margin-bottom: 5px;\n",
       "}\n",
       "\n",
       ".xr-section-summary-in:checked ~ .xr-section-details {\n",
       "  display: contents;\n",
       "}\n",
       "\n",
       ".xr-array-wrap {\n",
       "  grid-column: 1 / -1;\n",
       "  display: grid;\n",
       "  grid-template-columns: 20px auto;\n",
       "}\n",
       "\n",
       ".xr-array-wrap > label {\n",
       "  grid-column: 1;\n",
       "  vertical-align: top;\n",
       "}\n",
       "\n",
       ".xr-preview {\n",
       "  color: var(--xr-font-color3);\n",
       "}\n",
       "\n",
       ".xr-array-preview,\n",
       ".xr-array-data {\n",
       "  padding: 0 5px !important;\n",
       "  grid-column: 2;\n",
       "}\n",
       "\n",
       ".xr-array-data,\n",
       ".xr-array-in:checked ~ .xr-array-preview {\n",
       "  display: none;\n",
       "}\n",
       "\n",
       ".xr-array-in:checked ~ .xr-array-data,\n",
       ".xr-array-preview {\n",
       "  display: inline-block;\n",
       "}\n",
       "\n",
       ".xr-dim-list {\n",
       "  display: inline-block !important;\n",
       "  list-style: none;\n",
       "  padding: 0 !important;\n",
       "  margin: 0;\n",
       "}\n",
       "\n",
       ".xr-dim-list li {\n",
       "  display: inline-block;\n",
       "  padding: 0;\n",
       "  margin: 0;\n",
       "}\n",
       "\n",
       ".xr-dim-list:before {\n",
       "  content: '(';\n",
       "}\n",
       "\n",
       ".xr-dim-list:after {\n",
       "  content: ')';\n",
       "}\n",
       "\n",
       ".xr-dim-list li:not(:last-child):after {\n",
       "  content: ',';\n",
       "  padding-right: 5px;\n",
       "}\n",
       "\n",
       ".xr-has-index {\n",
       "  font-weight: bold;\n",
       "}\n",
       "\n",
       ".xr-var-list,\n",
       ".xr-var-item {\n",
       "  display: contents;\n",
       "}\n",
       "\n",
       ".xr-var-item > div,\n",
       ".xr-var-item label,\n",
       ".xr-var-item > .xr-var-name span {\n",
       "  background-color: var(--xr-background-color-row-even);\n",
       "  margin-bottom: 0;\n",
       "}\n",
       "\n",
       ".xr-var-item > .xr-var-name:hover span {\n",
       "  padding-right: 5px;\n",
       "}\n",
       "\n",
       ".xr-var-list > li:nth-child(odd) > div,\n",
       ".xr-var-list > li:nth-child(odd) > label,\n",
       ".xr-var-list > li:nth-child(odd) > .xr-var-name span {\n",
       "  background-color: var(--xr-background-color-row-odd);\n",
       "}\n",
       "\n",
       ".xr-var-name {\n",
       "  grid-column: 1;\n",
       "}\n",
       "\n",
       ".xr-var-dims {\n",
       "  grid-column: 2;\n",
       "}\n",
       "\n",
       ".xr-var-dtype {\n",
       "  grid-column: 3;\n",
       "  text-align: right;\n",
       "  color: var(--xr-font-color2);\n",
       "}\n",
       "\n",
       ".xr-var-preview {\n",
       "  grid-column: 4;\n",
       "}\n",
       "\n",
       ".xr-var-name,\n",
       ".xr-var-dims,\n",
       ".xr-var-dtype,\n",
       ".xr-preview,\n",
       ".xr-attrs dt {\n",
       "  white-space: nowrap;\n",
       "  overflow: hidden;\n",
       "  text-overflow: ellipsis;\n",
       "  padding-right: 10px;\n",
       "}\n",
       "\n",
       ".xr-var-name:hover,\n",
       ".xr-var-dims:hover,\n",
       ".xr-var-dtype:hover,\n",
       ".xr-attrs dt:hover {\n",
       "  overflow: visible;\n",
       "  width: auto;\n",
       "  z-index: 1;\n",
       "}\n",
       "\n",
       ".xr-var-attrs,\n",
       ".xr-var-data {\n",
       "  display: none;\n",
       "  background-color: var(--xr-background-color) !important;\n",
       "  padding-bottom: 5px !important;\n",
       "}\n",
       "\n",
       ".xr-var-attrs-in:checked ~ .xr-var-attrs,\n",
       ".xr-var-data-in:checked ~ .xr-var-data {\n",
       "  display: block;\n",
       "}\n",
       "\n",
       ".xr-var-data > table {\n",
       "  float: right;\n",
       "}\n",
       "\n",
       ".xr-var-name span,\n",
       ".xr-var-data,\n",
       ".xr-attrs {\n",
       "  padding-left: 25px !important;\n",
       "}\n",
       "\n",
       ".xr-attrs,\n",
       ".xr-var-attrs,\n",
       ".xr-var-data {\n",
       "  grid-column: 1 / -1;\n",
       "}\n",
       "\n",
       "dl.xr-attrs {\n",
       "  padding: 0;\n",
       "  margin: 0;\n",
       "  display: grid;\n",
       "  grid-template-columns: 125px auto;\n",
       "}\n",
       "\n",
       ".xr-attrs dt,\n",
       ".xr-attrs dd {\n",
       "  padding: 0;\n",
       "  margin: 0;\n",
       "  float: left;\n",
       "  padding-right: 10px;\n",
       "  width: auto;\n",
       "}\n",
       "\n",
       ".xr-attrs dt {\n",
       "  font-weight: normal;\n",
       "  grid-column: 1;\n",
       "}\n",
       "\n",
       ".xr-attrs dt:hover span {\n",
       "  display: inline-block;\n",
       "  background: var(--xr-background-color);\n",
       "  padding-right: 10px;\n",
       "}\n",
       "\n",
       ".xr-attrs dd {\n",
       "  grid-column: 2;\n",
       "  white-space: pre-wrap;\n",
       "  word-break: break-all;\n",
       "}\n",
       "\n",
       ".xr-icon-database,\n",
       ".xr-icon-file-text2 {\n",
       "  display: inline-block;\n",
       "  vertical-align: middle;\n",
       "  width: 1em;\n",
       "  height: 1.5em !important;\n",
       "  stroke-width: 0;\n",
       "  stroke: currentColor;\n",
       "  fill: currentColor;\n",
       "}\n",
       "</style><pre class='xr-text-repr-fallback'>&lt;xarray.Dataset&gt;\n",
       "Dimensions:       (time: 205777)\n",
       "Coordinates:\n",
       "  * time          (time) datetime64[ns] 1998-07-29T01:25:00 ... 2022-08-31T23...\n",
       "    station       &lt;U10 &#x27;RAWS_BCHN5&#x27;\n",
       "    lat           (time) float64 ...\n",
       "    lon           (time) float64 ...\n",
       "Data variables:\n",
       "    tas           (time) float64 ...\n",
       "    pr            (time) float64 ...\n",
       "    hurs          (time) float64 ...\n",
       "    rsds          (time) float64 ...\n",
       "    sfcWind       (time) float64 ...\n",
       "    sfcWind_dir   (time) float64 ...\n",
       "    tas_qc        (time) object ...\n",
       "    hurs_qc       (time) object ...\n",
       "    sfcWind_qc    (time) object ...\n",
       "    pr_qc         (time) object ...\n",
       "    tdps_derived  (time) float64 ...\n",
       "    elevation     (time) float64 ...\n",
       "Attributes: (12/13)\n",
       "    title:                  RAWS cleaned\n",
       "    institution:            Eagle Rock Analytics / Cal Adapt\n",
       "    source:                 \n",
       "    history:                MADIS_clean.py script run on 02-09-2023, 15:01:29...\n",
       "    comment:                Intermediate data product: may not have been subj...\n",
       "    license:                \n",
       "    ...                     ...\n",
       "    disclaimer:             This document was prepared as a result of work sp...\n",
       "    station_name:           CHUPADERA\n",
       "    raw_files_merged:       1\n",
       "    anemometer_height_m:    nan\n",
       "    thermometer_height_m:   nan\n",
       "    barometer_elevation_m:  nan</pre><div class='xr-wrap' style='display:none'><div class='xr-header'><div class='xr-obj-type'>xarray.Dataset</div></div><ul class='xr-sections'><li class='xr-section-item'><input id='section-99d551ff-64bd-4c21-b4e0-81a276d37187' class='xr-section-summary-in' type='checkbox' disabled ><label for='section-99d551ff-64bd-4c21-b4e0-81a276d37187' class='xr-section-summary'  title='Expand/collapse section'>Dimensions:</label><div class='xr-section-inline-details'><ul class='xr-dim-list'><li><span class='xr-has-index'>time</span>: 205777</li></ul></div><div class='xr-section-details'></div></li><li class='xr-section-item'><input id='section-d642639f-4991-48e1-b5d7-2e5659da9426' class='xr-section-summary-in' type='checkbox'  checked><label for='section-d642639f-4991-48e1-b5d7-2e5659da9426' class='xr-section-summary' >Coordinates: <span>(4)</span></label><div class='xr-section-inline-details'></div><div class='xr-section-details'><ul class='xr-var-list'><li class='xr-var-item'><div class='xr-var-name'><span class='xr-has-index'>time</span></div><div class='xr-var-dims'>(time)</div><div class='xr-var-dtype'>datetime64[ns]</div><div class='xr-var-preview xr-preview'>1998-07-29T01:25:00 ... 2022-08-...</div><input id='attrs-73c16ac0-f07d-47ad-98ac-0a80cd28a874' class='xr-var-attrs-in' type='checkbox' ><label for='attrs-73c16ac0-f07d-47ad-98ac-0a80cd28a874' title='Show/Hide attributes'><svg class='icon xr-icon-file-text2'><use xlink:href='#icon-file-text2'></use></svg></label><input id='data-ce41e138-daf2-4eed-8168-88319bdc79ed' class='xr-var-data-in' type='checkbox'><label for='data-ce41e138-daf2-4eed-8168-88319bdc79ed' title='Show/Hide data repr'><svg class='icon xr-icon-database'><use xlink:href='#icon-database'></use></svg></label><div class='xr-var-attrs'><dl class='xr-attrs'><dt><span>long_name :</span></dt><dd>time</dd><dt><span>standard_name :</span></dt><dd>time</dd><dt><span>comment :</span></dt><dd>In UTC.</dd></dl></div><div class='xr-var-data'><pre>array([&#x27;1998-07-29T01:25:00.000000000&#x27;, &#x27;1998-07-29T02:25:00.000000000&#x27;,\n",
       "       &#x27;1998-07-29T03:25:00.000000000&#x27;, ..., &#x27;2022-08-31T21:39:00.000000000&#x27;,\n",
       "       &#x27;2022-08-31T22:39:00.000000000&#x27;, &#x27;2022-08-31T23:39:00.000000000&#x27;],\n",
       "      dtype=&#x27;datetime64[ns]&#x27;)</pre></div></li><li class='xr-var-item'><div class='xr-var-name'><span>station</span></div><div class='xr-var-dims'>()</div><div class='xr-var-dtype'>&lt;U10</div><div class='xr-var-preview xr-preview'>&#x27;RAWS_BCHN5&#x27;</div><input id='attrs-cf7cf21f-f5c5-443d-aacb-515b116eb008' class='xr-var-attrs-in' type='checkbox' ><label for='attrs-cf7cf21f-f5c5-443d-aacb-515b116eb008' title='Show/Hide attributes'><svg class='icon xr-icon-file-text2'><use xlink:href='#icon-file-text2'></use></svg></label><input id='data-e2c3c853-37dc-47fb-b2c6-7248cc2c5e62' class='xr-var-data-in' type='checkbox'><label for='data-e2c3c853-37dc-47fb-b2c6-7248cc2c5e62' title='Show/Hide data repr'><svg class='icon xr-icon-database'><use xlink:href='#icon-database'></use></svg></label><div class='xr-var-attrs'><dl class='xr-attrs'><dt><span>long_name :</span></dt><dd>station_id</dd><dt><span>comment :</span></dt><dd>Unique ID created by Eagle Rock Analytics. Includes network name appended to original unique station ID provided by network.</dd></dl></div><div class='xr-var-data'><pre>array(&#x27;RAWS_BCHN5&#x27;, dtype=&#x27;&lt;U10&#x27;)</pre></div></li><li class='xr-var-item'><div class='xr-var-name'><span>lat</span></div><div class='xr-var-dims'>(time)</div><div class='xr-var-dtype'>float64</div><div class='xr-var-preview xr-preview'>...</div><input id='attrs-03d9ce90-bcc3-4a46-8b60-535ce420c5f5' class='xr-var-attrs-in' type='checkbox' ><label for='attrs-03d9ce90-bcc3-4a46-8b60-535ce420c5f5' title='Show/Hide attributes'><svg class='icon xr-icon-file-text2'><use xlink:href='#icon-file-text2'></use></svg></label><input id='data-c8a6758e-dd02-451e-b8f6-d305aef13e68' class='xr-var-data-in' type='checkbox'><label for='data-c8a6758e-dd02-451e-b8f6-d305aef13e68' title='Show/Hide data repr'><svg class='icon xr-icon-database'><use xlink:href='#icon-database'></use></svg></label><div class='xr-var-attrs'><dl class='xr-attrs'><dt><span>long_name :</span></dt><dd>latitude</dd><dt><span>standard_name :</span></dt><dd>latitude</dd><dt><span>units :</span></dt><dd>degrees_north</dd></dl></div><div class='xr-var-data'><pre>[205777 values with dtype=float64]</pre></div></li><li class='xr-var-item'><div class='xr-var-name'><span>lon</span></div><div class='xr-var-dims'>(time)</div><div class='xr-var-dtype'>float64</div><div class='xr-var-preview xr-preview'>...</div><input id='attrs-6ba6635a-2c78-4ad9-9729-d511be974355' class='xr-var-attrs-in' type='checkbox' ><label for='attrs-6ba6635a-2c78-4ad9-9729-d511be974355' title='Show/Hide attributes'><svg class='icon xr-icon-file-text2'><use xlink:href='#icon-file-text2'></use></svg></label><input id='data-6cf0b77e-ec5f-4a45-9ea4-5a9f3b1f393d' class='xr-var-data-in' type='checkbox'><label for='data-6cf0b77e-ec5f-4a45-9ea4-5a9f3b1f393d' title='Show/Hide data repr'><svg class='icon xr-icon-database'><use xlink:href='#icon-database'></use></svg></label><div class='xr-var-attrs'><dl class='xr-attrs'><dt><span>long_name :</span></dt><dd>longitude</dd><dt><span>standard_name :</span></dt><dd>longitude</dd><dt><span>units :</span></dt><dd>degrees_east</dd></dl></div><div class='xr-var-data'><pre>[205777 values with dtype=float64]</pre></div></li></ul></div></li><li class='xr-section-item'><input id='section-3dc22b3b-8ca1-47bb-a4a9-d03d1eb4b315' class='xr-section-summary-in' type='checkbox'  checked><label for='section-3dc22b3b-8ca1-47bb-a4a9-d03d1eb4b315' class='xr-section-summary' >Data variables: <span>(12)</span></label><div class='xr-section-inline-details'></div><div class='xr-section-details'><ul class='xr-var-list'><li class='xr-var-item'><div class='xr-var-name'><span>tas</span></div><div class='xr-var-dims'>(time)</div><div class='xr-var-dtype'>float64</div><div class='xr-var-preview xr-preview'>...</div><input id='attrs-7c274556-41aa-4a44-9412-394c9fbc305f' class='xr-var-attrs-in' type='checkbox' ><label for='attrs-7c274556-41aa-4a44-9412-394c9fbc305f' title='Show/Hide attributes'><svg class='icon xr-icon-file-text2'><use xlink:href='#icon-file-text2'></use></svg></label><input id='data-edb9c25c-5117-45ed-ab21-9b8d9cdca421' class='xr-var-data-in' type='checkbox'><label for='data-edb9c25c-5117-45ed-ab21-9b8d9cdca421' title='Show/Hide data repr'><svg class='icon xr-icon-database'><use xlink:href='#icon-database'></use></svg></label><div class='xr-var-attrs'><dl class='xr-attrs'><dt><span>long_name :</span></dt><dd>air_temperature</dd><dt><span>standard_name :</span></dt><dd>air_temperature</dd><dt><span>units :</span></dt><dd>degree_Kelvin</dd><dt><span>ancillary_variables :</span></dt><dd>tas_qc</dd><dt><span>comment :</span></dt><dd>Converted from Celsius to Kelvin.</dd></dl></div><div class='xr-var-data'><pre>[205777 values with dtype=float64]</pre></div></li><li class='xr-var-item'><div class='xr-var-name'><span>pr</span></div><div class='xr-var-dims'>(time)</div><div class='xr-var-dtype'>float64</div><div class='xr-var-preview xr-preview'>...</div><input id='attrs-20499c46-5472-4b16-93ef-77b0a49fff79' class='xr-var-attrs-in' type='checkbox' ><label for='attrs-20499c46-5472-4b16-93ef-77b0a49fff79' title='Show/Hide attributes'><svg class='icon xr-icon-file-text2'><use xlink:href='#icon-file-text2'></use></svg></label><input id='data-da47c65e-c1ce-4660-982c-9d3fe29d8a42' class='xr-var-data-in' type='checkbox'><label for='data-da47c65e-c1ce-4660-982c-9d3fe29d8a42' title='Show/Hide data repr'><svg class='icon xr-icon-database'><use xlink:href='#icon-database'></use></svg></label><div class='xr-var-attrs'><dl class='xr-attrs'><dt><span>long_name :</span></dt><dd>precipitation_amount</dd><dt><span>units :</span></dt><dd>mm/interval</dd><dt><span>comment :</span></dt><dd>Precipitation accumulated since previous measurement.</dd><dt><span>ancillary_variables :</span></dt><dd></dd></dl></div><div class='xr-var-data'><pre>[205777 values with dtype=float64]</pre></div></li><li class='xr-var-item'><div class='xr-var-name'><span>hurs</span></div><div class='xr-var-dims'>(time)</div><div class='xr-var-dtype'>float64</div><div class='xr-var-preview xr-preview'>...</div><input id='attrs-474a9630-97fe-4794-a224-9ea1db6ba807' class='xr-var-attrs-in' type='checkbox' ><label for='attrs-474a9630-97fe-4794-a224-9ea1db6ba807' title='Show/Hide attributes'><svg class='icon xr-icon-file-text2'><use xlink:href='#icon-file-text2'></use></svg></label><input id='data-1667b5b9-e649-45f7-a1a0-011db0b9595e' class='xr-var-data-in' type='checkbox'><label for='data-1667b5b9-e649-45f7-a1a0-011db0b9595e' title='Show/Hide data repr'><svg class='icon xr-icon-database'><use xlink:href='#icon-database'></use></svg></label><div class='xr-var-attrs'><dl class='xr-attrs'><dt><span>long_name :</span></dt><dd>relative_humidity</dd><dt><span>standard_name :</span></dt><dd>relative_humidity</dd><dt><span>units :</span></dt><dd>percent</dd><dt><span>ancillary_variables :</span></dt><dd>hurs_qc</dd></dl></div><div class='xr-var-data'><pre>[205777 values with dtype=float64]</pre></div></li><li class='xr-var-item'><div class='xr-var-name'><span>rsds</span></div><div class='xr-var-dims'>(time)</div><div class='xr-var-dtype'>float64</div><div class='xr-var-preview xr-preview'>...</div><input id='attrs-d37ed678-3cb5-4b55-ad77-fc39a6fb12ac' class='xr-var-attrs-in' type='checkbox' ><label for='attrs-d37ed678-3cb5-4b55-ad77-fc39a6fb12ac' title='Show/Hide attributes'><svg class='icon xr-icon-file-text2'><use xlink:href='#icon-file-text2'></use></svg></label><input id='data-c9e328e0-5363-460e-8f0f-db57b28c8b04' class='xr-var-data-in' type='checkbox'><label for='data-c9e328e0-5363-460e-8f0f-db57b28c8b04' title='Show/Hide data repr'><svg class='icon xr-icon-database'><use xlink:href='#icon-database'></use></svg></label><div class='xr-var-attrs'><dl class='xr-attrs'><dt><span>long_name :</span></dt><dd>solar_radiation</dd><dt><span>standard_name :</span></dt><dd>surface_downwelling_shortwave_flux_in_air</dd><dt><span>units :</span></dt><dd>W m-2</dd></dl></div><div class='xr-var-data'><pre>[205777 values with dtype=float64]</pre></div></li><li class='xr-var-item'><div class='xr-var-name'><span>sfcWind</span></div><div class='xr-var-dims'>(time)</div><div class='xr-var-dtype'>float64</div><div class='xr-var-preview xr-preview'>...</div><input id='attrs-fb28b068-9c11-4a84-aacb-52d65e64270d' class='xr-var-attrs-in' type='checkbox' ><label for='attrs-fb28b068-9c11-4a84-aacb-52d65e64270d' title='Show/Hide attributes'><svg class='icon xr-icon-file-text2'><use xlink:href='#icon-file-text2'></use></svg></label><input id='data-77a196e0-0b5b-426e-9a5b-22494f843a2c' class='xr-var-data-in' type='checkbox'><label for='data-77a196e0-0b5b-426e-9a5b-22494f843a2c' title='Show/Hide data repr'><svg class='icon xr-icon-database'><use xlink:href='#icon-database'></use></svg></label><div class='xr-var-attrs'><dl class='xr-attrs'><dt><span>long_name :</span></dt><dd>wind_speed</dd><dt><span>standard_name :</span></dt><dd>wind_speed</dd><dt><span>units :</span></dt><dd>m s-1</dd><dt><span>ancillary_variables :</span></dt><dd>sfcWind_qc</dd></dl></div><div class='xr-var-data'><pre>[205777 values with dtype=float64]</pre></div></li><li class='xr-var-item'><div class='xr-var-name'><span>sfcWind_dir</span></div><div class='xr-var-dims'>(time)</div><div class='xr-var-dtype'>float64</div><div class='xr-var-preview xr-preview'>...</div><input id='attrs-60fe9762-f1ad-425a-9ed1-50efd0407b0f' class='xr-var-attrs-in' type='checkbox' ><label for='attrs-60fe9762-f1ad-425a-9ed1-50efd0407b0f' title='Show/Hide attributes'><svg class='icon xr-icon-file-text2'><use xlink:href='#icon-file-text2'></use></svg></label><input id='data-4fe561db-405b-40b1-8b49-da0ba6547c17' class='xr-var-data-in' type='checkbox'><label for='data-4fe561db-405b-40b1-8b49-da0ba6547c17' title='Show/Hide data repr'><svg class='icon xr-icon-database'><use xlink:href='#icon-database'></use></svg></label><div class='xr-var-attrs'><dl class='xr-attrs'><dt><span>long_name :</span></dt><dd>wind_direction</dd><dt><span>standard_name :</span></dt><dd>wind_from_direction</dd><dt><span>units :</span></dt><dd>degrees_clockwise_from_north</dd><dt><span>comment :</span></dt><dd>Wind direction is defined by the direction that the wind is coming from (i.e., a northerly wind originates in the north and blows towards the south).</dd></dl></div><div class='xr-var-data'><pre>[205777 values with dtype=float64]</pre></div></li><li class='xr-var-item'><div class='xr-var-name'><span>tas_qc</span></div><div class='xr-var-dims'>(time)</div><div class='xr-var-dtype'>object</div><div class='xr-var-preview xr-preview'>...</div><input id='attrs-acf9f949-ecd1-455a-87a5-7290366e3424' class='xr-var-attrs-in' type='checkbox' ><label for='attrs-acf9f949-ecd1-455a-87a5-7290366e3424' title='Show/Hide attributes'><svg class='icon xr-icon-file-text2'><use xlink:href='#icon-file-text2'></use></svg></label><input id='data-ef6ee23a-6466-4b9e-a15c-4036770cadbb' class='xr-var-data-in' type='checkbox'><label for='data-ef6ee23a-6466-4b9e-a15c-4036770cadbb' title='Show/Hide data repr'><svg class='icon xr-icon-database'><use xlink:href='#icon-database'></use></svg></label><div class='xr-var-attrs'><dl class='xr-attrs'><dt><span>flag_values :</span></dt><dd>[&#x27;78&#x27;, &#x27;81&#x27;]</dd><dt><span>flag_meanings :</span></dt><dd>See QA/QC csv for network.</dd></dl></div><div class='xr-var-data'><pre>[205777 values with dtype=object]</pre></div></li><li class='xr-var-item'><div class='xr-var-name'><span>hurs_qc</span></div><div class='xr-var-dims'>(time)</div><div class='xr-var-dtype'>object</div><div class='xr-var-preview xr-preview'>...</div><input id='attrs-3e96019f-d7d7-4f74-a055-2ce2527b1f31' class='xr-var-attrs-in' type='checkbox' ><label for='attrs-3e96019f-d7d7-4f74-a055-2ce2527b1f31' title='Show/Hide attributes'><svg class='icon xr-icon-file-text2'><use xlink:href='#icon-file-text2'></use></svg></label><input id='data-7d90bd0a-6295-4f27-9fec-53ab31e75b46' class='xr-var-data-in' type='checkbox'><label for='data-7d90bd0a-6295-4f27-9fec-53ab31e75b46' title='Show/Hide data repr'><svg class='icon xr-icon-database'><use xlink:href='#icon-database'></use></svg></label><div class='xr-var-attrs'><dl class='xr-attrs'><dt><span>flag_values :</span></dt><dd>[&#x27;&#x27;, &#x27;78&#x27;]</dd><dt><span>flag_meanings :</span></dt><dd>See QA/QC csv for network.</dd></dl></div><div class='xr-var-data'><pre>[205777 values with dtype=object]</pre></div></li><li class='xr-var-item'><div class='xr-var-name'><span>sfcWind_qc</span></div><div class='xr-var-dims'>(time)</div><div class='xr-var-dtype'>object</div><div class='xr-var-preview xr-preview'>...</div><input id='attrs-545542d8-16a0-495c-986d-62ebb79f4b10' class='xr-var-attrs-in' type='checkbox' ><label for='attrs-545542d8-16a0-495c-986d-62ebb79f4b10' title='Show/Hide attributes'><svg class='icon xr-icon-file-text2'><use xlink:href='#icon-file-text2'></use></svg></label><input id='data-faa9d5a4-0951-4efc-af5d-5bca793c2249' class='xr-var-data-in' type='checkbox'><label for='data-faa9d5a4-0951-4efc-af5d-5bca793c2249' title='Show/Hide data repr'><svg class='icon xr-icon-database'><use xlink:href='#icon-database'></use></svg></label><div class='xr-var-attrs'><dl class='xr-attrs'><dt><span>flag_values :</span></dt><dd>[&#x27;&#x27;, &#x27;3&#x27;]</dd><dt><span>flag_meanings :</span></dt><dd>See QA/QC csv for network.</dd></dl></div><div class='xr-var-data'><pre>[205777 values with dtype=object]</pre></div></li><li class='xr-var-item'><div class='xr-var-name'><span>pr_qc</span></div><div class='xr-var-dims'>(time)</div><div class='xr-var-dtype'>object</div><div class='xr-var-preview xr-preview'>...</div><input id='attrs-c00fef8f-c697-4115-aa54-2f0685e3484b' class='xr-var-attrs-in' type='checkbox' ><label for='attrs-c00fef8f-c697-4115-aa54-2f0685e3484b' title='Show/Hide attributes'><svg class='icon xr-icon-file-text2'><use xlink:href='#icon-file-text2'></use></svg></label><input id='data-051b411e-e23b-43df-9b9b-e1e971d5620d' class='xr-var-data-in' type='checkbox'><label for='data-051b411e-e23b-43df-9b9b-e1e971d5620d' title='Show/Hide data repr'><svg class='icon xr-icon-database'><use xlink:href='#icon-database'></use></svg></label><div class='xr-var-attrs'><dl class='xr-attrs'><dt><span>flag_values :</span></dt><dd>1</dd><dt><span>flag_meanings :</span></dt><dd>See QA/QC csv for network.</dd><dt><span>ancillary_variables :</span></dt><dd>pr</dd></dl></div><div class='xr-var-data'><pre>[205777 values with dtype=object]</pre></div></li><li class='xr-var-item'><div class='xr-var-name'><span>tdps_derived</span></div><div class='xr-var-dims'>(time)</div><div class='xr-var-dtype'>float64</div><div class='xr-var-preview xr-preview'>...</div><input id='attrs-dff71a46-5bcb-4c9a-85a3-7bfaef7f557c' class='xr-var-attrs-in' type='checkbox' ><label for='attrs-dff71a46-5bcb-4c9a-85a3-7bfaef7f557c' title='Show/Hide attributes'><svg class='icon xr-icon-file-text2'><use xlink:href='#icon-file-text2'></use></svg></label><input id='data-868c9f07-751d-4744-abb3-b62ffcd4d621' class='xr-var-data-in' type='checkbox'><label for='data-868c9f07-751d-4744-abb3-b62ffcd4d621' title='Show/Hide data repr'><svg class='icon xr-icon-database'><use xlink:href='#icon-database'></use></svg></label><div class='xr-var-attrs'><dl class='xr-attrs'><dt><span>long_name :</span></dt><dd>derived_dew_point_temperature</dd><dt><span>units :</span></dt><dd>degree_Kelvin</dd><dt><span>comment :</span></dt><dd>Derived by Synoptic. Converted from Celsius to Kelvin.</dd></dl></div><div class='xr-var-data'><pre>[205777 values with dtype=float64]</pre></div></li><li class='xr-var-item'><div class='xr-var-name'><span>elevation</span></div><div class='xr-var-dims'>(time)</div><div class='xr-var-dtype'>float64</div><div class='xr-var-preview xr-preview'>...</div><input id='attrs-705ba77b-cbe7-4080-b5b2-f33a70bce109' class='xr-var-attrs-in' type='checkbox' ><label for='attrs-705ba77b-cbe7-4080-b5b2-f33a70bce109' title='Show/Hide attributes'><svg class='icon xr-icon-file-text2'><use xlink:href='#icon-file-text2'></use></svg></label><input id='data-e6e91aa5-7e24-42f1-a718-3cf0eb791e02' class='xr-var-data-in' type='checkbox'><label for='data-e6e91aa5-7e24-42f1-a718-3cf0eb791e02' title='Show/Hide data repr'><svg class='icon xr-icon-database'><use xlink:href='#icon-database'></use></svg></label><div class='xr-var-attrs'><dl class='xr-attrs'><dt><span>standard_name :</span></dt><dd>height_above_mean_sea_level</dd><dt><span>long_name :</span></dt><dd>station_elevation</dd><dt><span>units :</span></dt><dd>meters</dd><dt><span>positive :</span></dt><dd>up</dd><dt><span>comment :</span></dt><dd>Converted from feet to meters.</dd></dl></div><div class='xr-var-data'><pre>[205777 values with dtype=float64]</pre></div></li></ul></div></li><li class='xr-section-item'><input id='section-675fcbae-566f-4110-9667-27250b37b939' class='xr-section-summary-in' type='checkbox'  ><label for='section-675fcbae-566f-4110-9667-27250b37b939' class='xr-section-summary' >Attributes: <span>(13)</span></label><div class='xr-section-inline-details'></div><div class='xr-section-details'><dl class='xr-attrs'><dt><span>title :</span></dt><dd>RAWS cleaned</dd><dt><span>institution :</span></dt><dd>Eagle Rock Analytics / Cal Adapt</dd><dt><span>source :</span></dt><dd></dd><dt><span>history :</span></dt><dd>MADIS_clean.py script run on 02-09-2023, 15:01:29 UTC</dd><dt><span>comment :</span></dt><dd>Intermediate data product: may not have been subject to any cleaning or QA/QC processing</dd><dt><span>license :</span></dt><dd></dd><dt><span>citation :</span></dt><dd></dd><dt><span>disclaimer :</span></dt><dd>This document was prepared as a result of work sponsored by the California Energy Commission (PIR-19-006). It does not necessarily represent the views of the Energy Commission, its employees, or the State of California. Neither the Commission, the State of California, nor the Commission&#x27;s employees, contractors, or subcontractors makes any warranty, express or implied, or assumes any legal liability for the information in this document; nor does any party represent that the use of this information will not infringe upon privately owned rights. This document has not been approved or disapproved by the Commission, nor has the Commission passed upon the accuracy of the information in this document.</dd><dt><span>station_name :</span></dt><dd>CHUPADERA</dd><dt><span>raw_files_merged :</span></dt><dd>1</dd><dt><span>anemometer_height_m :</span></dt><dd>nan</dd><dt><span>thermometer_height_m :</span></dt><dd>nan</dd><dt><span>barometer_elevation_m :</span></dt><dd>nan</dd></dl></div></li></ul></div></div>"
      ],
      "text/plain": [
       "<xarray.Dataset>\n",
       "Dimensions:       (time: 205777)\n",
       "Coordinates:\n",
       "  * time          (time) datetime64[ns] 1998-07-29T01:25:00 ... 2022-08-31T23...\n",
       "    station       <U10 'RAWS_BCHN5'\n",
       "    lat           (time) float64 ...\n",
       "    lon           (time) float64 ...\n",
       "Data variables:\n",
       "    tas           (time) float64 ...\n",
       "    pr            (time) float64 ...\n",
       "    hurs          (time) float64 ...\n",
       "    rsds          (time) float64 ...\n",
       "    sfcWind       (time) float64 ...\n",
       "    sfcWind_dir   (time) float64 ...\n",
       "    tas_qc        (time) object ...\n",
       "    hurs_qc       (time) object ...\n",
       "    sfcWind_qc    (time) object ...\n",
       "    pr_qc         (time) object ...\n",
       "    tdps_derived  (time) float64 ...\n",
       "    elevation     (time) float64 ...\n",
       "Attributes: (12/13)\n",
       "    title:                  RAWS cleaned\n",
       "    institution:            Eagle Rock Analytics / Cal Adapt\n",
       "    source:                 \n",
       "    history:                MADIS_clean.py script run on 02-09-2023, 15:01:29...\n",
       "    comment:                Intermediate data product: may not have been subj...\n",
       "    license:                \n",
       "    ...                     ...\n",
       "    disclaimer:             This document was prepared as a result of work sp...\n",
       "    station_name:           CHUPADERA\n",
       "    raw_files_merged:       1\n",
       "    anemometer_height_m:    nan\n",
       "    thermometer_height_m:   nan\n",
       "    barometer_elevation_m:  nan"
      ]
     },
     "execution_count": 21,
     "metadata": {},
     "output_type": "execute_result"
    }
   ],
   "source": [
    "ds = xr.open_dataset(\"train_files/RAWS_BCHN5.nc\")\n",
    "print(ds.station)\n",
    "ds2 = ds.isel(station=0)\n",
    "ds2"
   ]
  },
  {
   "cell_type": "code",
   "execution_count": 28,
   "id": "996f76fa-1ca1-4c0c-a126-fb17e5853a20",
   "metadata": {
    "execution": {
     "iopub.execute_input": "2023-10-10T16:58:22.574954Z",
     "iopub.status.busy": "2023-10-10T16:58:22.573867Z",
     "iopub.status.idle": "2023-10-10T16:58:22.657926Z",
     "shell.execute_reply": "2023-10-10T16:58:22.657596Z",
     "shell.execute_reply.started": "2023-10-10T16:58:22.574907Z"
    }
   },
   "outputs": [
    {
     "data": {
      "text/html": [
       "<div><svg style=\"position: absolute; width: 0; height: 0; overflow: hidden\">\n",
       "<defs>\n",
       "<symbol id=\"icon-database\" viewBox=\"0 0 32 32\">\n",
       "<path d=\"M16 0c-8.837 0-16 2.239-16 5v4c0 2.761 7.163 5 16 5s16-2.239 16-5v-4c0-2.761-7.163-5-16-5z\"></path>\n",
       "<path d=\"M16 17c-8.837 0-16-2.239-16-5v6c0 2.761 7.163 5 16 5s16-2.239 16-5v-6c0 2.761-7.163 5-16 5z\"></path>\n",
       "<path d=\"M16 26c-8.837 0-16-2.239-16-5v6c0 2.761 7.163 5 16 5s16-2.239 16-5v-6c0 2.761-7.163 5-16 5z\"></path>\n",
       "</symbol>\n",
       "<symbol id=\"icon-file-text2\" viewBox=\"0 0 32 32\">\n",
       "<path d=\"M28.681 7.159c-0.694-0.947-1.662-2.053-2.724-3.116s-2.169-2.030-3.116-2.724c-1.612-1.182-2.393-1.319-2.841-1.319h-15.5c-1.378 0-2.5 1.121-2.5 2.5v27c0 1.378 1.122 2.5 2.5 2.5h23c1.378 0 2.5-1.122 2.5-2.5v-19.5c0-0.448-0.137-1.23-1.319-2.841zM24.543 5.457c0.959 0.959 1.712 1.825 2.268 2.543h-4.811v-4.811c0.718 0.556 1.584 1.309 2.543 2.268zM28 29.5c0 0.271-0.229 0.5-0.5 0.5h-23c-0.271 0-0.5-0.229-0.5-0.5v-27c0-0.271 0.229-0.5 0.5-0.5 0 0 15.499-0 15.5 0v7c0 0.552 0.448 1 1 1h7v19.5z\"></path>\n",
       "<path d=\"M23 26h-14c-0.552 0-1-0.448-1-1s0.448-1 1-1h14c0.552 0 1 0.448 1 1s-0.448 1-1 1z\"></path>\n",
       "<path d=\"M23 22h-14c-0.552 0-1-0.448-1-1s0.448-1 1-1h14c0.552 0 1 0.448 1 1s-0.448 1-1 1z\"></path>\n",
       "<path d=\"M23 18h-14c-0.552 0-1-0.448-1-1s0.448-1 1-1h14c0.552 0 1 0.448 1 1s-0.448 1-1 1z\"></path>\n",
       "</symbol>\n",
       "</defs>\n",
       "</svg>\n",
       "<style>/* CSS stylesheet for displaying xarray objects in jupyterlab.\n",
       " *\n",
       " */\n",
       "\n",
       ":root {\n",
       "  --xr-font-color0: var(--jp-content-font-color0, rgba(0, 0, 0, 1));\n",
       "  --xr-font-color2: var(--jp-content-font-color2, rgba(0, 0, 0, 0.54));\n",
       "  --xr-font-color3: var(--jp-content-font-color3, rgba(0, 0, 0, 0.38));\n",
       "  --xr-border-color: var(--jp-border-color2, #e0e0e0);\n",
       "  --xr-disabled-color: var(--jp-layout-color3, #bdbdbd);\n",
       "  --xr-background-color: var(--jp-layout-color0, white);\n",
       "  --xr-background-color-row-even: var(--jp-layout-color1, white);\n",
       "  --xr-background-color-row-odd: var(--jp-layout-color2, #eeeeee);\n",
       "}\n",
       "\n",
       "html[theme=dark],\n",
       "body.vscode-dark {\n",
       "  --xr-font-color0: rgba(255, 255, 255, 1);\n",
       "  --xr-font-color2: rgba(255, 255, 255, 0.54);\n",
       "  --xr-font-color3: rgba(255, 255, 255, 0.38);\n",
       "  --xr-border-color: #1F1F1F;\n",
       "  --xr-disabled-color: #515151;\n",
       "  --xr-background-color: #111111;\n",
       "  --xr-background-color-row-even: #111111;\n",
       "  --xr-background-color-row-odd: #313131;\n",
       "}\n",
       "\n",
       ".xr-wrap {\n",
       "  display: block !important;\n",
       "  min-width: 300px;\n",
       "  max-width: 700px;\n",
       "}\n",
       "\n",
       ".xr-text-repr-fallback {\n",
       "  /* fallback to plain text repr when CSS is not injected (untrusted notebook) */\n",
       "  display: none;\n",
       "}\n",
       "\n",
       ".xr-header {\n",
       "  padding-top: 6px;\n",
       "  padding-bottom: 6px;\n",
       "  margin-bottom: 4px;\n",
       "  border-bottom: solid 1px var(--xr-border-color);\n",
       "}\n",
       "\n",
       ".xr-header > div,\n",
       ".xr-header > ul {\n",
       "  display: inline;\n",
       "  margin-top: 0;\n",
       "  margin-bottom: 0;\n",
       "}\n",
       "\n",
       ".xr-obj-type,\n",
       ".xr-array-name {\n",
       "  margin-left: 2px;\n",
       "  margin-right: 10px;\n",
       "}\n",
       "\n",
       ".xr-obj-type {\n",
       "  color: var(--xr-font-color2);\n",
       "}\n",
       "\n",
       ".xr-sections {\n",
       "  padding-left: 0 !important;\n",
       "  display: grid;\n",
       "  grid-template-columns: 150px auto auto 1fr 20px 20px;\n",
       "}\n",
       "\n",
       ".xr-section-item {\n",
       "  display: contents;\n",
       "}\n",
       "\n",
       ".xr-section-item input {\n",
       "  display: none;\n",
       "}\n",
       "\n",
       ".xr-section-item input + label {\n",
       "  color: var(--xr-disabled-color);\n",
       "}\n",
       "\n",
       ".xr-section-item input:enabled + label {\n",
       "  cursor: pointer;\n",
       "  color: var(--xr-font-color2);\n",
       "}\n",
       "\n",
       ".xr-section-item input:enabled + label:hover {\n",
       "  color: var(--xr-font-color0);\n",
       "}\n",
       "\n",
       ".xr-section-summary {\n",
       "  grid-column: 1;\n",
       "  color: var(--xr-font-color2);\n",
       "  font-weight: 500;\n",
       "}\n",
       "\n",
       ".xr-section-summary > span {\n",
       "  display: inline-block;\n",
       "  padding-left: 0.5em;\n",
       "}\n",
       "\n",
       ".xr-section-summary-in:disabled + label {\n",
       "  color: var(--xr-font-color2);\n",
       "}\n",
       "\n",
       ".xr-section-summary-in + label:before {\n",
       "  display: inline-block;\n",
       "  content: '►';\n",
       "  font-size: 11px;\n",
       "  width: 15px;\n",
       "  text-align: center;\n",
       "}\n",
       "\n",
       ".xr-section-summary-in:disabled + label:before {\n",
       "  color: var(--xr-disabled-color);\n",
       "}\n",
       "\n",
       ".xr-section-summary-in:checked + label:before {\n",
       "  content: '▼';\n",
       "}\n",
       "\n",
       ".xr-section-summary-in:checked + label > span {\n",
       "  display: none;\n",
       "}\n",
       "\n",
       ".xr-section-summary,\n",
       ".xr-section-inline-details {\n",
       "  padding-top: 4px;\n",
       "  padding-bottom: 4px;\n",
       "}\n",
       "\n",
       ".xr-section-inline-details {\n",
       "  grid-column: 2 / -1;\n",
       "}\n",
       "\n",
       ".xr-section-details {\n",
       "  display: none;\n",
       "  grid-column: 1 / -1;\n",
       "  margin-bottom: 5px;\n",
       "}\n",
       "\n",
       ".xr-section-summary-in:checked ~ .xr-section-details {\n",
       "  display: contents;\n",
       "}\n",
       "\n",
       ".xr-array-wrap {\n",
       "  grid-column: 1 / -1;\n",
       "  display: grid;\n",
       "  grid-template-columns: 20px auto;\n",
       "}\n",
       "\n",
       ".xr-array-wrap > label {\n",
       "  grid-column: 1;\n",
       "  vertical-align: top;\n",
       "}\n",
       "\n",
       ".xr-preview {\n",
       "  color: var(--xr-font-color3);\n",
       "}\n",
       "\n",
       ".xr-array-preview,\n",
       ".xr-array-data {\n",
       "  padding: 0 5px !important;\n",
       "  grid-column: 2;\n",
       "}\n",
       "\n",
       ".xr-array-data,\n",
       ".xr-array-in:checked ~ .xr-array-preview {\n",
       "  display: none;\n",
       "}\n",
       "\n",
       ".xr-array-in:checked ~ .xr-array-data,\n",
       ".xr-array-preview {\n",
       "  display: inline-block;\n",
       "}\n",
       "\n",
       ".xr-dim-list {\n",
       "  display: inline-block !important;\n",
       "  list-style: none;\n",
       "  padding: 0 !important;\n",
       "  margin: 0;\n",
       "}\n",
       "\n",
       ".xr-dim-list li {\n",
       "  display: inline-block;\n",
       "  padding: 0;\n",
       "  margin: 0;\n",
       "}\n",
       "\n",
       ".xr-dim-list:before {\n",
       "  content: '(';\n",
       "}\n",
       "\n",
       ".xr-dim-list:after {\n",
       "  content: ')';\n",
       "}\n",
       "\n",
       ".xr-dim-list li:not(:last-child):after {\n",
       "  content: ',';\n",
       "  padding-right: 5px;\n",
       "}\n",
       "\n",
       ".xr-has-index {\n",
       "  font-weight: bold;\n",
       "}\n",
       "\n",
       ".xr-var-list,\n",
       ".xr-var-item {\n",
       "  display: contents;\n",
       "}\n",
       "\n",
       ".xr-var-item > div,\n",
       ".xr-var-item label,\n",
       ".xr-var-item > .xr-var-name span {\n",
       "  background-color: var(--xr-background-color-row-even);\n",
       "  margin-bottom: 0;\n",
       "}\n",
       "\n",
       ".xr-var-item > .xr-var-name:hover span {\n",
       "  padding-right: 5px;\n",
       "}\n",
       "\n",
       ".xr-var-list > li:nth-child(odd) > div,\n",
       ".xr-var-list > li:nth-child(odd) > label,\n",
       ".xr-var-list > li:nth-child(odd) > .xr-var-name span {\n",
       "  background-color: var(--xr-background-color-row-odd);\n",
       "}\n",
       "\n",
       ".xr-var-name {\n",
       "  grid-column: 1;\n",
       "}\n",
       "\n",
       ".xr-var-dims {\n",
       "  grid-column: 2;\n",
       "}\n",
       "\n",
       ".xr-var-dtype {\n",
       "  grid-column: 3;\n",
       "  text-align: right;\n",
       "  color: var(--xr-font-color2);\n",
       "}\n",
       "\n",
       ".xr-var-preview {\n",
       "  grid-column: 4;\n",
       "}\n",
       "\n",
       ".xr-var-name,\n",
       ".xr-var-dims,\n",
       ".xr-var-dtype,\n",
       ".xr-preview,\n",
       ".xr-attrs dt {\n",
       "  white-space: nowrap;\n",
       "  overflow: hidden;\n",
       "  text-overflow: ellipsis;\n",
       "  padding-right: 10px;\n",
       "}\n",
       "\n",
       ".xr-var-name:hover,\n",
       ".xr-var-dims:hover,\n",
       ".xr-var-dtype:hover,\n",
       ".xr-attrs dt:hover {\n",
       "  overflow: visible;\n",
       "  width: auto;\n",
       "  z-index: 1;\n",
       "}\n",
       "\n",
       ".xr-var-attrs,\n",
       ".xr-var-data {\n",
       "  display: none;\n",
       "  background-color: var(--xr-background-color) !important;\n",
       "  padding-bottom: 5px !important;\n",
       "}\n",
       "\n",
       ".xr-var-attrs-in:checked ~ .xr-var-attrs,\n",
       ".xr-var-data-in:checked ~ .xr-var-data {\n",
       "  display: block;\n",
       "}\n",
       "\n",
       ".xr-var-data > table {\n",
       "  float: right;\n",
       "}\n",
       "\n",
       ".xr-var-name span,\n",
       ".xr-var-data,\n",
       ".xr-attrs {\n",
       "  padding-left: 25px !important;\n",
       "}\n",
       "\n",
       ".xr-attrs,\n",
       ".xr-var-attrs,\n",
       ".xr-var-data {\n",
       "  grid-column: 1 / -1;\n",
       "}\n",
       "\n",
       "dl.xr-attrs {\n",
       "  padding: 0;\n",
       "  margin: 0;\n",
       "  display: grid;\n",
       "  grid-template-columns: 125px auto;\n",
       "}\n",
       "\n",
       ".xr-attrs dt,\n",
       ".xr-attrs dd {\n",
       "  padding: 0;\n",
       "  margin: 0;\n",
       "  float: left;\n",
       "  padding-right: 10px;\n",
       "  width: auto;\n",
       "}\n",
       "\n",
       ".xr-attrs dt {\n",
       "  font-weight: normal;\n",
       "  grid-column: 1;\n",
       "}\n",
       "\n",
       ".xr-attrs dt:hover span {\n",
       "  display: inline-block;\n",
       "  background: var(--xr-background-color);\n",
       "  padding-right: 10px;\n",
       "}\n",
       "\n",
       ".xr-attrs dd {\n",
       "  grid-column: 2;\n",
       "  white-space: pre-wrap;\n",
       "  word-break: break-all;\n",
       "}\n",
       "\n",
       ".xr-icon-database,\n",
       ".xr-icon-file-text2 {\n",
       "  display: inline-block;\n",
       "  vertical-align: middle;\n",
       "  width: 1em;\n",
       "  height: 1.5em !important;\n",
       "  stroke-width: 0;\n",
       "  stroke: currentColor;\n",
       "  fill: currentColor;\n",
       "}\n",
       "</style><pre class='xr-text-repr-fallback'>&lt;xarray.Dataset&gt;\n",
       "Dimensions:       (time: 205777, station: 1)\n",
       "Coordinates:\n",
       "  * time          (time) datetime64[ns] 1998-07-29T01:25:00 ... 2022-08-31T23...\n",
       "  * station       (station) &lt;U10 &#x27;RAWS_BCHN5&#x27;\n",
       "    lat           (time) float64 ...\n",
       "    lon           (time) float64 ...\n",
       "Data variables:\n",
       "    tas           (station, time) float64 290.4 291.5 292.0 ... 300.9 300.4\n",
       "    pr            (station, time) float64 nan nan nan nan ... 129.8 129.8 129.8\n",
       "    hurs          (station, time) float64 85.0 84.0 87.0 73.0 ... 40.0 36.0 39.0\n",
       "    rsds          (station, time) float64 nan nan nan nan ... 682.0 631.0 414.0\n",
       "    sfcWind       (station, time) float64 7.15 2.68 1.34 ... 4.471 4.918 5.366\n",
       "    sfcWind_dir   (station, time) float64 350.0 310.0 90.0 ... 113.0 107.0 120.0\n",
       "    tas_qc        (station, time) object &#x27;nan&#x27; &#x27;nan&#x27; &#x27;nan&#x27; ... &#x27;nan&#x27; &#x27;nan&#x27; &#x27;nan&#x27;\n",
       "    hurs_qc       (station, time) object &#x27;nan&#x27; &#x27;nan&#x27; &#x27;nan&#x27; ... &#x27;nan&#x27; &#x27;nan&#x27; &#x27;nan&#x27;\n",
       "    sfcWind_qc    (station, time) object &#x27;nan&#x27; &#x27;nan&#x27; &#x27;nan&#x27; ... &#x27;nan&#x27; &#x27;nan&#x27; &#x27;nan&#x27;\n",
       "    pr_qc         (station, time) object &#x27;nan&#x27; &#x27;nan&#x27; &#x27;nan&#x27; ... &#x27;nan&#x27; &#x27;nan&#x27; &#x27;nan&#x27;\n",
       "    tdps_derived  (station, time) float64 287.8 288.7 289.8 ... 284.5 285.2\n",
       "    elevation     (station, time) float64 1.689e+03 1.689e+03 ... 1.689e+03\n",
       "Attributes: (12/13)\n",
       "    title:                  RAWS cleaned\n",
       "    institution:            Eagle Rock Analytics / Cal Adapt\n",
       "    source:                 \n",
       "    history:                MADIS_clean.py script run on 02-09-2023, 15:01:29...\n",
       "    comment:                Intermediate data product: may not have been subj...\n",
       "    license:                \n",
       "    ...                     ...\n",
       "    disclaimer:             This document was prepared as a result of work sp...\n",
       "    station_name:           CHUPADERA\n",
       "    raw_files_merged:       1\n",
       "    anemometer_height_m:    nan\n",
       "    thermometer_height_m:   nan\n",
       "    barometer_elevation_m:  nan</pre><div class='xr-wrap' style='display:none'><div class='xr-header'><div class='xr-obj-type'>xarray.Dataset</div></div><ul class='xr-sections'><li class='xr-section-item'><input id='section-bdf89a3f-998e-4104-a9ec-5b7f49c58434' class='xr-section-summary-in' type='checkbox' disabled ><label for='section-bdf89a3f-998e-4104-a9ec-5b7f49c58434' class='xr-section-summary'  title='Expand/collapse section'>Dimensions:</label><div class='xr-section-inline-details'><ul class='xr-dim-list'><li><span class='xr-has-index'>time</span>: 205777</li><li><span class='xr-has-index'>station</span>: 1</li></ul></div><div class='xr-section-details'></div></li><li class='xr-section-item'><input id='section-8f578c66-6ba8-4ebc-81eb-6474f7a3cea4' class='xr-section-summary-in' type='checkbox'  checked><label for='section-8f578c66-6ba8-4ebc-81eb-6474f7a3cea4' class='xr-section-summary' >Coordinates: <span>(4)</span></label><div class='xr-section-inline-details'></div><div class='xr-section-details'><ul class='xr-var-list'><li class='xr-var-item'><div class='xr-var-name'><span class='xr-has-index'>time</span></div><div class='xr-var-dims'>(time)</div><div class='xr-var-dtype'>datetime64[ns]</div><div class='xr-var-preview xr-preview'>1998-07-29T01:25:00 ... 2022-08-...</div><input id='attrs-0f153e24-7cb4-4db1-a3f4-c877a169e334' class='xr-var-attrs-in' type='checkbox' ><label for='attrs-0f153e24-7cb4-4db1-a3f4-c877a169e334' title='Show/Hide attributes'><svg class='icon xr-icon-file-text2'><use xlink:href='#icon-file-text2'></use></svg></label><input id='data-60931461-2f57-4672-bbf6-1a61493c46fa' class='xr-var-data-in' type='checkbox'><label for='data-60931461-2f57-4672-bbf6-1a61493c46fa' title='Show/Hide data repr'><svg class='icon xr-icon-database'><use xlink:href='#icon-database'></use></svg></label><div class='xr-var-attrs'><dl class='xr-attrs'><dt><span>long_name :</span></dt><dd>time</dd><dt><span>standard_name :</span></dt><dd>time</dd><dt><span>comment :</span></dt><dd>In UTC.</dd></dl></div><div class='xr-var-data'><pre>array([&#x27;1998-07-29T01:25:00.000000000&#x27;, &#x27;1998-07-29T02:25:00.000000000&#x27;,\n",
       "       &#x27;1998-07-29T03:25:00.000000000&#x27;, ..., &#x27;2022-08-31T21:39:00.000000000&#x27;,\n",
       "       &#x27;2022-08-31T22:39:00.000000000&#x27;, &#x27;2022-08-31T23:39:00.000000000&#x27;],\n",
       "      dtype=&#x27;datetime64[ns]&#x27;)</pre></div></li><li class='xr-var-item'><div class='xr-var-name'><span class='xr-has-index'>station</span></div><div class='xr-var-dims'>(station)</div><div class='xr-var-dtype'>&lt;U10</div><div class='xr-var-preview xr-preview'>&#x27;RAWS_BCHN5&#x27;</div><input id='attrs-5ab0fc53-7cc8-4171-93ef-39d54cacf6c4' class='xr-var-attrs-in' type='checkbox' disabled><label for='attrs-5ab0fc53-7cc8-4171-93ef-39d54cacf6c4' title='Show/Hide attributes'><svg class='icon xr-icon-file-text2'><use xlink:href='#icon-file-text2'></use></svg></label><input id='data-8846b715-8ca6-4fc5-b1ad-62733e951822' class='xr-var-data-in' type='checkbox'><label for='data-8846b715-8ca6-4fc5-b1ad-62733e951822' title='Show/Hide data repr'><svg class='icon xr-icon-database'><use xlink:href='#icon-database'></use></svg></label><div class='xr-var-attrs'><dl class='xr-attrs'></dl></div><div class='xr-var-data'><pre>array([&#x27;RAWS_BCHN5&#x27;], dtype=&#x27;&lt;U10&#x27;)</pre></div></li><li class='xr-var-item'><div class='xr-var-name'><span>lat</span></div><div class='xr-var-dims'>(time)</div><div class='xr-var-dtype'>float64</div><div class='xr-var-preview xr-preview'>...</div><input id='attrs-4cecbedf-61ed-4e4d-8c67-d6f4057b859a' class='xr-var-attrs-in' type='checkbox' ><label for='attrs-4cecbedf-61ed-4e4d-8c67-d6f4057b859a' title='Show/Hide attributes'><svg class='icon xr-icon-file-text2'><use xlink:href='#icon-file-text2'></use></svg></label><input id='data-38e82e8c-b721-44b2-9c45-5e2a57ce5623' class='xr-var-data-in' type='checkbox'><label for='data-38e82e8c-b721-44b2-9c45-5e2a57ce5623' title='Show/Hide data repr'><svg class='icon xr-icon-database'><use xlink:href='#icon-database'></use></svg></label><div class='xr-var-attrs'><dl class='xr-attrs'><dt><span>long_name :</span></dt><dd>latitude</dd><dt><span>standard_name :</span></dt><dd>latitude</dd><dt><span>units :</span></dt><dd>degrees_north</dd></dl></div><div class='xr-var-data'><pre>[205777 values with dtype=float64]</pre></div></li><li class='xr-var-item'><div class='xr-var-name'><span>lon</span></div><div class='xr-var-dims'>(time)</div><div class='xr-var-dtype'>float64</div><div class='xr-var-preview xr-preview'>...</div><input id='attrs-60a814dd-7bdf-49e1-8575-6e094c43eba0' class='xr-var-attrs-in' type='checkbox' ><label for='attrs-60a814dd-7bdf-49e1-8575-6e094c43eba0' title='Show/Hide attributes'><svg class='icon xr-icon-file-text2'><use xlink:href='#icon-file-text2'></use></svg></label><input id='data-b4e58bac-dbfa-4cd0-a098-8f1b0c0ff0d9' class='xr-var-data-in' type='checkbox'><label for='data-b4e58bac-dbfa-4cd0-a098-8f1b0c0ff0d9' title='Show/Hide data repr'><svg class='icon xr-icon-database'><use xlink:href='#icon-database'></use></svg></label><div class='xr-var-attrs'><dl class='xr-attrs'><dt><span>long_name :</span></dt><dd>longitude</dd><dt><span>standard_name :</span></dt><dd>longitude</dd><dt><span>units :</span></dt><dd>degrees_east</dd></dl></div><div class='xr-var-data'><pre>[205777 values with dtype=float64]</pre></div></li></ul></div></li><li class='xr-section-item'><input id='section-48a33976-504c-4352-adc4-00d0f6956f22' class='xr-section-summary-in' type='checkbox'  checked><label for='section-48a33976-504c-4352-adc4-00d0f6956f22' class='xr-section-summary' >Data variables: <span>(12)</span></label><div class='xr-section-inline-details'></div><div class='xr-section-details'><ul class='xr-var-list'><li class='xr-var-item'><div class='xr-var-name'><span>tas</span></div><div class='xr-var-dims'>(station, time)</div><div class='xr-var-dtype'>float64</div><div class='xr-var-preview xr-preview'>290.4 291.5 292.0 ... 300.9 300.4</div><input id='attrs-2b085c1e-2777-46bd-809d-3036fada0439' class='xr-var-attrs-in' type='checkbox' ><label for='attrs-2b085c1e-2777-46bd-809d-3036fada0439' title='Show/Hide attributes'><svg class='icon xr-icon-file-text2'><use xlink:href='#icon-file-text2'></use></svg></label><input id='data-d1e45b67-911a-42a6-89b9-d8cd98356186' class='xr-var-data-in' type='checkbox'><label for='data-d1e45b67-911a-42a6-89b9-d8cd98356186' title='Show/Hide data repr'><svg class='icon xr-icon-database'><use xlink:href='#icon-database'></use></svg></label><div class='xr-var-attrs'><dl class='xr-attrs'><dt><span>long_name :</span></dt><dd>air_temperature</dd><dt><span>standard_name :</span></dt><dd>air_temperature</dd><dt><span>units :</span></dt><dd>degree_Kelvin</dd><dt><span>ancillary_variables :</span></dt><dd>tas_qc</dd><dt><span>comment :</span></dt><dd>Converted from Celsius to Kelvin.</dd></dl></div><div class='xr-var-data'><pre>array([[290.37 , 291.48 , 292.04 , ..., 300.372, 300.928, 300.372]])</pre></div></li><li class='xr-var-item'><div class='xr-var-name'><span>pr</span></div><div class='xr-var-dims'>(station, time)</div><div class='xr-var-dtype'>float64</div><div class='xr-var-preview xr-preview'>nan nan nan ... 129.8 129.8 129.8</div><input id='attrs-76e61b67-8363-4f63-b605-bdd31b264150' class='xr-var-attrs-in' type='checkbox' ><label for='attrs-76e61b67-8363-4f63-b605-bdd31b264150' title='Show/Hide attributes'><svg class='icon xr-icon-file-text2'><use xlink:href='#icon-file-text2'></use></svg></label><input id='data-c636af00-2f2f-4bff-a759-326092d43f72' class='xr-var-data-in' type='checkbox'><label for='data-c636af00-2f2f-4bff-a759-326092d43f72' title='Show/Hide data repr'><svg class='icon xr-icon-database'><use xlink:href='#icon-database'></use></svg></label><div class='xr-var-attrs'><dl class='xr-attrs'><dt><span>long_name :</span></dt><dd>precipitation_amount</dd><dt><span>units :</span></dt><dd>mm/interval</dd><dt><span>comment :</span></dt><dd>Precipitation accumulated since previous measurement.</dd><dt><span>ancillary_variables :</span></dt><dd></dd></dl></div><div class='xr-var-data'><pre>array([[    nan,     nan,     nan, ..., 129.794, 129.794, 129.794]])</pre></div></li><li class='xr-var-item'><div class='xr-var-name'><span>hurs</span></div><div class='xr-var-dims'>(station, time)</div><div class='xr-var-dtype'>float64</div><div class='xr-var-preview xr-preview'>85.0 84.0 87.0 ... 40.0 36.0 39.0</div><input id='attrs-5f02ccfe-3f39-468e-bf48-1575261a7d83' class='xr-var-attrs-in' type='checkbox' ><label for='attrs-5f02ccfe-3f39-468e-bf48-1575261a7d83' title='Show/Hide attributes'><svg class='icon xr-icon-file-text2'><use xlink:href='#icon-file-text2'></use></svg></label><input id='data-846ec410-90a6-425a-b8a2-94147b4473cc' class='xr-var-data-in' type='checkbox'><label for='data-846ec410-90a6-425a-b8a2-94147b4473cc' title='Show/Hide data repr'><svg class='icon xr-icon-database'><use xlink:href='#icon-database'></use></svg></label><div class='xr-var-attrs'><dl class='xr-attrs'><dt><span>long_name :</span></dt><dd>relative_humidity</dd><dt><span>standard_name :</span></dt><dd>relative_humidity</dd><dt><span>units :</span></dt><dd>percent</dd><dt><span>ancillary_variables :</span></dt><dd>hurs_qc</dd></dl></div><div class='xr-var-data'><pre>array([[85., 84., 87., ..., 40., 36., 39.]])</pre></div></li><li class='xr-var-item'><div class='xr-var-name'><span>rsds</span></div><div class='xr-var-dims'>(station, time)</div><div class='xr-var-dtype'>float64</div><div class='xr-var-preview xr-preview'>nan nan nan ... 682.0 631.0 414.0</div><input id='attrs-c1f1bfe5-8888-4bea-b4d6-e0d2fe9f0f83' class='xr-var-attrs-in' type='checkbox' ><label for='attrs-c1f1bfe5-8888-4bea-b4d6-e0d2fe9f0f83' title='Show/Hide attributes'><svg class='icon xr-icon-file-text2'><use xlink:href='#icon-file-text2'></use></svg></label><input id='data-57f56302-6c55-4efb-a635-24e4fcb9ddaf' class='xr-var-data-in' type='checkbox'><label for='data-57f56302-6c55-4efb-a635-24e4fcb9ddaf' title='Show/Hide data repr'><svg class='icon xr-icon-database'><use xlink:href='#icon-database'></use></svg></label><div class='xr-var-attrs'><dl class='xr-attrs'><dt><span>long_name :</span></dt><dd>solar_radiation</dd><dt><span>standard_name :</span></dt><dd>surface_downwelling_shortwave_flux_in_air</dd><dt><span>units :</span></dt><dd>W m-2</dd></dl></div><div class='xr-var-data'><pre>array([[ nan,  nan,  nan, ..., 682., 631., 414.]])</pre></div></li><li class='xr-var-item'><div class='xr-var-name'><span>sfcWind</span></div><div class='xr-var-dims'>(station, time)</div><div class='xr-var-dtype'>float64</div><div class='xr-var-preview xr-preview'>7.15 2.68 1.34 ... 4.918 5.366</div><input id='attrs-a8844e5b-40a9-4e3a-8f98-0bb79d4f879f' class='xr-var-attrs-in' type='checkbox' ><label for='attrs-a8844e5b-40a9-4e3a-8f98-0bb79d4f879f' title='Show/Hide attributes'><svg class='icon xr-icon-file-text2'><use xlink:href='#icon-file-text2'></use></svg></label><input id='data-028fd11d-153e-4cb1-bcae-00cfd839148a' class='xr-var-data-in' type='checkbox'><label for='data-028fd11d-153e-4cb1-bcae-00cfd839148a' title='Show/Hide data repr'><svg class='icon xr-icon-database'><use xlink:href='#icon-database'></use></svg></label><div class='xr-var-attrs'><dl class='xr-attrs'><dt><span>long_name :</span></dt><dd>wind_speed</dd><dt><span>standard_name :</span></dt><dd>wind_speed</dd><dt><span>units :</span></dt><dd>m s-1</dd><dt><span>ancillary_variables :</span></dt><dd>sfcWind_qc</dd></dl></div><div class='xr-var-data'><pre>array([[7.15 , 2.68 , 1.34 , ..., 4.471, 4.918, 5.366]])</pre></div></li><li class='xr-var-item'><div class='xr-var-name'><span>sfcWind_dir</span></div><div class='xr-var-dims'>(station, time)</div><div class='xr-var-dtype'>float64</div><div class='xr-var-preview xr-preview'>350.0 310.0 90.0 ... 107.0 120.0</div><input id='attrs-25b586ff-15f1-455e-83f8-3dbb21a9b314' class='xr-var-attrs-in' type='checkbox' ><label for='attrs-25b586ff-15f1-455e-83f8-3dbb21a9b314' title='Show/Hide attributes'><svg class='icon xr-icon-file-text2'><use xlink:href='#icon-file-text2'></use></svg></label><input id='data-2670aed3-95a9-4c12-811e-faf6a24d4859' class='xr-var-data-in' type='checkbox'><label for='data-2670aed3-95a9-4c12-811e-faf6a24d4859' title='Show/Hide data repr'><svg class='icon xr-icon-database'><use xlink:href='#icon-database'></use></svg></label><div class='xr-var-attrs'><dl class='xr-attrs'><dt><span>long_name :</span></dt><dd>wind_direction</dd><dt><span>standard_name :</span></dt><dd>wind_from_direction</dd><dt><span>units :</span></dt><dd>degrees_clockwise_from_north</dd><dt><span>comment :</span></dt><dd>Wind direction is defined by the direction that the wind is coming from (i.e., a northerly wind originates in the north and blows towards the south).</dd></dl></div><div class='xr-var-data'><pre>array([[350., 310.,  90., ..., 113., 107., 120.]])</pre></div></li><li class='xr-var-item'><div class='xr-var-name'><span>tas_qc</span></div><div class='xr-var-dims'>(station, time)</div><div class='xr-var-dtype'>object</div><div class='xr-var-preview xr-preview'>&#x27;nan&#x27; &#x27;nan&#x27; &#x27;nan&#x27; ... &#x27;nan&#x27; &#x27;nan&#x27;</div><input id='attrs-b85dad2b-6fda-4a04-9168-622485f3bff6' class='xr-var-attrs-in' type='checkbox' ><label for='attrs-b85dad2b-6fda-4a04-9168-622485f3bff6' title='Show/Hide attributes'><svg class='icon xr-icon-file-text2'><use xlink:href='#icon-file-text2'></use></svg></label><input id='data-d75870f7-f727-48c0-8d29-b899074e78e9' class='xr-var-data-in' type='checkbox'><label for='data-d75870f7-f727-48c0-8d29-b899074e78e9' title='Show/Hide data repr'><svg class='icon xr-icon-database'><use xlink:href='#icon-database'></use></svg></label><div class='xr-var-attrs'><dl class='xr-attrs'><dt><span>flag_values :</span></dt><dd>[&#x27;78&#x27;, &#x27;81&#x27;]</dd><dt><span>flag_meanings :</span></dt><dd>See QA/QC csv for network.</dd></dl></div><div class='xr-var-data'><pre>array([[&#x27;nan&#x27;, &#x27;nan&#x27;, &#x27;nan&#x27;, ..., &#x27;nan&#x27;, &#x27;nan&#x27;, &#x27;nan&#x27;]], dtype=object)</pre></div></li><li class='xr-var-item'><div class='xr-var-name'><span>hurs_qc</span></div><div class='xr-var-dims'>(station, time)</div><div class='xr-var-dtype'>object</div><div class='xr-var-preview xr-preview'>&#x27;nan&#x27; &#x27;nan&#x27; &#x27;nan&#x27; ... &#x27;nan&#x27; &#x27;nan&#x27;</div><input id='attrs-50f914c8-3872-406b-a380-521e8d9ff3a0' class='xr-var-attrs-in' type='checkbox' ><label for='attrs-50f914c8-3872-406b-a380-521e8d9ff3a0' title='Show/Hide attributes'><svg class='icon xr-icon-file-text2'><use xlink:href='#icon-file-text2'></use></svg></label><input id='data-90803b4f-51c3-464b-a793-54914a81fda5' class='xr-var-data-in' type='checkbox'><label for='data-90803b4f-51c3-464b-a793-54914a81fda5' title='Show/Hide data repr'><svg class='icon xr-icon-database'><use xlink:href='#icon-database'></use></svg></label><div class='xr-var-attrs'><dl class='xr-attrs'><dt><span>flag_values :</span></dt><dd>[&#x27;&#x27;, &#x27;78&#x27;]</dd><dt><span>flag_meanings :</span></dt><dd>See QA/QC csv for network.</dd></dl></div><div class='xr-var-data'><pre>array([[&#x27;nan&#x27;, &#x27;nan&#x27;, &#x27;nan&#x27;, ..., &#x27;nan&#x27;, &#x27;nan&#x27;, &#x27;nan&#x27;]], dtype=object)</pre></div></li><li class='xr-var-item'><div class='xr-var-name'><span>sfcWind_qc</span></div><div class='xr-var-dims'>(station, time)</div><div class='xr-var-dtype'>object</div><div class='xr-var-preview xr-preview'>&#x27;nan&#x27; &#x27;nan&#x27; &#x27;nan&#x27; ... &#x27;nan&#x27; &#x27;nan&#x27;</div><input id='attrs-9fd25579-0dd1-424d-967a-ad90cc0fb3ce' class='xr-var-attrs-in' type='checkbox' ><label for='attrs-9fd25579-0dd1-424d-967a-ad90cc0fb3ce' title='Show/Hide attributes'><svg class='icon xr-icon-file-text2'><use xlink:href='#icon-file-text2'></use></svg></label><input id='data-dc7ce889-db2a-486f-b9b2-9c1f0d168560' class='xr-var-data-in' type='checkbox'><label for='data-dc7ce889-db2a-486f-b9b2-9c1f0d168560' title='Show/Hide data repr'><svg class='icon xr-icon-database'><use xlink:href='#icon-database'></use></svg></label><div class='xr-var-attrs'><dl class='xr-attrs'><dt><span>flag_values :</span></dt><dd>[&#x27;&#x27;, &#x27;3&#x27;]</dd><dt><span>flag_meanings :</span></dt><dd>See QA/QC csv for network.</dd></dl></div><div class='xr-var-data'><pre>array([[&#x27;nan&#x27;, &#x27;nan&#x27;, &#x27;nan&#x27;, ..., &#x27;nan&#x27;, &#x27;nan&#x27;, &#x27;nan&#x27;]], dtype=object)</pre></div></li><li class='xr-var-item'><div class='xr-var-name'><span>pr_qc</span></div><div class='xr-var-dims'>(station, time)</div><div class='xr-var-dtype'>object</div><div class='xr-var-preview xr-preview'>&#x27;nan&#x27; &#x27;nan&#x27; &#x27;nan&#x27; ... &#x27;nan&#x27; &#x27;nan&#x27;</div><input id='attrs-2028d2c6-50a3-4050-ac42-af5dcc6cd947' class='xr-var-attrs-in' type='checkbox' ><label for='attrs-2028d2c6-50a3-4050-ac42-af5dcc6cd947' title='Show/Hide attributes'><svg class='icon xr-icon-file-text2'><use xlink:href='#icon-file-text2'></use></svg></label><input id='data-0cf06c45-bab4-4784-87ea-0955bc340afb' class='xr-var-data-in' type='checkbox'><label for='data-0cf06c45-bab4-4784-87ea-0955bc340afb' title='Show/Hide data repr'><svg class='icon xr-icon-database'><use xlink:href='#icon-database'></use></svg></label><div class='xr-var-attrs'><dl class='xr-attrs'><dt><span>flag_values :</span></dt><dd>1</dd><dt><span>flag_meanings :</span></dt><dd>See QA/QC csv for network.</dd><dt><span>ancillary_variables :</span></dt><dd>pr</dd></dl></div><div class='xr-var-data'><pre>array([[&#x27;nan&#x27;, &#x27;nan&#x27;, &#x27;nan&#x27;, ..., &#x27;nan&#x27;, &#x27;nan&#x27;, &#x27;nan&#x27;]], dtype=object)</pre></div></li><li class='xr-var-item'><div class='xr-var-name'><span>tdps_derived</span></div><div class='xr-var-dims'>(station, time)</div><div class='xr-var-dtype'>float64</div><div class='xr-var-preview xr-preview'>287.8 288.7 289.8 ... 284.5 285.2</div><input id='attrs-6255624a-7687-4147-9b73-e47cb6d454d5' class='xr-var-attrs-in' type='checkbox' ><label for='attrs-6255624a-7687-4147-9b73-e47cb6d454d5' title='Show/Hide attributes'><svg class='icon xr-icon-file-text2'><use xlink:href='#icon-file-text2'></use></svg></label><input id='data-06d6a42d-e0c4-4857-95cc-619d9cbfb9e8' class='xr-var-data-in' type='checkbox'><label for='data-06d6a42d-e0c4-4857-95cc-619d9cbfb9e8' title='Show/Hide data repr'><svg class='icon xr-icon-database'><use xlink:href='#icon-database'></use></svg></label><div class='xr-var-attrs'><dl class='xr-attrs'><dt><span>long_name :</span></dt><dd>derived_dew_point_temperature</dd><dt><span>units :</span></dt><dd>degree_Kelvin</dd><dt><span>comment :</span></dt><dd>Derived by Synoptic. Converted from Celsius to Kelvin.</dd></dl></div><div class='xr-var-data'><pre>array([[287.81, 288.71, 289.81, ..., 285.6 , 284.5 , 285.22]])</pre></div></li><li class='xr-var-item'><div class='xr-var-name'><span>elevation</span></div><div class='xr-var-dims'>(station, time)</div><div class='xr-var-dtype'>float64</div><div class='xr-var-preview xr-preview'>1.689e+03 1.689e+03 ... 1.689e+03</div><input id='attrs-c048fbb6-1bd8-4d26-aa64-1a061d97e7e4' class='xr-var-attrs-in' type='checkbox' ><label for='attrs-c048fbb6-1bd8-4d26-aa64-1a061d97e7e4' title='Show/Hide attributes'><svg class='icon xr-icon-file-text2'><use xlink:href='#icon-file-text2'></use></svg></label><input id='data-74aa12a4-1bf5-40ff-b512-ab5a22a54c2f' class='xr-var-data-in' type='checkbox'><label for='data-74aa12a4-1bf5-40ff-b512-ab5a22a54c2f' title='Show/Hide data repr'><svg class='icon xr-icon-database'><use xlink:href='#icon-database'></use></svg></label><div class='xr-var-attrs'><dl class='xr-attrs'><dt><span>standard_name :</span></dt><dd>height_above_mean_sea_level</dd><dt><span>long_name :</span></dt><dd>station_elevation</dd><dt><span>units :</span></dt><dd>meters</dd><dt><span>positive :</span></dt><dd>up</dd><dt><span>comment :</span></dt><dd>Converted from feet to meters.</dd></dl></div><div class='xr-var-data'><pre>array([[1688.8968, 1688.8968, 1688.8968, ..., 1688.8968, 1688.8968,\n",
       "        1688.8968]])</pre></div></li></ul></div></li><li class='xr-section-item'><input id='section-bd74fa1c-3627-4c5c-bddf-3a3a3b58d2e7' class='xr-section-summary-in' type='checkbox'  ><label for='section-bd74fa1c-3627-4c5c-bddf-3a3a3b58d2e7' class='xr-section-summary' >Attributes: <span>(13)</span></label><div class='xr-section-inline-details'></div><div class='xr-section-details'><dl class='xr-attrs'><dt><span>title :</span></dt><dd>RAWS cleaned</dd><dt><span>institution :</span></dt><dd>Eagle Rock Analytics / Cal Adapt</dd><dt><span>source :</span></dt><dd></dd><dt><span>history :</span></dt><dd>MADIS_clean.py script run on 02-09-2023, 15:01:29 UTC</dd><dt><span>comment :</span></dt><dd>Intermediate data product: may not have been subject to any cleaning or QA/QC processing</dd><dt><span>license :</span></dt><dd></dd><dt><span>citation :</span></dt><dd></dd><dt><span>disclaimer :</span></dt><dd>This document was prepared as a result of work sponsored by the California Energy Commission (PIR-19-006). It does not necessarily represent the views of the Energy Commission, its employees, or the State of California. Neither the Commission, the State of California, nor the Commission&#x27;s employees, contractors, or subcontractors makes any warranty, express or implied, or assumes any legal liability for the information in this document; nor does any party represent that the use of this information will not infringe upon privately owned rights. This document has not been approved or disapproved by the Commission, nor has the Commission passed upon the accuracy of the information in this document.</dd><dt><span>station_name :</span></dt><dd>CHUPADERA</dd><dt><span>raw_files_merged :</span></dt><dd>1</dd><dt><span>anemometer_height_m :</span></dt><dd>nan</dd><dt><span>thermometer_height_m :</span></dt><dd>nan</dd><dt><span>barometer_elevation_m :</span></dt><dd>nan</dd></dl></div></li></ul></div></div>"
      ],
      "text/plain": [
       "<xarray.Dataset>\n",
       "Dimensions:       (time: 205777, station: 1)\n",
       "Coordinates:\n",
       "  * time          (time) datetime64[ns] 1998-07-29T01:25:00 ... 2022-08-31T23...\n",
       "  * station       (station) <U10 'RAWS_BCHN5'\n",
       "    lat           (time) float64 ...\n",
       "    lon           (time) float64 ...\n",
       "Data variables:\n",
       "    tas           (station, time) float64 290.4 291.5 292.0 ... 300.9 300.4\n",
       "    pr            (station, time) float64 nan nan nan nan ... 129.8 129.8 129.8\n",
       "    hurs          (station, time) float64 85.0 84.0 87.0 73.0 ... 40.0 36.0 39.0\n",
       "    rsds          (station, time) float64 nan nan nan nan ... 682.0 631.0 414.0\n",
       "    sfcWind       (station, time) float64 7.15 2.68 1.34 ... 4.471 4.918 5.366\n",
       "    sfcWind_dir   (station, time) float64 350.0 310.0 90.0 ... 113.0 107.0 120.0\n",
       "    tas_qc        (station, time) object 'nan' 'nan' 'nan' ... 'nan' 'nan' 'nan'\n",
       "    hurs_qc       (station, time) object 'nan' 'nan' 'nan' ... 'nan' 'nan' 'nan'\n",
       "    sfcWind_qc    (station, time) object 'nan' 'nan' 'nan' ... 'nan' 'nan' 'nan'\n",
       "    pr_qc         (station, time) object 'nan' 'nan' 'nan' ... 'nan' 'nan' 'nan'\n",
       "    tdps_derived  (station, time) float64 287.8 288.7 289.8 ... 284.5 285.2\n",
       "    elevation     (station, time) float64 1.689e+03 1.689e+03 ... 1.689e+03\n",
       "Attributes: (12/13)\n",
       "    title:                  RAWS cleaned\n",
       "    institution:            Eagle Rock Analytics / Cal Adapt\n",
       "    source:                 \n",
       "    history:                MADIS_clean.py script run on 02-09-2023, 15:01:29...\n",
       "    comment:                Intermediate data product: may not have been subj...\n",
       "    license:                \n",
       "    ...                     ...\n",
       "    disclaimer:             This document was prepared as a result of work sp...\n",
       "    station_name:           CHUPADERA\n",
       "    raw_files_merged:       1\n",
       "    anemometer_height_m:    nan\n",
       "    thermometer_height_m:   nan\n",
       "    barometer_elevation_m:  nan"
      ]
     },
     "execution_count": 28,
     "metadata": {},
     "output_type": "execute_result"
    }
   ],
   "source": [
    "ds2.assign_coords({\"station\":\"RAWS_BCHN5\"}).expand_dims({\"station\":1})\n",
    "# ds2.assign_coords({\"station\":\"RAWS_BCHN5\"})"
   ]
  },
  {
   "cell_type": "code",
   "execution_count": 20,
   "id": "3132b570-af00-4b51-b2c9-42ce5bc78754",
   "metadata": {
    "execution": {
     "iopub.execute_input": "2023-10-10T16:55:05.071312Z",
     "iopub.status.busy": "2023-10-10T16:55:05.070416Z",
     "iopub.status.idle": "2023-10-10T16:55:05.139914Z",
     "shell.execute_reply": "2023-10-10T16:55:05.139532Z",
     "shell.execute_reply.started": "2023-10-10T16:55:05.071264Z"
    }
   },
   "outputs": [],
   "source": [
    "# ds2.assign_coords(coords={\"station\":\"RAWS_BCHN5\"}).expand_dims(dim={\"station\":\"RAWS_BCHN5\"})"
   ]
  },
  {
   "cell_type": "code",
   "execution_count": null,
   "id": "93ba50fa-dcf4-481a-a287-ad8f920afe4c",
   "metadata": {},
   "outputs": [],
   "source": []
  },
  {
   "cell_type": "code",
   "execution_count": null,
   "id": "d25cb20b-f9f5-4768-bcf5-5c794cf10ef5",
   "metadata": {},
   "outputs": [],
   "source": []
  },
  {
   "cell_type": "code",
   "execution_count": null,
   "id": "a9b8fecb-e09c-42d8-9558-9232a0ad457c",
   "metadata": {},
   "outputs": [],
   "source": []
  },
  {
   "cell_type": "code",
   "execution_count": null,
   "id": "d4183b51-8cb5-4202-ad02-8f4d745f9b16",
   "metadata": {},
   "outputs": [],
   "source": []
  },
  {
   "cell_type": "code",
   "execution_count": null,
   "id": "180e6f62-2896-4a5f-9bb1-f91765085540",
   "metadata": {},
   "outputs": [],
   "source": []
  },
  {
   "cell_type": "code",
   "execution_count": null,
   "id": "b672f7c2-4808-4b5f-a821-e307dedcefa3",
   "metadata": {},
   "outputs": [],
   "source": []
  },
  {
   "cell_type": "code",
   "execution_count": null,
   "id": "8b7dc867-5cd9-4635-8e68-3e035103a116",
   "metadata": {},
   "outputs": [],
   "source": []
  },
  {
   "cell_type": "code",
   "execution_count": null,
   "id": "4892236c-73b6-45b7-80a3-1e9d1933c624",
   "metadata": {},
   "outputs": [],
   "source": []
  },
  {
   "cell_type": "code",
   "execution_count": null,
   "id": "9937b7fd-61af-49f7-973e-4487e9b63071",
   "metadata": {},
   "outputs": [],
   "source": []
  },
  {
   "cell_type": "code",
   "execution_count": null,
   "id": "232790a4-ab7e-421c-badd-90ee74503ed9",
   "metadata": {},
   "outputs": [],
   "source": []
  },
  {
   "cell_type": "code",
   "execution_count": null,
   "id": "4214afc7-af4e-493a-bfb6-49dde56d5ed2",
   "metadata": {},
   "outputs": [],
   "source": []
  }
 ],
 "metadata": {
  "kernelspec": {
   "display_name": "era_py39",
   "language": "python",
   "name": "era_py39"
  },
  "language_info": {
   "codemirror_mode": {
    "name": "ipython",
    "version": 3
   },
   "file_extension": ".py",
   "mimetype": "text/x-python",
   "name": "python",
   "nbconvert_exporter": "python",
   "pygments_lexer": "ipython3",
   "version": "3.9.16"
  },
  "varInspector": {
   "cols": {
    "lenName": 16,
    "lenType": 16,
    "lenVar": 40
   },
   "kernels_config": {
    "python": {
     "delete_cmd_postfix": "",
     "delete_cmd_prefix": "del ",
     "library": "var_list.py",
     "varRefreshCmd": "print(var_dic_list())"
    },
    "r": {
     "delete_cmd_postfix": ") ",
     "delete_cmd_prefix": "rm(",
     "library": "var_list.r",
     "varRefreshCmd": "cat(var_dic_list()) "
    }
   },
   "types_to_exclude": [
    "module",
    "function",
    "builtin_function_or_method",
    "instance",
    "_Feature"
   ],
   "window_display": false
  }
 },
 "nbformat": 4,
 "nbformat_minor": 5
}
