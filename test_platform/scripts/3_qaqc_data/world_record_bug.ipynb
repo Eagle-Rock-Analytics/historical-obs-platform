{
 "cells": [
  {
   "cell_type": "code",
   "execution_count": null,
   "metadata": {},
   "outputs": [],
   "source": [
    "\"\"\"\n",
    "This script performs qa/qc protocols for cleaned station data for ingestion into the Historical Observations Platform, and is\n",
    "independent of network.\n",
    "Approach:\n",
    "(1) Remove duplicate stations\n",
    "(2) Handle variables that report at different intervals and/or change frequency over time (convert to hourly?)\n",
    "(3) QA/QC testing, including consistency checks, gaps, checks against climatological distributions, and cross variable checks.\n",
    "(4) Case study analysis for accuracy -- SHOULD THIS BE A SEPARATE SCRIPT/PROCESS?\n",
    "\n",
    "Inputs: Cleaned data for an individual network\n",
    "Outputs: QA/QC-processed data for an individual network, priority variables, all times. Organized by station as .nc file.\n",
    "\"\"\"\n",
    "\n",
    "# Step 0: Environment set-up\n",
    "# Import libraries\n",
    "import os\n",
    "import datetime\n",
    "import pandas as pd\n",
    "import xarray as xr\n",
    "import boto3\n",
    "import s3fs\n",
    "from io import StringIO\n",
    "import time\n",
    "import tempfile\n",
    "from mpi4py import MPI\n",
    "import logging\n",
    "from simplempi import simpleMPI\n",
    "\n",
    "# Import all qaqc script functions\n",
    "try:\n",
    "    from qaqc_plot import *\n",
    "    from qaqc_utils import *\n",
    "    from qaqc_wholestation import *\n",
    "    from qaqc_logic_checks import *\n",
    "    from qaqc_buoy_check import *\n",
    "    from qaqc_frequent import *\n",
    "    from qaqc_unusual_gaps import *\n",
    "    from qaqc_unusual_large_jumps import *\n",
    "    from qaqc_climatological_outlier import *\n",
    "    from qaqc_unusual_streaks import *\n",
    "    from qaqc_deaccumulate import *\n",
    "except Exception as e:\n",
    "    print(\"Error importing qaqc script: {}\".format(e))\n",
    "\n",
    "from log_config import setup_logger\n",
    "\n",
    "# ----------------------------------------------------------------------------\n",
    "## Set AWS credentials\n",
    "s3 = boto3.resource(\"s3\")\n",
    "s3_cl = boto3.client(\"s3\")  # for lower-level processes\n",
    "\n",
    "## Set relative paths to other folders and objects in repository.\n",
    "bucket_name = \"wecc-historical-wx\""
   ]
  },
  {
   "cell_type": "code",
   "execution_count": null,
   "metadata": {},
   "outputs": [],
   "source": [
    "# Load test dataframe\n"
   ]
  }
 ],
 "metadata": {
  "kernelspec": {
   "display_name": "hist-obs",
   "language": "python",
   "name": "python3"
  },
  "language_info": {
   "codemirror_mode": {
    "name": "ipython",
    "version": 3
   },
   "file_extension": ".py",
   "mimetype": "text/x-python",
   "name": "python",
   "nbconvert_exporter": "python",
   "pygments_lexer": "ipython3",
   "version": "3.10.13"
  }
 },
 "nbformat": 4,
 "nbformat_minor": 2
}
