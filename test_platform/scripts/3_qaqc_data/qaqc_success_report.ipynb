{
 "cells": [
  {
   "cell_type": "markdown",
   "id": "3c073d99",
   "metadata": {},
   "source": [
    "# Success Report Statistics"
   ]
  },
  {
   "cell_type": "markdown",
   "id": "6a10b04b",
   "metadata": {},
   "source": [
    "per station \n",
    "- total % flagged\n",
    "- % flagged per variable\n",
    "- % flagged per QAQC flag\n",
    "\n",
    "NEED: per station raw counts tables\n",
    "\n",
    "per network\n",
    "- % flagged per variable (highest and lowest)\n",
    "- % flagged per QAQC flag (highest and lowest)\n",
    "- % flagged per station (highest and lowest)\n",
    "\n",
    "NEED: raw counts per variable, raw counts per QAQC flag, raw counts per station\n",
    "HOW: sum total and flagged per station, variable, and QAQC flag\n",
    "\n",
    "total\n",
    "- % flagged total\n",
    "- % flagged per network\n",
    "- % flagged per variable (highest and lowest)\n",
    "- % flagged per QAQC flag (highest and lowest)\n",
    "\n",
    "NEED: raw counts per variable, raw counts per QAQC flag, raw counts per station\n",
    "HOW: sum total and flagged per network, variable, and QAQC flag\n"
   ]
  },
  {
   "cell_type": "markdown",
   "id": "ce425205",
   "metadata": {},
   "source": [
    "## Environment set-up"
   ]
  },
  {
   "cell_type": "code",
   "execution_count": 1,
   "id": "e1e2b8f4",
   "metadata": {},
   "outputs": [],
   "source": [
    "import boto3\n",
    "import numpy as np\n",
    "import pandas as pd\n",
    "import xarray as xr\n",
    "import matplotlib.pyplot as plt\n",
    "from io import BytesIO, StringIO\n",
    "from functools import reduce\n",
    "\n",
    "import inspect\n",
    "\n",
    "import logging\n",
    "# Create a simple logger that just prints to the console\n",
    "logging.basicConfig(level=logging.INFO)\n",
    "logger = logging.getLogger()\n",
    "\n",
    "plt.rcParams[\"figure.dpi\"] = 300"
   ]
  },
  {
   "cell_type": "code",
   "execution_count": 2,
   "id": "7320ab8b",
   "metadata": {},
   "outputs": [
    {
     "name": "stderr",
     "output_type": "stream",
     "text": [
      "INFO:botocore.credentials:Found credentials in shared credentials file: ~/.aws/credentials\n"
     ]
    }
   ],
   "source": [
    "# Set AWS credentials\n",
    "s3 = boto3.resource(\"s3\")\n",
    "s3_cl = boto3.client(\"s3\")  # for lower-level processes\n",
    "\n",
    "# Set relative paths to other folders and objects in repository.\n",
    "bucket_name = \"wecc-historical-wx\"\n",
    "stations_csv_path = f\"s3://{bucket_name}/2_clean_wx/temp_clean_all_station_list.csv\"\n",
    "qaqc_dir = \"3_qaqc_wx\"\n",
    "merge_dir = \"4_merge_wx\""
   ]
  },
  {
   "cell_type": "markdown",
   "id": "a7594f1f",
   "metadata": {},
   "source": [
    "## Setup"
   ]
  },
  {
   "cell_type": "code",
   "execution_count": 4,
   "id": "98e97663",
   "metadata": {},
   "outputs": [
    {
     "name": "stderr",
     "output_type": "stream",
     "text": [
      "INFO:aiobotocore.credentials:Found credentials in shared credentials file: ~/.aws/credentials\n"
     ]
    }
   ],
   "source": [
    "stations_df = pd.read_csv(stations_csv_path)"
   ]
  },
  {
   "cell_type": "code",
   "execution_count": 9,
   "id": "e320346a",
   "metadata": {},
   "outputs": [],
   "source": [
    "network = \"ASOSAWOS\"\n",
    "station1 = \"ASOSAWOS_72493023230\"\n",
    "station2 = \"ASOSAWOS_69007093217\""
   ]
  },
  {
   "cell_type": "code",
   "execution_count": 10,
   "id": "b6023fab",
   "metadata": {},
   "outputs": [],
   "source": [
    "key1_native = f\"4_merge_wx/{network}/eraqc_counts/{station1}_flag_counts_native_timestep.csv\"\n",
    "key1_hourly = (\n",
    "    f\"4_merge_wx/{network}/eraqc_counts/{station1}_flag_counts_hourly_standardized.csv\"\n",
    ")\n",
    "\n",
    "key2_native = (\n",
    "    f\"4_merge_wx/{network}/eraqc_counts/{station2}_flag_counts_native_timestep.csv\"\n",
    ")\n",
    "key2_hourly = (\n",
    "    f\"4_merge_wx/{network}/eraqc_counts/{station2}_flag_counts_hourly_standardized.csv\"\n",
    ")"
   ]
  },
  {
   "cell_type": "code",
   "execution_count": 11,
   "id": "0403aae7",
   "metadata": {},
   "outputs": [],
   "source": [
    "flag_counts1_hourly = pd.read_csv(f\"s3://wecc-historical-wx/{key1_hourly}\")\n",
    "flag_counts1_native = pd.read_csv(f\"s3://wecc-historical-wx/{key1_native}\")\n",
    "\n",
    "flag_counts2_hourly = pd.read_csv(f\"s3://wecc-historical-wx/{key2_hourly}\")\n",
    "flag_counts2_native = pd.read_csv(f\"s3://wecc-historical-wx/{key2_native}\")"
   ]
  },
  {
   "cell_type": "markdown",
   "id": "b74a1203",
   "metadata": {},
   "source": [
    "Generate a network-level summary table\n",
    "\n",
    "- same csv as station-level but sum of all stations (so variable vs. qaqc flag) -> collapse all csvs\n",
    "- produce statistics (per station)\n",
    "    - % flagged total\n",
    "    - % flagged per variable\n",
    "    - % flagged per QAQC flag\n",
    "\n",
    "What will this second output look like?\n",
    "table 1:\n",
    "- station as columns\n",
    "    - % flagged\n",
    "    - most flagged QAQC flag\n",
    "    - most flagged variable\n",
    "table 2: \n",
    "- variables as columns\n",
    "    - % flagged\n",
    "    - most flagged QAQC flag\n",
    "table 3: \n",
    "- QAQC flags as columns\n",
    "    - % flagged\n",
    "\n",
    "Those 3 tables are up for discussion - is there a cleaner way to do this?\n",
    "\n",
    "But FOR SURE produce that table of sums across all stations"
   ]
  },
  {
   "cell_type": "code",
   "execution_count": null,
   "id": "081be385",
   "metadata": {},
   "outputs": [],
   "source": [
    "def network_sum_counds(network: str) -> pd.DataFrame:\n",
    "    \"\"\"\n",
    "    Sums all station flag count tables into one network-level raw flag count table.\n",
    "\n",
    "    Parameters\n",
    "    ----------\n",
    "    network: str\n",
    "        network name\n",
    "\n",
    "    Returns\n",
    "    -------\n",
    "    None\n",
    "    \"\"\"\n",
    "\n",
    "    errordf = []\n",
    "    # errors_prefix = merge_dir + network + \"/\" + \"network_flag_counts\"\n",
    "    flags_prefix = f\"{merge_dir}/{network}/eraqc_counts\"\n",
    "\n",
    "    for item in s3.Bucket(bucket_name).objects.filter(Prefix=flags_prefix):\n",
    "        obj = s3_cl.get_object(Bucket=bucket_name, Key=item.key)\n",
    "        errors = pd.read_csv(obj[\"Body\"])\n",
    "        if errors.empty:  # If file empty\n",
    "            continue\n",
    "        else:\n",
    "            errors = errors[[\"File\", \"Time\", \"Error\"]]\n",
    "            errordf.append(errors)\n",
    "    if not errordf:  # If no errors in cleaning\n",
    "        return pd.DataFrame()\n",
    "    else:\n",
    "        errordf = pd.concat(errordf)\n",
    "        errordf = errordf.drop_duplicates(subset=[\"File\", \"Error\"])\n",
    "        errordf = errordf[\n",
    "            errordf.File != \"Whole network\"\n",
    "        ]  # Drop any whole network errors\n",
    "    return None"
   ]
  },
  {
   "cell_type": "markdown",
   "id": "00d0875a",
   "metadata": {},
   "source": [
    "## useful bits of code"
   ]
  },
  {
   "cell_type": "code",
   "execution_count": null,
   "id": "c6990986",
   "metadata": {},
   "outputs": [],
   "source": [
    "    # Read the CSV file containing station data\n",
    "    csv_filepath = \"s3://wecc-historical-wx/2_clean_wx/temp_clean_all_station_list.csv\"\n",
    "    stations_df = pd.read_csv(csv_filepath)\n",
    "\n",
    "    # Filter the dataframe to only include rows corresponding to the specified network\n",
    "    # And, only cleaned stations\n",
    "    network_df = stations_df[\n",
    "        (stations_df[\"network\"] == network) & (stations_df[\"cleaned\"] == \"Y\")\n",
    "    ]\n",
    "\n",
    "    # Check if nothing is returned. Raise ValueError and print useful message.\n",
    "    if len(network_df) == 0:\n",
    "        unique_networks = \", \".join(stations_df[\"network\"].unique())  # Unique networks\n",
    "        raise ValueError(\n",
    "            f\"No stations found for network: {network}. Available networks: {unique_networks}\"\n",
    "        )\n",
    "    "
   ]
  },
  {
   "cell_type": "code",
   "execution_count": null,
   "id": "7e5ef3bc",
   "metadata": {},
   "outputs": [],
   "source": []
  },
  {
   "cell_type": "markdown",
   "id": "d0ce23be",
   "metadata": {},
   "source": []
  }
 ],
 "metadata": {
  "kernelspec": {
   "display_name": "hist-obs",
   "language": "python",
   "name": "python3"
  },
  "language_info": {
   "codemirror_mode": {
    "name": "ipython",
    "version": 3
   },
   "file_extension": ".py",
   "mimetype": "text/x-python",
   "name": "python",
   "nbconvert_exporter": "python",
   "pygments_lexer": "ipython3",
   "version": "3.10.13"
  }
 },
 "nbformat": 4,
 "nbformat_minor": 5
}
