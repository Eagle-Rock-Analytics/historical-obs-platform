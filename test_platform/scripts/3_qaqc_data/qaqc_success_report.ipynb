{
 "cells": [
  {
   "cell_type": "markdown",
   "id": "3c073d99",
   "metadata": {},
   "source": [
    "# Success Report Statistics"
   ]
  },
  {
   "cell_type": "markdown",
   "id": "6a10b04b",
   "metadata": {},
   "source": [
    "per station \n",
    "- total % flagged\n",
    "- % flagged per variable\n",
    "- % flagged per QAQC flag\n",
    "\n",
    "NEED: per station raw counts tables\n",
    "\n",
    "per network\n",
    "- % flagged per variable (highest and lowest)\n",
    "- % flagged per QAQC flag (highest and lowest)\n",
    "- % flagged per station (highest and lowest)\n",
    "\n",
<<<<<<< HEAD
    "NEED: raw counts per variable, raw counts per QAQC flag, raw counts per station\n",
    "\n",
    "HOW: sum total and flagged per station, variable, and QAQC flag\n",
    "\n",
    "total\n",
    "- % flagged per network\n",
    "- % flagged per variable (highest and lowest)\n",
    "- % flagged per QAQC flag (highest and lowest)\n",
    "\n",
    "NEED: raw counts per variable, raw counts per QAQC flag, raw counts per station\n",
    "\n",
    "HOW: sum total and flagged per network, variable, and QAQC flag\n"
=======
    "NEED: raw count per variable (sum total obs and sum of flagged obs across all stations), raw count\n",
    "\n",
    "total\n",
    "- % flag\n"
>>>>>>> origin/main
   ]
  },
  {
   "cell_type": "markdown",
   "id": "ce425205",
   "metadata": {},
   "source": [
    "## Environment set-up"
   ]
  },
  {
   "cell_type": "code",
<<<<<<< HEAD
   "execution_count": null,
=======
   "execution_count": 1,
>>>>>>> origin/main
   "id": "e1e2b8f4",
   "metadata": {},
   "outputs": [],
   "source": [
    "import boto3\n",
    "import numpy as np\n",
    "import pandas as pd\n",
    "import xarray as xr\n",
    "import matplotlib.pyplot as plt\n",
    "from io import BytesIO, StringIO\n",
    "from functools import reduce\n",
    "\n",
    "import inspect\n",
    "\n",
    "import logging\n",
    "# Create a simple logger that just prints to the console\n",
    "logging.basicConfig(level=logging.INFO)\n",
    "logger = logging.getLogger()\n",
    "\n",
    "plt.rcParams[\"figure.dpi\"] = 300"
   ]
  },
  {
   "cell_type": "code",
<<<<<<< HEAD
   "execution_count": null,
   "id": "7320ab8b",
   "metadata": {},
   "outputs": [],
=======
   "execution_count": 9,
   "id": "7320ab8b",
   "metadata": {},
   "outputs": [
    {
     "name": "stderr",
     "output_type": "stream",
     "text": [
      "INFO:botocore.credentials:Found credentials in shared credentials file: ~/.aws/credentials\n"
     ]
    }
   ],
>>>>>>> origin/main
   "source": [
    "# Set AWS credentials\n",
    "s3 = boto3.resource(\"s3\")\n",
    "s3_cl = boto3.client(\"s3\")  # for lower-level processes\n",
    "\n",
    "# Set relative paths to other folders and objects in repository.\n",
    "bucket_name = \"wecc-historical-wx\"\n",
    "stations_csv_path = f\"s3://{bucket_name}/2_clean_wx/temp_clean_all_station_list.csv\"\n",
    "qaqc_dir = \"3_qaqc_wx\"\n",
    "merge_dir = \"4_merge_wx\""
   ]
  },
  {
   "cell_type": "markdown",
   "id": "a7594f1f",
   "metadata": {},
   "source": [
<<<<<<< HEAD
    "## Functions"
   ]
  },
  {
   "cell_type": "code",
   "execution_count": null,
   "id": "ec8c45b0",
   "metadata": {},
   "outputs": [],
   "source": [
    "def _pairwise_sum(flag_df_1, flag_df_2) -> pd.DataFrame:\n",
    "    \"\"\"\n",
    "    Sums two input flag count dataframes. This is a helper function for sum_flag_counts(). \n",
    "\n",
    "    Parameters\n",
    "    ----------\n",
    "    flag_df_1: pd.DataFrame\n",
    "        dataframe of previously summed station flag counts\n",
    "    flag_df_2: pd.DataFrame\n",
    "        flag counts dataframes for next station\n",
    "\n",
    "    Returns\n",
    "    -------\n",
    "    summed_df: pd.DataFrame\n",
    "\n",
    "    \"\"\"\n",
    "    if len(flag_df_1) == 0:\n",
    "        return flag_df_2\n",
    "    else:\n",
    "        total_df = pd.concat([flag_df_1, flag_df_2])\n",
    "\n",
    "        summed_df = total_df.groupby('eraqc_flag_values', as_index=False).sum()\n",
    "        return summed_df"
   ]
  },
  {
   "cell_type": "code",
   "execution_count": null,
   "id": "a695a3cd",
   "metadata": {},
   "outputs": [],
   "source": [
    "def network_sum_flag_counts(network: str, timestep: str) -> None:\n",
    "    \"\"\"\n",
    "    Sums all station QAQC flag counts in a network for a given timestep (hourly or native) and sends to AWS. \n",
    "    These counts are used to generate statistics for the QAQC success report.\n",
    "\n",
    "    Parameters\n",
    "    ----------\n",
    "    network: str\n",
    "        network name\n",
    "    timestep: str\n",
    "        if set to 'hourly', merge all hourly QAQC flag count tables\n",
    "        if set to 'native', merge all native timestep QAQC flag count tables\n",
    "\n",
    "    Returns\n",
    "    -------\n",
    "    None\n",
    "\n",
    "    \"\"\"\n",
    "    ## Setup\n",
    "\n",
    "    if timestep not in (\"hourly\", \"native\"):\n",
    "        print(\"invalid timestep: \", timestep)\n",
    "        return None\n",
    "\n",
    "    # the function iteratively adds in flag counts to this dataframe\n",
    "    summed_counts_df = []\n",
    "\n",
    "    # point to folder containing station flag count CSVs\n",
    "    flags_prefix = f\"{merge_dir}/{network}/eraqc_counts_{timestep}_timestep\"\n",
    "\n",
    "    ## Merge flag counts\n",
    "\n",
    "    # loop through all CSVs are the given level\n",
    "    for item in s3.Bucket(bucket_name).objects.filter(Prefix=flags_prefix):\n",
    "        obj = s3_cl.get_object(Bucket=bucket_name, Key=item.key)\n",
    "        flags = pd.read_csv(obj[\"Body\"])\n",
    "        # the CSV is empty\n",
    "        if flags.empty:\n",
    "            continue\n",
    "        # the CSV is not empty\n",
    "        else:\n",
    "            # send current dataframe and dataframe of previously summed counts to helper function\n",
    "            summed_counts_df = _pairwise_sum(summed_counts_df, flags)\n",
    "\n",
    "    ## Send final counts file to AWS as CSV\n",
    "\n",
    "    csv_s3_filepath = f\"s3://wecc-historical-wx/4_merge_wx/per_network_flag_counts/{network}_flag_counts_{timestep}_timestep.csv\"\n",
    "    # summed_counts_df.to_csv(csv_s3_filepath, index=False)\n",
    "    print(\n",
    "        f\"Sending summed counts dataframe for {network} to: {csv_s3_filepath}\"\n",
    "    )\n",
    "\n",
    "    return summed_counts_df  # None"
   ]
  },
  {
   "cell_type": "code",
   "execution_count": null,
   "id": "594cf721",
   "metadata": {},
   "outputs": [],
   "source": [
    "def total_sum_flag_counts(timestep: str) -> None:\n",
    "    \"\"\"\n",
    "    Sums all network-level QAQC flag counts for a given timestep (hourly or native) and sends to AWS. \n",
    "    These counts are used to generate statistics for the QAQC success report.\n",
    "\n",
    "    Parameters\n",
    "    ----------\n",
    "    timestep: str\n",
    "        if set to 'hourly', merge all hourly QAQC flag count tables\n",
    "        if set to 'native', merge all native timestep QAQC flag count tables\n",
    "\n",
    "    Returns\n",
    "    -------\n",
    "    None\n",
    "\n",
    "    \"\"\"\n",
    "    ## Setup\n",
    "\n",
    "    if timestep not in (\"hourly\", \"native\"):\n",
    "        print(\"invalid timestep: \", timestep)\n",
    "        return None\n",
    "\n",
    "    # the function iteratively adds in flag counts to this dataframe\n",
    "    summed_counts_df = []\n",
    "\n",
    "    # point to folder containing network-level flag count CSVs\n",
    "    flags_prefix = f\"{merge_dir}/per_network_flag_counts\"\n",
    "\n",
    "    ## Merge flag counts\n",
    "\n",
    "    # loop through all networks CSVs\n",
    "    for item in s3.Bucket(bucket_name).objects.filter(Prefix=flags_prefix):\n",
    "        obj = s3_cl.get_object(Bucket=bucket_name, Key=item.key)\n",
    "        flags = pd.read_csv(obj[\"Body\"])\n",
    "        # the CSV is empty\n",
    "        if flags.empty:\n",
    "            continue\n",
    "        # the CSV is not empty\n",
    "        else:\n",
    "            # send current dataframe and dataframe of previously summed counts to helper function\n",
    "            summed_counts_df = _pairwise_sum(summed_counts_df, flags)\n",
    "\n",
    "    ## Send final counts file to AWS as CSV\n",
    "\n",
    "    csv_s3_filepath = (\n",
    "        f\"s3://wecc-historical-wx/4_merge_wx/total_flag_counts_{timestep}_timestep.csv\"\n",
    "    )\n",
    "    # summed_counts_df.to_csv(csv_s3_filepath, index=False)\n",
    "    print(f\"Sending final summed counts dataframe for to: {csv_s3_filepath}\")\n",
    "\n",
    "    return summed_counts_df  # None"
   ]
  },
  {
   "cell_type": "markdown",
   "id": "8d4eb5a4",
   "metadata": {},
   "source": [
    "## Run the function"
   ]
  },
  {
   "cell_type": "markdown",
   "id": "b86d1071",
   "metadata": {},
   "source": [
    "After the merge step is compelte, run network_sum_flag_counts() for all networks. Then run total_sum_flag_counts() a single timee. "
   ]
  },
  {
   "cell_type": "code",
   "execution_count": null,
   "id": "115c01be",
   "metadata": {},
   "outputs": [],
   "source": [
    "network = \"ASOSAWOS\"\n",
    "timestep = \"hourly\""
   ]
  },
  {
   "cell_type": "code",
   "execution_count": null,
   "id": "d7971945",
   "metadata": {},
   "outputs": [],
   "source": [
    "network_result = network_sum_flag_counts(network, timestep)"
   ]
  },
  {
   "cell_type": "code",
   "execution_count": null,
   "id": "d003e06b",
   "metadata": {},
   "outputs": [],
   "source": [
    "total_result = total_sum_flag_counts(timestep)"
   ]
  },
  {
   "cell_type": "markdown",
   "id": "9e10ed84",
   "metadata": {},
   "source": [
    "## Check"
   ]
  },
  {
   "cell_type": "code",
   "execution_count": null,
   "id": "a9d928bf",
   "metadata": {},
   "outputs": [],
   "source": [
    "counts_hourly_network = pd.read_csv(\n",
    "    f\"s3://wecc-historical-wx/4_merge_wx/per_network_flag_counts/ASOSAWOS_flag_counts_hourly_timestep.csv\"\n",
    ")\n",
    "counts_native_network = pd.read_csv(\n",
    "    f\"s3://wecc-historical-wx/4_merge_wx/per_network_flag_counts/ASOSAWOS_flag_counts_native_timestep.csv\"\n",
    ")\n",
    "\n",
    "counts_hourly_total = pd.read_csv(\n",
    "    f\"s3://wecc-historical-wx/4_merge_wx/per_network_flag_counts/ASOSAWOS_flag_counts_hourly_timestep.csv\"\n",
    ")\n",
    "\n",
    "counts_native_total = pd.read_csv(\n",
    "    f\"s3://wecc-historical-wx/4_merge_wx/total_flag_counts_native_timestep.csv\"\n",
    ")"
   ]
  },
  {
   "cell_type": "markdown",
   "id": "23b0829c",
   "metadata": {},
   "source": [
    "Load in previously generate flag counts tables, as a reference."
=======
    "## Setup"
>>>>>>> origin/main
   ]
  },
  {
   "cell_type": "code",
   "execution_count": null,
   "id": "e320346a",
   "metadata": {},
   "outputs": [],
   "source": [
<<<<<<< HEAD
    "station1 = \"ASOSAWOS_72493023230\"\n",
    "station2 = \"ASOSAWOS_69007093217\""
=======
    "network = \"ASOSAWOS\"\n",
    "station = \"ASOSAWOS_72493023230\""
>>>>>>> origin/main
   ]
  },
  {
   "cell_type": "code",
<<<<<<< HEAD
   "execution_count": null,
   "id": "b6023fab",
   "metadata": {},
   "outputs": [],
   "source": [
    "key1_native = f\"4_merge_wx/{network}/eraqc_counts_native_timestep/{station1}_flag_counts_native_timestep.csv\"\n",
    "key1_hourly = f\"4_merge_wx/{network}/eraqc_counts_hourly_timestep/{station1}_flag_counts_hourly_standardized.csv\"\n",
    "\n",
    "key2_native = f\"4_merge_wx/{network}/eraqc_counts_native_timestep/{station2}_flag_counts_native_timestep.csv\"\n",
    "key2_hourly = f\"4_merge_wx/{network}/eraqc_counts_hourly_timestep/{station2}_flag_counts_hourly_standardized.csv\""
=======
   "execution_count": 10,
   "id": "98e97663",
   "metadata": {},
   "outputs": [],
   "source": [
    "stations_df = pd.read_csv(stations_csv_path)"
>>>>>>> origin/main
   ]
  },
  {
   "cell_type": "code",
   "execution_count": null,
<<<<<<< HEAD
   "id": "0403aae7",
   "metadata": {},
   "outputs": [],
   "source": [
    "flag_counts1_hourly = pd.read_csv(f\"s3://wecc-historical-wx/{key1_hourly}\")\n",
    "flag_counts1_native = pd.read_csv(f\"s3://wecc-historical-wx/{key1_native}\")\n",
    "\n",
    "flag_counts2_hourly = pd.read_csv(f\"s3://wecc-historical-wx/{key2_hourly}\")\n",
    "flag_counts2_native = pd.read_csv(f\"s3://wecc-historical-wx/{key2_native}\")"
   ]
  },
  {
   "cell_type": "code",
   "execution_count": null,
   "id": "196bae41",
   "metadata": {},
   "outputs": [],
   "source": [
    "flag_counts1_hourly"
   ]
  },
  {
   "cell_type": "code",
   "execution_count": null,
   "id": "55655a38",
   "metadata": {},
   "outputs": [],
   "source": [
    "flag_counts1_native"
   ]
  },
  {
   "cell_type": "markdown",
   "id": "e3c29ec1",
   "metadata": {},
   "source": [
    "# Scraps"
   ]
  },
  {
   "cell_type": "markdown",
   "id": "d0ce23be",
   "metadata": {},
   "source": []
  },
  {
   "cell_type": "code",
   "execution_count": null,
=======
>>>>>>> origin/main
   "id": "081be385",
   "metadata": {},
   "outputs": [],
   "source": [
<<<<<<< HEAD
    "def sum_flag_counts(network: str, timestep:str, level: str) -> None:\n",
    "    \"\"\"\n",
    "    Sums all QAQC flag counts at a given level (across stations or across networks) and for a given timestep (hourly or native)\n",
    "    and sends to AWS. These counts are used to generate statistics for the QAQC success report.\n",
    "\n",
    "    Parameters\n",
    "    ----------\n",
    "    network: str\n",
    "        network name, only used when 'level' = 'network'\n",
    "    timestep: str\n",
    "        if set to 'hourly', merge all hourly QAQC flag count tables\n",
    "        if set to 'native', merge all native timestep QAQC flag count tables\n",
    "    level: str\n",
    "        if set to 'network', merge across all station flag count tables\n",
    "        if set to 'total', merge across all network flag count tables\n",
=======
    "def network_stats(network: str) -> pd.DataFrame:\n",
    "    \"\"\"\n",
    "    Generates multiple dataframes of statistics and counts per station\n",
    "\n",
    "    Parameters\n",
    "    ----------\n",
    "    df : pd.DataFrame\n",
    "        station dataset converted to dataframe through QAQC pipeline\n",
    "    network: str\n",
    "        network name\n",
    "    station: str\n",
    "        station name\n",
>>>>>>> origin/main
    "\n",
    "    Returns\n",
    "    -------\n",
    "    None\n",
<<<<<<< HEAD
    "    \n",
    "    \"\"\"\n",
    "    ## Setup\n",
    "\n",
    "    if timestep not in ('hourly','native'):\n",
    "        print('invalid timestep: ',timestep) \n",
    "        return None\n",
    "\n",
    "    # the function iteratively adds in flag counts to this dataframe\n",
    "    summed_counts_df = []\n",
    "\n",
    "    ## Assign AWS level and final CSV destiation depening on 'level' argument\n",
    "\n",
    "    if level == 'network':\n",
    "        # AWS level to loop through\n",
    "        flags_prefix = f\"{merge_dir}/{network}/eraqc_counts_{timestep}_timestep\"\n",
    "        # where to send the final CSV\n",
    "        csv_s3_filepath = f\"s3://wecc-historical-wx/4_merge_wx/per_network_flag_counts/{network}_flag_counts_{timestep}_timestep.csv\"\n",
    "    \n",
    "    elif level == 'total':\n",
    "        # AWS level to loop through\n",
    "        flags_prefix = f\"{merge_dir}/per_network_flag_counts\"\n",
    "        # where to send the final CSV\n",
    "        csv_s3_filepath = f\"s3://wecc-historical-wx/4_merge_wx/total_flag_counts_{timestep}_timestep.csv\"\n",
    "    \n",
    "    else: \n",
    "        print('invalid level: ', level)\n",
    "        return None\n",
    "\n",
    "    ## Merge flag counts\n",
    "\n",
    "    # loop through all CSVs are the given level\n",
    "    for item in s3.Bucket(bucket_name).objects.filter(Prefix=flags_prefix):\n",
    "        obj = s3_cl.get_object(Bucket=bucket_name, Key=item.key)\n",
    "        flags = pd.read_csv(obj[\"Body\"])\n",
    "        # the CSV is empty\n",
    "        if flags.empty:\n",
    "            continue\n",
    "        # the CSV is not empty\n",
    "        else:\n",
    "            # send current dataframe and dataframe of previously summed counts to helper function\n",
    "            summed_counts_df = _pairwise_sum(summed_counts_df, flags)\n",
    "\n",
    "    ## Send final counts file to AWS as CSV\n",
    "    \n",
    "    summed_counts_df.to_csv(csv_s3_filepath, index=False)\n",
    "    print('Sending final summed counts dataframe to: ', csv_s3_filepath)\n",
    "\n",
    "    return summed_counts_df # None"
   ]
=======
    "    \"\"\"\n",
    "    \n",
    "\n",
    "    for station in station_list:\n",
    "    key_native = f\"4_merge_wx/{network}/eraqc_counts/{station}_flag_counts_native_timestep.csv\"\n",
    "\n",
    "    flag_counts_native = pd.read_csv(f\"s3://wecc-historical-wx/{key_native}\")\n",
    "\n",
    "\n",
    "    return results"
   ]
  },
  {
   "cell_type": "code",
   "execution_count": 3,
   "id": "b6023fab",
   "metadata": {},
   "outputs": [
    {
     "name": "stderr",
     "output_type": "stream",
     "text": [
      "INFO:aiobotocore.credentials:Found credentials in shared credentials file: ~/.aws/credentials\n"
     ]
    }
   ],
   "source": [
    "key_native = f\"4_merge_wx/{network}/eraqc_counts/{station}_flag_counts_native_timestep.csv\"\n",
    "\n",
    "flag_counts_native = pd.read_csv(f\"s3://wecc-historical-wx/{key_native}\")"
   ]
  },
  {
   "cell_type": "code",
   "execution_count": 4,
   "id": "0403aae7",
   "metadata": {},
   "outputs": [],
   "source": [
    "key_hourly = f\"4_merge_wx/{network}/eraqc_counts/{station}_flag_counts_hourly_standardized.csv\"\n",
    "\n",
    "flag_counts_hourly = pd.read_csv(f\"s3://wecc-historical-wx/{key_hourly}\")"
   ]
  },
  {
   "cell_type": "code",
   "execution_count": 5,
   "id": "6b20d4ec",
   "metadata": {},
   "outputs": [
    {
     "data": {
      "text/html": [
       "<div>\n",
       "<style scoped>\n",
       "    .dataframe tbody tr th:only-of-type {\n",
       "        vertical-align: middle;\n",
       "    }\n",
       "\n",
       "    .dataframe tbody tr th {\n",
       "        vertical-align: top;\n",
       "    }\n",
       "\n",
       "    .dataframe thead th {\n",
       "        text-align: right;\n",
       "    }\n",
       "</style>\n",
       "<table border=\"1\" class=\"dataframe\">\n",
       "  <thead>\n",
       "    <tr style=\"text-align: right;\">\n",
       "      <th></th>\n",
       "      <th>eraqc_flag_values</th>\n",
       "      <th>elevation</th>\n",
       "      <th>pr</th>\n",
       "      <th>ps_altimeter</th>\n",
       "      <th>ps</th>\n",
       "      <th>psl</th>\n",
       "      <th>sfcWind_dir</th>\n",
       "      <th>sfcWind</th>\n",
       "      <th>tas</th>\n",
       "      <th>tdps</th>\n",
       "    </tr>\n",
       "  </thead>\n",
       "  <tbody>\n",
       "    <tr>\n",
       "      <th>0</th>\n",
       "      <td>21.0</td>\n",
       "      <td>0</td>\n",
       "      <td>0</td>\n",
       "      <td>0</td>\n",
       "      <td>7296</td>\n",
       "      <td>22079</td>\n",
       "      <td>0</td>\n",
       "      <td>0</td>\n",
       "      <td>0</td>\n",
       "      <td>0</td>\n",
       "    </tr>\n",
       "    <tr>\n",
       "      <th>1</th>\n",
       "      <td>23.0</td>\n",
       "      <td>0</td>\n",
       "      <td>0</td>\n",
       "      <td>24</td>\n",
       "      <td>3</td>\n",
       "      <td>23</td>\n",
       "      <td>0</td>\n",
       "      <td>0</td>\n",
       "      <td>10</td>\n",
       "      <td>200</td>\n",
       "    </tr>\n",
       "    <tr>\n",
       "      <th>2</th>\n",
       "      <td>26.0</td>\n",
       "      <td>0</td>\n",
       "      <td>0</td>\n",
       "      <td>0</td>\n",
       "      <td>0</td>\n",
       "      <td>0</td>\n",
       "      <td>0</td>\n",
       "      <td>0</td>\n",
       "      <td>94</td>\n",
       "      <td>332</td>\n",
       "    </tr>\n",
       "    <tr>\n",
       "      <th>3</th>\n",
       "      <td>27.0</td>\n",
       "      <td>0</td>\n",
       "      <td>0</td>\n",
       "      <td>0</td>\n",
       "      <td>0</td>\n",
       "      <td>0</td>\n",
       "      <td>0</td>\n",
       "      <td>16</td>\n",
       "      <td>0</td>\n",
       "      <td>14</td>\n",
       "    </tr>\n",
       "    <tr>\n",
       "      <th>4</th>\n",
       "      <td>28.0</td>\n",
       "      <td>0</td>\n",
       "      <td>0</td>\n",
       "      <td>0</td>\n",
       "      <td>0</td>\n",
       "      <td>0</td>\n",
       "      <td>0</td>\n",
       "      <td>0</td>\n",
       "      <td>0</td>\n",
       "      <td>25</td>\n",
       "    </tr>\n",
       "    <tr>\n",
       "      <th>5</th>\n",
       "      <td>no_flag</td>\n",
       "      <td>338512</td>\n",
       "      <td>338512</td>\n",
       "      <td>338490</td>\n",
       "      <td>331214</td>\n",
       "      <td>316410</td>\n",
       "      <td>338512</td>\n",
       "      <td>338496</td>\n",
       "      <td>338428</td>\n",
       "      <td>338004</td>\n",
       "    </tr>\n",
       "    <tr>\n",
       "      <th>6</th>\n",
       "      <td>total_obs_count</td>\n",
       "      <td>338512</td>\n",
       "      <td>338512</td>\n",
       "      <td>338512</td>\n",
       "      <td>338512</td>\n",
       "      <td>338512</td>\n",
       "      <td>338512</td>\n",
       "      <td>338512</td>\n",
       "      <td>338512</td>\n",
       "      <td>338512</td>\n",
       "    </tr>\n",
       "  </tbody>\n",
       "</table>\n",
       "</div>"
      ],
      "text/plain": [
       "  eraqc_flag_values  elevation      pr  ps_altimeter      ps     psl  \\\n",
       "0              21.0          0       0             0    7296   22079   \n",
       "1              23.0          0       0            24       3      23   \n",
       "2              26.0          0       0             0       0       0   \n",
       "3              27.0          0       0             0       0       0   \n",
       "4              28.0          0       0             0       0       0   \n",
       "5           no_flag     338512  338512        338490  331214  316410   \n",
       "6   total_obs_count     338512  338512        338512  338512  338512   \n",
       "\n",
       "   sfcWind_dir  sfcWind     tas    tdps  \n",
       "0            0        0       0       0  \n",
       "1            0        0      10     200  \n",
       "2            0        0      94     332  \n",
       "3            0       16       0      14  \n",
       "4            0        0       0      25  \n",
       "5       338512   338496  338428  338004  \n",
       "6       338512   338512  338512  338512  "
      ]
     },
     "execution_count": 5,
     "metadata": {},
     "output_type": "execute_result"
    }
   ],
   "source": [
    "flag_counts_hourly"
   ]
  },
  {
   "cell_type": "code",
   "execution_count": 6,
   "id": "4224c188",
   "metadata": {},
   "outputs": [
    {
     "data": {
      "text/html": [
       "<div>\n",
       "<style scoped>\n",
       "    .dataframe tbody tr th:only-of-type {\n",
       "        vertical-align: middle;\n",
       "    }\n",
       "\n",
       "    .dataframe tbody tr th {\n",
       "        vertical-align: top;\n",
       "    }\n",
       "\n",
       "    .dataframe thead th {\n",
       "        text-align: right;\n",
       "    }\n",
       "</style>\n",
       "<table border=\"1\" class=\"dataframe\">\n",
       "  <thead>\n",
       "    <tr style=\"text-align: right;\">\n",
       "      <th></th>\n",
       "      <th>eraqc_flag_values</th>\n",
       "      <th>elevation</th>\n",
       "      <th>pr</th>\n",
       "      <th>ps_altimeter</th>\n",
       "      <th>ps</th>\n",
       "      <th>psl</th>\n",
       "      <th>sfcWind_dir</th>\n",
       "      <th>sfcWind</th>\n",
       "      <th>tas</th>\n",
       "      <th>tdps</th>\n",
       "    </tr>\n",
       "  </thead>\n",
       "  <tbody>\n",
       "    <tr>\n",
       "      <th>0</th>\n",
       "      <td>no_flag</td>\n",
       "      <td>415892</td>\n",
       "      <td>415892</td>\n",
       "      <td>415867</td>\n",
       "      <td>401335</td>\n",
       "      <td>393313</td>\n",
       "      <td>415892</td>\n",
       "      <td>415876</td>\n",
       "      <td>415783</td>\n",
       "      <td>415318</td>\n",
       "    </tr>\n",
       "    <tr>\n",
       "      <th>1</th>\n",
       "      <td>23.0</td>\n",
       "      <td>0</td>\n",
       "      <td>0</td>\n",
       "      <td>25</td>\n",
       "      <td>4</td>\n",
       "      <td>28</td>\n",
       "      <td>0</td>\n",
       "      <td>0</td>\n",
       "      <td>10</td>\n",
       "      <td>201</td>\n",
       "    </tr>\n",
       "    <tr>\n",
       "      <th>2</th>\n",
       "      <td>21.0</td>\n",
       "      <td>0</td>\n",
       "      <td>0</td>\n",
       "      <td>0</td>\n",
       "      <td>14553</td>\n",
       "      <td>22551</td>\n",
       "      <td>0</td>\n",
       "      <td>0</td>\n",
       "      <td>0</td>\n",
       "      <td>0</td>\n",
       "    </tr>\n",
       "    <tr>\n",
       "      <th>3</th>\n",
       "      <td>27.0</td>\n",
       "      <td>0</td>\n",
       "      <td>0</td>\n",
       "      <td>0</td>\n",
       "      <td>0</td>\n",
       "      <td>0</td>\n",
       "      <td>0</td>\n",
       "      <td>16</td>\n",
       "      <td>0</td>\n",
       "      <td>16</td>\n",
       "    </tr>\n",
       "    <tr>\n",
       "      <th>4</th>\n",
       "      <td>26.0</td>\n",
       "      <td>0</td>\n",
       "      <td>0</td>\n",
       "      <td>0</td>\n",
       "      <td>0</td>\n",
       "      <td>0</td>\n",
       "      <td>0</td>\n",
       "      <td>0</td>\n",
       "      <td>99</td>\n",
       "      <td>332</td>\n",
       "    </tr>\n",
       "    <tr>\n",
       "      <th>5</th>\n",
       "      <td>28.0</td>\n",
       "      <td>0</td>\n",
       "      <td>0</td>\n",
       "      <td>0</td>\n",
       "      <td>0</td>\n",
       "      <td>0</td>\n",
       "      <td>0</td>\n",
       "      <td>0</td>\n",
       "      <td>0</td>\n",
       "      <td>25</td>\n",
       "    </tr>\n",
       "    <tr>\n",
       "      <th>6</th>\n",
       "      <td>total_obs_count</td>\n",
       "      <td>415892</td>\n",
       "      <td>415892</td>\n",
       "      <td>415892</td>\n",
       "      <td>415892</td>\n",
       "      <td>415892</td>\n",
       "      <td>415892</td>\n",
       "      <td>415892</td>\n",
       "      <td>415892</td>\n",
       "      <td>415892</td>\n",
       "    </tr>\n",
       "  </tbody>\n",
       "</table>\n",
       "</div>"
      ],
      "text/plain": [
       "  eraqc_flag_values  elevation      pr  ps_altimeter      ps     psl  \\\n",
       "0           no_flag     415892  415892        415867  401335  393313   \n",
       "1              23.0          0       0            25       4      28   \n",
       "2              21.0          0       0             0   14553   22551   \n",
       "3              27.0          0       0             0       0       0   \n",
       "4              26.0          0       0             0       0       0   \n",
       "5              28.0          0       0             0       0       0   \n",
       "6   total_obs_count     415892  415892        415892  415892  415892   \n",
       "\n",
       "   sfcWind_dir  sfcWind     tas    tdps  \n",
       "0       415892   415876  415783  415318  \n",
       "1            0        0      10     201  \n",
       "2            0        0       0       0  \n",
       "3            0       16       0      16  \n",
       "4            0        0      99     332  \n",
       "5            0        0       0      25  \n",
       "6       415892   415892  415892  415892  "
      ]
     },
     "execution_count": 6,
     "metadata": {},
     "output_type": "execute_result"
    }
   ],
   "source": [
    "flag_counts_native"
   ]
  },
  {
   "cell_type": "markdown",
   "id": "d0ce23be",
   "metadata": {},
   "source": []
>>>>>>> origin/main
  }
 ],
 "metadata": {
  "kernelspec": {
   "display_name": "hist-obs",
   "language": "python",
   "name": "python3"
  },
  "language_info": {
   "codemirror_mode": {
    "name": "ipython",
    "version": 3
   },
   "file_extension": ".py",
   "mimetype": "text/x-python",
   "name": "python",
   "nbconvert_exporter": "python",
   "pygments_lexer": "ipython3",
   "version": "3.10.13"
  }
 },
 "nbformat": 4,
 "nbformat_minor": 5
}
