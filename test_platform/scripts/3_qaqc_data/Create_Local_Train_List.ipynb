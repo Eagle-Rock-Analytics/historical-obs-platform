{
 "cells": [
  {
   "cell_type": "code",
   "execution_count": 4,
   "id": "c0c0d360-55df-4053-a807-7c357de718c6",
   "metadata": {
    "execution": {
     "iopub.execute_input": "2023-10-10T17:50:44.971373Z",
     "iopub.status.busy": "2023-10-10T17:50:44.971132Z",
     "iopub.status.idle": "2023-10-10T17:50:46.332710Z",
     "shell.execute_reply": "2023-10-10T17:50:46.332423Z",
     "shell.execute_reply.started": "2023-10-10T17:50:44.971357Z"
    }
   },
   "outputs": [],
   "source": [
    "import os\n",
    "import datetime\n",
    "import pandas as pd\n",
    "import xarray as xr\n",
    "import boto3\n",
    "import s3fs\n",
    "from io import BytesIO, StringIO\n",
    "\n",
    "## Import qaqc stage calc functions\n",
    "try:\n",
    "    from calc_qaqc import *\n",
    "except:\n",
    "    print(\"Error importing calc_qaqc.py\")"
   ]
  },
  {
   "cell_type": "code",
   "execution_count": 5,
   "id": "1dcb4edf-bb7d-4184-831b-c222d49cfe45",
   "metadata": {
    "execution": {
     "iopub.execute_input": "2023-10-10T17:50:46.333811Z",
     "iopub.status.busy": "2023-10-10T17:50:46.333533Z",
     "iopub.status.idle": "2023-10-10T17:50:46.343670Z",
     "shell.execute_reply": "2023-10-10T17:50:46.343311Z",
     "shell.execute_reply.started": "2023-10-10T17:50:46.333802Z"
    }
   },
   "outputs": [
    {
     "data": {
      "text/html": [
       "<div>\n",
       "<style scoped>\n",
       "    .dataframe tbody tr th:only-of-type {\n",
       "        vertical-align: middle;\n",
       "    }\n",
       "\n",
       "    .dataframe tbody tr th {\n",
       "        vertical-align: top;\n",
       "    }\n",
       "\n",
       "    .dataframe thead th {\n",
       "        text-align: right;\n",
       "    }\n",
       "</style>\n",
       "<table border=\"1\" class=\"dataframe\">\n",
       "  <thead>\n",
       "    <tr style=\"text-align: right;\">\n",
       "      <th></th>\n",
       "      <th>era.id</th>\n",
       "      <th>elevation</th>\n",
       "      <th>network</th>\n",
       "      <th>longitude</th>\n",
       "      <th>latitude</th>\n",
       "    </tr>\n",
       "  </thead>\n",
       "  <tbody>\n",
       "    <tr>\n",
       "      <th>0</th>\n",
       "      <td>CWOP_D1364</td>\n",
       "      <td>1686.000</td>\n",
       "      <td>CWOP</td>\n",
       "      <td>-106.59931</td>\n",
       "      <td>52.11869</td>\n",
       "    </tr>\n",
       "    <tr>\n",
       "      <th>1</th>\n",
       "      <td>CWOP_D8735</td>\n",
       "      <td>92.000</td>\n",
       "      <td>CWOP</td>\n",
       "      <td>-124.10030</td>\n",
       "      <td>44.31054</td>\n",
       "    </tr>\n",
       "    <tr>\n",
       "      <th>2</th>\n",
       "      <td>HADS_BCCN2</td>\n",
       "      <td>2486.000</td>\n",
       "      <td>HADS</td>\n",
       "      <td>-114.84667</td>\n",
       "      <td>35.98083</td>\n",
       "    </tr>\n",
       "    <tr>\n",
       "      <th>3</th>\n",
       "      <td>ASOSAWOS_72384023155</td>\n",
       "      <td>149.352</td>\n",
       "      <td>ASOSAWOS</td>\n",
       "      <td>-119.05500</td>\n",
       "      <td>35.43400</td>\n",
       "    </tr>\n",
       "    <tr>\n",
       "      <th>4</th>\n",
       "      <td>OtherISD_72378899999</td>\n",
       "      <td>212.000</td>\n",
       "      <td>OtherISD</td>\n",
       "      <td>-114.56700</td>\n",
       "      <td>35.15000</td>\n",
       "    </tr>\n",
       "  </tbody>\n",
       "</table>\n",
       "</div>"
      ],
      "text/plain": [
       "                 era.id  elevation   network  longitude  latitude\n",
       "0            CWOP_D1364   1686.000      CWOP -106.59931  52.11869\n",
       "1            CWOP_D8735     92.000      CWOP -124.10030  44.31054\n",
       "2            HADS_BCCN2   2486.000      HADS -114.84667  35.98083\n",
       "3  ASOSAWOS_72384023155    149.352  ASOSAWOS -119.05500  35.43400\n",
       "4  OtherISD_72378899999    212.000  OtherISD -114.56700  35.15000"
      ]
     },
     "execution_count": 5,
     "metadata": {},
     "output_type": "execute_result"
    }
   ],
   "source": [
    "df = pd.read_csv(\"qaqc_training_station_list.csv\")\n",
    "df = df.sample(n=len(df)).reset_index().drop(columns=['index'])\n",
    "df.head(5)"
   ]
  },
  {
   "cell_type": "code",
   "execution_count": 6,
   "id": "1ace4c77-c3cb-4ad4-b655-ad06e85bdc60",
   "metadata": {
    "execution": {
     "iopub.execute_input": "2023-10-10T17:50:46.344604Z",
     "iopub.status.busy": "2023-10-10T17:50:46.344306Z",
     "iopub.status.idle": "2023-10-10T17:50:46.346932Z",
     "shell.execute_reply": "2023-10-10T17:50:46.346622Z",
     "shell.execute_reply.started": "2023-10-10T17:50:46.344590Z"
    }
   },
   "outputs": [
    {
     "data": {
      "text/plain": [
       "18"
      ]
     },
     "execution_count": 6,
     "metadata": {},
     "output_type": "execute_result"
    }
   ],
   "source": [
    "networks = list(df['network'].unique())\n",
    "len(networks)"
   ]
  },
  {
   "cell_type": "code",
   "execution_count": 7,
   "id": "6cbad5ef-1352-4dba-a7d5-de474a267ce9",
   "metadata": {
    "execution": {
     "iopub.execute_input": "2023-10-10T17:50:46.347983Z",
     "iopub.status.busy": "2023-10-10T17:50:46.347857Z",
     "iopub.status.idle": "2023-10-10T17:50:46.366189Z",
     "shell.execute_reply": "2023-10-10T17:50:46.365553Z",
     "shell.execute_reply.started": "2023-10-10T17:50:46.347971Z"
    }
   },
   "outputs": [
    {
     "data": {
      "text/html": [
       "<div>\n",
       "<style scoped>\n",
       "    .dataframe tbody tr th:only-of-type {\n",
       "        vertical-align: middle;\n",
       "    }\n",
       "\n",
       "    .dataframe tbody tr th {\n",
       "        vertical-align: top;\n",
       "    }\n",
       "\n",
       "    .dataframe thead th {\n",
       "        text-align: right;\n",
       "    }\n",
       "</style>\n",
       "<table border=\"1\" class=\"dataframe\">\n",
       "  <thead>\n",
       "    <tr style=\"text-align: right;\">\n",
       "      <th></th>\n",
       "      <th>era.id</th>\n",
       "      <th>elevation</th>\n",
       "      <th>network</th>\n",
       "      <th>longitude</th>\n",
       "      <th>latitude</th>\n",
       "    </tr>\n",
       "  </thead>\n",
       "  <tbody>\n",
       "    <tr>\n",
       "      <th>0</th>\n",
       "      <td>CWOP_F1962</td>\n",
       "      <td>14052.0</td>\n",
       "      <td>CWOP</td>\n",
       "      <td>-105.04200</td>\n",
       "      <td>38.84083</td>\n",
       "    </tr>\n",
       "    <tr>\n",
       "      <th>1</th>\n",
       "      <td>CWOP_E1644</td>\n",
       "      <td>9272.0</td>\n",
       "      <td>CWOP</td>\n",
       "      <td>-106.50984</td>\n",
       "      <td>38.61204</td>\n",
       "    </tr>\n",
       "    <tr>\n",
       "      <th>2</th>\n",
       "      <td>CWOP_C8592</td>\n",
       "      <td>4810.0</td>\n",
       "      <td>CWOP</td>\n",
       "      <td>-104.93083</td>\n",
       "      <td>40.48500</td>\n",
       "    </tr>\n",
       "    <tr>\n",
       "      <th>3</th>\n",
       "      <td>CWOP_C8504</td>\n",
       "      <td>5928.0</td>\n",
       "      <td>CWOP</td>\n",
       "      <td>-110.73033</td>\n",
       "      <td>43.31950</td>\n",
       "    </tr>\n",
       "    <tr>\n",
       "      <th>4</th>\n",
       "      <td>CWOP_D2889</td>\n",
       "      <td>650.0</td>\n",
       "      <td>CWOP</td>\n",
       "      <td>-122.65567</td>\n",
       "      <td>45.38433</td>\n",
       "    </tr>\n",
       "    <tr>\n",
       "      <th>5</th>\n",
       "      <td>CWOP_D5324</td>\n",
       "      <td>31.0</td>\n",
       "      <td>CWOP</td>\n",
       "      <td>-128.12950</td>\n",
       "      <td>51.65450</td>\n",
       "    </tr>\n",
       "    <tr>\n",
       "      <th>6</th>\n",
       "      <td>HADS_WUPO3</td>\n",
       "      <td>4389.0</td>\n",
       "      <td>HADS</td>\n",
       "      <td>-121.68694</td>\n",
       "      <td>43.68250</td>\n",
       "    </tr>\n",
       "    <tr>\n",
       "      <th>7</th>\n",
       "      <td>HADS_HIGC1</td>\n",
       "      <td>5908.0</td>\n",
       "      <td>HADS</td>\n",
       "      <td>-122.49167</td>\n",
       "      <td>41.09167</td>\n",
       "    </tr>\n",
       "    <tr>\n",
       "      <th>8</th>\n",
       "      <td>HADS_HKOW1</td>\n",
       "      <td>14.0</td>\n",
       "      <td>HADS</td>\n",
       "      <td>-124.36444</td>\n",
       "      <td>48.27639</td>\n",
       "    </tr>\n",
       "    <tr>\n",
       "      <th>9</th>\n",
       "      <td>HADS_BURN2</td>\n",
       "      <td>7575.0</td>\n",
       "      <td>HADS</td>\n",
       "      <td>-115.40583</td>\n",
       "      <td>40.65028</td>\n",
       "    </tr>\n",
       "  </tbody>\n",
       "</table>\n",
       "</div>"
      ],
      "text/plain": [
       "       era.id  elevation network  longitude  latitude\n",
       "0  CWOP_F1962    14052.0    CWOP -105.04200  38.84083\n",
       "1  CWOP_E1644     9272.0    CWOP -106.50984  38.61204\n",
       "2  CWOP_C8592     4810.0    CWOP -104.93083  40.48500\n",
       "3  CWOP_C8504     5928.0    CWOP -110.73033  43.31950\n",
       "4  CWOP_D2889      650.0    CWOP -122.65567  45.38433\n",
       "5  CWOP_D5324       31.0    CWOP -128.12950  51.65450\n",
       "6  HADS_WUPO3     4389.0    HADS -121.68694  43.68250\n",
       "7  HADS_HIGC1     5908.0    HADS -122.49167  41.09167\n",
       "8  HADS_HKOW1       14.0    HADS -124.36444  48.27639\n",
       "9  HADS_BURN2     7575.0    HADS -115.40583  40.65028"
      ]
     },
     "execution_count": 7,
     "metadata": {},
     "output_type": "execute_result"
    }
   ],
   "source": [
    "newdf = []\n",
    "for n in networks:\n",
    "    tmp = df[df['network']==n].dropna()\n",
    "    nSample = 6\n",
    "    if len(tmp)<nSample:\n",
    "        nSample = len(tmp)\n",
    "    try:\n",
    "        newdf.append(tmp.sample(nSample))\n",
    "    except:\n",
    "        try:\n",
    "            newdf.append(tmp.sample(nSample))\n",
    "        except:\n",
    "            newdf.append(tmp.sample(nSample))\n",
    "newdf = pd.concat(newdf).reset_index().drop(columns=['index'])\n",
    "newdf.head(10)"
   ]
  },
  {
   "cell_type": "code",
   "execution_count": 8,
   "id": "0e66af20-8327-46ae-9988-a6439c313820",
   "metadata": {
    "execution": {
     "iopub.execute_input": "2023-10-10T17:50:46.905219Z",
     "iopub.status.busy": "2023-10-10T17:50:46.905052Z",
     "iopub.status.idle": "2023-10-10T17:50:46.909068Z",
     "shell.execute_reply": "2023-10-10T17:50:46.908726Z",
     "shell.execute_reply.started": "2023-10-10T17:50:46.905207Z"
    }
   },
   "outputs": [],
   "source": [
    "newdf.to_csv(\"local_training_station.csv\")"
   ]
  },
  {
   "cell_type": "code",
   "execution_count": 9,
   "id": "69b8aee0-5958-460a-9c07-6a0426bde9a4",
   "metadata": {
    "execution": {
     "iopub.execute_input": "2023-10-10T17:50:47.488034Z",
     "iopub.status.busy": "2023-10-10T17:50:47.487809Z",
     "iopub.status.idle": "2023-10-10T17:50:47.490626Z",
     "shell.execute_reply": "2023-10-10T17:50:47.490274Z",
     "shell.execute_reply.started": "2023-10-10T17:50:47.488010Z"
    }
   },
   "outputs": [
    {
     "data": {
      "text/plain": [
       "79"
      ]
     },
     "execution_count": 9,
     "metadata": {},
     "output_type": "execute_result"
    }
   ],
   "source": [
    "len(newdf)"
   ]
  },
  {
   "cell_type": "code",
   "execution_count": 10,
   "id": "f0c1d860-55a7-4c17-99cc-ca4dbb853649",
   "metadata": {
    "execution": {
     "iopub.execute_input": "2023-10-10T17:50:49.109509Z",
     "iopub.status.busy": "2023-10-10T17:50:49.109323Z",
     "iopub.status.idle": "2023-10-10T17:50:49.112221Z",
     "shell.execute_reply": "2023-10-10T17:50:49.111841Z",
     "shell.execute_reply.started": "2023-10-10T17:50:49.109499Z"
    }
   },
   "outputs": [
    {
     "data": {
      "text/plain": [
       "0"
      ]
     },
     "execution_count": 10,
     "metadata": {},
     "output_type": "execute_result"
    }
   ],
   "source": [
    "12%6"
   ]
  },
  {
   "cell_type": "code",
   "execution_count": null,
   "id": "1a2974ee-0f6c-4f77-8335-210b7a01c2a8",
   "metadata": {},
   "outputs": [],
   "source": []
  }
 ],
 "metadata": {
  "kernelspec": {
   "display_name": "era_py39",
   "language": "python",
   "name": "era_py39"
  },
  "language_info": {
   "codemirror_mode": {
    "name": "ipython",
    "version": 3
   },
   "file_extension": ".py",
   "mimetype": "text/x-python",
   "name": "python",
   "nbconvert_exporter": "python",
   "pygments_lexer": "ipython3",
   "version": "3.9.16"
  }
 },
 "nbformat": 4,
 "nbformat_minor": 5
}
