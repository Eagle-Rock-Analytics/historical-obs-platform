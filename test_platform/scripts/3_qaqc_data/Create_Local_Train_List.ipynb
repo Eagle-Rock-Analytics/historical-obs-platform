{
 "cells": [
  {
   "cell_type": "code",
   "execution_count": 1,
   "id": "c0c0d360-55df-4053-a807-7c357de718c6",
   "metadata": {
    "execution": {
     "iopub.execute_input": "2023-10-09T22:23:16.206676Z",
     "iopub.status.busy": "2023-10-09T22:23:16.206063Z",
     "iopub.status.idle": "2023-10-09T22:23:17.623119Z",
     "shell.execute_reply": "2023-10-09T22:23:17.622775Z",
     "shell.execute_reply.started": "2023-10-09T22:23:16.206646Z"
    }
   },
   "outputs": [],
   "source": [
    "import os\n",
    "import datetime\n",
    "import pandas as pd\n",
    "import xarray as xr\n",
    "import boto3\n",
    "import s3fs\n",
    "from io import BytesIO, StringIO\n",
    "\n",
    "## Import qaqc stage calc functions\n",
    "try:\n",
    "    from calc_qaqc import *\n",
    "except:\n",
    "    print(\"Error importing calc_qaqc.py\")"
   ]
  },
  {
   "cell_type": "code",
   "execution_count": 2,
   "id": "1dcb4edf-bb7d-4184-831b-c222d49cfe45",
   "metadata": {
    "execution": {
     "iopub.execute_input": "2023-10-09T22:23:17.624115Z",
     "iopub.status.busy": "2023-10-09T22:23:17.623880Z",
     "iopub.status.idle": "2023-10-09T22:23:17.632581Z",
     "shell.execute_reply": "2023-10-09T22:23:17.632337Z",
     "shell.execute_reply.started": "2023-10-09T22:23:17.624106Z"
    }
   },
   "outputs": [
    {
     "data": {
      "text/html": [
       "<div>\n",
       "<style scoped>\n",
       "    .dataframe tbody tr th:only-of-type {\n",
       "        vertical-align: middle;\n",
       "    }\n",
       "\n",
       "    .dataframe tbody tr th {\n",
       "        vertical-align: top;\n",
       "    }\n",
       "\n",
       "    .dataframe thead th {\n",
       "        text-align: right;\n",
       "    }\n",
       "</style>\n",
       "<table border=\"1\" class=\"dataframe\">\n",
       "  <thead>\n",
       "    <tr style=\"text-align: right;\">\n",
       "      <th></th>\n",
       "      <th>era.id</th>\n",
       "      <th>elevation</th>\n",
       "      <th>network</th>\n",
       "      <th>longitude</th>\n",
       "      <th>latitude</th>\n",
       "    </tr>\n",
       "  </thead>\n",
       "  <tbody>\n",
       "    <tr>\n",
       "      <th>0</th>\n",
       "      <td>HADS_WATC1</td>\n",
       "      <td>5760.000</td>\n",
       "      <td>HADS</td>\n",
       "      <td>-118.483890</td>\n",
       "      <td>35.072220</td>\n",
       "    </tr>\n",
       "    <tr>\n",
       "      <th>1</th>\n",
       "      <td>ASOSAWOS_72389523149</td>\n",
       "      <td>36.029</td>\n",
       "      <td>ASOSAWOS</td>\n",
       "      <td>-119.063000</td>\n",
       "      <td>36.029000</td>\n",
       "    </tr>\n",
       "    <tr>\n",
       "      <th>2</th>\n",
       "      <td>CIMIS_233</td>\n",
       "      <td>2479.000</td>\n",
       "      <td>CIMIS</td>\n",
       "      <td>-116.213508</td>\n",
       "      <td>34.138104</td>\n",
       "    </tr>\n",
       "    <tr>\n",
       "      <th>3</th>\n",
       "      <td>SNOTEL_455</td>\n",
       "      <td>8302.000</td>\n",
       "      <td>SNOTEL</td>\n",
       "      <td>-111.537700</td>\n",
       "      <td>41.412890</td>\n",
       "    </tr>\n",
       "    <tr>\n",
       "      <th>4</th>\n",
       "      <td>ASOSAWOS_72295603167</td>\n",
       "      <td>16.764</td>\n",
       "      <td>ASOSAWOS</td>\n",
       "      <td>-118.333000</td>\n",
       "      <td>33.924000</td>\n",
       "    </tr>\n",
       "  </tbody>\n",
       "</table>\n",
       "</div>"
      ],
      "text/plain": [
       "                 era.id  elevation   network   longitude   latitude\n",
       "0            HADS_WATC1   5760.000      HADS -118.483890  35.072220\n",
       "1  ASOSAWOS_72389523149     36.029  ASOSAWOS -119.063000  36.029000\n",
       "2             CIMIS_233   2479.000     CIMIS -116.213508  34.138104\n",
       "3            SNOTEL_455   8302.000    SNOTEL -111.537700  41.412890\n",
       "4  ASOSAWOS_72295603167     16.764  ASOSAWOS -118.333000  33.924000"
      ]
     },
     "execution_count": 2,
     "metadata": {},
     "output_type": "execute_result"
    }
   ],
   "source": [
    "df = pd.read_csv(\"qaqc_training_station_list.csv\")\n",
    "df = df.sample(n=len(df)).reset_index().drop(columns=['index'])\n",
    "df.head(5)"
   ]
  },
  {
   "cell_type": "code",
   "execution_count": 3,
   "id": "1ace4c77-c3cb-4ad4-b655-ad06e85bdc60",
   "metadata": {
    "execution": {
     "iopub.execute_input": "2023-10-09T22:23:17.632987Z",
     "iopub.status.busy": "2023-10-09T22:23:17.632915Z",
     "iopub.status.idle": "2023-10-09T22:23:17.635189Z",
     "shell.execute_reply": "2023-10-09T22:23:17.634948Z",
     "shell.execute_reply.started": "2023-10-09T22:23:17.632980Z"
    }
   },
   "outputs": [
    {
     "data": {
      "text/plain": [
       "18"
      ]
     },
     "execution_count": 3,
     "metadata": {},
     "output_type": "execute_result"
    }
   ],
   "source": [
    "networks = list(df['network'].unique())\n",
    "len(networks)"
   ]
  },
  {
   "cell_type": "code",
   "execution_count": 4,
   "id": "6cbad5ef-1352-4dba-a7d5-de474a267ce9",
   "metadata": {
    "execution": {
     "iopub.execute_input": "2023-10-09T22:23:17.636161Z",
     "iopub.status.busy": "2023-10-09T22:23:17.636077Z",
     "iopub.status.idle": "2023-10-09T22:23:17.649029Z",
     "shell.execute_reply": "2023-10-09T22:23:17.648772Z",
     "shell.execute_reply.started": "2023-10-09T22:23:17.636154Z"
    }
   },
   "outputs": [
    {
     "data": {
      "text/html": [
       "<div>\n",
       "<style scoped>\n",
       "    .dataframe tbody tr th:only-of-type {\n",
       "        vertical-align: middle;\n",
       "    }\n",
       "\n",
       "    .dataframe tbody tr th {\n",
       "        vertical-align: top;\n",
       "    }\n",
       "\n",
       "    .dataframe thead th {\n",
       "        text-align: right;\n",
       "    }\n",
       "</style>\n",
       "<table border=\"1\" class=\"dataframe\">\n",
       "  <thead>\n",
       "    <tr style=\"text-align: right;\">\n",
       "      <th></th>\n",
       "      <th>era.id</th>\n",
       "      <th>elevation</th>\n",
       "      <th>network</th>\n",
       "      <th>longitude</th>\n",
       "      <th>latitude</th>\n",
       "    </tr>\n",
       "  </thead>\n",
       "  <tbody>\n",
       "    <tr>\n",
       "      <th>0</th>\n",
       "      <td>HADS_RKCW1</td>\n",
       "      <td>1445.0000</td>\n",
       "      <td>HADS</td>\n",
       "      <td>-123.39917</td>\n",
       "      <td>46.52806</td>\n",
       "    </tr>\n",
       "    <tr>\n",
       "      <th>1</th>\n",
       "      <td>HADS_USCM8</td>\n",
       "      <td>4434.0000</td>\n",
       "      <td>HADS</td>\n",
       "      <td>-111.09333</td>\n",
       "      <td>48.89389</td>\n",
       "    </tr>\n",
       "    <tr>\n",
       "      <th>2</th>\n",
       "      <td>HADS_YRSC2</td>\n",
       "      <td>7880.0000</td>\n",
       "      <td>HADS</td>\n",
       "      <td>-106.91167</td>\n",
       "      <td>40.15333</td>\n",
       "    </tr>\n",
       "    <tr>\n",
       "      <th>3</th>\n",
       "      <td>ASOSAWOS_72690424231</td>\n",
       "      <td>153.0096</td>\n",
       "      <td>ASOSAWOS</td>\n",
       "      <td>-123.35800</td>\n",
       "      <td>43.23400</td>\n",
       "    </tr>\n",
       "    <tr>\n",
       "      <th>4</th>\n",
       "      <td>ASOSAWOS_72476793069</td>\n",
       "      <td>1799.2344</td>\n",
       "      <td>ASOSAWOS</td>\n",
       "      <td>-108.62600</td>\n",
       "      <td>37.30700</td>\n",
       "    </tr>\n",
       "  </tbody>\n",
       "</table>\n",
       "</div>"
      ],
      "text/plain": [
       "                 era.id  elevation   network  longitude  latitude\n",
       "0            HADS_RKCW1  1445.0000      HADS -123.39917  46.52806\n",
       "1            HADS_USCM8  4434.0000      HADS -111.09333  48.89389\n",
       "2            HADS_YRSC2  7880.0000      HADS -106.91167  40.15333\n",
       "3  ASOSAWOS_72690424231   153.0096  ASOSAWOS -123.35800  43.23400\n",
       "4  ASOSAWOS_72476793069  1799.2344  ASOSAWOS -108.62600  37.30700"
      ]
     },
     "execution_count": 4,
     "metadata": {},
     "output_type": "execute_result"
    }
   ],
   "source": [
    "newdf = []\n",
    "for n in networks:\n",
    "    tmp = df[df['network']==n].dropna()\n",
    "    try:\n",
    "        newdf.append(tmp.sample(3))\n",
    "    except:\n",
    "        try:\n",
    "            newdf.append(tmp.sample(2))\n",
    "        except:\n",
    "            newdf.append(tmp.sample(1))\n",
    "newdf = pd.concat(newdf).reset_index().drop(columns=['index'])\n",
    "newdf.head(5)"
   ]
  },
  {
   "cell_type": "code",
   "execution_count": 43,
   "id": "0e66af20-8327-46ae-9988-a6439c313820",
   "metadata": {
    "execution": {
     "iopub.execute_input": "2023-10-09T17:12:18.671671Z",
     "iopub.status.busy": "2023-10-09T17:12:18.671048Z",
     "iopub.status.idle": "2023-10-09T17:12:18.682163Z",
     "shell.execute_reply": "2023-10-09T17:12:18.681539Z",
     "shell.execute_reply.started": "2023-10-09T17:12:18.671640Z"
    }
   },
   "outputs": [],
   "source": [
    "newdf.to_csv(\"local_training_station.csv\")"
   ]
  },
  {
   "cell_type": "code",
   "execution_count": 44,
   "id": "69b8aee0-5958-460a-9c07-6a0426bde9a4",
   "metadata": {
    "execution": {
     "iopub.execute_input": "2023-10-09T17:12:58.069407Z",
     "iopub.status.busy": "2023-10-09T17:12:58.068790Z",
     "iopub.status.idle": "2023-10-09T17:12:58.075321Z",
     "shell.execute_reply": "2023-10-09T17:12:58.074618Z",
     "shell.execute_reply.started": "2023-10-09T17:12:58.069376Z"
    }
   },
   "outputs": [
    {
     "data": {
      "text/plain": [
       "46"
      ]
     },
     "execution_count": 44,
     "metadata": {},
     "output_type": "execute_result"
    }
   ],
   "source": [
    "len(newdf)"
   ]
  },
  {
   "cell_type": "code",
   "execution_count": null,
   "id": "f0c1d860-55a7-4c17-99cc-ca4dbb853649",
   "metadata": {},
   "outputs": [],
   "source": []
  }
 ],
 "metadata": {
  "kernelspec": {
   "display_name": "era_py39",
   "language": "python",
   "name": "era_py39"
  },
  "language_info": {
   "codemirror_mode": {
    "name": "ipython",
    "version": 3
   },
   "file_extension": ".py",
   "mimetype": "text/x-python",
   "name": "python",
   "nbconvert_exporter": "python",
   "pygments_lexer": "ipython3",
   "version": "3.9.16"
  }
 },
 "nbformat": 4,
 "nbformat_minor": 5
}
