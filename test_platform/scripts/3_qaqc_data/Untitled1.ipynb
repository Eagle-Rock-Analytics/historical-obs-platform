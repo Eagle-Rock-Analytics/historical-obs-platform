{
 "cells": [
  {
   "cell_type": "code",
   "execution_count": 85,
   "id": "34ee81eb",
   "metadata": {},
   "outputs": [],
   "source": [
    "import pandas as pd\n",
    "import numpy as np\n",
    "import xarray as xr\n",
    "\n",
    "import scipy.stats as stats\n",
    "import matplotlib.pyplot as plt"
   ]
  },
  {
   "cell_type": "code",
   "execution_count": 2,
   "id": "d828f554",
   "metadata": {},
   "outputs": [
    {
     "data": {
      "text/html": [
       "<div>\n",
       "<style scoped>\n",
       "    .dataframe tbody tr th:only-of-type {\n",
       "        vertical-align: middle;\n",
       "    }\n",
       "\n",
       "    .dataframe tbody tr th {\n",
       "        vertical-align: top;\n",
       "    }\n",
       "\n",
       "    .dataframe thead th {\n",
       "        text-align: right;\n",
       "    }\n",
       "</style>\n",
       "<table border=\"1\" class=\"dataframe\">\n",
       "  <thead>\n",
       "    <tr style=\"text-align: right;\">\n",
       "      <th></th>\n",
       "      <th>station</th>\n",
       "      <th>time</th>\n",
       "      <th>tas</th>\n",
       "      <th>hurs</th>\n",
       "      <th>sfcWind</th>\n",
       "      <th>sfcWind_dir</th>\n",
       "      <th>ps_altimeter</th>\n",
       "      <th>tas_qc</th>\n",
       "      <th>sfcWind_qc</th>\n",
       "      <th>tdps_derived</th>\n",
       "      <th>ps_derived</th>\n",
       "      <th>elevation</th>\n",
       "      <th>lat</th>\n",
       "      <th>lon</th>\n",
       "      <th>month</th>\n",
       "    </tr>\n",
       "  </thead>\n",
       "  <tbody>\n",
       "    <tr>\n",
       "      <th>0</th>\n",
       "      <td>CWOP_AP153</td>\n",
       "      <td>2003-09-16 16:30:00</td>\n",
       "      <td>283.16</td>\n",
       "      <td>53.0</td>\n",
       "      <td>0.00</td>\n",
       "      <td>289.0</td>\n",
       "      <td>NaN</td>\n",
       "      <td>nan</td>\n",
       "      <td>nan</td>\n",
       "      <td>273.93</td>\n",
       "      <td>NaN</td>\n",
       "      <td>1406.0424</td>\n",
       "      <td>41.543</td>\n",
       "      <td>-120.5332</td>\n",
       "      <td>9</td>\n",
       "    </tr>\n",
       "    <tr>\n",
       "      <th>1</th>\n",
       "      <td>CWOP_AP153</td>\n",
       "      <td>2003-09-16 17:00:00</td>\n",
       "      <td>284.83</td>\n",
       "      <td>44.0</td>\n",
       "      <td>0.90</td>\n",
       "      <td>263.0</td>\n",
       "      <td>NaN</td>\n",
       "      <td>nan</td>\n",
       "      <td>nan</td>\n",
       "      <td>272.88</td>\n",
       "      <td>NaN</td>\n",
       "      <td>1406.0424</td>\n",
       "      <td>41.543</td>\n",
       "      <td>-120.5332</td>\n",
       "      <td>9</td>\n",
       "    </tr>\n",
       "    <tr>\n",
       "      <th>2</th>\n",
       "      <td>CWOP_AP153</td>\n",
       "      <td>2003-09-16 17:30:00</td>\n",
       "      <td>287.05</td>\n",
       "      <td>39.0</td>\n",
       "      <td>5.36</td>\n",
       "      <td>305.0</td>\n",
       "      <td>NaN</td>\n",
       "      <td>nan</td>\n",
       "      <td>nan</td>\n",
       "      <td>273.22</td>\n",
       "      <td>NaN</td>\n",
       "      <td>1406.0424</td>\n",
       "      <td>41.543</td>\n",
       "      <td>-120.5332</td>\n",
       "      <td>9</td>\n",
       "    </tr>\n",
       "    <tr>\n",
       "      <th>3</th>\n",
       "      <td>CWOP_AP153</td>\n",
       "      <td>2003-09-16 18:00:00</td>\n",
       "      <td>287.61</td>\n",
       "      <td>37.0</td>\n",
       "      <td>4.47</td>\n",
       "      <td>296.0</td>\n",
       "      <td>NaN</td>\n",
       "      <td>nan</td>\n",
       "      <td>nan</td>\n",
       "      <td>273.00</td>\n",
       "      <td>NaN</td>\n",
       "      <td>1406.0424</td>\n",
       "      <td>41.543</td>\n",
       "      <td>-120.5332</td>\n",
       "      <td>9</td>\n",
       "    </tr>\n",
       "    <tr>\n",
       "      <th>4</th>\n",
       "      <td>CWOP_AP153</td>\n",
       "      <td>2003-09-16 18:30:00</td>\n",
       "      <td>288.72</td>\n",
       "      <td>35.0</td>\n",
       "      <td>3.13</td>\n",
       "      <td>254.0</td>\n",
       "      <td>NaN</td>\n",
       "      <td>nan</td>\n",
       "      <td>nan</td>\n",
       "      <td>273.22</td>\n",
       "      <td>NaN</td>\n",
       "      <td>1406.0424</td>\n",
       "      <td>41.543</td>\n",
       "      <td>-120.5332</td>\n",
       "      <td>9</td>\n",
       "    </tr>\n",
       "    <tr>\n",
       "      <th>...</th>\n",
       "      <td>...</td>\n",
       "      <td>...</td>\n",
       "      <td>...</td>\n",
       "      <td>...</td>\n",
       "      <td>...</td>\n",
       "      <td>...</td>\n",
       "      <td>...</td>\n",
       "      <td>...</td>\n",
       "      <td>...</td>\n",
       "      <td>...</td>\n",
       "      <td>...</td>\n",
       "      <td>...</td>\n",
       "      <td>...</td>\n",
       "      <td>...</td>\n",
       "      <td>...</td>\n",
       "    </tr>\n",
       "    <tr>\n",
       "      <th>8930</th>\n",
       "      <td>CWOP_AP153</td>\n",
       "      <td>2005-03-08 18:00:00</td>\n",
       "      <td>281.49</td>\n",
       "      <td>66.0</td>\n",
       "      <td>0.00</td>\n",
       "      <td>247.0</td>\n",
       "      <td>86725.20</td>\n",
       "      <td>nan</td>\n",
       "      <td>nan</td>\n",
       "      <td>275.44</td>\n",
       "      <td>73203.68</td>\n",
       "      <td>1406.0424</td>\n",
       "      <td>41.543</td>\n",
       "      <td>-120.5332</td>\n",
       "      <td>3</td>\n",
       "    </tr>\n",
       "    <tr>\n",
       "      <th>8931</th>\n",
       "      <td>CWOP_AP153</td>\n",
       "      <td>2005-03-08 18:15:00</td>\n",
       "      <td>282.61</td>\n",
       "      <td>62.0</td>\n",
       "      <td>0.00</td>\n",
       "      <td>342.0</td>\n",
       "      <td>86725.20</td>\n",
       "      <td>nan</td>\n",
       "      <td>nan</td>\n",
       "      <td>275.62</td>\n",
       "      <td>73203.68</td>\n",
       "      <td>1406.0424</td>\n",
       "      <td>41.543</td>\n",
       "      <td>-120.5332</td>\n",
       "      <td>3</td>\n",
       "    </tr>\n",
       "    <tr>\n",
       "      <th>8932</th>\n",
       "      <td>CWOP_AP153</td>\n",
       "      <td>2005-03-08 18:30:00</td>\n",
       "      <td>283.72</td>\n",
       "      <td>60.0</td>\n",
       "      <td>0.00</td>\n",
       "      <td>224.0</td>\n",
       "      <td>86725.20</td>\n",
       "      <td>nan</td>\n",
       "      <td>nan</td>\n",
       "      <td>276.20</td>\n",
       "      <td>73203.68</td>\n",
       "      <td>1406.0424</td>\n",
       "      <td>41.543</td>\n",
       "      <td>-120.5332</td>\n",
       "      <td>3</td>\n",
       "    </tr>\n",
       "    <tr>\n",
       "      <th>8933</th>\n",
       "      <td>CWOP_AP153</td>\n",
       "      <td>2005-03-08 20:15:00</td>\n",
       "      <td>290.38</td>\n",
       "      <td>35.0</td>\n",
       "      <td>0.90</td>\n",
       "      <td>349.0</td>\n",
       "      <td>86639.45</td>\n",
       "      <td>nan</td>\n",
       "      <td>nan</td>\n",
       "      <td>274.70</td>\n",
       "      <td>73131.30</td>\n",
       "      <td>1406.0424</td>\n",
       "      <td>41.543</td>\n",
       "      <td>-120.5332</td>\n",
       "      <td>3</td>\n",
       "    </tr>\n",
       "    <tr>\n",
       "      <th>8934</th>\n",
       "      <td>CWOP_AP153</td>\n",
       "      <td>2005-03-08 20:30:00</td>\n",
       "      <td>290.94</td>\n",
       "      <td>36.0</td>\n",
       "      <td>0.00</td>\n",
       "      <td>269.0</td>\n",
       "      <td>86610.86</td>\n",
       "      <td>nan</td>\n",
       "      <td>nan</td>\n",
       "      <td>275.59</td>\n",
       "      <td>73107.17</td>\n",
       "      <td>1406.0424</td>\n",
       "      <td>41.543</td>\n",
       "      <td>-120.5332</td>\n",
       "      <td>3</td>\n",
       "    </tr>\n",
       "  </tbody>\n",
       "</table>\n",
       "<p>8935 rows × 15 columns</p>\n",
       "</div>"
      ],
      "text/plain": [
       "         station                time     tas  hurs  sfcWind  sfcWind_dir  \\\n",
       "0     CWOP_AP153 2003-09-16 16:30:00  283.16  53.0     0.00        289.0   \n",
       "1     CWOP_AP153 2003-09-16 17:00:00  284.83  44.0     0.90        263.0   \n",
       "2     CWOP_AP153 2003-09-16 17:30:00  287.05  39.0     5.36        305.0   \n",
       "3     CWOP_AP153 2003-09-16 18:00:00  287.61  37.0     4.47        296.0   \n",
       "4     CWOP_AP153 2003-09-16 18:30:00  288.72  35.0     3.13        254.0   \n",
       "...          ...                 ...     ...   ...      ...          ...   \n",
       "8930  CWOP_AP153 2005-03-08 18:00:00  281.49  66.0     0.00        247.0   \n",
       "8931  CWOP_AP153 2005-03-08 18:15:00  282.61  62.0     0.00        342.0   \n",
       "8932  CWOP_AP153 2005-03-08 18:30:00  283.72  60.0     0.00        224.0   \n",
       "8933  CWOP_AP153 2005-03-08 20:15:00  290.38  35.0     0.90        349.0   \n",
       "8934  CWOP_AP153 2005-03-08 20:30:00  290.94  36.0     0.00        269.0   \n",
       "\n",
       "      ps_altimeter tas_qc sfcWind_qc  tdps_derived  ps_derived  elevation  \\\n",
       "0              NaN    nan        nan        273.93         NaN  1406.0424   \n",
       "1              NaN    nan        nan        272.88         NaN  1406.0424   \n",
       "2              NaN    nan        nan        273.22         NaN  1406.0424   \n",
       "3              NaN    nan        nan        273.00         NaN  1406.0424   \n",
       "4              NaN    nan        nan        273.22         NaN  1406.0424   \n",
       "...            ...    ...        ...           ...         ...        ...   \n",
       "8930      86725.20    nan        nan        275.44    73203.68  1406.0424   \n",
       "8931      86725.20    nan        nan        275.62    73203.68  1406.0424   \n",
       "8932      86725.20    nan        nan        276.20    73203.68  1406.0424   \n",
       "8933      86639.45    nan        nan        274.70    73131.30  1406.0424   \n",
       "8934      86610.86    nan        nan        275.59    73107.17  1406.0424   \n",
       "\n",
       "         lat       lon  month  \n",
       "0     41.543 -120.5332      9  \n",
       "1     41.543 -120.5332      9  \n",
       "2     41.543 -120.5332      9  \n",
       "3     41.543 -120.5332      9  \n",
       "4     41.543 -120.5332      9  \n",
       "...      ...       ...    ...  \n",
       "8930  41.543 -120.5332      3  \n",
       "8931  41.543 -120.5332      3  \n",
       "8932  41.543 -120.5332      3  \n",
       "8933  41.543 -120.5332      3  \n",
       "8934  41.543 -120.5332      3  \n",
       "\n",
       "[8935 rows x 15 columns]"
      ]
     },
     "execution_count": 2,
     "metadata": {},
     "output_type": "execute_result"
    }
   ],
   "source": [
    "file = xr.open_dataset('/Users/victoriaford/Downloads/CWOP_AP153.nc')\n",
    "df = file.to_dataframe()\n",
    "df = df.reset_index()\n",
    "df['month'] = pd.to_datetime(df['time']).dt.month\n",
    "\n",
    "df"
   ]
  },
  {
   "cell_type": "code",
   "execution_count": 3,
   "id": "369d3985",
   "metadata": {},
   "outputs": [],
   "source": [
    "# first part\n",
    "# works on monthly level\n",
    "# compares anomalies of monthly median values\n",
    "# standardizes against IQR range and compares from middle of distribution outwards\n",
    "# assymmetries are flagged if severe"
   ]
  },
  {
   "cell_type": "code",
   "execution_count": null,
   "id": "a9d09113",
   "metadata": {},
   "outputs": [],
   "source": []
  },
  {
   "cell_type": "code",
   "execution_count": null,
   "id": "72e385da",
   "metadata": {},
   "outputs": [],
   "source": [
    "# second part\n",
    "# compares all obs within calendar month (all Jans, etc.)\n",
    "# histogram created from all obs and gaussian distribution is fitted\n",
    "# threshold values are determined by using positions of where fitted frequency falls below y=0.1\n",
    "# and rounding outwards until next integer plus 1\n",
    "# going outwards from center, distribution scanned for gaps which occur beyond threshold\n",
    "# obs beyond gap are flagged\n",
    "\n",
    "# now uses guassian-hermite series\n"
   ]
  },
  {
   "cell_type": "code",
   "execution_count": 57,
   "id": "e95db7f6",
   "metadata": {},
   "outputs": [],
   "source": [
    "var = 'tas'\n",
    "df_month = df.loc[df['month'] == 4]"
   ]
  },
  {
   "cell_type": "code",
   "execution_count": 71,
   "id": "e385cf2b",
   "metadata": {
    "scrolled": false
   },
   "outputs": [
    {
     "data": {
      "text/plain": [
       "[<matplotlib.lines.Line2D at 0x134f428d0>]"
      ]
     },
     "execution_count": 71,
     "metadata": {},
     "output_type": "execute_result"
    },
    {
     "data": {
      "image/png": "[encoded data removed]",
      "text/plain": [
       "<Figure size 640x480 with 1 Axes>"
      ]
     },
     "metadata": {},
     "output_type": "display_data"
    }
   ],
   "source": [
    "num_bins = int(df_month[var].max()) + 1 - int(df_month[var].min())\n",
    "# num_bins = 10\n",
    "mu, std = norm.fit(df_month[var].dropna()) \n",
    "plt.hist(df_month[var], bins=num_bins, density=True, alpha=0.3) # Plot the histogram.\n",
    "xmin, xmax = plt.xlim()\n",
    "\n",
    "x = np.linspace(xmin, xmax, num_bins)\n",
    "p = norm.pdf(x, mu, std)\n",
    "plt.plot(x, p, 'k') # Plot the PDF."
   ]
  },
  {
   "cell_type": "code",
   "execution_count": 84,
   "id": "6ce2fcfe",
   "metadata": {},
   "outputs": [
    {
     "data": {
      "text/plain": [
       "2516    277.05\n",
       "2517    277.61\n",
       "2518    277.61\n",
       "2519    278.16\n",
       "2520    278.16\n",
       "         ...  \n",
       "3118    296.49\n",
       "3119    295.94\n",
       "3120    296.49\n",
       "3121    297.05\n",
       "3122    297.05\n",
       "Name: tas, Length: 607, dtype: float64"
      ]
     },
     "execution_count": 84,
     "metadata": {},
     "output_type": "execute_result"
    }
   ],
   "source": [
    "df_month[var]"
   ]
  },
  {
   "cell_type": "code",
   "execution_count": 88,
   "id": "dbeebe01",
   "metadata": {},
   "outputs": [],
   "source": [
    "kernel = stats.gaussian_kde(df_month[var])"
   ]
  },
  {
   "cell_type": "code",
   "execution_count": 93,
   "id": "07a9b901",
   "metadata": {},
   "outputs": [
    {
     "data": {
      "text/plain": [
       "array([1.52269813e-08, 2.65110037e-07, 3.02123935e-06, 2.25580501e-05,\n",
       "       1.10574329e-04, 3.58117653e-04, 7.85389741e-04, 1.27921283e-03,\n",
       "       1.97541239e-03, 3.58156483e-03, 6.57023968e-03, 1.02726553e-02,\n",
       "       1.38170383e-02, 1.74164929e-02, 2.13145006e-02, 2.45412861e-02,\n",
       "       2.65551874e-02, 2.86068631e-02, 3.21199442e-02, 3.72573695e-02,\n",
       "       4.32849741e-02, 4.90787075e-02, 5.35208073e-02, 5.63030607e-02,\n",
       "       5.79134771e-02, 5.79646021e-02, 5.45821974e-02, 4.71821262e-02,\n",
       "       3.86148385e-02, 3.23308626e-02, 2.86915343e-02, 2.54703462e-02,\n",
       "       2.05666710e-02, 1.38238739e-02, 7.17295738e-03, 2.71185144e-03,\n",
       "       7.18506971e-04, 1.30256373e-04, 1.59296645e-05, 1.30307345e-06,\n",
       "       7.09228876e-08, 2.55931933e-09, 6.10764876e-11, 9.61989200e-13,\n",
       "       9.98380855e-15, 6.81764011e-17, 3.05941740e-19, 9.01209150e-22,\n",
       "       1.74085860e-24, 2.20328413e-27])"
      ]
     },
     "execution_count": 93,
     "metadata": {},
     "output_type": "execute_result"
    }
   ],
   "source": [
    "kernel(np.linspace(260,320))"
   ]
  },
  {
   "cell_type": "code",
   "execution_count": 94,
   "id": "3b30eba5",
   "metadata": {},
   "outputs": [
    {
     "data": {
      "text/plain": [
       "0.00657023968"
      ]
     },
     "execution_count": 94,
     "metadata": {},
     "output_type": "execute_result"
    }
   ],
   "source": [
    "6.57023968e-03"
   ]
  },
  {
   "cell_type": "code",
   "execution_count": 95,
   "id": "9142a57e",
   "metadata": {},
   "outputs": [
    {
     "data": {
      "text/plain": [
       "0.0102726553"
      ]
     },
     "execution_count": 95,
     "metadata": {},
     "output_type": "execute_result"
    }
   ],
   "source": [
    "1.02726553e-02"
   ]
  },
  {
   "cell_type": "code",
   "execution_count": 83,
   "id": "429d0266",
   "metadata": {},
   "outputs": [
    {
     "data": {
      "image/png": "[encoded data removed]",
      "text/plain": [
       "<Figure size 640x480 with 1 Axes>"
      ]
     },
     "metadata": {},
     "output_type": "display_data"
    }
   ],
   "source": [
    "# df_month[var].plot.hist(bins=num_bins, density=True);\n",
    "df_month[var].plot.kde();"
   ]
  },
  {
   "cell_type": "code",
   "execution_count": 25,
   "id": "f352bbdf",
   "metadata": {},
   "outputs": [
    {
     "data": {
      "text/html": [
       "<div>\n",
       "<style scoped>\n",
       "    .dataframe tbody tr th:only-of-type {\n",
       "        vertical-align: middle;\n",
       "    }\n",
       "\n",
       "    .dataframe tbody tr th {\n",
       "        vertical-align: top;\n",
       "    }\n",
       "\n",
       "    .dataframe thead th {\n",
       "        text-align: right;\n",
       "    }\n",
       "</style>\n",
       "<table border=\"1\" class=\"dataframe\">\n",
       "  <thead>\n",
       "    <tr style=\"text-align: right;\">\n",
       "      <th></th>\n",
       "      <th>station</th>\n",
       "      <th>time</th>\n",
       "      <th>tas</th>\n",
       "      <th>hurs</th>\n",
       "      <th>sfcWind</th>\n",
       "      <th>sfcWind_dir</th>\n",
       "      <th>ps_altimeter</th>\n",
       "      <th>tas_qc</th>\n",
       "      <th>sfcWind_qc</th>\n",
       "      <th>tdps_derived</th>\n",
       "      <th>ps_derived</th>\n",
       "      <th>elevation</th>\n",
       "      <th>lat</th>\n",
       "      <th>lon</th>\n",
       "      <th>month</th>\n",
       "    </tr>\n",
       "  </thead>\n",
       "  <tbody>\n",
       "    <tr>\n",
       "      <th>3088</th>\n",
       "      <td>CWOP_AP153</td>\n",
       "      <td>2004-04-30 13:50:00</td>\n",
       "      <td>268.72</td>\n",
       "      <td>69.0</td>\n",
       "      <td>0.0</td>\n",
       "      <td>68.0</td>\n",
       "      <td>86267.85</td>\n",
       "      <td>nan</td>\n",
       "      <td>nan</td>\n",
       "      <td>263.82</td>\n",
       "      <td>72817.64</td>\n",
       "      <td>1406.0424</td>\n",
       "      <td>41.543</td>\n",
       "      <td>-120.5332</td>\n",
       "      <td>4</td>\n",
       "    </tr>\n",
       "    <tr>\n",
       "      <th>3089</th>\n",
       "      <td>CWOP_AP153</td>\n",
       "      <td>2004-04-30 14:00:00</td>\n",
       "      <td>268.72</td>\n",
       "      <td>70.0</td>\n",
       "      <td>0.0</td>\n",
       "      <td>68.0</td>\n",
       "      <td>86267.85</td>\n",
       "      <td>nan</td>\n",
       "      <td>nan</td>\n",
       "      <td>264.01</td>\n",
       "      <td>72817.64</td>\n",
       "      <td>1406.0424</td>\n",
       "      <td>41.543</td>\n",
       "      <td>-120.5332</td>\n",
       "      <td>4</td>\n",
       "    </tr>\n",
       "    <tr>\n",
       "      <th>3090</th>\n",
       "      <td>CWOP_AP153</td>\n",
       "      <td>2004-04-30 14:20:00</td>\n",
       "      <td>269.27</td>\n",
       "      <td>72.0</td>\n",
       "      <td>0.0</td>\n",
       "      <td>68.0</td>\n",
       "      <td>86296.43</td>\n",
       "      <td>nan</td>\n",
       "      <td>nan</td>\n",
       "      <td>264.90</td>\n",
       "      <td>72841.76</td>\n",
       "      <td>1406.0424</td>\n",
       "      <td>41.543</td>\n",
       "      <td>-120.5332</td>\n",
       "      <td>4</td>\n",
       "    </tr>\n",
       "  </tbody>\n",
       "</table>\n",
       "</div>"
      ],
      "text/plain": [
       "         station                time     tas  hurs  sfcWind  sfcWind_dir  \\\n",
       "3088  CWOP_AP153 2004-04-30 13:50:00  268.72  69.0      0.0         68.0   \n",
       "3089  CWOP_AP153 2004-04-30 14:00:00  268.72  70.0      0.0         68.0   \n",
       "3090  CWOP_AP153 2004-04-30 14:20:00  269.27  72.0      0.0         68.0   \n",
       "\n",
       "      ps_altimeter tas_qc sfcWind_qc  tdps_derived  ps_derived  elevation  \\\n",
       "3088      86267.85    nan        nan        263.82    72817.64  1406.0424   \n",
       "3089      86267.85    nan        nan        264.01    72817.64  1406.0424   \n",
       "3090      86296.43    nan        nan        264.90    72841.76  1406.0424   \n",
       "\n",
       "         lat       lon  month  \n",
       "3088  41.543 -120.5332      4  \n",
       "3089  41.543 -120.5332      4  \n",
       "3090  41.543 -120.5332      4  "
      ]
     },
     "execution_count": 25,
     "metadata": {},
     "output_type": "execute_result"
    }
   ],
   "source": [
    "df_month.loc[df_month[var] < 270]"
   ]
  },
  {
   "cell_type": "code",
   "execution_count": null,
   "id": "7eea1371",
   "metadata": {},
   "outputs": [],
   "source": []
  }
 ],
 "metadata": {
  "kernelspec": {
   "display_name": "Python 3 (ipykernel)",
   "language": "python",
   "name": "python3"
  },
  "language_info": {
   "codemirror_mode": {
    "name": "ipython",
    "version": 3
   },
   "file_extension": ".py",
   "mimetype": "text/x-python",
   "name": "python",
   "nbconvert_exporter": "python",
   "pygments_lexer": "ipython3",
   "version": "3.11.4"
  }
 },
 "nbformat": 4,
 "nbformat_minor": 5
}
