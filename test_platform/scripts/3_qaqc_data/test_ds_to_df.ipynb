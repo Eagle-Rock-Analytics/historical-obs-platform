{
 "cells": [
  {
   "cell_type": "code",
   "execution_count": 2,
   "id": "98239a17-f2b0-43f1-a0f3-0e3dabc90857",
   "metadata": {
    "execution": {
     "iopub.execute_input": "2024-09-13T19:33:36.493748Z",
     "iopub.status.busy": "2024-09-13T19:33:36.493368Z",
     "iopub.status.idle": "2024-09-13T19:34:05.457190Z",
     "shell.execute_reply": "2024-09-13T19:34:05.456743Z",
     "shell.execute_reply.started": "2024-09-13T19:33:36.493722Z"
    }
   },
   "outputs": [
    {
     "name": "stdout",
     "output_type": "stream",
     "text": [
      "Filling anemometer_height_m with NaN.\n",
      "Filling thermometer_height_m with NaN.\n"
     ]
    }
   ],
   "source": [
    "import xarray as xr\n",
    "import numpy as np\n",
    "import s3fs\n",
    "from QAQC_pipeline import qaqc_ds_to_df\n",
    "\n",
    "fname = 'CIMIS_45'\n",
    "s3 = s3fs.S3FileSystem(anon=False)\n",
    "network = fname.split('_')[0]\n",
    "s3_url = 's3://wecc-historical-wx/3_qaqc_wx_dev/{}/{}.nc'.format(network, fname)\n",
    "s3_file_obj = s3.open(s3_url, mode='rb')\n",
    "ds = xr.open_dataset(s3_file_obj, engine='h5netcdf')\n",
    "\n",
    "df, MultiIndex, attrs, var_attrs, era_qc_vars = qaqc_ds_to_df(ds)"
   ]
  },
  {
   "cell_type": "code",
   "execution_count": 3,
   "id": "9e6f40dc-b9f5-4cb1-b5ab-8c3fa5a3a36c",
   "metadata": {
    "execution": {
     "iopub.execute_input": "2024-09-13T19:34:05.514512Z",
     "iopub.status.busy": "2024-09-13T19:34:05.514415Z",
     "iopub.status.idle": "2024-09-13T19:34:05.517586Z",
     "shell.execute_reply": "2024-09-13T19:34:05.517156Z",
     "shell.execute_reply.started": "2024-09-13T19:34:05.514501Z"
    }
   },
   "outputs": [
    {
     "data": {
      "text/plain": [
       "Index(['time', 'tas', 'pr', 'hurs', 'rsds', 'sfcWind', 'sfcWind_dir', 'pr_qc',\n",
       "       'rsds_qc', 'pvp_derived_qc', 'tas_qc', 'hurs_qc', 'tdps_derived_qc',\n",
       "       'sfcWind_qc', 'sfcWind_dir_qc', 'elevation', 'tdps_derived',\n",
       "       'pvp_derived', 'lat', 'lon', 'tas_eraqc', 'pr_eraqc', 'hurs_eraqc',\n",
       "       'rsds_eraqc', 'sfcWind_eraqc', 'sfcWind_dir_eraqc', 'elevation_eraqc',\n",
       "       'tdps_derived_eraqc', 'pvp_derived_eraqc', 'anemometer_height_m',\n",
       "       'thermometer_height_m', 'tas_eraqc_eraqc', 'pr_eraqc_eraqc',\n",
       "       'hurs_eraqc_eraqc', 'rsds_eraqc_eraqc', 'sfcWind_eraqc_eraqc',\n",
       "       'sfcWind_dir_eraqc_eraqc', 'elevation_eraqc_eraqc',\n",
       "       'tdps_derived_eraqc_eraqc', 'pvp_derived_eraqc_eraqc',\n",
       "       'anemometer_height_m_eraqc', 'thermometer_height_m_eraqc', 'station',\n",
       "       'hour', 'day', 'month', 'year', 'date'],\n",
       "      dtype='object')"
      ]
     },
     "execution_count": 3,
     "metadata": {},
     "output_type": "execute_result"
    }
   ],
   "source": [
    "df.columns"
   ]
  },
  {
   "cell_type": "code",
   "execution_count": 4,
   "id": "5ed4da18-54a1-451b-8b98-d4b1939ab07f",
   "metadata": {
    "execution": {
     "iopub.execute_input": "2024-09-13T19:34:05.518882Z",
     "iopub.status.busy": "2024-09-13T19:34:05.518717Z",
     "iopub.status.idle": "2024-09-13T19:34:05.522284Z",
     "shell.execute_reply": "2024-09-13T19:34:05.521950Z",
     "shell.execute_reply.started": "2024-09-13T19:34:05.518871Z"
    }
   },
   "outputs": [
    {
     "data": {
      "text/plain": [
       "0       NaN\n",
       "1       NaN\n",
       "2       NaN\n",
       "3       NaN\n",
       "4       NaN\n",
       "         ..\n",
       "26299   NaN\n",
       "26300   NaN\n",
       "26301   NaN\n",
       "26302   NaN\n",
       "26303   NaN\n",
       "Name: anemometer_height_m, Length: 26304, dtype: float64"
      ]
     },
     "execution_count": 4,
     "metadata": {},
     "output_type": "execute_result"
    }
   ],
   "source": [
    "df.anemometer_height_m"
   ]
  },
  {
   "cell_type": "code",
   "execution_count": 5,
   "id": "d90f380d-6d9a-4ef2-8203-4840c0e09a07",
   "metadata": {
    "execution": {
     "iopub.execute_input": "2024-09-13T19:34:05.522953Z",
     "iopub.status.busy": "2024-09-13T19:34:05.522778Z",
     "iopub.status.idle": "2024-09-13T19:34:05.526152Z",
     "shell.execute_reply": "2024-09-13T19:34:05.525479Z",
     "shell.execute_reply.started": "2024-09-13T19:34:05.522921Z"
    }
   },
   "outputs": [
    {
     "data": {
      "text/plain": [
       "0       NaN\n",
       "1       NaN\n",
       "2       NaN\n",
       "3       NaN\n",
       "4       NaN\n",
       "         ..\n",
       "26299   NaN\n",
       "26300   NaN\n",
       "26301   NaN\n",
       "26302   NaN\n",
       "26303   NaN\n",
       "Name: thermometer_height_m, Length: 26304, dtype: float64"
      ]
     },
     "execution_count": 5,
     "metadata": {},
     "output_type": "execute_result"
    }
   ],
   "source": [
    "df.thermometer_height_m"
   ]
  }
 ],
 "metadata": {
  "kernelspec": {
   "display_name": "hist-obs",
   "language": "python",
   "name": "hist-obs"
  },
  "language_info": {
   "codemirror_mode": {
    "name": "ipython",
    "version": 3
   },
   "file_extension": ".py",
   "mimetype": "text/x-python",
   "name": "python",
   "nbconvert_exporter": "python",
   "pygments_lexer": "ipython3",
   "version": "3.9.18"
  }
 },
 "nbformat": 4,
 "nbformat_minor": 5
}
