{
 "cells": [
  {
   "cell_type": "code",
   "execution_count": null,
   "id": "98239a17-f2b0-43f1-a0f3-0e3dabc90857",
   "metadata": {
    "execution": {
     "iopub.execute_input": "2024-09-13T19:33:36.493748Z",
     "iopub.status.busy": "2024-09-13T19:33:36.493368Z"
    }
   },
   "outputs": [],
   "source": [
    "import xarray as xr\n",
    "import numpy as np\n",
    "import s3fs\n",
    "from QAQC_pipeline import qaqc_ds_to_df\n",
    "\n",
    "fname = 'CIMIS_45'\n",
    "s3 = s3fs.S3FileSystem(anon=False)\n",
    "network = fname.split('_')[0]\n",
    "s3_url = 's3://wecc-historical-wx/3_qaqc_wx_dev/{}/{}.nc'.format(network, fname)\n",
    "s3_file_obj = s3.open(s3_url, mode='rb')\n",
    "ds = xr.open_dataset(s3_file_obj, engine='h5netcdf')\n",
    "\n",
    "df, MultiIndex, attrs, var_attrs, era_qc_vars = qaqc_ds_to_df(ds)"
   ]
  },
  {
   "cell_type": "code",
   "execution_count": null,
   "id": "9e6f40dc-b9f5-4cb1-b5ab-8c3fa5a3a36c",
   "metadata": {},
   "outputs": [],
   "source": [
    "df.columns"
   ]
  },
  {
   "cell_type": "code",
   "execution_count": null,
   "id": "5ed4da18-54a1-451b-8b98-d4b1939ab07f",
   "metadata": {},
   "outputs": [],
   "source": [
    "df.anemometer_height_m"
   ]
  },
  {
   "cell_type": "code",
   "execution_count": null,
   "id": "d90f380d-6d9a-4ef2-8203-4840c0e09a07",
   "metadata": {},
   "outputs": [],
   "source": [
    "df.thermometer_height_m"
   ]
  }
 ],
 "metadata": {
  "kernelspec": {
   "display_name": "hist-obs",
   "language": "python",
   "name": "hist-obs"
  },
  "language_info": {
   "codemirror_mode": {
    "name": "ipython",
    "version": 3
   },
   "file_extension": ".py",
   "mimetype": "text/x-python",
   "name": "python",
   "nbconvert_exporter": "python",
   "pygments_lexer": "ipython3",
   "version": "3.9.18"
  }
 },
 "nbformat": 4,
 "nbformat_minor": 5
}
