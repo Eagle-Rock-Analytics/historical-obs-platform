{
 "cells": [
  {
   "cell_type": "markdown",
   "id": "9e5de9e6",
   "metadata": {},
   "source": [
    "# Success Report"
   ]
  },
  {
   "cell_type": "markdown",
   "id": "4103987d",
   "metadata": {},
   "source": [
    "Calculate the following to compile into the HDP QAQC success report:\n",
    "\n",
    "- % of all obs flagged\n",
    "\n",
    "- % of obs per var flagged\n",
    "\n",
    "- % of obs per network flagged\n",
    "\n",
    "- % of flags per QA/QC test\n"
   ]
  },
  {
   "cell_type": "markdown",
   "id": "a509c400",
   "metadata": {},
   "source": [
    "## Environment set-up"
   ]
  },
  {
   "cell_type": "code",
   "execution_count": 1,
   "id": "80c03f57",
   "metadata": {},
   "outputs": [],
   "source": [
    "import datetime\n",
    "import boto3\n",
    "import geopandas as gpd\n",
    "import numpy as np\n",
    "import pandas as pd\n",
    "import xarray as xr\n",
    "import matplotlib.pyplot as plt\n",
    "from io import BytesIO, StringIO\n",
    "\n",
    "# Import qaqc stage calc functions\n",
    "from QAQC_pipeline import  qaqc_ds_to_df\n",
    "\n",
    "# Silence warnings\n",
    "import warnings\n",
    "from shapely.errors import ShapelyDeprecationWarning\n",
    "\n",
    "warnings.filterwarnings(\"ignore\", category=RuntimeWarning)\n",
    "warnings.filterwarnings(\n",
    "    \"ignore\", category=ShapelyDeprecationWarning\n",
    ")  # Warning is raised when creating Point object from coords. Can't figure out why.\n",
    "\n",
    "plt.rcParams[\"figure.dpi\"] = 300"
   ]
  },
  {
   "cell_type": "code",
   "execution_count": 2,
   "id": "f8f13a6e",
   "metadata": {},
   "outputs": [],
   "source": [
    "# AWS credentials\n",
    "s3 = boto3.resource(\"s3\")\n",
    "s3_cl = boto3.client(\"s3\")\n",
    "\n",
    "## AWS buckets\n",
    "bucket = \"wecc-historical-wx\"\n",
    "qaqcdir = \"3_qaqc_wx/\"\n",
    "mergedir = \"4_merge_wx/\""
   ]
  },
  {
   "cell_type": "markdown",
   "id": "18e09b21",
   "metadata": {},
   "source": [
    "## Step 1: Read in all necessary information from log files"
   ]
  },
  {
   "cell_type": "markdown",
   "id": "e16975bc",
   "metadata": {},
   "source": [
    "Read in test log file\n",
    "\n",
    "https://pypi.org/project/aws-log-parser/\n",
    "\n"
   ]
  },
  {
   "cell_type": "code",
   "execution_count": 3,
   "id": "f574ae20",
   "metadata": {},
   "outputs": [],
   "source": [
    "network = \"ASOSAWOS\"\n",
    "log_id = \"69007093217.05-01-2025\"\n",
    "\n",
    "key = \"{}{}/qaqc_logs/qaqc_{}_{}.log\".format(qaqcdir, network, network, log_id)\n",
    "\n",
    "bucket_name = \"wecc-historical-wx\"\n",
    "\n",
    "list_import = s3_cl.get_object(\n",
    "    Bucket=bucket,\n",
    "    Key=key,\n",
    ")"
   ]
  },
  {
   "cell_type": "code",
   "execution_count": null,
   "id": "0520d254",
   "metadata": {},
   "outputs": [],
   "source": [
    "log_file = list_import[\"Body\"].read().decode() #convert to a single string, not what we want\n",
    "# log_file = BytesIO(list_import[\"Body\"].read())\n",
    "# log_file"
   ]
  },
  {
   "cell_type": "code",
   "execution_count": 5,
   "id": "ca0cbe9c",
   "metadata": {},
   "outputs": [
    {
     "data": {
      "text/plain": [
       "\"2025-05-01 19:32:56,861 - INFO - Starting QAQC for station: ASOSAWOS_69007093217\\n\\n2025-05-01 19:32:56,862 - INFO - Reading file from AWS S3...\\n2025-05-01 19:33:07,175 - INFO - Done reading. Ellapsed time: 10.32561731338501 s.\\n\\n2025-05-01 19:33:07,182 - INFO - Running QA/QC on: ASOSAWOS_69007093217\\n\\n2025-05-01 19:33:07,183 - INFO - 8 data variables will proceed through QA/QC.\\n2025-05-01 19:33:07,267 - INFO - Existing observation and QC variables: ['tas', 'tdps', 'pr', 'sfcWind', 'sfcWind_dir', 'elevation', 'qaqc_process', 'ps_qc', 'ps_altimeter', 'ps_altimeter_qc', 'psl', 'psl_qc', 'tas_qc', 'tdps_qc', 'pr_qc', 'pr_duration', 'pr_depth_qc', 'sfcWind_qc', 'sfcWind_method', 'sfcWind_dir_qc']\\n2025-05-01 19:33:07,270 - INFO - nans created for tas_eraqc\\n2025-05-01 19:33:07,275 - INFO - nans created for tdps_eraqc\\n2025-05-01 19:33:07,281 - INFO - nans created for pr_eraqc\\n2025-05-01 19:33:07,286 - INFO - nans created for sfcWind_eraqc\\n2025-05-01 19:33:07,291 - INFO - nans created for sfcWind_dir_eraqc\\n2025-05-01 19:33:07,296 - INFO - nans created for elevation_eraqc\\n2025-05-01 19:33:07,302 - INFO - nans created for ps_altimeter_eraqc\\n2025-05-01 19:33:07,307 - INFO - nans created for psl_eraqc\\n2025-05-01 19:33:07,310 - INFO - Created 8 era_qc variables: ['tas_eraqc', 'tdps_eraqc', 'pr_eraqc', 'sfcWind_eraqc', 'sfcWind_dir_eraqc', 'elevation_eraqc', 'ps_altimeter_eraqc', 'psl_eraqc']\\n2025-05-01 19:33:07,573 - INFO - QA/QC whole station tests\\n2025-05-01 19:33:07,578 - INFO - Running: qaqc_missing_vals\\n2025-05-01 19:33:07,597 - INFO - Updating missing values for: tas\\n2025-05-01 19:33:07,597 - INFO - pass qaqc_missing_vals\\n2025-05-01 19:33:07,597 - INFO - Running: qaqc_missing_latlon\\n2025-05-01 19:33:07,598 - INFO - pass qaqc_missing_latlon\\n2025-05-01 19:33:07,598 - INFO - Running: qaqc_within_wecc\\n2025-05-01 19:33:08,306 - INFO - pass qaqc_within_wecc\\n2025-05-01 19:33:08,306 - INFO - Running: qaqc_elev_infill\\n2025-05-01 19:33:08,306 - INFO - pass qaqc_elev_infill\\n2025-05-01 19:33:08,306 - INFO - Running: qaqc_elev_range\\n2025-05-01 19:33:08,307 - INFO - Elevation values post-infilling/correcting: [41.]\\n2025-05-01 19:33:08,307 - INFO - pass qaqc_elev_range\\n2025-05-01 19:33:08,307 - INFO - Running qaqc_elev_internal_range_consistency\\n2025-05-01 19:33:08,307 - INFO - Only a single elevation value present -- bypassing qaqc_elev_internal_range_consistency check\\n2025-05-01 19:33:08,307 - INFO - pass qaqc_elev_internal_range_consistency\\n2025-05-01 19:33:08,308 - INFO - Running qaqc_pressure_units_fix\\n2025-05-01 19:33:08,309 - INFO - Pressure units on psl updated to be Pa\\n2025-05-01 19:33:08,309 - INFO - pass qaqc_pressure_units_fix\\n2025-05-01 19:33:08,310 - INFO - Running qaqc_deaccumulate_precip on: ['pr']\\n2025-05-01 19:33:08,314 - INFO - Running qaqc_deaccumulate_precip on pr\\n2025-05-01 19:33:08,315 - INFO - qaqc_deaccumulate_precip bypassed: Precip is not accumulated\\n2025-05-01 19:33:08,316 - INFO - pass qaqc_deaccumulate_precip\\n2025-05-01 19:33:08,316 - INFO - Done whole station tests, Ellapsed time: 0.74 s.\\n\\n2025-05-01 19:33:08,316 - INFO - Running: qaqc_world_record\\n2025-05-01 19:33:08,482 - INFO - pass qaqc_world_record\\n2025-05-01 19:33:08,482 - INFO - Done whole station tests, Ellapsed time: 0.91 s.\\n\\n2025-05-01 19:33:08,482 - INFO - QA/QC logic checks\\n2025-05-01 19:33:08,482 - INFO - Running: qaqc_crossvar_logic_tdps_to_tas_supersat\\n2025-05-01 19:33:08,516 - INFO - pass qaqc_crossvar_logic_tdps_to_tas_supersat\\n2025-05-01 19:33:08,517 - INFO - Running: qaqc_crossvar_logic_tdps_to_tas_wetbulb\\n2025-05-01 19:33:09,437 - INFO - pass qaqc_crossvar_logic_tdps_to_tas_wetbulb\\n2025-05-01 19:33:09,438 - INFO - Running: qaqc_precip_logic_nonegvals\\n2025-05-01 19:33:09,440 - INFO - Running qaqc_precip_logic_nonegvals on: ['pr']\\n2025-05-01 19:33:09,473 - INFO - pass qaqc_precip_logic_nonegvals\\n2025-05-01 19:33:09,474 - INFO - Running: qaqc_precip_logic_accum_amounts\\n2025-05-01 19:33:09,474 - INFO - Station does not report multiple precipitation variables - bypassing precip logic accum check\\n2025-05-01 19:33:09,474 - INFO - pass qaqc_precip_logic_accum_amounts\\n2025-05-01 19:33:09,474 - INFO - Running: qaqc_crossvar_logic_calm_wind_dir\\n2025-05-01 19:33:09,515 - INFO - pass qaqc_crossvar_logic_calm_wind_dir\\n2025-05-01 19:33:09,515 - INFO - Done logic checks, Ellapsed time: 1.03 s.\\n\\n2025-05-01 19:33:09,515 - INFO - QA/QC frequent values\\n2025-05-01 19:33:09,515 - INFO - Running: qaqc_frequent_vals\\n2025-05-01 19:33:09,515 - INFO - Running frequent values check on: tas\\n2025-05-01 19:33:09,555 - INFO - No unusually frequent values detected for entire tas observation record\\n2025-05-01 19:33:09,583 - INFO - No unusually frequent values detected for seasonal tas observation record\\n2025-05-01 19:33:09,583 - INFO - Running frequent values check on: tdps\\n2025-05-01 19:33:09,626 - INFO - No unusually frequent values detected for entire tdps observation record\\n2025-05-01 19:33:09,655 - INFO - No unusually frequent values detected for seasonal tdps observation record\\n2025-05-01 19:33:09,655 - INFO - Running frequent values check on: ps_altimeter\\n2025-05-01 19:33:09,693 - INFO - No unusually frequent values detected for entire ps_altimeter observation record\\n2025-05-01 19:33:09,721 - INFO - No unusually frequent values detected for seasonal ps_altimeter observation record\\n2025-05-01 19:33:09,722 - INFO - Running frequent values check on: psl\\n2025-05-01 19:33:09,760 - INFO - No unusually frequent values detected for entire psl observation record\\n2025-05-01 19:33:09,789 - INFO - No unusually frequent values detected for seasonal psl observation record\\n2025-05-01 19:33:09,789 - INFO - Running qaqc_frequent_precip on: pr\\n2025-05-01 19:33:09,853 - INFO - pass qaqc_frequent_vals\\n2025-05-01 19:33:09,853 - INFO - Done QA/QC frequent values, Ellapsed time: 0.34 s.\\n\\n2025-05-01 19:33:09,853 - INFO - QA/QC unusual gaps\\n2025-05-01 19:33:09,855 - INFO - Running qaqc_unusual_gaps on ['tas', 'tdps', 'ps_altimeter', 'psl']\\n2025-05-01 19:33:09,877 - INFO - pass qaqc_unusual_gaps\\n2025-05-01 19:33:09,877 - INFO - Done QA/QC unusual gaps, Ellapsed time: 0.02 s.\\n\\n2025-05-01 19:33:09,877 - INFO - QA/QC climatological outliers\\n2025-05-01 19:33:09,879 - INFO - Running qaqc_climatological_outlier on ['tas', 'tdps', 'pr']\\n2025-05-01 19:33:09,879 - INFO - Checking for climatological outliers in: tas\\n2025-05-01 19:33:10,324 - INFO - Checking for climatological outliers in: tdps\\n2025-05-01 19:33:10,732 - INFO - Checking for climatological outliers in: pr\\n2025-05-01 19:33:10,827 - INFO - pass qaqc_climatological_outlier\\n2025-05-01 19:33:10,827 - INFO - Done QA/QC climatological outliers, Ellapsed time: 0.95 s.\\n\\n2025-05-01 19:33:10,827 - INFO - QA/QC unsual repeated streaks\\n2025-05-01 19:33:10,829 - INFO - Running: qaqc_unusual_repeated_streaks\\n2025-05-01 19:33:10,843 - INFO - Running qaqc_unusual_repeated_streaks on ['tdps', 'psl', 'ps_altimeter', 'sfcWind', 'pr']\\n2025-05-01 19:33:10,843 - INFO - Running unusual streaks check on: tdps\\n2025-05-01 19:33:10,879 - INFO - Running hourly repeats on tdps\\n2025-05-01 19:33:11,201 - INFO - Hourly repeats flagged for tdps. Ellapsed time: 0.32\\n2025-05-01 19:33:11,201 - INFO - Running straight repeats on tdps\\n2025-05-01 19:33:11,269 - INFO - Straight repeats flagged for tdps. Ellapsed time: 0.07\\n2025-05-01 19:33:11,270 - INFO - Running whole day repeats on tdps\\n2025-05-01 19:33:26,546 - INFO - 27 subset plots produced for flagged obs in tdps\\n2025-05-01 19:33:26,547 - INFO - Running unusual streaks check on: psl\\n2025-05-01 19:33:26,582 - INFO - Running hourly repeats on psl\\n2025-05-01 19:33:26,913 - INFO - Hourly repeats flagged for psl. Ellapsed time: 0.33\\n2025-05-01 19:33:26,913 - INFO - Running straight repeats on psl\\n2025-05-01 19:33:26,975 - INFO - Straight repeats flagged for psl. Ellapsed time: 0.06\\n2025-05-01 19:33:26,975 - INFO - Running whole day repeats on psl\\n2025-05-01 19:33:41,552 - INFO - 27 subset plots produced for flagged obs in psl\\n2025-05-01 19:33:41,554 - INFO - Running unusual streaks check on: ps_altimeter\\n2025-05-01 19:33:41,593 - INFO - Running hourly repeats on ps_altimeter\\n2025-05-01 19:33:41,908 - INFO - Hourly repeats flagged for ps_altimeter. Ellapsed time: 0.31\\n2025-05-01 19:33:41,908 - INFO - Running straight repeats on ps_altimeter\\n2025-05-01 19:33:41,971 - INFO - Straight repeats flagged for ps_altimeter. Ellapsed time: 0.06\\n2025-05-01 19:33:41,971 - INFO - Running whole day repeats on ps_altimeter\\n2025-05-01 19:33:57,205 - INFO - 27 subset plots produced for flagged obs in ps_altimeter\\n2025-05-01 19:33:57,205 - INFO - Running unusual streaks check on: sfcWind\\n2025-05-01 19:33:57,249 - INFO - Running hourly repeats on sfcWind\\n2025-05-01 19:33:59,318 - INFO - Running straight repeats on sfcWind\\n2025-05-01 19:33:59,357 - INFO - Running whole day repeats on sfcWind\\n2025-05-01 19:34:00,407 - INFO - 0 subset plots produced for flagged obs in sfcWind\\n2025-05-01 19:34:00,407 - INFO - Running unusual streaks check on: pr\\n2025-05-01 19:34:00,436 - INFO - Running hourly repeats on pr\\n2025-05-01 19:34:00,848 - INFO - Running straight repeats on pr\\n2025-05-01 19:34:00,869 - INFO - Running whole day repeats on pr\\n2025-05-01 19:34:01,102 - INFO - 0 subset plots produced for flagged obs in pr\\n2025-05-01 19:34:01,103 - INFO - pass qaqc_unusual_repeated_streaks\\n2025-05-01 19:34:01,103 - INFO - Done QA/QC unsual repeated streaks, Ellapsed time: 50.28 s.\\n\\n2025-05-01 19:34:01,103 - INFO - QA/QC unsual large jumps\\n2025-05-01 19:34:01,103 - INFO - Running: qaqc_unusual_large_jumps\\n2025-05-01 19:34:01,110 - INFO - Running qaqc_unusual_large_jumps on ['pr', 'tas', 'tdps', 'psl', 'ps_altimeter']\\n2025-05-01 19:34:01,111 - INFO - Running unusual large jumps check on: pr\\n2025-05-01 19:34:01,212 - INFO - Plotting 0 year/month cases\\n2025-05-01 19:34:01,212 - INFO - Running unusual large jumps check on: tas\\n2025-05-01 19:34:01,305 - INFO - Plotting 0 year/month cases\\n2025-05-01 19:34:01,305 - INFO - Running unusual large jumps check on: tdps\\n2025-05-01 19:34:01,325 - INFO - Running unusual large jumps check on: psl\\n2025-05-01 19:34:01,341 - INFO - Running unusual large jumps check on: ps_altimeter\\n2025-05-01 19:34:01,361 - INFO - pass qaqc_unusual_large_jumps\\n2025-05-01 19:34:01,361 - INFO - Done QA/QC unsual large jumps, Ellapsed time: 0.26 s.\\n\\n2025-05-01 19:34:01,361 - INFO - Summary of QA/QC flags set per variable\\n2025-05-01 19:34:01,361 - INFO - Running: flag_summary\\n2025-05-01 19:34:01,362 - INFO - Flags set on tas_eraqc: [nan]\\n2025-05-01 19:34:01,372 - INFO - Coverage of tas_eraqc obs flagged: 0 of 14269 obs (0.0%)\\n2025-05-01 19:34:01,373 - INFO - Flags set on tdps_eraqc: [28.]\\n2025-05-01 19:34:01,386 - INFO - Coverage of tdps_eraqc obs flagged: 14269 of 14269 obs (100.0%)\\n2025-05-01 19:34:01,387 - INFO - Flags set on pr_eraqc: [nan]\\n2025-05-01 19:34:01,392 - INFO - Coverage of pr_eraqc obs flagged: 0 of 14269 obs (0.0%)\\n2025-05-01 19:34:01,393 - INFO - Flags set on sfcWind_eraqc: [nan]\\n2025-05-01 19:34:01,399 - INFO - Coverage of sfcWind_eraqc obs flagged: 0 of 14269 obs (0.0%)\\n2025-05-01 19:34:01,399 - INFO - Flags set on sfcWind_dir_eraqc: [nan]\\n2025-05-01 19:34:01,407 - INFO - Coverage of sfcWind_dir_eraqc obs flagged: 0 of 14269 obs (0.0%)\\n2025-05-01 19:34:01,408 - INFO - Flags set on elevation_eraqc: [nan]\\n2025-05-01 19:34:01,417 - INFO - Coverage of elevation_eraqc obs flagged: 0 of 14269 obs (0.0%)\\n2025-05-01 19:34:01,417 - INFO - Flags set on ps_altimeter_eraqc: [28.]\\n2025-05-01 19:34:01,434 - INFO - Coverage of ps_altimeter_eraqc obs flagged: 14269 of 14269 obs (100.0%)\\n2025-05-01 19:34:01,434 - INFO - Flags set on psl_eraqc: [28.]\\n2025-05-01 19:34:01,450 - INFO - Coverage of psl_eraqc obs flagged: 14269 of 14269 obs (100.0%)\\n2025-05-01 19:34:02,354 - INFO - Flag summary plot produced on: tdps\\n2025-05-01 19:34:03,523 - INFO - Flag summary plot produced on: ps_altimeter\\n2025-05-01 19:34:04,479 - INFO - Flag summary plot produced on: psl\\n2025-05-01 19:34:04,620 - INFO - Saving/pushing ASOSAWOS_69007093217.zarr with dims Frozen({'station': 1, 'time': 14269}) to wecc-historical-wx/3_qaqc_wx/ASOSAWOS/\\n2025-05-01 19:34:20,295 - INFO - Done saving/pushing file to AWS. Ellapsed time: 15.68 s.\\n2025-05-01 19:34:20,296 - INFO - Script complete. Ellapsed time: 83.45 s.\\n\\n2025-05-01 19:34:20,367 - INFO - errors saved to s3://wecc-historical-wx/3_qaqc_wx/ASOSAWOS/qaqc_errs/errors_ASOSAWOS_69007093217_202505011932.csv\\n\\n2025-05-01 19:34:20,368 - INFO - Saving log file to s3://wecc-historical-wx/3_qaqc_wx/ASOSAWOS/qaqc_logs/qaqc_ASOSAWOS_69007093217.05-01-2025.log\\n\\n\""
      ]
     },
     "execution_count": 5,
     "metadata": {},
     "output_type": "execute_result"
    }
   ],
   "source": [
    "log_file"
   ]
  },
  {
   "cell_type": "markdown",
   "id": "d40ab991",
   "metadata": {},
   "source": [
    "Print out lines containing the words \"flag\", \"obs\", and \"total\"."
   ]
  },
  {
   "cell_type": "code",
   "execution_count": 6,
   "id": "9dcda942",
   "metadata": {},
   "outputs": [],
   "source": [
    "for line in log_file:\n",
    "    if \"flag\" in line:\n",
    "        print(line)"
   ]
  },
  {
   "cell_type": "code",
   "execution_count": 11,
   "id": "8402c381",
   "metadata": {},
   "outputs": [
    {
     "data": {
      "text/plain": [
       "{'ResponseMetadata': {'RequestId': 'NKXRE5FQCQ1GA1FG',\n",
       "  'HostId': 'Fk4lNhSHlEd3SoxsRkcg1x/DnVIb0bSBsjZ1tFt72AcA0rsmNhtfqTVJc9KzYfbvdR3rgb6I5xs=',\n",
       "  'HTTPStatusCode': 200,\n",
       "  'HTTPHeaders': {'x-amz-id-2': 'Fk4lNhSHlEd3SoxsRkcg1x/DnVIb0bSBsjZ1tFt72AcA0rsmNhtfqTVJc9KzYfbvdR3rgb6I5xs=',\n",
       "   'x-amz-request-id': 'NKXRE5FQCQ1GA1FG',\n",
       "   'date': 'Thu, 08 May 2025 18:01:55 GMT',\n",
       "   'last-modified': 'Thu, 01 May 2025 19:34:21 GMT',\n",
       "   'etag': '\"b09765a20e3073b2138cff65d53f4d84\"',\n",
       "   'x-amz-server-side-encryption': 'AES256',\n",
       "   'accept-ranges': 'bytes',\n",
       "   'content-type': 'binary/octet-stream',\n",
       "   'content-length': '12571',\n",
       "   'server': 'AmazonS3'},\n",
       "  'RetryAttempts': 0},\n",
       " 'AcceptRanges': 'bytes',\n",
       " 'LastModified': datetime.datetime(2025, 5, 1, 19, 34, 21, tzinfo=tzutc()),\n",
       " 'ContentLength': 12571,\n",
       " 'ETag': '\"b09765a20e3073b2138cff65d53f4d84\"',\n",
       " 'ContentType': 'binary/octet-stream',\n",
       " 'ServerSideEncryption': 'AES256',\n",
       " 'Metadata': {},\n",
       " 'Body': <botocore.response.StreamingBody at 0x7ff7436cc370>}"
      ]
     },
     "execution_count": 11,
     "metadata": {},
     "output_type": "execute_result"
    }
   ],
   "source": [
    "list_import"
   ]
  },
  {
   "cell_type": "code",
   "execution_count": null,
   "id": "d9af6c86",
   "metadata": {},
   "outputs": [],
   "source": [
    "lines = [line for line in log_file]"
   ]
  },
  {
   "cell_type": "markdown",
   "id": "f9b4bf67",
   "metadata": {},
   "source": [
    "What information can we get from the figures?"
   ]
  },
  {
   "cell_type": "code",
   "execution_count": null,
   "id": "2c6f1681",
   "metadata": {},
   "outputs": [],
   "source": [
    "flag_label = \"{:.4f}% of data flagged\".format(\n",
    "    100 * len(df.loc[df[var + \"_eraqc\"] == flagval, var]) / len(df)\n",
    ")"
   ]
  },
  {
   "cell_type": "code",
   "execution_count": null,
   "id": "0ac1b9d2",
   "metadata": {},
   "outputs": [],
   "source": []
  }
 ],
 "metadata": {
  "kernelspec": {
   "display_name": "hist-obs",
   "language": "python",
   "name": "python3"
  },
  "language_info": {
   "codemirror_mode": {
    "name": "ipython",
    "version": 3
   },
   "file_extension": ".py",
   "mimetype": "text/x-python",
   "name": "python",
   "nbconvert_exporter": "python",
   "pygments_lexer": "ipython3",
   "version": "3.10.13"
  }
 },
 "nbformat": 4,
 "nbformat_minor": 5
}
