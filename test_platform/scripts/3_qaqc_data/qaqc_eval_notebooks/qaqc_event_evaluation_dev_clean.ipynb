{
 "cells": [
  {
   "cell_type": "markdown",
   "id": "2f107480-b89b-4dc8-a146-8ef1fee66c4e",
   "metadata": {},
   "source": [
    "# Historical Data Platform QA/QC Event Evaluation Procedure"
   ]
  },
  {
   "cell_type": "markdown",
   "id": "99606d61-b614-4ad2-9dd9-ff2a244e315c",
   "metadata": {},
   "source": [
    "| Event | Start Date | End Date | Location | Variables to Evaluate |\n",
    "|-------|------------|----------|----------|-----------------------|\n",
    "|Santa Ana Wind|2/16/1988|2/19/1988|Los Angeles, Orange, San Diego, San Bernadino, Riverside Counties|wind speed, wind direction, air temperature, humidity|\n",
    "|Winter Storm | 12/20/1990|12/24/1990| WECC, Sac Valley, Oakland|air temperature, pressure, precipitation|\n",
    "|AR|1/16/2017|1/20/2017|CA, coastal WECC|precipitation, wind speed, wind direction|\n",
    "|Mudslide|1/5/2018|1/9/2018|Santa Barbara County|precipitation, wind speed, wind direction, air temperature|\n",
    "|\"Heatwave1\"|8/14/2020|8/15/2020|WECC|air temperature, wind speed, air pressure|\n",
    "|\"Heatwave2\"|9/5/2020|9/8/2020| CA (coastal + S. CA), Los Angeles County|air temperature, wind speed, air pressure|\n",
    "|\"Heatwave3\"|8/30/2022|9/9/2020| CA (coastal + S. CA)|air temperature, wind speed, air pressure|\n",
    "|Offshore wind|1/15/2021|1/16/2021|Coastal CA|wind speed, wind direction|\n",
    "\n",
    "**In evaluation**: Santa Ana Wind\n",
    "\n",
    "**Steps**:\n",
    "1. Identify stations within event location\n",
    "2. Retrieve station file to evaluate\n",
    "3. Look at full timeseries plot (flagged_timeseries_plot) to see general trend\n",
    "4. Look at climatology plot\n",
    "5. Look at event plot"
   ]
  },
  {
   "cell_type": "code",
   "execution_count": 2,
   "id": "6bf98323-af90-43a5-8a0c-ebfc0be02d60",
   "metadata": {
    "execution": {
     "iopub.execute_input": "2024-09-13T22:55:47.987979Z",
     "iopub.status.busy": "2024-09-13T22:55:47.987072Z",
     "iopub.status.idle": "2024-09-13T22:55:53.103461Z",
     "shell.execute_reply": "2024-09-13T22:55:53.102925Z",
     "shell.execute_reply.started": "2024-09-13T22:55:47.987905Z"
    }
   },
   "outputs": [],
   "source": [
    "# import libraries\n",
    "import xarray as xr\n",
    "import numpy as np\n",
    "import pandas as pd\n",
    "import os\n",
    "import sys\n",
    "\n",
    "from qaqc_eval_utils import *\n",
    "# from qaqc_eval_plot import *\n",
    "\n",
    "# from qaqc_eval_utils import (id_all_flags, known_issue_check, subset_eval_stns, latlon_to_mercator_cartopy, pull_nc_from_aws, event_subset, flags_during_event, multi_stn_check)\n",
    "# from qaqc_eval_plot import stn_visualize, test_subset_plot\n",
    "\n",
    "sys.path.append(os.path.expanduser('../'))\n",
    "# from qaqc_plot import flagged_timeseries_plot\n",
    "from QAQC_pipeline import qaqc_ds_to_df\n",
    "\n",
    "%matplotlib inline\n",
    "%load_ext autoreload\n",
    "%autoreload 2"
   ]
  },
  {
   "cell_type": "markdown",
   "id": "9384607d-acf9-442f-b53e-8caaf95f08e2",
   "metadata": {},
   "source": [
    "### Step 1: Retrieve relevant station files and comparison data for evaluation\n",
    "Read in training list of QA/QC'd stations."
   ]
  },
  {
   "cell_type": "code",
   "execution_count": 3,
   "id": "eb0003d8-cfe1-474d-a6bd-cc40e193e890",
   "metadata": {
    "execution": {
     "iopub.execute_input": "2024-09-13T22:55:54.303576Z",
     "iopub.status.busy": "2024-09-13T22:55:54.303186Z",
     "iopub.status.idle": "2024-09-13T22:55:54.356171Z",
     "shell.execute_reply": "2024-09-13T22:55:54.355786Z",
     "shell.execute_reply.started": "2024-09-13T22:55:54.303546Z"
    }
   },
   "outputs": [
    {
     "data": {
      "text/html": [
       "<div>\n",
       "<style scoped>\n",
       "    .dataframe tbody tr th:only-of-type {\n",
       "        vertical-align: middle;\n",
       "    }\n",
       "\n",
       "    .dataframe tbody tr th {\n",
       "        vertical-align: top;\n",
       "    }\n",
       "\n",
       "    .dataframe thead th {\n",
       "        text-align: right;\n",
       "    }\n",
       "</style>\n",
       "<table border=\"1\" class=\"dataframe\">\n",
       "  <thead>\n",
       "    <tr style=\"text-align: right;\">\n",
       "      <th></th>\n",
       "      <th>network</th>\n",
       "      <th>era-id</th>\n",
       "      <th>elevation</th>\n",
       "      <th>latitude</th>\n",
       "      <th>longitude</th>\n",
       "      <th>start_date</th>\n",
       "      <th>end_date</th>\n",
       "      <th>event_type</th>\n",
       "      <th>notes</th>\n",
       "    </tr>\n",
       "  </thead>\n",
       "  <tbody>\n",
       "    <tr>\n",
       "      <th>0</th>\n",
       "      <td>ASOSAWOS</td>\n",
       "      <td>ASOSAWOS_72281023199</td>\n",
       "      <td>-14.0208</td>\n",
       "      <td>32.832</td>\n",
       "      <td>-115.664</td>\n",
       "      <td>1984-04-13 00:00:00+00:00</td>\n",
       "      <td>2022-12-31 00:00:00+00:00</td>\n",
       "      <td>all</td>\n",
       "      <td>NaN</td>\n",
       "    </tr>\n",
       "    <tr>\n",
       "      <th>1</th>\n",
       "      <td>ASOSAWOS</td>\n",
       "      <td>ASOSAWOS_72288023152</td>\n",
       "      <td>222.8088</td>\n",
       "      <td>34.200</td>\n",
       "      <td>-118.365</td>\n",
       "      <td>1943-06-01 00:00:00+00:00</td>\n",
       "      <td>2022-12-31 00:00:00+00:00</td>\n",
       "      <td>all</td>\n",
       "      <td>NaN</td>\n",
       "    </tr>\n",
       "    <tr>\n",
       "      <th>2</th>\n",
       "      <td>ASOSAWOS</td>\n",
       "      <td>ASOSAWOS_72288623130</td>\n",
       "      <td>239.2680</td>\n",
       "      <td>34.212</td>\n",
       "      <td>-118.491</td>\n",
       "      <td>1942-12-11 00:00:00+00:00</td>\n",
       "      <td>2022-12-31 00:00:00+00:00</td>\n",
       "      <td>all</td>\n",
       "      <td>NaN</td>\n",
       "    </tr>\n",
       "    <tr>\n",
       "      <th>3</th>\n",
       "      <td>ASOSAWOS</td>\n",
       "      <td>ASOSAWOS_72290023188</td>\n",
       "      <td>4.5720</td>\n",
       "      <td>32.734</td>\n",
       "      <td>-117.183</td>\n",
       "      <td>1942-01-01 00:00:00+00:00</td>\n",
       "      <td>2022-12-31 00:00:00+00:00</td>\n",
       "      <td>all</td>\n",
       "      <td>NaN</td>\n",
       "    </tr>\n",
       "    <tr>\n",
       "      <th>4</th>\n",
       "      <td>ASOSAWOS</td>\n",
       "      <td>ASOSAWOS_72290693112</td>\n",
       "      <td>4.2672</td>\n",
       "      <td>32.692</td>\n",
       "      <td>-117.210</td>\n",
       "      <td>1945-04-01 00:00:00+00:00</td>\n",
       "      <td>2022-12-31 00:00:00+00:00</td>\n",
       "      <td>all</td>\n",
       "      <td>NaN</td>\n",
       "    </tr>\n",
       "  </tbody>\n",
       "</table>\n",
       "</div>"
      ],
      "text/plain": [
       "    network                era-id  elevation  latitude  longitude  \\\n",
       "0  ASOSAWOS  ASOSAWOS_72281023199   -14.0208    32.832   -115.664   \n",
       "1  ASOSAWOS  ASOSAWOS_72288023152   222.8088    34.200   -118.365   \n",
       "2  ASOSAWOS  ASOSAWOS_72288623130   239.2680    34.212   -118.491   \n",
       "3  ASOSAWOS  ASOSAWOS_72290023188     4.5720    32.734   -117.183   \n",
       "4  ASOSAWOS  ASOSAWOS_72290693112     4.2672    32.692   -117.210   \n",
       "\n",
       "                  start_date                   end_date event_type notes  \n",
       "0  1984-04-13 00:00:00+00:00  2022-12-31 00:00:00+00:00        all   NaN  \n",
       "1  1943-06-01 00:00:00+00:00  2022-12-31 00:00:00+00:00        all   NaN  \n",
       "2  1942-12-11 00:00:00+00:00  2022-12-31 00:00:00+00:00        all   NaN  \n",
       "3  1942-01-01 00:00:00+00:00  2022-12-31 00:00:00+00:00        all   NaN  \n",
       "4  1945-04-01 00:00:00+00:00  2022-12-31 00:00:00+00:00        all   NaN  "
      ]
     },
     "execution_count": 3,
     "metadata": {},
     "output_type": "execute_result"
    }
   ],
   "source": [
    "# read in stations\n",
    "train_stns = pd.read_csv('../qaqc_training_station_list_events.csv')\n",
    "train_stns.head()"
   ]
  },
  {
   "cell_type": "code",
   "execution_count": 4,
   "id": "308bd765-27f3-4ddd-8d43-ecf29054e3bf",
   "metadata": {
    "execution": {
     "iopub.execute_input": "2024-09-13T22:55:54.589344Z",
     "iopub.status.busy": "2024-09-13T22:55:54.588860Z",
     "iopub.status.idle": "2024-09-13T22:55:54.631262Z",
     "shell.execute_reply": "2024-09-13T22:55:54.630515Z",
     "shell.execute_reply.started": "2024-09-13T22:55:54.589305Z"
    }
   },
   "outputs": [],
   "source": [
    "def find_other_events(df, event_start, event_end, buffer=7):\n",
    "    print('Subsetting station record for event duration with {} day buffer...'.format(str(buffer)))\n",
    "    event_sub = df.loc[(df['start_date'] <= event_start) & (df['end_date'] >= event_end)]\n",
    "\n",
    "    # exclude \"manual check on end date\" stations since we don't know when they actually end\n",
    "    event_sub = event_sub.loc[event_sub['notes'] != 'manual check on end date']\n",
    "    \n",
    "    return event_sub"
   ]
  },
  {
   "cell_type": "code",
   "execution_count": 8,
   "id": "915d738e-62ca-4cf0-abb6-c081ce0416e0",
   "metadata": {
    "execution": {
     "iopub.execute_input": "2024-09-13T22:56:01.822047Z",
     "iopub.status.busy": "2024-09-13T22:56:01.821957Z",
     "iopub.status.idle": "2024-09-13T22:56:01.843366Z",
     "shell.execute_reply": "2024-09-13T22:56:01.843056Z",
     "shell.execute_reply.started": "2024-09-13T22:56:01.822037Z"
    }
   },
   "outputs": [
    {
     "name": "stdout",
     "output_type": "stream",
     "text": [
      "Subsetting station record for event duration with 14 day buffer...\n"
     ]
    },
    {
     "data": {
      "text/html": [
       "<div>\n",
       "<style scoped>\n",
       "    .dataframe tbody tr th:only-of-type {\n",
       "        vertical-align: middle;\n",
       "    }\n",
       "\n",
       "    .dataframe tbody tr th {\n",
       "        vertical-align: top;\n",
       "    }\n",
       "\n",
       "    .dataframe thead th {\n",
       "        text-align: right;\n",
       "    }\n",
       "</style>\n",
       "<table border=\"1\" class=\"dataframe\">\n",
       "  <thead>\n",
       "    <tr style=\"text-align: right;\">\n",
       "      <th></th>\n",
       "      <th>network</th>\n",
       "      <th>era-id</th>\n",
       "      <th>elevation</th>\n",
       "      <th>latitude</th>\n",
       "      <th>longitude</th>\n",
       "      <th>start_date</th>\n",
       "      <th>end_date</th>\n",
       "      <th>event_type</th>\n",
       "      <th>notes</th>\n",
       "    </tr>\n",
       "  </thead>\n",
       "  <tbody>\n",
       "    <tr>\n",
       "      <th>0</th>\n",
       "      <td>ASOSAWOS</td>\n",
       "      <td>ASOSAWOS_72281023199</td>\n",
       "      <td>-14.0208</td>\n",
       "      <td>32.832</td>\n",
       "      <td>-115.664</td>\n",
       "      <td>1984-04-13 00:00:00+00:00</td>\n",
       "      <td>2022-12-31 00:00:00+00:00</td>\n",
       "      <td>all</td>\n",
       "      <td>NaN</td>\n",
       "    </tr>\n",
       "    <tr>\n",
       "      <th>1</th>\n",
       "      <td>ASOSAWOS</td>\n",
       "      <td>ASOSAWOS_72288023152</td>\n",
       "      <td>222.8088</td>\n",
       "      <td>34.200</td>\n",
       "      <td>-118.365</td>\n",
       "      <td>1943-06-01 00:00:00+00:00</td>\n",
       "      <td>2022-12-31 00:00:00+00:00</td>\n",
       "      <td>all</td>\n",
       "      <td>NaN</td>\n",
       "    </tr>\n",
       "    <tr>\n",
       "      <th>2</th>\n",
       "      <td>ASOSAWOS</td>\n",
       "      <td>ASOSAWOS_72288623130</td>\n",
       "      <td>239.2680</td>\n",
       "      <td>34.212</td>\n",
       "      <td>-118.491</td>\n",
       "      <td>1942-12-11 00:00:00+00:00</td>\n",
       "      <td>2022-12-31 00:00:00+00:00</td>\n",
       "      <td>all</td>\n",
       "      <td>NaN</td>\n",
       "    </tr>\n",
       "  </tbody>\n",
       "</table>\n",
       "</div>"
      ],
      "text/plain": [
       "    network                era-id  elevation  latitude  longitude  \\\n",
       "0  ASOSAWOS  ASOSAWOS_72281023199   -14.0208    32.832   -115.664   \n",
       "1  ASOSAWOS  ASOSAWOS_72288023152   222.8088    34.200   -118.365   \n",
       "2  ASOSAWOS  ASOSAWOS_72288623130   239.2680    34.212   -118.491   \n",
       "\n",
       "                  start_date                   end_date event_type notes  \n",
       "0  1984-04-13 00:00:00+00:00  2022-12-31 00:00:00+00:00        all   NaN  \n",
       "1  1943-06-01 00:00:00+00:00  2022-12-31 00:00:00+00:00        all   NaN  \n",
       "2  1942-12-11 00:00:00+00:00  2022-12-31 00:00:00+00:00        all   NaN  "
      ]
     },
     "execution_count": 8,
     "metadata": {},
     "output_type": "execute_result"
    }
   ],
   "source": [
    "df2 = find_other_events (train_stns, event_start=\"2007-10-20\", event_end=\"2007-10-24\", buffer=14)\n",
    "df2.head(3)"
   ]
  },
  {
   "cell_type": "markdown",
   "id": "92d4f516-3764-43f4-ba1f-deaaa3902751",
   "metadata": {},
   "source": [
    "For event evaluation, randomly sample for a manageable number of stations per event using the `subset_eval_stns` function."
   ]
  },
  {
   "cell_type": "code",
   "execution_count": 9,
   "id": "12ae3ab0-f2bd-42d2-8439-b32e590a116a",
   "metadata": {
    "execution": {
     "iopub.execute_input": "2024-09-13T22:56:02.511918Z",
     "iopub.status.busy": "2024-09-13T22:56:02.511313Z",
     "iopub.status.idle": "2024-09-13T22:56:03.272829Z",
     "shell.execute_reply": "2024-09-13T22:56:03.272515Z",
     "shell.execute_reply.started": "2024-09-13T22:56:02.511873Z"
    }
   },
   "outputs": [
    {
     "name": "stdout",
     "output_type": "stream",
     "text": [
      "17 potential stations available for evaluation for santa_ana_wind event.\n",
      "Stations selected for evaluation:\n",
      " ['ASOSAWOS_72288023152', 'ASOSAWOS_72288623130', 'ASOSAWOS_72292023191', 'ASOSAWOS_72292593117', 'ASOSAWOS_72297023129', 'ASOSAWOS_72381603159', 'ASOSAWOS_72382023182', 'ASOSAWOS_72383023187', 'ASOSAWOS_72290023188', 'ASOSAWOS_72290693112', 'ASOSAWOS_72290993115', 'ASOSAWOS_72292603154', 'CIMIS_45', 'ASOSAWOS_74718703104', 'ASOSAWOS_74718823158', 'OtherISD_72286023119', 'CIMIS_75']\n"
     ]
    },
    {
     "data": {
      "text/html": [
       "<div>\n",
       "<style scoped>\n",
       "    .dataframe tbody tr th:only-of-type {\n",
       "        vertical-align: middle;\n",
       "    }\n",
       "\n",
       "    .dataframe tbody tr th {\n",
       "        vertical-align: top;\n",
       "    }\n",
       "\n",
       "    .dataframe thead th {\n",
       "        text-align: right;\n",
       "    }\n",
       "</style>\n",
       "<table border=\"1\" class=\"dataframe\">\n",
       "  <thead>\n",
       "    <tr style=\"text-align: right;\">\n",
       "      <th></th>\n",
       "      <th>network</th>\n",
       "      <th>era-id</th>\n",
       "      <th>elevation</th>\n",
       "      <th>latitude</th>\n",
       "      <th>longitude</th>\n",
       "      <th>start_date</th>\n",
       "      <th>end_date</th>\n",
       "      <th>event_type</th>\n",
       "      <th>notes</th>\n",
       "      <th>STATEFP</th>\n",
       "      <th>...</th>\n",
       "      <th>CBSAFP</th>\n",
       "      <th>METDIVFP</th>\n",
       "      <th>FUNCSTAT</th>\n",
       "      <th>ALAND</th>\n",
       "      <th>AWATER</th>\n",
       "      <th>INTPTLAT</th>\n",
       "      <th>INTPTLON</th>\n",
       "      <th>Shape_Leng</th>\n",
       "      <th>Shape_Area</th>\n",
       "      <th>geometry</th>\n",
       "    </tr>\n",
       "  </thead>\n",
       "  <tbody>\n",
       "    <tr>\n",
       "      <th>0</th>\n",
       "      <td>ASOSAWOS</td>\n",
       "      <td>ASOSAWOS_72288023152</td>\n",
       "      <td>222.8088</td>\n",
       "      <td>34.200</td>\n",
       "      <td>-118.365</td>\n",
       "      <td>1943-06-01 00:00:00+00:00</td>\n",
       "      <td>2022-12-31 00:00:00+00:00</td>\n",
       "      <td>all</td>\n",
       "      <td>NaN</td>\n",
       "      <td>06</td>\n",
       "      <td>...</td>\n",
       "      <td>31080</td>\n",
       "      <td>31084</td>\n",
       "      <td>A</td>\n",
       "      <td>1.051186e+10</td>\n",
       "      <td>1.793485e+09</td>\n",
       "      <td>+34.1963983</td>\n",
       "      <td>-118.2618616</td>\n",
       "      <td>883876.944789</td>\n",
       "      <td>1.803431e+10</td>\n",
       "      <td>POINT (-13176331.528 4055688.859)</td>\n",
       "    </tr>\n",
       "    <tr>\n",
       "      <th>1</th>\n",
       "      <td>ASOSAWOS</td>\n",
       "      <td>ASOSAWOS_72288623130</td>\n",
       "      <td>239.2680</td>\n",
       "      <td>34.212</td>\n",
       "      <td>-118.491</td>\n",
       "      <td>1942-12-11 00:00:00+00:00</td>\n",
       "      <td>2022-12-31 00:00:00+00:00</td>\n",
       "      <td>all</td>\n",
       "      <td>NaN</td>\n",
       "      <td>06</td>\n",
       "      <td>...</td>\n",
       "      <td>31080</td>\n",
       "      <td>31084</td>\n",
       "      <td>A</td>\n",
       "      <td>1.051186e+10</td>\n",
       "      <td>1.793485e+09</td>\n",
       "      <td>+34.1963983</td>\n",
       "      <td>-118.2618616</td>\n",
       "      <td>883876.944789</td>\n",
       "      <td>1.803431e+10</td>\n",
       "      <td>POINT (-13190357.784 4057304.093)</td>\n",
       "    </tr>\n",
       "    <tr>\n",
       "      <th>2</th>\n",
       "      <td>ASOSAWOS</td>\n",
       "      <td>ASOSAWOS_72292023191</td>\n",
       "      <td>477.0120</td>\n",
       "      <td>33.404</td>\n",
       "      <td>-118.415</td>\n",
       "      <td>1943-06-12 00:00:00+00:00</td>\n",
       "      <td>2022-12-31 00:00:00+00:00</td>\n",
       "      <td>all</td>\n",
       "      <td>NaN</td>\n",
       "      <td>06</td>\n",
       "      <td>...</td>\n",
       "      <td>31080</td>\n",
       "      <td>31084</td>\n",
       "      <td>A</td>\n",
       "      <td>1.051186e+10</td>\n",
       "      <td>1.793485e+09</td>\n",
       "      <td>+34.1963983</td>\n",
       "      <td>-118.2618616</td>\n",
       "      <td>883876.944789</td>\n",
       "      <td>1.803431e+10</td>\n",
       "      <td>POINT (-13181897.502 3949051.804)</td>\n",
       "    </tr>\n",
       "  </tbody>\n",
       "</table>\n",
       "<p>3 rows × 29 columns</p>\n",
       "</div>"
      ],
      "text/plain": [
       "    network                era-id  elevation  latitude  longitude  \\\n",
       "0  ASOSAWOS  ASOSAWOS_72288023152   222.8088    34.200   -118.365   \n",
       "1  ASOSAWOS  ASOSAWOS_72288623130   239.2680    34.212   -118.491   \n",
       "2  ASOSAWOS  ASOSAWOS_72292023191   477.0120    33.404   -118.415   \n",
       "\n",
       "                  start_date                   end_date event_type notes  \\\n",
       "0  1943-06-01 00:00:00+00:00  2022-12-31 00:00:00+00:00        all   NaN   \n",
       "1  1942-12-11 00:00:00+00:00  2022-12-31 00:00:00+00:00        all   NaN   \n",
       "2  1943-06-12 00:00:00+00:00  2022-12-31 00:00:00+00:00        all   NaN   \n",
       "\n",
       "  STATEFP  ... CBSAFP METDIVFP FUNCSTAT         ALAND        AWATER  \\\n",
       "0      06  ...  31080    31084        A  1.051186e+10  1.793485e+09   \n",
       "1      06  ...  31080    31084        A  1.051186e+10  1.793485e+09   \n",
       "2      06  ...  31080    31084        A  1.051186e+10  1.793485e+09   \n",
       "\n",
       "      INTPTLAT      INTPTLON     Shape_Leng    Shape_Area  \\\n",
       "0  +34.1963983  -118.2618616  883876.944789  1.803431e+10   \n",
       "1  +34.1963983  -118.2618616  883876.944789  1.803431e+10   \n",
       "2  +34.1963983  -118.2618616  883876.944789  1.803431e+10   \n",
       "\n",
       "                            geometry  \n",
       "0  POINT (-13176331.528 4055688.859)  \n",
       "1  POINT (-13190357.784 4057304.093)  \n",
       "2  POINT (-13181897.502 3949051.804)  \n",
       "\n",
       "[3 rows x 29 columns]"
      ]
     },
     "execution_count": 9,
     "metadata": {},
     "output_type": "execute_result"
    }
   ],
   "source": [
    "eval_stations = subset_eval_stns(\n",
    "    event_to_eval = 'santa_ana_wind',\n",
    "    stn_list = train_stns,\n",
    "    subset = None,\n",
    "    return_stn_ids = True\n",
    ")\n",
    "eval_stations.head(3)"
   ]
  },
  {
   "cell_type": "markdown",
   "id": "7c7ad708-2ff9-4462-8829-ea5687fcbd3a",
   "metadata": {},
   "source": [
    "Visualize the station next"
   ]
  },
  {
   "cell_type": "code",
   "execution_count": 10,
   "id": "88b1d266-e5f3-487e-a984-c6f4794cde13",
   "metadata": {
    "execution": {
     "iopub.execute_input": "2024-09-13T22:56:06.093501Z",
     "iopub.status.busy": "2024-09-13T22:56:06.092507Z",
     "iopub.status.idle": "2024-09-13T22:56:06.491587Z",
     "shell.execute_reply": "2024-09-13T22:56:06.491269Z",
     "shell.execute_reply.started": "2024-09-13T22:56:06.093430Z"
    }
   },
   "outputs": [
    {
     "data": {
      "image/png": "[encoded data removed]",
      "text/plain": [
       "<Figure size 640x480 with 1 Axes>"
      ]
     },
     "metadata": {},
     "output_type": "display_data"
    }
   ],
   "source": [
    "stn_visualize(\n",
    "    stn_id = eval_stations['era-id'].values[-1],\n",
    "    stn_list = eval_stations,\n",
    "    event_to_eval = 'santa_ana_wind'\n",
    ")"
   ]
  },
  {
   "cell_type": "markdown",
   "id": "2b00e665-e432-4c39-9b82-a006e9104f4a",
   "metadata": {},
   "source": [
    "### Step 2: Holistic / qualitative station evaluation\n",
    "Identify flags set during the entire timeseries for the designated station"
   ]
  },
  {
   "cell_type": "code",
   "execution_count": 11,
   "id": "e36538ab-586d-42c2-8557-29a7b5e41272",
   "metadata": {
    "execution": {
     "iopub.execute_input": "2024-09-13T22:56:13.644925Z",
     "iopub.status.busy": "2024-09-13T22:56:13.644172Z",
     "iopub.status.idle": "2024-09-13T22:56:45.872442Z",
     "shell.execute_reply": "2024-09-13T22:56:45.871838Z",
     "shell.execute_reply.started": "2024-09-13T22:56:13.644874Z"
    }
   },
   "outputs": [
    {
     "name": "stdout",
     "output_type": "stream",
     "text": [
      "Retrieving data for station...\n"
     ]
    },
    {
     "data": {
      "text/html": [
       "<div><svg style=\"position: absolute; width: 0; height: 0; overflow: hidden\">\n",
       "<defs>\n",
       "<symbol id=\"icon-database\" viewBox=\"0 0 32 32\">\n",
       "<path d=\"M16 0c-8.837 0-16 2.239-16 5v4c0 2.761 7.163 5 16 5s16-2.239 16-5v-4c0-2.761-7.163-5-16-5z\"></path>\n",
       "<path d=\"M16 17c-8.837 0-16-2.239-16-5v6c0 2.761 7.163 5 16 5s16-2.239 16-5v-6c0 2.761-7.163 5-16 5z\"></path>\n",
       "<path d=\"M16 26c-8.837 0-16-2.239-16-5v6c0 2.761 7.163 5 16 5s16-2.239 16-5v-6c0 2.761-7.163 5-16 5z\"></path>\n",
       "</symbol>\n",
       "<symbol id=\"icon-file-text2\" viewBox=\"0 0 32 32\">\n",
       "<path d=\"M28.681 7.159c-0.694-0.947-1.662-2.053-2.724-3.116s-2.169-2.030-3.116-2.724c-1.612-1.182-2.393-1.319-2.841-1.319h-15.5c-1.378 0-2.5 1.121-2.5 2.5v27c0 1.378 1.122 2.5 2.5 2.5h23c1.378 0 2.5-1.122 2.5-2.5v-19.5c0-0.448-0.137-1.23-1.319-2.841zM24.543 5.457c0.959 0.959 1.712 1.825 2.268 2.543h-4.811v-4.811c0.718 0.556 1.584 1.309 2.543 2.268zM28 29.5c0 0.271-0.229 0.5-0.5 0.5h-23c-0.271 0-0.5-0.229-0.5-0.5v-27c0-0.271 0.229-0.5 0.5-0.5 0 0 15.499-0 15.5 0v7c0 0.552 0.448 1 1 1h7v19.5z\"></path>\n",
       "<path d=\"M23 26h-14c-0.552 0-1-0.448-1-1s0.448-1 1-1h14c0.552 0 1 0.448 1 1s-0.448 1-1 1z\"></path>\n",
       "<path d=\"M23 22h-14c-0.552 0-1-0.448-1-1s0.448-1 1-1h14c0.552 0 1 0.448 1 1s-0.448 1-1 1z\"></path>\n",
       "<path d=\"M23 18h-14c-0.552 0-1-0.448-1-1s0.448-1 1-1h14c0.552 0 1 0.448 1 1s-0.448 1-1 1z\"></path>\n",
       "</symbol>\n",
       "</defs>\n",
       "</svg>\n",
       "<style>/* CSS stylesheet for displaying xarray objects in jupyterlab.\n",
       " *\n",
       " */\n",
       "\n",
       ":root {\n",
       "  --xr-font-color0: var(--jp-content-font-color0, rgba(0, 0, 0, 1));\n",
       "  --xr-font-color2: var(--jp-content-font-color2, rgba(0, 0, 0, 0.54));\n",
       "  --xr-font-color3: var(--jp-content-font-color3, rgba(0, 0, 0, 0.38));\n",
       "  --xr-border-color: var(--jp-border-color2, #e0e0e0);\n",
       "  --xr-disabled-color: var(--jp-layout-color3, #bdbdbd);\n",
       "  --xr-background-color: var(--jp-layout-color0, white);\n",
       "  --xr-background-color-row-even: var(--jp-layout-color1, white);\n",
       "  --xr-background-color-row-odd: var(--jp-layout-color2, #eeeeee);\n",
       "}\n",
       "\n",
       "html[theme=dark],\n",
       "body.vscode-dark {\n",
       "  --xr-font-color0: rgba(255, 255, 255, 1);\n",
       "  --xr-font-color2: rgba(255, 255, 255, 0.54);\n",
       "  --xr-font-color3: rgba(255, 255, 255, 0.38);\n",
       "  --xr-border-color: #1F1F1F;\n",
       "  --xr-disabled-color: #515151;\n",
       "  --xr-background-color: #111111;\n",
       "  --xr-background-color-row-even: #111111;\n",
       "  --xr-background-color-row-odd: #313131;\n",
       "}\n",
       "\n",
       ".xr-wrap {\n",
       "  display: block !important;\n",
       "  min-width: 300px;\n",
       "  max-width: 700px;\n",
       "}\n",
       "\n",
       ".xr-text-repr-fallback {\n",
       "  /* fallback to plain text repr when CSS is not injected (untrusted notebook) */\n",
       "  display: none;\n",
       "}\n",
       "\n",
       ".xr-header {\n",
       "  padding-top: 6px;\n",
       "  padding-bottom: 6px;\n",
       "  margin-bottom: 4px;\n",
       "  border-bottom: solid 1px var(--xr-border-color);\n",
       "}\n",
       "\n",
       ".xr-header > div,\n",
       ".xr-header > ul {\n",
       "  display: inline;\n",
       "  margin-top: 0;\n",
       "  margin-bottom: 0;\n",
       "}\n",
       "\n",
       ".xr-obj-type,\n",
       ".xr-array-name {\n",
       "  margin-left: 2px;\n",
       "  margin-right: 10px;\n",
       "}\n",
       "\n",
       ".xr-obj-type {\n",
       "  color: var(--xr-font-color2);\n",
       "}\n",
       "\n",
       ".xr-sections {\n",
       "  padding-left: 0 !important;\n",
       "  display: grid;\n",
       "  grid-template-columns: 150px auto auto 1fr 20px 20px;\n",
       "}\n",
       "\n",
       ".xr-section-item {\n",
       "  display: contents;\n",
       "}\n",
       "\n",
       ".xr-section-item input {\n",
       "  display: none;\n",
       "}\n",
       "\n",
       ".xr-section-item input + label {\n",
       "  color: var(--xr-disabled-color);\n",
       "}\n",
       "\n",
       ".xr-section-item input:enabled + label {\n",
       "  cursor: pointer;\n",
       "  color: var(--xr-font-color2);\n",
       "}\n",
       "\n",
       ".xr-section-item input:enabled + label:hover {\n",
       "  color: var(--xr-font-color0);\n",
       "}\n",
       "\n",
       ".xr-section-summary {\n",
       "  grid-column: 1;\n",
       "  color: var(--xr-font-color2);\n",
       "  font-weight: 500;\n",
       "}\n",
       "\n",
       ".xr-section-summary > span {\n",
       "  display: inline-block;\n",
       "  padding-left: 0.5em;\n",
       "}\n",
       "\n",
       ".xr-section-summary-in:disabled + label {\n",
       "  color: var(--xr-font-color2);\n",
       "}\n",
       "\n",
       ".xr-section-summary-in + label:before {\n",
       "  display: inline-block;\n",
       "  content: '►';\n",
       "  font-size: 11px;\n",
       "  width: 15px;\n",
       "  text-align: center;\n",
       "}\n",
       "\n",
       ".xr-section-summary-in:disabled + label:before {\n",
       "  color: var(--xr-disabled-color);\n",
       "}\n",
       "\n",
       ".xr-section-summary-in:checked + label:before {\n",
       "  content: '▼';\n",
       "}\n",
       "\n",
       ".xr-section-summary-in:checked + label > span {\n",
       "  display: none;\n",
       "}\n",
       "\n",
       ".xr-section-summary,\n",
       ".xr-section-inline-details {\n",
       "  padding-top: 4px;\n",
       "  padding-bottom: 4px;\n",
       "}\n",
       "\n",
       ".xr-section-inline-details {\n",
       "  grid-column: 2 / -1;\n",
       "}\n",
       "\n",
       ".xr-section-details {\n",
       "  display: none;\n",
       "  grid-column: 1 / -1;\n",
       "  margin-bottom: 5px;\n",
       "}\n",
       "\n",
       ".xr-section-summary-in:checked ~ .xr-section-details {\n",
       "  display: contents;\n",
       "}\n",
       "\n",
       ".xr-array-wrap {\n",
       "  grid-column: 1 / -1;\n",
       "  display: grid;\n",
       "  grid-template-columns: 20px auto;\n",
       "}\n",
       "\n",
       ".xr-array-wrap > label {\n",
       "  grid-column: 1;\n",
       "  vertical-align: top;\n",
       "}\n",
       "\n",
       ".xr-preview {\n",
       "  color: var(--xr-font-color3);\n",
       "}\n",
       "\n",
       ".xr-array-preview,\n",
       ".xr-array-data {\n",
       "  padding: 0 5px !important;\n",
       "  grid-column: 2;\n",
       "}\n",
       "\n",
       ".xr-array-data,\n",
       ".xr-array-in:checked ~ .xr-array-preview {\n",
       "  display: none;\n",
       "}\n",
       "\n",
       ".xr-array-in:checked ~ .xr-array-data,\n",
       ".xr-array-preview {\n",
       "  display: inline-block;\n",
       "}\n",
       "\n",
       ".xr-dim-list {\n",
       "  display: inline-block !important;\n",
       "  list-style: none;\n",
       "  padding: 0 !important;\n",
       "  margin: 0;\n",
       "}\n",
       "\n",
       ".xr-dim-list li {\n",
       "  display: inline-block;\n",
       "  padding: 0;\n",
       "  margin: 0;\n",
       "}\n",
       "\n",
       ".xr-dim-list:before {\n",
       "  content: '(';\n",
       "}\n",
       "\n",
       ".xr-dim-list:after {\n",
       "  content: ')';\n",
       "}\n",
       "\n",
       ".xr-dim-list li:not(:last-child):after {\n",
       "  content: ',';\n",
       "  padding-right: 5px;\n",
       "}\n",
       "\n",
       ".xr-has-index {\n",
       "  font-weight: bold;\n",
       "}\n",
       "\n",
       ".xr-var-list,\n",
       ".xr-var-item {\n",
       "  display: contents;\n",
       "}\n",
       "\n",
       ".xr-var-item > div,\n",
       ".xr-var-item label,\n",
       ".xr-var-item > .xr-var-name span {\n",
       "  background-color: var(--xr-background-color-row-even);\n",
       "  margin-bottom: 0;\n",
       "}\n",
       "\n",
       ".xr-var-item > .xr-var-name:hover span {\n",
       "  padding-right: 5px;\n",
       "}\n",
       "\n",
       ".xr-var-list > li:nth-child(odd) > div,\n",
       ".xr-var-list > li:nth-child(odd) > label,\n",
       ".xr-var-list > li:nth-child(odd) > .xr-var-name span {\n",
       "  background-color: var(--xr-background-color-row-odd);\n",
       "}\n",
       "\n",
       ".xr-var-name {\n",
       "  grid-column: 1;\n",
       "}\n",
       "\n",
       ".xr-var-dims {\n",
       "  grid-column: 2;\n",
       "}\n",
       "\n",
       ".xr-var-dtype {\n",
       "  grid-column: 3;\n",
       "  text-align: right;\n",
       "  color: var(--xr-font-color2);\n",
       "}\n",
       "\n",
       ".xr-var-preview {\n",
       "  grid-column: 4;\n",
       "}\n",
       "\n",
       ".xr-var-name,\n",
       ".xr-var-dims,\n",
       ".xr-var-dtype,\n",
       ".xr-preview,\n",
       ".xr-attrs dt {\n",
       "  white-space: nowrap;\n",
       "  overflow: hidden;\n",
       "  text-overflow: ellipsis;\n",
       "  padding-right: 10px;\n",
       "}\n",
       "\n",
       ".xr-var-name:hover,\n",
       ".xr-var-dims:hover,\n",
       ".xr-var-dtype:hover,\n",
       ".xr-attrs dt:hover {\n",
       "  overflow: visible;\n",
       "  width: auto;\n",
       "  z-index: 1;\n",
       "}\n",
       "\n",
       ".xr-var-attrs,\n",
       ".xr-var-data {\n",
       "  display: none;\n",
       "  background-color: var(--xr-background-color) !important;\n",
       "  padding-bottom: 5px !important;\n",
       "}\n",
       "\n",
       ".xr-var-attrs-in:checked ~ .xr-var-attrs,\n",
       ".xr-var-data-in:checked ~ .xr-var-data {\n",
       "  display: block;\n",
       "}\n",
       "\n",
       ".xr-var-data > table {\n",
       "  float: right;\n",
       "}\n",
       "\n",
       ".xr-var-name span,\n",
       ".xr-var-data,\n",
       ".xr-attrs {\n",
       "  padding-left: 25px !important;\n",
       "}\n",
       "\n",
       ".xr-attrs,\n",
       ".xr-var-attrs,\n",
       ".xr-var-data {\n",
       "  grid-column: 1 / -1;\n",
       "}\n",
       "\n",
       "dl.xr-attrs {\n",
       "  padding: 0;\n",
       "  margin: 0;\n",
       "  display: grid;\n",
       "  grid-template-columns: 125px auto;\n",
       "}\n",
       "\n",
       ".xr-attrs dt,\n",
       ".xr-attrs dd {\n",
       "  padding: 0;\n",
       "  margin: 0;\n",
       "  float: left;\n",
       "  padding-right: 10px;\n",
       "  width: auto;\n",
       "}\n",
       "\n",
       ".xr-attrs dt {\n",
       "  font-weight: normal;\n",
       "  grid-column: 1;\n",
       "}\n",
       "\n",
       ".xr-attrs dt:hover span {\n",
       "  display: inline-block;\n",
       "  background: var(--xr-background-color);\n",
       "  padding-right: 10px;\n",
       "}\n",
       "\n",
       ".xr-attrs dd {\n",
       "  grid-column: 2;\n",
       "  white-space: pre-wrap;\n",
       "  word-break: break-all;\n",
       "}\n",
       "\n",
       ".xr-icon-database,\n",
       ".xr-icon-file-text2 {\n",
       "  display: inline-block;\n",
       "  vertical-align: middle;\n",
       "  width: 1em;\n",
       "  height: 1.5em !important;\n",
       "  stroke-width: 0;\n",
       "  stroke: currentColor;\n",
       "  fill: currentColor;\n",
       "}\n",
       "</style><pre class='xr-text-repr-fallback'>&lt;xarray.Dataset&gt;\n",
       "Dimensions:               (station: 1, time: 26304)\n",
       "Coordinates:\n",
       "  * station               (station) object &#x27;CIMIS_45&#x27;\n",
       "  * time                  (time) datetime64[ns] 1986-01-01T09:00:00 ... 1989-...\n",
       "Data variables: (12/30)\n",
       "    tas                   (station, time) float64 286.5 286.5 ... 282.8 282.8\n",
       "    pr                    (station, time) float64 0.0 0.0 0.0 ... 0.0 0.0 0.0\n",
       "    hurs                  (station, time) float64 92.0 92.0 92.0 ... 87.0 85.0\n",
       "    rsds                  (station, time) float64 2.0 1.0 1.0 ... -2.0 -2.0 -2.0\n",
       "    sfcWind               (station, time) float64 0.9 1.3 2.0 ... 0.8 1.2 2.2\n",
       "    sfcWind_dir           (station, time) float64 49.1 264.4 302.8 ... 33.4 44.4\n",
       "    ...                    ...\n",
       "    sfcWind_dir_eraqc     (station, time) float64 nan nan nan ... nan nan nan\n",
       "    elevation_eraqc       (station, time) float64 nan nan nan ... nan nan nan\n",
       "    tdps_derived_eraqc    (station, time) int64 19 19 19 19 19 ... 19 19 19 19\n",
       "    pvp_derived_eraqc     (station, time) float64 nan nan nan ... nan nan nan\n",
       "    anemometer_height_m   (station, time) float64 2.0 2.0 2.0 ... 2.0 2.0 2.0\n",
       "    thermometer_height_m  (station, time) float64 1.5 1.5 1.5 ... 1.5 1.5 1.5\n",
       "Attributes: (12/16)\n",
       "    title:                 CIMIS quality controlled\n",
       "    institution:           Eagle Rock Analytics / Cal Adapt\n",
       "    source:                \n",
       "    history:               CIMIS_clean.py script run on 02-13-2023, 22:25:54 ...\n",
       "    comment:               Intermediate data product: may not have been subje...\n",
       "    license:               \n",
       "    ...                    ...\n",
       "    wind_vane_height_m:    2.0\n",
       "    anemometer_height_m:   2.0\n",
       "    thermometer_height_m:  1.5\n",
       "    humidity_height_m:     1.5\n",
       "    rain_gauge_height_m:   1.0\n",
       "    raw_files_merged:      3</pre><div class='xr-wrap' style='display:none'><div class='xr-header'><div class='xr-obj-type'>xarray.Dataset</div></div><ul class='xr-sections'><li class='xr-section-item'><input id='section-fc4c40cc-6a2a-4c18-94b0-7b24737af99a' class='xr-section-summary-in' type='checkbox' disabled ><label for='section-fc4c40cc-6a2a-4c18-94b0-7b24737af99a' class='xr-section-summary'  title='Expand/collapse section'>Dimensions:</label><div class='xr-section-inline-details'><ul class='xr-dim-list'><li><span class='xr-has-index'>station</span>: 1</li><li><span class='xr-has-index'>time</span>: 26304</li></ul></div><div class='xr-section-details'></div></li><li class='xr-section-item'><input id='section-1b29122c-3f47-4d75-8014-db0df10a0d6f' class='xr-section-summary-in' type='checkbox'  checked><label for='section-1b29122c-3f47-4d75-8014-db0df10a0d6f' class='xr-section-summary' >Coordinates: <span>(2)</span></label><div class='xr-section-inline-details'></div><div class='xr-section-details'><ul class='xr-var-list'><li class='xr-var-item'><div class='xr-var-name'><span class='xr-has-index'>station</span></div><div class='xr-var-dims'>(station)</div><div class='xr-var-dtype'>object</div><div class='xr-var-preview xr-preview'>&#x27;CIMIS_45&#x27;</div><input id='attrs-a2482bf7-bc61-4d86-886b-d650209786a4' class='xr-var-attrs-in' type='checkbox' disabled><label for='attrs-a2482bf7-bc61-4d86-886b-d650209786a4' title='Show/Hide attributes'><svg class='icon xr-icon-file-text2'><use xlink:href='#icon-file-text2'></use></svg></label><input id='data-5496e363-7c38-4b1e-9193-1c6942013f8b' class='xr-var-data-in' type='checkbox'><label for='data-5496e363-7c38-4b1e-9193-1c6942013f8b' title='Show/Hide data repr'><svg class='icon xr-icon-database'><use xlink:href='#icon-database'></use></svg></label><div class='xr-var-attrs'><dl class='xr-attrs'></dl></div><div class='xr-var-data'><pre>array([&#x27;CIMIS_45&#x27;], dtype=object)</pre></div></li><li class='xr-var-item'><div class='xr-var-name'><span class='xr-has-index'>time</span></div><div class='xr-var-dims'>(time)</div><div class='xr-var-dtype'>datetime64[ns]</div><div class='xr-var-preview xr-preview'>1986-01-01T09:00:00 ... 1989-01-...</div><input id='attrs-895b8701-d566-4375-a4ee-d2dfbd5b4e0b' class='xr-var-attrs-in' type='checkbox' disabled><label for='attrs-895b8701-d566-4375-a4ee-d2dfbd5b4e0b' title='Show/Hide attributes'><svg class='icon xr-icon-file-text2'><use xlink:href='#icon-file-text2'></use></svg></label><input id='data-f6b8700d-fc22-4f1b-976a-1ed8da07ec42' class='xr-var-data-in' type='checkbox'><label for='data-f6b8700d-fc22-4f1b-976a-1ed8da07ec42' title='Show/Hide data repr'><svg class='icon xr-icon-database'><use xlink:href='#icon-database'></use></svg></label><div class='xr-var-attrs'><dl class='xr-attrs'></dl></div><div class='xr-var-data'><pre>array([&#x27;1986-01-01T09:00:00.000000000&#x27;, &#x27;1986-01-01T10:00:00.000000000&#x27;,\n",
       "       &#x27;1986-01-01T11:00:00.000000000&#x27;, ..., &#x27;1989-01-01T06:00:00.000000000&#x27;,\n",
       "       &#x27;1989-01-01T07:00:00.000000000&#x27;, &#x27;1989-01-01T08:00:00.000000000&#x27;],\n",
       "      dtype=&#x27;datetime64[ns]&#x27;)</pre></div></li></ul></div></li><li class='xr-section-item'><input id='section-40ae6318-e612-4ae4-9277-2a9afcfcd7ca' class='xr-section-summary-in' type='checkbox'  ><label for='section-40ae6318-e612-4ae4-9277-2a9afcfcd7ca' class='xr-section-summary' >Data variables: <span>(30)</span></label><div class='xr-section-inline-details'></div><div class='xr-section-details'><ul class='xr-var-list'><li class='xr-var-item'><div class='xr-var-name'><span>tas</span></div><div class='xr-var-dims'>(station, time)</div><div class='xr-var-dtype'>float64</div><div class='xr-var-preview xr-preview'>...</div><input id='attrs-c1e9eb79-91ac-4fa7-82e2-7ec4b05677ba' class='xr-var-attrs-in' type='checkbox' ><label for='attrs-c1e9eb79-91ac-4fa7-82e2-7ec4b05677ba' title='Show/Hide attributes'><svg class='icon xr-icon-file-text2'><use xlink:href='#icon-file-text2'></use></svg></label><input id='data-5fdace2f-f2d8-46ca-b5df-d96735b0e1cf' class='xr-var-data-in' type='checkbox'><label for='data-5fdace2f-f2d8-46ca-b5df-d96735b0e1cf' title='Show/Hide data repr'><svg class='icon xr-icon-database'><use xlink:href='#icon-database'></use></svg></label><div class='xr-var-attrs'><dl class='xr-attrs'><dt><span>long_name :</span></dt><dd>air_temperature</dd><dt><span>standard_name :</span></dt><dd>air_temperature</dd><dt><span>units :</span></dt><dd>degree_Kelvin</dd><dt><span>ancillary_variables :</span></dt><dd>tas_qc, tas_eraqc</dd><dt><span>comment :</span></dt><dd>Converted from Celsius to Kelvin.</dd></dl></div><div class='xr-var-data'><pre>array([[286.55, 286.55, 286.55, ..., 282.95, 282.75, 282.75]])</pre></div></li><li class='xr-var-item'><div class='xr-var-name'><span>pr</span></div><div class='xr-var-dims'>(station, time)</div><div class='xr-var-dtype'>float64</div><div class='xr-var-preview xr-preview'>...</div><input id='attrs-61f3e9d2-33ed-4935-9975-6cfc49f7475c' class='xr-var-attrs-in' type='checkbox' ><label for='attrs-61f3e9d2-33ed-4935-9975-6cfc49f7475c' title='Show/Hide attributes'><svg class='icon xr-icon-file-text2'><use xlink:href='#icon-file-text2'></use></svg></label><input id='data-eae3def5-45c1-43a2-ac8b-251b3044954f' class='xr-var-data-in' type='checkbox'><label for='data-eae3def5-45c1-43a2-ac8b-251b3044954f' title='Show/Hide data repr'><svg class='icon xr-icon-database'><use xlink:href='#icon-database'></use></svg></label><div class='xr-var-attrs'><dl class='xr-attrs'><dt><span>long_name :</span></dt><dd>precipitation_accumulation</dd><dt><span>units :</span></dt><dd>mm/hour</dd><dt><span>ancillary_variables :</span></dt><dd>pr_qc, pr_eraqc</dd><dt><span>comment :</span></dt><dd>Accumulated precipitation.</dd></dl></div><div class='xr-var-data'><pre>array([[0., 0., 0., ..., 0., 0., 0.]])</pre></div></li><li class='xr-var-item'><div class='xr-var-name'><span>hurs</span></div><div class='xr-var-dims'>(station, time)</div><div class='xr-var-dtype'>float64</div><div class='xr-var-preview xr-preview'>...</div><input id='attrs-ab1c69c2-7966-49ea-ad62-8778c9d4d282' class='xr-var-attrs-in' type='checkbox' ><label for='attrs-ab1c69c2-7966-49ea-ad62-8778c9d4d282' title='Show/Hide attributes'><svg class='icon xr-icon-file-text2'><use xlink:href='#icon-file-text2'></use></svg></label><input id='data-07d858a2-752c-4396-b0f5-7d0030a2768e' class='xr-var-data-in' type='checkbox'><label for='data-07d858a2-752c-4396-b0f5-7d0030a2768e' title='Show/Hide data repr'><svg class='icon xr-icon-database'><use xlink:href='#icon-database'></use></svg></label><div class='xr-var-attrs'><dl class='xr-attrs'><dt><span>long_name :</span></dt><dd>relative_humidity</dd><dt><span>standard_name :</span></dt><dd>relative_humidity</dd><dt><span>units :</span></dt><dd>percent</dd><dt><span>ancillary_variables :</span></dt><dd>hurs_qc, hurs_eraqc</dd></dl></div><div class='xr-var-data'><pre>array([[92., 92., 92., ..., 87., 87., 85.]])</pre></div></li><li class='xr-var-item'><div class='xr-var-name'><span>rsds</span></div><div class='xr-var-dims'>(station, time)</div><div class='xr-var-dtype'>float64</div><div class='xr-var-preview xr-preview'>...</div><input id='attrs-62c14e74-77e4-4d0f-92f5-2a1ecdf0d87c' class='xr-var-attrs-in' type='checkbox' ><label for='attrs-62c14e74-77e4-4d0f-92f5-2a1ecdf0d87c' title='Show/Hide attributes'><svg class='icon xr-icon-file-text2'><use xlink:href='#icon-file-text2'></use></svg></label><input id='data-817c2c8e-c956-4bc1-bca3-d92872d98a62' class='xr-var-data-in' type='checkbox'><label for='data-817c2c8e-c956-4bc1-bca3-d92872d98a62' title='Show/Hide data repr'><svg class='icon xr-icon-database'><use xlink:href='#icon-database'></use></svg></label><div class='xr-var-attrs'><dl class='xr-attrs'><dt><span>long_name :</span></dt><dd>solar_radiation</dd><dt><span>standard_name :</span></dt><dd>surface_downwelling_shortwave_flux_in_air</dd><dt><span>units :</span></dt><dd>W m-2</dd><dt><span>ancillary_variables :</span></dt><dd>rsds_qc, rsds_eraqc</dd></dl></div><div class='xr-var-data'><pre>array([[ 2.,  1.,  1., ..., -2., -2., -2.]])</pre></div></li><li class='xr-var-item'><div class='xr-var-name'><span>sfcWind</span></div><div class='xr-var-dims'>(station, time)</div><div class='xr-var-dtype'>float64</div><div class='xr-var-preview xr-preview'>...</div><input id='attrs-a0a66536-d98f-43a4-81a5-093182c4a17c' class='xr-var-attrs-in' type='checkbox' ><label for='attrs-a0a66536-d98f-43a4-81a5-093182c4a17c' title='Show/Hide attributes'><svg class='icon xr-icon-file-text2'><use xlink:href='#icon-file-text2'></use></svg></label><input id='data-27327884-69d2-4ee4-9c36-62827dd659f8' class='xr-var-data-in' type='checkbox'><label for='data-27327884-69d2-4ee4-9c36-62827dd659f8' title='Show/Hide data repr'><svg class='icon xr-icon-database'><use xlink:href='#icon-database'></use></svg></label><div class='xr-var-attrs'><dl class='xr-attrs'><dt><span>long_name :</span></dt><dd>wind_speed</dd><dt><span>standard_name :</span></dt><dd>wind_speed</dd><dt><span>units :</span></dt><dd>m s-1</dd><dt><span>ancillary_variables :</span></dt><dd>sfcWind_qc, sfcWind_eraqc</dd></dl></div><div class='xr-var-data'><pre>array([[0.9, 1.3, 2. , ..., 0.8, 1.2, 2.2]])</pre></div></li><li class='xr-var-item'><div class='xr-var-name'><span>sfcWind_dir</span></div><div class='xr-var-dims'>(station, time)</div><div class='xr-var-dtype'>float64</div><div class='xr-var-preview xr-preview'>...</div><input id='attrs-68d95a78-3b65-4d23-9353-b1074dfe260a' class='xr-var-attrs-in' type='checkbox' ><label for='attrs-68d95a78-3b65-4d23-9353-b1074dfe260a' title='Show/Hide attributes'><svg class='icon xr-icon-file-text2'><use xlink:href='#icon-file-text2'></use></svg></label><input id='data-31bdf8db-5262-4c10-9c3c-2ce5a74345c3' class='xr-var-data-in' type='checkbox'><label for='data-31bdf8db-5262-4c10-9c3c-2ce5a74345c3' title='Show/Hide data repr'><svg class='icon xr-icon-database'><use xlink:href='#icon-database'></use></svg></label><div class='xr-var-attrs'><dl class='xr-attrs'><dt><span>long_name :</span></dt><dd>wind_direction</dd><dt><span>standard_name :</span></dt><dd>wind_from_direction</dd><dt><span>units :</span></dt><dd>degrees_clockwise_from_north</dd><dt><span>ancillary_variables :</span></dt><dd>sfcWind_dir_qc, sfcWind_dir_eraqc</dd><dt><span>comment :</span></dt><dd>Wind direction is defined by the direction that the wind is coming from (i.e., a northerly wind originates in the north and blows towards the south).</dd></dl></div><div class='xr-var-data'><pre>array([[ 49.1, 264.4, 302.8, ...,  63.3,  33.4,  44.4]])</pre></div></li><li class='xr-var-item'><div class='xr-var-name'><span>pr_qc</span></div><div class='xr-var-dims'>(station, time)</div><div class='xr-var-dtype'>object</div><div class='xr-var-preview xr-preview'>...</div><input id='attrs-06130179-a711-4aec-8ae3-3942bf749a42' class='xr-var-attrs-in' type='checkbox' ><label for='attrs-06130179-a711-4aec-8ae3-3942bf749a42' title='Show/Hide attributes'><svg class='icon xr-icon-file-text2'><use xlink:href='#icon-file-text2'></use></svg></label><input id='data-4b4bf698-5f94-497f-8c33-5284e3743510' class='xr-var-data-in' type='checkbox'><label for='data-4b4bf698-5f94-497f-8c33-5284e3743510' title='Show/Hide data repr'><svg class='icon xr-icon-database'><use xlink:href='#icon-database'></use></svg></label><div class='xr-var-attrs'><dl class='xr-attrs'><dt><span>flag_values :</span></dt><dd>M Q R Y</dd><dt><span>flag_meanings :</span></dt><dd>See QA/QC csv for network.</dd></dl></div><div class='xr-var-data'><pre>array([[&#x27;nan&#x27;, &#x27;nan&#x27;, &#x27;nan&#x27;, ..., &#x27;nan&#x27;, &#x27;nan&#x27;, &#x27;nan&#x27;]], dtype=object)</pre></div></li><li class='xr-var-item'><div class='xr-var-name'><span>rsds_qc</span></div><div class='xr-var-dims'>(station, time)</div><div class='xr-var-dtype'>object</div><div class='xr-var-preview xr-preview'>...</div><input id='attrs-c03cc716-dacd-41b8-bdaf-00ffec33ec65' class='xr-var-attrs-in' type='checkbox' ><label for='attrs-c03cc716-dacd-41b8-bdaf-00ffec33ec65' title='Show/Hide attributes'><svg class='icon xr-icon-file-text2'><use xlink:href='#icon-file-text2'></use></svg></label><input id='data-e3e4b461-94a0-4771-84cd-0e7aa9670aa6' class='xr-var-data-in' type='checkbox'><label for='data-e3e4b461-94a0-4771-84cd-0e7aa9670aa6' title='Show/Hide data repr'><svg class='icon xr-icon-database'><use xlink:href='#icon-database'></use></svg></label><div class='xr-var-attrs'><dl class='xr-attrs'><dt><span>flag_values :</span></dt><dd>M R S Y</dd><dt><span>flag_meanings :</span></dt><dd>See QA/QC csv for network.</dd></dl></div><div class='xr-var-data'><pre>array([[&#x27;nan&#x27;, &#x27;nan&#x27;, &#x27;nan&#x27;, ..., &#x27;nan&#x27;, &#x27;nan&#x27;, &#x27;nan&#x27;]], dtype=object)</pre></div></li><li class='xr-var-item'><div class='xr-var-name'><span>pvp_derived_qc</span></div><div class='xr-var-dims'>(station, time)</div><div class='xr-var-dtype'>object</div><div class='xr-var-preview xr-preview'>...</div><input id='attrs-20c7dc10-b8ec-4cf8-adfa-cbf5c3e6b837' class='xr-var-attrs-in' type='checkbox' ><label for='attrs-20c7dc10-b8ec-4cf8-adfa-cbf5c3e6b837' title='Show/Hide attributes'><svg class='icon xr-icon-file-text2'><use xlink:href='#icon-file-text2'></use></svg></label><input id='data-5a1050fa-cec4-4dd8-987d-12d054df786e' class='xr-var-data-in' type='checkbox'><label for='data-5a1050fa-cec4-4dd8-987d-12d054df786e' title='Show/Hide data repr'><svg class='icon xr-icon-database'><use xlink:href='#icon-database'></use></svg></label><div class='xr-var-attrs'><dl class='xr-attrs'><dt><span>flag_values :</span></dt><dd>M Q Y</dd><dt><span>flag_meanings :</span></dt><dd>See QA/QC csv for network.</dd></dl></div><div class='xr-var-data'><pre>array([[&#x27;nan&#x27;, &#x27;nan&#x27;, &#x27;nan&#x27;, ..., &#x27;nan&#x27;, &#x27;nan&#x27;, &#x27;nan&#x27;]], dtype=object)</pre></div></li><li class='xr-var-item'><div class='xr-var-name'><span>tas_qc</span></div><div class='xr-var-dims'>(station, time)</div><div class='xr-var-dtype'>object</div><div class='xr-var-preview xr-preview'>...</div><input id='attrs-0691aec4-0b3f-476a-85d6-e921bdc88c64' class='xr-var-attrs-in' type='checkbox' ><label for='attrs-0691aec4-0b3f-476a-85d6-e921bdc88c64' title='Show/Hide attributes'><svg class='icon xr-icon-file-text2'><use xlink:href='#icon-file-text2'></use></svg></label><input id='data-27cc074b-2141-4290-820c-f2b623027134' class='xr-var-data-in' type='checkbox'><label for='data-27cc074b-2141-4290-820c-f2b623027134' title='Show/Hide data repr'><svg class='icon xr-icon-database'><use xlink:href='#icon-database'></use></svg></label><div class='xr-var-attrs'><dl class='xr-attrs'><dt><span>flag_values :</span></dt><dd>M R</dd><dt><span>flag_meanings :</span></dt><dd>See QA/QC csv for network.</dd></dl></div><div class='xr-var-data'><pre>array([[&#x27;nan&#x27;, &#x27;nan&#x27;, &#x27;nan&#x27;, ..., &#x27;nan&#x27;, &#x27;nan&#x27;, &#x27;nan&#x27;]], dtype=object)</pre></div></li><li class='xr-var-item'><div class='xr-var-name'><span>hurs_qc</span></div><div class='xr-var-dims'>(station, time)</div><div class='xr-var-dtype'>object</div><div class='xr-var-preview xr-preview'>...</div><input id='attrs-0e9352fa-62c7-4827-9d3a-17c0b2a25d47' class='xr-var-attrs-in' type='checkbox' ><label for='attrs-0e9352fa-62c7-4827-9d3a-17c0b2a25d47' title='Show/Hide attributes'><svg class='icon xr-icon-file-text2'><use xlink:href='#icon-file-text2'></use></svg></label><input id='data-d343b232-e164-481b-864e-5f25d01ad175' class='xr-var-data-in' type='checkbox'><label for='data-d343b232-e164-481b-864e-5f25d01ad175' title='Show/Hide data repr'><svg class='icon xr-icon-database'><use xlink:href='#icon-database'></use></svg></label><div class='xr-var-attrs'><dl class='xr-attrs'><dt><span>flag_values :</span></dt><dd>M</dd><dt><span>flag_meanings :</span></dt><dd>See QA/QC csv for network.</dd></dl></div><div class='xr-var-data'><pre>array([[&#x27;nan&#x27;, &#x27;nan&#x27;, &#x27;nan&#x27;, ..., &#x27;nan&#x27;, &#x27;nan&#x27;, &#x27;nan&#x27;]], dtype=object)</pre></div></li><li class='xr-var-item'><div class='xr-var-name'><span>tdps_derived_qc</span></div><div class='xr-var-dims'>(station, time)</div><div class='xr-var-dtype'>object</div><div class='xr-var-preview xr-preview'>...</div><input id='attrs-8ea2293a-3039-455f-9ea2-60b035023f05' class='xr-var-attrs-in' type='checkbox' ><label for='attrs-8ea2293a-3039-455f-9ea2-60b035023f05' title='Show/Hide attributes'><svg class='icon xr-icon-file-text2'><use xlink:href='#icon-file-text2'></use></svg></label><input id='data-45f21ab5-3fb3-4eae-b5da-710ca332f921' class='xr-var-data-in' type='checkbox'><label for='data-45f21ab5-3fb3-4eae-b5da-710ca332f921' title='Show/Hide data repr'><svg class='icon xr-icon-database'><use xlink:href='#icon-database'></use></svg></label><div class='xr-var-attrs'><dl class='xr-attrs'><dt><span>flag_values :</span></dt><dd>M</dd><dt><span>flag_meanings :</span></dt><dd>See QA/QC csv for network.</dd></dl></div><div class='xr-var-data'><pre>array([[&#x27;nan&#x27;, &#x27;nan&#x27;, &#x27;nan&#x27;, ..., &#x27;nan&#x27;, &#x27;nan&#x27;, &#x27;nan&#x27;]], dtype=object)</pre></div></li><li class='xr-var-item'><div class='xr-var-name'><span>sfcWind_qc</span></div><div class='xr-var-dims'>(station, time)</div><div class='xr-var-dtype'>object</div><div class='xr-var-preview xr-preview'>...</div><input id='attrs-4fbcb7c9-e869-40d8-a178-347ee2593a53' class='xr-var-attrs-in' type='checkbox' ><label for='attrs-4fbcb7c9-e869-40d8-a178-347ee2593a53' title='Show/Hide attributes'><svg class='icon xr-icon-file-text2'><use xlink:href='#icon-file-text2'></use></svg></label><input id='data-85cc18ee-7ef2-46a2-b24a-bef97e53be39' class='xr-var-data-in' type='checkbox'><label for='data-85cc18ee-7ef2-46a2-b24a-bef97e53be39' title='Show/Hide data repr'><svg class='icon xr-icon-database'><use xlink:href='#icon-database'></use></svg></label><div class='xr-var-attrs'><dl class='xr-attrs'><dt><span>flag_values :</span></dt><dd>M R S Y</dd><dt><span>flag_meanings :</span></dt><dd>See QA/QC csv for network.</dd></dl></div><div class='xr-var-data'><pre>array([[&#x27;nan&#x27;, &#x27;nan&#x27;, &#x27;nan&#x27;, ..., &#x27;nan&#x27;, &#x27;nan&#x27;, &#x27;nan&#x27;]], dtype=object)</pre></div></li><li class='xr-var-item'><div class='xr-var-name'><span>sfcWind_dir_qc</span></div><div class='xr-var-dims'>(station, time)</div><div class='xr-var-dtype'>object</div><div class='xr-var-preview xr-preview'>...</div><input id='attrs-b33ef00f-fcba-4020-bcba-869e2710bcca' class='xr-var-attrs-in' type='checkbox' ><label for='attrs-b33ef00f-fcba-4020-bcba-869e2710bcca' title='Show/Hide attributes'><svg class='icon xr-icon-file-text2'><use xlink:href='#icon-file-text2'></use></svg></label><input id='data-a3953448-6c2e-4844-9c61-90a6f3173248' class='xr-var-data-in' type='checkbox'><label for='data-a3953448-6c2e-4844-9c61-90a6f3173248' title='Show/Hide data repr'><svg class='icon xr-icon-database'><use xlink:href='#icon-database'></use></svg></label><div class='xr-var-attrs'><dl class='xr-attrs'><dt><span>flag_values :</span></dt><dd>I M Q</dd><dt><span>flag_meanings :</span></dt><dd>See QA/QC csv for network.</dd></dl></div><div class='xr-var-data'><pre>array([[&#x27;nan&#x27;, &#x27;nan&#x27;, &#x27;nan&#x27;, ..., &#x27;nan&#x27;, &#x27;nan&#x27;, &#x27;nan&#x27;]], dtype=object)</pre></div></li><li class='xr-var-item'><div class='xr-var-name'><span>elevation</span></div><div class='xr-var-dims'>(station, time)</div><div class='xr-var-dtype'>float64</div><div class='xr-var-preview xr-preview'>...</div><input id='attrs-4a2e0a22-3100-4bc0-bcab-bfa12f588855' class='xr-var-attrs-in' type='checkbox' ><label for='attrs-4a2e0a22-3100-4bc0-bcab-bfa12f588855' title='Show/Hide attributes'><svg class='icon xr-icon-file-text2'><use xlink:href='#icon-file-text2'></use></svg></label><input id='data-76b76965-d099-4ed8-8709-03d8ac2c81aa' class='xr-var-data-in' type='checkbox'><label for='data-76b76965-d099-4ed8-8709-03d8ac2c81aa' title='Show/Hide data repr'><svg class='icon xr-icon-database'><use xlink:href='#icon-database'></use></svg></label><div class='xr-var-attrs'><dl class='xr-attrs'><dt><span>standard_name :</span></dt><dd>height_above_mean_sea_level</dd><dt><span>long_name :</span></dt><dd>station_elevation</dd><dt><span>units :</span></dt><dd>meters</dd><dt><span>positive :</span></dt><dd>up</dd><dt><span>comment :</span></dt><dd>Converted from feet to meters.</dd><dt><span>ancillary_variables :</span></dt><dd>elevation_eraqc</dd></dl></div><div class='xr-var-data'><pre>array([[112.776, 112.776, 112.776, ..., 112.776, 112.776, 112.776]])</pre></div></li><li class='xr-var-item'><div class='xr-var-name'><span>tdps_derived</span></div><div class='xr-var-dims'>(station, time)</div><div class='xr-var-dtype'>float64</div><div class='xr-var-preview xr-preview'>...</div><input id='attrs-19ac90e1-2579-44ed-9512-859e9793d7ff' class='xr-var-attrs-in' type='checkbox' ><label for='attrs-19ac90e1-2579-44ed-9512-859e9793d7ff' title='Show/Hide attributes'><svg class='icon xr-icon-file-text2'><use xlink:href='#icon-file-text2'></use></svg></label><input id='data-8dc438d0-5f45-41d6-99e2-663e56b5b7a1' class='xr-var-data-in' type='checkbox'><label for='data-8dc438d0-5f45-41d6-99e2-663e56b5b7a1' title='Show/Hide data repr'><svg class='icon xr-icon-database'><use xlink:href='#icon-database'></use></svg></label><div class='xr-var-attrs'><dl class='xr-attrs'><dt><span>long_name :</span></dt><dd>dew_point_temperature</dd><dt><span>standard_name :</span></dt><dd>dew_point_temperature</dd><dt><span>units :</span></dt><dd>degree_Kelvin</dd><dt><span>ancillary_variables :</span></dt><dd>tdps_derived_qc, tdps_derived_eraqc</dd><dt><span>comment :</span></dt><dd>Derived by CIMIS from vapor pressure and air temperature. Converted from Celsius to Kelvin.</dd></dl></div><div class='xr-var-data'><pre>array([[285.15, 285.15, 285.25, ..., 280.85, 280.65, 280.35]])</pre></div></li><li class='xr-var-item'><div class='xr-var-name'><span>pvp_derived</span></div><div class='xr-var-dims'>(station, time)</div><div class='xr-var-dtype'>float64</div><div class='xr-var-preview xr-preview'>...</div><input id='attrs-ce903855-238e-4a38-a9ea-5ae3aeadb3aa' class='xr-var-attrs-in' type='checkbox' ><label for='attrs-ce903855-238e-4a38-a9ea-5ae3aeadb3aa' title='Show/Hide attributes'><svg class='icon xr-icon-file-text2'><use xlink:href='#icon-file-text2'></use></svg></label><input id='data-c65d3992-c93c-45c7-b4ee-86bda78b60e9' class='xr-var-data-in' type='checkbox'><label for='data-c65d3992-c93c-45c7-b4ee-86bda78b60e9' title='Show/Hide data repr'><svg class='icon xr-icon-database'><use xlink:href='#icon-database'></use></svg></label><div class='xr-var-attrs'><dl class='xr-attrs'><dt><span>long_name :</span></dt><dd>partial_vapor_pressure</dd><dt><span>standard_name :</span></dt><dd>water_vapor_partial_pressure_in_air</dd><dt><span>units :</span></dt><dd>Pa</dd><dt><span>ancillary_variables :</span></dt><dd>pvp_qc, pvp_derived_eraqc</dd><dt><span>comment :</span></dt><dd>Derived by CIMIS from relative humidity and air temperature measurements. Converted from kPa to Pa.</dd></dl></div><div class='xr-var-data'><pre>array([[1400., 1400., 1400., ..., 1100., 1000., 1000.]])</pre></div></li><li class='xr-var-item'><div class='xr-var-name'><span>lat</span></div><div class='xr-var-dims'>(station, time)</div><div class='xr-var-dtype'>float64</div><div class='xr-var-preview xr-preview'>...</div><input id='attrs-38a2c899-2e62-4d20-af92-530f1741cde9' class='xr-var-attrs-in' type='checkbox' disabled><label for='attrs-38a2c899-2e62-4d20-af92-530f1741cde9' title='Show/Hide attributes'><svg class='icon xr-icon-file-text2'><use xlink:href='#icon-file-text2'></use></svg></label><input id='data-723cc148-c5d6-4eb0-a143-cd1b37fcc6dd' class='xr-var-data-in' type='checkbox'><label for='data-723cc148-c5d6-4eb0-a143-cd1b37fcc6dd' title='Show/Hide data repr'><svg class='icon xr-icon-database'><use xlink:href='#icon-database'></use></svg></label><div class='xr-var-attrs'><dl class='xr-attrs'></dl></div><div class='xr-var-data'><pre>array([[32.787, 32.787, 32.787, ..., 32.787, 32.787, 32.787]])</pre></div></li><li class='xr-var-item'><div class='xr-var-name'><span>lon</span></div><div class='xr-var-dims'>(station, time)</div><div class='xr-var-dtype'>float64</div><div class='xr-var-preview xr-preview'>...</div><input id='attrs-a754e57c-6c14-436d-9151-7cc803486792' class='xr-var-attrs-in' type='checkbox' disabled><label for='attrs-a754e57c-6c14-436d-9151-7cc803486792' title='Show/Hide attributes'><svg class='icon xr-icon-file-text2'><use xlink:href='#icon-file-text2'></use></svg></label><input id='data-382748c5-d593-4017-bc37-89bec3955110' class='xr-var-data-in' type='checkbox'><label for='data-382748c5-d593-4017-bc37-89bec3955110' title='Show/Hide data repr'><svg class='icon xr-icon-database'><use xlink:href='#icon-database'></use></svg></label><div class='xr-var-attrs'><dl class='xr-attrs'></dl></div><div class='xr-var-data'><pre>array([[-117.135, -117.135, -117.135, ..., -117.135, -117.135, -117.135]])</pre></div></li><li class='xr-var-item'><div class='xr-var-name'><span>tas_eraqc</span></div><div class='xr-var-dims'>(station, time)</div><div class='xr-var-dtype'>int64</div><div class='xr-var-preview xr-preview'>...</div><input id='attrs-b3a4ee6e-ac73-4ac4-b884-38f6316e53cd' class='xr-var-attrs-in' type='checkbox' disabled><label for='attrs-b3a4ee6e-ac73-4ac4-b884-38f6316e53cd' title='Show/Hide attributes'><svg class='icon xr-icon-file-text2'><use xlink:href='#icon-file-text2'></use></svg></label><input id='data-cc21448d-8734-40cd-8bdf-e5ed5f105bc0' class='xr-var-data-in' type='checkbox'><label for='data-cc21448d-8734-40cd-8bdf-e5ed5f105bc0' title='Show/Hide data repr'><svg class='icon xr-icon-database'><use xlink:href='#icon-database'></use></svg></label><div class='xr-var-attrs'><dl class='xr-attrs'></dl></div><div class='xr-var-data'><pre>array([[19, 19, 19, ..., 19, 19, 19]])</pre></div></li><li class='xr-var-item'><div class='xr-var-name'><span>pr_eraqc</span></div><div class='xr-var-dims'>(station, time)</div><div class='xr-var-dtype'>float64</div><div class='xr-var-preview xr-preview'>...</div><input id='attrs-331b86f0-a969-41d7-98c8-b975f2fbd2ec' class='xr-var-attrs-in' type='checkbox' disabled><label for='attrs-331b86f0-a969-41d7-98c8-b975f2fbd2ec' title='Show/Hide attributes'><svg class='icon xr-icon-file-text2'><use xlink:href='#icon-file-text2'></use></svg></label><input id='data-19c9e9bf-9f20-4e3f-abe0-d321a1b1cbfe' class='xr-var-data-in' type='checkbox'><label for='data-19c9e9bf-9f20-4e3f-abe0-d321a1b1cbfe' title='Show/Hide data repr'><svg class='icon xr-icon-database'><use xlink:href='#icon-database'></use></svg></label><div class='xr-var-attrs'><dl class='xr-attrs'></dl></div><div class='xr-var-data'><pre>array([[nan, nan, nan, ..., nan, nan, nan]])</pre></div></li><li class='xr-var-item'><div class='xr-var-name'><span>hurs_eraqc</span></div><div class='xr-var-dims'>(station, time)</div><div class='xr-var-dtype'>float64</div><div class='xr-var-preview xr-preview'>...</div><input id='attrs-3f3b7292-bab4-446c-afa7-1c7bf46a7eb9' class='xr-var-attrs-in' type='checkbox' disabled><label for='attrs-3f3b7292-bab4-446c-afa7-1c7bf46a7eb9' title='Show/Hide attributes'><svg class='icon xr-icon-file-text2'><use xlink:href='#icon-file-text2'></use></svg></label><input id='data-564a97ec-2340-4fcb-9704-4d8b962f5c6b' class='xr-var-data-in' type='checkbox'><label for='data-564a97ec-2340-4fcb-9704-4d8b962f5c6b' title='Show/Hide data repr'><svg class='icon xr-icon-database'><use xlink:href='#icon-database'></use></svg></label><div class='xr-var-attrs'><dl class='xr-attrs'></dl></div><div class='xr-var-data'><pre>array([[nan, nan, nan, ..., nan, nan, nan]])</pre></div></li><li class='xr-var-item'><div class='xr-var-name'><span>rsds_eraqc</span></div><div class='xr-var-dims'>(station, time)</div><div class='xr-var-dtype'>int64</div><div class='xr-var-preview xr-preview'>...</div><input id='attrs-4f7f3761-3e64-4c2b-9cac-bbc1a0e16fb2' class='xr-var-attrs-in' type='checkbox' disabled><label for='attrs-4f7f3761-3e64-4c2b-9cac-bbc1a0e16fb2' title='Show/Hide attributes'><svg class='icon xr-icon-file-text2'><use xlink:href='#icon-file-text2'></use></svg></label><input id='data-9e627659-39d1-4c55-b4aa-a1e3133db6b8' class='xr-var-data-in' type='checkbox'><label for='data-9e627659-39d1-4c55-b4aa-a1e3133db6b8' title='Show/Hide data repr'><svg class='icon xr-icon-database'><use xlink:href='#icon-database'></use></svg></label><div class='xr-var-attrs'><dl class='xr-attrs'></dl></div><div class='xr-var-data'><pre>array([[19, 19, 19, ..., 19, 19, 19]])</pre></div></li><li class='xr-var-item'><div class='xr-var-name'><span>sfcWind_eraqc</span></div><div class='xr-var-dims'>(station, time)</div><div class='xr-var-dtype'>float64</div><div class='xr-var-preview xr-preview'>...</div><input id='attrs-8942a34c-9ecb-4e2f-a5bb-ff918439c8c6' class='xr-var-attrs-in' type='checkbox' disabled><label for='attrs-8942a34c-9ecb-4e2f-a5bb-ff918439c8c6' title='Show/Hide attributes'><svg class='icon xr-icon-file-text2'><use xlink:href='#icon-file-text2'></use></svg></label><input id='data-ac97a0ea-3396-4c2a-8280-4e5fa7806843' class='xr-var-data-in' type='checkbox'><label for='data-ac97a0ea-3396-4c2a-8280-4e5fa7806843' title='Show/Hide data repr'><svg class='icon xr-icon-database'><use xlink:href='#icon-database'></use></svg></label><div class='xr-var-attrs'><dl class='xr-attrs'></dl></div><div class='xr-var-data'><pre>array([[nan, nan, nan, ..., nan, nan, nan]])</pre></div></li><li class='xr-var-item'><div class='xr-var-name'><span>sfcWind_dir_eraqc</span></div><div class='xr-var-dims'>(station, time)</div><div class='xr-var-dtype'>float64</div><div class='xr-var-preview xr-preview'>...</div><input id='attrs-fe026d5d-de3b-40da-8589-5c9d1c5ffb7a' class='xr-var-attrs-in' type='checkbox' disabled><label for='attrs-fe026d5d-de3b-40da-8589-5c9d1c5ffb7a' title='Show/Hide attributes'><svg class='icon xr-icon-file-text2'><use xlink:href='#icon-file-text2'></use></svg></label><input id='data-a7a420d9-c9bc-469a-98f9-4b41c6dd3079' class='xr-var-data-in' type='checkbox'><label for='data-a7a420d9-c9bc-469a-98f9-4b41c6dd3079' title='Show/Hide data repr'><svg class='icon xr-icon-database'><use xlink:href='#icon-database'></use></svg></label><div class='xr-var-attrs'><dl class='xr-attrs'></dl></div><div class='xr-var-data'><pre>array([[nan, nan, nan, ..., nan, nan, nan]])</pre></div></li><li class='xr-var-item'><div class='xr-var-name'><span>elevation_eraqc</span></div><div class='xr-var-dims'>(station, time)</div><div class='xr-var-dtype'>float64</div><div class='xr-var-preview xr-preview'>...</div><input id='attrs-63a18ec4-e3cc-4cf5-ba7a-34c02d870bcb' class='xr-var-attrs-in' type='checkbox' disabled><label for='attrs-63a18ec4-e3cc-4cf5-ba7a-34c02d870bcb' title='Show/Hide attributes'><svg class='icon xr-icon-file-text2'><use xlink:href='#icon-file-text2'></use></svg></label><input id='data-afdefe79-9e09-487a-a57b-fdb40cbed1ef' class='xr-var-data-in' type='checkbox'><label for='data-afdefe79-9e09-487a-a57b-fdb40cbed1ef' title='Show/Hide data repr'><svg class='icon xr-icon-database'><use xlink:href='#icon-database'></use></svg></label><div class='xr-var-attrs'><dl class='xr-attrs'></dl></div><div class='xr-var-data'><pre>array([[nan, nan, nan, ..., nan, nan, nan]])</pre></div></li><li class='xr-var-item'><div class='xr-var-name'><span>tdps_derived_eraqc</span></div><div class='xr-var-dims'>(station, time)</div><div class='xr-var-dtype'>int64</div><div class='xr-var-preview xr-preview'>...</div><input id='attrs-7171bbdf-92a1-4424-9d37-355f65e9f7c4' class='xr-var-attrs-in' type='checkbox' disabled><label for='attrs-7171bbdf-92a1-4424-9d37-355f65e9f7c4' title='Show/Hide attributes'><svg class='icon xr-icon-file-text2'><use xlink:href='#icon-file-text2'></use></svg></label><input id='data-2157e7fe-6da1-4879-96e8-97ce7cba2415' class='xr-var-data-in' type='checkbox'><label for='data-2157e7fe-6da1-4879-96e8-97ce7cba2415' title='Show/Hide data repr'><svg class='icon xr-icon-database'><use xlink:href='#icon-database'></use></svg></label><div class='xr-var-attrs'><dl class='xr-attrs'></dl></div><div class='xr-var-data'><pre>array([[19, 19, 19, ..., 19, 19, 19]])</pre></div></li><li class='xr-var-item'><div class='xr-var-name'><span>pvp_derived_eraqc</span></div><div class='xr-var-dims'>(station, time)</div><div class='xr-var-dtype'>float64</div><div class='xr-var-preview xr-preview'>...</div><input id='attrs-b7977075-b3e8-436e-b6e2-297f1b6770e6' class='xr-var-attrs-in' type='checkbox' disabled><label for='attrs-b7977075-b3e8-436e-b6e2-297f1b6770e6' title='Show/Hide attributes'><svg class='icon xr-icon-file-text2'><use xlink:href='#icon-file-text2'></use></svg></label><input id='data-cdf35f91-bbc3-4ad1-8e42-cde726f2f1c8' class='xr-var-data-in' type='checkbox'><label for='data-cdf35f91-bbc3-4ad1-8e42-cde726f2f1c8' title='Show/Hide data repr'><svg class='icon xr-icon-database'><use xlink:href='#icon-database'></use></svg></label><div class='xr-var-attrs'><dl class='xr-attrs'></dl></div><div class='xr-var-data'><pre>array([[nan, nan, nan, ..., nan, nan, nan]])</pre></div></li><li class='xr-var-item'><div class='xr-var-name'><span>anemometer_height_m</span></div><div class='xr-var-dims'>(station, time)</div><div class='xr-var-dtype'>float64</div><div class='xr-var-preview xr-preview'>...</div><input id='attrs-d46018b8-43f9-4964-9b61-33e0b2b84d20' class='xr-var-attrs-in' type='checkbox' disabled><label for='attrs-d46018b8-43f9-4964-9b61-33e0b2b84d20' title='Show/Hide attributes'><svg class='icon xr-icon-file-text2'><use xlink:href='#icon-file-text2'></use></svg></label><input id='data-0beb88c5-c976-4409-8bcc-249d27bf9729' class='xr-var-data-in' type='checkbox'><label for='data-0beb88c5-c976-4409-8bcc-249d27bf9729' title='Show/Hide data repr'><svg class='icon xr-icon-database'><use xlink:href='#icon-database'></use></svg></label><div class='xr-var-attrs'><dl class='xr-attrs'></dl></div><div class='xr-var-data'><pre>array([[2., 2., 2., ..., 2., 2., 2.]])</pre></div></li><li class='xr-var-item'><div class='xr-var-name'><span>thermometer_height_m</span></div><div class='xr-var-dims'>(station, time)</div><div class='xr-var-dtype'>float64</div><div class='xr-var-preview xr-preview'>...</div><input id='attrs-a46e101c-5a8e-429b-a429-7ac29c652661' class='xr-var-attrs-in' type='checkbox' disabled><label for='attrs-a46e101c-5a8e-429b-a429-7ac29c652661' title='Show/Hide attributes'><svg class='icon xr-icon-file-text2'><use xlink:href='#icon-file-text2'></use></svg></label><input id='data-5228c0bf-ecf1-47be-8066-3157fdd3cc39' class='xr-var-data-in' type='checkbox'><label for='data-5228c0bf-ecf1-47be-8066-3157fdd3cc39' title='Show/Hide data repr'><svg class='icon xr-icon-database'><use xlink:href='#icon-database'></use></svg></label><div class='xr-var-attrs'><dl class='xr-attrs'></dl></div><div class='xr-var-data'><pre>array([[1.5, 1.5, 1.5, ..., 1.5, 1.5, 1.5]])</pre></div></li></ul></div></li><li class='xr-section-item'><input id='section-b6547238-bf4c-4d9c-a3a3-d6b5d48a1373' class='xr-section-summary-in' type='checkbox'  ><label for='section-b6547238-bf4c-4d9c-a3a3-d6b5d48a1373' class='xr-section-summary' >Attributes: <span>(16)</span></label><div class='xr-section-inline-details'></div><div class='xr-section-details'><dl class='xr-attrs'><dt><span>title :</span></dt><dd>CIMIS quality controlled</dd><dt><span>institution :</span></dt><dd>Eagle Rock Analytics / Cal Adapt</dd><dt><span>source :</span></dt><dd></dd><dt><span>history :</span></dt><dd>CIMIS_clean.py script run on 02-13-2023, 22:25:54 UTC \n",
       "ALLNETWORKS_qaqc.py script run on 08-07-2024, 20:46:58 UTC</dd><dt><span>comment :</span></dt><dd>Intermediate data product: may not have been subject to any cleaning or QA/QC processing \n",
       "An intermediate data product: subject to cleaning but may not be subject to full QA/QC processing.</dd><dt><span>license :</span></dt><dd></dd><dt><span>citation :</span></dt><dd></dd><dt><span>disclaimer :</span></dt><dd>This document was prepared as a result of work sponsored by the California Energy Commission (PIR-19-006). It does not necessarily represent the views of the Energy Commission, its employees, or the State of California. Neither the Commission, the State of California, nor the Commission&#x27;s employees, contractors, or subcontractors makes any warranty, express or implied, or assumes any legal liability for the information in this document; nor does any party represent that the use of this information will not infringe upon privately owned rights. This document has not been approved or disapproved by the Commission, nor has the Commission passed upon the accuracy of the information in this document.</dd><dt><span>station_name :</span></dt><dd>San Diego</dd><dt><span>pyranometer_height_m :</span></dt><dd>2.0</dd><dt><span>wind_vane_height_m :</span></dt><dd>2.0</dd><dt><span>anemometer_height_m :</span></dt><dd>2.0</dd><dt><span>thermometer_height_m :</span></dt><dd>1.5</dd><dt><span>humidity_height_m :</span></dt><dd>1.5</dd><dt><span>rain_gauge_height_m :</span></dt><dd>1.0</dd><dt><span>raw_files_merged :</span></dt><dd>3</dd></dl></div></li></ul></div></div>"
      ],
      "text/plain": [
       "<xarray.Dataset>\n",
       "Dimensions:               (station: 1, time: 26304)\n",
       "Coordinates:\n",
       "  * station               (station) object 'CIMIS_45'\n",
       "  * time                  (time) datetime64[ns] 1986-01-01T09:00:00 ... 1989-...\n",
       "Data variables: (12/30)\n",
       "    tas                   (station, time) float64 ...\n",
       "    pr                    (station, time) float64 ...\n",
       "    hurs                  (station, time) float64 ...\n",
       "    rsds                  (station, time) float64 ...\n",
       "    sfcWind               (station, time) float64 ...\n",
       "    sfcWind_dir           (station, time) float64 ...\n",
       "    ...                    ...\n",
       "    sfcWind_dir_eraqc     (station, time) float64 ...\n",
       "    elevation_eraqc       (station, time) float64 ...\n",
       "    tdps_derived_eraqc    (station, time) int64 ...\n",
       "    pvp_derived_eraqc     (station, time) float64 ...\n",
       "    anemometer_height_m   (station, time) float64 ...\n",
       "    thermometer_height_m  (station, time) float64 ...\n",
       "Attributes: (12/16)\n",
       "    title:                 CIMIS quality controlled\n",
       "    institution:           Eagle Rock Analytics / Cal Adapt\n",
       "    source:                \n",
       "    history:               CIMIS_clean.py script run on 02-13-2023, 22:25:54 ...\n",
       "    comment:               Intermediate data product: may not have been subje...\n",
       "    license:               \n",
       "    ...                    ...\n",
       "    wind_vane_height_m:    2.0\n",
       "    anemometer_height_m:   2.0\n",
       "    thermometer_height_m:  1.5\n",
       "    humidity_height_m:     1.5\n",
       "    rain_gauge_height_m:   1.0\n",
       "    raw_files_merged:      3"
      ]
     },
     "execution_count": 11,
     "metadata": {},
     "output_type": "execute_result"
    }
   ],
   "source": [
    "# pull station from AWS\n",
    "# ds = pull_nc_from_aws(eval_stations['era-id'].values[-1]) # from station \n",
    "ds = pull_nc_from_aws('CIMIS_45') # manually\n",
    "ds"
   ]
  },
  {
   "cell_type": "code",
   "execution_count": 12,
   "id": "863e9503-5f4f-4a4d-8f0e-fa9fbb941be5",
   "metadata": {
    "execution": {
     "iopub.execute_input": "2024-09-13T22:56:45.914625Z",
     "iopub.status.busy": "2024-09-13T22:56:45.914479Z",
     "iopub.status.idle": "2024-09-13T22:56:46.119973Z",
     "shell.execute_reply": "2024-09-13T22:56:46.119641Z",
     "shell.execute_reply.started": "2024-09-13T22:56:45.914609Z"
    }
   },
   "outputs": [
    {
     "name": "stdout",
     "output_type": "stream",
     "text": [
      "Filling anemometer_height_m with NaN.\n",
      "Filling thermometer_height_m with NaN.\n",
      "CPU times: user 171 ms, sys: 12.9 ms, total: 183 ms\n",
      "Wall time: 183 ms\n"
     ]
    }
   ],
   "source": [
    "%%time \n",
    "df, MultiIndex, attrs, var_attrs, era_qc_vars = qaqc_ds_to_df(ds)"
   ]
  },
  {
   "cell_type": "code",
   "execution_count": 13,
   "id": "29bca118-c65b-46ea-8ff4-d52b2bade66e",
   "metadata": {
    "execution": {
     "iopub.execute_input": "2024-09-13T22:56:46.121248Z",
     "iopub.status.busy": "2024-09-13T22:56:46.121146Z",
     "iopub.status.idle": "2024-09-13T22:56:46.146206Z",
     "shell.execute_reply": "2024-09-13T22:56:46.145879Z",
     "shell.execute_reply.started": "2024-09-13T22:56:46.121239Z"
    }
   },
   "outputs": [
    {
     "name": "stdout",
     "output_type": "stream",
     "text": [
      "Checking for known station issues...\n",
      "Evaluating: tas\n",
      "Checking for known station issues...\n",
      "Evaluating: hurs\n",
      "Checking for known station issues...\n",
      "Evaluating: sfcWind\n",
      "Checking for known station issues...\n",
      "Evaluating: sfcWind_dir\n"
     ]
    }
   ],
   "source": [
    "# santa ana wind vars: air temp, humidity, wind speed, wind direction\n",
    "vars_to_check = ['tas', 'hurs', 'sfcWind', 'sfcWind_dir']\n",
    "vars_to_eval = [var for var in vars_to_check if var in df.columns] # check if variable is not present in the specific station\n",
    "\n",
    "for var in vars_to_eval:\n",
    "    known_issue_check(network=df.station.unique()[0].split('_')[0], \n",
    "                      var=var, \n",
    "                      stn=df.station.unique()[0]) # check if known issues are present first!\n",
    "    print('Evaluating: {}'.format(var))\n",
    "    flagged_timeseries_plot(df, var=var)"
   ]
  },
  {
   "cell_type": "markdown",
   "id": "9f19aa19-902f-4930-9616-babe69588395",
   "metadata": {},
   "source": [
    "Identify flags set during event for evaluation"
   ]
  },
  {
   "cell_type": "code",
   "execution_count": 14,
   "id": "2f58074f-c636-4341-b24e-463303026a50",
   "metadata": {
    "execution": {
     "iopub.execute_input": "2024-09-13T22:56:46.146718Z",
     "iopub.status.busy": "2024-09-13T22:56:46.146620Z",
     "iopub.status.idle": "2024-09-13T22:56:46.172683Z",
     "shell.execute_reply": "2024-09-13T22:56:46.172396Z",
     "shell.execute_reply.started": "2024-09-13T22:56:46.146707Z"
    }
   },
   "outputs": [
    {
     "name": "stdout",
     "output_type": "stream",
     "text": [
      "Subsetting station record for event duration with 14 day buffer...\n"
     ]
    }
   ],
   "source": [
    "subset_df = event_subset(df, event='santa_ana_wind', buffer=14)"
   ]
  },
  {
   "cell_type": "code",
   "execution_count": 15,
   "id": "52421acd-d309-47f5-918b-7a883a307ae3",
   "metadata": {
    "execution": {
     "iopub.execute_input": "2024-09-13T22:56:46.173350Z",
     "iopub.status.busy": "2024-09-13T22:56:46.173246Z",
     "iopub.status.idle": "2024-09-13T22:56:46.191883Z",
     "shell.execute_reply": "2024-09-13T22:56:46.191461Z",
     "shell.execute_reply.started": "2024-09-13T22:56:46.173339Z"
    }
   },
   "outputs": [
    {
     "name": "stdout",
     "output_type": "stream",
     "text": [
      "Flags set on tas during santa_ana_wind event: [nan]\n",
      "Flags set on hurs during santa_ana_wind event: [nan]\n",
      "Flags set on sfcWind during santa_ana_wind event: [nan]\n",
      "Flags set on sfcWind_dir during santa_ana_wind event: [nan]\n"
     ]
    }
   ],
   "source": [
    "# identify flags set for initial pass\n",
    "for v in vars_to_eval:\n",
    "    f = flags_during_event(subset_df, var=v, event='santa_ana_wind')"
   ]
  },
  {
   "cell_type": "code",
   "execution_count": 17,
   "id": "ac8f3fdf-be2e-4728-bf0d-a3bea6cca156",
   "metadata": {
    "execution": {
     "iopub.execute_input": "2024-09-13T22:58:18.716559Z",
     "iopub.status.busy": "2024-09-13T22:58:18.716179Z",
     "iopub.status.idle": "2024-09-13T22:58:18.777899Z",
     "shell.execute_reply": "2024-09-13T22:58:18.777273Z",
     "shell.execute_reply.started": "2024-09-13T22:58:18.716532Z"
    }
   },
   "outputs": [
    {
     "ename": "TypeError",
     "evalue": "event_plot() missing 2 required positional arguments: 'alt_start_date' and 'alt_end_date'",
     "output_type": "error",
     "traceback": [
      "\u001b[0;31m---------------------------------------------------------------------------\u001b[0m",
      "\u001b[0;31mTypeError\u001b[0m                                 Traceback (most recent call last)",
      "Cell \u001b[0;32mIn[17], line 2\u001b[0m\n\u001b[1;32m      1\u001b[0m \u001b[38;5;28;01mfor\u001b[39;00m var \u001b[38;5;129;01min\u001b[39;00m vars_to_eval:\n\u001b[0;32m----> 2\u001b[0m     \u001b[43mevent_plot\u001b[49m\u001b[43m(\u001b[49m\u001b[43msubset_df\u001b[49m\u001b[43m,\u001b[49m\u001b[43m \u001b[49m\u001b[43mvar\u001b[49m\u001b[38;5;241;43m=\u001b[39;49m\u001b[43mvar\u001b[49m\u001b[43m,\u001b[49m\u001b[43m \u001b[49m\u001b[43mevent\u001b[49m\u001b[38;5;241;43m=\u001b[39;49m\u001b[38;5;124;43m'\u001b[39;49m\u001b[38;5;124;43msanta_ana_wind\u001b[39;49m\u001b[38;5;124;43m'\u001b[39;49m\u001b[43m)\u001b[49m\n",
      "\u001b[0;31mTypeError\u001b[0m: event_plot() missing 2 required positional arguments: 'alt_start_date' and 'alt_end_date'"
     ]
    }
   ],
   "source": [
    "for var in vars_to_eval:\n",
    "    event_plot(subset_df, var=var, event='santa_ana_wind')"
   ]
  },
  {
   "cell_type": "markdown",
   "id": "1294209f-b37d-4ce8-8606-5e596a35354b",
   "metadata": {},
   "source": [
    "### Optional multi-station run and identification of flags"
   ]
  },
  {
   "cell_type": "code",
   "execution_count": null,
   "id": "601b70ba-5634-45dd-add5-b71339c6ac1d",
   "metadata": {
    "execution": {
     "iopub.status.busy": "2024-09-13T22:56:46.387858Z",
     "iopub.status.idle": "2024-09-13T22:56:46.387976Z",
     "shell.execute_reply": "2024-09-13T22:56:46.387916Z",
     "shell.execute_reply.started": "2024-09-13T22:56:46.387910Z"
    }
   },
   "outputs": [],
   "source": [
    "eval_stations = subset_eval_stns(\n",
    "    event_to_eval = 'santa_ana_wind',\n",
    "    stn_list = train_stns,\n",
    "    subset = None,\n",
    "    return_stn_ids = True\n",
    ")"
   ]
  },
  {
   "cell_type": "code",
   "execution_count": null,
   "id": "7cdb80a2-5502-4429-9ea7-038da541ad8e",
   "metadata": {
    "execution": {
     "iopub.status.busy": "2024-09-13T22:56:46.388430Z",
     "iopub.status.idle": "2024-09-13T22:56:46.388616Z",
     "shell.execute_reply": "2024-09-13T22:56:46.388552Z",
     "shell.execute_reply.started": "2024-09-13T22:56:46.388546Z"
    }
   },
   "outputs": [],
   "source": [
    "stns_to_run = list(eval_stations['era-id'])\n",
    "multi_stn_check(stns_to_run, 'santa_ana_wind')"
   ]
  },
  {
   "cell_type": "code",
   "execution_count": null,
   "id": "02f299a8-6b8c-44c7-b7cd-b0f8a594aa2a",
   "metadata": {
    "execution": {
     "iopub.status.busy": "2024-09-13T22:56:46.389051Z",
     "iopub.status.idle": "2024-09-13T22:56:46.389181Z",
     "shell.execute_reply": "2024-09-13T22:56:46.389117Z",
     "shell.execute_reply.started": "2024-09-13T22:56:46.389111Z"
    }
   },
   "outputs": [],
   "source": [
    "fig, ax = plt.subplots(subplot_kw={'projection':ccrs.epsg(3857)})\n",
    "ax.coastlines()\n",
    "eval_stations.plot(ax=ax, markersize=8)\n",
    "\n",
    "# ax.plot(lon, lat, 'ok', markersize=8, transform=ccrs.PlateCarree(), mfc='none')\n",
    "# ax.plot(x, y, '.r', markersize=4)"
   ]
  },
  {
   "cell_type": "markdown",
   "id": "15c4c772-02b3-420d-bf5a-c7bfbda79c10",
   "metadata": {},
   "source": [
    "---\n",
    "#### Append local GHCNh library path"
   ]
  },
  {
   "cell_type": "code",
   "execution_count": null,
   "id": "a4982cc3-4a99-4d39-96a9-d139f3efac49",
   "metadata": {
    "execution": {
     "iopub.status.busy": "2024-09-13T22:56:46.389622Z",
     "iopub.status.idle": "2024-09-13T22:56:46.389737Z",
     "shell.execute_reply": "2024-09-13T22:56:46.389680Z",
     "shell.execute_reply.started": "2024-09-13T22:56:46.389674Z"
    }
   },
   "outputs": [],
   "source": [
    "ghcnh_lib_path = \"/Users/hector/ERA_work/historical-obs-platform/test_platform/scripts/3_qaqc_data/qaqc_eval_notebooks/GHCNh\"\n",
    "sys.path.append(ghcnh_lib_path)\n",
    "# from GHCNh.GHCNh_lib import GHCNh  # If GHCNh is within current folder\n",
    "from GHCNh_lib import GHCNh # If GHCNh is was appended to path"
   ]
  },
  {
   "cell_type": "code",
   "execution_count": null,
   "id": "4fdeeae0-1f91-43bc-8913-49ea4a1bd462",
   "metadata": {
    "execution": {
     "iopub.status.busy": "2024-09-13T22:56:46.390034Z",
     "iopub.status.idle": "2024-09-13T22:56:46.390155Z",
     "shell.execute_reply": "2024-09-13T22:56:46.390096Z",
     "shell.execute_reply.started": "2024-09-13T22:56:46.390092Z"
    }
   },
   "outputs": [],
   "source": [
    "%%time\n",
    "ghcnh = GHCNh(stations_local=True)\n",
    "ghcnh.select_wecc()\n",
    "id = ghcnh.stations_df['id'].iloc[0]\n",
    "ghcnh.read_data_from_url(id, save=True)\n",
    "ghcnh.convert_df_to_gpd()\n",
    "ghcnh.station_data.head(3)"
   ]
  },
  {
   "cell_type": "code",
   "execution_count": null,
   "id": "40286890-26e4-4cd5-8daa-089d9bd1567d",
   "metadata": {},
   "outputs": [],
   "source": [
    "lon = ghcnh.station_data.Longitude.mean()\n",
    "lat = ghcnh.station_data.Latitude.mean()\n",
    "print(\"{}, {:.5f}, {:.5f}\".format(id, lon, lat))"
   ]
  },
  {
   "cell_type": "code",
   "execution_count": null,
   "id": "e71250ee-30df-4dd4-bc38-45841e96dd95",
   "metadata": {},
   "outputs": [],
   "source": [
    "fig,ax = plt.subplots(figsize=(9,3))\n",
    "\n",
    "ghcnh.station_data.plot(ax=ax, x=\"time\", y=\"temperature\")\n",
    "ghcnh.station_data.plot(ax=ax, x=\"time\", y=\"dew_point_temperature\")\n",
    "ax.set_title(\"{}  ({:.3f}, {:.3f})\".format(id,lon,lat));"
   ]
  },
  {
   "cell_type": "code",
   "execution_count": null,
   "id": "9d86d35c-36cf-43b2-9207-d0501f829a6f",
   "metadata": {},
   "outputs": [],
   "source": [
    "# initial test for identifying the event: large jumps on windspeed"
   ]
  },
  {
   "cell_type": "code",
   "execution_count": null,
   "id": "ced9c0a8-4ebe-4062-b9dd-70d71c10540f",
   "metadata": {},
   "outputs": [],
   "source": [
    "return_ghcn_vars(ghcnh.station_data, 'sfcWind').head(3)"
   ]
  }
 ],
 "metadata": {
  "kernelspec": {
   "display_name": "hist-obs",
   "language": "python",
   "name": "hist-obs"
  },
  "language_info": {
   "codemirror_mode": {
    "name": "ipython",
    "version": 3
   },
   "file_extension": ".py",
   "mimetype": "text/x-python",
   "name": "python",
   "nbconvert_exporter": "python",
   "pygments_lexer": "ipython3",
   "version": "3.9.18"
  }
 },
 "nbformat": 4,
 "nbformat_minor": 5
}
