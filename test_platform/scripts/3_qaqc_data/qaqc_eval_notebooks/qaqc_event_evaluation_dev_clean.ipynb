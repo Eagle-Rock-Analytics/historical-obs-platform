{
 "cells": [
  {
   "cell_type": "markdown",
   "id": "2f107480-b89b-4dc8-a146-8ef1fee66c4e",
   "metadata": {},
   "source": [
    "# Historical Data Platform QA/QC Event Evaluation Procedure"
   ]
  },
  {
   "cell_type": "markdown",
   "id": "99606d61-b614-4ad2-9dd9-ff2a244e315c",
   "metadata": {},
   "source": [
    "| Event | Start Date | End Date | Location | Variables to Evaluate |\n",
    "|-------|------------|----------|----------|-----------------------|\n",
    "|Santa Ana Wind|2/16/1988|2/19/1988|Los Angeles, Orange Counties|wind speed, wind direction, air temperature, humidity|\n",
    "|Winter Storm | 12/20/1990|12/24/1990| WECC, Sac Valley, Oakland|air temperature, pressure, precipitation|\n",
    "|AR|1/16/2017|1/20/2017|CA, coastal WECC|precipitation, wind speed, wind direction|\n",
    "|Mudslide|1/5/2018|1/9/2018|Santa Barbara County|precipitation, wind speed, wind direction, air temperature|\n",
    "|\"Heatwave1\"|8/14/2020|8/15/2020|WECC|air temperature, wind speed, air pressure|\n",
    "|\"Heatwave2\"|9/5/2020|9/8/2020| CA (coastal + S. CA), Los Angeles County|air temperature, wind speed, air pressure|\n",
    "|\"Heatwave3\"|8/30/2022|9/9/2020| CA (coastal + S. CA)|air temperature, wind speed, air pressure|\n",
    "|Offshore wind|1/15/2021|1/16/2021|Coastal CA|wind speed, wind direction|\n",
    "\n",
    "**In evaluation**: Santa Ana Wind\n",
    "\n",
    "**Steps**:\n",
    "1. Identify stations within event location\n",
    "2. Retrieve station file to evaluate\n",
    "3. Look at full timeseries plot (flagged_timeseries_plot) to see general trend\n",
    "4. Look at climatology plot\n",
    "5. Look at event plot"
   ]
  },
  {
   "cell_type": "code",
   "execution_count": null,
   "id": "6bf98323-af90-43a5-8a0c-ebfc0be02d60",
   "metadata": {},
   "outputs": [],
   "source": [
    "# import libraries\n",
    "import xarray as xr\n",
    "import numpy as np\n",
    "import pandas as pd\n",
    "import os\n",
    "import sys\n",
    "\n",
    "from qaqc_eval_utils import (id_all_flags, known_issue_check, subset_eval_stns, latlon_to_mercator_cartopy, pull_nc_from_aws, return_ghcn_vars)\n",
    "from qaqc_eval_plot import stn_visualize\n",
    "\n",
    "sys.path.append(os.path.expanduser('../'))\n",
    "from qaqc_plot import flagged_timeseries_plot\n",
    "from QAQC_pipeline import qaqc_ds_to_df # not working at present\n",
    "\n",
    "%matplotlib inline"
   ]
  },
  {
   "cell_type": "markdown",
   "id": "9384607d-acf9-442f-b53e-8caaf95f08e2",
   "metadata": {},
   "source": [
    "### Step 1: Retrieve relevant station files and comparison data for evaluation\n",
    "Read in training list of QA/QC'd stations."
   ]
  },
  {
   "cell_type": "code",
   "execution_count": null,
   "id": "eb0003d8-cfe1-474d-a6bd-cc40e193e890",
   "metadata": {},
   "outputs": [],
   "source": [
    "# read in stations\n",
    "train_stns = pd.read_csv('../qaqc_training_station_list_events.csv')\n",
    "train_stns.head()"
   ]
  },
  {
   "cell_type": "markdown",
   "id": "92d4f516-3764-43f4-ba1f-deaaa3902751",
   "metadata": {},
   "source": [
    "For event evaluation, randomly sample for a manageable number of stations per event using the `subset_eval_stns` function."
   ]
  },
  {
   "cell_type": "code",
   "execution_count": null,
   "id": "12ae3ab0-f2bd-42d2-8439-b32e590a116a",
   "metadata": {},
   "outputs": [],
   "source": [
    "eval_stations = subset_eval_stns(\n",
    "    event_to_eval = 'santa_ana_wind',\n",
    "    stn_list = train_stns,\n",
    "    subset = 4,\n",
    "    return_stn_ids = True\n",
    ")\n",
    "eval_stations"
   ]
  },
  {
   "cell_type": "markdown",
   "id": "7c7ad708-2ff9-4462-8829-ea5687fcbd3a",
   "metadata": {},
   "source": [
    "Visualize the station next"
   ]
  },
  {
   "cell_type": "code",
   "execution_count": null,
   "id": "88b1d266-e5f3-487e-a984-c6f4794cde13",
   "metadata": {},
   "outputs": [],
   "source": [
    "stn_visualize(\n",
    "    stn_id = eval_stations['era-id'].values[0],\n",
    "    stn_list = eval_stations,\n",
    "    event_to_eval = 'santa_ana_wind'\n",
    ")\n",
    "\n",
    "# TODO: add county boundaries"
   ]
  },
  {
   "cell_type": "markdown",
   "id": "2b00e665-e432-4c39-9b82-a006e9104f4a",
   "metadata": {},
   "source": [
    "### Step 2: Holistic / qualitative station evaluation"
   ]
  },
  {
   "cell_type": "code",
   "execution_count": null,
   "id": "e36538ab-586d-42c2-8557-29a7b5e41272",
   "metadata": {
    "scrolled": true
   },
   "outputs": [],
   "source": [
    "# pull station from AWS\n",
    "ds = pull_nc_from_aws('ASOSAWOS_72383023187')\n",
    "ds"
   ]
  },
  {
   "cell_type": "code",
   "execution_count": null,
   "id": "c655a1f3-a289-4ad3-bb76-9894ccbbb185",
   "metadata": {},
   "outputs": [],
   "source": [
    "id_all_flags(ds)"
   ]
  },
  {
   "cell_type": "code",
   "execution_count": null,
   "id": "863e9503-5f4f-4a4d-8f0e-fa9fbb941be5",
   "metadata": {},
   "outputs": [],
   "source": [
    "%%time \n",
    "df = ds.to_dataframe().reset_index() # takes about 4 min...\n",
    "df.head(5)\n",
    "\n",
    "## TO DO: do we close the ds to save space/memory with the df open? \n",
    "\n",
    "## would be better to use our tailored \"qaqc_ds_to_df\" function but it's erroring out\n",
    "# df = qaqc_ds_to_df(ds)"
   ]
  },
  {
   "cell_type": "code",
   "execution_count": null,
   "id": "29bca118-c65b-46ea-8ff4-d52b2bade66e",
   "metadata": {},
   "outputs": [],
   "source": [
    "# santa ana wind vars: air temp, humidity, wind speed, wind direction\n",
    "vars_to_check = ['tas', 'hurs', 'sfcWind', 'sfcWind_dir']\n",
    "vars_to_eval = [var for var in vars_to_check if var in df.columns] # check if variable is not present in the specific station\n",
    "\n",
    "for var in vars_to_eval:\n",
    "    known_issue_check(network=df.station.unique()[0].split('_')[0], \n",
    "                      var=var, \n",
    "                      stn=df.station.unique()[0]) # check if known issues are present first!\n",
    "    flagged_timeseries_plot(df, var=var)"
   ]
  },
  {
   "cell_type": "code",
   "execution_count": null,
   "id": "527a8f6a-ca76-4a7a-8eb9-4e3290b1b9c5",
   "metadata": {},
   "outputs": [],
   "source": [
    "from qaqc_eval_plot import test_subset_plot"
   ]
  },
  {
   "cell_type": "code",
   "execution_count": null,
   "id": "2f58074f-c636-4341-b24e-463303026a50",
   "metadata": {},
   "outputs": [],
   "source": [
    "dd = event_subset_plot(df, event='santa_ana_wind')"
   ]
  },
  {
   "cell_type": "code",
   "execution_count": null,
   "id": "34afff8b-c431-4944-b2ee-6b4ff3709cd0",
   "metadata": {},
   "outputs": [],
   "source": [
    "vars_to_check = ['tas', 'hurs', 'sfcWind', 'sfcWind_dir']\n",
    "vars_to_eval = [var for var in vars_to_check if var in df.columns]\n",
    "\n",
    "for var in vars_to_eval:\n",
    "    flagged_timeseries_plot(dd, var=var)"
   ]
  },
  {
   "cell_type": "code",
   "execution_count": null,
   "id": "fa5db89d-aab3-4354-acac-bb7b2d632bbd",
   "metadata": {},
   "outputs": [],
   "source": [
    "flagged_timeseries_plot(dd, var='tas') # why no showing? "
   ]
  },
  {
   "cell_type": "code",
   "execution_count": null,
   "id": "84d99531-431a-4a54-a911-646f8ebb9e36",
   "metadata": {},
   "outputs": [],
   "source": []
  },
  {
   "cell_type": "code",
   "execution_count": null,
   "id": "7559c1d8-a665-4618-918e-2897e049b68e",
   "metadata": {},
   "outputs": [],
   "source": []
  },
  {
   "cell_type": "markdown",
   "id": "15c4c772-02b3-420d-bf5a-c7bfbda79c10",
   "metadata": {},
   "source": [
    "#### Append local GHCNh library path"
   ]
  },
  {
   "cell_type": "code",
   "execution_count": null,
   "id": "a4982cc3-4a99-4d39-96a9-d139f3efac49",
   "metadata": {},
   "outputs": [],
   "source": [
    "ghcnh_lib_path = \"/Users/hector/ERA_work/historical-obs-platform/test_platform/scripts/3_qaqc_data/qaqc_eval_notebooks/GHCNh\"\n",
    "sys.path.append(ghcnh_lib_path)\n",
    "# from GHCNh.GHCNh_lib import GHCNh  # If GHCNh is within current folder\n",
    "from GHCNh_lib import GHCNh # If GHCNh is was appended to path"
   ]
  },
  {
   "cell_type": "code",
   "execution_count": null,
   "id": "4fdeeae0-1f91-43bc-8913-49ea4a1bd462",
   "metadata": {},
   "outputs": [],
   "source": [
    "%%time\n",
    "ghcnh = GHCNh(stations_local=True)\n",
    "ghcnh.select_wecc()\n",
    "id = ghcnh.stations_df['id'].iloc[0]\n",
    "ghcnh.read_data_from_url(id, save=True)\n",
    "ghcnh.convert_df_to_gpd()\n",
    "ghcnh.station_data.head(3)"
   ]
  },
  {
   "cell_type": "code",
   "execution_count": null,
   "id": "40286890-26e4-4cd5-8daa-089d9bd1567d",
   "metadata": {},
   "outputs": [],
   "source": [
    "lon = ghcnh.station_data.Longitude.mean()\n",
    "lat = ghcnh.station_data.Latitude.mean()\n",
    "print(\"{}, {:.5f}, {:.5f}\".format(id, lon, lat))"
   ]
  },
  {
   "cell_type": "code",
   "execution_count": null,
   "id": "e71250ee-30df-4dd4-bc38-45841e96dd95",
   "metadata": {},
   "outputs": [],
   "source": [
    "fig,ax = plt.subplots(figsize=(9,3))\n",
    "\n",
    "ghcnh.station_data.plot(ax=ax, x=\"time\", y=\"temperature\")\n",
    "ghcnh.station_data.plot(ax=ax, x=\"time\", y=\"dew_point_temperature\")\n",
    "ax.set_title(\"{}  ({:.3f}, {:.3f})\".format(id,lon,lat));"
   ]
  },
  {
   "cell_type": "code",
   "execution_count": null,
   "id": "9d86d35c-36cf-43b2-9207-d0501f829a6f",
   "metadata": {},
   "outputs": [],
   "source": [
    "# initial test for identifying the event: large jumps on windspeed"
   ]
  },
  {
   "cell_type": "code",
   "execution_count": null,
   "id": "ced9c0a8-4ebe-4062-b9dd-70d71c10540f",
   "metadata": {},
   "outputs": [],
   "source": [
    "return_ghcn_vars(ghcnh.station_data, 'sfcWind').head(3)"
   ]
  }
 ],
 "metadata": {
  "kernelspec": {
   "display_name": "hist-obs",
   "language": "python",
   "name": "hist-obs"
  },
  "language_info": {
   "codemirror_mode": {
    "name": "ipython",
    "version": 3
   },
   "file_extension": ".py",
   "mimetype": "text/x-python",
   "name": "python",
   "nbconvert_exporter": "python",
   "pygments_lexer": "ipython3",
   "version": "3.9.18"
  }
 },
 "nbformat": 4,
 "nbformat_minor": 5
}
