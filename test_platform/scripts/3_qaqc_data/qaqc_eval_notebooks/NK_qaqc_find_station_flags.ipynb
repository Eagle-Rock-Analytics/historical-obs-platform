{
 "cells": [
  {
   "cell_type": "markdown",
   "id": "24263655-e41b-4a21-89a4-c257218966b4",
   "metadata": {
    "execution": {
     "iopub.execute_input": "2024-10-08T17:48:40.598634Z",
     "iopub.status.busy": "2024-10-08T17:48:40.597905Z",
     "iopub.status.idle": "2024-10-08T17:48:40.610572Z",
     "shell.execute_reply": "2024-10-08T17:48:40.609081Z",
     "shell.execute_reply.started": "2024-10-08T17:48:40.598586Z"
    }
   },
   "source": [
    "# Find weather stations that set flags\n",
    "From the AWS data catalog of station data, find the subset of weather stations that set flags \n",
    "<br>Output a DataFrame"
   ]
  },
  {
   "cell_type": "markdown",
   "id": "50d13169",
   "metadata": {},
   "source": [
    "## 0. Setup \n",
    "Read in required libraries and create temporary data directory"
   ]
  },
  {
   "cell_type": "code",
   "execution_count": 1,
   "id": "5bf3a491",
   "metadata": {},
   "outputs": [],
   "source": [
    "import xarray as xr \n",
    "import pandas as pd \n",
    "import geopandas as gpd\n",
    "import matplotlib.pyplot as plt\n",
    "import numpy as np\n",
    "import s3fs\n",
    "import tempfile # Used for downloading (and then deleting) netcdfs to local drive from s3 bucket\n",
    "import os\n",
    "from shapely.geometry import Point\n",
    "import time # Used for progress bar \n",
    "import sys # Used for progress bar \n",
    "\n",
    "# Silence warnings\n",
    "import warnings\n",
    "from shapely.errors import ShapelyDeprecationWarning\n",
    "warnings.filterwarnings(\"ignore\", category=RuntimeWarning)\n",
    "warnings.filterwarnings(\"ignore\", category=ShapelyDeprecationWarning) # Warning is raised when creating Point object from coords. Can't figure out why. "
   ]
  },
  {
   "cell_type": "code",
   "execution_count": 2,
   "id": "2009d8f3",
   "metadata": {},
   "outputs": [],
   "source": [
    "# Define temporary directory in local drive for downloading data from S3 bucket\n",
    "# If the directory doesn't exist, it will be created\n",
    "# If we used zarr, this wouldn't be neccessary \n",
    "temp_dir = \"./tmp\"\n",
    "if not os.path.exists(temp_dir): \n",
    "    os.mkdir(temp_dir)"
   ]
  },
  {
   "cell_type": "markdown",
   "id": "8ad8d2d2",
   "metadata": {},
   "source": [
    "## 1. Define some helper functions"
   ]
  },
  {
   "cell_type": "code",
   "execution_count": 3,
   "id": "6ded0c8e",
   "metadata": {},
   "outputs": [],
   "source": [
    "def progressbar(it, prefix=\"\", size=60, out=sys.stdout): # Python3.6+\n",
    "    \"\"\"\n",
    "    Print a progress bar to console \n",
    "\n",
    "    References\n",
    "    ----------\n",
    "    https://stackoverflow.com/questions/3160699/python-progress-bar\n",
    "    \n",
    "    \"\"\"\n",
    "    count = len(it)\n",
    "    start = time.time() # time estimate start\n",
    "    def show(j):\n",
    "        x = int(size*j/count)\n",
    "        # time estimate calculation and string\n",
    "        remaining = ((time.time() - start) / j) * (count - j)        \n",
    "        mins, sec = divmod(remaining, 60) # limited to minutes\n",
    "        time_str = f\"{int(mins):02}:{sec:03.1f}\"\n",
    "        print(f\"{prefix}[{u'█'*x}{('.'*(size-x))}] {j}/{count} Est wait {time_str}\", end='\\r', file=out, flush=True)\n",
    "    show(0.1) # avoid div/0 \n",
    "    for i, item in enumerate(it):\n",
    "        yield item\n",
    "        show(i+1)\n",
    "    print(\"\\n\", flush=True, file=out)"
   ]
  },
  {
   "cell_type": "code",
   "execution_count": 4,
   "id": "44fa761d",
   "metadata": {},
   "outputs": [],
   "source": [
    "def read_nc_from_s3(network_name, station_id, temp_dir):\n",
    "    \"\"\"Read netcdf file containing station data for a single station of interest from AWS s3 bucket \n",
    "\n",
    "    Parameters\n",
    "    ----------\n",
    "    network_name: str \n",
    "        Name of network (i.e. \"ASOSAWOS\")\n",
    "        Must correspond with a valid directory in the s3 bucket (i.e. \"CAHYDRO\", \"CDEC\", \"ASOSAWOS\")\n",
    "    station_id: str\n",
    "        Station identifier; i.e. the name of the netcdf file in the bucket (i.e. \"ASOSAWOS_72012200114.nc\")\n",
    "    \n",
    "    Returns \n",
    "    -------\n",
    "    station_data: xr.Dataset \n",
    "    \n",
    "    Notes\n",
    "    -----\n",
    "    The data is first downloaded from AWS into a tempfile, which is then deleted after xarray reads in the file \n",
    "    I'd like to see us use a zarr workflow if possible to avoid this. \n",
    "\n",
    "    \"\"\"\n",
    "\n",
    "    # Temp file for downloading from s3\n",
    "    temp_file = tempfile.NamedTemporaryFile(\n",
    "        dir = temp_dir, \n",
    "        prefix = \"\", \n",
    "        suffix = \".nc\",\n",
    "        delete = True\n",
    "    )\n",
    "\n",
    "    # Create s3 file system \n",
    "    s3 = s3fs.S3FileSystem(anon=False)\n",
    "\n",
    "    # Get URL to netcdf in S3\n",
    "    s3_url = 's3://wecc-historical-wx/3_qaqc_wx_dev/{}/{}.nc'.format(network_name, station_id)\n",
    "\n",
    "    # Read in the data using xarray \n",
    "    s3_file_obj = s3.get(s3_url, temp_file.name)\n",
    "    station_data = xr.open_dataset(temp_file.name, engine='h5netcdf').load()\n",
    "\n",
    "    # Close temporary file \n",
    "    temp_file.close()\n",
    "\n",
    "    return station_data "
   ]
  },
  {
   "cell_type": "code",
   "execution_count": 5,
   "id": "37908e6c",
   "metadata": {},
   "outputs": [],
   "source": [
    "def find_flags(station_ds): \n",
    "    \"\"\"Find unique flags in a Dataset.\n",
    "    Filters through flag variables; assumes flag variables contain the substring '_eraqc'\n",
    "\n",
    "    Parameters\n",
    "    ----------\n",
    "    station_ds: xr.Dataset \n",
    "        Dataset containing station data, with each variable as a unique data variable \n",
    "    \n",
    "    Returns \n",
    "    -------\n",
    "    unique_flags: list or None\n",
    "        List of unique flag values found in station_ds \n",
    "        Returns None if no flags found for any variable \n",
    "    \n",
    "    \"\"\"\n",
    "\n",
    "    # Get the string names of the eraqc flag variables \n",
    "    era_flag_var_names = [var for var in station_ds.data_vars if '_eraqc' in var]\n",
    "\n",
    "    # Subset Dataset to just contain flag variables \n",
    "    station_flags_ds = station_ds[era_flag_var_names]\n",
    "\n",
    "    # Check for nulls in the flag variables \n",
    "    # If all are null, that means the station set no flags for this event! \n",
    "    all_null = station_flags_ds.to_array().isnull().all().item()\n",
    "    unique_flags = None\n",
    "\n",
    "    # If there are some flags set, find out what they are \n",
    "    if not all_null: \n",
    "        # Stack all the variables, since we don't care which variables the flags belong to \n",
    "        # Makes it easier to search the array (fewer lines of code :)\n",
    "        # Works like np.flatten, but on an xarray object \n",
    "        stacked = station_flags_ds.to_array().stack({\"everything\":[\"variable\",\"time\"]})\n",
    "\n",
    "        # Drop all non-null values \n",
    "        # i.e. [nan, nan, 23, nan, 17] --> [23, 17]\n",
    "        all_flags = stacked.where(~stacked.isnull(), drop=True)\n",
    "\n",
    "        # Get unique flag values as integers\n",
    "        # nan is treated as a float so the .isnull() step converted floats to ints (I think)\n",
    "        # i.e. [23.0, 23.0, 23.0, 17.0, 23.0, 19.0, 19.0] --> [23, 17, 19]\n",
    "        unique_flags = list(np.unique(all_flags.values).astype(int))\n",
    "\n",
    "    return unique_flags"
   ]
  },
  {
   "cell_type": "markdown",
   "id": "92e980d4",
   "metadata": {},
   "source": [
    "## 2. Read in county shapefile and station metadata csv\n",
    "County shapefile is used for getting event geometry <br>Station metadata is used to get the station ids to read in station data from the S3 bucket"
   ]
  },
  {
   "cell_type": "code",
   "execution_count": 6,
   "id": "711e4aa3",
   "metadata": {},
   "outputs": [],
   "source": [
    "# Read in a list of weather stations \n",
    "# We just use the names of the stations to filter \n",
    "# Ideally I'd like to see this moved to the AWS bucket \n",
    "train_stns = pd.read_csv('../qaqc_training_station_list.csv')\n",
    "\n",
    "# Create new geometry column from lat and lon columns \n",
    "# This will enable us to filter through the GeoDataFrame using our county geometry\n",
    "train_stns = gpd.GeoDataFrame(\n",
    "    train_stns, geometry=gpd.points_from_xy(train_stns.longitude, train_stns.latitude, crs=\"EPSG:4326\")\n",
    ")\n",
    "#train_stns.head()"
   ]
  },
  {
   "cell_type": "code",
   "execution_count": 7,
   "id": "f7f18ec8",
   "metadata": {},
   "outputs": [],
   "source": [
    "# Read in county shapefiles from S3\n",
    "ca_counties = gpd.read_file(\"s3://wecc-historical-wx/0_maps/ca_counties/CA_Counties.shp\")\n",
    "ca_counties = ca_counties.to_crs(train_stns.crs) # Convert to station CRS \n",
    "#ca_counties.head()"
   ]
  },
  {
   "cell_type": "code",
   "execution_count": 8,
   "id": "3437aa6e",
   "metadata": {},
   "outputs": [
    {
     "data": {
      "image/png": "[encoded data removed]",
      "text/plain": [
       "<Figure size 640x480 with 1 Axes>"
      ]
     },
     "metadata": {},
     "output_type": "display_data"
    }
   ],
   "source": [
    "# Plot all the stations and all the counties \n",
    "# This is a check to ensure both have the same projection\n",
    "fig, ax = plt.subplots()\n",
    "ca_counties.boundary.plot(color=\"black\",ax=ax,linewidth=0.75,zorder=10)\n",
    "train_stns.geometry.plot(markersize=0.9,ax=ax,zorder=15);"
   ]
  },
  {
   "cell_type": "markdown",
   "id": "1f5c665d",
   "metadata": {},
   "source": [
    "## 3. Set your event date and (optional) event geometry\n",
    "For example, lets use the Montecito mudslide from January 5-9, 2018"
   ]
  },
  {
   "cell_type": "code",
   "execution_count": 9,
   "id": "3257bd3a",
   "metadata": {},
   "outputs": [],
   "source": [
    "event_start_date = \"2018-01-01\" # Start a few days before the mudslide\n",
    "event_end_date = \"2018-01-09\"\n",
    "\n",
    "event_geom = ca_counties[ca_counties[\"NAME\"] == \"Santa Barbara\"] # Get event geometry"
   ]
  },
  {
   "cell_type": "markdown",
   "id": "d7537350",
   "metadata": {},
   "source": [
    "## 4. Get the stations that intersect the event geometry"
   ]
  },
  {
   "cell_type": "code",
   "execution_count": 10,
   "id": "18387ee2",
   "metadata": {},
   "outputs": [
    {
     "data": {
      "text/html": [
       "<div>\n",
       "<style scoped>\n",
       "    .dataframe tbody tr th:only-of-type {\n",
       "        vertical-align: middle;\n",
       "    }\n",
       "\n",
       "    .dataframe tbody tr th {\n",
       "        vertical-align: top;\n",
       "    }\n",
       "\n",
       "    .dataframe thead th {\n",
       "        text-align: right;\n",
       "    }\n",
       "</style>\n",
       "<table border=\"1\" class=\"dataframe\">\n",
       "  <thead>\n",
       "    <tr style=\"text-align: right;\">\n",
       "      <th></th>\n",
       "      <th>era-id</th>\n",
       "      <th>elevation</th>\n",
       "      <th>network</th>\n",
       "      <th>longitude</th>\n",
       "      <th>latitude</th>\n",
       "      <th>geometry</th>\n",
       "      <th>intersects</th>\n",
       "    </tr>\n",
       "  </thead>\n",
       "  <tbody>\n",
       "    <tr>\n",
       "      <th>0</th>\n",
       "      <td>CNRFC_TCTC1</td>\n",
       "      <td>2900.0</td>\n",
       "      <td>CNRFC</td>\n",
       "      <td>-119.908800</td>\n",
       "      <td>34.520800</td>\n",
       "      <td>POINT (-119.90880 34.52080)</td>\n",
       "      <td>True</td>\n",
       "    </tr>\n",
       "    <tr>\n",
       "      <th>1</th>\n",
       "      <td>CWOP_C7260</td>\n",
       "      <td>430.0</td>\n",
       "      <td>CWOP</td>\n",
       "      <td>-120.422670</td>\n",
       "      <td>34.884000</td>\n",
       "      <td>POINT (-120.42267 34.88400)</td>\n",
       "      <td>True</td>\n",
       "    </tr>\n",
       "    <tr>\n",
       "      <th>2</th>\n",
       "      <td>CNRFC_ECIC1</td>\n",
       "      <td>3458.0</td>\n",
       "      <td>CNRFC</td>\n",
       "      <td>-119.637500</td>\n",
       "      <td>34.482780</td>\n",
       "      <td>POINT (-119.63750 34.48278)</td>\n",
       "      <td>True</td>\n",
       "    </tr>\n",
       "    <tr>\n",
       "      <th>3</th>\n",
       "      <td>CWOP_AV377</td>\n",
       "      <td>3970.0</td>\n",
       "      <td>CWOP</td>\n",
       "      <td>-119.713170</td>\n",
       "      <td>34.494670</td>\n",
       "      <td>POINT (-119.71317 34.49467)</td>\n",
       "      <td>True</td>\n",
       "    </tr>\n",
       "    <tr>\n",
       "      <th>4</th>\n",
       "      <td>CIMIS_76</td>\n",
       "      <td>160.0</td>\n",
       "      <td>CIMIS</td>\n",
       "      <td>-120.512000</td>\n",
       "      <td>34.924000</td>\n",
       "      <td>POINT (-120.51200 34.92400)</td>\n",
       "      <td>True</td>\n",
       "    </tr>\n",
       "    <tr>\n",
       "      <th>5</th>\n",
       "      <td>CIMIS_88</td>\n",
       "      <td>2192.0</td>\n",
       "      <td>CIMIS</td>\n",
       "      <td>-119.673800</td>\n",
       "      <td>34.942525</td>\n",
       "      <td>POINT (-119.67380 34.94253)</td>\n",
       "      <td>True</td>\n",
       "    </tr>\n",
       "    <tr>\n",
       "      <th>6</th>\n",
       "      <td>RAWS_SBIC1</td>\n",
       "      <td>360.0</td>\n",
       "      <td>RAWS</td>\n",
       "      <td>-119.030322</td>\n",
       "      <td>33.487428</td>\n",
       "      <td>POINT (-119.03032 33.48743)</td>\n",
       "      <td>True</td>\n",
       "    </tr>\n",
       "    <tr>\n",
       "      <th>7</th>\n",
       "      <td>CAHYDRO_MAZC1</td>\n",
       "      <td>2571.0</td>\n",
       "      <td>CAHYDRO</td>\n",
       "      <td>-120.083300</td>\n",
       "      <td>34.900000</td>\n",
       "      <td>POINT (-120.08330 34.90000)</td>\n",
       "      <td>True</td>\n",
       "    </tr>\n",
       "    <tr>\n",
       "      <th>8</th>\n",
       "      <td>CWOP_AP900</td>\n",
       "      <td>3917.0</td>\n",
       "      <td>CWOP</td>\n",
       "      <td>-120.040000</td>\n",
       "      <td>35.049200</td>\n",
       "      <td>POINT (-120.04000 35.04920)</td>\n",
       "      <td>True</td>\n",
       "    </tr>\n",
       "    <tr>\n",
       "      <th>9</th>\n",
       "      <td>CIMIS_38</td>\n",
       "      <td>270.0</td>\n",
       "      <td>CIMIS</td>\n",
       "      <td>-120.384000</td>\n",
       "      <td>34.954000</td>\n",
       "      <td>POINT (-120.38400 34.95400)</td>\n",
       "      <td>True</td>\n",
       "    </tr>\n",
       "  </tbody>\n",
       "</table>\n",
       "</div>"
      ],
      "text/plain": [
       "          era-id  elevation  network   longitude   latitude  \\\n",
       "0    CNRFC_TCTC1     2900.0    CNRFC -119.908800  34.520800   \n",
       "1     CWOP_C7260      430.0     CWOP -120.422670  34.884000   \n",
       "2    CNRFC_ECIC1     3458.0    CNRFC -119.637500  34.482780   \n",
       "3     CWOP_AV377     3970.0     CWOP -119.713170  34.494670   \n",
       "4       CIMIS_76      160.0    CIMIS -120.512000  34.924000   \n",
       "5       CIMIS_88     2192.0    CIMIS -119.673800  34.942525   \n",
       "6     RAWS_SBIC1      360.0     RAWS -119.030322  33.487428   \n",
       "7  CAHYDRO_MAZC1     2571.0  CAHYDRO -120.083300  34.900000   \n",
       "8     CWOP_AP900     3917.0     CWOP -120.040000  35.049200   \n",
       "9       CIMIS_38      270.0    CIMIS -120.384000  34.954000   \n",
       "\n",
       "                      geometry  intersects  \n",
       "0  POINT (-119.90880 34.52080)        True  \n",
       "1  POINT (-120.42267 34.88400)        True  \n",
       "2  POINT (-119.63750 34.48278)        True  \n",
       "3  POINT (-119.71317 34.49467)        True  \n",
       "4  POINT (-120.51200 34.92400)        True  \n",
       "5  POINT (-119.67380 34.94253)        True  \n",
       "6  POINT (-119.03032 33.48743)        True  \n",
       "7  POINT (-120.08330 34.90000)        True  \n",
       "8  POINT (-120.04000 35.04920)        True  \n",
       "9  POINT (-120.38400 34.95400)        True  "
      ]
     },
     "execution_count": 10,
     "metadata": {},
     "output_type": "execute_result"
    }
   ],
   "source": [
    "train_stns[\"intersects\"] = train_stns.intersects(event_geom.unary_union) # See which stations intersect with the event polygon\n",
    "event_stns = train_stns[train_stns[\"intersects\"]==True].reset_index(drop=True) # Get just those stations, drop the others \n",
    "event_stns"
   ]
  },
  {
   "cell_type": "code",
   "execution_count": 11,
   "id": "534579fd",
   "metadata": {},
   "outputs": [
    {
     "data": {
      "image/png": "[encoded data removed]",
      "text/plain": [
       "<Figure size 640x480 with 1 Axes>"
      ]
     },
     "metadata": {},
     "output_type": "display_data"
    }
   ],
   "source": [
    "# Make a plot to visualize the stations and event poly\n",
    "fig, ax = plt.subplots()\n",
    "event_geom.boundary.plot(color=\"black\",ax=ax, zorder=10)\n",
    "event_stns.geometry.plot(markersize=15,ax=ax,zorder=15);"
   ]
  },
  {
   "cell_type": "markdown",
   "id": "b774a027",
   "metadata": {},
   "source": [
    "## 5. Filter through stations to see if flags were set"
   ]
  },
  {
   "cell_type": "code",
   "execution_count": 12,
   "id": "bfc48585",
   "metadata": {},
   "outputs": [
    {
     "name": "stdout",
     "output_type": "stream",
     "text": [
      "[████████████████████████████████████████████████████████████] 10/10 Est wait 00:0.00\n",
      "\n"
     ]
    }
   ],
   "source": [
    "# Flags, network, and station ID will be stored here\n",
    "# Dictionary can be easily convered to a DataFrame and output as a csv \n",
    "stations_with_flags = {\"network\":[],\"era-id\":[],\"flags\":[]}\n",
    "\n",
    "# Loop through each station to look for flags \n",
    "for i in progressbar(range(len(event_stns))):\n",
    "    \n",
    "    # Get info for one station \n",
    "    network_name, station_id = event_stns.iloc[i][[\"network\",\"era-id\"]]\n",
    "\n",
    "    # Read in the data from AWS as an xarray Dataset \n",
    "    station_ds = read_nc_from_s3(\n",
    "        network_name=network_name, \n",
    "        station_id=station_id, \n",
    "        temp_dir=temp_dir\n",
    "        )\n",
    "\n",
    "    # Reduce dimension of object \n",
    "    # \"station\" is a singleton dimension\n",
    "    station_ds = station_ds.squeeze()\n",
    "\n",
    "    # Subset Dataset to event time period \n",
    "    station_ds = station_ds.sel(time=slice(event_start_date, event_end_date))\n",
    "\n",
    "    # Look for flags \n",
    "    # If no flags found, find_flags returns None\n",
    "    unique_flags = find_flags(station_ds)\n",
    "\n",
    "    # If flags are found, save them to the dictionary\n",
    "    if unique_flags is not None: \n",
    "        stations_with_flags[\"network\"].append(network_name) \n",
    "        stations_with_flags[\"era-id\"].append(station_id)\n",
    "        stations_with_flags[\"flags\"].append(unique_flags)"
   ]
  },
  {
   "cell_type": "code",
   "execution_count": null,
   "id": "435b5aec",
   "metadata": {},
   "outputs": [
    {
     "data": {
      "text/html": [
       "<div>\n",
       "<style scoped>\n",
       "    .dataframe tbody tr th:only-of-type {\n",
       "        vertical-align: middle;\n",
       "    }\n",
       "\n",
       "    .dataframe tbody tr th {\n",
       "        vertical-align: top;\n",
       "    }\n",
       "\n",
       "    .dataframe thead th {\n",
       "        text-align: right;\n",
       "    }\n",
       "</style>\n",
       "<table border=\"1\" class=\"dataframe\">\n",
       "  <thead>\n",
       "    <tr style=\"text-align: right;\">\n",
       "      <th></th>\n",
       "      <th>network</th>\n",
       "      <th>era-id</th>\n",
       "      <th>flags</th>\n",
       "    </tr>\n",
       "  </thead>\n",
       "  <tbody>\n",
       "    <tr>\n",
       "      <th>0</th>\n",
       "      <td>CIMIS</td>\n",
       "      <td>CIMIS_88</td>\n",
       "      <td>[23]</td>\n",
       "    </tr>\n",
       "    <tr>\n",
       "      <th>1</th>\n",
       "      <td>RAWS</td>\n",
       "      <td>RAWS_SBIC1</td>\n",
       "      <td>[13]</td>\n",
       "    </tr>\n",
       "  </tbody>\n",
       "</table>\n",
       "</div>"
      ],
      "text/plain": [
       "  network      era-id flags\n",
       "0   CIMIS    CIMIS_88  [23]\n",
       "1    RAWS  RAWS_SBIC1  [13]"
      ]
     },
     "execution_count": 13,
     "metadata": {},
     "output_type": "execute_result"
    }
   ],
   "source": [
    "# Output a DataFrame\n",
    "# I don't record which variables these flags belong to... does that matter? \n",
    "stations_with_flags_df = pd.DataFrame(stations_with_flags)\n",
    "stations_with_flags_df"
   ]
  }
 ],
 "metadata": {
  "kernelspec": {
   "display_name": "hist-obs",
   "language": "python",
   "name": "python3"
  },
  "language_info": {
   "codemirror_mode": {
    "name": "ipython",
    "version": 3
   },
   "file_extension": ".py",
   "mimetype": "text/x-python",
   "name": "python",
   "nbconvert_exporter": "python",
   "pygments_lexer": "ipython3",
   "version": "3.9.18"
  }
 },
 "nbformat": 4,
 "nbformat_minor": 5
}
