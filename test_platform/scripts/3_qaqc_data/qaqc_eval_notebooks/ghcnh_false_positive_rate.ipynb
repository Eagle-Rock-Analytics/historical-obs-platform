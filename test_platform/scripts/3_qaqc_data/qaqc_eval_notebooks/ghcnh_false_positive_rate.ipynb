{
 "cells": [
  {
   "cell_type": "markdown",
   "id": "2f107480-b89b-4dc8-a146-8ef1fee66c4e",
   "metadata": {},
   "source": [
    "# GHCNh false positive rate"
   ]
  },
  {
   "cell_type": "code",
   "execution_count": 1,
   "id": "6bf98323-af90-43a5-8a0c-ebfc0be02d60",
   "metadata": {
    "execution": {
     "iopub.execute_input": "2024-08-30T18:47:30.356312Z",
     "iopub.status.busy": "2024-08-30T18:47:30.355682Z",
     "iopub.status.idle": "2024-08-30T18:47:31.746150Z",
     "shell.execute_reply": "2024-08-30T18:47:31.745554Z",
     "shell.execute_reply.started": "2024-08-30T18:47:30.356272Z"
    }
   },
   "outputs": [],
   "source": [
    "# import libraries\n",
    "import pandas as pd\n",
    "import numpy as np\n",
    "import xarray as xr\n",
    "import geopandas as gpd\n",
    "from geopandas import GeoDataFrame\n",
    "from shapely.geometry import Point\n",
    "import matplotlib.pyplot as plt\n",
    "import cartopy.crs as ccrs\n",
    "import cartopy.feature as cf\n",
    "from matplotlib.ticker import MaxNLocator\n",
    "import sys\n",
    "ghcnh_lib_path = \"/Users/hector/ERA_work/historical-obs-platform/test_platform/scripts/3_qaqc_data/qaqc_eval_notebooks/GHCNh\"\n",
    "sys.path.append(ghcnh_lib_path)\n",
    "from GHCNh_lib import GHCNh # If GHCNh is was appended to path\n",
    "\n",
    "%load_ext autoreload\n",
    "%autoreload 2"
   ]
  },
  {
   "cell_type": "code",
   "execution_count": 2,
   "id": "fd979aa5-ba57-445f-98f5-079834afade8",
   "metadata": {
    "execution": {
     "iopub.execute_input": "2024-08-30T18:48:31.726870Z",
     "iopub.status.busy": "2024-08-30T18:48:31.726229Z",
     "iopub.status.idle": "2024-08-30T18:48:35.146460Z",
     "shell.execute_reply": "2024-08-30T18:48:35.146126Z",
     "shell.execute_reply.started": "2024-08-30T18:48:31.726831Z"
    }
   },
   "outputs": [
    {
     "name": "stderr",
     "output_type": "stream",
     "text": [
      "/Users/hector/ERA_work/historical-obs-platform/test_platform/scripts/3_qaqc_data/qaqc_eval_notebooks/GHCNh/GHCNh_lib.py:150: DtypeWarning: Columns (12,18,24,30,42,49,51,60,66,76,77,79,81,82,83,85,87,106,107,109,111,125,127,129,139,141,143,145,147,148,149,151,153,157,159,160,161,163,165,169,171,172,173,175,177,181,183,191,193,195,227,229,231,232,234,237) have mixed types. Specify dtype option on import or set low_memory=False.\n",
      "  self.station_data = pd.read_csv(self.local_filename, sep='|')\n"
     ]
    },
    {
     "name": "stdout",
     "output_type": "stream",
     "text": [
      "CAW00025343, -133.05000, 54.25000\n",
      "CPU times: user 3.09 s, sys: 280 ms, total: 3.37 s\n",
      "Wall time: 3.37 s\n"
     ]
    },
    {
     "data": {
      "text/html": [
       "<div>\n",
       "<style scoped>\n",
       "    .dataframe tbody tr th:only-of-type {\n",
       "        vertical-align: middle;\n",
       "    }\n",
       "\n",
       "    .dataframe tbody tr th {\n",
       "        vertical-align: top;\n",
       "    }\n",
       "\n",
       "    .dataframe thead th {\n",
       "        text-align: right;\n",
       "    }\n",
       "</style>\n",
       "<table border=\"1\" class=\"dataframe\">\n",
       "  <thead>\n",
       "    <tr style=\"text-align: right;\">\n",
       "      <th></th>\n",
       "      <th>Station_ID</th>\n",
       "      <th>Station_name</th>\n",
       "      <th>Year</th>\n",
       "      <th>Month</th>\n",
       "      <th>Day</th>\n",
       "      <th>Hour</th>\n",
       "      <th>Minute</th>\n",
       "      <th>Latitude</th>\n",
       "      <th>Longitude</th>\n",
       "      <th>Elevation</th>\n",
       "      <th>...</th>\n",
       "      <th>precipitation_24_hour_Report_Type</th>\n",
       "      <th>precipitation_24_hour_Source_Code</th>\n",
       "      <th>precipitation_24_hour_Source_Station_ID</th>\n",
       "      <th>remarks</th>\n",
       "      <th>remarks_Measurement_Code</th>\n",
       "      <th>remarks_Quality_Code</th>\n",
       "      <th>remarks_Report_Type</th>\n",
       "      <th>remarks_Source_Code</th>\n",
       "      <th>remarks_Source_Station_ID</th>\n",
       "      <th>time</th>\n",
       "    </tr>\n",
       "  </thead>\n",
       "  <tbody>\n",
       "    <tr>\n",
       "      <th>0</th>\n",
       "      <td>CAW00025343</td>\n",
       "      <td>LANGARA</td>\n",
       "      <td>1954</td>\n",
       "      <td>1</td>\n",
       "      <td>1</td>\n",
       "      <td>9</td>\n",
       "      <td>0</td>\n",
       "      <td>54.25</td>\n",
       "      <td>-133.05</td>\n",
       "      <td>41.1</td>\n",
       "      <td>...</td>\n",
       "      <td>NaN</td>\n",
       "      <td>NaN</td>\n",
       "      <td>NaN</td>\n",
       "      <td>NaN</td>\n",
       "      <td>NaN</td>\n",
       "      <td>NaN</td>\n",
       "      <td>NaN</td>\n",
       "      <td>NaN</td>\n",
       "      <td>NaN</td>\n",
       "      <td>1954-01-01 09:00:00</td>\n",
       "    </tr>\n",
       "    <tr>\n",
       "      <th>1</th>\n",
       "      <td>CAW00025343</td>\n",
       "      <td>LANGARA</td>\n",
       "      <td>1954</td>\n",
       "      <td>1</td>\n",
       "      <td>1</td>\n",
       "      <td>21</td>\n",
       "      <td>0</td>\n",
       "      <td>54.25</td>\n",
       "      <td>-133.05</td>\n",
       "      <td>41.1</td>\n",
       "      <td>...</td>\n",
       "      <td>NaN</td>\n",
       "      <td>NaN</td>\n",
       "      <td>NaN</td>\n",
       "      <td>NaN</td>\n",
       "      <td>NaN</td>\n",
       "      <td>NaN</td>\n",
       "      <td>NaN</td>\n",
       "      <td>NaN</td>\n",
       "      <td>NaN</td>\n",
       "      <td>1954-01-01 21:00:00</td>\n",
       "    </tr>\n",
       "    <tr>\n",
       "      <th>2</th>\n",
       "      <td>CAW00025343</td>\n",
       "      <td>LANGARA</td>\n",
       "      <td>1954</td>\n",
       "      <td>1</td>\n",
       "      <td>2</td>\n",
       "      <td>3</td>\n",
       "      <td>0</td>\n",
       "      <td>54.25</td>\n",
       "      <td>-133.05</td>\n",
       "      <td>41.1</td>\n",
       "      <td>...</td>\n",
       "      <td>NaN</td>\n",
       "      <td>NaN</td>\n",
       "      <td>NaN</td>\n",
       "      <td>NaN</td>\n",
       "      <td>NaN</td>\n",
       "      <td>NaN</td>\n",
       "      <td>NaN</td>\n",
       "      <td>NaN</td>\n",
       "      <td>NaN</td>\n",
       "      <td>1954-01-02 03:00:00</td>\n",
       "    </tr>\n",
       "  </tbody>\n",
       "</table>\n",
       "<p>3 rows × 239 columns</p>\n",
       "</div>"
      ],
      "text/plain": [
       "    Station_ID Station_name  Year  Month  Day  Hour  Minute  Latitude  \\\n",
       "0  CAW00025343      LANGARA  1954      1    1     9       0     54.25   \n",
       "1  CAW00025343      LANGARA  1954      1    1    21       0     54.25   \n",
       "2  CAW00025343      LANGARA  1954      1    2     3       0     54.25   \n",
       "\n",
       "   Longitude  Elevation  ...  precipitation_24_hour_Report_Type  \\\n",
       "0    -133.05       41.1  ...                                NaN   \n",
       "1    -133.05       41.1  ...                                NaN   \n",
       "2    -133.05       41.1  ...                                NaN   \n",
       "\n",
       "   precipitation_24_hour_Source_Code precipitation_24_hour_Source_Station_ID  \\\n",
       "0                                NaN                                     NaN   \n",
       "1                                NaN                                     NaN   \n",
       "2                                NaN                                     NaN   \n",
       "\n",
       "  remarks  remarks_Measurement_Code remarks_Quality_Code  remarks_Report_Type  \\\n",
       "0     NaN                       NaN                  NaN                  NaN   \n",
       "1     NaN                       NaN                  NaN                  NaN   \n",
       "2     NaN                       NaN                  NaN                  NaN   \n",
       "\n",
       "   remarks_Source_Code remarks_Source_Station_ID                time  \n",
       "0                  NaN                       NaN 1954-01-01 09:00:00  \n",
       "1                  NaN                       NaN 1954-01-01 21:00:00  \n",
       "2                  NaN                       NaN 1954-01-02 03:00:00  \n",
       "\n",
       "[3 rows x 239 columns]"
      ]
     },
     "execution_count": 2,
     "metadata": {},
     "output_type": "execute_result"
    }
   ],
   "source": [
    "%%time\n",
    "ghcnh = GHCNh(stations_local=True)\n",
    "ghcnh.select_wecc()\n",
    "id = ghcnh.stations_df['id'].iloc[0]\n",
    "ghcnh.read_data_from_url(id, save=True)\n",
    "ghcnh.convert_df_to_gpd()\n",
    "lon = ghcnh.station_data.Longitude.mean()\n",
    "lat = ghcnh.station_data.Latitude.mean()\n",
    "print(\"{}, {:.5f}, {:.5f}\".format(id, lon, lat))\n",
    "ghcnh.station_data.head(3)"
   ]
  },
  {
   "cell_type": "code",
   "execution_count": 17,
   "id": "cff25002-086b-458e-b3e6-5e90712ee97a",
   "metadata": {
    "execution": {
     "iopub.execute_input": "2024-08-30T18:54:20.829372Z",
     "iopub.status.busy": "2024-08-30T18:54:20.828744Z",
     "iopub.status.idle": "2024-08-30T18:54:20.871468Z",
     "shell.execute_reply": "2024-08-30T18:54:20.870863Z",
     "shell.execute_reply.started": "2024-08-30T18:54:20.829336Z"
    }
   },
   "outputs": [],
   "source": [
    "def return_ghcn_vars(ghcn_df, input_var):\n",
    "    '''\n",
    "    Given an input variable, return GHCNh location variables and all relevant data variables,\n",
    "    rather than utilizing the whole 240 cols, or having to know how ghcnh labels the cols.\n",
    "\n",
    "    input_var must follow ERA naming scheme (tas, tdps, ps, pr, etc.)\n",
    "    '''\n",
    "    ghcnh_vars = pd.read_csv('ghcnh_data_headers.csv')\n",
    "\n",
    "    # include station-ID, time, loc, elevation (cols 1-10)\n",
    "    stn_info_cols = ['Station_ID', 'Station_name', 'time',\n",
    "                     'Latitude','Longitude','Elevation']\n",
    "    vars = {\n",
    "        'tas': 'temperature',\n",
    "        'tdps': 'dew_point_temperature',\n",
    "        'tdps_derived': 'dew_point_temperature',\n",
    "        'ps': 'station_level_pressure',\n",
    "        'psl': 'station_level_pressure',\n",
    "        'sfcWind_dir': 'wind_direction',\n",
    "        'sfcWind': 'wind_speed',\n",
    "        'tas': 'temperature',\n",
    "        'hurs': 'relative_humidity',\n",
    "        'rsds': \"N/A\",\n",
    "        'pr': 'precipitation',\n",
    "        'pr_1h': 'precipitation',\n",
    "        'pr_5min': 'precipitation',\n",
    "    }\n",
    "    if input_var in vars.keys():\n",
    "        i = ghcn_df.columns.get_loc(vars[input_var])\n",
    "        j = i+6\n",
    "        # For wind, include wind gust\n",
    "        if input_var==\"sfcWind\":\n",
    "            j = j+6\n",
    "        var_cols = ghcn_df.iloc[:, i:j].columns\n",
    "        return_cols = np.concatenate([stn_info_cols,var_cols])\n",
    "        \n",
    "        return ghcn_df.loc[:, return_cols]\n",
    "    else:\n",
    "        raise Exception(f\"Variable {input_var} not in variables' dictionary\")"
   ]
  },
  {
   "cell_type": "code",
   "execution_count": 18,
   "id": "8e7922ce-be61-4d80-a12f-ced0db800727",
   "metadata": {
    "execution": {
     "iopub.execute_input": "2024-08-30T18:54:21.277905Z",
     "iopub.status.busy": "2024-08-30T18:54:21.277286Z",
     "iopub.status.idle": "2024-08-30T18:54:21.329269Z",
     "shell.execute_reply": "2024-08-30T18:54:21.328810Z",
     "shell.execute_reply.started": "2024-08-30T18:54:21.277868Z"
    }
   },
   "outputs": [],
   "source": [
    "df = return_ghcn_vars(ghcnh.station_data, 'sfcWind')"
   ]
  },
  {
   "cell_type": "code",
   "execution_count": 20,
   "id": "03d55f30-b020-409f-9439-d2c8852eb07e",
   "metadata": {
    "execution": {
     "iopub.execute_input": "2024-08-30T18:54:28.591143Z",
     "iopub.status.busy": "2024-08-30T18:54:28.590161Z",
     "iopub.status.idle": "2024-08-30T18:54:28.630742Z",
     "shell.execute_reply": "2024-08-30T18:54:28.630243Z",
     "shell.execute_reply.started": "2024-08-30T18:54:28.591071Z"
    }
   },
   "outputs": [
    {
     "data": {
      "text/plain": [
       "Index(['Station_ID', 'Station_name', 'time', 'Latitude', 'Longitude',\n",
       "       'Elevation', 'wind_speed', 'wind_speed_Measurement_Code',\n",
       "       'wind_speed_Quality_Code', 'wind_speed_Report_Type',\n",
       "       'wind_speed_Source_Code', 'wind_speed_Source_Station_ID', 'wind_gust',\n",
       "       'wind_gust_Measurement_Code', 'wind_gust_Quality_Code',\n",
       "       'wind_gust_Report_Type', 'wind_gust_Source_Code',\n",
       "       'wind_gust_Source_Station_ID'],\n",
       "      dtype='object')"
      ]
     },
     "execution_count": 20,
     "metadata": {},
     "output_type": "execute_result"
    }
   ],
   "source": [
    "df.columns"
   ]
  },
  {
   "cell_type": "code",
   "execution_count": 9,
   "id": "1eae5667-018a-45ad-a43a-74f26a384bb3",
   "metadata": {
    "execution": {
     "iopub.execute_input": "2024-08-30T18:49:45.755076Z",
     "iopub.status.busy": "2024-08-30T18:49:45.754439Z",
     "iopub.status.idle": "2024-08-30T18:49:45.822718Z",
     "shell.execute_reply": "2024-08-30T18:49:45.821638Z",
     "shell.execute_reply.started": "2024-08-30T18:49:45.755025Z"
    }
   },
   "outputs": [
    {
     "ename": "AttributeError",
     "evalue": "'DataFrame' object has no attribute 'time'",
     "output_type": "error",
     "traceback": [
      "\u001b[0;31m---------------------------------------------------------------------------\u001b[0m",
      "\u001b[0;31mAttributeError\u001b[0m                            Traceback (most recent call last)",
      "\u001b[0;32m/var/folders/dj/qqhqnt2n4993vwmy6qcpnbk80000gn/T/ipykernel_21660/737080615.py\u001b[0m in \u001b[0;36m?\u001b[0;34m()\u001b[0m\n\u001b[0;32m----> 1\u001b[0;31m \u001b[0mdf\u001b[0m\u001b[0;34m.\u001b[0m\u001b[0mtime\u001b[0m\u001b[0;34m\u001b[0m\u001b[0;34m\u001b[0m\u001b[0m\n\u001b[0m",
      "\u001b[0;32m~/anaconda3/envs/hist-obs/lib/python3.9/site-packages/pandas/core/generic.py\u001b[0m in \u001b[0;36m?\u001b[0;34m(self, name)\u001b[0m\n\u001b[1;32m   5903\u001b[0m             \u001b[0;32mand\u001b[0m \u001b[0mname\u001b[0m \u001b[0;32mnot\u001b[0m \u001b[0;32min\u001b[0m \u001b[0mself\u001b[0m\u001b[0;34m.\u001b[0m\u001b[0m_accessors\u001b[0m\u001b[0;34m\u001b[0m\u001b[0;34m\u001b[0m\u001b[0m\n\u001b[1;32m   5904\u001b[0m             \u001b[0;32mand\u001b[0m \u001b[0mself\u001b[0m\u001b[0;34m.\u001b[0m\u001b[0m_info_axis\u001b[0m\u001b[0;34m.\u001b[0m\u001b[0m_can_hold_identifiers_and_holds_name\u001b[0m\u001b[0;34m(\u001b[0m\u001b[0mname\u001b[0m\u001b[0;34m)\u001b[0m\u001b[0;34m\u001b[0m\u001b[0;34m\u001b[0m\u001b[0m\n\u001b[1;32m   5905\u001b[0m         ):\n\u001b[1;32m   5906\u001b[0m             \u001b[0;32mreturn\u001b[0m \u001b[0mself\u001b[0m\u001b[0;34m[\u001b[0m\u001b[0mname\u001b[0m\u001b[0;34m]\u001b[0m\u001b[0;34m\u001b[0m\u001b[0;34m\u001b[0m\u001b[0m\n\u001b[0;32m-> 5907\u001b[0;31m         \u001b[0;32mreturn\u001b[0m \u001b[0mobject\u001b[0m\u001b[0;34m.\u001b[0m\u001b[0m__getattribute__\u001b[0m\u001b[0;34m(\u001b[0m\u001b[0mself\u001b[0m\u001b[0;34m,\u001b[0m \u001b[0mname\u001b[0m\u001b[0;34m)\u001b[0m\u001b[0;34m\u001b[0m\u001b[0;34m\u001b[0m\u001b[0m\n\u001b[0m",
      "\u001b[0;31mAttributeError\u001b[0m: 'DataFrame' object has no attribute 'time'"
     ]
    }
   ],
   "source": [
    "df.time"
   ]
  },
  {
   "cell_type": "code",
   "execution_count": null,
   "id": "88cbef22-6cb9-4fbf-a129-0dac7ae4f616",
   "metadata": {},
   "outputs": [],
   "source": []
  },
  {
   "cell_type": "code",
   "execution_count": null,
   "id": "aa028a6e-c485-401d-85c2-4f872a1cd9db",
   "metadata": {},
   "outputs": [],
   "source": []
  },
  {
   "cell_type": "code",
   "execution_count": null,
   "id": "070cc539-ba2f-4f17-9197-1b18392a6693",
   "metadata": {},
   "outputs": [],
   "source": []
  },
  {
   "cell_type": "markdown",
   "id": "9384607d-acf9-442f-b53e-8caaf95f08e2",
   "metadata": {},
   "source": [
    "### QAQC evaluation"
   ]
  },
  {
   "cell_type": "code",
   "execution_count": 2,
   "id": "eb0003d8-cfe1-474d-a6bd-cc40e193e890",
   "metadata": {
    "execution": {
     "iopub.execute_input": "2024-08-29T15:48:05.813991Z",
     "iopub.status.busy": "2024-08-29T15:48:05.813872Z",
     "iopub.status.idle": "2024-08-29T15:48:05.844146Z",
     "shell.execute_reply": "2024-08-29T15:48:05.843793Z",
     "shell.execute_reply.started": "2024-08-29T15:48:05.813979Z"
    }
   },
   "outputs": [
    {
     "data": {
      "text/html": [
       "<div>\n",
       "<style scoped>\n",
       "    .dataframe tbody tr th:only-of-type {\n",
       "        vertical-align: middle;\n",
       "    }\n",
       "\n",
       "    .dataframe tbody tr th {\n",
       "        vertical-align: top;\n",
       "    }\n",
       "\n",
       "    .dataframe thead th {\n",
       "        text-align: right;\n",
       "    }\n",
       "</style>\n",
       "<table border=\"1\" class=\"dataframe\">\n",
       "  <thead>\n",
       "    <tr style=\"text-align: right;\">\n",
       "      <th></th>\n",
       "      <th>network</th>\n",
       "      <th>era-id</th>\n",
       "      <th>elevation</th>\n",
       "      <th>latitude</th>\n",
       "      <th>longitude</th>\n",
       "      <th>start_date</th>\n",
       "      <th>end_date</th>\n",
       "      <th>event_type</th>\n",
       "      <th>notes</th>\n",
       "    </tr>\n",
       "  </thead>\n",
       "  <tbody>\n",
       "    <tr>\n",
       "      <th>0</th>\n",
       "      <td>ASOSAWOS</td>\n",
       "      <td>ASOSAWOS_72278303185</td>\n",
       "      <td>423.3672</td>\n",
       "      <td>33.466</td>\n",
       "      <td>-111.721</td>\n",
       "      <td>2006-01-01 00:00:00+00:00</td>\n",
       "      <td>2022-12-31 00:00:00+00:00</td>\n",
       "      <td>AR, mudslide, heatwave1, heatwave2, heatwave3,...</td>\n",
       "      <td>NaN</td>\n",
       "    </tr>\n",
       "    <tr>\n",
       "      <th>1</th>\n",
       "      <td>ASOSAWOS</td>\n",
       "      <td>ASOSAWOS_72278403184</td>\n",
       "      <td>453.2376</td>\n",
       "      <td>33.690</td>\n",
       "      <td>-112.066</td>\n",
       "      <td>2006-01-01 00:00:00+00:00</td>\n",
       "      <td>2022-12-31 00:00:00+00:00</td>\n",
       "      <td>AR, mudslide, heatwave1, heatwave2, heatwave3,...</td>\n",
       "      <td>NaN</td>\n",
       "    </tr>\n",
       "    <tr>\n",
       "      <th>2</th>\n",
       "      <td>ASOSAWOS</td>\n",
       "      <td>ASOSAWOS_72278903192</td>\n",
       "      <td>436.1688</td>\n",
       "      <td>33.612</td>\n",
       "      <td>-111.923</td>\n",
       "      <td>2006-01-01 00:00:00+00:00</td>\n",
       "      <td>2022-12-31 00:00:00+00:00</td>\n",
       "      <td>AR, mudslide, heatwave1, heatwave2, heatwave3,...</td>\n",
       "      <td>NaN</td>\n",
       "    </tr>\n",
       "    <tr>\n",
       "      <th>3</th>\n",
       "      <td>ASOSAWOS</td>\n",
       "      <td>ASOSAWOS_72281023199</td>\n",
       "      <td>-14.0208</td>\n",
       "      <td>32.832</td>\n",
       "      <td>-115.664</td>\n",
       "      <td>1984-04-13 00:00:00+00:00</td>\n",
       "      <td>2022-12-31 00:00:00+00:00</td>\n",
       "      <td>all</td>\n",
       "      <td>NaN</td>\n",
       "    </tr>\n",
       "    <tr>\n",
       "      <th>4</th>\n",
       "      <td>ASOSAWOS</td>\n",
       "      <td>ASOSAWOS_72281703068</td>\n",
       "      <td>1837.9440</td>\n",
       "      <td>38.767</td>\n",
       "      <td>-104.300</td>\n",
       "      <td>2006-05-01 00:00:00+00:00</td>\n",
       "      <td>2022-12-31 00:00:00+00:00</td>\n",
       "      <td>AR, mudslide, heatwave1, heatwave2, heatwave3,...</td>\n",
       "      <td>NaN</td>\n",
       "    </tr>\n",
       "  </tbody>\n",
       "</table>\n",
       "</div>"
      ],
      "text/plain": [
       "    network                era-id  elevation  latitude  longitude  \\\n",
       "0  ASOSAWOS  ASOSAWOS_72278303185   423.3672    33.466   -111.721   \n",
       "1  ASOSAWOS  ASOSAWOS_72278403184   453.2376    33.690   -112.066   \n",
       "2  ASOSAWOS  ASOSAWOS_72278903192   436.1688    33.612   -111.923   \n",
       "3  ASOSAWOS  ASOSAWOS_72281023199   -14.0208    32.832   -115.664   \n",
       "4  ASOSAWOS  ASOSAWOS_72281703068  1837.9440    38.767   -104.300   \n",
       "\n",
       "                  start_date                   end_date  \\\n",
       "0  2006-01-01 00:00:00+00:00  2022-12-31 00:00:00+00:00   \n",
       "1  2006-01-01 00:00:00+00:00  2022-12-31 00:00:00+00:00   \n",
       "2  2006-01-01 00:00:00+00:00  2022-12-31 00:00:00+00:00   \n",
       "3  1984-04-13 00:00:00+00:00  2022-12-31 00:00:00+00:00   \n",
       "4  2006-05-01 00:00:00+00:00  2022-12-31 00:00:00+00:00   \n",
       "\n",
       "                                          event_type notes  \n",
       "0  AR, mudslide, heatwave1, heatwave2, heatwave3,...   NaN  \n",
       "1  AR, mudslide, heatwave1, heatwave2, heatwave3,...   NaN  \n",
       "2  AR, mudslide, heatwave1, heatwave2, heatwave3,...   NaN  \n",
       "3                                                all   NaN  \n",
       "4  AR, mudslide, heatwave1, heatwave2, heatwave3,...   NaN  "
      ]
     },
     "execution_count": 2,
     "metadata": {},
     "output_type": "execute_result"
    }
   ],
   "source": [
    "# read in stations\n",
    "train_stns = pd.read_csv('../qaqc_training_station_list_events.csv')\n",
    "train_stns.head()"
   ]
  },
  {
   "cell_type": "code",
   "execution_count": 3,
   "id": "c148f331-7fcf-43df-a6aa-957039e51094",
   "metadata": {
    "execution": {
     "iopub.execute_input": "2024-08-29T15:48:07.614940Z",
     "iopub.status.busy": "2024-08-29T15:48:07.614312Z",
     "iopub.status.idle": "2024-08-29T15:48:07.652593Z",
     "shell.execute_reply": "2024-08-29T15:48:07.652142Z",
     "shell.execute_reply.started": "2024-08-29T15:48:07.614905Z"
    }
   },
   "outputs": [
    {
     "data": {
      "text/plain": [
       "895"
      ]
     },
     "execution_count": 3,
     "metadata": {},
     "output_type": "execute_result"
    }
   ],
   "source": [
    "len(train_stns)"
   ]
  },
  {
   "cell_type": "code",
   "execution_count": 4,
   "id": "60c02177-1301-41b8-972a-811543f61302",
   "metadata": {
    "execution": {
     "iopub.execute_input": "2024-08-29T15:48:08.173241Z",
     "iopub.status.busy": "2024-08-29T15:48:08.172603Z",
     "iopub.status.idle": "2024-08-29T15:48:08.209302Z",
     "shell.execute_reply": "2024-08-29T15:48:08.208700Z",
     "shell.execute_reply.started": "2024-08-29T15:48:08.173205Z"
    }
   },
   "outputs": [],
   "source": [
    "from pyproj import CRS, Transformer\n",
    "\n",
    "def latlon_to_mercator_cartopy(lat, lon):\n",
    "\n",
    "    proj_latlon = CRS('EPSG:4326')\n",
    "    proj_mercator = CRS('EPSG:3857')\n",
    "    \n",
    "    # Transform the coordinates\n",
    "    transformer = Transformer.from_crs(proj_latlon, proj_mercator, always_xy=True)\n",
    "    x,y = transformer.transform(lon, lat)\n",
    "    \n",
    "    return x, y"
   ]
  },
  {
   "cell_type": "code",
   "execution_count": 5,
   "id": "74c38c25-b50c-44e2-bec3-321d928adcd1",
   "metadata": {
    "execution": {
     "iopub.execute_input": "2024-08-29T15:48:09.023073Z",
     "iopub.status.busy": "2024-08-29T15:48:09.022460Z",
     "iopub.status.idle": "2024-08-29T15:48:09.070568Z",
     "shell.execute_reply": "2024-08-29T15:48:09.070157Z",
     "shell.execute_reply.started": "2024-08-29T15:48:09.023037Z"
    }
   },
   "outputs": [
    {
     "data": {
      "text/html": [
       "<div>\n",
       "<style scoped>\n",
       "    .dataframe tbody tr th:only-of-type {\n",
       "        vertical-align: middle;\n",
       "    }\n",
       "\n",
       "    .dataframe tbody tr th {\n",
       "        vertical-align: top;\n",
       "    }\n",
       "\n",
       "    .dataframe thead th {\n",
       "        text-align: right;\n",
       "    }\n",
       "</style>\n",
       "<table border=\"1\" class=\"dataframe\">\n",
       "  <thead>\n",
       "    <tr style=\"text-align: right;\">\n",
       "      <th></th>\n",
       "      <th>network</th>\n",
       "      <th>era-id</th>\n",
       "      <th>elevation</th>\n",
       "      <th>latitude</th>\n",
       "      <th>longitude</th>\n",
       "      <th>start_date</th>\n",
       "      <th>end_date</th>\n",
       "      <th>event_type</th>\n",
       "      <th>notes</th>\n",
       "    </tr>\n",
       "  </thead>\n",
       "  <tbody>\n",
       "    <tr>\n",
       "      <th>3</th>\n",
       "      <td>ASOSAWOS</td>\n",
       "      <td>ASOSAWOS_72281023199</td>\n",
       "      <td>-14.0208</td>\n",
       "      <td>32.832</td>\n",
       "      <td>-115.664</td>\n",
       "      <td>1984-04-13 00:00:00+00:00</td>\n",
       "      <td>2022-12-31 00:00:00+00:00</td>\n",
       "      <td>all</td>\n",
       "      <td>NaN</td>\n",
       "    </tr>\n",
       "    <tr>\n",
       "      <th>7</th>\n",
       "      <td>ASOSAWOS</td>\n",
       "      <td>ASOSAWOS_72288023152</td>\n",
       "      <td>222.8088</td>\n",
       "      <td>34.200</td>\n",
       "      <td>-118.365</td>\n",
       "      <td>1943-06-01 00:00:00+00:00</td>\n",
       "      <td>2022-12-31 00:00:00+00:00</td>\n",
       "      <td>all</td>\n",
       "      <td>NaN</td>\n",
       "    </tr>\n",
       "    <tr>\n",
       "      <th>9</th>\n",
       "      <td>ASOSAWOS</td>\n",
       "      <td>ASOSAWOS_72288623130</td>\n",
       "      <td>239.2680</td>\n",
       "      <td>34.212</td>\n",
       "      <td>-118.491</td>\n",
       "      <td>1942-12-11 00:00:00+00:00</td>\n",
       "      <td>2022-12-31 00:00:00+00:00</td>\n",
       "      <td>all</td>\n",
       "      <td>NaN</td>\n",
       "    </tr>\n",
       "    <tr>\n",
       "      <th>11</th>\n",
       "      <td>ASOSAWOS</td>\n",
       "      <td>ASOSAWOS_72290023188</td>\n",
       "      <td>4.5720</td>\n",
       "      <td>32.734</td>\n",
       "      <td>-117.183</td>\n",
       "      <td>1942-01-01 00:00:00+00:00</td>\n",
       "      <td>2022-12-31 00:00:00+00:00</td>\n",
       "      <td>all</td>\n",
       "      <td>NaN</td>\n",
       "    </tr>\n",
       "    <tr>\n",
       "      <th>14</th>\n",
       "      <td>ASOSAWOS</td>\n",
       "      <td>ASOSAWOS_72290693112</td>\n",
       "      <td>4.2672</td>\n",
       "      <td>32.692</td>\n",
       "      <td>-117.210</td>\n",
       "      <td>1945-04-01 00:00:00+00:00</td>\n",
       "      <td>2022-12-31 00:00:00+00:00</td>\n",
       "      <td>all</td>\n",
       "      <td>NaN</td>\n",
       "    </tr>\n",
       "  </tbody>\n",
       "</table>\n",
       "</div>"
      ],
      "text/plain": [
       "     network                era-id  elevation  latitude  longitude  \\\n",
       "3   ASOSAWOS  ASOSAWOS_72281023199   -14.0208    32.832   -115.664   \n",
       "7   ASOSAWOS  ASOSAWOS_72288023152   222.8088    34.200   -118.365   \n",
       "9   ASOSAWOS  ASOSAWOS_72288623130   239.2680    34.212   -118.491   \n",
       "11  ASOSAWOS  ASOSAWOS_72290023188     4.5720    32.734   -117.183   \n",
       "14  ASOSAWOS  ASOSAWOS_72290693112     4.2672    32.692   -117.210   \n",
       "\n",
       "                   start_date                   end_date event_type notes  \n",
       "3   1984-04-13 00:00:00+00:00  2022-12-31 00:00:00+00:00        all   NaN  \n",
       "7   1943-06-01 00:00:00+00:00  2022-12-31 00:00:00+00:00        all   NaN  \n",
       "9   1942-12-11 00:00:00+00:00  2022-12-31 00:00:00+00:00        all   NaN  \n",
       "11  1942-01-01 00:00:00+00:00  2022-12-31 00:00:00+00:00        all   NaN  \n",
       "14  1945-04-01 00:00:00+00:00  2022-12-31 00:00:00+00:00        all   NaN  "
      ]
     },
     "execution_count": 5,
     "metadata": {},
     "output_type": "execute_result"
    }
   ],
   "source": [
    "# identify stations with coverage of event\n",
    "event_flags = ['all', 'santa_ana_wind']\n",
    "event_stns = train_stns[train_stns['event_type'].isin(event_flags)]\n",
    "\n",
    "# exclude \"manual check on end date\" for the time being -- SNOTEL stations all have 2100 as their end date regardless of when the data actually ends\n",
    "mask = event_stns['notes'] == 'manual check on end date'\n",
    "event_stns = event_stns[~mask]\n",
    "event_stns.head()"
   ]
  },
  {
   "cell_type": "code",
   "execution_count": 6,
   "id": "b2aed13a-2704-4ed5-8242-89245cba568d",
   "metadata": {
    "execution": {
     "iopub.execute_input": "2024-08-29T15:48:11.276710Z",
     "iopub.status.busy": "2024-08-29T15:48:11.275917Z",
     "iopub.status.idle": "2024-08-29T15:48:11.315735Z",
     "shell.execute_reply": "2024-08-29T15:48:11.315264Z",
     "shell.execute_reply.started": "2024-08-29T15:48:11.276674Z"
    }
   },
   "outputs": [
    {
     "name": "stdout",
     "output_type": "stream",
     "text": [
      "91\n"
     ]
    },
    {
     "data": {
      "text/plain": [
       "array(['ASOSAWOS', 'CIMIS', 'OtherISD'], dtype=object)"
      ]
     },
     "execution_count": 6,
     "metadata": {},
     "output_type": "execute_result"
    }
   ],
   "source": [
    "print(len(event_stns))\n",
    "event_stns.network.unique()"
   ]
  },
  {
   "cell_type": "code",
   "execution_count": 7,
   "id": "8ef025fe-5c45-4ffd-85a5-ad48ba4ef55e",
   "metadata": {
    "execution": {
     "iopub.execute_input": "2024-08-29T15:48:11.764284Z",
     "iopub.status.busy": "2024-08-29T15:48:11.763623Z",
     "iopub.status.idle": "2024-08-29T15:48:19.654890Z",
     "shell.execute_reply": "2024-08-29T15:48:19.654493Z",
     "shell.execute_reply.started": "2024-08-29T15:48:11.764250Z"
    }
   },
   "outputs": [
    {
     "data": {
      "text/html": [
       "<div>\n",
       "<style scoped>\n",
       "    .dataframe tbody tr th:only-of-type {\n",
       "        vertical-align: middle;\n",
       "    }\n",
       "\n",
       "    .dataframe tbody tr th {\n",
       "        vertical-align: top;\n",
       "    }\n",
       "\n",
       "    .dataframe thead th {\n",
       "        text-align: right;\n",
       "    }\n",
       "</style>\n",
       "<table border=\"1\" class=\"dataframe\">\n",
       "  <thead>\n",
       "    <tr style=\"text-align: right;\">\n",
       "      <th></th>\n",
       "      <th>STATEFP</th>\n",
       "      <th>COUNTYFP</th>\n",
       "      <th>COUNTYNS</th>\n",
       "      <th>GEOID</th>\n",
       "      <th>NAME</th>\n",
       "      <th>NAMELSAD</th>\n",
       "      <th>LSAD</th>\n",
       "      <th>CLASSFP</th>\n",
       "      <th>MTFCC</th>\n",
       "      <th>CSAFP</th>\n",
       "      <th>CBSAFP</th>\n",
       "      <th>METDIVFP</th>\n",
       "      <th>FUNCSTAT</th>\n",
       "      <th>ALAND</th>\n",
       "      <th>AWATER</th>\n",
       "      <th>INTPTLAT</th>\n",
       "      <th>INTPTLON</th>\n",
       "      <th>Shape_Leng</th>\n",
       "      <th>Shape_Area</th>\n",
       "      <th>geometry</th>\n",
       "    </tr>\n",
       "  </thead>\n",
       "  <tbody>\n",
       "    <tr>\n",
       "      <th>5</th>\n",
       "      <td>06</td>\n",
       "      <td>037</td>\n",
       "      <td>00277283</td>\n",
       "      <td>06037</td>\n",
       "      <td>Los Angeles</td>\n",
       "      <td>Los Angeles County</td>\n",
       "      <td>06</td>\n",
       "      <td>H1</td>\n",
       "      <td>G4020</td>\n",
       "      <td>348</td>\n",
       "      <td>31080</td>\n",
       "      <td>31084</td>\n",
       "      <td>A</td>\n",
       "      <td>1.051186e+10</td>\n",
       "      <td>1.793485e+09</td>\n",
       "      <td>+34.1963983</td>\n",
       "      <td>-118.2618616</td>\n",
       "      <td>883876.944789</td>\n",
       "      <td>1.803431e+10</td>\n",
       "      <td>MULTIPOLYGON (((-13214002.519 4051462.857, -13...</td>\n",
       "    </tr>\n",
       "    <tr>\n",
       "      <th>47</th>\n",
       "      <td>06</td>\n",
       "      <td>059</td>\n",
       "      <td>00277294</td>\n",
       "      <td>06059</td>\n",
       "      <td>Orange</td>\n",
       "      <td>Orange County</td>\n",
       "      <td>06</td>\n",
       "      <td>H1</td>\n",
       "      <td>G4020</td>\n",
       "      <td>348</td>\n",
       "      <td>31080</td>\n",
       "      <td>11244</td>\n",
       "      <td>A</td>\n",
       "      <td>2.053368e+09</td>\n",
       "      <td>4.019319e+08</td>\n",
       "      <td>+33.6756872</td>\n",
       "      <td>-117.7772068</td>\n",
       "      <td>261547.852900</td>\n",
       "      <td>3.554704e+09</td>\n",
       "      <td>POLYGON ((-13134488.102 3973319.471, -13134662...</td>\n",
       "    </tr>\n",
       "  </tbody>\n",
       "</table>\n",
       "</div>"
      ],
      "text/plain": [
       "   STATEFP COUNTYFP  COUNTYNS  GEOID         NAME            NAMELSAD LSAD  \\\n",
       "5       06      037  00277283  06037  Los Angeles  Los Angeles County   06   \n",
       "47      06      059  00277294  06059       Orange       Orange County   06   \n",
       "\n",
       "   CLASSFP  MTFCC CSAFP CBSAFP METDIVFP FUNCSTAT         ALAND        AWATER  \\\n",
       "5       H1  G4020   348  31080    31084        A  1.051186e+10  1.793485e+09   \n",
       "47      H1  G4020   348  31080    11244        A  2.053368e+09  4.019319e+08   \n",
       "\n",
       "       INTPTLAT      INTPTLON     Shape_Leng    Shape_Area  \\\n",
       "5   +34.1963983  -118.2618616  883876.944789  1.803431e+10   \n",
       "47  +33.6756872  -117.7772068  261547.852900  3.554704e+09   \n",
       "\n",
       "                                             geometry  \n",
       "5   MULTIPOLYGON (((-13214002.519 4051462.857, -13...  \n",
       "47  POLYGON ((-13134488.102 3973319.471, -13134662...  "
      ]
     },
     "execution_count": 7,
     "metadata": {},
     "output_type": "execute_result"
    }
   ],
   "source": [
    "# identify stations that are in the geographic region we are looking for\n",
    "# santa ana wind event, focusing on LA and Orange counties\n",
    "\n",
    "census_shp_dir = \"s3://wecc-historical-wx/0_maps/ca_counties/\" \n",
    "# ca_county = gpd.read_file('../../../data/0_maps/ca_counties/CA_Counties.shp') # local\n",
    "ca_county = gpd.read_file(census_shp_dir) # from s3 bucket\n",
    "\n",
    "county_names = ['Los Angeles', 'Orange']\n",
    "target_counties = ca_county[ca_county['NAME'].isin(county_names)]\n",
    "target_counties = GeoDataFrame(target_counties, geometry=target_counties.geometry)\n",
    "target_counties"
   ]
  },
  {
   "cell_type": "code",
   "execution_count": 8,
   "id": "f5c45358-ac62-492b-9fdc-3529173bda00",
   "metadata": {
    "execution": {
     "iopub.execute_input": "2024-08-29T15:48:19.684974Z",
     "iopub.status.busy": "2024-08-29T15:48:19.684849Z",
     "iopub.status.idle": "2024-08-29T15:48:19.874825Z",
     "shell.execute_reply": "2024-08-29T15:48:19.874520Z",
     "shell.execute_reply.started": "2024-08-29T15:48:19.684962Z"
    }
   },
   "outputs": [
    {
     "name": "stdout",
     "output_type": "stream",
     "text": [
      "9\n"
     ]
    },
    {
     "data": {
      "text/html": [
       "<div>\n",
       "<style scoped>\n",
       "    .dataframe tbody tr th:only-of-type {\n",
       "        vertical-align: middle;\n",
       "    }\n",
       "\n",
       "    .dataframe tbody tr th {\n",
       "        vertical-align: top;\n",
       "    }\n",
       "\n",
       "    .dataframe thead th {\n",
       "        text-align: right;\n",
       "    }\n",
       "</style>\n",
       "<table border=\"1\" class=\"dataframe\">\n",
       "  <thead>\n",
       "    <tr style=\"text-align: right;\">\n",
       "      <th></th>\n",
       "      <th>network</th>\n",
       "      <th>era-id</th>\n",
       "      <th>elevation</th>\n",
       "      <th>latitude</th>\n",
       "      <th>longitude</th>\n",
       "      <th>start_date</th>\n",
       "      <th>end_date</th>\n",
       "      <th>event_type</th>\n",
       "      <th>notes</th>\n",
       "      <th>STATEFP</th>\n",
       "      <th>...</th>\n",
       "      <th>CBSAFP</th>\n",
       "      <th>METDIVFP</th>\n",
       "      <th>FUNCSTAT</th>\n",
       "      <th>ALAND</th>\n",
       "      <th>AWATER</th>\n",
       "      <th>INTPTLAT</th>\n",
       "      <th>INTPTLON</th>\n",
       "      <th>Shape_Leng</th>\n",
       "      <th>Shape_Area</th>\n",
       "      <th>geometry</th>\n",
       "    </tr>\n",
       "  </thead>\n",
       "  <tbody>\n",
       "    <tr>\n",
       "      <th>0</th>\n",
       "      <td>ASOSAWOS</td>\n",
       "      <td>ASOSAWOS_72288023152</td>\n",
       "      <td>222.8088</td>\n",
       "      <td>34.200</td>\n",
       "      <td>-118.365</td>\n",
       "      <td>1943-06-01 00:00:00+00:00</td>\n",
       "      <td>2022-12-31 00:00:00+00:00</td>\n",
       "      <td>all</td>\n",
       "      <td>NaN</td>\n",
       "      <td>06</td>\n",
       "      <td>...</td>\n",
       "      <td>31080</td>\n",
       "      <td>31084</td>\n",
       "      <td>A</td>\n",
       "      <td>1.051186e+10</td>\n",
       "      <td>1.793485e+09</td>\n",
       "      <td>+34.1963983</td>\n",
       "      <td>-118.2618616</td>\n",
       "      <td>883876.944789</td>\n",
       "      <td>1.803431e+10</td>\n",
       "      <td>POINT (-13176331.528 4055688.859)</td>\n",
       "    </tr>\n",
       "    <tr>\n",
       "      <th>1</th>\n",
       "      <td>ASOSAWOS</td>\n",
       "      <td>ASOSAWOS_72288623130</td>\n",
       "      <td>239.2680</td>\n",
       "      <td>34.212</td>\n",
       "      <td>-118.491</td>\n",
       "      <td>1942-12-11 00:00:00+00:00</td>\n",
       "      <td>2022-12-31 00:00:00+00:00</td>\n",
       "      <td>all</td>\n",
       "      <td>NaN</td>\n",
       "      <td>06</td>\n",
       "      <td>...</td>\n",
       "      <td>31080</td>\n",
       "      <td>31084</td>\n",
       "      <td>A</td>\n",
       "      <td>1.051186e+10</td>\n",
       "      <td>1.793485e+09</td>\n",
       "      <td>+34.1963983</td>\n",
       "      <td>-118.2618616</td>\n",
       "      <td>883876.944789</td>\n",
       "      <td>1.803431e+10</td>\n",
       "      <td>POINT (-13190357.784 4057304.093)</td>\n",
       "    </tr>\n",
       "    <tr>\n",
       "      <th>2</th>\n",
       "      <td>ASOSAWOS</td>\n",
       "      <td>ASOSAWOS_72292023191</td>\n",
       "      <td>477.0120</td>\n",
       "      <td>33.404</td>\n",
       "      <td>-118.415</td>\n",
       "      <td>1943-06-12 00:00:00+00:00</td>\n",
       "      <td>2022-12-31 00:00:00+00:00</td>\n",
       "      <td>all</td>\n",
       "      <td>NaN</td>\n",
       "      <td>06</td>\n",
       "      <td>...</td>\n",
       "      <td>31080</td>\n",
       "      <td>31084</td>\n",
       "      <td>A</td>\n",
       "      <td>1.051186e+10</td>\n",
       "      <td>1.793485e+09</td>\n",
       "      <td>+34.1963983</td>\n",
       "      <td>-118.2618616</td>\n",
       "      <td>883876.944789</td>\n",
       "      <td>1.803431e+10</td>\n",
       "      <td>POINT (-13181897.502 3949051.804)</td>\n",
       "    </tr>\n",
       "  </tbody>\n",
       "</table>\n",
       "<p>3 rows × 29 columns</p>\n",
       "</div>"
      ],
      "text/plain": [
       "    network                era-id  elevation  latitude  longitude  \\\n",
       "0  ASOSAWOS  ASOSAWOS_72288023152   222.8088    34.200   -118.365   \n",
       "1  ASOSAWOS  ASOSAWOS_72288623130   239.2680    34.212   -118.491   \n",
       "2  ASOSAWOS  ASOSAWOS_72292023191   477.0120    33.404   -118.415   \n",
       "\n",
       "                  start_date                   end_date event_type notes  \\\n",
       "0  1943-06-01 00:00:00+00:00  2022-12-31 00:00:00+00:00        all   NaN   \n",
       "1  1942-12-11 00:00:00+00:00  2022-12-31 00:00:00+00:00        all   NaN   \n",
       "2  1943-06-12 00:00:00+00:00  2022-12-31 00:00:00+00:00        all   NaN   \n",
       "\n",
       "  STATEFP  ... CBSAFP METDIVFP FUNCSTAT         ALAND        AWATER  \\\n",
       "0      06  ...  31080    31084        A  1.051186e+10  1.793485e+09   \n",
       "1      06  ...  31080    31084        A  1.051186e+10  1.793485e+09   \n",
       "2      06  ...  31080    31084        A  1.051186e+10  1.793485e+09   \n",
       "\n",
       "      INTPTLAT      INTPTLON     Shape_Leng    Shape_Area  \\\n",
       "0  +34.1963983  -118.2618616  883876.944789  1.803431e+10   \n",
       "1  +34.1963983  -118.2618616  883876.944789  1.803431e+10   \n",
       "2  +34.1963983  -118.2618616  883876.944789  1.803431e+10   \n",
       "\n",
       "                            geometry  \n",
       "0  POINT (-13176331.528 4055688.859)  \n",
       "1  POINT (-13190357.784 4057304.093)  \n",
       "2  POINT (-13181897.502 3949051.804)  \n",
       "\n",
       "[3 rows x 29 columns]"
      ]
     },
     "execution_count": 8,
     "metadata": {},
     "output_type": "execute_result"
    }
   ],
   "source": [
    "# process event list to subset\n",
    "geometry = [Point(latlon_to_mercator_cartopy(lat,lon)) for lat,lon in zip (event_stns.latitude, event_stns.longitude)]\n",
    "event_stns = GeoDataFrame(event_stns,geometry=geometry).set_crs(crs=\"EPSG:3857\", allow_override=True) # adding geometry column\n",
    "\n",
    "event_stns_local = gpd.overlay(event_stns, target_counties, how=\"intersection\") # subsetting for stations within county boundaries\n",
    "\n",
    "# subset further based on number, if needed\n",
    "if len(event_stns_local) > 20:\n",
    "    event_stns_local = event_stns_local.sample(20)\n",
    "print(len(event_stns_local))\n",
    "event_stns_local.head(3)"
   ]
  },
  {
   "cell_type": "code",
   "execution_count": 9,
   "id": "778de385-b96f-4cc2-87d5-61bdf44e66b1",
   "metadata": {
    "execution": {
     "iopub.execute_input": "2024-08-29T15:48:21.575725Z",
     "iopub.status.busy": "2024-08-29T15:48:21.575108Z",
     "iopub.status.idle": "2024-08-29T15:48:21.618025Z",
     "shell.execute_reply": "2024-08-29T15:48:21.617410Z",
     "shell.execute_reply.started": "2024-08-29T15:48:21.575690Z"
    }
   },
   "outputs": [],
   "source": [
    "CIMIS_75 = event_stns[event_stns['era-id']==\"CIMIS_75\"]\n",
    "lon,lat = CIMIS_75.longitude.values[0], CIMIS_75.latitude.values[0]\n",
    "x,y = latlon_to_mercator_cartopy(lat, lon)"
   ]
  },
  {
   "cell_type": "code",
   "execution_count": 10,
   "id": "370621ae-3ff4-4a24-b5d0-18605aba7351",
   "metadata": {
    "execution": {
     "iopub.execute_input": "2024-08-29T15:48:23.985633Z",
     "iopub.status.busy": "2024-08-29T15:48:23.984884Z",
     "iopub.status.idle": "2024-08-29T15:48:24.026406Z",
     "shell.execute_reply": "2024-08-29T15:48:24.025873Z",
     "shell.execute_reply.started": "2024-08-29T15:48:23.985591Z"
    }
   },
   "outputs": [],
   "source": [
    "orange = ca_county.query(\"NAME=='Orange'\")\n",
    "orange_geom = orange['geometry'].iloc[0]\n",
    "LA = ca_county.query(\"NAME=='Los Angeles'\")\n",
    "LA_geom = LA['geometry'].iloc[0]"
   ]
  },
  {
   "cell_type": "code",
   "execution_count": 11,
   "id": "94ae74b5-6867-402c-b74c-0e1e9069029c",
   "metadata": {
    "execution": {
     "iopub.execute_input": "2024-08-29T15:48:25.611592Z",
     "iopub.status.busy": "2024-08-29T15:48:25.610978Z",
     "iopub.status.idle": "2024-08-29T15:48:32.823642Z",
     "shell.execute_reply": "2024-08-29T15:48:32.823276Z",
     "shell.execute_reply.started": "2024-08-29T15:48:25.611557Z"
    }
   },
   "outputs": [
    {
     "data": {
      "image/png": "[encoded data removed]",
      "text/plain": [
       "<Figure size 640x480 with 1 Axes>"
      ]
     },
     "metadata": {},
     "output_type": "display_data"
    }
   ],
   "source": [
    "fig,ax = plt.subplots(subplot_kw={'projection':ccrs.epsg(3857)})\n",
    "\n",
    "ax.coastlines()\n",
    "ax.add_feature(cf.BORDERS)\n",
    "ax.add_geometries(LA_geom, crs=ccrs.epsg(3857), color=\"C0\", alpha=0.25)\n",
    "ax.add_geometries(orange_geom, crs=ccrs.epsg(3857), color=\"C1\", alpha=0.25)\n",
    "ax.add_feature(cf.STATES, lw=0.5)\n",
    "ax.set_extent([-118.2, -117.4, 33.3, 34])\n",
    "ax.xaxis.set_major_locator(MaxNLocator(integer=True))\n",
    "ax.yaxis.set_major_locator(MaxNLocator(integer=True))\n",
    "ax.plot(lon, lat, 'ok', markersize=8, transform=ccrs.PlateCarree(), mfc='none')\n",
    "ax.plot(x, y, '.r', markersize=4)\n",
    "gl = ax.gridlines(crs=ccrs.PlateCarree(), draw_labels=[\"bottom\", \"left\"],\n",
    "                  ls=\":\", lw=0.5)\n",
    "ax.set_title(\"\");"
   ]
  },
  {
   "cell_type": "markdown",
   "id": "2b00e665-e432-4c39-9b82-a006e9104f4a",
   "metadata": {},
   "source": [
    "### Step 2: Holistic / qualitative station evaluation\n",
    "* downloading these stations manually into train_files, but should grab from AWS unless a better way to read nc files from AWS..."
   ]
  },
  {
   "cell_type": "code",
   "execution_count": null,
   "id": "fd820afe-d276-4674-be6b-6dc67150c1c9",
   "metadata": {},
   "outputs": [],
   "source": [
    "# phase 2 look at full timeseries for flags -- grabbing clean version, not qaqc version to build out\n",
    "# alternatively.... some of these files may be very large and we should avoid reading in all because of memory concerns\n",
    "\n",
    "# for stn in event_stns:\n",
    "#     want to pull out all flags noted, frequency of flags of time record "
   ]
  },
  {
   "cell_type": "code",
   "execution_count": 12,
   "id": "cfbf088a-dbfc-4f09-8ac9-013095f13177",
   "metadata": {
    "execution": {
     "iopub.execute_input": "2024-08-29T15:48:33.667179Z",
     "iopub.status.busy": "2024-08-29T15:48:33.666589Z",
     "iopub.status.idle": "2024-08-29T15:48:34.632126Z",
     "shell.execute_reply": "2024-08-29T15:48:34.631765Z",
     "shell.execute_reply.started": "2024-08-29T15:48:33.667145Z"
    }
   },
   "outputs": [
    {
     "data": {
      "text/html": [
       "<div><svg style=\"position: absolute; width: 0; height: 0; overflow: hidden\">\n",
       "<defs>\n",
       "<symbol id=\"icon-database\" viewBox=\"0 0 32 32\">\n",
       "<path d=\"M16 0c-8.837 0-16 2.239-16 5v4c0 2.761 7.163 5 16 5s16-2.239 16-5v-4c0-2.761-7.163-5-16-5z\"></path>\n",
       "<path d=\"M16 17c-8.837 0-16-2.239-16-5v6c0 2.761 7.163 5 16 5s16-2.239 16-5v-6c0 2.761-7.163 5-16 5z\"></path>\n",
       "<path d=\"M16 26c-8.837 0-16-2.239-16-5v6c0 2.761 7.163 5 16 5s16-2.239 16-5v-6c0 2.761-7.163 5-16 5z\"></path>\n",
       "</symbol>\n",
       "<symbol id=\"icon-file-text2\" viewBox=\"0 0 32 32\">\n",
       "<path d=\"M28.681 7.159c-0.694-0.947-1.662-2.053-2.724-3.116s-2.169-2.030-3.116-2.724c-1.612-1.182-2.393-1.319-2.841-1.319h-15.5c-1.378 0-2.5 1.121-2.5 2.5v27c0 1.378 1.122 2.5 2.5 2.5h23c1.378 0 2.5-1.122 2.5-2.5v-19.5c0-0.448-0.137-1.23-1.319-2.841zM24.543 5.457c0.959 0.959 1.712 1.825 2.268 2.543h-4.811v-4.811c0.718 0.556 1.584 1.309 2.543 2.268zM28 29.5c0 0.271-0.229 0.5-0.5 0.5h-23c-0.271 0-0.5-0.229-0.5-0.5v-27c0-0.271 0.229-0.5 0.5-0.5 0 0 15.499-0 15.5 0v7c0 0.552 0.448 1 1 1h7v19.5z\"></path>\n",
       "<path d=\"M23 26h-14c-0.552 0-1-0.448-1-1s0.448-1 1-1h14c0.552 0 1 0.448 1 1s-0.448 1-1 1z\"></path>\n",
       "<path d=\"M23 22h-14c-0.552 0-1-0.448-1-1s0.448-1 1-1h14c0.552 0 1 0.448 1 1s-0.448 1-1 1z\"></path>\n",
       "<path d=\"M23 18h-14c-0.552 0-1-0.448-1-1s0.448-1 1-1h14c0.552 0 1 0.448 1 1s-0.448 1-1 1z\"></path>\n",
       "</symbol>\n",
       "</defs>\n",
       "</svg>\n",
       "<style>/* CSS stylesheet for displaying xarray objects in jupyterlab.\n",
       " *\n",
       " */\n",
       "\n",
       ":root {\n",
       "  --xr-font-color0: var(--jp-content-font-color0, rgba(0, 0, 0, 1));\n",
       "  --xr-font-color2: var(--jp-content-font-color2, rgba(0, 0, 0, 0.54));\n",
       "  --xr-font-color3: var(--jp-content-font-color3, rgba(0, 0, 0, 0.38));\n",
       "  --xr-border-color: var(--jp-border-color2, #e0e0e0);\n",
       "  --xr-disabled-color: var(--jp-layout-color3, #bdbdbd);\n",
       "  --xr-background-color: var(--jp-layout-color0, white);\n",
       "  --xr-background-color-row-even: var(--jp-layout-color1, white);\n",
       "  --xr-background-color-row-odd: var(--jp-layout-color2, #eeeeee);\n",
       "}\n",
       "\n",
       "html[theme=dark],\n",
       "body.vscode-dark {\n",
       "  --xr-font-color0: rgba(255, 255, 255, 1);\n",
       "  --xr-font-color2: rgba(255, 255, 255, 0.54);\n",
       "  --xr-font-color3: rgba(255, 255, 255, 0.38);\n",
       "  --xr-border-color: #1F1F1F;\n",
       "  --xr-disabled-color: #515151;\n",
       "  --xr-background-color: #111111;\n",
       "  --xr-background-color-row-even: #111111;\n",
       "  --xr-background-color-row-odd: #313131;\n",
       "}\n",
       "\n",
       ".xr-wrap {\n",
       "  display: block !important;\n",
       "  min-width: 300px;\n",
       "  max-width: 700px;\n",
       "}\n",
       "\n",
       ".xr-text-repr-fallback {\n",
       "  /* fallback to plain text repr when CSS is not injected (untrusted notebook) */\n",
       "  display: none;\n",
       "}\n",
       "\n",
       ".xr-header {\n",
       "  padding-top: 6px;\n",
       "  padding-bottom: 6px;\n",
       "  margin-bottom: 4px;\n",
       "  border-bottom: solid 1px var(--xr-border-color);\n",
       "}\n",
       "\n",
       ".xr-header > div,\n",
       ".xr-header > ul {\n",
       "  display: inline;\n",
       "  margin-top: 0;\n",
       "  margin-bottom: 0;\n",
       "}\n",
       "\n",
       ".xr-obj-type,\n",
       ".xr-array-name {\n",
       "  margin-left: 2px;\n",
       "  margin-right: 10px;\n",
       "}\n",
       "\n",
       ".xr-obj-type {\n",
       "  color: var(--xr-font-color2);\n",
       "}\n",
       "\n",
       ".xr-sections {\n",
       "  padding-left: 0 !important;\n",
       "  display: grid;\n",
       "  grid-template-columns: 150px auto auto 1fr 20px 20px;\n",
       "}\n",
       "\n",
       ".xr-section-item {\n",
       "  display: contents;\n",
       "}\n",
       "\n",
       ".xr-section-item input {\n",
       "  display: none;\n",
       "}\n",
       "\n",
       ".xr-section-item input + label {\n",
       "  color: var(--xr-disabled-color);\n",
       "}\n",
       "\n",
       ".xr-section-item input:enabled + label {\n",
       "  cursor: pointer;\n",
       "  color: var(--xr-font-color2);\n",
       "}\n",
       "\n",
       ".xr-section-item input:enabled + label:hover {\n",
       "  color: var(--xr-font-color0);\n",
       "}\n",
       "\n",
       ".xr-section-summary {\n",
       "  grid-column: 1;\n",
       "  color: var(--xr-font-color2);\n",
       "  font-weight: 500;\n",
       "}\n",
       "\n",
       ".xr-section-summary > span {\n",
       "  display: inline-block;\n",
       "  padding-left: 0.5em;\n",
       "}\n",
       "\n",
       ".xr-section-summary-in:disabled + label {\n",
       "  color: var(--xr-font-color2);\n",
       "}\n",
       "\n",
       ".xr-section-summary-in + label:before {\n",
       "  display: inline-block;\n",
       "  content: '►';\n",
       "  font-size: 11px;\n",
       "  width: 15px;\n",
       "  text-align: center;\n",
       "}\n",
       "\n",
       ".xr-section-summary-in:disabled + label:before {\n",
       "  color: var(--xr-disabled-color);\n",
       "}\n",
       "\n",
       ".xr-section-summary-in:checked + label:before {\n",
       "  content: '▼';\n",
       "}\n",
       "\n",
       ".xr-section-summary-in:checked + label > span {\n",
       "  display: none;\n",
       "}\n",
       "\n",
       ".xr-section-summary,\n",
       ".xr-section-inline-details {\n",
       "  padding-top: 4px;\n",
       "  padding-bottom: 4px;\n",
       "}\n",
       "\n",
       ".xr-section-inline-details {\n",
       "  grid-column: 2 / -1;\n",
       "}\n",
       "\n",
       ".xr-section-details {\n",
       "  display: none;\n",
       "  grid-column: 1 / -1;\n",
       "  margin-bottom: 5px;\n",
       "}\n",
       "\n",
       ".xr-section-summary-in:checked ~ .xr-section-details {\n",
       "  display: contents;\n",
       "}\n",
       "\n",
       ".xr-array-wrap {\n",
       "  grid-column: 1 / -1;\n",
       "  display: grid;\n",
       "  grid-template-columns: 20px auto;\n",
       "}\n",
       "\n",
       ".xr-array-wrap > label {\n",
       "  grid-column: 1;\n",
       "  vertical-align: top;\n",
       "}\n",
       "\n",
       ".xr-preview {\n",
       "  color: var(--xr-font-color3);\n",
       "}\n",
       "\n",
       ".xr-array-preview,\n",
       ".xr-array-data {\n",
       "  padding: 0 5px !important;\n",
       "  grid-column: 2;\n",
       "}\n",
       "\n",
       ".xr-array-data,\n",
       ".xr-array-in:checked ~ .xr-array-preview {\n",
       "  display: none;\n",
       "}\n",
       "\n",
       ".xr-array-in:checked ~ .xr-array-data,\n",
       ".xr-array-preview {\n",
       "  display: inline-block;\n",
       "}\n",
       "\n",
       ".xr-dim-list {\n",
       "  display: inline-block !important;\n",
       "  list-style: none;\n",
       "  padding: 0 !important;\n",
       "  margin: 0;\n",
       "}\n",
       "\n",
       ".xr-dim-list li {\n",
       "  display: inline-block;\n",
       "  padding: 0;\n",
       "  margin: 0;\n",
       "}\n",
       "\n",
       ".xr-dim-list:before {\n",
       "  content: '(';\n",
       "}\n",
       "\n",
       ".xr-dim-list:after {\n",
       "  content: ')';\n",
       "}\n",
       "\n",
       ".xr-dim-list li:not(:last-child):after {\n",
       "  content: ',';\n",
       "  padding-right: 5px;\n",
       "}\n",
       "\n",
       ".xr-has-index {\n",
       "  font-weight: bold;\n",
       "}\n",
       "\n",
       ".xr-var-list,\n",
       ".xr-var-item {\n",
       "  display: contents;\n",
       "}\n",
       "\n",
       ".xr-var-item > div,\n",
       ".xr-var-item label,\n",
       ".xr-var-item > .xr-var-name span {\n",
       "  background-color: var(--xr-background-color-row-even);\n",
       "  margin-bottom: 0;\n",
       "}\n",
       "\n",
       ".xr-var-item > .xr-var-name:hover span {\n",
       "  padding-right: 5px;\n",
       "}\n",
       "\n",
       ".xr-var-list > li:nth-child(odd) > div,\n",
       ".xr-var-list > li:nth-child(odd) > label,\n",
       ".xr-var-list > li:nth-child(odd) > .xr-var-name span {\n",
       "  background-color: var(--xr-background-color-row-odd);\n",
       "}\n",
       "\n",
       ".xr-var-name {\n",
       "  grid-column: 1;\n",
       "}\n",
       "\n",
       ".xr-var-dims {\n",
       "  grid-column: 2;\n",
       "}\n",
       "\n",
       ".xr-var-dtype {\n",
       "  grid-column: 3;\n",
       "  text-align: right;\n",
       "  color: var(--xr-font-color2);\n",
       "}\n",
       "\n",
       ".xr-var-preview {\n",
       "  grid-column: 4;\n",
       "}\n",
       "\n",
       ".xr-var-name,\n",
       ".xr-var-dims,\n",
       ".xr-var-dtype,\n",
       ".xr-preview,\n",
       ".xr-attrs dt {\n",
       "  white-space: nowrap;\n",
       "  overflow: hidden;\n",
       "  text-overflow: ellipsis;\n",
       "  padding-right: 10px;\n",
       "}\n",
       "\n",
       ".xr-var-name:hover,\n",
       ".xr-var-dims:hover,\n",
       ".xr-var-dtype:hover,\n",
       ".xr-attrs dt:hover {\n",
       "  overflow: visible;\n",
       "  width: auto;\n",
       "  z-index: 1;\n",
       "}\n",
       "\n",
       ".xr-var-attrs,\n",
       ".xr-var-data {\n",
       "  display: none;\n",
       "  background-color: var(--xr-background-color) !important;\n",
       "  padding-bottom: 5px !important;\n",
       "}\n",
       "\n",
       ".xr-var-attrs-in:checked ~ .xr-var-attrs,\n",
       ".xr-var-data-in:checked ~ .xr-var-data {\n",
       "  display: block;\n",
       "}\n",
       "\n",
       ".xr-var-data > table {\n",
       "  float: right;\n",
       "}\n",
       "\n",
       ".xr-var-name span,\n",
       ".xr-var-data,\n",
       ".xr-attrs {\n",
       "  padding-left: 25px !important;\n",
       "}\n",
       "\n",
       ".xr-attrs,\n",
       ".xr-var-attrs,\n",
       ".xr-var-data {\n",
       "  grid-column: 1 / -1;\n",
       "}\n",
       "\n",
       "dl.xr-attrs {\n",
       "  padding: 0;\n",
       "  margin: 0;\n",
       "  display: grid;\n",
       "  grid-template-columns: 125px auto;\n",
       "}\n",
       "\n",
       ".xr-attrs dt,\n",
       ".xr-attrs dd {\n",
       "  padding: 0;\n",
       "  margin: 0;\n",
       "  float: left;\n",
       "  padding-right: 10px;\n",
       "  width: auto;\n",
       "}\n",
       "\n",
       ".xr-attrs dt {\n",
       "  font-weight: normal;\n",
       "  grid-column: 1;\n",
       "}\n",
       "\n",
       ".xr-attrs dt:hover span {\n",
       "  display: inline-block;\n",
       "  background: var(--xr-background-color);\n",
       "  padding-right: 10px;\n",
       "}\n",
       "\n",
       ".xr-attrs dd {\n",
       "  grid-column: 2;\n",
       "  white-space: pre-wrap;\n",
       "  word-break: break-all;\n",
       "}\n",
       "\n",
       ".xr-icon-database,\n",
       ".xr-icon-file-text2 {\n",
       "  display: inline-block;\n",
       "  vertical-align: middle;\n",
       "  width: 1em;\n",
       "  height: 1.5em !important;\n",
       "  stroke-width: 0;\n",
       "  stroke: currentColor;\n",
       "  fill: currentColor;\n",
       "}\n",
       "</style><pre class='xr-text-repr-fallback'>&lt;xarray.Dataset&gt;\n",
       "Dimensions:               (station: 1, time: 305943)\n",
       "Coordinates:\n",
       "  * station               (station) object &#x27;CIMIS_75&#x27;\n",
       "  * time                  (time) datetime64[ns] 1987-10-07T09:00:00 ... 2022-...\n",
       "Data variables: (12/30)\n",
       "    tas                   (station, time) float64 ...\n",
       "    pr                    (station, time) float64 ...\n",
       "    hurs                  (station, time) float64 ...\n",
       "    rsds                  (station, time) float64 ...\n",
       "    sfcWind               (station, time) float64 ...\n",
       "    sfcWind_dir           (station, time) float64 ...\n",
       "    ...                    ...\n",
       "    sfcWind_dir_eraqc     (station, time) float64 ...\n",
       "    elevation_eraqc       (station, time) float64 ...\n",
       "    tdps_derived_eraqc    (station, time) float64 ...\n",
       "    pvp_derived_eraqc     (station, time) float64 ...\n",
       "    anemometer_height_m   (station, time) float64 ...\n",
       "    thermometer_height_m  (station, time) float64 ...\n",
       "Attributes: (12/16)\n",
       "    title:                 CIMIS quality controlled\n",
       "    institution:           Eagle Rock Analytics / Cal Adapt\n",
       "    source:                \n",
       "    history:               CIMIS_clean.py script run on 02-13-2023, 22:25:54 ...\n",
       "    comment:               Intermediate data product: may not have been subje...\n",
       "    license:               \n",
       "    ...                    ...\n",
       "    wind_vane_height_m:    2.0\n",
       "    anemometer_height_m:   2.0\n",
       "    thermometer_height_m:  1.5\n",
       "    humidity_height_m:     1.5\n",
       "    rain_gauge_height_m:   1.0\n",
       "    raw_files_merged:      47</pre><div class='xr-wrap' style='display:none'><div class='xr-header'><div class='xr-obj-type'>xarray.Dataset</div></div><ul class='xr-sections'><li class='xr-section-item'><input id='section-f971c196-126f-41ed-9e45-6f3c4f9d0b45' class='xr-section-summary-in' type='checkbox' disabled ><label for='section-f971c196-126f-41ed-9e45-6f3c4f9d0b45' class='xr-section-summary'  title='Expand/collapse section'>Dimensions:</label><div class='xr-section-inline-details'><ul class='xr-dim-list'><li><span class='xr-has-index'>station</span>: 1</li><li><span class='xr-has-index'>time</span>: 305943</li></ul></div><div class='xr-section-details'></div></li><li class='xr-section-item'><input id='section-2f9be2c1-6d7a-4478-8e93-97c142bd4d9c' class='xr-section-summary-in' type='checkbox'  checked><label for='section-2f9be2c1-6d7a-4478-8e93-97c142bd4d9c' class='xr-section-summary' >Coordinates: <span>(2)</span></label><div class='xr-section-inline-details'></div><div class='xr-section-details'><ul class='xr-var-list'><li class='xr-var-item'><div class='xr-var-name'><span class='xr-has-index'>station</span></div><div class='xr-var-dims'>(station)</div><div class='xr-var-dtype'>object</div><div class='xr-var-preview xr-preview'>&#x27;CIMIS_75&#x27;</div><input id='attrs-f3413817-dfbd-4613-89f4-93bfb47d5128' class='xr-var-attrs-in' type='checkbox' disabled><label for='attrs-f3413817-dfbd-4613-89f4-93bfb47d5128' title='Show/Hide attributes'><svg class='icon xr-icon-file-text2'><use xlink:href='#icon-file-text2'></use></svg></label><input id='data-db1d2c29-232e-4145-bde6-9b75c86daea0' class='xr-var-data-in' type='checkbox'><label for='data-db1d2c29-232e-4145-bde6-9b75c86daea0' title='Show/Hide data repr'><svg class='icon xr-icon-database'><use xlink:href='#icon-database'></use></svg></label><div class='xr-var-attrs'><dl class='xr-attrs'></dl></div><div class='xr-var-data'><pre>array([&#x27;CIMIS_75&#x27;], dtype=object)</pre></div></li><li class='xr-var-item'><div class='xr-var-name'><span class='xr-has-index'>time</span></div><div class='xr-var-dims'>(time)</div><div class='xr-var-dtype'>datetime64[ns]</div><div class='xr-var-preview xr-preview'>1987-10-07T09:00:00 ... 2022-08-...</div><input id='attrs-68161f58-4027-4355-a720-cc028eec7d10' class='xr-var-attrs-in' type='checkbox' disabled><label for='attrs-68161f58-4027-4355-a720-cc028eec7d10' title='Show/Hide attributes'><svg class='icon xr-icon-file-text2'><use xlink:href='#icon-file-text2'></use></svg></label><input id='data-3eea60c3-965a-4fd8-a4e1-4cbd29844fef' class='xr-var-data-in' type='checkbox'><label for='data-3eea60c3-965a-4fd8-a4e1-4cbd29844fef' title='Show/Hide data repr'><svg class='icon xr-icon-database'><use xlink:href='#icon-database'></use></svg></label><div class='xr-var-attrs'><dl class='xr-attrs'></dl></div><div class='xr-var-data'><pre>array([&#x27;1987-10-07T09:00:00.000000000&#x27;, &#x27;1987-10-07T10:00:00.000000000&#x27;,\n",
       "       &#x27;1987-10-07T11:00:00.000000000&#x27;, ..., &#x27;2022-08-31T21:00:00.000000000&#x27;,\n",
       "       &#x27;2022-08-31T22:00:00.000000000&#x27;, &#x27;2022-08-31T23:00:00.000000000&#x27;],\n",
       "      dtype=&#x27;datetime64[ns]&#x27;)</pre></div></li></ul></div></li><li class='xr-section-item'><input id='section-e4644216-bd13-45aa-b40c-e1d3d2ee139b' class='xr-section-summary-in' type='checkbox'  ><label for='section-e4644216-bd13-45aa-b40c-e1d3d2ee139b' class='xr-section-summary' >Data variables: <span>(30)</span></label><div class='xr-section-inline-details'></div><div class='xr-section-details'><ul class='xr-var-list'><li class='xr-var-item'><div class='xr-var-name'><span>tas</span></div><div class='xr-var-dims'>(station, time)</div><div class='xr-var-dtype'>float64</div><div class='xr-var-preview xr-preview'>...</div><input id='attrs-dfe43e91-f78e-41fe-a6fe-a62742696fc6' class='xr-var-attrs-in' type='checkbox' ><label for='attrs-dfe43e91-f78e-41fe-a6fe-a62742696fc6' title='Show/Hide attributes'><svg class='icon xr-icon-file-text2'><use xlink:href='#icon-file-text2'></use></svg></label><input id='data-0583c698-e8dd-436e-8652-25a2c664dee6' class='xr-var-data-in' type='checkbox'><label for='data-0583c698-e8dd-436e-8652-25a2c664dee6' title='Show/Hide data repr'><svg class='icon xr-icon-database'><use xlink:href='#icon-database'></use></svg></label><div class='xr-var-attrs'><dl class='xr-attrs'><dt><span>long_name :</span></dt><dd>air_temperature</dd><dt><span>standard_name :</span></dt><dd>air_temperature</dd><dt><span>units :</span></dt><dd>degree_Kelvin</dd><dt><span>ancillary_variables :</span></dt><dd>tas_qc, tas_eraqc</dd><dt><span>comment :</span></dt><dd>Converted from Celsius to Kelvin.</dd></dl></div><div class='xr-var-data'><pre>[305943 values with dtype=float64]</pre></div></li><li class='xr-var-item'><div class='xr-var-name'><span>pr</span></div><div class='xr-var-dims'>(station, time)</div><div class='xr-var-dtype'>float64</div><div class='xr-var-preview xr-preview'>...</div><input id='attrs-863c0139-cbcf-4ff7-bab9-8b599d6a7a06' class='xr-var-attrs-in' type='checkbox' ><label for='attrs-863c0139-cbcf-4ff7-bab9-8b599d6a7a06' title='Show/Hide attributes'><svg class='icon xr-icon-file-text2'><use xlink:href='#icon-file-text2'></use></svg></label><input id='data-0fd9cdac-4bb1-433a-a84f-c0e132ed3f89' class='xr-var-data-in' type='checkbox'><label for='data-0fd9cdac-4bb1-433a-a84f-c0e132ed3f89' title='Show/Hide data repr'><svg class='icon xr-icon-database'><use xlink:href='#icon-database'></use></svg></label><div class='xr-var-attrs'><dl class='xr-attrs'><dt><span>long_name :</span></dt><dd>precipitation_accumulation</dd><dt><span>units :</span></dt><dd>mm/hour</dd><dt><span>ancillary_variables :</span></dt><dd>pr_qc, pr_eraqc</dd><dt><span>comment :</span></dt><dd>Accumulated precipitation.</dd></dl></div><div class='xr-var-data'><pre>[305943 values with dtype=float64]</pre></div></li><li class='xr-var-item'><div class='xr-var-name'><span>hurs</span></div><div class='xr-var-dims'>(station, time)</div><div class='xr-var-dtype'>float64</div><div class='xr-var-preview xr-preview'>...</div><input id='attrs-4cb62784-8b64-4ad3-bc5b-2e0115e24f28' class='xr-var-attrs-in' type='checkbox' ><label for='attrs-4cb62784-8b64-4ad3-bc5b-2e0115e24f28' title='Show/Hide attributes'><svg class='icon xr-icon-file-text2'><use xlink:href='#icon-file-text2'></use></svg></label><input id='data-e0539fc7-d14f-4874-b740-5214d97cd975' class='xr-var-data-in' type='checkbox'><label for='data-e0539fc7-d14f-4874-b740-5214d97cd975' title='Show/Hide data repr'><svg class='icon xr-icon-database'><use xlink:href='#icon-database'></use></svg></label><div class='xr-var-attrs'><dl class='xr-attrs'><dt><span>long_name :</span></dt><dd>relative_humidity</dd><dt><span>standard_name :</span></dt><dd>relative_humidity</dd><dt><span>units :</span></dt><dd>percent</dd><dt><span>ancillary_variables :</span></dt><dd>hurs_qc, hurs_eraqc</dd></dl></div><div class='xr-var-data'><pre>[305943 values with dtype=float64]</pre></div></li><li class='xr-var-item'><div class='xr-var-name'><span>rsds</span></div><div class='xr-var-dims'>(station, time)</div><div class='xr-var-dtype'>float64</div><div class='xr-var-preview xr-preview'>...</div><input id='attrs-d67e36d6-f31b-4d91-a68b-fd0cb87dad29' class='xr-var-attrs-in' type='checkbox' ><label for='attrs-d67e36d6-f31b-4d91-a68b-fd0cb87dad29' title='Show/Hide attributes'><svg class='icon xr-icon-file-text2'><use xlink:href='#icon-file-text2'></use></svg></label><input id='data-45cbf298-857e-4616-ae8a-65402e23a779' class='xr-var-data-in' type='checkbox'><label for='data-45cbf298-857e-4616-ae8a-65402e23a779' title='Show/Hide data repr'><svg class='icon xr-icon-database'><use xlink:href='#icon-database'></use></svg></label><div class='xr-var-attrs'><dl class='xr-attrs'><dt><span>long_name :</span></dt><dd>solar_radiation</dd><dt><span>standard_name :</span></dt><dd>surface_downwelling_shortwave_flux_in_air</dd><dt><span>units :</span></dt><dd>W m-2</dd><dt><span>ancillary_variables :</span></dt><dd>rsds_qc, rsds_eraqc</dd></dl></div><div class='xr-var-data'><pre>[305943 values with dtype=float64]</pre></div></li><li class='xr-var-item'><div class='xr-var-name'><span>sfcWind</span></div><div class='xr-var-dims'>(station, time)</div><div class='xr-var-dtype'>float64</div><div class='xr-var-preview xr-preview'>...</div><input id='attrs-84471638-ee62-4750-a6ad-3b6441bf7cf4' class='xr-var-attrs-in' type='checkbox' ><label for='attrs-84471638-ee62-4750-a6ad-3b6441bf7cf4' title='Show/Hide attributes'><svg class='icon xr-icon-file-text2'><use xlink:href='#icon-file-text2'></use></svg></label><input id='data-e6d95b57-53ab-43ed-bdc7-b41c13796f86' class='xr-var-data-in' type='checkbox'><label for='data-e6d95b57-53ab-43ed-bdc7-b41c13796f86' title='Show/Hide data repr'><svg class='icon xr-icon-database'><use xlink:href='#icon-database'></use></svg></label><div class='xr-var-attrs'><dl class='xr-attrs'><dt><span>long_name :</span></dt><dd>wind_speed</dd><dt><span>standard_name :</span></dt><dd>wind_speed</dd><dt><span>units :</span></dt><dd>m s-1</dd><dt><span>ancillary_variables :</span></dt><dd>sfcWind_qc, sfcWind_eraqc</dd></dl></div><div class='xr-var-data'><pre>[305943 values with dtype=float64]</pre></div></li><li class='xr-var-item'><div class='xr-var-name'><span>sfcWind_dir</span></div><div class='xr-var-dims'>(station, time)</div><div class='xr-var-dtype'>float64</div><div class='xr-var-preview xr-preview'>...</div><input id='attrs-87aef58f-c755-4371-90b8-8aeff1446d7e' class='xr-var-attrs-in' type='checkbox' ><label for='attrs-87aef58f-c755-4371-90b8-8aeff1446d7e' title='Show/Hide attributes'><svg class='icon xr-icon-file-text2'><use xlink:href='#icon-file-text2'></use></svg></label><input id='data-4a554f95-ba11-4644-b04b-e26c0ba1746f' class='xr-var-data-in' type='checkbox'><label for='data-4a554f95-ba11-4644-b04b-e26c0ba1746f' title='Show/Hide data repr'><svg class='icon xr-icon-database'><use xlink:href='#icon-database'></use></svg></label><div class='xr-var-attrs'><dl class='xr-attrs'><dt><span>long_name :</span></dt><dd>wind_direction</dd><dt><span>standard_name :</span></dt><dd>wind_from_direction</dd><dt><span>units :</span></dt><dd>degrees_clockwise_from_north</dd><dt><span>ancillary_variables :</span></dt><dd>sfcWind_dir_qc, sfcWind_dir_eraqc</dd><dt><span>comment :</span></dt><dd>Wind direction is defined by the direction that the wind is coming from (i.e., a northerly wind originates in the north and blows towards the south).</dd></dl></div><div class='xr-var-data'><pre>[305943 values with dtype=float64]</pre></div></li><li class='xr-var-item'><div class='xr-var-name'><span>pr_qc</span></div><div class='xr-var-dims'>(station, time)</div><div class='xr-var-dtype'>object</div><div class='xr-var-preview xr-preview'>...</div><input id='attrs-2add9e54-2ada-49c5-827b-a0480b687a14' class='xr-var-attrs-in' type='checkbox' ><label for='attrs-2add9e54-2ada-49c5-827b-a0480b687a14' title='Show/Hide attributes'><svg class='icon xr-icon-file-text2'><use xlink:href='#icon-file-text2'></use></svg></label><input id='data-4d99d7dd-0133-425f-8b51-f232dd9c82b2' class='xr-var-data-in' type='checkbox'><label for='data-4d99d7dd-0133-425f-8b51-f232dd9c82b2' title='Show/Hide data repr'><svg class='icon xr-icon-database'><use xlink:href='#icon-database'></use></svg></label><div class='xr-var-attrs'><dl class='xr-attrs'><dt><span>flag_values :</span></dt><dd>M P Q R Y</dd><dt><span>flag_meanings :</span></dt><dd>See QA/QC csv for network.</dd></dl></div><div class='xr-var-data'><pre>[305943 values with dtype=object]</pre></div></li><li class='xr-var-item'><div class='xr-var-name'><span>rsds_qc</span></div><div class='xr-var-dims'>(station, time)</div><div class='xr-var-dtype'>object</div><div class='xr-var-preview xr-preview'>...</div><input id='attrs-089fd3f5-e622-4ea5-afd2-630f7f46cf08' class='xr-var-attrs-in' type='checkbox' ><label for='attrs-089fd3f5-e622-4ea5-afd2-630f7f46cf08' title='Show/Hide attributes'><svg class='icon xr-icon-file-text2'><use xlink:href='#icon-file-text2'></use></svg></label><input id='data-6243bf04-8ed3-4823-991c-d3a6dd430105' class='xr-var-data-in' type='checkbox'><label for='data-6243bf04-8ed3-4823-991c-d3a6dd430105' title='Show/Hide data repr'><svg class='icon xr-icon-database'><use xlink:href='#icon-database'></use></svg></label><div class='xr-var-attrs'><dl class='xr-attrs'><dt><span>flag_values :</span></dt><dd>M P R S Y</dd><dt><span>flag_meanings :</span></dt><dd>See QA/QC csv for network.</dd></dl></div><div class='xr-var-data'><pre>[305943 values with dtype=object]</pre></div></li><li class='xr-var-item'><div class='xr-var-name'><span>pvp_derived_qc</span></div><div class='xr-var-dims'>(station, time)</div><div class='xr-var-dtype'>object</div><div class='xr-var-preview xr-preview'>...</div><input id='attrs-c34a403f-671e-480c-a3bd-4f60c0156d87' class='xr-var-attrs-in' type='checkbox' ><label for='attrs-c34a403f-671e-480c-a3bd-4f60c0156d87' title='Show/Hide attributes'><svg class='icon xr-icon-file-text2'><use xlink:href='#icon-file-text2'></use></svg></label><input id='data-7d57e042-b1b8-4725-a72e-3631236cafe8' class='xr-var-data-in' type='checkbox'><label for='data-7d57e042-b1b8-4725-a72e-3631236cafe8' title='Show/Hide data repr'><svg class='icon xr-icon-database'><use xlink:href='#icon-database'></use></svg></label><div class='xr-var-attrs'><dl class='xr-attrs'><dt><span>flag_values :</span></dt><dd>M P Q R S Y</dd><dt><span>flag_meanings :</span></dt><dd>See QA/QC csv for network.</dd></dl></div><div class='xr-var-data'><pre>[305943 values with dtype=object]</pre></div></li><li class='xr-var-item'><div class='xr-var-name'><span>tas_qc</span></div><div class='xr-var-dims'>(station, time)</div><div class='xr-var-dtype'>object</div><div class='xr-var-preview xr-preview'>...</div><input id='attrs-7ecdafc1-b19f-4187-bc12-155e176dd1e5' class='xr-var-attrs-in' type='checkbox' ><label for='attrs-7ecdafc1-b19f-4187-bc12-155e176dd1e5' title='Show/Hide attributes'><svg class='icon xr-icon-file-text2'><use xlink:href='#icon-file-text2'></use></svg></label><input id='data-ed623a60-a7ee-4361-8614-295a26caafa2' class='xr-var-data-in' type='checkbox'><label for='data-ed623a60-a7ee-4361-8614-295a26caafa2' title='Show/Hide data repr'><svg class='icon xr-icon-database'><use xlink:href='#icon-database'></use></svg></label><div class='xr-var-attrs'><dl class='xr-attrs'><dt><span>flag_values :</span></dt><dd>M P R S Y</dd><dt><span>flag_meanings :</span></dt><dd>See QA/QC csv for network.</dd></dl></div><div class='xr-var-data'><pre>[305943 values with dtype=object]</pre></div></li><li class='xr-var-item'><div class='xr-var-name'><span>hurs_qc</span></div><div class='xr-var-dims'>(station, time)</div><div class='xr-var-dtype'>object</div><div class='xr-var-preview xr-preview'>...</div><input id='attrs-4b58601b-bb2d-4fa1-94fe-f4b8695bfb4e' class='xr-var-attrs-in' type='checkbox' ><label for='attrs-4b58601b-bb2d-4fa1-94fe-f4b8695bfb4e' title='Show/Hide attributes'><svg class='icon xr-icon-file-text2'><use xlink:href='#icon-file-text2'></use></svg></label><input id='data-9d1447f5-080c-4471-a2d9-c417ffefc1bc' class='xr-var-data-in' type='checkbox'><label for='data-9d1447f5-080c-4471-a2d9-c417ffefc1bc' title='Show/Hide data repr'><svg class='icon xr-icon-database'><use xlink:href='#icon-database'></use></svg></label><div class='xr-var-attrs'><dl class='xr-attrs'><dt><span>flag_values :</span></dt><dd>M Q R S Y</dd><dt><span>flag_meanings :</span></dt><dd>See QA/QC csv for network.</dd></dl></div><div class='xr-var-data'><pre>[305943 values with dtype=object]</pre></div></li><li class='xr-var-item'><div class='xr-var-name'><span>tdps_derived_qc</span></div><div class='xr-var-dims'>(station, time)</div><div class='xr-var-dtype'>object</div><div class='xr-var-preview xr-preview'>...</div><input id='attrs-7eb2ce1d-fd2b-4890-a42e-1e7282ff2c4c' class='xr-var-attrs-in' type='checkbox' ><label for='attrs-7eb2ce1d-fd2b-4890-a42e-1e7282ff2c4c' title='Show/Hide attributes'><svg class='icon xr-icon-file-text2'><use xlink:href='#icon-file-text2'></use></svg></label><input id='data-570cc317-7aba-4afe-8051-ea5c43a2cd22' class='xr-var-data-in' type='checkbox'><label for='data-570cc317-7aba-4afe-8051-ea5c43a2cd22' title='Show/Hide data repr'><svg class='icon xr-icon-database'><use xlink:href='#icon-database'></use></svg></label><div class='xr-var-attrs'><dl class='xr-attrs'><dt><span>flag_values :</span></dt><dd>M Q R S Y</dd><dt><span>flag_meanings :</span></dt><dd>See QA/QC csv for network.</dd></dl></div><div class='xr-var-data'><pre>[305943 values with dtype=object]</pre></div></li><li class='xr-var-item'><div class='xr-var-name'><span>sfcWind_qc</span></div><div class='xr-var-dims'>(station, time)</div><div class='xr-var-dtype'>object</div><div class='xr-var-preview xr-preview'>...</div><input id='attrs-ca5ca4ba-6969-45e9-9f82-abd87f793fc5' class='xr-var-attrs-in' type='checkbox' ><label for='attrs-ca5ca4ba-6969-45e9-9f82-abd87f793fc5' title='Show/Hide attributes'><svg class='icon xr-icon-file-text2'><use xlink:href='#icon-file-text2'></use></svg></label><input id='data-0f7d50ce-3866-4cdb-a7f6-96c2446219b3' class='xr-var-data-in' type='checkbox'><label for='data-0f7d50ce-3866-4cdb-a7f6-96c2446219b3' title='Show/Hide data repr'><svg class='icon xr-icon-database'><use xlink:href='#icon-database'></use></svg></label><div class='xr-var-attrs'><dl class='xr-attrs'><dt><span>flag_values :</span></dt><dd>I M P R S Y</dd><dt><span>flag_meanings :</span></dt><dd>See QA/QC csv for network.</dd></dl></div><div class='xr-var-data'><pre>[305943 values with dtype=object]</pre></div></li><li class='xr-var-item'><div class='xr-var-name'><span>sfcWind_dir_qc</span></div><div class='xr-var-dims'>(station, time)</div><div class='xr-var-dtype'>object</div><div class='xr-var-preview xr-preview'>...</div><input id='attrs-110c0761-8553-4814-933d-91c5a1201af8' class='xr-var-attrs-in' type='checkbox' ><label for='attrs-110c0761-8553-4814-933d-91c5a1201af8' title='Show/Hide attributes'><svg class='icon xr-icon-file-text2'><use xlink:href='#icon-file-text2'></use></svg></label><input id='data-ebc27677-6eb9-46bd-b5e6-d3429f516fe3' class='xr-var-data-in' type='checkbox'><label for='data-ebc27677-6eb9-46bd-b5e6-d3429f516fe3' title='Show/Hide data repr'><svg class='icon xr-icon-database'><use xlink:href='#icon-database'></use></svg></label><div class='xr-var-attrs'><dl class='xr-attrs'><dt><span>flag_values :</span></dt><dd>I M P Q R</dd><dt><span>flag_meanings :</span></dt><dd>See QA/QC csv for network.</dd></dl></div><div class='xr-var-data'><pre>[305943 values with dtype=object]</pre></div></li><li class='xr-var-item'><div class='xr-var-name'><span>elevation</span></div><div class='xr-var-dims'>(station, time)</div><div class='xr-var-dtype'>float64</div><div class='xr-var-preview xr-preview'>...</div><input id='attrs-bc56eb45-255c-4359-bf86-1b845b628713' class='xr-var-attrs-in' type='checkbox' ><label for='attrs-bc56eb45-255c-4359-bf86-1b845b628713' title='Show/Hide attributes'><svg class='icon xr-icon-file-text2'><use xlink:href='#icon-file-text2'></use></svg></label><input id='data-b921d79e-c688-492c-91b4-040715483a78' class='xr-var-data-in' type='checkbox'><label for='data-b921d79e-c688-492c-91b4-040715483a78' title='Show/Hide data repr'><svg class='icon xr-icon-database'><use xlink:href='#icon-database'></use></svg></label><div class='xr-var-attrs'><dl class='xr-attrs'><dt><span>standard_name :</span></dt><dd>height_above_mean_sea_level</dd><dt><span>long_name :</span></dt><dd>station_elevation</dd><dt><span>units :</span></dt><dd>meters</dd><dt><span>positive :</span></dt><dd>up</dd><dt><span>comment :</span></dt><dd>Converted from feet to meters.</dd><dt><span>ancillary_variables :</span></dt><dd>elevation_eraqc</dd></dl></div><div class='xr-var-data'><pre>[305943 values with dtype=float64]</pre></div></li><li class='xr-var-item'><div class='xr-var-name'><span>tdps_derived</span></div><div class='xr-var-dims'>(station, time)</div><div class='xr-var-dtype'>float64</div><div class='xr-var-preview xr-preview'>...</div><input id='attrs-afcbd929-97c2-4ab7-9986-41402a8a42ee' class='xr-var-attrs-in' type='checkbox' ><label for='attrs-afcbd929-97c2-4ab7-9986-41402a8a42ee' title='Show/Hide attributes'><svg class='icon xr-icon-file-text2'><use xlink:href='#icon-file-text2'></use></svg></label><input id='data-6ccbb872-4184-4c84-890f-dba67e567916' class='xr-var-data-in' type='checkbox'><label for='data-6ccbb872-4184-4c84-890f-dba67e567916' title='Show/Hide data repr'><svg class='icon xr-icon-database'><use xlink:href='#icon-database'></use></svg></label><div class='xr-var-attrs'><dl class='xr-attrs'><dt><span>long_name :</span></dt><dd>dew_point_temperature</dd><dt><span>standard_name :</span></dt><dd>dew_point_temperature</dd><dt><span>units :</span></dt><dd>degree_Kelvin</dd><dt><span>ancillary_variables :</span></dt><dd>tdps_derived_qc, tdps_derived_eraqc</dd><dt><span>comment :</span></dt><dd>Derived by CIMIS from vapor pressure and air temperature. Converted from Celsius to Kelvin.</dd></dl></div><div class='xr-var-data'><pre>[305943 values with dtype=float64]</pre></div></li><li class='xr-var-item'><div class='xr-var-name'><span>pvp_derived</span></div><div class='xr-var-dims'>(station, time)</div><div class='xr-var-dtype'>float64</div><div class='xr-var-preview xr-preview'>...</div><input id='attrs-e5b3a681-6076-4012-aea0-9cb7cba93d5c' class='xr-var-attrs-in' type='checkbox' ><label for='attrs-e5b3a681-6076-4012-aea0-9cb7cba93d5c' title='Show/Hide attributes'><svg class='icon xr-icon-file-text2'><use xlink:href='#icon-file-text2'></use></svg></label><input id='data-d5d63bfc-3f51-4d0d-9968-608552a6ab67' class='xr-var-data-in' type='checkbox'><label for='data-d5d63bfc-3f51-4d0d-9968-608552a6ab67' title='Show/Hide data repr'><svg class='icon xr-icon-database'><use xlink:href='#icon-database'></use></svg></label><div class='xr-var-attrs'><dl class='xr-attrs'><dt><span>long_name :</span></dt><dd>partial_vapor_pressure</dd><dt><span>standard_name :</span></dt><dd>water_vapor_partial_pressure_in_air</dd><dt><span>units :</span></dt><dd>Pa</dd><dt><span>ancillary_variables :</span></dt><dd>pvp_qc, pvp_derived_eraqc</dd><dt><span>comment :</span></dt><dd>Derived by CIMIS from relative humidity and air temperature measurements. Converted from kPa to Pa.</dd></dl></div><div class='xr-var-data'><pre>[305943 values with dtype=float64]</pre></div></li><li class='xr-var-item'><div class='xr-var-name'><span>lat</span></div><div class='xr-var-dims'>(station, time)</div><div class='xr-var-dtype'>float64</div><div class='xr-var-preview xr-preview'>...</div><input id='attrs-52807b95-d80e-439e-8bc2-2714146f0ca3' class='xr-var-attrs-in' type='checkbox' disabled><label for='attrs-52807b95-d80e-439e-8bc2-2714146f0ca3' title='Show/Hide attributes'><svg class='icon xr-icon-file-text2'><use xlink:href='#icon-file-text2'></use></svg></label><input id='data-49e1d6ec-5431-48cf-90e2-af4466fa6806' class='xr-var-data-in' type='checkbox'><label for='data-49e1d6ec-5431-48cf-90e2-af4466fa6806' title='Show/Hide data repr'><svg class='icon xr-icon-database'><use xlink:href='#icon-database'></use></svg></label><div class='xr-var-attrs'><dl class='xr-attrs'></dl></div><div class='xr-var-data'><pre>[305943 values with dtype=float64]</pre></div></li><li class='xr-var-item'><div class='xr-var-name'><span>lon</span></div><div class='xr-var-dims'>(station, time)</div><div class='xr-var-dtype'>float64</div><div class='xr-var-preview xr-preview'>...</div><input id='attrs-7bcdfbd4-5967-44d9-bbfe-cecfe40f9c09' class='xr-var-attrs-in' type='checkbox' disabled><label for='attrs-7bcdfbd4-5967-44d9-bbfe-cecfe40f9c09' title='Show/Hide attributes'><svg class='icon xr-icon-file-text2'><use xlink:href='#icon-file-text2'></use></svg></label><input id='data-b4f7fc55-6efb-482c-a437-3045aa805bfa' class='xr-var-data-in' type='checkbox'><label for='data-b4f7fc55-6efb-482c-a437-3045aa805bfa' title='Show/Hide data repr'><svg class='icon xr-icon-database'><use xlink:href='#icon-database'></use></svg></label><div class='xr-var-attrs'><dl class='xr-attrs'></dl></div><div class='xr-var-data'><pre>[305943 values with dtype=float64]</pre></div></li><li class='xr-var-item'><div class='xr-var-name'><span>tas_eraqc</span></div><div class='xr-var-dims'>(station, time)</div><div class='xr-var-dtype'>float64</div><div class='xr-var-preview xr-preview'>...</div><input id='attrs-fb9dcaa6-ca1e-4b22-a4fc-60a71695dfa5' class='xr-var-attrs-in' type='checkbox' disabled><label for='attrs-fb9dcaa6-ca1e-4b22-a4fc-60a71695dfa5' title='Show/Hide attributes'><svg class='icon xr-icon-file-text2'><use xlink:href='#icon-file-text2'></use></svg></label><input id='data-26bf1e1a-a134-482b-b6ab-41ddecdab5aa' class='xr-var-data-in' type='checkbox'><label for='data-26bf1e1a-a134-482b-b6ab-41ddecdab5aa' title='Show/Hide data repr'><svg class='icon xr-icon-database'><use xlink:href='#icon-database'></use></svg></label><div class='xr-var-attrs'><dl class='xr-attrs'></dl></div><div class='xr-var-data'><pre>[305943 values with dtype=float64]</pre></div></li><li class='xr-var-item'><div class='xr-var-name'><span>pr_eraqc</span></div><div class='xr-var-dims'>(station, time)</div><div class='xr-var-dtype'>float64</div><div class='xr-var-preview xr-preview'>...</div><input id='attrs-9e1c432d-ccca-4a56-8feb-c7bf944ec6df' class='xr-var-attrs-in' type='checkbox' disabled><label for='attrs-9e1c432d-ccca-4a56-8feb-c7bf944ec6df' title='Show/Hide attributes'><svg class='icon xr-icon-file-text2'><use xlink:href='#icon-file-text2'></use></svg></label><input id='data-4c739d53-21a4-4e0e-b1c4-48ddd5606455' class='xr-var-data-in' type='checkbox'><label for='data-4c739d53-21a4-4e0e-b1c4-48ddd5606455' title='Show/Hide data repr'><svg class='icon xr-icon-database'><use xlink:href='#icon-database'></use></svg></label><div class='xr-var-attrs'><dl class='xr-attrs'></dl></div><div class='xr-var-data'><pre>[305943 values with dtype=float64]</pre></div></li><li class='xr-var-item'><div class='xr-var-name'><span>hurs_eraqc</span></div><div class='xr-var-dims'>(station, time)</div><div class='xr-var-dtype'>float64</div><div class='xr-var-preview xr-preview'>...</div><input id='attrs-5e4e7bde-94a4-48c1-a339-0882a4599f5a' class='xr-var-attrs-in' type='checkbox' disabled><label for='attrs-5e4e7bde-94a4-48c1-a339-0882a4599f5a' title='Show/Hide attributes'><svg class='icon xr-icon-file-text2'><use xlink:href='#icon-file-text2'></use></svg></label><input id='data-e3147a63-48d2-4df7-85e0-f4f15b7d9e5d' class='xr-var-data-in' type='checkbox'><label for='data-e3147a63-48d2-4df7-85e0-f4f15b7d9e5d' title='Show/Hide data repr'><svg class='icon xr-icon-database'><use xlink:href='#icon-database'></use></svg></label><div class='xr-var-attrs'><dl class='xr-attrs'></dl></div><div class='xr-var-data'><pre>[305943 values with dtype=float64]</pre></div></li><li class='xr-var-item'><div class='xr-var-name'><span>rsds_eraqc</span></div><div class='xr-var-dims'>(station, time)</div><div class='xr-var-dtype'>float64</div><div class='xr-var-preview xr-preview'>...</div><input id='attrs-a042718f-fc4c-4bd4-911e-83394a8962e8' class='xr-var-attrs-in' type='checkbox' disabled><label for='attrs-a042718f-fc4c-4bd4-911e-83394a8962e8' title='Show/Hide attributes'><svg class='icon xr-icon-file-text2'><use xlink:href='#icon-file-text2'></use></svg></label><input id='data-3d88062b-ef22-4879-95b9-107e6faba200' class='xr-var-data-in' type='checkbox'><label for='data-3d88062b-ef22-4879-95b9-107e6faba200' title='Show/Hide data repr'><svg class='icon xr-icon-database'><use xlink:href='#icon-database'></use></svg></label><div class='xr-var-attrs'><dl class='xr-attrs'></dl></div><div class='xr-var-data'><pre>[305943 values with dtype=float64]</pre></div></li><li class='xr-var-item'><div class='xr-var-name'><span>sfcWind_eraqc</span></div><div class='xr-var-dims'>(station, time)</div><div class='xr-var-dtype'>float64</div><div class='xr-var-preview xr-preview'>...</div><input id='attrs-9f6fef85-9e14-4964-913a-9a808aa2da26' class='xr-var-attrs-in' type='checkbox' disabled><label for='attrs-9f6fef85-9e14-4964-913a-9a808aa2da26' title='Show/Hide attributes'><svg class='icon xr-icon-file-text2'><use xlink:href='#icon-file-text2'></use></svg></label><input id='data-70f75754-4231-4116-be83-0a13faf303ae' class='xr-var-data-in' type='checkbox'><label for='data-70f75754-4231-4116-be83-0a13faf303ae' title='Show/Hide data repr'><svg class='icon xr-icon-database'><use xlink:href='#icon-database'></use></svg></label><div class='xr-var-attrs'><dl class='xr-attrs'></dl></div><div class='xr-var-data'><pre>[305943 values with dtype=float64]</pre></div></li><li class='xr-var-item'><div class='xr-var-name'><span>sfcWind_dir_eraqc</span></div><div class='xr-var-dims'>(station, time)</div><div class='xr-var-dtype'>float64</div><div class='xr-var-preview xr-preview'>...</div><input id='attrs-89a90e55-3f23-44e0-8682-9164c034042e' class='xr-var-attrs-in' type='checkbox' disabled><label for='attrs-89a90e55-3f23-44e0-8682-9164c034042e' title='Show/Hide attributes'><svg class='icon xr-icon-file-text2'><use xlink:href='#icon-file-text2'></use></svg></label><input id='data-6438c31b-ad2f-41f1-bcd1-89607a608105' class='xr-var-data-in' type='checkbox'><label for='data-6438c31b-ad2f-41f1-bcd1-89607a608105' title='Show/Hide data repr'><svg class='icon xr-icon-database'><use xlink:href='#icon-database'></use></svg></label><div class='xr-var-attrs'><dl class='xr-attrs'></dl></div><div class='xr-var-data'><pre>[305943 values with dtype=float64]</pre></div></li><li class='xr-var-item'><div class='xr-var-name'><span>elevation_eraqc</span></div><div class='xr-var-dims'>(station, time)</div><div class='xr-var-dtype'>float64</div><div class='xr-var-preview xr-preview'>...</div><input id='attrs-0c840a0a-6740-434d-89ef-b7f8e430e353' class='xr-var-attrs-in' type='checkbox' disabled><label for='attrs-0c840a0a-6740-434d-89ef-b7f8e430e353' title='Show/Hide attributes'><svg class='icon xr-icon-file-text2'><use xlink:href='#icon-file-text2'></use></svg></label><input id='data-68ea016e-e64f-4fbd-8e83-3f80c24aeee7' class='xr-var-data-in' type='checkbox'><label for='data-68ea016e-e64f-4fbd-8e83-3f80c24aeee7' title='Show/Hide data repr'><svg class='icon xr-icon-database'><use xlink:href='#icon-database'></use></svg></label><div class='xr-var-attrs'><dl class='xr-attrs'></dl></div><div class='xr-var-data'><pre>[305943 values with dtype=float64]</pre></div></li><li class='xr-var-item'><div class='xr-var-name'><span>tdps_derived_eraqc</span></div><div class='xr-var-dims'>(station, time)</div><div class='xr-var-dtype'>float64</div><div class='xr-var-preview xr-preview'>...</div><input id='attrs-2ed058fb-6ff8-4772-bb22-8a8295b16a04' class='xr-var-attrs-in' type='checkbox' disabled><label for='attrs-2ed058fb-6ff8-4772-bb22-8a8295b16a04' title='Show/Hide attributes'><svg class='icon xr-icon-file-text2'><use xlink:href='#icon-file-text2'></use></svg></label><input id='data-383e90c8-2993-4e9c-9c9e-af010fa5b98a' class='xr-var-data-in' type='checkbox'><label for='data-383e90c8-2993-4e9c-9c9e-af010fa5b98a' title='Show/Hide data repr'><svg class='icon xr-icon-database'><use xlink:href='#icon-database'></use></svg></label><div class='xr-var-attrs'><dl class='xr-attrs'></dl></div><div class='xr-var-data'><pre>[305943 values with dtype=float64]</pre></div></li><li class='xr-var-item'><div class='xr-var-name'><span>pvp_derived_eraqc</span></div><div class='xr-var-dims'>(station, time)</div><div class='xr-var-dtype'>float64</div><div class='xr-var-preview xr-preview'>...</div><input id='attrs-c064f3d4-9fb1-4c2e-8f99-c4fd985eef50' class='xr-var-attrs-in' type='checkbox' disabled><label for='attrs-c064f3d4-9fb1-4c2e-8f99-c4fd985eef50' title='Show/Hide attributes'><svg class='icon xr-icon-file-text2'><use xlink:href='#icon-file-text2'></use></svg></label><input id='data-c358fb93-f0ad-45e3-9b99-826ac3ec9b4b' class='xr-var-data-in' type='checkbox'><label for='data-c358fb93-f0ad-45e3-9b99-826ac3ec9b4b' title='Show/Hide data repr'><svg class='icon xr-icon-database'><use xlink:href='#icon-database'></use></svg></label><div class='xr-var-attrs'><dl class='xr-attrs'></dl></div><div class='xr-var-data'><pre>[305943 values with dtype=float64]</pre></div></li><li class='xr-var-item'><div class='xr-var-name'><span>anemometer_height_m</span></div><div class='xr-var-dims'>(station, time)</div><div class='xr-var-dtype'>float64</div><div class='xr-var-preview xr-preview'>...</div><input id='attrs-665e888e-1cb2-4677-a312-2a7ae87d185c' class='xr-var-attrs-in' type='checkbox' disabled><label for='attrs-665e888e-1cb2-4677-a312-2a7ae87d185c' title='Show/Hide attributes'><svg class='icon xr-icon-file-text2'><use xlink:href='#icon-file-text2'></use></svg></label><input id='data-5421df0f-2b9a-4dab-bc4c-47641bf0b90d' class='xr-var-data-in' type='checkbox'><label for='data-5421df0f-2b9a-4dab-bc4c-47641bf0b90d' title='Show/Hide data repr'><svg class='icon xr-icon-database'><use xlink:href='#icon-database'></use></svg></label><div class='xr-var-attrs'><dl class='xr-attrs'></dl></div><div class='xr-var-data'><pre>[305943 values with dtype=float64]</pre></div></li><li class='xr-var-item'><div class='xr-var-name'><span>thermometer_height_m</span></div><div class='xr-var-dims'>(station, time)</div><div class='xr-var-dtype'>float64</div><div class='xr-var-preview xr-preview'>...</div><input id='attrs-3d069395-c63f-41f7-8275-8133aee45c7b' class='xr-var-attrs-in' type='checkbox' disabled><label for='attrs-3d069395-c63f-41f7-8275-8133aee45c7b' title='Show/Hide attributes'><svg class='icon xr-icon-file-text2'><use xlink:href='#icon-file-text2'></use></svg></label><input id='data-eeda28af-2ecf-4c81-8b9e-5c58b518807d' class='xr-var-data-in' type='checkbox'><label for='data-eeda28af-2ecf-4c81-8b9e-5c58b518807d' title='Show/Hide data repr'><svg class='icon xr-icon-database'><use xlink:href='#icon-database'></use></svg></label><div class='xr-var-attrs'><dl class='xr-attrs'></dl></div><div class='xr-var-data'><pre>[305943 values with dtype=float64]</pre></div></li></ul></div></li><li class='xr-section-item'><input id='section-995840c0-a09c-4435-a69c-566e84a65858' class='xr-section-summary-in' type='checkbox'  ><label for='section-995840c0-a09c-4435-a69c-566e84a65858' class='xr-section-summary' >Attributes: <span>(16)</span></label><div class='xr-section-inline-details'></div><div class='xr-section-details'><dl class='xr-attrs'><dt><span>title :</span></dt><dd>CIMIS quality controlled</dd><dt><span>institution :</span></dt><dd>Eagle Rock Analytics / Cal Adapt</dd><dt><span>source :</span></dt><dd></dd><dt><span>history :</span></dt><dd>CIMIS_clean.py script run on 02-13-2023, 22:25:54 UTC \n",
       "ALLNETWORKS_qaqc.py script run on 08-07-2024, 20:52:09 UTC</dd><dt><span>comment :</span></dt><dd>Intermediate data product: may not have been subject to any cleaning or QA/QC processing \n",
       "An intermediate data product: subject to cleaning but may not be subject to full QA/QC processing.</dd><dt><span>license :</span></dt><dd></dd><dt><span>citation :</span></dt><dd></dd><dt><span>disclaimer :</span></dt><dd>This document was prepared as a result of work sponsored by the California Energy Commission (PIR-19-006). It does not necessarily represent the views of the Energy Commission, its employees, or the State of California. Neither the Commission, the State of California, nor the Commission&#x27;s employees, contractors, or subcontractors makes any warranty, express or implied, or assumes any legal liability for the information in this document; nor does any party represent that the use of this information will not infringe upon privately owned rights. This document has not been approved or disapproved by the Commission, nor has the Commission passed upon the accuracy of the information in this document.</dd><dt><span>station_name :</span></dt><dd>Irvine</dd><dt><span>pyranometer_height_m :</span></dt><dd>2.0</dd><dt><span>wind_vane_height_m :</span></dt><dd>2.0</dd><dt><span>anemometer_height_m :</span></dt><dd>2.0</dd><dt><span>thermometer_height_m :</span></dt><dd>1.5</dd><dt><span>humidity_height_m :</span></dt><dd>1.5</dd><dt><span>rain_gauge_height_m :</span></dt><dd>1.0</dd><dt><span>raw_files_merged :</span></dt><dd>47</dd></dl></div></li></ul></div></div>"
      ],
      "text/plain": [
       "<xarray.Dataset>\n",
       "Dimensions:               (station: 1, time: 305943)\n",
       "Coordinates:\n",
       "  * station               (station) object 'CIMIS_75'\n",
       "  * time                  (time) datetime64[ns] 1987-10-07T09:00:00 ... 2022-...\n",
       "Data variables: (12/30)\n",
       "    tas                   (station, time) float64 ...\n",
       "    pr                    (station, time) float64 ...\n",
       "    hurs                  (station, time) float64 ...\n",
       "    rsds                  (station, time) float64 ...\n",
       "    sfcWind               (station, time) float64 ...\n",
       "    sfcWind_dir           (station, time) float64 ...\n",
       "    ...                    ...\n",
       "    sfcWind_dir_eraqc     (station, time) float64 ...\n",
       "    elevation_eraqc       (station, time) float64 ...\n",
       "    tdps_derived_eraqc    (station, time) float64 ...\n",
       "    pvp_derived_eraqc     (station, time) float64 ...\n",
       "    anemometer_height_m   (station, time) float64 ...\n",
       "    thermometer_height_m  (station, time) float64 ...\n",
       "Attributes: (12/16)\n",
       "    title:                 CIMIS quality controlled\n",
       "    institution:           Eagle Rock Analytics / Cal Adapt\n",
       "    source:                \n",
       "    history:               CIMIS_clean.py script run on 02-13-2023, 22:25:54 ...\n",
       "    comment:               Intermediate data product: may not have been subje...\n",
       "    license:               \n",
       "    ...                    ...\n",
       "    wind_vane_height_m:    2.0\n",
       "    anemometer_height_m:   2.0\n",
       "    thermometer_height_m:  1.5\n",
       "    humidity_height_m:     1.5\n",
       "    rain_gauge_height_m:   1.0\n",
       "    raw_files_merged:      47"
      ]
     },
     "execution_count": 12,
     "metadata": {},
     "output_type": "execute_result"
    }
   ],
   "source": [
    "# read a single station in\n",
    "stn = xr.open_dataset('/Users/hector/Downloads/CIMIS_75.nc')\n",
    "stn"
   ]
  },
  {
   "cell_type": "code",
   "execution_count": 13,
   "id": "81303e7a-25f3-4d27-aa17-d9be71adecf5",
   "metadata": {
    "execution": {
     "iopub.execute_input": "2024-08-29T15:48:42.306909Z",
     "iopub.status.busy": "2024-08-29T15:48:42.306262Z",
     "iopub.status.idle": "2024-08-29T15:48:42.354494Z",
     "shell.execute_reply": "2024-08-29T15:48:42.353960Z",
     "shell.execute_reply.started": "2024-08-29T15:48:42.306873Z"
    }
   },
   "outputs": [],
   "source": [
    "def id_all_flags(ds):\n",
    "    '''Prints all unique value\n",
    "    s of all eraqaqc flags'''\n",
    "    ds_vars = list(stn.keys())\n",
    "    qc_vars = [i for i in ds_vars if '_eraqc' in i]\n",
    "    if len(qc_vars) == 0:\n",
    "        print('Station has no eraqc variables -- please double check that this station has completed QA/QC!')\n",
    "    else:\n",
    "        for var in qc_vars:\n",
    "            print(var, np.unique(ds[var].data))"
   ]
  },
  {
   "cell_type": "code",
   "execution_count": 14,
   "id": "b5a0c6ca-942f-4d95-85d1-af190604594b",
   "metadata": {
    "execution": {
     "iopub.execute_input": "2024-08-29T15:48:43.287638Z",
     "iopub.status.busy": "2024-08-29T15:48:43.286956Z",
     "iopub.status.idle": "2024-08-29T15:48:43.389524Z",
     "shell.execute_reply": "2024-08-29T15:48:43.389124Z",
     "shell.execute_reply.started": "2024-08-29T15:48:43.287599Z"
    }
   },
   "outputs": [
    {
     "name": "stdout",
     "output_type": "stream",
     "text": [
      "tas_eraqc [11. 23. 25. 26. nan]\n",
      "pr_eraqc [nan]\n",
      "hurs_eraqc [nan]\n",
      "rsds_eraqc [11. nan]\n",
      "sfcWind_eraqc [27. 28. 29. nan]\n",
      "sfcWind_dir_eraqc [15. nan]\n",
      "elevation_eraqc [nan]\n",
      "tdps_derived_eraqc [11. 12. 13. 23. 25. 26. nan]\n",
      "pvp_derived_eraqc [nan]\n"
     ]
    }
   ],
   "source": [
    "id_all_flags(stn)"
   ]
  },
  {
   "cell_type": "code",
   "execution_count": 15,
   "id": "efd16189-6cbe-49df-b303-a6e367b5ae99",
   "metadata": {
    "execution": {
     "iopub.execute_input": "2024-08-29T15:50:14.869450Z",
     "iopub.status.busy": "2024-08-29T15:50:14.868558Z",
     "iopub.status.idle": "2024-08-29T15:50:15.157284Z",
     "shell.execute_reply": "2024-08-29T15:50:15.156890Z",
     "shell.execute_reply.started": "2024-08-29T15:50:14.869399Z"
    }
   },
   "outputs": [
    {
     "data": {
      "text/plain": [
       "[<matplotlib.lines.Line2D at 0x31d5feee0>]"
      ]
     },
     "execution_count": 15,
     "metadata": {},
     "output_type": "execute_result"
    },
    {
     "data": {
      "image/png": "[encoded data removed]",
      "text/plain": [
       "<Figure size 640x480 with 1 Axes>"
      ]
     },
     "metadata": {},
     "output_type": "display_data"
    }
   ],
   "source": [
    "# look at full timeseries for holistic view\n",
    "stn.sfcWind.plot()"
   ]
  },
  {
   "cell_type": "code",
   "execution_count": 17,
   "id": "468c2a17-378c-4062-9474-de30bca1cf9c",
   "metadata": {
    "execution": {
     "iopub.execute_input": "2024-08-29T15:50:42.277361Z",
     "iopub.status.busy": "2024-08-29T15:50:42.276419Z",
     "iopub.status.idle": "2024-08-29T15:50:42.824682Z",
     "shell.execute_reply": "2024-08-29T15:50:42.824301Z",
     "shell.execute_reply.started": "2024-08-29T15:50:42.277292Z"
    }
   },
   "outputs": [
    {
     "data": {
      "text/plain": [
       "[<matplotlib.lines.Line2D at 0x31e2a4f70>]"
      ]
     },
     "execution_count": 17,
     "metadata": {},
     "output_type": "execute_result"
    },
    {
     "data": {
      "image/png": "[encoded data removed]",
      "text/plain": [
       "<Figure size 640x480 with 1 Axes>"
      ]
     },
     "metadata": {},
     "output_type": "display_data"
    }
   ],
   "source": [
    "# look at timeseries of all months of that event (e.g., all februaries) to understand climatological signal?\n",
    "month = [2]\n",
    "stn_monthly_clim = stn.isel(time=stn.time.dt.month.isin(month))\n",
    "\n",
    "stn_monthly_clim.sfcWind.plot(marker=\".\", lw=0)\n",
    "\n",
    "# hmm not so useful, perhaps a climatology of the month to compare with the event"
   ]
  },
  {
   "cell_type": "code",
   "execution_count": 18,
   "id": "70975d0e-d3a1-4fbe-9c9c-6f723453c04a",
   "metadata": {
    "execution": {
     "iopub.execute_input": "2024-08-29T15:51:48.571050Z",
     "iopub.status.busy": "2024-08-29T15:51:48.570363Z",
     "iopub.status.idle": "2024-08-29T15:51:48.619895Z",
     "shell.execute_reply": "2024-08-29T15:51:48.619212Z",
     "shell.execute_reply.started": "2024-08-29T15:51:48.571014Z"
    }
   },
   "outputs": [],
   "source": [
    "# look at timeseries during event for flags\n",
    "# decision: do we add a few days prior/after event end date to evaluate \"event anomaly\"? i think this may be useful\n",
    "# santa ana event was 2/16/1988 to 2/19/1988; including +/- 1 week\n",
    "event_start_date = '1988-02-09'\n",
    "event_end_date = '1988-02-26'\n",
    "\n",
    "# subset for event period of time\n",
    "event = stn.sel(time=slice(event_start_date, event_end_date))"
   ]
  },
  {
   "cell_type": "code",
   "execution_count": 19,
   "id": "b4ca37d3-be7a-40bb-aac2-085742a1ea13",
   "metadata": {
    "execution": {
     "iopub.execute_input": "2024-08-29T15:51:49.874191Z",
     "iopub.status.busy": "2024-08-29T15:51:49.873603Z",
     "iopub.status.idle": "2024-08-29T15:51:49.998485Z",
     "shell.execute_reply": "2024-08-29T15:51:49.997992Z",
     "shell.execute_reply.started": "2024-08-29T15:51:49.874158Z"
    }
   },
   "outputs": [
    {
     "data": {
      "text/plain": [
       "[<matplotlib.lines.Line2D at 0x31e51bbe0>]"
      ]
     },
     "execution_count": 19,
     "metadata": {},
     "output_type": "execute_result"
    },
    {
     "data": {
      "image/png": "[encoded data removed]",
      "text/plain": [
       "<Figure size 640x480 with 1 Axes>"
      ]
     },
     "metadata": {},
     "output_type": "display_data"
    }
   ],
   "source": [
    "# just grabbing a single var for the event itself\n",
    "event.sfcWind.plot()"
   ]
  },
  {
   "cell_type": "code",
   "execution_count": 20,
   "id": "87b7ac46-4d97-4fe8-8f08-bd24023cadce",
   "metadata": {
    "execution": {
     "iopub.execute_input": "2024-08-29T15:51:55.697312Z",
     "iopub.status.busy": "2024-08-29T15:51:55.696694Z",
     "iopub.status.idle": "2024-08-29T15:51:55.831532Z",
     "shell.execute_reply": "2024-08-29T15:51:55.831052Z",
     "shell.execute_reply.started": "2024-08-29T15:51:55.697277Z"
    }
   },
   "outputs": [
    {
     "data": {
      "text/plain": [
       "[<matplotlib.lines.Line2D at 0x31e553490>]"
      ]
     },
     "execution_count": 20,
     "metadata": {},
     "output_type": "execute_result"
    },
    {
     "data": {
      "image/png": "[encoded data removed]",
      "text/plain": [
       "<Figure size 640x480 with 1 Axes>"
      ]
     },
     "metadata": {},
     "output_type": "display_data"
    }
   ],
   "source": [
    "event.sfcWind_dir.plot()"
   ]
  },
  {
   "cell_type": "markdown",
   "id": "15c4c772-02b3-420d-bf5a-c7bfbda79c10",
   "metadata": {},
   "source": [
    "#### Append local GHCNh library path"
   ]
  },
  {
   "cell_type": "code",
   "execution_count": 23,
   "id": "a4982cc3-4a99-4d39-96a9-d139f3efac49",
   "metadata": {
    "execution": {
     "iopub.execute_input": "2024-08-29T15:53:00.128486Z",
     "iopub.status.busy": "2024-08-29T15:53:00.127801Z",
     "iopub.status.idle": "2024-08-29T15:53:00.172353Z",
     "shell.execute_reply": "2024-08-29T15:53:00.171698Z",
     "shell.execute_reply.started": "2024-08-29T15:53:00.128425Z"
    }
   },
   "outputs": [],
   "source": [
    "ghcnh_lib_path = \"/Users/hector/ERA_work/historical-obs-platform/test_platform/scripts/3_qaqc_data/qaqc_eval_notebooks/GHCNh\"\n",
    "sys.path.append(ghcnh_lib_path)\n",
    "# from GHCNh.GHCNh_lib import GHCNh  # If GHCNh is within current folder\n",
    "from GHCNh_lib import GHCNh # If GHCNh is was appended to path"
   ]
  },
  {
   "cell_type": "code",
   "execution_count": 24,
   "id": "4fdeeae0-1f91-43bc-8913-49ea4a1bd462",
   "metadata": {
    "execution": {
     "iopub.execute_input": "2024-08-29T15:53:02.031091Z",
     "iopub.status.busy": "2024-08-29T15:53:02.030466Z",
     "iopub.status.idle": "2024-08-29T15:53:05.468717Z",
     "shell.execute_reply": "2024-08-29T15:53:05.468317Z",
     "shell.execute_reply.started": "2024-08-29T15:53:02.031056Z"
    }
   },
   "outputs": [
    {
     "name": "stderr",
     "output_type": "stream",
     "text": [
      "/Users/hector/ERA_work/historical-obs-platform/test_platform/scripts/3_qaqc_data/qaqc_eval_notebooks/GHCNh/GHCNh_lib.py:150: DtypeWarning: Columns (12,18,24,30,42,49,51,60,66,76,77,79,81,82,83,85,87,106,107,109,111,125,127,129,139,141,143,145,147,148,149,151,153,157,159,160,161,163,165,169,171,172,173,175,177,181,183,191,193,195,227,229,231,232,234,237) have mixed types. Specify dtype option on import or set low_memory=False.\n",
      "  self.station_data = pd.read_csv(self.local_filename, sep='|')\n"
     ]
    },
    {
     "name": "stdout",
     "output_type": "stream",
     "text": [
      "CPU times: user 3.1 s, sys: 283 ms, total: 3.38 s\n",
      "Wall time: 3.39 s\n"
     ]
    },
    {
     "data": {
      "text/html": [
       "<div>\n",
       "<style scoped>\n",
       "    .dataframe tbody tr th:only-of-type {\n",
       "        vertical-align: middle;\n",
       "    }\n",
       "\n",
       "    .dataframe tbody tr th {\n",
       "        vertical-align: top;\n",
       "    }\n",
       "\n",
       "    .dataframe thead th {\n",
       "        text-align: right;\n",
       "    }\n",
       "</style>\n",
       "<table border=\"1\" class=\"dataframe\">\n",
       "  <thead>\n",
       "    <tr style=\"text-align: right;\">\n",
       "      <th></th>\n",
       "      <th>Station_ID</th>\n",
       "      <th>Station_name</th>\n",
       "      <th>Year</th>\n",
       "      <th>Month</th>\n",
       "      <th>Day</th>\n",
       "      <th>Hour</th>\n",
       "      <th>Minute</th>\n",
       "      <th>Latitude</th>\n",
       "      <th>Longitude</th>\n",
       "      <th>Elevation</th>\n",
       "      <th>...</th>\n",
       "      <th>precipitation_24_hour_Report_Type</th>\n",
       "      <th>precipitation_24_hour_Source_Code</th>\n",
       "      <th>precipitation_24_hour_Source_Station_ID</th>\n",
       "      <th>remarks</th>\n",
       "      <th>remarks_Measurement_Code</th>\n",
       "      <th>remarks_Quality_Code</th>\n",
       "      <th>remarks_Report_Type</th>\n",
       "      <th>remarks_Source_Code</th>\n",
       "      <th>remarks_Source_Station_ID</th>\n",
       "      <th>time</th>\n",
       "    </tr>\n",
       "  </thead>\n",
       "  <tbody>\n",
       "    <tr>\n",
       "      <th>0</th>\n",
       "      <td>CAW00025343</td>\n",
       "      <td>LANGARA</td>\n",
       "      <td>1954</td>\n",
       "      <td>1</td>\n",
       "      <td>1</td>\n",
       "      <td>9</td>\n",
       "      <td>0</td>\n",
       "      <td>54.25</td>\n",
       "      <td>-133.05</td>\n",
       "      <td>41.1</td>\n",
       "      <td>...</td>\n",
       "      <td>NaN</td>\n",
       "      <td>NaN</td>\n",
       "      <td>NaN</td>\n",
       "      <td>NaN</td>\n",
       "      <td>NaN</td>\n",
       "      <td>NaN</td>\n",
       "      <td>NaN</td>\n",
       "      <td>NaN</td>\n",
       "      <td>NaN</td>\n",
       "      <td>1954-01-01 09:00:00</td>\n",
       "    </tr>\n",
       "    <tr>\n",
       "      <th>1</th>\n",
       "      <td>CAW00025343</td>\n",
       "      <td>LANGARA</td>\n",
       "      <td>1954</td>\n",
       "      <td>1</td>\n",
       "      <td>1</td>\n",
       "      <td>21</td>\n",
       "      <td>0</td>\n",
       "      <td>54.25</td>\n",
       "      <td>-133.05</td>\n",
       "      <td>41.1</td>\n",
       "      <td>...</td>\n",
       "      <td>NaN</td>\n",
       "      <td>NaN</td>\n",
       "      <td>NaN</td>\n",
       "      <td>NaN</td>\n",
       "      <td>NaN</td>\n",
       "      <td>NaN</td>\n",
       "      <td>NaN</td>\n",
       "      <td>NaN</td>\n",
       "      <td>NaN</td>\n",
       "      <td>1954-01-01 21:00:00</td>\n",
       "    </tr>\n",
       "    <tr>\n",
       "      <th>2</th>\n",
       "      <td>CAW00025343</td>\n",
       "      <td>LANGARA</td>\n",
       "      <td>1954</td>\n",
       "      <td>1</td>\n",
       "      <td>2</td>\n",
       "      <td>3</td>\n",
       "      <td>0</td>\n",
       "      <td>54.25</td>\n",
       "      <td>-133.05</td>\n",
       "      <td>41.1</td>\n",
       "      <td>...</td>\n",
       "      <td>NaN</td>\n",
       "      <td>NaN</td>\n",
       "      <td>NaN</td>\n",
       "      <td>NaN</td>\n",
       "      <td>NaN</td>\n",
       "      <td>NaN</td>\n",
       "      <td>NaN</td>\n",
       "      <td>NaN</td>\n",
       "      <td>NaN</td>\n",
       "      <td>1954-01-02 03:00:00</td>\n",
       "    </tr>\n",
       "  </tbody>\n",
       "</table>\n",
       "<p>3 rows × 239 columns</p>\n",
       "</div>"
      ],
      "text/plain": [
       "    Station_ID Station_name  Year  Month  Day  Hour  Minute  Latitude  \\\n",
       "0  CAW00025343      LANGARA  1954      1    1     9       0     54.25   \n",
       "1  CAW00025343      LANGARA  1954      1    1    21       0     54.25   \n",
       "2  CAW00025343      LANGARA  1954      1    2     3       0     54.25   \n",
       "\n",
       "   Longitude  Elevation  ...  precipitation_24_hour_Report_Type  \\\n",
       "0    -133.05       41.1  ...                                NaN   \n",
       "1    -133.05       41.1  ...                                NaN   \n",
       "2    -133.05       41.1  ...                                NaN   \n",
       "\n",
       "   precipitation_24_hour_Source_Code precipitation_24_hour_Source_Station_ID  \\\n",
       "0                                NaN                                     NaN   \n",
       "1                                NaN                                     NaN   \n",
       "2                                NaN                                     NaN   \n",
       "\n",
       "  remarks  remarks_Measurement_Code remarks_Quality_Code  remarks_Report_Type  \\\n",
       "0     NaN                       NaN                  NaN                  NaN   \n",
       "1     NaN                       NaN                  NaN                  NaN   \n",
       "2     NaN                       NaN                  NaN                  NaN   \n",
       "\n",
       "   remarks_Source_Code remarks_Source_Station_ID                time  \n",
       "0                  NaN                       NaN 1954-01-01 09:00:00  \n",
       "1                  NaN                       NaN 1954-01-01 21:00:00  \n",
       "2                  NaN                       NaN 1954-01-02 03:00:00  \n",
       "\n",
       "[3 rows x 239 columns]"
      ]
     },
     "execution_count": 24,
     "metadata": {},
     "output_type": "execute_result"
    }
   ],
   "source": []
  },
  {
   "cell_type": "code",
   "execution_count": 25,
   "id": "40286890-26e4-4cd5-8daa-089d9bd1567d",
   "metadata": {
    "execution": {
     "iopub.execute_input": "2024-08-29T15:53:24.377384Z",
     "iopub.status.busy": "2024-08-29T15:53:24.376749Z",
     "iopub.status.idle": "2024-08-29T15:53:24.419080Z",
     "shell.execute_reply": "2024-08-29T15:53:24.418621Z",
     "shell.execute_reply.started": "2024-08-29T15:53:24.377347Z"
    }
   },
   "outputs": [
    {
     "name": "stdout",
     "output_type": "stream",
     "text": [
      "CAW00025343, -133.05000, 54.25000\n"
     ]
    }
   ],
   "source": []
  },
  {
   "cell_type": "code",
   "execution_count": 26,
   "id": "e71250ee-30df-4dd4-bc38-45841e96dd95",
   "metadata": {
    "execution": {
     "iopub.execute_input": "2024-08-29T15:53:24.519628Z",
     "iopub.status.busy": "2024-08-29T15:53:24.519354Z",
     "iopub.status.idle": "2024-08-29T15:53:25.374814Z",
     "shell.execute_reply": "2024-08-29T15:53:25.374215Z",
     "shell.execute_reply.started": "2024-08-29T15:53:24.519604Z"
    }
   },
   "outputs": [
    {
     "data": {
      "image/png": "[encoded data removed]",
      "text/plain": [
       "<Figure size 900x300 with 1 Axes>"
      ]
     },
     "metadata": {},
     "output_type": "display_data"
    }
   ],
   "source": [
    "fig,ax = plt.subplots(figsize=(9,3))\n",
    "\n",
    "ghcnh.station_data.plot(ax=ax, x=\"time\", y=\"temperature\")\n",
    "ghcnh.station_data.plot(ax=ax, x=\"time\", y=\"dew_point_temperature\")\n",
    "ax.set_title(\"{}  ({:.3f}, {:.3f})\".format(id,lon,lat));"
   ]
  },
  {
   "cell_type": "code",
   "execution_count": null,
   "id": "9d86d35c-36cf-43b2-9207-d0501f829a6f",
   "metadata": {},
   "outputs": [],
   "source": [
    "# initial test for identifying the event: large jumps on windspeed"
   ]
  },
  {
   "cell_type": "code",
   "execution_count": null,
   "id": "229a7ac5-a348-44d7-a0e6-d63d999b01c8",
   "metadata": {},
   "outputs": [],
   "source": []
  },
  {
   "cell_type": "code",
   "execution_count": null,
   "id": "e55cf666-4eea-48cb-8156-e7f871d9b771",
   "metadata": {},
   "outputs": [],
   "source": [
    "def return_ghcn_vars(ghcn_df, input_var):\n",
    "    '''\n",
    "    Given an input variable, return GHCNh location variables and all relevant data variables,\n",
    "    rather than utilizing the whole 240 cols, or having to know how ghcnh labels the cols.\n",
    "\n",
    "    input_var must follow ERA naming scheme (tas, tdps, ps, pr, etc.)\n",
    "    '''\n",
    "    ghcnh_vars = pd.read_csv('ghcnh_data_headers.csv')\n",
    "\n",
    "    # include station-ID, time, loc, elevation (cols 1-10)\n",
    "    stn_info_cols = ['Station_ID', 'Station_name',\n",
    "                     'Year','Month','Day','Hour','Minute',\n",
    "                     'Latitude','Longitude','Elevation']\n",
    "    \n",
    "    var_cols = []\n",
    "    if input_var == 'tas':\n",
    "        varquery = 'temperature'\n",
    "        \n",
    "    elif input_var == 'tdps' or 'tdps_derived':\n",
    "        varquery = 'dew_point_temperature'\n",
    "        \n",
    "    elif input_var == 'ps' or 'psl':\n",
    "        varquery = 'station_level_pressure'\n",
    "        \n",
    "    elif input_var == 'sfcWind_dir':\n",
    "        varquery = 'wind_direction'\n",
    "        \n",
    "    elif input_var == 'sfcWind':\n",
    "        varquery = ['wind_speed', 'wind_gust']\n",
    "\n",
    "    elif input_var == 'hurs':\n",
    "        varquery = 'relative_humidity'\n",
    "        \n",
    "    elif input_var == 'rsds':\n",
    "        print('GHCNh data does not have solar radiation data to evaluate against.')\n",
    "        varquery = '' \n",
    "        \n",
    "    elif input_var == 'pr' or input_var == 'pr_1h' or input_var == 'pr_5min':\n",
    "        varquery = 'precipitation'\n",
    "\n",
    "    i = ghcn_df.query(\n",
    "    \n",
    "    var_cols = [i for i in ghcnh_vars if varquery in i]\n",
    "    cols_to_return = stn_info_cols + var_cols\n",
    "    return ghcn_df[[cols_to_return]]"
   ]
  },
  {
   "cell_type": "code",
   "execution_count": 42,
   "id": "7713ae27-071e-4b05-928c-134c234bdb10",
   "metadata": {
    "execution": {
     "iopub.execute_input": "2024-08-29T16:03:51.345581Z",
     "iopub.status.busy": "2024-08-29T16:03:51.344910Z",
     "iopub.status.idle": "2024-08-29T16:03:51.386970Z",
     "shell.execute_reply": "2024-08-29T16:03:51.386283Z",
     "shell.execute_reply.started": "2024-08-29T16:03:51.345542Z"
    }
   },
   "outputs": [],
   "source": []
  },
  {
   "cell_type": "code",
   "execution_count": 43,
   "id": "ced9c0a8-4ebe-4062-b9dd-70d71c10540f",
   "metadata": {
    "execution": {
     "iopub.execute_input": "2024-08-29T16:03:52.736867Z",
     "iopub.status.busy": "2024-08-29T16:03:52.736247Z",
     "iopub.status.idle": "2024-08-29T16:03:52.795704Z",
     "shell.execute_reply": "2024-08-29T16:03:52.795269Z",
     "shell.execute_reply.started": "2024-08-29T16:03:52.736832Z"
    }
   },
   "outputs": [
    {
     "data": {
      "text/html": [
       "<div>\n",
       "<style scoped>\n",
       "    .dataframe tbody tr th:only-of-type {\n",
       "        vertical-align: middle;\n",
       "    }\n",
       "\n",
       "    .dataframe tbody tr th {\n",
       "        vertical-align: top;\n",
       "    }\n",
       "\n",
       "    .dataframe thead th {\n",
       "        text-align: right;\n",
       "    }\n",
       "</style>\n",
       "<table border=\"1\" class=\"dataframe\">\n",
       "  <thead>\n",
       "    <tr style=\"text-align: right;\">\n",
       "      <th></th>\n",
       "      <th>wind_speed</th>\n",
       "      <th>wind_speed_Measurement_Code</th>\n",
       "      <th>wind_speed_Quality_Code</th>\n",
       "      <th>wind_speed_Report_Type</th>\n",
       "      <th>wind_speed_Source_Code</th>\n",
       "      <th>wind_speed_Source_Station_ID</th>\n",
       "      <th>wind_gust</th>\n",
       "      <th>wind_gust_Measurement_Code</th>\n",
       "      <th>wind_gust_Quality_Code</th>\n",
       "      <th>wind_gust_Report_Type</th>\n",
       "      <th>wind_gust_Source_Code</th>\n",
       "      <th>wind_gust_Source_Station_ID</th>\n",
       "    </tr>\n",
       "  </thead>\n",
       "  <tbody>\n",
       "    <tr>\n",
       "      <th>0</th>\n",
       "      <td>11.8</td>\n",
       "      <td>9-Missing</td>\n",
       "      <td>4.0</td>\n",
       "      <td>SAO-Airway</td>\n",
       "      <td>335.0</td>\n",
       "      <td>999999-25343</td>\n",
       "      <td>NaN</td>\n",
       "      <td>NaN</td>\n",
       "      <td>NaN</td>\n",
       "      <td>NaN</td>\n",
       "      <td>NaN</td>\n",
       "      <td>NaN</td>\n",
       "    </tr>\n",
       "    <tr>\n",
       "      <th>1</th>\n",
       "      <td>7.2</td>\n",
       "      <td>9-Missing</td>\n",
       "      <td>4.0</td>\n",
       "      <td>SAO-Airway</td>\n",
       "      <td>335.0</td>\n",
       "      <td>999999-25343</td>\n",
       "      <td>NaN</td>\n",
       "      <td>NaN</td>\n",
       "      <td>NaN</td>\n",
       "      <td>NaN</td>\n",
       "      <td>NaN</td>\n",
       "      <td>NaN</td>\n",
       "    </tr>\n",
       "    <tr>\n",
       "      <th>2</th>\n",
       "      <td>16.0</td>\n",
       "      <td>9-Missing</td>\n",
       "      <td>4.0</td>\n",
       "      <td>SAO-Airway</td>\n",
       "      <td>335.0</td>\n",
       "      <td>999999-25343</td>\n",
       "      <td>NaN</td>\n",
       "      <td>NaN</td>\n",
       "      <td>NaN</td>\n",
       "      <td>NaN</td>\n",
       "      <td>NaN</td>\n",
       "      <td>NaN</td>\n",
       "    </tr>\n",
       "  </tbody>\n",
       "</table>\n",
       "</div>"
      ],
      "text/plain": [
       "   wind_speed wind_speed_Measurement_Code wind_speed_Quality_Code  \\\n",
       "0        11.8                   9-Missing                     4.0   \n",
       "1         7.2                   9-Missing                     4.0   \n",
       "2        16.0                   9-Missing                     4.0   \n",
       "\n",
       "  wind_speed_Report_Type  wind_speed_Source_Code wind_speed_Source_Station_ID  \\\n",
       "0             SAO-Airway                   335.0                 999999-25343   \n",
       "1             SAO-Airway                   335.0                 999999-25343   \n",
       "2             SAO-Airway                   335.0                 999999-25343   \n",
       "\n",
       "   wind_gust  wind_gust_Measurement_Code  wind_gust_Quality_Code  \\\n",
       "0        NaN                         NaN                     NaN   \n",
       "1        NaN                         NaN                     NaN   \n",
       "2        NaN                         NaN                     NaN   \n",
       "\n",
       "  wind_gust_Report_Type  wind_gust_Source_Code wind_gust_Source_Station_ID  \n",
       "0                   NaN                    NaN                         NaN  \n",
       "1                   NaN                    NaN                         NaN  \n",
       "2                   NaN                    NaN                         NaN  "
      ]
     },
     "execution_count": 43,
     "metadata": {},
     "output_type": "execute_result"
    }
   ],
   "source": []
  },
  {
   "cell_type": "code",
   "execution_count": null,
   "id": "d135cc90-4075-4c87-8628-0d26909334dd",
   "metadata": {},
   "outputs": [],
   "source": []
  },
  {
   "cell_type": "code",
   "execution_count": null,
   "id": "6f91aecc-89cb-4d66-bef1-758cb394e80d",
   "metadata": {},
   "outputs": [],
   "source": []
  },
  {
   "cell_type": "code",
   "execution_count": null,
   "id": "ca3140cb-c2d6-434d-8852-783c799353d6",
   "metadata": {},
   "outputs": [],
   "source": []
  },
  {
   "cell_type": "code",
   "execution_count": null,
   "id": "37d65b6a-a121-4943-bd96-f963362b8104",
   "metadata": {},
   "outputs": [],
   "source": []
  }
 ],
 "metadata": {
  "kernelspec": {
   "display_name": "hist-obs",
   "language": "python",
   "name": "hist-obs"
  },
  "language_info": {
   "codemirror_mode": {
    "name": "ipython",
    "version": 3
   },
   "file_extension": ".py",
   "mimetype": "text/x-python",
   "name": "python",
   "nbconvert_exporter": "python",
   "pygments_lexer": "ipython3",
   "version": "3.9.18"
  }
 },
 "nbformat": 4,
 "nbformat_minor": 5
}
