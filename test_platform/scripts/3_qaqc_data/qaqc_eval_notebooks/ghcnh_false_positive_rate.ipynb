{
 "cells": [
  {
   "cell_type": "markdown",
   "id": "2f107480-b89b-4dc8-a146-8ef1fee66c4e",
   "metadata": {},
   "source": [
    "# GHCNh false positive rate"
   ]
  },
  {
   "cell_type": "code",
   "execution_count": 1,
   "id": "6bf98323-af90-43a5-8a0c-ebfc0be02d60",
   "metadata": {
    "execution": {
     "iopub.execute_input": "2024-09-17T19:23:13.161230Z",
     "iopub.status.busy": "2024-09-17T19:23:13.161075Z",
     "iopub.status.idle": "2024-09-17T19:23:17.762800Z",
     "shell.execute_reply": "2024-09-17T19:23:17.762275Z",
     "shell.execute_reply.started": "2024-09-17T19:23:13.161212Z"
    }
   },
   "outputs": [],
   "source": [
    "# import libraries\n",
    "import pandas as pd\n",
    "import numpy as np\n",
    "import xarray as xr\n",
    "import geopandas as gpd\n",
    "from geopandas import GeoDataFrame\n",
    "from shapely.geometry import Point\n",
    "import matplotlib.pyplot as plt\n",
    "import cartopy.crs as ccrs\n",
    "import cartopy.feature as cf\n",
    "from matplotlib.ticker import MaxNLocator\n",
    "import sys\n",
    "ghcnh_lib_path = \"/Users/hector/ERA_work/historical-obs-platform/test_platform/scripts/3_qaqc_data/qaqc_eval_notebooks/GHCNh\"\n",
    "sys.path.append(ghcnh_lib_path)\n",
    "from GHCNh_lib import GHCNh # If GHCNh is was appended to path\n",
    "from qaqc_eval_utils import *\n",
    "%matplotlib inline\n",
    "\n",
    "%load_ext autoreload\n",
    "%autoreload 2"
   ]
  },
  {
   "cell_type": "code",
   "execution_count": 2,
   "id": "fd979aa5-ba57-445f-98f5-079834afade8",
   "metadata": {
    "execution": {
     "iopub.execute_input": "2024-09-17T19:23:17.763706Z",
     "iopub.status.busy": "2024-09-17T19:23:17.763570Z",
     "iopub.status.idle": "2024-09-17T19:23:20.760223Z",
     "shell.execute_reply": "2024-09-17T19:23:20.759816Z",
     "shell.execute_reply.started": "2024-09-17T19:23:17.763693Z"
    }
   },
   "outputs": [
    {
     "name": "stdout",
     "output_type": "stream",
     "text": [
      "CAW00025343, -133.05000, 54.25000\n",
      "CPU times: user 2.76 s, sys: 208 ms, total: 2.97 s\n",
      "Wall time: 2.97 s\n"
     ]
    },
    {
     "data": {
      "text/html": [
       "<div>\n",
       "<style scoped>\n",
       "    .dataframe tbody tr th:only-of-type {\n",
       "        vertical-align: middle;\n",
       "    }\n",
       "\n",
       "    .dataframe tbody tr th {\n",
       "        vertical-align: top;\n",
       "    }\n",
       "\n",
       "    .dataframe thead th {\n",
       "        text-align: right;\n",
       "    }\n",
       "</style>\n",
       "<table border=\"1\" class=\"dataframe\">\n",
       "  <thead>\n",
       "    <tr style=\"text-align: right;\">\n",
       "      <th></th>\n",
       "      <th>Station_ID</th>\n",
       "      <th>Station_name</th>\n",
       "      <th>Year</th>\n",
       "      <th>Month</th>\n",
       "      <th>Day</th>\n",
       "      <th>Hour</th>\n",
       "      <th>Minute</th>\n",
       "      <th>Latitude</th>\n",
       "      <th>Longitude</th>\n",
       "      <th>Elevation</th>\n",
       "      <th>...</th>\n",
       "      <th>precipitation_24_hour_Source_Code</th>\n",
       "      <th>precipitation_24_hour_Source_Station_ID</th>\n",
       "      <th>remarks</th>\n",
       "      <th>remarks_Measurement_Code</th>\n",
       "      <th>remarks_Quality_Code</th>\n",
       "      <th>remarks_Report_Type</th>\n",
       "      <th>remarks_Source_Code</th>\n",
       "      <th>remarks_Source_Station_ID</th>\n",
       "      <th>time</th>\n",
       "      <th>geometry</th>\n",
       "    </tr>\n",
       "  </thead>\n",
       "  <tbody>\n",
       "    <tr>\n",
       "      <th>0</th>\n",
       "      <td>CAW00025343</td>\n",
       "      <td>LANGARA</td>\n",
       "      <td>1954</td>\n",
       "      <td>1</td>\n",
       "      <td>1</td>\n",
       "      <td>9</td>\n",
       "      <td>0</td>\n",
       "      <td>54.25</td>\n",
       "      <td>-133.05</td>\n",
       "      <td>41.1</td>\n",
       "      <td>...</td>\n",
       "      <td>NaN</td>\n",
       "      <td>NaN</td>\n",
       "      <td>NaN</td>\n",
       "      <td>NaN</td>\n",
       "      <td>NaN</td>\n",
       "      <td>NaN</td>\n",
       "      <td>NaN</td>\n",
       "      <td>NaN</td>\n",
       "      <td>1954-01-01 09:00:00</td>\n",
       "      <td>POINT (-14811058.250 7217646.198)</td>\n",
       "    </tr>\n",
       "    <tr>\n",
       "      <th>1</th>\n",
       "      <td>CAW00025343</td>\n",
       "      <td>LANGARA</td>\n",
       "      <td>1954</td>\n",
       "      <td>1</td>\n",
       "      <td>1</td>\n",
       "      <td>21</td>\n",
       "      <td>0</td>\n",
       "      <td>54.25</td>\n",
       "      <td>-133.05</td>\n",
       "      <td>41.1</td>\n",
       "      <td>...</td>\n",
       "      <td>NaN</td>\n",
       "      <td>NaN</td>\n",
       "      <td>NaN</td>\n",
       "      <td>NaN</td>\n",
       "      <td>NaN</td>\n",
       "      <td>NaN</td>\n",
       "      <td>NaN</td>\n",
       "      <td>NaN</td>\n",
       "      <td>1954-01-01 21:00:00</td>\n",
       "      <td>POINT (-14811058.250 7217646.198)</td>\n",
       "    </tr>\n",
       "    <tr>\n",
       "      <th>2</th>\n",
       "      <td>CAW00025343</td>\n",
       "      <td>LANGARA</td>\n",
       "      <td>1954</td>\n",
       "      <td>1</td>\n",
       "      <td>2</td>\n",
       "      <td>3</td>\n",
       "      <td>0</td>\n",
       "      <td>54.25</td>\n",
       "      <td>-133.05</td>\n",
       "      <td>41.1</td>\n",
       "      <td>...</td>\n",
       "      <td>NaN</td>\n",
       "      <td>NaN</td>\n",
       "      <td>NaN</td>\n",
       "      <td>NaN</td>\n",
       "      <td>NaN</td>\n",
       "      <td>NaN</td>\n",
       "      <td>NaN</td>\n",
       "      <td>NaN</td>\n",
       "      <td>1954-01-02 03:00:00</td>\n",
       "      <td>POINT (-14811058.250 7217646.198)</td>\n",
       "    </tr>\n",
       "  </tbody>\n",
       "</table>\n",
       "<p>3 rows × 240 columns</p>\n",
       "</div>"
      ],
      "text/plain": [
       "    Station_ID Station_name  Year  Month  Day  Hour  Minute  Latitude  \\\n",
       "0  CAW00025343      LANGARA  1954      1    1     9       0     54.25   \n",
       "1  CAW00025343      LANGARA  1954      1    1    21       0     54.25   \n",
       "2  CAW00025343      LANGARA  1954      1    2     3       0     54.25   \n",
       "\n",
       "   Longitude  Elevation  ...  precipitation_24_hour_Source_Code  \\\n",
       "0    -133.05       41.1  ...                                NaN   \n",
       "1    -133.05       41.1  ...                                NaN   \n",
       "2    -133.05       41.1  ...                                NaN   \n",
       "\n",
       "   precipitation_24_hour_Source_Station_ID remarks remarks_Measurement_Code  \\\n",
       "0                                      NaN     NaN                      NaN   \n",
       "1                                      NaN     NaN                      NaN   \n",
       "2                                      NaN     NaN                      NaN   \n",
       "\n",
       "   remarks_Quality_Code remarks_Report_Type  remarks_Source_Code  \\\n",
       "0                   NaN                 NaN                  NaN   \n",
       "1                   NaN                 NaN                  NaN   \n",
       "2                   NaN                 NaN                  NaN   \n",
       "\n",
       "   remarks_Source_Station_ID                time  \\\n",
       "0                        NaN 1954-01-01 09:00:00   \n",
       "1                        NaN 1954-01-01 21:00:00   \n",
       "2                        NaN 1954-01-02 03:00:00   \n",
       "\n",
       "                            geometry  \n",
       "0  POINT (-14811058.250 7217646.198)  \n",
       "1  POINT (-14811058.250 7217646.198)  \n",
       "2  POINT (-14811058.250 7217646.198)  \n",
       "\n",
       "[3 rows x 240 columns]"
      ]
     },
     "execution_count": 2,
     "metadata": {},
     "output_type": "execute_result"
    }
   ],
   "source": [
    "%%time\n",
    "ghcnh = GHCNh(stations_local=True)\n",
    "ghcnh.select_wecc()\n",
    "id = ghcnh.stations_df['id'].iloc[0]\n",
    "ghcnh.read_data_from_url(id, save=True)\n",
    "ghcnh.convert_df_to_gpd()\n",
    "lon = ghcnh.station_data.Longitude.mean()\n",
    "lat = ghcnh.station_data.Latitude.mean()\n",
    "print(\"{}, {:.5f}, {:.5f}\".format(id, lon, lat))\n",
    "ghcnh.station_data.head(3)"
   ]
  },
  {
   "cell_type": "code",
   "execution_count": 3,
   "id": "b768ca2a-0d08-4824-81c9-4b4325ed326e",
   "metadata": {
    "execution": {
     "iopub.execute_input": "2024-09-17T19:23:20.760854Z",
     "iopub.status.busy": "2024-09-17T19:23:20.760738Z",
     "iopub.status.idle": "2024-09-17T19:23:20.780472Z",
     "shell.execute_reply": "2024-09-17T19:23:20.780185Z",
     "shell.execute_reply.started": "2024-09-17T19:23:20.760843Z"
    }
   },
   "outputs": [],
   "source": [
    "# read in stations\n",
    "train_stns = pd.read_csv('../qaqc_training_station_list_events.csv')"
   ]
  },
  {
   "cell_type": "code",
   "execution_count": 4,
   "id": "02c39e75-fccd-4915-be01-c77f9508dbb3",
   "metadata": {
    "execution": {
     "iopub.execute_input": "2024-09-17T19:23:20.780973Z",
     "iopub.status.busy": "2024-09-17T19:23:20.780879Z",
     "iopub.status.idle": "2024-09-17T19:23:20.804533Z",
     "shell.execute_reply": "2024-09-17T19:23:20.804121Z",
     "shell.execute_reply.started": "2024-09-17T19:23:20.780963Z"
    }
   },
   "outputs": [
    {
     "name": "stdout",
     "output_type": "stream",
     "text": [
      "Subsetting station record for event duration with 14 day buffer...\n",
      "5 stations selected for evaluation for comparison!\n",
      "Stations selected for evaluation:\n",
      " ['CIMIS_199', 'HADS_YRSC2', 'HADS_MCDO3', 'ASOSAWOS_72467793007', 'ASOSAWOS_72492023237']\n"
     ]
    },
    {
     "data": {
      "text/html": [
       "<div>\n",
       "<style scoped>\n",
       "    .dataframe tbody tr th:only-of-type {\n",
       "        vertical-align: middle;\n",
       "    }\n",
       "\n",
       "    .dataframe tbody tr th {\n",
       "        vertical-align: top;\n",
       "    }\n",
       "\n",
       "    .dataframe thead th {\n",
       "        text-align: right;\n",
       "    }\n",
       "</style>\n",
       "<table border=\"1\" class=\"dataframe\">\n",
       "  <thead>\n",
       "    <tr style=\"text-align: right;\">\n",
       "      <th></th>\n",
       "      <th>network</th>\n",
       "      <th>era-id</th>\n",
       "      <th>elevation</th>\n",
       "      <th>latitude</th>\n",
       "      <th>longitude</th>\n",
       "      <th>start_date</th>\n",
       "      <th>end_date</th>\n",
       "      <th>event_type</th>\n",
       "      <th>notes</th>\n",
       "    </tr>\n",
       "  </thead>\n",
       "  <tbody>\n",
       "    <tr>\n",
       "      <th>228</th>\n",
       "      <td>CIMIS</td>\n",
       "      <td>CIMIS_199</td>\n",
       "      <td>6910.0</td>\n",
       "      <td>34.237645</td>\n",
       "      <td>-116.86585</td>\n",
       "      <td>2005-07-19 00:00:00+00:00</td>\n",
       "      <td>2024-01-22 13:36:19.951554+00:00</td>\n",
       "      <td>AR, mudslide, heatwave1, heatwave2, heatwave3,...</td>\n",
       "      <td>NaN</td>\n",
       "    </tr>\n",
       "    <tr>\n",
       "      <th>691</th>\n",
       "      <td>HADS</td>\n",
       "      <td>HADS_YRSC2</td>\n",
       "      <td>7880.0</td>\n",
       "      <td>40.153330</td>\n",
       "      <td>-106.91167</td>\n",
       "      <td>2000-01-17 00:00:00+00:00</td>\n",
       "      <td>2023-01-16 16:00:00+00:00</td>\n",
       "      <td>AR, mudslide, heatwave1, heatwave2, heatwave3,...</td>\n",
       "      <td>NaN</td>\n",
       "    </tr>\n",
       "    <tr>\n",
       "      <th>645</th>\n",
       "      <td>HADS</td>\n",
       "      <td>HADS_MCDO3</td>\n",
       "      <td>4464.0</td>\n",
       "      <td>42.410560</td>\n",
       "      <td>-117.86278</td>\n",
       "      <td>2006-12-16 00:00:00+00:00</td>\n",
       "      <td>2023-01-16 16:45:00+00:00</td>\n",
       "      <td>AR, mudslide, heatwave1, heatwave2, heatwave3,...</td>\n",
       "      <td>NaN</td>\n",
       "    </tr>\n",
       "  </tbody>\n",
       "</table>\n",
       "</div>"
      ],
      "text/plain": [
       "    network      era-id  elevation   latitude  longitude  \\\n",
       "228   CIMIS   CIMIS_199     6910.0  34.237645 -116.86585   \n",
       "691    HADS  HADS_YRSC2     7880.0  40.153330 -106.91167   \n",
       "645    HADS  HADS_MCDO3     4464.0  42.410560 -117.86278   \n",
       "\n",
       "                   start_date                         end_date  \\\n",
       "228 2005-07-19 00:00:00+00:00 2024-01-22 13:36:19.951554+00:00   \n",
       "691 2000-01-17 00:00:00+00:00        2023-01-16 16:00:00+00:00   \n",
       "645 2006-12-16 00:00:00+00:00        2023-01-16 16:45:00+00:00   \n",
       "\n",
       "                                            event_type notes  \n",
       "228  AR, mudslide, heatwave1, heatwave2, heatwave3,...   NaN  \n",
       "691  AR, mudslide, heatwave1, heatwave2, heatwave3,...   NaN  \n",
       "645  AR, mudslide, heatwave1, heatwave2, heatwave3,...   NaN  "
      ]
     },
     "execution_count": 4,
     "metadata": {},
     "output_type": "execute_result"
    }
   ],
   "source": [
    "# how to identify other events of interest using a start and end date\n",
    "alt_start_date = \"2007-10-20\"\n",
    "alt_end_date = \"2007-10-24\"\n",
    "alt_event_stns = find_other_events (train_stns, event_start=alt_start_date, event_end=alt_end_date, buffer=14, subset=5)\n",
    "alt_event_stns.head(3)"
   ]
  },
  {
   "cell_type": "code",
   "execution_count": 5,
   "id": "ca9bdc60-9ed7-4db5-82be-508671d11b2e",
   "metadata": {
    "execution": {
     "iopub.execute_input": "2024-09-17T19:23:20.805131Z",
     "iopub.status.busy": "2024-09-17T19:23:20.805030Z",
     "iopub.status.idle": "2024-09-17T19:23:20.821612Z",
     "shell.execute_reply": "2024-09-17T19:23:20.821317Z",
     "shell.execute_reply.started": "2024-09-17T19:23:20.805121Z"
    }
   },
   "outputs": [],
   "source": [
    "specific_station = 'CIMIS_45'\n",
    "specific_station = 'CIMIS_75'"
   ]
  },
  {
   "cell_type": "code",
   "execution_count": 6,
   "id": "101b57fb-30cb-47f0-967a-0c0782f90a4d",
   "metadata": {
    "execution": {
     "iopub.execute_input": "2024-09-17T19:23:20.822259Z",
     "iopub.status.busy": "2024-09-17T19:23:20.822116Z",
     "iopub.status.idle": "2024-09-17T19:23:21.315586Z",
     "shell.execute_reply": "2024-09-17T19:23:21.315272Z",
     "shell.execute_reply.started": "2024-09-17T19:23:20.822248Z"
    }
   },
   "outputs": [
    {
     "name": "stdout",
     "output_type": "stream",
     "text": [
      "17 potential stations available for evaluation for santa_ana_wind event.\n",
      "Stations selected for evaluation:\n",
      " ['CIMIS_75']\n"
     ]
    },
    {
     "data": {
      "text/html": [
       "<div>\n",
       "<style scoped>\n",
       "    .dataframe tbody tr th:only-of-type {\n",
       "        vertical-align: middle;\n",
       "    }\n",
       "\n",
       "    .dataframe tbody tr th {\n",
       "        vertical-align: top;\n",
       "    }\n",
       "\n",
       "    .dataframe thead th {\n",
       "        text-align: right;\n",
       "    }\n",
       "</style>\n",
       "<table border=\"1\" class=\"dataframe\">\n",
       "  <thead>\n",
       "    <tr style=\"text-align: right;\">\n",
       "      <th></th>\n",
       "      <th>network</th>\n",
       "      <th>era-id</th>\n",
       "      <th>elevation</th>\n",
       "      <th>latitude</th>\n",
       "      <th>longitude</th>\n",
       "      <th>start_date</th>\n",
       "      <th>end_date</th>\n",
       "      <th>event_type</th>\n",
       "      <th>notes</th>\n",
       "      <th>STATEFP</th>\n",
       "      <th>...</th>\n",
       "      <th>CBSAFP</th>\n",
       "      <th>METDIVFP</th>\n",
       "      <th>FUNCSTAT</th>\n",
       "      <th>ALAND</th>\n",
       "      <th>AWATER</th>\n",
       "      <th>INTPTLAT</th>\n",
       "      <th>INTPTLON</th>\n",
       "      <th>Shape_Leng</th>\n",
       "      <th>Shape_Area</th>\n",
       "      <th>geometry</th>\n",
       "    </tr>\n",
       "  </thead>\n",
       "  <tbody>\n",
       "    <tr>\n",
       "      <th>16</th>\n",
       "      <td>CIMIS</td>\n",
       "      <td>CIMIS_75</td>\n",
       "      <td>410.0</td>\n",
       "      <td>33.68845</td>\n",
       "      <td>-117.72118</td>\n",
       "      <td>1987-10-07 00:00:00+00:00</td>\n",
       "      <td>2024-01-22 13:36:19.951554+00:00</td>\n",
       "      <td>all</td>\n",
       "      <td>NaN</td>\n",
       "      <td>06</td>\n",
       "      <td>...</td>\n",
       "      <td>31080</td>\n",
       "      <td>11244</td>\n",
       "      <td>A</td>\n",
       "      <td>2.053368e+09</td>\n",
       "      <td>401931862.0</td>\n",
       "      <td>+33.6756872</td>\n",
       "      <td>-117.7772068</td>\n",
       "      <td>261547.8529</td>\n",
       "      <td>3.554704e+09</td>\n",
       "      <td>POINT (-13104661.813 3987044.797)</td>\n",
       "    </tr>\n",
       "  </tbody>\n",
       "</table>\n",
       "<p>1 rows × 29 columns</p>\n",
       "</div>"
      ],
      "text/plain": [
       "   network    era-id  elevation  latitude  longitude  \\\n",
       "16   CIMIS  CIMIS_75      410.0  33.68845 -117.72118   \n",
       "\n",
       "                  start_date                         end_date event_type  \\\n",
       "16 1987-10-07 00:00:00+00:00 2024-01-22 13:36:19.951554+00:00        all   \n",
       "\n",
       "   notes STATEFP  ... CBSAFP METDIVFP FUNCSTAT         ALAND       AWATER  \\\n",
       "16   NaN      06  ...  31080    11244        A  2.053368e+09  401931862.0   \n",
       "\n",
       "       INTPTLAT      INTPTLON   Shape_Leng    Shape_Area  \\\n",
       "16  +33.6756872  -117.7772068  261547.8529  3.554704e+09   \n",
       "\n",
       "                             geometry  \n",
       "16  POINT (-13104661.813 3987044.797)  \n",
       "\n",
       "[1 rows x 29 columns]"
      ]
     },
     "execution_count": 6,
     "metadata": {},
     "output_type": "execute_result"
    }
   ],
   "source": [
    "eval_stations = subset_eval_stns(\n",
    "    event_to_eval = 'santa_ana_wind',\n",
    "    stn_list = train_stns,\n",
    "    # subset = 5,\n",
    "    # subset = None,\n",
    "    specific_station=specific_station,\n",
    "    return_stn_ids = True\n",
    ")\n",
    "eval_stations.head(3)"
   ]
  },
  {
   "cell_type": "code",
   "execution_count": 7,
   "id": "3f8cc510-ed96-4ca2-9050-f79f511d512e",
   "metadata": {
    "execution": {
     "iopub.execute_input": "2024-09-17T19:23:21.317632Z",
     "iopub.status.busy": "2024-09-17T19:23:21.317528Z",
     "iopub.status.idle": "2024-09-17T19:23:26.929096Z",
     "shell.execute_reply": "2024-09-17T19:23:26.928716Z",
     "shell.execute_reply.started": "2024-09-17T19:23:21.317622Z"
    }
   },
   "outputs": [
    {
     "data": {
      "text/plain": [
       "[<matplotlib.lines.Line2D at 0x37a08de80>]"
      ]
     },
     "execution_count": 7,
     "metadata": {},
     "output_type": "execute_result"
    },
    {
     "data": {
      "image/png": "[encoded data removed]",
      "text/plain": [
       "<Figure size 640x480 with 1 Axes>"
      ]
     },
     "metadata": {},
     "output_type": "display_data"
    }
   ],
   "source": [
    "fig,ax = stn_visualize(\n",
    "    stn_id = eval_stations['era-id'].values[-1],\n",
    "    stn_list = eval_stations,\n",
    "    event_to_eval = 'santa_ana_wind'\n",
    ")\n",
    "\n",
    "ax.plot(ghcnh.stations_df.longitude, ghcnh.stations_df.latitude, 'x', markersize=4, transform=ccrs.PlateCarree(), mfc='none')"
   ]
  },
  {
   "cell_type": "code",
   "execution_count": 8,
   "id": "374ceec1-4b15-466c-ba18-7237f47ec6f7",
   "metadata": {
    "execution": {
     "iopub.execute_input": "2024-09-17T19:23:26.929684Z",
     "iopub.status.busy": "2024-09-17T19:23:26.929591Z",
     "iopub.status.idle": "2024-09-17T19:23:26.947847Z",
     "shell.execute_reply": "2024-09-17T19:23:26.947532Z",
     "shell.execute_reply.started": "2024-09-17T19:23:26.929675Z"
    }
   },
   "outputs": [
    {
     "data": {
      "text/plain": [
       "'CIMIS_75'"
      ]
     },
     "execution_count": 8,
     "metadata": {},
     "output_type": "execute_result"
    }
   ],
   "source": [
    "eval_stations['era-id'].values[-1]\n",
    "# eval_stations.loc[eval_stations['era-id']==stn_id]"
   ]
  },
  {
   "cell_type": "code",
   "execution_count": 9,
   "id": "03d95769-1d0b-4bd5-a6b8-01e01cd40222",
   "metadata": {
    "execution": {
     "iopub.execute_input": "2024-09-17T19:23:26.948497Z",
     "iopub.status.busy": "2024-09-17T19:23:26.948370Z",
     "iopub.status.idle": "2024-09-17T19:23:26.980810Z",
     "shell.execute_reply": "2024-09-17T19:23:26.980490Z",
     "shell.execute_reply.started": "2024-09-17T19:23:26.948484Z"
    }
   },
   "outputs": [
    {
     "data": {
      "text/html": [
       "<div>\n",
       "<style scoped>\n",
       "    .dataframe tbody tr th:only-of-type {\n",
       "        vertical-align: middle;\n",
       "    }\n",
       "\n",
       "    .dataframe tbody tr th {\n",
       "        vertical-align: top;\n",
       "    }\n",
       "\n",
       "    .dataframe thead th {\n",
       "        text-align: right;\n",
       "    }\n",
       "</style>\n",
       "<table border=\"1\" class=\"dataframe\">\n",
       "  <thead>\n",
       "    <tr style=\"text-align: right;\">\n",
       "      <th></th>\n",
       "      <th>longitude</th>\n",
       "      <th>latitude</th>\n",
       "    </tr>\n",
       "  </thead>\n",
       "  <tbody>\n",
       "    <tr>\n",
       "      <th>16</th>\n",
       "      <td>-117.72118</td>\n",
       "      <td>33.68845</td>\n",
       "    </tr>\n",
       "  </tbody>\n",
       "</table>\n",
       "</div>"
      ],
      "text/plain": [
       "    longitude  latitude\n",
       "16 -117.72118  33.68845"
      ]
     },
     "metadata": {},
     "output_type": "display_data"
    },
    {
     "data": {
      "text/html": [
       "<div>\n",
       "<style scoped>\n",
       "    .dataframe tbody tr th:only-of-type {\n",
       "        vertical-align: middle;\n",
       "    }\n",
       "\n",
       "    .dataframe tbody tr th {\n",
       "        vertical-align: top;\n",
       "    }\n",
       "\n",
       "    .dataframe thead th {\n",
       "        text-align: right;\n",
       "    }\n",
       "</style>\n",
       "<table border=\"1\" class=\"dataframe\">\n",
       "  <thead>\n",
       "    <tr style=\"text-align: right;\">\n",
       "      <th></th>\n",
       "      <th>id</th>\n",
       "      <th>latitude</th>\n",
       "      <th>longitude</th>\n",
       "      <th>elevation</th>\n",
       "      <th>state</th>\n",
       "      <th>name</th>\n",
       "      <th>gsn_flag</th>\n",
       "      <th>hcn</th>\n",
       "      <th>crn_flag</th>\n",
       "      <th>wmo_id</th>\n",
       "      <th>url</th>\n",
       "      <th>is_in_wecc</th>\n",
       "      <th>geometry</th>\n",
       "      <th>distance_to_eval</th>\n",
       "    </tr>\n",
       "  </thead>\n",
       "  <tbody>\n",
       "    <tr>\n",
       "      <th>5627</th>\n",
       "      <td>USW00093184</td>\n",
       "      <td>33.6797</td>\n",
       "      <td>-117.8675</td>\n",
       "      <td>13.1</td>\n",
       "      <td>CA</td>\n",
       "      <td>SANTA ANA JOHN WAYNE AP</td>\n",
       "      <td></td>\n",
       "      <td></td>\n",
       "      <td></td>\n",
       "      <td>NaN</td>\n",
       "      <td>https://www.ncei.noaa.gov/oa/global-historical...</td>\n",
       "      <td>True</td>\n",
       "      <td>POINT (-13120950.081 3985874.222)</td>\n",
       "      <td>16330.276109</td>\n",
       "    </tr>\n",
       "    <tr>\n",
       "      <th>5138</th>\n",
       "      <td>USW00053175</td>\n",
       "      <td>33.8978</td>\n",
       "      <td>-117.6025</td>\n",
       "      <td>162.5</td>\n",
       "      <td>CA</td>\n",
       "      <td>CORONA MUNICIPAL AP</td>\n",
       "      <td></td>\n",
       "      <td></td>\n",
       "      <td></td>\n",
       "      <td>NaN</td>\n",
       "      <td>https://www.ncei.noaa.gov/oa/global-historical...</td>\n",
       "      <td>True</td>\n",
       "      <td>POINT (-13091450.416 4015087.305)</td>\n",
       "      <td>30998.762024</td>\n",
       "    </tr>\n",
       "    <tr>\n",
       "      <th>3575</th>\n",
       "      <td>USW00003166</td>\n",
       "      <td>33.8717</td>\n",
       "      <td>-117.9855</td>\n",
       "      <td>26.2</td>\n",
       "      <td>CA</td>\n",
       "      <td>FULLERTON MUNI AP</td>\n",
       "      <td></td>\n",
       "      <td></td>\n",
       "      <td></td>\n",
       "      <td>NaN</td>\n",
       "      <td>https://www.ncei.noaa.gov/oa/global-historical...</td>\n",
       "      <td>True</td>\n",
       "      <td>POINT (-13134085.781 4011587.454)</td>\n",
       "      <td>38315.948053</td>\n",
       "    </tr>\n",
       "    <tr>\n",
       "      <th>5110</th>\n",
       "      <td>USW00053141</td>\n",
       "      <td>33.7900</td>\n",
       "      <td>-118.0519</td>\n",
       "      <td>10.7</td>\n",
       "      <td>CA</td>\n",
       "      <td>LOS ALAMITOS AAF</td>\n",
       "      <td></td>\n",
       "      <td></td>\n",
       "      <td></td>\n",
       "      <td>NaN</td>\n",
       "      <td>https://www.ncei.noaa.gov/oa/global-historical...</td>\n",
       "      <td>True</td>\n",
       "      <td>POINT (-13141477.395 4000638.892)</td>\n",
       "      <td>39245.209887</td>\n",
       "    </tr>\n",
       "    <tr>\n",
       "      <th>3582</th>\n",
       "      <td>USW00003179</td>\n",
       "      <td>33.9756</td>\n",
       "      <td>-117.6250</td>\n",
       "      <td>193.9</td>\n",
       "      <td>CA</td>\n",
       "      <td>CHINO AP</td>\n",
       "      <td></td>\n",
       "      <td></td>\n",
       "      <td></td>\n",
       "      <td>NaN</td>\n",
       "      <td>https://www.ncei.noaa.gov/oa/global-historical...</td>\n",
       "      <td>True</td>\n",
       "      <td>POINT (-13093955.105 4025526.173)</td>\n",
       "      <td>39943.083072</td>\n",
       "    </tr>\n",
       "  </tbody>\n",
       "</table>\n",
       "</div>"
      ],
      "text/plain": [
       "               id  latitude  longitude  elevation state  \\\n",
       "5627  USW00093184   33.6797  -117.8675       13.1    CA   \n",
       "5138  USW00053175   33.8978  -117.6025      162.5    CA   \n",
       "3575  USW00003166   33.8717  -117.9855       26.2    CA   \n",
       "5110  USW00053141   33.7900  -118.0519       10.7    CA   \n",
       "3582  USW00003179   33.9756  -117.6250      193.9    CA   \n",
       "\n",
       "                                 name gsn_flag   hcn crn_flag  wmo_id  \\\n",
       "5627   SANTA ANA JOHN WAYNE AP                                    NaN   \n",
       "5138   CORONA MUNICIPAL AP                                        NaN   \n",
       "3575   FULLERTON MUNI AP                                          NaN   \n",
       "5110   LOS ALAMITOS AAF                                           NaN   \n",
       "3582   CHINO AP                                                   NaN   \n",
       "\n",
       "                                                    url  is_in_wecc  \\\n",
       "5627  https://www.ncei.noaa.gov/oa/global-historical...        True   \n",
       "5138  https://www.ncei.noaa.gov/oa/global-historical...        True   \n",
       "3575  https://www.ncei.noaa.gov/oa/global-historical...        True   \n",
       "5110  https://www.ncei.noaa.gov/oa/global-historical...        True   \n",
       "3582  https://www.ncei.noaa.gov/oa/global-historical...        True   \n",
       "\n",
       "                               geometry  distance_to_eval  \n",
       "5627  POINT (-13120950.081 3985874.222)      16330.276109  \n",
       "5138  POINT (-13091450.416 4015087.305)      30998.762024  \n",
       "3575  POINT (-13134085.781 4011587.454)      38315.948053  \n",
       "5110  POINT (-13141477.395 4000638.892)      39245.209887  \n",
       "3582  POINT (-13093955.105 4025526.173)      39943.083072  "
      ]
     },
     "execution_count": 9,
     "metadata": {},
     "output_type": "execute_result"
    }
   ],
   "source": [
    "stn_id = eval_stations['era-id'].values[-1]\n",
    "point = eval_stations.loc[eval_stations['era-id']==stn_id].geometry.iloc[0]\n",
    "ghcnh_stations_df = ghcnh.stations_df.copy()\n",
    "display(eval_stations.loc[eval_stations['era-id']==stn_id, [\"longitude\",\"latitude\"]])\n",
    "ghcnh_stations_df['distance_to_eval'] = ghcnh_stations_df.distance(point, )\n",
    "ghcnh_stations_df = ghcnh_stations_df.sort_values(by=\"distance_to_eval\")\n",
    "ghcnh_stations_df.head(5)"
   ]
  },
  {
   "cell_type": "code",
   "execution_count": 10,
   "id": "bff506b0-873c-4a6c-acbf-6e105e5ae1af",
   "metadata": {
    "execution": {
     "iopub.execute_input": "2024-09-17T19:23:26.981468Z",
     "iopub.status.busy": "2024-09-17T19:23:26.981344Z",
     "iopub.status.idle": "2024-09-17T19:23:27.339799Z",
     "shell.execute_reply": "2024-09-17T19:23:27.339483Z",
     "shell.execute_reply.started": "2024-09-17T19:23:26.981457Z"
    }
   },
   "outputs": [
    {
     "data": {
      "image/png": "[encoded data removed]",
      "text/plain": [
       "<Figure size 640x480 with 1 Axes>"
      ]
     },
     "metadata": {},
     "output_type": "display_data"
    }
   ],
   "source": [
    "fig,ax = stn_visualize(\n",
    "    stn_id = eval_stations['era-id'].values[-1],\n",
    "    stn_list = eval_stations,\n",
    "    event_to_eval = 'santa_ana_wind'\n",
    ")\n",
    "\n",
    "plot_df = ghcnh_stations_df.iloc[:10]\n",
    "ax.plot(plot_df.longitude, plot_df.latitude, 'x', markersize=6, transform=ccrs.PlateCarree(), mfc='none');"
   ]
  },
  {
   "cell_type": "code",
   "execution_count": 11,
   "id": "cff25002-086b-458e-b3e6-5e90712ee97a",
   "metadata": {
    "execution": {
     "iopub.execute_input": "2024-09-17T19:23:27.340488Z",
     "iopub.status.busy": "2024-09-17T19:23:27.340381Z",
     "iopub.status.idle": "2024-09-17T19:23:27.359857Z",
     "shell.execute_reply": "2024-09-17T19:23:27.359399Z",
     "shell.execute_reply.started": "2024-09-17T19:23:27.340476Z"
    }
   },
   "outputs": [],
   "source": [
    "def return_ghcn_vars(ghcn_df, input_var):\n",
    "    '''\n",
    "    Given an input variable, return GHCNh location variables and all relevant data variables,\n",
    "    rather than utilizing the whole 240 cols, or having to know how ghcnh labels the cols.\n",
    "\n",
    "    input_var must follow ERA naming scheme (tas, tdps, ps, pr, etc.)\n",
    "    '''\n",
    "    ghcnh_vars = pd.read_csv('ghcnh_data_headers.csv')\n",
    "\n",
    "    # include station-ID, time, loc, elevation (cols 1-10)\n",
    "    stn_info_cols = ['Station_ID', 'Station_name', 'time',\n",
    "                     'Latitude','Longitude','Elevation',\n",
    "                     'geometry'\n",
    "                    ]\n",
    "    vars = {\n",
    "        'tas': 'temperature',\n",
    "        'tdps': 'dew_point_temperature',\n",
    "        'tdps_derived': 'dew_point_temperature',\n",
    "        'ps': 'station_level_pressure',\n",
    "        'psl': 'station_level_pressure',\n",
    "        'sfcWind_dir': 'wind_direction',\n",
    "        'sfcWind': 'wind_speed',\n",
    "        'tas': 'temperature',\n",
    "        'hurs': 'relative_humidity',\n",
    "        'rsds': \"N/A\",\n",
    "        'pr': 'precipitation',\n",
    "        'pr_1h': 'precipitation',\n",
    "        'pr_5min': 'precipitation',\n",
    "    }\n",
    "    if input_var in vars.keys():\n",
    "        i = ghcn_df.columns.get_loc(vars[input_var])\n",
    "        j = i+6\n",
    "        # For wind, include wind gust\n",
    "        if input_var==\"sfcWind\":\n",
    "            j = j+6\n",
    "        var_cols = ghcn_df.iloc[:, i:j].columns\n",
    "        return_cols = np.concatenate([stn_info_cols,var_cols])\n",
    "        \n",
    "        return ghcn_df.loc[:, return_cols], vars\n",
    "    else:\n",
    "        raise Exception(f\"Variable {input_var} not in variables' dictionary\")"
   ]
  },
  {
   "cell_type": "code",
   "execution_count": 23,
   "id": "79115793-dd89-499b-bc6c-3127f1fcb67f",
   "metadata": {
    "execution": {
     "iopub.execute_input": "2024-09-19T22:35:20.892155Z",
     "iopub.status.busy": "2024-09-19T22:35:20.889488Z",
     "iopub.status.idle": "2024-09-19T22:35:21.526689Z",
     "shell.execute_reply": "2024-09-19T22:35:21.526317Z",
     "shell.execute_reply.started": "2024-09-19T22:35:20.892032Z"
    }
   },
   "outputs": [],
   "source": [
    "vars = {\n",
    "    'tas': 'temperature',\n",
    "    'tdps': 'dew_point_temperature',\n",
    "    'tdps_derived': 'dew_point_temperature',\n",
    "    'ps': 'station_level_pressure',\n",
    "    'psl': 'station_level_pressure',\n",
    "    'sfcWind_dir': 'wind_direction',\n",
    "    'sfcWind': 'wind_speed',\n",
    "    'tas': 'temperature',\n",
    "    'hurs': 'relative_humidity',\n",
    "    'rsds': \"N/A\",\n",
    "    'pr': 'precipitation',\n",
    "    'pr_1h': 'precipitation',\n",
    "    'pr_5min': 'precipitation',\n",
    "}"
   ]
  },
  {
   "cell_type": "code",
   "execution_count": 12,
   "id": "9709af42-fa8a-4050-8d28-c2bde2cff5d7",
   "metadata": {
    "execution": {
     "iopub.execute_input": "2024-09-17T19:23:27.360426Z",
     "iopub.status.busy": "2024-09-17T19:23:27.360328Z",
     "iopub.status.idle": "2024-09-17T19:23:27.378261Z",
     "shell.execute_reply": "2024-09-17T19:23:27.377941Z",
     "shell.execute_reply.started": "2024-09-17T19:23:27.360416Z"
    }
   },
   "outputs": [
    {
     "data": {
      "text/plain": [
       "'CIMIS_75'"
      ]
     },
     "execution_count": 12,
     "metadata": {},
     "output_type": "execute_result"
    }
   ],
   "source": [
    "stn_id"
   ]
  },
  {
   "cell_type": "code",
   "execution_count": 13,
   "id": "8e7922ce-be61-4d80-a12f-ced0db800727",
   "metadata": {
    "execution": {
     "iopub.execute_input": "2024-09-17T19:23:27.378872Z",
     "iopub.status.busy": "2024-09-17T19:23:27.378770Z",
     "iopub.status.idle": "2024-09-17T19:23:27.394831Z",
     "shell.execute_reply": "2024-09-17T19:23:27.394491Z",
     "shell.execute_reply.started": "2024-09-17T19:23:27.378861Z"
    }
   },
   "outputs": [],
   "source": [
    "# df, vars = return_ghcn_vars(ghcnh.station_data, 'tas')"
   ]
  },
  {
   "cell_type": "code",
   "execution_count": 14,
   "id": "b2737077-28e4-4b01-a499-813cb7b7b0b1",
   "metadata": {
    "execution": {
     "iopub.execute_input": "2024-09-17T19:23:27.395436Z",
     "iopub.status.busy": "2024-09-17T19:23:27.395340Z",
     "iopub.status.idle": "2024-09-17T19:23:27.412900Z",
     "shell.execute_reply": "2024-09-17T19:23:27.412577Z",
     "shell.execute_reply.started": "2024-09-17T19:23:27.395426Z"
    }
   },
   "outputs": [],
   "source": [
    "# len(df.temperature_Quality_Code.dropna())/len(df.temperature_Quality_Code)"
   ]
  },
  {
   "cell_type": "code",
   "execution_count": 15,
   "id": "a4dcd8f5-180d-4a1a-bf92-26a5f1d210d3",
   "metadata": {
    "execution": {
     "iopub.execute_input": "2024-09-17T19:23:27.413578Z",
     "iopub.status.busy": "2024-09-17T19:23:27.413428Z",
     "iopub.status.idle": "2024-09-17T19:23:56.274025Z",
     "shell.execute_reply": "2024-09-17T19:23:56.273645Z",
     "shell.execute_reply.started": "2024-09-17T19:23:27.413566Z"
    }
   },
   "outputs": [
    {
     "name": "stdout",
     "output_type": "stream",
     "text": [
      "Retrieving data for station...\n",
      "CPU times: user 2.96 s, sys: 1.41 s, total: 4.38 s\n",
      "Wall time: 28.8 s\n"
     ]
    },
    {
     "data": {
      "text/html": [
       "<div><svg style=\"position: absolute; width: 0; height: 0; overflow: hidden\">\n",
       "<defs>\n",
       "<symbol id=\"icon-database\" viewBox=\"0 0 32 32\">\n",
       "<path d=\"M16 0c-8.837 0-16 2.239-16 5v4c0 2.761 7.163 5 16 5s16-2.239 16-5v-4c0-2.761-7.163-5-16-5z\"></path>\n",
       "<path d=\"M16 17c-8.837 0-16-2.239-16-5v6c0 2.761 7.163 5 16 5s16-2.239 16-5v-6c0 2.761-7.163 5-16 5z\"></path>\n",
       "<path d=\"M16 26c-8.837 0-16-2.239-16-5v6c0 2.761 7.163 5 16 5s16-2.239 16-5v-6c0 2.761-7.163 5-16 5z\"></path>\n",
       "</symbol>\n",
       "<symbol id=\"icon-file-text2\" viewBox=\"0 0 32 32\">\n",
       "<path d=\"M28.681 7.159c-0.694-0.947-1.662-2.053-2.724-3.116s-2.169-2.030-3.116-2.724c-1.612-1.182-2.393-1.319-2.841-1.319h-15.5c-1.378 0-2.5 1.121-2.5 2.5v27c0 1.378 1.122 2.5 2.5 2.5h23c1.378 0 2.5-1.122 2.5-2.5v-19.5c0-0.448-0.137-1.23-1.319-2.841zM24.543 5.457c0.959 0.959 1.712 1.825 2.268 2.543h-4.811v-4.811c0.718 0.556 1.584 1.309 2.543 2.268zM28 29.5c0 0.271-0.229 0.5-0.5 0.5h-23c-0.271 0-0.5-0.229-0.5-0.5v-27c0-0.271 0.229-0.5 0.5-0.5 0 0 15.499-0 15.5 0v7c0 0.552 0.448 1 1 1h7v19.5z\"></path>\n",
       "<path d=\"M23 26h-14c-0.552 0-1-0.448-1-1s0.448-1 1-1h14c0.552 0 1 0.448 1 1s-0.448 1-1 1z\"></path>\n",
       "<path d=\"M23 22h-14c-0.552 0-1-0.448-1-1s0.448-1 1-1h14c0.552 0 1 0.448 1 1s-0.448 1-1 1z\"></path>\n",
       "<path d=\"M23 18h-14c-0.552 0-1-0.448-1-1s0.448-1 1-1h14c0.552 0 1 0.448 1 1s-0.448 1-1 1z\"></path>\n",
       "</symbol>\n",
       "</defs>\n",
       "</svg>\n",
       "<style>/* CSS stylesheet for displaying xarray objects in jupyterlab.\n",
       " *\n",
       " */\n",
       "\n",
       ":root {\n",
       "  --xr-font-color0: var(--jp-content-font-color0, rgba(0, 0, 0, 1));\n",
       "  --xr-font-color2: var(--jp-content-font-color2, rgba(0, 0, 0, 0.54));\n",
       "  --xr-font-color3: var(--jp-content-font-color3, rgba(0, 0, 0, 0.38));\n",
       "  --xr-border-color: var(--jp-border-color2, #e0e0e0);\n",
       "  --xr-disabled-color: var(--jp-layout-color3, #bdbdbd);\n",
       "  --xr-background-color: var(--jp-layout-color0, white);\n",
       "  --xr-background-color-row-even: var(--jp-layout-color1, white);\n",
       "  --xr-background-color-row-odd: var(--jp-layout-color2, #eeeeee);\n",
       "}\n",
       "\n",
       "html[theme=dark],\n",
       "body.vscode-dark {\n",
       "  --xr-font-color0: rgba(255, 255, 255, 1);\n",
       "  --xr-font-color2: rgba(255, 255, 255, 0.54);\n",
       "  --xr-font-color3: rgba(255, 255, 255, 0.38);\n",
       "  --xr-border-color: #1F1F1F;\n",
       "  --xr-disabled-color: #515151;\n",
       "  --xr-background-color: #111111;\n",
       "  --xr-background-color-row-even: #111111;\n",
       "  --xr-background-color-row-odd: #313131;\n",
       "}\n",
       "\n",
       ".xr-wrap {\n",
       "  display: block !important;\n",
       "  min-width: 300px;\n",
       "  max-width: 700px;\n",
       "}\n",
       "\n",
       ".xr-text-repr-fallback {\n",
       "  /* fallback to plain text repr when CSS is not injected (untrusted notebook) */\n",
       "  display: none;\n",
       "}\n",
       "\n",
       ".xr-header {\n",
       "  padding-top: 6px;\n",
       "  padding-bottom: 6px;\n",
       "  margin-bottom: 4px;\n",
       "  border-bottom: solid 1px var(--xr-border-color);\n",
       "}\n",
       "\n",
       ".xr-header > div,\n",
       ".xr-header > ul {\n",
       "  display: inline;\n",
       "  margin-top: 0;\n",
       "  margin-bottom: 0;\n",
       "}\n",
       "\n",
       ".xr-obj-type,\n",
       ".xr-array-name {\n",
       "  margin-left: 2px;\n",
       "  margin-right: 10px;\n",
       "}\n",
       "\n",
       ".xr-obj-type {\n",
       "  color: var(--xr-font-color2);\n",
       "}\n",
       "\n",
       ".xr-sections {\n",
       "  padding-left: 0 !important;\n",
       "  display: grid;\n",
       "  grid-template-columns: 150px auto auto 1fr 20px 20px;\n",
       "}\n",
       "\n",
       ".xr-section-item {\n",
       "  display: contents;\n",
       "}\n",
       "\n",
       ".xr-section-item input {\n",
       "  display: none;\n",
       "}\n",
       "\n",
       ".xr-section-item input + label {\n",
       "  color: var(--xr-disabled-color);\n",
       "}\n",
       "\n",
       ".xr-section-item input:enabled + label {\n",
       "  cursor: pointer;\n",
       "  color: var(--xr-font-color2);\n",
       "}\n",
       "\n",
       ".xr-section-item input:enabled + label:hover {\n",
       "  color: var(--xr-font-color0);\n",
       "}\n",
       "\n",
       ".xr-section-summary {\n",
       "  grid-column: 1;\n",
       "  color: var(--xr-font-color2);\n",
       "  font-weight: 500;\n",
       "}\n",
       "\n",
       ".xr-section-summary > span {\n",
       "  display: inline-block;\n",
       "  padding-left: 0.5em;\n",
       "}\n",
       "\n",
       ".xr-section-summary-in:disabled + label {\n",
       "  color: var(--xr-font-color2);\n",
       "}\n",
       "\n",
       ".xr-section-summary-in + label:before {\n",
       "  display: inline-block;\n",
       "  content: '►';\n",
       "  font-size: 11px;\n",
       "  width: 15px;\n",
       "  text-align: center;\n",
       "}\n",
       "\n",
       ".xr-section-summary-in:disabled + label:before {\n",
       "  color: var(--xr-disabled-color);\n",
       "}\n",
       "\n",
       ".xr-section-summary-in:checked + label:before {\n",
       "  content: '▼';\n",
       "}\n",
       "\n",
       ".xr-section-summary-in:checked + label > span {\n",
       "  display: none;\n",
       "}\n",
       "\n",
       ".xr-section-summary,\n",
       ".xr-section-inline-details {\n",
       "  padding-top: 4px;\n",
       "  padding-bottom: 4px;\n",
       "}\n",
       "\n",
       ".xr-section-inline-details {\n",
       "  grid-column: 2 / -1;\n",
       "}\n",
       "\n",
       ".xr-section-details {\n",
       "  display: none;\n",
       "  grid-column: 1 / -1;\n",
       "  margin-bottom: 5px;\n",
       "}\n",
       "\n",
       ".xr-section-summary-in:checked ~ .xr-section-details {\n",
       "  display: contents;\n",
       "}\n",
       "\n",
       ".xr-array-wrap {\n",
       "  grid-column: 1 / -1;\n",
       "  display: grid;\n",
       "  grid-template-columns: 20px auto;\n",
       "}\n",
       "\n",
       ".xr-array-wrap > label {\n",
       "  grid-column: 1;\n",
       "  vertical-align: top;\n",
       "}\n",
       "\n",
       ".xr-preview {\n",
       "  color: var(--xr-font-color3);\n",
       "}\n",
       "\n",
       ".xr-array-preview,\n",
       ".xr-array-data {\n",
       "  padding: 0 5px !important;\n",
       "  grid-column: 2;\n",
       "}\n",
       "\n",
       ".xr-array-data,\n",
       ".xr-array-in:checked ~ .xr-array-preview {\n",
       "  display: none;\n",
       "}\n",
       "\n",
       ".xr-array-in:checked ~ .xr-array-data,\n",
       ".xr-array-preview {\n",
       "  display: inline-block;\n",
       "}\n",
       "\n",
       ".xr-dim-list {\n",
       "  display: inline-block !important;\n",
       "  list-style: none;\n",
       "  padding: 0 !important;\n",
       "  margin: 0;\n",
       "}\n",
       "\n",
       ".xr-dim-list li {\n",
       "  display: inline-block;\n",
       "  padding: 0;\n",
       "  margin: 0;\n",
       "}\n",
       "\n",
       ".xr-dim-list:before {\n",
       "  content: '(';\n",
       "}\n",
       "\n",
       ".xr-dim-list:after {\n",
       "  content: ')';\n",
       "}\n",
       "\n",
       ".xr-dim-list li:not(:last-child):after {\n",
       "  content: ',';\n",
       "  padding-right: 5px;\n",
       "}\n",
       "\n",
       ".xr-has-index {\n",
       "  font-weight: bold;\n",
       "}\n",
       "\n",
       ".xr-var-list,\n",
       ".xr-var-item {\n",
       "  display: contents;\n",
       "}\n",
       "\n",
       ".xr-var-item > div,\n",
       ".xr-var-item label,\n",
       ".xr-var-item > .xr-var-name span {\n",
       "  background-color: var(--xr-background-color-row-even);\n",
       "  margin-bottom: 0;\n",
       "}\n",
       "\n",
       ".xr-var-item > .xr-var-name:hover span {\n",
       "  padding-right: 5px;\n",
       "}\n",
       "\n",
       ".xr-var-list > li:nth-child(odd) > div,\n",
       ".xr-var-list > li:nth-child(odd) > label,\n",
       ".xr-var-list > li:nth-child(odd) > .xr-var-name span {\n",
       "  background-color: var(--xr-background-color-row-odd);\n",
       "}\n",
       "\n",
       ".xr-var-name {\n",
       "  grid-column: 1;\n",
       "}\n",
       "\n",
       ".xr-var-dims {\n",
       "  grid-column: 2;\n",
       "}\n",
       "\n",
       ".xr-var-dtype {\n",
       "  grid-column: 3;\n",
       "  text-align: right;\n",
       "  color: var(--xr-font-color2);\n",
       "}\n",
       "\n",
       ".xr-var-preview {\n",
       "  grid-column: 4;\n",
       "}\n",
       "\n",
       ".xr-var-name,\n",
       ".xr-var-dims,\n",
       ".xr-var-dtype,\n",
       ".xr-preview,\n",
       ".xr-attrs dt {\n",
       "  white-space: nowrap;\n",
       "  overflow: hidden;\n",
       "  text-overflow: ellipsis;\n",
       "  padding-right: 10px;\n",
       "}\n",
       "\n",
       ".xr-var-name:hover,\n",
       ".xr-var-dims:hover,\n",
       ".xr-var-dtype:hover,\n",
       ".xr-attrs dt:hover {\n",
       "  overflow: visible;\n",
       "  width: auto;\n",
       "  z-index: 1;\n",
       "}\n",
       "\n",
       ".xr-var-attrs,\n",
       ".xr-var-data {\n",
       "  display: none;\n",
       "  background-color: var(--xr-background-color) !important;\n",
       "  padding-bottom: 5px !important;\n",
       "}\n",
       "\n",
       ".xr-var-attrs-in:checked ~ .xr-var-attrs,\n",
       ".xr-var-data-in:checked ~ .xr-var-data {\n",
       "  display: block;\n",
       "}\n",
       "\n",
       ".xr-var-data > table {\n",
       "  float: right;\n",
       "}\n",
       "\n",
       ".xr-var-name span,\n",
       ".xr-var-data,\n",
       ".xr-attrs {\n",
       "  padding-left: 25px !important;\n",
       "}\n",
       "\n",
       ".xr-attrs,\n",
       ".xr-var-attrs,\n",
       ".xr-var-data {\n",
       "  grid-column: 1 / -1;\n",
       "}\n",
       "\n",
       "dl.xr-attrs {\n",
       "  padding: 0;\n",
       "  margin: 0;\n",
       "  display: grid;\n",
       "  grid-template-columns: 125px auto;\n",
       "}\n",
       "\n",
       ".xr-attrs dt,\n",
       ".xr-attrs dd {\n",
       "  padding: 0;\n",
       "  margin: 0;\n",
       "  float: left;\n",
       "  padding-right: 10px;\n",
       "  width: auto;\n",
       "}\n",
       "\n",
       ".xr-attrs dt {\n",
       "  font-weight: normal;\n",
       "  grid-column: 1;\n",
       "}\n",
       "\n",
       ".xr-attrs dt:hover span {\n",
       "  display: inline-block;\n",
       "  background: var(--xr-background-color);\n",
       "  padding-right: 10px;\n",
       "}\n",
       "\n",
       ".xr-attrs dd {\n",
       "  grid-column: 2;\n",
       "  white-space: pre-wrap;\n",
       "  word-break: break-all;\n",
       "}\n",
       "\n",
       ".xr-icon-database,\n",
       ".xr-icon-file-text2 {\n",
       "  display: inline-block;\n",
       "  vertical-align: middle;\n",
       "  width: 1em;\n",
       "  height: 1.5em !important;\n",
       "  stroke-width: 0;\n",
       "  stroke: currentColor;\n",
       "  fill: currentColor;\n",
       "}\n",
       "</style><pre class='xr-text-repr-fallback'>&lt;xarray.Dataset&gt;\n",
       "Dimensions:               (station: 1, time: 305943)\n",
       "Coordinates:\n",
       "  * station               (station) object &#x27;CIMIS_75&#x27;\n",
       "  * time                  (time) datetime64[ns] 1987-10-07T09:00:00 ... 2022-...\n",
       "Data variables: (12/30)\n",
       "    tas                   (station, time) float64 ...\n",
       "    pr                    (station, time) float64 ...\n",
       "    hurs                  (station, time) float64 ...\n",
       "    rsds                  (station, time) float64 ...\n",
       "    sfcWind               (station, time) float64 ...\n",
       "    sfcWind_dir           (station, time) float64 ...\n",
       "    ...                    ...\n",
       "    sfcWind_dir_eraqc     (station, time) float64 ...\n",
       "    elevation_eraqc       (station, time) float64 ...\n",
       "    tdps_derived_eraqc    (station, time) float64 ...\n",
       "    pvp_derived_eraqc     (station, time) float64 ...\n",
       "    anemometer_height_m   (station, time) float64 ...\n",
       "    thermometer_height_m  (station, time) float64 ...\n",
       "Attributes: (12/16)\n",
       "    title:                 CIMIS quality controlled\n",
       "    institution:           Eagle Rock Analytics / Cal Adapt\n",
       "    source:                \n",
       "    history:               CIMIS_clean.py script run on 02-13-2023, 22:25:54 ...\n",
       "    comment:               Intermediate data product: may not have been subje...\n",
       "    license:               \n",
       "    ...                    ...\n",
       "    wind_vane_height_m:    2.0\n",
       "    anemometer_height_m:   2.0\n",
       "    thermometer_height_m:  1.5\n",
       "    humidity_height_m:     1.5\n",
       "    rain_gauge_height_m:   1.0\n",
       "    raw_files_merged:      47</pre><div class='xr-wrap' style='display:none'><div class='xr-header'><div class='xr-obj-type'>xarray.Dataset</div></div><ul class='xr-sections'><li class='xr-section-item'><input id='section-43374535-953e-4a4c-b581-ddd6acf4500f' class='xr-section-summary-in' type='checkbox' disabled ><label for='section-43374535-953e-4a4c-b581-ddd6acf4500f' class='xr-section-summary'  title='Expand/collapse section'>Dimensions:</label><div class='xr-section-inline-details'><ul class='xr-dim-list'><li><span class='xr-has-index'>station</span>: 1</li><li><span class='xr-has-index'>time</span>: 305943</li></ul></div><div class='xr-section-details'></div></li><li class='xr-section-item'><input id='section-d57cb497-a92b-4ffb-a25f-fd0f69e54df5' class='xr-section-summary-in' type='checkbox'  checked><label for='section-d57cb497-a92b-4ffb-a25f-fd0f69e54df5' class='xr-section-summary' >Coordinates: <span>(2)</span></label><div class='xr-section-inline-details'></div><div class='xr-section-details'><ul class='xr-var-list'><li class='xr-var-item'><div class='xr-var-name'><span class='xr-has-index'>station</span></div><div class='xr-var-dims'>(station)</div><div class='xr-var-dtype'>object</div><div class='xr-var-preview xr-preview'>&#x27;CIMIS_75&#x27;</div><input id='attrs-4eb6fed2-1fc1-401a-b525-c888f2acda95' class='xr-var-attrs-in' type='checkbox' disabled><label for='attrs-4eb6fed2-1fc1-401a-b525-c888f2acda95' title='Show/Hide attributes'><svg class='icon xr-icon-file-text2'><use xlink:href='#icon-file-text2'></use></svg></label><input id='data-eafb9d94-59ca-4683-a2dc-c047178b2e12' class='xr-var-data-in' type='checkbox'><label for='data-eafb9d94-59ca-4683-a2dc-c047178b2e12' title='Show/Hide data repr'><svg class='icon xr-icon-database'><use xlink:href='#icon-database'></use></svg></label><div class='xr-var-attrs'><dl class='xr-attrs'></dl></div><div class='xr-var-data'><pre>array([&#x27;CIMIS_75&#x27;], dtype=object)</pre></div></li><li class='xr-var-item'><div class='xr-var-name'><span class='xr-has-index'>time</span></div><div class='xr-var-dims'>(time)</div><div class='xr-var-dtype'>datetime64[ns]</div><div class='xr-var-preview xr-preview'>1987-10-07T09:00:00 ... 2022-08-...</div><input id='attrs-b8ab2240-f116-4db5-b0dd-2fc6522b98de' class='xr-var-attrs-in' type='checkbox' disabled><label for='attrs-b8ab2240-f116-4db5-b0dd-2fc6522b98de' title='Show/Hide attributes'><svg class='icon xr-icon-file-text2'><use xlink:href='#icon-file-text2'></use></svg></label><input id='data-ea0fc722-f6c3-42cf-ab44-c83a875c436f' class='xr-var-data-in' type='checkbox'><label for='data-ea0fc722-f6c3-42cf-ab44-c83a875c436f' title='Show/Hide data repr'><svg class='icon xr-icon-database'><use xlink:href='#icon-database'></use></svg></label><div class='xr-var-attrs'><dl class='xr-attrs'></dl></div><div class='xr-var-data'><pre>array([&#x27;1987-10-07T09:00:00.000000000&#x27;, &#x27;1987-10-07T10:00:00.000000000&#x27;,\n",
       "       &#x27;1987-10-07T11:00:00.000000000&#x27;, ..., &#x27;2022-08-31T21:00:00.000000000&#x27;,\n",
       "       &#x27;2022-08-31T22:00:00.000000000&#x27;, &#x27;2022-08-31T23:00:00.000000000&#x27;],\n",
       "      dtype=&#x27;datetime64[ns]&#x27;)</pre></div></li></ul></div></li><li class='xr-section-item'><input id='section-3bc1cbf2-113b-4888-92ac-b7cea0eec9e4' class='xr-section-summary-in' type='checkbox'  ><label for='section-3bc1cbf2-113b-4888-92ac-b7cea0eec9e4' class='xr-section-summary' >Data variables: <span>(30)</span></label><div class='xr-section-inline-details'></div><div class='xr-section-details'><ul class='xr-var-list'><li class='xr-var-item'><div class='xr-var-name'><span>tas</span></div><div class='xr-var-dims'>(station, time)</div><div class='xr-var-dtype'>float64</div><div class='xr-var-preview xr-preview'>...</div><input id='attrs-24a79e21-4ed2-47cd-a082-74aa061ed547' class='xr-var-attrs-in' type='checkbox' ><label for='attrs-24a79e21-4ed2-47cd-a082-74aa061ed547' title='Show/Hide attributes'><svg class='icon xr-icon-file-text2'><use xlink:href='#icon-file-text2'></use></svg></label><input id='data-280eb7a2-1613-40ae-8d27-4d642c7dcf94' class='xr-var-data-in' type='checkbox'><label for='data-280eb7a2-1613-40ae-8d27-4d642c7dcf94' title='Show/Hide data repr'><svg class='icon xr-icon-database'><use xlink:href='#icon-database'></use></svg></label><div class='xr-var-attrs'><dl class='xr-attrs'><dt><span>long_name :</span></dt><dd>air_temperature</dd><dt><span>standard_name :</span></dt><dd>air_temperature</dd><dt><span>units :</span></dt><dd>degree_Kelvin</dd><dt><span>ancillary_variables :</span></dt><dd>tas_qc, tas_eraqc</dd><dt><span>comment :</span></dt><dd>Converted from Celsius to Kelvin.</dd></dl></div><div class='xr-var-data'><pre>[305943 values with dtype=float64]</pre></div></li><li class='xr-var-item'><div class='xr-var-name'><span>pr</span></div><div class='xr-var-dims'>(station, time)</div><div class='xr-var-dtype'>float64</div><div class='xr-var-preview xr-preview'>...</div><input id='attrs-17cd2b77-f288-4220-88ff-0f4c6a57ae28' class='xr-var-attrs-in' type='checkbox' ><label for='attrs-17cd2b77-f288-4220-88ff-0f4c6a57ae28' title='Show/Hide attributes'><svg class='icon xr-icon-file-text2'><use xlink:href='#icon-file-text2'></use></svg></label><input id='data-fa931a77-53c8-4deb-bc68-f03503c0b573' class='xr-var-data-in' type='checkbox'><label for='data-fa931a77-53c8-4deb-bc68-f03503c0b573' title='Show/Hide data repr'><svg class='icon xr-icon-database'><use xlink:href='#icon-database'></use></svg></label><div class='xr-var-attrs'><dl class='xr-attrs'><dt><span>long_name :</span></dt><dd>precipitation_accumulation</dd><dt><span>units :</span></dt><dd>mm/hour</dd><dt><span>ancillary_variables :</span></dt><dd>pr_qc, pr_eraqc</dd><dt><span>comment :</span></dt><dd>Accumulated precipitation.</dd></dl></div><div class='xr-var-data'><pre>[305943 values with dtype=float64]</pre></div></li><li class='xr-var-item'><div class='xr-var-name'><span>hurs</span></div><div class='xr-var-dims'>(station, time)</div><div class='xr-var-dtype'>float64</div><div class='xr-var-preview xr-preview'>...</div><input id='attrs-7bea1a43-f0cc-4cc4-88e3-daae89e977a4' class='xr-var-attrs-in' type='checkbox' ><label for='attrs-7bea1a43-f0cc-4cc4-88e3-daae89e977a4' title='Show/Hide attributes'><svg class='icon xr-icon-file-text2'><use xlink:href='#icon-file-text2'></use></svg></label><input id='data-61624a99-5825-4a6a-8f16-dfa9aeb55e88' class='xr-var-data-in' type='checkbox'><label for='data-61624a99-5825-4a6a-8f16-dfa9aeb55e88' title='Show/Hide data repr'><svg class='icon xr-icon-database'><use xlink:href='#icon-database'></use></svg></label><div class='xr-var-attrs'><dl class='xr-attrs'><dt><span>long_name :</span></dt><dd>relative_humidity</dd><dt><span>standard_name :</span></dt><dd>relative_humidity</dd><dt><span>units :</span></dt><dd>percent</dd><dt><span>ancillary_variables :</span></dt><dd>hurs_qc, hurs_eraqc</dd></dl></div><div class='xr-var-data'><pre>[305943 values with dtype=float64]</pre></div></li><li class='xr-var-item'><div class='xr-var-name'><span>rsds</span></div><div class='xr-var-dims'>(station, time)</div><div class='xr-var-dtype'>float64</div><div class='xr-var-preview xr-preview'>...</div><input id='attrs-04eb7123-eb48-48c6-9643-9373852daebe' class='xr-var-attrs-in' type='checkbox' ><label for='attrs-04eb7123-eb48-48c6-9643-9373852daebe' title='Show/Hide attributes'><svg class='icon xr-icon-file-text2'><use xlink:href='#icon-file-text2'></use></svg></label><input id='data-d36fa772-b8af-4ba4-9809-81a46406b061' class='xr-var-data-in' type='checkbox'><label for='data-d36fa772-b8af-4ba4-9809-81a46406b061' title='Show/Hide data repr'><svg class='icon xr-icon-database'><use xlink:href='#icon-database'></use></svg></label><div class='xr-var-attrs'><dl class='xr-attrs'><dt><span>long_name :</span></dt><dd>solar_radiation</dd><dt><span>standard_name :</span></dt><dd>surface_downwelling_shortwave_flux_in_air</dd><dt><span>units :</span></dt><dd>W m-2</dd><dt><span>ancillary_variables :</span></dt><dd>rsds_qc, rsds_eraqc</dd></dl></div><div class='xr-var-data'><pre>[305943 values with dtype=float64]</pre></div></li><li class='xr-var-item'><div class='xr-var-name'><span>sfcWind</span></div><div class='xr-var-dims'>(station, time)</div><div class='xr-var-dtype'>float64</div><div class='xr-var-preview xr-preview'>...</div><input id='attrs-4a7be97f-b09a-42cf-a186-e4b688f6e1b1' class='xr-var-attrs-in' type='checkbox' ><label for='attrs-4a7be97f-b09a-42cf-a186-e4b688f6e1b1' title='Show/Hide attributes'><svg class='icon xr-icon-file-text2'><use xlink:href='#icon-file-text2'></use></svg></label><input id='data-d40c2639-7b6f-4d7f-87ec-887f5399473f' class='xr-var-data-in' type='checkbox'><label for='data-d40c2639-7b6f-4d7f-87ec-887f5399473f' title='Show/Hide data repr'><svg class='icon xr-icon-database'><use xlink:href='#icon-database'></use></svg></label><div class='xr-var-attrs'><dl class='xr-attrs'><dt><span>long_name :</span></dt><dd>wind_speed</dd><dt><span>standard_name :</span></dt><dd>wind_speed</dd><dt><span>units :</span></dt><dd>m s-1</dd><dt><span>ancillary_variables :</span></dt><dd>sfcWind_qc, sfcWind_eraqc</dd></dl></div><div class='xr-var-data'><pre>[305943 values with dtype=float64]</pre></div></li><li class='xr-var-item'><div class='xr-var-name'><span>sfcWind_dir</span></div><div class='xr-var-dims'>(station, time)</div><div class='xr-var-dtype'>float64</div><div class='xr-var-preview xr-preview'>...</div><input id='attrs-af8206fc-e1e5-4bea-b8a0-b733ac5f3a04' class='xr-var-attrs-in' type='checkbox' ><label for='attrs-af8206fc-e1e5-4bea-b8a0-b733ac5f3a04' title='Show/Hide attributes'><svg class='icon xr-icon-file-text2'><use xlink:href='#icon-file-text2'></use></svg></label><input id='data-3efed817-f66a-442e-baed-577934f43d09' class='xr-var-data-in' type='checkbox'><label for='data-3efed817-f66a-442e-baed-577934f43d09' title='Show/Hide data repr'><svg class='icon xr-icon-database'><use xlink:href='#icon-database'></use></svg></label><div class='xr-var-attrs'><dl class='xr-attrs'><dt><span>long_name :</span></dt><dd>wind_direction</dd><dt><span>standard_name :</span></dt><dd>wind_from_direction</dd><dt><span>units :</span></dt><dd>degrees_clockwise_from_north</dd><dt><span>ancillary_variables :</span></dt><dd>sfcWind_dir_qc, sfcWind_dir_eraqc</dd><dt><span>comment :</span></dt><dd>Wind direction is defined by the direction that the wind is coming from (i.e., a northerly wind originates in the north and blows towards the south).</dd></dl></div><div class='xr-var-data'><pre>[305943 values with dtype=float64]</pre></div></li><li class='xr-var-item'><div class='xr-var-name'><span>pr_qc</span></div><div class='xr-var-dims'>(station, time)</div><div class='xr-var-dtype'>object</div><div class='xr-var-preview xr-preview'>...</div><input id='attrs-71a622bf-d108-4ebd-a8f4-4ef892dbb471' class='xr-var-attrs-in' type='checkbox' ><label for='attrs-71a622bf-d108-4ebd-a8f4-4ef892dbb471' title='Show/Hide attributes'><svg class='icon xr-icon-file-text2'><use xlink:href='#icon-file-text2'></use></svg></label><input id='data-e67796b7-d9b0-4b50-a27d-5cf016ea8283' class='xr-var-data-in' type='checkbox'><label for='data-e67796b7-d9b0-4b50-a27d-5cf016ea8283' title='Show/Hide data repr'><svg class='icon xr-icon-database'><use xlink:href='#icon-database'></use></svg></label><div class='xr-var-attrs'><dl class='xr-attrs'><dt><span>flag_values :</span></dt><dd>M P Q R Y</dd><dt><span>flag_meanings :</span></dt><dd>See QA/QC csv for network.</dd></dl></div><div class='xr-var-data'><pre>[305943 values with dtype=object]</pre></div></li><li class='xr-var-item'><div class='xr-var-name'><span>rsds_qc</span></div><div class='xr-var-dims'>(station, time)</div><div class='xr-var-dtype'>object</div><div class='xr-var-preview xr-preview'>...</div><input id='attrs-7e4533dd-a0bf-4cc7-8f5e-e8f1c42e1fc2' class='xr-var-attrs-in' type='checkbox' ><label for='attrs-7e4533dd-a0bf-4cc7-8f5e-e8f1c42e1fc2' title='Show/Hide attributes'><svg class='icon xr-icon-file-text2'><use xlink:href='#icon-file-text2'></use></svg></label><input id='data-c022fed9-5bc0-4cab-a5fc-0c744d02e048' class='xr-var-data-in' type='checkbox'><label for='data-c022fed9-5bc0-4cab-a5fc-0c744d02e048' title='Show/Hide data repr'><svg class='icon xr-icon-database'><use xlink:href='#icon-database'></use></svg></label><div class='xr-var-attrs'><dl class='xr-attrs'><dt><span>flag_values :</span></dt><dd>M P R S Y</dd><dt><span>flag_meanings :</span></dt><dd>See QA/QC csv for network.</dd></dl></div><div class='xr-var-data'><pre>[305943 values with dtype=object]</pre></div></li><li class='xr-var-item'><div class='xr-var-name'><span>pvp_derived_qc</span></div><div class='xr-var-dims'>(station, time)</div><div class='xr-var-dtype'>object</div><div class='xr-var-preview xr-preview'>...</div><input id='attrs-ccf4903f-6b83-424f-950d-4d74dd18ca42' class='xr-var-attrs-in' type='checkbox' ><label for='attrs-ccf4903f-6b83-424f-950d-4d74dd18ca42' title='Show/Hide attributes'><svg class='icon xr-icon-file-text2'><use xlink:href='#icon-file-text2'></use></svg></label><input id='data-63684cc0-0cb6-4887-813f-f8a0a219f48f' class='xr-var-data-in' type='checkbox'><label for='data-63684cc0-0cb6-4887-813f-f8a0a219f48f' title='Show/Hide data repr'><svg class='icon xr-icon-database'><use xlink:href='#icon-database'></use></svg></label><div class='xr-var-attrs'><dl class='xr-attrs'><dt><span>flag_values :</span></dt><dd>M P Q R S Y</dd><dt><span>flag_meanings :</span></dt><dd>See QA/QC csv for network.</dd></dl></div><div class='xr-var-data'><pre>[305943 values with dtype=object]</pre></div></li><li class='xr-var-item'><div class='xr-var-name'><span>tas_qc</span></div><div class='xr-var-dims'>(station, time)</div><div class='xr-var-dtype'>object</div><div class='xr-var-preview xr-preview'>...</div><input id='attrs-918a3e04-7306-437a-863e-d6359cb22e48' class='xr-var-attrs-in' type='checkbox' ><label for='attrs-918a3e04-7306-437a-863e-d6359cb22e48' title='Show/Hide attributes'><svg class='icon xr-icon-file-text2'><use xlink:href='#icon-file-text2'></use></svg></label><input id='data-37000a27-7a15-4e89-ac27-c41dfe7b8aa4' class='xr-var-data-in' type='checkbox'><label for='data-37000a27-7a15-4e89-ac27-c41dfe7b8aa4' title='Show/Hide data repr'><svg class='icon xr-icon-database'><use xlink:href='#icon-database'></use></svg></label><div class='xr-var-attrs'><dl class='xr-attrs'><dt><span>flag_values :</span></dt><dd>M P R S Y</dd><dt><span>flag_meanings :</span></dt><dd>See QA/QC csv for network.</dd></dl></div><div class='xr-var-data'><pre>[305943 values with dtype=object]</pre></div></li><li class='xr-var-item'><div class='xr-var-name'><span>hurs_qc</span></div><div class='xr-var-dims'>(station, time)</div><div class='xr-var-dtype'>object</div><div class='xr-var-preview xr-preview'>...</div><input id='attrs-b2a539ff-1b62-4bec-807e-e32e363d8a97' class='xr-var-attrs-in' type='checkbox' ><label for='attrs-b2a539ff-1b62-4bec-807e-e32e363d8a97' title='Show/Hide attributes'><svg class='icon xr-icon-file-text2'><use xlink:href='#icon-file-text2'></use></svg></label><input id='data-e3d83da9-17a8-4bfd-9584-fdd64e5de9a0' class='xr-var-data-in' type='checkbox'><label for='data-e3d83da9-17a8-4bfd-9584-fdd64e5de9a0' title='Show/Hide data repr'><svg class='icon xr-icon-database'><use xlink:href='#icon-database'></use></svg></label><div class='xr-var-attrs'><dl class='xr-attrs'><dt><span>flag_values :</span></dt><dd>M Q R S Y</dd><dt><span>flag_meanings :</span></dt><dd>See QA/QC csv for network.</dd></dl></div><div class='xr-var-data'><pre>[305943 values with dtype=object]</pre></div></li><li class='xr-var-item'><div class='xr-var-name'><span>tdps_derived_qc</span></div><div class='xr-var-dims'>(station, time)</div><div class='xr-var-dtype'>object</div><div class='xr-var-preview xr-preview'>...</div><input id='attrs-f3e79907-aa84-4692-9032-b9bfb425f1b2' class='xr-var-attrs-in' type='checkbox' ><label for='attrs-f3e79907-aa84-4692-9032-b9bfb425f1b2' title='Show/Hide attributes'><svg class='icon xr-icon-file-text2'><use xlink:href='#icon-file-text2'></use></svg></label><input id='data-4ef6ad83-85e2-4ff8-878d-a3d843ab080e' class='xr-var-data-in' type='checkbox'><label for='data-4ef6ad83-85e2-4ff8-878d-a3d843ab080e' title='Show/Hide data repr'><svg class='icon xr-icon-database'><use xlink:href='#icon-database'></use></svg></label><div class='xr-var-attrs'><dl class='xr-attrs'><dt><span>flag_values :</span></dt><dd>M Q R S Y</dd><dt><span>flag_meanings :</span></dt><dd>See QA/QC csv for network.</dd></dl></div><div class='xr-var-data'><pre>[305943 values with dtype=object]</pre></div></li><li class='xr-var-item'><div class='xr-var-name'><span>sfcWind_qc</span></div><div class='xr-var-dims'>(station, time)</div><div class='xr-var-dtype'>object</div><div class='xr-var-preview xr-preview'>...</div><input id='attrs-d13bc290-58d7-47ae-b065-ca16da3cf37f' class='xr-var-attrs-in' type='checkbox' ><label for='attrs-d13bc290-58d7-47ae-b065-ca16da3cf37f' title='Show/Hide attributes'><svg class='icon xr-icon-file-text2'><use xlink:href='#icon-file-text2'></use></svg></label><input id='data-5c2b9816-68df-48d9-b9ef-c7158162f607' class='xr-var-data-in' type='checkbox'><label for='data-5c2b9816-68df-48d9-b9ef-c7158162f607' title='Show/Hide data repr'><svg class='icon xr-icon-database'><use xlink:href='#icon-database'></use></svg></label><div class='xr-var-attrs'><dl class='xr-attrs'><dt><span>flag_values :</span></dt><dd>I M P R S Y</dd><dt><span>flag_meanings :</span></dt><dd>See QA/QC csv for network.</dd></dl></div><div class='xr-var-data'><pre>[305943 values with dtype=object]</pre></div></li><li class='xr-var-item'><div class='xr-var-name'><span>sfcWind_dir_qc</span></div><div class='xr-var-dims'>(station, time)</div><div class='xr-var-dtype'>object</div><div class='xr-var-preview xr-preview'>...</div><input id='attrs-23a81b67-c3c2-4348-9143-ecc2659aa587' class='xr-var-attrs-in' type='checkbox' ><label for='attrs-23a81b67-c3c2-4348-9143-ecc2659aa587' title='Show/Hide attributes'><svg class='icon xr-icon-file-text2'><use xlink:href='#icon-file-text2'></use></svg></label><input id='data-5871e349-5ba2-42dd-84a9-e45d15479c6a' class='xr-var-data-in' type='checkbox'><label for='data-5871e349-5ba2-42dd-84a9-e45d15479c6a' title='Show/Hide data repr'><svg class='icon xr-icon-database'><use xlink:href='#icon-database'></use></svg></label><div class='xr-var-attrs'><dl class='xr-attrs'><dt><span>flag_values :</span></dt><dd>I M P Q R</dd><dt><span>flag_meanings :</span></dt><dd>See QA/QC csv for network.</dd></dl></div><div class='xr-var-data'><pre>[305943 values with dtype=object]</pre></div></li><li class='xr-var-item'><div class='xr-var-name'><span>elevation</span></div><div class='xr-var-dims'>(station, time)</div><div class='xr-var-dtype'>float64</div><div class='xr-var-preview xr-preview'>...</div><input id='attrs-ce808e00-1d98-4aef-8ad9-179a0842e8e2' class='xr-var-attrs-in' type='checkbox' ><label for='attrs-ce808e00-1d98-4aef-8ad9-179a0842e8e2' title='Show/Hide attributes'><svg class='icon xr-icon-file-text2'><use xlink:href='#icon-file-text2'></use></svg></label><input id='data-148ff7cb-ec54-42af-9634-f14208449056' class='xr-var-data-in' type='checkbox'><label for='data-148ff7cb-ec54-42af-9634-f14208449056' title='Show/Hide data repr'><svg class='icon xr-icon-database'><use xlink:href='#icon-database'></use></svg></label><div class='xr-var-attrs'><dl class='xr-attrs'><dt><span>standard_name :</span></dt><dd>height_above_mean_sea_level</dd><dt><span>long_name :</span></dt><dd>station_elevation</dd><dt><span>units :</span></dt><dd>meters</dd><dt><span>positive :</span></dt><dd>up</dd><dt><span>comment :</span></dt><dd>Converted from feet to meters.</dd><dt><span>ancillary_variables :</span></dt><dd>elevation_eraqc</dd></dl></div><div class='xr-var-data'><pre>[305943 values with dtype=float64]</pre></div></li><li class='xr-var-item'><div class='xr-var-name'><span>tdps_derived</span></div><div class='xr-var-dims'>(station, time)</div><div class='xr-var-dtype'>float64</div><div class='xr-var-preview xr-preview'>...</div><input id='attrs-a5da8d7a-730f-4a9b-83c2-60e9c0be3d7d' class='xr-var-attrs-in' type='checkbox' ><label for='attrs-a5da8d7a-730f-4a9b-83c2-60e9c0be3d7d' title='Show/Hide attributes'><svg class='icon xr-icon-file-text2'><use xlink:href='#icon-file-text2'></use></svg></label><input id='data-2657d7a5-c142-48ad-ba8b-806c2368601e' class='xr-var-data-in' type='checkbox'><label for='data-2657d7a5-c142-48ad-ba8b-806c2368601e' title='Show/Hide data repr'><svg class='icon xr-icon-database'><use xlink:href='#icon-database'></use></svg></label><div class='xr-var-attrs'><dl class='xr-attrs'><dt><span>long_name :</span></dt><dd>dew_point_temperature</dd><dt><span>standard_name :</span></dt><dd>dew_point_temperature</dd><dt><span>units :</span></dt><dd>degree_Kelvin</dd><dt><span>ancillary_variables :</span></dt><dd>tdps_derived_qc, tdps_derived_eraqc</dd><dt><span>comment :</span></dt><dd>Derived by CIMIS from vapor pressure and air temperature. Converted from Celsius to Kelvin.</dd></dl></div><div class='xr-var-data'><pre>[305943 values with dtype=float64]</pre></div></li><li class='xr-var-item'><div class='xr-var-name'><span>pvp_derived</span></div><div class='xr-var-dims'>(station, time)</div><div class='xr-var-dtype'>float64</div><div class='xr-var-preview xr-preview'>...</div><input id='attrs-33d0099c-a62e-4beb-aa5a-d839cb946928' class='xr-var-attrs-in' type='checkbox' ><label for='attrs-33d0099c-a62e-4beb-aa5a-d839cb946928' title='Show/Hide attributes'><svg class='icon xr-icon-file-text2'><use xlink:href='#icon-file-text2'></use></svg></label><input id='data-69362c7a-1fe2-41bf-93b0-19d7532e6f5c' class='xr-var-data-in' type='checkbox'><label for='data-69362c7a-1fe2-41bf-93b0-19d7532e6f5c' title='Show/Hide data repr'><svg class='icon xr-icon-database'><use xlink:href='#icon-database'></use></svg></label><div class='xr-var-attrs'><dl class='xr-attrs'><dt><span>long_name :</span></dt><dd>partial_vapor_pressure</dd><dt><span>standard_name :</span></dt><dd>water_vapor_partial_pressure_in_air</dd><dt><span>units :</span></dt><dd>Pa</dd><dt><span>ancillary_variables :</span></dt><dd>pvp_qc, pvp_derived_eraqc</dd><dt><span>comment :</span></dt><dd>Derived by CIMIS from relative humidity and air temperature measurements. Converted from kPa to Pa.</dd></dl></div><div class='xr-var-data'><pre>[305943 values with dtype=float64]</pre></div></li><li class='xr-var-item'><div class='xr-var-name'><span>lat</span></div><div class='xr-var-dims'>(station, time)</div><div class='xr-var-dtype'>float64</div><div class='xr-var-preview xr-preview'>...</div><input id='attrs-224dc91a-376f-4a72-b9a8-485c9e9c2dc1' class='xr-var-attrs-in' type='checkbox' disabled><label for='attrs-224dc91a-376f-4a72-b9a8-485c9e9c2dc1' title='Show/Hide attributes'><svg class='icon xr-icon-file-text2'><use xlink:href='#icon-file-text2'></use></svg></label><input id='data-8b4ee797-192e-4251-9413-ae2da684b628' class='xr-var-data-in' type='checkbox'><label for='data-8b4ee797-192e-4251-9413-ae2da684b628' title='Show/Hide data repr'><svg class='icon xr-icon-database'><use xlink:href='#icon-database'></use></svg></label><div class='xr-var-attrs'><dl class='xr-attrs'></dl></div><div class='xr-var-data'><pre>[305943 values with dtype=float64]</pre></div></li><li class='xr-var-item'><div class='xr-var-name'><span>lon</span></div><div class='xr-var-dims'>(station, time)</div><div class='xr-var-dtype'>float64</div><div class='xr-var-preview xr-preview'>...</div><input id='attrs-3ccde924-77ac-439f-8688-ae9b00b8bb7c' class='xr-var-attrs-in' type='checkbox' disabled><label for='attrs-3ccde924-77ac-439f-8688-ae9b00b8bb7c' title='Show/Hide attributes'><svg class='icon xr-icon-file-text2'><use xlink:href='#icon-file-text2'></use></svg></label><input id='data-75315a0c-9df8-46c1-82c3-4746aa2dc235' class='xr-var-data-in' type='checkbox'><label for='data-75315a0c-9df8-46c1-82c3-4746aa2dc235' title='Show/Hide data repr'><svg class='icon xr-icon-database'><use xlink:href='#icon-database'></use></svg></label><div class='xr-var-attrs'><dl class='xr-attrs'></dl></div><div class='xr-var-data'><pre>[305943 values with dtype=float64]</pre></div></li><li class='xr-var-item'><div class='xr-var-name'><span>tas_eraqc</span></div><div class='xr-var-dims'>(station, time)</div><div class='xr-var-dtype'>float64</div><div class='xr-var-preview xr-preview'>...</div><input id='attrs-e31c6ab0-8b27-49d4-bc97-94c1f5394f5d' class='xr-var-attrs-in' type='checkbox' disabled><label for='attrs-e31c6ab0-8b27-49d4-bc97-94c1f5394f5d' title='Show/Hide attributes'><svg class='icon xr-icon-file-text2'><use xlink:href='#icon-file-text2'></use></svg></label><input id='data-6a268b85-482f-4c8d-8100-008520caf298' class='xr-var-data-in' type='checkbox'><label for='data-6a268b85-482f-4c8d-8100-008520caf298' title='Show/Hide data repr'><svg class='icon xr-icon-database'><use xlink:href='#icon-database'></use></svg></label><div class='xr-var-attrs'><dl class='xr-attrs'></dl></div><div class='xr-var-data'><pre>[305943 values with dtype=float64]</pre></div></li><li class='xr-var-item'><div class='xr-var-name'><span>pr_eraqc</span></div><div class='xr-var-dims'>(station, time)</div><div class='xr-var-dtype'>float64</div><div class='xr-var-preview xr-preview'>...</div><input id='attrs-9590fefe-9de1-49de-a96d-2f05c2aa7d6a' class='xr-var-attrs-in' type='checkbox' disabled><label for='attrs-9590fefe-9de1-49de-a96d-2f05c2aa7d6a' title='Show/Hide attributes'><svg class='icon xr-icon-file-text2'><use xlink:href='#icon-file-text2'></use></svg></label><input id='data-f521e652-608a-4419-ae61-f8b204a6b315' class='xr-var-data-in' type='checkbox'><label for='data-f521e652-608a-4419-ae61-f8b204a6b315' title='Show/Hide data repr'><svg class='icon xr-icon-database'><use xlink:href='#icon-database'></use></svg></label><div class='xr-var-attrs'><dl class='xr-attrs'></dl></div><div class='xr-var-data'><pre>[305943 values with dtype=float64]</pre></div></li><li class='xr-var-item'><div class='xr-var-name'><span>hurs_eraqc</span></div><div class='xr-var-dims'>(station, time)</div><div class='xr-var-dtype'>float64</div><div class='xr-var-preview xr-preview'>...</div><input id='attrs-2d25e84e-49fd-4e1b-b3a2-7b278b9d27b9' class='xr-var-attrs-in' type='checkbox' disabled><label for='attrs-2d25e84e-49fd-4e1b-b3a2-7b278b9d27b9' title='Show/Hide attributes'><svg class='icon xr-icon-file-text2'><use xlink:href='#icon-file-text2'></use></svg></label><input id='data-e72b70fa-bf06-4eda-92c5-3870db3916df' class='xr-var-data-in' type='checkbox'><label for='data-e72b70fa-bf06-4eda-92c5-3870db3916df' title='Show/Hide data repr'><svg class='icon xr-icon-database'><use xlink:href='#icon-database'></use></svg></label><div class='xr-var-attrs'><dl class='xr-attrs'></dl></div><div class='xr-var-data'><pre>[305943 values with dtype=float64]</pre></div></li><li class='xr-var-item'><div class='xr-var-name'><span>rsds_eraqc</span></div><div class='xr-var-dims'>(station, time)</div><div class='xr-var-dtype'>float64</div><div class='xr-var-preview xr-preview'>...</div><input id='attrs-73cebf13-9a6d-415b-ba2b-435f6bf8fc4b' class='xr-var-attrs-in' type='checkbox' disabled><label for='attrs-73cebf13-9a6d-415b-ba2b-435f6bf8fc4b' title='Show/Hide attributes'><svg class='icon xr-icon-file-text2'><use xlink:href='#icon-file-text2'></use></svg></label><input id='data-a6868664-8aa3-4723-a6cc-d82db47c9e21' class='xr-var-data-in' type='checkbox'><label for='data-a6868664-8aa3-4723-a6cc-d82db47c9e21' title='Show/Hide data repr'><svg class='icon xr-icon-database'><use xlink:href='#icon-database'></use></svg></label><div class='xr-var-attrs'><dl class='xr-attrs'></dl></div><div class='xr-var-data'><pre>[305943 values with dtype=float64]</pre></div></li><li class='xr-var-item'><div class='xr-var-name'><span>sfcWind_eraqc</span></div><div class='xr-var-dims'>(station, time)</div><div class='xr-var-dtype'>float64</div><div class='xr-var-preview xr-preview'>...</div><input id='attrs-a2ca09ab-7f4e-43de-bf4f-009f933dc7a4' class='xr-var-attrs-in' type='checkbox' disabled><label for='attrs-a2ca09ab-7f4e-43de-bf4f-009f933dc7a4' title='Show/Hide attributes'><svg class='icon xr-icon-file-text2'><use xlink:href='#icon-file-text2'></use></svg></label><input id='data-6ecb2e1d-00c7-4d40-903a-16f4968b9a1a' class='xr-var-data-in' type='checkbox'><label for='data-6ecb2e1d-00c7-4d40-903a-16f4968b9a1a' title='Show/Hide data repr'><svg class='icon xr-icon-database'><use xlink:href='#icon-database'></use></svg></label><div class='xr-var-attrs'><dl class='xr-attrs'></dl></div><div class='xr-var-data'><pre>[305943 values with dtype=float64]</pre></div></li><li class='xr-var-item'><div class='xr-var-name'><span>sfcWind_dir_eraqc</span></div><div class='xr-var-dims'>(station, time)</div><div class='xr-var-dtype'>float64</div><div class='xr-var-preview xr-preview'>...</div><input id='attrs-086a14d2-3b5a-4cc3-a3ce-c85be5274201' class='xr-var-attrs-in' type='checkbox' disabled><label for='attrs-086a14d2-3b5a-4cc3-a3ce-c85be5274201' title='Show/Hide attributes'><svg class='icon xr-icon-file-text2'><use xlink:href='#icon-file-text2'></use></svg></label><input id='data-a9e2439d-f6e6-4dca-8e9d-67aca7c91f31' class='xr-var-data-in' type='checkbox'><label for='data-a9e2439d-f6e6-4dca-8e9d-67aca7c91f31' title='Show/Hide data repr'><svg class='icon xr-icon-database'><use xlink:href='#icon-database'></use></svg></label><div class='xr-var-attrs'><dl class='xr-attrs'></dl></div><div class='xr-var-data'><pre>[305943 values with dtype=float64]</pre></div></li><li class='xr-var-item'><div class='xr-var-name'><span>elevation_eraqc</span></div><div class='xr-var-dims'>(station, time)</div><div class='xr-var-dtype'>float64</div><div class='xr-var-preview xr-preview'>...</div><input id='attrs-fb7a8e0f-3346-4863-bea9-2c609ae90302' class='xr-var-attrs-in' type='checkbox' disabled><label for='attrs-fb7a8e0f-3346-4863-bea9-2c609ae90302' title='Show/Hide attributes'><svg class='icon xr-icon-file-text2'><use xlink:href='#icon-file-text2'></use></svg></label><input id='data-b11b3b2d-9573-4833-aec8-56a2e7107cfd' class='xr-var-data-in' type='checkbox'><label for='data-b11b3b2d-9573-4833-aec8-56a2e7107cfd' title='Show/Hide data repr'><svg class='icon xr-icon-database'><use xlink:href='#icon-database'></use></svg></label><div class='xr-var-attrs'><dl class='xr-attrs'></dl></div><div class='xr-var-data'><pre>[305943 values with dtype=float64]</pre></div></li><li class='xr-var-item'><div class='xr-var-name'><span>tdps_derived_eraqc</span></div><div class='xr-var-dims'>(station, time)</div><div class='xr-var-dtype'>float64</div><div class='xr-var-preview xr-preview'>...</div><input id='attrs-53b788e3-1859-464f-84c0-2c49de2b05e8' class='xr-var-attrs-in' type='checkbox' disabled><label for='attrs-53b788e3-1859-464f-84c0-2c49de2b05e8' title='Show/Hide attributes'><svg class='icon xr-icon-file-text2'><use xlink:href='#icon-file-text2'></use></svg></label><input id='data-a44d3a73-aaea-4771-9285-93cc42e4b1c4' class='xr-var-data-in' type='checkbox'><label for='data-a44d3a73-aaea-4771-9285-93cc42e4b1c4' title='Show/Hide data repr'><svg class='icon xr-icon-database'><use xlink:href='#icon-database'></use></svg></label><div class='xr-var-attrs'><dl class='xr-attrs'></dl></div><div class='xr-var-data'><pre>[305943 values with dtype=float64]</pre></div></li><li class='xr-var-item'><div class='xr-var-name'><span>pvp_derived_eraqc</span></div><div class='xr-var-dims'>(station, time)</div><div class='xr-var-dtype'>float64</div><div class='xr-var-preview xr-preview'>...</div><input id='attrs-6735f77f-6b05-4dcd-9fa8-3de3dfbe27dc' class='xr-var-attrs-in' type='checkbox' disabled><label for='attrs-6735f77f-6b05-4dcd-9fa8-3de3dfbe27dc' title='Show/Hide attributes'><svg class='icon xr-icon-file-text2'><use xlink:href='#icon-file-text2'></use></svg></label><input id='data-2129f6b8-854d-409a-8d01-adc56474708e' class='xr-var-data-in' type='checkbox'><label for='data-2129f6b8-854d-409a-8d01-adc56474708e' title='Show/Hide data repr'><svg class='icon xr-icon-database'><use xlink:href='#icon-database'></use></svg></label><div class='xr-var-attrs'><dl class='xr-attrs'></dl></div><div class='xr-var-data'><pre>[305943 values with dtype=float64]</pre></div></li><li class='xr-var-item'><div class='xr-var-name'><span>anemometer_height_m</span></div><div class='xr-var-dims'>(station, time)</div><div class='xr-var-dtype'>float64</div><div class='xr-var-preview xr-preview'>...</div><input id='attrs-85a95d26-99eb-4a89-bf61-0f3f44397633' class='xr-var-attrs-in' type='checkbox' disabled><label for='attrs-85a95d26-99eb-4a89-bf61-0f3f44397633' title='Show/Hide attributes'><svg class='icon xr-icon-file-text2'><use xlink:href='#icon-file-text2'></use></svg></label><input id='data-f7c24d48-68ee-450f-aed2-422fd44e754c' class='xr-var-data-in' type='checkbox'><label for='data-f7c24d48-68ee-450f-aed2-422fd44e754c' title='Show/Hide data repr'><svg class='icon xr-icon-database'><use xlink:href='#icon-database'></use></svg></label><div class='xr-var-attrs'><dl class='xr-attrs'></dl></div><div class='xr-var-data'><pre>[305943 values with dtype=float64]</pre></div></li><li class='xr-var-item'><div class='xr-var-name'><span>thermometer_height_m</span></div><div class='xr-var-dims'>(station, time)</div><div class='xr-var-dtype'>float64</div><div class='xr-var-preview xr-preview'>...</div><input id='attrs-ea82697d-05b6-412f-99dd-7cda4140dd58' class='xr-var-attrs-in' type='checkbox' disabled><label for='attrs-ea82697d-05b6-412f-99dd-7cda4140dd58' title='Show/Hide attributes'><svg class='icon xr-icon-file-text2'><use xlink:href='#icon-file-text2'></use></svg></label><input id='data-05d36161-0490-484a-82c3-aa9317cddeae' class='xr-var-data-in' type='checkbox'><label for='data-05d36161-0490-484a-82c3-aa9317cddeae' title='Show/Hide data repr'><svg class='icon xr-icon-database'><use xlink:href='#icon-database'></use></svg></label><div class='xr-var-attrs'><dl class='xr-attrs'></dl></div><div class='xr-var-data'><pre>[305943 values with dtype=float64]</pre></div></li></ul></div></li><li class='xr-section-item'><input id='section-05f9f2c5-e9c6-488c-9287-bc6c93dbee59' class='xr-section-summary-in' type='checkbox'  ><label for='section-05f9f2c5-e9c6-488c-9287-bc6c93dbee59' class='xr-section-summary' >Attributes: <span>(16)</span></label><div class='xr-section-inline-details'></div><div class='xr-section-details'><dl class='xr-attrs'><dt><span>title :</span></dt><dd>CIMIS quality controlled</dd><dt><span>institution :</span></dt><dd>Eagle Rock Analytics / Cal Adapt</dd><dt><span>source :</span></dt><dd></dd><dt><span>history :</span></dt><dd>CIMIS_clean.py script run on 02-13-2023, 22:25:54 UTC \n",
       "ALLNETWORKS_qaqc.py script run on 08-07-2024, 20:52:09 UTC</dd><dt><span>comment :</span></dt><dd>Intermediate data product: may not have been subject to any cleaning or QA/QC processing \n",
       "An intermediate data product: subject to cleaning but may not be subject to full QA/QC processing.</dd><dt><span>license :</span></dt><dd></dd><dt><span>citation :</span></dt><dd></dd><dt><span>disclaimer :</span></dt><dd>This document was prepared as a result of work sponsored by the California Energy Commission (PIR-19-006). It does not necessarily represent the views of the Energy Commission, its employees, or the State of California. Neither the Commission, the State of California, nor the Commission&#x27;s employees, contractors, or subcontractors makes any warranty, express or implied, or assumes any legal liability for the information in this document; nor does any party represent that the use of this information will not infringe upon privately owned rights. This document has not been approved or disapproved by the Commission, nor has the Commission passed upon the accuracy of the information in this document.</dd><dt><span>station_name :</span></dt><dd>Irvine</dd><dt><span>pyranometer_height_m :</span></dt><dd>2.0</dd><dt><span>wind_vane_height_m :</span></dt><dd>2.0</dd><dt><span>anemometer_height_m :</span></dt><dd>2.0</dd><dt><span>thermometer_height_m :</span></dt><dd>1.5</dd><dt><span>humidity_height_m :</span></dt><dd>1.5</dd><dt><span>rain_gauge_height_m :</span></dt><dd>1.0</dd><dt><span>raw_files_merged :</span></dt><dd>47</dd></dl></div></li></ul></div></div>"
      ],
      "text/plain": [
       "<xarray.Dataset>\n",
       "Dimensions:               (station: 1, time: 305943)\n",
       "Coordinates:\n",
       "  * station               (station) object 'CIMIS_75'\n",
       "  * time                  (time) datetime64[ns] 1987-10-07T09:00:00 ... 2022-...\n",
       "Data variables: (12/30)\n",
       "    tas                   (station, time) float64 ...\n",
       "    pr                    (station, time) float64 ...\n",
       "    hurs                  (station, time) float64 ...\n",
       "    rsds                  (station, time) float64 ...\n",
       "    sfcWind               (station, time) float64 ...\n",
       "    sfcWind_dir           (station, time) float64 ...\n",
       "    ...                    ...\n",
       "    sfcWind_dir_eraqc     (station, time) float64 ...\n",
       "    elevation_eraqc       (station, time) float64 ...\n",
       "    tdps_derived_eraqc    (station, time) float64 ...\n",
       "    pvp_derived_eraqc     (station, time) float64 ...\n",
       "    anemometer_height_m   (station, time) float64 ...\n",
       "    thermometer_height_m  (station, time) float64 ...\n",
       "Attributes: (12/16)\n",
       "    title:                 CIMIS quality controlled\n",
       "    institution:           Eagle Rock Analytics / Cal Adapt\n",
       "    source:                \n",
       "    history:               CIMIS_clean.py script run on 02-13-2023, 22:25:54 ...\n",
       "    comment:               Intermediate data product: may not have been subje...\n",
       "    license:               \n",
       "    ...                    ...\n",
       "    wind_vane_height_m:    2.0\n",
       "    anemometer_height_m:   2.0\n",
       "    thermometer_height_m:  1.5\n",
       "    humidity_height_m:     1.5\n",
       "    rain_gauge_height_m:   1.0\n",
       "    raw_files_merged:      47"
      ]
     },
     "execution_count": 15,
     "metadata": {},
     "output_type": "execute_result"
    }
   ],
   "source": [
    "%%time\n",
    "ds = pull_nc_from_aws(specific_station) # manually retrieve a specific station\n",
    "ds"
   ]
  },
  {
   "cell_type": "code",
   "execution_count": 17,
   "id": "d21bc546-5cc9-4c93-bbbe-2e0deae1ec20",
   "metadata": {
    "execution": {
     "iopub.execute_input": "2024-09-17T19:25:18.054368Z",
     "iopub.status.busy": "2024-09-17T19:25:18.053670Z",
     "iopub.status.idle": "2024-09-17T19:31:30.083603Z",
     "shell.execute_reply": "2024-09-17T19:31:30.082956Z",
     "shell.execute_reply.started": "2024-09-17T19:25:18.054330Z"
    }
   },
   "outputs": [
    {
     "name": "stdout",
     "output_type": "stream",
     "text": [
      "['tas_eraqc', 'pr_eraqc', 'hurs_eraqc', 'rsds_eraqc', 'sfcWind_eraqc', 'sfcWind_dir_eraqc', 'elevation_eraqc', 'tdps_derived_eraqc', 'pvp_derived_eraqc']\n",
      "Filling anemometer_height_m with NaN.\n",
      "Filling thermometer_height_m with NaN.\n"
     ]
    },
    {
     "data": {
      "text/html": [
       "<div>\n",
       "<style scoped>\n",
       "    .dataframe tbody tr th:only-of-type {\n",
       "        vertical-align: middle;\n",
       "    }\n",
       "\n",
       "    .dataframe tbody tr th {\n",
       "        vertical-align: top;\n",
       "    }\n",
       "\n",
       "    .dataframe thead th {\n",
       "        text-align: right;\n",
       "    }\n",
       "</style>\n",
       "<table border=\"1\" class=\"dataframe\">\n",
       "  <thead>\n",
       "    <tr style=\"text-align: right;\">\n",
       "      <th></th>\n",
       "      <th>time</th>\n",
       "      <th>tas</th>\n",
       "      <th>pr</th>\n",
       "      <th>hurs</th>\n",
       "      <th>rsds</th>\n",
       "      <th>sfcWind</th>\n",
       "      <th>sfcWind_dir</th>\n",
       "      <th>pr_qc</th>\n",
       "      <th>rsds_qc</th>\n",
       "      <th>pvp_derived_qc</th>\n",
       "      <th>...</th>\n",
       "      <th>tdps_derived_eraqc</th>\n",
       "      <th>pvp_derived_eraqc</th>\n",
       "      <th>anemometer_height_m</th>\n",
       "      <th>thermometer_height_m</th>\n",
       "      <th>station</th>\n",
       "      <th>hour</th>\n",
       "      <th>day</th>\n",
       "      <th>month</th>\n",
       "      <th>year</th>\n",
       "      <th>date</th>\n",
       "    </tr>\n",
       "  </thead>\n",
       "  <tbody>\n",
       "    <tr>\n",
       "      <th>0</th>\n",
       "      <td>1987-10-07 09:00:00</td>\n",
       "      <td>290.75</td>\n",
       "      <td>0.0</td>\n",
       "      <td>9.0</td>\n",
       "      <td>0.0</td>\n",
       "      <td>0.8</td>\n",
       "      <td>87.1</td>\n",
       "      <td>nan</td>\n",
       "      <td>nan</td>\n",
       "      <td>nan</td>\n",
       "      <td>...</td>\n",
       "      <td>NaN</td>\n",
       "      <td>NaN</td>\n",
       "      <td>NaN</td>\n",
       "      <td>NaN</td>\n",
       "      <td>CIMIS_75</td>\n",
       "      <td>9</td>\n",
       "      <td>7</td>\n",
       "      <td>10</td>\n",
       "      <td>1987</td>\n",
       "      <td>1987-10-07</td>\n",
       "    </tr>\n",
       "    <tr>\n",
       "      <th>1</th>\n",
       "      <td>1987-10-07 10:00:00</td>\n",
       "      <td>290.85</td>\n",
       "      <td>0.0</td>\n",
       "      <td>7.0</td>\n",
       "      <td>-1.0</td>\n",
       "      <td>0.7</td>\n",
       "      <td>76.2</td>\n",
       "      <td>nan</td>\n",
       "      <td>nan</td>\n",
       "      <td>nan</td>\n",
       "      <td>...</td>\n",
       "      <td>NaN</td>\n",
       "      <td>NaN</td>\n",
       "      <td>NaN</td>\n",
       "      <td>NaN</td>\n",
       "      <td>CIMIS_75</td>\n",
       "      <td>10</td>\n",
       "      <td>7</td>\n",
       "      <td>10</td>\n",
       "      <td>1987</td>\n",
       "      <td>1987-10-07</td>\n",
       "    </tr>\n",
       "    <tr>\n",
       "      <th>2</th>\n",
       "      <td>1987-10-07 11:00:00</td>\n",
       "      <td>290.65</td>\n",
       "      <td>0.0</td>\n",
       "      <td>7.0</td>\n",
       "      <td>-1.0</td>\n",
       "      <td>1.0</td>\n",
       "      <td>11.7</td>\n",
       "      <td>nan</td>\n",
       "      <td>nan</td>\n",
       "      <td>nan</td>\n",
       "      <td>...</td>\n",
       "      <td>NaN</td>\n",
       "      <td>NaN</td>\n",
       "      <td>NaN</td>\n",
       "      <td>NaN</td>\n",
       "      <td>CIMIS_75</td>\n",
       "      <td>11</td>\n",
       "      <td>7</td>\n",
       "      <td>10</td>\n",
       "      <td>1987</td>\n",
       "      <td>1987-10-07</td>\n",
       "    </tr>\n",
       "  </tbody>\n",
       "</table>\n",
       "<p>3 rows × 37 columns</p>\n",
       "</div>"
      ],
      "text/plain": [
       "                 time     tas   pr  hurs  rsds  sfcWind  sfcWind_dir pr_qc  \\\n",
       "0 1987-10-07 09:00:00  290.75  0.0   9.0   0.0      0.8         87.1   nan   \n",
       "1 1987-10-07 10:00:00  290.85  0.0   7.0  -1.0      0.7         76.2   nan   \n",
       "2 1987-10-07 11:00:00  290.65  0.0   7.0  -1.0      1.0         11.7   nan   \n",
       "\n",
       "  rsds_qc pvp_derived_qc  ... tdps_derived_eraqc pvp_derived_eraqc  \\\n",
       "0     nan            nan  ...                NaN               NaN   \n",
       "1     nan            nan  ...                NaN               NaN   \n",
       "2     nan            nan  ...                NaN               NaN   \n",
       "\n",
       "  anemometer_height_m thermometer_height_m   station  hour  day  month  year  \\\n",
       "0                 NaN                  NaN  CIMIS_75     9    7     10  1987   \n",
       "1                 NaN                  NaN  CIMIS_75    10    7     10  1987   \n",
       "2                 NaN                  NaN  CIMIS_75    11    7     10  1987   \n",
       "\n",
       "         date  \n",
       "0  1987-10-07  \n",
       "1  1987-10-07  \n",
       "2  1987-10-07  \n",
       "\n",
       "[3 rows x 37 columns]"
      ]
     },
     "execution_count": 17,
     "metadata": {},
     "output_type": "execute_result"
    }
   ],
   "source": [
    "df, MultiIndex, attrs, var_attrs, era_qc_vars = qaqc_ds_to_df(ds)\n",
    "df.head(3)"
   ]
  },
  {
   "cell_type": "code",
   "execution_count": 18,
   "id": "886a2fba-e3a5-4e46-9de2-c76b596a6903",
   "metadata": {
    "execution": {
     "iopub.execute_input": "2024-09-17T19:31:31.771803Z",
     "iopub.status.busy": "2024-09-17T19:31:31.771696Z",
     "iopub.status.idle": "2024-09-17T19:31:31.868143Z",
     "shell.execute_reply": "2024-09-17T19:31:31.867841Z",
     "shell.execute_reply.started": "2024-09-17T19:31:31.771793Z"
    }
   },
   "outputs": [
    {
     "data": {
      "text/plain": [
       "[<matplotlib.lines.Line2D at 0x37682ae50>]"
      ]
     },
     "execution_count": 18,
     "metadata": {},
     "output_type": "execute_result"
    },
    {
     "data": {
      "image/png": "[encoded data removed]",
      "text/plain": [
       "<Figure size 640x480 with 1 Axes>"
      ]
     },
     "metadata": {},
     "output_type": "display_data"
    }
   ],
   "source": [
    "ds.tas_eraqc.plot(marker=\".\", lw=0)"
   ]
  },
  {
   "cell_type": "code",
   "execution_count": 19,
   "id": "27d28ea4-ab39-4d3a-bf49-0a657c2bd481",
   "metadata": {
    "execution": {
     "iopub.execute_input": "2024-09-17T19:31:31.869488Z",
     "iopub.status.busy": "2024-09-17T19:31:31.869361Z",
     "iopub.status.idle": "2024-09-17T19:31:31.952615Z",
     "shell.execute_reply": "2024-09-17T19:31:31.952230Z",
     "shell.execute_reply.started": "2024-09-17T19:31:31.869478Z"
    }
   },
   "outputs": [
    {
     "data": {
      "text/plain": [
       "<AxesSubplot:>"
      ]
     },
     "execution_count": 19,
     "metadata": {},
     "output_type": "execute_result"
    },
    {
     "data": {
      "image/png": "[encoded data removed]",
      "text/plain": [
       "<Figure size 640x480 with 1 Axes>"
      ]
     },
     "metadata": {},
     "output_type": "display_data"
    }
   ],
   "source": [
    "df.tas_eraqc.plot(marker=\".\", lw=0)"
   ]
  },
  {
   "cell_type": "code",
   "execution_count": 96,
   "id": "1a948a14-0098-43fe-b19a-b28b690aea6a",
   "metadata": {
    "execution": {
     "iopub.execute_input": "2024-09-19T23:06:00.074640Z",
     "iopub.status.busy": "2024-09-19T23:06:00.071219Z",
     "iopub.status.idle": "2024-09-19T23:06:23.096849Z",
     "shell.execute_reply": "2024-09-19T23:06:23.096292Z",
     "shell.execute_reply.started": "2024-09-19T23:06:00.074341Z"
    }
   },
   "outputs": [
    {
     "name": "stdout",
     "output_type": "stream",
     "text": [
      "\n",
      "CIMIS_75\n",
      "['1987-10-07T09:00:00.000000000' '2022-08-31T23:00:00.000000000']\n",
      "0.0016898572609930608\n",
      "=============================\n",
      "USW00093184\n",
      "['1940-06-17T22:00:00.000000000' '2024-06-26T01:53:00.000000000']\n",
      "0.9673853504922718\n",
      "\n"
     ]
    }
   ],
   "source": [
    "var = \"hurs\"\n",
    "var = \"tas\"\n",
    "\n",
    "print(\"\\n{}\".format(specific_station))\n",
    "print(df.iloc[[0,-1]]['time'].values)\n",
    "print(len(df[var+\"_eraqc\"].dropna())/len(df[var+\"_eraqc\"]))\n",
    "\n",
    "for i in range(1):\n",
    "    id = ghcnh_stations_df['id'].iloc[i]\n",
    "    ghcnh.read_data_from_url(id, save=True)\n",
    "    ghcnh.convert_df_to_gpd()\n",
    "    tmp_df = ghcnh.station_data.copy()\n",
    "\n",
    "    ghcnh_df, vars = return_ghcn_vars(tmp_df, var)\n",
    "    print(\"=============================\")\n",
    "    print(\"{}\".format(id))\n",
    "    # print(ghcnh_df.iloc[[0,-1]].apply(lambda row: pd.Timestamp(row[\"Year\"],row[\"Month\"],row[\"Day\"],row[\"Hour\"]), axis=1).values)\n",
    "    print(ghcnh_df.iloc[[0,-1]]['time'].values)\n",
    "    print(len(ghcnh_df[vars[var]+'_Quality_Code'].dropna())/len(ghcnh_df[vars[var]+'_Quality_Code']))\n",
    "    \n",
    "    print()"
   ]
  },
  {
   "cell_type": "code",
   "execution_count": 102,
   "id": "5d3d447d-5e16-477b-a91f-047babf1243c",
   "metadata": {
    "execution": {
     "iopub.execute_input": "2024-09-19T23:08:53.304572Z",
     "iopub.status.busy": "2024-09-19T23:08:53.302465Z",
     "iopub.status.idle": "2024-09-19T23:08:53.374890Z",
     "shell.execute_reply": "2024-09-19T23:08:53.374511Z",
     "shell.execute_reply.started": "2024-09-19T23:08:53.304478Z"
    }
   },
   "outputs": [
    {
     "data": {
      "text/plain": [
       "0           1\n",
       "1           1\n",
       "2           1\n",
       "3           1\n",
       "4           1\n",
       "         ... \n",
       "494742    5.0\n",
       "494743    5.0\n",
       "494744    5.0\n",
       "494745    5.0\n",
       "494746    5.0\n",
       "Name: temperature_Quality_Code, Length: 494747, dtype: object"
      ]
     },
     "execution_count": 102,
     "metadata": {},
     "output_type": "execute_result"
    }
   ],
   "source": [
    "ghcnh_df[vars[var]+'_Quality_Code']"
   ]
  },
  {
   "cell_type": "code",
   "execution_count": 98,
   "id": "ff570cb7-8246-41c2-a129-21c77513ed49",
   "metadata": {
    "execution": {
     "iopub.execute_input": "2024-09-19T23:07:42.372366Z",
     "iopub.status.busy": "2024-09-19T23:07:42.370441Z",
     "iopub.status.idle": "2024-09-19T23:07:43.015926Z",
     "shell.execute_reply": "2024-09-19T23:07:43.015589Z",
     "shell.execute_reply.started": "2024-09-19T23:07:42.372270Z"
    }
   },
   "outputs": [
    {
     "data": {
      "text/plain": [
       "<AxesSubplot:>"
      ]
     },
     "execution_count": 98,
     "metadata": {},
     "output_type": "execute_result"
    },
    {
     "data": {
      "image/png": "[encoded data removed]",
      "text/plain": [
       "<Figure size 640x480 with 1 Axes>"
      ]
     },
     "metadata": {},
     "output_type": "display_data"
    }
   ],
   "source": [
    "ghcnh_df[vars[var]].plot()\n",
    "ghcnh_df.dropna(subset=vars[var]+\"_Quality_Code\")[vars[var]].plot(marker=\".\", lw=0)"
   ]
  },
  {
   "cell_type": "code",
   "execution_count": 127,
   "id": "ff3b3a7a-8115-4f65-9687-f2263d2098ed",
   "metadata": {
    "execution": {
     "iopub.execute_input": "2024-09-19T23:16:25.813248Z",
     "iopub.status.busy": "2024-09-19T23:16:25.811922Z",
     "iopub.status.idle": "2024-09-19T23:16:25.955361Z",
     "shell.execute_reply": "2024-09-19T23:16:25.955012Z",
     "shell.execute_reply.started": "2024-09-19T23:16:25.813146Z"
    }
   },
   "outputs": [
    {
     "data": {
      "text/plain": [
       "<AxesSubplot:xlabel='time'>"
      ]
     },
     "execution_count": 127,
     "metadata": {},
     "output_type": "execute_result"
    },
    {
     "data": {
      "image/png": "[encoded data removed]",
      "text/plain": [
       "<Figure size 1000x300 with 1 Axes>"
      ]
     },
     "metadata": {},
     "output_type": "display_data"
    }
   ],
   "source": [
    "fig,ax = plt.subplots(figsize=(10,3))\n",
    "pd.DataFrame(ghcnh_df).iloc[5000:5200].plot(x=\"time\",y=\"temperature\",marker=\"x\", lw=0, ax=ax)\n",
    "pd.DataFrame(ghcnh_df).iloc[5000:5200].dropna(subset=vars[var]+\"_Quality_Code\").plot(x=\"time\",y=\"temperature\",marker=\"o\", mfc=\"none\", lw=0, ax=ax)"
   ]
  },
  {
   "cell_type": "code",
   "execution_count": 137,
   "id": "f34191d1-fa6f-46d7-86fd-dc888aad0477",
   "metadata": {
    "execution": {
     "iopub.execute_input": "2024-09-19T23:19:06.965704Z",
     "iopub.status.busy": "2024-09-19T23:19:06.964817Z",
     "iopub.status.idle": "2024-09-19T23:19:07.125857Z",
     "shell.execute_reply": "2024-09-19T23:19:07.125525Z",
     "shell.execute_reply.started": "2024-09-19T23:19:06.965629Z"
    }
   },
   "outputs": [
    {
     "data": {
      "text/plain": [
       "0.9673853504922718"
      ]
     },
     "execution_count": 137,
     "metadata": {},
     "output_type": "execute_result"
    }
   ],
   "source": [
    "len(ghcnh_df.dropna(subset=vars[var]+\"_Quality_Code\"))/len(ghcnh_df)"
   ]
  },
  {
   "cell_type": "code",
   "execution_count": 87,
   "id": "d3d25c1b-8924-4dbd-9505-ce9553752465",
   "metadata": {
    "execution": {
     "iopub.execute_input": "2024-09-19T23:01:45.356434Z",
     "iopub.status.busy": "2024-09-19T23:01:45.355392Z",
     "iopub.status.idle": "2024-09-19T23:01:45.421673Z",
     "shell.execute_reply": "2024-09-19T23:01:45.421268Z",
     "shell.execute_reply.started": "2024-09-19T23:01:45.356375Z"
    }
   },
   "outputs": [
    {
     "name": "stdout",
     "output_type": "stream",
     "text": [
      "0.8658175736523864\n"
     ]
    }
   ],
   "source": [
    "print(len(ghcnh_df[vars[var]+'_Quality_Code'].dropna())/len(ghcnh_df[vars[var]+'_Quality_Code']))"
   ]
  },
  {
   "cell_type": "code",
   "execution_count": 89,
   "id": "b9a048e6-5f83-4dbd-b09d-ee039f12e62f",
   "metadata": {
    "execution": {
     "iopub.execute_input": "2024-09-19T23:01:59.728347Z",
     "iopub.status.busy": "2024-09-19T23:01:59.727255Z",
     "iopub.status.idle": "2024-09-19T23:01:59.776655Z",
     "shell.execute_reply": "2024-09-19T23:01:59.776332Z",
     "shell.execute_reply.started": "2024-09-19T23:01:59.728263Z"
    }
   },
   "outputs": [
    {
     "data": {
      "text/plain": [
       "array(['U', nan, '1', 'dCN', 'dC', 'CN', 'dCNE', 'E', 'dNE', 'dE', 'NE',\n",
       "       'N', 'dCE', '2', 1.0, 2.0, 'dN', 'SN', 'd', 4.0, '4', 'K', 5.0,\n",
       "       6.0, '5', '6', 'S', 7.0, '7', 'dCSN'], dtype=object)"
      ]
     },
     "execution_count": 89,
     "metadata": {},
     "output_type": "execute_result"
    }
   ],
   "source": [
    "ghcnh_df[vars[var]+'_Quality_Code'].unique()"
   ]
  },
  {
   "cell_type": "code",
   "execution_count": 142,
   "id": "c8392c54-d15d-4923-8555-ad0bf53bb34c",
   "metadata": {
    "execution": {
     "iopub.execute_input": "2024-09-19T23:23:02.217002Z",
     "iopub.status.busy": "2024-09-19T23:23:02.211012Z",
     "iopub.status.idle": "2024-09-19T23:23:02.387710Z",
     "shell.execute_reply": "2024-09-19T23:23:02.387129Z",
     "shell.execute_reply.started": "2024-09-19T23:23:02.216805Z"
    }
   },
   "outputs": [
    {
     "data": {
      "text/plain": [
       "array([], dtype=int64)"
      ]
     },
     "execution_count": 142,
     "metadata": {},
     "output_type": "execute_result"
    }
   ],
   "source": [
    "np.setdiff1d(ghcnh_df[vars[var]+'_Quality_Code'].dropna().index, ghcnh_df.index)"
   ]
  },
  {
   "cell_type": "code",
   "execution_count": 179,
   "id": "ac0495c1-ecb0-4259-b6b9-032ac67326fb",
   "metadata": {
    "execution": {
     "iopub.execute_input": "2024-09-19T23:34:22.436284Z",
     "iopub.status.busy": "2024-09-19T23:34:22.436189Z",
     "iopub.status.idle": "2024-09-19T23:34:22.465677Z",
     "shell.execute_reply": "2024-09-19T23:34:22.465362Z",
     "shell.execute_reply.started": "2024-09-19T23:34:22.436275Z"
    }
   },
   "outputs": [
    {
     "data": {
      "text/plain": [
       "16136"
      ]
     },
     "execution_count": 179,
     "metadata": {},
     "output_type": "execute_result"
    }
   ],
   "source": [
    "ind = pd.isna(ghcnh_df[vars[var]+'_Quality_Code'])\n",
    "len(np.where(ind)[0])\n",
    "len(plot_df[ind])"
   ]
  },
  {
   "cell_type": "code",
   "execution_count": null,
   "id": "5638c41d-bbbb-4181-a488-6e1750ee823e",
   "metadata": {},
   "outputs": [],
   "source": []
  },
  {
   "cell_type": "code",
   "execution_count": 181,
   "id": "9e6a6311-998b-4f80-b411-1fdda5ac35ec",
   "metadata": {
    "execution": {
     "iopub.execute_input": "2024-09-19T23:34:42.170055Z",
     "iopub.status.busy": "2024-09-19T23:34:42.168831Z",
     "iopub.status.idle": "2024-09-19T23:34:42.863545Z",
     "shell.execute_reply": "2024-09-19T23:34:42.863232Z",
     "shell.execute_reply.started": "2024-09-19T23:34:42.169966Z"
    }
   },
   "outputs": [
    {
     "data": {
      "text/plain": [
       "<matplotlib.collections.PolyCollection at 0x9a2e95880>"
      ]
     },
     "execution_count": 181,
     "metadata": {},
     "output_type": "execute_result"
    },
    {
     "data": {
      "image/png": "[encoded data removed]",
      "text/plain": [
       "<Figure size 1000x300 with 1 Axes>"
      ]
     },
     "metadata": {},
     "output_type": "display_data"
    }
   ],
   "source": [
    "fig,ax = plt.subplots(figsize=(10,3))\n",
    "plot_df = pd.DataFrame(ghcnh_df)\n",
    "plot_df.plot(x=\"time\", y=vars[var], \n",
    "            ax=ax, marker=\".\", lw=0.5, color=\"black\",\n",
    "            markersize=2)\n",
    "ax.fill_between(x=plot_df[ind].time, y1=ax.get_ylim()[0], y2=ax.get_ylim()[1], color='skyblue', alpha=0.5)\n",
    "# plot_df = plot_df[ind]\n",
    "# plot_df.plot(x=\"time\", y=vars[var], \n",
    "#              ax=ax, marker=\"o\", lw=0.0, color=\"red\",\n",
    "#              markersize=4, label='Streaks', mfc='none')"
   ]
  },
  {
   "cell_type": "code",
   "execution_count": 138,
   "id": "6bd626cc-3376-46f6-9d9f-0a2019ec44ca",
   "metadata": {
    "execution": {
     "iopub.execute_input": "2024-09-19T23:20:38.995786Z",
     "iopub.status.busy": "2024-09-19T23:20:38.992695Z",
     "iopub.status.idle": "2024-09-19T23:20:39.954275Z",
     "shell.execute_reply": "2024-09-19T23:20:39.953930Z",
     "shell.execute_reply.started": "2024-09-19T23:20:38.995682Z"
    }
   },
   "outputs": [
    {
     "data": {
      "text/plain": [
       "<AxesSubplot:xlabel='time'>"
      ]
     },
     "execution_count": 138,
     "metadata": {},
     "output_type": "execute_result"
    },
    {
     "data": {
      "image/png": "[encoded data removed]",
      "text/plain": [
       "<Figure size 1000x300 with 1 Axes>"
      ]
     },
     "metadata": {},
     "output_type": "display_data"
    }
   ],
   "source": [
    "fig,ax = plt.subplots(figsize=(10,3))\n",
    "plot_df = pd.DataFrame(ghcnh_df)\n",
    "plot_df.plot(x=\"time\", y=vars[var], \n",
    "                            ax=ax, marker=\".\", lw=0.5, color=\"black\",\n",
    "                            markersize=2)\n",
    "plot_df = plot_df[plot_df[vars[var]+'_Quality_Code']=='K']\n",
    "plot_df.plot(x=\"time\", y=vars[var], \n",
    "             ax=ax, marker=\"o\", lw=0.0, color=\"red\",\n",
    "             markersize=4, label='Streaks', mfc='none')"
   ]
  },
  {
   "cell_type": "code",
   "execution_count": 95,
   "id": "4382dee7-5d18-4f81-be46-5f4565ecd534",
   "metadata": {
    "execution": {
     "iopub.execute_input": "2024-09-19T23:05:13.518942Z",
     "iopub.status.busy": "2024-09-19T23:05:13.518469Z",
     "iopub.status.idle": "2024-09-19T23:05:16.976197Z",
     "shell.execute_reply": "2024-09-19T23:05:16.975788Z",
     "shell.execute_reply.started": "2024-09-19T23:05:13.518912Z"
    }
   },
   "outputs": [
    {
     "data": {
      "text/plain": [
       "(12119.0, 12134.0)"
      ]
     },
     "execution_count": 95,
     "metadata": {},
     "output_type": "execute_result"
    },
    {
     "data": {
      "image/png": "[encoded data removed]",
      "text/plain": [
       "<Figure size 1000x300 with 1 Axes>"
      ]
     },
     "metadata": {},
     "output_type": "display_data"
    }
   ],
   "source": [
    "fig,ax = plt.subplots(figsize=(10,3))\n",
    "plot_df = pd.DataFrame(ghcnh_df)\n",
    "plot_df.plot(x=\"time\", y=vars[var], \n",
    "                            ax=ax, marker=\".\", lw=0.5, color=\"black\",\n",
    "                            markersize=2)\n",
    "plot_df = plot_df[plot_df[vars[var]+'_Quality_Code']=='K']\n",
    "plot_df.plot(x=\"time\", y=vars[var], \n",
    "             ax=ax, marker=\"o\", lw=0.0, color=\"red\",\n",
    "             markersize=4, label='Streaks', mfc='none')\n",
    "ax.set_xlim(np.datetime64(\"2003-03-08\"),np.datetime64(\"2003-03-23\"))"
   ]
  },
  {
   "cell_type": "code",
   "execution_count": null,
   "id": "2c5f74b3-be3a-45be-a93c-8b8d71417a61",
   "metadata": {},
   "outputs": [],
   "source": []
  },
  {
   "cell_type": "code",
   "execution_count": null,
   "id": "a54f8347-0f7f-4ac0-86a2-dbc400b8978b",
   "metadata": {},
   "outputs": [],
   "source": []
  },
  {
   "cell_type": "code",
   "execution_count": 83,
   "id": "4981741b-18b3-4047-9989-1f261e190622",
   "metadata": {
    "execution": {
     "iopub.execute_input": "2024-09-19T22:59:57.575307Z",
     "iopub.status.busy": "2024-09-19T22:59:57.573727Z",
     "iopub.status.idle": "2024-09-19T22:59:58.285558Z",
     "shell.execute_reply": "2024-09-19T22:59:58.285218Z",
     "shell.execute_reply.started": "2024-09-19T22:59:57.575240Z"
    }
   },
   "outputs": [
    {
     "data": {
      "text/plain": [
       "<AxesSubplot:xlabel='time'>"
      ]
     },
     "execution_count": 83,
     "metadata": {},
     "output_type": "execute_result"
    },
    {
     "data": {
      "image/png": "[encoded data removed]",
      "text/plain": [
       "<Figure size 1000x300 with 1 Axes>"
      ]
     },
     "metadata": {},
     "output_type": "display_data"
    }
   ],
   "source": [
    "fig,ax = plt.subplots(figsize=(10,3))\n",
    "plot_df = pd.DataFrame(ghcnh_df)\n",
    "plot_df.plot(x=\"time\", y=vars[var], \n",
    "                            ax=ax, marker=\".\", lw=0.5, color=\"black\",\n",
    "                            markersize=2)\n",
    "plot_df = plot_df[plot_df[vars[var]+'_Quality_Code']=='o']\n",
    "plot_df.plot(x=\"time\", y=vars[var], \n",
    "             ax=ax, marker=\"o\", lw=0.0, color=\"red\",\n",
    "             markersize=4, label='Out of range', mfc='none')"
   ]
  },
  {
   "cell_type": "code",
   "execution_count": 84,
   "id": "ad3f72b6-94dd-46b6-a7b4-cd41331ec487",
   "metadata": {
    "execution": {
     "iopub.execute_input": "2024-09-19T23:00:05.587276Z",
     "iopub.status.busy": "2024-09-19T23:00:05.587127Z",
     "iopub.status.idle": "2024-09-19T23:00:06.269704Z",
     "shell.execute_reply": "2024-09-19T23:00:06.269426Z",
     "shell.execute_reply.started": "2024-09-19T23:00:05.587260Z"
    }
   },
   "outputs": [
    {
     "data": {
      "text/plain": [
       "<AxesSubplot:xlabel='time'>"
      ]
     },
     "execution_count": 84,
     "metadata": {},
     "output_type": "execute_result"
    },
    {
     "data": {
      "image/png": "[encoded data removed]",
      "text/plain": [
       "<Figure size 1000x300 with 1 Axes>"
      ]
     },
     "metadata": {},
     "output_type": "display_data"
    }
   ],
   "source": [
    "fig,ax = plt.subplots(figsize=(10,3))\n",
    "plot_df = pd.DataFrame(ghcnh_df)\n",
    "plot_df.plot(x=\"time\", y=vars[var], \n",
    "                            ax=ax, marker=\".\", lw=0.5, color=\"black\",\n",
    "                            markersize=2)\n",
    "plot_df = plot_df[plot_df[vars[var]+'_Quality_Code']=='f']\n",
    "plot_df.plot(x=\"time\", y=vars[var], \n",
    "             ax=ax, marker=\"x\", lw=0.0, color=\"red\",\n",
    "             markersize=4, label='Suspect or Error', mfc='none')"
   ]
  },
  {
   "cell_type": "code",
   "execution_count": null,
   "id": "9c56333d-bd02-4516-a994-040fabe35a10",
   "metadata": {},
   "outputs": [],
   "source": []
  },
  {
   "cell_type": "code",
   "execution_count": null,
   "id": "1aac1584-d382-486c-b70c-dc6b67cd8b35",
   "metadata": {},
   "outputs": [],
   "source": []
  },
  {
   "cell_type": "code",
   "execution_count": null,
   "id": "506580a7-4a57-40db-aa97-c5bba116d9d3",
   "metadata": {},
   "outputs": [],
   "source": []
  },
  {
   "cell_type": "code",
   "execution_count": null,
   "id": "b0cae81a-64ea-49df-982d-fc8af0e730fd",
   "metadata": {},
   "outputs": [],
   "source": []
  },
  {
   "cell_type": "code",
   "execution_count": 70,
   "id": "73441fa3-d610-41cd-b4e6-7ebc3960c5c8",
   "metadata": {
    "execution": {
     "iopub.execute_input": "2024-09-19T22:53:50.616758Z",
     "iopub.status.busy": "2024-09-19T22:53:50.616319Z",
     "iopub.status.idle": "2024-09-19T22:53:50.678247Z",
     "shell.execute_reply": "2024-09-19T22:53:50.677916Z",
     "shell.execute_reply.started": "2024-09-19T22:53:50.616727Z"
    }
   },
   "outputs": [
    {
     "data": {
      "text/plain": [
       "Index(['Station_ID', 'Station_name', 'time', 'Latitude', 'Longitude',\n",
       "       'Elevation', 'geometry', 'relative_humidity',\n",
       "       'relative_humidity_Measurement_Code', 'relative_humidity_Quality_Code',\n",
       "       'relative_humidity_Report_Type', 'relative_humidity_Source_Code',\n",
       "       'relative_humidity_Source_Station_ID'],\n",
       "      dtype='object')"
      ]
     },
     "execution_count": 70,
     "metadata": {},
     "output_type": "execute_result"
    }
   ],
   "source": [
    "ghcnh_df.columns"
   ]
  },
  {
   "cell_type": "code",
   "execution_count": 71,
   "id": "84ab82ca-40e0-4c68-abc0-6dc52e17648a",
   "metadata": {
    "execution": {
     "iopub.execute_input": "2024-09-19T22:54:15.362823Z",
     "iopub.status.busy": "2024-09-19T22:54:15.362003Z",
     "iopub.status.idle": "2024-09-19T22:54:15.597890Z",
     "shell.execute_reply": "2024-09-19T22:54:15.597486Z",
     "shell.execute_reply.started": "2024-09-19T22:54:15.362752Z"
    }
   },
   "outputs": [
    {
     "data": {
      "text/plain": [
       "array([nan, 'Derived'], dtype=object)"
      ]
     },
     "execution_count": 71,
     "metadata": {},
     "output_type": "execute_result"
    }
   ],
   "source": [
    "ghcnh_df['relative_humidity_Measurement_Code'].unique()"
   ]
  },
  {
   "cell_type": "code",
   "execution_count": 72,
   "id": "cf75e610-25e2-4925-a01e-f17f464b4415",
   "metadata": {
    "execution": {
     "iopub.execute_input": "2024-09-19T22:54:32.179553Z",
     "iopub.status.busy": "2024-09-19T22:54:32.178777Z",
     "iopub.status.idle": "2024-09-19T22:54:32.323334Z",
     "shell.execute_reply": "2024-09-19T22:54:32.322556Z",
     "shell.execute_reply.started": "2024-09-19T22:54:32.179513Z"
    }
   },
   "outputs": [
    {
     "data": {
      "text/plain": [
       "array([nan, 'f', 'o'], dtype=object)"
      ]
     },
     "execution_count": 72,
     "metadata": {},
     "output_type": "execute_result"
    }
   ],
   "source": [
    "ghcnh_df['relative_humidity_Quality_Code'].unique()"
   ]
  },
  {
   "cell_type": "code",
   "execution_count": 73,
   "id": "fdce475c-0c63-4350-a4d7-a1eaee9a535a",
   "metadata": {
    "execution": {
     "iopub.execute_input": "2024-09-19T22:54:53.396521Z",
     "iopub.status.busy": "2024-09-19T22:54:53.395235Z",
     "iopub.status.idle": "2024-09-19T22:54:53.725968Z",
     "shell.execute_reply": "2024-09-19T22:54:53.725575Z",
     "shell.execute_reply.started": "2024-09-19T22:54:53.396467Z"
    }
   },
   "outputs": [
    {
     "data": {
      "text/plain": [
       "array([nan, 'SAO-Airway', 'SAOSP-Airw', 'FM15-METAR', 'FM16-SPECI',\n",
       "       'AUTO_4-USA'], dtype=object)"
      ]
     },
     "execution_count": 73,
     "metadata": {},
     "output_type": "execute_result"
    }
   ],
   "source": [
    "ghcnh_df['relative_humidity_Report_Type'].unique()"
   ]
  },
  {
   "cell_type": "code",
   "execution_count": 74,
   "id": "552059a7-d063-4bb4-93d7-79e027bfa3cf",
   "metadata": {
    "execution": {
     "iopub.execute_input": "2024-09-19T22:54:58.767082Z",
     "iopub.status.busy": "2024-09-19T22:54:58.766982Z",
     "iopub.status.idle": "2024-09-19T22:54:58.799909Z",
     "shell.execute_reply": "2024-09-19T22:54:58.799567Z",
     "shell.execute_reply.started": "2024-09-19T22:54:58.767071Z"
    }
   },
   "outputs": [
    {
     "data": {
      "text/plain": [
       "array([ nan, 223., 343.])"
      ]
     },
     "execution_count": 74,
     "metadata": {},
     "output_type": "execute_result"
    }
   ],
   "source": [
    "ghcnh_df['relative_humidity_Source_Code'].unique()"
   ]
  },
  {
   "cell_type": "code",
   "execution_count": 75,
   "id": "63f6b39f-273e-41ff-a1f2-eab1e4f5f437",
   "metadata": {
    "execution": {
     "iopub.execute_input": "2024-09-19T22:54:58.801781Z",
     "iopub.status.busy": "2024-09-19T22:54:58.801613Z",
     "iopub.status.idle": "2024-09-19T22:54:58.831319Z",
     "shell.execute_reply": "2024-09-19T22:54:58.830975Z",
     "shell.execute_reply.started": "2024-09-19T22:54:58.801767Z"
    }
   },
   "outputs": [
    {
     "data": {
      "text/plain": [
       "array([nan, 'ICAO-KFUL', '999999-03166', '722976-03166'], dtype=object)"
      ]
     },
     "execution_count": 75,
     "metadata": {},
     "output_type": "execute_result"
    }
   ],
   "source": [
    "ghcnh_df['relative_humidity_Source_Station_ID'].unique()"
   ]
  },
  {
   "cell_type": "code",
   "execution_count": 76,
   "id": "cdbf984f-9edc-4d00-9094-085e7c1c0fd6",
   "metadata": {
    "execution": {
     "iopub.execute_input": "2024-09-19T22:55:06.519315Z",
     "iopub.status.busy": "2024-09-19T22:55:06.519218Z",
     "iopub.status.idle": "2024-09-19T22:55:06.548549Z",
     "shell.execute_reply": "2024-09-19T22:55:06.548093Z",
     "shell.execute_reply.started": "2024-09-19T22:55:06.519305Z"
    }
   },
   "outputs": [],
   "source": [
    "# df[var+\"_eraqc\"]"
   ]
  },
  {
   "cell_type": "code",
   "execution_count": null,
   "id": "68b8e1e6-3af2-4d63-afb7-1c36c678deae",
   "metadata": {},
   "outputs": [],
   "source": []
  },
  {
   "cell_type": "code",
   "execution_count": null,
   "id": "092c47c8-9672-429c-8452-fe608df5e174",
   "metadata": {},
   "outputs": [],
   "source": []
  },
  {
   "cell_type": "code",
   "execution_count": null,
   "id": "66049cb4-1f93-4ef9-8c07-d5ed4e26ae8f",
   "metadata": {},
   "outputs": [],
   "source": []
  },
  {
   "cell_type": "code",
   "execution_count": null,
   "id": "cd6f0ea5-e6aa-496a-8675-36f86751772e",
   "metadata": {},
   "outputs": [],
   "source": []
  },
  {
   "cell_type": "code",
   "execution_count": null,
   "id": "ab3e83b5-7b2a-4d3f-8473-a5b7f23df257",
   "metadata": {},
   "outputs": [],
   "source": []
  },
  {
   "cell_type": "code",
   "execution_count": null,
   "id": "2da80e73-97ad-4f6a-b67c-ac06870e8044",
   "metadata": {},
   "outputs": [],
   "source": []
  },
  {
   "cell_type": "code",
   "execution_count": 24,
   "id": "88cbef22-6cb9-4fbf-a129-0dac7ae4f616",
   "metadata": {
    "execution": {
     "iopub.execute_input": "2024-09-17T17:14:00.633924Z",
     "iopub.status.busy": "2024-09-17T17:14:00.633683Z",
     "iopub.status.idle": "2024-09-17T17:14:00.676512Z",
     "shell.execute_reply": "2024-09-17T17:14:00.676074Z",
     "shell.execute_reply.started": "2024-09-17T17:14:00.633905Z"
    }
   },
   "outputs": [
    {
     "data": {
      "text/html": [
       "<div>\n",
       "<style scoped>\n",
       "    .dataframe tbody tr th:only-of-type {\n",
       "        vertical-align: middle;\n",
       "    }\n",
       "\n",
       "    .dataframe tbody tr th {\n",
       "        vertical-align: top;\n",
       "    }\n",
       "\n",
       "    .dataframe thead th {\n",
       "        text-align: right;\n",
       "    }\n",
       "</style>\n",
       "<table border=\"1\" class=\"dataframe\">\n",
       "  <thead>\n",
       "    <tr style=\"text-align: right;\">\n",
       "      <th></th>\n",
       "      <th>Station_ID</th>\n",
       "      <th>Station_name</th>\n",
       "      <th>time</th>\n",
       "      <th>Latitude</th>\n",
       "      <th>Longitude</th>\n",
       "      <th>Elevation</th>\n",
       "      <th>temperature</th>\n",
       "      <th>temperature_Measurement_Code</th>\n",
       "      <th>temperature_Quality_Code</th>\n",
       "      <th>temperature_Report_Type</th>\n",
       "      <th>temperature_Source_Code</th>\n",
       "      <th>temperature_Source_Station_ID</th>\n",
       "    </tr>\n",
       "  </thead>\n",
       "  <tbody>\n",
       "    <tr>\n",
       "      <th>0</th>\n",
       "      <td>CAW00025343</td>\n",
       "      <td>LANGARA</td>\n",
       "      <td>1954-01-01 09:00:00</td>\n",
       "      <td>54.25</td>\n",
       "      <td>-133.05</td>\n",
       "      <td>41.1</td>\n",
       "      <td>3.9</td>\n",
       "      <td>NaN</td>\n",
       "      <td>U</td>\n",
       "      <td>SAO-Airway</td>\n",
       "      <td>335.0</td>\n",
       "      <td>999999-25343</td>\n",
       "    </tr>\n",
       "    <tr>\n",
       "      <th>1</th>\n",
       "      <td>CAW00025343</td>\n",
       "      <td>LANGARA</td>\n",
       "      <td>1954-01-01 21:00:00</td>\n",
       "      <td>54.25</td>\n",
       "      <td>-133.05</td>\n",
       "      <td>41.1</td>\n",
       "      <td>1.7</td>\n",
       "      <td>NaN</td>\n",
       "      <td>U</td>\n",
       "      <td>SAO-Airway</td>\n",
       "      <td>335.0</td>\n",
       "      <td>999999-25343</td>\n",
       "    </tr>\n",
       "    <tr>\n",
       "      <th>2</th>\n",
       "      <td>CAW00025343</td>\n",
       "      <td>LANGARA</td>\n",
       "      <td>1954-01-02 03:00:00</td>\n",
       "      <td>54.25</td>\n",
       "      <td>-133.05</td>\n",
       "      <td>41.1</td>\n",
       "      <td>3.3</td>\n",
       "      <td>NaN</td>\n",
       "      <td>4</td>\n",
       "      <td>SAO-Airway</td>\n",
       "      <td>335.0</td>\n",
       "      <td>999999-25343</td>\n",
       "    </tr>\n",
       "    <tr>\n",
       "      <th>3</th>\n",
       "      <td>CAW00025343</td>\n",
       "      <td>LANGARA</td>\n",
       "      <td>1954-01-02 09:00:00</td>\n",
       "      <td>54.25</td>\n",
       "      <td>-133.05</td>\n",
       "      <td>41.1</td>\n",
       "      <td>2.8</td>\n",
       "      <td>NaN</td>\n",
       "      <td>4</td>\n",
       "      <td>SAO-Airway</td>\n",
       "      <td>335.0</td>\n",
       "      <td>999999-25343</td>\n",
       "    </tr>\n",
       "    <tr>\n",
       "      <th>4</th>\n",
       "      <td>CAW00025343</td>\n",
       "      <td>LANGARA</td>\n",
       "      <td>1954-01-02 21:00:00</td>\n",
       "      <td>54.25</td>\n",
       "      <td>-133.05</td>\n",
       "      <td>41.1</td>\n",
       "      <td>1.1</td>\n",
       "      <td>NaN</td>\n",
       "      <td>4</td>\n",
       "      <td>SAO-Airway</td>\n",
       "      <td>335.0</td>\n",
       "      <td>999999-25343</td>\n",
       "    </tr>\n",
       "    <tr>\n",
       "      <th>...</th>\n",
       "      <td>...</td>\n",
       "      <td>...</td>\n",
       "      <td>...</td>\n",
       "      <td>...</td>\n",
       "      <td>...</td>\n",
       "      <td>...</td>\n",
       "      <td>...</td>\n",
       "      <td>...</td>\n",
       "      <td>...</td>\n",
       "      <td>...</td>\n",
       "      <td>...</td>\n",
       "      <td>...</td>\n",
       "    </tr>\n",
       "    <tr>\n",
       "      <th>87612</th>\n",
       "      <td>CAW00025343</td>\n",
       "      <td>LANGARA</td>\n",
       "      <td>1999-12-31 06:00:00</td>\n",
       "      <td>54.25</td>\n",
       "      <td>-133.05</td>\n",
       "      <td>41.1</td>\n",
       "      <td>2.5</td>\n",
       "      <td>NaN</td>\n",
       "      <td>1</td>\n",
       "      <td>SYMT-Synop</td>\n",
       "      <td>335.0</td>\n",
       "      <td>718990-25343</td>\n",
       "    </tr>\n",
       "    <tr>\n",
       "      <th>87613</th>\n",
       "      <td>CAW00025343</td>\n",
       "      <td>LANGARA</td>\n",
       "      <td>1999-12-31 12:00:00</td>\n",
       "      <td>54.25</td>\n",
       "      <td>-133.05</td>\n",
       "      <td>41.1</td>\n",
       "      <td>5.5</td>\n",
       "      <td>NaN</td>\n",
       "      <td>1</td>\n",
       "      <td>SYMT-Synop</td>\n",
       "      <td>335.0</td>\n",
       "      <td>718990-25343</td>\n",
       "    </tr>\n",
       "    <tr>\n",
       "      <th>87614</th>\n",
       "      <td>CAW00025343</td>\n",
       "      <td>LANGARA</td>\n",
       "      <td>1999-12-31 15:00:00</td>\n",
       "      <td>54.25</td>\n",
       "      <td>-133.05</td>\n",
       "      <td>41.1</td>\n",
       "      <td>5.7</td>\n",
       "      <td>NaN</td>\n",
       "      <td>1</td>\n",
       "      <td>SYMT-Synop</td>\n",
       "      <td>335.0</td>\n",
       "      <td>718990-25343</td>\n",
       "    </tr>\n",
       "    <tr>\n",
       "      <th>87615</th>\n",
       "      <td>CAW00025343</td>\n",
       "      <td>LANGARA</td>\n",
       "      <td>1999-12-31 18:00:00</td>\n",
       "      <td>54.25</td>\n",
       "      <td>-133.05</td>\n",
       "      <td>41.1</td>\n",
       "      <td>5.5</td>\n",
       "      <td>NaN</td>\n",
       "      <td>1</td>\n",
       "      <td>SYMT-Synop</td>\n",
       "      <td>335.0</td>\n",
       "      <td>718990-25343</td>\n",
       "    </tr>\n",
       "    <tr>\n",
       "      <th>87616</th>\n",
       "      <td>CAW00025343</td>\n",
       "      <td>LANGARA</td>\n",
       "      <td>1999-12-31 21:00:00</td>\n",
       "      <td>54.25</td>\n",
       "      <td>-133.05</td>\n",
       "      <td>41.1</td>\n",
       "      <td>5.2</td>\n",
       "      <td>NaN</td>\n",
       "      <td>1</td>\n",
       "      <td>SYMT-Synop</td>\n",
       "      <td>335.0</td>\n",
       "      <td>718990-25343</td>\n",
       "    </tr>\n",
       "  </tbody>\n",
       "</table>\n",
       "<p>82822 rows × 12 columns</p>\n",
       "</div>"
      ],
      "text/plain": [
       "        Station_ID Station_name                time  Latitude  Longitude  \\\n",
       "0      CAW00025343      LANGARA 1954-01-01 09:00:00     54.25    -133.05   \n",
       "1      CAW00025343      LANGARA 1954-01-01 21:00:00     54.25    -133.05   \n",
       "2      CAW00025343      LANGARA 1954-01-02 03:00:00     54.25    -133.05   \n",
       "3      CAW00025343      LANGARA 1954-01-02 09:00:00     54.25    -133.05   \n",
       "4      CAW00025343      LANGARA 1954-01-02 21:00:00     54.25    -133.05   \n",
       "...            ...          ...                 ...       ...        ...   \n",
       "87612  CAW00025343      LANGARA 1999-12-31 06:00:00     54.25    -133.05   \n",
       "87613  CAW00025343      LANGARA 1999-12-31 12:00:00     54.25    -133.05   \n",
       "87614  CAW00025343      LANGARA 1999-12-31 15:00:00     54.25    -133.05   \n",
       "87615  CAW00025343      LANGARA 1999-12-31 18:00:00     54.25    -133.05   \n",
       "87616  CAW00025343      LANGARA 1999-12-31 21:00:00     54.25    -133.05   \n",
       "\n",
       "       Elevation  temperature  temperature_Measurement_Code  \\\n",
       "0           41.1          3.9                           NaN   \n",
       "1           41.1          1.7                           NaN   \n",
       "2           41.1          3.3                           NaN   \n",
       "3           41.1          2.8                           NaN   \n",
       "4           41.1          1.1                           NaN   \n",
       "...          ...          ...                           ...   \n",
       "87612       41.1          2.5                           NaN   \n",
       "87613       41.1          5.5                           NaN   \n",
       "87614       41.1          5.7                           NaN   \n",
       "87615       41.1          5.5                           NaN   \n",
       "87616       41.1          5.2                           NaN   \n",
       "\n",
       "      temperature_Quality_Code temperature_Report_Type  \\\n",
       "0                            U              SAO-Airway   \n",
       "1                            U              SAO-Airway   \n",
       "2                            4              SAO-Airway   \n",
       "3                            4              SAO-Airway   \n",
       "4                            4              SAO-Airway   \n",
       "...                        ...                     ...   \n",
       "87612                        1              SYMT-Synop   \n",
       "87613                        1              SYMT-Synop   \n",
       "87614                        1              SYMT-Synop   \n",
       "87615                        1              SYMT-Synop   \n",
       "87616                        1              SYMT-Synop   \n",
       "\n",
       "       temperature_Source_Code temperature_Source_Station_ID  \n",
       "0                        335.0                  999999-25343  \n",
       "1                        335.0                  999999-25343  \n",
       "2                        335.0                  999999-25343  \n",
       "3                        335.0                  999999-25343  \n",
       "4                        335.0                  999999-25343  \n",
       "...                        ...                           ...  \n",
       "87612                    335.0                  718990-25343  \n",
       "87613                    335.0                  718990-25343  \n",
       "87614                    335.0                  718990-25343  \n",
       "87615                    335.0                  718990-25343  \n",
       "87616                    335.0                  718990-25343  \n",
       "\n",
       "[82822 rows x 12 columns]"
      ]
     },
     "execution_count": 24,
     "metadata": {},
     "output_type": "execute_result"
    }
   ],
   "source": [
    "df.dropna(subset=vars[\"tas\"])"
   ]
  },
  {
   "cell_type": "code",
   "execution_count": 8,
   "id": "f38057b3-da70-44f0-9790-212197e5b60c",
   "metadata": {
    "execution": {
     "iopub.execute_input": "2024-09-17T15:46:45.916447Z",
     "iopub.status.busy": "2024-09-17T15:46:45.916353Z",
     "iopub.status.idle": "2024-09-17T15:46:45.934803Z",
     "shell.execute_reply": "2024-09-17T15:46:45.934441Z",
     "shell.execute_reply.started": "2024-09-17T15:46:45.916437Z"
    }
   },
   "outputs": [
    {
     "data": {
      "text/plain": [
       "0.9602136547284804"
      ]
     },
     "execution_count": 8,
     "metadata": {},
     "output_type": "execute_result"
    }
   ],
   "source": [
    "len(df.temperature_Quality_Code.dropna())/len(df.temperature_Quality_Code)"
   ]
  },
  {
   "cell_type": "markdown",
   "id": "323c9ace-c316-4755-a52c-f82b79f77c13",
   "metadata": {},
   "source": [
    "- ERA5 map\n",
    "- Accumulated flags\n",
    "- Interpolated stations or mean\n"
   ]
  },
  {
   "cell_type": "code",
   "execution_count": 19,
   "id": "58d30dbb-902f-4b44-8126-ca0588849831",
   "metadata": {
    "execution": {
     "iopub.execute_input": "2024-09-17T15:34:59.215904Z",
     "iopub.status.busy": "2024-09-17T15:34:59.215269Z",
     "iopub.status.idle": "2024-09-17T15:36:48.872474Z",
     "shell.execute_reply": "2024-09-17T15:36:48.872142Z",
     "shell.execute_reply.started": "2024-09-17T15:34:59.215867Z"
    }
   },
   "outputs": [],
   "source": [
    "ghcnh.convert_df_to_gpd(ghcnh.station_data)"
   ]
  },
  {
   "cell_type": "code",
   "execution_count": null,
   "id": "ef8e2e53-1ff6-4016-9c51-73ac4cdfa4a7",
   "metadata": {},
   "outputs": [],
   "source": []
  },
  {
   "cell_type": "code",
   "execution_count": null,
   "id": "e761d2ac-8be6-44cb-b389-89fc9f517a8a",
   "metadata": {},
   "outputs": [],
   "source": []
  },
  {
   "cell_type": "code",
   "execution_count": null,
   "id": "77355bab-9b10-4bc4-9671-5c093ec98507",
   "metadata": {},
   "outputs": [],
   "source": []
  },
  {
   "cell_type": "code",
   "execution_count": null,
   "id": "57c35dc6-7fa7-4717-9311-d1acb4ae9ded",
   "metadata": {},
   "outputs": [],
   "source": []
  },
  {
   "cell_type": "code",
   "execution_count": null,
   "id": "ca430745-b684-4685-b75f-a68e7e56b8e8",
   "metadata": {},
   "outputs": [],
   "source": []
  },
  {
   "cell_type": "code",
   "execution_count": null,
   "id": "50dac15d-db66-4ad1-9371-c1ebbd26d40a",
   "metadata": {},
   "outputs": [],
   "source": []
  },
  {
   "cell_type": "code",
   "execution_count": null,
   "id": "7e22f5b5-4c0f-48ec-b8cf-d6aa9b9ac493",
   "metadata": {},
   "outputs": [],
   "source": []
  },
  {
   "cell_type": "code",
   "execution_count": null,
   "id": "2a149eff-fa7c-4aa1-80bf-75b653170817",
   "metadata": {},
   "outputs": [],
   "source": []
  },
  {
   "cell_type": "code",
   "execution_count": null,
   "id": "9e191a5d-d49a-416e-a267-d2239fb8cb90",
   "metadata": {},
   "outputs": [],
   "source": []
  },
  {
   "cell_type": "code",
   "execution_count": null,
   "id": "068938ff-368d-4f64-8ee4-0a6a93b12752",
   "metadata": {},
   "outputs": [],
   "source": []
  },
  {
   "cell_type": "code",
   "execution_count": null,
   "id": "89bcb580-0b52-4d3c-b749-423257f52517",
   "metadata": {},
   "outputs": [],
   "source": []
  },
  {
   "cell_type": "code",
   "execution_count": null,
   "id": "31d9f120-f714-4b7f-9746-31b17727dd89",
   "metadata": {},
   "outputs": [],
   "source": []
  },
  {
   "cell_type": "code",
   "execution_count": null,
   "id": "45f02703-62c2-4461-9ccd-16f0c184c882",
   "metadata": {},
   "outputs": [],
   "source": []
  },
  {
   "cell_type": "code",
   "execution_count": null,
   "id": "d5006fa5-1490-494f-b70d-6ed5dfa81d3e",
   "metadata": {},
   "outputs": [],
   "source": []
  },
  {
   "cell_type": "code",
   "execution_count": null,
   "id": "21e2c79a-448b-4362-9e76-5f82d97ce080",
   "metadata": {},
   "outputs": [],
   "source": []
  },
  {
   "cell_type": "code",
   "execution_count": null,
   "id": "9395fce8-4953-44ac-9b31-cda7b89650dd",
   "metadata": {},
   "outputs": [],
   "source": []
  },
  {
   "cell_type": "code",
   "execution_count": null,
   "id": "948d8b05-db8c-4ff5-8eea-27fb2f99bf90",
   "metadata": {},
   "outputs": [],
   "source": []
  },
  {
   "cell_type": "code",
   "execution_count": null,
   "id": "a3c8bb20-dcea-4b4d-a283-f5abd0655cf4",
   "metadata": {},
   "outputs": [],
   "source": []
  },
  {
   "cell_type": "code",
   "execution_count": null,
   "id": "8f88f8d7-f0e0-4431-97af-c8b8852ea60b",
   "metadata": {},
   "outputs": [],
   "source": []
  }
 ],
 "metadata": {
  "kernelspec": {
   "display_name": "hist-obs",
   "language": "python",
   "name": "hist-obs"
  },
  "language_info": {
   "codemirror_mode": {
    "name": "ipython",
    "version": 3
   },
   "file_extension": ".py",
   "mimetype": "text/x-python",
   "name": "python",
   "nbconvert_exporter": "python",
   "pygments_lexer": "ipython3",
   "version": "3.9.18"
  }
 },
 "nbformat": 4,
 "nbformat_minor": 5
}
