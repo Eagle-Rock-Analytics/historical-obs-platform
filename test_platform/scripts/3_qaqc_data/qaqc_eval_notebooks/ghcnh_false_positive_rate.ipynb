{
 "cells": [
  {
   "cell_type": "markdown",
   "id": "2f107480-b89b-4dc8-a146-8ef1fee66c4e",
   "metadata": {},
   "source": [
    "# GHCNh false positive rate"
   ]
  },
  {
   "cell_type": "markdown",
   "id": "07f483d6-b778-4aa0-9eb8-bcb59a86cea6",
   "metadata": {},
   "source": [
    "## Load libraries"
   ]
  },
  {
   "cell_type": "code",
   "execution_count": 47,
   "id": "6bf98323-af90-43a5-8a0c-ebfc0be02d60",
   "metadata": {
    "execution": {
     "iopub.execute_input": "2024-10-01T19:36:49.645223Z",
     "iopub.status.busy": "2024-10-01T19:36:49.644340Z",
     "iopub.status.idle": "2024-10-01T19:36:49.695032Z",
     "shell.execute_reply": "2024-10-01T19:36:49.694326Z",
     "shell.execute_reply.started": "2024-10-01T19:36:49.645143Z"
    }
   },
   "outputs": [
    {
     "name": "stdout",
     "output_type": "stream",
     "text": [
      "The autoreload extension is already loaded. To reload it, use:\n",
      "  %reload_ext autoreload\n"
     ]
    }
   ],
   "source": [
    "# import libraries\n",
    "import pandas as pd\n",
    "import numpy as np\n",
    "import xarray as xr\n",
    "import geopandas as gpd\n",
    "from geopandas import GeoDataFrame\n",
    "from shapely.geometry import Point\n",
    "import matplotlib.pyplot as plt\n",
    "import cartopy.crs as ccrs\n",
    "import cartopy.feature as cf\n",
    "from matplotlib.ticker import MaxNLocator\n",
    "import sys\n",
    "ghcnh_lib_path = \"/Users/hector/ERA_work/historical-obs-platform/test_platform/scripts/3_qaqc_data/qaqc_eval_notebooks/GHCNh\"\n",
    "sys.path.append(ghcnh_lib_path)\n",
    "from GHCNh_lib import GHCNh # If GHCNh is was appended to path\n",
    "from qaqc_eval_utils import *\n",
    "%matplotlib inline\n",
    "\n",
    "%load_ext autoreload\n",
    "%autoreload 2"
   ]
  },
  {
   "cell_type": "markdown",
   "id": "246801a9-b1a3-4369-9b7a-409423fbd911",
   "metadata": {},
   "source": [
    "## GHCNh dataset"
   ]
  },
  {
   "cell_type": "markdown",
   "id": "f29a23de-8ed6-41bc-95a0-7957a62b9b0d",
   "metadata": {},
   "source": [
    "### GHCNh test the convert to geopandas DataFrame"
   ]
  },
  {
   "cell_type": "code",
   "execution_count": 2,
   "id": "fd979aa5-ba57-445f-98f5-079834afade8",
   "metadata": {
    "execution": {
     "iopub.execute_input": "2024-10-01T19:08:43.936411Z",
     "iopub.status.busy": "2024-10-01T19:08:43.936087Z",
     "iopub.status.idle": "2024-10-01T19:08:47.144431Z",
     "shell.execute_reply": "2024-10-01T19:08:47.144157Z",
     "shell.execute_reply.started": "2024-10-01T19:08:43.936388Z"
    }
   },
   "outputs": [
    {
     "name": "stdout",
     "output_type": "stream",
     "text": [
      "CAW00025343, -133.05000, 54.25000\n",
      "CPU times: user 2.83 s, sys: 251 ms, total: 3.08 s\n",
      "Wall time: 3.17 s\n"
     ]
    },
    {
     "data": {
      "text/html": [
       "<div>\n",
       "<style scoped>\n",
       "    .dataframe tbody tr th:only-of-type {\n",
       "        vertical-align: middle;\n",
       "    }\n",
       "\n",
       "    .dataframe tbody tr th {\n",
       "        vertical-align: top;\n",
       "    }\n",
       "\n",
       "    .dataframe thead th {\n",
       "        text-align: right;\n",
       "    }\n",
       "</style>\n",
       "<table border=\"1\" class=\"dataframe\">\n",
       "  <thead>\n",
       "    <tr style=\"text-align: right;\">\n",
       "      <th></th>\n",
       "      <th>Station_ID</th>\n",
       "      <th>Station_name</th>\n",
       "      <th>Year</th>\n",
       "      <th>Month</th>\n",
       "      <th>Day</th>\n",
       "      <th>Hour</th>\n",
       "      <th>Minute</th>\n",
       "      <th>Latitude</th>\n",
       "      <th>Longitude</th>\n",
       "      <th>Elevation</th>\n",
       "      <th>...</th>\n",
       "      <th>precipitation_24_hour_Source_Code</th>\n",
       "      <th>precipitation_24_hour_Source_Station_ID</th>\n",
       "      <th>remarks</th>\n",
       "      <th>remarks_Measurement_Code</th>\n",
       "      <th>remarks_Quality_Code</th>\n",
       "      <th>remarks_Report_Type</th>\n",
       "      <th>remarks_Source_Code</th>\n",
       "      <th>remarks_Source_Station_ID</th>\n",
       "      <th>time</th>\n",
       "      <th>geometry</th>\n",
       "    </tr>\n",
       "  </thead>\n",
       "  <tbody>\n",
       "    <tr>\n",
       "      <th>0</th>\n",
       "      <td>CAW00025343</td>\n",
       "      <td>LANGARA</td>\n",
       "      <td>1954</td>\n",
       "      <td>1</td>\n",
       "      <td>1</td>\n",
       "      <td>9</td>\n",
       "      <td>0</td>\n",
       "      <td>54.25</td>\n",
       "      <td>-133.05</td>\n",
       "      <td>41.1</td>\n",
       "      <td>...</td>\n",
       "      <td>NaN</td>\n",
       "      <td>NaN</td>\n",
       "      <td>NaN</td>\n",
       "      <td>NaN</td>\n",
       "      <td>NaN</td>\n",
       "      <td>NaN</td>\n",
       "      <td>NaN</td>\n",
       "      <td>NaN</td>\n",
       "      <td>1954-01-01 09:00:00</td>\n",
       "      <td>POINT (-14811058.250 7217646.198)</td>\n",
       "    </tr>\n",
       "    <tr>\n",
       "      <th>1</th>\n",
       "      <td>CAW00025343</td>\n",
       "      <td>LANGARA</td>\n",
       "      <td>1954</td>\n",
       "      <td>1</td>\n",
       "      <td>1</td>\n",
       "      <td>21</td>\n",
       "      <td>0</td>\n",
       "      <td>54.25</td>\n",
       "      <td>-133.05</td>\n",
       "      <td>41.1</td>\n",
       "      <td>...</td>\n",
       "      <td>NaN</td>\n",
       "      <td>NaN</td>\n",
       "      <td>NaN</td>\n",
       "      <td>NaN</td>\n",
       "      <td>NaN</td>\n",
       "      <td>NaN</td>\n",
       "      <td>NaN</td>\n",
       "      <td>NaN</td>\n",
       "      <td>1954-01-01 21:00:00</td>\n",
       "      <td>POINT (-14811058.250 7217646.198)</td>\n",
       "    </tr>\n",
       "    <tr>\n",
       "      <th>2</th>\n",
       "      <td>CAW00025343</td>\n",
       "      <td>LANGARA</td>\n",
       "      <td>1954</td>\n",
       "      <td>1</td>\n",
       "      <td>2</td>\n",
       "      <td>3</td>\n",
       "      <td>0</td>\n",
       "      <td>54.25</td>\n",
       "      <td>-133.05</td>\n",
       "      <td>41.1</td>\n",
       "      <td>...</td>\n",
       "      <td>NaN</td>\n",
       "      <td>NaN</td>\n",
       "      <td>NaN</td>\n",
       "      <td>NaN</td>\n",
       "      <td>NaN</td>\n",
       "      <td>NaN</td>\n",
       "      <td>NaN</td>\n",
       "      <td>NaN</td>\n",
       "      <td>1954-01-02 03:00:00</td>\n",
       "      <td>POINT (-14811058.250 7217646.198)</td>\n",
       "    </tr>\n",
       "  </tbody>\n",
       "</table>\n",
       "<p>3 rows × 240 columns</p>\n",
       "</div>"
      ],
      "text/plain": [
       "    Station_ID Station_name  Year  Month  Day  Hour  Minute  Latitude  \\\n",
       "0  CAW00025343      LANGARA  1954      1    1     9       0     54.25   \n",
       "1  CAW00025343      LANGARA  1954      1    1    21       0     54.25   \n",
       "2  CAW00025343      LANGARA  1954      1    2     3       0     54.25   \n",
       "\n",
       "   Longitude  Elevation  ...  precipitation_24_hour_Source_Code  \\\n",
       "0    -133.05       41.1  ...                                NaN   \n",
       "1    -133.05       41.1  ...                                NaN   \n",
       "2    -133.05       41.1  ...                                NaN   \n",
       "\n",
       "   precipitation_24_hour_Source_Station_ID remarks remarks_Measurement_Code  \\\n",
       "0                                      NaN     NaN                      NaN   \n",
       "1                                      NaN     NaN                      NaN   \n",
       "2                                      NaN     NaN                      NaN   \n",
       "\n",
       "   remarks_Quality_Code remarks_Report_Type  remarks_Source_Code  \\\n",
       "0                   NaN                 NaN                  NaN   \n",
       "1                   NaN                 NaN                  NaN   \n",
       "2                   NaN                 NaN                  NaN   \n",
       "\n",
       "   remarks_Source_Station_ID                time  \\\n",
       "0                        NaN 1954-01-01 09:00:00   \n",
       "1                        NaN 1954-01-01 21:00:00   \n",
       "2                        NaN 1954-01-02 03:00:00   \n",
       "\n",
       "                            geometry  \n",
       "0  POINT (-14811058.250 7217646.198)  \n",
       "1  POINT (-14811058.250 7217646.198)  \n",
       "2  POINT (-14811058.250 7217646.198)  \n",
       "\n",
       "[3 rows x 240 columns]"
      ]
     },
     "execution_count": 2,
     "metadata": {},
     "output_type": "execute_result"
    }
   ],
   "source": [
    "%%time\n",
    "ghcnh = GHCNh(stations_local=True)\n",
    "ghcnh.select_wecc()\n",
    "id = ghcnh.stations_df['id'].iloc[0]\n",
    "ghcnh.read_data_from_url(id, save=True)\n",
    "ghcnh.convert_df_to_gpd()\n",
    "lon = ghcnh.station_data.Longitude.mean()\n",
    "lat = ghcnh.station_data.Latitude.mean()\n",
    "print(\"{}, {:.5f}, {:.5f}\".format(id, lon, lat))\n",
    "ghcnh.station_data.head(3)"
   ]
  },
  {
   "cell_type": "markdown",
   "id": "460d1c34-c527-400c-8fed-14f384e6002a",
   "metadata": {},
   "source": [
    "## Train stations and even evaluation"
   ]
  },
  {
   "cell_type": "markdown",
   "id": "ee32ab34-554e-43a9-8bec-7d8e07150347",
   "metadata": {},
   "source": [
    "### Read in stations"
   ]
  },
  {
   "cell_type": "code",
   "execution_count": 3,
   "id": "b768ca2a-0d08-4824-81c9-4b4325ed326e",
   "metadata": {
    "execution": {
     "iopub.execute_input": "2024-10-01T19:08:47.145105Z",
     "iopub.status.busy": "2024-10-01T19:08:47.144993Z",
     "iopub.status.idle": "2024-10-01T19:08:47.165443Z",
     "shell.execute_reply": "2024-10-01T19:08:47.165133Z",
     "shell.execute_reply.started": "2024-10-01T19:08:47.145095Z"
    }
   },
   "outputs": [],
   "source": [
    "train_stns = pd.read_csv('../qaqc_training_station_list_events.csv')"
   ]
  },
  {
   "cell_type": "markdown",
   "id": "dfa0b2f9-4289-45c0-aed2-f07e5513d220",
   "metadata": {},
   "source": [
    "### How to identify other events of interest using a start and end date"
   ]
  },
  {
   "cell_type": "code",
   "execution_count": 4,
   "id": "02c39e75-fccd-4915-be01-c77f9508dbb3",
   "metadata": {
    "execution": {
     "iopub.execute_input": "2024-10-01T19:08:47.166152Z",
     "iopub.status.busy": "2024-10-01T19:08:47.166004Z",
     "iopub.status.idle": "2024-10-01T19:08:47.188138Z",
     "shell.execute_reply": "2024-10-01T19:08:47.187868Z",
     "shell.execute_reply.started": "2024-10-01T19:08:47.166141Z"
    }
   },
   "outputs": [
    {
     "name": "stdout",
     "output_type": "stream",
     "text": [
      "Subsetting station record for event duration with 14 day buffer...\n",
      "5 stations selected for evaluation for comparison!\n",
      "Stations selected for evaluation:\n",
      " ['ASOSAWOS_72595724215', 'ASOSAWOS_72639200424', 'CIMIS_7', 'ASOSAWOS_72492023237', 'ASOSAWOS_72586494182']\n"
     ]
    },
    {
     "data": {
      "text/html": [
       "<div>\n",
       "<style scoped>\n",
       "    .dataframe tbody tr th:only-of-type {\n",
       "        vertical-align: middle;\n",
       "    }\n",
       "\n",
       "    .dataframe tbody tr th {\n",
       "        vertical-align: top;\n",
       "    }\n",
       "\n",
       "    .dataframe thead th {\n",
       "        text-align: right;\n",
       "    }\n",
       "</style>\n",
       "<table border=\"1\" class=\"dataframe\">\n",
       "  <thead>\n",
       "    <tr style=\"text-align: right;\">\n",
       "      <th></th>\n",
       "      <th>network</th>\n",
       "      <th>era-id</th>\n",
       "      <th>elevation</th>\n",
       "      <th>latitude</th>\n",
       "      <th>longitude</th>\n",
       "      <th>start_date</th>\n",
       "      <th>end_date</th>\n",
       "      <th>event_type</th>\n",
       "      <th>notes</th>\n",
       "    </tr>\n",
       "  </thead>\n",
       "  <tbody>\n",
       "    <tr>\n",
       "      <th>91</th>\n",
       "      <td>ASOSAWOS</td>\n",
       "      <td>ASOSAWOS_72595724215</td>\n",
       "      <td>1082.9544</td>\n",
       "      <td>41.315000</td>\n",
       "      <td>-122.31700</td>\n",
       "      <td>1977-01-01 00:00:00+00:00</td>\n",
       "      <td>2022-12-31 00:00:00+00:00</td>\n",
       "      <td>all</td>\n",
       "      <td>NaN</td>\n",
       "    </tr>\n",
       "    <tr>\n",
       "      <th>96</th>\n",
       "      <td>ASOSAWOS</td>\n",
       "      <td>ASOSAWOS_72639200424</td>\n",
       "      <td>3232.0992</td>\n",
       "      <td>39.433000</td>\n",
       "      <td>-107.38300</td>\n",
       "      <td>2005-06-11 00:00:00+00:00</td>\n",
       "      <td>2022-12-31 00:00:00+00:00</td>\n",
       "      <td>AR, mudslide, heatwave1, heatwave2, heatwave3,...</td>\n",
       "      <td>NaN</td>\n",
       "    </tr>\n",
       "    <tr>\n",
       "      <th>247</th>\n",
       "      <td>CIMIS</td>\n",
       "      <td>CIMIS_7</td>\n",
       "      <td>185.0000</td>\n",
       "      <td>36.851248</td>\n",
       "      <td>-120.59098</td>\n",
       "      <td>1982-09-22 00:00:00+00:00</td>\n",
       "      <td>2024-01-22 13:36:19.951554+00:00</td>\n",
       "      <td>all</td>\n",
       "      <td>NaN</td>\n",
       "    </tr>\n",
       "  </tbody>\n",
       "</table>\n",
       "</div>"
      ],
      "text/plain": [
       "      network                era-id  elevation   latitude  longitude  \\\n",
       "91   ASOSAWOS  ASOSAWOS_72595724215  1082.9544  41.315000 -122.31700   \n",
       "96   ASOSAWOS  ASOSAWOS_72639200424  3232.0992  39.433000 -107.38300   \n",
       "247     CIMIS               CIMIS_7   185.0000  36.851248 -120.59098   \n",
       "\n",
       "                   start_date                         end_date  \\\n",
       "91  1977-01-01 00:00:00+00:00        2022-12-31 00:00:00+00:00   \n",
       "96  2005-06-11 00:00:00+00:00        2022-12-31 00:00:00+00:00   \n",
       "247 1982-09-22 00:00:00+00:00 2024-01-22 13:36:19.951554+00:00   \n",
       "\n",
       "                                            event_type notes  \n",
       "91                                                 all   NaN  \n",
       "96   AR, mudslide, heatwave1, heatwave2, heatwave3,...   NaN  \n",
       "247                                                all   NaN  "
      ]
     },
     "execution_count": 4,
     "metadata": {},
     "output_type": "execute_result"
    }
   ],
   "source": [
    "alt_start_date = \"2007-10-20\"\n",
    "alt_end_date = \"2007-10-24\"\n",
    "alt_event_stns = find_other_events (train_stns, event_start=alt_start_date, event_end=alt_end_date, buffer=14, subset=5)\n",
    "alt_event_stns.head(3)"
   ]
  },
  {
   "cell_type": "markdown",
   "id": "80be1a57-b1fe-4106-b045-5de1e0056864",
   "metadata": {},
   "source": [
    "### Original functionality of `subset_eval_stns` function, random sampling from trainint stations"
   ]
  },
  {
   "cell_type": "code",
   "execution_count": 5,
   "id": "7504cc69-4747-4ee1-8d6d-91e042742f33",
   "metadata": {
    "execution": {
     "iopub.execute_input": "2024-10-01T19:08:47.188764Z",
     "iopub.status.busy": "2024-10-01T19:08:47.188623Z",
     "iopub.status.idle": "2024-10-01T19:08:47.662175Z",
     "shell.execute_reply": "2024-10-01T19:08:47.661896Z",
     "shell.execute_reply.started": "2024-10-01T19:08:47.188752Z"
    }
   },
   "outputs": [
    {
     "name": "stdout",
     "output_type": "stream",
     "text": [
      "17 potential stations available for evaluation for santa_ana_wind event.\n",
      "5 stations selected for evaluation for santa_ana_wind event!\n",
      "Stations selected for evaluation:\n",
      " ['ASOSAWOS_72288023152', 'ASOSAWOS_72382023182', 'ASOSAWOS_74718703104', 'ASOSAWOS_72290023188', 'ASOSAWOS_72290693112']\n"
     ]
    },
    {
     "data": {
      "text/html": [
       "<div>\n",
       "<style scoped>\n",
       "    .dataframe tbody tr th:only-of-type {\n",
       "        vertical-align: middle;\n",
       "    }\n",
       "\n",
       "    .dataframe tbody tr th {\n",
       "        vertical-align: top;\n",
       "    }\n",
       "\n",
       "    .dataframe thead th {\n",
       "        text-align: right;\n",
       "    }\n",
       "</style>\n",
       "<table border=\"1\" class=\"dataframe\">\n",
       "  <thead>\n",
       "    <tr style=\"text-align: right;\">\n",
       "      <th></th>\n",
       "      <th>network</th>\n",
       "      <th>era-id</th>\n",
       "      <th>elevation</th>\n",
       "      <th>latitude</th>\n",
       "      <th>longitude</th>\n",
       "      <th>start_date</th>\n",
       "      <th>end_date</th>\n",
       "      <th>event_type</th>\n",
       "      <th>notes</th>\n",
       "      <th>STATEFP</th>\n",
       "      <th>...</th>\n",
       "      <th>CBSAFP</th>\n",
       "      <th>METDIVFP</th>\n",
       "      <th>FUNCSTAT</th>\n",
       "      <th>ALAND</th>\n",
       "      <th>AWATER</th>\n",
       "      <th>INTPTLAT</th>\n",
       "      <th>INTPTLON</th>\n",
       "      <th>Shape_Leng</th>\n",
       "      <th>Shape_Area</th>\n",
       "      <th>geometry</th>\n",
       "    </tr>\n",
       "  </thead>\n",
       "  <tbody>\n",
       "    <tr>\n",
       "      <th>0</th>\n",
       "      <td>ASOSAWOS</td>\n",
       "      <td>ASOSAWOS_72288023152</td>\n",
       "      <td>222.8088</td>\n",
       "      <td>34.200</td>\n",
       "      <td>-118.365</td>\n",
       "      <td>1943-06-01 00:00:00+00:00</td>\n",
       "      <td>2022-12-31 00:00:00+00:00</td>\n",
       "      <td>all</td>\n",
       "      <td>NaN</td>\n",
       "      <td>06</td>\n",
       "      <td>...</td>\n",
       "      <td>31080</td>\n",
       "      <td>31084</td>\n",
       "      <td>A</td>\n",
       "      <td>1.051186e+10</td>\n",
       "      <td>1.793485e+09</td>\n",
       "      <td>+34.1963983</td>\n",
       "      <td>-118.2618616</td>\n",
       "      <td>883876.944789</td>\n",
       "      <td>1.803431e+10</td>\n",
       "      <td>POINT (-13176331.528 4055688.859)</td>\n",
       "    </tr>\n",
       "    <tr>\n",
       "      <th>6</th>\n",
       "      <td>ASOSAWOS</td>\n",
       "      <td>ASOSAWOS_72382023182</td>\n",
       "      <td>764.7432</td>\n",
       "      <td>34.629</td>\n",
       "      <td>-118.083</td>\n",
       "      <td>1973-01-01 00:00:00+00:00</td>\n",
       "      <td>2022-12-31 00:00:00+00:00</td>\n",
       "      <td>all</td>\n",
       "      <td>NaN</td>\n",
       "      <td>06</td>\n",
       "      <td>...</td>\n",
       "      <td>31080</td>\n",
       "      <td>31084</td>\n",
       "      <td>A</td>\n",
       "      <td>1.051186e+10</td>\n",
       "      <td>1.793485e+09</td>\n",
       "      <td>+34.1963983</td>\n",
       "      <td>-118.2618616</td>\n",
       "      <td>883876.944789</td>\n",
       "      <td>1.803431e+10</td>\n",
       "      <td>POINT (-13144939.431 4113577.327)</td>\n",
       "    </tr>\n",
       "    <tr>\n",
       "      <th>13</th>\n",
       "      <td>ASOSAWOS</td>\n",
       "      <td>ASOSAWOS_74718703104</td>\n",
       "      <td>-35.9664</td>\n",
       "      <td>33.632</td>\n",
       "      <td>-116.164</td>\n",
       "      <td>1943-07-12 00:00:00+00:00</td>\n",
       "      <td>2022-12-31 00:00:00+00:00</td>\n",
       "      <td>all</td>\n",
       "      <td>NaN</td>\n",
       "      <td>06</td>\n",
       "      <td>...</td>\n",
       "      <td>40140</td>\n",
       "      <td>NaN</td>\n",
       "      <td>A</td>\n",
       "      <td>1.867121e+10</td>\n",
       "      <td>2.438832e+08</td>\n",
       "      <td>+33.7298275</td>\n",
       "      <td>-116.0022389</td>\n",
       "      <td>911208.750606</td>\n",
       "      <td>2.742705e+10</td>\n",
       "      <td>POINT (-12931317.329 3979495.007)</td>\n",
       "    </tr>\n",
       "  </tbody>\n",
       "</table>\n",
       "<p>3 rows × 29 columns</p>\n",
       "</div>"
      ],
      "text/plain": [
       "     network                era-id  elevation  latitude  longitude  \\\n",
       "0   ASOSAWOS  ASOSAWOS_72288023152   222.8088    34.200   -118.365   \n",
       "6   ASOSAWOS  ASOSAWOS_72382023182   764.7432    34.629   -118.083   \n",
       "13  ASOSAWOS  ASOSAWOS_74718703104   -35.9664    33.632   -116.164   \n",
       "\n",
       "                  start_date                  end_date event_type notes  \\\n",
       "0  1943-06-01 00:00:00+00:00 2022-12-31 00:00:00+00:00        all   NaN   \n",
       "6  1973-01-01 00:00:00+00:00 2022-12-31 00:00:00+00:00        all   NaN   \n",
       "13 1943-07-12 00:00:00+00:00 2022-12-31 00:00:00+00:00        all   NaN   \n",
       "\n",
       "   STATEFP  ... CBSAFP METDIVFP FUNCSTAT         ALAND        AWATER  \\\n",
       "0       06  ...  31080    31084        A  1.051186e+10  1.793485e+09   \n",
       "6       06  ...  31080    31084        A  1.051186e+10  1.793485e+09   \n",
       "13      06  ...  40140      NaN        A  1.867121e+10  2.438832e+08   \n",
       "\n",
       "       INTPTLAT      INTPTLON     Shape_Leng    Shape_Area  \\\n",
       "0   +34.1963983  -118.2618616  883876.944789  1.803431e+10   \n",
       "6   +34.1963983  -118.2618616  883876.944789  1.803431e+10   \n",
       "13  +33.7298275  -116.0022389  911208.750606  2.742705e+10   \n",
       "\n",
       "                             geometry  \n",
       "0   POINT (-13176331.528 4055688.859)  \n",
       "6   POINT (-13144939.431 4113577.327)  \n",
       "13  POINT (-12931317.329 3979495.007)  \n",
       "\n",
       "[3 rows x 29 columns]"
      ]
     },
     "execution_count": 5,
     "metadata": {},
     "output_type": "execute_result"
    }
   ],
   "source": [
    "eval_stations = subset_eval_stns(\n",
    "    event_to_eval = 'santa_ana_wind',\n",
    "    stn_list = train_stns,\n",
    "    subset = 5,\n",
    "    return_stn_ids = True\n",
    ")\n",
    "eval_stations.head(3)"
   ]
  },
  {
   "cell_type": "code",
   "execution_count": 6,
   "id": "374ceec1-4b15-466c-ba18-7237f47ec6f7",
   "metadata": {
    "execution": {
     "iopub.execute_input": "2024-10-01T19:08:47.662768Z",
     "iopub.status.busy": "2024-10-01T19:08:47.662675Z",
     "iopub.status.idle": "2024-10-01T19:08:47.681190Z",
     "shell.execute_reply": "2024-10-01T19:08:47.680900Z",
     "shell.execute_reply.started": "2024-10-01T19:08:47.662754Z"
    }
   },
   "outputs": [
    {
     "data": {
      "text/plain": [
       "'ASOSAWOS_72290693112'"
      ]
     },
     "execution_count": 6,
     "metadata": {},
     "output_type": "execute_result"
    }
   ],
   "source": [
    "eval_stations['era-id'].values[-1]\n",
    "# eval_stations.loc[eval_stations['era-id']==stn_id]"
   ]
  },
  {
   "cell_type": "code",
   "execution_count": 7,
   "id": "1aa20598-2caa-450f-ac65-a9a3cdfb52cd",
   "metadata": {
    "execution": {
     "iopub.execute_input": "2024-10-01T19:08:47.683214Z",
     "iopub.status.busy": "2024-10-01T19:08:47.683100Z",
     "iopub.status.idle": "2024-10-01T19:08:53.513316Z",
     "shell.execute_reply": "2024-10-01T19:08:53.513013Z",
     "shell.execute_reply.started": "2024-10-01T19:08:47.683201Z"
    }
   },
   "outputs": [
    {
     "data": {
      "text/plain": [
       "[<matplotlib.lines.Line2D at 0x36edc6a90>]"
      ]
     },
     "execution_count": 7,
     "metadata": {},
     "output_type": "execute_result"
    },
    {
     "data": {
      "image/png": "[encoded data removed]",
      "text/plain": [
       "<Figure size 640x480 with 1 Axes>"
      ]
     },
     "metadata": {},
     "output_type": "display_data"
    }
   ],
   "source": [
    "fig,ax = stn_visualize(\n",
    "    stn_id = eval_stations['era-id'].values[-1],\n",
    "    stn_list = eval_stations,\n",
    "    event_to_eval = 'santa_ana_wind'\n",
    ")\n",
    "\n",
    "ax.plot(ghcnh.stations_df.longitude, ghcnh.stations_df.latitude, 'x', markersize=4, transform=ccrs.PlateCarree(), mfc='none')"
   ]
  },
  {
   "cell_type": "markdown",
   "id": "b6ea2523-1778-481a-a847-41d52a92eb9b",
   "metadata": {},
   "source": [
    "### New addition, specific station flag\n",
    "\n",
    "<div style=\"width: 60%;\">\n",
    "Specific station flag introduced to control which station we are analyzing\n",
    "Useful for debugging, down the line this would help to manage using the same\n",
    "station and not download different stations every time in the nearest stations\n",
    "part (down)\n",
    "</div>"
   ]
  },
  {
   "cell_type": "code",
   "execution_count": 8,
   "id": "1f1c8318-a7b9-4ea0-8cf8-c838bb57a24e",
   "metadata": {
    "execution": {
     "iopub.execute_input": "2024-10-01T19:08:53.513846Z",
     "iopub.status.busy": "2024-10-01T19:08:53.513755Z",
     "iopub.status.idle": "2024-10-01T19:08:54.433400Z",
     "shell.execute_reply": "2024-10-01T19:08:54.432611Z",
     "shell.execute_reply.started": "2024-10-01T19:08:53.513836Z"
    }
   },
   "outputs": [
    {
     "name": "stdout",
     "output_type": "stream",
     "text": [
      "17 potential stations available for evaluation for santa_ana_wind event.\n"
     ]
    },
    {
     "ename": "ValueError",
     "evalue": "Station CIMIS_80 is not within the training/event dataset",
     "output_type": "error",
     "traceback": [
      "\u001b[0;31m---------------------------------------------------------------------------\u001b[0m",
      "\u001b[0;31mValueError\u001b[0m                                Traceback (most recent call last)",
      "Cell \u001b[0;32mIn[8], line 3\u001b[0m\n\u001b[1;32m      1\u001b[0m \u001b[38;5;124;03m\"\"\" Test when station is not in the training/event dataframe\"\"\"\u001b[39;00m\n\u001b[0;32m----> 3\u001b[0m eval_stations \u001b[38;5;241m=\u001b[39m \u001b[43msubset_eval_stns\u001b[49m\u001b[43m(\u001b[49m\n\u001b[1;32m      4\u001b[0m \u001b[43m    \u001b[49m\u001b[43mevent_to_eval\u001b[49m\u001b[43m \u001b[49m\u001b[38;5;241;43m=\u001b[39;49m\u001b[43m \u001b[49m\u001b[38;5;124;43m'\u001b[39;49m\u001b[38;5;124;43msanta_ana_wind\u001b[39;49m\u001b[38;5;124;43m'\u001b[39;49m\u001b[43m,\u001b[49m\n\u001b[1;32m      5\u001b[0m \u001b[43m    \u001b[49m\u001b[43mstn_list\u001b[49m\u001b[43m \u001b[49m\u001b[38;5;241;43m=\u001b[39;49m\u001b[43m \u001b[49m\u001b[43mtrain_stns\u001b[49m\u001b[43m,\u001b[49m\n\u001b[1;32m      6\u001b[0m \u001b[43m    \u001b[49m\u001b[43mspecific_station\u001b[49m\u001b[38;5;241;43m=\u001b[39;49m\u001b[38;5;124;43m'\u001b[39;49m\u001b[38;5;124;43mCIMIS_80\u001b[39;49m\u001b[38;5;124;43m'\u001b[39;49m\u001b[43m,\u001b[49m\n\u001b[1;32m      7\u001b[0m \u001b[43m    \u001b[49m\u001b[43mreturn_stn_ids\u001b[49m\u001b[43m \u001b[49m\u001b[38;5;241;43m=\u001b[39;49m\u001b[43m \u001b[49m\u001b[38;5;28;43;01mTrue\u001b[39;49;00m\n\u001b[1;32m      8\u001b[0m \u001b[43m)\u001b[49m\n\u001b[1;32m      9\u001b[0m eval_stations\n",
      "File \u001b[0;32m~/ERA_work/historical-obs-platform/test_platform/scripts/3_qaqc_data/qaqc_eval_notebooks/qaqc_eval_utils.py:192\u001b[0m, in \u001b[0;36msubset_eval_stns\u001b[0;34m(event_to_eval, stn_list, specific_station, subset, return_stn_ids)\u001b[0m\n\u001b[1;32m    190\u001b[0m     eval_stns \u001b[38;5;241m=\u001b[39m event_stns[event_stns[\u001b[38;5;124m'\u001b[39m\u001b[38;5;124mera-id\u001b[39m\u001b[38;5;124m'\u001b[39m]\u001b[38;5;241m==\u001b[39mspecific_station]\n\u001b[1;32m    191\u001b[0m     \u001b[38;5;28;01mif\u001b[39;00m \u001b[38;5;28mlen\u001b[39m(eval_stns)\u001b[38;5;241m==\u001b[39m\u001b[38;5;241m0\u001b[39m:\n\u001b[0;32m--> 192\u001b[0m         \u001b[38;5;28;01mraise\u001b[39;00m \u001b[38;5;167;01mValueError\u001b[39;00m(\u001b[38;5;124mf\u001b[39m\u001b[38;5;124m\"\u001b[39m\u001b[38;5;124mStation \u001b[39m\u001b[38;5;132;01m{\u001b[39;00mspecific_station\u001b[38;5;132;01m}\u001b[39;00m\u001b[38;5;124m is not within the training/event dataset\u001b[39m\u001b[38;5;124m\"\u001b[39m)\n\u001b[1;32m    193\u001b[0m     \u001b[38;5;28;01mreturn\u001b[39;00m eval_stns\n\u001b[1;32m    195\u001b[0m \u001b[38;5;28;01mif\u001b[39;00m subset \u001b[38;5;241m!=\u001b[39m \u001b[38;5;28;01mNone\u001b[39;00m:\n",
      "\u001b[0;31mValueError\u001b[0m: Station CIMIS_80 is not within the training/event dataset"
     ]
    }
   ],
   "source": [
    "\"\"\" Test when station is not in the training/event dataframe\"\"\"\n",
    "\n",
    "eval_stations = subset_eval_stns(\n",
    "    event_to_eval = 'santa_ana_wind',\n",
    "    stn_list = train_stns,\n",
    "    specific_station='CIMIS_80',\n",
    "    return_stn_ids = True\n",
    ")\n",
    "eval_stations"
   ]
  },
  {
   "cell_type": "code",
   "execution_count": 9,
   "id": "1b374fb9-7058-46d3-a479-3da850b4e791",
   "metadata": {
    "execution": {
     "iopub.execute_input": "2024-10-01T19:10:55.220680Z",
     "iopub.status.busy": "2024-10-01T19:10:55.220259Z",
     "iopub.status.idle": "2024-10-01T19:10:55.256574Z",
     "shell.execute_reply": "2024-10-01T19:10:55.256129Z",
     "shell.execute_reply.started": "2024-10-01T19:10:55.220651Z"
    }
   },
   "outputs": [],
   "source": [
    "specific_station = 'CIMIS_45'\n",
    "specific_station = 'CIMIS_75'"
   ]
  },
  {
   "cell_type": "code",
   "execution_count": 10,
   "id": "101b57fb-30cb-47f0-967a-0c0782f90a4d",
   "metadata": {
    "execution": {
     "iopub.execute_input": "2024-10-01T19:10:55.731711Z",
     "iopub.status.busy": "2024-10-01T19:10:55.731324Z",
     "iopub.status.idle": "2024-10-01T19:10:56.444771Z",
     "shell.execute_reply": "2024-10-01T19:10:56.444475Z",
     "shell.execute_reply.started": "2024-10-01T19:10:55.731684Z"
    }
   },
   "outputs": [
    {
     "name": "stdout",
     "output_type": "stream",
     "text": [
      "17 potential stations available for evaluation for santa_ana_wind event.\n"
     ]
    },
    {
     "data": {
      "text/html": [
       "<div>\n",
       "<style scoped>\n",
       "    .dataframe tbody tr th:only-of-type {\n",
       "        vertical-align: middle;\n",
       "    }\n",
       "\n",
       "    .dataframe tbody tr th {\n",
       "        vertical-align: top;\n",
       "    }\n",
       "\n",
       "    .dataframe thead th {\n",
       "        text-align: right;\n",
       "    }\n",
       "</style>\n",
       "<table border=\"1\" class=\"dataframe\">\n",
       "  <thead>\n",
       "    <tr style=\"text-align: right;\">\n",
       "      <th></th>\n",
       "      <th>network</th>\n",
       "      <th>era-id</th>\n",
       "      <th>elevation</th>\n",
       "      <th>latitude</th>\n",
       "      <th>longitude</th>\n",
       "      <th>start_date</th>\n",
       "      <th>end_date</th>\n",
       "      <th>event_type</th>\n",
       "      <th>notes</th>\n",
       "      <th>geometry</th>\n",
       "    </tr>\n",
       "  </thead>\n",
       "  <tbody>\n",
       "    <tr>\n",
       "      <th>248</th>\n",
       "      <td>CIMIS</td>\n",
       "      <td>CIMIS_75</td>\n",
       "      <td>410.0</td>\n",
       "      <td>33.68845</td>\n",
       "      <td>-117.72118</td>\n",
       "      <td>1987-10-07 00:00:00+00:00</td>\n",
       "      <td>2024-01-22 13:36:19.951554+00:00</td>\n",
       "      <td>all</td>\n",
       "      <td>NaN</td>\n",
       "      <td>POINT (-13104661.813 3987044.797)</td>\n",
       "    </tr>\n",
       "  </tbody>\n",
       "</table>\n",
       "</div>"
      ],
      "text/plain": [
       "    network    era-id  elevation  latitude  longitude  \\\n",
       "248   CIMIS  CIMIS_75      410.0  33.68845 -117.72118   \n",
       "\n",
       "                   start_date                         end_date event_type  \\\n",
       "248 1987-10-07 00:00:00+00:00 2024-01-22 13:36:19.951554+00:00        all   \n",
       "\n",
       "    notes                           geometry  \n",
       "248   NaN  POINT (-13104661.813 3987044.797)  "
      ]
     },
     "execution_count": 10,
     "metadata": {},
     "output_type": "execute_result"
    }
   ],
   "source": [
    "eval_stations = subset_eval_stns(\n",
    "    event_to_eval = 'santa_ana_wind',\n",
    "    stn_list = train_stns,\n",
    "    specific_station=specific_station,\n",
    "    return_stn_ids = True\n",
    ")\n",
    "eval_stations"
   ]
  },
  {
   "cell_type": "markdown",
   "id": "b40c99b1-8608-4cd1-bbbb-d90f367341ad",
   "metadata": {},
   "source": [
    "#### Plot 'specific station' from the training and the GHCNh stations in the 'area'"
   ]
  },
  {
   "cell_type": "code",
   "execution_count": 11,
   "id": "3f8cc510-ed96-4ca2-9050-f79f511d512e",
   "metadata": {
    "execution": {
     "iopub.execute_input": "2024-10-01T19:10:56.496319Z",
     "iopub.status.busy": "2024-10-01T19:10:56.496212Z",
     "iopub.status.idle": "2024-10-01T19:10:56.920247Z",
     "shell.execute_reply": "2024-10-01T19:10:56.919549Z",
     "shell.execute_reply.started": "2024-10-01T19:10:56.496309Z"
    }
   },
   "outputs": [
    {
     "data": {
      "text/plain": [
       "[<matplotlib.lines.Line2D at 0x350128d00>]"
      ]
     },
     "execution_count": 11,
     "metadata": {},
     "output_type": "execute_result"
    },
    {
     "data": {
      "image/png": "[encoded data removed]",
      "text/plain": [
       "<Figure size 640x480 with 1 Axes>"
      ]
     },
     "metadata": {},
     "output_type": "display_data"
    }
   ],
   "source": [
    "fig,ax = stn_visualize(\n",
    "    stn_id = specific_station,\n",
    "    stn_list = eval_stations,\n",
    "    event_to_eval = 'santa_ana_wind'\n",
    ")\n",
    "\n",
    "ax.plot(ghcnh.stations_df.longitude, ghcnh.stations_df.latitude, 'x', markersize=4, transform=ccrs.PlateCarree(), mfc='none')"
   ]
  },
  {
   "cell_type": "markdown",
   "id": "8e2a793b-e5e5-410d-9f47-991c99dd5925",
   "metadata": {},
   "source": [
    "## GHCNh stations distance to the testing stations\n",
    "\n",
    "<div style=\"width: 60%;\">\n",
    "Create a distnace to specific station column for the ghcnh dataframe\n",
    "Then, sort by distance to have the nearest stations to the one we are evaluating\n",
    "</div>"
   ]
  },
  {
   "cell_type": "markdown",
   "id": "a8948ca2-56c4-4610-85a8-e8bf1a138d19",
   "metadata": {},
   "source": [
    "### Create distance and sort it"
   ]
  },
  {
   "cell_type": "code",
   "execution_count": 12,
   "id": "03d95769-1d0b-4bd5-a6b8-01e01cd40222",
   "metadata": {
    "execution": {
     "iopub.execute_input": "2024-10-01T19:10:56.921642Z",
     "iopub.status.busy": "2024-10-01T19:10:56.921510Z",
     "iopub.status.idle": "2024-10-01T19:10:56.955157Z",
     "shell.execute_reply": "2024-10-01T19:10:56.954833Z",
     "shell.execute_reply.started": "2024-10-01T19:10:56.921630Z"
    }
   },
   "outputs": [
    {
     "data": {
      "text/html": [
       "<div>\n",
       "<style scoped>\n",
       "    .dataframe tbody tr th:only-of-type {\n",
       "        vertical-align: middle;\n",
       "    }\n",
       "\n",
       "    .dataframe tbody tr th {\n",
       "        vertical-align: top;\n",
       "    }\n",
       "\n",
       "    .dataframe thead th {\n",
       "        text-align: right;\n",
       "    }\n",
       "</style>\n",
       "<table border=\"1\" class=\"dataframe\">\n",
       "  <thead>\n",
       "    <tr style=\"text-align: right;\">\n",
       "      <th></th>\n",
       "      <th>longitude</th>\n",
       "      <th>latitude</th>\n",
       "    </tr>\n",
       "  </thead>\n",
       "  <tbody>\n",
       "    <tr>\n",
       "      <th>248</th>\n",
       "      <td>-117.72118</td>\n",
       "      <td>33.68845</td>\n",
       "    </tr>\n",
       "  </tbody>\n",
       "</table>\n",
       "</div>"
      ],
      "text/plain": [
       "     longitude  latitude\n",
       "248 -117.72118  33.68845"
      ]
     },
     "metadata": {},
     "output_type": "display_data"
    },
    {
     "data": {
      "text/html": [
       "<div>\n",
       "<style scoped>\n",
       "    .dataframe tbody tr th:only-of-type {\n",
       "        vertical-align: middle;\n",
       "    }\n",
       "\n",
       "    .dataframe tbody tr th {\n",
       "        vertical-align: top;\n",
       "    }\n",
       "\n",
       "    .dataframe thead th {\n",
       "        text-align: right;\n",
       "    }\n",
       "</style>\n",
       "<table border=\"1\" class=\"dataframe\">\n",
       "  <thead>\n",
       "    <tr style=\"text-align: right;\">\n",
       "      <th></th>\n",
       "      <th>id</th>\n",
       "      <th>latitude</th>\n",
       "      <th>longitude</th>\n",
       "      <th>elevation</th>\n",
       "      <th>state</th>\n",
       "      <th>name</th>\n",
       "      <th>gsn_flag</th>\n",
       "      <th>hcn</th>\n",
       "      <th>crn_flag</th>\n",
       "      <th>wmo_id</th>\n",
       "      <th>url</th>\n",
       "      <th>is_in_wecc</th>\n",
       "      <th>geometry</th>\n",
       "      <th>distance_to_eval</th>\n",
       "    </tr>\n",
       "  </thead>\n",
       "  <tbody>\n",
       "    <tr>\n",
       "      <th>5627</th>\n",
       "      <td>USW00093184</td>\n",
       "      <td>33.6797</td>\n",
       "      <td>-117.8675</td>\n",
       "      <td>13.1</td>\n",
       "      <td>CA</td>\n",
       "      <td>SANTA ANA JOHN WAYNE AP</td>\n",
       "      <td></td>\n",
       "      <td></td>\n",
       "      <td></td>\n",
       "      <td>NaN</td>\n",
       "      <td>https://www.ncei.noaa.gov/oa/global-historical...</td>\n",
       "      <td>True</td>\n",
       "      <td>POINT (-13120950.081 3985874.222)</td>\n",
       "      <td>16330.276109</td>\n",
       "    </tr>\n",
       "    <tr>\n",
       "      <th>5138</th>\n",
       "      <td>USW00053175</td>\n",
       "      <td>33.8978</td>\n",
       "      <td>-117.6025</td>\n",
       "      <td>162.5</td>\n",
       "      <td>CA</td>\n",
       "      <td>CORONA MUNICIPAL AP</td>\n",
       "      <td></td>\n",
       "      <td></td>\n",
       "      <td></td>\n",
       "      <td>NaN</td>\n",
       "      <td>https://www.ncei.noaa.gov/oa/global-historical...</td>\n",
       "      <td>True</td>\n",
       "      <td>POINT (-13091450.416 4015087.305)</td>\n",
       "      <td>30998.762024</td>\n",
       "    </tr>\n",
       "    <tr>\n",
       "      <th>3575</th>\n",
       "      <td>USW00003166</td>\n",
       "      <td>33.8717</td>\n",
       "      <td>-117.9855</td>\n",
       "      <td>26.2</td>\n",
       "      <td>CA</td>\n",
       "      <td>FULLERTON MUNI AP</td>\n",
       "      <td></td>\n",
       "      <td></td>\n",
       "      <td></td>\n",
       "      <td>NaN</td>\n",
       "      <td>https://www.ncei.noaa.gov/oa/global-historical...</td>\n",
       "      <td>True</td>\n",
       "      <td>POINT (-13134085.781 4011587.454)</td>\n",
       "      <td>38315.948053</td>\n",
       "    </tr>\n",
       "    <tr>\n",
       "      <th>5110</th>\n",
       "      <td>USW00053141</td>\n",
       "      <td>33.7900</td>\n",
       "      <td>-118.0519</td>\n",
       "      <td>10.7</td>\n",
       "      <td>CA</td>\n",
       "      <td>LOS ALAMITOS AAF</td>\n",
       "      <td></td>\n",
       "      <td></td>\n",
       "      <td></td>\n",
       "      <td>NaN</td>\n",
       "      <td>https://www.ncei.noaa.gov/oa/global-historical...</td>\n",
       "      <td>True</td>\n",
       "      <td>POINT (-13141477.395 4000638.892)</td>\n",
       "      <td>39245.209887</td>\n",
       "    </tr>\n",
       "    <tr>\n",
       "      <th>3582</th>\n",
       "      <td>USW00003179</td>\n",
       "      <td>33.9756</td>\n",
       "      <td>-117.6250</td>\n",
       "      <td>193.9</td>\n",
       "      <td>CA</td>\n",
       "      <td>CHINO AP</td>\n",
       "      <td></td>\n",
       "      <td></td>\n",
       "      <td></td>\n",
       "      <td>NaN</td>\n",
       "      <td>https://www.ncei.noaa.gov/oa/global-historical...</td>\n",
       "      <td>True</td>\n",
       "      <td>POINT (-13093955.105 4025526.173)</td>\n",
       "      <td>39943.083072</td>\n",
       "    </tr>\n",
       "  </tbody>\n",
       "</table>\n",
       "</div>"
      ],
      "text/plain": [
       "               id  latitude  longitude  elevation state  \\\n",
       "5627  USW00093184   33.6797  -117.8675       13.1    CA   \n",
       "5138  USW00053175   33.8978  -117.6025      162.5    CA   \n",
       "3575  USW00003166   33.8717  -117.9855       26.2    CA   \n",
       "5110  USW00053141   33.7900  -118.0519       10.7    CA   \n",
       "3582  USW00003179   33.9756  -117.6250      193.9    CA   \n",
       "\n",
       "                                 name gsn_flag   hcn crn_flag  wmo_id  \\\n",
       "5627   SANTA ANA JOHN WAYNE AP                                    NaN   \n",
       "5138   CORONA MUNICIPAL AP                                        NaN   \n",
       "3575   FULLERTON MUNI AP                                          NaN   \n",
       "5110   LOS ALAMITOS AAF                                           NaN   \n",
       "3582   CHINO AP                                                   NaN   \n",
       "\n",
       "                                                    url  is_in_wecc  \\\n",
       "5627  https://www.ncei.noaa.gov/oa/global-historical...        True   \n",
       "5138  https://www.ncei.noaa.gov/oa/global-historical...        True   \n",
       "3575  https://www.ncei.noaa.gov/oa/global-historical...        True   \n",
       "5110  https://www.ncei.noaa.gov/oa/global-historical...        True   \n",
       "3582  https://www.ncei.noaa.gov/oa/global-historical...        True   \n",
       "\n",
       "                               geometry  distance_to_eval  \n",
       "5627  POINT (-13120950.081 3985874.222)      16330.276109  \n",
       "5138  POINT (-13091450.416 4015087.305)      30998.762024  \n",
       "3575  POINT (-13134085.781 4011587.454)      38315.948053  \n",
       "5110  POINT (-13141477.395 4000638.892)      39245.209887  \n",
       "3582  POINT (-13093955.105 4025526.173)      39943.083072  "
      ]
     },
     "execution_count": 12,
     "metadata": {},
     "output_type": "execute_result"
    }
   ],
   "source": [
    "stn_id = eval_stations['era-id'].values[-1]\n",
    "point = eval_stations.loc[eval_stations['era-id']==stn_id].geometry.iloc[0]\n",
    "ghcnh_stations_df = ghcnh.stations_df.copy()\n",
    "display(eval_stations.loc[eval_stations['era-id']==stn_id, [\"longitude\",\"latitude\"]])\n",
    "ghcnh_stations_df['distance_to_eval'] = ghcnh_stations_df.distance(point, )\n",
    "ghcnh_stations_df = ghcnh_stations_df.sort_values(by=\"distance_to_eval\")\n",
    "ghcnh_stations_df.head(5)"
   ]
  },
  {
   "cell_type": "markdown",
   "id": "479b0170-3f7d-4c75-a686-d65830af9fb8",
   "metadata": {},
   "source": [
    "### Plot the closest 10 stations to the train/eval station"
   ]
  },
  {
   "cell_type": "code",
   "execution_count": 13,
   "id": "bff506b0-873c-4a6c-acbf-6e105e5ae1af",
   "metadata": {
    "execution": {
     "iopub.execute_input": "2024-10-01T19:10:56.955856Z",
     "iopub.status.busy": "2024-10-01T19:10:56.955752Z",
     "iopub.status.idle": "2024-10-01T19:10:57.316819Z",
     "shell.execute_reply": "2024-10-01T19:10:57.316488Z",
     "shell.execute_reply.started": "2024-10-01T19:10:56.955845Z"
    }
   },
   "outputs": [
    {
     "data": {
      "image/png": "[encoded data removed]",
      "text/plain": [
       "<Figure size 640x480 with 1 Axes>"
      ]
     },
     "metadata": {},
     "output_type": "display_data"
    }
   ],
   "source": [
    "fig,ax = stn_visualize(\n",
    "    stn_id = specific_station,\n",
    "    stn_list = eval_stations,\n",
    "    event_to_eval = 'santa_ana_wind'\n",
    ")\n",
    "\n",
    "plot_df = ghcnh_stations_df.iloc[:10]\n",
    "ax.plot(plot_df.longitude, plot_df.latitude, 'x', markersize=6, transform=ccrs.PlateCarree(), mfc='none');"
   ]
  },
  {
   "cell_type": "code",
   "execution_count": 14,
   "id": "cff25002-086b-458e-b3e6-5e90712ee97a",
   "metadata": {
    "execution": {
     "iopub.execute_input": "2024-10-01T19:10:57.317533Z",
     "iopub.status.busy": "2024-10-01T19:10:57.317374Z",
     "iopub.status.idle": "2024-10-01T19:10:57.338155Z",
     "shell.execute_reply": "2024-10-01T19:10:57.337784Z",
     "shell.execute_reply.started": "2024-10-01T19:10:57.317520Z"
    }
   },
   "outputs": [],
   "source": [
    "def return_ghcn_vars(ghcn_df, input_var):\n",
    "    '''\n",
    "    Given an input variable, return GHCNh location variables and all relevant data variables,\n",
    "    rather than utilizing the whole 240 cols, or having to know how ghcnh labels the cols.\n",
    "\n",
    "    input_var must follow ERA naming scheme (tas, tdps, ps, pr, etc.)\n",
    "    '''\n",
    "    ghcnh_vars = pd.read_csv('ghcnh_data_headers.csv')\n",
    "\n",
    "    # include station-ID, time, loc, elevation (cols 1-10)\n",
    "    stn_info_cols = ['Station_ID', 'Station_name', 'time',\n",
    "                     'Latitude','Longitude','Elevation',\n",
    "                     'geometry'\n",
    "                    ]\n",
    "    vars = {\n",
    "        'tas': 'temperature',\n",
    "        'tdps': 'dew_point_temperature',\n",
    "        'tdps_derived': 'dew_point_temperature',\n",
    "        'ps': 'station_level_pressure',\n",
    "        'psl': 'station_level_pressure',\n",
    "        'sfcWind_dir': 'wind_direction',\n",
    "        'sfcWind': 'wind_speed',\n",
    "        'tas': 'temperature',\n",
    "        'hurs': 'relative_humidity',\n",
    "        'rsds': \"N/A\",\n",
    "        'pr': 'precipitation',\n",
    "        'pr_1h': 'precipitation',\n",
    "        'pr_5min': 'precipitation',\n",
    "    }\n",
    "    if input_var in vars.keys():\n",
    "        i = ghcn_df.columns.get_loc(vars[input_var])\n",
    "        j = i+6\n",
    "        # For wind, include wind gust\n",
    "        if input_var==\"sfcWind\":\n",
    "            j = j+6\n",
    "        var_cols = ghcn_df.iloc[:, i:j].columns\n",
    "        return_cols = np.concatenate([stn_info_cols,var_cols])\n",
    "        \n",
    "        return ghcn_df.loc[:, return_cols], vars\n",
    "    else:\n",
    "        raise Exception(f\"Variable {input_var} not in variables' dictionary\")"
   ]
  },
  {
   "cell_type": "code",
   "execution_count": 15,
   "id": "79115793-dd89-499b-bc6c-3127f1fcb67f",
   "metadata": {
    "execution": {
     "iopub.execute_input": "2024-10-01T19:10:57.338854Z",
     "iopub.status.busy": "2024-10-01T19:10:57.338752Z",
     "iopub.status.idle": "2024-10-01T19:10:57.356914Z",
     "shell.execute_reply": "2024-10-01T19:10:57.356638Z",
     "shell.execute_reply.started": "2024-10-01T19:10:57.338843Z"
    }
   },
   "outputs": [
    {
     "data": {
      "text/plain": [
       "{'tas': 'temperature',\n",
       " 'tdps': 'dew_point_temperature',\n",
       " 'tdps_derived': 'dew_point_temperature',\n",
       " 'ps': 'station_level_pressure',\n",
       " 'psl': 'station_level_pressure',\n",
       " 'sfcWind_dir': 'wind_direction',\n",
       " 'sfcWind': 'wind_speed',\n",
       " 'hurs': 'relative_humidity',\n",
       " 'rsds': 'N/A',\n",
       " 'pr': 'precipitation',\n",
       " 'pr_1h': 'precipitation',\n",
       " 'pr_5min': 'precipitation'}"
      ]
     },
     "execution_count": 15,
     "metadata": {},
     "output_type": "execute_result"
    }
   ],
   "source": [
    "era2ghcn_vars"
   ]
  },
  {
   "cell_type": "code",
   "execution_count": 16,
   "id": "8e7922ce-be61-4d80-a12f-ced0db800727",
   "metadata": {
    "execution": {
     "iopub.execute_input": "2024-10-01T19:10:57.357795Z",
     "iopub.status.busy": "2024-10-01T19:10:57.357611Z",
     "iopub.status.idle": "2024-10-01T19:10:57.374804Z",
     "shell.execute_reply": "2024-10-01T19:10:57.374473Z",
     "shell.execute_reply.started": "2024-10-01T19:10:57.357780Z"
    }
   },
   "outputs": [],
   "source": [
    "# df, vars = return_ghcn_vars(ghcnh.station_data, 'tas')"
   ]
  },
  {
   "cell_type": "code",
   "execution_count": 17,
   "id": "b2737077-28e4-4b01-a499-813cb7b7b0b1",
   "metadata": {
    "execution": {
     "iopub.execute_input": "2024-10-01T19:10:57.399263Z",
     "iopub.status.busy": "2024-10-01T19:10:57.399037Z",
     "iopub.status.idle": "2024-10-01T19:10:57.415044Z",
     "shell.execute_reply": "2024-10-01T19:10:57.414710Z",
     "shell.execute_reply.started": "2024-10-01T19:10:57.399250Z"
    }
   },
   "outputs": [],
   "source": [
    "# len(df.temperature_Quality_Code.dropna())/len(df.temperature_Quality_Code)"
   ]
  },
  {
   "cell_type": "code",
   "execution_count": 95,
   "id": "a4dcd8f5-180d-4a1a-bf92-26a5f1d210d3",
   "metadata": {
    "execution": {
     "iopub.execute_input": "2024-10-01T20:01:19.756091Z",
     "iopub.status.busy": "2024-10-01T20:01:19.754133Z",
     "iopub.status.idle": "2024-10-01T20:01:28.344497Z",
     "shell.execute_reply": "2024-10-01T20:01:28.344119Z",
     "shell.execute_reply.started": "2024-10-01T20:01:19.756022Z"
    }
   },
   "outputs": [
    {
     "name": "stdout",
     "output_type": "stream",
     "text": [
      "Retrieving data for station...\n",
      "s3://wecc-historical-wx/3_qaqc_wx_dev/CIMIS/CIMIS_75.nc\n",
      "CPU times: user 203 ms, sys: 85.6 ms, total: 289 ms\n",
      "Wall time: 8.53 s\n"
     ]
    },
    {
     "data": {
      "text/html": [
       "<div><svg style=\"position: absolute; width: 0; height: 0; overflow: hidden\">\n",
       "<defs>\n",
       "<symbol id=\"icon-database\" viewBox=\"0 0 32 32\">\n",
       "<path d=\"M16 0c-8.837 0-16 2.239-16 5v4c0 2.761 7.163 5 16 5s16-2.239 16-5v-4c0-2.761-7.163-5-16-5z\"></path>\n",
       "<path d=\"M16 17c-8.837 0-16-2.239-16-5v6c0 2.761 7.163 5 16 5s16-2.239 16-5v-6c0 2.761-7.163 5-16 5z\"></path>\n",
       "<path d=\"M16 26c-8.837 0-16-2.239-16-5v6c0 2.761 7.163 5 16 5s16-2.239 16-5v-6c0 2.761-7.163 5-16 5z\"></path>\n",
       "</symbol>\n",
       "<symbol id=\"icon-file-text2\" viewBox=\"0 0 32 32\">\n",
       "<path d=\"M28.681 7.159c-0.694-0.947-1.662-2.053-2.724-3.116s-2.169-2.030-3.116-2.724c-1.612-1.182-2.393-1.319-2.841-1.319h-15.5c-1.378 0-2.5 1.121-2.5 2.5v27c0 1.378 1.122 2.5 2.5 2.5h23c1.378 0 2.5-1.122 2.5-2.5v-19.5c0-0.448-0.137-1.23-1.319-2.841zM24.543 5.457c0.959 0.959 1.712 1.825 2.268 2.543h-4.811v-4.811c0.718 0.556 1.584 1.309 2.543 2.268zM28 29.5c0 0.271-0.229 0.5-0.5 0.5h-23c-0.271 0-0.5-0.229-0.5-0.5v-27c0-0.271 0.229-0.5 0.5-0.5 0 0 15.499-0 15.5 0v7c0 0.552 0.448 1 1 1h7v19.5z\"></path>\n",
       "<path d=\"M23 26h-14c-0.552 0-1-0.448-1-1s0.448-1 1-1h14c0.552 0 1 0.448 1 1s-0.448 1-1 1z\"></path>\n",
       "<path d=\"M23 22h-14c-0.552 0-1-0.448-1-1s0.448-1 1-1h14c0.552 0 1 0.448 1 1s-0.448 1-1 1z\"></path>\n",
       "<path d=\"M23 18h-14c-0.552 0-1-0.448-1-1s0.448-1 1-1h14c0.552 0 1 0.448 1 1s-0.448 1-1 1z\"></path>\n",
       "</symbol>\n",
       "</defs>\n",
       "</svg>\n",
       "<style>/* CSS stylesheet for displaying xarray objects in jupyterlab.\n",
       " *\n",
       " */\n",
       "\n",
       ":root {\n",
       "  --xr-font-color0: var(--jp-content-font-color0, rgba(0, 0, 0, 1));\n",
       "  --xr-font-color2: var(--jp-content-font-color2, rgba(0, 0, 0, 0.54));\n",
       "  --xr-font-color3: var(--jp-content-font-color3, rgba(0, 0, 0, 0.38));\n",
       "  --xr-border-color: var(--jp-border-color2, #e0e0e0);\n",
       "  --xr-disabled-color: var(--jp-layout-color3, #bdbdbd);\n",
       "  --xr-background-color: var(--jp-layout-color0, white);\n",
       "  --xr-background-color-row-even: var(--jp-layout-color1, white);\n",
       "  --xr-background-color-row-odd: var(--jp-layout-color2, #eeeeee);\n",
       "}\n",
       "\n",
       "html[theme=dark],\n",
       "body.vscode-dark {\n",
       "  --xr-font-color0: rgba(255, 255, 255, 1);\n",
       "  --xr-font-color2: rgba(255, 255, 255, 0.54);\n",
       "  --xr-font-color3: rgba(255, 255, 255, 0.38);\n",
       "  --xr-border-color: #1F1F1F;\n",
       "  --xr-disabled-color: #515151;\n",
       "  --xr-background-color: #111111;\n",
       "  --xr-background-color-row-even: #111111;\n",
       "  --xr-background-color-row-odd: #313131;\n",
       "}\n",
       "\n",
       ".xr-wrap {\n",
       "  display: block !important;\n",
       "  min-width: 300px;\n",
       "  max-width: 700px;\n",
       "}\n",
       "\n",
       ".xr-text-repr-fallback {\n",
       "  /* fallback to plain text repr when CSS is not injected (untrusted notebook) */\n",
       "  display: none;\n",
       "}\n",
       "\n",
       ".xr-header {\n",
       "  padding-top: 6px;\n",
       "  padding-bottom: 6px;\n",
       "  margin-bottom: 4px;\n",
       "  border-bottom: solid 1px var(--xr-border-color);\n",
       "}\n",
       "\n",
       ".xr-header > div,\n",
       ".xr-header > ul {\n",
       "  display: inline;\n",
       "  margin-top: 0;\n",
       "  margin-bottom: 0;\n",
       "}\n",
       "\n",
       ".xr-obj-type,\n",
       ".xr-array-name {\n",
       "  margin-left: 2px;\n",
       "  margin-right: 10px;\n",
       "}\n",
       "\n",
       ".xr-obj-type {\n",
       "  color: var(--xr-font-color2);\n",
       "}\n",
       "\n",
       ".xr-sections {\n",
       "  padding-left: 0 !important;\n",
       "  display: grid;\n",
       "  grid-template-columns: 150px auto auto 1fr 20px 20px;\n",
       "}\n",
       "\n",
       ".xr-section-item {\n",
       "  display: contents;\n",
       "}\n",
       "\n",
       ".xr-section-item input {\n",
       "  display: none;\n",
       "}\n",
       "\n",
       ".xr-section-item input + label {\n",
       "  color: var(--xr-disabled-color);\n",
       "}\n",
       "\n",
       ".xr-section-item input:enabled + label {\n",
       "  cursor: pointer;\n",
       "  color: var(--xr-font-color2);\n",
       "}\n",
       "\n",
       ".xr-section-item input:enabled + label:hover {\n",
       "  color: var(--xr-font-color0);\n",
       "}\n",
       "\n",
       ".xr-section-summary {\n",
       "  grid-column: 1;\n",
       "  color: var(--xr-font-color2);\n",
       "  font-weight: 500;\n",
       "}\n",
       "\n",
       ".xr-section-summary > span {\n",
       "  display: inline-block;\n",
       "  padding-left: 0.5em;\n",
       "}\n",
       "\n",
       ".xr-section-summary-in:disabled + label {\n",
       "  color: var(--xr-font-color2);\n",
       "}\n",
       "\n",
       ".xr-section-summary-in + label:before {\n",
       "  display: inline-block;\n",
       "  content: '►';\n",
       "  font-size: 11px;\n",
       "  width: 15px;\n",
       "  text-align: center;\n",
       "}\n",
       "\n",
       ".xr-section-summary-in:disabled + label:before {\n",
       "  color: var(--xr-disabled-color);\n",
       "}\n",
       "\n",
       ".xr-section-summary-in:checked + label:before {\n",
       "  content: '▼';\n",
       "}\n",
       "\n",
       ".xr-section-summary-in:checked + label > span {\n",
       "  display: none;\n",
       "}\n",
       "\n",
       ".xr-section-summary,\n",
       ".xr-section-inline-details {\n",
       "  padding-top: 4px;\n",
       "  padding-bottom: 4px;\n",
       "}\n",
       "\n",
       ".xr-section-inline-details {\n",
       "  grid-column: 2 / -1;\n",
       "}\n",
       "\n",
       ".xr-section-details {\n",
       "  display: none;\n",
       "  grid-column: 1 / -1;\n",
       "  margin-bottom: 5px;\n",
       "}\n",
       "\n",
       ".xr-section-summary-in:checked ~ .xr-section-details {\n",
       "  display: contents;\n",
       "}\n",
       "\n",
       ".xr-array-wrap {\n",
       "  grid-column: 1 / -1;\n",
       "  display: grid;\n",
       "  grid-template-columns: 20px auto;\n",
       "}\n",
       "\n",
       ".xr-array-wrap > label {\n",
       "  grid-column: 1;\n",
       "  vertical-align: top;\n",
       "}\n",
       "\n",
       ".xr-preview {\n",
       "  color: var(--xr-font-color3);\n",
       "}\n",
       "\n",
       ".xr-array-preview,\n",
       ".xr-array-data {\n",
       "  padding: 0 5px !important;\n",
       "  grid-column: 2;\n",
       "}\n",
       "\n",
       ".xr-array-data,\n",
       ".xr-array-in:checked ~ .xr-array-preview {\n",
       "  display: none;\n",
       "}\n",
       "\n",
       ".xr-array-in:checked ~ .xr-array-data,\n",
       ".xr-array-preview {\n",
       "  display: inline-block;\n",
       "}\n",
       "\n",
       ".xr-dim-list {\n",
       "  display: inline-block !important;\n",
       "  list-style: none;\n",
       "  padding: 0 !important;\n",
       "  margin: 0;\n",
       "}\n",
       "\n",
       ".xr-dim-list li {\n",
       "  display: inline-block;\n",
       "  padding: 0;\n",
       "  margin: 0;\n",
       "}\n",
       "\n",
       ".xr-dim-list:before {\n",
       "  content: '(';\n",
       "}\n",
       "\n",
       ".xr-dim-list:after {\n",
       "  content: ')';\n",
       "}\n",
       "\n",
       ".xr-dim-list li:not(:last-child):after {\n",
       "  content: ',';\n",
       "  padding-right: 5px;\n",
       "}\n",
       "\n",
       ".xr-has-index {\n",
       "  font-weight: bold;\n",
       "}\n",
       "\n",
       ".xr-var-list,\n",
       ".xr-var-item {\n",
       "  display: contents;\n",
       "}\n",
       "\n",
       ".xr-var-item > div,\n",
       ".xr-var-item label,\n",
       ".xr-var-item > .xr-var-name span {\n",
       "  background-color: var(--xr-background-color-row-even);\n",
       "  margin-bottom: 0;\n",
       "}\n",
       "\n",
       ".xr-var-item > .xr-var-name:hover span {\n",
       "  padding-right: 5px;\n",
       "}\n",
       "\n",
       ".xr-var-list > li:nth-child(odd) > div,\n",
       ".xr-var-list > li:nth-child(odd) > label,\n",
       ".xr-var-list > li:nth-child(odd) > .xr-var-name span {\n",
       "  background-color: var(--xr-background-color-row-odd);\n",
       "}\n",
       "\n",
       ".xr-var-name {\n",
       "  grid-column: 1;\n",
       "}\n",
       "\n",
       ".xr-var-dims {\n",
       "  grid-column: 2;\n",
       "}\n",
       "\n",
       ".xr-var-dtype {\n",
       "  grid-column: 3;\n",
       "  text-align: right;\n",
       "  color: var(--xr-font-color2);\n",
       "}\n",
       "\n",
       ".xr-var-preview {\n",
       "  grid-column: 4;\n",
       "}\n",
       "\n",
       ".xr-var-name,\n",
       ".xr-var-dims,\n",
       ".xr-var-dtype,\n",
       ".xr-preview,\n",
       ".xr-attrs dt {\n",
       "  white-space: nowrap;\n",
       "  overflow: hidden;\n",
       "  text-overflow: ellipsis;\n",
       "  padding-right: 10px;\n",
       "}\n",
       "\n",
       ".xr-var-name:hover,\n",
       ".xr-var-dims:hover,\n",
       ".xr-var-dtype:hover,\n",
       ".xr-attrs dt:hover {\n",
       "  overflow: visible;\n",
       "  width: auto;\n",
       "  z-index: 1;\n",
       "}\n",
       "\n",
       ".xr-var-attrs,\n",
       ".xr-var-data {\n",
       "  display: none;\n",
       "  background-color: var(--xr-background-color) !important;\n",
       "  padding-bottom: 5px !important;\n",
       "}\n",
       "\n",
       ".xr-var-attrs-in:checked ~ .xr-var-attrs,\n",
       ".xr-var-data-in:checked ~ .xr-var-data {\n",
       "  display: block;\n",
       "}\n",
       "\n",
       ".xr-var-data > table {\n",
       "  float: right;\n",
       "}\n",
       "\n",
       ".xr-var-name span,\n",
       ".xr-var-data,\n",
       ".xr-attrs {\n",
       "  padding-left: 25px !important;\n",
       "}\n",
       "\n",
       ".xr-attrs,\n",
       ".xr-var-attrs,\n",
       ".xr-var-data {\n",
       "  grid-column: 1 / -1;\n",
       "}\n",
       "\n",
       "dl.xr-attrs {\n",
       "  padding: 0;\n",
       "  margin: 0;\n",
       "  display: grid;\n",
       "  grid-template-columns: 125px auto;\n",
       "}\n",
       "\n",
       ".xr-attrs dt,\n",
       ".xr-attrs dd {\n",
       "  padding: 0;\n",
       "  margin: 0;\n",
       "  float: left;\n",
       "  padding-right: 10px;\n",
       "  width: auto;\n",
       "}\n",
       "\n",
       ".xr-attrs dt {\n",
       "  font-weight: normal;\n",
       "  grid-column: 1;\n",
       "}\n",
       "\n",
       ".xr-attrs dt:hover span {\n",
       "  display: inline-block;\n",
       "  background: var(--xr-background-color);\n",
       "  padding-right: 10px;\n",
       "}\n",
       "\n",
       ".xr-attrs dd {\n",
       "  grid-column: 2;\n",
       "  white-space: pre-wrap;\n",
       "  word-break: break-all;\n",
       "}\n",
       "\n",
       ".xr-icon-database,\n",
       ".xr-icon-file-text2 {\n",
       "  display: inline-block;\n",
       "  vertical-align: middle;\n",
       "  width: 1em;\n",
       "  height: 1.5em !important;\n",
       "  stroke-width: 0;\n",
       "  stroke: currentColor;\n",
       "  fill: currentColor;\n",
       "}\n",
       "</style><pre class='xr-text-repr-fallback'>&lt;xarray.Dataset&gt;\n",
       "Dimensions:               (station: 1, time: 305943)\n",
       "Coordinates:\n",
       "  * station               (station) object &#x27;CIMIS_75&#x27;\n",
       "  * time                  (time) datetime64[ns] 1987-10-07T09:00:00 ... 2022-...\n",
       "Data variables: (12/30)\n",
       "    tas                   (station, time) float64 ...\n",
       "    pr                    (station, time) float64 ...\n",
       "    hurs                  (station, time) float64 ...\n",
       "    rsds                  (station, time) float64 ...\n",
       "    sfcWind               (station, time) float64 ...\n",
       "    sfcWind_dir           (station, time) float64 ...\n",
       "    ...                    ...\n",
       "    sfcWind_dir_eraqc     (station, time) float64 ...\n",
       "    elevation_eraqc       (station, time) float64 ...\n",
       "    tdps_derived_eraqc    (station, time) float64 ...\n",
       "    pvp_derived_eraqc     (station, time) float64 ...\n",
       "    anemometer_height_m   (station, time) float64 ...\n",
       "    thermometer_height_m  (station, time) float64 ...\n",
       "Attributes: (12/16)\n",
       "    title:                 CIMIS quality controlled\n",
       "    institution:           Eagle Rock Analytics / Cal Adapt\n",
       "    source:                \n",
       "    history:               CIMIS_clean.py script run on 02-13-2023, 22:25:54 ...\n",
       "    comment:               Intermediate data product: may not have been subje...\n",
       "    license:               \n",
       "    ...                    ...\n",
       "    wind_vane_height_m:    2.0\n",
       "    anemometer_height_m:   2.0\n",
       "    thermometer_height_m:  1.5\n",
       "    humidity_height_m:     1.5\n",
       "    rain_gauge_height_m:   1.0\n",
       "    raw_files_merged:      47</pre><div class='xr-wrap' style='display:none'><div class='xr-header'><div class='xr-obj-type'>xarray.Dataset</div></div><ul class='xr-sections'><li class='xr-section-item'><input id='section-8c9fe942-eac6-4f3b-a830-1a139e53f9d3' class='xr-section-summary-in' type='checkbox' disabled ><label for='section-8c9fe942-eac6-4f3b-a830-1a139e53f9d3' class='xr-section-summary'  title='Expand/collapse section'>Dimensions:</label><div class='xr-section-inline-details'><ul class='xr-dim-list'><li><span class='xr-has-index'>station</span>: 1</li><li><span class='xr-has-index'>time</span>: 305943</li></ul></div><div class='xr-section-details'></div></li><li class='xr-section-item'><input id='section-c4b13cd8-41ce-415e-b83a-0819de5e3af1' class='xr-section-summary-in' type='checkbox'  checked><label for='section-c4b13cd8-41ce-415e-b83a-0819de5e3af1' class='xr-section-summary' >Coordinates: <span>(2)</span></label><div class='xr-section-inline-details'></div><div class='xr-section-details'><ul class='xr-var-list'><li class='xr-var-item'><div class='xr-var-name'><span class='xr-has-index'>station</span></div><div class='xr-var-dims'>(station)</div><div class='xr-var-dtype'>object</div><div class='xr-var-preview xr-preview'>&#x27;CIMIS_75&#x27;</div><input id='attrs-77c49ebe-e6e7-4825-a3c4-2a741b0dd3fc' class='xr-var-attrs-in' type='checkbox' disabled><label for='attrs-77c49ebe-e6e7-4825-a3c4-2a741b0dd3fc' title='Show/Hide attributes'><svg class='icon xr-icon-file-text2'><use xlink:href='#icon-file-text2'></use></svg></label><input id='data-99d4b35e-7e9b-44c9-b355-42d725aab463' class='xr-var-data-in' type='checkbox'><label for='data-99d4b35e-7e9b-44c9-b355-42d725aab463' title='Show/Hide data repr'><svg class='icon xr-icon-database'><use xlink:href='#icon-database'></use></svg></label><div class='xr-var-attrs'><dl class='xr-attrs'></dl></div><div class='xr-var-data'><pre>array([&#x27;CIMIS_75&#x27;], dtype=object)</pre></div></li><li class='xr-var-item'><div class='xr-var-name'><span class='xr-has-index'>time</span></div><div class='xr-var-dims'>(time)</div><div class='xr-var-dtype'>datetime64[ns]</div><div class='xr-var-preview xr-preview'>1987-10-07T09:00:00 ... 2022-08-...</div><input id='attrs-8cd3e93c-2ead-4fb2-babc-3311df68a807' class='xr-var-attrs-in' type='checkbox' disabled><label for='attrs-8cd3e93c-2ead-4fb2-babc-3311df68a807' title='Show/Hide attributes'><svg class='icon xr-icon-file-text2'><use xlink:href='#icon-file-text2'></use></svg></label><input id='data-1a55aaf8-fda3-4944-b532-28b732c4eaea' class='xr-var-data-in' type='checkbox'><label for='data-1a55aaf8-fda3-4944-b532-28b732c4eaea' title='Show/Hide data repr'><svg class='icon xr-icon-database'><use xlink:href='#icon-database'></use></svg></label><div class='xr-var-attrs'><dl class='xr-attrs'></dl></div><div class='xr-var-data'><pre>array([&#x27;1987-10-07T09:00:00.000000000&#x27;, &#x27;1987-10-07T10:00:00.000000000&#x27;,\n",
       "       &#x27;1987-10-07T11:00:00.000000000&#x27;, ..., &#x27;2022-08-31T21:00:00.000000000&#x27;,\n",
       "       &#x27;2022-08-31T22:00:00.000000000&#x27;, &#x27;2022-08-31T23:00:00.000000000&#x27;],\n",
       "      dtype=&#x27;datetime64[ns]&#x27;)</pre></div></li></ul></div></li><li class='xr-section-item'><input id='section-0a07aa11-4282-474c-8b5e-2be058de434a' class='xr-section-summary-in' type='checkbox'  ><label for='section-0a07aa11-4282-474c-8b5e-2be058de434a' class='xr-section-summary' >Data variables: <span>(30)</span></label><div class='xr-section-inline-details'></div><div class='xr-section-details'><ul class='xr-var-list'><li class='xr-var-item'><div class='xr-var-name'><span>tas</span></div><div class='xr-var-dims'>(station, time)</div><div class='xr-var-dtype'>float64</div><div class='xr-var-preview xr-preview'>...</div><input id='attrs-d02edd17-9de8-4367-9fa6-af630314cd8f' class='xr-var-attrs-in' type='checkbox' ><label for='attrs-d02edd17-9de8-4367-9fa6-af630314cd8f' title='Show/Hide attributes'><svg class='icon xr-icon-file-text2'><use xlink:href='#icon-file-text2'></use></svg></label><input id='data-de46b030-5304-48e6-927b-e7d0f4d75894' class='xr-var-data-in' type='checkbox'><label for='data-de46b030-5304-48e6-927b-e7d0f4d75894' title='Show/Hide data repr'><svg class='icon xr-icon-database'><use xlink:href='#icon-database'></use></svg></label><div class='xr-var-attrs'><dl class='xr-attrs'><dt><span>long_name :</span></dt><dd>air_temperature</dd><dt><span>standard_name :</span></dt><dd>air_temperature</dd><dt><span>units :</span></dt><dd>degree_Kelvin</dd><dt><span>ancillary_variables :</span></dt><dd>tas_qc, tas_eraqc</dd><dt><span>comment :</span></dt><dd>Converted from Celsius to Kelvin.</dd></dl></div><div class='xr-var-data'><pre>[305943 values with dtype=float64]</pre></div></li><li class='xr-var-item'><div class='xr-var-name'><span>pr</span></div><div class='xr-var-dims'>(station, time)</div><div class='xr-var-dtype'>float64</div><div class='xr-var-preview xr-preview'>...</div><input id='attrs-b50fe34f-eb9e-4a46-9518-f6bc151a0c4b' class='xr-var-attrs-in' type='checkbox' ><label for='attrs-b50fe34f-eb9e-4a46-9518-f6bc151a0c4b' title='Show/Hide attributes'><svg class='icon xr-icon-file-text2'><use xlink:href='#icon-file-text2'></use></svg></label><input id='data-fc05470e-3912-477a-bfcd-fe3fb830ad59' class='xr-var-data-in' type='checkbox'><label for='data-fc05470e-3912-477a-bfcd-fe3fb830ad59' title='Show/Hide data repr'><svg class='icon xr-icon-database'><use xlink:href='#icon-database'></use></svg></label><div class='xr-var-attrs'><dl class='xr-attrs'><dt><span>long_name :</span></dt><dd>precipitation_accumulation</dd><dt><span>units :</span></dt><dd>mm/hour</dd><dt><span>ancillary_variables :</span></dt><dd>pr_qc, pr_eraqc</dd><dt><span>comment :</span></dt><dd>Accumulated precipitation.</dd></dl></div><div class='xr-var-data'><pre>[305943 values with dtype=float64]</pre></div></li><li class='xr-var-item'><div class='xr-var-name'><span>hurs</span></div><div class='xr-var-dims'>(station, time)</div><div class='xr-var-dtype'>float64</div><div class='xr-var-preview xr-preview'>...</div><input id='attrs-f7cf872b-c441-4bd7-b925-4f6a6b1bee91' class='xr-var-attrs-in' type='checkbox' ><label for='attrs-f7cf872b-c441-4bd7-b925-4f6a6b1bee91' title='Show/Hide attributes'><svg class='icon xr-icon-file-text2'><use xlink:href='#icon-file-text2'></use></svg></label><input id='data-107ecb90-d08c-4aec-af37-a531a6f8b630' class='xr-var-data-in' type='checkbox'><label for='data-107ecb90-d08c-4aec-af37-a531a6f8b630' title='Show/Hide data repr'><svg class='icon xr-icon-database'><use xlink:href='#icon-database'></use></svg></label><div class='xr-var-attrs'><dl class='xr-attrs'><dt><span>long_name :</span></dt><dd>relative_humidity</dd><dt><span>standard_name :</span></dt><dd>relative_humidity</dd><dt><span>units :</span></dt><dd>percent</dd><dt><span>ancillary_variables :</span></dt><dd>hurs_qc, hurs_eraqc</dd></dl></div><div class='xr-var-data'><pre>[305943 values with dtype=float64]</pre></div></li><li class='xr-var-item'><div class='xr-var-name'><span>rsds</span></div><div class='xr-var-dims'>(station, time)</div><div class='xr-var-dtype'>float64</div><div class='xr-var-preview xr-preview'>...</div><input id='attrs-f4ed5659-4c7e-46e3-82ac-2b8857db5ae0' class='xr-var-attrs-in' type='checkbox' ><label for='attrs-f4ed5659-4c7e-46e3-82ac-2b8857db5ae0' title='Show/Hide attributes'><svg class='icon xr-icon-file-text2'><use xlink:href='#icon-file-text2'></use></svg></label><input id='data-daacdf73-5fe0-4c8a-acfb-fc6415474017' class='xr-var-data-in' type='checkbox'><label for='data-daacdf73-5fe0-4c8a-acfb-fc6415474017' title='Show/Hide data repr'><svg class='icon xr-icon-database'><use xlink:href='#icon-database'></use></svg></label><div class='xr-var-attrs'><dl class='xr-attrs'><dt><span>long_name :</span></dt><dd>solar_radiation</dd><dt><span>standard_name :</span></dt><dd>surface_downwelling_shortwave_flux_in_air</dd><dt><span>units :</span></dt><dd>W m-2</dd><dt><span>ancillary_variables :</span></dt><dd>rsds_qc, rsds_eraqc</dd></dl></div><div class='xr-var-data'><pre>[305943 values with dtype=float64]</pre></div></li><li class='xr-var-item'><div class='xr-var-name'><span>sfcWind</span></div><div class='xr-var-dims'>(station, time)</div><div class='xr-var-dtype'>float64</div><div class='xr-var-preview xr-preview'>...</div><input id='attrs-d914bf79-4dc6-4eca-9b1c-322c66407b0f' class='xr-var-attrs-in' type='checkbox' ><label for='attrs-d914bf79-4dc6-4eca-9b1c-322c66407b0f' title='Show/Hide attributes'><svg class='icon xr-icon-file-text2'><use xlink:href='#icon-file-text2'></use></svg></label><input id='data-898eacb5-1bed-45a1-8180-c4887639d10d' class='xr-var-data-in' type='checkbox'><label for='data-898eacb5-1bed-45a1-8180-c4887639d10d' title='Show/Hide data repr'><svg class='icon xr-icon-database'><use xlink:href='#icon-database'></use></svg></label><div class='xr-var-attrs'><dl class='xr-attrs'><dt><span>long_name :</span></dt><dd>wind_speed</dd><dt><span>standard_name :</span></dt><dd>wind_speed</dd><dt><span>units :</span></dt><dd>m s-1</dd><dt><span>ancillary_variables :</span></dt><dd>sfcWind_qc, sfcWind_eraqc</dd></dl></div><div class='xr-var-data'><pre>[305943 values with dtype=float64]</pre></div></li><li class='xr-var-item'><div class='xr-var-name'><span>sfcWind_dir</span></div><div class='xr-var-dims'>(station, time)</div><div class='xr-var-dtype'>float64</div><div class='xr-var-preview xr-preview'>...</div><input id='attrs-1ea52b7c-e41e-48ed-b1e1-3224488aecf3' class='xr-var-attrs-in' type='checkbox' ><label for='attrs-1ea52b7c-e41e-48ed-b1e1-3224488aecf3' title='Show/Hide attributes'><svg class='icon xr-icon-file-text2'><use xlink:href='#icon-file-text2'></use></svg></label><input id='data-b9ea6b70-46be-4eea-94a2-0fc214740b20' class='xr-var-data-in' type='checkbox'><label for='data-b9ea6b70-46be-4eea-94a2-0fc214740b20' title='Show/Hide data repr'><svg class='icon xr-icon-database'><use xlink:href='#icon-database'></use></svg></label><div class='xr-var-attrs'><dl class='xr-attrs'><dt><span>long_name :</span></dt><dd>wind_direction</dd><dt><span>standard_name :</span></dt><dd>wind_from_direction</dd><dt><span>units :</span></dt><dd>degrees_clockwise_from_north</dd><dt><span>ancillary_variables :</span></dt><dd>sfcWind_dir_qc, sfcWind_dir_eraqc</dd><dt><span>comment :</span></dt><dd>Wind direction is defined by the direction that the wind is coming from (i.e., a northerly wind originates in the north and blows towards the south).</dd></dl></div><div class='xr-var-data'><pre>[305943 values with dtype=float64]</pre></div></li><li class='xr-var-item'><div class='xr-var-name'><span>pr_qc</span></div><div class='xr-var-dims'>(station, time)</div><div class='xr-var-dtype'>object</div><div class='xr-var-preview xr-preview'>...</div><input id='attrs-63168d9c-f0f0-451a-9a6c-3d6b27dfa4ac' class='xr-var-attrs-in' type='checkbox' ><label for='attrs-63168d9c-f0f0-451a-9a6c-3d6b27dfa4ac' title='Show/Hide attributes'><svg class='icon xr-icon-file-text2'><use xlink:href='#icon-file-text2'></use></svg></label><input id='data-86752236-71be-4de0-bdf3-d5df57f814b2' class='xr-var-data-in' type='checkbox'><label for='data-86752236-71be-4de0-bdf3-d5df57f814b2' title='Show/Hide data repr'><svg class='icon xr-icon-database'><use xlink:href='#icon-database'></use></svg></label><div class='xr-var-attrs'><dl class='xr-attrs'><dt><span>flag_values :</span></dt><dd>M P Q R Y</dd><dt><span>flag_meanings :</span></dt><dd>See QA/QC csv for network.</dd></dl></div><div class='xr-var-data'><pre>[305943 values with dtype=object]</pre></div></li><li class='xr-var-item'><div class='xr-var-name'><span>rsds_qc</span></div><div class='xr-var-dims'>(station, time)</div><div class='xr-var-dtype'>object</div><div class='xr-var-preview xr-preview'>...</div><input id='attrs-dae5df1a-9ce2-4f3d-a523-a56df4e71c34' class='xr-var-attrs-in' type='checkbox' ><label for='attrs-dae5df1a-9ce2-4f3d-a523-a56df4e71c34' title='Show/Hide attributes'><svg class='icon xr-icon-file-text2'><use xlink:href='#icon-file-text2'></use></svg></label><input id='data-21b40d3e-ed38-49f4-a529-7624432a86e5' class='xr-var-data-in' type='checkbox'><label for='data-21b40d3e-ed38-49f4-a529-7624432a86e5' title='Show/Hide data repr'><svg class='icon xr-icon-database'><use xlink:href='#icon-database'></use></svg></label><div class='xr-var-attrs'><dl class='xr-attrs'><dt><span>flag_values :</span></dt><dd>M P R S Y</dd><dt><span>flag_meanings :</span></dt><dd>See QA/QC csv for network.</dd></dl></div><div class='xr-var-data'><pre>[305943 values with dtype=object]</pre></div></li><li class='xr-var-item'><div class='xr-var-name'><span>pvp_derived_qc</span></div><div class='xr-var-dims'>(station, time)</div><div class='xr-var-dtype'>object</div><div class='xr-var-preview xr-preview'>...</div><input id='attrs-11520305-7769-4670-854e-ec55a6c18c2b' class='xr-var-attrs-in' type='checkbox' ><label for='attrs-11520305-7769-4670-854e-ec55a6c18c2b' title='Show/Hide attributes'><svg class='icon xr-icon-file-text2'><use xlink:href='#icon-file-text2'></use></svg></label><input id='data-b703fe55-bdae-464d-b198-6b1997ee6d75' class='xr-var-data-in' type='checkbox'><label for='data-b703fe55-bdae-464d-b198-6b1997ee6d75' title='Show/Hide data repr'><svg class='icon xr-icon-database'><use xlink:href='#icon-database'></use></svg></label><div class='xr-var-attrs'><dl class='xr-attrs'><dt><span>flag_values :</span></dt><dd>M P Q R S Y</dd><dt><span>flag_meanings :</span></dt><dd>See QA/QC csv for network.</dd></dl></div><div class='xr-var-data'><pre>[305943 values with dtype=object]</pre></div></li><li class='xr-var-item'><div class='xr-var-name'><span>tas_qc</span></div><div class='xr-var-dims'>(station, time)</div><div class='xr-var-dtype'>object</div><div class='xr-var-preview xr-preview'>...</div><input id='attrs-a6681aba-0184-4a57-9cdd-df0ce0fbb8f7' class='xr-var-attrs-in' type='checkbox' ><label for='attrs-a6681aba-0184-4a57-9cdd-df0ce0fbb8f7' title='Show/Hide attributes'><svg class='icon xr-icon-file-text2'><use xlink:href='#icon-file-text2'></use></svg></label><input id='data-8cfa6dfb-ee26-4b00-8734-4a6562add4a7' class='xr-var-data-in' type='checkbox'><label for='data-8cfa6dfb-ee26-4b00-8734-4a6562add4a7' title='Show/Hide data repr'><svg class='icon xr-icon-database'><use xlink:href='#icon-database'></use></svg></label><div class='xr-var-attrs'><dl class='xr-attrs'><dt><span>flag_values :</span></dt><dd>M P R S Y</dd><dt><span>flag_meanings :</span></dt><dd>See QA/QC csv for network.</dd></dl></div><div class='xr-var-data'><pre>[305943 values with dtype=object]</pre></div></li><li class='xr-var-item'><div class='xr-var-name'><span>hurs_qc</span></div><div class='xr-var-dims'>(station, time)</div><div class='xr-var-dtype'>object</div><div class='xr-var-preview xr-preview'>...</div><input id='attrs-ebef12a7-b77e-4c39-82c0-c0990da4920e' class='xr-var-attrs-in' type='checkbox' ><label for='attrs-ebef12a7-b77e-4c39-82c0-c0990da4920e' title='Show/Hide attributes'><svg class='icon xr-icon-file-text2'><use xlink:href='#icon-file-text2'></use></svg></label><input id='data-9ed38470-d28e-4b9c-9431-98da9701f03d' class='xr-var-data-in' type='checkbox'><label for='data-9ed38470-d28e-4b9c-9431-98da9701f03d' title='Show/Hide data repr'><svg class='icon xr-icon-database'><use xlink:href='#icon-database'></use></svg></label><div class='xr-var-attrs'><dl class='xr-attrs'><dt><span>flag_values :</span></dt><dd>M Q R S Y</dd><dt><span>flag_meanings :</span></dt><dd>See QA/QC csv for network.</dd></dl></div><div class='xr-var-data'><pre>[305943 values with dtype=object]</pre></div></li><li class='xr-var-item'><div class='xr-var-name'><span>tdps_derived_qc</span></div><div class='xr-var-dims'>(station, time)</div><div class='xr-var-dtype'>object</div><div class='xr-var-preview xr-preview'>...</div><input id='attrs-0201be72-ed0a-45e5-92cb-261fa6d4e721' class='xr-var-attrs-in' type='checkbox' ><label for='attrs-0201be72-ed0a-45e5-92cb-261fa6d4e721' title='Show/Hide attributes'><svg class='icon xr-icon-file-text2'><use xlink:href='#icon-file-text2'></use></svg></label><input id='data-0ff4024b-b3ae-406c-8177-b7f3f72f1592' class='xr-var-data-in' type='checkbox'><label for='data-0ff4024b-b3ae-406c-8177-b7f3f72f1592' title='Show/Hide data repr'><svg class='icon xr-icon-database'><use xlink:href='#icon-database'></use></svg></label><div class='xr-var-attrs'><dl class='xr-attrs'><dt><span>flag_values :</span></dt><dd>M Q R S Y</dd><dt><span>flag_meanings :</span></dt><dd>See QA/QC csv for network.</dd></dl></div><div class='xr-var-data'><pre>[305943 values with dtype=object]</pre></div></li><li class='xr-var-item'><div class='xr-var-name'><span>sfcWind_qc</span></div><div class='xr-var-dims'>(station, time)</div><div class='xr-var-dtype'>object</div><div class='xr-var-preview xr-preview'>...</div><input id='attrs-57c0dbb3-8621-4983-99d6-ec66811f4d2c' class='xr-var-attrs-in' type='checkbox' ><label for='attrs-57c0dbb3-8621-4983-99d6-ec66811f4d2c' title='Show/Hide attributes'><svg class='icon xr-icon-file-text2'><use xlink:href='#icon-file-text2'></use></svg></label><input id='data-439fae0c-2ec7-44d1-a6ae-8704aef937e3' class='xr-var-data-in' type='checkbox'><label for='data-439fae0c-2ec7-44d1-a6ae-8704aef937e3' title='Show/Hide data repr'><svg class='icon xr-icon-database'><use xlink:href='#icon-database'></use></svg></label><div class='xr-var-attrs'><dl class='xr-attrs'><dt><span>flag_values :</span></dt><dd>I M P R S Y</dd><dt><span>flag_meanings :</span></dt><dd>See QA/QC csv for network.</dd></dl></div><div class='xr-var-data'><pre>[305943 values with dtype=object]</pre></div></li><li class='xr-var-item'><div class='xr-var-name'><span>sfcWind_dir_qc</span></div><div class='xr-var-dims'>(station, time)</div><div class='xr-var-dtype'>object</div><div class='xr-var-preview xr-preview'>...</div><input id='attrs-fe4ae235-ca5f-44ae-a88c-069535eba21a' class='xr-var-attrs-in' type='checkbox' ><label for='attrs-fe4ae235-ca5f-44ae-a88c-069535eba21a' title='Show/Hide attributes'><svg class='icon xr-icon-file-text2'><use xlink:href='#icon-file-text2'></use></svg></label><input id='data-15643e93-3476-42bc-b0fe-a7a82f92eead' class='xr-var-data-in' type='checkbox'><label for='data-15643e93-3476-42bc-b0fe-a7a82f92eead' title='Show/Hide data repr'><svg class='icon xr-icon-database'><use xlink:href='#icon-database'></use></svg></label><div class='xr-var-attrs'><dl class='xr-attrs'><dt><span>flag_values :</span></dt><dd>I M P Q R</dd><dt><span>flag_meanings :</span></dt><dd>See QA/QC csv for network.</dd></dl></div><div class='xr-var-data'><pre>[305943 values with dtype=object]</pre></div></li><li class='xr-var-item'><div class='xr-var-name'><span>elevation</span></div><div class='xr-var-dims'>(station, time)</div><div class='xr-var-dtype'>float64</div><div class='xr-var-preview xr-preview'>...</div><input id='attrs-ab557871-9ae2-4e98-bba8-22351de2a57b' class='xr-var-attrs-in' type='checkbox' ><label for='attrs-ab557871-9ae2-4e98-bba8-22351de2a57b' title='Show/Hide attributes'><svg class='icon xr-icon-file-text2'><use xlink:href='#icon-file-text2'></use></svg></label><input id='data-b51acfce-629b-448f-889e-fc6a2e33215e' class='xr-var-data-in' type='checkbox'><label for='data-b51acfce-629b-448f-889e-fc6a2e33215e' title='Show/Hide data repr'><svg class='icon xr-icon-database'><use xlink:href='#icon-database'></use></svg></label><div class='xr-var-attrs'><dl class='xr-attrs'><dt><span>standard_name :</span></dt><dd>height_above_mean_sea_level</dd><dt><span>long_name :</span></dt><dd>station_elevation</dd><dt><span>units :</span></dt><dd>meters</dd><dt><span>positive :</span></dt><dd>up</dd><dt><span>comment :</span></dt><dd>Converted from feet to meters.</dd><dt><span>ancillary_variables :</span></dt><dd>elevation_eraqc</dd></dl></div><div class='xr-var-data'><pre>[305943 values with dtype=float64]</pre></div></li><li class='xr-var-item'><div class='xr-var-name'><span>tdps_derived</span></div><div class='xr-var-dims'>(station, time)</div><div class='xr-var-dtype'>float64</div><div class='xr-var-preview xr-preview'>...</div><input id='attrs-eb35feaf-7a3d-4f0c-8c2d-72b2be218ae3' class='xr-var-attrs-in' type='checkbox' ><label for='attrs-eb35feaf-7a3d-4f0c-8c2d-72b2be218ae3' title='Show/Hide attributes'><svg class='icon xr-icon-file-text2'><use xlink:href='#icon-file-text2'></use></svg></label><input id='data-9444e352-8e1d-4804-8e91-87552c975a5c' class='xr-var-data-in' type='checkbox'><label for='data-9444e352-8e1d-4804-8e91-87552c975a5c' title='Show/Hide data repr'><svg class='icon xr-icon-database'><use xlink:href='#icon-database'></use></svg></label><div class='xr-var-attrs'><dl class='xr-attrs'><dt><span>long_name :</span></dt><dd>dew_point_temperature</dd><dt><span>standard_name :</span></dt><dd>dew_point_temperature</dd><dt><span>units :</span></dt><dd>degree_Kelvin</dd><dt><span>ancillary_variables :</span></dt><dd>tdps_derived_qc, tdps_derived_eraqc</dd><dt><span>comment :</span></dt><dd>Derived by CIMIS from vapor pressure and air temperature. Converted from Celsius to Kelvin.</dd></dl></div><div class='xr-var-data'><pre>[305943 values with dtype=float64]</pre></div></li><li class='xr-var-item'><div class='xr-var-name'><span>pvp_derived</span></div><div class='xr-var-dims'>(station, time)</div><div class='xr-var-dtype'>float64</div><div class='xr-var-preview xr-preview'>...</div><input id='attrs-02b992db-5ec6-413a-a477-e73f98836209' class='xr-var-attrs-in' type='checkbox' ><label for='attrs-02b992db-5ec6-413a-a477-e73f98836209' title='Show/Hide attributes'><svg class='icon xr-icon-file-text2'><use xlink:href='#icon-file-text2'></use></svg></label><input id='data-122cc3c0-932a-445a-89bb-9eaeea595775' class='xr-var-data-in' type='checkbox'><label for='data-122cc3c0-932a-445a-89bb-9eaeea595775' title='Show/Hide data repr'><svg class='icon xr-icon-database'><use xlink:href='#icon-database'></use></svg></label><div class='xr-var-attrs'><dl class='xr-attrs'><dt><span>long_name :</span></dt><dd>partial_vapor_pressure</dd><dt><span>standard_name :</span></dt><dd>water_vapor_partial_pressure_in_air</dd><dt><span>units :</span></dt><dd>Pa</dd><dt><span>ancillary_variables :</span></dt><dd>pvp_qc, pvp_derived_eraqc</dd><dt><span>comment :</span></dt><dd>Derived by CIMIS from relative humidity and air temperature measurements. Converted from kPa to Pa.</dd></dl></div><div class='xr-var-data'><pre>[305943 values with dtype=float64]</pre></div></li><li class='xr-var-item'><div class='xr-var-name'><span>lat</span></div><div class='xr-var-dims'>(station, time)</div><div class='xr-var-dtype'>float64</div><div class='xr-var-preview xr-preview'>...</div><input id='attrs-09c3666c-83b3-4ac3-9926-ac0837858a8a' class='xr-var-attrs-in' type='checkbox' disabled><label for='attrs-09c3666c-83b3-4ac3-9926-ac0837858a8a' title='Show/Hide attributes'><svg class='icon xr-icon-file-text2'><use xlink:href='#icon-file-text2'></use></svg></label><input id='data-e918b20d-5079-48e8-9230-12c69ca5c720' class='xr-var-data-in' type='checkbox'><label for='data-e918b20d-5079-48e8-9230-12c69ca5c720' title='Show/Hide data repr'><svg class='icon xr-icon-database'><use xlink:href='#icon-database'></use></svg></label><div class='xr-var-attrs'><dl class='xr-attrs'></dl></div><div class='xr-var-data'><pre>[305943 values with dtype=float64]</pre></div></li><li class='xr-var-item'><div class='xr-var-name'><span>lon</span></div><div class='xr-var-dims'>(station, time)</div><div class='xr-var-dtype'>float64</div><div class='xr-var-preview xr-preview'>...</div><input id='attrs-a218c0dd-a9b9-49ff-ae27-6e2e33212e59' class='xr-var-attrs-in' type='checkbox' disabled><label for='attrs-a218c0dd-a9b9-49ff-ae27-6e2e33212e59' title='Show/Hide attributes'><svg class='icon xr-icon-file-text2'><use xlink:href='#icon-file-text2'></use></svg></label><input id='data-636221c4-bd5e-4001-bd6c-5fea81f4df07' class='xr-var-data-in' type='checkbox'><label for='data-636221c4-bd5e-4001-bd6c-5fea81f4df07' title='Show/Hide data repr'><svg class='icon xr-icon-database'><use xlink:href='#icon-database'></use></svg></label><div class='xr-var-attrs'><dl class='xr-attrs'></dl></div><div class='xr-var-data'><pre>[305943 values with dtype=float64]</pre></div></li><li class='xr-var-item'><div class='xr-var-name'><span>tas_eraqc</span></div><div class='xr-var-dims'>(station, time)</div><div class='xr-var-dtype'>float64</div><div class='xr-var-preview xr-preview'>...</div><input id='attrs-f2012851-71fb-4e98-ab33-ee7813c931cc' class='xr-var-attrs-in' type='checkbox' disabled><label for='attrs-f2012851-71fb-4e98-ab33-ee7813c931cc' title='Show/Hide attributes'><svg class='icon xr-icon-file-text2'><use xlink:href='#icon-file-text2'></use></svg></label><input id='data-7982baf4-ddbe-4bc3-8086-de4d8b06de02' class='xr-var-data-in' type='checkbox'><label for='data-7982baf4-ddbe-4bc3-8086-de4d8b06de02' title='Show/Hide data repr'><svg class='icon xr-icon-database'><use xlink:href='#icon-database'></use></svg></label><div class='xr-var-attrs'><dl class='xr-attrs'></dl></div><div class='xr-var-data'><pre>[305943 values with dtype=float64]</pre></div></li><li class='xr-var-item'><div class='xr-var-name'><span>pr_eraqc</span></div><div class='xr-var-dims'>(station, time)</div><div class='xr-var-dtype'>float64</div><div class='xr-var-preview xr-preview'>...</div><input id='attrs-fb7ab212-aa5e-4256-af57-d1c79413d642' class='xr-var-attrs-in' type='checkbox' disabled><label for='attrs-fb7ab212-aa5e-4256-af57-d1c79413d642' title='Show/Hide attributes'><svg class='icon xr-icon-file-text2'><use xlink:href='#icon-file-text2'></use></svg></label><input id='data-81868a59-d4c4-4a2d-a376-352f3de56a53' class='xr-var-data-in' type='checkbox'><label for='data-81868a59-d4c4-4a2d-a376-352f3de56a53' title='Show/Hide data repr'><svg class='icon xr-icon-database'><use xlink:href='#icon-database'></use></svg></label><div class='xr-var-attrs'><dl class='xr-attrs'></dl></div><div class='xr-var-data'><pre>[305943 values with dtype=float64]</pre></div></li><li class='xr-var-item'><div class='xr-var-name'><span>hurs_eraqc</span></div><div class='xr-var-dims'>(station, time)</div><div class='xr-var-dtype'>float64</div><div class='xr-var-preview xr-preview'>...</div><input id='attrs-14f8d6f1-b8bf-4ea8-9e88-c43436b0e2c6' class='xr-var-attrs-in' type='checkbox' disabled><label for='attrs-14f8d6f1-b8bf-4ea8-9e88-c43436b0e2c6' title='Show/Hide attributes'><svg class='icon xr-icon-file-text2'><use xlink:href='#icon-file-text2'></use></svg></label><input id='data-cdb9d9b2-eb48-4075-becd-9b34ecb894ed' class='xr-var-data-in' type='checkbox'><label for='data-cdb9d9b2-eb48-4075-becd-9b34ecb894ed' title='Show/Hide data repr'><svg class='icon xr-icon-database'><use xlink:href='#icon-database'></use></svg></label><div class='xr-var-attrs'><dl class='xr-attrs'></dl></div><div class='xr-var-data'><pre>[305943 values with dtype=float64]</pre></div></li><li class='xr-var-item'><div class='xr-var-name'><span>rsds_eraqc</span></div><div class='xr-var-dims'>(station, time)</div><div class='xr-var-dtype'>float64</div><div class='xr-var-preview xr-preview'>...</div><input id='attrs-96fb6d5f-3b87-4bd4-a541-056174106feb' class='xr-var-attrs-in' type='checkbox' disabled><label for='attrs-96fb6d5f-3b87-4bd4-a541-056174106feb' title='Show/Hide attributes'><svg class='icon xr-icon-file-text2'><use xlink:href='#icon-file-text2'></use></svg></label><input id='data-d965d1c7-1140-4eba-83de-5ea1a1ac2e5c' class='xr-var-data-in' type='checkbox'><label for='data-d965d1c7-1140-4eba-83de-5ea1a1ac2e5c' title='Show/Hide data repr'><svg class='icon xr-icon-database'><use xlink:href='#icon-database'></use></svg></label><div class='xr-var-attrs'><dl class='xr-attrs'></dl></div><div class='xr-var-data'><pre>[305943 values with dtype=float64]</pre></div></li><li class='xr-var-item'><div class='xr-var-name'><span>sfcWind_eraqc</span></div><div class='xr-var-dims'>(station, time)</div><div class='xr-var-dtype'>float64</div><div class='xr-var-preview xr-preview'>...</div><input id='attrs-adca729c-25d3-4905-a875-3bcd3367af0a' class='xr-var-attrs-in' type='checkbox' disabled><label for='attrs-adca729c-25d3-4905-a875-3bcd3367af0a' title='Show/Hide attributes'><svg class='icon xr-icon-file-text2'><use xlink:href='#icon-file-text2'></use></svg></label><input id='data-66fc45ec-c4d1-4e11-bfec-d11ec4bc4d2f' class='xr-var-data-in' type='checkbox'><label for='data-66fc45ec-c4d1-4e11-bfec-d11ec4bc4d2f' title='Show/Hide data repr'><svg class='icon xr-icon-database'><use xlink:href='#icon-database'></use></svg></label><div class='xr-var-attrs'><dl class='xr-attrs'></dl></div><div class='xr-var-data'><pre>[305943 values with dtype=float64]</pre></div></li><li class='xr-var-item'><div class='xr-var-name'><span>sfcWind_dir_eraqc</span></div><div class='xr-var-dims'>(station, time)</div><div class='xr-var-dtype'>float64</div><div class='xr-var-preview xr-preview'>...</div><input id='attrs-bf4f27fd-899c-4121-91a9-f26bb44ecf4c' class='xr-var-attrs-in' type='checkbox' disabled><label for='attrs-bf4f27fd-899c-4121-91a9-f26bb44ecf4c' title='Show/Hide attributes'><svg class='icon xr-icon-file-text2'><use xlink:href='#icon-file-text2'></use></svg></label><input id='data-3494eb82-730c-4186-b233-d53572afcd20' class='xr-var-data-in' type='checkbox'><label for='data-3494eb82-730c-4186-b233-d53572afcd20' title='Show/Hide data repr'><svg class='icon xr-icon-database'><use xlink:href='#icon-database'></use></svg></label><div class='xr-var-attrs'><dl class='xr-attrs'></dl></div><div class='xr-var-data'><pre>[305943 values with dtype=float64]</pre></div></li><li class='xr-var-item'><div class='xr-var-name'><span>elevation_eraqc</span></div><div class='xr-var-dims'>(station, time)</div><div class='xr-var-dtype'>float64</div><div class='xr-var-preview xr-preview'>...</div><input id='attrs-519d0c84-d405-4531-83c6-6eefa38b6227' class='xr-var-attrs-in' type='checkbox' disabled><label for='attrs-519d0c84-d405-4531-83c6-6eefa38b6227' title='Show/Hide attributes'><svg class='icon xr-icon-file-text2'><use xlink:href='#icon-file-text2'></use></svg></label><input id='data-7d426968-0cc8-4e50-944c-17cd03cba088' class='xr-var-data-in' type='checkbox'><label for='data-7d426968-0cc8-4e50-944c-17cd03cba088' title='Show/Hide data repr'><svg class='icon xr-icon-database'><use xlink:href='#icon-database'></use></svg></label><div class='xr-var-attrs'><dl class='xr-attrs'></dl></div><div class='xr-var-data'><pre>[305943 values with dtype=float64]</pre></div></li><li class='xr-var-item'><div class='xr-var-name'><span>tdps_derived_eraqc</span></div><div class='xr-var-dims'>(station, time)</div><div class='xr-var-dtype'>float64</div><div class='xr-var-preview xr-preview'>...</div><input id='attrs-d4a8e66b-0d28-4db8-93a1-d903b20292e1' class='xr-var-attrs-in' type='checkbox' disabled><label for='attrs-d4a8e66b-0d28-4db8-93a1-d903b20292e1' title='Show/Hide attributes'><svg class='icon xr-icon-file-text2'><use xlink:href='#icon-file-text2'></use></svg></label><input id='data-0b4bc423-76a1-4a28-b979-625228bb2e06' class='xr-var-data-in' type='checkbox'><label for='data-0b4bc423-76a1-4a28-b979-625228bb2e06' title='Show/Hide data repr'><svg class='icon xr-icon-database'><use xlink:href='#icon-database'></use></svg></label><div class='xr-var-attrs'><dl class='xr-attrs'></dl></div><div class='xr-var-data'><pre>[305943 values with dtype=float64]</pre></div></li><li class='xr-var-item'><div class='xr-var-name'><span>pvp_derived_eraqc</span></div><div class='xr-var-dims'>(station, time)</div><div class='xr-var-dtype'>float64</div><div class='xr-var-preview xr-preview'>...</div><input id='attrs-e2f9bfc6-813d-4da6-b644-b33b1baaaf80' class='xr-var-attrs-in' type='checkbox' disabled><label for='attrs-e2f9bfc6-813d-4da6-b644-b33b1baaaf80' title='Show/Hide attributes'><svg class='icon xr-icon-file-text2'><use xlink:href='#icon-file-text2'></use></svg></label><input id='data-95eddceb-ba66-487e-af3c-4ea61e2eb189' class='xr-var-data-in' type='checkbox'><label for='data-95eddceb-ba66-487e-af3c-4ea61e2eb189' title='Show/Hide data repr'><svg class='icon xr-icon-database'><use xlink:href='#icon-database'></use></svg></label><div class='xr-var-attrs'><dl class='xr-attrs'></dl></div><div class='xr-var-data'><pre>[305943 values with dtype=float64]</pre></div></li><li class='xr-var-item'><div class='xr-var-name'><span>anemometer_height_m</span></div><div class='xr-var-dims'>(station, time)</div><div class='xr-var-dtype'>float64</div><div class='xr-var-preview xr-preview'>...</div><input id='attrs-ccd2f28e-f256-41db-9017-7b7277891f6f' class='xr-var-attrs-in' type='checkbox' disabled><label for='attrs-ccd2f28e-f256-41db-9017-7b7277891f6f' title='Show/Hide attributes'><svg class='icon xr-icon-file-text2'><use xlink:href='#icon-file-text2'></use></svg></label><input id='data-fcf6bb55-0a4d-48ef-99bf-c0b52dd49f08' class='xr-var-data-in' type='checkbox'><label for='data-fcf6bb55-0a4d-48ef-99bf-c0b52dd49f08' title='Show/Hide data repr'><svg class='icon xr-icon-database'><use xlink:href='#icon-database'></use></svg></label><div class='xr-var-attrs'><dl class='xr-attrs'></dl></div><div class='xr-var-data'><pre>[305943 values with dtype=float64]</pre></div></li><li class='xr-var-item'><div class='xr-var-name'><span>thermometer_height_m</span></div><div class='xr-var-dims'>(station, time)</div><div class='xr-var-dtype'>float64</div><div class='xr-var-preview xr-preview'>...</div><input id='attrs-0f4d28ec-d230-4b43-b8f0-4cf5931fd83d' class='xr-var-attrs-in' type='checkbox' disabled><label for='attrs-0f4d28ec-d230-4b43-b8f0-4cf5931fd83d' title='Show/Hide attributes'><svg class='icon xr-icon-file-text2'><use xlink:href='#icon-file-text2'></use></svg></label><input id='data-124cc270-5423-46f4-82b5-9d7c4507e1d9' class='xr-var-data-in' type='checkbox'><label for='data-124cc270-5423-46f4-82b5-9d7c4507e1d9' title='Show/Hide data repr'><svg class='icon xr-icon-database'><use xlink:href='#icon-database'></use></svg></label><div class='xr-var-attrs'><dl class='xr-attrs'></dl></div><div class='xr-var-data'><pre>[305943 values with dtype=float64]</pre></div></li></ul></div></li><li class='xr-section-item'><input id='section-63d2343c-2726-4cb6-b807-b3f21ad8ecf1' class='xr-section-summary-in' type='checkbox'  ><label for='section-63d2343c-2726-4cb6-b807-b3f21ad8ecf1' class='xr-section-summary' >Attributes: <span>(16)</span></label><div class='xr-section-inline-details'></div><div class='xr-section-details'><dl class='xr-attrs'><dt><span>title :</span></dt><dd>CIMIS quality controlled</dd><dt><span>institution :</span></dt><dd>Eagle Rock Analytics / Cal Adapt</dd><dt><span>source :</span></dt><dd></dd><dt><span>history :</span></dt><dd>CIMIS_clean.py script run on 02-13-2023, 22:25:54 UTC \n",
       "ALLNETWORKS_qaqc.py script run on 08-07-2024, 20:52:09 UTC</dd><dt><span>comment :</span></dt><dd>Intermediate data product: may not have been subject to any cleaning or QA/QC processing \n",
       "An intermediate data product: subject to cleaning but may not be subject to full QA/QC processing.</dd><dt><span>license :</span></dt><dd></dd><dt><span>citation :</span></dt><dd></dd><dt><span>disclaimer :</span></dt><dd>This document was prepared as a result of work sponsored by the California Energy Commission (PIR-19-006). It does not necessarily represent the views of the Energy Commission, its employees, or the State of California. Neither the Commission, the State of California, nor the Commission&#x27;s employees, contractors, or subcontractors makes any warranty, express or implied, or assumes any legal liability for the information in this document; nor does any party represent that the use of this information will not infringe upon privately owned rights. This document has not been approved or disapproved by the Commission, nor has the Commission passed upon the accuracy of the information in this document.</dd><dt><span>station_name :</span></dt><dd>Irvine</dd><dt><span>pyranometer_height_m :</span></dt><dd>2.0</dd><dt><span>wind_vane_height_m :</span></dt><dd>2.0</dd><dt><span>anemometer_height_m :</span></dt><dd>2.0</dd><dt><span>thermometer_height_m :</span></dt><dd>1.5</dd><dt><span>humidity_height_m :</span></dt><dd>1.5</dd><dt><span>rain_gauge_height_m :</span></dt><dd>1.0</dd><dt><span>raw_files_merged :</span></dt><dd>47</dd></dl></div></li></ul></div></div>"
      ],
      "text/plain": [
       "<xarray.Dataset>\n",
       "Dimensions:               (station: 1, time: 305943)\n",
       "Coordinates:\n",
       "  * station               (station) object 'CIMIS_75'\n",
       "  * time                  (time) datetime64[ns] 1987-10-07T09:00:00 ... 2022-...\n",
       "Data variables: (12/30)\n",
       "    tas                   (station, time) float64 ...\n",
       "    pr                    (station, time) float64 ...\n",
       "    hurs                  (station, time) float64 ...\n",
       "    rsds                  (station, time) float64 ...\n",
       "    sfcWind               (station, time) float64 ...\n",
       "    sfcWind_dir           (station, time) float64 ...\n",
       "    ...                    ...\n",
       "    sfcWind_dir_eraqc     (station, time) float64 ...\n",
       "    elevation_eraqc       (station, time) float64 ...\n",
       "    tdps_derived_eraqc    (station, time) float64 ...\n",
       "    pvp_derived_eraqc     (station, time) float64 ...\n",
       "    anemometer_height_m   (station, time) float64 ...\n",
       "    thermometer_height_m  (station, time) float64 ...\n",
       "Attributes: (12/16)\n",
       "    title:                 CIMIS quality controlled\n",
       "    institution:           Eagle Rock Analytics / Cal Adapt\n",
       "    source:                \n",
       "    history:               CIMIS_clean.py script run on 02-13-2023, 22:25:54 ...\n",
       "    comment:               Intermediate data product: may not have been subje...\n",
       "    license:               \n",
       "    ...                    ...\n",
       "    wind_vane_height_m:    2.0\n",
       "    anemometer_height_m:   2.0\n",
       "    thermometer_height_m:  1.5\n",
       "    humidity_height_m:     1.5\n",
       "    rain_gauge_height_m:   1.0\n",
       "    raw_files_merged:      47"
      ]
     },
     "execution_count": 95,
     "metadata": {},
     "output_type": "execute_result"
    }
   ],
   "source": [
    "%%time\n",
    "ds = pull_nc_from_aws(specific_station) # manually retrieve a specific station\n",
    "ds"
   ]
  },
  {
   "cell_type": "code",
   "execution_count": 97,
   "id": "d21bc546-5cc9-4c93-bbbe-2e0deae1ec20",
   "metadata": {
    "execution": {
     "iopub.execute_input": "2024-10-01T20:05:14.221375Z",
     "iopub.status.busy": "2024-10-01T20:05:14.221279Z",
     "iopub.status.idle": "2024-10-01T20:05:15.324726Z",
     "shell.execute_reply": "2024-10-01T20:05:15.324432Z",
     "shell.execute_reply.started": "2024-10-01T20:05:14.221362Z"
    }
   },
   "outputs": [
    {
     "name": "stdout",
     "output_type": "stream",
     "text": [
      "Filling anemometer_height_m with NaN.\n",
      "Filling thermometer_height_m with NaN.\n",
      "CPU times: user 627 ms, sys: 223 ms, total: 850 ms\n",
      "Wall time: 1.07 s\n"
     ]
    },
    {
     "data": {
      "text/html": [
       "<div>\n",
       "<style scoped>\n",
       "    .dataframe tbody tr th:only-of-type {\n",
       "        vertical-align: middle;\n",
       "    }\n",
       "\n",
       "    .dataframe tbody tr th {\n",
       "        vertical-align: top;\n",
       "    }\n",
       "\n",
       "    .dataframe thead th {\n",
       "        text-align: right;\n",
       "    }\n",
       "</style>\n",
       "<table border=\"1\" class=\"dataframe\">\n",
       "  <thead>\n",
       "    <tr style=\"text-align: right;\">\n",
       "      <th></th>\n",
       "      <th>time</th>\n",
       "      <th>tas</th>\n",
       "      <th>pr</th>\n",
       "      <th>hurs</th>\n",
       "      <th>rsds</th>\n",
       "      <th>sfcWind</th>\n",
       "      <th>sfcWind_dir</th>\n",
       "      <th>pr_qc</th>\n",
       "      <th>rsds_qc</th>\n",
       "      <th>pvp_derived_qc</th>\n",
       "      <th>...</th>\n",
       "      <th>anemometer_height_m</th>\n",
       "      <th>thermometer_height_m</th>\n",
       "      <th>anemometer_height_m_eraqc</th>\n",
       "      <th>thermometer_height_m_eraqc</th>\n",
       "      <th>station</th>\n",
       "      <th>hour</th>\n",
       "      <th>day</th>\n",
       "      <th>month</th>\n",
       "      <th>year</th>\n",
       "      <th>date</th>\n",
       "    </tr>\n",
       "  </thead>\n",
       "  <tbody>\n",
       "    <tr>\n",
       "      <th>0</th>\n",
       "      <td>1987-10-07 09:00:00</td>\n",
       "      <td>290.75</td>\n",
       "      <td>0.0</td>\n",
       "      <td>9.0</td>\n",
       "      <td>0.0</td>\n",
       "      <td>0.8</td>\n",
       "      <td>87.1</td>\n",
       "      <td>nan</td>\n",
       "      <td>nan</td>\n",
       "      <td>nan</td>\n",
       "      <td>...</td>\n",
       "      <td>NaN</td>\n",
       "      <td>NaN</td>\n",
       "      <td>NaN</td>\n",
       "      <td>NaN</td>\n",
       "      <td>CIMIS_75</td>\n",
       "      <td>9</td>\n",
       "      <td>7</td>\n",
       "      <td>10</td>\n",
       "      <td>1987</td>\n",
       "      <td>1987-10-07</td>\n",
       "    </tr>\n",
       "    <tr>\n",
       "      <th>1</th>\n",
       "      <td>1987-10-07 10:00:00</td>\n",
       "      <td>290.85</td>\n",
       "      <td>0.0</td>\n",
       "      <td>7.0</td>\n",
       "      <td>-1.0</td>\n",
       "      <td>0.7</td>\n",
       "      <td>76.2</td>\n",
       "      <td>nan</td>\n",
       "      <td>nan</td>\n",
       "      <td>nan</td>\n",
       "      <td>...</td>\n",
       "      <td>NaN</td>\n",
       "      <td>NaN</td>\n",
       "      <td>NaN</td>\n",
       "      <td>NaN</td>\n",
       "      <td>CIMIS_75</td>\n",
       "      <td>10</td>\n",
       "      <td>7</td>\n",
       "      <td>10</td>\n",
       "      <td>1987</td>\n",
       "      <td>1987-10-07</td>\n",
       "    </tr>\n",
       "    <tr>\n",
       "      <th>2</th>\n",
       "      <td>1987-10-07 11:00:00</td>\n",
       "      <td>290.65</td>\n",
       "      <td>0.0</td>\n",
       "      <td>7.0</td>\n",
       "      <td>-1.0</td>\n",
       "      <td>1.0</td>\n",
       "      <td>11.7</td>\n",
       "      <td>nan</td>\n",
       "      <td>nan</td>\n",
       "      <td>nan</td>\n",
       "      <td>...</td>\n",
       "      <td>NaN</td>\n",
       "      <td>NaN</td>\n",
       "      <td>NaN</td>\n",
       "      <td>NaN</td>\n",
       "      <td>CIMIS_75</td>\n",
       "      <td>11</td>\n",
       "      <td>7</td>\n",
       "      <td>10</td>\n",
       "      <td>1987</td>\n",
       "      <td>1987-10-07</td>\n",
       "    </tr>\n",
       "  </tbody>\n",
       "</table>\n",
       "<p>3 rows × 39 columns</p>\n",
       "</div>"
      ],
      "text/plain": [
       "                 time     tas   pr  hurs  rsds  sfcWind  sfcWind_dir pr_qc  \\\n",
       "0 1987-10-07 09:00:00  290.75  0.0   9.0   0.0      0.8         87.1   nan   \n",
       "1 1987-10-07 10:00:00  290.85  0.0   7.0  -1.0      0.7         76.2   nan   \n",
       "2 1987-10-07 11:00:00  290.65  0.0   7.0  -1.0      1.0         11.7   nan   \n",
       "\n",
       "  rsds_qc pvp_derived_qc  ... anemometer_height_m thermometer_height_m  \\\n",
       "0     nan            nan  ...                 NaN                  NaN   \n",
       "1     nan            nan  ...                 NaN                  NaN   \n",
       "2     nan            nan  ...                 NaN                  NaN   \n",
       "\n",
       "  anemometer_height_m_eraqc thermometer_height_m_eraqc   station  hour  day  \\\n",
       "0                       NaN                        NaN  CIMIS_75     9    7   \n",
       "1                       NaN                        NaN  CIMIS_75    10    7   \n",
       "2                       NaN                        NaN  CIMIS_75    11    7   \n",
       "\n",
       "   month  year        date  \n",
       "0     10  1987  1987-10-07  \n",
       "1     10  1987  1987-10-07  \n",
       "2     10  1987  1987-10-07  \n",
       "\n",
       "[3 rows x 39 columns]"
      ]
     },
     "execution_count": 97,
     "metadata": {},
     "output_type": "execute_result"
    }
   ],
   "source": [
    "%%time\n",
    "df, MultiIndex, attrs, var_attrs, era_qc_vars = qaqc_ds_to_df(ds)\n",
    "df.head(3)"
   ]
  },
  {
   "cell_type": "code",
   "execution_count": 21,
   "id": "5016b5ef-795f-4fcd-9000-669e1d74aa7f",
   "metadata": {
    "execution": {
     "iopub.execute_input": "2024-10-01T19:17:27.362438Z",
     "iopub.status.busy": "2024-10-01T19:17:27.362325Z",
     "iopub.status.idle": "2024-10-01T19:17:32.562064Z",
     "shell.execute_reply": "2024-10-01T19:17:32.561685Z",
     "shell.execute_reply.started": "2024-10-01T19:17:27.362428Z"
    }
   },
   "outputs": [
    {
     "name": "stdout",
     "output_type": "stream",
     "text": [
      "Filling anemometer_height_m with NaN.\n",
      "Filling thermometer_height_m with NaN.\n",
      "CPU times: user 691 ms, sys: 327 ms, total: 1.02 s\n",
      "Wall time: 5.17 s\n"
     ]
    },
    {
     "data": {
      "text/html": [
       "<div>\n",
       "<style scoped>\n",
       "    .dataframe tbody tr th:only-of-type {\n",
       "        vertical-align: middle;\n",
       "    }\n",
       "\n",
       "    .dataframe tbody tr th {\n",
       "        vertical-align: top;\n",
       "    }\n",
       "\n",
       "    .dataframe thead th {\n",
       "        text-align: right;\n",
       "    }\n",
       "</style>\n",
       "<table border=\"1\" class=\"dataframe\">\n",
       "  <thead>\n",
       "    <tr style=\"text-align: right;\">\n",
       "      <th></th>\n",
       "      <th>time</th>\n",
       "      <th>tas</th>\n",
       "      <th>pr</th>\n",
       "      <th>hurs</th>\n",
       "      <th>rsds</th>\n",
       "      <th>sfcWind</th>\n",
       "      <th>sfcWind_dir</th>\n",
       "      <th>pr_qc</th>\n",
       "      <th>rsds_qc</th>\n",
       "      <th>pvp_derived_qc</th>\n",
       "      <th>...</th>\n",
       "      <th>anemometer_height_m</th>\n",
       "      <th>thermometer_height_m</th>\n",
       "      <th>anemometer_height_m_eraqc</th>\n",
       "      <th>thermometer_height_m_eraqc</th>\n",
       "      <th>station</th>\n",
       "      <th>hour</th>\n",
       "      <th>day</th>\n",
       "      <th>month</th>\n",
       "      <th>year</th>\n",
       "      <th>date</th>\n",
       "    </tr>\n",
       "  </thead>\n",
       "  <tbody>\n",
       "    <tr>\n",
       "      <th>0</th>\n",
       "      <td>1987-10-07 09:00:00</td>\n",
       "      <td>290.75</td>\n",
       "      <td>0.0</td>\n",
       "      <td>9.0</td>\n",
       "      <td>0.0</td>\n",
       "      <td>0.8</td>\n",
       "      <td>87.1</td>\n",
       "      <td>nan</td>\n",
       "      <td>nan</td>\n",
       "      <td>nan</td>\n",
       "      <td>...</td>\n",
       "      <td>NaN</td>\n",
       "      <td>NaN</td>\n",
       "      <td>NaN</td>\n",
       "      <td>NaN</td>\n",
       "      <td>CIMIS_75</td>\n",
       "      <td>9</td>\n",
       "      <td>7</td>\n",
       "      <td>10</td>\n",
       "      <td>1987</td>\n",
       "      <td>1987-10-07</td>\n",
       "    </tr>\n",
       "    <tr>\n",
       "      <th>1</th>\n",
       "      <td>1987-10-07 10:00:00</td>\n",
       "      <td>290.85</td>\n",
       "      <td>0.0</td>\n",
       "      <td>7.0</td>\n",
       "      <td>-1.0</td>\n",
       "      <td>0.7</td>\n",
       "      <td>76.2</td>\n",
       "      <td>nan</td>\n",
       "      <td>nan</td>\n",
       "      <td>nan</td>\n",
       "      <td>...</td>\n",
       "      <td>NaN</td>\n",
       "      <td>NaN</td>\n",
       "      <td>NaN</td>\n",
       "      <td>NaN</td>\n",
       "      <td>CIMIS_75</td>\n",
       "      <td>10</td>\n",
       "      <td>7</td>\n",
       "      <td>10</td>\n",
       "      <td>1987</td>\n",
       "      <td>1987-10-07</td>\n",
       "    </tr>\n",
       "    <tr>\n",
       "      <th>2</th>\n",
       "      <td>1987-10-07 11:00:00</td>\n",
       "      <td>290.65</td>\n",
       "      <td>0.0</td>\n",
       "      <td>7.0</td>\n",
       "      <td>-1.0</td>\n",
       "      <td>1.0</td>\n",
       "      <td>11.7</td>\n",
       "      <td>nan</td>\n",
       "      <td>nan</td>\n",
       "      <td>nan</td>\n",
       "      <td>...</td>\n",
       "      <td>NaN</td>\n",
       "      <td>NaN</td>\n",
       "      <td>NaN</td>\n",
       "      <td>NaN</td>\n",
       "      <td>CIMIS_75</td>\n",
       "      <td>11</td>\n",
       "      <td>7</td>\n",
       "      <td>10</td>\n",
       "      <td>1987</td>\n",
       "      <td>1987-10-07</td>\n",
       "    </tr>\n",
       "  </tbody>\n",
       "</table>\n",
       "<p>3 rows × 39 columns</p>\n",
       "</div>"
      ],
      "text/plain": [
       "                 time     tas   pr  hurs  rsds  sfcWind  sfcWind_dir pr_qc  \\\n",
       "0 1987-10-07 09:00:00  290.75  0.0   9.0   0.0      0.8         87.1   nan   \n",
       "1 1987-10-07 10:00:00  290.85  0.0   7.0  -1.0      0.7         76.2   nan   \n",
       "2 1987-10-07 11:00:00  290.65  0.0   7.0  -1.0      1.0         11.7   nan   \n",
       "\n",
       "  rsds_qc pvp_derived_qc  ... anemometer_height_m thermometer_height_m  \\\n",
       "0     nan            nan  ...                 NaN                  NaN   \n",
       "1     nan            nan  ...                 NaN                  NaN   \n",
       "2     nan            nan  ...                 NaN                  NaN   \n",
       "\n",
       "  anemometer_height_m_eraqc thermometer_height_m_eraqc   station  hour  day  \\\n",
       "0                       NaN                        NaN  CIMIS_75     9    7   \n",
       "1                       NaN                        NaN  CIMIS_75    10    7   \n",
       "2                       NaN                        NaN  CIMIS_75    11    7   \n",
       "\n",
       "   month  year        date  \n",
       "0     10  1987  1987-10-07  \n",
       "1     10  1987  1987-10-07  \n",
       "2     10  1987  1987-10-07  \n",
       "\n",
       "[3 rows x 39 columns]"
      ]
     },
     "execution_count": 21,
     "metadata": {},
     "output_type": "execute_result"
    }
   ],
   "source": [
    "%%time\n",
    "df, MultiIndex, attrs, var_attrs, era_qc_vars = qaqc_ds_to_df(ds)\n",
    "df.head(3)"
   ]
  },
  {
   "cell_type": "markdown",
   "id": "6918c3a2-7794-456a-9aa9-7366d3bb71dd",
   "metadata": {},
   "source": [
    "### Why is the first time `qaqc_ds_to_df` much much slower than the second? "
   ]
  },
  {
   "cell_type": "markdown",
   "id": "94a358d8-4d52-4819-b29b-86bacd1e714c",
   "metadata": {},
   "source": [
    "<div style=\"width: 60%;\">\n",
    "The first time, `s3.open()` is done. This does reads the dataset in a lazy way. When converting to df, the whole file needs\n",
    "to be read to memory, which `s3.open()` does much slower than s3.download()`\n",
    "</div>"
   ]
  },
  {
   "cell_type": "markdown",
   "id": "28850bb5-360f-4d0e-89ec-ad4d51226bd3",
   "metadata": {},
   "source": [
    "<div style=\"width: 60%;\">\n",
    "\n",
    "_From ChatGPT:_\n",
    "\n",
    "When comparing s3.open and s3.download, the performance difference typically depends on how data is accessed and processed. Here’s an overview of the two methods:\n",
    "\n",
    "1. **`s3.open()`**:\n",
    "Use Case: Opens a file from an S3 bucket as a file-like object.\n",
    "Performance:\n",
    "When using s3.open, data is streamed in smaller chunks, allowing for on-the-fly reading (useful when handling large files). This reduces memory overhead since the file is not loaded into memory at once.\n",
    "However, this streaming approach can make accessing data slower, especially when performing repeated read operations, as it incurs overhead due to network latency and chunk retrieval.\n",
    "2. **`s3.download()`**:\n",
    "Use Case: Downloads a file from S3 and stores it locally or in memory.\n",
    "Performance:\n",
    "s3.download typically downloads the entire file at once, which can be faster when you need the whole file to be processed or manipulated. There’s less latency involved after the file is downloaded, as subsequent operations on the local or in-memory copy are fast.\n",
    "However, downloading large files can be slower initially (compared to streaming) and can consume significant memory.\n",
    "Summary:\n",
    "s3.open is slower for operations that require reading large amounts of data repeatedly due to chunk-based streaming.\n",
    "s3.download is faster when you need the entire file at once, as you download the full data and can work with it in memory without additional network operations.\n",
    "When to Use Each:\n",
    "Use s3.open() for large files or if you only need partial access to the file (e.g., processing chunks of data or streaming video).\n",
    "Use s3.download() when you want the entire file available immediately or if you need faster access after the file is fully downloaded.\n",
    "</div>"
   ]
  },
  {
   "cell_type": "markdown",
   "id": "d40753d6-e283-4098-aa70-ba91bfc2564f",
   "metadata": {},
   "source": [
    "<div style=\"width: 60%;\">\n",
    "One way to handle this, specially for speed in debugging and testing, is to download the file to a temporary file, with the option to save to disk if we want to. Since downloading the file it's much faster, this process will be faster. Also, we can set an instruction to look first locally, if the file is not there, then download from s3 bucket\n",
    "</div>"
   ]
  },
  {
   "cell_type": "code",
   "execution_count": 98,
   "id": "beb255e2-7a5e-4b28-b262-b4759bc44833",
   "metadata": {
    "execution": {
     "iopub.execute_input": "2024-10-01T20:05:33.106996Z",
     "iopub.status.busy": "2024-10-01T20:05:33.105010Z",
     "iopub.status.idle": "2024-10-01T20:05:46.830889Z",
     "shell.execute_reply": "2024-10-01T20:05:46.830419Z",
     "shell.execute_reply.started": "2024-10-01T20:05:33.106941Z"
    }
   },
   "outputs": [
    {
     "name": "stdout",
     "output_type": "stream",
     "text": [
      "Retrieving data for station...\n",
      "/Users/hector/ERA_work/historical-obs-platform/test_platform/scripts/3_qaqc_data/qaqc_eval_notebooks/tmp/fy5ord5o.nc\n",
      "../Train_Files/CIMIS_75.nc\n",
      "CPU times: user 1.83 s, sys: 798 ms, total: 2.63 s\n",
      "Wall time: 13.6 s\n"
     ]
    },
    {
     "data": {
      "text/html": [
       "<div><svg style=\"position: absolute; width: 0; height: 0; overflow: hidden\">\n",
       "<defs>\n",
       "<symbol id=\"icon-database\" viewBox=\"0 0 32 32\">\n",
       "<path d=\"M16 0c-8.837 0-16 2.239-16 5v4c0 2.761 7.163 5 16 5s16-2.239 16-5v-4c0-2.761-7.163-5-16-5z\"></path>\n",
       "<path d=\"M16 17c-8.837 0-16-2.239-16-5v6c0 2.761 7.163 5 16 5s16-2.239 16-5v-6c0 2.761-7.163 5-16 5z\"></path>\n",
       "<path d=\"M16 26c-8.837 0-16-2.239-16-5v6c0 2.761 7.163 5 16 5s16-2.239 16-5v-6c0 2.761-7.163 5-16 5z\"></path>\n",
       "</symbol>\n",
       "<symbol id=\"icon-file-text2\" viewBox=\"0 0 32 32\">\n",
       "<path d=\"M28.681 7.159c-0.694-0.947-1.662-2.053-2.724-3.116s-2.169-2.030-3.116-2.724c-1.612-1.182-2.393-1.319-2.841-1.319h-15.5c-1.378 0-2.5 1.121-2.5 2.5v27c0 1.378 1.122 2.5 2.5 2.5h23c1.378 0 2.5-1.122 2.5-2.5v-19.5c0-0.448-0.137-1.23-1.319-2.841zM24.543 5.457c0.959 0.959 1.712 1.825 2.268 2.543h-4.811v-4.811c0.718 0.556 1.584 1.309 2.543 2.268zM28 29.5c0 0.271-0.229 0.5-0.5 0.5h-23c-0.271 0-0.5-0.229-0.5-0.5v-27c0-0.271 0.229-0.5 0.5-0.5 0 0 15.499-0 15.5 0v7c0 0.552 0.448 1 1 1h7v19.5z\"></path>\n",
       "<path d=\"M23 26h-14c-0.552 0-1-0.448-1-1s0.448-1 1-1h14c0.552 0 1 0.448 1 1s-0.448 1-1 1z\"></path>\n",
       "<path d=\"M23 22h-14c-0.552 0-1-0.448-1-1s0.448-1 1-1h14c0.552 0 1 0.448 1 1s-0.448 1-1 1z\"></path>\n",
       "<path d=\"M23 18h-14c-0.552 0-1-0.448-1-1s0.448-1 1-1h14c0.552 0 1 0.448 1 1s-0.448 1-1 1z\"></path>\n",
       "</symbol>\n",
       "</defs>\n",
       "</svg>\n",
       "<style>/* CSS stylesheet for displaying xarray objects in jupyterlab.\n",
       " *\n",
       " */\n",
       "\n",
       ":root {\n",
       "  --xr-font-color0: var(--jp-content-font-color0, rgba(0, 0, 0, 1));\n",
       "  --xr-font-color2: var(--jp-content-font-color2, rgba(0, 0, 0, 0.54));\n",
       "  --xr-font-color3: var(--jp-content-font-color3, rgba(0, 0, 0, 0.38));\n",
       "  --xr-border-color: var(--jp-border-color2, #e0e0e0);\n",
       "  --xr-disabled-color: var(--jp-layout-color3, #bdbdbd);\n",
       "  --xr-background-color: var(--jp-layout-color0, white);\n",
       "  --xr-background-color-row-even: var(--jp-layout-color1, white);\n",
       "  --xr-background-color-row-odd: var(--jp-layout-color2, #eeeeee);\n",
       "}\n",
       "\n",
       "html[theme=dark],\n",
       "body.vscode-dark {\n",
       "  --xr-font-color0: rgba(255, 255, 255, 1);\n",
       "  --xr-font-color2: rgba(255, 255, 255, 0.54);\n",
       "  --xr-font-color3: rgba(255, 255, 255, 0.38);\n",
       "  --xr-border-color: #1F1F1F;\n",
       "  --xr-disabled-color: #515151;\n",
       "  --xr-background-color: #111111;\n",
       "  --xr-background-color-row-even: #111111;\n",
       "  --xr-background-color-row-odd: #313131;\n",
       "}\n",
       "\n",
       ".xr-wrap {\n",
       "  display: block !important;\n",
       "  min-width: 300px;\n",
       "  max-width: 700px;\n",
       "}\n",
       "\n",
       ".xr-text-repr-fallback {\n",
       "  /* fallback to plain text repr when CSS is not injected (untrusted notebook) */\n",
       "  display: none;\n",
       "}\n",
       "\n",
       ".xr-header {\n",
       "  padding-top: 6px;\n",
       "  padding-bottom: 6px;\n",
       "  margin-bottom: 4px;\n",
       "  border-bottom: solid 1px var(--xr-border-color);\n",
       "}\n",
       "\n",
       ".xr-header > div,\n",
       ".xr-header > ul {\n",
       "  display: inline;\n",
       "  margin-top: 0;\n",
       "  margin-bottom: 0;\n",
       "}\n",
       "\n",
       ".xr-obj-type,\n",
       ".xr-array-name {\n",
       "  margin-left: 2px;\n",
       "  margin-right: 10px;\n",
       "}\n",
       "\n",
       ".xr-obj-type {\n",
       "  color: var(--xr-font-color2);\n",
       "}\n",
       "\n",
       ".xr-sections {\n",
       "  padding-left: 0 !important;\n",
       "  display: grid;\n",
       "  grid-template-columns: 150px auto auto 1fr 20px 20px;\n",
       "}\n",
       "\n",
       ".xr-section-item {\n",
       "  display: contents;\n",
       "}\n",
       "\n",
       ".xr-section-item input {\n",
       "  display: none;\n",
       "}\n",
       "\n",
       ".xr-section-item input + label {\n",
       "  color: var(--xr-disabled-color);\n",
       "}\n",
       "\n",
       ".xr-section-item input:enabled + label {\n",
       "  cursor: pointer;\n",
       "  color: var(--xr-font-color2);\n",
       "}\n",
       "\n",
       ".xr-section-item input:enabled + label:hover {\n",
       "  color: var(--xr-font-color0);\n",
       "}\n",
       "\n",
       ".xr-section-summary {\n",
       "  grid-column: 1;\n",
       "  color: var(--xr-font-color2);\n",
       "  font-weight: 500;\n",
       "}\n",
       "\n",
       ".xr-section-summary > span {\n",
       "  display: inline-block;\n",
       "  padding-left: 0.5em;\n",
       "}\n",
       "\n",
       ".xr-section-summary-in:disabled + label {\n",
       "  color: var(--xr-font-color2);\n",
       "}\n",
       "\n",
       ".xr-section-summary-in + label:before {\n",
       "  display: inline-block;\n",
       "  content: '►';\n",
       "  font-size: 11px;\n",
       "  width: 15px;\n",
       "  text-align: center;\n",
       "}\n",
       "\n",
       ".xr-section-summary-in:disabled + label:before {\n",
       "  color: var(--xr-disabled-color);\n",
       "}\n",
       "\n",
       ".xr-section-summary-in:checked + label:before {\n",
       "  content: '▼';\n",
       "}\n",
       "\n",
       ".xr-section-summary-in:checked + label > span {\n",
       "  display: none;\n",
       "}\n",
       "\n",
       ".xr-section-summary,\n",
       ".xr-section-inline-details {\n",
       "  padding-top: 4px;\n",
       "  padding-bottom: 4px;\n",
       "}\n",
       "\n",
       ".xr-section-inline-details {\n",
       "  grid-column: 2 / -1;\n",
       "}\n",
       "\n",
       ".xr-section-details {\n",
       "  display: none;\n",
       "  grid-column: 1 / -1;\n",
       "  margin-bottom: 5px;\n",
       "}\n",
       "\n",
       ".xr-section-summary-in:checked ~ .xr-section-details {\n",
       "  display: contents;\n",
       "}\n",
       "\n",
       ".xr-array-wrap {\n",
       "  grid-column: 1 / -1;\n",
       "  display: grid;\n",
       "  grid-template-columns: 20px auto;\n",
       "}\n",
       "\n",
       ".xr-array-wrap > label {\n",
       "  grid-column: 1;\n",
       "  vertical-align: top;\n",
       "}\n",
       "\n",
       ".xr-preview {\n",
       "  color: var(--xr-font-color3);\n",
       "}\n",
       "\n",
       ".xr-array-preview,\n",
       ".xr-array-data {\n",
       "  padding: 0 5px !important;\n",
       "  grid-column: 2;\n",
       "}\n",
       "\n",
       ".xr-array-data,\n",
       ".xr-array-in:checked ~ .xr-array-preview {\n",
       "  display: none;\n",
       "}\n",
       "\n",
       ".xr-array-in:checked ~ .xr-array-data,\n",
       ".xr-array-preview {\n",
       "  display: inline-block;\n",
       "}\n",
       "\n",
       ".xr-dim-list {\n",
       "  display: inline-block !important;\n",
       "  list-style: none;\n",
       "  padding: 0 !important;\n",
       "  margin: 0;\n",
       "}\n",
       "\n",
       ".xr-dim-list li {\n",
       "  display: inline-block;\n",
       "  padding: 0;\n",
       "  margin: 0;\n",
       "}\n",
       "\n",
       ".xr-dim-list:before {\n",
       "  content: '(';\n",
       "}\n",
       "\n",
       ".xr-dim-list:after {\n",
       "  content: ')';\n",
       "}\n",
       "\n",
       ".xr-dim-list li:not(:last-child):after {\n",
       "  content: ',';\n",
       "  padding-right: 5px;\n",
       "}\n",
       "\n",
       ".xr-has-index {\n",
       "  font-weight: bold;\n",
       "}\n",
       "\n",
       ".xr-var-list,\n",
       ".xr-var-item {\n",
       "  display: contents;\n",
       "}\n",
       "\n",
       ".xr-var-item > div,\n",
       ".xr-var-item label,\n",
       ".xr-var-item > .xr-var-name span {\n",
       "  background-color: var(--xr-background-color-row-even);\n",
       "  margin-bottom: 0;\n",
       "}\n",
       "\n",
       ".xr-var-item > .xr-var-name:hover span {\n",
       "  padding-right: 5px;\n",
       "}\n",
       "\n",
       ".xr-var-list > li:nth-child(odd) > div,\n",
       ".xr-var-list > li:nth-child(odd) > label,\n",
       ".xr-var-list > li:nth-child(odd) > .xr-var-name span {\n",
       "  background-color: var(--xr-background-color-row-odd);\n",
       "}\n",
       "\n",
       ".xr-var-name {\n",
       "  grid-column: 1;\n",
       "}\n",
       "\n",
       ".xr-var-dims {\n",
       "  grid-column: 2;\n",
       "}\n",
       "\n",
       ".xr-var-dtype {\n",
       "  grid-column: 3;\n",
       "  text-align: right;\n",
       "  color: var(--xr-font-color2);\n",
       "}\n",
       "\n",
       ".xr-var-preview {\n",
       "  grid-column: 4;\n",
       "}\n",
       "\n",
       ".xr-var-name,\n",
       ".xr-var-dims,\n",
       ".xr-var-dtype,\n",
       ".xr-preview,\n",
       ".xr-attrs dt {\n",
       "  white-space: nowrap;\n",
       "  overflow: hidden;\n",
       "  text-overflow: ellipsis;\n",
       "  padding-right: 10px;\n",
       "}\n",
       "\n",
       ".xr-var-name:hover,\n",
       ".xr-var-dims:hover,\n",
       ".xr-var-dtype:hover,\n",
       ".xr-attrs dt:hover {\n",
       "  overflow: visible;\n",
       "  width: auto;\n",
       "  z-index: 1;\n",
       "}\n",
       "\n",
       ".xr-var-attrs,\n",
       ".xr-var-data {\n",
       "  display: none;\n",
       "  background-color: var(--xr-background-color) !important;\n",
       "  padding-bottom: 5px !important;\n",
       "}\n",
       "\n",
       ".xr-var-attrs-in:checked ~ .xr-var-attrs,\n",
       ".xr-var-data-in:checked ~ .xr-var-data {\n",
       "  display: block;\n",
       "}\n",
       "\n",
       ".xr-var-data > table {\n",
       "  float: right;\n",
       "}\n",
       "\n",
       ".xr-var-name span,\n",
       ".xr-var-data,\n",
       ".xr-attrs {\n",
       "  padding-left: 25px !important;\n",
       "}\n",
       "\n",
       ".xr-attrs,\n",
       ".xr-var-attrs,\n",
       ".xr-var-data {\n",
       "  grid-column: 1 / -1;\n",
       "}\n",
       "\n",
       "dl.xr-attrs {\n",
       "  padding: 0;\n",
       "  margin: 0;\n",
       "  display: grid;\n",
       "  grid-template-columns: 125px auto;\n",
       "}\n",
       "\n",
       ".xr-attrs dt,\n",
       ".xr-attrs dd {\n",
       "  padding: 0;\n",
       "  margin: 0;\n",
       "  float: left;\n",
       "  padding-right: 10px;\n",
       "  width: auto;\n",
       "}\n",
       "\n",
       ".xr-attrs dt {\n",
       "  font-weight: normal;\n",
       "  grid-column: 1;\n",
       "}\n",
       "\n",
       ".xr-attrs dt:hover span {\n",
       "  display: inline-block;\n",
       "  background: var(--xr-background-color);\n",
       "  padding-right: 10px;\n",
       "}\n",
       "\n",
       ".xr-attrs dd {\n",
       "  grid-column: 2;\n",
       "  white-space: pre-wrap;\n",
       "  word-break: break-all;\n",
       "}\n",
       "\n",
       ".xr-icon-database,\n",
       ".xr-icon-file-text2 {\n",
       "  display: inline-block;\n",
       "  vertical-align: middle;\n",
       "  width: 1em;\n",
       "  height: 1.5em !important;\n",
       "  stroke-width: 0;\n",
       "  stroke: currentColor;\n",
       "  fill: currentColor;\n",
       "}\n",
       "</style><pre class='xr-text-repr-fallback'>&lt;xarray.Dataset&gt;\n",
       "Dimensions:               (station: 1, time: 305943)\n",
       "Coordinates:\n",
       "  * station               (station) object &#x27;CIMIS_75&#x27;\n",
       "  * time                  (time) datetime64[ns] 1987-10-07T09:00:00 ... 2022-...\n",
       "Data variables: (12/30)\n",
       "    tas                   (station, time) float64 290.8 290.8 ... 309.6 310.3\n",
       "    pr                    (station, time) float64 0.0 0.0 0.0 ... 0.0 0.0 0.0\n",
       "    hurs                  (station, time) float64 9.0 7.0 7.0 ... 27.0 24.0 24.0\n",
       "    rsds                  (station, time) float64 0.0 -1.0 -1.0 ... 803.0 678.0\n",
       "    sfcWind               (station, time) float64 0.8 0.7 1.0 ... 3.2 3.2 3.2\n",
       "    sfcWind_dir           (station, time) float64 87.1 76.2 11.7 ... 191.0 188.0\n",
       "    ...                    ...\n",
       "    sfcWind_dir_eraqc     (station, time) float64 nan nan nan ... nan nan nan\n",
       "    elevation_eraqc       (station, time) float64 nan nan nan ... nan nan nan\n",
       "    tdps_derived_eraqc    (station, time) float64 nan nan nan ... nan nan nan\n",
       "    pvp_derived_eraqc     (station, time) float64 nan nan nan ... nan nan nan\n",
       "    anemometer_height_m   (station, time) float64 2.0 2.0 2.0 ... 2.0 2.0 2.0\n",
       "    thermometer_height_m  (station, time) float64 1.5 1.5 1.5 ... 1.5 1.5 1.5\n",
       "Attributes: (12/16)\n",
       "    title:                 CIMIS quality controlled\n",
       "    institution:           Eagle Rock Analytics / Cal Adapt\n",
       "    source:                \n",
       "    history:               CIMIS_clean.py script run on 02-13-2023, 22:25:54 ...\n",
       "    comment:               Intermediate data product: may not have been subje...\n",
       "    license:               \n",
       "    ...                    ...\n",
       "    wind_vane_height_m:    2.0\n",
       "    anemometer_height_m:   2.0\n",
       "    thermometer_height_m:  1.5\n",
       "    humidity_height_m:     1.5\n",
       "    rain_gauge_height_m:   1.0\n",
       "    raw_files_merged:      47</pre><div class='xr-wrap' style='display:none'><div class='xr-header'><div class='xr-obj-type'>xarray.Dataset</div></div><ul class='xr-sections'><li class='xr-section-item'><input id='section-c57e24f9-2672-46cd-bb50-3484287d2125' class='xr-section-summary-in' type='checkbox' disabled ><label for='section-c57e24f9-2672-46cd-bb50-3484287d2125' class='xr-section-summary'  title='Expand/collapse section'>Dimensions:</label><div class='xr-section-inline-details'><ul class='xr-dim-list'><li><span class='xr-has-index'>station</span>: 1</li><li><span class='xr-has-index'>time</span>: 305943</li></ul></div><div class='xr-section-details'></div></li><li class='xr-section-item'><input id='section-61547c9b-ffd5-4af5-8ced-d1f62d027f62' class='xr-section-summary-in' type='checkbox'  checked><label for='section-61547c9b-ffd5-4af5-8ced-d1f62d027f62' class='xr-section-summary' >Coordinates: <span>(2)</span></label><div class='xr-section-inline-details'></div><div class='xr-section-details'><ul class='xr-var-list'><li class='xr-var-item'><div class='xr-var-name'><span class='xr-has-index'>station</span></div><div class='xr-var-dims'>(station)</div><div class='xr-var-dtype'>object</div><div class='xr-var-preview xr-preview'>&#x27;CIMIS_75&#x27;</div><input id='attrs-363f8566-d2f3-4dc3-9a48-5f4fd887539d' class='xr-var-attrs-in' type='checkbox' disabled><label for='attrs-363f8566-d2f3-4dc3-9a48-5f4fd887539d' title='Show/Hide attributes'><svg class='icon xr-icon-file-text2'><use xlink:href='#icon-file-text2'></use></svg></label><input id='data-ba76d6d6-25cf-45cf-a6bf-72f71114fd1c' class='xr-var-data-in' type='checkbox'><label for='data-ba76d6d6-25cf-45cf-a6bf-72f71114fd1c' title='Show/Hide data repr'><svg class='icon xr-icon-database'><use xlink:href='#icon-database'></use></svg></label><div class='xr-var-attrs'><dl class='xr-attrs'></dl></div><div class='xr-var-data'><pre>array([&#x27;CIMIS_75&#x27;], dtype=object)</pre></div></li><li class='xr-var-item'><div class='xr-var-name'><span class='xr-has-index'>time</span></div><div class='xr-var-dims'>(time)</div><div class='xr-var-dtype'>datetime64[ns]</div><div class='xr-var-preview xr-preview'>1987-10-07T09:00:00 ... 2022-08-...</div><input id='attrs-0565a47f-03f1-4efc-afed-a11ed4a9d5f9' class='xr-var-attrs-in' type='checkbox' disabled><label for='attrs-0565a47f-03f1-4efc-afed-a11ed4a9d5f9' title='Show/Hide attributes'><svg class='icon xr-icon-file-text2'><use xlink:href='#icon-file-text2'></use></svg></label><input id='data-6a0b5cc0-dce3-470e-a0d9-8d33c2fface5' class='xr-var-data-in' type='checkbox'><label for='data-6a0b5cc0-dce3-470e-a0d9-8d33c2fface5' title='Show/Hide data repr'><svg class='icon xr-icon-database'><use xlink:href='#icon-database'></use></svg></label><div class='xr-var-attrs'><dl class='xr-attrs'></dl></div><div class='xr-var-data'><pre>array([&#x27;1987-10-07T09:00:00.000000000&#x27;, &#x27;1987-10-07T10:00:00.000000000&#x27;,\n",
       "       &#x27;1987-10-07T11:00:00.000000000&#x27;, ..., &#x27;2022-08-31T21:00:00.000000000&#x27;,\n",
       "       &#x27;2022-08-31T22:00:00.000000000&#x27;, &#x27;2022-08-31T23:00:00.000000000&#x27;],\n",
       "      dtype=&#x27;datetime64[ns]&#x27;)</pre></div></li></ul></div></li><li class='xr-section-item'><input id='section-ad9af09f-bc60-4dba-a153-8574f3f21427' class='xr-section-summary-in' type='checkbox'  ><label for='section-ad9af09f-bc60-4dba-a153-8574f3f21427' class='xr-section-summary' >Data variables: <span>(30)</span></label><div class='xr-section-inline-details'></div><div class='xr-section-details'><ul class='xr-var-list'><li class='xr-var-item'><div class='xr-var-name'><span>tas</span></div><div class='xr-var-dims'>(station, time)</div><div class='xr-var-dtype'>float64</div><div class='xr-var-preview xr-preview'>290.8 290.8 290.6 ... 309.6 310.3</div><input id='attrs-329e476c-daac-4d50-a852-ba1cb9fa25f4' class='xr-var-attrs-in' type='checkbox' ><label for='attrs-329e476c-daac-4d50-a852-ba1cb9fa25f4' title='Show/Hide attributes'><svg class='icon xr-icon-file-text2'><use xlink:href='#icon-file-text2'></use></svg></label><input id='data-9c245810-2208-47b3-bd46-2fdb38164a13' class='xr-var-data-in' type='checkbox'><label for='data-9c245810-2208-47b3-bd46-2fdb38164a13' title='Show/Hide data repr'><svg class='icon xr-icon-database'><use xlink:href='#icon-database'></use></svg></label><div class='xr-var-attrs'><dl class='xr-attrs'><dt><span>long_name :</span></dt><dd>air_temperature</dd><dt><span>standard_name :</span></dt><dd>air_temperature</dd><dt><span>units :</span></dt><dd>degree_Kelvin</dd><dt><span>ancillary_variables :</span></dt><dd>tas_qc, tas_eraqc</dd><dt><span>comment :</span></dt><dd>Converted from Celsius to Kelvin.</dd></dl></div><div class='xr-var-data'><pre>array([[290.75, 290.85, 290.65, ..., 308.45, 309.65, 310.35]])</pre></div></li><li class='xr-var-item'><div class='xr-var-name'><span>pr</span></div><div class='xr-var-dims'>(station, time)</div><div class='xr-var-dtype'>float64</div><div class='xr-var-preview xr-preview'>0.0 0.0 0.0 0.0 ... 0.0 0.0 0.0 0.0</div><input id='attrs-0736a2d6-b97c-43e0-b24e-beec1205fa81' class='xr-var-attrs-in' type='checkbox' ><label for='attrs-0736a2d6-b97c-43e0-b24e-beec1205fa81' title='Show/Hide attributes'><svg class='icon xr-icon-file-text2'><use xlink:href='#icon-file-text2'></use></svg></label><input id='data-4300e7f0-904a-4c26-af9f-e0ec65f9e01b' class='xr-var-data-in' type='checkbox'><label for='data-4300e7f0-904a-4c26-af9f-e0ec65f9e01b' title='Show/Hide data repr'><svg class='icon xr-icon-database'><use xlink:href='#icon-database'></use></svg></label><div class='xr-var-attrs'><dl class='xr-attrs'><dt><span>long_name :</span></dt><dd>precipitation_accumulation</dd><dt><span>units :</span></dt><dd>mm/hour</dd><dt><span>ancillary_variables :</span></dt><dd>pr_qc, pr_eraqc</dd><dt><span>comment :</span></dt><dd>Accumulated precipitation.</dd></dl></div><div class='xr-var-data'><pre>array([[0., 0., 0., ..., 0., 0., 0.]])</pre></div></li><li class='xr-var-item'><div class='xr-var-name'><span>hurs</span></div><div class='xr-var-dims'>(station, time)</div><div class='xr-var-dtype'>float64</div><div class='xr-var-preview xr-preview'>9.0 7.0 7.0 7.0 ... 27.0 24.0 24.0</div><input id='attrs-2b1207f5-6061-4743-b098-721237768289' class='xr-var-attrs-in' type='checkbox' ><label for='attrs-2b1207f5-6061-4743-b098-721237768289' title='Show/Hide attributes'><svg class='icon xr-icon-file-text2'><use xlink:href='#icon-file-text2'></use></svg></label><input id='data-05ad9fb0-f381-402d-ae17-b665f7377588' class='xr-var-data-in' type='checkbox'><label for='data-05ad9fb0-f381-402d-ae17-b665f7377588' title='Show/Hide data repr'><svg class='icon xr-icon-database'><use xlink:href='#icon-database'></use></svg></label><div class='xr-var-attrs'><dl class='xr-attrs'><dt><span>long_name :</span></dt><dd>relative_humidity</dd><dt><span>standard_name :</span></dt><dd>relative_humidity</dd><dt><span>units :</span></dt><dd>percent</dd><dt><span>ancillary_variables :</span></dt><dd>hurs_qc, hurs_eraqc</dd></dl></div><div class='xr-var-data'><pre>array([[ 9.,  7.,  7., ..., 27., 24., 24.]])</pre></div></li><li class='xr-var-item'><div class='xr-var-name'><span>rsds</span></div><div class='xr-var-dims'>(station, time)</div><div class='xr-var-dtype'>float64</div><div class='xr-var-preview xr-preview'>0.0 -1.0 -1.0 ... 874.0 803.0 678.0</div><input id='attrs-58e5eed0-3244-4982-b24d-51837b7f4550' class='xr-var-attrs-in' type='checkbox' ><label for='attrs-58e5eed0-3244-4982-b24d-51837b7f4550' title='Show/Hide attributes'><svg class='icon xr-icon-file-text2'><use xlink:href='#icon-file-text2'></use></svg></label><input id='data-a1388f74-0ce2-4da2-be23-45483aba4825' class='xr-var-data-in' type='checkbox'><label for='data-a1388f74-0ce2-4da2-be23-45483aba4825' title='Show/Hide data repr'><svg class='icon xr-icon-database'><use xlink:href='#icon-database'></use></svg></label><div class='xr-var-attrs'><dl class='xr-attrs'><dt><span>long_name :</span></dt><dd>solar_radiation</dd><dt><span>standard_name :</span></dt><dd>surface_downwelling_shortwave_flux_in_air</dd><dt><span>units :</span></dt><dd>W m-2</dd><dt><span>ancillary_variables :</span></dt><dd>rsds_qc, rsds_eraqc</dd></dl></div><div class='xr-var-data'><pre>array([[  0.,  -1.,  -1., ..., 874., 803., 678.]])</pre></div></li><li class='xr-var-item'><div class='xr-var-name'><span>sfcWind</span></div><div class='xr-var-dims'>(station, time)</div><div class='xr-var-dtype'>float64</div><div class='xr-var-preview xr-preview'>0.8 0.7 1.0 0.9 ... 3.2 3.2 3.2 3.2</div><input id='attrs-ee3402f7-e403-4fd6-989f-062ee88c3af7' class='xr-var-attrs-in' type='checkbox' ><label for='attrs-ee3402f7-e403-4fd6-989f-062ee88c3af7' title='Show/Hide attributes'><svg class='icon xr-icon-file-text2'><use xlink:href='#icon-file-text2'></use></svg></label><input id='data-52405b20-15d3-4211-aacf-691ead2c31c3' class='xr-var-data-in' type='checkbox'><label for='data-52405b20-15d3-4211-aacf-691ead2c31c3' title='Show/Hide data repr'><svg class='icon xr-icon-database'><use xlink:href='#icon-database'></use></svg></label><div class='xr-var-attrs'><dl class='xr-attrs'><dt><span>long_name :</span></dt><dd>wind_speed</dd><dt><span>standard_name :</span></dt><dd>wind_speed</dd><dt><span>units :</span></dt><dd>m s-1</dd><dt><span>ancillary_variables :</span></dt><dd>sfcWind_qc, sfcWind_eraqc</dd></dl></div><div class='xr-var-data'><pre>array([[0.8, 0.7, 1. , ..., 3.2, 3.2, 3.2]])</pre></div></li><li class='xr-var-item'><div class='xr-var-name'><span>sfcWind_dir</span></div><div class='xr-var-dims'>(station, time)</div><div class='xr-var-dtype'>float64</div><div class='xr-var-preview xr-preview'>87.1 76.2 11.7 ... 191.0 188.0</div><input id='attrs-38c068d9-8f2f-4852-bf09-d75208ca631c' class='xr-var-attrs-in' type='checkbox' ><label for='attrs-38c068d9-8f2f-4852-bf09-d75208ca631c' title='Show/Hide attributes'><svg class='icon xr-icon-file-text2'><use xlink:href='#icon-file-text2'></use></svg></label><input id='data-1f3fdccc-64d3-4f30-ad20-218f74c7c1c3' class='xr-var-data-in' type='checkbox'><label for='data-1f3fdccc-64d3-4f30-ad20-218f74c7c1c3' title='Show/Hide data repr'><svg class='icon xr-icon-database'><use xlink:href='#icon-database'></use></svg></label><div class='xr-var-attrs'><dl class='xr-attrs'><dt><span>long_name :</span></dt><dd>wind_direction</dd><dt><span>standard_name :</span></dt><dd>wind_from_direction</dd><dt><span>units :</span></dt><dd>degrees_clockwise_from_north</dd><dt><span>ancillary_variables :</span></dt><dd>sfcWind_dir_qc, sfcWind_dir_eraqc</dd><dt><span>comment :</span></dt><dd>Wind direction is defined by the direction that the wind is coming from (i.e., a northerly wind originates in the north and blows towards the south).</dd></dl></div><div class='xr-var-data'><pre>array([[ 87.1,  76.2,  11.7, ..., 196. , 191. , 188. ]])</pre></div></li><li class='xr-var-item'><div class='xr-var-name'><span>pr_qc</span></div><div class='xr-var-dims'>(station, time)</div><div class='xr-var-dtype'>object</div><div class='xr-var-preview xr-preview'>&#x27;nan&#x27; &#x27;nan&#x27; &#x27;nan&#x27; ... &#x27;nan&#x27; &#x27;nan&#x27;</div><input id='attrs-240206a1-8cdf-449a-b2ba-2ddbf24d0985' class='xr-var-attrs-in' type='checkbox' ><label for='attrs-240206a1-8cdf-449a-b2ba-2ddbf24d0985' title='Show/Hide attributes'><svg class='icon xr-icon-file-text2'><use xlink:href='#icon-file-text2'></use></svg></label><input id='data-ebe50a22-5c1e-4c02-b4a1-5ede1da835fe' class='xr-var-data-in' type='checkbox'><label for='data-ebe50a22-5c1e-4c02-b4a1-5ede1da835fe' title='Show/Hide data repr'><svg class='icon xr-icon-database'><use xlink:href='#icon-database'></use></svg></label><div class='xr-var-attrs'><dl class='xr-attrs'><dt><span>flag_values :</span></dt><dd>M P Q R Y</dd><dt><span>flag_meanings :</span></dt><dd>See QA/QC csv for network.</dd></dl></div><div class='xr-var-data'><pre>array([[&#x27;nan&#x27;, &#x27;nan&#x27;, &#x27;nan&#x27;, ..., &#x27;nan&#x27;, &#x27;nan&#x27;, &#x27;nan&#x27;]], dtype=object)</pre></div></li><li class='xr-var-item'><div class='xr-var-name'><span>rsds_qc</span></div><div class='xr-var-dims'>(station, time)</div><div class='xr-var-dtype'>object</div><div class='xr-var-preview xr-preview'>&#x27;nan&#x27; &#x27;nan&#x27; &#x27;nan&#x27; ... &#x27;nan&#x27; &#x27;nan&#x27;</div><input id='attrs-61be388e-8a01-454b-9fcd-b60524f470ef' class='xr-var-attrs-in' type='checkbox' ><label for='attrs-61be388e-8a01-454b-9fcd-b60524f470ef' title='Show/Hide attributes'><svg class='icon xr-icon-file-text2'><use xlink:href='#icon-file-text2'></use></svg></label><input id='data-aeadc6ee-7c4f-42d2-a5a1-977ae7985055' class='xr-var-data-in' type='checkbox'><label for='data-aeadc6ee-7c4f-42d2-a5a1-977ae7985055' title='Show/Hide data repr'><svg class='icon xr-icon-database'><use xlink:href='#icon-database'></use></svg></label><div class='xr-var-attrs'><dl class='xr-attrs'><dt><span>flag_values :</span></dt><dd>M P R S Y</dd><dt><span>flag_meanings :</span></dt><dd>See QA/QC csv for network.</dd></dl></div><div class='xr-var-data'><pre>array([[&#x27;nan&#x27;, &#x27;nan&#x27;, &#x27;nan&#x27;, ..., &#x27;nan&#x27;, &#x27;nan&#x27;, &#x27;nan&#x27;]], dtype=object)</pre></div></li><li class='xr-var-item'><div class='xr-var-name'><span>pvp_derived_qc</span></div><div class='xr-var-dims'>(station, time)</div><div class='xr-var-dtype'>object</div><div class='xr-var-preview xr-preview'>&#x27;nan&#x27; &#x27;nan&#x27; &#x27;nan&#x27; ... &#x27;nan&#x27; &#x27;nan&#x27;</div><input id='attrs-8555fd36-1dcc-4659-9e96-cdfe4d257976' class='xr-var-attrs-in' type='checkbox' ><label for='attrs-8555fd36-1dcc-4659-9e96-cdfe4d257976' title='Show/Hide attributes'><svg class='icon xr-icon-file-text2'><use xlink:href='#icon-file-text2'></use></svg></label><input id='data-09a2e649-3040-42b5-8f84-dd793cdfe588' class='xr-var-data-in' type='checkbox'><label for='data-09a2e649-3040-42b5-8f84-dd793cdfe588' title='Show/Hide data repr'><svg class='icon xr-icon-database'><use xlink:href='#icon-database'></use></svg></label><div class='xr-var-attrs'><dl class='xr-attrs'><dt><span>flag_values :</span></dt><dd>M P Q R S Y</dd><dt><span>flag_meanings :</span></dt><dd>See QA/QC csv for network.</dd></dl></div><div class='xr-var-data'><pre>array([[&#x27;nan&#x27;, &#x27;nan&#x27;, &#x27;nan&#x27;, ..., &#x27;nan&#x27;, &#x27;nan&#x27;, &#x27;nan&#x27;]], dtype=object)</pre></div></li><li class='xr-var-item'><div class='xr-var-name'><span>tas_qc</span></div><div class='xr-var-dims'>(station, time)</div><div class='xr-var-dtype'>object</div><div class='xr-var-preview xr-preview'>&#x27;nan&#x27; &#x27;nan&#x27; &#x27;nan&#x27; ... &#x27;nan&#x27; &#x27;Y&#x27; &#x27;Y&#x27;</div><input id='attrs-8928155d-e13e-4726-bee7-b6e9205c78cb' class='xr-var-attrs-in' type='checkbox' ><label for='attrs-8928155d-e13e-4726-bee7-b6e9205c78cb' title='Show/Hide attributes'><svg class='icon xr-icon-file-text2'><use xlink:href='#icon-file-text2'></use></svg></label><input id='data-99b0a84c-dbf0-460e-b473-ddb357f9a5e5' class='xr-var-data-in' type='checkbox'><label for='data-99b0a84c-dbf0-460e-b473-ddb357f9a5e5' title='Show/Hide data repr'><svg class='icon xr-icon-database'><use xlink:href='#icon-database'></use></svg></label><div class='xr-var-attrs'><dl class='xr-attrs'><dt><span>flag_values :</span></dt><dd>M P R S Y</dd><dt><span>flag_meanings :</span></dt><dd>See QA/QC csv for network.</dd></dl></div><div class='xr-var-data'><pre>array([[&#x27;nan&#x27;, &#x27;nan&#x27;, &#x27;nan&#x27;, ..., &#x27;nan&#x27;, &#x27;Y&#x27;, &#x27;Y&#x27;]], dtype=object)</pre></div></li><li class='xr-var-item'><div class='xr-var-name'><span>hurs_qc</span></div><div class='xr-var-dims'>(station, time)</div><div class='xr-var-dtype'>object</div><div class='xr-var-preview xr-preview'>&#x27;nan&#x27; &#x27;nan&#x27; &#x27;nan&#x27; ... &#x27;nan&#x27; &#x27;Y&#x27; &#x27;Y&#x27;</div><input id='attrs-e6f5f895-b275-4e5d-bdfd-c59678dbc400' class='xr-var-attrs-in' type='checkbox' ><label for='attrs-e6f5f895-b275-4e5d-bdfd-c59678dbc400' title='Show/Hide attributes'><svg class='icon xr-icon-file-text2'><use xlink:href='#icon-file-text2'></use></svg></label><input id='data-2ad14e2a-bd04-4ba2-a918-d0bbd8487793' class='xr-var-data-in' type='checkbox'><label for='data-2ad14e2a-bd04-4ba2-a918-d0bbd8487793' title='Show/Hide data repr'><svg class='icon xr-icon-database'><use xlink:href='#icon-database'></use></svg></label><div class='xr-var-attrs'><dl class='xr-attrs'><dt><span>flag_values :</span></dt><dd>M Q R S Y</dd><dt><span>flag_meanings :</span></dt><dd>See QA/QC csv for network.</dd></dl></div><div class='xr-var-data'><pre>array([[&#x27;nan&#x27;, &#x27;nan&#x27;, &#x27;nan&#x27;, ..., &#x27;nan&#x27;, &#x27;Y&#x27;, &#x27;Y&#x27;]], dtype=object)</pre></div></li><li class='xr-var-item'><div class='xr-var-name'><span>tdps_derived_qc</span></div><div class='xr-var-dims'>(station, time)</div><div class='xr-var-dtype'>object</div><div class='xr-var-preview xr-preview'>&#x27;nan&#x27; &#x27;nan&#x27; &#x27;nan&#x27; ... &#x27;nan&#x27; &#x27;Y&#x27; &#x27;Y&#x27;</div><input id='attrs-fc229abf-a72f-4f95-a5de-8b401f8ac056' class='xr-var-attrs-in' type='checkbox' ><label for='attrs-fc229abf-a72f-4f95-a5de-8b401f8ac056' title='Show/Hide attributes'><svg class='icon xr-icon-file-text2'><use xlink:href='#icon-file-text2'></use></svg></label><input id='data-539000be-2f8a-448d-9786-af7027014881' class='xr-var-data-in' type='checkbox'><label for='data-539000be-2f8a-448d-9786-af7027014881' title='Show/Hide data repr'><svg class='icon xr-icon-database'><use xlink:href='#icon-database'></use></svg></label><div class='xr-var-attrs'><dl class='xr-attrs'><dt><span>flag_values :</span></dt><dd>M Q R S Y</dd><dt><span>flag_meanings :</span></dt><dd>See QA/QC csv for network.</dd></dl></div><div class='xr-var-data'><pre>array([[&#x27;nan&#x27;, &#x27;nan&#x27;, &#x27;nan&#x27;, ..., &#x27;nan&#x27;, &#x27;Y&#x27;, &#x27;Y&#x27;]], dtype=object)</pre></div></li><li class='xr-var-item'><div class='xr-var-name'><span>sfcWind_qc</span></div><div class='xr-var-dims'>(station, time)</div><div class='xr-var-dtype'>object</div><div class='xr-var-preview xr-preview'>&#x27;nan&#x27; &#x27;nan&#x27; &#x27;nan&#x27; ... &#x27;nan&#x27; &#x27;nan&#x27;</div><input id='attrs-e4e3b769-3bb3-451e-8444-a6f32ae72f37' class='xr-var-attrs-in' type='checkbox' ><label for='attrs-e4e3b769-3bb3-451e-8444-a6f32ae72f37' title='Show/Hide attributes'><svg class='icon xr-icon-file-text2'><use xlink:href='#icon-file-text2'></use></svg></label><input id='data-a11a7c4d-3884-4526-9fc4-2bb94f1c9542' class='xr-var-data-in' type='checkbox'><label for='data-a11a7c4d-3884-4526-9fc4-2bb94f1c9542' title='Show/Hide data repr'><svg class='icon xr-icon-database'><use xlink:href='#icon-database'></use></svg></label><div class='xr-var-attrs'><dl class='xr-attrs'><dt><span>flag_values :</span></dt><dd>I M P R S Y</dd><dt><span>flag_meanings :</span></dt><dd>See QA/QC csv for network.</dd></dl></div><div class='xr-var-data'><pre>array([[&#x27;nan&#x27;, &#x27;nan&#x27;, &#x27;nan&#x27;, ..., &#x27;nan&#x27;, &#x27;nan&#x27;, &#x27;nan&#x27;]], dtype=object)</pre></div></li><li class='xr-var-item'><div class='xr-var-name'><span>sfcWind_dir_qc</span></div><div class='xr-var-dims'>(station, time)</div><div class='xr-var-dtype'>object</div><div class='xr-var-preview xr-preview'>&#x27;nan&#x27; &#x27;nan&#x27; &#x27;nan&#x27; ... &#x27;nan&#x27; &#x27;nan&#x27;</div><input id='attrs-74faa22e-1a4f-42ae-b15d-87ce43b51aea' class='xr-var-attrs-in' type='checkbox' ><label for='attrs-74faa22e-1a4f-42ae-b15d-87ce43b51aea' title='Show/Hide attributes'><svg class='icon xr-icon-file-text2'><use xlink:href='#icon-file-text2'></use></svg></label><input id='data-8cdcbd3b-a5f6-4105-a52e-6cfccc3da937' class='xr-var-data-in' type='checkbox'><label for='data-8cdcbd3b-a5f6-4105-a52e-6cfccc3da937' title='Show/Hide data repr'><svg class='icon xr-icon-database'><use xlink:href='#icon-database'></use></svg></label><div class='xr-var-attrs'><dl class='xr-attrs'><dt><span>flag_values :</span></dt><dd>I M P Q R</dd><dt><span>flag_meanings :</span></dt><dd>See QA/QC csv for network.</dd></dl></div><div class='xr-var-data'><pre>array([[&#x27;nan&#x27;, &#x27;nan&#x27;, &#x27;nan&#x27;, ..., &#x27;nan&#x27;, &#x27;nan&#x27;, &#x27;nan&#x27;]], dtype=object)</pre></div></li><li class='xr-var-item'><div class='xr-var-name'><span>elevation</span></div><div class='xr-var-dims'>(station, time)</div><div class='xr-var-dtype'>float64</div><div class='xr-var-preview xr-preview'>125.0 125.0 125.0 ... 125.0 125.0</div><input id='attrs-845754f8-9291-4a1a-ab46-fb78bbabdcd9' class='xr-var-attrs-in' type='checkbox' ><label for='attrs-845754f8-9291-4a1a-ab46-fb78bbabdcd9' title='Show/Hide attributes'><svg class='icon xr-icon-file-text2'><use xlink:href='#icon-file-text2'></use></svg></label><input id='data-6cb93ea4-7e37-4549-b6e7-30398a606523' class='xr-var-data-in' type='checkbox'><label for='data-6cb93ea4-7e37-4549-b6e7-30398a606523' title='Show/Hide data repr'><svg class='icon xr-icon-database'><use xlink:href='#icon-database'></use></svg></label><div class='xr-var-attrs'><dl class='xr-attrs'><dt><span>standard_name :</span></dt><dd>height_above_mean_sea_level</dd><dt><span>long_name :</span></dt><dd>station_elevation</dd><dt><span>units :</span></dt><dd>meters</dd><dt><span>positive :</span></dt><dd>up</dd><dt><span>comment :</span></dt><dd>Converted from feet to meters.</dd><dt><span>ancillary_variables :</span></dt><dd>elevation_eraqc</dd></dl></div><div class='xr-var-data'><pre>array([[124.968, 124.968, 124.968, ..., 124.968, 124.968, 124.968]])</pre></div></li><li class='xr-var-item'><div class='xr-var-name'><span>tdps_derived</span></div><div class='xr-var-dims'>(station, time)</div><div class='xr-var-dtype'>float64</div><div class='xr-var-preview xr-preview'>256.9 255.1 254.0 ... 285.8 286.5</div><input id='attrs-e54897dc-54fb-4652-b65d-6f6e7b8baad0' class='xr-var-attrs-in' type='checkbox' ><label for='attrs-e54897dc-54fb-4652-b65d-6f6e7b8baad0' title='Show/Hide attributes'><svg class='icon xr-icon-file-text2'><use xlink:href='#icon-file-text2'></use></svg></label><input id='data-97edbd31-ee87-4cef-bc1c-152f26beb930' class='xr-var-data-in' type='checkbox'><label for='data-97edbd31-ee87-4cef-bc1c-152f26beb930' title='Show/Hide data repr'><svg class='icon xr-icon-database'><use xlink:href='#icon-database'></use></svg></label><div class='xr-var-attrs'><dl class='xr-attrs'><dt><span>long_name :</span></dt><dd>dew_point_temperature</dd><dt><span>standard_name :</span></dt><dd>dew_point_temperature</dd><dt><span>units :</span></dt><dd>degree_Kelvin</dd><dt><span>ancillary_variables :</span></dt><dd>tdps_derived_qc, tdps_derived_eraqc</dd><dt><span>comment :</span></dt><dd>Derived by CIMIS from vapor pressure and air temperature. Converted from Celsius to Kelvin.</dd></dl></div><div class='xr-var-data'><pre>array([[256.95, 255.15, 254.05, ..., 286.85, 285.75, 286.55]])</pre></div></li><li class='xr-var-item'><div class='xr-var-name'><span>pvp_derived</span></div><div class='xr-var-dims'>(station, time)</div><div class='xr-var-dtype'>float64</div><div class='xr-var-preview xr-preview'>200.0 100.0 ... 1.5e+03 1.5e+03</div><input id='attrs-2a784fa9-f8c0-404d-823b-5431c18d38af' class='xr-var-attrs-in' type='checkbox' ><label for='attrs-2a784fa9-f8c0-404d-823b-5431c18d38af' title='Show/Hide attributes'><svg class='icon xr-icon-file-text2'><use xlink:href='#icon-file-text2'></use></svg></label><input id='data-07fc9bfa-b3af-4d8e-9979-f8a237cbae2d' class='xr-var-data-in' type='checkbox'><label for='data-07fc9bfa-b3af-4d8e-9979-f8a237cbae2d' title='Show/Hide data repr'><svg class='icon xr-icon-database'><use xlink:href='#icon-database'></use></svg></label><div class='xr-var-attrs'><dl class='xr-attrs'><dt><span>long_name :</span></dt><dd>partial_vapor_pressure</dd><dt><span>standard_name :</span></dt><dd>water_vapor_partial_pressure_in_air</dd><dt><span>units :</span></dt><dd>Pa</dd><dt><span>ancillary_variables :</span></dt><dd>pvp_qc, pvp_derived_eraqc</dd><dt><span>comment :</span></dt><dd>Derived by CIMIS from relative humidity and air temperature measurements. Converted from kPa to Pa.</dd></dl></div><div class='xr-var-data'><pre>array([[ 200.,  100.,  100., ..., 1600., 1500., 1500.]])</pre></div></li><li class='xr-var-item'><div class='xr-var-name'><span>lat</span></div><div class='xr-var-dims'>(station, time)</div><div class='xr-var-dtype'>float64</div><div class='xr-var-preview xr-preview'>33.69 33.69 33.69 ... 33.69 33.69</div><input id='attrs-ddd014ee-7e9f-4445-ba9d-47c639e472b4' class='xr-var-attrs-in' type='checkbox' disabled><label for='attrs-ddd014ee-7e9f-4445-ba9d-47c639e472b4' title='Show/Hide attributes'><svg class='icon xr-icon-file-text2'><use xlink:href='#icon-file-text2'></use></svg></label><input id='data-bacc6bd4-d5c1-4059-9433-2679a3a8881f' class='xr-var-data-in' type='checkbox'><label for='data-bacc6bd4-d5c1-4059-9433-2679a3a8881f' title='Show/Hide data repr'><svg class='icon xr-icon-database'><use xlink:href='#icon-database'></use></svg></label><div class='xr-var-attrs'><dl class='xr-attrs'></dl></div><div class='xr-var-data'><pre>array([[33.68845, 33.68845, 33.68845, ..., 33.68845, 33.68845, 33.68845]])</pre></div></li><li class='xr-var-item'><div class='xr-var-name'><span>lon</span></div><div class='xr-var-dims'>(station, time)</div><div class='xr-var-dtype'>float64</div><div class='xr-var-preview xr-preview'>-117.7 -117.7 ... -117.7 -117.7</div><input id='attrs-5e539bd3-3fb1-4df8-b31a-079daced6bfc' class='xr-var-attrs-in' type='checkbox' disabled><label for='attrs-5e539bd3-3fb1-4df8-b31a-079daced6bfc' title='Show/Hide attributes'><svg class='icon xr-icon-file-text2'><use xlink:href='#icon-file-text2'></use></svg></label><input id='data-f9410868-0eaa-4410-a35a-d5025bd074dd' class='xr-var-data-in' type='checkbox'><label for='data-f9410868-0eaa-4410-a35a-d5025bd074dd' title='Show/Hide data repr'><svg class='icon xr-icon-database'><use xlink:href='#icon-database'></use></svg></label><div class='xr-var-attrs'><dl class='xr-attrs'></dl></div><div class='xr-var-data'><pre>array([[-117.72117778, -117.72117778, -117.72117778, ..., -117.72117778,\n",
       "        -117.72117778, -117.72117778]])</pre></div></li><li class='xr-var-item'><div class='xr-var-name'><span>tas_eraqc</span></div><div class='xr-var-dims'>(station, time)</div><div class='xr-var-dtype'>float64</div><div class='xr-var-preview xr-preview'>nan nan nan nan ... nan nan nan nan</div><input id='attrs-a335b2d4-f2d0-4840-9988-a242ee8c3b52' class='xr-var-attrs-in' type='checkbox' disabled><label for='attrs-a335b2d4-f2d0-4840-9988-a242ee8c3b52' title='Show/Hide attributes'><svg class='icon xr-icon-file-text2'><use xlink:href='#icon-file-text2'></use></svg></label><input id='data-2aa47653-afd6-4625-b6a2-567f8b650a64' class='xr-var-data-in' type='checkbox'><label for='data-2aa47653-afd6-4625-b6a2-567f8b650a64' title='Show/Hide data repr'><svg class='icon xr-icon-database'><use xlink:href='#icon-database'></use></svg></label><div class='xr-var-attrs'><dl class='xr-attrs'></dl></div><div class='xr-var-data'><pre>array([[nan, nan, nan, ..., nan, nan, nan]])</pre></div></li><li class='xr-var-item'><div class='xr-var-name'><span>pr_eraqc</span></div><div class='xr-var-dims'>(station, time)</div><div class='xr-var-dtype'>float64</div><div class='xr-var-preview xr-preview'>nan nan nan nan ... nan nan nan nan</div><input id='attrs-694ed38d-01a8-4150-91a1-b13a9410ca78' class='xr-var-attrs-in' type='checkbox' disabled><label for='attrs-694ed38d-01a8-4150-91a1-b13a9410ca78' title='Show/Hide attributes'><svg class='icon xr-icon-file-text2'><use xlink:href='#icon-file-text2'></use></svg></label><input id='data-8d6cad4e-df7a-4b4c-8ac1-1b97c3f7202b' class='xr-var-data-in' type='checkbox'><label for='data-8d6cad4e-df7a-4b4c-8ac1-1b97c3f7202b' title='Show/Hide data repr'><svg class='icon xr-icon-database'><use xlink:href='#icon-database'></use></svg></label><div class='xr-var-attrs'><dl class='xr-attrs'></dl></div><div class='xr-var-data'><pre>array([[nan, nan, nan, ..., nan, nan, nan]])</pre></div></li><li class='xr-var-item'><div class='xr-var-name'><span>hurs_eraqc</span></div><div class='xr-var-dims'>(station, time)</div><div class='xr-var-dtype'>float64</div><div class='xr-var-preview xr-preview'>nan nan nan nan ... nan nan nan nan</div><input id='attrs-73ca47e7-ae89-4f8a-852a-00cfd8c8c5dc' class='xr-var-attrs-in' type='checkbox' disabled><label for='attrs-73ca47e7-ae89-4f8a-852a-00cfd8c8c5dc' title='Show/Hide attributes'><svg class='icon xr-icon-file-text2'><use xlink:href='#icon-file-text2'></use></svg></label><input id='data-20e908be-826a-4356-aa2c-f76b17428dc2' class='xr-var-data-in' type='checkbox'><label for='data-20e908be-826a-4356-aa2c-f76b17428dc2' title='Show/Hide data repr'><svg class='icon xr-icon-database'><use xlink:href='#icon-database'></use></svg></label><div class='xr-var-attrs'><dl class='xr-attrs'></dl></div><div class='xr-var-data'><pre>array([[nan, nan, nan, ..., nan, nan, nan]])</pre></div></li><li class='xr-var-item'><div class='xr-var-name'><span>rsds_eraqc</span></div><div class='xr-var-dims'>(station, time)</div><div class='xr-var-dtype'>float64</div><div class='xr-var-preview xr-preview'>nan nan nan nan ... nan nan nan nan</div><input id='attrs-4b7974cd-3687-4efa-8072-8764c5771eef' class='xr-var-attrs-in' type='checkbox' disabled><label for='attrs-4b7974cd-3687-4efa-8072-8764c5771eef' title='Show/Hide attributes'><svg class='icon xr-icon-file-text2'><use xlink:href='#icon-file-text2'></use></svg></label><input id='data-3d960c9c-be09-4046-956a-659d319a9364' class='xr-var-data-in' type='checkbox'><label for='data-3d960c9c-be09-4046-956a-659d319a9364' title='Show/Hide data repr'><svg class='icon xr-icon-database'><use xlink:href='#icon-database'></use></svg></label><div class='xr-var-attrs'><dl class='xr-attrs'></dl></div><div class='xr-var-data'><pre>array([[nan, nan, nan, ..., nan, nan, nan]])</pre></div></li><li class='xr-var-item'><div class='xr-var-name'><span>sfcWind_eraqc</span></div><div class='xr-var-dims'>(station, time)</div><div class='xr-var-dtype'>float64</div><div class='xr-var-preview xr-preview'>nan nan nan nan ... nan nan nan nan</div><input id='attrs-79f4e520-0560-447b-807b-11b5865b7065' class='xr-var-attrs-in' type='checkbox' disabled><label for='attrs-79f4e520-0560-447b-807b-11b5865b7065' title='Show/Hide attributes'><svg class='icon xr-icon-file-text2'><use xlink:href='#icon-file-text2'></use></svg></label><input id='data-6302359a-a97f-4417-afce-691d2a7f9646' class='xr-var-data-in' type='checkbox'><label for='data-6302359a-a97f-4417-afce-691d2a7f9646' title='Show/Hide data repr'><svg class='icon xr-icon-database'><use xlink:href='#icon-database'></use></svg></label><div class='xr-var-attrs'><dl class='xr-attrs'></dl></div><div class='xr-var-data'><pre>array([[nan, nan, nan, ..., nan, nan, nan]])</pre></div></li><li class='xr-var-item'><div class='xr-var-name'><span>sfcWind_dir_eraqc</span></div><div class='xr-var-dims'>(station, time)</div><div class='xr-var-dtype'>float64</div><div class='xr-var-preview xr-preview'>nan nan nan nan ... nan nan nan nan</div><input id='attrs-35c9abe8-1688-4a17-84ed-7fa5b957d006' class='xr-var-attrs-in' type='checkbox' disabled><label for='attrs-35c9abe8-1688-4a17-84ed-7fa5b957d006' title='Show/Hide attributes'><svg class='icon xr-icon-file-text2'><use xlink:href='#icon-file-text2'></use></svg></label><input id='data-029e4212-60e2-4e18-8f33-62b36e527877' class='xr-var-data-in' type='checkbox'><label for='data-029e4212-60e2-4e18-8f33-62b36e527877' title='Show/Hide data repr'><svg class='icon xr-icon-database'><use xlink:href='#icon-database'></use></svg></label><div class='xr-var-attrs'><dl class='xr-attrs'></dl></div><div class='xr-var-data'><pre>array([[nan, nan, nan, ..., nan, nan, nan]])</pre></div></li><li class='xr-var-item'><div class='xr-var-name'><span>elevation_eraqc</span></div><div class='xr-var-dims'>(station, time)</div><div class='xr-var-dtype'>float64</div><div class='xr-var-preview xr-preview'>nan nan nan nan ... nan nan nan nan</div><input id='attrs-805610eb-bcd0-4676-bf31-d28394cd9b15' class='xr-var-attrs-in' type='checkbox' disabled><label for='attrs-805610eb-bcd0-4676-bf31-d28394cd9b15' title='Show/Hide attributes'><svg class='icon xr-icon-file-text2'><use xlink:href='#icon-file-text2'></use></svg></label><input id='data-41aa4e22-c890-4b8d-ae5c-211182352a55' class='xr-var-data-in' type='checkbox'><label for='data-41aa4e22-c890-4b8d-ae5c-211182352a55' title='Show/Hide data repr'><svg class='icon xr-icon-database'><use xlink:href='#icon-database'></use></svg></label><div class='xr-var-attrs'><dl class='xr-attrs'></dl></div><div class='xr-var-data'><pre>array([[nan, nan, nan, ..., nan, nan, nan]])</pre></div></li><li class='xr-var-item'><div class='xr-var-name'><span>tdps_derived_eraqc</span></div><div class='xr-var-dims'>(station, time)</div><div class='xr-var-dtype'>float64</div><div class='xr-var-preview xr-preview'>nan nan nan nan ... nan nan nan nan</div><input id='attrs-d9f1431b-baf8-469f-b739-f6d067721b51' class='xr-var-attrs-in' type='checkbox' disabled><label for='attrs-d9f1431b-baf8-469f-b739-f6d067721b51' title='Show/Hide attributes'><svg class='icon xr-icon-file-text2'><use xlink:href='#icon-file-text2'></use></svg></label><input id='data-49d9c0f2-fb56-4690-8c51-c5e4d232441f' class='xr-var-data-in' type='checkbox'><label for='data-49d9c0f2-fb56-4690-8c51-c5e4d232441f' title='Show/Hide data repr'><svg class='icon xr-icon-database'><use xlink:href='#icon-database'></use></svg></label><div class='xr-var-attrs'><dl class='xr-attrs'></dl></div><div class='xr-var-data'><pre>array([[nan, nan, nan, ..., nan, nan, nan]])</pre></div></li><li class='xr-var-item'><div class='xr-var-name'><span>pvp_derived_eraqc</span></div><div class='xr-var-dims'>(station, time)</div><div class='xr-var-dtype'>float64</div><div class='xr-var-preview xr-preview'>nan nan nan nan ... nan nan nan nan</div><input id='attrs-903b6fca-da95-42a9-ba70-a9637dce0cae' class='xr-var-attrs-in' type='checkbox' disabled><label for='attrs-903b6fca-da95-42a9-ba70-a9637dce0cae' title='Show/Hide attributes'><svg class='icon xr-icon-file-text2'><use xlink:href='#icon-file-text2'></use></svg></label><input id='data-6ae7644a-6926-425e-82b5-19d19d972766' class='xr-var-data-in' type='checkbox'><label for='data-6ae7644a-6926-425e-82b5-19d19d972766' title='Show/Hide data repr'><svg class='icon xr-icon-database'><use xlink:href='#icon-database'></use></svg></label><div class='xr-var-attrs'><dl class='xr-attrs'></dl></div><div class='xr-var-data'><pre>array([[nan, nan, nan, ..., nan, nan, nan]])</pre></div></li><li class='xr-var-item'><div class='xr-var-name'><span>anemometer_height_m</span></div><div class='xr-var-dims'>(station, time)</div><div class='xr-var-dtype'>float64</div><div class='xr-var-preview xr-preview'>2.0 2.0 2.0 2.0 ... 2.0 2.0 2.0 2.0</div><input id='attrs-13f85d63-3fb5-48d5-a592-2cfbac6c04ec' class='xr-var-attrs-in' type='checkbox' disabled><label for='attrs-13f85d63-3fb5-48d5-a592-2cfbac6c04ec' title='Show/Hide attributes'><svg class='icon xr-icon-file-text2'><use xlink:href='#icon-file-text2'></use></svg></label><input id='data-d428f22d-6595-4883-b48a-7819778b6bc7' class='xr-var-data-in' type='checkbox'><label for='data-d428f22d-6595-4883-b48a-7819778b6bc7' title='Show/Hide data repr'><svg class='icon xr-icon-database'><use xlink:href='#icon-database'></use></svg></label><div class='xr-var-attrs'><dl class='xr-attrs'></dl></div><div class='xr-var-data'><pre>array([[2., 2., 2., ..., 2., 2., 2.]])</pre></div></li><li class='xr-var-item'><div class='xr-var-name'><span>thermometer_height_m</span></div><div class='xr-var-dims'>(station, time)</div><div class='xr-var-dtype'>float64</div><div class='xr-var-preview xr-preview'>1.5 1.5 1.5 1.5 ... 1.5 1.5 1.5 1.5</div><input id='attrs-bf0ef84e-7302-4f98-a678-1a929e0d58dc' class='xr-var-attrs-in' type='checkbox' disabled><label for='attrs-bf0ef84e-7302-4f98-a678-1a929e0d58dc' title='Show/Hide attributes'><svg class='icon xr-icon-file-text2'><use xlink:href='#icon-file-text2'></use></svg></label><input id='data-73a6d1ce-0340-4f9e-b657-1ff8b57d1cc0' class='xr-var-data-in' type='checkbox'><label for='data-73a6d1ce-0340-4f9e-b657-1ff8b57d1cc0' title='Show/Hide data repr'><svg class='icon xr-icon-database'><use xlink:href='#icon-database'></use></svg></label><div class='xr-var-attrs'><dl class='xr-attrs'></dl></div><div class='xr-var-data'><pre>array([[1.5, 1.5, 1.5, ..., 1.5, 1.5, 1.5]])</pre></div></li></ul></div></li><li class='xr-section-item'><input id='section-d3cec49b-13b6-452c-b221-2d8d23592793' class='xr-section-summary-in' type='checkbox'  ><label for='section-d3cec49b-13b6-452c-b221-2d8d23592793' class='xr-section-summary' >Attributes: <span>(16)</span></label><div class='xr-section-inline-details'></div><div class='xr-section-details'><dl class='xr-attrs'><dt><span>title :</span></dt><dd>CIMIS quality controlled</dd><dt><span>institution :</span></dt><dd>Eagle Rock Analytics / Cal Adapt</dd><dt><span>source :</span></dt><dd></dd><dt><span>history :</span></dt><dd>CIMIS_clean.py script run on 02-13-2023, 22:25:54 UTC \n",
       "ALLNETWORKS_qaqc.py script run on 08-07-2024, 20:52:09 UTC</dd><dt><span>comment :</span></dt><dd>Intermediate data product: may not have been subject to any cleaning or QA/QC processing \n",
       "An intermediate data product: subject to cleaning but may not be subject to full QA/QC processing.</dd><dt><span>license :</span></dt><dd></dd><dt><span>citation :</span></dt><dd></dd><dt><span>disclaimer :</span></dt><dd>This document was prepared as a result of work sponsored by the California Energy Commission (PIR-19-006). It does not necessarily represent the views of the Energy Commission, its employees, or the State of California. Neither the Commission, the State of California, nor the Commission&#x27;s employees, contractors, or subcontractors makes any warranty, express or implied, or assumes any legal liability for the information in this document; nor does any party represent that the use of this information will not infringe upon privately owned rights. This document has not been approved or disapproved by the Commission, nor has the Commission passed upon the accuracy of the information in this document.</dd><dt><span>station_name :</span></dt><dd>Irvine</dd><dt><span>pyranometer_height_m :</span></dt><dd>2.0</dd><dt><span>wind_vane_height_m :</span></dt><dd>2.0</dd><dt><span>anemometer_height_m :</span></dt><dd>2.0</dd><dt><span>thermometer_height_m :</span></dt><dd>1.5</dd><dt><span>humidity_height_m :</span></dt><dd>1.5</dd><dt><span>rain_gauge_height_m :</span></dt><dd>1.0</dd><dt><span>raw_files_merged :</span></dt><dd>47</dd></dl></div></li></ul></div></div>"
      ],
      "text/plain": [
       "<xarray.Dataset>\n",
       "Dimensions:               (station: 1, time: 305943)\n",
       "Coordinates:\n",
       "  * station               (station) object 'CIMIS_75'\n",
       "  * time                  (time) datetime64[ns] 1987-10-07T09:00:00 ... 2022-...\n",
       "Data variables: (12/30)\n",
       "    tas                   (station, time) float64 290.8 290.8 ... 309.6 310.3\n",
       "    pr                    (station, time) float64 0.0 0.0 0.0 ... 0.0 0.0 0.0\n",
       "    hurs                  (station, time) float64 9.0 7.0 7.0 ... 27.0 24.0 24.0\n",
       "    rsds                  (station, time) float64 0.0 -1.0 -1.0 ... 803.0 678.0\n",
       "    sfcWind               (station, time) float64 0.8 0.7 1.0 ... 3.2 3.2 3.2\n",
       "    sfcWind_dir           (station, time) float64 87.1 76.2 11.7 ... 191.0 188.0\n",
       "    ...                    ...\n",
       "    sfcWind_dir_eraqc     (station, time) float64 nan nan nan ... nan nan nan\n",
       "    elevation_eraqc       (station, time) float64 nan nan nan ... nan nan nan\n",
       "    tdps_derived_eraqc    (station, time) float64 nan nan nan ... nan nan nan\n",
       "    pvp_derived_eraqc     (station, time) float64 nan nan nan ... nan nan nan\n",
       "    anemometer_height_m   (station, time) float64 2.0 2.0 2.0 ... 2.0 2.0 2.0\n",
       "    thermometer_height_m  (station, time) float64 1.5 1.5 1.5 ... 1.5 1.5 1.5\n",
       "Attributes: (12/16)\n",
       "    title:                 CIMIS quality controlled\n",
       "    institution:           Eagle Rock Analytics / Cal Adapt\n",
       "    source:                \n",
       "    history:               CIMIS_clean.py script run on 02-13-2023, 22:25:54 ...\n",
       "    comment:               Intermediate data product: may not have been subje...\n",
       "    license:               \n",
       "    ...                    ...\n",
       "    wind_vane_height_m:    2.0\n",
       "    anemometer_height_m:   2.0\n",
       "    thermometer_height_m:  1.5\n",
       "    humidity_height_m:     1.5\n",
       "    rain_gauge_height_m:   1.0\n",
       "    raw_files_merged:      47"
      ]
     },
     "execution_count": 98,
     "metadata": {},
     "output_type": "execute_result"
    }
   ],
   "source": [
    "%%time\n",
    "ds = download_nc_from_aws(specific_station)\n",
    "ds"
   ]
  },
  {
   "cell_type": "markdown",
   "id": "831acdbc-32ea-47f3-949d-c6c352336fad",
   "metadata": {},
   "source": [
    "#### Download the file to local folder with `save=True"
   ]
  },
  {
   "cell_type": "code",
   "execution_count": 100,
   "id": "1d1bb308-4b5e-4c13-bd2e-f65f8ae7c5af",
   "metadata": {
    "execution": {
     "iopub.execute_input": "2024-10-01T20:06:48.182593Z",
     "iopub.status.busy": "2024-10-01T20:06:48.180802Z",
     "iopub.status.idle": "2024-10-01T20:07:05.049879Z",
     "shell.execute_reply": "2024-10-01T20:07:05.049502Z",
     "shell.execute_reply.started": "2024-10-01T20:06:48.182513Z"
    }
   },
   "outputs": [
    {
     "name": "stdout",
     "output_type": "stream",
     "text": [
      "Retrieving data for station...\n",
      "/Users/hector/ERA_work/historical-obs-platform/test_platform/scripts/3_qaqc_data/qaqc_eval_notebooks/tmp/u0kemvfm.nc\n",
      "../Train_Files/CIMIS_75.nc\n",
      "CPU times: user 1.83 s, sys: 762 ms, total: 2.59 s\n",
      "Wall time: 16 s\n"
     ]
    },
    {
     "data": {
      "text/html": [
       "<div><svg style=\"position: absolute; width: 0; height: 0; overflow: hidden\">\n",
       "<defs>\n",
       "<symbol id=\"icon-database\" viewBox=\"0 0 32 32\">\n",
       "<path d=\"M16 0c-8.837 0-16 2.239-16 5v4c0 2.761 7.163 5 16 5s16-2.239 16-5v-4c0-2.761-7.163-5-16-5z\"></path>\n",
       "<path d=\"M16 17c-8.837 0-16-2.239-16-5v6c0 2.761 7.163 5 16 5s16-2.239 16-5v-6c0 2.761-7.163 5-16 5z\"></path>\n",
       "<path d=\"M16 26c-8.837 0-16-2.239-16-5v6c0 2.761 7.163 5 16 5s16-2.239 16-5v-6c0 2.761-7.163 5-16 5z\"></path>\n",
       "</symbol>\n",
       "<symbol id=\"icon-file-text2\" viewBox=\"0 0 32 32\">\n",
       "<path d=\"M28.681 7.159c-0.694-0.947-1.662-2.053-2.724-3.116s-2.169-2.030-3.116-2.724c-1.612-1.182-2.393-1.319-2.841-1.319h-15.5c-1.378 0-2.5 1.121-2.5 2.5v27c0 1.378 1.122 2.5 2.5 2.5h23c1.378 0 2.5-1.122 2.5-2.5v-19.5c0-0.448-0.137-1.23-1.319-2.841zM24.543 5.457c0.959 0.959 1.712 1.825 2.268 2.543h-4.811v-4.811c0.718 0.556 1.584 1.309 2.543 2.268zM28 29.5c0 0.271-0.229 0.5-0.5 0.5h-23c-0.271 0-0.5-0.229-0.5-0.5v-27c0-0.271 0.229-0.5 0.5-0.5 0 0 15.499-0 15.5 0v7c0 0.552 0.448 1 1 1h7v19.5z\"></path>\n",
       "<path d=\"M23 26h-14c-0.552 0-1-0.448-1-1s0.448-1 1-1h14c0.552 0 1 0.448 1 1s-0.448 1-1 1z\"></path>\n",
       "<path d=\"M23 22h-14c-0.552 0-1-0.448-1-1s0.448-1 1-1h14c0.552 0 1 0.448 1 1s-0.448 1-1 1z\"></path>\n",
       "<path d=\"M23 18h-14c-0.552 0-1-0.448-1-1s0.448-1 1-1h14c0.552 0 1 0.448 1 1s-0.448 1-1 1z\"></path>\n",
       "</symbol>\n",
       "</defs>\n",
       "</svg>\n",
       "<style>/* CSS stylesheet for displaying xarray objects in jupyterlab.\n",
       " *\n",
       " */\n",
       "\n",
       ":root {\n",
       "  --xr-font-color0: var(--jp-content-font-color0, rgba(0, 0, 0, 1));\n",
       "  --xr-font-color2: var(--jp-content-font-color2, rgba(0, 0, 0, 0.54));\n",
       "  --xr-font-color3: var(--jp-content-font-color3, rgba(0, 0, 0, 0.38));\n",
       "  --xr-border-color: var(--jp-border-color2, #e0e0e0);\n",
       "  --xr-disabled-color: var(--jp-layout-color3, #bdbdbd);\n",
       "  --xr-background-color: var(--jp-layout-color0, white);\n",
       "  --xr-background-color-row-even: var(--jp-layout-color1, white);\n",
       "  --xr-background-color-row-odd: var(--jp-layout-color2, #eeeeee);\n",
       "}\n",
       "\n",
       "html[theme=dark],\n",
       "body.vscode-dark {\n",
       "  --xr-font-color0: rgba(255, 255, 255, 1);\n",
       "  --xr-font-color2: rgba(255, 255, 255, 0.54);\n",
       "  --xr-font-color3: rgba(255, 255, 255, 0.38);\n",
       "  --xr-border-color: #1F1F1F;\n",
       "  --xr-disabled-color: #515151;\n",
       "  --xr-background-color: #111111;\n",
       "  --xr-background-color-row-even: #111111;\n",
       "  --xr-background-color-row-odd: #313131;\n",
       "}\n",
       "\n",
       ".xr-wrap {\n",
       "  display: block !important;\n",
       "  min-width: 300px;\n",
       "  max-width: 700px;\n",
       "}\n",
       "\n",
       ".xr-text-repr-fallback {\n",
       "  /* fallback to plain text repr when CSS is not injected (untrusted notebook) */\n",
       "  display: none;\n",
       "}\n",
       "\n",
       ".xr-header {\n",
       "  padding-top: 6px;\n",
       "  padding-bottom: 6px;\n",
       "  margin-bottom: 4px;\n",
       "  border-bottom: solid 1px var(--xr-border-color);\n",
       "}\n",
       "\n",
       ".xr-header > div,\n",
       ".xr-header > ul {\n",
       "  display: inline;\n",
       "  margin-top: 0;\n",
       "  margin-bottom: 0;\n",
       "}\n",
       "\n",
       ".xr-obj-type,\n",
       ".xr-array-name {\n",
       "  margin-left: 2px;\n",
       "  margin-right: 10px;\n",
       "}\n",
       "\n",
       ".xr-obj-type {\n",
       "  color: var(--xr-font-color2);\n",
       "}\n",
       "\n",
       ".xr-sections {\n",
       "  padding-left: 0 !important;\n",
       "  display: grid;\n",
       "  grid-template-columns: 150px auto auto 1fr 20px 20px;\n",
       "}\n",
       "\n",
       ".xr-section-item {\n",
       "  display: contents;\n",
       "}\n",
       "\n",
       ".xr-section-item input {\n",
       "  display: none;\n",
       "}\n",
       "\n",
       ".xr-section-item input + label {\n",
       "  color: var(--xr-disabled-color);\n",
       "}\n",
       "\n",
       ".xr-section-item input:enabled + label {\n",
       "  cursor: pointer;\n",
       "  color: var(--xr-font-color2);\n",
       "}\n",
       "\n",
       ".xr-section-item input:enabled + label:hover {\n",
       "  color: var(--xr-font-color0);\n",
       "}\n",
       "\n",
       ".xr-section-summary {\n",
       "  grid-column: 1;\n",
       "  color: var(--xr-font-color2);\n",
       "  font-weight: 500;\n",
       "}\n",
       "\n",
       ".xr-section-summary > span {\n",
       "  display: inline-block;\n",
       "  padding-left: 0.5em;\n",
       "}\n",
       "\n",
       ".xr-section-summary-in:disabled + label {\n",
       "  color: var(--xr-font-color2);\n",
       "}\n",
       "\n",
       ".xr-section-summary-in + label:before {\n",
       "  display: inline-block;\n",
       "  content: '►';\n",
       "  font-size: 11px;\n",
       "  width: 15px;\n",
       "  text-align: center;\n",
       "}\n",
       "\n",
       ".xr-section-summary-in:disabled + label:before {\n",
       "  color: var(--xr-disabled-color);\n",
       "}\n",
       "\n",
       ".xr-section-summary-in:checked + label:before {\n",
       "  content: '▼';\n",
       "}\n",
       "\n",
       ".xr-section-summary-in:checked + label > span {\n",
       "  display: none;\n",
       "}\n",
       "\n",
       ".xr-section-summary,\n",
       ".xr-section-inline-details {\n",
       "  padding-top: 4px;\n",
       "  padding-bottom: 4px;\n",
       "}\n",
       "\n",
       ".xr-section-inline-details {\n",
       "  grid-column: 2 / -1;\n",
       "}\n",
       "\n",
       ".xr-section-details {\n",
       "  display: none;\n",
       "  grid-column: 1 / -1;\n",
       "  margin-bottom: 5px;\n",
       "}\n",
       "\n",
       ".xr-section-summary-in:checked ~ .xr-section-details {\n",
       "  display: contents;\n",
       "}\n",
       "\n",
       ".xr-array-wrap {\n",
       "  grid-column: 1 / -1;\n",
       "  display: grid;\n",
       "  grid-template-columns: 20px auto;\n",
       "}\n",
       "\n",
       ".xr-array-wrap > label {\n",
       "  grid-column: 1;\n",
       "  vertical-align: top;\n",
       "}\n",
       "\n",
       ".xr-preview {\n",
       "  color: var(--xr-font-color3);\n",
       "}\n",
       "\n",
       ".xr-array-preview,\n",
       ".xr-array-data {\n",
       "  padding: 0 5px !important;\n",
       "  grid-column: 2;\n",
       "}\n",
       "\n",
       ".xr-array-data,\n",
       ".xr-array-in:checked ~ .xr-array-preview {\n",
       "  display: none;\n",
       "}\n",
       "\n",
       ".xr-array-in:checked ~ .xr-array-data,\n",
       ".xr-array-preview {\n",
       "  display: inline-block;\n",
       "}\n",
       "\n",
       ".xr-dim-list {\n",
       "  display: inline-block !important;\n",
       "  list-style: none;\n",
       "  padding: 0 !important;\n",
       "  margin: 0;\n",
       "}\n",
       "\n",
       ".xr-dim-list li {\n",
       "  display: inline-block;\n",
       "  padding: 0;\n",
       "  margin: 0;\n",
       "}\n",
       "\n",
       ".xr-dim-list:before {\n",
       "  content: '(';\n",
       "}\n",
       "\n",
       ".xr-dim-list:after {\n",
       "  content: ')';\n",
       "}\n",
       "\n",
       ".xr-dim-list li:not(:last-child):after {\n",
       "  content: ',';\n",
       "  padding-right: 5px;\n",
       "}\n",
       "\n",
       ".xr-has-index {\n",
       "  font-weight: bold;\n",
       "}\n",
       "\n",
       ".xr-var-list,\n",
       ".xr-var-item {\n",
       "  display: contents;\n",
       "}\n",
       "\n",
       ".xr-var-item > div,\n",
       ".xr-var-item label,\n",
       ".xr-var-item > .xr-var-name span {\n",
       "  background-color: var(--xr-background-color-row-even);\n",
       "  margin-bottom: 0;\n",
       "}\n",
       "\n",
       ".xr-var-item > .xr-var-name:hover span {\n",
       "  padding-right: 5px;\n",
       "}\n",
       "\n",
       ".xr-var-list > li:nth-child(odd) > div,\n",
       ".xr-var-list > li:nth-child(odd) > label,\n",
       ".xr-var-list > li:nth-child(odd) > .xr-var-name span {\n",
       "  background-color: var(--xr-background-color-row-odd);\n",
       "}\n",
       "\n",
       ".xr-var-name {\n",
       "  grid-column: 1;\n",
       "}\n",
       "\n",
       ".xr-var-dims {\n",
       "  grid-column: 2;\n",
       "}\n",
       "\n",
       ".xr-var-dtype {\n",
       "  grid-column: 3;\n",
       "  text-align: right;\n",
       "  color: var(--xr-font-color2);\n",
       "}\n",
       "\n",
       ".xr-var-preview {\n",
       "  grid-column: 4;\n",
       "}\n",
       "\n",
       ".xr-var-name,\n",
       ".xr-var-dims,\n",
       ".xr-var-dtype,\n",
       ".xr-preview,\n",
       ".xr-attrs dt {\n",
       "  white-space: nowrap;\n",
       "  overflow: hidden;\n",
       "  text-overflow: ellipsis;\n",
       "  padding-right: 10px;\n",
       "}\n",
       "\n",
       ".xr-var-name:hover,\n",
       ".xr-var-dims:hover,\n",
       ".xr-var-dtype:hover,\n",
       ".xr-attrs dt:hover {\n",
       "  overflow: visible;\n",
       "  width: auto;\n",
       "  z-index: 1;\n",
       "}\n",
       "\n",
       ".xr-var-attrs,\n",
       ".xr-var-data {\n",
       "  display: none;\n",
       "  background-color: var(--xr-background-color) !important;\n",
       "  padding-bottom: 5px !important;\n",
       "}\n",
       "\n",
       ".xr-var-attrs-in:checked ~ .xr-var-attrs,\n",
       ".xr-var-data-in:checked ~ .xr-var-data {\n",
       "  display: block;\n",
       "}\n",
       "\n",
       ".xr-var-data > table {\n",
       "  float: right;\n",
       "}\n",
       "\n",
       ".xr-var-name span,\n",
       ".xr-var-data,\n",
       ".xr-attrs {\n",
       "  padding-left: 25px !important;\n",
       "}\n",
       "\n",
       ".xr-attrs,\n",
       ".xr-var-attrs,\n",
       ".xr-var-data {\n",
       "  grid-column: 1 / -1;\n",
       "}\n",
       "\n",
       "dl.xr-attrs {\n",
       "  padding: 0;\n",
       "  margin: 0;\n",
       "  display: grid;\n",
       "  grid-template-columns: 125px auto;\n",
       "}\n",
       "\n",
       ".xr-attrs dt,\n",
       ".xr-attrs dd {\n",
       "  padding: 0;\n",
       "  margin: 0;\n",
       "  float: left;\n",
       "  padding-right: 10px;\n",
       "  width: auto;\n",
       "}\n",
       "\n",
       ".xr-attrs dt {\n",
       "  font-weight: normal;\n",
       "  grid-column: 1;\n",
       "}\n",
       "\n",
       ".xr-attrs dt:hover span {\n",
       "  display: inline-block;\n",
       "  background: var(--xr-background-color);\n",
       "  padding-right: 10px;\n",
       "}\n",
       "\n",
       ".xr-attrs dd {\n",
       "  grid-column: 2;\n",
       "  white-space: pre-wrap;\n",
       "  word-break: break-all;\n",
       "}\n",
       "\n",
       ".xr-icon-database,\n",
       ".xr-icon-file-text2 {\n",
       "  display: inline-block;\n",
       "  vertical-align: middle;\n",
       "  width: 1em;\n",
       "  height: 1.5em !important;\n",
       "  stroke-width: 0;\n",
       "  stroke: currentColor;\n",
       "  fill: currentColor;\n",
       "}\n",
       "</style><pre class='xr-text-repr-fallback'>&lt;xarray.Dataset&gt;\n",
       "Dimensions:               (station: 1, time: 305943)\n",
       "Coordinates:\n",
       "  * station               (station) object &#x27;CIMIS_75&#x27;\n",
       "  * time                  (time) datetime64[ns] 1987-10-07T09:00:00 ... 2022-...\n",
       "Data variables: (12/30)\n",
       "    tas                   (station, time) float64 290.8 290.8 ... 309.6 310.3\n",
       "    pr                    (station, time) float64 0.0 0.0 0.0 ... 0.0 0.0 0.0\n",
       "    hurs                  (station, time) float64 9.0 7.0 7.0 ... 27.0 24.0 24.0\n",
       "    rsds                  (station, time) float64 0.0 -1.0 -1.0 ... 803.0 678.0\n",
       "    sfcWind               (station, time) float64 0.8 0.7 1.0 ... 3.2 3.2 3.2\n",
       "    sfcWind_dir           (station, time) float64 87.1 76.2 11.7 ... 191.0 188.0\n",
       "    ...                    ...\n",
       "    sfcWind_dir_eraqc     (station, time) float64 nan nan nan ... nan nan nan\n",
       "    elevation_eraqc       (station, time) float64 nan nan nan ... nan nan nan\n",
       "    tdps_derived_eraqc    (station, time) float64 nan nan nan ... nan nan nan\n",
       "    pvp_derived_eraqc     (station, time) float64 nan nan nan ... nan nan nan\n",
       "    anemometer_height_m   (station, time) float64 2.0 2.0 2.0 ... 2.0 2.0 2.0\n",
       "    thermometer_height_m  (station, time) float64 1.5 1.5 1.5 ... 1.5 1.5 1.5\n",
       "Attributes: (12/16)\n",
       "    title:                 CIMIS quality controlled\n",
       "    institution:           Eagle Rock Analytics / Cal Adapt\n",
       "    source:                \n",
       "    history:               CIMIS_clean.py script run on 02-13-2023, 22:25:54 ...\n",
       "    comment:               Intermediate data product: may not have been subje...\n",
       "    license:               \n",
       "    ...                    ...\n",
       "    wind_vane_height_m:    2.0\n",
       "    anemometer_height_m:   2.0\n",
       "    thermometer_height_m:  1.5\n",
       "    humidity_height_m:     1.5\n",
       "    rain_gauge_height_m:   1.0\n",
       "    raw_files_merged:      47</pre><div class='xr-wrap' style='display:none'><div class='xr-header'><div class='xr-obj-type'>xarray.Dataset</div></div><ul class='xr-sections'><li class='xr-section-item'><input id='section-a39c88c8-819e-49b1-a04f-6090bf9ba9c5' class='xr-section-summary-in' type='checkbox' disabled ><label for='section-a39c88c8-819e-49b1-a04f-6090bf9ba9c5' class='xr-section-summary'  title='Expand/collapse section'>Dimensions:</label><div class='xr-section-inline-details'><ul class='xr-dim-list'><li><span class='xr-has-index'>station</span>: 1</li><li><span class='xr-has-index'>time</span>: 305943</li></ul></div><div class='xr-section-details'></div></li><li class='xr-section-item'><input id='section-0f5984cc-78bb-43c7-b2db-1535e8e0ca2b' class='xr-section-summary-in' type='checkbox'  checked><label for='section-0f5984cc-78bb-43c7-b2db-1535e8e0ca2b' class='xr-section-summary' >Coordinates: <span>(2)</span></label><div class='xr-section-inline-details'></div><div class='xr-section-details'><ul class='xr-var-list'><li class='xr-var-item'><div class='xr-var-name'><span class='xr-has-index'>station</span></div><div class='xr-var-dims'>(station)</div><div class='xr-var-dtype'>object</div><div class='xr-var-preview xr-preview'>&#x27;CIMIS_75&#x27;</div><input id='attrs-ebc4f743-61db-4ad9-89f8-36beb494fb02' class='xr-var-attrs-in' type='checkbox' disabled><label for='attrs-ebc4f743-61db-4ad9-89f8-36beb494fb02' title='Show/Hide attributes'><svg class='icon xr-icon-file-text2'><use xlink:href='#icon-file-text2'></use></svg></label><input id='data-8d824990-9494-4e08-8074-557c01182d9f' class='xr-var-data-in' type='checkbox'><label for='data-8d824990-9494-4e08-8074-557c01182d9f' title='Show/Hide data repr'><svg class='icon xr-icon-database'><use xlink:href='#icon-database'></use></svg></label><div class='xr-var-attrs'><dl class='xr-attrs'></dl></div><div class='xr-var-data'><pre>array([&#x27;CIMIS_75&#x27;], dtype=object)</pre></div></li><li class='xr-var-item'><div class='xr-var-name'><span class='xr-has-index'>time</span></div><div class='xr-var-dims'>(time)</div><div class='xr-var-dtype'>datetime64[ns]</div><div class='xr-var-preview xr-preview'>1987-10-07T09:00:00 ... 2022-08-...</div><input id='attrs-44d1662e-6a5f-4045-a8f6-74cd5f415fa5' class='xr-var-attrs-in' type='checkbox' disabled><label for='attrs-44d1662e-6a5f-4045-a8f6-74cd5f415fa5' title='Show/Hide attributes'><svg class='icon xr-icon-file-text2'><use xlink:href='#icon-file-text2'></use></svg></label><input id='data-e3c4f848-e0de-4faa-83d3-b4d2b59ff33a' class='xr-var-data-in' type='checkbox'><label for='data-e3c4f848-e0de-4faa-83d3-b4d2b59ff33a' title='Show/Hide data repr'><svg class='icon xr-icon-database'><use xlink:href='#icon-database'></use></svg></label><div class='xr-var-attrs'><dl class='xr-attrs'></dl></div><div class='xr-var-data'><pre>array([&#x27;1987-10-07T09:00:00.000000000&#x27;, &#x27;1987-10-07T10:00:00.000000000&#x27;,\n",
       "       &#x27;1987-10-07T11:00:00.000000000&#x27;, ..., &#x27;2022-08-31T21:00:00.000000000&#x27;,\n",
       "       &#x27;2022-08-31T22:00:00.000000000&#x27;, &#x27;2022-08-31T23:00:00.000000000&#x27;],\n",
       "      dtype=&#x27;datetime64[ns]&#x27;)</pre></div></li></ul></div></li><li class='xr-section-item'><input id='section-a30b7cfd-4ac7-4060-bcba-e0648992c8cb' class='xr-section-summary-in' type='checkbox'  ><label for='section-a30b7cfd-4ac7-4060-bcba-e0648992c8cb' class='xr-section-summary' >Data variables: <span>(30)</span></label><div class='xr-section-inline-details'></div><div class='xr-section-details'><ul class='xr-var-list'><li class='xr-var-item'><div class='xr-var-name'><span>tas</span></div><div class='xr-var-dims'>(station, time)</div><div class='xr-var-dtype'>float64</div><div class='xr-var-preview xr-preview'>290.8 290.8 290.6 ... 309.6 310.3</div><input id='attrs-15d40775-748e-4951-8037-cd9a03f50a6b' class='xr-var-attrs-in' type='checkbox' ><label for='attrs-15d40775-748e-4951-8037-cd9a03f50a6b' title='Show/Hide attributes'><svg class='icon xr-icon-file-text2'><use xlink:href='#icon-file-text2'></use></svg></label><input id='data-70938dec-a411-41ec-ab96-e394ca5b64c9' class='xr-var-data-in' type='checkbox'><label for='data-70938dec-a411-41ec-ab96-e394ca5b64c9' title='Show/Hide data repr'><svg class='icon xr-icon-database'><use xlink:href='#icon-database'></use></svg></label><div class='xr-var-attrs'><dl class='xr-attrs'><dt><span>long_name :</span></dt><dd>air_temperature</dd><dt><span>standard_name :</span></dt><dd>air_temperature</dd><dt><span>units :</span></dt><dd>degree_Kelvin</dd><dt><span>ancillary_variables :</span></dt><dd>tas_qc, tas_eraqc</dd><dt><span>comment :</span></dt><dd>Converted from Celsius to Kelvin.</dd></dl></div><div class='xr-var-data'><pre>array([[290.75, 290.85, 290.65, ..., 308.45, 309.65, 310.35]])</pre></div></li><li class='xr-var-item'><div class='xr-var-name'><span>pr</span></div><div class='xr-var-dims'>(station, time)</div><div class='xr-var-dtype'>float64</div><div class='xr-var-preview xr-preview'>0.0 0.0 0.0 0.0 ... 0.0 0.0 0.0 0.0</div><input id='attrs-c76170f9-e64d-4042-b717-a149be8c2437' class='xr-var-attrs-in' type='checkbox' ><label for='attrs-c76170f9-e64d-4042-b717-a149be8c2437' title='Show/Hide attributes'><svg class='icon xr-icon-file-text2'><use xlink:href='#icon-file-text2'></use></svg></label><input id='data-9dfe3c7e-28db-4f29-ae26-f87e4030be5f' class='xr-var-data-in' type='checkbox'><label for='data-9dfe3c7e-28db-4f29-ae26-f87e4030be5f' title='Show/Hide data repr'><svg class='icon xr-icon-database'><use xlink:href='#icon-database'></use></svg></label><div class='xr-var-attrs'><dl class='xr-attrs'><dt><span>long_name :</span></dt><dd>precipitation_accumulation</dd><dt><span>units :</span></dt><dd>mm/hour</dd><dt><span>ancillary_variables :</span></dt><dd>pr_qc, pr_eraqc</dd><dt><span>comment :</span></dt><dd>Accumulated precipitation.</dd></dl></div><div class='xr-var-data'><pre>array([[0., 0., 0., ..., 0., 0., 0.]])</pre></div></li><li class='xr-var-item'><div class='xr-var-name'><span>hurs</span></div><div class='xr-var-dims'>(station, time)</div><div class='xr-var-dtype'>float64</div><div class='xr-var-preview xr-preview'>9.0 7.0 7.0 7.0 ... 27.0 24.0 24.0</div><input id='attrs-030ed9a7-b8e7-4d24-a0a5-3c7f7833575f' class='xr-var-attrs-in' type='checkbox' ><label for='attrs-030ed9a7-b8e7-4d24-a0a5-3c7f7833575f' title='Show/Hide attributes'><svg class='icon xr-icon-file-text2'><use xlink:href='#icon-file-text2'></use></svg></label><input id='data-f5d98795-28a1-4981-a5c4-272dc1045bb8' class='xr-var-data-in' type='checkbox'><label for='data-f5d98795-28a1-4981-a5c4-272dc1045bb8' title='Show/Hide data repr'><svg class='icon xr-icon-database'><use xlink:href='#icon-database'></use></svg></label><div class='xr-var-attrs'><dl class='xr-attrs'><dt><span>long_name :</span></dt><dd>relative_humidity</dd><dt><span>standard_name :</span></dt><dd>relative_humidity</dd><dt><span>units :</span></dt><dd>percent</dd><dt><span>ancillary_variables :</span></dt><dd>hurs_qc, hurs_eraqc</dd></dl></div><div class='xr-var-data'><pre>array([[ 9.,  7.,  7., ..., 27., 24., 24.]])</pre></div></li><li class='xr-var-item'><div class='xr-var-name'><span>rsds</span></div><div class='xr-var-dims'>(station, time)</div><div class='xr-var-dtype'>float64</div><div class='xr-var-preview xr-preview'>0.0 -1.0 -1.0 ... 874.0 803.0 678.0</div><input id='attrs-c36057da-8f98-4637-9b66-a3ddd5e82b0b' class='xr-var-attrs-in' type='checkbox' ><label for='attrs-c36057da-8f98-4637-9b66-a3ddd5e82b0b' title='Show/Hide attributes'><svg class='icon xr-icon-file-text2'><use xlink:href='#icon-file-text2'></use></svg></label><input id='data-912d83f5-9085-4001-a7d9-a9389e588583' class='xr-var-data-in' type='checkbox'><label for='data-912d83f5-9085-4001-a7d9-a9389e588583' title='Show/Hide data repr'><svg class='icon xr-icon-database'><use xlink:href='#icon-database'></use></svg></label><div class='xr-var-attrs'><dl class='xr-attrs'><dt><span>long_name :</span></dt><dd>solar_radiation</dd><dt><span>standard_name :</span></dt><dd>surface_downwelling_shortwave_flux_in_air</dd><dt><span>units :</span></dt><dd>W m-2</dd><dt><span>ancillary_variables :</span></dt><dd>rsds_qc, rsds_eraqc</dd></dl></div><div class='xr-var-data'><pre>array([[  0.,  -1.,  -1., ..., 874., 803., 678.]])</pre></div></li><li class='xr-var-item'><div class='xr-var-name'><span>sfcWind</span></div><div class='xr-var-dims'>(station, time)</div><div class='xr-var-dtype'>float64</div><div class='xr-var-preview xr-preview'>0.8 0.7 1.0 0.9 ... 3.2 3.2 3.2 3.2</div><input id='attrs-7d6196f2-8b2d-48fa-b70c-554c3d8544b2' class='xr-var-attrs-in' type='checkbox' ><label for='attrs-7d6196f2-8b2d-48fa-b70c-554c3d8544b2' title='Show/Hide attributes'><svg class='icon xr-icon-file-text2'><use xlink:href='#icon-file-text2'></use></svg></label><input id='data-6017f874-f59e-42a3-8046-4b3bb10113cc' class='xr-var-data-in' type='checkbox'><label for='data-6017f874-f59e-42a3-8046-4b3bb10113cc' title='Show/Hide data repr'><svg class='icon xr-icon-database'><use xlink:href='#icon-database'></use></svg></label><div class='xr-var-attrs'><dl class='xr-attrs'><dt><span>long_name :</span></dt><dd>wind_speed</dd><dt><span>standard_name :</span></dt><dd>wind_speed</dd><dt><span>units :</span></dt><dd>m s-1</dd><dt><span>ancillary_variables :</span></dt><dd>sfcWind_qc, sfcWind_eraqc</dd></dl></div><div class='xr-var-data'><pre>array([[0.8, 0.7, 1. , ..., 3.2, 3.2, 3.2]])</pre></div></li><li class='xr-var-item'><div class='xr-var-name'><span>sfcWind_dir</span></div><div class='xr-var-dims'>(station, time)</div><div class='xr-var-dtype'>float64</div><div class='xr-var-preview xr-preview'>87.1 76.2 11.7 ... 191.0 188.0</div><input id='attrs-a35b3533-8f91-4e24-8c5a-2d6e243e6d81' class='xr-var-attrs-in' type='checkbox' ><label for='attrs-a35b3533-8f91-4e24-8c5a-2d6e243e6d81' title='Show/Hide attributes'><svg class='icon xr-icon-file-text2'><use xlink:href='#icon-file-text2'></use></svg></label><input id='data-781396c2-3e49-46b8-827b-172559430e9d' class='xr-var-data-in' type='checkbox'><label for='data-781396c2-3e49-46b8-827b-172559430e9d' title='Show/Hide data repr'><svg class='icon xr-icon-database'><use xlink:href='#icon-database'></use></svg></label><div class='xr-var-attrs'><dl class='xr-attrs'><dt><span>long_name :</span></dt><dd>wind_direction</dd><dt><span>standard_name :</span></dt><dd>wind_from_direction</dd><dt><span>units :</span></dt><dd>degrees_clockwise_from_north</dd><dt><span>ancillary_variables :</span></dt><dd>sfcWind_dir_qc, sfcWind_dir_eraqc</dd><dt><span>comment :</span></dt><dd>Wind direction is defined by the direction that the wind is coming from (i.e., a northerly wind originates in the north and blows towards the south).</dd></dl></div><div class='xr-var-data'><pre>array([[ 87.1,  76.2,  11.7, ..., 196. , 191. , 188. ]])</pre></div></li><li class='xr-var-item'><div class='xr-var-name'><span>pr_qc</span></div><div class='xr-var-dims'>(station, time)</div><div class='xr-var-dtype'>object</div><div class='xr-var-preview xr-preview'>&#x27;nan&#x27; &#x27;nan&#x27; &#x27;nan&#x27; ... &#x27;nan&#x27; &#x27;nan&#x27;</div><input id='attrs-eef4f7f7-ae17-4805-a84a-c4694d13546d' class='xr-var-attrs-in' type='checkbox' ><label for='attrs-eef4f7f7-ae17-4805-a84a-c4694d13546d' title='Show/Hide attributes'><svg class='icon xr-icon-file-text2'><use xlink:href='#icon-file-text2'></use></svg></label><input id='data-724cf014-9798-4d02-890b-b608ac11e33e' class='xr-var-data-in' type='checkbox'><label for='data-724cf014-9798-4d02-890b-b608ac11e33e' title='Show/Hide data repr'><svg class='icon xr-icon-database'><use xlink:href='#icon-database'></use></svg></label><div class='xr-var-attrs'><dl class='xr-attrs'><dt><span>flag_values :</span></dt><dd>M P Q R Y</dd><dt><span>flag_meanings :</span></dt><dd>See QA/QC csv for network.</dd></dl></div><div class='xr-var-data'><pre>array([[&#x27;nan&#x27;, &#x27;nan&#x27;, &#x27;nan&#x27;, ..., &#x27;nan&#x27;, &#x27;nan&#x27;, &#x27;nan&#x27;]], dtype=object)</pre></div></li><li class='xr-var-item'><div class='xr-var-name'><span>rsds_qc</span></div><div class='xr-var-dims'>(station, time)</div><div class='xr-var-dtype'>object</div><div class='xr-var-preview xr-preview'>&#x27;nan&#x27; &#x27;nan&#x27; &#x27;nan&#x27; ... &#x27;nan&#x27; &#x27;nan&#x27;</div><input id='attrs-5612d9d2-0e19-4241-90dc-9db5664e5e5e' class='xr-var-attrs-in' type='checkbox' ><label for='attrs-5612d9d2-0e19-4241-90dc-9db5664e5e5e' title='Show/Hide attributes'><svg class='icon xr-icon-file-text2'><use xlink:href='#icon-file-text2'></use></svg></label><input id='data-4f305058-62c2-46e6-ad95-78aafc9cef79' class='xr-var-data-in' type='checkbox'><label for='data-4f305058-62c2-46e6-ad95-78aafc9cef79' title='Show/Hide data repr'><svg class='icon xr-icon-database'><use xlink:href='#icon-database'></use></svg></label><div class='xr-var-attrs'><dl class='xr-attrs'><dt><span>flag_values :</span></dt><dd>M P R S Y</dd><dt><span>flag_meanings :</span></dt><dd>See QA/QC csv for network.</dd></dl></div><div class='xr-var-data'><pre>array([[&#x27;nan&#x27;, &#x27;nan&#x27;, &#x27;nan&#x27;, ..., &#x27;nan&#x27;, &#x27;nan&#x27;, &#x27;nan&#x27;]], dtype=object)</pre></div></li><li class='xr-var-item'><div class='xr-var-name'><span>pvp_derived_qc</span></div><div class='xr-var-dims'>(station, time)</div><div class='xr-var-dtype'>object</div><div class='xr-var-preview xr-preview'>&#x27;nan&#x27; &#x27;nan&#x27; &#x27;nan&#x27; ... &#x27;nan&#x27; &#x27;nan&#x27;</div><input id='attrs-2ea5ff6b-87e7-4372-9597-193a7c94fdc6' class='xr-var-attrs-in' type='checkbox' ><label for='attrs-2ea5ff6b-87e7-4372-9597-193a7c94fdc6' title='Show/Hide attributes'><svg class='icon xr-icon-file-text2'><use xlink:href='#icon-file-text2'></use></svg></label><input id='data-17730b8e-fc28-4eb7-8f3d-4c636e6ac79f' class='xr-var-data-in' type='checkbox'><label for='data-17730b8e-fc28-4eb7-8f3d-4c636e6ac79f' title='Show/Hide data repr'><svg class='icon xr-icon-database'><use xlink:href='#icon-database'></use></svg></label><div class='xr-var-attrs'><dl class='xr-attrs'><dt><span>flag_values :</span></dt><dd>M P Q R S Y</dd><dt><span>flag_meanings :</span></dt><dd>See QA/QC csv for network.</dd></dl></div><div class='xr-var-data'><pre>array([[&#x27;nan&#x27;, &#x27;nan&#x27;, &#x27;nan&#x27;, ..., &#x27;nan&#x27;, &#x27;nan&#x27;, &#x27;nan&#x27;]], dtype=object)</pre></div></li><li class='xr-var-item'><div class='xr-var-name'><span>tas_qc</span></div><div class='xr-var-dims'>(station, time)</div><div class='xr-var-dtype'>object</div><div class='xr-var-preview xr-preview'>&#x27;nan&#x27; &#x27;nan&#x27; &#x27;nan&#x27; ... &#x27;nan&#x27; &#x27;Y&#x27; &#x27;Y&#x27;</div><input id='attrs-99aa2148-2914-46d8-8d6a-24c3645fadd9' class='xr-var-attrs-in' type='checkbox' ><label for='attrs-99aa2148-2914-46d8-8d6a-24c3645fadd9' title='Show/Hide attributes'><svg class='icon xr-icon-file-text2'><use xlink:href='#icon-file-text2'></use></svg></label><input id='data-519f856c-e34f-4c89-9690-905bb2f24733' class='xr-var-data-in' type='checkbox'><label for='data-519f856c-e34f-4c89-9690-905bb2f24733' title='Show/Hide data repr'><svg class='icon xr-icon-database'><use xlink:href='#icon-database'></use></svg></label><div class='xr-var-attrs'><dl class='xr-attrs'><dt><span>flag_values :</span></dt><dd>M P R S Y</dd><dt><span>flag_meanings :</span></dt><dd>See QA/QC csv for network.</dd></dl></div><div class='xr-var-data'><pre>array([[&#x27;nan&#x27;, &#x27;nan&#x27;, &#x27;nan&#x27;, ..., &#x27;nan&#x27;, &#x27;Y&#x27;, &#x27;Y&#x27;]], dtype=object)</pre></div></li><li class='xr-var-item'><div class='xr-var-name'><span>hurs_qc</span></div><div class='xr-var-dims'>(station, time)</div><div class='xr-var-dtype'>object</div><div class='xr-var-preview xr-preview'>&#x27;nan&#x27; &#x27;nan&#x27; &#x27;nan&#x27; ... &#x27;nan&#x27; &#x27;Y&#x27; &#x27;Y&#x27;</div><input id='attrs-824808e2-7c71-454a-acf0-b1686b88a630' class='xr-var-attrs-in' type='checkbox' ><label for='attrs-824808e2-7c71-454a-acf0-b1686b88a630' title='Show/Hide attributes'><svg class='icon xr-icon-file-text2'><use xlink:href='#icon-file-text2'></use></svg></label><input id='data-77a9116c-963f-4b86-ab24-80d52c1a0313' class='xr-var-data-in' type='checkbox'><label for='data-77a9116c-963f-4b86-ab24-80d52c1a0313' title='Show/Hide data repr'><svg class='icon xr-icon-database'><use xlink:href='#icon-database'></use></svg></label><div class='xr-var-attrs'><dl class='xr-attrs'><dt><span>flag_values :</span></dt><dd>M Q R S Y</dd><dt><span>flag_meanings :</span></dt><dd>See QA/QC csv for network.</dd></dl></div><div class='xr-var-data'><pre>array([[&#x27;nan&#x27;, &#x27;nan&#x27;, &#x27;nan&#x27;, ..., &#x27;nan&#x27;, &#x27;Y&#x27;, &#x27;Y&#x27;]], dtype=object)</pre></div></li><li class='xr-var-item'><div class='xr-var-name'><span>tdps_derived_qc</span></div><div class='xr-var-dims'>(station, time)</div><div class='xr-var-dtype'>object</div><div class='xr-var-preview xr-preview'>&#x27;nan&#x27; &#x27;nan&#x27; &#x27;nan&#x27; ... &#x27;nan&#x27; &#x27;Y&#x27; &#x27;Y&#x27;</div><input id='attrs-7b9a4e54-d759-4d5e-b571-9045ecd25ac6' class='xr-var-attrs-in' type='checkbox' ><label for='attrs-7b9a4e54-d759-4d5e-b571-9045ecd25ac6' title='Show/Hide attributes'><svg class='icon xr-icon-file-text2'><use xlink:href='#icon-file-text2'></use></svg></label><input id='data-19f7f6b0-2bf7-44c5-8139-22de03863ab6' class='xr-var-data-in' type='checkbox'><label for='data-19f7f6b0-2bf7-44c5-8139-22de03863ab6' title='Show/Hide data repr'><svg class='icon xr-icon-database'><use xlink:href='#icon-database'></use></svg></label><div class='xr-var-attrs'><dl class='xr-attrs'><dt><span>flag_values :</span></dt><dd>M Q R S Y</dd><dt><span>flag_meanings :</span></dt><dd>See QA/QC csv for network.</dd></dl></div><div class='xr-var-data'><pre>array([[&#x27;nan&#x27;, &#x27;nan&#x27;, &#x27;nan&#x27;, ..., &#x27;nan&#x27;, &#x27;Y&#x27;, &#x27;Y&#x27;]], dtype=object)</pre></div></li><li class='xr-var-item'><div class='xr-var-name'><span>sfcWind_qc</span></div><div class='xr-var-dims'>(station, time)</div><div class='xr-var-dtype'>object</div><div class='xr-var-preview xr-preview'>&#x27;nan&#x27; &#x27;nan&#x27; &#x27;nan&#x27; ... &#x27;nan&#x27; &#x27;nan&#x27;</div><input id='attrs-c2073ec8-2e80-4c4d-8da0-c14df997bc57' class='xr-var-attrs-in' type='checkbox' ><label for='attrs-c2073ec8-2e80-4c4d-8da0-c14df997bc57' title='Show/Hide attributes'><svg class='icon xr-icon-file-text2'><use xlink:href='#icon-file-text2'></use></svg></label><input id='data-769d26eb-d95f-45ee-9613-5a14484b4927' class='xr-var-data-in' type='checkbox'><label for='data-769d26eb-d95f-45ee-9613-5a14484b4927' title='Show/Hide data repr'><svg class='icon xr-icon-database'><use xlink:href='#icon-database'></use></svg></label><div class='xr-var-attrs'><dl class='xr-attrs'><dt><span>flag_values :</span></dt><dd>I M P R S Y</dd><dt><span>flag_meanings :</span></dt><dd>See QA/QC csv for network.</dd></dl></div><div class='xr-var-data'><pre>array([[&#x27;nan&#x27;, &#x27;nan&#x27;, &#x27;nan&#x27;, ..., &#x27;nan&#x27;, &#x27;nan&#x27;, &#x27;nan&#x27;]], dtype=object)</pre></div></li><li class='xr-var-item'><div class='xr-var-name'><span>sfcWind_dir_qc</span></div><div class='xr-var-dims'>(station, time)</div><div class='xr-var-dtype'>object</div><div class='xr-var-preview xr-preview'>&#x27;nan&#x27; &#x27;nan&#x27; &#x27;nan&#x27; ... &#x27;nan&#x27; &#x27;nan&#x27;</div><input id='attrs-345263c7-597b-42eb-969e-4888282828fa' class='xr-var-attrs-in' type='checkbox' ><label for='attrs-345263c7-597b-42eb-969e-4888282828fa' title='Show/Hide attributes'><svg class='icon xr-icon-file-text2'><use xlink:href='#icon-file-text2'></use></svg></label><input id='data-19d4a450-7d6a-492f-8505-021b98766dc7' class='xr-var-data-in' type='checkbox'><label for='data-19d4a450-7d6a-492f-8505-021b98766dc7' title='Show/Hide data repr'><svg class='icon xr-icon-database'><use xlink:href='#icon-database'></use></svg></label><div class='xr-var-attrs'><dl class='xr-attrs'><dt><span>flag_values :</span></dt><dd>I M P Q R</dd><dt><span>flag_meanings :</span></dt><dd>See QA/QC csv for network.</dd></dl></div><div class='xr-var-data'><pre>array([[&#x27;nan&#x27;, &#x27;nan&#x27;, &#x27;nan&#x27;, ..., &#x27;nan&#x27;, &#x27;nan&#x27;, &#x27;nan&#x27;]], dtype=object)</pre></div></li><li class='xr-var-item'><div class='xr-var-name'><span>elevation</span></div><div class='xr-var-dims'>(station, time)</div><div class='xr-var-dtype'>float64</div><div class='xr-var-preview xr-preview'>125.0 125.0 125.0 ... 125.0 125.0</div><input id='attrs-2aeee0a8-cfa9-4591-ace1-bd2382ab5d0c' class='xr-var-attrs-in' type='checkbox' ><label for='attrs-2aeee0a8-cfa9-4591-ace1-bd2382ab5d0c' title='Show/Hide attributes'><svg class='icon xr-icon-file-text2'><use xlink:href='#icon-file-text2'></use></svg></label><input id='data-aeb436a5-d977-4bc0-83ac-8923d74b1f8c' class='xr-var-data-in' type='checkbox'><label for='data-aeb436a5-d977-4bc0-83ac-8923d74b1f8c' title='Show/Hide data repr'><svg class='icon xr-icon-database'><use xlink:href='#icon-database'></use></svg></label><div class='xr-var-attrs'><dl class='xr-attrs'><dt><span>standard_name :</span></dt><dd>height_above_mean_sea_level</dd><dt><span>long_name :</span></dt><dd>station_elevation</dd><dt><span>units :</span></dt><dd>meters</dd><dt><span>positive :</span></dt><dd>up</dd><dt><span>comment :</span></dt><dd>Converted from feet to meters.</dd><dt><span>ancillary_variables :</span></dt><dd>elevation_eraqc</dd></dl></div><div class='xr-var-data'><pre>array([[124.968, 124.968, 124.968, ..., 124.968, 124.968, 124.968]])</pre></div></li><li class='xr-var-item'><div class='xr-var-name'><span>tdps_derived</span></div><div class='xr-var-dims'>(station, time)</div><div class='xr-var-dtype'>float64</div><div class='xr-var-preview xr-preview'>256.9 255.1 254.0 ... 285.8 286.5</div><input id='attrs-19ac781b-9ea6-40d6-871c-703ccab4010c' class='xr-var-attrs-in' type='checkbox' ><label for='attrs-19ac781b-9ea6-40d6-871c-703ccab4010c' title='Show/Hide attributes'><svg class='icon xr-icon-file-text2'><use xlink:href='#icon-file-text2'></use></svg></label><input id='data-561f9803-3cd2-4d6e-9587-17bb8fabe439' class='xr-var-data-in' type='checkbox'><label for='data-561f9803-3cd2-4d6e-9587-17bb8fabe439' title='Show/Hide data repr'><svg class='icon xr-icon-database'><use xlink:href='#icon-database'></use></svg></label><div class='xr-var-attrs'><dl class='xr-attrs'><dt><span>long_name :</span></dt><dd>dew_point_temperature</dd><dt><span>standard_name :</span></dt><dd>dew_point_temperature</dd><dt><span>units :</span></dt><dd>degree_Kelvin</dd><dt><span>ancillary_variables :</span></dt><dd>tdps_derived_qc, tdps_derived_eraqc</dd><dt><span>comment :</span></dt><dd>Derived by CIMIS from vapor pressure and air temperature. Converted from Celsius to Kelvin.</dd></dl></div><div class='xr-var-data'><pre>array([[256.95, 255.15, 254.05, ..., 286.85, 285.75, 286.55]])</pre></div></li><li class='xr-var-item'><div class='xr-var-name'><span>pvp_derived</span></div><div class='xr-var-dims'>(station, time)</div><div class='xr-var-dtype'>float64</div><div class='xr-var-preview xr-preview'>200.0 100.0 ... 1.5e+03 1.5e+03</div><input id='attrs-2ae96005-2c27-45a8-81c2-dfbb0d96bf05' class='xr-var-attrs-in' type='checkbox' ><label for='attrs-2ae96005-2c27-45a8-81c2-dfbb0d96bf05' title='Show/Hide attributes'><svg class='icon xr-icon-file-text2'><use xlink:href='#icon-file-text2'></use></svg></label><input id='data-2efb176c-0448-4a27-8d63-ed02d30fd66f' class='xr-var-data-in' type='checkbox'><label for='data-2efb176c-0448-4a27-8d63-ed02d30fd66f' title='Show/Hide data repr'><svg class='icon xr-icon-database'><use xlink:href='#icon-database'></use></svg></label><div class='xr-var-attrs'><dl class='xr-attrs'><dt><span>long_name :</span></dt><dd>partial_vapor_pressure</dd><dt><span>standard_name :</span></dt><dd>water_vapor_partial_pressure_in_air</dd><dt><span>units :</span></dt><dd>Pa</dd><dt><span>ancillary_variables :</span></dt><dd>pvp_qc, pvp_derived_eraqc</dd><dt><span>comment :</span></dt><dd>Derived by CIMIS from relative humidity and air temperature measurements. Converted from kPa to Pa.</dd></dl></div><div class='xr-var-data'><pre>array([[ 200.,  100.,  100., ..., 1600., 1500., 1500.]])</pre></div></li><li class='xr-var-item'><div class='xr-var-name'><span>lat</span></div><div class='xr-var-dims'>(station, time)</div><div class='xr-var-dtype'>float64</div><div class='xr-var-preview xr-preview'>33.69 33.69 33.69 ... 33.69 33.69</div><input id='attrs-4e7a3335-5445-4322-9629-f915651b9cff' class='xr-var-attrs-in' type='checkbox' disabled><label for='attrs-4e7a3335-5445-4322-9629-f915651b9cff' title='Show/Hide attributes'><svg class='icon xr-icon-file-text2'><use xlink:href='#icon-file-text2'></use></svg></label><input id='data-391d7050-2029-416e-9095-1a9d3d3dacf3' class='xr-var-data-in' type='checkbox'><label for='data-391d7050-2029-416e-9095-1a9d3d3dacf3' title='Show/Hide data repr'><svg class='icon xr-icon-database'><use xlink:href='#icon-database'></use></svg></label><div class='xr-var-attrs'><dl class='xr-attrs'></dl></div><div class='xr-var-data'><pre>array([[33.68845, 33.68845, 33.68845, ..., 33.68845, 33.68845, 33.68845]])</pre></div></li><li class='xr-var-item'><div class='xr-var-name'><span>lon</span></div><div class='xr-var-dims'>(station, time)</div><div class='xr-var-dtype'>float64</div><div class='xr-var-preview xr-preview'>-117.7 -117.7 ... -117.7 -117.7</div><input id='attrs-7d0bd3c0-11c5-45ea-a378-d6799ea72e16' class='xr-var-attrs-in' type='checkbox' disabled><label for='attrs-7d0bd3c0-11c5-45ea-a378-d6799ea72e16' title='Show/Hide attributes'><svg class='icon xr-icon-file-text2'><use xlink:href='#icon-file-text2'></use></svg></label><input id='data-8bef1310-b837-4a20-b491-05497cde9a73' class='xr-var-data-in' type='checkbox'><label for='data-8bef1310-b837-4a20-b491-05497cde9a73' title='Show/Hide data repr'><svg class='icon xr-icon-database'><use xlink:href='#icon-database'></use></svg></label><div class='xr-var-attrs'><dl class='xr-attrs'></dl></div><div class='xr-var-data'><pre>array([[-117.72117778, -117.72117778, -117.72117778, ..., -117.72117778,\n",
       "        -117.72117778, -117.72117778]])</pre></div></li><li class='xr-var-item'><div class='xr-var-name'><span>tas_eraqc</span></div><div class='xr-var-dims'>(station, time)</div><div class='xr-var-dtype'>float64</div><div class='xr-var-preview xr-preview'>nan nan nan nan ... nan nan nan nan</div><input id='attrs-8b541c16-2ccc-43ad-86c3-81e8d6db9739' class='xr-var-attrs-in' type='checkbox' disabled><label for='attrs-8b541c16-2ccc-43ad-86c3-81e8d6db9739' title='Show/Hide attributes'><svg class='icon xr-icon-file-text2'><use xlink:href='#icon-file-text2'></use></svg></label><input id='data-f50e4a51-cc90-463f-b77e-19c4c025aa02' class='xr-var-data-in' type='checkbox'><label for='data-f50e4a51-cc90-463f-b77e-19c4c025aa02' title='Show/Hide data repr'><svg class='icon xr-icon-database'><use xlink:href='#icon-database'></use></svg></label><div class='xr-var-attrs'><dl class='xr-attrs'></dl></div><div class='xr-var-data'><pre>array([[nan, nan, nan, ..., nan, nan, nan]])</pre></div></li><li class='xr-var-item'><div class='xr-var-name'><span>pr_eraqc</span></div><div class='xr-var-dims'>(station, time)</div><div class='xr-var-dtype'>float64</div><div class='xr-var-preview xr-preview'>nan nan nan nan ... nan nan nan nan</div><input id='attrs-ff94a3c2-d734-4ecd-9424-571b80e2f4c8' class='xr-var-attrs-in' type='checkbox' disabled><label for='attrs-ff94a3c2-d734-4ecd-9424-571b80e2f4c8' title='Show/Hide attributes'><svg class='icon xr-icon-file-text2'><use xlink:href='#icon-file-text2'></use></svg></label><input id='data-4bb137c7-9508-40b7-9cf0-84ade3ccf0f3' class='xr-var-data-in' type='checkbox'><label for='data-4bb137c7-9508-40b7-9cf0-84ade3ccf0f3' title='Show/Hide data repr'><svg class='icon xr-icon-database'><use xlink:href='#icon-database'></use></svg></label><div class='xr-var-attrs'><dl class='xr-attrs'></dl></div><div class='xr-var-data'><pre>array([[nan, nan, nan, ..., nan, nan, nan]])</pre></div></li><li class='xr-var-item'><div class='xr-var-name'><span>hurs_eraqc</span></div><div class='xr-var-dims'>(station, time)</div><div class='xr-var-dtype'>float64</div><div class='xr-var-preview xr-preview'>nan nan nan nan ... nan nan nan nan</div><input id='attrs-be10adba-dd2e-433e-ae1e-b15e6e8c5144' class='xr-var-attrs-in' type='checkbox' disabled><label for='attrs-be10adba-dd2e-433e-ae1e-b15e6e8c5144' title='Show/Hide attributes'><svg class='icon xr-icon-file-text2'><use xlink:href='#icon-file-text2'></use></svg></label><input id='data-2dd3b001-0d6e-401d-a0e9-f3943813615e' class='xr-var-data-in' type='checkbox'><label for='data-2dd3b001-0d6e-401d-a0e9-f3943813615e' title='Show/Hide data repr'><svg class='icon xr-icon-database'><use xlink:href='#icon-database'></use></svg></label><div class='xr-var-attrs'><dl class='xr-attrs'></dl></div><div class='xr-var-data'><pre>array([[nan, nan, nan, ..., nan, nan, nan]])</pre></div></li><li class='xr-var-item'><div class='xr-var-name'><span>rsds_eraqc</span></div><div class='xr-var-dims'>(station, time)</div><div class='xr-var-dtype'>float64</div><div class='xr-var-preview xr-preview'>nan nan nan nan ... nan nan nan nan</div><input id='attrs-6be70234-7961-4864-841a-3e9c16a0d1d0' class='xr-var-attrs-in' type='checkbox' disabled><label for='attrs-6be70234-7961-4864-841a-3e9c16a0d1d0' title='Show/Hide attributes'><svg class='icon xr-icon-file-text2'><use xlink:href='#icon-file-text2'></use></svg></label><input id='data-cf297652-0147-4422-9295-b8021ed4b9e2' class='xr-var-data-in' type='checkbox'><label for='data-cf297652-0147-4422-9295-b8021ed4b9e2' title='Show/Hide data repr'><svg class='icon xr-icon-database'><use xlink:href='#icon-database'></use></svg></label><div class='xr-var-attrs'><dl class='xr-attrs'></dl></div><div class='xr-var-data'><pre>array([[nan, nan, nan, ..., nan, nan, nan]])</pre></div></li><li class='xr-var-item'><div class='xr-var-name'><span>sfcWind_eraqc</span></div><div class='xr-var-dims'>(station, time)</div><div class='xr-var-dtype'>float64</div><div class='xr-var-preview xr-preview'>nan nan nan nan ... nan nan nan nan</div><input id='attrs-a7dab837-9b7c-4847-ba63-9093d59af925' class='xr-var-attrs-in' type='checkbox' disabled><label for='attrs-a7dab837-9b7c-4847-ba63-9093d59af925' title='Show/Hide attributes'><svg class='icon xr-icon-file-text2'><use xlink:href='#icon-file-text2'></use></svg></label><input id='data-956c3977-5172-4025-a944-b9d2ef75b1d1' class='xr-var-data-in' type='checkbox'><label for='data-956c3977-5172-4025-a944-b9d2ef75b1d1' title='Show/Hide data repr'><svg class='icon xr-icon-database'><use xlink:href='#icon-database'></use></svg></label><div class='xr-var-attrs'><dl class='xr-attrs'></dl></div><div class='xr-var-data'><pre>array([[nan, nan, nan, ..., nan, nan, nan]])</pre></div></li><li class='xr-var-item'><div class='xr-var-name'><span>sfcWind_dir_eraqc</span></div><div class='xr-var-dims'>(station, time)</div><div class='xr-var-dtype'>float64</div><div class='xr-var-preview xr-preview'>nan nan nan nan ... nan nan nan nan</div><input id='attrs-edd353c0-cb8a-463c-b4cf-e899ad36cea2' class='xr-var-attrs-in' type='checkbox' disabled><label for='attrs-edd353c0-cb8a-463c-b4cf-e899ad36cea2' title='Show/Hide attributes'><svg class='icon xr-icon-file-text2'><use xlink:href='#icon-file-text2'></use></svg></label><input id='data-2cbe47ec-6248-4c63-800a-71fe34cbb36f' class='xr-var-data-in' type='checkbox'><label for='data-2cbe47ec-6248-4c63-800a-71fe34cbb36f' title='Show/Hide data repr'><svg class='icon xr-icon-database'><use xlink:href='#icon-database'></use></svg></label><div class='xr-var-attrs'><dl class='xr-attrs'></dl></div><div class='xr-var-data'><pre>array([[nan, nan, nan, ..., nan, nan, nan]])</pre></div></li><li class='xr-var-item'><div class='xr-var-name'><span>elevation_eraqc</span></div><div class='xr-var-dims'>(station, time)</div><div class='xr-var-dtype'>float64</div><div class='xr-var-preview xr-preview'>nan nan nan nan ... nan nan nan nan</div><input id='attrs-2b1bc2f8-a4e5-408d-baa0-60bf52e2e87e' class='xr-var-attrs-in' type='checkbox' disabled><label for='attrs-2b1bc2f8-a4e5-408d-baa0-60bf52e2e87e' title='Show/Hide attributes'><svg class='icon xr-icon-file-text2'><use xlink:href='#icon-file-text2'></use></svg></label><input id='data-5ae26e9e-5b6e-4ae1-8309-99de2ae4ddbe' class='xr-var-data-in' type='checkbox'><label for='data-5ae26e9e-5b6e-4ae1-8309-99de2ae4ddbe' title='Show/Hide data repr'><svg class='icon xr-icon-database'><use xlink:href='#icon-database'></use></svg></label><div class='xr-var-attrs'><dl class='xr-attrs'></dl></div><div class='xr-var-data'><pre>array([[nan, nan, nan, ..., nan, nan, nan]])</pre></div></li><li class='xr-var-item'><div class='xr-var-name'><span>tdps_derived_eraqc</span></div><div class='xr-var-dims'>(station, time)</div><div class='xr-var-dtype'>float64</div><div class='xr-var-preview xr-preview'>nan nan nan nan ... nan nan nan nan</div><input id='attrs-b0ead746-35bb-47bf-b598-a6827f76ada5' class='xr-var-attrs-in' type='checkbox' disabled><label for='attrs-b0ead746-35bb-47bf-b598-a6827f76ada5' title='Show/Hide attributes'><svg class='icon xr-icon-file-text2'><use xlink:href='#icon-file-text2'></use></svg></label><input id='data-780c646c-14fe-490b-a2d9-c6f50f5b5cab' class='xr-var-data-in' type='checkbox'><label for='data-780c646c-14fe-490b-a2d9-c6f50f5b5cab' title='Show/Hide data repr'><svg class='icon xr-icon-database'><use xlink:href='#icon-database'></use></svg></label><div class='xr-var-attrs'><dl class='xr-attrs'></dl></div><div class='xr-var-data'><pre>array([[nan, nan, nan, ..., nan, nan, nan]])</pre></div></li><li class='xr-var-item'><div class='xr-var-name'><span>pvp_derived_eraqc</span></div><div class='xr-var-dims'>(station, time)</div><div class='xr-var-dtype'>float64</div><div class='xr-var-preview xr-preview'>nan nan nan nan ... nan nan nan nan</div><input id='attrs-a940ed92-4a1b-46e2-b700-66ceb1dcc7de' class='xr-var-attrs-in' type='checkbox' disabled><label for='attrs-a940ed92-4a1b-46e2-b700-66ceb1dcc7de' title='Show/Hide attributes'><svg class='icon xr-icon-file-text2'><use xlink:href='#icon-file-text2'></use></svg></label><input id='data-fa213979-2d15-433d-8410-985ee72e3094' class='xr-var-data-in' type='checkbox'><label for='data-fa213979-2d15-433d-8410-985ee72e3094' title='Show/Hide data repr'><svg class='icon xr-icon-database'><use xlink:href='#icon-database'></use></svg></label><div class='xr-var-attrs'><dl class='xr-attrs'></dl></div><div class='xr-var-data'><pre>array([[nan, nan, nan, ..., nan, nan, nan]])</pre></div></li><li class='xr-var-item'><div class='xr-var-name'><span>anemometer_height_m</span></div><div class='xr-var-dims'>(station, time)</div><div class='xr-var-dtype'>float64</div><div class='xr-var-preview xr-preview'>2.0 2.0 2.0 2.0 ... 2.0 2.0 2.0 2.0</div><input id='attrs-464ffef8-65b6-4e56-8c72-8c5f85e6d1ba' class='xr-var-attrs-in' type='checkbox' disabled><label for='attrs-464ffef8-65b6-4e56-8c72-8c5f85e6d1ba' title='Show/Hide attributes'><svg class='icon xr-icon-file-text2'><use xlink:href='#icon-file-text2'></use></svg></label><input id='data-e128075d-ff8b-46cc-a566-ed7200b446cf' class='xr-var-data-in' type='checkbox'><label for='data-e128075d-ff8b-46cc-a566-ed7200b446cf' title='Show/Hide data repr'><svg class='icon xr-icon-database'><use xlink:href='#icon-database'></use></svg></label><div class='xr-var-attrs'><dl class='xr-attrs'></dl></div><div class='xr-var-data'><pre>array([[2., 2., 2., ..., 2., 2., 2.]])</pre></div></li><li class='xr-var-item'><div class='xr-var-name'><span>thermometer_height_m</span></div><div class='xr-var-dims'>(station, time)</div><div class='xr-var-dtype'>float64</div><div class='xr-var-preview xr-preview'>1.5 1.5 1.5 1.5 ... 1.5 1.5 1.5 1.5</div><input id='attrs-7bbeca6c-bd79-4de4-b19f-b6ce3214e3c2' class='xr-var-attrs-in' type='checkbox' disabled><label for='attrs-7bbeca6c-bd79-4de4-b19f-b6ce3214e3c2' title='Show/Hide attributes'><svg class='icon xr-icon-file-text2'><use xlink:href='#icon-file-text2'></use></svg></label><input id='data-b3e99c76-db35-462b-83aa-90516a34096c' class='xr-var-data-in' type='checkbox'><label for='data-b3e99c76-db35-462b-83aa-90516a34096c' title='Show/Hide data repr'><svg class='icon xr-icon-database'><use xlink:href='#icon-database'></use></svg></label><div class='xr-var-attrs'><dl class='xr-attrs'></dl></div><div class='xr-var-data'><pre>array([[1.5, 1.5, 1.5, ..., 1.5, 1.5, 1.5]])</pre></div></li></ul></div></li><li class='xr-section-item'><input id='section-984bb0f5-0bda-4a98-a6d2-cb82491a4c85' class='xr-section-summary-in' type='checkbox'  ><label for='section-984bb0f5-0bda-4a98-a6d2-cb82491a4c85' class='xr-section-summary' >Attributes: <span>(16)</span></label><div class='xr-section-inline-details'></div><div class='xr-section-details'><dl class='xr-attrs'><dt><span>title :</span></dt><dd>CIMIS quality controlled</dd><dt><span>institution :</span></dt><dd>Eagle Rock Analytics / Cal Adapt</dd><dt><span>source :</span></dt><dd></dd><dt><span>history :</span></dt><dd>CIMIS_clean.py script run on 02-13-2023, 22:25:54 UTC \n",
       "ALLNETWORKS_qaqc.py script run on 08-07-2024, 20:52:09 UTC</dd><dt><span>comment :</span></dt><dd>Intermediate data product: may not have been subject to any cleaning or QA/QC processing \n",
       "An intermediate data product: subject to cleaning but may not be subject to full QA/QC processing.</dd><dt><span>license :</span></dt><dd></dd><dt><span>citation :</span></dt><dd></dd><dt><span>disclaimer :</span></dt><dd>This document was prepared as a result of work sponsored by the California Energy Commission (PIR-19-006). It does not necessarily represent the views of the Energy Commission, its employees, or the State of California. Neither the Commission, the State of California, nor the Commission&#x27;s employees, contractors, or subcontractors makes any warranty, express or implied, or assumes any legal liability for the information in this document; nor does any party represent that the use of this information will not infringe upon privately owned rights. This document has not been approved or disapproved by the Commission, nor has the Commission passed upon the accuracy of the information in this document.</dd><dt><span>station_name :</span></dt><dd>Irvine</dd><dt><span>pyranometer_height_m :</span></dt><dd>2.0</dd><dt><span>wind_vane_height_m :</span></dt><dd>2.0</dd><dt><span>anemometer_height_m :</span></dt><dd>2.0</dd><dt><span>thermometer_height_m :</span></dt><dd>1.5</dd><dt><span>humidity_height_m :</span></dt><dd>1.5</dd><dt><span>rain_gauge_height_m :</span></dt><dd>1.0</dd><dt><span>raw_files_merged :</span></dt><dd>47</dd></dl></div></li></ul></div></div>"
      ],
      "text/plain": [
       "<xarray.Dataset>\n",
       "Dimensions:               (station: 1, time: 305943)\n",
       "Coordinates:\n",
       "  * station               (station) object 'CIMIS_75'\n",
       "  * time                  (time) datetime64[ns] 1987-10-07T09:00:00 ... 2022-...\n",
       "Data variables: (12/30)\n",
       "    tas                   (station, time) float64 290.8 290.8 ... 309.6 310.3\n",
       "    pr                    (station, time) float64 0.0 0.0 0.0 ... 0.0 0.0 0.0\n",
       "    hurs                  (station, time) float64 9.0 7.0 7.0 ... 27.0 24.0 24.0\n",
       "    rsds                  (station, time) float64 0.0 -1.0 -1.0 ... 803.0 678.0\n",
       "    sfcWind               (station, time) float64 0.8 0.7 1.0 ... 3.2 3.2 3.2\n",
       "    sfcWind_dir           (station, time) float64 87.1 76.2 11.7 ... 191.0 188.0\n",
       "    ...                    ...\n",
       "    sfcWind_dir_eraqc     (station, time) float64 nan nan nan ... nan nan nan\n",
       "    elevation_eraqc       (station, time) float64 nan nan nan ... nan nan nan\n",
       "    tdps_derived_eraqc    (station, time) float64 nan nan nan ... nan nan nan\n",
       "    pvp_derived_eraqc     (station, time) float64 nan nan nan ... nan nan nan\n",
       "    anemometer_height_m   (station, time) float64 2.0 2.0 2.0 ... 2.0 2.0 2.0\n",
       "    thermometer_height_m  (station, time) float64 1.5 1.5 1.5 ... 1.5 1.5 1.5\n",
       "Attributes: (12/16)\n",
       "    title:                 CIMIS quality controlled\n",
       "    institution:           Eagle Rock Analytics / Cal Adapt\n",
       "    source:                \n",
       "    history:               CIMIS_clean.py script run on 02-13-2023, 22:25:54 ...\n",
       "    comment:               Intermediate data product: may not have been subje...\n",
       "    license:               \n",
       "    ...                    ...\n",
       "    wind_vane_height_m:    2.0\n",
       "    anemometer_height_m:   2.0\n",
       "    thermometer_height_m:  1.5\n",
       "    humidity_height_m:     1.5\n",
       "    rain_gauge_height_m:   1.0\n",
       "    raw_files_merged:      47"
      ]
     },
     "execution_count": 100,
     "metadata": {},
     "output_type": "execute_result"
    }
   ],
   "source": [
    "ds = download_nc_from_aws(specific_station, save=True)\n",
    "ds"
   ]
  },
  {
   "cell_type": "markdown",
   "id": "486debd5-6f1a-445e-9674-52bfe626335a",
   "metadata": {},
   "source": [
    "### Once the file was downloaded, reading from disk should be faster for testing"
   ]
  },
  {
   "cell_type": "code",
   "execution_count": 107,
   "id": "05cfafb1-0b6d-4cd2-b9a7-8e9b263a4291",
   "metadata": {
    "execution": {
     "iopub.execute_input": "2024-10-01T20:08:21.856341Z",
     "iopub.status.busy": "2024-10-01T20:08:21.856159Z",
     "iopub.status.idle": "2024-10-01T20:08:23.178743Z",
     "shell.execute_reply": "2024-10-01T20:08:23.178445Z",
     "shell.execute_reply.started": "2024-10-01T20:08:21.856324Z"
    }
   },
   "outputs": [
    {
     "name": "stdout",
     "output_type": "stream",
     "text": [
      "Retrieving data for station...\n",
      "CPU times: user 657 ms, sys: 76.8 ms, total: 734 ms\n",
      "Wall time: 748 ms\n"
     ]
    },
    {
     "data": {
      "text/html": [
       "<div><svg style=\"position: absolute; width: 0; height: 0; overflow: hidden\">\n",
       "<defs>\n",
       "<symbol id=\"icon-database\" viewBox=\"0 0 32 32\">\n",
       "<path d=\"M16 0c-8.837 0-16 2.239-16 5v4c0 2.761 7.163 5 16 5s16-2.239 16-5v-4c0-2.761-7.163-5-16-5z\"></path>\n",
       "<path d=\"M16 17c-8.837 0-16-2.239-16-5v6c0 2.761 7.163 5 16 5s16-2.239 16-5v-6c0 2.761-7.163 5-16 5z\"></path>\n",
       "<path d=\"M16 26c-8.837 0-16-2.239-16-5v6c0 2.761 7.163 5 16 5s16-2.239 16-5v-6c0 2.761-7.163 5-16 5z\"></path>\n",
       "</symbol>\n",
       "<symbol id=\"icon-file-text2\" viewBox=\"0 0 32 32\">\n",
       "<path d=\"M28.681 7.159c-0.694-0.947-1.662-2.053-2.724-3.116s-2.169-2.030-3.116-2.724c-1.612-1.182-2.393-1.319-2.841-1.319h-15.5c-1.378 0-2.5 1.121-2.5 2.5v27c0 1.378 1.122 2.5 2.5 2.5h23c1.378 0 2.5-1.122 2.5-2.5v-19.5c0-0.448-0.137-1.23-1.319-2.841zM24.543 5.457c0.959 0.959 1.712 1.825 2.268 2.543h-4.811v-4.811c0.718 0.556 1.584 1.309 2.543 2.268zM28 29.5c0 0.271-0.229 0.5-0.5 0.5h-23c-0.271 0-0.5-0.229-0.5-0.5v-27c0-0.271 0.229-0.5 0.5-0.5 0 0 15.499-0 15.5 0v7c0 0.552 0.448 1 1 1h7v19.5z\"></path>\n",
       "<path d=\"M23 26h-14c-0.552 0-1-0.448-1-1s0.448-1 1-1h14c0.552 0 1 0.448 1 1s-0.448 1-1 1z\"></path>\n",
       "<path d=\"M23 22h-14c-0.552 0-1-0.448-1-1s0.448-1 1-1h14c0.552 0 1 0.448 1 1s-0.448 1-1 1z\"></path>\n",
       "<path d=\"M23 18h-14c-0.552 0-1-0.448-1-1s0.448-1 1-1h14c0.552 0 1 0.448 1 1s-0.448 1-1 1z\"></path>\n",
       "</symbol>\n",
       "</defs>\n",
       "</svg>\n",
       "<style>/* CSS stylesheet for displaying xarray objects in jupyterlab.\n",
       " *\n",
       " */\n",
       "\n",
       ":root {\n",
       "  --xr-font-color0: var(--jp-content-font-color0, rgba(0, 0, 0, 1));\n",
       "  --xr-font-color2: var(--jp-content-font-color2, rgba(0, 0, 0, 0.54));\n",
       "  --xr-font-color3: var(--jp-content-font-color3, rgba(0, 0, 0, 0.38));\n",
       "  --xr-border-color: var(--jp-border-color2, #e0e0e0);\n",
       "  --xr-disabled-color: var(--jp-layout-color3, #bdbdbd);\n",
       "  --xr-background-color: var(--jp-layout-color0, white);\n",
       "  --xr-background-color-row-even: var(--jp-layout-color1, white);\n",
       "  --xr-background-color-row-odd: var(--jp-layout-color2, #eeeeee);\n",
       "}\n",
       "\n",
       "html[theme=dark],\n",
       "body.vscode-dark {\n",
       "  --xr-font-color0: rgba(255, 255, 255, 1);\n",
       "  --xr-font-color2: rgba(255, 255, 255, 0.54);\n",
       "  --xr-font-color3: rgba(255, 255, 255, 0.38);\n",
       "  --xr-border-color: #1F1F1F;\n",
       "  --xr-disabled-color: #515151;\n",
       "  --xr-background-color: #111111;\n",
       "  --xr-background-color-row-even: #111111;\n",
       "  --xr-background-color-row-odd: #313131;\n",
       "}\n",
       "\n",
       ".xr-wrap {\n",
       "  display: block !important;\n",
       "  min-width: 300px;\n",
       "  max-width: 700px;\n",
       "}\n",
       "\n",
       ".xr-text-repr-fallback {\n",
       "  /* fallback to plain text repr when CSS is not injected (untrusted notebook) */\n",
       "  display: none;\n",
       "}\n",
       "\n",
       ".xr-header {\n",
       "  padding-top: 6px;\n",
       "  padding-bottom: 6px;\n",
       "  margin-bottom: 4px;\n",
       "  border-bottom: solid 1px var(--xr-border-color);\n",
       "}\n",
       "\n",
       ".xr-header > div,\n",
       ".xr-header > ul {\n",
       "  display: inline;\n",
       "  margin-top: 0;\n",
       "  margin-bottom: 0;\n",
       "}\n",
       "\n",
       ".xr-obj-type,\n",
       ".xr-array-name {\n",
       "  margin-left: 2px;\n",
       "  margin-right: 10px;\n",
       "}\n",
       "\n",
       ".xr-obj-type {\n",
       "  color: var(--xr-font-color2);\n",
       "}\n",
       "\n",
       ".xr-sections {\n",
       "  padding-left: 0 !important;\n",
       "  display: grid;\n",
       "  grid-template-columns: 150px auto auto 1fr 20px 20px;\n",
       "}\n",
       "\n",
       ".xr-section-item {\n",
       "  display: contents;\n",
       "}\n",
       "\n",
       ".xr-section-item input {\n",
       "  display: none;\n",
       "}\n",
       "\n",
       ".xr-section-item input + label {\n",
       "  color: var(--xr-disabled-color);\n",
       "}\n",
       "\n",
       ".xr-section-item input:enabled + label {\n",
       "  cursor: pointer;\n",
       "  color: var(--xr-font-color2);\n",
       "}\n",
       "\n",
       ".xr-section-item input:enabled + label:hover {\n",
       "  color: var(--xr-font-color0);\n",
       "}\n",
       "\n",
       ".xr-section-summary {\n",
       "  grid-column: 1;\n",
       "  color: var(--xr-font-color2);\n",
       "  font-weight: 500;\n",
       "}\n",
       "\n",
       ".xr-section-summary > span {\n",
       "  display: inline-block;\n",
       "  padding-left: 0.5em;\n",
       "}\n",
       "\n",
       ".xr-section-summary-in:disabled + label {\n",
       "  color: var(--xr-font-color2);\n",
       "}\n",
       "\n",
       ".xr-section-summary-in + label:before {\n",
       "  display: inline-block;\n",
       "  content: '►';\n",
       "  font-size: 11px;\n",
       "  width: 15px;\n",
       "  text-align: center;\n",
       "}\n",
       "\n",
       ".xr-section-summary-in:disabled + label:before {\n",
       "  color: var(--xr-disabled-color);\n",
       "}\n",
       "\n",
       ".xr-section-summary-in:checked + label:before {\n",
       "  content: '▼';\n",
       "}\n",
       "\n",
       ".xr-section-summary-in:checked + label > span {\n",
       "  display: none;\n",
       "}\n",
       "\n",
       ".xr-section-summary,\n",
       ".xr-section-inline-details {\n",
       "  padding-top: 4px;\n",
       "  padding-bottom: 4px;\n",
       "}\n",
       "\n",
       ".xr-section-inline-details {\n",
       "  grid-column: 2 / -1;\n",
       "}\n",
       "\n",
       ".xr-section-details {\n",
       "  display: none;\n",
       "  grid-column: 1 / -1;\n",
       "  margin-bottom: 5px;\n",
       "}\n",
       "\n",
       ".xr-section-summary-in:checked ~ .xr-section-details {\n",
       "  display: contents;\n",
       "}\n",
       "\n",
       ".xr-array-wrap {\n",
       "  grid-column: 1 / -1;\n",
       "  display: grid;\n",
       "  grid-template-columns: 20px auto;\n",
       "}\n",
       "\n",
       ".xr-array-wrap > label {\n",
       "  grid-column: 1;\n",
       "  vertical-align: top;\n",
       "}\n",
       "\n",
       ".xr-preview {\n",
       "  color: var(--xr-font-color3);\n",
       "}\n",
       "\n",
       ".xr-array-preview,\n",
       ".xr-array-data {\n",
       "  padding: 0 5px !important;\n",
       "  grid-column: 2;\n",
       "}\n",
       "\n",
       ".xr-array-data,\n",
       ".xr-array-in:checked ~ .xr-array-preview {\n",
       "  display: none;\n",
       "}\n",
       "\n",
       ".xr-array-in:checked ~ .xr-array-data,\n",
       ".xr-array-preview {\n",
       "  display: inline-block;\n",
       "}\n",
       "\n",
       ".xr-dim-list {\n",
       "  display: inline-block !important;\n",
       "  list-style: none;\n",
       "  padding: 0 !important;\n",
       "  margin: 0;\n",
       "}\n",
       "\n",
       ".xr-dim-list li {\n",
       "  display: inline-block;\n",
       "  padding: 0;\n",
       "  margin: 0;\n",
       "}\n",
       "\n",
       ".xr-dim-list:before {\n",
       "  content: '(';\n",
       "}\n",
       "\n",
       ".xr-dim-list:after {\n",
       "  content: ')';\n",
       "}\n",
       "\n",
       ".xr-dim-list li:not(:last-child):after {\n",
       "  content: ',';\n",
       "  padding-right: 5px;\n",
       "}\n",
       "\n",
       ".xr-has-index {\n",
       "  font-weight: bold;\n",
       "}\n",
       "\n",
       ".xr-var-list,\n",
       ".xr-var-item {\n",
       "  display: contents;\n",
       "}\n",
       "\n",
       ".xr-var-item > div,\n",
       ".xr-var-item label,\n",
       ".xr-var-item > .xr-var-name span {\n",
       "  background-color: var(--xr-background-color-row-even);\n",
       "  margin-bottom: 0;\n",
       "}\n",
       "\n",
       ".xr-var-item > .xr-var-name:hover span {\n",
       "  padding-right: 5px;\n",
       "}\n",
       "\n",
       ".xr-var-list > li:nth-child(odd) > div,\n",
       ".xr-var-list > li:nth-child(odd) > label,\n",
       ".xr-var-list > li:nth-child(odd) > .xr-var-name span {\n",
       "  background-color: var(--xr-background-color-row-odd);\n",
       "}\n",
       "\n",
       ".xr-var-name {\n",
       "  grid-column: 1;\n",
       "}\n",
       "\n",
       ".xr-var-dims {\n",
       "  grid-column: 2;\n",
       "}\n",
       "\n",
       ".xr-var-dtype {\n",
       "  grid-column: 3;\n",
       "  text-align: right;\n",
       "  color: var(--xr-font-color2);\n",
       "}\n",
       "\n",
       ".xr-var-preview {\n",
       "  grid-column: 4;\n",
       "}\n",
       "\n",
       ".xr-var-name,\n",
       ".xr-var-dims,\n",
       ".xr-var-dtype,\n",
       ".xr-preview,\n",
       ".xr-attrs dt {\n",
       "  white-space: nowrap;\n",
       "  overflow: hidden;\n",
       "  text-overflow: ellipsis;\n",
       "  padding-right: 10px;\n",
       "}\n",
       "\n",
       ".xr-var-name:hover,\n",
       ".xr-var-dims:hover,\n",
       ".xr-var-dtype:hover,\n",
       ".xr-attrs dt:hover {\n",
       "  overflow: visible;\n",
       "  width: auto;\n",
       "  z-index: 1;\n",
       "}\n",
       "\n",
       ".xr-var-attrs,\n",
       ".xr-var-data {\n",
       "  display: none;\n",
       "  background-color: var(--xr-background-color) !important;\n",
       "  padding-bottom: 5px !important;\n",
       "}\n",
       "\n",
       ".xr-var-attrs-in:checked ~ .xr-var-attrs,\n",
       ".xr-var-data-in:checked ~ .xr-var-data {\n",
       "  display: block;\n",
       "}\n",
       "\n",
       ".xr-var-data > table {\n",
       "  float: right;\n",
       "}\n",
       "\n",
       ".xr-var-name span,\n",
       ".xr-var-data,\n",
       ".xr-attrs {\n",
       "  padding-left: 25px !important;\n",
       "}\n",
       "\n",
       ".xr-attrs,\n",
       ".xr-var-attrs,\n",
       ".xr-var-data {\n",
       "  grid-column: 1 / -1;\n",
       "}\n",
       "\n",
       "dl.xr-attrs {\n",
       "  padding: 0;\n",
       "  margin: 0;\n",
       "  display: grid;\n",
       "  grid-template-columns: 125px auto;\n",
       "}\n",
       "\n",
       ".xr-attrs dt,\n",
       ".xr-attrs dd {\n",
       "  padding: 0;\n",
       "  margin: 0;\n",
       "  float: left;\n",
       "  padding-right: 10px;\n",
       "  width: auto;\n",
       "}\n",
       "\n",
       ".xr-attrs dt {\n",
       "  font-weight: normal;\n",
       "  grid-column: 1;\n",
       "}\n",
       "\n",
       ".xr-attrs dt:hover span {\n",
       "  display: inline-block;\n",
       "  background: var(--xr-background-color);\n",
       "  padding-right: 10px;\n",
       "}\n",
       "\n",
       ".xr-attrs dd {\n",
       "  grid-column: 2;\n",
       "  white-space: pre-wrap;\n",
       "  word-break: break-all;\n",
       "}\n",
       "\n",
       ".xr-icon-database,\n",
       ".xr-icon-file-text2 {\n",
       "  display: inline-block;\n",
       "  vertical-align: middle;\n",
       "  width: 1em;\n",
       "  height: 1.5em !important;\n",
       "  stroke-width: 0;\n",
       "  stroke: currentColor;\n",
       "  fill: currentColor;\n",
       "}\n",
       "</style><pre class='xr-text-repr-fallback'>&lt;xarray.Dataset&gt;\n",
       "Dimensions:               (station: 1, time: 305943)\n",
       "Coordinates:\n",
       "  * station               (station) object &#x27;CIMIS_75&#x27;\n",
       "  * time                  (time) datetime64[ns] 1987-10-07T09:00:00 ... 2022-...\n",
       "Data variables: (12/30)\n",
       "    tas                   (station, time) float64 290.8 290.8 ... 309.6 310.3\n",
       "    pr                    (station, time) float64 0.0 0.0 0.0 ... 0.0 0.0 0.0\n",
       "    hurs                  (station, time) float64 9.0 7.0 7.0 ... 27.0 24.0 24.0\n",
       "    rsds                  (station, time) float64 0.0 -1.0 -1.0 ... 803.0 678.0\n",
       "    sfcWind               (station, time) float64 0.8 0.7 1.0 ... 3.2 3.2 3.2\n",
       "    sfcWind_dir           (station, time) float64 87.1 76.2 11.7 ... 191.0 188.0\n",
       "    ...                    ...\n",
       "    sfcWind_dir_eraqc     (station, time) float64 nan nan nan ... nan nan nan\n",
       "    elevation_eraqc       (station, time) float64 nan nan nan ... nan nan nan\n",
       "    tdps_derived_eraqc    (station, time) float64 nan nan nan ... nan nan nan\n",
       "    pvp_derived_eraqc     (station, time) float64 nan nan nan ... nan nan nan\n",
       "    anemometer_height_m   (station, time) float64 2.0 2.0 2.0 ... 2.0 2.0 2.0\n",
       "    thermometer_height_m  (station, time) float64 1.5 1.5 1.5 ... 1.5 1.5 1.5\n",
       "Attributes: (12/16)\n",
       "    title:                 CIMIS quality controlled\n",
       "    institution:           Eagle Rock Analytics / Cal Adapt\n",
       "    source:                \n",
       "    history:               CIMIS_clean.py script run on 02-13-2023, 22:25:54 ...\n",
       "    comment:               Intermediate data product: may not have been subje...\n",
       "    license:               \n",
       "    ...                    ...\n",
       "    wind_vane_height_m:    2.0\n",
       "    anemometer_height_m:   2.0\n",
       "    thermometer_height_m:  1.5\n",
       "    humidity_height_m:     1.5\n",
       "    rain_gauge_height_m:   1.0\n",
       "    raw_files_merged:      47</pre><div class='xr-wrap' style='display:none'><div class='xr-header'><div class='xr-obj-type'>xarray.Dataset</div></div><ul class='xr-sections'><li class='xr-section-item'><input id='section-4cbf59c9-cfeb-4ab5-b551-4fe81b730fa0' class='xr-section-summary-in' type='checkbox' disabled ><label for='section-4cbf59c9-cfeb-4ab5-b551-4fe81b730fa0' class='xr-section-summary'  title='Expand/collapse section'>Dimensions:</label><div class='xr-section-inline-details'><ul class='xr-dim-list'><li><span class='xr-has-index'>station</span>: 1</li><li><span class='xr-has-index'>time</span>: 305943</li></ul></div><div class='xr-section-details'></div></li><li class='xr-section-item'><input id='section-6053e8e8-e3af-4f7b-8bf9-5e32645622ca' class='xr-section-summary-in' type='checkbox'  checked><label for='section-6053e8e8-e3af-4f7b-8bf9-5e32645622ca' class='xr-section-summary' >Coordinates: <span>(2)</span></label><div class='xr-section-inline-details'></div><div class='xr-section-details'><ul class='xr-var-list'><li class='xr-var-item'><div class='xr-var-name'><span class='xr-has-index'>station</span></div><div class='xr-var-dims'>(station)</div><div class='xr-var-dtype'>object</div><div class='xr-var-preview xr-preview'>&#x27;CIMIS_75&#x27;</div><input id='attrs-83c5e472-2580-4943-ab9b-d9daaff26b54' class='xr-var-attrs-in' type='checkbox' disabled><label for='attrs-83c5e472-2580-4943-ab9b-d9daaff26b54' title='Show/Hide attributes'><svg class='icon xr-icon-file-text2'><use xlink:href='#icon-file-text2'></use></svg></label><input id='data-202ba759-6877-4253-ba97-9e2ba31f89fa' class='xr-var-data-in' type='checkbox'><label for='data-202ba759-6877-4253-ba97-9e2ba31f89fa' title='Show/Hide data repr'><svg class='icon xr-icon-database'><use xlink:href='#icon-database'></use></svg></label><div class='xr-var-attrs'><dl class='xr-attrs'></dl></div><div class='xr-var-data'><pre>array([&#x27;CIMIS_75&#x27;], dtype=object)</pre></div></li><li class='xr-var-item'><div class='xr-var-name'><span class='xr-has-index'>time</span></div><div class='xr-var-dims'>(time)</div><div class='xr-var-dtype'>datetime64[ns]</div><div class='xr-var-preview xr-preview'>1987-10-07T09:00:00 ... 2022-08-...</div><input id='attrs-5ed090c3-97a7-4b6e-8e19-5e579d53e771' class='xr-var-attrs-in' type='checkbox' disabled><label for='attrs-5ed090c3-97a7-4b6e-8e19-5e579d53e771' title='Show/Hide attributes'><svg class='icon xr-icon-file-text2'><use xlink:href='#icon-file-text2'></use></svg></label><input id='data-dcddb364-b780-4bc6-9338-f13b247e37b6' class='xr-var-data-in' type='checkbox'><label for='data-dcddb364-b780-4bc6-9338-f13b247e37b6' title='Show/Hide data repr'><svg class='icon xr-icon-database'><use xlink:href='#icon-database'></use></svg></label><div class='xr-var-attrs'><dl class='xr-attrs'></dl></div><div class='xr-var-data'><pre>array([&#x27;1987-10-07T09:00:00.000000000&#x27;, &#x27;1987-10-07T10:00:00.000000000&#x27;,\n",
       "       &#x27;1987-10-07T11:00:00.000000000&#x27;, ..., &#x27;2022-08-31T21:00:00.000000000&#x27;,\n",
       "       &#x27;2022-08-31T22:00:00.000000000&#x27;, &#x27;2022-08-31T23:00:00.000000000&#x27;],\n",
       "      dtype=&#x27;datetime64[ns]&#x27;)</pre></div></li></ul></div></li><li class='xr-section-item'><input id='section-cbfa9ba3-43b7-4c76-b581-4713f34ade3b' class='xr-section-summary-in' type='checkbox'  ><label for='section-cbfa9ba3-43b7-4c76-b581-4713f34ade3b' class='xr-section-summary' >Data variables: <span>(30)</span></label><div class='xr-section-inline-details'></div><div class='xr-section-details'><ul class='xr-var-list'><li class='xr-var-item'><div class='xr-var-name'><span>tas</span></div><div class='xr-var-dims'>(station, time)</div><div class='xr-var-dtype'>float64</div><div class='xr-var-preview xr-preview'>290.8 290.8 290.6 ... 309.6 310.3</div><input id='attrs-31c39ad8-e8c7-4045-8d0e-ba018f69e0fd' class='xr-var-attrs-in' type='checkbox' ><label for='attrs-31c39ad8-e8c7-4045-8d0e-ba018f69e0fd' title='Show/Hide attributes'><svg class='icon xr-icon-file-text2'><use xlink:href='#icon-file-text2'></use></svg></label><input id='data-26a4094d-9482-4a86-9c85-a9e6b8769ee3' class='xr-var-data-in' type='checkbox'><label for='data-26a4094d-9482-4a86-9c85-a9e6b8769ee3' title='Show/Hide data repr'><svg class='icon xr-icon-database'><use xlink:href='#icon-database'></use></svg></label><div class='xr-var-attrs'><dl class='xr-attrs'><dt><span>long_name :</span></dt><dd>air_temperature</dd><dt><span>standard_name :</span></dt><dd>air_temperature</dd><dt><span>units :</span></dt><dd>degree_Kelvin</dd><dt><span>ancillary_variables :</span></dt><dd>tas_qc, tas_eraqc</dd><dt><span>comment :</span></dt><dd>Converted from Celsius to Kelvin.</dd></dl></div><div class='xr-var-data'><pre>array([[290.75, 290.85, 290.65, ..., 308.45, 309.65, 310.35]])</pre></div></li><li class='xr-var-item'><div class='xr-var-name'><span>pr</span></div><div class='xr-var-dims'>(station, time)</div><div class='xr-var-dtype'>float64</div><div class='xr-var-preview xr-preview'>0.0 0.0 0.0 0.0 ... 0.0 0.0 0.0 0.0</div><input id='attrs-dea1cfc6-7a1e-448e-b0c7-7a5fd9d161c5' class='xr-var-attrs-in' type='checkbox' ><label for='attrs-dea1cfc6-7a1e-448e-b0c7-7a5fd9d161c5' title='Show/Hide attributes'><svg class='icon xr-icon-file-text2'><use xlink:href='#icon-file-text2'></use></svg></label><input id='data-f7f8c1b3-5d1d-421a-8472-817af27410ba' class='xr-var-data-in' type='checkbox'><label for='data-f7f8c1b3-5d1d-421a-8472-817af27410ba' title='Show/Hide data repr'><svg class='icon xr-icon-database'><use xlink:href='#icon-database'></use></svg></label><div class='xr-var-attrs'><dl class='xr-attrs'><dt><span>long_name :</span></dt><dd>precipitation_accumulation</dd><dt><span>units :</span></dt><dd>mm/hour</dd><dt><span>ancillary_variables :</span></dt><dd>pr_qc, pr_eraqc</dd><dt><span>comment :</span></dt><dd>Accumulated precipitation.</dd></dl></div><div class='xr-var-data'><pre>array([[0., 0., 0., ..., 0., 0., 0.]])</pre></div></li><li class='xr-var-item'><div class='xr-var-name'><span>hurs</span></div><div class='xr-var-dims'>(station, time)</div><div class='xr-var-dtype'>float64</div><div class='xr-var-preview xr-preview'>9.0 7.0 7.0 7.0 ... 27.0 24.0 24.0</div><input id='attrs-6bc13899-362d-4403-bc7f-7da39e060954' class='xr-var-attrs-in' type='checkbox' ><label for='attrs-6bc13899-362d-4403-bc7f-7da39e060954' title='Show/Hide attributes'><svg class='icon xr-icon-file-text2'><use xlink:href='#icon-file-text2'></use></svg></label><input id='data-01b2b820-3313-4b96-8219-9d9d69515c99' class='xr-var-data-in' type='checkbox'><label for='data-01b2b820-3313-4b96-8219-9d9d69515c99' title='Show/Hide data repr'><svg class='icon xr-icon-database'><use xlink:href='#icon-database'></use></svg></label><div class='xr-var-attrs'><dl class='xr-attrs'><dt><span>long_name :</span></dt><dd>relative_humidity</dd><dt><span>standard_name :</span></dt><dd>relative_humidity</dd><dt><span>units :</span></dt><dd>percent</dd><dt><span>ancillary_variables :</span></dt><dd>hurs_qc, hurs_eraqc</dd></dl></div><div class='xr-var-data'><pre>array([[ 9.,  7.,  7., ..., 27., 24., 24.]])</pre></div></li><li class='xr-var-item'><div class='xr-var-name'><span>rsds</span></div><div class='xr-var-dims'>(station, time)</div><div class='xr-var-dtype'>float64</div><div class='xr-var-preview xr-preview'>0.0 -1.0 -1.0 ... 874.0 803.0 678.0</div><input id='attrs-7b0030cc-ce2c-4126-99c8-267970ee0209' class='xr-var-attrs-in' type='checkbox' ><label for='attrs-7b0030cc-ce2c-4126-99c8-267970ee0209' title='Show/Hide attributes'><svg class='icon xr-icon-file-text2'><use xlink:href='#icon-file-text2'></use></svg></label><input id='data-32a0552e-db82-4f2a-aa88-7e96216ea117' class='xr-var-data-in' type='checkbox'><label for='data-32a0552e-db82-4f2a-aa88-7e96216ea117' title='Show/Hide data repr'><svg class='icon xr-icon-database'><use xlink:href='#icon-database'></use></svg></label><div class='xr-var-attrs'><dl class='xr-attrs'><dt><span>long_name :</span></dt><dd>solar_radiation</dd><dt><span>standard_name :</span></dt><dd>surface_downwelling_shortwave_flux_in_air</dd><dt><span>units :</span></dt><dd>W m-2</dd><dt><span>ancillary_variables :</span></dt><dd>rsds_qc, rsds_eraqc</dd></dl></div><div class='xr-var-data'><pre>array([[  0.,  -1.,  -1., ..., 874., 803., 678.]])</pre></div></li><li class='xr-var-item'><div class='xr-var-name'><span>sfcWind</span></div><div class='xr-var-dims'>(station, time)</div><div class='xr-var-dtype'>float64</div><div class='xr-var-preview xr-preview'>0.8 0.7 1.0 0.9 ... 3.2 3.2 3.2 3.2</div><input id='attrs-659adbd0-2d24-42ac-93a5-756fdec8237b' class='xr-var-attrs-in' type='checkbox' ><label for='attrs-659adbd0-2d24-42ac-93a5-756fdec8237b' title='Show/Hide attributes'><svg class='icon xr-icon-file-text2'><use xlink:href='#icon-file-text2'></use></svg></label><input id='data-96327901-57ea-4afb-90a6-5ce778b2a08b' class='xr-var-data-in' type='checkbox'><label for='data-96327901-57ea-4afb-90a6-5ce778b2a08b' title='Show/Hide data repr'><svg class='icon xr-icon-database'><use xlink:href='#icon-database'></use></svg></label><div class='xr-var-attrs'><dl class='xr-attrs'><dt><span>long_name :</span></dt><dd>wind_speed</dd><dt><span>standard_name :</span></dt><dd>wind_speed</dd><dt><span>units :</span></dt><dd>m s-1</dd><dt><span>ancillary_variables :</span></dt><dd>sfcWind_qc, sfcWind_eraqc</dd></dl></div><div class='xr-var-data'><pre>array([[0.8, 0.7, 1. , ..., 3.2, 3.2, 3.2]])</pre></div></li><li class='xr-var-item'><div class='xr-var-name'><span>sfcWind_dir</span></div><div class='xr-var-dims'>(station, time)</div><div class='xr-var-dtype'>float64</div><div class='xr-var-preview xr-preview'>87.1 76.2 11.7 ... 191.0 188.0</div><input id='attrs-7210fd47-bb49-4b56-8477-c6749317be16' class='xr-var-attrs-in' type='checkbox' ><label for='attrs-7210fd47-bb49-4b56-8477-c6749317be16' title='Show/Hide attributes'><svg class='icon xr-icon-file-text2'><use xlink:href='#icon-file-text2'></use></svg></label><input id='data-1e7bd38f-d492-466b-a7ce-cbbae7dac6ec' class='xr-var-data-in' type='checkbox'><label for='data-1e7bd38f-d492-466b-a7ce-cbbae7dac6ec' title='Show/Hide data repr'><svg class='icon xr-icon-database'><use xlink:href='#icon-database'></use></svg></label><div class='xr-var-attrs'><dl class='xr-attrs'><dt><span>long_name :</span></dt><dd>wind_direction</dd><dt><span>standard_name :</span></dt><dd>wind_from_direction</dd><dt><span>units :</span></dt><dd>degrees_clockwise_from_north</dd><dt><span>ancillary_variables :</span></dt><dd>sfcWind_dir_qc, sfcWind_dir_eraqc</dd><dt><span>comment :</span></dt><dd>Wind direction is defined by the direction that the wind is coming from (i.e., a northerly wind originates in the north and blows towards the south).</dd></dl></div><div class='xr-var-data'><pre>array([[ 87.1,  76.2,  11.7, ..., 196. , 191. , 188. ]])</pre></div></li><li class='xr-var-item'><div class='xr-var-name'><span>pr_qc</span></div><div class='xr-var-dims'>(station, time)</div><div class='xr-var-dtype'>object</div><div class='xr-var-preview xr-preview'>&#x27;nan&#x27; &#x27;nan&#x27; &#x27;nan&#x27; ... &#x27;nan&#x27; &#x27;nan&#x27;</div><input id='attrs-4103d4ad-a2da-4cda-b3a7-3211dd464096' class='xr-var-attrs-in' type='checkbox' ><label for='attrs-4103d4ad-a2da-4cda-b3a7-3211dd464096' title='Show/Hide attributes'><svg class='icon xr-icon-file-text2'><use xlink:href='#icon-file-text2'></use></svg></label><input id='data-1b13a5fa-4ec8-4b01-ba74-1db4c5fce5d9' class='xr-var-data-in' type='checkbox'><label for='data-1b13a5fa-4ec8-4b01-ba74-1db4c5fce5d9' title='Show/Hide data repr'><svg class='icon xr-icon-database'><use xlink:href='#icon-database'></use></svg></label><div class='xr-var-attrs'><dl class='xr-attrs'><dt><span>flag_values :</span></dt><dd>M P Q R Y</dd><dt><span>flag_meanings :</span></dt><dd>See QA/QC csv for network.</dd></dl></div><div class='xr-var-data'><pre>array([[&#x27;nan&#x27;, &#x27;nan&#x27;, &#x27;nan&#x27;, ..., &#x27;nan&#x27;, &#x27;nan&#x27;, &#x27;nan&#x27;]], dtype=object)</pre></div></li><li class='xr-var-item'><div class='xr-var-name'><span>rsds_qc</span></div><div class='xr-var-dims'>(station, time)</div><div class='xr-var-dtype'>object</div><div class='xr-var-preview xr-preview'>&#x27;nan&#x27; &#x27;nan&#x27; &#x27;nan&#x27; ... &#x27;nan&#x27; &#x27;nan&#x27;</div><input id='attrs-5416e0de-93af-4525-9fa4-1ef33fc8caa4' class='xr-var-attrs-in' type='checkbox' ><label for='attrs-5416e0de-93af-4525-9fa4-1ef33fc8caa4' title='Show/Hide attributes'><svg class='icon xr-icon-file-text2'><use xlink:href='#icon-file-text2'></use></svg></label><input id='data-6ddf37f1-b87d-4ecf-a506-c7e0ba0f3316' class='xr-var-data-in' type='checkbox'><label for='data-6ddf37f1-b87d-4ecf-a506-c7e0ba0f3316' title='Show/Hide data repr'><svg class='icon xr-icon-database'><use xlink:href='#icon-database'></use></svg></label><div class='xr-var-attrs'><dl class='xr-attrs'><dt><span>flag_values :</span></dt><dd>M P R S Y</dd><dt><span>flag_meanings :</span></dt><dd>See QA/QC csv for network.</dd></dl></div><div class='xr-var-data'><pre>array([[&#x27;nan&#x27;, &#x27;nan&#x27;, &#x27;nan&#x27;, ..., &#x27;nan&#x27;, &#x27;nan&#x27;, &#x27;nan&#x27;]], dtype=object)</pre></div></li><li class='xr-var-item'><div class='xr-var-name'><span>pvp_derived_qc</span></div><div class='xr-var-dims'>(station, time)</div><div class='xr-var-dtype'>object</div><div class='xr-var-preview xr-preview'>&#x27;nan&#x27; &#x27;nan&#x27; &#x27;nan&#x27; ... &#x27;nan&#x27; &#x27;nan&#x27;</div><input id='attrs-5c322061-75cc-4f23-b4b9-36d5b658321a' class='xr-var-attrs-in' type='checkbox' ><label for='attrs-5c322061-75cc-4f23-b4b9-36d5b658321a' title='Show/Hide attributes'><svg class='icon xr-icon-file-text2'><use xlink:href='#icon-file-text2'></use></svg></label><input id='data-f854f476-f6eb-452e-b241-8c33fd5a3cb2' class='xr-var-data-in' type='checkbox'><label for='data-f854f476-f6eb-452e-b241-8c33fd5a3cb2' title='Show/Hide data repr'><svg class='icon xr-icon-database'><use xlink:href='#icon-database'></use></svg></label><div class='xr-var-attrs'><dl class='xr-attrs'><dt><span>flag_values :</span></dt><dd>M P Q R S Y</dd><dt><span>flag_meanings :</span></dt><dd>See QA/QC csv for network.</dd></dl></div><div class='xr-var-data'><pre>array([[&#x27;nan&#x27;, &#x27;nan&#x27;, &#x27;nan&#x27;, ..., &#x27;nan&#x27;, &#x27;nan&#x27;, &#x27;nan&#x27;]], dtype=object)</pre></div></li><li class='xr-var-item'><div class='xr-var-name'><span>tas_qc</span></div><div class='xr-var-dims'>(station, time)</div><div class='xr-var-dtype'>object</div><div class='xr-var-preview xr-preview'>&#x27;nan&#x27; &#x27;nan&#x27; &#x27;nan&#x27; ... &#x27;nan&#x27; &#x27;Y&#x27; &#x27;Y&#x27;</div><input id='attrs-d26f4d6b-2a95-4d02-af33-bc5503c244cf' class='xr-var-attrs-in' type='checkbox' ><label for='attrs-d26f4d6b-2a95-4d02-af33-bc5503c244cf' title='Show/Hide attributes'><svg class='icon xr-icon-file-text2'><use xlink:href='#icon-file-text2'></use></svg></label><input id='data-88e7405b-35b6-4fef-b450-7129e7bcaeea' class='xr-var-data-in' type='checkbox'><label for='data-88e7405b-35b6-4fef-b450-7129e7bcaeea' title='Show/Hide data repr'><svg class='icon xr-icon-database'><use xlink:href='#icon-database'></use></svg></label><div class='xr-var-attrs'><dl class='xr-attrs'><dt><span>flag_values :</span></dt><dd>M P R S Y</dd><dt><span>flag_meanings :</span></dt><dd>See QA/QC csv for network.</dd></dl></div><div class='xr-var-data'><pre>array([[&#x27;nan&#x27;, &#x27;nan&#x27;, &#x27;nan&#x27;, ..., &#x27;nan&#x27;, &#x27;Y&#x27;, &#x27;Y&#x27;]], dtype=object)</pre></div></li><li class='xr-var-item'><div class='xr-var-name'><span>hurs_qc</span></div><div class='xr-var-dims'>(station, time)</div><div class='xr-var-dtype'>object</div><div class='xr-var-preview xr-preview'>&#x27;nan&#x27; &#x27;nan&#x27; &#x27;nan&#x27; ... &#x27;nan&#x27; &#x27;Y&#x27; &#x27;Y&#x27;</div><input id='attrs-5a523f7c-fecd-4222-806a-ca328e351569' class='xr-var-attrs-in' type='checkbox' ><label for='attrs-5a523f7c-fecd-4222-806a-ca328e351569' title='Show/Hide attributes'><svg class='icon xr-icon-file-text2'><use xlink:href='#icon-file-text2'></use></svg></label><input id='data-d1c50c0e-8c7a-4e36-8115-1eff66fafb8e' class='xr-var-data-in' type='checkbox'><label for='data-d1c50c0e-8c7a-4e36-8115-1eff66fafb8e' title='Show/Hide data repr'><svg class='icon xr-icon-database'><use xlink:href='#icon-database'></use></svg></label><div class='xr-var-attrs'><dl class='xr-attrs'><dt><span>flag_values :</span></dt><dd>M Q R S Y</dd><dt><span>flag_meanings :</span></dt><dd>See QA/QC csv for network.</dd></dl></div><div class='xr-var-data'><pre>array([[&#x27;nan&#x27;, &#x27;nan&#x27;, &#x27;nan&#x27;, ..., &#x27;nan&#x27;, &#x27;Y&#x27;, &#x27;Y&#x27;]], dtype=object)</pre></div></li><li class='xr-var-item'><div class='xr-var-name'><span>tdps_derived_qc</span></div><div class='xr-var-dims'>(station, time)</div><div class='xr-var-dtype'>object</div><div class='xr-var-preview xr-preview'>&#x27;nan&#x27; &#x27;nan&#x27; &#x27;nan&#x27; ... &#x27;nan&#x27; &#x27;Y&#x27; &#x27;Y&#x27;</div><input id='attrs-14a296b2-7092-4df0-b1eb-a263931833a7' class='xr-var-attrs-in' type='checkbox' ><label for='attrs-14a296b2-7092-4df0-b1eb-a263931833a7' title='Show/Hide attributes'><svg class='icon xr-icon-file-text2'><use xlink:href='#icon-file-text2'></use></svg></label><input id='data-9c52b790-f72c-4078-8bc1-07e352461323' class='xr-var-data-in' type='checkbox'><label for='data-9c52b790-f72c-4078-8bc1-07e352461323' title='Show/Hide data repr'><svg class='icon xr-icon-database'><use xlink:href='#icon-database'></use></svg></label><div class='xr-var-attrs'><dl class='xr-attrs'><dt><span>flag_values :</span></dt><dd>M Q R S Y</dd><dt><span>flag_meanings :</span></dt><dd>See QA/QC csv for network.</dd></dl></div><div class='xr-var-data'><pre>array([[&#x27;nan&#x27;, &#x27;nan&#x27;, &#x27;nan&#x27;, ..., &#x27;nan&#x27;, &#x27;Y&#x27;, &#x27;Y&#x27;]], dtype=object)</pre></div></li><li class='xr-var-item'><div class='xr-var-name'><span>sfcWind_qc</span></div><div class='xr-var-dims'>(station, time)</div><div class='xr-var-dtype'>object</div><div class='xr-var-preview xr-preview'>&#x27;nan&#x27; &#x27;nan&#x27; &#x27;nan&#x27; ... &#x27;nan&#x27; &#x27;nan&#x27;</div><input id='attrs-7e314bd1-a08a-41fa-981a-bb8a1e319b6f' class='xr-var-attrs-in' type='checkbox' ><label for='attrs-7e314bd1-a08a-41fa-981a-bb8a1e319b6f' title='Show/Hide attributes'><svg class='icon xr-icon-file-text2'><use xlink:href='#icon-file-text2'></use></svg></label><input id='data-24d0b22c-f7e7-4e69-8470-c8107a8c5a17' class='xr-var-data-in' type='checkbox'><label for='data-24d0b22c-f7e7-4e69-8470-c8107a8c5a17' title='Show/Hide data repr'><svg class='icon xr-icon-database'><use xlink:href='#icon-database'></use></svg></label><div class='xr-var-attrs'><dl class='xr-attrs'><dt><span>flag_values :</span></dt><dd>I M P R S Y</dd><dt><span>flag_meanings :</span></dt><dd>See QA/QC csv for network.</dd></dl></div><div class='xr-var-data'><pre>array([[&#x27;nan&#x27;, &#x27;nan&#x27;, &#x27;nan&#x27;, ..., &#x27;nan&#x27;, &#x27;nan&#x27;, &#x27;nan&#x27;]], dtype=object)</pre></div></li><li class='xr-var-item'><div class='xr-var-name'><span>sfcWind_dir_qc</span></div><div class='xr-var-dims'>(station, time)</div><div class='xr-var-dtype'>object</div><div class='xr-var-preview xr-preview'>&#x27;nan&#x27; &#x27;nan&#x27; &#x27;nan&#x27; ... &#x27;nan&#x27; &#x27;nan&#x27;</div><input id='attrs-7e0d15b8-55fa-48d7-945d-7b34abb387fd' class='xr-var-attrs-in' type='checkbox' ><label for='attrs-7e0d15b8-55fa-48d7-945d-7b34abb387fd' title='Show/Hide attributes'><svg class='icon xr-icon-file-text2'><use xlink:href='#icon-file-text2'></use></svg></label><input id='data-e2fdb489-138d-4e22-aec8-72dfe4eed098' class='xr-var-data-in' type='checkbox'><label for='data-e2fdb489-138d-4e22-aec8-72dfe4eed098' title='Show/Hide data repr'><svg class='icon xr-icon-database'><use xlink:href='#icon-database'></use></svg></label><div class='xr-var-attrs'><dl class='xr-attrs'><dt><span>flag_values :</span></dt><dd>I M P Q R</dd><dt><span>flag_meanings :</span></dt><dd>See QA/QC csv for network.</dd></dl></div><div class='xr-var-data'><pre>array([[&#x27;nan&#x27;, &#x27;nan&#x27;, &#x27;nan&#x27;, ..., &#x27;nan&#x27;, &#x27;nan&#x27;, &#x27;nan&#x27;]], dtype=object)</pre></div></li><li class='xr-var-item'><div class='xr-var-name'><span>elevation</span></div><div class='xr-var-dims'>(station, time)</div><div class='xr-var-dtype'>float64</div><div class='xr-var-preview xr-preview'>125.0 125.0 125.0 ... 125.0 125.0</div><input id='attrs-0cc5e4dd-95f4-4c73-af4b-fd6c2b1dbbd1' class='xr-var-attrs-in' type='checkbox' ><label for='attrs-0cc5e4dd-95f4-4c73-af4b-fd6c2b1dbbd1' title='Show/Hide attributes'><svg class='icon xr-icon-file-text2'><use xlink:href='#icon-file-text2'></use></svg></label><input id='data-b26aeb2d-5cf4-4199-a3fd-8eeded610e91' class='xr-var-data-in' type='checkbox'><label for='data-b26aeb2d-5cf4-4199-a3fd-8eeded610e91' title='Show/Hide data repr'><svg class='icon xr-icon-database'><use xlink:href='#icon-database'></use></svg></label><div class='xr-var-attrs'><dl class='xr-attrs'><dt><span>standard_name :</span></dt><dd>height_above_mean_sea_level</dd><dt><span>long_name :</span></dt><dd>station_elevation</dd><dt><span>units :</span></dt><dd>meters</dd><dt><span>positive :</span></dt><dd>up</dd><dt><span>comment :</span></dt><dd>Converted from feet to meters.</dd><dt><span>ancillary_variables :</span></dt><dd>elevation_eraqc</dd></dl></div><div class='xr-var-data'><pre>array([[124.968, 124.968, 124.968, ..., 124.968, 124.968, 124.968]])</pre></div></li><li class='xr-var-item'><div class='xr-var-name'><span>tdps_derived</span></div><div class='xr-var-dims'>(station, time)</div><div class='xr-var-dtype'>float64</div><div class='xr-var-preview xr-preview'>256.9 255.1 254.0 ... 285.8 286.5</div><input id='attrs-aabbb220-74be-44c2-8a8b-0e719acb6618' class='xr-var-attrs-in' type='checkbox' ><label for='attrs-aabbb220-74be-44c2-8a8b-0e719acb6618' title='Show/Hide attributes'><svg class='icon xr-icon-file-text2'><use xlink:href='#icon-file-text2'></use></svg></label><input id='data-127f137d-4b5b-4589-bdbf-85a8c9c728cc' class='xr-var-data-in' type='checkbox'><label for='data-127f137d-4b5b-4589-bdbf-85a8c9c728cc' title='Show/Hide data repr'><svg class='icon xr-icon-database'><use xlink:href='#icon-database'></use></svg></label><div class='xr-var-attrs'><dl class='xr-attrs'><dt><span>long_name :</span></dt><dd>dew_point_temperature</dd><dt><span>standard_name :</span></dt><dd>dew_point_temperature</dd><dt><span>units :</span></dt><dd>degree_Kelvin</dd><dt><span>ancillary_variables :</span></dt><dd>tdps_derived_qc, tdps_derived_eraqc</dd><dt><span>comment :</span></dt><dd>Derived by CIMIS from vapor pressure and air temperature. Converted from Celsius to Kelvin.</dd></dl></div><div class='xr-var-data'><pre>array([[256.95, 255.15, 254.05, ..., 286.85, 285.75, 286.55]])</pre></div></li><li class='xr-var-item'><div class='xr-var-name'><span>pvp_derived</span></div><div class='xr-var-dims'>(station, time)</div><div class='xr-var-dtype'>float64</div><div class='xr-var-preview xr-preview'>200.0 100.0 ... 1.5e+03 1.5e+03</div><input id='attrs-01504522-b6c1-4829-9d3c-3e7b7709e708' class='xr-var-attrs-in' type='checkbox' ><label for='attrs-01504522-b6c1-4829-9d3c-3e7b7709e708' title='Show/Hide attributes'><svg class='icon xr-icon-file-text2'><use xlink:href='#icon-file-text2'></use></svg></label><input id='data-97790147-2369-45c5-9e8f-23e3958e4f24' class='xr-var-data-in' type='checkbox'><label for='data-97790147-2369-45c5-9e8f-23e3958e4f24' title='Show/Hide data repr'><svg class='icon xr-icon-database'><use xlink:href='#icon-database'></use></svg></label><div class='xr-var-attrs'><dl class='xr-attrs'><dt><span>long_name :</span></dt><dd>partial_vapor_pressure</dd><dt><span>standard_name :</span></dt><dd>water_vapor_partial_pressure_in_air</dd><dt><span>units :</span></dt><dd>Pa</dd><dt><span>ancillary_variables :</span></dt><dd>pvp_qc, pvp_derived_eraqc</dd><dt><span>comment :</span></dt><dd>Derived by CIMIS from relative humidity and air temperature measurements. Converted from kPa to Pa.</dd></dl></div><div class='xr-var-data'><pre>array([[ 200.,  100.,  100., ..., 1600., 1500., 1500.]])</pre></div></li><li class='xr-var-item'><div class='xr-var-name'><span>lat</span></div><div class='xr-var-dims'>(station, time)</div><div class='xr-var-dtype'>float64</div><div class='xr-var-preview xr-preview'>33.69 33.69 33.69 ... 33.69 33.69</div><input id='attrs-e9e8248b-e62e-4316-a6ca-0f0817d899b3' class='xr-var-attrs-in' type='checkbox' disabled><label for='attrs-e9e8248b-e62e-4316-a6ca-0f0817d899b3' title='Show/Hide attributes'><svg class='icon xr-icon-file-text2'><use xlink:href='#icon-file-text2'></use></svg></label><input id='data-5d7acdd6-60ba-40b9-ad55-0aacd11cc457' class='xr-var-data-in' type='checkbox'><label for='data-5d7acdd6-60ba-40b9-ad55-0aacd11cc457' title='Show/Hide data repr'><svg class='icon xr-icon-database'><use xlink:href='#icon-database'></use></svg></label><div class='xr-var-attrs'><dl class='xr-attrs'></dl></div><div class='xr-var-data'><pre>array([[33.68845, 33.68845, 33.68845, ..., 33.68845, 33.68845, 33.68845]])</pre></div></li><li class='xr-var-item'><div class='xr-var-name'><span>lon</span></div><div class='xr-var-dims'>(station, time)</div><div class='xr-var-dtype'>float64</div><div class='xr-var-preview xr-preview'>-117.7 -117.7 ... -117.7 -117.7</div><input id='attrs-43832583-9f4c-4f75-95c5-4c93fed7f8df' class='xr-var-attrs-in' type='checkbox' disabled><label for='attrs-43832583-9f4c-4f75-95c5-4c93fed7f8df' title='Show/Hide attributes'><svg class='icon xr-icon-file-text2'><use xlink:href='#icon-file-text2'></use></svg></label><input id='data-dfa98f78-d4a6-4ac5-9e09-f03d0b3c7765' class='xr-var-data-in' type='checkbox'><label for='data-dfa98f78-d4a6-4ac5-9e09-f03d0b3c7765' title='Show/Hide data repr'><svg class='icon xr-icon-database'><use xlink:href='#icon-database'></use></svg></label><div class='xr-var-attrs'><dl class='xr-attrs'></dl></div><div class='xr-var-data'><pre>array([[-117.72117778, -117.72117778, -117.72117778, ..., -117.72117778,\n",
       "        -117.72117778, -117.72117778]])</pre></div></li><li class='xr-var-item'><div class='xr-var-name'><span>tas_eraqc</span></div><div class='xr-var-dims'>(station, time)</div><div class='xr-var-dtype'>float64</div><div class='xr-var-preview xr-preview'>nan nan nan nan ... nan nan nan nan</div><input id='attrs-dcdab9fc-2243-4977-8ac7-21dd0975cd28' class='xr-var-attrs-in' type='checkbox' disabled><label for='attrs-dcdab9fc-2243-4977-8ac7-21dd0975cd28' title='Show/Hide attributes'><svg class='icon xr-icon-file-text2'><use xlink:href='#icon-file-text2'></use></svg></label><input id='data-8127163d-fc78-46db-a78c-68f4100a5a9e' class='xr-var-data-in' type='checkbox'><label for='data-8127163d-fc78-46db-a78c-68f4100a5a9e' title='Show/Hide data repr'><svg class='icon xr-icon-database'><use xlink:href='#icon-database'></use></svg></label><div class='xr-var-attrs'><dl class='xr-attrs'></dl></div><div class='xr-var-data'><pre>array([[nan, nan, nan, ..., nan, nan, nan]])</pre></div></li><li class='xr-var-item'><div class='xr-var-name'><span>pr_eraqc</span></div><div class='xr-var-dims'>(station, time)</div><div class='xr-var-dtype'>float64</div><div class='xr-var-preview xr-preview'>nan nan nan nan ... nan nan nan nan</div><input id='attrs-d6b38464-17c3-49b9-9e77-bd62befa094f' class='xr-var-attrs-in' type='checkbox' disabled><label for='attrs-d6b38464-17c3-49b9-9e77-bd62befa094f' title='Show/Hide attributes'><svg class='icon xr-icon-file-text2'><use xlink:href='#icon-file-text2'></use></svg></label><input id='data-5525c75d-7564-4439-a26d-351688205bba' class='xr-var-data-in' type='checkbox'><label for='data-5525c75d-7564-4439-a26d-351688205bba' title='Show/Hide data repr'><svg class='icon xr-icon-database'><use xlink:href='#icon-database'></use></svg></label><div class='xr-var-attrs'><dl class='xr-attrs'></dl></div><div class='xr-var-data'><pre>array([[nan, nan, nan, ..., nan, nan, nan]])</pre></div></li><li class='xr-var-item'><div class='xr-var-name'><span>hurs_eraqc</span></div><div class='xr-var-dims'>(station, time)</div><div class='xr-var-dtype'>float64</div><div class='xr-var-preview xr-preview'>nan nan nan nan ... nan nan nan nan</div><input id='attrs-31baec44-6672-423d-9ef3-dbd18e18fd3f' class='xr-var-attrs-in' type='checkbox' disabled><label for='attrs-31baec44-6672-423d-9ef3-dbd18e18fd3f' title='Show/Hide attributes'><svg class='icon xr-icon-file-text2'><use xlink:href='#icon-file-text2'></use></svg></label><input id='data-eeeee121-2c67-462b-8fca-de3e64bc7d44' class='xr-var-data-in' type='checkbox'><label for='data-eeeee121-2c67-462b-8fca-de3e64bc7d44' title='Show/Hide data repr'><svg class='icon xr-icon-database'><use xlink:href='#icon-database'></use></svg></label><div class='xr-var-attrs'><dl class='xr-attrs'></dl></div><div class='xr-var-data'><pre>array([[nan, nan, nan, ..., nan, nan, nan]])</pre></div></li><li class='xr-var-item'><div class='xr-var-name'><span>rsds_eraqc</span></div><div class='xr-var-dims'>(station, time)</div><div class='xr-var-dtype'>float64</div><div class='xr-var-preview xr-preview'>nan nan nan nan ... nan nan nan nan</div><input id='attrs-188f4bee-72d3-4d09-a9d1-4a3b15ca3eeb' class='xr-var-attrs-in' type='checkbox' disabled><label for='attrs-188f4bee-72d3-4d09-a9d1-4a3b15ca3eeb' title='Show/Hide attributes'><svg class='icon xr-icon-file-text2'><use xlink:href='#icon-file-text2'></use></svg></label><input id='data-136b879a-3729-4069-83d1-e9cb7c24a611' class='xr-var-data-in' type='checkbox'><label for='data-136b879a-3729-4069-83d1-e9cb7c24a611' title='Show/Hide data repr'><svg class='icon xr-icon-database'><use xlink:href='#icon-database'></use></svg></label><div class='xr-var-attrs'><dl class='xr-attrs'></dl></div><div class='xr-var-data'><pre>array([[nan, nan, nan, ..., nan, nan, nan]])</pre></div></li><li class='xr-var-item'><div class='xr-var-name'><span>sfcWind_eraqc</span></div><div class='xr-var-dims'>(station, time)</div><div class='xr-var-dtype'>float64</div><div class='xr-var-preview xr-preview'>nan nan nan nan ... nan nan nan nan</div><input id='attrs-d1ae939d-c864-43d3-ba86-70f0619d96ce' class='xr-var-attrs-in' type='checkbox' disabled><label for='attrs-d1ae939d-c864-43d3-ba86-70f0619d96ce' title='Show/Hide attributes'><svg class='icon xr-icon-file-text2'><use xlink:href='#icon-file-text2'></use></svg></label><input id='data-425136c7-d22c-4c94-895b-ba31873b6132' class='xr-var-data-in' type='checkbox'><label for='data-425136c7-d22c-4c94-895b-ba31873b6132' title='Show/Hide data repr'><svg class='icon xr-icon-database'><use xlink:href='#icon-database'></use></svg></label><div class='xr-var-attrs'><dl class='xr-attrs'></dl></div><div class='xr-var-data'><pre>array([[nan, nan, nan, ..., nan, nan, nan]])</pre></div></li><li class='xr-var-item'><div class='xr-var-name'><span>sfcWind_dir_eraqc</span></div><div class='xr-var-dims'>(station, time)</div><div class='xr-var-dtype'>float64</div><div class='xr-var-preview xr-preview'>nan nan nan nan ... nan nan nan nan</div><input id='attrs-a4845591-2e4d-4e65-a32c-68be866c343b' class='xr-var-attrs-in' type='checkbox' disabled><label for='attrs-a4845591-2e4d-4e65-a32c-68be866c343b' title='Show/Hide attributes'><svg class='icon xr-icon-file-text2'><use xlink:href='#icon-file-text2'></use></svg></label><input id='data-f7bcbc18-1ffd-49aa-94b9-f15dc570681c' class='xr-var-data-in' type='checkbox'><label for='data-f7bcbc18-1ffd-49aa-94b9-f15dc570681c' title='Show/Hide data repr'><svg class='icon xr-icon-database'><use xlink:href='#icon-database'></use></svg></label><div class='xr-var-attrs'><dl class='xr-attrs'></dl></div><div class='xr-var-data'><pre>array([[nan, nan, nan, ..., nan, nan, nan]])</pre></div></li><li class='xr-var-item'><div class='xr-var-name'><span>elevation_eraqc</span></div><div class='xr-var-dims'>(station, time)</div><div class='xr-var-dtype'>float64</div><div class='xr-var-preview xr-preview'>nan nan nan nan ... nan nan nan nan</div><input id='attrs-5c4bccd1-112b-46ad-8087-7057d569dab0' class='xr-var-attrs-in' type='checkbox' disabled><label for='attrs-5c4bccd1-112b-46ad-8087-7057d569dab0' title='Show/Hide attributes'><svg class='icon xr-icon-file-text2'><use xlink:href='#icon-file-text2'></use></svg></label><input id='data-d7638bb4-d237-43f2-a69a-edecf2030760' class='xr-var-data-in' type='checkbox'><label for='data-d7638bb4-d237-43f2-a69a-edecf2030760' title='Show/Hide data repr'><svg class='icon xr-icon-database'><use xlink:href='#icon-database'></use></svg></label><div class='xr-var-attrs'><dl class='xr-attrs'></dl></div><div class='xr-var-data'><pre>array([[nan, nan, nan, ..., nan, nan, nan]])</pre></div></li><li class='xr-var-item'><div class='xr-var-name'><span>tdps_derived_eraqc</span></div><div class='xr-var-dims'>(station, time)</div><div class='xr-var-dtype'>float64</div><div class='xr-var-preview xr-preview'>nan nan nan nan ... nan nan nan nan</div><input id='attrs-67ba69f1-0070-4d72-bec4-ebbe6b006e97' class='xr-var-attrs-in' type='checkbox' disabled><label for='attrs-67ba69f1-0070-4d72-bec4-ebbe6b006e97' title='Show/Hide attributes'><svg class='icon xr-icon-file-text2'><use xlink:href='#icon-file-text2'></use></svg></label><input id='data-bb958028-4b8a-4e53-a0c5-d80f481198c8' class='xr-var-data-in' type='checkbox'><label for='data-bb958028-4b8a-4e53-a0c5-d80f481198c8' title='Show/Hide data repr'><svg class='icon xr-icon-database'><use xlink:href='#icon-database'></use></svg></label><div class='xr-var-attrs'><dl class='xr-attrs'></dl></div><div class='xr-var-data'><pre>array([[nan, nan, nan, ..., nan, nan, nan]])</pre></div></li><li class='xr-var-item'><div class='xr-var-name'><span>pvp_derived_eraqc</span></div><div class='xr-var-dims'>(station, time)</div><div class='xr-var-dtype'>float64</div><div class='xr-var-preview xr-preview'>nan nan nan nan ... nan nan nan nan</div><input id='attrs-6e6eaccc-b89c-4c2f-8ff2-e51e4b1c7b77' class='xr-var-attrs-in' type='checkbox' disabled><label for='attrs-6e6eaccc-b89c-4c2f-8ff2-e51e4b1c7b77' title='Show/Hide attributes'><svg class='icon xr-icon-file-text2'><use xlink:href='#icon-file-text2'></use></svg></label><input id='data-5888dd11-59f2-4554-a583-dddb7da25799' class='xr-var-data-in' type='checkbox'><label for='data-5888dd11-59f2-4554-a583-dddb7da25799' title='Show/Hide data repr'><svg class='icon xr-icon-database'><use xlink:href='#icon-database'></use></svg></label><div class='xr-var-attrs'><dl class='xr-attrs'></dl></div><div class='xr-var-data'><pre>array([[nan, nan, nan, ..., nan, nan, nan]])</pre></div></li><li class='xr-var-item'><div class='xr-var-name'><span>anemometer_height_m</span></div><div class='xr-var-dims'>(station, time)</div><div class='xr-var-dtype'>float64</div><div class='xr-var-preview xr-preview'>2.0 2.0 2.0 2.0 ... 2.0 2.0 2.0 2.0</div><input id='attrs-f3d52f68-2455-430b-875a-0d3ba5034316' class='xr-var-attrs-in' type='checkbox' disabled><label for='attrs-f3d52f68-2455-430b-875a-0d3ba5034316' title='Show/Hide attributes'><svg class='icon xr-icon-file-text2'><use xlink:href='#icon-file-text2'></use></svg></label><input id='data-8b8a671e-fc69-426c-8621-6d7c1f0b6d5e' class='xr-var-data-in' type='checkbox'><label for='data-8b8a671e-fc69-426c-8621-6d7c1f0b6d5e' title='Show/Hide data repr'><svg class='icon xr-icon-database'><use xlink:href='#icon-database'></use></svg></label><div class='xr-var-attrs'><dl class='xr-attrs'></dl></div><div class='xr-var-data'><pre>array([[2., 2., 2., ..., 2., 2., 2.]])</pre></div></li><li class='xr-var-item'><div class='xr-var-name'><span>thermometer_height_m</span></div><div class='xr-var-dims'>(station, time)</div><div class='xr-var-dtype'>float64</div><div class='xr-var-preview xr-preview'>1.5 1.5 1.5 1.5 ... 1.5 1.5 1.5 1.5</div><input id='attrs-84ca4db5-34e3-4552-b98c-9b462846fcc6' class='xr-var-attrs-in' type='checkbox' disabled><label for='attrs-84ca4db5-34e3-4552-b98c-9b462846fcc6' title='Show/Hide attributes'><svg class='icon xr-icon-file-text2'><use xlink:href='#icon-file-text2'></use></svg></label><input id='data-0bf32dde-26e1-484c-a0d1-588b9dfa76a4' class='xr-var-data-in' type='checkbox'><label for='data-0bf32dde-26e1-484c-a0d1-588b9dfa76a4' title='Show/Hide data repr'><svg class='icon xr-icon-database'><use xlink:href='#icon-database'></use></svg></label><div class='xr-var-attrs'><dl class='xr-attrs'></dl></div><div class='xr-var-data'><pre>array([[1.5, 1.5, 1.5, ..., 1.5, 1.5, 1.5]])</pre></div></li></ul></div></li><li class='xr-section-item'><input id='section-98330c0c-0f38-4845-a6ae-694dd225c609' class='xr-section-summary-in' type='checkbox'  ><label for='section-98330c0c-0f38-4845-a6ae-694dd225c609' class='xr-section-summary' >Attributes: <span>(16)</span></label><div class='xr-section-inline-details'></div><div class='xr-section-details'><dl class='xr-attrs'><dt><span>title :</span></dt><dd>CIMIS quality controlled</dd><dt><span>institution :</span></dt><dd>Eagle Rock Analytics / Cal Adapt</dd><dt><span>source :</span></dt><dd></dd><dt><span>history :</span></dt><dd>CIMIS_clean.py script run on 02-13-2023, 22:25:54 UTC \n",
       "ALLNETWORKS_qaqc.py script run on 08-07-2024, 20:52:09 UTC</dd><dt><span>comment :</span></dt><dd>Intermediate data product: may not have been subject to any cleaning or QA/QC processing \n",
       "An intermediate data product: subject to cleaning but may not be subject to full QA/QC processing.</dd><dt><span>license :</span></dt><dd></dd><dt><span>citation :</span></dt><dd></dd><dt><span>disclaimer :</span></dt><dd>This document was prepared as a result of work sponsored by the California Energy Commission (PIR-19-006). It does not necessarily represent the views of the Energy Commission, its employees, or the State of California. Neither the Commission, the State of California, nor the Commission&#x27;s employees, contractors, or subcontractors makes any warranty, express or implied, or assumes any legal liability for the information in this document; nor does any party represent that the use of this information will not infringe upon privately owned rights. This document has not been approved or disapproved by the Commission, nor has the Commission passed upon the accuracy of the information in this document.</dd><dt><span>station_name :</span></dt><dd>Irvine</dd><dt><span>pyranometer_height_m :</span></dt><dd>2.0</dd><dt><span>wind_vane_height_m :</span></dt><dd>2.0</dd><dt><span>anemometer_height_m :</span></dt><dd>2.0</dd><dt><span>thermometer_height_m :</span></dt><dd>1.5</dd><dt><span>humidity_height_m :</span></dt><dd>1.5</dd><dt><span>rain_gauge_height_m :</span></dt><dd>1.0</dd><dt><span>raw_files_merged :</span></dt><dd>47</dd></dl></div></li></ul></div></div>"
      ],
      "text/plain": [
       "<xarray.Dataset>\n",
       "Dimensions:               (station: 1, time: 305943)\n",
       "Coordinates:\n",
       "  * station               (station) object 'CIMIS_75'\n",
       "  * time                  (time) datetime64[ns] 1987-10-07T09:00:00 ... 2022-...\n",
       "Data variables: (12/30)\n",
       "    tas                   (station, time) float64 290.8 290.8 ... 309.6 310.3\n",
       "    pr                    (station, time) float64 0.0 0.0 0.0 ... 0.0 0.0 0.0\n",
       "    hurs                  (station, time) float64 9.0 7.0 7.0 ... 27.0 24.0 24.0\n",
       "    rsds                  (station, time) float64 0.0 -1.0 -1.0 ... 803.0 678.0\n",
       "    sfcWind               (station, time) float64 0.8 0.7 1.0 ... 3.2 3.2 3.2\n",
       "    sfcWind_dir           (station, time) float64 87.1 76.2 11.7 ... 191.0 188.0\n",
       "    ...                    ...\n",
       "    sfcWind_dir_eraqc     (station, time) float64 nan nan nan ... nan nan nan\n",
       "    elevation_eraqc       (station, time) float64 nan nan nan ... nan nan nan\n",
       "    tdps_derived_eraqc    (station, time) float64 nan nan nan ... nan nan nan\n",
       "    pvp_derived_eraqc     (station, time) float64 nan nan nan ... nan nan nan\n",
       "    anemometer_height_m   (station, time) float64 2.0 2.0 2.0 ... 2.0 2.0 2.0\n",
       "    thermometer_height_m  (station, time) float64 1.5 1.5 1.5 ... 1.5 1.5 1.5\n",
       "Attributes: (12/16)\n",
       "    title:                 CIMIS quality controlled\n",
       "    institution:           Eagle Rock Analytics / Cal Adapt\n",
       "    source:                \n",
       "    history:               CIMIS_clean.py script run on 02-13-2023, 22:25:54 ...\n",
       "    comment:               Intermediate data product: may not have been subje...\n",
       "    license:               \n",
       "    ...                    ...\n",
       "    wind_vane_height_m:    2.0\n",
       "    anemometer_height_m:   2.0\n",
       "    thermometer_height_m:  1.5\n",
       "    humidity_height_m:     1.5\n",
       "    rain_gauge_height_m:   1.0\n",
       "    raw_files_merged:      47"
      ]
     },
     "execution_count": 107,
     "metadata": {},
     "output_type": "execute_result"
    }
   ],
   "source": [
    "%%time\n",
    "ds = download_nc_from_aws(specific_station)\n",
    "ds"
   ]
  },
  {
   "cell_type": "code",
   "execution_count": 134,
   "id": "b307539c-9321-42c2-9400-4e44657deadb",
   "metadata": {
    "execution": {
     "iopub.execute_input": "2024-10-01T20:25:24.053120Z",
     "iopub.status.busy": "2024-10-01T20:25:24.052315Z",
     "iopub.status.idle": "2024-10-01T20:25:24.818189Z",
     "shell.execute_reply": "2024-10-01T20:25:24.817795Z",
     "shell.execute_reply.started": "2024-10-01T20:25:24.053079Z"
    }
   },
   "outputs": [
    {
     "name": "stdout",
     "output_type": "stream",
     "text": [
      "era_qc existing variables:\n",
      "['tas_eraqc', 'pr_eraqc', 'hurs_eraqc', 'rsds_eraqc', 'sfcWind_eraqc', 'sfcWind_dir_eraqc', 'elevation_eraqc', 'tdps_derived_eraqc', 'pvp_derived_eraqc']\n",
      "0 created era_qc variables\n",
      "CPU times: user 320 ms, sys: 111 ms, total: 431 ms\n",
      "Wall time: 488 ms\n"
     ]
    },
    {
     "data": {
      "text/html": [
       "<div>\n",
       "<style scoped>\n",
       "    .dataframe tbody tr th:only-of-type {\n",
       "        vertical-align: middle;\n",
       "    }\n",
       "\n",
       "    .dataframe tbody tr th {\n",
       "        vertical-align: top;\n",
       "    }\n",
       "\n",
       "    .dataframe thead th {\n",
       "        text-align: right;\n",
       "    }\n",
       "</style>\n",
       "<table border=\"1\" class=\"dataframe\">\n",
       "  <thead>\n",
       "    <tr style=\"text-align: right;\">\n",
       "      <th></th>\n",
       "      <th>time</th>\n",
       "      <th>tas</th>\n",
       "      <th>pr</th>\n",
       "      <th>hurs</th>\n",
       "      <th>rsds</th>\n",
       "      <th>sfcWind</th>\n",
       "      <th>sfcWind_dir</th>\n",
       "      <th>pr_qc</th>\n",
       "      <th>rsds_qc</th>\n",
       "      <th>pvp_derived_qc</th>\n",
       "      <th>...</th>\n",
       "      <th>tdps_derived_eraqc</th>\n",
       "      <th>pvp_derived_eraqc</th>\n",
       "      <th>anemometer_height_m</th>\n",
       "      <th>thermometer_height_m</th>\n",
       "      <th>station</th>\n",
       "      <th>hour</th>\n",
       "      <th>day</th>\n",
       "      <th>month</th>\n",
       "      <th>year</th>\n",
       "      <th>date</th>\n",
       "    </tr>\n",
       "  </thead>\n",
       "  <tbody>\n",
       "    <tr>\n",
       "      <th>0</th>\n",
       "      <td>1987-10-07 09:00:00</td>\n",
       "      <td>290.75</td>\n",
       "      <td>0.0</td>\n",
       "      <td>9.0</td>\n",
       "      <td>0.0</td>\n",
       "      <td>0.8</td>\n",
       "      <td>87.1</td>\n",
       "      <td>nan</td>\n",
       "      <td>nan</td>\n",
       "      <td>nan</td>\n",
       "      <td>...</td>\n",
       "      <td>NaN</td>\n",
       "      <td>NaN</td>\n",
       "      <td>2.0</td>\n",
       "      <td>1.5</td>\n",
       "      <td>CIMIS_75</td>\n",
       "      <td>9</td>\n",
       "      <td>7</td>\n",
       "      <td>10</td>\n",
       "      <td>1987</td>\n",
       "      <td>1987-10-07</td>\n",
       "    </tr>\n",
       "    <tr>\n",
       "      <th>1</th>\n",
       "      <td>1987-10-07 10:00:00</td>\n",
       "      <td>290.85</td>\n",
       "      <td>0.0</td>\n",
       "      <td>7.0</td>\n",
       "      <td>-1.0</td>\n",
       "      <td>0.7</td>\n",
       "      <td>76.2</td>\n",
       "      <td>nan</td>\n",
       "      <td>nan</td>\n",
       "      <td>nan</td>\n",
       "      <td>...</td>\n",
       "      <td>NaN</td>\n",
       "      <td>NaN</td>\n",
       "      <td>2.0</td>\n",
       "      <td>1.5</td>\n",
       "      <td>CIMIS_75</td>\n",
       "      <td>10</td>\n",
       "      <td>7</td>\n",
       "      <td>10</td>\n",
       "      <td>1987</td>\n",
       "      <td>1987-10-07</td>\n",
       "    </tr>\n",
       "    <tr>\n",
       "      <th>2</th>\n",
       "      <td>1987-10-07 11:00:00</td>\n",
       "      <td>290.65</td>\n",
       "      <td>0.0</td>\n",
       "      <td>7.0</td>\n",
       "      <td>-1.0</td>\n",
       "      <td>1.0</td>\n",
       "      <td>11.7</td>\n",
       "      <td>nan</td>\n",
       "      <td>nan</td>\n",
       "      <td>nan</td>\n",
       "      <td>...</td>\n",
       "      <td>NaN</td>\n",
       "      <td>NaN</td>\n",
       "      <td>2.0</td>\n",
       "      <td>1.5</td>\n",
       "      <td>CIMIS_75</td>\n",
       "      <td>11</td>\n",
       "      <td>7</td>\n",
       "      <td>10</td>\n",
       "      <td>1987</td>\n",
       "      <td>1987-10-07</td>\n",
       "    </tr>\n",
       "  </tbody>\n",
       "</table>\n",
       "<p>3 rows × 37 columns</p>\n",
       "</div>"
      ],
      "text/plain": [
       "                 time     tas   pr  hurs  rsds  sfcWind  sfcWind_dir pr_qc  \\\n",
       "0 1987-10-07 09:00:00  290.75  0.0   9.0   0.0      0.8         87.1   nan   \n",
       "1 1987-10-07 10:00:00  290.85  0.0   7.0  -1.0      0.7         76.2   nan   \n",
       "2 1987-10-07 11:00:00  290.65  0.0   7.0  -1.0      1.0         11.7   nan   \n",
       "\n",
       "  rsds_qc pvp_derived_qc  ... tdps_derived_eraqc pvp_derived_eraqc  \\\n",
       "0     nan            nan  ...                NaN               NaN   \n",
       "1     nan            nan  ...                NaN               NaN   \n",
       "2     nan            nan  ...                NaN               NaN   \n",
       "\n",
       "  anemometer_height_m thermometer_height_m   station  hour  day  month  year  \\\n",
       "0                 2.0                  1.5  CIMIS_75     9    7     10  1987   \n",
       "1                 2.0                  1.5  CIMIS_75    10    7     10  1987   \n",
       "2                 2.0                  1.5  CIMIS_75    11    7     10  1987   \n",
       "\n",
       "         date  \n",
       "0  1987-10-07  \n",
       "1  1987-10-07  \n",
       "2  1987-10-07  \n",
       "\n",
       "[3 rows x 37 columns]"
      ]
     },
     "execution_count": 134,
     "metadata": {},
     "output_type": "execute_result"
    }
   ],
   "source": [
    "%%time\n",
    "df, MultiIndex, attrs, var_attrs, era_qc_vars = qaqc_ds_to_df(ds)\n",
    "df.head(3)"
   ]
  },
  {
   "cell_type": "code",
   "execution_count": 121,
   "id": "886a2fba-e3a5-4e46-9de2-c76b596a6903",
   "metadata": {
    "execution": {
     "iopub.execute_input": "2024-10-01T20:14:34.082800Z",
     "iopub.status.busy": "2024-10-01T20:14:34.082548Z",
     "iopub.status.idle": "2024-10-01T20:14:34.249535Z",
     "shell.execute_reply": "2024-10-01T20:14:34.249088Z",
     "shell.execute_reply.started": "2024-10-01T20:14:34.082787Z"
    }
   },
   "outputs": [
    {
     "data": {
      "text/plain": [
       "[<matplotlib.lines.Line2D at 0x32957ceb0>]"
      ]
     },
     "execution_count": 121,
     "metadata": {},
     "output_type": "execute_result"
    },
    {
     "data": {
      "image/png": "[encoded data removed]",
      "text/plain": [
       "<Figure size 640x480 with 1 Axes>"
      ]
     },
     "metadata": {},
     "output_type": "display_data"
    }
   ],
   "source": [
    "ds.tas_eraqc.plot(marker=\".\", lw=0)"
   ]
  },
  {
   "cell_type": "code",
   "execution_count": 122,
   "id": "27d28ea4-ab39-4d3a-bf49-0a657c2bd481",
   "metadata": {
    "execution": {
     "iopub.execute_input": "2024-10-01T20:14:38.582644Z",
     "iopub.status.busy": "2024-10-01T20:14:38.582551Z",
     "iopub.status.idle": "2024-10-01T20:14:38.672567Z",
     "shell.execute_reply": "2024-10-01T20:14:38.672219Z",
     "shell.execute_reply.started": "2024-10-01T20:14:38.582635Z"
    }
   },
   "outputs": [
    {
     "data": {
      "text/plain": [
       "<AxesSubplot:>"
      ]
     },
     "execution_count": 122,
     "metadata": {},
     "output_type": "execute_result"
    },
    {
     "data": {
      "image/png": "[encoded data removed]",
      "text/plain": [
       "<Figure size 640x480 with 1 Axes>"
      ]
     },
     "metadata": {},
     "output_type": "display_data"
    }
   ],
   "source": [
    "df.tas_eraqc.plot(marker=\".\", lw=0)"
   ]
  },
  {
   "cell_type": "code",
   "execution_count": 24,
   "id": "1a948a14-0098-43fe-b19a-b28b690aea6a",
   "metadata": {
    "execution": {
     "iopub.execute_input": "2024-10-01T19:17:34.500532Z",
     "iopub.status.busy": "2024-10-01T19:17:34.500237Z",
     "iopub.status.idle": "2024-10-01T19:18:24.457257Z",
     "shell.execute_reply": "2024-10-01T19:18:24.456743Z",
     "shell.execute_reply.started": "2024-10-01T19:17:34.500515Z"
    }
   },
   "outputs": [
    {
     "name": "stdout",
     "output_type": "stream",
     "text": [
      "\n",
      "CIMIS_75\n",
      "['1987-10-07T09:00:00.000000000' '2022-08-31T23:00:00.000000000']\n",
      "0.0\n",
      "=============================\n",
      "USW00093184\n",
      "['1940-06-17T22:00:00.000000000' '2024-06-26T01:53:00.000000000']\n",
      "0.9673853504922718\n",
      "\n",
      "=============================\n",
      "USW00053175\n",
      "['2006-09-07T19:00:00.000000000' '2024-06-26T01:56:00.000000000']\n",
      "0.9883662248665304\n",
      "\n",
      "=============================\n",
      "USW00003166\n",
      "['1973-01-01T00:00:00.000000000' '2024-06-24T14:53:00.000000000']\n",
      "0.8658175736523864\n",
      "\n"
     ]
    }
   ],
   "source": [
    "var = \"hurs\"\n",
    "var = \"tas\"\n",
    "\n",
    "print(\"\\n{}\".format(specific_station))\n",
    "print(df.iloc[[0,-1]]['time'].values)\n",
    "print(len(df[var+\"_eraqc\"].dropna())/len(df[var+\"_eraqc\"]))\n",
    "\n",
    "for i in range(3):\n",
    "    id = ghcnh_stations_df['id'].iloc[i]\n",
    "    ghcnh.read_data_from_url(id, save=True)\n",
    "    ghcnh.convert_df_to_gpd()\n",
    "    tmp_df = ghcnh.station_data.copy()\n",
    "\n",
    "    ghcnh_df, vars = return_ghcn_vars(tmp_df, var)\n",
    "    print(\"=============================\")\n",
    "    print(\"{}\".format(id))\n",
    "    # print(ghcnh_df.iloc[[0,-1]].apply(lambda row: pd.Timestamp(row[\"Year\"],row[\"Month\"],row[\"Day\"],row[\"Hour\"]), axis=1).values)\n",
    "    print(ghcnh_df.iloc[[0,-1]]['time'].values)\n",
    "    print(len(ghcnh_df[vars[var]+'_Quality_Code'].dropna())/len(ghcnh_df[vars[var]+'_Quality_Code']))\n",
    "    \n",
    "    print()"
   ]
  },
  {
   "cell_type": "code",
   "execution_count": null,
   "id": "1b3ae76a-3cea-4065-abbc-1961ad4f375d",
   "metadata": {},
   "outputs": [],
   "source": []
  },
  {
   "cell_type": "code",
   "execution_count": null,
   "id": "58cb364d-e505-437a-a064-59591cb0682b",
   "metadata": {},
   "outputs": [],
   "source": []
  },
  {
   "cell_type": "markdown",
   "id": "12a41bc5-ef78-41d5-9bcf-af70d845097d",
   "metadata": {},
   "source": [
    "# VICTORIA, the notebook is reviewed up to here. I am working on the next cells, more false positive rate related"
   ]
  },
  {
   "cell_type": "code",
   "execution_count": null,
   "id": "54a9b698-b446-4be7-993d-cb1aa4abd827",
   "metadata": {},
   "outputs": [],
   "source": [
    "raise"
   ]
  },
  {
   "cell_type": "markdown",
   "id": "2c40f37a-89f4-43e6-b676-14fbe7f62081",
   "metadata": {},
   "source": [
    "## Classification metrics: precision, recall, false positive, and false negative rates"
   ]
  },
  {
   "cell_type": "markdown",
   "id": "29a74f7c-6edd-4d73-aca2-8d3f930d3cf4",
   "metadata": {},
   "source": [
    "<div style=\"width: 60%;\">\n",
    "    \n",
    "**Accuracy** is the most obvious classification metric, which is defined as the number of correct predictions divided by the total number of observations.\n",
    "\n",
    "The biggest problem with accuracy is that it will let us down in situations where one class occurs with much higher frequency than another.  \n",
    "</div>"
   ]
  },
  {
   "cell_type": "markdown",
   "id": "ebdcc088-d008-4db8-88dd-8b6f17442642",
   "metadata": {},
   "source": [
    "<div style=\"width: 60%;\">\n",
    "\n",
    "---\n",
    "**Discussion**\n",
    "\n",
    "- We are tasked to build an QA/QC that analyzes weather stations. The goal is to build a pipeline that recognize \"bad\" values and flags them. Accuracy aims to flag as many \"bad\" avlues as the ground truth \"bad\" observations. \n",
    "- If our QA/QC gets a 1-% accuracy score, would we be happy with this outcome?\n",
    "---\n",
    "When accuracy is not a useful metric, we can instead focus on the uncommon class , in this case, the flag values:\n",
    "- If QA/QC pipeline marks an obvservartion as \"bad\", how likely is it for that obsrevation is actually an error?\", or\n",
    "- What percent of \"real\"/ground truth bad observations are correctly flagged by our pipeline?\"\n",
    "\n",
    "These are the concepts of **precision** and **recall**, respectively. \n",
    "\n",
    "</div>"
   ]
  },
  {
   "cell_type": "markdown",
   "id": "1657004f-726b-4b2a-bca6-aa46f0acd8fa",
   "metadata": {
    "execution": {
     "iopub.execute_input": "2024-10-02T18:56:54.233974Z",
     "iopub.status.busy": "2024-10-02T18:56:54.232352Z",
     "iopub.status.idle": "2024-10-02T18:56:54.703155Z",
     "shell.execute_reply": "2024-10-02T18:56:54.702297Z",
     "shell.execute_reply.started": "2024-10-02T18:56:54.233940Z"
    }
   },
   "source": [
    "<div style=\"width: 60%;\">\n",
    "\n",
    "In the figure below, \"correct\" observations are representend in blue and \"bad\" observations are red. We pick the \"flag\" class to be the **positive class**. The arrows denote the results of our QA/QC pipeline. A blue arrow means the pipeline classifies the observation as \"good\" and a red arrow means the pipeline flags the observation as \"bad\".\n",
    "\n",
    "![errors](PML_precision_recall.svg)\n",
    "\n",
    "Notice that there are instances when the QA/QC makes a correct classification, either it classifies that a \"good\" observation is good (true negative) or it flags that a bad observation is bad (true positive). But occasionally it makes an error. There are two types of errors, we either flagged a good observation as \"bad\" (false positive, also called type I error) or we classified an \"real bad\" observation as correct (false negative, also called type II error). \n",
    "\n",
    "* **Precision** is then defined as the number of true positives divided by the number of all positive *predictions*. Maximizing precision means **minimizing false positives**.\n",
    "* **Recall** is defined as number of true positives divided by the number all positive *observations*. Maximizing recall means **minimizing false negatives**.\n",
    "---\n",
    "</div>"
   ]
  },
  {
   "cell_type": "markdown",
   "id": "9c84e4ca-b886-407b-bed4-af6097c8370a",
   "metadata": {
    "execution": {
     "iopub.execute_input": "2024-10-02T18:56:54.233974Z",
     "iopub.status.busy": "2024-10-02T18:56:54.232352Z",
     "iopub.status.idle": "2024-10-02T18:56:54.703155Z",
     "shell.execute_reply": "2024-10-02T18:56:54.702297Z",
     "shell.execute_reply.started": "2024-10-02T18:56:54.233940Z"
    }
   },
   "source": [
    "<div style=\"width: 60%;\">\n",
    "    \n",
    "**In summary**:\n",
    "\n",
    "Accuracy is the number of correct predictions divided by the total number of observations:\n",
    "- Minimizing false positives means maximizing precision.\n",
    "- Minimizing false negatives means maximizing recall\n",
    "</div>"
   ]
  },
  {
   "cell_type": "markdown",
   "id": "ce2a6906-4e91-43ed-b3d0-f1f6dc7cbed6",
   "metadata": {},
   "source": [
    "### False positive and false negative rates"
   ]
  },
  {
   "cell_type": "markdown",
   "id": "ea9356b3-0359-42ac-aaf0-94b7c723c2f8",
   "metadata": {},
   "source": [
    "<div style=\"width: 60%;\">\n",
    "\n",
    "The **false positive rate (FPR)** is the proportion of all negatives that still yield positive test outcomes, i.e., the conditional probability of a positive test result given an event that was not present. The false positive rate depends on the significance level. The **specificity** of the test is equal to 1 minus the false positive rate.\n",
    "\n",
    "- In statistical hypothesis testing, this fraction is given the Greek letter α, and 1 − α is defined as the specificity of the test. \n",
    "\n",
    "- Increasing the specificity of the test lowers the probability of type I errors, but may raise the probability of type II errors (false negatives that reject the alternative hypothesis when it is true).\n",
    "\n",
    "Complementarily, the **false negative rate (FNR)** is the proportion of positives which yield negative test outcomes with the test, i.e., the conditional probability of a negative test result given that the condition being looked for is present.\n",
    "\n",
    "- In statistical hypothesis testing, this fraction is given the letter β. The \"power\" (or the \"sensitivity\") of the test is equal to 1 − β.\n",
    "\n",
    "</div>"
   ]
  },
  {
   "cell_type": "markdown",
   "id": "309ba9d5-2725-4e94-aa8d-257fa81b6452",
   "metadata": {},
   "source": [
    "#### False positive rate (FPR)"
   ]
  },
  {
   "cell_type": "markdown",
   "id": "5ef7b358-4fe9-4779-96a7-627d5a4a2870",
   "metadata": {},
   "source": [
    "<div style=\"width: 60%;\">\n",
    "\n",
    "**FPR** measures the proportion of \"good\" observations that are incorrectly classified as \"bad\" by the pipeline.\n",
    "\n",
    "$$\\text{False Positive Rate (FPR)} = \\frac{\\text{False Positives (FP)}}{\\text{False Positives (FP)} + \\text{True Negatives (TN)}}\\,\\text{,}$$\n",
    "where:\n",
    "\n",
    "False Positives (FP): The number of instances where the model incorrectly predicted the positive class, but they actually belong to the negative class.\n",
    "\n",
    "True Negatives (TN): The number of instances where the model correctly predicted the negative class.\n",
    "</div>"
   ]
  },
  {
   "cell_type": "markdown",
   "id": "58d2151b-26a4-4210-afc7-429d0bdb2319",
   "metadata": {},
   "source": [
    "<div style=\"width: 60%;\">\n",
    "\n",
    "**Interpretation:**\n",
    "\n",
    "The false positive rate tells you how often your model incorrectly classifies negatives as positives.\n",
    "\n",
    "- A low FPR is desirable, especially in cases where false positives carry significant costs (e.g., fraud detection, medical diagnoses).\n",
    "- A high FPR means the model is making too many incorrect positive predictions, which can lead to undesirable outcomes.\n",
    "</div>"
   ]
  },
  {
   "cell_type": "markdown",
   "id": "939a9f03-98e3-40f0-b78d-1ef1bc8f00a6",
   "metadata": {},
   "source": [
    "#### False negativerate (FPR)"
   ]
  },
  {
   "cell_type": "markdown",
   "id": "e2f37f09-b6fe-4b90-b767-2a19641ba58e",
   "metadata": {},
   "source": [
    "<div style=\"width: 60%;\">\n",
    "    \n",
    "The **False Negative Rate (FNR)** is a metric used in binary classification to measure the proportion of positive instances that are incorrectly classified as negative by the model. In other words, it tells you how often the model fails to detect positives (i.e., actual positives that were classified as negatives).\n",
    "\n",
    "$$\\text{False Negative Rate (FNR)} = \\frac{\\text{False Negatives (FN)}}{\\text{False Negatives (FN)} + \\text{True Positives (TP)}} \\, \\text{,}$$\n",
    "where\n",
    "\n",
    "False Negatives (FN): The number of instances where the model incorrectly predicted the negative class, but they actually belong to the positive class.\n",
    "\n",
    "True Positives (TP): The number of instances where the model correctly predicted the positive class.\n",
    "</div>"
   ]
  },
  {
   "cell_type": "markdown",
   "id": "329f478b-36bd-44a1-94bc-bedf9ca65095",
   "metadata": {},
   "source": [
    "<div style=\"width: 60%;\">\n",
    "\n",
    "**Interpretation:**\n",
    "\n",
    "- A low FNR is desirable, especially in applications where missing positive instances is costly (e.g., failing to detect a disease or fraud).\n",
    "- A high FNR means the model is missing too many actual positives, which can lead to harmful consequences.\n",
    "</div>"
   ]
  },
  {
   "cell_type": "markdown",
   "id": "efa82f7f-e8ec-4c0c-a5cc-8edf9b80349f",
   "metadata": {},
   "source": [
    "<div style=\"width: 60%;\">\n",
    "\n",
    "**Relation to Sensitivity (Recall)**\n",
    "\n",
    "The False Negative Rate (FNR) is related to Sensitivity (Recall), which measures the proportion of true positives identified by the model. Sensitivity is given by:\n",
    "$$\\text{Sensitivity (Recall)} = \\frac{\\text{True Positives (TP)}}{\\text{True Positives (TP)} + \\text{False Negatives (FN)}}$$\n",
    "</div>"
   ]
  },
  {
   "cell_type": "code",
   "execution_count": null,
   "id": "0288e107-c5d3-4297-87c3-87de5e44902f",
   "metadata": {},
   "outputs": [],
   "source": []
  },
  {
   "cell_type": "code",
   "execution_count": 25,
   "id": "5d3d447d-5e16-477b-a91f-047babf1243c",
   "metadata": {
    "execution": {
     "iopub.execute_input": "2024-10-01T19:18:24.458397Z",
     "iopub.status.busy": "2024-10-01T19:18:24.458241Z",
     "iopub.status.idle": "2024-10-01T19:18:24.547678Z",
     "shell.execute_reply": "2024-10-01T19:18:24.547390Z",
     "shell.execute_reply.started": "2024-10-01T19:18:24.458385Z"
    }
   },
   "outputs": [
    {
     "data": {
      "text/plain": [
       "0         U\n",
       "1         U\n",
       "2         U\n",
       "3         U\n",
       "4         U\n",
       "         ..\n",
       "404191    5\n",
       "404192    5\n",
       "404193    5\n",
       "404194    5\n",
       "404195    5\n",
       "Name: temperature_Quality_Code, Length: 404196, dtype: object"
      ]
     },
     "execution_count": 25,
     "metadata": {},
     "output_type": "execute_result"
    }
   ],
   "source": [
    "ghcnh_df[vars[var]+'_Quality_Code']"
   ]
  },
  {
   "cell_type": "code",
   "execution_count": 26,
   "id": "ff570cb7-8246-41c2-a129-21c77513ed49",
   "metadata": {
    "execution": {
     "iopub.execute_input": "2024-10-01T19:18:24.548435Z",
     "iopub.status.busy": "2024-10-01T19:18:24.548235Z",
     "iopub.status.idle": "2024-10-01T19:18:24.977763Z",
     "shell.execute_reply": "2024-10-01T19:18:24.977439Z",
     "shell.execute_reply.started": "2024-10-01T19:18:24.548424Z"
    }
   },
   "outputs": [
    {
     "data": {
      "text/plain": [
       "<AxesSubplot:>"
      ]
     },
     "execution_count": 26,
     "metadata": {},
     "output_type": "execute_result"
    },
    {
     "data": {
      "image/png": "[encoded data removed]",
      "text/plain": [
       "<Figure size 640x480 with 1 Axes>"
      ]
     },
     "metadata": {},
     "output_type": "display_data"
    }
   ],
   "source": [
    "ghcnh_df[vars[var]].plot()\n",
    "ghcnh_df.dropna(subset=vars[var]+\"_Quality_Code\")[vars[var]].plot(marker=\".\", lw=0)"
   ]
  },
  {
   "cell_type": "code",
   "execution_count": 27,
   "id": "ff3b3a7a-8115-4f65-9687-f2263d2098ed",
   "metadata": {
    "execution": {
     "iopub.execute_input": "2024-10-01T19:18:24.978584Z",
     "iopub.status.busy": "2024-10-01T19:18:24.978338Z",
     "iopub.status.idle": "2024-10-01T19:18:25.089013Z",
     "shell.execute_reply": "2024-10-01T19:18:25.088701Z",
     "shell.execute_reply.started": "2024-10-01T19:18:24.978569Z"
    }
   },
   "outputs": [
    {
     "data": {
      "text/plain": [
       "<AxesSubplot:xlabel='time'>"
      ]
     },
     "execution_count": 27,
     "metadata": {},
     "output_type": "execute_result"
    },
    {
     "data": {
      "image/png": "[encoded data removed]",
      "text/plain": [
       "<Figure size 1000x300 with 1 Axes>"
      ]
     },
     "metadata": {},
     "output_type": "display_data"
    }
   ],
   "source": [
    "fig,ax = plt.subplots(figsize=(10,3))\n",
    "pd.DataFrame(ghcnh_df).iloc[5000:5200].plot(x=\"time\",y=\"temperature\",marker=\"x\", lw=0, ax=ax)\n",
    "pd.DataFrame(ghcnh_df).iloc[5000:5200].dropna(subset=vars[var]+\"_Quality_Code\").plot(x=\"time\",y=\"temperature\",marker=\"o\", mfc=\"none\", lw=0, ax=ax)"
   ]
  },
  {
   "cell_type": "code",
   "execution_count": 28,
   "id": "f34191d1-fa6f-46d7-86fd-dc888aad0477",
   "metadata": {
    "execution": {
     "iopub.execute_input": "2024-10-01T19:18:25.089867Z",
     "iopub.status.busy": "2024-10-01T19:18:25.089699Z",
     "iopub.status.idle": "2024-10-01T19:18:25.174660Z",
     "shell.execute_reply": "2024-10-01T19:18:25.174361Z",
     "shell.execute_reply.started": "2024-10-01T19:18:25.089854Z"
    }
   },
   "outputs": [
    {
     "data": {
      "text/plain": [
       "0.8658175736523864"
      ]
     },
     "execution_count": 28,
     "metadata": {},
     "output_type": "execute_result"
    }
   ],
   "source": [
    "len(ghcnh_df.dropna(subset=vars[var]+\"_Quality_Code\"))/len(ghcnh_df)"
   ]
  },
  {
   "cell_type": "code",
   "execution_count": 29,
   "id": "d3d25c1b-8924-4dbd-9505-ce9553752465",
   "metadata": {
    "execution": {
     "iopub.execute_input": "2024-10-01T19:18:25.175442Z",
     "iopub.status.busy": "2024-10-01T19:18:25.175309Z",
     "iopub.status.idle": "2024-10-01T19:18:25.203030Z",
     "shell.execute_reply": "2024-10-01T19:18:25.202668Z",
     "shell.execute_reply.started": "2024-10-01T19:18:25.175427Z"
    }
   },
   "outputs": [
    {
     "name": "stdout",
     "output_type": "stream",
     "text": [
      "0.8658175736523864\n"
     ]
    }
   ],
   "source": [
    "print(len(ghcnh_df[vars[var]+'_Quality_Code'].dropna())/len(ghcnh_df[vars[var]+'_Quality_Code']))"
   ]
  },
  {
   "cell_type": "code",
   "execution_count": 30,
   "id": "b9a048e6-5f83-4dbd-b09d-ee039f12e62f",
   "metadata": {
    "execution": {
     "iopub.execute_input": "2024-10-01T19:18:25.203736Z",
     "iopub.status.busy": "2024-10-01T19:18:25.203646Z",
     "iopub.status.idle": "2024-10-01T19:18:25.232407Z",
     "shell.execute_reply": "2024-10-01T19:18:25.231784Z",
     "shell.execute_reply.started": "2024-10-01T19:18:25.203727Z"
    }
   },
   "outputs": [
    {
     "data": {
      "text/plain": [
       "array(['U', nan, '1', 'dCN', 'dC', 'CN', 'dCNE', 'E', 'dNE', 'dE', 'NE',\n",
       "       'N', 'dCE', '2', 1.0, 2.0, 'dN', 'SN', 'd', 4.0, '4', 'K', 5.0,\n",
       "       6.0, '5', '6', 'S', 7.0, '7', 'dCSN'], dtype=object)"
      ]
     },
     "execution_count": 30,
     "metadata": {},
     "output_type": "execute_result"
    }
   ],
   "source": [
    "ghcnh_df[vars[var]+'_Quality_Code'].unique()"
   ]
  },
  {
   "cell_type": "code",
   "execution_count": 31,
   "id": "c8392c54-d15d-4923-8555-ad0bf53bb34c",
   "metadata": {
    "execution": {
     "iopub.execute_input": "2024-10-01T19:18:25.233619Z",
     "iopub.status.busy": "2024-10-01T19:18:25.233086Z",
     "iopub.status.idle": "2024-10-01T19:18:25.269118Z",
     "shell.execute_reply": "2024-10-01T19:18:25.268829Z",
     "shell.execute_reply.started": "2024-10-01T19:18:25.233605Z"
    }
   },
   "outputs": [
    {
     "data": {
      "text/plain": [
       "array([], dtype=int64)"
      ]
     },
     "execution_count": 31,
     "metadata": {},
     "output_type": "execute_result"
    }
   ],
   "source": [
    "np.setdiff1d(ghcnh_df[vars[var]+'_Quality_Code'].dropna().index, ghcnh_df.index)"
   ]
  },
  {
   "cell_type": "code",
   "execution_count": 32,
   "id": "ac0495c1-ecb0-4259-b6b9-032ac67326fb",
   "metadata": {
    "execution": {
     "iopub.execute_input": "2024-10-01T19:18:25.269944Z",
     "iopub.status.busy": "2024-10-01T19:18:25.269807Z",
     "iopub.status.idle": "2024-10-01T19:18:25.297265Z",
     "shell.execute_reply": "2024-10-01T19:18:25.296953Z",
     "shell.execute_reply.started": "2024-10-01T19:18:25.269934Z"
    }
   },
   "outputs": [
    {
     "name": "stderr",
     "output_type": "stream",
     "text": [
      "/Users/hector/anaconda3/envs/hist-obs/lib/python3.9/site-packages/geopandas/geodataframe.py:1428: UserWarning: Boolean Series key will be reindexed to match DataFrame index.\n",
      "  result = super().__getitem__(key)\n"
     ]
    },
    {
     "data": {
      "text/plain": [
       "10"
      ]
     },
     "execution_count": 32,
     "metadata": {},
     "output_type": "execute_result"
    }
   ],
   "source": [
    "ind = pd.isna(ghcnh_df[vars[var]+'_Quality_Code'])\n",
    "len(np.where(ind)[0])\n",
    "len(plot_df[ind])"
   ]
  },
  {
   "cell_type": "code",
   "execution_count": 33,
   "id": "9e6a6311-998b-4f80-b411-1fdda5ac35ec",
   "metadata": {
    "execution": {
     "iopub.execute_input": "2024-10-01T19:18:25.297937Z",
     "iopub.status.busy": "2024-10-01T19:18:25.297821Z",
     "iopub.status.idle": "2024-10-01T19:18:26.283671Z",
     "shell.execute_reply": "2024-10-01T19:18:26.283391Z",
     "shell.execute_reply.started": "2024-10-01T19:18:25.297927Z"
    }
   },
   "outputs": [
    {
     "data": {
      "text/plain": [
       "<matplotlib.collections.PolyCollection at 0x34a5ac310>"
      ]
     },
     "execution_count": 33,
     "metadata": {},
     "output_type": "execute_result"
    },
    {
     "data": {
      "image/png": "[encoded data removed]",
      "text/plain": [
       "<Figure size 1000x300 with 1 Axes>"
      ]
     },
     "metadata": {},
     "output_type": "display_data"
    }
   ],
   "source": [
    "fig,ax = plt.subplots(figsize=(10,3))\n",
    "plot_df = pd.DataFrame(ghcnh_df)\n",
    "plot_df.plot(x=\"time\", y=vars[var], \n",
    "            ax=ax, marker=\".\", lw=0.5, color=\"black\",\n",
    "            markersize=2)\n",
    "ax.fill_between(x=plot_df[ind].time, y1=ax.get_ylim()[0], y2=ax.get_ylim()[1], color='skyblue', alpha=0.5)\n",
    "# plot_df = plot_df[ind]\n",
    "# plot_df.plot(x=\"time\", y=vars[var], \n",
    "#              ax=ax, marker=\"o\", lw=0.0, color=\"red\",\n",
    "#              markersize=4, label='Streaks', mfc='none')"
   ]
  },
  {
   "cell_type": "code",
   "execution_count": 34,
   "id": "6bd626cc-3376-46f6-9d9f-0a2019ec44ca",
   "metadata": {
    "execution": {
     "iopub.execute_input": "2024-10-01T19:18:26.284443Z",
     "iopub.status.busy": "2024-10-01T19:18:26.284301Z",
     "iopub.status.idle": "2024-10-01T19:18:27.241186Z",
     "shell.execute_reply": "2024-10-01T19:18:27.240851Z",
     "shell.execute_reply.started": "2024-10-01T19:18:26.284432Z"
    }
   },
   "outputs": [
    {
     "data": {
      "text/plain": [
       "<AxesSubplot:xlabel='time'>"
      ]
     },
     "execution_count": 34,
     "metadata": {},
     "output_type": "execute_result"
    },
    {
     "data": {
      "image/png": "[encoded data removed]",
      "text/plain": [
       "<Figure size 1000x300 with 1 Axes>"
      ]
     },
     "metadata": {},
     "output_type": "display_data"
    }
   ],
   "source": [
    "fig,ax = plt.subplots(figsize=(10,3))\n",
    "plot_df = pd.DataFrame(ghcnh_df)\n",
    "plot_df.plot(x=\"time\", y=vars[var], \n",
    "                            ax=ax, marker=\".\", lw=0.5, color=\"black\",\n",
    "                            markersize=2)\n",
    "plot_df = plot_df[plot_df[vars[var]+'_Quality_Code']=='K']\n",
    "plot_df.plot(x=\"time\", y=vars[var], \n",
    "             ax=ax, marker=\"o\", lw=0.0, color=\"red\",\n",
    "             markersize=4, label='Streaks', mfc='none')"
   ]
  },
  {
   "cell_type": "code",
   "execution_count": 35,
   "id": "4382dee7-5d18-4f81-be46-5f4565ecd534",
   "metadata": {
    "execution": {
     "iopub.execute_input": "2024-10-01T19:18:27.241831Z",
     "iopub.status.busy": "2024-10-01T19:18:27.241734Z",
     "iopub.status.idle": "2024-10-01T19:18:28.323477Z",
     "shell.execute_reply": "2024-10-01T19:18:28.322944Z",
     "shell.execute_reply.started": "2024-10-01T19:18:27.241821Z"
    }
   },
   "outputs": [
    {
     "data": {
      "text/plain": [
       "(12119.0, 12134.0)"
      ]
     },
     "execution_count": 35,
     "metadata": {},
     "output_type": "execute_result"
    },
    {
     "data": {
      "image/png": "[encoded data removed]",
      "text/plain": [
       "<Figure size 1000x300 with 1 Axes>"
      ]
     },
     "metadata": {},
     "output_type": "display_data"
    }
   ],
   "source": [
    "fig,ax = plt.subplots(figsize=(10,3))\n",
    "plot_df = pd.DataFrame(ghcnh_df)\n",
    "plot_df.plot(x=\"time\", y=vars[var], \n",
    "                            ax=ax, marker=\".\", lw=0.5, color=\"black\",\n",
    "                            markersize=2)\n",
    "plot_df = plot_df[plot_df[vars[var]+'_Quality_Code']=='K']\n",
    "plot_df.plot(x=\"time\", y=vars[var], \n",
    "             ax=ax, marker=\"o\", lw=0.0, color=\"red\",\n",
    "             markersize=4, label='Streaks', mfc='none')\n",
    "ax.set_xlim(np.datetime64(\"2003-03-08\"),np.datetime64(\"2003-03-23\"))"
   ]
  },
  {
   "cell_type": "code",
   "execution_count": null,
   "id": "2c5f74b3-be3a-45be-a93c-8b8d71417a61",
   "metadata": {},
   "outputs": [],
   "source": []
  },
  {
   "cell_type": "code",
   "execution_count": null,
   "id": "a54f8347-0f7f-4ac0-86a2-dbc400b8978b",
   "metadata": {},
   "outputs": [],
   "source": []
  },
  {
   "cell_type": "code",
   "execution_count": 36,
   "id": "4981741b-18b3-4047-9989-1f261e190622",
   "metadata": {
    "execution": {
     "iopub.execute_input": "2024-10-01T19:18:28.324671Z",
     "iopub.status.busy": "2024-10-01T19:18:28.324504Z",
     "iopub.status.idle": "2024-10-01T19:18:29.256490Z",
     "shell.execute_reply": "2024-10-01T19:18:29.256150Z",
     "shell.execute_reply.started": "2024-10-01T19:18:28.324658Z"
    }
   },
   "outputs": [
    {
     "data": {
      "text/plain": [
       "<AxesSubplot:xlabel='time'>"
      ]
     },
     "execution_count": 36,
     "metadata": {},
     "output_type": "execute_result"
    },
    {
     "data": {
      "image/png": "[encoded data removed]",
      "text/plain": [
       "<Figure size 1000x300 with 1 Axes>"
      ]
     },
     "metadata": {},
     "output_type": "display_data"
    }
   ],
   "source": [
    "fig,ax = plt.subplots(figsize=(10,3))\n",
    "plot_df = pd.DataFrame(ghcnh_df)\n",
    "plot_df.plot(x=\"time\", y=vars[var], \n",
    "                            ax=ax, marker=\".\", lw=0.5, color=\"black\",\n",
    "                            markersize=2)\n",
    "plot_df = plot_df[plot_df[vars[var]+'_Quality_Code']=='o']\n",
    "plot_df.plot(x=\"time\", y=vars[var], \n",
    "             ax=ax, marker=\"o\", lw=0.0, color=\"red\",\n",
    "             markersize=4, label='Out of range', mfc='none')"
   ]
  },
  {
   "cell_type": "code",
   "execution_count": 37,
   "id": "ad3f72b6-94dd-46b6-a7b4-cd41331ec487",
   "metadata": {
    "execution": {
     "iopub.execute_input": "2024-10-01T19:18:29.257426Z",
     "iopub.status.busy": "2024-10-01T19:18:29.257151Z",
     "iopub.status.idle": "2024-10-01T19:18:30.598995Z",
     "shell.execute_reply": "2024-10-01T19:18:30.598591Z",
     "shell.execute_reply.started": "2024-10-01T19:18:29.257411Z"
    }
   },
   "outputs": [
    {
     "data": {
      "text/plain": [
       "<AxesSubplot:xlabel='time'>"
      ]
     },
     "execution_count": 37,
     "metadata": {},
     "output_type": "execute_result"
    },
    {
     "data": {
      "image/png": "[encoded data removed]",
      "text/plain": [
       "<Figure size 1000x300 with 1 Axes>"
      ]
     },
     "metadata": {},
     "output_type": "display_data"
    }
   ],
   "source": [
    "fig,ax = plt.subplots(figsize=(10,3))\n",
    "plot_df = pd.DataFrame(ghcnh_df)\n",
    "plot_df.plot(x=\"time\", y=vars[var], \n",
    "                            ax=ax, marker=\".\", lw=0.5, color=\"black\",\n",
    "                            markersize=2)\n",
    "plot_df = plot_df[plot_df[vars[var]+'_Quality_Code']=='f']\n",
    "plot_df.plot(x=\"time\", y=vars[var], \n",
    "             ax=ax, marker=\"x\", lw=0.0, color=\"red\",\n",
    "             markersize=4, label='Suspect or Error', mfc='none')"
   ]
  },
  {
   "cell_type": "code",
   "execution_count": null,
   "id": "9c56333d-bd02-4516-a994-040fabe35a10",
   "metadata": {},
   "outputs": [],
   "source": []
  },
  {
   "cell_type": "code",
   "execution_count": null,
   "id": "1aac1584-d382-486c-b70c-dc6b67cd8b35",
   "metadata": {},
   "outputs": [],
   "source": []
  },
  {
   "cell_type": "code",
   "execution_count": null,
   "id": "506580a7-4a57-40db-aa97-c5bba116d9d3",
   "metadata": {},
   "outputs": [],
   "source": []
  },
  {
   "cell_type": "code",
   "execution_count": null,
   "id": "b0cae81a-64ea-49df-982d-fc8af0e730fd",
   "metadata": {},
   "outputs": [],
   "source": []
  },
  {
   "cell_type": "code",
   "execution_count": 38,
   "id": "73441fa3-d610-41cd-b4e6-7ebc3960c5c8",
   "metadata": {
    "execution": {
     "iopub.execute_input": "2024-10-01T19:18:30.599826Z",
     "iopub.status.busy": "2024-10-01T19:18:30.599682Z",
     "iopub.status.idle": "2024-10-01T19:18:30.623314Z",
     "shell.execute_reply": "2024-10-01T19:18:30.622921Z",
     "shell.execute_reply.started": "2024-10-01T19:18:30.599813Z"
    }
   },
   "outputs": [
    {
     "data": {
      "text/plain": [
       "Index(['Station_ID', 'Station_name', 'time', 'Latitude', 'Longitude',\n",
       "       'Elevation', 'geometry', 'temperature', 'temperature_Measurement_Code',\n",
       "       'temperature_Quality_Code', 'temperature_Report_Type',\n",
       "       'temperature_Source_Code', 'temperature_Source_Station_ID'],\n",
       "      dtype='object')"
      ]
     },
     "execution_count": 38,
     "metadata": {},
     "output_type": "execute_result"
    }
   ],
   "source": [
    "ghcnh_df.columns"
   ]
  },
  {
   "cell_type": "code",
   "execution_count": 39,
   "id": "84ab82ca-40e0-4c68-abc0-6dc52e17648a",
   "metadata": {
    "execution": {
     "iopub.execute_input": "2024-10-01T19:18:30.624090Z",
     "iopub.status.busy": "2024-10-01T19:18:30.623988Z",
     "iopub.status.idle": "2024-10-01T19:18:31.050643Z",
     "shell.execute_reply": "2024-10-01T19:18:31.048734Z",
     "shell.execute_reply.started": "2024-10-01T19:18:30.624082Z"
    }
   },
   "outputs": [
    {
     "ename": "KeyError",
     "evalue": "'relative_humidity_Measurement_Code'",
     "output_type": "error",
     "traceback": [
      "\u001b[0;31m---------------------------------------------------------------------------\u001b[0m",
      "\u001b[0;31mKeyError\u001b[0m                                  Traceback (most recent call last)",
      "File \u001b[0;32m~/anaconda3/envs/hist-obs/lib/python3.9/site-packages/pandas/core/indexes/base.py:3800\u001b[0m, in \u001b[0;36mIndex.get_loc\u001b[0;34m(self, key, method, tolerance)\u001b[0m\n\u001b[1;32m   3799\u001b[0m \u001b[38;5;28;01mtry\u001b[39;00m:\n\u001b[0;32m-> 3800\u001b[0m     \u001b[38;5;28;01mreturn\u001b[39;00m \u001b[38;5;28;43mself\u001b[39;49m\u001b[38;5;241;43m.\u001b[39;49m\u001b[43m_engine\u001b[49m\u001b[38;5;241;43m.\u001b[39;49m\u001b[43mget_loc\u001b[49m\u001b[43m(\u001b[49m\u001b[43mcasted_key\u001b[49m\u001b[43m)\u001b[49m\n\u001b[1;32m   3801\u001b[0m \u001b[38;5;28;01mexcept\u001b[39;00m \u001b[38;5;167;01mKeyError\u001b[39;00m \u001b[38;5;28;01mas\u001b[39;00m err:\n",
      "File \u001b[0;32m~/anaconda3/envs/hist-obs/lib/python3.9/site-packages/pandas/_libs/index.pyx:138\u001b[0m, in \u001b[0;36mpandas._libs.index.IndexEngine.get_loc\u001b[0;34m()\u001b[0m\n",
      "File \u001b[0;32m~/anaconda3/envs/hist-obs/lib/python3.9/site-packages/pandas/_libs/index.pyx:165\u001b[0m, in \u001b[0;36mpandas._libs.index.IndexEngine.get_loc\u001b[0;34m()\u001b[0m\n",
      "File \u001b[0;32mpandas/_libs/hashtable_class_helper.pxi:5745\u001b[0m, in \u001b[0;36mpandas._libs.hashtable.PyObjectHashTable.get_item\u001b[0;34m()\u001b[0m\n",
      "File \u001b[0;32mpandas/_libs/hashtable_class_helper.pxi:5753\u001b[0m, in \u001b[0;36mpandas._libs.hashtable.PyObjectHashTable.get_item\u001b[0;34m()\u001b[0m\n",
      "\u001b[0;31mKeyError\u001b[0m: 'relative_humidity_Measurement_Code'",
      "\nThe above exception was the direct cause of the following exception:\n",
      "\u001b[0;31mKeyError\u001b[0m                                  Traceback (most recent call last)",
      "Cell \u001b[0;32mIn[39], line 1\u001b[0m\n\u001b[0;32m----> 1\u001b[0m \u001b[43mghcnh_df\u001b[49m\u001b[43m[\u001b[49m\u001b[38;5;124;43m'\u001b[39;49m\u001b[38;5;124;43mrelative_humidity_Measurement_Code\u001b[39;49m\u001b[38;5;124;43m'\u001b[39;49m\u001b[43m]\u001b[49m\u001b[38;5;241m.\u001b[39munique()\n",
      "File \u001b[0;32m~/anaconda3/envs/hist-obs/lib/python3.9/site-packages/geopandas/geodataframe.py:1428\u001b[0m, in \u001b[0;36mGeoDataFrame.__getitem__\u001b[0;34m(self, key)\u001b[0m\n\u001b[1;32m   1422\u001b[0m \u001b[38;5;28;01mdef\u001b[39;00m \u001b[38;5;21m__getitem__\u001b[39m(\u001b[38;5;28mself\u001b[39m, key):\n\u001b[1;32m   1423\u001b[0m \u001b[38;5;250m    \u001b[39m\u001b[38;5;124;03m\"\"\"\u001b[39;00m\n\u001b[1;32m   1424\u001b[0m \u001b[38;5;124;03m    If the result is a column containing only 'geometry', return a\u001b[39;00m\n\u001b[1;32m   1425\u001b[0m \u001b[38;5;124;03m    GeoSeries. If it's a DataFrame with any columns of GeometryDtype,\u001b[39;00m\n\u001b[1;32m   1426\u001b[0m \u001b[38;5;124;03m    return a GeoDataFrame.\u001b[39;00m\n\u001b[1;32m   1427\u001b[0m \u001b[38;5;124;03m    \"\"\"\u001b[39;00m\n\u001b[0;32m-> 1428\u001b[0m     result \u001b[38;5;241m=\u001b[39m \u001b[38;5;28;43msuper\u001b[39;49m\u001b[43m(\u001b[49m\u001b[43m)\u001b[49m\u001b[38;5;241;43m.\u001b[39;49m\u001b[38;5;21;43m__getitem__\u001b[39;49m\u001b[43m(\u001b[49m\u001b[43mkey\u001b[49m\u001b[43m)\u001b[49m\n\u001b[1;32m   1429\u001b[0m     geo_col \u001b[38;5;241m=\u001b[39m \u001b[38;5;28mself\u001b[39m\u001b[38;5;241m.\u001b[39m_geometry_column_name\n\u001b[1;32m   1430\u001b[0m     \u001b[38;5;28;01mif\u001b[39;00m \u001b[38;5;28misinstance\u001b[39m(result, Series) \u001b[38;5;129;01mand\u001b[39;00m \u001b[38;5;28misinstance\u001b[39m(result\u001b[38;5;241m.\u001b[39mdtype, GeometryDtype):\n",
      "File \u001b[0;32m~/anaconda3/envs/hist-obs/lib/python3.9/site-packages/pandas/core/frame.py:3805\u001b[0m, in \u001b[0;36mDataFrame.__getitem__\u001b[0;34m(self, key)\u001b[0m\n\u001b[1;32m   3803\u001b[0m \u001b[38;5;28;01mif\u001b[39;00m \u001b[38;5;28mself\u001b[39m\u001b[38;5;241m.\u001b[39mcolumns\u001b[38;5;241m.\u001b[39mnlevels \u001b[38;5;241m>\u001b[39m \u001b[38;5;241m1\u001b[39m:\n\u001b[1;32m   3804\u001b[0m     \u001b[38;5;28;01mreturn\u001b[39;00m \u001b[38;5;28mself\u001b[39m\u001b[38;5;241m.\u001b[39m_getitem_multilevel(key)\n\u001b[0;32m-> 3805\u001b[0m indexer \u001b[38;5;241m=\u001b[39m \u001b[38;5;28;43mself\u001b[39;49m\u001b[38;5;241;43m.\u001b[39;49m\u001b[43mcolumns\u001b[49m\u001b[38;5;241;43m.\u001b[39;49m\u001b[43mget_loc\u001b[49m\u001b[43m(\u001b[49m\u001b[43mkey\u001b[49m\u001b[43m)\u001b[49m\n\u001b[1;32m   3806\u001b[0m \u001b[38;5;28;01mif\u001b[39;00m is_integer(indexer):\n\u001b[1;32m   3807\u001b[0m     indexer \u001b[38;5;241m=\u001b[39m [indexer]\n",
      "File \u001b[0;32m~/anaconda3/envs/hist-obs/lib/python3.9/site-packages/pandas/core/indexes/base.py:3802\u001b[0m, in \u001b[0;36mIndex.get_loc\u001b[0;34m(self, key, method, tolerance)\u001b[0m\n\u001b[1;32m   3800\u001b[0m     \u001b[38;5;28;01mreturn\u001b[39;00m \u001b[38;5;28mself\u001b[39m\u001b[38;5;241m.\u001b[39m_engine\u001b[38;5;241m.\u001b[39mget_loc(casted_key)\n\u001b[1;32m   3801\u001b[0m \u001b[38;5;28;01mexcept\u001b[39;00m \u001b[38;5;167;01mKeyError\u001b[39;00m \u001b[38;5;28;01mas\u001b[39;00m err:\n\u001b[0;32m-> 3802\u001b[0m     \u001b[38;5;28;01mraise\u001b[39;00m \u001b[38;5;167;01mKeyError\u001b[39;00m(key) \u001b[38;5;28;01mfrom\u001b[39;00m \u001b[38;5;21;01merr\u001b[39;00m\n\u001b[1;32m   3803\u001b[0m \u001b[38;5;28;01mexcept\u001b[39;00m \u001b[38;5;167;01mTypeError\u001b[39;00m:\n\u001b[1;32m   3804\u001b[0m     \u001b[38;5;66;03m# If we have a listlike key, _check_indexing_error will raise\u001b[39;00m\n\u001b[1;32m   3805\u001b[0m     \u001b[38;5;66;03m#  InvalidIndexError. Otherwise we fall through and re-raise\u001b[39;00m\n\u001b[1;32m   3806\u001b[0m     \u001b[38;5;66;03m#  the TypeError.\u001b[39;00m\n\u001b[1;32m   3807\u001b[0m     \u001b[38;5;28mself\u001b[39m\u001b[38;5;241m.\u001b[39m_check_indexing_error(key)\n",
      "\u001b[0;31mKeyError\u001b[0m: 'relative_humidity_Measurement_Code'"
     ]
    }
   ],
   "source": [
    "ghcnh_df['relative_humidity_Measurement_Code'].unique()"
   ]
  },
  {
   "cell_type": "code",
   "execution_count": null,
   "id": "cf75e610-25e2-4925-a01e-f17f464b4415",
   "metadata": {
    "execution": {
     "iopub.status.busy": "2024-10-01T19:18:31.051227Z",
     "iopub.status.idle": "2024-10-01T19:18:31.051369Z",
     "shell.execute_reply": "2024-10-01T19:18:31.051294Z",
     "shell.execute_reply.started": "2024-10-01T19:18:31.051287Z"
    }
   },
   "outputs": [],
   "source": [
    "ghcnh_df['relative_humidity_Quality_Code'].unique()"
   ]
  },
  {
   "cell_type": "code",
   "execution_count": null,
   "id": "fdce475c-0c63-4350-a4d7-a1eaee9a535a",
   "metadata": {
    "execution": {
     "iopub.status.busy": "2024-10-01T19:18:31.051814Z",
     "iopub.status.idle": "2024-10-01T19:18:31.051951Z",
     "shell.execute_reply": "2024-10-01T19:18:31.051884Z",
     "shell.execute_reply.started": "2024-10-01T19:18:31.051878Z"
    }
   },
   "outputs": [],
   "source": [
    "ghcnh_df['relative_humidity_Report_Type'].unique()"
   ]
  },
  {
   "cell_type": "code",
   "execution_count": null,
   "id": "552059a7-d063-4bb4-93d7-79e027bfa3cf",
   "metadata": {
    "execution": {
     "iopub.status.busy": "2024-10-01T19:18:31.052482Z",
     "iopub.status.idle": "2024-10-01T19:18:31.052613Z",
     "shell.execute_reply": "2024-10-01T19:18:31.052548Z",
     "shell.execute_reply.started": "2024-10-01T19:18:31.052542Z"
    }
   },
   "outputs": [],
   "source": [
    "ghcnh_df['relative_humidity_Source_Code'].unique()"
   ]
  },
  {
   "cell_type": "code",
   "execution_count": null,
   "id": "63f6b39f-273e-41ff-a1f2-eab1e4f5f437",
   "metadata": {
    "execution": {
     "iopub.status.busy": "2024-10-01T19:18:31.053284Z",
     "iopub.status.idle": "2024-10-01T19:18:31.053409Z",
     "shell.execute_reply": "2024-10-01T19:18:31.053344Z",
     "shell.execute_reply.started": "2024-10-01T19:18:31.053339Z"
    }
   },
   "outputs": [],
   "source": [
    "ghcnh_df['relative_humidity_Source_Station_ID'].unique()"
   ]
  },
  {
   "cell_type": "code",
   "execution_count": null,
   "id": "cdbf984f-9edc-4d00-9094-085e7c1c0fd6",
   "metadata": {
    "execution": {
     "iopub.status.busy": "2024-10-01T19:18:31.053865Z",
     "iopub.status.idle": "2024-10-01T19:18:31.054112Z",
     "shell.execute_reply": "2024-10-01T19:18:31.054004Z",
     "shell.execute_reply.started": "2024-10-01T19:18:31.053991Z"
    }
   },
   "outputs": [],
   "source": [
    "# df[var+\"_eraqc\"]"
   ]
  },
  {
   "cell_type": "code",
   "execution_count": null,
   "id": "68b8e1e6-3af2-4d63-afb7-1c36c678deae",
   "metadata": {},
   "outputs": [],
   "source": []
  },
  {
   "cell_type": "code",
   "execution_count": 43,
   "id": "cb6a59de-853c-4964-82b0-44e120bfc90c",
   "metadata": {
    "execution": {
     "iopub.execute_input": "2024-10-01T19:26:50.602417Z",
     "iopub.status.busy": "2024-10-01T19:26:50.601924Z",
     "iopub.status.idle": "2024-10-01T19:26:50.641282Z",
     "shell.execute_reply": "2024-10-01T19:26:50.640850Z",
     "shell.execute_reply.started": "2024-10-01T19:26:50.602390Z"
    }
   },
   "outputs": [],
   "source": [
    "s3 = s3fs.S3FileSystem(anon=False)"
   ]
  },
  {
   "cell_type": "code",
   "execution_count": 44,
   "id": "afb8b27a-9f35-4261-9777-cad0d4bdc72c",
   "metadata": {
    "execution": {
     "iopub.execute_input": "2024-10-01T19:26:59.288776Z",
     "iopub.status.busy": "2024-10-01T19:26:59.288356Z",
     "iopub.status.idle": "2024-10-01T19:26:59.365594Z",
     "shell.execute_reply": "2024-10-01T19:26:59.364983Z",
     "shell.execute_reply.started": "2024-10-01T19:26:59.288744Z"
    }
   },
   "outputs": [],
   "source": [
    "fname = specific_station\n",
    "network = fname.split('_')[0]\n",
    "s3_url = 's3://wecc-historical-wx/3_qaqc_wx_dev/{}/{}.nc'.format(network, fname)"
   ]
  },
  {
   "cell_type": "code",
   "execution_count": 45,
   "id": "66049cb4-1f93-4ef9-8c07-d5ed4e26ae8f",
   "metadata": {
    "execution": {
     "iopub.execute_input": "2024-10-01T19:27:03.441627Z",
     "iopub.status.busy": "2024-10-01T19:27:03.441352Z",
     "iopub.status.idle": "2024-10-01T19:27:03.535236Z",
     "shell.execute_reply": "2024-10-01T19:27:03.534772Z",
     "shell.execute_reply.started": "2024-10-01T19:27:03.441615Z"
    }
   },
   "outputs": [
    {
     "ename": "TypeError",
     "evalue": "download() missing 2 required positional arguments: 'rpath' and 'lpath'",
     "output_type": "error",
     "traceback": [
      "\u001b[0;31m---------------------------------------------------------------------------\u001b[0m",
      "\u001b[0;31mTypeError\u001b[0m                                 Traceback (most recent call last)",
      "Cell \u001b[0;32mIn[45], line 1\u001b[0m\n\u001b[0;32m----> 1\u001b[0m \u001b[43ms3\u001b[49m\u001b[38;5;241;43m.\u001b[39;49m\u001b[43mdownload\u001b[49m\u001b[43m(\u001b[49m\u001b[43m)\u001b[49m\n",
      "\u001b[0;31mTypeError\u001b[0m: download() missing 2 required positional arguments: 'rpath' and 'lpath'"
     ]
    }
   ],
   "source": [
    "s3.download()"
   ]
  },
  {
   "cell_type": "code",
   "execution_count": null,
   "id": "cd6f0ea5-e6aa-496a-8675-36f86751772e",
   "metadata": {},
   "outputs": [],
   "source": []
  },
  {
   "cell_type": "code",
   "execution_count": null,
   "id": "ab3e83b5-7b2a-4d3f-8473-a5b7f23df257",
   "metadata": {},
   "outputs": [],
   "source": []
  },
  {
   "cell_type": "code",
   "execution_count": null,
   "id": "2da80e73-97ad-4f6a-b67c-ac06870e8044",
   "metadata": {},
   "outputs": [],
   "source": []
  },
  {
   "cell_type": "code",
   "execution_count": null,
   "id": "88cbef22-6cb9-4fbf-a129-0dac7ae4f616",
   "metadata": {
    "execution": {
     "iopub.status.busy": "2024-10-01T18:00:46.573829Z",
     "iopub.status.idle": "2024-10-01T18:00:46.574023Z",
     "shell.execute_reply": "2024-10-01T18:00:46.573924Z",
     "shell.execute_reply.started": "2024-10-01T18:00:46.573916Z"
    }
   },
   "outputs": [],
   "source": [
    "df.dropna(subset=vars[\"tas\"])"
   ]
  },
  {
   "cell_type": "code",
   "execution_count": null,
   "id": "f38057b3-da70-44f0-9790-212197e5b60c",
   "metadata": {
    "execution": {
     "iopub.status.busy": "2024-10-01T18:00:46.574600Z",
     "iopub.status.idle": "2024-10-01T18:00:46.574736Z",
     "shell.execute_reply": "2024-10-01T18:00:46.574671Z",
     "shell.execute_reply.started": "2024-10-01T18:00:46.574666Z"
    }
   },
   "outputs": [],
   "source": [
    "len(df.temperature_Quality_Code.dropna())/len(df.temperature_Quality_Code)"
   ]
  },
  {
   "cell_type": "markdown",
   "id": "323c9ace-c316-4755-a52c-f82b79f77c13",
   "metadata": {},
   "source": [
    "- ERA5 map\n",
    "- Accumulated flags\n",
    "- Interpolated stations or mean\n"
   ]
  },
  {
   "cell_type": "code",
   "execution_count": null,
   "id": "58d30dbb-902f-4b44-8126-ca0588849831",
   "metadata": {
    "execution": {
     "iopub.status.busy": "2024-10-01T18:00:46.575333Z",
     "iopub.status.idle": "2024-10-01T18:00:46.575475Z",
     "shell.execute_reply": "2024-10-01T18:00:46.575408Z",
     "shell.execute_reply.started": "2024-10-01T18:00:46.575402Z"
    }
   },
   "outputs": [],
   "source": [
    "ghcnh.convert_df_to_gpd(ghcnh.station_data)"
   ]
  },
  {
   "cell_type": "code",
   "execution_count": null,
   "id": "ef8e2e53-1ff6-4016-9c51-73ac4cdfa4a7",
   "metadata": {},
   "outputs": [],
   "source": []
  },
  {
   "cell_type": "code",
   "execution_count": null,
   "id": "e761d2ac-8be6-44cb-b389-89fc9f517a8a",
   "metadata": {},
   "outputs": [],
   "source": []
  },
  {
   "cell_type": "code",
   "execution_count": null,
   "id": "77355bab-9b10-4bc4-9671-5c093ec98507",
   "metadata": {},
   "outputs": [],
   "source": []
  },
  {
   "cell_type": "code",
   "execution_count": null,
   "id": "57c35dc6-7fa7-4717-9311-d1acb4ae9ded",
   "metadata": {},
   "outputs": [],
   "source": []
  },
  {
   "cell_type": "code",
   "execution_count": null,
   "id": "ca430745-b684-4685-b75f-a68e7e56b8e8",
   "metadata": {},
   "outputs": [],
   "source": []
  },
  {
   "cell_type": "code",
   "execution_count": null,
   "id": "50dac15d-db66-4ad1-9371-c1ebbd26d40a",
   "metadata": {},
   "outputs": [],
   "source": []
  },
  {
   "cell_type": "code",
   "execution_count": null,
   "id": "7e22f5b5-4c0f-48ec-b8cf-d6aa9b9ac493",
   "metadata": {},
   "outputs": [],
   "source": []
  },
  {
   "cell_type": "code",
   "execution_count": null,
   "id": "2a149eff-fa7c-4aa1-80bf-75b653170817",
   "metadata": {},
   "outputs": [],
   "source": []
  },
  {
   "cell_type": "code",
   "execution_count": null,
   "id": "9e191a5d-d49a-416e-a267-d2239fb8cb90",
   "metadata": {},
   "outputs": [],
   "source": []
  },
  {
   "cell_type": "code",
   "execution_count": null,
   "id": "068938ff-368d-4f64-8ee4-0a6a93b12752",
   "metadata": {},
   "outputs": [],
   "source": []
  },
  {
   "cell_type": "code",
   "execution_count": null,
   "id": "89bcb580-0b52-4d3c-b749-423257f52517",
   "metadata": {},
   "outputs": [],
   "source": []
  },
  {
   "cell_type": "code",
   "execution_count": null,
   "id": "31d9f120-f714-4b7f-9746-31b17727dd89",
   "metadata": {},
   "outputs": [],
   "source": []
  },
  {
   "cell_type": "code",
   "execution_count": null,
   "id": "45f02703-62c2-4461-9ccd-16f0c184c882",
   "metadata": {},
   "outputs": [],
   "source": []
  },
  {
   "cell_type": "code",
   "execution_count": null,
   "id": "d5006fa5-1490-494f-b70d-6ed5dfa81d3e",
   "metadata": {},
   "outputs": [],
   "source": []
  },
  {
   "cell_type": "code",
   "execution_count": null,
   "id": "21e2c79a-448b-4362-9e76-5f82d97ce080",
   "metadata": {},
   "outputs": [],
   "source": []
  },
  {
   "cell_type": "code",
   "execution_count": null,
   "id": "9395fce8-4953-44ac-9b31-cda7b89650dd",
   "metadata": {},
   "outputs": [],
   "source": []
  },
  {
   "cell_type": "code",
   "execution_count": null,
   "id": "948d8b05-db8c-4ff5-8eea-27fb2f99bf90",
   "metadata": {},
   "outputs": [],
   "source": []
  },
  {
   "cell_type": "code",
   "execution_count": null,
   "id": "a3c8bb20-dcea-4b4d-a283-f5abd0655cf4",
   "metadata": {},
   "outputs": [],
   "source": []
  },
  {
   "cell_type": "code",
   "execution_count": null,
   "id": "8f88f8d7-f0e0-4431-97af-c8b8852ea60b",
   "metadata": {},
   "outputs": [],
   "source": []
  }
 ],
 "metadata": {
  "kernelspec": {
   "display_name": "hist-obs",
   "language": "python",
   "name": "hist-obs"
  },
  "language_info": {
   "codemirror_mode": {
    "name": "ipython",
    "version": 3
   },
   "file_extension": ".py",
   "mimetype": "text/x-python",
   "name": "python",
   "nbconvert_exporter": "python",
   "pygments_lexer": "ipython3",
   "version": "3.9.18"
  }
 },
 "nbformat": 4,
 "nbformat_minor": 5
}
