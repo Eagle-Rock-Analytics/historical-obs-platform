{
 "cells": [
  {
   "cell_type": "markdown",
   "id": "2f107480-b89b-4dc8-a146-8ef1fee66c4e",
   "metadata": {},
   "source": [
    "# GHCNh false positive rate"
   ]
  },
  {
   "cell_type": "markdown",
   "id": "07f483d6-b778-4aa0-9eb8-bcb59a86cea6",
   "metadata": {},
   "source": [
    "## Load libraries"
   ]
  },
  {
   "cell_type": "code",
   "execution_count": 1,
   "id": "6bf98323-af90-43a5-8a0c-ebfc0be02d60",
   "metadata": {
    "execution": {
     "iopub.execute_input": "2024-10-01T18:00:28.656354Z",
     "iopub.status.busy": "2024-10-01T18:00:28.656171Z",
     "iopub.status.idle": "2024-10-01T18:00:35.049023Z",
     "shell.execute_reply": "2024-10-01T18:00:35.048573Z",
     "shell.execute_reply.started": "2024-10-01T18:00:28.656343Z"
    }
   },
   "outputs": [],
   "source": [
    "# import libraries\n",
    "import pandas as pd\n",
    "import numpy as np\n",
    "import xarray as xr\n",
    "import geopandas as gpd\n",
    "from geopandas import GeoDataFrame\n",
    "from shapely.geometry import Point\n",
    "import matplotlib.pyplot as plt\n",
    "import cartopy.crs as ccrs\n",
    "import cartopy.feature as cf\n",
    "from matplotlib.ticker import MaxNLocator\n",
    "import sys\n",
    "ghcnh_lib_path = \"/Users/hector/ERA_work/historical-obs-platform/test_platform/scripts/3_qaqc_data/qaqc_eval_notebooks/GHCNh\"\n",
    "sys.path.append(ghcnh_lib_path)\n",
    "from GHCNh_lib import GHCNh # If GHCNh is was appended to path\n",
    "from qaqc_eval_utils import *\n",
    "%matplotlib inline\n",
    "\n",
    "%load_ext autoreload\n",
    "%autoreload 2"
   ]
  },
  {
   "cell_type": "markdown",
   "id": "246801a9-b1a3-4369-9b7a-409423fbd911",
   "metadata": {},
   "source": [
    "## GHCNh dataset"
   ]
  },
  {
   "cell_type": "markdown",
   "id": "f29a23de-8ed6-41bc-95a0-7957a62b9b0d",
   "metadata": {},
   "source": [
    "### GHCNh test the convert to geopandas DataFrame"
   ]
  },
  {
   "cell_type": "code",
   "execution_count": 2,
   "id": "fd979aa5-ba57-445f-98f5-079834afade8",
   "metadata": {
    "execution": {
     "iopub.execute_input": "2024-10-01T18:00:35.049833Z",
     "iopub.status.busy": "2024-10-01T18:00:35.049731Z",
     "iopub.status.idle": "2024-10-01T18:00:39.140638Z",
     "shell.execute_reply": "2024-10-01T18:00:39.140320Z",
     "shell.execute_reply.started": "2024-10-01T18:00:35.049822Z"
    }
   },
   "outputs": [
    {
     "name": "stdout",
     "output_type": "stream",
     "text": [
      "CAW00025343, -133.05000, 54.25000\n",
      "CPU times: user 2.98 s, sys: 464 ms, total: 3.45 s\n",
      "Wall time: 4.03 s\n"
     ]
    },
    {
     "data": {
      "text/html": [
       "<div>\n",
       "<style scoped>\n",
       "    .dataframe tbody tr th:only-of-type {\n",
       "        vertical-align: middle;\n",
       "    }\n",
       "\n",
       "    .dataframe tbody tr th {\n",
       "        vertical-align: top;\n",
       "    }\n",
       "\n",
       "    .dataframe thead th {\n",
       "        text-align: right;\n",
       "    }\n",
       "</style>\n",
       "<table border=\"1\" class=\"dataframe\">\n",
       "  <thead>\n",
       "    <tr style=\"text-align: right;\">\n",
       "      <th></th>\n",
       "      <th>Station_ID</th>\n",
       "      <th>Station_name</th>\n",
       "      <th>Year</th>\n",
       "      <th>Month</th>\n",
       "      <th>Day</th>\n",
       "      <th>Hour</th>\n",
       "      <th>Minute</th>\n",
       "      <th>Latitude</th>\n",
       "      <th>Longitude</th>\n",
       "      <th>Elevation</th>\n",
       "      <th>...</th>\n",
       "      <th>precipitation_24_hour_Source_Code</th>\n",
       "      <th>precipitation_24_hour_Source_Station_ID</th>\n",
       "      <th>remarks</th>\n",
       "      <th>remarks_Measurement_Code</th>\n",
       "      <th>remarks_Quality_Code</th>\n",
       "      <th>remarks_Report_Type</th>\n",
       "      <th>remarks_Source_Code</th>\n",
       "      <th>remarks_Source_Station_ID</th>\n",
       "      <th>time</th>\n",
       "      <th>geometry</th>\n",
       "    </tr>\n",
       "  </thead>\n",
       "  <tbody>\n",
       "    <tr>\n",
       "      <th>0</th>\n",
       "      <td>CAW00025343</td>\n",
       "      <td>LANGARA</td>\n",
       "      <td>1954</td>\n",
       "      <td>1</td>\n",
       "      <td>1</td>\n",
       "      <td>9</td>\n",
       "      <td>0</td>\n",
       "      <td>54.25</td>\n",
       "      <td>-133.05</td>\n",
       "      <td>41.1</td>\n",
       "      <td>...</td>\n",
       "      <td>NaN</td>\n",
       "      <td>NaN</td>\n",
       "      <td>NaN</td>\n",
       "      <td>NaN</td>\n",
       "      <td>NaN</td>\n",
       "      <td>NaN</td>\n",
       "      <td>NaN</td>\n",
       "      <td>NaN</td>\n",
       "      <td>1954-01-01 09:00:00</td>\n",
       "      <td>POINT (-14811058.250 7217646.198)</td>\n",
       "    </tr>\n",
       "    <tr>\n",
       "      <th>1</th>\n",
       "      <td>CAW00025343</td>\n",
       "      <td>LANGARA</td>\n",
       "      <td>1954</td>\n",
       "      <td>1</td>\n",
       "      <td>1</td>\n",
       "      <td>21</td>\n",
       "      <td>0</td>\n",
       "      <td>54.25</td>\n",
       "      <td>-133.05</td>\n",
       "      <td>41.1</td>\n",
       "      <td>...</td>\n",
       "      <td>NaN</td>\n",
       "      <td>NaN</td>\n",
       "      <td>NaN</td>\n",
       "      <td>NaN</td>\n",
       "      <td>NaN</td>\n",
       "      <td>NaN</td>\n",
       "      <td>NaN</td>\n",
       "      <td>NaN</td>\n",
       "      <td>1954-01-01 21:00:00</td>\n",
       "      <td>POINT (-14811058.250 7217646.198)</td>\n",
       "    </tr>\n",
       "    <tr>\n",
       "      <th>2</th>\n",
       "      <td>CAW00025343</td>\n",
       "      <td>LANGARA</td>\n",
       "      <td>1954</td>\n",
       "      <td>1</td>\n",
       "      <td>2</td>\n",
       "      <td>3</td>\n",
       "      <td>0</td>\n",
       "      <td>54.25</td>\n",
       "      <td>-133.05</td>\n",
       "      <td>41.1</td>\n",
       "      <td>...</td>\n",
       "      <td>NaN</td>\n",
       "      <td>NaN</td>\n",
       "      <td>NaN</td>\n",
       "      <td>NaN</td>\n",
       "      <td>NaN</td>\n",
       "      <td>NaN</td>\n",
       "      <td>NaN</td>\n",
       "      <td>NaN</td>\n",
       "      <td>1954-01-02 03:00:00</td>\n",
       "      <td>POINT (-14811058.250 7217646.198)</td>\n",
       "    </tr>\n",
       "  </tbody>\n",
       "</table>\n",
       "<p>3 rows × 240 columns</p>\n",
       "</div>"
      ],
      "text/plain": [
       "    Station_ID Station_name  Year  Month  Day  Hour  Minute  Latitude  \\\n",
       "0  CAW00025343      LANGARA  1954      1    1     9       0     54.25   \n",
       "1  CAW00025343      LANGARA  1954      1    1    21       0     54.25   \n",
       "2  CAW00025343      LANGARA  1954      1    2     3       0     54.25   \n",
       "\n",
       "   Longitude  Elevation  ...  precipitation_24_hour_Source_Code  \\\n",
       "0    -133.05       41.1  ...                                NaN   \n",
       "1    -133.05       41.1  ...                                NaN   \n",
       "2    -133.05       41.1  ...                                NaN   \n",
       "\n",
       "   precipitation_24_hour_Source_Station_ID remarks remarks_Measurement_Code  \\\n",
       "0                                      NaN     NaN                      NaN   \n",
       "1                                      NaN     NaN                      NaN   \n",
       "2                                      NaN     NaN                      NaN   \n",
       "\n",
       "   remarks_Quality_Code remarks_Report_Type  remarks_Source_Code  \\\n",
       "0                   NaN                 NaN                  NaN   \n",
       "1                   NaN                 NaN                  NaN   \n",
       "2                   NaN                 NaN                  NaN   \n",
       "\n",
       "   remarks_Source_Station_ID                time  \\\n",
       "0                        NaN 1954-01-01 09:00:00   \n",
       "1                        NaN 1954-01-01 21:00:00   \n",
       "2                        NaN 1954-01-02 03:00:00   \n",
       "\n",
       "                            geometry  \n",
       "0  POINT (-14811058.250 7217646.198)  \n",
       "1  POINT (-14811058.250 7217646.198)  \n",
       "2  POINT (-14811058.250 7217646.198)  \n",
       "\n",
       "[3 rows x 240 columns]"
      ]
     },
     "execution_count": 2,
     "metadata": {},
     "output_type": "execute_result"
    }
   ],
   "source": [
    "%%time\n",
    "ghcnh = GHCNh(stations_local=True)\n",
    "ghcnh.select_wecc()\n",
    "id = ghcnh.stations_df['id'].iloc[0]\n",
    "ghcnh.read_data_from_url(id, save=True)\n",
    "ghcnh.convert_df_to_gpd()\n",
    "lon = ghcnh.station_data.Longitude.mean()\n",
    "lat = ghcnh.station_data.Latitude.mean()\n",
    "print(\"{}, {:.5f}, {:.5f}\".format(id, lon, lat))\n",
    "ghcnh.station_data.head(3)"
   ]
  },
  {
   "cell_type": "markdown",
   "id": "460d1c34-c527-400c-8fed-14f384e6002a",
   "metadata": {},
   "source": [
    "## Train stations and even evaluation"
   ]
  },
  {
   "cell_type": "markdown",
   "id": "ee32ab34-554e-43a9-8bec-7d8e07150347",
   "metadata": {},
   "source": [
    "### Read in stations"
   ]
  },
  {
   "cell_type": "code",
   "execution_count": 3,
   "id": "b768ca2a-0d08-4824-81c9-4b4325ed326e",
   "metadata": {
    "execution": {
     "iopub.execute_input": "2024-10-01T18:00:39.141661Z",
     "iopub.status.busy": "2024-10-01T18:00:39.141366Z",
     "iopub.status.idle": "2024-10-01T18:00:39.164945Z",
     "shell.execute_reply": "2024-10-01T18:00:39.164631Z",
     "shell.execute_reply.started": "2024-10-01T18:00:39.141646Z"
    }
   },
   "outputs": [],
   "source": [
    "train_stns = pd.read_csv('../qaqc_training_station_list_events.csv')"
   ]
  },
  {
   "cell_type": "markdown",
   "id": "dfa0b2f9-4289-45c0-aed2-f07e5513d220",
   "metadata": {},
   "source": [
    "### How to identify other events of interest using a start and end date"
   ]
  },
  {
   "cell_type": "code",
   "execution_count": 4,
   "id": "02c39e75-fccd-4915-be01-c77f9508dbb3",
   "metadata": {
    "execution": {
     "iopub.execute_input": "2024-10-01T18:00:39.165624Z",
     "iopub.status.busy": "2024-10-01T18:00:39.165503Z",
     "iopub.status.idle": "2024-10-01T18:00:39.188300Z",
     "shell.execute_reply": "2024-10-01T18:00:39.188034Z",
     "shell.execute_reply.started": "2024-10-01T18:00:39.165614Z"
    }
   },
   "outputs": [
    {
     "name": "stdout",
     "output_type": "stream",
     "text": [
      "Subsetting station record for event duration with 14 day buffer...\n",
      "5 stations selected for evaluation for comparison!\n",
      "Stations selected for evaluation:\n",
      " ['ASOSAWOS_72488023185', 'CWOP_C3424', 'ASOSAWOS_72492023237', 'ASOSAWOS_72467793007', 'RAWS_NCKC2']\n"
     ]
    },
    {
     "data": {
      "text/html": [
       "<div>\n",
       "<style scoped>\n",
       "    .dataframe tbody tr th:only-of-type {\n",
       "        vertical-align: middle;\n",
       "    }\n",
       "\n",
       "    .dataframe tbody tr th {\n",
       "        vertical-align: top;\n",
       "    }\n",
       "\n",
       "    .dataframe thead th {\n",
       "        text-align: right;\n",
       "    }\n",
       "</style>\n",
       "<table border=\"1\" class=\"dataframe\">\n",
       "  <thead>\n",
       "    <tr style=\"text-align: right;\">\n",
       "      <th></th>\n",
       "      <th>network</th>\n",
       "      <th>era-id</th>\n",
       "      <th>elevation</th>\n",
       "      <th>latitude</th>\n",
       "      <th>longitude</th>\n",
       "      <th>start_date</th>\n",
       "      <th>end_date</th>\n",
       "      <th>event_type</th>\n",
       "      <th>notes</th>\n",
       "    </tr>\n",
       "  </thead>\n",
       "  <tbody>\n",
       "    <tr>\n",
       "      <th>65</th>\n",
       "      <td>ASOSAWOS</td>\n",
       "      <td>ASOSAWOS_72488023185</td>\n",
       "      <td>1342.6440</td>\n",
       "      <td>39.50800</td>\n",
       "      <td>-119.76800</td>\n",
       "      <td>1943-01-05 00:00:00+00:00</td>\n",
       "      <td>2022-12-31 00:00:00+00:00</td>\n",
       "      <td>all</td>\n",
       "      <td>NaN</td>\n",
       "    </tr>\n",
       "    <tr>\n",
       "      <th>380</th>\n",
       "      <td>CWOP</td>\n",
       "      <td>CWOP_C3424</td>\n",
       "      <td>5001.0000</td>\n",
       "      <td>-111.30133</td>\n",
       "      <td>34.23367</td>\n",
       "      <td>2005-03-02 00:00:00+00:00</td>\n",
       "      <td>2014-04-04 22:14:00+00:00</td>\n",
       "      <td>NaN</td>\n",
       "      <td>NaN</td>\n",
       "    </tr>\n",
       "    <tr>\n",
       "      <th>66</th>\n",
       "      <td>ASOSAWOS</td>\n",
       "      <td>ASOSAWOS_72492023237</td>\n",
       "      <td>8.2296</td>\n",
       "      <td>37.89000</td>\n",
       "      <td>-121.22600</td>\n",
       "      <td>1941-01-03 00:00:00+00:00</td>\n",
       "      <td>2022-12-31 00:00:00+00:00</td>\n",
       "      <td>all</td>\n",
       "      <td>NaN</td>\n",
       "    </tr>\n",
       "  </tbody>\n",
       "</table>\n",
       "</div>"
      ],
      "text/plain": [
       "      network                era-id  elevation   latitude  longitude  \\\n",
       "65   ASOSAWOS  ASOSAWOS_72488023185  1342.6440   39.50800 -119.76800   \n",
       "380      CWOP            CWOP_C3424  5001.0000 -111.30133   34.23367   \n",
       "66   ASOSAWOS  ASOSAWOS_72492023237     8.2296   37.89000 -121.22600   \n",
       "\n",
       "                   start_date                  end_date event_type notes  \n",
       "65  1943-01-05 00:00:00+00:00 2022-12-31 00:00:00+00:00        all   NaN  \n",
       "380 2005-03-02 00:00:00+00:00 2014-04-04 22:14:00+00:00        NaN   NaN  \n",
       "66  1941-01-03 00:00:00+00:00 2022-12-31 00:00:00+00:00        all   NaN  "
      ]
     },
     "execution_count": 4,
     "metadata": {},
     "output_type": "execute_result"
    }
   ],
   "source": [
    "alt_start_date = \"2007-10-20\"\n",
    "alt_end_date = \"2007-10-24\"\n",
    "alt_event_stns = find_other_events (train_stns, event_start=alt_start_date, event_end=alt_end_date, buffer=14, subset=5)\n",
    "alt_event_stns.head(3)"
   ]
  },
  {
   "cell_type": "markdown",
   "id": "80be1a57-b1fe-4106-b045-5de1e0056864",
   "metadata": {},
   "source": [
    "### Original functionality of `subset_eval_stns` function, random sampling from trainint stations"
   ]
  },
  {
   "cell_type": "code",
   "execution_count": 5,
   "id": "7504cc69-4747-4ee1-8d6d-91e042742f33",
   "metadata": {
    "execution": {
     "iopub.execute_input": "2024-10-01T18:00:39.189044Z",
     "iopub.status.busy": "2024-10-01T18:00:39.188856Z",
     "iopub.status.idle": "2024-10-01T18:00:39.705579Z",
     "shell.execute_reply": "2024-10-01T18:00:39.705044Z",
     "shell.execute_reply.started": "2024-10-01T18:00:39.189033Z"
    }
   },
   "outputs": [
    {
     "name": "stdout",
     "output_type": "stream",
     "text": [
      "17 potential stations available for evaluation for santa_ana_wind event.\n",
      "5 stations selected for evaluation for santa_ana_wind event!\n",
      "Stations selected for evaluation:\n",
      " ['ASOSAWOS_72292023191', 'ASOSAWOS_72290693112', 'ASOSAWOS_72381603159', 'ASOSAWOS_72382023182', 'CIMIS_75']\n"
     ]
    },
    {
     "data": {
      "text/html": [
       "<div>\n",
       "<style scoped>\n",
       "    .dataframe tbody tr th:only-of-type {\n",
       "        vertical-align: middle;\n",
       "    }\n",
       "\n",
       "    .dataframe tbody tr th {\n",
       "        vertical-align: top;\n",
       "    }\n",
       "\n",
       "    .dataframe thead th {\n",
       "        text-align: right;\n",
       "    }\n",
       "</style>\n",
       "<table border=\"1\" class=\"dataframe\">\n",
       "  <thead>\n",
       "    <tr style=\"text-align: right;\">\n",
       "      <th></th>\n",
       "      <th>network</th>\n",
       "      <th>era-id</th>\n",
       "      <th>elevation</th>\n",
       "      <th>latitude</th>\n",
       "      <th>longitude</th>\n",
       "      <th>start_date</th>\n",
       "      <th>end_date</th>\n",
       "      <th>event_type</th>\n",
       "      <th>notes</th>\n",
       "      <th>STATEFP</th>\n",
       "      <th>...</th>\n",
       "      <th>CBSAFP</th>\n",
       "      <th>METDIVFP</th>\n",
       "      <th>FUNCSTAT</th>\n",
       "      <th>ALAND</th>\n",
       "      <th>AWATER</th>\n",
       "      <th>INTPTLAT</th>\n",
       "      <th>INTPTLON</th>\n",
       "      <th>Shape_Leng</th>\n",
       "      <th>Shape_Area</th>\n",
       "      <th>geometry</th>\n",
       "    </tr>\n",
       "  </thead>\n",
       "  <tbody>\n",
       "    <tr>\n",
       "      <th>2</th>\n",
       "      <td>ASOSAWOS</td>\n",
       "      <td>ASOSAWOS_72292023191</td>\n",
       "      <td>477.0120</td>\n",
       "      <td>33.404</td>\n",
       "      <td>-118.415</td>\n",
       "      <td>1943-06-12 00:00:00+00:00</td>\n",
       "      <td>2022-12-31 00:00:00+00:00</td>\n",
       "      <td>all</td>\n",
       "      <td>NaN</td>\n",
       "      <td>06</td>\n",
       "      <td>...</td>\n",
       "      <td>31080</td>\n",
       "      <td>31084</td>\n",
       "      <td>A</td>\n",
       "      <td>1.051186e+10</td>\n",
       "      <td>1.793485e+09</td>\n",
       "      <td>+34.1963983</td>\n",
       "      <td>-118.2618616</td>\n",
       "      <td>883876.944789</td>\n",
       "      <td>1.803431e+10</td>\n",
       "      <td>POINT (-13181897.502 3949051.804)</td>\n",
       "    </tr>\n",
       "    <tr>\n",
       "      <th>9</th>\n",
       "      <td>ASOSAWOS</td>\n",
       "      <td>ASOSAWOS_72290693112</td>\n",
       "      <td>4.2672</td>\n",
       "      <td>32.692</td>\n",
       "      <td>-117.210</td>\n",
       "      <td>1945-04-01 00:00:00+00:00</td>\n",
       "      <td>2022-12-31 00:00:00+00:00</td>\n",
       "      <td>all</td>\n",
       "      <td>NaN</td>\n",
       "      <td>06</td>\n",
       "      <td>...</td>\n",
       "      <td>41740</td>\n",
       "      <td>NaN</td>\n",
       "      <td>A</td>\n",
       "      <td>1.090437e+10</td>\n",
       "      <td>8.174046e+08</td>\n",
       "      <td>+33.0236041</td>\n",
       "      <td>-116.7761174</td>\n",
       "      <td>553042.602989</td>\n",
       "      <td>1.672201e+10</td>\n",
       "      <td>POINT (-13047757.516 3854493.112)</td>\n",
       "    </tr>\n",
       "    <tr>\n",
       "      <th>5</th>\n",
       "      <td>ASOSAWOS</td>\n",
       "      <td>ASOSAWOS_72381603159</td>\n",
       "      <td>712.6224</td>\n",
       "      <td>34.741</td>\n",
       "      <td>-118.213</td>\n",
       "      <td>1974-06-01 00:00:00+00:00</td>\n",
       "      <td>2022-12-31 00:00:00+00:00</td>\n",
       "      <td>all</td>\n",
       "      <td>NaN</td>\n",
       "      <td>06</td>\n",
       "      <td>...</td>\n",
       "      <td>31080</td>\n",
       "      <td>31084</td>\n",
       "      <td>A</td>\n",
       "      <td>1.051186e+10</td>\n",
       "      <td>1.793485e+09</td>\n",
       "      <td>+34.1963983</td>\n",
       "      <td>-118.2618616</td>\n",
       "      <td>883876.944789</td>\n",
       "      <td>1.803431e+10</td>\n",
       "      <td>POINT (-13159410.965 4128739.545)</td>\n",
       "    </tr>\n",
       "  </tbody>\n",
       "</table>\n",
       "<p>3 rows × 29 columns</p>\n",
       "</div>"
      ],
      "text/plain": [
       "    network                era-id  elevation  latitude  longitude  \\\n",
       "2  ASOSAWOS  ASOSAWOS_72292023191   477.0120    33.404   -118.415   \n",
       "9  ASOSAWOS  ASOSAWOS_72290693112     4.2672    32.692   -117.210   \n",
       "5  ASOSAWOS  ASOSAWOS_72381603159   712.6224    34.741   -118.213   \n",
       "\n",
       "                 start_date                  end_date event_type notes  \\\n",
       "2 1943-06-12 00:00:00+00:00 2022-12-31 00:00:00+00:00        all   NaN   \n",
       "9 1945-04-01 00:00:00+00:00 2022-12-31 00:00:00+00:00        all   NaN   \n",
       "5 1974-06-01 00:00:00+00:00 2022-12-31 00:00:00+00:00        all   NaN   \n",
       "\n",
       "  STATEFP  ... CBSAFP METDIVFP FUNCSTAT         ALAND        AWATER  \\\n",
       "2      06  ...  31080    31084        A  1.051186e+10  1.793485e+09   \n",
       "9      06  ...  41740      NaN        A  1.090437e+10  8.174046e+08   \n",
       "5      06  ...  31080    31084        A  1.051186e+10  1.793485e+09   \n",
       "\n",
       "      INTPTLAT      INTPTLON     Shape_Leng    Shape_Area  \\\n",
       "2  +34.1963983  -118.2618616  883876.944789  1.803431e+10   \n",
       "9  +33.0236041  -116.7761174  553042.602989  1.672201e+10   \n",
       "5  +34.1963983  -118.2618616  883876.944789  1.803431e+10   \n",
       "\n",
       "                            geometry  \n",
       "2  POINT (-13181897.502 3949051.804)  \n",
       "9  POINT (-13047757.516 3854493.112)  \n",
       "5  POINT (-13159410.965 4128739.545)  \n",
       "\n",
       "[3 rows x 29 columns]"
      ]
     },
     "execution_count": 5,
     "metadata": {},
     "output_type": "execute_result"
    }
   ],
   "source": [
    "eval_stations = subset_eval_stns(\n",
    "    event_to_eval = 'santa_ana_wind',\n",
    "    stn_list = train_stns,\n",
    "    subset = 5,\n",
    "    return_stn_ids = True\n",
    ")\n",
    "eval_stations.head(3)"
   ]
  },
  {
   "cell_type": "code",
   "execution_count": 6,
   "id": "374ceec1-4b15-466c-ba18-7237f47ec6f7",
   "metadata": {
    "execution": {
     "iopub.execute_input": "2024-10-01T18:00:39.706389Z",
     "iopub.status.busy": "2024-10-01T18:00:39.706229Z",
     "iopub.status.idle": "2024-10-01T18:00:39.771190Z",
     "shell.execute_reply": "2024-10-01T18:00:39.770688Z",
     "shell.execute_reply.started": "2024-10-01T18:00:39.706375Z"
    }
   },
   "outputs": [
    {
     "data": {
      "text/plain": [
       "'CIMIS_75'"
      ]
     },
     "execution_count": 6,
     "metadata": {},
     "output_type": "execute_result"
    }
   ],
   "source": [
    "eval_stations['era-id'].values[-1]\n",
    "# eval_stations.loc[eval_stations['era-id']==stn_id]"
   ]
  },
  {
   "cell_type": "code",
   "execution_count": 7,
   "id": "1aa20598-2caa-450f-ac65-a9a3cdfb52cd",
   "metadata": {
    "execution": {
     "iopub.execute_input": "2024-10-01T18:00:39.775577Z",
     "iopub.status.busy": "2024-10-01T18:00:39.775436Z",
     "iopub.status.idle": "2024-10-01T18:00:45.583099Z",
     "shell.execute_reply": "2024-10-01T18:00:45.582714Z",
     "shell.execute_reply.started": "2024-10-01T18:00:39.775566Z"
    }
   },
   "outputs": [
    {
     "data": {
      "text/plain": [
       "[<matplotlib.lines.Line2D at 0x371843760>]"
      ]
     },
     "execution_count": 7,
     "metadata": {},
     "output_type": "execute_result"
    },
    {
     "data": {
      "image/png": "[encoded data removed]",
      "text/plain": [
       "<Figure size 640x480 with 1 Axes>"
      ]
     },
     "metadata": {},
     "output_type": "display_data"
    }
   ],
   "source": [
    "fig,ax = stn_visualize(\n",
    "    stn_id = eval_stations['era-id'].values[-1],\n",
    "    stn_list = eval_stations,\n",
    "    event_to_eval = 'santa_ana_wind'\n",
    ")\n",
    "\n",
    "ax.plot(ghcnh.stations_df.longitude, ghcnh.stations_df.latitude, 'x', markersize=4, transform=ccrs.PlateCarree(), mfc='none')"
   ]
  },
  {
   "cell_type": "markdown",
   "id": "b6ea2523-1778-481a-a847-41d52a92eb9b",
   "metadata": {},
   "source": [
    "### New addition, specific station flag\n",
    "\n",
    "<div style=\"width: 60%;\">\n",
    "Specific station flag introduced to control which station we are analyzing\n",
    "Useful for debugging, down the line this would help to manage using the same\n",
    "station and not download different stations every time in the nearest stations\n",
    "part (down)\n",
    "</div>"
   ]
  },
  {
   "cell_type": "code",
   "execution_count": 8,
   "id": "1f1c8318-a7b9-4ea0-8cf8-c838bb57a24e",
   "metadata": {
    "execution": {
     "iopub.execute_input": "2024-10-01T18:00:45.583766Z",
     "iopub.status.busy": "2024-10-01T18:00:45.583573Z",
     "iopub.status.idle": "2024-10-01T18:00:46.507505Z",
     "shell.execute_reply": "2024-10-01T18:00:46.505250Z",
     "shell.execute_reply.started": "2024-10-01T18:00:45.583745Z"
    }
   },
   "outputs": [
    {
     "name": "stdout",
     "output_type": "stream",
     "text": [
      "17 potential stations available for evaluation for santa_ana_wind event.\n"
     ]
    },
    {
     "ename": "ValueError",
     "evalue": "Station CIMIS_80 is not within the training/event dataset",
     "output_type": "error",
     "traceback": [
      "\u001b[0;31m---------------------------------------------------------------------------\u001b[0m",
      "\u001b[0;31mValueError\u001b[0m                                Traceback (most recent call last)",
      "Cell \u001b[0;32mIn[8], line 3\u001b[0m\n\u001b[1;32m      1\u001b[0m \u001b[38;5;124;03m\"\"\" Test when station is not in the training/event dataframe\"\"\"\u001b[39;00m\n\u001b[0;32m----> 3\u001b[0m eval_stations \u001b[38;5;241m=\u001b[39m \u001b[43msubset_eval_stns\u001b[49m\u001b[43m(\u001b[49m\n\u001b[1;32m      4\u001b[0m \u001b[43m    \u001b[49m\u001b[43mevent_to_eval\u001b[49m\u001b[43m \u001b[49m\u001b[38;5;241;43m=\u001b[39;49m\u001b[43m \u001b[49m\u001b[38;5;124;43m'\u001b[39;49m\u001b[38;5;124;43msanta_ana_wind\u001b[39;49m\u001b[38;5;124;43m'\u001b[39;49m\u001b[43m,\u001b[49m\n\u001b[1;32m      5\u001b[0m \u001b[43m    \u001b[49m\u001b[43mstn_list\u001b[49m\u001b[43m \u001b[49m\u001b[38;5;241;43m=\u001b[39;49m\u001b[43m \u001b[49m\u001b[43mtrain_stns\u001b[49m\u001b[43m,\u001b[49m\n\u001b[1;32m      6\u001b[0m \u001b[43m    \u001b[49m\u001b[43mspecific_station\u001b[49m\u001b[38;5;241;43m=\u001b[39;49m\u001b[38;5;124;43m'\u001b[39;49m\u001b[38;5;124;43mCIMIS_80\u001b[39;49m\u001b[38;5;124;43m'\u001b[39;49m\u001b[43m,\u001b[49m\n\u001b[1;32m      7\u001b[0m \u001b[43m    \u001b[49m\u001b[43mreturn_stn_ids\u001b[49m\u001b[43m \u001b[49m\u001b[38;5;241;43m=\u001b[39;49m\u001b[43m \u001b[49m\u001b[38;5;28;43;01mTrue\u001b[39;49;00m\n\u001b[1;32m      8\u001b[0m \u001b[43m)\u001b[49m\n\u001b[1;32m      9\u001b[0m eval_stations\n",
      "File \u001b[0;32m~/ERA_work/historical-obs-platform/test_platform/scripts/3_qaqc_data/qaqc_eval_notebooks/qaqc_eval_utils.py:192\u001b[0m, in \u001b[0;36msubset_eval_stns\u001b[0;34m(event_to_eval, stn_list, specific_station, subset, return_stn_ids)\u001b[0m\n\u001b[1;32m    190\u001b[0m     eval_stns \u001b[38;5;241m=\u001b[39m event_stns[event_stns[\u001b[38;5;124m'\u001b[39m\u001b[38;5;124mera-id\u001b[39m\u001b[38;5;124m'\u001b[39m]\u001b[38;5;241m==\u001b[39mspecific_station]\n\u001b[1;32m    191\u001b[0m     \u001b[38;5;28;01mif\u001b[39;00m \u001b[38;5;28mlen\u001b[39m(eval_stns)\u001b[38;5;241m==\u001b[39m\u001b[38;5;241m0\u001b[39m:\n\u001b[0;32m--> 192\u001b[0m         \u001b[38;5;28;01mraise\u001b[39;00m \u001b[38;5;167;01mValueError\u001b[39;00m(\u001b[38;5;124mf\u001b[39m\u001b[38;5;124m\"\u001b[39m\u001b[38;5;124mStation \u001b[39m\u001b[38;5;132;01m{\u001b[39;00mspecific_station\u001b[38;5;132;01m}\u001b[39;00m\u001b[38;5;124m is not within the training/event dataset\u001b[39m\u001b[38;5;124m\"\u001b[39m)\n\u001b[1;32m    193\u001b[0m     \u001b[38;5;28;01mreturn\u001b[39;00m eval_stns\n\u001b[1;32m    195\u001b[0m \u001b[38;5;28;01mif\u001b[39;00m subset \u001b[38;5;241m!=\u001b[39m \u001b[38;5;28;01mNone\u001b[39;00m:\n",
      "\u001b[0;31mValueError\u001b[0m: Station CIMIS_80 is not within the training/event dataset"
     ]
    }
   ],
   "source": [
    "\"\"\" Test when station is not in the training/event dataframe\"\"\"\n",
    "\n",
    "eval_stations = subset_eval_stns(\n",
    "    event_to_eval = 'santa_ana_wind',\n",
    "    stn_list = train_stns,\n",
    "    specific_station='CIMIS_80',\n",
    "    return_stn_ids = True\n",
    ")\n",
    "eval_stations"
   ]
  },
  {
   "cell_type": "code",
   "execution_count": 9,
   "id": "1b374fb9-7058-46d3-a479-3da850b4e791",
   "metadata": {
    "execution": {
     "iopub.execute_input": "2024-10-01T18:00:49.710663Z",
     "iopub.status.busy": "2024-10-01T18:00:49.709990Z",
     "iopub.status.idle": "2024-10-01T18:00:49.749135Z",
     "shell.execute_reply": "2024-10-01T18:00:49.748726Z",
     "shell.execute_reply.started": "2024-10-01T18:00:49.710625Z"
    }
   },
   "outputs": [],
   "source": [
    "specific_station = 'CIMIS_45'\n",
    "specific_station = 'CIMIS_75'"
   ]
  },
  {
   "cell_type": "code",
   "execution_count": 10,
   "id": "101b57fb-30cb-47f0-967a-0c0782f90a4d",
   "metadata": {
    "execution": {
     "iopub.execute_input": "2024-10-01T18:00:50.361031Z",
     "iopub.status.busy": "2024-10-01T18:00:50.360151Z",
     "iopub.status.idle": "2024-10-01T18:00:50.800017Z",
     "shell.execute_reply": "2024-10-01T18:00:50.799711Z",
     "shell.execute_reply.started": "2024-10-01T18:00:50.360951Z"
    }
   },
   "outputs": [
    {
     "name": "stdout",
     "output_type": "stream",
     "text": [
      "17 potential stations available for evaluation for santa_ana_wind event.\n"
     ]
    },
    {
     "data": {
      "text/html": [
       "<div>\n",
       "<style scoped>\n",
       "    .dataframe tbody tr th:only-of-type {\n",
       "        vertical-align: middle;\n",
       "    }\n",
       "\n",
       "    .dataframe tbody tr th {\n",
       "        vertical-align: top;\n",
       "    }\n",
       "\n",
       "    .dataframe thead th {\n",
       "        text-align: right;\n",
       "    }\n",
       "</style>\n",
       "<table border=\"1\" class=\"dataframe\">\n",
       "  <thead>\n",
       "    <tr style=\"text-align: right;\">\n",
       "      <th></th>\n",
       "      <th>network</th>\n",
       "      <th>era-id</th>\n",
       "      <th>elevation</th>\n",
       "      <th>latitude</th>\n",
       "      <th>longitude</th>\n",
       "      <th>start_date</th>\n",
       "      <th>end_date</th>\n",
       "      <th>event_type</th>\n",
       "      <th>notes</th>\n",
       "      <th>geometry</th>\n",
       "    </tr>\n",
       "  </thead>\n",
       "  <tbody>\n",
       "    <tr>\n",
       "      <th>248</th>\n",
       "      <td>CIMIS</td>\n",
       "      <td>CIMIS_75</td>\n",
       "      <td>410.0</td>\n",
       "      <td>33.68845</td>\n",
       "      <td>-117.72118</td>\n",
       "      <td>1987-10-07 00:00:00+00:00</td>\n",
       "      <td>2024-01-22 13:36:19.951554+00:00</td>\n",
       "      <td>all</td>\n",
       "      <td>NaN</td>\n",
       "      <td>POINT (-13104661.813 3987044.797)</td>\n",
       "    </tr>\n",
       "  </tbody>\n",
       "</table>\n",
       "</div>"
      ],
      "text/plain": [
       "    network    era-id  elevation  latitude  longitude  \\\n",
       "248   CIMIS  CIMIS_75      410.0  33.68845 -117.72118   \n",
       "\n",
       "                   start_date                         end_date event_type  \\\n",
       "248 1987-10-07 00:00:00+00:00 2024-01-22 13:36:19.951554+00:00        all   \n",
       "\n",
       "    notes                           geometry  \n",
       "248   NaN  POINT (-13104661.813 3987044.797)  "
      ]
     },
     "execution_count": 10,
     "metadata": {},
     "output_type": "execute_result"
    }
   ],
   "source": [
    "eval_stations = subset_eval_stns(\n",
    "    event_to_eval = 'santa_ana_wind',\n",
    "    stn_list = train_stns,\n",
    "    specific_station=specific_station,\n",
    "    return_stn_ids = True\n",
    ")\n",
    "eval_stations"
   ]
  },
  {
   "cell_type": "markdown",
   "id": "b40c99b1-8608-4cd1-bbbb-d90f367341ad",
   "metadata": {},
   "source": [
    "#### Plot 'specific station' from the training and the GHCNh stations in the 'area'"
   ]
  },
  {
   "cell_type": "code",
   "execution_count": 20,
   "id": "3f8cc510-ed96-4ca2-9050-f79f511d512e",
   "metadata": {
    "execution": {
     "iopub.execute_input": "2024-10-01T18:01:55.801996Z",
     "iopub.status.busy": "2024-10-01T18:01:55.801495Z",
     "iopub.status.idle": "2024-10-01T18:01:56.262561Z",
     "shell.execute_reply": "2024-10-01T18:01:56.262211Z",
     "shell.execute_reply.started": "2024-10-01T18:01:55.801957Z"
    }
   },
   "outputs": [
    {
     "data": {
      "text/plain": [
       "[<matplotlib.lines.Line2D at 0x352d56be0>]"
      ]
     },
     "execution_count": 20,
     "metadata": {},
     "output_type": "execute_result"
    },
    {
     "data": {
      "image/png": "[encoded data removed]",
      "text/plain": [
       "<Figure size 640x480 with 1 Axes>"
      ]
     },
     "metadata": {},
     "output_type": "display_data"
    }
   ],
   "source": [
    "fig,ax = stn_visualize(\n",
    "    stn_id = specific_station,\n",
    "    stn_list = eval_stations,\n",
    "    event_to_eval = 'santa_ana_wind'\n",
    ")\n",
    "\n",
    "ax.plot(ghcnh.stations_df.longitude, ghcnh.stations_df.latitude, 'x', markersize=4, transform=ccrs.PlateCarree(), mfc='none')"
   ]
  },
  {
   "cell_type": "markdown",
   "id": "8e2a793b-e5e5-410d-9f47-991c99dd5925",
   "metadata": {},
   "source": [
    "## GHCNh stations distance to the testing stations\n",
    "\n",
    "<div style=\"width: 60%;\">\n",
    "Create a distnace to specific station column for the ghcnh dataframe\n",
    "Then, sort by distance to have the nearest stations to the one we are evaluating\n",
    "</div>"
   ]
  },
  {
   "cell_type": "markdown",
   "id": "a8948ca2-56c4-4610-85a8-e8bf1a138d19",
   "metadata": {},
   "source": [
    "### Create distance and sort it"
   ]
  },
  {
   "cell_type": "code",
   "execution_count": 12,
   "id": "03d95769-1d0b-4bd5-a6b8-01e01cd40222",
   "metadata": {
    "execution": {
     "iopub.execute_input": "2024-10-01T18:00:51.835431Z",
     "iopub.status.busy": "2024-10-01T18:00:51.834575Z",
     "iopub.status.idle": "2024-10-01T18:00:51.892544Z",
     "shell.execute_reply": "2024-10-01T18:00:51.892156Z",
     "shell.execute_reply.started": "2024-10-01T18:00:51.835360Z"
    }
   },
   "outputs": [
    {
     "data": {
      "text/html": [
       "<div>\n",
       "<style scoped>\n",
       "    .dataframe tbody tr th:only-of-type {\n",
       "        vertical-align: middle;\n",
       "    }\n",
       "\n",
       "    .dataframe tbody tr th {\n",
       "        vertical-align: top;\n",
       "    }\n",
       "\n",
       "    .dataframe thead th {\n",
       "        text-align: right;\n",
       "    }\n",
       "</style>\n",
       "<table border=\"1\" class=\"dataframe\">\n",
       "  <thead>\n",
       "    <tr style=\"text-align: right;\">\n",
       "      <th></th>\n",
       "      <th>longitude</th>\n",
       "      <th>latitude</th>\n",
       "    </tr>\n",
       "  </thead>\n",
       "  <tbody>\n",
       "    <tr>\n",
       "      <th>248</th>\n",
       "      <td>-117.72118</td>\n",
       "      <td>33.68845</td>\n",
       "    </tr>\n",
       "  </tbody>\n",
       "</table>\n",
       "</div>"
      ],
      "text/plain": [
       "     longitude  latitude\n",
       "248 -117.72118  33.68845"
      ]
     },
     "metadata": {},
     "output_type": "display_data"
    },
    {
     "data": {
      "text/html": [
       "<div>\n",
       "<style scoped>\n",
       "    .dataframe tbody tr th:only-of-type {\n",
       "        vertical-align: middle;\n",
       "    }\n",
       "\n",
       "    .dataframe tbody tr th {\n",
       "        vertical-align: top;\n",
       "    }\n",
       "\n",
       "    .dataframe thead th {\n",
       "        text-align: right;\n",
       "    }\n",
       "</style>\n",
       "<table border=\"1\" class=\"dataframe\">\n",
       "  <thead>\n",
       "    <tr style=\"text-align: right;\">\n",
       "      <th></th>\n",
       "      <th>id</th>\n",
       "      <th>latitude</th>\n",
       "      <th>longitude</th>\n",
       "      <th>elevation</th>\n",
       "      <th>state</th>\n",
       "      <th>name</th>\n",
       "      <th>gsn_flag</th>\n",
       "      <th>hcn</th>\n",
       "      <th>crn_flag</th>\n",
       "      <th>wmo_id</th>\n",
       "      <th>url</th>\n",
       "      <th>is_in_wecc</th>\n",
       "      <th>geometry</th>\n",
       "      <th>distance_to_eval</th>\n",
       "    </tr>\n",
       "  </thead>\n",
       "  <tbody>\n",
       "    <tr>\n",
       "      <th>5627</th>\n",
       "      <td>USW00093184</td>\n",
       "      <td>33.6797</td>\n",
       "      <td>-117.8675</td>\n",
       "      <td>13.1</td>\n",
       "      <td>CA</td>\n",
       "      <td>SANTA ANA JOHN WAYNE AP</td>\n",
       "      <td></td>\n",
       "      <td></td>\n",
       "      <td></td>\n",
       "      <td>NaN</td>\n",
       "      <td>https://www.ncei.noaa.gov/oa/global-historical...</td>\n",
       "      <td>True</td>\n",
       "      <td>POINT (-13120950.081 3985874.222)</td>\n",
       "      <td>16330.276109</td>\n",
       "    </tr>\n",
       "    <tr>\n",
       "      <th>5138</th>\n",
       "      <td>USW00053175</td>\n",
       "      <td>33.8978</td>\n",
       "      <td>-117.6025</td>\n",
       "      <td>162.5</td>\n",
       "      <td>CA</td>\n",
       "      <td>CORONA MUNICIPAL AP</td>\n",
       "      <td></td>\n",
       "      <td></td>\n",
       "      <td></td>\n",
       "      <td>NaN</td>\n",
       "      <td>https://www.ncei.noaa.gov/oa/global-historical...</td>\n",
       "      <td>True</td>\n",
       "      <td>POINT (-13091450.416 4015087.305)</td>\n",
       "      <td>30998.762024</td>\n",
       "    </tr>\n",
       "    <tr>\n",
       "      <th>3575</th>\n",
       "      <td>USW00003166</td>\n",
       "      <td>33.8717</td>\n",
       "      <td>-117.9855</td>\n",
       "      <td>26.2</td>\n",
       "      <td>CA</td>\n",
       "      <td>FULLERTON MUNI AP</td>\n",
       "      <td></td>\n",
       "      <td></td>\n",
       "      <td></td>\n",
       "      <td>NaN</td>\n",
       "      <td>https://www.ncei.noaa.gov/oa/global-historical...</td>\n",
       "      <td>True</td>\n",
       "      <td>POINT (-13134085.781 4011587.454)</td>\n",
       "      <td>38315.948053</td>\n",
       "    </tr>\n",
       "    <tr>\n",
       "      <th>5110</th>\n",
       "      <td>USW00053141</td>\n",
       "      <td>33.7900</td>\n",
       "      <td>-118.0519</td>\n",
       "      <td>10.7</td>\n",
       "      <td>CA</td>\n",
       "      <td>LOS ALAMITOS AAF</td>\n",
       "      <td></td>\n",
       "      <td></td>\n",
       "      <td></td>\n",
       "      <td>NaN</td>\n",
       "      <td>https://www.ncei.noaa.gov/oa/global-historical...</td>\n",
       "      <td>True</td>\n",
       "      <td>POINT (-13141477.395 4000638.892)</td>\n",
       "      <td>39245.209887</td>\n",
       "    </tr>\n",
       "    <tr>\n",
       "      <th>3582</th>\n",
       "      <td>USW00003179</td>\n",
       "      <td>33.9756</td>\n",
       "      <td>-117.6250</td>\n",
       "      <td>193.9</td>\n",
       "      <td>CA</td>\n",
       "      <td>CHINO AP</td>\n",
       "      <td></td>\n",
       "      <td></td>\n",
       "      <td></td>\n",
       "      <td>NaN</td>\n",
       "      <td>https://www.ncei.noaa.gov/oa/global-historical...</td>\n",
       "      <td>True</td>\n",
       "      <td>POINT (-13093955.105 4025526.173)</td>\n",
       "      <td>39943.083072</td>\n",
       "    </tr>\n",
       "  </tbody>\n",
       "</table>\n",
       "</div>"
      ],
      "text/plain": [
       "               id  latitude  longitude  elevation state  \\\n",
       "5627  USW00093184   33.6797  -117.8675       13.1    CA   \n",
       "5138  USW00053175   33.8978  -117.6025      162.5    CA   \n",
       "3575  USW00003166   33.8717  -117.9855       26.2    CA   \n",
       "5110  USW00053141   33.7900  -118.0519       10.7    CA   \n",
       "3582  USW00003179   33.9756  -117.6250      193.9    CA   \n",
       "\n",
       "                                 name gsn_flag   hcn crn_flag  wmo_id  \\\n",
       "5627   SANTA ANA JOHN WAYNE AP                                    NaN   \n",
       "5138   CORONA MUNICIPAL AP                                        NaN   \n",
       "3575   FULLERTON MUNI AP                                          NaN   \n",
       "5110   LOS ALAMITOS AAF                                           NaN   \n",
       "3582   CHINO AP                                                   NaN   \n",
       "\n",
       "                                                    url  is_in_wecc  \\\n",
       "5627  https://www.ncei.noaa.gov/oa/global-historical...        True   \n",
       "5138  https://www.ncei.noaa.gov/oa/global-historical...        True   \n",
       "3575  https://www.ncei.noaa.gov/oa/global-historical...        True   \n",
       "5110  https://www.ncei.noaa.gov/oa/global-historical...        True   \n",
       "3582  https://www.ncei.noaa.gov/oa/global-historical...        True   \n",
       "\n",
       "                               geometry  distance_to_eval  \n",
       "5627  POINT (-13120950.081 3985874.222)      16330.276109  \n",
       "5138  POINT (-13091450.416 4015087.305)      30998.762024  \n",
       "3575  POINT (-13134085.781 4011587.454)      38315.948053  \n",
       "5110  POINT (-13141477.395 4000638.892)      39245.209887  \n",
       "3582  POINT (-13093955.105 4025526.173)      39943.083072  "
      ]
     },
     "execution_count": 12,
     "metadata": {},
     "output_type": "execute_result"
    }
   ],
   "source": [
    "stn_id = eval_stations['era-id'].values[-1]\n",
    "point = eval_stations.loc[eval_stations['era-id']==stn_id].geometry.iloc[0]\n",
    "ghcnh_stations_df = ghcnh.stations_df.copy()\n",
    "display(eval_stations.loc[eval_stations['era-id']==stn_id, [\"longitude\",\"latitude\"]])\n",
    "ghcnh_stations_df['distance_to_eval'] = ghcnh_stations_df.distance(point, )\n",
    "ghcnh_stations_df = ghcnh_stations_df.sort_values(by=\"distance_to_eval\")\n",
    "ghcnh_stations_df.head(5)"
   ]
  },
  {
   "cell_type": "markdown",
   "id": "479b0170-3f7d-4c75-a686-d65830af9fb8",
   "metadata": {},
   "source": [
    "### Plot the closest 10 stations to the train/eval station"
   ]
  },
  {
   "cell_type": "code",
   "execution_count": 21,
   "id": "bff506b0-873c-4a6c-acbf-6e105e5ae1af",
   "metadata": {
    "execution": {
     "iopub.execute_input": "2024-10-01T18:02:07.954127Z",
     "iopub.status.busy": "2024-10-01T18:02:07.953254Z",
     "iopub.status.idle": "2024-10-01T18:02:08.349753Z",
     "shell.execute_reply": "2024-10-01T18:02:08.349418Z",
     "shell.execute_reply.started": "2024-10-01T18:02:07.954060Z"
    }
   },
   "outputs": [
    {
     "data": {
      "image/png": "[encoded data removed]",
      "text/plain": [
       "<Figure size 640x480 with 1 Axes>"
      ]
     },
     "metadata": {},
     "output_type": "display_data"
    }
   ],
   "source": [
    "fig,ax = stn_visualize(\n",
    "    stn_id = specific_station,\n",
    "    stn_list = eval_stations,\n",
    "    event_to_eval = 'santa_ana_wind'\n",
    ")\n",
    "\n",
    "plot_df = ghcnh_stations_df.iloc[:10]\n",
    "ax.plot(plot_df.longitude, plot_df.latitude, 'x', markersize=6, transform=ccrs.PlateCarree(), mfc='none');"
   ]
  },
  {
   "cell_type": "code",
   "execution_count": 22,
   "id": "cff25002-086b-458e-b3e6-5e90712ee97a",
   "metadata": {
    "execution": {
     "iopub.execute_input": "2024-10-01T18:02:10.159519Z",
     "iopub.status.busy": "2024-10-01T18:02:10.158809Z",
     "iopub.status.idle": "2024-10-01T18:02:10.201618Z",
     "shell.execute_reply": "2024-10-01T18:02:10.201187Z",
     "shell.execute_reply.started": "2024-10-01T18:02:10.159476Z"
    }
   },
   "outputs": [],
   "source": [
    "def return_ghcn_vars(ghcn_df, input_var):\n",
    "    '''\n",
    "    Given an input variable, return GHCNh location variables and all relevant data variables,\n",
    "    rather than utilizing the whole 240 cols, or having to know how ghcnh labels the cols.\n",
    "\n",
    "    input_var must follow ERA naming scheme (tas, tdps, ps, pr, etc.)\n",
    "    '''\n",
    "    ghcnh_vars = pd.read_csv('ghcnh_data_headers.csv')\n",
    "\n",
    "    # include station-ID, time, loc, elevation (cols 1-10)\n",
    "    stn_info_cols = ['Station_ID', 'Station_name', 'time',\n",
    "                     'Latitude','Longitude','Elevation',\n",
    "                     'geometry'\n",
    "                    ]\n",
    "    vars = {\n",
    "        'tas': 'temperature',\n",
    "        'tdps': 'dew_point_temperature',\n",
    "        'tdps_derived': 'dew_point_temperature',\n",
    "        'ps': 'station_level_pressure',\n",
    "        'psl': 'station_level_pressure',\n",
    "        'sfcWind_dir': 'wind_direction',\n",
    "        'sfcWind': 'wind_speed',\n",
    "        'tas': 'temperature',\n",
    "        'hurs': 'relative_humidity',\n",
    "        'rsds': \"N/A\",\n",
    "        'pr': 'precipitation',\n",
    "        'pr_1h': 'precipitation',\n",
    "        'pr_5min': 'precipitation',\n",
    "    }\n",
    "    if input_var in vars.keys():\n",
    "        i = ghcn_df.columns.get_loc(vars[input_var])\n",
    "        j = i+6\n",
    "        # For wind, include wind gust\n",
    "        if input_var==\"sfcWind\":\n",
    "            j = j+6\n",
    "        var_cols = ghcn_df.iloc[:, i:j].columns\n",
    "        return_cols = np.concatenate([stn_info_cols,var_cols])\n",
    "        \n",
    "        return ghcn_df.loc[:, return_cols], vars\n",
    "    else:\n",
    "        raise Exception(f\"Variable {input_var} not in variables' dictionary\")"
   ]
  },
  {
   "cell_type": "code",
   "execution_count": 23,
   "id": "79115793-dd89-499b-bc6c-3127f1fcb67f",
   "metadata": {
    "execution": {
     "iopub.execute_input": "2024-10-01T18:02:13.154536Z",
     "iopub.status.busy": "2024-10-01T18:02:13.153831Z",
     "iopub.status.idle": "2024-10-01T18:02:13.194628Z",
     "shell.execute_reply": "2024-10-01T18:02:13.194292Z",
     "shell.execute_reply.started": "2024-10-01T18:02:13.154495Z"
    }
   },
   "outputs": [
    {
     "data": {
      "text/plain": [
       "{'tas': 'temperature',\n",
       " 'tdps': 'dew_point_temperature',\n",
       " 'tdps_derived': 'dew_point_temperature',\n",
       " 'ps': 'station_level_pressure',\n",
       " 'psl': 'station_level_pressure',\n",
       " 'sfcWind_dir': 'wind_direction',\n",
       " 'sfcWind': 'wind_speed',\n",
       " 'hurs': 'relative_humidity',\n",
       " 'rsds': 'N/A',\n",
       " 'pr': 'precipitation',\n",
       " 'pr_1h': 'precipitation',\n",
       " 'pr_5min': 'precipitation'}"
      ]
     },
     "execution_count": 23,
     "metadata": {},
     "output_type": "execute_result"
    }
   ],
   "source": [
    "era2ghcn_vars"
   ]
  },
  {
   "cell_type": "code",
   "execution_count": 17,
   "id": "8e7922ce-be61-4d80-a12f-ced0db800727",
   "metadata": {
    "execution": {
     "iopub.execute_input": "2024-10-01T18:00:54.357272Z",
     "iopub.status.busy": "2024-10-01T18:00:54.356643Z",
     "iopub.status.idle": "2024-10-01T18:00:54.393795Z",
     "shell.execute_reply": "2024-10-01T18:00:54.393337Z",
     "shell.execute_reply.started": "2024-10-01T18:00:54.357230Z"
    }
   },
   "outputs": [],
   "source": [
    "# df, vars = return_ghcn_vars(ghcnh.station_data, 'tas')"
   ]
  },
  {
   "cell_type": "code",
   "execution_count": null,
   "id": "b2737077-28e4-4b01-a499-813cb7b7b0b1",
   "metadata": {
    "execution": {
     "iopub.status.busy": "2024-10-01T18:00:46.516250Z",
     "iopub.status.idle": "2024-10-01T18:00:46.516392Z",
     "shell.execute_reply": "2024-10-01T18:00:46.516315Z",
     "shell.execute_reply.started": "2024-10-01T18:00:46.516310Z"
    }
   },
   "outputs": [],
   "source": [
    "# len(df.temperature_Quality_Code.dropna())/len(df.temperature_Quality_Code)"
   ]
  },
  {
   "cell_type": "code",
   "execution_count": 18,
   "id": "a4dcd8f5-180d-4a1a-bf92-26a5f1d210d3",
   "metadata": {
    "execution": {
     "iopub.execute_input": "2024-10-01T18:01:02.019907Z",
     "iopub.status.busy": "2024-10-01T18:01:02.019257Z",
     "iopub.status.idle": "2024-10-01T18:01:36.663847Z",
     "shell.execute_reply": "2024-10-01T18:01:36.663280Z",
     "shell.execute_reply.started": "2024-10-01T18:01:02.019872Z"
    }
   },
   "outputs": [
    {
     "name": "stdout",
     "output_type": "stream",
     "text": [
      "Retrieving data for station...\n",
      "CPU times: user 3.14 s, sys: 1.43 s, total: 4.57 s\n",
      "Wall time: 34.6 s\n"
     ]
    },
    {
     "data": {
      "text/html": [
       "<div><svg style=\"position: absolute; width: 0; height: 0; overflow: hidden\">\n",
       "<defs>\n",
       "<symbol id=\"icon-database\" viewBox=\"0 0 32 32\">\n",
       "<path d=\"M16 0c-8.837 0-16 2.239-16 5v4c0 2.761 7.163 5 16 5s16-2.239 16-5v-4c0-2.761-7.163-5-16-5z\"></path>\n",
       "<path d=\"M16 17c-8.837 0-16-2.239-16-5v6c0 2.761 7.163 5 16 5s16-2.239 16-5v-6c0 2.761-7.163 5-16 5z\"></path>\n",
       "<path d=\"M16 26c-8.837 0-16-2.239-16-5v6c0 2.761 7.163 5 16 5s16-2.239 16-5v-6c0 2.761-7.163 5-16 5z\"></path>\n",
       "</symbol>\n",
       "<symbol id=\"icon-file-text2\" viewBox=\"0 0 32 32\">\n",
       "<path d=\"M28.681 7.159c-0.694-0.947-1.662-2.053-2.724-3.116s-2.169-2.030-3.116-2.724c-1.612-1.182-2.393-1.319-2.841-1.319h-15.5c-1.378 0-2.5 1.121-2.5 2.5v27c0 1.378 1.122 2.5 2.5 2.5h23c1.378 0 2.5-1.122 2.5-2.5v-19.5c0-0.448-0.137-1.23-1.319-2.841zM24.543 5.457c0.959 0.959 1.712 1.825 2.268 2.543h-4.811v-4.811c0.718 0.556 1.584 1.309 2.543 2.268zM28 29.5c0 0.271-0.229 0.5-0.5 0.5h-23c-0.271 0-0.5-0.229-0.5-0.5v-27c0-0.271 0.229-0.5 0.5-0.5 0 0 15.499-0 15.5 0v7c0 0.552 0.448 1 1 1h7v19.5z\"></path>\n",
       "<path d=\"M23 26h-14c-0.552 0-1-0.448-1-1s0.448-1 1-1h14c0.552 0 1 0.448 1 1s-0.448 1-1 1z\"></path>\n",
       "<path d=\"M23 22h-14c-0.552 0-1-0.448-1-1s0.448-1 1-1h14c0.552 0 1 0.448 1 1s-0.448 1-1 1z\"></path>\n",
       "<path d=\"M23 18h-14c-0.552 0-1-0.448-1-1s0.448-1 1-1h14c0.552 0 1 0.448 1 1s-0.448 1-1 1z\"></path>\n",
       "</symbol>\n",
       "</defs>\n",
       "</svg>\n",
       "<style>/* CSS stylesheet for displaying xarray objects in jupyterlab.\n",
       " *\n",
       " */\n",
       "\n",
       ":root {\n",
       "  --xr-font-color0: var(--jp-content-font-color0, rgba(0, 0, 0, 1));\n",
       "  --xr-font-color2: var(--jp-content-font-color2, rgba(0, 0, 0, 0.54));\n",
       "  --xr-font-color3: var(--jp-content-font-color3, rgba(0, 0, 0, 0.38));\n",
       "  --xr-border-color: var(--jp-border-color2, #e0e0e0);\n",
       "  --xr-disabled-color: var(--jp-layout-color3, #bdbdbd);\n",
       "  --xr-background-color: var(--jp-layout-color0, white);\n",
       "  --xr-background-color-row-even: var(--jp-layout-color1, white);\n",
       "  --xr-background-color-row-odd: var(--jp-layout-color2, #eeeeee);\n",
       "}\n",
       "\n",
       "html[theme=dark],\n",
       "body.vscode-dark {\n",
       "  --xr-font-color0: rgba(255, 255, 255, 1);\n",
       "  --xr-font-color2: rgba(255, 255, 255, 0.54);\n",
       "  --xr-font-color3: rgba(255, 255, 255, 0.38);\n",
       "  --xr-border-color: #1F1F1F;\n",
       "  --xr-disabled-color: #515151;\n",
       "  --xr-background-color: #111111;\n",
       "  --xr-background-color-row-even: #111111;\n",
       "  --xr-background-color-row-odd: #313131;\n",
       "}\n",
       "\n",
       ".xr-wrap {\n",
       "  display: block !important;\n",
       "  min-width: 300px;\n",
       "  max-width: 700px;\n",
       "}\n",
       "\n",
       ".xr-text-repr-fallback {\n",
       "  /* fallback to plain text repr when CSS is not injected (untrusted notebook) */\n",
       "  display: none;\n",
       "}\n",
       "\n",
       ".xr-header {\n",
       "  padding-top: 6px;\n",
       "  padding-bottom: 6px;\n",
       "  margin-bottom: 4px;\n",
       "  border-bottom: solid 1px var(--xr-border-color);\n",
       "}\n",
       "\n",
       ".xr-header > div,\n",
       ".xr-header > ul {\n",
       "  display: inline;\n",
       "  margin-top: 0;\n",
       "  margin-bottom: 0;\n",
       "}\n",
       "\n",
       ".xr-obj-type,\n",
       ".xr-array-name {\n",
       "  margin-left: 2px;\n",
       "  margin-right: 10px;\n",
       "}\n",
       "\n",
       ".xr-obj-type {\n",
       "  color: var(--xr-font-color2);\n",
       "}\n",
       "\n",
       ".xr-sections {\n",
       "  padding-left: 0 !important;\n",
       "  display: grid;\n",
       "  grid-template-columns: 150px auto auto 1fr 20px 20px;\n",
       "}\n",
       "\n",
       ".xr-section-item {\n",
       "  display: contents;\n",
       "}\n",
       "\n",
       ".xr-section-item input {\n",
       "  display: none;\n",
       "}\n",
       "\n",
       ".xr-section-item input + label {\n",
       "  color: var(--xr-disabled-color);\n",
       "}\n",
       "\n",
       ".xr-section-item input:enabled + label {\n",
       "  cursor: pointer;\n",
       "  color: var(--xr-font-color2);\n",
       "}\n",
       "\n",
       ".xr-section-item input:enabled + label:hover {\n",
       "  color: var(--xr-font-color0);\n",
       "}\n",
       "\n",
       ".xr-section-summary {\n",
       "  grid-column: 1;\n",
       "  color: var(--xr-font-color2);\n",
       "  font-weight: 500;\n",
       "}\n",
       "\n",
       ".xr-section-summary > span {\n",
       "  display: inline-block;\n",
       "  padding-left: 0.5em;\n",
       "}\n",
       "\n",
       ".xr-section-summary-in:disabled + label {\n",
       "  color: var(--xr-font-color2);\n",
       "}\n",
       "\n",
       ".xr-section-summary-in + label:before {\n",
       "  display: inline-block;\n",
       "  content: '►';\n",
       "  font-size: 11px;\n",
       "  width: 15px;\n",
       "  text-align: center;\n",
       "}\n",
       "\n",
       ".xr-section-summary-in:disabled + label:before {\n",
       "  color: var(--xr-disabled-color);\n",
       "}\n",
       "\n",
       ".xr-section-summary-in:checked + label:before {\n",
       "  content: '▼';\n",
       "}\n",
       "\n",
       ".xr-section-summary-in:checked + label > span {\n",
       "  display: none;\n",
       "}\n",
       "\n",
       ".xr-section-summary,\n",
       ".xr-section-inline-details {\n",
       "  padding-top: 4px;\n",
       "  padding-bottom: 4px;\n",
       "}\n",
       "\n",
       ".xr-section-inline-details {\n",
       "  grid-column: 2 / -1;\n",
       "}\n",
       "\n",
       ".xr-section-details {\n",
       "  display: none;\n",
       "  grid-column: 1 / -1;\n",
       "  margin-bottom: 5px;\n",
       "}\n",
       "\n",
       ".xr-section-summary-in:checked ~ .xr-section-details {\n",
       "  display: contents;\n",
       "}\n",
       "\n",
       ".xr-array-wrap {\n",
       "  grid-column: 1 / -1;\n",
       "  display: grid;\n",
       "  grid-template-columns: 20px auto;\n",
       "}\n",
       "\n",
       ".xr-array-wrap > label {\n",
       "  grid-column: 1;\n",
       "  vertical-align: top;\n",
       "}\n",
       "\n",
       ".xr-preview {\n",
       "  color: var(--xr-font-color3);\n",
       "}\n",
       "\n",
       ".xr-array-preview,\n",
       ".xr-array-data {\n",
       "  padding: 0 5px !important;\n",
       "  grid-column: 2;\n",
       "}\n",
       "\n",
       ".xr-array-data,\n",
       ".xr-array-in:checked ~ .xr-array-preview {\n",
       "  display: none;\n",
       "}\n",
       "\n",
       ".xr-array-in:checked ~ .xr-array-data,\n",
       ".xr-array-preview {\n",
       "  display: inline-block;\n",
       "}\n",
       "\n",
       ".xr-dim-list {\n",
       "  display: inline-block !important;\n",
       "  list-style: none;\n",
       "  padding: 0 !important;\n",
       "  margin: 0;\n",
       "}\n",
       "\n",
       ".xr-dim-list li {\n",
       "  display: inline-block;\n",
       "  padding: 0;\n",
       "  margin: 0;\n",
       "}\n",
       "\n",
       ".xr-dim-list:before {\n",
       "  content: '(';\n",
       "}\n",
       "\n",
       ".xr-dim-list:after {\n",
       "  content: ')';\n",
       "}\n",
       "\n",
       ".xr-dim-list li:not(:last-child):after {\n",
       "  content: ',';\n",
       "  padding-right: 5px;\n",
       "}\n",
       "\n",
       ".xr-has-index {\n",
       "  font-weight: bold;\n",
       "}\n",
       "\n",
       ".xr-var-list,\n",
       ".xr-var-item {\n",
       "  display: contents;\n",
       "}\n",
       "\n",
       ".xr-var-item > div,\n",
       ".xr-var-item label,\n",
       ".xr-var-item > .xr-var-name span {\n",
       "  background-color: var(--xr-background-color-row-even);\n",
       "  margin-bottom: 0;\n",
       "}\n",
       "\n",
       ".xr-var-item > .xr-var-name:hover span {\n",
       "  padding-right: 5px;\n",
       "}\n",
       "\n",
       ".xr-var-list > li:nth-child(odd) > div,\n",
       ".xr-var-list > li:nth-child(odd) > label,\n",
       ".xr-var-list > li:nth-child(odd) > .xr-var-name span {\n",
       "  background-color: var(--xr-background-color-row-odd);\n",
       "}\n",
       "\n",
       ".xr-var-name {\n",
       "  grid-column: 1;\n",
       "}\n",
       "\n",
       ".xr-var-dims {\n",
       "  grid-column: 2;\n",
       "}\n",
       "\n",
       ".xr-var-dtype {\n",
       "  grid-column: 3;\n",
       "  text-align: right;\n",
       "  color: var(--xr-font-color2);\n",
       "}\n",
       "\n",
       ".xr-var-preview {\n",
       "  grid-column: 4;\n",
       "}\n",
       "\n",
       ".xr-var-name,\n",
       ".xr-var-dims,\n",
       ".xr-var-dtype,\n",
       ".xr-preview,\n",
       ".xr-attrs dt {\n",
       "  white-space: nowrap;\n",
       "  overflow: hidden;\n",
       "  text-overflow: ellipsis;\n",
       "  padding-right: 10px;\n",
       "}\n",
       "\n",
       ".xr-var-name:hover,\n",
       ".xr-var-dims:hover,\n",
       ".xr-var-dtype:hover,\n",
       ".xr-attrs dt:hover {\n",
       "  overflow: visible;\n",
       "  width: auto;\n",
       "  z-index: 1;\n",
       "}\n",
       "\n",
       ".xr-var-attrs,\n",
       ".xr-var-data {\n",
       "  display: none;\n",
       "  background-color: var(--xr-background-color) !important;\n",
       "  padding-bottom: 5px !important;\n",
       "}\n",
       "\n",
       ".xr-var-attrs-in:checked ~ .xr-var-attrs,\n",
       ".xr-var-data-in:checked ~ .xr-var-data {\n",
       "  display: block;\n",
       "}\n",
       "\n",
       ".xr-var-data > table {\n",
       "  float: right;\n",
       "}\n",
       "\n",
       ".xr-var-name span,\n",
       ".xr-var-data,\n",
       ".xr-attrs {\n",
       "  padding-left: 25px !important;\n",
       "}\n",
       "\n",
       ".xr-attrs,\n",
       ".xr-var-attrs,\n",
       ".xr-var-data {\n",
       "  grid-column: 1 / -1;\n",
       "}\n",
       "\n",
       "dl.xr-attrs {\n",
       "  padding: 0;\n",
       "  margin: 0;\n",
       "  display: grid;\n",
       "  grid-template-columns: 125px auto;\n",
       "}\n",
       "\n",
       ".xr-attrs dt,\n",
       ".xr-attrs dd {\n",
       "  padding: 0;\n",
       "  margin: 0;\n",
       "  float: left;\n",
       "  padding-right: 10px;\n",
       "  width: auto;\n",
       "}\n",
       "\n",
       ".xr-attrs dt {\n",
       "  font-weight: normal;\n",
       "  grid-column: 1;\n",
       "}\n",
       "\n",
       ".xr-attrs dt:hover span {\n",
       "  display: inline-block;\n",
       "  background: var(--xr-background-color);\n",
       "  padding-right: 10px;\n",
       "}\n",
       "\n",
       ".xr-attrs dd {\n",
       "  grid-column: 2;\n",
       "  white-space: pre-wrap;\n",
       "  word-break: break-all;\n",
       "}\n",
       "\n",
       ".xr-icon-database,\n",
       ".xr-icon-file-text2 {\n",
       "  display: inline-block;\n",
       "  vertical-align: middle;\n",
       "  width: 1em;\n",
       "  height: 1.5em !important;\n",
       "  stroke-width: 0;\n",
       "  stroke: currentColor;\n",
       "  fill: currentColor;\n",
       "}\n",
       "</style><pre class='xr-text-repr-fallback'>&lt;xarray.Dataset&gt;\n",
       "Dimensions:               (station: 1, time: 305943)\n",
       "Coordinates:\n",
       "  * station               (station) object &#x27;CIMIS_75&#x27;\n",
       "  * time                  (time) datetime64[ns] 1987-10-07T09:00:00 ... 2022-...\n",
       "Data variables: (12/30)\n",
       "    tas                   (station, time) float64 ...\n",
       "    pr                    (station, time) float64 ...\n",
       "    hurs                  (station, time) float64 ...\n",
       "    rsds                  (station, time) float64 ...\n",
       "    sfcWind               (station, time) float64 ...\n",
       "    sfcWind_dir           (station, time) float64 ...\n",
       "    ...                    ...\n",
       "    sfcWind_dir_eraqc     (station, time) float64 ...\n",
       "    elevation_eraqc       (station, time) float64 ...\n",
       "    tdps_derived_eraqc    (station, time) float64 ...\n",
       "    pvp_derived_eraqc     (station, time) float64 ...\n",
       "    anemometer_height_m   (station, time) float64 ...\n",
       "    thermometer_height_m  (station, time) float64 ...\n",
       "Attributes: (12/16)\n",
       "    title:                 CIMIS quality controlled\n",
       "    institution:           Eagle Rock Analytics / Cal Adapt\n",
       "    source:                \n",
       "    history:               CIMIS_clean.py script run on 02-13-2023, 22:25:54 ...\n",
       "    comment:               Intermediate data product: may not have been subje...\n",
       "    license:               \n",
       "    ...                    ...\n",
       "    wind_vane_height_m:    2.0\n",
       "    anemometer_height_m:   2.0\n",
       "    thermometer_height_m:  1.5\n",
       "    humidity_height_m:     1.5\n",
       "    rain_gauge_height_m:   1.0\n",
       "    raw_files_merged:      47</pre><div class='xr-wrap' style='display:none'><div class='xr-header'><div class='xr-obj-type'>xarray.Dataset</div></div><ul class='xr-sections'><li class='xr-section-item'><input id='section-1e419ce0-b28d-409d-a0d0-1abba1a77f72' class='xr-section-summary-in' type='checkbox' disabled ><label for='section-1e419ce0-b28d-409d-a0d0-1abba1a77f72' class='xr-section-summary'  title='Expand/collapse section'>Dimensions:</label><div class='xr-section-inline-details'><ul class='xr-dim-list'><li><span class='xr-has-index'>station</span>: 1</li><li><span class='xr-has-index'>time</span>: 305943</li></ul></div><div class='xr-section-details'></div></li><li class='xr-section-item'><input id='section-9c619ea6-4eb5-40ca-bd71-4122f7911e50' class='xr-section-summary-in' type='checkbox'  checked><label for='section-9c619ea6-4eb5-40ca-bd71-4122f7911e50' class='xr-section-summary' >Coordinates: <span>(2)</span></label><div class='xr-section-inline-details'></div><div class='xr-section-details'><ul class='xr-var-list'><li class='xr-var-item'><div class='xr-var-name'><span class='xr-has-index'>station</span></div><div class='xr-var-dims'>(station)</div><div class='xr-var-dtype'>object</div><div class='xr-var-preview xr-preview'>&#x27;CIMIS_75&#x27;</div><input id='attrs-4b4d7da4-7095-4106-b439-328e963e51da' class='xr-var-attrs-in' type='checkbox' disabled><label for='attrs-4b4d7da4-7095-4106-b439-328e963e51da' title='Show/Hide attributes'><svg class='icon xr-icon-file-text2'><use xlink:href='#icon-file-text2'></use></svg></label><input id='data-07a26ee7-6d9b-4440-9c04-b5741de265e5' class='xr-var-data-in' type='checkbox'><label for='data-07a26ee7-6d9b-4440-9c04-b5741de265e5' title='Show/Hide data repr'><svg class='icon xr-icon-database'><use xlink:href='#icon-database'></use></svg></label><div class='xr-var-attrs'><dl class='xr-attrs'></dl></div><div class='xr-var-data'><pre>array([&#x27;CIMIS_75&#x27;], dtype=object)</pre></div></li><li class='xr-var-item'><div class='xr-var-name'><span class='xr-has-index'>time</span></div><div class='xr-var-dims'>(time)</div><div class='xr-var-dtype'>datetime64[ns]</div><div class='xr-var-preview xr-preview'>1987-10-07T09:00:00 ... 2022-08-...</div><input id='attrs-1c1cd07b-4040-44db-a485-cdd501be5543' class='xr-var-attrs-in' type='checkbox' disabled><label for='attrs-1c1cd07b-4040-44db-a485-cdd501be5543' title='Show/Hide attributes'><svg class='icon xr-icon-file-text2'><use xlink:href='#icon-file-text2'></use></svg></label><input id='data-2ec66c4e-3da7-4a48-b03a-2cf0567a47ee' class='xr-var-data-in' type='checkbox'><label for='data-2ec66c4e-3da7-4a48-b03a-2cf0567a47ee' title='Show/Hide data repr'><svg class='icon xr-icon-database'><use xlink:href='#icon-database'></use></svg></label><div class='xr-var-attrs'><dl class='xr-attrs'></dl></div><div class='xr-var-data'><pre>array([&#x27;1987-10-07T09:00:00.000000000&#x27;, &#x27;1987-10-07T10:00:00.000000000&#x27;,\n",
       "       &#x27;1987-10-07T11:00:00.000000000&#x27;, ..., &#x27;2022-08-31T21:00:00.000000000&#x27;,\n",
       "       &#x27;2022-08-31T22:00:00.000000000&#x27;, &#x27;2022-08-31T23:00:00.000000000&#x27;],\n",
       "      dtype=&#x27;datetime64[ns]&#x27;)</pre></div></li></ul></div></li><li class='xr-section-item'><input id='section-6ea456ee-5ccd-4dd0-837e-fba342634bd8' class='xr-section-summary-in' type='checkbox'  ><label for='section-6ea456ee-5ccd-4dd0-837e-fba342634bd8' class='xr-section-summary' >Data variables: <span>(30)</span></label><div class='xr-section-inline-details'></div><div class='xr-section-details'><ul class='xr-var-list'><li class='xr-var-item'><div class='xr-var-name'><span>tas</span></div><div class='xr-var-dims'>(station, time)</div><div class='xr-var-dtype'>float64</div><div class='xr-var-preview xr-preview'>...</div><input id='attrs-d9e79e5d-dff2-46b1-aaaa-50762077840a' class='xr-var-attrs-in' type='checkbox' ><label for='attrs-d9e79e5d-dff2-46b1-aaaa-50762077840a' title='Show/Hide attributes'><svg class='icon xr-icon-file-text2'><use xlink:href='#icon-file-text2'></use></svg></label><input id='data-595b2b32-7cb8-4e2d-a78f-e375c40c85c6' class='xr-var-data-in' type='checkbox'><label for='data-595b2b32-7cb8-4e2d-a78f-e375c40c85c6' title='Show/Hide data repr'><svg class='icon xr-icon-database'><use xlink:href='#icon-database'></use></svg></label><div class='xr-var-attrs'><dl class='xr-attrs'><dt><span>long_name :</span></dt><dd>air_temperature</dd><dt><span>standard_name :</span></dt><dd>air_temperature</dd><dt><span>units :</span></dt><dd>degree_Kelvin</dd><dt><span>ancillary_variables :</span></dt><dd>tas_qc, tas_eraqc</dd><dt><span>comment :</span></dt><dd>Converted from Celsius to Kelvin.</dd></dl></div><div class='xr-var-data'><pre>[305943 values with dtype=float64]</pre></div></li><li class='xr-var-item'><div class='xr-var-name'><span>pr</span></div><div class='xr-var-dims'>(station, time)</div><div class='xr-var-dtype'>float64</div><div class='xr-var-preview xr-preview'>...</div><input id='attrs-ee445fcc-6f67-4fc6-af33-28532429856e' class='xr-var-attrs-in' type='checkbox' ><label for='attrs-ee445fcc-6f67-4fc6-af33-28532429856e' title='Show/Hide attributes'><svg class='icon xr-icon-file-text2'><use xlink:href='#icon-file-text2'></use></svg></label><input id='data-a71ec6c6-c39a-4d86-9d75-b16d9b5a796d' class='xr-var-data-in' type='checkbox'><label for='data-a71ec6c6-c39a-4d86-9d75-b16d9b5a796d' title='Show/Hide data repr'><svg class='icon xr-icon-database'><use xlink:href='#icon-database'></use></svg></label><div class='xr-var-attrs'><dl class='xr-attrs'><dt><span>long_name :</span></dt><dd>precipitation_accumulation</dd><dt><span>units :</span></dt><dd>mm/hour</dd><dt><span>ancillary_variables :</span></dt><dd>pr_qc, pr_eraqc</dd><dt><span>comment :</span></dt><dd>Accumulated precipitation.</dd></dl></div><div class='xr-var-data'><pre>[305943 values with dtype=float64]</pre></div></li><li class='xr-var-item'><div class='xr-var-name'><span>hurs</span></div><div class='xr-var-dims'>(station, time)</div><div class='xr-var-dtype'>float64</div><div class='xr-var-preview xr-preview'>...</div><input id='attrs-3c58017e-d88a-47cd-be47-e812f1b0095d' class='xr-var-attrs-in' type='checkbox' ><label for='attrs-3c58017e-d88a-47cd-be47-e812f1b0095d' title='Show/Hide attributes'><svg class='icon xr-icon-file-text2'><use xlink:href='#icon-file-text2'></use></svg></label><input id='data-dffb2f39-48b0-4253-99d1-c6d12430ed38' class='xr-var-data-in' type='checkbox'><label for='data-dffb2f39-48b0-4253-99d1-c6d12430ed38' title='Show/Hide data repr'><svg class='icon xr-icon-database'><use xlink:href='#icon-database'></use></svg></label><div class='xr-var-attrs'><dl class='xr-attrs'><dt><span>long_name :</span></dt><dd>relative_humidity</dd><dt><span>standard_name :</span></dt><dd>relative_humidity</dd><dt><span>units :</span></dt><dd>percent</dd><dt><span>ancillary_variables :</span></dt><dd>hurs_qc, hurs_eraqc</dd></dl></div><div class='xr-var-data'><pre>[305943 values with dtype=float64]</pre></div></li><li class='xr-var-item'><div class='xr-var-name'><span>rsds</span></div><div class='xr-var-dims'>(station, time)</div><div class='xr-var-dtype'>float64</div><div class='xr-var-preview xr-preview'>...</div><input id='attrs-c21bc5eb-30a9-40e0-9ac3-e4ab23f76d98' class='xr-var-attrs-in' type='checkbox' ><label for='attrs-c21bc5eb-30a9-40e0-9ac3-e4ab23f76d98' title='Show/Hide attributes'><svg class='icon xr-icon-file-text2'><use xlink:href='#icon-file-text2'></use></svg></label><input id='data-4e01617c-3750-4d45-afff-75af2f92c9aa' class='xr-var-data-in' type='checkbox'><label for='data-4e01617c-3750-4d45-afff-75af2f92c9aa' title='Show/Hide data repr'><svg class='icon xr-icon-database'><use xlink:href='#icon-database'></use></svg></label><div class='xr-var-attrs'><dl class='xr-attrs'><dt><span>long_name :</span></dt><dd>solar_radiation</dd><dt><span>standard_name :</span></dt><dd>surface_downwelling_shortwave_flux_in_air</dd><dt><span>units :</span></dt><dd>W m-2</dd><dt><span>ancillary_variables :</span></dt><dd>rsds_qc, rsds_eraqc</dd></dl></div><div class='xr-var-data'><pre>[305943 values with dtype=float64]</pre></div></li><li class='xr-var-item'><div class='xr-var-name'><span>sfcWind</span></div><div class='xr-var-dims'>(station, time)</div><div class='xr-var-dtype'>float64</div><div class='xr-var-preview xr-preview'>...</div><input id='attrs-780bbcc1-d1b1-4fb0-8abd-98878c91b6b0' class='xr-var-attrs-in' type='checkbox' ><label for='attrs-780bbcc1-d1b1-4fb0-8abd-98878c91b6b0' title='Show/Hide attributes'><svg class='icon xr-icon-file-text2'><use xlink:href='#icon-file-text2'></use></svg></label><input id='data-9c5aae1e-a9c9-4d77-bd9f-8061c4cd8d5a' class='xr-var-data-in' type='checkbox'><label for='data-9c5aae1e-a9c9-4d77-bd9f-8061c4cd8d5a' title='Show/Hide data repr'><svg class='icon xr-icon-database'><use xlink:href='#icon-database'></use></svg></label><div class='xr-var-attrs'><dl class='xr-attrs'><dt><span>long_name :</span></dt><dd>wind_speed</dd><dt><span>standard_name :</span></dt><dd>wind_speed</dd><dt><span>units :</span></dt><dd>m s-1</dd><dt><span>ancillary_variables :</span></dt><dd>sfcWind_qc, sfcWind_eraqc</dd></dl></div><div class='xr-var-data'><pre>[305943 values with dtype=float64]</pre></div></li><li class='xr-var-item'><div class='xr-var-name'><span>sfcWind_dir</span></div><div class='xr-var-dims'>(station, time)</div><div class='xr-var-dtype'>float64</div><div class='xr-var-preview xr-preview'>...</div><input id='attrs-7bd9c36c-4c64-4b78-96ec-196e7b7bec9d' class='xr-var-attrs-in' type='checkbox' ><label for='attrs-7bd9c36c-4c64-4b78-96ec-196e7b7bec9d' title='Show/Hide attributes'><svg class='icon xr-icon-file-text2'><use xlink:href='#icon-file-text2'></use></svg></label><input id='data-fd6b9b7e-7a8e-49ee-986d-ee2588bf21dd' class='xr-var-data-in' type='checkbox'><label for='data-fd6b9b7e-7a8e-49ee-986d-ee2588bf21dd' title='Show/Hide data repr'><svg class='icon xr-icon-database'><use xlink:href='#icon-database'></use></svg></label><div class='xr-var-attrs'><dl class='xr-attrs'><dt><span>long_name :</span></dt><dd>wind_direction</dd><dt><span>standard_name :</span></dt><dd>wind_from_direction</dd><dt><span>units :</span></dt><dd>degrees_clockwise_from_north</dd><dt><span>ancillary_variables :</span></dt><dd>sfcWind_dir_qc, sfcWind_dir_eraqc</dd><dt><span>comment :</span></dt><dd>Wind direction is defined by the direction that the wind is coming from (i.e., a northerly wind originates in the north and blows towards the south).</dd></dl></div><div class='xr-var-data'><pre>[305943 values with dtype=float64]</pre></div></li><li class='xr-var-item'><div class='xr-var-name'><span>pr_qc</span></div><div class='xr-var-dims'>(station, time)</div><div class='xr-var-dtype'>object</div><div class='xr-var-preview xr-preview'>...</div><input id='attrs-f4032a27-981f-44c0-9c9b-055df3fad84d' class='xr-var-attrs-in' type='checkbox' ><label for='attrs-f4032a27-981f-44c0-9c9b-055df3fad84d' title='Show/Hide attributes'><svg class='icon xr-icon-file-text2'><use xlink:href='#icon-file-text2'></use></svg></label><input id='data-6e0d3267-9065-448b-9173-f8c76eb24877' class='xr-var-data-in' type='checkbox'><label for='data-6e0d3267-9065-448b-9173-f8c76eb24877' title='Show/Hide data repr'><svg class='icon xr-icon-database'><use xlink:href='#icon-database'></use></svg></label><div class='xr-var-attrs'><dl class='xr-attrs'><dt><span>flag_values :</span></dt><dd>M P Q R Y</dd><dt><span>flag_meanings :</span></dt><dd>See QA/QC csv for network.</dd></dl></div><div class='xr-var-data'><pre>[305943 values with dtype=object]</pre></div></li><li class='xr-var-item'><div class='xr-var-name'><span>rsds_qc</span></div><div class='xr-var-dims'>(station, time)</div><div class='xr-var-dtype'>object</div><div class='xr-var-preview xr-preview'>...</div><input id='attrs-6947c09b-ffe4-4bef-8325-4b1f8a53cfd7' class='xr-var-attrs-in' type='checkbox' ><label for='attrs-6947c09b-ffe4-4bef-8325-4b1f8a53cfd7' title='Show/Hide attributes'><svg class='icon xr-icon-file-text2'><use xlink:href='#icon-file-text2'></use></svg></label><input id='data-cf50fc46-76e4-408b-adba-28a9cc116556' class='xr-var-data-in' type='checkbox'><label for='data-cf50fc46-76e4-408b-adba-28a9cc116556' title='Show/Hide data repr'><svg class='icon xr-icon-database'><use xlink:href='#icon-database'></use></svg></label><div class='xr-var-attrs'><dl class='xr-attrs'><dt><span>flag_values :</span></dt><dd>M P R S Y</dd><dt><span>flag_meanings :</span></dt><dd>See QA/QC csv for network.</dd></dl></div><div class='xr-var-data'><pre>[305943 values with dtype=object]</pre></div></li><li class='xr-var-item'><div class='xr-var-name'><span>pvp_derived_qc</span></div><div class='xr-var-dims'>(station, time)</div><div class='xr-var-dtype'>object</div><div class='xr-var-preview xr-preview'>...</div><input id='attrs-13d5e38a-ce89-43ff-abd3-ae22a21bd510' class='xr-var-attrs-in' type='checkbox' ><label for='attrs-13d5e38a-ce89-43ff-abd3-ae22a21bd510' title='Show/Hide attributes'><svg class='icon xr-icon-file-text2'><use xlink:href='#icon-file-text2'></use></svg></label><input id='data-16a69211-55b9-4305-a151-e59ff5cf84d1' class='xr-var-data-in' type='checkbox'><label for='data-16a69211-55b9-4305-a151-e59ff5cf84d1' title='Show/Hide data repr'><svg class='icon xr-icon-database'><use xlink:href='#icon-database'></use></svg></label><div class='xr-var-attrs'><dl class='xr-attrs'><dt><span>flag_values :</span></dt><dd>M P Q R S Y</dd><dt><span>flag_meanings :</span></dt><dd>See QA/QC csv for network.</dd></dl></div><div class='xr-var-data'><pre>[305943 values with dtype=object]</pre></div></li><li class='xr-var-item'><div class='xr-var-name'><span>tas_qc</span></div><div class='xr-var-dims'>(station, time)</div><div class='xr-var-dtype'>object</div><div class='xr-var-preview xr-preview'>...</div><input id='attrs-f38e2a6d-8aed-4889-b7a7-43f0555d2eee' class='xr-var-attrs-in' type='checkbox' ><label for='attrs-f38e2a6d-8aed-4889-b7a7-43f0555d2eee' title='Show/Hide attributes'><svg class='icon xr-icon-file-text2'><use xlink:href='#icon-file-text2'></use></svg></label><input id='data-6abe4656-4573-4da2-a8e5-277a8c50b880' class='xr-var-data-in' type='checkbox'><label for='data-6abe4656-4573-4da2-a8e5-277a8c50b880' title='Show/Hide data repr'><svg class='icon xr-icon-database'><use xlink:href='#icon-database'></use></svg></label><div class='xr-var-attrs'><dl class='xr-attrs'><dt><span>flag_values :</span></dt><dd>M P R S Y</dd><dt><span>flag_meanings :</span></dt><dd>See QA/QC csv for network.</dd></dl></div><div class='xr-var-data'><pre>[305943 values with dtype=object]</pre></div></li><li class='xr-var-item'><div class='xr-var-name'><span>hurs_qc</span></div><div class='xr-var-dims'>(station, time)</div><div class='xr-var-dtype'>object</div><div class='xr-var-preview xr-preview'>...</div><input id='attrs-88a16872-1cf7-4f3f-beb5-01652c741604' class='xr-var-attrs-in' type='checkbox' ><label for='attrs-88a16872-1cf7-4f3f-beb5-01652c741604' title='Show/Hide attributes'><svg class='icon xr-icon-file-text2'><use xlink:href='#icon-file-text2'></use></svg></label><input id='data-373d0e29-27e5-4f63-9243-8a1ce4919e58' class='xr-var-data-in' type='checkbox'><label for='data-373d0e29-27e5-4f63-9243-8a1ce4919e58' title='Show/Hide data repr'><svg class='icon xr-icon-database'><use xlink:href='#icon-database'></use></svg></label><div class='xr-var-attrs'><dl class='xr-attrs'><dt><span>flag_values :</span></dt><dd>M Q R S Y</dd><dt><span>flag_meanings :</span></dt><dd>See QA/QC csv for network.</dd></dl></div><div class='xr-var-data'><pre>[305943 values with dtype=object]</pre></div></li><li class='xr-var-item'><div class='xr-var-name'><span>tdps_derived_qc</span></div><div class='xr-var-dims'>(station, time)</div><div class='xr-var-dtype'>object</div><div class='xr-var-preview xr-preview'>...</div><input id='attrs-41b1d9ff-298b-43d5-bbd2-f4c87e426a92' class='xr-var-attrs-in' type='checkbox' ><label for='attrs-41b1d9ff-298b-43d5-bbd2-f4c87e426a92' title='Show/Hide attributes'><svg class='icon xr-icon-file-text2'><use xlink:href='#icon-file-text2'></use></svg></label><input id='data-8539e3d0-1ce5-4a19-91e2-6b6898bc8dca' class='xr-var-data-in' type='checkbox'><label for='data-8539e3d0-1ce5-4a19-91e2-6b6898bc8dca' title='Show/Hide data repr'><svg class='icon xr-icon-database'><use xlink:href='#icon-database'></use></svg></label><div class='xr-var-attrs'><dl class='xr-attrs'><dt><span>flag_values :</span></dt><dd>M Q R S Y</dd><dt><span>flag_meanings :</span></dt><dd>See QA/QC csv for network.</dd></dl></div><div class='xr-var-data'><pre>[305943 values with dtype=object]</pre></div></li><li class='xr-var-item'><div class='xr-var-name'><span>sfcWind_qc</span></div><div class='xr-var-dims'>(station, time)</div><div class='xr-var-dtype'>object</div><div class='xr-var-preview xr-preview'>...</div><input id='attrs-6876a697-8a1b-44d7-8438-6f6457dc0ecb' class='xr-var-attrs-in' type='checkbox' ><label for='attrs-6876a697-8a1b-44d7-8438-6f6457dc0ecb' title='Show/Hide attributes'><svg class='icon xr-icon-file-text2'><use xlink:href='#icon-file-text2'></use></svg></label><input id='data-99901cf6-aa07-491e-95c1-c0df9d460d60' class='xr-var-data-in' type='checkbox'><label for='data-99901cf6-aa07-491e-95c1-c0df9d460d60' title='Show/Hide data repr'><svg class='icon xr-icon-database'><use xlink:href='#icon-database'></use></svg></label><div class='xr-var-attrs'><dl class='xr-attrs'><dt><span>flag_values :</span></dt><dd>I M P R S Y</dd><dt><span>flag_meanings :</span></dt><dd>See QA/QC csv for network.</dd></dl></div><div class='xr-var-data'><pre>[305943 values with dtype=object]</pre></div></li><li class='xr-var-item'><div class='xr-var-name'><span>sfcWind_dir_qc</span></div><div class='xr-var-dims'>(station, time)</div><div class='xr-var-dtype'>object</div><div class='xr-var-preview xr-preview'>...</div><input id='attrs-dfaaeff9-d34d-4b01-9140-595b02502429' class='xr-var-attrs-in' type='checkbox' ><label for='attrs-dfaaeff9-d34d-4b01-9140-595b02502429' title='Show/Hide attributes'><svg class='icon xr-icon-file-text2'><use xlink:href='#icon-file-text2'></use></svg></label><input id='data-6deb340f-5ca6-471d-8d9f-7f6d4cbebec8' class='xr-var-data-in' type='checkbox'><label for='data-6deb340f-5ca6-471d-8d9f-7f6d4cbebec8' title='Show/Hide data repr'><svg class='icon xr-icon-database'><use xlink:href='#icon-database'></use></svg></label><div class='xr-var-attrs'><dl class='xr-attrs'><dt><span>flag_values :</span></dt><dd>I M P Q R</dd><dt><span>flag_meanings :</span></dt><dd>See QA/QC csv for network.</dd></dl></div><div class='xr-var-data'><pre>[305943 values with dtype=object]</pre></div></li><li class='xr-var-item'><div class='xr-var-name'><span>elevation</span></div><div class='xr-var-dims'>(station, time)</div><div class='xr-var-dtype'>float64</div><div class='xr-var-preview xr-preview'>...</div><input id='attrs-c2681216-2deb-4135-bb3d-61d0a1887a4f' class='xr-var-attrs-in' type='checkbox' ><label for='attrs-c2681216-2deb-4135-bb3d-61d0a1887a4f' title='Show/Hide attributes'><svg class='icon xr-icon-file-text2'><use xlink:href='#icon-file-text2'></use></svg></label><input id='data-315cc798-b44c-4650-8fa1-a21a258e6a4f' class='xr-var-data-in' type='checkbox'><label for='data-315cc798-b44c-4650-8fa1-a21a258e6a4f' title='Show/Hide data repr'><svg class='icon xr-icon-database'><use xlink:href='#icon-database'></use></svg></label><div class='xr-var-attrs'><dl class='xr-attrs'><dt><span>standard_name :</span></dt><dd>height_above_mean_sea_level</dd><dt><span>long_name :</span></dt><dd>station_elevation</dd><dt><span>units :</span></dt><dd>meters</dd><dt><span>positive :</span></dt><dd>up</dd><dt><span>comment :</span></dt><dd>Converted from feet to meters.</dd><dt><span>ancillary_variables :</span></dt><dd>elevation_eraqc</dd></dl></div><div class='xr-var-data'><pre>[305943 values with dtype=float64]</pre></div></li><li class='xr-var-item'><div class='xr-var-name'><span>tdps_derived</span></div><div class='xr-var-dims'>(station, time)</div><div class='xr-var-dtype'>float64</div><div class='xr-var-preview xr-preview'>...</div><input id='attrs-efd7178f-f7bd-40e9-b00e-86554f8e08e8' class='xr-var-attrs-in' type='checkbox' ><label for='attrs-efd7178f-f7bd-40e9-b00e-86554f8e08e8' title='Show/Hide attributes'><svg class='icon xr-icon-file-text2'><use xlink:href='#icon-file-text2'></use></svg></label><input id='data-0aac2eb8-0be8-4c70-9557-7ea0c7d7c39a' class='xr-var-data-in' type='checkbox'><label for='data-0aac2eb8-0be8-4c70-9557-7ea0c7d7c39a' title='Show/Hide data repr'><svg class='icon xr-icon-database'><use xlink:href='#icon-database'></use></svg></label><div class='xr-var-attrs'><dl class='xr-attrs'><dt><span>long_name :</span></dt><dd>dew_point_temperature</dd><dt><span>standard_name :</span></dt><dd>dew_point_temperature</dd><dt><span>units :</span></dt><dd>degree_Kelvin</dd><dt><span>ancillary_variables :</span></dt><dd>tdps_derived_qc, tdps_derived_eraqc</dd><dt><span>comment :</span></dt><dd>Derived by CIMIS from vapor pressure and air temperature. Converted from Celsius to Kelvin.</dd></dl></div><div class='xr-var-data'><pre>[305943 values with dtype=float64]</pre></div></li><li class='xr-var-item'><div class='xr-var-name'><span>pvp_derived</span></div><div class='xr-var-dims'>(station, time)</div><div class='xr-var-dtype'>float64</div><div class='xr-var-preview xr-preview'>...</div><input id='attrs-a0ec0a4a-6a9e-4cbe-a7de-5bc1664dc99d' class='xr-var-attrs-in' type='checkbox' ><label for='attrs-a0ec0a4a-6a9e-4cbe-a7de-5bc1664dc99d' title='Show/Hide attributes'><svg class='icon xr-icon-file-text2'><use xlink:href='#icon-file-text2'></use></svg></label><input id='data-310127af-b217-4813-8c60-a7c3f9f86ab2' class='xr-var-data-in' type='checkbox'><label for='data-310127af-b217-4813-8c60-a7c3f9f86ab2' title='Show/Hide data repr'><svg class='icon xr-icon-database'><use xlink:href='#icon-database'></use></svg></label><div class='xr-var-attrs'><dl class='xr-attrs'><dt><span>long_name :</span></dt><dd>partial_vapor_pressure</dd><dt><span>standard_name :</span></dt><dd>water_vapor_partial_pressure_in_air</dd><dt><span>units :</span></dt><dd>Pa</dd><dt><span>ancillary_variables :</span></dt><dd>pvp_qc, pvp_derived_eraqc</dd><dt><span>comment :</span></dt><dd>Derived by CIMIS from relative humidity and air temperature measurements. Converted from kPa to Pa.</dd></dl></div><div class='xr-var-data'><pre>[305943 values with dtype=float64]</pre></div></li><li class='xr-var-item'><div class='xr-var-name'><span>lat</span></div><div class='xr-var-dims'>(station, time)</div><div class='xr-var-dtype'>float64</div><div class='xr-var-preview xr-preview'>...</div><input id='attrs-20104e57-d830-4582-9834-2826077a5edf' class='xr-var-attrs-in' type='checkbox' disabled><label for='attrs-20104e57-d830-4582-9834-2826077a5edf' title='Show/Hide attributes'><svg class='icon xr-icon-file-text2'><use xlink:href='#icon-file-text2'></use></svg></label><input id='data-d3b75b27-5d02-4b39-8aa9-431422989732' class='xr-var-data-in' type='checkbox'><label for='data-d3b75b27-5d02-4b39-8aa9-431422989732' title='Show/Hide data repr'><svg class='icon xr-icon-database'><use xlink:href='#icon-database'></use></svg></label><div class='xr-var-attrs'><dl class='xr-attrs'></dl></div><div class='xr-var-data'><pre>[305943 values with dtype=float64]</pre></div></li><li class='xr-var-item'><div class='xr-var-name'><span>lon</span></div><div class='xr-var-dims'>(station, time)</div><div class='xr-var-dtype'>float64</div><div class='xr-var-preview xr-preview'>...</div><input id='attrs-8584031c-4542-4963-bf0a-0aecd1506585' class='xr-var-attrs-in' type='checkbox' disabled><label for='attrs-8584031c-4542-4963-bf0a-0aecd1506585' title='Show/Hide attributes'><svg class='icon xr-icon-file-text2'><use xlink:href='#icon-file-text2'></use></svg></label><input id='data-8d36fca1-d2d7-4e5a-90d5-31a58dddc996' class='xr-var-data-in' type='checkbox'><label for='data-8d36fca1-d2d7-4e5a-90d5-31a58dddc996' title='Show/Hide data repr'><svg class='icon xr-icon-database'><use xlink:href='#icon-database'></use></svg></label><div class='xr-var-attrs'><dl class='xr-attrs'></dl></div><div class='xr-var-data'><pre>[305943 values with dtype=float64]</pre></div></li><li class='xr-var-item'><div class='xr-var-name'><span>tas_eraqc</span></div><div class='xr-var-dims'>(station, time)</div><div class='xr-var-dtype'>float64</div><div class='xr-var-preview xr-preview'>...</div><input id='attrs-932d7fc0-18f5-4428-90a7-ad5c638ddfb3' class='xr-var-attrs-in' type='checkbox' disabled><label for='attrs-932d7fc0-18f5-4428-90a7-ad5c638ddfb3' title='Show/Hide attributes'><svg class='icon xr-icon-file-text2'><use xlink:href='#icon-file-text2'></use></svg></label><input id='data-e1361c89-a85a-4dab-9495-0291f93dba77' class='xr-var-data-in' type='checkbox'><label for='data-e1361c89-a85a-4dab-9495-0291f93dba77' title='Show/Hide data repr'><svg class='icon xr-icon-database'><use xlink:href='#icon-database'></use></svg></label><div class='xr-var-attrs'><dl class='xr-attrs'></dl></div><div class='xr-var-data'><pre>[305943 values with dtype=float64]</pre></div></li><li class='xr-var-item'><div class='xr-var-name'><span>pr_eraqc</span></div><div class='xr-var-dims'>(station, time)</div><div class='xr-var-dtype'>float64</div><div class='xr-var-preview xr-preview'>...</div><input id='attrs-1fa3cb7b-0366-47ad-ac06-f54cd6c5804c' class='xr-var-attrs-in' type='checkbox' disabled><label for='attrs-1fa3cb7b-0366-47ad-ac06-f54cd6c5804c' title='Show/Hide attributes'><svg class='icon xr-icon-file-text2'><use xlink:href='#icon-file-text2'></use></svg></label><input id='data-ce4d392f-a0c6-44d3-93b0-9f1ecac2716c' class='xr-var-data-in' type='checkbox'><label for='data-ce4d392f-a0c6-44d3-93b0-9f1ecac2716c' title='Show/Hide data repr'><svg class='icon xr-icon-database'><use xlink:href='#icon-database'></use></svg></label><div class='xr-var-attrs'><dl class='xr-attrs'></dl></div><div class='xr-var-data'><pre>[305943 values with dtype=float64]</pre></div></li><li class='xr-var-item'><div class='xr-var-name'><span>hurs_eraqc</span></div><div class='xr-var-dims'>(station, time)</div><div class='xr-var-dtype'>float64</div><div class='xr-var-preview xr-preview'>...</div><input id='attrs-7b8904eb-f1f7-441b-9b5d-3f791b5e5d51' class='xr-var-attrs-in' type='checkbox' disabled><label for='attrs-7b8904eb-f1f7-441b-9b5d-3f791b5e5d51' title='Show/Hide attributes'><svg class='icon xr-icon-file-text2'><use xlink:href='#icon-file-text2'></use></svg></label><input id='data-79f7c094-dc41-4ca8-86ca-944f6359ae4c' class='xr-var-data-in' type='checkbox'><label for='data-79f7c094-dc41-4ca8-86ca-944f6359ae4c' title='Show/Hide data repr'><svg class='icon xr-icon-database'><use xlink:href='#icon-database'></use></svg></label><div class='xr-var-attrs'><dl class='xr-attrs'></dl></div><div class='xr-var-data'><pre>[305943 values with dtype=float64]</pre></div></li><li class='xr-var-item'><div class='xr-var-name'><span>rsds_eraqc</span></div><div class='xr-var-dims'>(station, time)</div><div class='xr-var-dtype'>float64</div><div class='xr-var-preview xr-preview'>...</div><input id='attrs-06a17e56-fe0d-4617-bbee-33cc9095973e' class='xr-var-attrs-in' type='checkbox' disabled><label for='attrs-06a17e56-fe0d-4617-bbee-33cc9095973e' title='Show/Hide attributes'><svg class='icon xr-icon-file-text2'><use xlink:href='#icon-file-text2'></use></svg></label><input id='data-7ea4950c-f5e0-40a4-abeb-400f4e0e414c' class='xr-var-data-in' type='checkbox'><label for='data-7ea4950c-f5e0-40a4-abeb-400f4e0e414c' title='Show/Hide data repr'><svg class='icon xr-icon-database'><use xlink:href='#icon-database'></use></svg></label><div class='xr-var-attrs'><dl class='xr-attrs'></dl></div><div class='xr-var-data'><pre>[305943 values with dtype=float64]</pre></div></li><li class='xr-var-item'><div class='xr-var-name'><span>sfcWind_eraqc</span></div><div class='xr-var-dims'>(station, time)</div><div class='xr-var-dtype'>float64</div><div class='xr-var-preview xr-preview'>...</div><input id='attrs-dc35a32c-db0f-4f8b-879b-31d241dd2e0c' class='xr-var-attrs-in' type='checkbox' disabled><label for='attrs-dc35a32c-db0f-4f8b-879b-31d241dd2e0c' title='Show/Hide attributes'><svg class='icon xr-icon-file-text2'><use xlink:href='#icon-file-text2'></use></svg></label><input id='data-bd1816ea-7fa2-4e25-88ff-32f70eccc68b' class='xr-var-data-in' type='checkbox'><label for='data-bd1816ea-7fa2-4e25-88ff-32f70eccc68b' title='Show/Hide data repr'><svg class='icon xr-icon-database'><use xlink:href='#icon-database'></use></svg></label><div class='xr-var-attrs'><dl class='xr-attrs'></dl></div><div class='xr-var-data'><pre>[305943 values with dtype=float64]</pre></div></li><li class='xr-var-item'><div class='xr-var-name'><span>sfcWind_dir_eraqc</span></div><div class='xr-var-dims'>(station, time)</div><div class='xr-var-dtype'>float64</div><div class='xr-var-preview xr-preview'>...</div><input id='attrs-dfd81264-8c59-428c-851e-82754bd5d7d5' class='xr-var-attrs-in' type='checkbox' disabled><label for='attrs-dfd81264-8c59-428c-851e-82754bd5d7d5' title='Show/Hide attributes'><svg class='icon xr-icon-file-text2'><use xlink:href='#icon-file-text2'></use></svg></label><input id='data-28f01a29-0f43-408f-b402-0b29c5884337' class='xr-var-data-in' type='checkbox'><label for='data-28f01a29-0f43-408f-b402-0b29c5884337' title='Show/Hide data repr'><svg class='icon xr-icon-database'><use xlink:href='#icon-database'></use></svg></label><div class='xr-var-attrs'><dl class='xr-attrs'></dl></div><div class='xr-var-data'><pre>[305943 values with dtype=float64]</pre></div></li><li class='xr-var-item'><div class='xr-var-name'><span>elevation_eraqc</span></div><div class='xr-var-dims'>(station, time)</div><div class='xr-var-dtype'>float64</div><div class='xr-var-preview xr-preview'>...</div><input id='attrs-e4b07917-dc43-41bb-9a72-0d42c0b55c3c' class='xr-var-attrs-in' type='checkbox' disabled><label for='attrs-e4b07917-dc43-41bb-9a72-0d42c0b55c3c' title='Show/Hide attributes'><svg class='icon xr-icon-file-text2'><use xlink:href='#icon-file-text2'></use></svg></label><input id='data-88da5b57-fba4-40dc-a7cd-cb4b79894089' class='xr-var-data-in' type='checkbox'><label for='data-88da5b57-fba4-40dc-a7cd-cb4b79894089' title='Show/Hide data repr'><svg class='icon xr-icon-database'><use xlink:href='#icon-database'></use></svg></label><div class='xr-var-attrs'><dl class='xr-attrs'></dl></div><div class='xr-var-data'><pre>[305943 values with dtype=float64]</pre></div></li><li class='xr-var-item'><div class='xr-var-name'><span>tdps_derived_eraqc</span></div><div class='xr-var-dims'>(station, time)</div><div class='xr-var-dtype'>float64</div><div class='xr-var-preview xr-preview'>...</div><input id='attrs-0df6d69b-5b45-4b99-80b8-13cdb9b659da' class='xr-var-attrs-in' type='checkbox' disabled><label for='attrs-0df6d69b-5b45-4b99-80b8-13cdb9b659da' title='Show/Hide attributes'><svg class='icon xr-icon-file-text2'><use xlink:href='#icon-file-text2'></use></svg></label><input id='data-61a690bd-b9f8-42d7-b006-a94d41ce5e47' class='xr-var-data-in' type='checkbox'><label for='data-61a690bd-b9f8-42d7-b006-a94d41ce5e47' title='Show/Hide data repr'><svg class='icon xr-icon-database'><use xlink:href='#icon-database'></use></svg></label><div class='xr-var-attrs'><dl class='xr-attrs'></dl></div><div class='xr-var-data'><pre>[305943 values with dtype=float64]</pre></div></li><li class='xr-var-item'><div class='xr-var-name'><span>pvp_derived_eraqc</span></div><div class='xr-var-dims'>(station, time)</div><div class='xr-var-dtype'>float64</div><div class='xr-var-preview xr-preview'>...</div><input id='attrs-e536b93f-eae2-46f5-989e-f97b6ddb516f' class='xr-var-attrs-in' type='checkbox' disabled><label for='attrs-e536b93f-eae2-46f5-989e-f97b6ddb516f' title='Show/Hide attributes'><svg class='icon xr-icon-file-text2'><use xlink:href='#icon-file-text2'></use></svg></label><input id='data-9d115c2d-27f5-4462-86ba-bfc5d153ac10' class='xr-var-data-in' type='checkbox'><label for='data-9d115c2d-27f5-4462-86ba-bfc5d153ac10' title='Show/Hide data repr'><svg class='icon xr-icon-database'><use xlink:href='#icon-database'></use></svg></label><div class='xr-var-attrs'><dl class='xr-attrs'></dl></div><div class='xr-var-data'><pre>[305943 values with dtype=float64]</pre></div></li><li class='xr-var-item'><div class='xr-var-name'><span>anemometer_height_m</span></div><div class='xr-var-dims'>(station, time)</div><div class='xr-var-dtype'>float64</div><div class='xr-var-preview xr-preview'>...</div><input id='attrs-500ff9b6-6cde-4e27-a9fe-1e87ed8a2373' class='xr-var-attrs-in' type='checkbox' disabled><label for='attrs-500ff9b6-6cde-4e27-a9fe-1e87ed8a2373' title='Show/Hide attributes'><svg class='icon xr-icon-file-text2'><use xlink:href='#icon-file-text2'></use></svg></label><input id='data-53277286-8a23-403d-abb9-ccc75f1515d4' class='xr-var-data-in' type='checkbox'><label for='data-53277286-8a23-403d-abb9-ccc75f1515d4' title='Show/Hide data repr'><svg class='icon xr-icon-database'><use xlink:href='#icon-database'></use></svg></label><div class='xr-var-attrs'><dl class='xr-attrs'></dl></div><div class='xr-var-data'><pre>[305943 values with dtype=float64]</pre></div></li><li class='xr-var-item'><div class='xr-var-name'><span>thermometer_height_m</span></div><div class='xr-var-dims'>(station, time)</div><div class='xr-var-dtype'>float64</div><div class='xr-var-preview xr-preview'>...</div><input id='attrs-39c0fd3e-9adc-4a1b-af4d-4c35164f3d25' class='xr-var-attrs-in' type='checkbox' disabled><label for='attrs-39c0fd3e-9adc-4a1b-af4d-4c35164f3d25' title='Show/Hide attributes'><svg class='icon xr-icon-file-text2'><use xlink:href='#icon-file-text2'></use></svg></label><input id='data-d33e4f36-be6a-4489-9af7-33759ae6c330' class='xr-var-data-in' type='checkbox'><label for='data-d33e4f36-be6a-4489-9af7-33759ae6c330' title='Show/Hide data repr'><svg class='icon xr-icon-database'><use xlink:href='#icon-database'></use></svg></label><div class='xr-var-attrs'><dl class='xr-attrs'></dl></div><div class='xr-var-data'><pre>[305943 values with dtype=float64]</pre></div></li></ul></div></li><li class='xr-section-item'><input id='section-b75dfd0b-1c6b-4502-952b-159d030689ed' class='xr-section-summary-in' type='checkbox'  ><label for='section-b75dfd0b-1c6b-4502-952b-159d030689ed' class='xr-section-summary' >Attributes: <span>(16)</span></label><div class='xr-section-inline-details'></div><div class='xr-section-details'><dl class='xr-attrs'><dt><span>title :</span></dt><dd>CIMIS quality controlled</dd><dt><span>institution :</span></dt><dd>Eagle Rock Analytics / Cal Adapt</dd><dt><span>source :</span></dt><dd></dd><dt><span>history :</span></dt><dd>CIMIS_clean.py script run on 02-13-2023, 22:25:54 UTC \n",
       "ALLNETWORKS_qaqc.py script run on 08-07-2024, 20:52:09 UTC</dd><dt><span>comment :</span></dt><dd>Intermediate data product: may not have been subject to any cleaning or QA/QC processing \n",
       "An intermediate data product: subject to cleaning but may not be subject to full QA/QC processing.</dd><dt><span>license :</span></dt><dd></dd><dt><span>citation :</span></dt><dd></dd><dt><span>disclaimer :</span></dt><dd>This document was prepared as a result of work sponsored by the California Energy Commission (PIR-19-006). It does not necessarily represent the views of the Energy Commission, its employees, or the State of California. Neither the Commission, the State of California, nor the Commission&#x27;s employees, contractors, or subcontractors makes any warranty, express or implied, or assumes any legal liability for the information in this document; nor does any party represent that the use of this information will not infringe upon privately owned rights. This document has not been approved or disapproved by the Commission, nor has the Commission passed upon the accuracy of the information in this document.</dd><dt><span>station_name :</span></dt><dd>Irvine</dd><dt><span>pyranometer_height_m :</span></dt><dd>2.0</dd><dt><span>wind_vane_height_m :</span></dt><dd>2.0</dd><dt><span>anemometer_height_m :</span></dt><dd>2.0</dd><dt><span>thermometer_height_m :</span></dt><dd>1.5</dd><dt><span>humidity_height_m :</span></dt><dd>1.5</dd><dt><span>rain_gauge_height_m :</span></dt><dd>1.0</dd><dt><span>raw_files_merged :</span></dt><dd>47</dd></dl></div></li></ul></div></div>"
      ],
      "text/plain": [
       "<xarray.Dataset>\n",
       "Dimensions:               (station: 1, time: 305943)\n",
       "Coordinates:\n",
       "  * station               (station) object 'CIMIS_75'\n",
       "  * time                  (time) datetime64[ns] 1987-10-07T09:00:00 ... 2022-...\n",
       "Data variables: (12/30)\n",
       "    tas                   (station, time) float64 ...\n",
       "    pr                    (station, time) float64 ...\n",
       "    hurs                  (station, time) float64 ...\n",
       "    rsds                  (station, time) float64 ...\n",
       "    sfcWind               (station, time) float64 ...\n",
       "    sfcWind_dir           (station, time) float64 ...\n",
       "    ...                    ...\n",
       "    sfcWind_dir_eraqc     (station, time) float64 ...\n",
       "    elevation_eraqc       (station, time) float64 ...\n",
       "    tdps_derived_eraqc    (station, time) float64 ...\n",
       "    pvp_derived_eraqc     (station, time) float64 ...\n",
       "    anemometer_height_m   (station, time) float64 ...\n",
       "    thermometer_height_m  (station, time) float64 ...\n",
       "Attributes: (12/16)\n",
       "    title:                 CIMIS quality controlled\n",
       "    institution:           Eagle Rock Analytics / Cal Adapt\n",
       "    source:                \n",
       "    history:               CIMIS_clean.py script run on 02-13-2023, 22:25:54 ...\n",
       "    comment:               Intermediate data product: may not have been subje...\n",
       "    license:               \n",
       "    ...                    ...\n",
       "    wind_vane_height_m:    2.0\n",
       "    anemometer_height_m:   2.0\n",
       "    thermometer_height_m:  1.5\n",
       "    humidity_height_m:     1.5\n",
       "    rain_gauge_height_m:   1.0\n",
       "    raw_files_merged:      47"
      ]
     },
     "execution_count": 18,
     "metadata": {},
     "output_type": "execute_result"
    }
   ],
   "source": [
    "%%time\n",
    "ds = pull_nc_from_aws(specific_station) # manually retrieve a specific station\n",
    "ds"
   ]
  },
  {
   "cell_type": "code",
   "execution_count": 24,
   "id": "12c75609-b7f9-4a7a-a7b3-2dbbf5fd7aa7",
   "metadata": {
    "execution": {
     "iopub.execute_input": "2024-10-01T18:02:26.898038Z",
     "iopub.status.busy": "2024-10-01T18:02:26.897495Z",
     "iopub.status.idle": "2024-10-01T18:02:26.945576Z",
     "shell.execute_reply": "2024-10-01T18:02:26.945175Z",
     "shell.execute_reply.started": "2024-10-01T18:02:26.898003Z"
    }
   },
   "outputs": [
    {
     "data": {
      "text/html": [
       "<div><svg style=\"position: absolute; width: 0; height: 0; overflow: hidden\">\n",
       "<defs>\n",
       "<symbol id=\"icon-database\" viewBox=\"0 0 32 32\">\n",
       "<path d=\"M16 0c-8.837 0-16 2.239-16 5v4c0 2.761 7.163 5 16 5s16-2.239 16-5v-4c0-2.761-7.163-5-16-5z\"></path>\n",
       "<path d=\"M16 17c-8.837 0-16-2.239-16-5v6c0 2.761 7.163 5 16 5s16-2.239 16-5v-6c0 2.761-7.163 5-16 5z\"></path>\n",
       "<path d=\"M16 26c-8.837 0-16-2.239-16-5v6c0 2.761 7.163 5 16 5s16-2.239 16-5v-6c0 2.761-7.163 5-16 5z\"></path>\n",
       "</symbol>\n",
       "<symbol id=\"icon-file-text2\" viewBox=\"0 0 32 32\">\n",
       "<path d=\"M28.681 7.159c-0.694-0.947-1.662-2.053-2.724-3.116s-2.169-2.030-3.116-2.724c-1.612-1.182-2.393-1.319-2.841-1.319h-15.5c-1.378 0-2.5 1.121-2.5 2.5v27c0 1.378 1.122 2.5 2.5 2.5h23c1.378 0 2.5-1.122 2.5-2.5v-19.5c0-0.448-0.137-1.23-1.319-2.841zM24.543 5.457c0.959 0.959 1.712 1.825 2.268 2.543h-4.811v-4.811c0.718 0.556 1.584 1.309 2.543 2.268zM28 29.5c0 0.271-0.229 0.5-0.5 0.5h-23c-0.271 0-0.5-0.229-0.5-0.5v-27c0-0.271 0.229-0.5 0.5-0.5 0 0 15.499-0 15.5 0v7c0 0.552 0.448 1 1 1h7v19.5z\"></path>\n",
       "<path d=\"M23 26h-14c-0.552 0-1-0.448-1-1s0.448-1 1-1h14c0.552 0 1 0.448 1 1s-0.448 1-1 1z\"></path>\n",
       "<path d=\"M23 22h-14c-0.552 0-1-0.448-1-1s0.448-1 1-1h14c0.552 0 1 0.448 1 1s-0.448 1-1 1z\"></path>\n",
       "<path d=\"M23 18h-14c-0.552 0-1-0.448-1-1s0.448-1 1-1h14c0.552 0 1 0.448 1 1s-0.448 1-1 1z\"></path>\n",
       "</symbol>\n",
       "</defs>\n",
       "</svg>\n",
       "<style>/* CSS stylesheet for displaying xarray objects in jupyterlab.\n",
       " *\n",
       " */\n",
       "\n",
       ":root {\n",
       "  --xr-font-color0: var(--jp-content-font-color0, rgba(0, 0, 0, 1));\n",
       "  --xr-font-color2: var(--jp-content-font-color2, rgba(0, 0, 0, 0.54));\n",
       "  --xr-font-color3: var(--jp-content-font-color3, rgba(0, 0, 0, 0.38));\n",
       "  --xr-border-color: var(--jp-border-color2, #e0e0e0);\n",
       "  --xr-disabled-color: var(--jp-layout-color3, #bdbdbd);\n",
       "  --xr-background-color: var(--jp-layout-color0, white);\n",
       "  --xr-background-color-row-even: var(--jp-layout-color1, white);\n",
       "  --xr-background-color-row-odd: var(--jp-layout-color2, #eeeeee);\n",
       "}\n",
       "\n",
       "html[theme=dark],\n",
       "body.vscode-dark {\n",
       "  --xr-font-color0: rgba(255, 255, 255, 1);\n",
       "  --xr-font-color2: rgba(255, 255, 255, 0.54);\n",
       "  --xr-font-color3: rgba(255, 255, 255, 0.38);\n",
       "  --xr-border-color: #1F1F1F;\n",
       "  --xr-disabled-color: #515151;\n",
       "  --xr-background-color: #111111;\n",
       "  --xr-background-color-row-even: #111111;\n",
       "  --xr-background-color-row-odd: #313131;\n",
       "}\n",
       "\n",
       ".xr-wrap {\n",
       "  display: block !important;\n",
       "  min-width: 300px;\n",
       "  max-width: 700px;\n",
       "}\n",
       "\n",
       ".xr-text-repr-fallback {\n",
       "  /* fallback to plain text repr when CSS is not injected (untrusted notebook) */\n",
       "  display: none;\n",
       "}\n",
       "\n",
       ".xr-header {\n",
       "  padding-top: 6px;\n",
       "  padding-bottom: 6px;\n",
       "  margin-bottom: 4px;\n",
       "  border-bottom: solid 1px var(--xr-border-color);\n",
       "}\n",
       "\n",
       ".xr-header > div,\n",
       ".xr-header > ul {\n",
       "  display: inline;\n",
       "  margin-top: 0;\n",
       "  margin-bottom: 0;\n",
       "}\n",
       "\n",
       ".xr-obj-type,\n",
       ".xr-array-name {\n",
       "  margin-left: 2px;\n",
       "  margin-right: 10px;\n",
       "}\n",
       "\n",
       ".xr-obj-type {\n",
       "  color: var(--xr-font-color2);\n",
       "}\n",
       "\n",
       ".xr-sections {\n",
       "  padding-left: 0 !important;\n",
       "  display: grid;\n",
       "  grid-template-columns: 150px auto auto 1fr 20px 20px;\n",
       "}\n",
       "\n",
       ".xr-section-item {\n",
       "  display: contents;\n",
       "}\n",
       "\n",
       ".xr-section-item input {\n",
       "  display: none;\n",
       "}\n",
       "\n",
       ".xr-section-item input + label {\n",
       "  color: var(--xr-disabled-color);\n",
       "}\n",
       "\n",
       ".xr-section-item input:enabled + label {\n",
       "  cursor: pointer;\n",
       "  color: var(--xr-font-color2);\n",
       "}\n",
       "\n",
       ".xr-section-item input:enabled + label:hover {\n",
       "  color: var(--xr-font-color0);\n",
       "}\n",
       "\n",
       ".xr-section-summary {\n",
       "  grid-column: 1;\n",
       "  color: var(--xr-font-color2);\n",
       "  font-weight: 500;\n",
       "}\n",
       "\n",
       ".xr-section-summary > span {\n",
       "  display: inline-block;\n",
       "  padding-left: 0.5em;\n",
       "}\n",
       "\n",
       ".xr-section-summary-in:disabled + label {\n",
       "  color: var(--xr-font-color2);\n",
       "}\n",
       "\n",
       ".xr-section-summary-in + label:before {\n",
       "  display: inline-block;\n",
       "  content: '►';\n",
       "  font-size: 11px;\n",
       "  width: 15px;\n",
       "  text-align: center;\n",
       "}\n",
       "\n",
       ".xr-section-summary-in:disabled + label:before {\n",
       "  color: var(--xr-disabled-color);\n",
       "}\n",
       "\n",
       ".xr-section-summary-in:checked + label:before {\n",
       "  content: '▼';\n",
       "}\n",
       "\n",
       ".xr-section-summary-in:checked + label > span {\n",
       "  display: none;\n",
       "}\n",
       "\n",
       ".xr-section-summary,\n",
       ".xr-section-inline-details {\n",
       "  padding-top: 4px;\n",
       "  padding-bottom: 4px;\n",
       "}\n",
       "\n",
       ".xr-section-inline-details {\n",
       "  grid-column: 2 / -1;\n",
       "}\n",
       "\n",
       ".xr-section-details {\n",
       "  display: none;\n",
       "  grid-column: 1 / -1;\n",
       "  margin-bottom: 5px;\n",
       "}\n",
       "\n",
       ".xr-section-summary-in:checked ~ .xr-section-details {\n",
       "  display: contents;\n",
       "}\n",
       "\n",
       ".xr-array-wrap {\n",
       "  grid-column: 1 / -1;\n",
       "  display: grid;\n",
       "  grid-template-columns: 20px auto;\n",
       "}\n",
       "\n",
       ".xr-array-wrap > label {\n",
       "  grid-column: 1;\n",
       "  vertical-align: top;\n",
       "}\n",
       "\n",
       ".xr-preview {\n",
       "  color: var(--xr-font-color3);\n",
       "}\n",
       "\n",
       ".xr-array-preview,\n",
       ".xr-array-data {\n",
       "  padding: 0 5px !important;\n",
       "  grid-column: 2;\n",
       "}\n",
       "\n",
       ".xr-array-data,\n",
       ".xr-array-in:checked ~ .xr-array-preview {\n",
       "  display: none;\n",
       "}\n",
       "\n",
       ".xr-array-in:checked ~ .xr-array-data,\n",
       ".xr-array-preview {\n",
       "  display: inline-block;\n",
       "}\n",
       "\n",
       ".xr-dim-list {\n",
       "  display: inline-block !important;\n",
       "  list-style: none;\n",
       "  padding: 0 !important;\n",
       "  margin: 0;\n",
       "}\n",
       "\n",
       ".xr-dim-list li {\n",
       "  display: inline-block;\n",
       "  padding: 0;\n",
       "  margin: 0;\n",
       "}\n",
       "\n",
       ".xr-dim-list:before {\n",
       "  content: '(';\n",
       "}\n",
       "\n",
       ".xr-dim-list:after {\n",
       "  content: ')';\n",
       "}\n",
       "\n",
       ".xr-dim-list li:not(:last-child):after {\n",
       "  content: ',';\n",
       "  padding-right: 5px;\n",
       "}\n",
       "\n",
       ".xr-has-index {\n",
       "  font-weight: bold;\n",
       "}\n",
       "\n",
       ".xr-var-list,\n",
       ".xr-var-item {\n",
       "  display: contents;\n",
       "}\n",
       "\n",
       ".xr-var-item > div,\n",
       ".xr-var-item label,\n",
       ".xr-var-item > .xr-var-name span {\n",
       "  background-color: var(--xr-background-color-row-even);\n",
       "  margin-bottom: 0;\n",
       "}\n",
       "\n",
       ".xr-var-item > .xr-var-name:hover span {\n",
       "  padding-right: 5px;\n",
       "}\n",
       "\n",
       ".xr-var-list > li:nth-child(odd) > div,\n",
       ".xr-var-list > li:nth-child(odd) > label,\n",
       ".xr-var-list > li:nth-child(odd) > .xr-var-name span {\n",
       "  background-color: var(--xr-background-color-row-odd);\n",
       "}\n",
       "\n",
       ".xr-var-name {\n",
       "  grid-column: 1;\n",
       "}\n",
       "\n",
       ".xr-var-dims {\n",
       "  grid-column: 2;\n",
       "}\n",
       "\n",
       ".xr-var-dtype {\n",
       "  grid-column: 3;\n",
       "  text-align: right;\n",
       "  color: var(--xr-font-color2);\n",
       "}\n",
       "\n",
       ".xr-var-preview {\n",
       "  grid-column: 4;\n",
       "}\n",
       "\n",
       ".xr-var-name,\n",
       ".xr-var-dims,\n",
       ".xr-var-dtype,\n",
       ".xr-preview,\n",
       ".xr-attrs dt {\n",
       "  white-space: nowrap;\n",
       "  overflow: hidden;\n",
       "  text-overflow: ellipsis;\n",
       "  padding-right: 10px;\n",
       "}\n",
       "\n",
       ".xr-var-name:hover,\n",
       ".xr-var-dims:hover,\n",
       ".xr-var-dtype:hover,\n",
       ".xr-attrs dt:hover {\n",
       "  overflow: visible;\n",
       "  width: auto;\n",
       "  z-index: 1;\n",
       "}\n",
       "\n",
       ".xr-var-attrs,\n",
       ".xr-var-data {\n",
       "  display: none;\n",
       "  background-color: var(--xr-background-color) !important;\n",
       "  padding-bottom: 5px !important;\n",
       "}\n",
       "\n",
       ".xr-var-attrs-in:checked ~ .xr-var-attrs,\n",
       ".xr-var-data-in:checked ~ .xr-var-data {\n",
       "  display: block;\n",
       "}\n",
       "\n",
       ".xr-var-data > table {\n",
       "  float: right;\n",
       "}\n",
       "\n",
       ".xr-var-name span,\n",
       ".xr-var-data,\n",
       ".xr-attrs {\n",
       "  padding-left: 25px !important;\n",
       "}\n",
       "\n",
       ".xr-attrs,\n",
       ".xr-var-attrs,\n",
       ".xr-var-data {\n",
       "  grid-column: 1 / -1;\n",
       "}\n",
       "\n",
       "dl.xr-attrs {\n",
       "  padding: 0;\n",
       "  margin: 0;\n",
       "  display: grid;\n",
       "  grid-template-columns: 125px auto;\n",
       "}\n",
       "\n",
       ".xr-attrs dt,\n",
       ".xr-attrs dd {\n",
       "  padding: 0;\n",
       "  margin: 0;\n",
       "  float: left;\n",
       "  padding-right: 10px;\n",
       "  width: auto;\n",
       "}\n",
       "\n",
       ".xr-attrs dt {\n",
       "  font-weight: normal;\n",
       "  grid-column: 1;\n",
       "}\n",
       "\n",
       ".xr-attrs dt:hover span {\n",
       "  display: inline-block;\n",
       "  background: var(--xr-background-color);\n",
       "  padding-right: 10px;\n",
       "}\n",
       "\n",
       ".xr-attrs dd {\n",
       "  grid-column: 2;\n",
       "  white-space: pre-wrap;\n",
       "  word-break: break-all;\n",
       "}\n",
       "\n",
       ".xr-icon-database,\n",
       ".xr-icon-file-text2 {\n",
       "  display: inline-block;\n",
       "  vertical-align: middle;\n",
       "  width: 1em;\n",
       "  height: 1.5em !important;\n",
       "  stroke-width: 0;\n",
       "  stroke: currentColor;\n",
       "  fill: currentColor;\n",
       "}\n",
       "</style><pre class='xr-text-repr-fallback'>&lt;xarray.Dataset&gt;\n",
       "Dimensions:               (station: 1, time: 305943)\n",
       "Coordinates:\n",
       "  * station               (station) &lt;U8 &#x27;CIMIS_75&#x27;\n",
       "  * time                  (time) datetime64[ns] 1987-10-07T09:00:00 ... 2022-...\n",
       "Data variables: (12/30)\n",
       "    tas                   (station, time) float64 ...\n",
       "    pr                    (station, time) float64 ...\n",
       "    hurs                  (station, time) float64 ...\n",
       "    rsds                  (station, time) float64 ...\n",
       "    sfcWind               (station, time) float64 ...\n",
       "    sfcWind_dir           (station, time) float64 ...\n",
       "    ...                    ...\n",
       "    sfcWind_dir_eraqc     (station, time) float64 ...\n",
       "    elevation_eraqc       (station, time) float64 ...\n",
       "    tdps_derived_eraqc    (station, time) float64 ...\n",
       "    pvp_derived_eraqc     (station, time) float64 ...\n",
       "    anemometer_height_m   (station, time) float64 ...\n",
       "    thermometer_height_m  (station, time) float64 ...\n",
       "Attributes: (12/16)\n",
       "    title:                 CIMIS quality controlled\n",
       "    institution:           Eagle Rock Analytics / Cal Adapt\n",
       "    source:                \n",
       "    history:               CIMIS_clean.py script run on 02-13-2023, 22:25:54 ...\n",
       "    comment:               Intermediate data product: may not have been subje...\n",
       "    license:               \n",
       "    ...                    ...\n",
       "    wind_vane_height_m:    2.0\n",
       "    anemometer_height_m:   2.0\n",
       "    thermometer_height_m:  1.5\n",
       "    humidity_height_m:     1.5\n",
       "    rain_gauge_height_m:   1.0\n",
       "    raw_files_merged:      47</pre><div class='xr-wrap' style='display:none'><div class='xr-header'><div class='xr-obj-type'>xarray.Dataset</div></div><ul class='xr-sections'><li class='xr-section-item'><input id='section-daded59d-8301-4bad-a9dd-19c3ff61443f' class='xr-section-summary-in' type='checkbox' disabled ><label for='section-daded59d-8301-4bad-a9dd-19c3ff61443f' class='xr-section-summary'  title='Expand/collapse section'>Dimensions:</label><div class='xr-section-inline-details'><ul class='xr-dim-list'><li><span class='xr-has-index'>station</span>: 1</li><li><span class='xr-has-index'>time</span>: 305943</li></ul></div><div class='xr-section-details'></div></li><li class='xr-section-item'><input id='section-1455c109-9157-4dd7-8626-444a32647d48' class='xr-section-summary-in' type='checkbox'  checked><label for='section-1455c109-9157-4dd7-8626-444a32647d48' class='xr-section-summary' >Coordinates: <span>(2)</span></label><div class='xr-section-inline-details'></div><div class='xr-section-details'><ul class='xr-var-list'><li class='xr-var-item'><div class='xr-var-name'><span class='xr-has-index'>station</span></div><div class='xr-var-dims'>(station)</div><div class='xr-var-dtype'>&lt;U8</div><div class='xr-var-preview xr-preview'>&#x27;CIMIS_75&#x27;</div><input id='attrs-359ca6ff-6fc4-48e5-b48a-05fee3d27ade' class='xr-var-attrs-in' type='checkbox' disabled><label for='attrs-359ca6ff-6fc4-48e5-b48a-05fee3d27ade' title='Show/Hide attributes'><svg class='icon xr-icon-file-text2'><use xlink:href='#icon-file-text2'></use></svg></label><input id='data-900267a9-de1f-439f-8203-83b018b56a03' class='xr-var-data-in' type='checkbox'><label for='data-900267a9-de1f-439f-8203-83b018b56a03' title='Show/Hide data repr'><svg class='icon xr-icon-database'><use xlink:href='#icon-database'></use></svg></label><div class='xr-var-attrs'><dl class='xr-attrs'></dl></div><div class='xr-var-data'><pre>array([&#x27;CIMIS_75&#x27;], dtype=&#x27;&lt;U8&#x27;)</pre></div></li><li class='xr-var-item'><div class='xr-var-name'><span class='xr-has-index'>time</span></div><div class='xr-var-dims'>(time)</div><div class='xr-var-dtype'>datetime64[ns]</div><div class='xr-var-preview xr-preview'>1987-10-07T09:00:00 ... 2022-08-...</div><input id='attrs-10d8c709-2c07-4d31-aa08-baacb90b59ed' class='xr-var-attrs-in' type='checkbox' disabled><label for='attrs-10d8c709-2c07-4d31-aa08-baacb90b59ed' title='Show/Hide attributes'><svg class='icon xr-icon-file-text2'><use xlink:href='#icon-file-text2'></use></svg></label><input id='data-2861831a-6f4e-4198-bebb-d02f0cfc38ad' class='xr-var-data-in' type='checkbox'><label for='data-2861831a-6f4e-4198-bebb-d02f0cfc38ad' title='Show/Hide data repr'><svg class='icon xr-icon-database'><use xlink:href='#icon-database'></use></svg></label><div class='xr-var-attrs'><dl class='xr-attrs'></dl></div><div class='xr-var-data'><pre>array([&#x27;1987-10-07T09:00:00.000000000&#x27;, &#x27;1987-10-07T10:00:00.000000000&#x27;,\n",
       "       &#x27;1987-10-07T11:00:00.000000000&#x27;, ..., &#x27;2022-08-31T21:00:00.000000000&#x27;,\n",
       "       &#x27;2022-08-31T22:00:00.000000000&#x27;, &#x27;2022-08-31T23:00:00.000000000&#x27;],\n",
       "      dtype=&#x27;datetime64[ns]&#x27;)</pre></div></li></ul></div></li><li class='xr-section-item'><input id='section-d68ccee7-b0f7-41b9-8319-9e5eed94de8e' class='xr-section-summary-in' type='checkbox'  ><label for='section-d68ccee7-b0f7-41b9-8319-9e5eed94de8e' class='xr-section-summary' >Data variables: <span>(30)</span></label><div class='xr-section-inline-details'></div><div class='xr-section-details'><ul class='xr-var-list'><li class='xr-var-item'><div class='xr-var-name'><span>tas</span></div><div class='xr-var-dims'>(station, time)</div><div class='xr-var-dtype'>float64</div><div class='xr-var-preview xr-preview'>...</div><input id='attrs-221f187c-67c5-4418-a0f5-0276fd51bd4b' class='xr-var-attrs-in' type='checkbox' ><label for='attrs-221f187c-67c5-4418-a0f5-0276fd51bd4b' title='Show/Hide attributes'><svg class='icon xr-icon-file-text2'><use xlink:href='#icon-file-text2'></use></svg></label><input id='data-873f51ba-c63a-480e-b68a-58518b8395bb' class='xr-var-data-in' type='checkbox'><label for='data-873f51ba-c63a-480e-b68a-58518b8395bb' title='Show/Hide data repr'><svg class='icon xr-icon-database'><use xlink:href='#icon-database'></use></svg></label><div class='xr-var-attrs'><dl class='xr-attrs'><dt><span>long_name :</span></dt><dd>air_temperature</dd><dt><span>standard_name :</span></dt><dd>air_temperature</dd><dt><span>units :</span></dt><dd>degree_Kelvin</dd><dt><span>ancillary_variables :</span></dt><dd>tas_qc, tas_eraqc</dd><dt><span>comment :</span></dt><dd>Converted from Celsius to Kelvin.</dd></dl></div><div class='xr-var-data'><pre>[305943 values with dtype=float64]</pre></div></li><li class='xr-var-item'><div class='xr-var-name'><span>pr</span></div><div class='xr-var-dims'>(station, time)</div><div class='xr-var-dtype'>float64</div><div class='xr-var-preview xr-preview'>...</div><input id='attrs-560a5865-4b6e-4788-b67b-0322208a0b16' class='xr-var-attrs-in' type='checkbox' ><label for='attrs-560a5865-4b6e-4788-b67b-0322208a0b16' title='Show/Hide attributes'><svg class='icon xr-icon-file-text2'><use xlink:href='#icon-file-text2'></use></svg></label><input id='data-344de019-2c11-4cfd-96c3-91fed52c07a6' class='xr-var-data-in' type='checkbox'><label for='data-344de019-2c11-4cfd-96c3-91fed52c07a6' title='Show/Hide data repr'><svg class='icon xr-icon-database'><use xlink:href='#icon-database'></use></svg></label><div class='xr-var-attrs'><dl class='xr-attrs'><dt><span>long_name :</span></dt><dd>precipitation_accumulation</dd><dt><span>units :</span></dt><dd>mm/hour</dd><dt><span>ancillary_variables :</span></dt><dd>pr_qc, pr_eraqc</dd><dt><span>comment :</span></dt><dd>Accumulated precipitation.</dd></dl></div><div class='xr-var-data'><pre>[305943 values with dtype=float64]</pre></div></li><li class='xr-var-item'><div class='xr-var-name'><span>hurs</span></div><div class='xr-var-dims'>(station, time)</div><div class='xr-var-dtype'>float64</div><div class='xr-var-preview xr-preview'>...</div><input id='attrs-58e2f6b9-d507-40f4-83cb-40e1f38e0d8b' class='xr-var-attrs-in' type='checkbox' ><label for='attrs-58e2f6b9-d507-40f4-83cb-40e1f38e0d8b' title='Show/Hide attributes'><svg class='icon xr-icon-file-text2'><use xlink:href='#icon-file-text2'></use></svg></label><input id='data-e19df185-19e0-44f0-81fe-4b2ce6118b75' class='xr-var-data-in' type='checkbox'><label for='data-e19df185-19e0-44f0-81fe-4b2ce6118b75' title='Show/Hide data repr'><svg class='icon xr-icon-database'><use xlink:href='#icon-database'></use></svg></label><div class='xr-var-attrs'><dl class='xr-attrs'><dt><span>long_name :</span></dt><dd>relative_humidity</dd><dt><span>standard_name :</span></dt><dd>relative_humidity</dd><dt><span>units :</span></dt><dd>percent</dd><dt><span>ancillary_variables :</span></dt><dd>hurs_qc, hurs_eraqc</dd></dl></div><div class='xr-var-data'><pre>[305943 values with dtype=float64]</pre></div></li><li class='xr-var-item'><div class='xr-var-name'><span>rsds</span></div><div class='xr-var-dims'>(station, time)</div><div class='xr-var-dtype'>float64</div><div class='xr-var-preview xr-preview'>...</div><input id='attrs-592133aa-478d-4c93-95f1-6ea503267e09' class='xr-var-attrs-in' type='checkbox' ><label for='attrs-592133aa-478d-4c93-95f1-6ea503267e09' title='Show/Hide attributes'><svg class='icon xr-icon-file-text2'><use xlink:href='#icon-file-text2'></use></svg></label><input id='data-06c8fa13-cc29-4519-8936-adbedfe53edd' class='xr-var-data-in' type='checkbox'><label for='data-06c8fa13-cc29-4519-8936-adbedfe53edd' title='Show/Hide data repr'><svg class='icon xr-icon-database'><use xlink:href='#icon-database'></use></svg></label><div class='xr-var-attrs'><dl class='xr-attrs'><dt><span>long_name :</span></dt><dd>solar_radiation</dd><dt><span>standard_name :</span></dt><dd>surface_downwelling_shortwave_flux_in_air</dd><dt><span>units :</span></dt><dd>W m-2</dd><dt><span>ancillary_variables :</span></dt><dd>rsds_qc, rsds_eraqc</dd></dl></div><div class='xr-var-data'><pre>[305943 values with dtype=float64]</pre></div></li><li class='xr-var-item'><div class='xr-var-name'><span>sfcWind</span></div><div class='xr-var-dims'>(station, time)</div><div class='xr-var-dtype'>float64</div><div class='xr-var-preview xr-preview'>...</div><input id='attrs-59d0aa0b-e3b3-488a-a807-55eb42e63d0d' class='xr-var-attrs-in' type='checkbox' ><label for='attrs-59d0aa0b-e3b3-488a-a807-55eb42e63d0d' title='Show/Hide attributes'><svg class='icon xr-icon-file-text2'><use xlink:href='#icon-file-text2'></use></svg></label><input id='data-fc2050b3-4e20-4434-bb85-b5f50ff6681c' class='xr-var-data-in' type='checkbox'><label for='data-fc2050b3-4e20-4434-bb85-b5f50ff6681c' title='Show/Hide data repr'><svg class='icon xr-icon-database'><use xlink:href='#icon-database'></use></svg></label><div class='xr-var-attrs'><dl class='xr-attrs'><dt><span>long_name :</span></dt><dd>wind_speed</dd><dt><span>standard_name :</span></dt><dd>wind_speed</dd><dt><span>units :</span></dt><dd>m s-1</dd><dt><span>ancillary_variables :</span></dt><dd>sfcWind_qc, sfcWind_eraqc</dd></dl></div><div class='xr-var-data'><pre>[305943 values with dtype=float64]</pre></div></li><li class='xr-var-item'><div class='xr-var-name'><span>sfcWind_dir</span></div><div class='xr-var-dims'>(station, time)</div><div class='xr-var-dtype'>float64</div><div class='xr-var-preview xr-preview'>...</div><input id='attrs-a2c7733c-ef04-42b2-a315-30c41f43b70f' class='xr-var-attrs-in' type='checkbox' ><label for='attrs-a2c7733c-ef04-42b2-a315-30c41f43b70f' title='Show/Hide attributes'><svg class='icon xr-icon-file-text2'><use xlink:href='#icon-file-text2'></use></svg></label><input id='data-a970a95d-9b18-4e92-b3c5-fadd56be80c3' class='xr-var-data-in' type='checkbox'><label for='data-a970a95d-9b18-4e92-b3c5-fadd56be80c3' title='Show/Hide data repr'><svg class='icon xr-icon-database'><use xlink:href='#icon-database'></use></svg></label><div class='xr-var-attrs'><dl class='xr-attrs'><dt><span>long_name :</span></dt><dd>wind_direction</dd><dt><span>standard_name :</span></dt><dd>wind_from_direction</dd><dt><span>units :</span></dt><dd>degrees_clockwise_from_north</dd><dt><span>ancillary_variables :</span></dt><dd>sfcWind_dir_qc, sfcWind_dir_eraqc</dd><dt><span>comment :</span></dt><dd>Wind direction is defined by the direction that the wind is coming from (i.e., a northerly wind originates in the north and blows towards the south).</dd></dl></div><div class='xr-var-data'><pre>[305943 values with dtype=float64]</pre></div></li><li class='xr-var-item'><div class='xr-var-name'><span>pr_qc</span></div><div class='xr-var-dims'>(station, time)</div><div class='xr-var-dtype'>object</div><div class='xr-var-preview xr-preview'>...</div><input id='attrs-e8b62cf8-ae48-48b2-a41b-23735eb6ec92' class='xr-var-attrs-in' type='checkbox' ><label for='attrs-e8b62cf8-ae48-48b2-a41b-23735eb6ec92' title='Show/Hide attributes'><svg class='icon xr-icon-file-text2'><use xlink:href='#icon-file-text2'></use></svg></label><input id='data-0c497764-9476-4cbd-a0e3-343cea308519' class='xr-var-data-in' type='checkbox'><label for='data-0c497764-9476-4cbd-a0e3-343cea308519' title='Show/Hide data repr'><svg class='icon xr-icon-database'><use xlink:href='#icon-database'></use></svg></label><div class='xr-var-attrs'><dl class='xr-attrs'><dt><span>flag_values :</span></dt><dd>M P Q R Y</dd><dt><span>flag_meanings :</span></dt><dd>See QA/QC csv for network.</dd></dl></div><div class='xr-var-data'><pre>[305943 values with dtype=object]</pre></div></li><li class='xr-var-item'><div class='xr-var-name'><span>rsds_qc</span></div><div class='xr-var-dims'>(station, time)</div><div class='xr-var-dtype'>object</div><div class='xr-var-preview xr-preview'>...</div><input id='attrs-55e563a2-fe6f-47c6-b8cc-822234f0a6e1' class='xr-var-attrs-in' type='checkbox' ><label for='attrs-55e563a2-fe6f-47c6-b8cc-822234f0a6e1' title='Show/Hide attributes'><svg class='icon xr-icon-file-text2'><use xlink:href='#icon-file-text2'></use></svg></label><input id='data-be642409-3b06-4bf8-905b-2e7dae7f447f' class='xr-var-data-in' type='checkbox'><label for='data-be642409-3b06-4bf8-905b-2e7dae7f447f' title='Show/Hide data repr'><svg class='icon xr-icon-database'><use xlink:href='#icon-database'></use></svg></label><div class='xr-var-attrs'><dl class='xr-attrs'><dt><span>flag_values :</span></dt><dd>M P R S Y</dd><dt><span>flag_meanings :</span></dt><dd>See QA/QC csv for network.</dd></dl></div><div class='xr-var-data'><pre>[305943 values with dtype=object]</pre></div></li><li class='xr-var-item'><div class='xr-var-name'><span>pvp_derived_qc</span></div><div class='xr-var-dims'>(station, time)</div><div class='xr-var-dtype'>object</div><div class='xr-var-preview xr-preview'>...</div><input id='attrs-e18f96e5-910a-40f8-acc7-78d0cc3ec069' class='xr-var-attrs-in' type='checkbox' ><label for='attrs-e18f96e5-910a-40f8-acc7-78d0cc3ec069' title='Show/Hide attributes'><svg class='icon xr-icon-file-text2'><use xlink:href='#icon-file-text2'></use></svg></label><input id='data-8726c62f-baca-4050-b8e3-30317455752a' class='xr-var-data-in' type='checkbox'><label for='data-8726c62f-baca-4050-b8e3-30317455752a' title='Show/Hide data repr'><svg class='icon xr-icon-database'><use xlink:href='#icon-database'></use></svg></label><div class='xr-var-attrs'><dl class='xr-attrs'><dt><span>flag_values :</span></dt><dd>M P Q R S Y</dd><dt><span>flag_meanings :</span></dt><dd>See QA/QC csv for network.</dd></dl></div><div class='xr-var-data'><pre>[305943 values with dtype=object]</pre></div></li><li class='xr-var-item'><div class='xr-var-name'><span>tas_qc</span></div><div class='xr-var-dims'>(station, time)</div><div class='xr-var-dtype'>object</div><div class='xr-var-preview xr-preview'>...</div><input id='attrs-f0ac0092-fd09-44d9-8068-d62fd6b165a2' class='xr-var-attrs-in' type='checkbox' ><label for='attrs-f0ac0092-fd09-44d9-8068-d62fd6b165a2' title='Show/Hide attributes'><svg class='icon xr-icon-file-text2'><use xlink:href='#icon-file-text2'></use></svg></label><input id='data-80ce6a15-58a7-4be3-b9c5-71d7bb57d84d' class='xr-var-data-in' type='checkbox'><label for='data-80ce6a15-58a7-4be3-b9c5-71d7bb57d84d' title='Show/Hide data repr'><svg class='icon xr-icon-database'><use xlink:href='#icon-database'></use></svg></label><div class='xr-var-attrs'><dl class='xr-attrs'><dt><span>flag_values :</span></dt><dd>M P R S Y</dd><dt><span>flag_meanings :</span></dt><dd>See QA/QC csv for network.</dd></dl></div><div class='xr-var-data'><pre>[305943 values with dtype=object]</pre></div></li><li class='xr-var-item'><div class='xr-var-name'><span>hurs_qc</span></div><div class='xr-var-dims'>(station, time)</div><div class='xr-var-dtype'>object</div><div class='xr-var-preview xr-preview'>...</div><input id='attrs-8dbc2d37-35c2-4e53-b5ed-ef48b8574800' class='xr-var-attrs-in' type='checkbox' ><label for='attrs-8dbc2d37-35c2-4e53-b5ed-ef48b8574800' title='Show/Hide attributes'><svg class='icon xr-icon-file-text2'><use xlink:href='#icon-file-text2'></use></svg></label><input id='data-305d5736-ee2e-4bd8-a1d0-4b3bf5fda647' class='xr-var-data-in' type='checkbox'><label for='data-305d5736-ee2e-4bd8-a1d0-4b3bf5fda647' title='Show/Hide data repr'><svg class='icon xr-icon-database'><use xlink:href='#icon-database'></use></svg></label><div class='xr-var-attrs'><dl class='xr-attrs'><dt><span>flag_values :</span></dt><dd>M Q R S Y</dd><dt><span>flag_meanings :</span></dt><dd>See QA/QC csv for network.</dd></dl></div><div class='xr-var-data'><pre>[305943 values with dtype=object]</pre></div></li><li class='xr-var-item'><div class='xr-var-name'><span>tdps_derived_qc</span></div><div class='xr-var-dims'>(station, time)</div><div class='xr-var-dtype'>object</div><div class='xr-var-preview xr-preview'>...</div><input id='attrs-339b77e6-de14-46c9-8d75-c0a634ddf6d9' class='xr-var-attrs-in' type='checkbox' ><label for='attrs-339b77e6-de14-46c9-8d75-c0a634ddf6d9' title='Show/Hide attributes'><svg class='icon xr-icon-file-text2'><use xlink:href='#icon-file-text2'></use></svg></label><input id='data-0fa8704c-ad1f-4301-83f8-06effd1f61c6' class='xr-var-data-in' type='checkbox'><label for='data-0fa8704c-ad1f-4301-83f8-06effd1f61c6' title='Show/Hide data repr'><svg class='icon xr-icon-database'><use xlink:href='#icon-database'></use></svg></label><div class='xr-var-attrs'><dl class='xr-attrs'><dt><span>flag_values :</span></dt><dd>M Q R S Y</dd><dt><span>flag_meanings :</span></dt><dd>See QA/QC csv for network.</dd></dl></div><div class='xr-var-data'><pre>[305943 values with dtype=object]</pre></div></li><li class='xr-var-item'><div class='xr-var-name'><span>sfcWind_qc</span></div><div class='xr-var-dims'>(station, time)</div><div class='xr-var-dtype'>object</div><div class='xr-var-preview xr-preview'>...</div><input id='attrs-4741d6d9-16ff-4737-be05-c486c309748c' class='xr-var-attrs-in' type='checkbox' ><label for='attrs-4741d6d9-16ff-4737-be05-c486c309748c' title='Show/Hide attributes'><svg class='icon xr-icon-file-text2'><use xlink:href='#icon-file-text2'></use></svg></label><input id='data-db337a5e-9d8c-47dd-8253-26a87fcc00c8' class='xr-var-data-in' type='checkbox'><label for='data-db337a5e-9d8c-47dd-8253-26a87fcc00c8' title='Show/Hide data repr'><svg class='icon xr-icon-database'><use xlink:href='#icon-database'></use></svg></label><div class='xr-var-attrs'><dl class='xr-attrs'><dt><span>flag_values :</span></dt><dd>I M P R S Y</dd><dt><span>flag_meanings :</span></dt><dd>See QA/QC csv for network.</dd></dl></div><div class='xr-var-data'><pre>[305943 values with dtype=object]</pre></div></li><li class='xr-var-item'><div class='xr-var-name'><span>sfcWind_dir_qc</span></div><div class='xr-var-dims'>(station, time)</div><div class='xr-var-dtype'>object</div><div class='xr-var-preview xr-preview'>...</div><input id='attrs-46f5216b-0ddb-4096-94ba-dcc7ccdb7439' class='xr-var-attrs-in' type='checkbox' ><label for='attrs-46f5216b-0ddb-4096-94ba-dcc7ccdb7439' title='Show/Hide attributes'><svg class='icon xr-icon-file-text2'><use xlink:href='#icon-file-text2'></use></svg></label><input id='data-222da612-773b-483e-b8fc-976e1d8831a5' class='xr-var-data-in' type='checkbox'><label for='data-222da612-773b-483e-b8fc-976e1d8831a5' title='Show/Hide data repr'><svg class='icon xr-icon-database'><use xlink:href='#icon-database'></use></svg></label><div class='xr-var-attrs'><dl class='xr-attrs'><dt><span>flag_values :</span></dt><dd>I M P Q R</dd><dt><span>flag_meanings :</span></dt><dd>See QA/QC csv for network.</dd></dl></div><div class='xr-var-data'><pre>[305943 values with dtype=object]</pre></div></li><li class='xr-var-item'><div class='xr-var-name'><span>elevation</span></div><div class='xr-var-dims'>(station, time)</div><div class='xr-var-dtype'>float64</div><div class='xr-var-preview xr-preview'>...</div><input id='attrs-50cbdafd-9014-4a5b-bab7-8a89c2e3fae1' class='xr-var-attrs-in' type='checkbox' ><label for='attrs-50cbdafd-9014-4a5b-bab7-8a89c2e3fae1' title='Show/Hide attributes'><svg class='icon xr-icon-file-text2'><use xlink:href='#icon-file-text2'></use></svg></label><input id='data-10c0e063-1f0f-4c13-8ad9-77b706b599b0' class='xr-var-data-in' type='checkbox'><label for='data-10c0e063-1f0f-4c13-8ad9-77b706b599b0' title='Show/Hide data repr'><svg class='icon xr-icon-database'><use xlink:href='#icon-database'></use></svg></label><div class='xr-var-attrs'><dl class='xr-attrs'><dt><span>standard_name :</span></dt><dd>height_above_mean_sea_level</dd><dt><span>long_name :</span></dt><dd>station_elevation</dd><dt><span>units :</span></dt><dd>meters</dd><dt><span>positive :</span></dt><dd>up</dd><dt><span>comment :</span></dt><dd>Converted from feet to meters.</dd><dt><span>ancillary_variables :</span></dt><dd>elevation_eraqc</dd></dl></div><div class='xr-var-data'><pre>[305943 values with dtype=float64]</pre></div></li><li class='xr-var-item'><div class='xr-var-name'><span>tdps_derived</span></div><div class='xr-var-dims'>(station, time)</div><div class='xr-var-dtype'>float64</div><div class='xr-var-preview xr-preview'>...</div><input id='attrs-b1d26cd8-db27-47b7-99e5-2a2acbf0555f' class='xr-var-attrs-in' type='checkbox' ><label for='attrs-b1d26cd8-db27-47b7-99e5-2a2acbf0555f' title='Show/Hide attributes'><svg class='icon xr-icon-file-text2'><use xlink:href='#icon-file-text2'></use></svg></label><input id='data-4fa5a7cd-d818-40ec-8a5a-afaf76b0e09c' class='xr-var-data-in' type='checkbox'><label for='data-4fa5a7cd-d818-40ec-8a5a-afaf76b0e09c' title='Show/Hide data repr'><svg class='icon xr-icon-database'><use xlink:href='#icon-database'></use></svg></label><div class='xr-var-attrs'><dl class='xr-attrs'><dt><span>long_name :</span></dt><dd>dew_point_temperature</dd><dt><span>standard_name :</span></dt><dd>dew_point_temperature</dd><dt><span>units :</span></dt><dd>degree_Kelvin</dd><dt><span>ancillary_variables :</span></dt><dd>tdps_derived_qc, tdps_derived_eraqc</dd><dt><span>comment :</span></dt><dd>Derived by CIMIS from vapor pressure and air temperature. Converted from Celsius to Kelvin.</dd></dl></div><div class='xr-var-data'><pre>[305943 values with dtype=float64]</pre></div></li><li class='xr-var-item'><div class='xr-var-name'><span>pvp_derived</span></div><div class='xr-var-dims'>(station, time)</div><div class='xr-var-dtype'>float64</div><div class='xr-var-preview xr-preview'>...</div><input id='attrs-8c7ea3fa-8228-4855-ad04-4d396b7db9b2' class='xr-var-attrs-in' type='checkbox' ><label for='attrs-8c7ea3fa-8228-4855-ad04-4d396b7db9b2' title='Show/Hide attributes'><svg class='icon xr-icon-file-text2'><use xlink:href='#icon-file-text2'></use></svg></label><input id='data-127ed992-97a8-4565-9285-a317e4f12baa' class='xr-var-data-in' type='checkbox'><label for='data-127ed992-97a8-4565-9285-a317e4f12baa' title='Show/Hide data repr'><svg class='icon xr-icon-database'><use xlink:href='#icon-database'></use></svg></label><div class='xr-var-attrs'><dl class='xr-attrs'><dt><span>long_name :</span></dt><dd>partial_vapor_pressure</dd><dt><span>standard_name :</span></dt><dd>water_vapor_partial_pressure_in_air</dd><dt><span>units :</span></dt><dd>Pa</dd><dt><span>ancillary_variables :</span></dt><dd>pvp_qc, pvp_derived_eraqc</dd><dt><span>comment :</span></dt><dd>Derived by CIMIS from relative humidity and air temperature measurements. Converted from kPa to Pa.</dd></dl></div><div class='xr-var-data'><pre>[305943 values with dtype=float64]</pre></div></li><li class='xr-var-item'><div class='xr-var-name'><span>lat</span></div><div class='xr-var-dims'>(station, time)</div><div class='xr-var-dtype'>float64</div><div class='xr-var-preview xr-preview'>...</div><input id='attrs-6266aa94-11fb-4071-bcc3-f38ec2c61eed' class='xr-var-attrs-in' type='checkbox' disabled><label for='attrs-6266aa94-11fb-4071-bcc3-f38ec2c61eed' title='Show/Hide attributes'><svg class='icon xr-icon-file-text2'><use xlink:href='#icon-file-text2'></use></svg></label><input id='data-a8c32657-2a1e-4f96-a590-128fb427636f' class='xr-var-data-in' type='checkbox'><label for='data-a8c32657-2a1e-4f96-a590-128fb427636f' title='Show/Hide data repr'><svg class='icon xr-icon-database'><use xlink:href='#icon-database'></use></svg></label><div class='xr-var-attrs'><dl class='xr-attrs'></dl></div><div class='xr-var-data'><pre>[305943 values with dtype=float64]</pre></div></li><li class='xr-var-item'><div class='xr-var-name'><span>lon</span></div><div class='xr-var-dims'>(station, time)</div><div class='xr-var-dtype'>float64</div><div class='xr-var-preview xr-preview'>...</div><input id='attrs-4aba2332-7c6c-4906-a63c-cb1b74814716' class='xr-var-attrs-in' type='checkbox' disabled><label for='attrs-4aba2332-7c6c-4906-a63c-cb1b74814716' title='Show/Hide attributes'><svg class='icon xr-icon-file-text2'><use xlink:href='#icon-file-text2'></use></svg></label><input id='data-a7c991af-b343-4b7f-9327-3136db98454a' class='xr-var-data-in' type='checkbox'><label for='data-a7c991af-b343-4b7f-9327-3136db98454a' title='Show/Hide data repr'><svg class='icon xr-icon-database'><use xlink:href='#icon-database'></use></svg></label><div class='xr-var-attrs'><dl class='xr-attrs'></dl></div><div class='xr-var-data'><pre>[305943 values with dtype=float64]</pre></div></li><li class='xr-var-item'><div class='xr-var-name'><span>tas_eraqc</span></div><div class='xr-var-dims'>(station, time)</div><div class='xr-var-dtype'>float64</div><div class='xr-var-preview xr-preview'>...</div><input id='attrs-2aafbe42-45e3-4dc0-834c-a86b7aa14377' class='xr-var-attrs-in' type='checkbox' disabled><label for='attrs-2aafbe42-45e3-4dc0-834c-a86b7aa14377' title='Show/Hide attributes'><svg class='icon xr-icon-file-text2'><use xlink:href='#icon-file-text2'></use></svg></label><input id='data-548af9d1-f1ad-4236-81b1-ddda06df1627' class='xr-var-data-in' type='checkbox'><label for='data-548af9d1-f1ad-4236-81b1-ddda06df1627' title='Show/Hide data repr'><svg class='icon xr-icon-database'><use xlink:href='#icon-database'></use></svg></label><div class='xr-var-attrs'><dl class='xr-attrs'></dl></div><div class='xr-var-data'><pre>[305943 values with dtype=float64]</pre></div></li><li class='xr-var-item'><div class='xr-var-name'><span>pr_eraqc</span></div><div class='xr-var-dims'>(station, time)</div><div class='xr-var-dtype'>float64</div><div class='xr-var-preview xr-preview'>...</div><input id='attrs-ac6efc87-36fa-4263-b5db-be4ebdb58c23' class='xr-var-attrs-in' type='checkbox' disabled><label for='attrs-ac6efc87-36fa-4263-b5db-be4ebdb58c23' title='Show/Hide attributes'><svg class='icon xr-icon-file-text2'><use xlink:href='#icon-file-text2'></use></svg></label><input id='data-4b2bb404-b50a-4d60-99b1-e1b8c191c1e8' class='xr-var-data-in' type='checkbox'><label for='data-4b2bb404-b50a-4d60-99b1-e1b8c191c1e8' title='Show/Hide data repr'><svg class='icon xr-icon-database'><use xlink:href='#icon-database'></use></svg></label><div class='xr-var-attrs'><dl class='xr-attrs'></dl></div><div class='xr-var-data'><pre>[305943 values with dtype=float64]</pre></div></li><li class='xr-var-item'><div class='xr-var-name'><span>hurs_eraqc</span></div><div class='xr-var-dims'>(station, time)</div><div class='xr-var-dtype'>float64</div><div class='xr-var-preview xr-preview'>...</div><input id='attrs-516f3e90-408e-41df-bd65-a02cd5dc4687' class='xr-var-attrs-in' type='checkbox' disabled><label for='attrs-516f3e90-408e-41df-bd65-a02cd5dc4687' title='Show/Hide attributes'><svg class='icon xr-icon-file-text2'><use xlink:href='#icon-file-text2'></use></svg></label><input id='data-7084d02e-f04c-410e-bbcf-2c89b6303ecb' class='xr-var-data-in' type='checkbox'><label for='data-7084d02e-f04c-410e-bbcf-2c89b6303ecb' title='Show/Hide data repr'><svg class='icon xr-icon-database'><use xlink:href='#icon-database'></use></svg></label><div class='xr-var-attrs'><dl class='xr-attrs'></dl></div><div class='xr-var-data'><pre>[305943 values with dtype=float64]</pre></div></li><li class='xr-var-item'><div class='xr-var-name'><span>rsds_eraqc</span></div><div class='xr-var-dims'>(station, time)</div><div class='xr-var-dtype'>float64</div><div class='xr-var-preview xr-preview'>...</div><input id='attrs-f2e16253-4504-4fc3-a910-9439abf7f16f' class='xr-var-attrs-in' type='checkbox' disabled><label for='attrs-f2e16253-4504-4fc3-a910-9439abf7f16f' title='Show/Hide attributes'><svg class='icon xr-icon-file-text2'><use xlink:href='#icon-file-text2'></use></svg></label><input id='data-e803b83a-d82d-46cb-a41d-a1b26b5aba2e' class='xr-var-data-in' type='checkbox'><label for='data-e803b83a-d82d-46cb-a41d-a1b26b5aba2e' title='Show/Hide data repr'><svg class='icon xr-icon-database'><use xlink:href='#icon-database'></use></svg></label><div class='xr-var-attrs'><dl class='xr-attrs'></dl></div><div class='xr-var-data'><pre>[305943 values with dtype=float64]</pre></div></li><li class='xr-var-item'><div class='xr-var-name'><span>sfcWind_eraqc</span></div><div class='xr-var-dims'>(station, time)</div><div class='xr-var-dtype'>float64</div><div class='xr-var-preview xr-preview'>...</div><input id='attrs-08912f18-8f44-40f1-8a6e-fe286334b0d0' class='xr-var-attrs-in' type='checkbox' disabled><label for='attrs-08912f18-8f44-40f1-8a6e-fe286334b0d0' title='Show/Hide attributes'><svg class='icon xr-icon-file-text2'><use xlink:href='#icon-file-text2'></use></svg></label><input id='data-0ef471f5-6975-4684-956e-69d1b6357e4f' class='xr-var-data-in' type='checkbox'><label for='data-0ef471f5-6975-4684-956e-69d1b6357e4f' title='Show/Hide data repr'><svg class='icon xr-icon-database'><use xlink:href='#icon-database'></use></svg></label><div class='xr-var-attrs'><dl class='xr-attrs'></dl></div><div class='xr-var-data'><pre>[305943 values with dtype=float64]</pre></div></li><li class='xr-var-item'><div class='xr-var-name'><span>sfcWind_dir_eraqc</span></div><div class='xr-var-dims'>(station, time)</div><div class='xr-var-dtype'>float64</div><div class='xr-var-preview xr-preview'>...</div><input id='attrs-0fe28e76-4e95-4749-b135-9fbe77b5a729' class='xr-var-attrs-in' type='checkbox' disabled><label for='attrs-0fe28e76-4e95-4749-b135-9fbe77b5a729' title='Show/Hide attributes'><svg class='icon xr-icon-file-text2'><use xlink:href='#icon-file-text2'></use></svg></label><input id='data-80997a79-a9af-446a-9abe-1ec195e5129b' class='xr-var-data-in' type='checkbox'><label for='data-80997a79-a9af-446a-9abe-1ec195e5129b' title='Show/Hide data repr'><svg class='icon xr-icon-database'><use xlink:href='#icon-database'></use></svg></label><div class='xr-var-attrs'><dl class='xr-attrs'></dl></div><div class='xr-var-data'><pre>[305943 values with dtype=float64]</pre></div></li><li class='xr-var-item'><div class='xr-var-name'><span>elevation_eraqc</span></div><div class='xr-var-dims'>(station, time)</div><div class='xr-var-dtype'>float64</div><div class='xr-var-preview xr-preview'>...</div><input id='attrs-9dffceb5-44bd-4d4d-af1d-89b5e69fdc33' class='xr-var-attrs-in' type='checkbox' disabled><label for='attrs-9dffceb5-44bd-4d4d-af1d-89b5e69fdc33' title='Show/Hide attributes'><svg class='icon xr-icon-file-text2'><use xlink:href='#icon-file-text2'></use></svg></label><input id='data-b95ca768-28ec-4cd4-986e-6468f0b6bda7' class='xr-var-data-in' type='checkbox'><label for='data-b95ca768-28ec-4cd4-986e-6468f0b6bda7' title='Show/Hide data repr'><svg class='icon xr-icon-database'><use xlink:href='#icon-database'></use></svg></label><div class='xr-var-attrs'><dl class='xr-attrs'></dl></div><div class='xr-var-data'><pre>[305943 values with dtype=float64]</pre></div></li><li class='xr-var-item'><div class='xr-var-name'><span>tdps_derived_eraqc</span></div><div class='xr-var-dims'>(station, time)</div><div class='xr-var-dtype'>float64</div><div class='xr-var-preview xr-preview'>...</div><input id='attrs-471e7630-067b-4c7d-a3d6-f1546bcca0a2' class='xr-var-attrs-in' type='checkbox' disabled><label for='attrs-471e7630-067b-4c7d-a3d6-f1546bcca0a2' title='Show/Hide attributes'><svg class='icon xr-icon-file-text2'><use xlink:href='#icon-file-text2'></use></svg></label><input id='data-221c25b5-1233-4199-bce3-2daed585d09c' class='xr-var-data-in' type='checkbox'><label for='data-221c25b5-1233-4199-bce3-2daed585d09c' title='Show/Hide data repr'><svg class='icon xr-icon-database'><use xlink:href='#icon-database'></use></svg></label><div class='xr-var-attrs'><dl class='xr-attrs'></dl></div><div class='xr-var-data'><pre>[305943 values with dtype=float64]</pre></div></li><li class='xr-var-item'><div class='xr-var-name'><span>pvp_derived_eraqc</span></div><div class='xr-var-dims'>(station, time)</div><div class='xr-var-dtype'>float64</div><div class='xr-var-preview xr-preview'>...</div><input id='attrs-02068aac-ca5f-4882-b202-4e9ac342eaba' class='xr-var-attrs-in' type='checkbox' disabled><label for='attrs-02068aac-ca5f-4882-b202-4e9ac342eaba' title='Show/Hide attributes'><svg class='icon xr-icon-file-text2'><use xlink:href='#icon-file-text2'></use></svg></label><input id='data-85d6565a-0ab1-4c67-9974-6b72db335eda' class='xr-var-data-in' type='checkbox'><label for='data-85d6565a-0ab1-4c67-9974-6b72db335eda' title='Show/Hide data repr'><svg class='icon xr-icon-database'><use xlink:href='#icon-database'></use></svg></label><div class='xr-var-attrs'><dl class='xr-attrs'></dl></div><div class='xr-var-data'><pre>[305943 values with dtype=float64]</pre></div></li><li class='xr-var-item'><div class='xr-var-name'><span>anemometer_height_m</span></div><div class='xr-var-dims'>(station, time)</div><div class='xr-var-dtype'>float64</div><div class='xr-var-preview xr-preview'>...</div><input id='attrs-d629cc69-9dd2-4ebb-91fa-c678857b67a6' class='xr-var-attrs-in' type='checkbox' disabled><label for='attrs-d629cc69-9dd2-4ebb-91fa-c678857b67a6' title='Show/Hide attributes'><svg class='icon xr-icon-file-text2'><use xlink:href='#icon-file-text2'></use></svg></label><input id='data-04b8fc7e-fc29-4aea-b208-bb0e49848198' class='xr-var-data-in' type='checkbox'><label for='data-04b8fc7e-fc29-4aea-b208-bb0e49848198' title='Show/Hide data repr'><svg class='icon xr-icon-database'><use xlink:href='#icon-database'></use></svg></label><div class='xr-var-attrs'><dl class='xr-attrs'></dl></div><div class='xr-var-data'><pre>[305943 values with dtype=float64]</pre></div></li><li class='xr-var-item'><div class='xr-var-name'><span>thermometer_height_m</span></div><div class='xr-var-dims'>(station, time)</div><div class='xr-var-dtype'>float64</div><div class='xr-var-preview xr-preview'>...</div><input id='attrs-8b67585b-baa0-4f84-992c-5192d96af8be' class='xr-var-attrs-in' type='checkbox' disabled><label for='attrs-8b67585b-baa0-4f84-992c-5192d96af8be' title='Show/Hide attributes'><svg class='icon xr-icon-file-text2'><use xlink:href='#icon-file-text2'></use></svg></label><input id='data-3c7d1fd9-8cb2-4639-9ab9-5fdfef620d93' class='xr-var-data-in' type='checkbox'><label for='data-3c7d1fd9-8cb2-4639-9ab9-5fdfef620d93' title='Show/Hide data repr'><svg class='icon xr-icon-database'><use xlink:href='#icon-database'></use></svg></label><div class='xr-var-attrs'><dl class='xr-attrs'></dl></div><div class='xr-var-data'><pre>[305943 values with dtype=float64]</pre></div></li></ul></div></li><li class='xr-section-item'><input id='section-5a9ef2ce-bbcd-4a00-9fe0-45f995907445' class='xr-section-summary-in' type='checkbox'  ><label for='section-5a9ef2ce-bbcd-4a00-9fe0-45f995907445' class='xr-section-summary' >Attributes: <span>(16)</span></label><div class='xr-section-inline-details'></div><div class='xr-section-details'><dl class='xr-attrs'><dt><span>title :</span></dt><dd>CIMIS quality controlled</dd><dt><span>institution :</span></dt><dd>Eagle Rock Analytics / Cal Adapt</dd><dt><span>source :</span></dt><dd></dd><dt><span>history :</span></dt><dd>CIMIS_clean.py script run on 02-13-2023, 22:25:54 UTC \n",
       "ALLNETWORKS_qaqc.py script run on 08-07-2024, 20:52:09 UTC</dd><dt><span>comment :</span></dt><dd>Intermediate data product: may not have been subject to any cleaning or QA/QC processing \n",
       "An intermediate data product: subject to cleaning but may not be subject to full QA/QC processing.</dd><dt><span>license :</span></dt><dd></dd><dt><span>citation :</span></dt><dd></dd><dt><span>disclaimer :</span></dt><dd>This document was prepared as a result of work sponsored by the California Energy Commission (PIR-19-006). It does not necessarily represent the views of the Energy Commission, its employees, or the State of California. Neither the Commission, the State of California, nor the Commission&#x27;s employees, contractors, or subcontractors makes any warranty, express or implied, or assumes any legal liability for the information in this document; nor does any party represent that the use of this information will not infringe upon privately owned rights. This document has not been approved or disapproved by the Commission, nor has the Commission passed upon the accuracy of the information in this document.</dd><dt><span>station_name :</span></dt><dd>Irvine</dd><dt><span>pyranometer_height_m :</span></dt><dd>2.0</dd><dt><span>wind_vane_height_m :</span></dt><dd>2.0</dd><dt><span>anemometer_height_m :</span></dt><dd>2.0</dd><dt><span>thermometer_height_m :</span></dt><dd>1.5</dd><dt><span>humidity_height_m :</span></dt><dd>1.5</dd><dt><span>rain_gauge_height_m :</span></dt><dd>1.0</dd><dt><span>raw_files_merged :</span></dt><dd>47</dd></dl></div></li></ul></div></div>"
      ],
      "text/plain": [
       "<xarray.Dataset>\n",
       "Dimensions:               (station: 1, time: 305943)\n",
       "Coordinates:\n",
       "  * station               (station) <U8 'CIMIS_75'\n",
       "  * time                  (time) datetime64[ns] 1987-10-07T09:00:00 ... 2022-...\n",
       "Data variables: (12/30)\n",
       "    tas                   (station, time) float64 ...\n",
       "    pr                    (station, time) float64 ...\n",
       "    hurs                  (station, time) float64 ...\n",
       "    rsds                  (station, time) float64 ...\n",
       "    sfcWind               (station, time) float64 ...\n",
       "    sfcWind_dir           (station, time) float64 ...\n",
       "    ...                    ...\n",
       "    sfcWind_dir_eraqc     (station, time) float64 ...\n",
       "    elevation_eraqc       (station, time) float64 ...\n",
       "    tdps_derived_eraqc    (station, time) float64 ...\n",
       "    pvp_derived_eraqc     (station, time) float64 ...\n",
       "    anemometer_height_m   (station, time) float64 ...\n",
       "    thermometer_height_m  (station, time) float64 ...\n",
       "Attributes: (12/16)\n",
       "    title:                 CIMIS quality controlled\n",
       "    institution:           Eagle Rock Analytics / Cal Adapt\n",
       "    source:                \n",
       "    history:               CIMIS_clean.py script run on 02-13-2023, 22:25:54 ...\n",
       "    comment:               Intermediate data product: may not have been subje...\n",
       "    license:               \n",
       "    ...                    ...\n",
       "    wind_vane_height_m:    2.0\n",
       "    anemometer_height_m:   2.0\n",
       "    thermometer_height_m:  1.5\n",
       "    humidity_height_m:     1.5\n",
       "    rain_gauge_height_m:   1.0\n",
       "    raw_files_merged:      47"
      ]
     },
     "execution_count": 24,
     "metadata": {},
     "output_type": "execute_result"
    }
   ],
   "source": [
    "ds"
   ]
  },
  {
   "cell_type": "code",
   "execution_count": null,
   "id": "d21bc546-5cc9-4c93-bbbe-2e0deae1ec20",
   "metadata": {
    "execution": {
     "iopub.execute_input": "2024-10-01T18:02:39.848040Z",
     "iopub.status.busy": "2024-10-01T18:02:39.847445Z"
    }
   },
   "outputs": [],
   "source": [
    "%%time\n",
    "df, MultiIndex, attrs, var_attrs, era_qc_vars = qaqc_ds_to_df(ds)\n",
    "df.head(3)"
   ]
  },
  {
   "cell_type": "code",
   "execution_count": null,
   "id": "886a2fba-e3a5-4e46-9de2-c76b596a6903",
   "metadata": {
    "execution": {
     "iopub.status.busy": "2024-10-01T18:00:46.518935Z",
     "iopub.status.idle": "2024-10-01T18:00:46.519103Z",
     "shell.execute_reply": "2024-10-01T18:00:46.519001Z",
     "shell.execute_reply.started": "2024-10-01T18:00:46.518995Z"
    }
   },
   "outputs": [],
   "source": [
    "ds.tas_eraqc.plot(marker=\".\", lw=0)"
   ]
  },
  {
   "cell_type": "code",
   "execution_count": null,
   "id": "27d28ea4-ab39-4d3a-bf49-0a657c2bd481",
   "metadata": {
    "execution": {
     "iopub.status.busy": "2024-10-01T18:00:46.519712Z",
     "iopub.status.idle": "2024-10-01T18:00:46.519906Z",
     "shell.execute_reply": "2024-10-01T18:00:46.519833Z",
     "shell.execute_reply.started": "2024-10-01T18:00:46.519826Z"
    }
   },
   "outputs": [],
   "source": [
    "df.tas_eraqc.plot(marker=\".\", lw=0)"
   ]
  },
  {
   "cell_type": "code",
   "execution_count": null,
   "id": "1a948a14-0098-43fe-b19a-b28b690aea6a",
   "metadata": {
    "execution": {
     "iopub.status.busy": "2024-10-01T18:00:46.520692Z",
     "iopub.status.idle": "2024-10-01T18:00:46.521035Z",
     "shell.execute_reply": "2024-10-01T18:00:46.520919Z",
     "shell.execute_reply.started": "2024-10-01T18:00:46.520892Z"
    }
   },
   "outputs": [],
   "source": [
    "var = \"hurs\"\n",
    "var = \"tas\"\n",
    "\n",
    "print(\"\\n{}\".format(specific_station))\n",
    "print(df.iloc[[0,-1]]['time'].values)\n",
    "print(len(df[var+\"_eraqc\"].dropna())/len(df[var+\"_eraqc\"]))\n",
    "\n",
    "for i in range(3):\n",
    "    id = ghcnh_stations_df['id'].iloc[i]\n",
    "    ghcnh.read_data_from_url(id, save=True)\n",
    "    ghcnh.convert_df_to_gpd()\n",
    "    tmp_df = ghcnh.station_data.copy()\n",
    "\n",
    "    ghcnh_df, vars = return_ghcn_vars(tmp_df, var)\n",
    "    print(\"=============================\")\n",
    "    print(\"{}\".format(id))\n",
    "    # print(ghcnh_df.iloc[[0,-1]].apply(lambda row: pd.Timestamp(row[\"Year\"],row[\"Month\"],row[\"Day\"],row[\"Hour\"]), axis=1).values)\n",
    "    print(ghcnh_df.iloc[[0,-1]]['time'].values)\n",
    "    print(len(ghcnh_df[vars[var]+'_Quality_Code'].dropna())/len(ghcnh_df[vars[var]+'_Quality_Code']))\n",
    "    \n",
    "    print()"
   ]
  },
  {
   "cell_type": "code",
   "execution_count": null,
   "id": "5d3d447d-5e16-477b-a91f-047babf1243c",
   "metadata": {
    "execution": {
     "iopub.status.busy": "2024-10-01T18:00:46.521654Z",
     "iopub.status.idle": "2024-10-01T18:00:46.521797Z",
     "shell.execute_reply": "2024-10-01T18:00:46.521714Z",
     "shell.execute_reply.started": "2024-10-01T18:00:46.521709Z"
    }
   },
   "outputs": [],
   "source": [
    "ghcnh_df[vars[var]+'_Quality_Code']"
   ]
  },
  {
   "cell_type": "code",
   "execution_count": null,
   "id": "ff570cb7-8246-41c2-a129-21c77513ed49",
   "metadata": {
    "execution": {
     "iopub.status.busy": "2024-10-01T18:00:46.522487Z",
     "iopub.status.idle": "2024-10-01T18:00:46.522642Z",
     "shell.execute_reply": "2024-10-01T18:00:46.522545Z",
     "shell.execute_reply.started": "2024-10-01T18:00:46.522540Z"
    }
   },
   "outputs": [],
   "source": [
    "ghcnh_df[vars[var]].plot()\n",
    "ghcnh_df.dropna(subset=vars[var]+\"_Quality_Code\")[vars[var]].plot(marker=\".\", lw=0)"
   ]
  },
  {
   "cell_type": "code",
   "execution_count": null,
   "id": "ff3b3a7a-8115-4f65-9687-f2263d2098ed",
   "metadata": {
    "execution": {
     "iopub.status.busy": "2024-10-01T18:00:46.523374Z",
     "iopub.status.idle": "2024-10-01T18:00:46.523499Z",
     "shell.execute_reply": "2024-10-01T18:00:46.523437Z",
     "shell.execute_reply.started": "2024-10-01T18:00:46.523431Z"
    }
   },
   "outputs": [],
   "source": [
    "fig,ax = plt.subplots(figsize=(10,3))\n",
    "pd.DataFrame(ghcnh_df).iloc[5000:5200].plot(x=\"time\",y=\"temperature\",marker=\"x\", lw=0, ax=ax)\n",
    "pd.DataFrame(ghcnh_df).iloc[5000:5200].dropna(subset=vars[var]+\"_Quality_Code\").plot(x=\"time\",y=\"temperature\",marker=\"o\", mfc=\"none\", lw=0, ax=ax)"
   ]
  },
  {
   "cell_type": "code",
   "execution_count": null,
   "id": "f34191d1-fa6f-46d7-86fd-dc888aad0477",
   "metadata": {
    "execution": {
     "iopub.status.busy": "2024-10-01T18:00:46.524061Z",
     "iopub.status.idle": "2024-10-01T18:00:46.524317Z",
     "shell.execute_reply": "2024-10-01T18:00:46.524227Z",
     "shell.execute_reply.started": "2024-10-01T18:00:46.524216Z"
    }
   },
   "outputs": [],
   "source": [
    "len(ghcnh_df.dropna(subset=vars[var]+\"_Quality_Code\"))/len(ghcnh_df)"
   ]
  },
  {
   "cell_type": "code",
   "execution_count": null,
   "id": "d3d25c1b-8924-4dbd-9505-ce9553752465",
   "metadata": {
    "execution": {
     "iopub.status.busy": "2024-10-01T18:00:46.525269Z",
     "iopub.status.idle": "2024-10-01T18:00:46.525436Z",
     "shell.execute_reply": "2024-10-01T18:00:46.525345Z",
     "shell.execute_reply.started": "2024-10-01T18:00:46.525339Z"
    }
   },
   "outputs": [],
   "source": [
    "print(len(ghcnh_df[vars[var]+'_Quality_Code'].dropna())/len(ghcnh_df[vars[var]+'_Quality_Code']))"
   ]
  },
  {
   "cell_type": "code",
   "execution_count": null,
   "id": "b9a048e6-5f83-4dbd-b09d-ee039f12e62f",
   "metadata": {
    "execution": {
     "iopub.status.busy": "2024-10-01T18:00:46.526719Z",
     "iopub.status.idle": "2024-10-01T18:00:46.526851Z",
     "shell.execute_reply": "2024-10-01T18:00:46.526783Z",
     "shell.execute_reply.started": "2024-10-01T18:00:46.526778Z"
    }
   },
   "outputs": [],
   "source": [
    "ghcnh_df[vars[var]+'_Quality_Code'].unique()"
   ]
  },
  {
   "cell_type": "code",
   "execution_count": null,
   "id": "c8392c54-d15d-4923-8555-ad0bf53bb34c",
   "metadata": {
    "execution": {
     "iopub.status.busy": "2024-10-01T18:00:46.527514Z",
     "iopub.status.idle": "2024-10-01T18:00:46.527746Z",
     "shell.execute_reply": "2024-10-01T18:00:46.527659Z",
     "shell.execute_reply.started": "2024-10-01T18:00:46.527653Z"
    }
   },
   "outputs": [],
   "source": [
    "np.setdiff1d(ghcnh_df[vars[var]+'_Quality_Code'].dropna().index, ghcnh_df.index)"
   ]
  },
  {
   "cell_type": "code",
   "execution_count": null,
   "id": "ac0495c1-ecb0-4259-b6b9-032ac67326fb",
   "metadata": {
    "execution": {
     "iopub.status.busy": "2024-10-01T18:00:46.528390Z",
     "iopub.status.idle": "2024-10-01T18:00:46.528513Z",
     "shell.execute_reply": "2024-10-01T18:00:46.528452Z",
     "shell.execute_reply.started": "2024-10-01T18:00:46.528446Z"
    }
   },
   "outputs": [],
   "source": [
    "ind = pd.isna(ghcnh_df[vars[var]+'_Quality_Code'])\n",
    "len(np.where(ind)[0])\n",
    "len(plot_df[ind])"
   ]
  },
  {
   "cell_type": "code",
   "execution_count": null,
   "id": "9e6a6311-998b-4f80-b411-1fdda5ac35ec",
   "metadata": {
    "execution": {
     "iopub.status.busy": "2024-10-01T18:00:46.529016Z",
     "iopub.status.idle": "2024-10-01T18:00:46.529158Z",
     "shell.execute_reply": "2024-10-01T18:00:46.529069Z",
     "shell.execute_reply.started": "2024-10-01T18:00:46.529064Z"
    }
   },
   "outputs": [],
   "source": [
    "fig,ax = plt.subplots(figsize=(10,3))\n",
    "plot_df = pd.DataFrame(ghcnh_df)\n",
    "plot_df.plot(x=\"time\", y=vars[var], \n",
    "            ax=ax, marker=\".\", lw=0.5, color=\"black\",\n",
    "            markersize=2)\n",
    "ax.fill_between(x=plot_df[ind].time, y1=ax.get_ylim()[0], y2=ax.get_ylim()[1], color='skyblue', alpha=0.5)\n",
    "# plot_df = plot_df[ind]\n",
    "# plot_df.plot(x=\"time\", y=vars[var], \n",
    "#              ax=ax, marker=\"o\", lw=0.0, color=\"red\",\n",
    "#              markersize=4, label='Streaks', mfc='none')"
   ]
  },
  {
   "cell_type": "code",
   "execution_count": null,
   "id": "6bd626cc-3376-46f6-9d9f-0a2019ec44ca",
   "metadata": {
    "execution": {
     "iopub.status.busy": "2024-10-01T18:00:46.529612Z",
     "iopub.status.idle": "2024-10-01T18:00:46.529748Z",
     "shell.execute_reply": "2024-10-01T18:00:46.529665Z",
     "shell.execute_reply.started": "2024-10-01T18:00:46.529660Z"
    }
   },
   "outputs": [],
   "source": [
    "fig,ax = plt.subplots(figsize=(10,3))\n",
    "plot_df = pd.DataFrame(ghcnh_df)\n",
    "plot_df.plot(x=\"time\", y=vars[var], \n",
    "                            ax=ax, marker=\".\", lw=0.5, color=\"black\",\n",
    "                            markersize=2)\n",
    "plot_df = plot_df[plot_df[vars[var]+'_Quality_Code']=='K']\n",
    "plot_df.plot(x=\"time\", y=vars[var], \n",
    "             ax=ax, marker=\"o\", lw=0.0, color=\"red\",\n",
    "             markersize=4, label='Streaks', mfc='none')"
   ]
  },
  {
   "cell_type": "code",
   "execution_count": null,
   "id": "4382dee7-5d18-4f81-be46-5f4565ecd534",
   "metadata": {
    "execution": {
     "iopub.status.busy": "2024-10-01T18:00:46.531362Z",
     "iopub.status.idle": "2024-10-01T18:00:46.531830Z",
     "shell.execute_reply": "2024-10-01T18:00:46.531750Z",
     "shell.execute_reply.started": "2024-10-01T18:00:46.531743Z"
    }
   },
   "outputs": [],
   "source": [
    "fig,ax = plt.subplots(figsize=(10,3))\n",
    "plot_df = pd.DataFrame(ghcnh_df)\n",
    "plot_df.plot(x=\"time\", y=vars[var], \n",
    "                            ax=ax, marker=\".\", lw=0.5, color=\"black\",\n",
    "                            markersize=2)\n",
    "plot_df = plot_df[plot_df[vars[var]+'_Quality_Code']=='K']\n",
    "plot_df.plot(x=\"time\", y=vars[var], \n",
    "             ax=ax, marker=\"o\", lw=0.0, color=\"red\",\n",
    "             markersize=4, label='Streaks', mfc='none')\n",
    "ax.set_xlim(np.datetime64(\"2003-03-08\"),np.datetime64(\"2003-03-23\"))"
   ]
  },
  {
   "cell_type": "code",
   "execution_count": null,
   "id": "2c5f74b3-be3a-45be-a93c-8b8d71417a61",
   "metadata": {},
   "outputs": [],
   "source": []
  },
  {
   "cell_type": "code",
   "execution_count": null,
   "id": "a54f8347-0f7f-4ac0-86a2-dbc400b8978b",
   "metadata": {},
   "outputs": [],
   "source": []
  },
  {
   "cell_type": "code",
   "execution_count": null,
   "id": "4981741b-18b3-4047-9989-1f261e190622",
   "metadata": {
    "execution": {
     "iopub.status.busy": "2024-10-01T18:00:46.532259Z",
     "iopub.status.idle": "2024-10-01T18:00:46.532433Z",
     "shell.execute_reply": "2024-10-01T18:00:46.532356Z",
     "shell.execute_reply.started": "2024-10-01T18:00:46.532348Z"
    }
   },
   "outputs": [],
   "source": [
    "fig,ax = plt.subplots(figsize=(10,3))\n",
    "plot_df = pd.DataFrame(ghcnh_df)\n",
    "plot_df.plot(x=\"time\", y=vars[var], \n",
    "                            ax=ax, marker=\".\", lw=0.5, color=\"black\",\n",
    "                            markersize=2)\n",
    "plot_df = plot_df[plot_df[vars[var]+'_Quality_Code']=='o']\n",
    "plot_df.plot(x=\"time\", y=vars[var], \n",
    "             ax=ax, marker=\"o\", lw=0.0, color=\"red\",\n",
    "             markersize=4, label='Out of range', mfc='none')"
   ]
  },
  {
   "cell_type": "code",
   "execution_count": null,
   "id": "ad3f72b6-94dd-46b6-a7b4-cd41331ec487",
   "metadata": {
    "execution": {
     "iopub.status.busy": "2024-10-01T18:00:46.537156Z",
     "iopub.status.idle": "2024-10-01T18:00:46.538017Z",
     "shell.execute_reply": "2024-10-01T18:00:46.537868Z",
     "shell.execute_reply.started": "2024-10-01T18:00:46.537855Z"
    }
   },
   "outputs": [],
   "source": [
    "fig,ax = plt.subplots(figsize=(10,3))\n",
    "plot_df = pd.DataFrame(ghcnh_df)\n",
    "plot_df.plot(x=\"time\", y=vars[var], \n",
    "                            ax=ax, marker=\".\", lw=0.5, color=\"black\",\n",
    "                            markersize=2)\n",
    "plot_df = plot_df[plot_df[vars[var]+'_Quality_Code']=='f']\n",
    "plot_df.plot(x=\"time\", y=vars[var], \n",
    "             ax=ax, marker=\"x\", lw=0.0, color=\"red\",\n",
    "             markersize=4, label='Suspect or Error', mfc='none')"
   ]
  },
  {
   "cell_type": "code",
   "execution_count": null,
   "id": "9c56333d-bd02-4516-a994-040fabe35a10",
   "metadata": {},
   "outputs": [],
   "source": []
  },
  {
   "cell_type": "code",
   "execution_count": null,
   "id": "1aac1584-d382-486c-b70c-dc6b67cd8b35",
   "metadata": {},
   "outputs": [],
   "source": []
  },
  {
   "cell_type": "code",
   "execution_count": null,
   "id": "506580a7-4a57-40db-aa97-c5bba116d9d3",
   "metadata": {},
   "outputs": [],
   "source": []
  },
  {
   "cell_type": "code",
   "execution_count": null,
   "id": "b0cae81a-64ea-49df-982d-fc8af0e730fd",
   "metadata": {},
   "outputs": [],
   "source": []
  },
  {
   "cell_type": "code",
   "execution_count": null,
   "id": "73441fa3-d610-41cd-b4e6-7ebc3960c5c8",
   "metadata": {
    "execution": {
     "iopub.status.busy": "2024-10-01T18:00:46.564176Z",
     "iopub.status.idle": "2024-10-01T18:00:46.567072Z",
     "shell.execute_reply": "2024-10-01T18:00:46.564877Z",
     "shell.execute_reply.started": "2024-10-01T18:00:46.564856Z"
    }
   },
   "outputs": [],
   "source": [
    "ghcnh_df.columns"
   ]
  },
  {
   "cell_type": "code",
   "execution_count": null,
   "id": "84ab82ca-40e0-4c68-abc0-6dc52e17648a",
   "metadata": {
    "execution": {
     "iopub.status.busy": "2024-10-01T18:00:46.568621Z",
     "iopub.status.idle": "2024-10-01T18:00:46.569047Z",
     "shell.execute_reply": "2024-10-01T18:00:46.568940Z",
     "shell.execute_reply.started": "2024-10-01T18:00:46.568928Z"
    }
   },
   "outputs": [],
   "source": [
    "ghcnh_df['relative_humidity_Measurement_Code'].unique()"
   ]
  },
  {
   "cell_type": "code",
   "execution_count": null,
   "id": "cf75e610-25e2-4925-a01e-f17f464b4415",
   "metadata": {
    "execution": {
     "iopub.status.busy": "2024-10-01T18:00:46.569804Z",
     "iopub.status.idle": "2024-10-01T18:00:46.569976Z",
     "shell.execute_reply": "2024-10-01T18:00:46.569897Z",
     "shell.execute_reply.started": "2024-10-01T18:00:46.569891Z"
    }
   },
   "outputs": [],
   "source": [
    "ghcnh_df['relative_humidity_Quality_Code'].unique()"
   ]
  },
  {
   "cell_type": "code",
   "execution_count": null,
   "id": "fdce475c-0c63-4350-a4d7-a1eaee9a535a",
   "metadata": {
    "execution": {
     "iopub.status.busy": "2024-10-01T18:00:46.570695Z",
     "iopub.status.idle": "2024-10-01T18:00:46.570878Z",
     "shell.execute_reply": "2024-10-01T18:00:46.570779Z",
     "shell.execute_reply.started": "2024-10-01T18:00:46.570753Z"
    }
   },
   "outputs": [],
   "source": [
    "ghcnh_df['relative_humidity_Report_Type'].unique()"
   ]
  },
  {
   "cell_type": "code",
   "execution_count": null,
   "id": "552059a7-d063-4bb4-93d7-79e027bfa3cf",
   "metadata": {
    "execution": {
     "iopub.status.busy": "2024-10-01T18:00:46.571440Z",
     "iopub.status.idle": "2024-10-01T18:00:46.571636Z",
     "shell.execute_reply": "2024-10-01T18:00:46.571539Z",
     "shell.execute_reply.started": "2024-10-01T18:00:46.571532Z"
    }
   },
   "outputs": [],
   "source": [
    "ghcnh_df['relative_humidity_Source_Code'].unique()"
   ]
  },
  {
   "cell_type": "code",
   "execution_count": null,
   "id": "63f6b39f-273e-41ff-a1f2-eab1e4f5f437",
   "metadata": {
    "execution": {
     "iopub.status.busy": "2024-10-01T18:00:46.572278Z",
     "iopub.status.idle": "2024-10-01T18:00:46.572418Z",
     "shell.execute_reply": "2024-10-01T18:00:46.572350Z",
     "shell.execute_reply.started": "2024-10-01T18:00:46.572345Z"
    }
   },
   "outputs": [],
   "source": [
    "ghcnh_df['relative_humidity_Source_Station_ID'].unique()"
   ]
  },
  {
   "cell_type": "code",
   "execution_count": null,
   "id": "cdbf984f-9edc-4d00-9094-085e7c1c0fd6",
   "metadata": {
    "execution": {
     "iopub.status.busy": "2024-10-01T18:00:46.572956Z",
     "iopub.status.idle": "2024-10-01T18:00:46.573124Z",
     "shell.execute_reply": "2024-10-01T18:00:46.573033Z",
     "shell.execute_reply.started": "2024-10-01T18:00:46.573027Z"
    }
   },
   "outputs": [],
   "source": [
    "# df[var+\"_eraqc\"]"
   ]
  },
  {
   "cell_type": "code",
   "execution_count": null,
   "id": "68b8e1e6-3af2-4d63-afb7-1c36c678deae",
   "metadata": {},
   "outputs": [],
   "source": []
  },
  {
   "cell_type": "code",
   "execution_count": null,
   "id": "092c47c8-9672-429c-8452-fe608df5e174",
   "metadata": {},
   "outputs": [],
   "source": []
  },
  {
   "cell_type": "code",
   "execution_count": null,
   "id": "66049cb4-1f93-4ef9-8c07-d5ed4e26ae8f",
   "metadata": {},
   "outputs": [],
   "source": []
  },
  {
   "cell_type": "code",
   "execution_count": null,
   "id": "cd6f0ea5-e6aa-496a-8675-36f86751772e",
   "metadata": {},
   "outputs": [],
   "source": []
  },
  {
   "cell_type": "code",
   "execution_count": null,
   "id": "ab3e83b5-7b2a-4d3f-8473-a5b7f23df257",
   "metadata": {},
   "outputs": [],
   "source": []
  },
  {
   "cell_type": "code",
   "execution_count": null,
   "id": "2da80e73-97ad-4f6a-b67c-ac06870e8044",
   "metadata": {},
   "outputs": [],
   "source": []
  },
  {
   "cell_type": "code",
   "execution_count": null,
   "id": "88cbef22-6cb9-4fbf-a129-0dac7ae4f616",
   "metadata": {
    "execution": {
     "iopub.status.busy": "2024-10-01T18:00:46.573829Z",
     "iopub.status.idle": "2024-10-01T18:00:46.574023Z",
     "shell.execute_reply": "2024-10-01T18:00:46.573924Z",
     "shell.execute_reply.started": "2024-10-01T18:00:46.573916Z"
    }
   },
   "outputs": [],
   "source": [
    "df.dropna(subset=vars[\"tas\"])"
   ]
  },
  {
   "cell_type": "code",
   "execution_count": null,
   "id": "f38057b3-da70-44f0-9790-212197e5b60c",
   "metadata": {
    "execution": {
     "iopub.status.busy": "2024-10-01T18:00:46.574600Z",
     "iopub.status.idle": "2024-10-01T18:00:46.574736Z",
     "shell.execute_reply": "2024-10-01T18:00:46.574671Z",
     "shell.execute_reply.started": "2024-10-01T18:00:46.574666Z"
    }
   },
   "outputs": [],
   "source": [
    "len(df.temperature_Quality_Code.dropna())/len(df.temperature_Quality_Code)"
   ]
  },
  {
   "cell_type": "markdown",
   "id": "323c9ace-c316-4755-a52c-f82b79f77c13",
   "metadata": {},
   "source": [
    "- ERA5 map\n",
    "- Accumulated flags\n",
    "- Interpolated stations or mean\n"
   ]
  },
  {
   "cell_type": "code",
   "execution_count": null,
   "id": "58d30dbb-902f-4b44-8126-ca0588849831",
   "metadata": {
    "execution": {
     "iopub.status.busy": "2024-10-01T18:00:46.575333Z",
     "iopub.status.idle": "2024-10-01T18:00:46.575475Z",
     "shell.execute_reply": "2024-10-01T18:00:46.575408Z",
     "shell.execute_reply.started": "2024-10-01T18:00:46.575402Z"
    }
   },
   "outputs": [],
   "source": [
    "ghcnh.convert_df_to_gpd(ghcnh.station_data)"
   ]
  },
  {
   "cell_type": "code",
   "execution_count": null,
   "id": "ef8e2e53-1ff6-4016-9c51-73ac4cdfa4a7",
   "metadata": {},
   "outputs": [],
   "source": []
  },
  {
   "cell_type": "code",
   "execution_count": null,
   "id": "e761d2ac-8be6-44cb-b389-89fc9f517a8a",
   "metadata": {},
   "outputs": [],
   "source": []
  },
  {
   "cell_type": "code",
   "execution_count": null,
   "id": "77355bab-9b10-4bc4-9671-5c093ec98507",
   "metadata": {},
   "outputs": [],
   "source": []
  },
  {
   "cell_type": "code",
   "execution_count": null,
   "id": "57c35dc6-7fa7-4717-9311-d1acb4ae9ded",
   "metadata": {},
   "outputs": [],
   "source": []
  },
  {
   "cell_type": "code",
   "execution_count": null,
   "id": "ca430745-b684-4685-b75f-a68e7e56b8e8",
   "metadata": {},
   "outputs": [],
   "source": []
  },
  {
   "cell_type": "code",
   "execution_count": null,
   "id": "50dac15d-db66-4ad1-9371-c1ebbd26d40a",
   "metadata": {},
   "outputs": [],
   "source": []
  },
  {
   "cell_type": "code",
   "execution_count": null,
   "id": "7e22f5b5-4c0f-48ec-b8cf-d6aa9b9ac493",
   "metadata": {},
   "outputs": [],
   "source": []
  },
  {
   "cell_type": "code",
   "execution_count": null,
   "id": "2a149eff-fa7c-4aa1-80bf-75b653170817",
   "metadata": {},
   "outputs": [],
   "source": []
  },
  {
   "cell_type": "code",
   "execution_count": null,
   "id": "9e191a5d-d49a-416e-a267-d2239fb8cb90",
   "metadata": {},
   "outputs": [],
   "source": []
  },
  {
   "cell_type": "code",
   "execution_count": null,
   "id": "068938ff-368d-4f64-8ee4-0a6a93b12752",
   "metadata": {},
   "outputs": [],
   "source": []
  },
  {
   "cell_type": "code",
   "execution_count": null,
   "id": "89bcb580-0b52-4d3c-b749-423257f52517",
   "metadata": {},
   "outputs": [],
   "source": []
  },
  {
   "cell_type": "code",
   "execution_count": null,
   "id": "31d9f120-f714-4b7f-9746-31b17727dd89",
   "metadata": {},
   "outputs": [],
   "source": []
  },
  {
   "cell_type": "code",
   "execution_count": null,
   "id": "45f02703-62c2-4461-9ccd-16f0c184c882",
   "metadata": {},
   "outputs": [],
   "source": []
  },
  {
   "cell_type": "code",
   "execution_count": null,
   "id": "d5006fa5-1490-494f-b70d-6ed5dfa81d3e",
   "metadata": {},
   "outputs": [],
   "source": []
  },
  {
   "cell_type": "code",
   "execution_count": null,
   "id": "21e2c79a-448b-4362-9e76-5f82d97ce080",
   "metadata": {},
   "outputs": [],
   "source": []
  },
  {
   "cell_type": "code",
   "execution_count": null,
   "id": "9395fce8-4953-44ac-9b31-cda7b89650dd",
   "metadata": {},
   "outputs": [],
   "source": []
  },
  {
   "cell_type": "code",
   "execution_count": null,
   "id": "948d8b05-db8c-4ff5-8eea-27fb2f99bf90",
   "metadata": {},
   "outputs": [],
   "source": []
  },
  {
   "cell_type": "code",
   "execution_count": null,
   "id": "a3c8bb20-dcea-4b4d-a283-f5abd0655cf4",
   "metadata": {},
   "outputs": [],
   "source": []
  },
  {
   "cell_type": "code",
   "execution_count": null,
   "id": "8f88f8d7-f0e0-4431-97af-c8b8852ea60b",
   "metadata": {},
   "outputs": [],
   "source": []
  }
 ],
 "metadata": {
  "kernelspec": {
   "display_name": "hist-obs",
   "language": "python",
   "name": "hist-obs"
  },
  "language_info": {
   "codemirror_mode": {
    "name": "ipython",
    "version": 3
   },
   "file_extension": ".py",
   "mimetype": "text/x-python",
   "name": "python",
   "nbconvert_exporter": "python",
   "pygments_lexer": "ipython3",
   "version": "3.9.18"
  }
 },
 "nbformat": 4,
 "nbformat_minor": 5
}
