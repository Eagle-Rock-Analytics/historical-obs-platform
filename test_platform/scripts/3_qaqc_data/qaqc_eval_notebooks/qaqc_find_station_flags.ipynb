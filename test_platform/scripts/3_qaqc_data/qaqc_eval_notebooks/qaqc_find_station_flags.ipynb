{
 "cells": [
  {
   "cell_type": "code",
   "execution_count": 19,
   "id": "24263655-e41b-4a21-89a4-c257218966b4",
   "metadata": {
    "execution": {
     "iopub.execute_input": "2024-10-08T17:48:40.598634Z",
     "iopub.status.busy": "2024-10-08T17:48:40.597905Z",
     "iopub.status.idle": "2024-10-08T17:48:40.610572Z",
     "shell.execute_reply": "2024-10-08T17:48:40.609081Z",
     "shell.execute_reply.started": "2024-10-08T17:48:40.598586Z"
    }
   },
   "outputs": [],
   "source": [
    "# import libraries\n",
    "import xarray as xr\n",
    "import numpy as np\n",
    "import pandas as pd\n",
    "import os\n",
    "import sys\n",
    "import tempfile\n",
    "\n",
    "import math\n",
    "\n",
    "from qaqc_eval_utils import *\n",
    "\n",
    "sys.path.append(os.path.expanduser('../'))\n",
    "# from qaqc_plot import flagged_timeseries_plot\n",
    "from QAQC_pipeline import qaqc_ds_to_df\n",
    "\n",
    "\n",
    "global local_tmp_dir, local_perm_dir\n",
    "local_tmp_dir = \"./tmp\"\n",
    "local_perm_dir = \"../Train_Files\"\n",
    "\n",
    "for dir in [local_tmp_dir, local_perm_dir]:\n",
    "    if not os.path.exists(dir):\n",
    "        os.mkdir(dir)"
   ]
  },
  {
   "cell_type": "code",
   "execution_count": 2,
   "id": "7a1424c7-621f-42db-9535-bbe60b66da4c",
   "metadata": {
    "execution": {
     "iopub.execute_input": "2024-10-08T15:54:24.320938Z",
     "iopub.status.busy": "2024-10-08T15:54:24.320603Z",
     "iopub.status.idle": "2024-10-08T15:54:24.345433Z",
     "shell.execute_reply": "2024-10-08T15:54:24.345062Z",
     "shell.execute_reply.started": "2024-10-08T15:54:24.320907Z"
    }
   },
   "outputs": [
    {
     "data": {
      "text/html": [
       "<div>\n",
       "<style scoped>\n",
       "    .dataframe tbody tr th:only-of-type {\n",
       "        vertical-align: middle;\n",
       "    }\n",
       "\n",
       "    .dataframe tbody tr th {\n",
       "        vertical-align: top;\n",
       "    }\n",
       "\n",
       "    .dataframe thead th {\n",
       "        text-align: right;\n",
       "    }\n",
       "</style>\n",
       "<table border=\"1\" class=\"dataframe\">\n",
       "  <thead>\n",
       "    <tr style=\"text-align: right;\">\n",
       "      <th></th>\n",
       "      <th>network</th>\n",
       "      <th>era-id</th>\n",
       "      <th>elevation</th>\n",
       "      <th>latitude</th>\n",
       "      <th>longitude</th>\n",
       "      <th>start_date</th>\n",
       "      <th>end_date</th>\n",
       "      <th>event_type</th>\n",
       "      <th>notes</th>\n",
       "    </tr>\n",
       "  </thead>\n",
       "  <tbody>\n",
       "    <tr>\n",
       "      <th>0</th>\n",
       "      <td>ASOSAWOS</td>\n",
       "      <td>ASOSAWOS_72281023199</td>\n",
       "      <td>-14.0208</td>\n",
       "      <td>32.832</td>\n",
       "      <td>-115.664</td>\n",
       "      <td>1984-04-13 00:00:00+00:00</td>\n",
       "      <td>2022-12-31 00:00:00+00:00</td>\n",
       "      <td>all</td>\n",
       "      <td>NaN</td>\n",
       "    </tr>\n",
       "    <tr>\n",
       "      <th>1</th>\n",
       "      <td>ASOSAWOS</td>\n",
       "      <td>ASOSAWOS_72288023152</td>\n",
       "      <td>222.8088</td>\n",
       "      <td>34.200</td>\n",
       "      <td>-118.365</td>\n",
       "      <td>1943-06-01 00:00:00+00:00</td>\n",
       "      <td>2022-12-31 00:00:00+00:00</td>\n",
       "      <td>all</td>\n",
       "      <td>NaN</td>\n",
       "    </tr>\n",
       "    <tr>\n",
       "      <th>2</th>\n",
       "      <td>ASOSAWOS</td>\n",
       "      <td>ASOSAWOS_72288623130</td>\n",
       "      <td>239.2680</td>\n",
       "      <td>34.212</td>\n",
       "      <td>-118.491</td>\n",
       "      <td>1942-12-11 00:00:00+00:00</td>\n",
       "      <td>2022-12-31 00:00:00+00:00</td>\n",
       "      <td>all</td>\n",
       "      <td>NaN</td>\n",
       "    </tr>\n",
       "    <tr>\n",
       "      <th>3</th>\n",
       "      <td>ASOSAWOS</td>\n",
       "      <td>ASOSAWOS_72290023188</td>\n",
       "      <td>4.5720</td>\n",
       "      <td>32.734</td>\n",
       "      <td>-117.183</td>\n",
       "      <td>1942-01-01 00:00:00+00:00</td>\n",
       "      <td>2022-12-31 00:00:00+00:00</td>\n",
       "      <td>all</td>\n",
       "      <td>NaN</td>\n",
       "    </tr>\n",
       "    <tr>\n",
       "      <th>4</th>\n",
       "      <td>ASOSAWOS</td>\n",
       "      <td>ASOSAWOS_72290693112</td>\n",
       "      <td>4.2672</td>\n",
       "      <td>32.692</td>\n",
       "      <td>-117.210</td>\n",
       "      <td>1945-04-01 00:00:00+00:00</td>\n",
       "      <td>2022-12-31 00:00:00+00:00</td>\n",
       "      <td>all</td>\n",
       "      <td>NaN</td>\n",
       "    </tr>\n",
       "  </tbody>\n",
       "</table>\n",
       "</div>"
      ],
      "text/plain": [
       "    network                era-id  elevation  latitude  longitude  \\\n",
       "0  ASOSAWOS  ASOSAWOS_72281023199   -14.0208    32.832   -115.664   \n",
       "1  ASOSAWOS  ASOSAWOS_72288023152   222.8088    34.200   -118.365   \n",
       "2  ASOSAWOS  ASOSAWOS_72288623130   239.2680    34.212   -118.491   \n",
       "3  ASOSAWOS  ASOSAWOS_72290023188     4.5720    32.734   -117.183   \n",
       "4  ASOSAWOS  ASOSAWOS_72290693112     4.2672    32.692   -117.210   \n",
       "\n",
       "                  start_date                   end_date event_type notes  \n",
       "0  1984-04-13 00:00:00+00:00  2022-12-31 00:00:00+00:00        all   NaN  \n",
       "1  1943-06-01 00:00:00+00:00  2022-12-31 00:00:00+00:00        all   NaN  \n",
       "2  1942-12-11 00:00:00+00:00  2022-12-31 00:00:00+00:00        all   NaN  \n",
       "3  1942-01-01 00:00:00+00:00  2022-12-31 00:00:00+00:00        all   NaN  \n",
       "4  1945-04-01 00:00:00+00:00  2022-12-31 00:00:00+00:00        all   NaN  "
      ]
     },
     "execution_count": 2,
     "metadata": {},
     "output_type": "execute_result"
    }
   ],
   "source": [
    "# read in stations\n",
    "train_stns = pd.read_csv('../qaqc_training_station_list_events.csv')\n",
    "train_stns.head()"
   ]
  },
  {
   "cell_type": "code",
   "execution_count": 15,
   "id": "d68b8bf2-88dc-49da-b422-8514f813d114",
   "metadata": {
    "execution": {
     "iopub.execute_input": "2024-10-08T17:48:17.909323Z",
     "iopub.status.busy": "2024-10-08T17:48:17.908494Z",
     "iopub.status.idle": "2024-10-08T17:48:17.923448Z",
     "shell.execute_reply": "2024-10-08T17:48:17.921359Z",
     "shell.execute_reply.started": "2024-10-08T17:48:17.909277Z"
    }
   },
   "outputs": [],
   "source": [
    "def download_nc_from_aws(station, save=False):\n",
    "\n",
    "    # Temp file for downloading from s3\n",
    "    tmpFileName = tempfile.NamedTemporaryFile(dir = local_tmp_dir, \n",
    "                                              prefix = \"\", \n",
    "                                              suffix = \".nc\",\n",
    "                                              delete = True)\n",
    "\n",
    "    # Local file name to read/write from\n",
    "    localFileName = f\"{local_perm_dir}/{station}.nc\"\n",
    "\n",
    "    # s3 details\n",
    "    print('Retrieving data for station...')\n",
    "    s3 = s3fs.S3FileSystem(anon=False)\n",
    "    network = station.split('_')[0]\n",
    "    s3_url = 's3://wecc-historical-wx/3_qaqc_wx_dev/{}/{}.nc'.format(network, station)\n",
    "\n",
    "    # Read file\n",
    "    # If file is already downloaded locally, read it\n",
    "    if os.path.exists(localFileName):\n",
    "        ds = xr.open_dataset(localFileName, engine='h5netcdf').load()\n",
    "    # If not, download from s3 bucket\n",
    "    else:\n",
    "#        try:\n",
    "            s3_file_obj = s3.get(s3_url, tmpFileName.name)\n",
    "            ds = xr.open_dataset(tmpFileName.name, engine='h5netcdf').load()\n",
    "\n",
    "#        except:\n",
    "#            raise ValueError(f'Station {station} not found in bucket -- please check if station completed QA/QC.')\n",
    "\n",
    "    # If we want to save file to disk, copy the temp file to the storage training folder\n",
    "    if save and not os.path.exists(localFileName):\n",
    "        os.system(f\"cp {tmpFileName.name} {localFileName}\")    \n",
    "\n",
    "    # Download temp file to avoid disk filling\n",
    "    # os.system(f\"rm {tmpFileName.name}\")\n",
    "    tmpFileName.close()\n",
    "    \n",
    "    return ds\n",
    "\n",
    "# pulling from PR 151 until it gets merged"
   ]
  },
  {
   "cell_type": "code",
   "execution_count": 35,
   "id": "27d36eb8-6917-4a23-b33d-fbf19b038fd8",
   "metadata": {
    "execution": {
     "iopub.execute_input": "2024-10-08T18:04:30.771544Z",
     "iopub.status.busy": "2024-10-08T18:04:30.770754Z",
     "iopub.status.idle": "2024-10-08T18:04:30.785196Z",
     "shell.execute_reply": "2024-10-08T18:04:30.784304Z",
     "shell.execute_reply.started": "2024-10-08T18:04:30.771503Z"
    }
   },
   "outputs": [],
   "source": [
    "def _all_nan(l):\n",
    "    return all(math.isnan(x) for x in l)\n",
    "\n",
    "def flagged_station_search(stn_list, event_start_date, event_end_date, flag_info=False, save_all_stns=False):\n",
    "    '''\n",
    "    Helper function that finds flagged stations during an event of interest. \n",
    "    Designed to only be run sporadically, as it will take some time to run through 1000+ stations.\n",
    "\n",
    "    Similar to the station list search functions. \n",
    "    '''\n",
    "\n",
    "    active_flag_stns = []\n",
    "    \n",
    "    # warning about downloading all of these files\n",
    "    if save_all_stns:\n",
    "        print('Warning: All stations will be downloaded to local memory. Depending on size of station list, this may be 1000+ stations and GB-TB of memory!')\n",
    "\n",
    "    # read file from AWS\n",
    "    for stn_id in stn_list['era-id']:\n",
    "        print(f'Checking flags in {stn_id}...')\n",
    "        ds_to_check = download_nc_from_aws(stn_id, save=save_all_stns)\n",
    "\n",
    "        # subset by event dates with buffer\n",
    "        ds_to_check_sub = ds_to_check.sel(time=slice(event_start_date, event_end_date))\n",
    "\n",
    "        # if no date coverage\n",
    "        if len(ds_to_check_sub) == 0:\n",
    "            continue\n",
    "\n",
    "        # check if flags are placed, search through any _eraqc var\n",
    "        vars_to_check = [i for i in ds_to_check_sub.data_vars if '_eraqc' in i]\n",
    "        flag_list = []\n",
    "\n",
    "        for v in vars_to_check:\n",
    "            for item in np.unique(ds_to_check_sub[v]):\n",
    "                flag_list.append(item)\n",
    "\n",
    "        print(_all_nan(flag_list))\n",
    "        # has_numeric = all(isinstance(item, (np.nan)) for item in flag_list) # list of all values in _eraqc vars, including flags and nan\n",
    "        # print(has_numeric)\n",
    "        if _all_nan(flag_list): # flag is not present\n",
    "            continue\n",
    "\n",
    "        else: # flag is present\n",
    "            active_flag_stns.append(stn_id)\n",
    "            if flag_info:\n",
    "                print(f'{stn_id} has flags placed during event ({event_start_date}-{event_end_date}): {flag_list}')\n",
    "                    \n",
    "    return active_flag_stns"
   ]
  },
  {
   "cell_type": "code",
   "execution_count": 27,
   "id": "25615576-f734-4466-b406-c76d594823ab",
   "metadata": {
    "execution": {
     "iopub.execute_input": "2024-10-08T17:58:14.681989Z",
     "iopub.status.busy": "2024-10-08T17:58:14.681235Z",
     "iopub.status.idle": "2024-10-08T17:58:14.702846Z",
     "shell.execute_reply": "2024-10-08T17:58:14.701957Z",
     "shell.execute_reply.started": "2024-10-08T17:58:14.681945Z"
    }
   },
   "outputs": [
    {
     "data": {
      "text/html": [
       "<div>\n",
       "<style scoped>\n",
       "    .dataframe tbody tr th:only-of-type {\n",
       "        vertical-align: middle;\n",
       "    }\n",
       "\n",
       "    .dataframe tbody tr th {\n",
       "        vertical-align: top;\n",
       "    }\n",
       "\n",
       "    .dataframe thead th {\n",
       "        text-align: right;\n",
       "    }\n",
       "</style>\n",
       "<table border=\"1\" class=\"dataframe\">\n",
       "  <thead>\n",
       "    <tr style=\"text-align: right;\">\n",
       "      <th></th>\n",
       "      <th>network</th>\n",
       "      <th>era-id</th>\n",
       "      <th>elevation</th>\n",
       "      <th>latitude</th>\n",
       "      <th>longitude</th>\n",
       "      <th>start_date</th>\n",
       "      <th>end_date</th>\n",
       "      <th>event_type</th>\n",
       "      <th>notes</th>\n",
       "    </tr>\n",
       "  </thead>\n",
       "  <tbody>\n",
       "    <tr>\n",
       "      <th>0</th>\n",
       "      <td>ASOSAWOS</td>\n",
       "      <td>ASOSAWOS_72281023199</td>\n",
       "      <td>-14.0208</td>\n",
       "      <td>32.832</td>\n",
       "      <td>-115.664</td>\n",
       "      <td>1984-04-13 00:00:00+00:00</td>\n",
       "      <td>2022-12-31 00:00:00+00:00</td>\n",
       "      <td>all</td>\n",
       "      <td>NaN</td>\n",
       "    </tr>\n",
       "    <tr>\n",
       "      <th>1</th>\n",
       "      <td>ASOSAWOS</td>\n",
       "      <td>ASOSAWOS_72288023152</td>\n",
       "      <td>222.8088</td>\n",
       "      <td>34.200</td>\n",
       "      <td>-118.365</td>\n",
       "      <td>1943-06-01 00:00:00+00:00</td>\n",
       "      <td>2022-12-31 00:00:00+00:00</td>\n",
       "      <td>all</td>\n",
       "      <td>NaN</td>\n",
       "    </tr>\n",
       "    <tr>\n",
       "      <th>2</th>\n",
       "      <td>ASOSAWOS</td>\n",
       "      <td>ASOSAWOS_72288623130</td>\n",
       "      <td>239.2680</td>\n",
       "      <td>34.212</td>\n",
       "      <td>-118.491</td>\n",
       "      <td>1942-12-11 00:00:00+00:00</td>\n",
       "      <td>2022-12-31 00:00:00+00:00</td>\n",
       "      <td>all</td>\n",
       "      <td>NaN</td>\n",
       "    </tr>\n",
       "    <tr>\n",
       "      <th>3</th>\n",
       "      <td>ASOSAWOS</td>\n",
       "      <td>ASOSAWOS_72290023188</td>\n",
       "      <td>4.5720</td>\n",
       "      <td>32.734</td>\n",
       "      <td>-117.183</td>\n",
       "      <td>1942-01-01 00:00:00+00:00</td>\n",
       "      <td>2022-12-31 00:00:00+00:00</td>\n",
       "      <td>all</td>\n",
       "      <td>NaN</td>\n",
       "    </tr>\n",
       "    <tr>\n",
       "      <th>4</th>\n",
       "      <td>ASOSAWOS</td>\n",
       "      <td>ASOSAWOS_72290693112</td>\n",
       "      <td>4.2672</td>\n",
       "      <td>32.692</td>\n",
       "      <td>-117.210</td>\n",
       "      <td>1945-04-01 00:00:00+00:00</td>\n",
       "      <td>2022-12-31 00:00:00+00:00</td>\n",
       "      <td>all</td>\n",
       "      <td>NaN</td>\n",
       "    </tr>\n",
       "  </tbody>\n",
       "</table>\n",
       "</div>"
      ],
      "text/plain": [
       "    network                era-id  elevation  latitude  longitude  \\\n",
       "0  ASOSAWOS  ASOSAWOS_72281023199   -14.0208    32.832   -115.664   \n",
       "1  ASOSAWOS  ASOSAWOS_72288023152   222.8088    34.200   -118.365   \n",
       "2  ASOSAWOS  ASOSAWOS_72288623130   239.2680    34.212   -118.491   \n",
       "3  ASOSAWOS  ASOSAWOS_72290023188     4.5720    32.734   -117.183   \n",
       "4  ASOSAWOS  ASOSAWOS_72290693112     4.2672    32.692   -117.210   \n",
       "\n",
       "                  start_date                   end_date event_type notes  \n",
       "0  1984-04-13 00:00:00+00:00  2022-12-31 00:00:00+00:00        all   NaN  \n",
       "1  1943-06-01 00:00:00+00:00  2022-12-31 00:00:00+00:00        all   NaN  \n",
       "2  1942-12-11 00:00:00+00:00  2022-12-31 00:00:00+00:00        all   NaN  \n",
       "3  1942-01-01 00:00:00+00:00  2022-12-31 00:00:00+00:00        all   NaN  \n",
       "4  1945-04-01 00:00:00+00:00  2022-12-31 00:00:00+00:00        all   NaN  "
      ]
     },
     "execution_count": 27,
     "metadata": {},
     "output_type": "execute_result"
    }
   ],
   "source": [
    "test_train = train_stns[:5]\n",
    "test_train"
   ]
  },
  {
   "cell_type": "code",
   "execution_count": 36,
   "id": "41bc17f3-d906-4d86-8c91-b74ac60556a1",
   "metadata": {
    "execution": {
     "iopub.execute_input": "2024-10-08T18:04:32.110305Z",
     "iopub.status.busy": "2024-10-08T18:04:32.109597Z",
     "iopub.status.idle": "2024-10-08T18:06:27.953467Z",
     "shell.execute_reply": "2024-10-08T18:06:27.953104Z",
     "shell.execute_reply.started": "2024-10-08T18:04:32.110266Z"
    }
   },
   "outputs": [
    {
     "name": "stdout",
     "output_type": "stream",
     "text": [
      "Checking flags in ASOSAWOS_72281023199...\n",
      "Retrieving data for station...\n"
     ]
    },
    {
     "name": "stderr",
     "output_type": "stream",
     "text": [
      "/Users/victoriaford/anaconda3/envs/hist-obs/lib/python3.9/site-packages/pandas/core/arrays/timedeltas.py:908: RuntimeWarning: invalid value encountered in cast\n",
      "  base = data.astype(np.int64)\n",
      "/Users/victoriaford/anaconda3/envs/hist-obs/lib/python3.9/site-packages/pandas/core/arrays/timedeltas.py:912: RuntimeWarning: invalid value encountered in cast\n",
      "  data = (base * m + (frac * m).astype(np.int64)).view(\"timedelta64[ns]\")\n"
     ]
    },
    {
     "name": "stdout",
     "output_type": "stream",
     "text": [
      "True\n",
      "ASOSAWOS_72281023199 has flags placed during event (2007-10-20-2007-10-24): [nan, nan, nan, nan, nan, nan, nan, nan, nan]\n",
      "Checking flags in ASOSAWOS_72288023152...\n",
      "Retrieving data for station...\n"
     ]
    },
    {
     "name": "stderr",
     "output_type": "stream",
     "text": [
      "/Users/victoriaford/anaconda3/envs/hist-obs/lib/python3.9/site-packages/pandas/core/arrays/timedeltas.py:908: RuntimeWarning: invalid value encountered in cast\n",
      "  base = data.astype(np.int64)\n",
      "/Users/victoriaford/anaconda3/envs/hist-obs/lib/python3.9/site-packages/pandas/core/arrays/timedeltas.py:912: RuntimeWarning: invalid value encountered in cast\n",
      "  data = (base * m + (frac * m).astype(np.int64)).view(\"timedelta64[ns]\")\n"
     ]
    },
    {
     "name": "stdout",
     "output_type": "stream",
     "text": [
      "False\n",
      "Checking flags in ASOSAWOS_72288623130...\n",
      "Retrieving data for station...\n"
     ]
    },
    {
     "name": "stderr",
     "output_type": "stream",
     "text": [
      "/Users/victoriaford/anaconda3/envs/hist-obs/lib/python3.9/site-packages/pandas/core/arrays/timedeltas.py:908: RuntimeWarning: invalid value encountered in cast\n",
      "  base = data.astype(np.int64)\n",
      "/Users/victoriaford/anaconda3/envs/hist-obs/lib/python3.9/site-packages/pandas/core/arrays/timedeltas.py:912: RuntimeWarning: invalid value encountered in cast\n",
      "  data = (base * m + (frac * m).astype(np.int64)).view(\"timedelta64[ns]\")\n"
     ]
    },
    {
     "name": "stdout",
     "output_type": "stream",
     "text": [
      "False\n",
      "Checking flags in ASOSAWOS_72290023188...\n",
      "Retrieving data for station...\n"
     ]
    },
    {
     "name": "stderr",
     "output_type": "stream",
     "text": [
      "/Users/victoriaford/anaconda3/envs/hist-obs/lib/python3.9/site-packages/pandas/core/arrays/timedeltas.py:908: RuntimeWarning: invalid value encountered in cast\n",
      "  base = data.astype(np.int64)\n",
      "/Users/victoriaford/anaconda3/envs/hist-obs/lib/python3.9/site-packages/pandas/core/arrays/timedeltas.py:912: RuntimeWarning: invalid value encountered in cast\n",
      "  data = (base * m + (frac * m).astype(np.int64)).view(\"timedelta64[ns]\")\n"
     ]
    },
    {
     "name": "stdout",
     "output_type": "stream",
     "text": [
      "False\n",
      "Checking flags in ASOSAWOS_72290693112...\n",
      "Retrieving data for station...\n"
     ]
    },
    {
     "name": "stderr",
     "output_type": "stream",
     "text": [
      "/Users/victoriaford/anaconda3/envs/hist-obs/lib/python3.9/site-packages/pandas/core/arrays/timedeltas.py:908: RuntimeWarning: invalid value encountered in cast\n",
      "  base = data.astype(np.int64)\n",
      "/Users/victoriaford/anaconda3/envs/hist-obs/lib/python3.9/site-packages/pandas/core/arrays/timedeltas.py:912: RuntimeWarning: invalid value encountered in cast\n",
      "  data = (base * m + (frac * m).astype(np.int64)).view(\"timedelta64[ns]\")\n"
     ]
    },
    {
     "name": "stdout",
     "output_type": "stream",
     "text": [
      "False\n"
     ]
    },
    {
     "data": {
      "text/plain": [
       "['ASOSAWOS_72281023199']"
      ]
     },
     "execution_count": 36,
     "metadata": {},
     "output_type": "execute_result"
    }
   ],
   "source": [
    "event_start_date = \"2007-10-20\"\n",
    "event_end_date = \"2007-10-24\"\n",
    "\n",
    "flagged_station_search(test_train, event_start_date, event_end_date, flag_info=True)"
   ]
  },
  {
   "cell_type": "code",
   "execution_count": null,
   "id": "4df1c11d-4fd8-43a9-8248-6ba7ba09554c",
   "metadata": {},
   "outputs": [],
   "source": []
  }
 ],
 "metadata": {
  "kernelspec": {
   "display_name": "Python 3 (ipykernel)",
   "language": "python",
   "name": "python3"
  },
  "language_info": {
   "codemirror_mode": {
    "name": "ipython",
    "version": 3
   },
   "file_extension": ".py",
   "mimetype": "text/x-python",
   "name": "python",
   "nbconvert_exporter": "python",
   "pygments_lexer": "ipython3",
   "version": "3.9.18"
  }
 },
 "nbformat": 4,
 "nbformat_minor": 5
}
