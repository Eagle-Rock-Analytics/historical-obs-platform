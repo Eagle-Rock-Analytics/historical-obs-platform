{
 "cells": [
  {
   "cell_type": "markdown",
   "id": "9bd9e7a6-7db2-4967-ac67-86957406566a",
   "metadata": {},
   "source": [
    "# Unusual Repeated Streak (QAQC) testing"
   ]
  },
  {
   "cell_type": "code",
   "execution_count": 2,
   "id": "c2e75dec-63ca-4f0e-8be3-3a21a6e247b8",
   "metadata": {
    "execution": {
     "iopub.execute_input": "2024-01-08T17:06:01.696307Z",
     "iopub.status.busy": "2024-01-08T17:06:01.696143Z",
     "iopub.status.idle": "2024-01-08T17:06:01.726369Z",
     "shell.execute_reply": "2024-01-08T17:06:01.726031Z",
     "shell.execute_reply.started": "2024-01-08T17:06:01.696295Z"
    },
    "tags": []
   },
   "outputs": [],
   "source": [
    "# Import libraries\n",
    "import pandas as pd\n",
    "import numpy as np\n",
    "import xarray as xr\n",
    "import matplotlib.pyplot as plt\n",
    "import matplotlib as mpl\n",
    "import glob\n",
    "\n",
    "%matplotlib inline\n",
    "%load_ext autoreload\n",
    "%autoreload 2"
   ]
  },
  {
   "cell_type": "code",
   "execution_count": 3,
   "id": "e301acfc-d23e-4b65-ae66-8656d7580768",
   "metadata": {
    "execution": {
     "iopub.execute_input": "2024-01-08T17:06:01.876296Z",
     "iopub.status.busy": "2024-01-08T17:06:01.876020Z",
     "iopub.status.idle": "2024-01-08T17:06:01.894746Z",
     "shell.execute_reply": "2024-01-08T17:06:01.894393Z",
     "shell.execute_reply.started": "2024-01-08T17:06:01.876286Z"
    },
    "tags": []
   },
   "outputs": [],
   "source": [
    "import os\n",
    "import tempfile\n",
    "import argparse \n",
    "\n",
    "# Import all qaqc script functions\n",
    "try:\n",
    "    from qaqc_plot import *\n",
    "    from qaqc_utils import *\n",
    "    from qaqc_wholestation import *\n",
    "    from qaqc_logic_checks import *\n",
    "    from qaqc_buoy_check import *\n",
    "    from qaqc_frequent import *\n",
    "    from qaqc_unusual_gaps import *\n",
    "    from qaqc_unusual_large_jumps import *\n",
    "    from qaqc_climatological_outlier import *\n",
    "    from qaqc_unusual_streaks import *\n",
    "except Exception as e:\n",
    "    print(\"Error importing qaqc script: {}\".format(e))\n",
    "\n",
    "# Import qaqc stage calc functions\n",
    "try:\n",
    "    from QAQC_pipeline import *\n",
    "except:\n",
    "    print(\"Error importing QAQC_pipeline.py\")"
   ]
  },
  {
   "cell_type": "code",
   "execution_count": 42,
   "id": "de6bcd26-99ea-4c0c-ab99-c3e77346dd2f",
   "metadata": {
    "execution": {
     "iopub.execute_input": "2024-01-09T01:26:47.024517Z",
     "iopub.status.busy": "2024-01-09T01:26:47.023761Z",
     "iopub.status.idle": "2024-01-09T01:26:47.074048Z",
     "shell.execute_reply": "2024-01-09T01:26:47.073564Z",
     "shell.execute_reply.started": "2024-01-09T01:26:47.024466Z"
    },
    "tags": []
   },
   "outputs": [],
   "source": [
    "def qaqc_ds_to_df(ds, verbose=True):\n",
    "    ## Add qc_flag variable for all variables, including elevation; \n",
    "    ## defaulting to nan for fill value that will be replaced with qc flag\n",
    "    exclude_qaqc = [\"time\", \"station\", \"lat\", \"lon\", \n",
    "                    \"qaqc_process\", \"sfcWind_method\"] # lat, lon have different qc check\n",
    "\n",
    "    raw_qc_vars = [] # qc_variable for each data variable, will vary station to station\n",
    "    era_qc_vars = [] # our qc variable\n",
    "    for var in ds.data_vars:\n",
    "        if 'q_code' in var:\n",
    "            raw_qc_vars.append(var) # raw qc variable, need to keep for comparison, then drop\n",
    "        if '_qc' in var:\n",
    "            raw_qc_vars.append(var) # raw qc variables, need to keep for comparison, then drop\n",
    "\n",
    "    for var in ds.data_vars:\n",
    "        if var not in exclude_qaqc and var not in raw_qc_vars:\n",
    "            qc_var = var + \"_eraqc\" # variable/column label\n",
    "            era_qc_vars.append(qc_var)\n",
    "            # adds new variable in shape of original variable with designated nan fill value\n",
    "            ds = ds.assign({qc_var: xr.ones_like(ds[var])*np.nan})\n",
    "\n",
    "    # Save attributes to inheret them to the QAQC'ed file\n",
    "    attrs = ds.attrs\n",
    "    var_attrs = {var:ds[var].attrs for var in list(ds.data_vars.keys())}\n",
    "\n",
    "    df = ds.to_dataframe()\n",
    "    df['anemometer_height_m'] = np.ones(ds['time'].shape)*ds.anemometer_height_m.squeeze()\n",
    "    df['thermometer_height_m'] = np.ones(ds['time'].shape)*ds.thermometer_height_m.squeeze()\n",
    "\n",
    "    # De-duplicate time axis\n",
    "    df = df[~df.index.duplicated()].sort_index()\n",
    "                          \n",
    "    # Save station/time multiindex\n",
    "    MultiIndex = df.index\n",
    "    station = df.index.get_level_values(0)\n",
    "    df['station'] = station\n",
    "    \n",
    "    # Station pd.Series to str\n",
    "    station = station.unique().values[0]\n",
    "    \n",
    "    # Convert time/station index to columns and reset index\n",
    "    df = df.droplevel(0).reset_index()\n",
    "\n",
    "    ##########################################################\n",
    "    ## QAQC Functions\n",
    "    # Order of operations\n",
    "    # Part 1a: Whole station checks - if failure, entire station does not proceed through QA/QC\n",
    "    # Part 1b: Whole station checks - if failure, entire station does proceed through QA/QC\n",
    "    # Part 2: Logic checks\n",
    "    # Part 3: Distribution & time series checks\n",
    "\n",
    "    #=========================================================\n",
    "    ## Part 1a: Whole station checks - if failure, entire station does not proceed through QA/QC\n",
    "\n",
    "    #---------------------------------------------------------\n",
    "    ## Missing values -- does not proceed through qaqc if failure\n",
    "    stn_to_qaqc = df.copy()  # Need to define before qaqc_pipeline, in case \n",
    "    new_df = qaqc_missing_vals(stn_to_qaqc, verbose=verbose)\n",
    "    if new_df is None:\n",
    "        errors = print_qaqc_failed(errors, station, end_api,\n",
    "        message=\"has an unchecked missing value\",\n",
    "        test=\"qaqc_missing_vals\",\n",
    "        verbose=verbose\n",
    "        )\n",
    "    else:\n",
    "        stn_to_qaqc = new_df\n",
    "        if verbose:\n",
    "            print('pass qaqc_missing_vals') # testing\n",
    "    return stn_to_qaqc"
   ]
  },
  {
   "cell_type": "code",
   "execution_count": 43,
   "id": "7957e1c6-26c7-4cec-b609-df3a2812cc27",
   "metadata": {
    "execution": {
     "iopub.execute_input": "2024-01-09T01:26:47.419138Z",
     "iopub.status.busy": "2024-01-09T01:26:47.418554Z",
     "iopub.status.idle": "2024-01-09T01:26:47.469433Z",
     "shell.execute_reply": "2024-01-09T01:26:47.468560Z",
     "shell.execute_reply.started": "2024-01-09T01:26:47.419108Z"
    },
    "tags": []
   },
   "outputs": [],
   "source": [
    "network = \"VCAPCD\"\n",
    "\n",
    "rawdir, cleandir, qaqcdir, mergedir = get_file_paths(network)\n",
    "# whole_station_qaqc(network, cleandir, qaqcdir, rad_scheme=\"remove_zeros\", verbose=True, local=True)"
   ]
  },
  {
   "cell_type": "code",
   "execution_count": 57,
   "id": "4a5a37b6-8ae1-4733-b05d-30ce1a039673",
   "metadata": {
    "execution": {
     "iopub.execute_input": "2024-01-09T02:08:58.761117Z",
     "iopub.status.busy": "2024-01-09T02:08:58.760465Z",
     "iopub.status.idle": "2024-01-09T02:09:00.094459Z",
     "shell.execute_reply": "2024-01-09T02:09:00.094078Z",
     "shell.execute_reply.started": "2024-01-09T02:08:58.761080Z"
    },
    "tags": []
   },
   "outputs": [
    {
     "name": "stdout",
     "output_type": "stream",
     "text": [
      "Updating missing values for: ps\n",
      "Updating missing values for: tas\n",
      "Updating missing values for: pr\n",
      "Updating missing values for: hurs\n",
      "Updating missing values for: sfcWind\n",
      "Updating missing values for: sfcWind_dir\n",
      "Updating missing values for: tdps_derived\n",
      "pass qaqc_missing_vals\n"
     ]
    }
   ],
   "source": [
    "ds = xr.open_dataset('Train_Files/LOXWFO_OX1MB.nc')#.isel(station=0)\n",
    "df = qaqc_ds_to_df(ds)\n",
    "# df"
   ]
  },
  {
   "cell_type": "code",
   "execution_count": 70,
   "id": "261bc8e5-a8b2-461a-af1c-13cccbdba5a6",
   "metadata": {
    "execution": {
     "iopub.execute_input": "2024-01-09T02:18:02.985278Z",
     "iopub.status.busy": "2024-01-09T02:18:02.984998Z",
     "iopub.status.idle": "2024-01-09T02:20:26.604582Z",
     "shell.execute_reply": "2024-01-09T02:20:26.603346Z",
     "shell.execute_reply.started": "2024-01-09T02:18:02.985259Z"
    },
    "tags": []
   },
   "outputs": [
    {
     "name": "stdout",
     "output_type": "stream",
     "text": [
      "tas\n",
      "tdps_derived\n",
      "ps\n",
      "sfcWind\n",
      "Running qaqc_unusual_repeated_streaks on ['tas', 'tdps_derived', 'ps', 'sfcWind']\n"
     ]
    },
    {
     "name": "stderr",
     "output_type": "stream",
     "text": [
      "/Users/hector/ERA_work/historical-obs-platform/test_platform/scripts/3_qaqc_data/qaqc_plot.py:629: UserWarning: Attempting to set identical low and high ylims makes transformation singular; automatically expanding.\n",
      "  ax.set_ylim(miny,maxy)\n"
     ]
    }
   ],
   "source": [
    "new_df = qaqc_unusual_repeated_streaks(df)"
   ]
  },
  {
   "cell_type": "code",
   "execution_count": 69,
   "id": "b479081d-9732-4390-826c-3a80b57bf70d",
   "metadata": {
    "execution": {
     "iopub.execute_input": "2024-01-09T02:17:56.034688Z",
     "iopub.status.busy": "2024-01-09T02:17:56.034344Z",
     "iopub.status.idle": "2024-01-09T02:17:56.214227Z",
     "shell.execute_reply": "2024-01-09T02:17:56.213545Z",
     "shell.execute_reply.started": "2024-01-09T02:17:56.034671Z"
    },
    "tags": []
   },
   "outputs": [
    {
     "name": "stdout",
     "output_type": "stream",
     "text": [
      "ps\n"
     ]
    },
    {
     "data": {
      "text/plain": [
       "0.5"
      ]
     },
     "execution_count": 69,
     "metadata": {},
     "output_type": "execute_result"
    }
   ],
   "source": [
    "infere_res_var(df, var=\"ps\")"
   ]
  },
  {
   "cell_type": "code",
   "execution_count": null,
   "id": "2d901d4f-71ce-4a52-9ebf-53c29c574fda",
   "metadata": {},
   "outputs": [],
   "source": []
  },
  {
   "cell_type": "code",
   "execution_count": null,
   "id": "89a58ecf-c1b5-4b2e-9d2b-7c8a0e42ca21",
   "metadata": {},
   "outputs": [],
   "source": []
  }
 ],
 "metadata": {
  "kernelspec": {
   "display_name": "era_py39",
   "language": "python",
   "name": "era_py39"
  },
  "language_info": {
   "codemirror_mode": {
    "name": "ipython",
    "version": 3
   },
   "file_extension": ".py",
   "mimetype": "text/x-python",
   "name": "python",
   "nbconvert_exporter": "python",
   "pygments_lexer": "ipython3",
   "version": "3.9.16"
  },
  "varInspector": {
   "cols": {
    "lenName": 16,
    "lenType": 16,
    "lenVar": 40
   },
   "kernels_config": {
    "python": {
     "delete_cmd_postfix": "",
     "delete_cmd_prefix": "del ",
     "library": "var_list.py",
     "varRefreshCmd": "print(var_dic_list())"
    },
    "r": {
     "delete_cmd_postfix": ") ",
     "delete_cmd_prefix": "rm(",
     "library": "var_list.r",
     "varRefreshCmd": "cat(var_dic_list()) "
    }
   },
   "types_to_exclude": [
    "module",
    "function",
    "builtin_function_or_method",
    "instance",
    "_Feature"
   ],
   "window_display": false
  }
 },
 "nbformat": 4,
 "nbformat_minor": 5
}
