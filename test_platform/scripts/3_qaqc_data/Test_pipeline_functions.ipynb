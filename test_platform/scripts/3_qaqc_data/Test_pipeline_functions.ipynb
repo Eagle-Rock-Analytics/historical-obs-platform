{
 "cells": [
  {
   "cell_type": "markdown",
   "id": "9bd9e7a6-7db2-4967-ac67-86957406566a",
   "metadata": {},
   "source": [
    "# QAQC order and single function testing"
   ]
  },
  {
   "cell_type": "markdown",
   "id": "cdb5c19d-f3e0-436f-8eb9-a54d67f8da3f",
   "metadata": {},
   "source": [
    "## Import libraries"
   ]
  },
  {
   "cell_type": "code",
   "execution_count": null,
   "id": "c2e75dec-63ca-4f0e-8be3-3a21a6e247b8",
   "metadata": {
    "tags": []
   },
   "outputs": [],
   "source": [
    "# Import libraries\n",
    "import pandas as pd\n",
    "import numpy as np\n",
    "import xarray as xr\n",
    "import matplotlib.pyplot as plt\n",
    "import matplotlib as mpl\n",
    "import glob\n",
    "\n",
    "%matplotlib inline\n",
    "%load_ext autoreload\n",
    "%autoreload 2"
   ]
  },
  {
   "cell_type": "markdown",
   "id": "9535c11b-daac-4c81-85db-f56ce2521f98",
   "metadata": {},
   "source": [
    "## Import QAQC libraries"
   ]
  },
  {
   "cell_type": "code",
   "execution_count": null,
   "id": "e301acfc-d23e-4b65-ae66-8656d7580768",
   "metadata": {
    "tags": []
   },
   "outputs": [],
   "source": [
    "import os\n",
    "import tempfile\n",
    "import argparse \n",
    "\n",
    "# Import all qaqc script functions\n",
    "try:\n",
    "    from qaqc_plot import *\n",
    "    from qaqc_utils import *\n",
    "    from qaqc_wholestation import *\n",
    "    from qaqc_logic_checks import *\n",
    "    from qaqc_buoy_check import *\n",
    "    from qaqc_frequent import *\n",
    "    from qaqc_unusual_gaps import *\n",
    "    from qaqc_unusual_large_jumps import *\n",
    "    from qaqc_climatological_outlier import *\n",
    "    from qaqc_unusual_streaks import *\n",
    "except Exception as e:\n",
    "    print(\"Error importing qaqc script: {}\".format(e))\n",
    "\n",
    "# Import qaqc stage calc functions\n",
    "try:\n",
    "    from QAQC_pipeline import *\n",
    "except:\n",
    "    print(\"Error importing QAQC_pipeline.py\")\n",
    "    \n",
    "if not os.path.exists(\"./qaqc_figs\"):\n",
    "    os.makedirs(\"./qaqc_figs\")"
   ]
  },
  {
   "cell_type": "markdown",
   "id": "3d0d2c23-9515-4665-811b-e51c6131a3f6",
   "metadata": {},
   "source": [
    "## Testing on a single network / station"
   ]
  },
  {
   "cell_type": "markdown",
   "id": "d59dad9c-0d44-4145-88ea-0c8e57619330",
   "metadata": {},
   "source": [
    "### Load file and convert to pandas df "
   ]
  },
  {
   "cell_type": "code",
   "execution_count": null,
   "id": "7957e1c6-26c7-4cec-b609-df3a2812cc27",
   "metadata": {
    "tags": []
   },
   "outputs": [],
   "source": [
    "\"\"\" Aqaqc_world_recordtions from QAQC libraries can be used here.\n",
    "    For the qaqc pipeline, we need the pandas df in the same format used in it\n",
    "\"\"\"\n",
    "\n",
    "network = \"VCAPCD\"\n",
    "rawdir, cleandir, qaqcdir, mergedir = get_file_paths(network)\n",
    "print(rawdir)\n",
    "print(cleandir)\n",
    "print(qaqcdir)\n",
    "print(mergedir)"
   ]
  },
  {
   "cell_type": "code",
   "execution_count": null,
   "id": "75f64e94-fedb-493b-a5ab-e071b38a28a8",
   "metadata": {
    "tags": []
   },
   "outputs": [],
   "source": [
    "\"\"\" We can test in the same way that the pipeline, \n",
    "    take a network and subsample an station\n",
    "\"\"\"\n",
    "\n",
    "files, stations = read_network_files(network, cleandir)\n",
    "stations_sample = stations.sample(1)\n",
    "station = stations_sample.iloc[0]\n",
    "print(station)"
   ]
  },
  {
   "cell_type": "code",
   "execution_count": null,
   "id": "a1a3d433-3d23-423b-92a9-73e5bab7ca6d",
   "metadata": {
    "tags": []
   },
   "outputs": [],
   "source": [
    "\"\"\" We could load station files from the \n",
    "    s3 bucket\n",
    "\"\"\"\n",
    "file_name = cleandir + station + \".nc\"\n",
    "fs = s3fs.S3FileSystem()\n",
    "aws_url = \"s3://wecc-historical-wx/\"+file_name\n",
    "\n",
    "with fs.open(aws_url) as fileObj:\n",
    "    t0 = time.time()\n",
    "    ds = xr.open_dataset(fileObj).load()\n",
    "    ds = ds.drop_duplicates(dim=\"time\")"
   ]
  },
  {
   "cell_type": "code",
   "execution_count": null,
   "id": "f0f7d16f-accd-4a01-8650-db7fbffbc8ad",
   "metadata": {
    "tags": []
   },
   "outputs": [],
   "source": [
    "ds"
   ]
  },
  {
   "cell_type": "code",
   "execution_count": null,
   "id": "4a5a37b6-8ae1-4733-b05d-30ce1a039673",
   "metadata": {
    "tags": []
   },
   "outputs": [],
   "source": [
    "\"\"\" Or we can test on a locally stored station \n",
    "    file directly\n",
    "\"\"\"\n",
    "ds = xr.open_dataset('Train_Files/LOXWFO_OX1MB.nc')\n",
    "ds"
   ]
  },
  {
   "cell_type": "code",
   "execution_count": null,
   "id": "abb5ba09-96f5-4e16-9511-9ab0d659b576",
   "metadata": {
    "tags": []
   },
   "outputs": [],
   "source": [
    "\"\"\" Then, the idea is to convert to pandas df in the \n",
    "    format needed for the qaqc pipeline\n",
    "\"\"\"\n",
    "df, MultiIndex, attrs, var_attrs = qaqc_ds_to_df(ds)\n",
    "df.head(5)"
   ]
  },
  {
   "cell_type": "markdown",
   "id": "e2b083dd-dc26-4629-92aa-95d342af2893",
   "metadata": {},
   "source": [
    "### Test QAQC pipeline of single functions"
   ]
  },
  {
   "cell_type": "markdown",
   "id": "0c989762-91f8-4c9b-9a5c-a4d575be51d9",
   "metadata": {},
   "source": [
    "After converting to df in the same format than the pipeline, we could test the whole pipeline, or single functions"
   ]
  },
  {
   "cell_type": "markdown",
   "id": "32577969-968b-498e-868b-d408a29f19dc",
   "metadata": {},
   "source": [
    "#### Testing single functions"
   ]
  },
  {
   "cell_type": "code",
   "execution_count": null,
   "id": "8c1b056a-5814-418b-bd61-6c12d36f765a",
   "metadata": {
    "tags": []
   },
   "outputs": [],
   "source": [
    "new_df = df.copy()"
   ]
  },
  {
   "cell_type": "code",
   "execution_count": null,
   "id": "74164a24-217f-4414-b199-0508927eb90f",
   "metadata": {
    "tags": []
   },
   "outputs": [],
   "source": [
    "new_df = qaqc_world_record(new_df)"
   ]
  },
  {
   "cell_type": "code",
   "execution_count": null,
   "id": "3f5b34c9-6a26-410c-856d-2f800a9ef438",
   "metadata": {
    "tags": []
   },
   "outputs": [],
   "source": [
    "new_df = qaqc_elev_range(new_df)"
   ]
  },
  {
   "cell_type": "code",
   "execution_count": null,
   "id": "261bc8e5-a8b2-461a-af1c-13cccbdba5a6",
   "metadata": {
    "tags": []
   },
   "outputs": [],
   "source": [
    "new_df = qaqc_unusual_repeated_streaks(new_df, plot=True, local=True, verbose=True)"
   ]
  },
  {
   "cell_type": "code",
   "execution_count": null,
   "id": "422b07d4-b54e-4d2d-9ac4-92a598304119",
   "metadata": {
    "tags": []
   },
   "outputs": [],
   "source": [
    "new_df = qaqc_climatological_outlier(new_df, plot=True, verbose=True)"
   ]
  },
  {
   "cell_type": "markdown",
   "id": "ec2ab500-032d-4e57-8513-b2de70282d1f",
   "metadata": {},
   "source": [
    "#### Testing the whole pipeline"
   ]
  },
  {
   "cell_type": "code",
   "execution_count": null,
   "id": "fd7a895a-d7cb-41f3-86a5-86be5fa07a67",
   "metadata": {
    "tags": []
   },
   "outputs": [],
   "source": [
    "# Set up error handling.\n",
    "errors, end_api, timestamp = setup_error_handling()"
   ]
  },
  {
   "cell_type": "code",
   "execution_count": null,
   "id": "1c227161-1380-4a5a-a7eb-b35929343039",
   "metadata": {
    "scrolled": true,
    "tags": []
   },
   "outputs": [],
   "source": [
    "df, attrs, var_attrs = run_qaqc_pipeline(ds, network, file_name, errors, \n",
    "                                         station, end_api, rad_scheme=\"remove_zeros\",\n",
    "                                         verbose=True, local=True)"
   ]
  },
  {
   "cell_type": "code",
   "execution_count": null,
   "id": "89a58ecf-c1b5-4b2e-9d2b-7c8a0e42ca21",
   "metadata": {},
   "outputs": [],
   "source": [
    "### Or we can always run the same way that the ALL_NETWORKS_qaqc.py does:\n",
    "# whole_station_qaqc(network, cleandir, qaqcdir, rad_scheme=\"remove_zeros\", \n",
    "#                    verbose=True, local=True)"
   ]
  },
  {
   "cell_type": "code",
   "execution_count": null,
   "id": "02394b1c-3c6a-4860-ad4a-c4dc19bbde69",
   "metadata": {},
   "outputs": [],
   "source": []
  },
  {
   "cell_type": "code",
   "execution_count": null,
   "id": "82ff2380-5c35-4b9b-96e1-8408aa26499a",
   "metadata": {},
   "outputs": [],
   "source": []
  },
  {
   "cell_type": "code",
   "execution_count": null,
   "id": "57ddac44-9744-4588-a95a-b1a5d7f7ba1c",
   "metadata": {},
   "outputs": [],
   "source": []
  },
  {
   "cell_type": "code",
   "execution_count": null,
   "id": "bcb7366e-c938-40e7-ad98-eb19ea74e208",
   "metadata": {
    "tags": []
   },
   "outputs": [],
   "source": [
    "\"\"\" Aqaqc_world_recordtions from QAQC libraries can be used here.\n",
    "    For the qaqc pipeline, we need the pandas df in the same format used in it\n",
    "\"\"\"\n",
    "\n",
    "network = \"ASOSAWOS\"\n",
    "rawdir, cleandir, qaqcdir, mergedir = get_file_paths(network)\n",
    "print(rawdir)\n",
    "print(cleandir)\n",
    "print(qaqcdir)\n",
    "print(mergedir)"
   ]
  },
  {
   "cell_type": "code",
   "execution_count": null,
   "id": "36984c8e-c1a2-4ea1-af72-b640710ee238",
   "metadata": {
    "tags": []
   },
   "outputs": [],
   "source": [
    "\"\"\" We can test in the same way that the pipeline, \n",
    "    take a network and subsample an station\n",
    "\"\"\"\n",
    "\n",
    "files, stations = read_network_files(network, cleandir)\n",
    "stations_sample = stations.sample(1)\n",
    "station = stations_sample.iloc[0]\n",
    "print(station)"
   ]
  },
  {
   "cell_type": "code",
   "execution_count": null,
   "id": "e437925f-4538-4d78-99f7-6f22e57769fc",
   "metadata": {
    "tags": []
   },
   "outputs": [],
   "source": [
    "pwd"
   ]
  },
  {
   "cell_type": "markdown",
   "id": "dc85a1ca-1d5c-40fb-a58a-1a35d27e5ab0",
   "metadata": {},
   "source": [
    "- ASOSAWOS_74718503144\n",
    "- ASOSAWOS_74917900392 "
   ]
  },
  {
   "cell_type": "code",
   "execution_count": 6,
   "id": "b8638166-efb5-44cb-86c2-5caeb5eb7a0c",
   "metadata": {
    "execution": {
     "iopub.execute_input": "2024-02-13T16:40:31.370955Z",
     "iopub.status.busy": "2024-02-13T16:40:31.370559Z",
     "iopub.status.idle": "2024-02-13T16:40:31.407898Z",
     "shell.execute_reply": "2024-02-13T16:40:31.407606Z",
     "shell.execute_reply.started": "2024-02-13T16:40:31.370933Z"
    },
    "tags": []
   },
   "outputs": [
    {
     "data": {
      "text/html": [
       "<div><svg style=\"position: absolute; width: 0; height: 0; overflow: hidden\">\n",
       "<defs>\n",
       "<symbol id=\"icon-database\" viewBox=\"0 0 32 32\">\n",
       "<path d=\"M16 0c-8.837 0-16 2.239-16 5v4c0 2.761 7.163 5 16 5s16-2.239 16-5v-4c0-2.761-7.163-5-16-5z\"></path>\n",
       "<path d=\"M16 17c-8.837 0-16-2.239-16-5v6c0 2.761 7.163 5 16 5s16-2.239 16-5v-6c0 2.761-7.163 5-16 5z\"></path>\n",
       "<path d=\"M16 26c-8.837 0-16-2.239-16-5v6c0 2.761 7.163 5 16 5s16-2.239 16-5v-6c0 2.761-7.163 5-16 5z\"></path>\n",
       "</symbol>\n",
       "<symbol id=\"icon-file-text2\" viewBox=\"0 0 32 32\">\n",
       "<path d=\"M28.681 7.159c-0.694-0.947-1.662-2.053-2.724-3.116s-2.169-2.030-3.116-2.724c-1.612-1.182-2.393-1.319-2.841-1.319h-15.5c-1.378 0-2.5 1.121-2.5 2.5v27c0 1.378 1.122 2.5 2.5 2.5h23c1.378 0 2.5-1.122 2.5-2.5v-19.5c0-0.448-0.137-1.23-1.319-2.841zM24.543 5.457c0.959 0.959 1.712 1.825 2.268 2.543h-4.811v-4.811c0.718 0.556 1.584 1.309 2.543 2.268zM28 29.5c0 0.271-0.229 0.5-0.5 0.5h-23c-0.271 0-0.5-0.229-0.5-0.5v-27c0-0.271 0.229-0.5 0.5-0.5 0 0 15.499-0 15.5 0v7c0 0.552 0.448 1 1 1h7v19.5z\"></path>\n",
       "<path d=\"M23 26h-14c-0.552 0-1-0.448-1-1s0.448-1 1-1h14c0.552 0 1 0.448 1 1s-0.448 1-1 1z\"></path>\n",
       "<path d=\"M23 22h-14c-0.552 0-1-0.448-1-1s0.448-1 1-1h14c0.552 0 1 0.448 1 1s-0.448 1-1 1z\"></path>\n",
       "<path d=\"M23 18h-14c-0.552 0-1-0.448-1-1s0.448-1 1-1h14c0.552 0 1 0.448 1 1s-0.448 1-1 1z\"></path>\n",
       "</symbol>\n",
       "</defs>\n",
       "</svg>\n",
       "<style>/* CSS stylesheet for displaying xarray objects in jupyterlab.\n",
       " *\n",
       " */\n",
       "\n",
       ":root {\n",
       "  --xr-font-color0: var(--jp-content-font-color0, rgba(0, 0, 0, 1));\n",
       "  --xr-font-color2: var(--jp-content-font-color2, rgba(0, 0, 0, 0.54));\n",
       "  --xr-font-color3: var(--jp-content-font-color3, rgba(0, 0, 0, 0.38));\n",
       "  --xr-border-color: var(--jp-border-color2, #e0e0e0);\n",
       "  --xr-disabled-color: var(--jp-layout-color3, #bdbdbd);\n",
       "  --xr-background-color: var(--jp-layout-color0, white);\n",
       "  --xr-background-color-row-even: var(--jp-layout-color1, white);\n",
       "  --xr-background-color-row-odd: var(--jp-layout-color2, #eeeeee);\n",
       "}\n",
       "\n",
       "html[theme=dark],\n",
       "body.vscode-dark {\n",
       "  --xr-font-color0: rgba(255, 255, 255, 1);\n",
       "  --xr-font-color2: rgba(255, 255, 255, 0.54);\n",
       "  --xr-font-color3: rgba(255, 255, 255, 0.38);\n",
       "  --xr-border-color: #1F1F1F;\n",
       "  --xr-disabled-color: #515151;\n",
       "  --xr-background-color: #111111;\n",
       "  --xr-background-color-row-even: #111111;\n",
       "  --xr-background-color-row-odd: #313131;\n",
       "}\n",
       "\n",
       ".xr-wrap {\n",
       "  display: block !important;\n",
       "  min-width: 300px;\n",
       "  max-width: 700px;\n",
       "}\n",
       "\n",
       ".xr-text-repr-fallback {\n",
       "  /* fallback to plain text repr when CSS is not injected (untrusted notebook) */\n",
       "  display: none;\n",
       "}\n",
       "\n",
       ".xr-header {\n",
       "  padding-top: 6px;\n",
       "  padding-bottom: 6px;\n",
       "  margin-bottom: 4px;\n",
       "  border-bottom: solid 1px var(--xr-border-color);\n",
       "}\n",
       "\n",
       ".xr-header > div,\n",
       ".xr-header > ul {\n",
       "  display: inline;\n",
       "  margin-top: 0;\n",
       "  margin-bottom: 0;\n",
       "}\n",
       "\n",
       ".xr-obj-type,\n",
       ".xr-array-name {\n",
       "  margin-left: 2px;\n",
       "  margin-right: 10px;\n",
       "}\n",
       "\n",
       ".xr-obj-type {\n",
       "  color: var(--xr-font-color2);\n",
       "}\n",
       "\n",
       ".xr-sections {\n",
       "  padding-left: 0 !important;\n",
       "  display: grid;\n",
       "  grid-template-columns: 150px auto auto 1fr 20px 20px;\n",
       "}\n",
       "\n",
       ".xr-section-item {\n",
       "  display: contents;\n",
       "}\n",
       "\n",
       ".xr-section-item input {\n",
       "  display: none;\n",
       "}\n",
       "\n",
       ".xr-section-item input + label {\n",
       "  color: var(--xr-disabled-color);\n",
       "}\n",
       "\n",
       ".xr-section-item input:enabled + label {\n",
       "  cursor: pointer;\n",
       "  color: var(--xr-font-color2);\n",
       "}\n",
       "\n",
       ".xr-section-item input:enabled + label:hover {\n",
       "  color: var(--xr-font-color0);\n",
       "}\n",
       "\n",
       ".xr-section-summary {\n",
       "  grid-column: 1;\n",
       "  color: var(--xr-font-color2);\n",
       "  font-weight: 500;\n",
       "}\n",
       "\n",
       ".xr-section-summary > span {\n",
       "  display: inline-block;\n",
       "  padding-left: 0.5em;\n",
       "}\n",
       "\n",
       ".xr-section-summary-in:disabled + label {\n",
       "  color: var(--xr-font-color2);\n",
       "}\n",
       "\n",
       ".xr-section-summary-in + label:before {\n",
       "  display: inline-block;\n",
       "  content: '►';\n",
       "  font-size: 11px;\n",
       "  width: 15px;\n",
       "  text-align: center;\n",
       "}\n",
       "\n",
       ".xr-section-summary-in:disabled + label:before {\n",
       "  color: var(--xr-disabled-color);\n",
       "}\n",
       "\n",
       ".xr-section-summary-in:checked + label:before {\n",
       "  content: '▼';\n",
       "}\n",
       "\n",
       ".xr-section-summary-in:checked + label > span {\n",
       "  display: none;\n",
       "}\n",
       "\n",
       ".xr-section-summary,\n",
       ".xr-section-inline-details {\n",
       "  padding-top: 4px;\n",
       "  padding-bottom: 4px;\n",
       "}\n",
       "\n",
       ".xr-section-inline-details {\n",
       "  grid-column: 2 / -1;\n",
       "}\n",
       "\n",
       ".xr-section-details {\n",
       "  display: none;\n",
       "  grid-column: 1 / -1;\n",
       "  margin-bottom: 5px;\n",
       "}\n",
       "\n",
       ".xr-section-summary-in:checked ~ .xr-section-details {\n",
       "  display: contents;\n",
       "}\n",
       "\n",
       ".xr-array-wrap {\n",
       "  grid-column: 1 / -1;\n",
       "  display: grid;\n",
       "  grid-template-columns: 20px auto;\n",
       "}\n",
       "\n",
       ".xr-array-wrap > label {\n",
       "  grid-column: 1;\n",
       "  vertical-align: top;\n",
       "}\n",
       "\n",
       ".xr-preview {\n",
       "  color: var(--xr-font-color3);\n",
       "}\n",
       "\n",
       ".xr-array-preview,\n",
       ".xr-array-data {\n",
       "  padding: 0 5px !important;\n",
       "  grid-column: 2;\n",
       "}\n",
       "\n",
       ".xr-array-data,\n",
       ".xr-array-in:checked ~ .xr-array-preview {\n",
       "  display: none;\n",
       "}\n",
       "\n",
       ".xr-array-in:checked ~ .xr-array-data,\n",
       ".xr-array-preview {\n",
       "  display: inline-block;\n",
       "}\n",
       "\n",
       ".xr-dim-list {\n",
       "  display: inline-block !important;\n",
       "  list-style: none;\n",
       "  padding: 0 !important;\n",
       "  margin: 0;\n",
       "}\n",
       "\n",
       ".xr-dim-list li {\n",
       "  display: inline-block;\n",
       "  padding: 0;\n",
       "  margin: 0;\n",
       "}\n",
       "\n",
       ".xr-dim-list:before {\n",
       "  content: '(';\n",
       "}\n",
       "\n",
       ".xr-dim-list:after {\n",
       "  content: ')';\n",
       "}\n",
       "\n",
       ".xr-dim-list li:not(:last-child):after {\n",
       "  content: ',';\n",
       "  padding-right: 5px;\n",
       "}\n",
       "\n",
       ".xr-has-index {\n",
       "  font-weight: bold;\n",
       "}\n",
       "\n",
       ".xr-var-list,\n",
       ".xr-var-item {\n",
       "  display: contents;\n",
       "}\n",
       "\n",
       ".xr-var-item > div,\n",
       ".xr-var-item label,\n",
       ".xr-var-item > .xr-var-name span {\n",
       "  background-color: var(--xr-background-color-row-even);\n",
       "  margin-bottom: 0;\n",
       "}\n",
       "\n",
       ".xr-var-item > .xr-var-name:hover span {\n",
       "  padding-right: 5px;\n",
       "}\n",
       "\n",
       ".xr-var-list > li:nth-child(odd) > div,\n",
       ".xr-var-list > li:nth-child(odd) > label,\n",
       ".xr-var-list > li:nth-child(odd) > .xr-var-name span {\n",
       "  background-color: var(--xr-background-color-row-odd);\n",
       "}\n",
       "\n",
       ".xr-var-name {\n",
       "  grid-column: 1;\n",
       "}\n",
       "\n",
       ".xr-var-dims {\n",
       "  grid-column: 2;\n",
       "}\n",
       "\n",
       ".xr-var-dtype {\n",
       "  grid-column: 3;\n",
       "  text-align: right;\n",
       "  color: var(--xr-font-color2);\n",
       "}\n",
       "\n",
       ".xr-var-preview {\n",
       "  grid-column: 4;\n",
       "}\n",
       "\n",
       ".xr-var-name,\n",
       ".xr-var-dims,\n",
       ".xr-var-dtype,\n",
       ".xr-preview,\n",
       ".xr-attrs dt {\n",
       "  white-space: nowrap;\n",
       "  overflow: hidden;\n",
       "  text-overflow: ellipsis;\n",
       "  padding-right: 10px;\n",
       "}\n",
       "\n",
       ".xr-var-name:hover,\n",
       ".xr-var-dims:hover,\n",
       ".xr-var-dtype:hover,\n",
       ".xr-attrs dt:hover {\n",
       "  overflow: visible;\n",
       "  width: auto;\n",
       "  z-index: 1;\n",
       "}\n",
       "\n",
       ".xr-var-attrs,\n",
       ".xr-var-data {\n",
       "  display: none;\n",
       "  background-color: var(--xr-background-color) !important;\n",
       "  padding-bottom: 5px !important;\n",
       "}\n",
       "\n",
       ".xr-var-attrs-in:checked ~ .xr-var-attrs,\n",
       ".xr-var-data-in:checked ~ .xr-var-data {\n",
       "  display: block;\n",
       "}\n",
       "\n",
       ".xr-var-data > table {\n",
       "  float: right;\n",
       "}\n",
       "\n",
       ".xr-var-name span,\n",
       ".xr-var-data,\n",
       ".xr-attrs {\n",
       "  padding-left: 25px !important;\n",
       "}\n",
       "\n",
       ".xr-attrs,\n",
       ".xr-var-attrs,\n",
       ".xr-var-data {\n",
       "  grid-column: 1 / -1;\n",
       "}\n",
       "\n",
       "dl.xr-attrs {\n",
       "  padding: 0;\n",
       "  margin: 0;\n",
       "  display: grid;\n",
       "  grid-template-columns: 125px auto;\n",
       "}\n",
       "\n",
       ".xr-attrs dt,\n",
       ".xr-attrs dd {\n",
       "  padding: 0;\n",
       "  margin: 0;\n",
       "  float: left;\n",
       "  padding-right: 10px;\n",
       "  width: auto;\n",
       "}\n",
       "\n",
       ".xr-attrs dt {\n",
       "  font-weight: normal;\n",
       "  grid-column: 1;\n",
       "}\n",
       "\n",
       ".xr-attrs dt:hover span {\n",
       "  display: inline-block;\n",
       "  background: var(--xr-background-color);\n",
       "  padding-right: 10px;\n",
       "}\n",
       "\n",
       ".xr-attrs dd {\n",
       "  grid-column: 2;\n",
       "  white-space: pre-wrap;\n",
       "  word-break: break-all;\n",
       "}\n",
       "\n",
       ".xr-icon-database,\n",
       ".xr-icon-file-text2 {\n",
       "  display: inline-block;\n",
       "  vertical-align: middle;\n",
       "  width: 1em;\n",
       "  height: 1.5em !important;\n",
       "  stroke-width: 0;\n",
       "  stroke: currentColor;\n",
       "  fill: currentColor;\n",
       "}\n",
       "</style><pre class='xr-text-repr-fallback'>&lt;xarray.Dataset&gt;\n",
       "Dimensions:          (station: 1, time: 373657)\n",
       "Coordinates:\n",
       "  * time             (time) datetime64[ns] 2009-02-01 ... 2022-08-31T23:55:00\n",
       "    lat              (station, time) float64 ...\n",
       "    lon              (station, time) float64 ...\n",
       "  * station          (station) object &#x27;ASOSAWOS_74917900392&#x27;\n",
       "Data variables: (12/20)\n",
       "    ps               (station, time) float64 ...\n",
       "    tas              (station, time) float64 ...\n",
       "    tdps             (station, time) float64 ...\n",
       "    pr               (station, time) float64 ...\n",
       "    sfcWind          (station, time) float64 ...\n",
       "    sfcWind_dir      (station, time) float64 ...\n",
       "    ...               ...\n",
       "    pr_qc            (station, time) object ...\n",
       "    pr_duration      (station, time) timedelta64[ns] ...\n",
       "    pr_depth_qc      (station, time) float64 ...\n",
       "    sfcWind_qc       (station, time) object ...\n",
       "    sfcWind_method   (station, time) object ...\n",
       "    sfcWind_dir_qc   (station, time) object ...\n",
       "Attributes: (12/18)\n",
       "    title:                 ASOS/AWOS cleaned\n",
       "    institution:           Eagle Rock Analytics / Cal Adapt\n",
       "    source:                \n",
       "    history:               ASOSAWOS_clean.py script run on 02-06-2023, 23:43:...\n",
       "    comment:               Intermediate data product: may not have been subje...\n",
       "    license:               \n",
       "    ...                    ...\n",
       "    CALL:                  CVH\n",
       "    Networks:              AWOS\n",
       "    thermometer_height_m:  nan\n",
       "    anemometer_height_m:   nan\n",
       "    barometer_elev_m:      nan\n",
       "    raw_files_merged:      14</pre><div class='xr-wrap' style='display:none'><div class='xr-header'><div class='xr-obj-type'>xarray.Dataset</div></div><ul class='xr-sections'><li class='xr-section-item'><input id='section-228931cf-329f-4f2c-a417-e84fe655b681' class='xr-section-summary-in' type='checkbox' disabled ><label for='section-228931cf-329f-4f2c-a417-e84fe655b681' class='xr-section-summary'  title='Expand/collapse section'>Dimensions:</label><div class='xr-section-inline-details'><ul class='xr-dim-list'><li><span class='xr-has-index'>station</span>: 1</li><li><span class='xr-has-index'>time</span>: 373657</li></ul></div><div class='xr-section-details'></div></li><li class='xr-section-item'><input id='section-7267ccfb-b864-4edb-bdb1-71d29874f0ec' class='xr-section-summary-in' type='checkbox'  checked><label for='section-7267ccfb-b864-4edb-bdb1-71d29874f0ec' class='xr-section-summary' >Coordinates: <span>(4)</span></label><div class='xr-section-inline-details'></div><div class='xr-section-details'><ul class='xr-var-list'><li class='xr-var-item'><div class='xr-var-name'><span class='xr-has-index'>time</span></div><div class='xr-var-dims'>(time)</div><div class='xr-var-dtype'>datetime64[ns]</div><div class='xr-var-preview xr-preview'>2009-02-01 ... 2022-08-31T23:55:00</div><input id='attrs-95a6614e-5cb3-4c0e-8fe7-244f45bef981' class='xr-var-attrs-in' type='checkbox' ><label for='attrs-95a6614e-5cb3-4c0e-8fe7-244f45bef981' title='Show/Hide attributes'><svg class='icon xr-icon-file-text2'><use xlink:href='#icon-file-text2'></use></svg></label><input id='data-0e865711-a649-46a5-b2fd-866e3f502859' class='xr-var-data-in' type='checkbox'><label for='data-0e865711-a649-46a5-b2fd-866e3f502859' title='Show/Hide data repr'><svg class='icon xr-icon-database'><use xlink:href='#icon-database'></use></svg></label><div class='xr-var-attrs'><dl class='xr-attrs'><dt><span>long_name :</span></dt><dd>time</dd><dt><span>standard_name :</span></dt><dd>time</dd><dt><span>comment :</span></dt><dd>In UTC.</dd></dl></div><div class='xr-var-data'><pre>array([&#x27;2009-02-01T00:00:00.000000000&#x27;, &#x27;2009-02-01T00:15:00.000000000&#x27;,\n",
       "       &#x27;2009-02-01T00:35:00.000000000&#x27;, ..., &#x27;2022-08-31T23:15:00.000000000&#x27;,\n",
       "       &#x27;2022-08-31T23:35:00.000000000&#x27;, &#x27;2022-08-31T23:55:00.000000000&#x27;],\n",
       "      dtype=&#x27;datetime64[ns]&#x27;)</pre></div></li><li class='xr-var-item'><div class='xr-var-name'><span>lat</span></div><div class='xr-var-dims'>(station, time)</div><div class='xr-var-dtype'>float64</div><div class='xr-var-preview xr-preview'>...</div><input id='attrs-33b234c2-18e0-4d42-803f-149dc078904d' class='xr-var-attrs-in' type='checkbox' ><label for='attrs-33b234c2-18e0-4d42-803f-149dc078904d' title='Show/Hide attributes'><svg class='icon xr-icon-file-text2'><use xlink:href='#icon-file-text2'></use></svg></label><input id='data-09b52f20-84f6-4747-b8f1-520493b469ec' class='xr-var-data-in' type='checkbox'><label for='data-09b52f20-84f6-4747-b8f1-520493b469ec' title='Show/Hide data repr'><svg class='icon xr-icon-database'><use xlink:href='#icon-database'></use></svg></label><div class='xr-var-attrs'><dl class='xr-attrs'><dt><span>long_name :</span></dt><dd>latitude</dd><dt><span>standard_name :</span></dt><dd>latitude</dd><dt><span>units :</span></dt><dd>degrees_north</dd></dl></div><div class='xr-var-data'><pre>[373657 values with dtype=float64]</pre></div></li><li class='xr-var-item'><div class='xr-var-name'><span>lon</span></div><div class='xr-var-dims'>(station, time)</div><div class='xr-var-dtype'>float64</div><div class='xr-var-preview xr-preview'>...</div><input id='attrs-42935659-465e-483c-ba41-f8a9c535c173' class='xr-var-attrs-in' type='checkbox' ><label for='attrs-42935659-465e-483c-ba41-f8a9c535c173' title='Show/Hide attributes'><svg class='icon xr-icon-file-text2'><use xlink:href='#icon-file-text2'></use></svg></label><input id='data-bd4794d9-88f7-41fd-952c-565fe02a0778' class='xr-var-data-in' type='checkbox'><label for='data-bd4794d9-88f7-41fd-952c-565fe02a0778' title='Show/Hide data repr'><svg class='icon xr-icon-database'><use xlink:href='#icon-database'></use></svg></label><div class='xr-var-attrs'><dl class='xr-attrs'><dt><span>long_name :</span></dt><dd>longitude</dd><dt><span>standard_name :</span></dt><dd>longitude</dd><dt><span>units :</span></dt><dd>degrees_east</dd></dl></div><div class='xr-var-data'><pre>[373657 values with dtype=float64]</pre></div></li><li class='xr-var-item'><div class='xr-var-name'><span class='xr-has-index'>station</span></div><div class='xr-var-dims'>(station)</div><div class='xr-var-dtype'>object</div><div class='xr-var-preview xr-preview'>&#x27;ASOSAWOS_74917900392&#x27;</div><input id='attrs-957357f4-64ac-47e4-bb62-679d20365289' class='xr-var-attrs-in' type='checkbox' ><label for='attrs-957357f4-64ac-47e4-bb62-679d20365289' title='Show/Hide attributes'><svg class='icon xr-icon-file-text2'><use xlink:href='#icon-file-text2'></use></svg></label><input id='data-99766b37-176b-4b47-94dc-c38efcbb1d61' class='xr-var-data-in' type='checkbox'><label for='data-99766b37-176b-4b47-94dc-c38efcbb1d61' title='Show/Hide data repr'><svg class='icon xr-icon-database'><use xlink:href='#icon-database'></use></svg></label><div class='xr-var-attrs'><dl class='xr-attrs'><dt><span>long_name :</span></dt><dd>station_id</dd><dt><span>comment :</span></dt><dd>Unique ID created by Eagle Rock Analytics. Includes network name appended to original unique station ID provided by network.</dd></dl></div><div class='xr-var-data'><pre>array([&#x27;ASOSAWOS_74917900392&#x27;], dtype=object)</pre></div></li></ul></div></li><li class='xr-section-item'><input id='section-ca78a69b-3c57-4db8-8424-d29698e2573a' class='xr-section-summary-in' type='checkbox'  ><label for='section-ca78a69b-3c57-4db8-8424-d29698e2573a' class='xr-section-summary' >Data variables: <span>(20)</span></label><div class='xr-section-inline-details'></div><div class='xr-section-details'><ul class='xr-var-list'><li class='xr-var-item'><div class='xr-var-name'><span>ps</span></div><div class='xr-var-dims'>(station, time)</div><div class='xr-var-dtype'>float64</div><div class='xr-var-preview xr-preview'>...</div><input id='attrs-9a0a7521-a658-4ea2-b347-a0d65e389f50' class='xr-var-attrs-in' type='checkbox' ><label for='attrs-9a0a7521-a658-4ea2-b347-a0d65e389f50' title='Show/Hide attributes'><svg class='icon xr-icon-file-text2'><use xlink:href='#icon-file-text2'></use></svg></label><input id='data-d4ca9561-784e-4268-8d4d-f935c61c65b9' class='xr-var-data-in' type='checkbox'><label for='data-d4ca9561-784e-4268-8d4d-f935c61c65b9' title='Show/Hide data repr'><svg class='icon xr-icon-database'><use xlink:href='#icon-database'></use></svg></label><div class='xr-var-attrs'><dl class='xr-attrs'><dt><span>long_name :</span></dt><dd>station_air_pressure</dd><dt><span>standard_name :</span></dt><dd>air_pressure</dd><dt><span>units :</span></dt><dd>Pa</dd><dt><span>ancillary_variables :</span></dt><dd>ps_qc ps_altimeter ps_altimeter_qc</dd><dt><span>comment :</span></dt><dd>Converted from hPa to Pa.</dd></dl></div><div class='xr-var-data'><pre>[373657 values with dtype=float64]</pre></div></li><li class='xr-var-item'><div class='xr-var-name'><span>tas</span></div><div class='xr-var-dims'>(station, time)</div><div class='xr-var-dtype'>float64</div><div class='xr-var-preview xr-preview'>...</div><input id='attrs-fab1c279-82dd-47d2-aec0-642c6269bd79' class='xr-var-attrs-in' type='checkbox' ><label for='attrs-fab1c279-82dd-47d2-aec0-642c6269bd79' title='Show/Hide attributes'><svg class='icon xr-icon-file-text2'><use xlink:href='#icon-file-text2'></use></svg></label><input id='data-e704a448-5e6c-46b9-9b95-cca23d0c8078' class='xr-var-data-in' type='checkbox'><label for='data-e704a448-5e6c-46b9-9b95-cca23d0c8078' title='Show/Hide data repr'><svg class='icon xr-icon-database'><use xlink:href='#icon-database'></use></svg></label><div class='xr-var-attrs'><dl class='xr-attrs'><dt><span>long_name :</span></dt><dd>air_temperature</dd><dt><span>standard_name :</span></dt><dd>air_temperature</dd><dt><span>units :</span></dt><dd>degree_Kelvin</dd><dt><span>ancillary_variables :</span></dt><dd>tas_qc</dd><dt><span>comment :</span></dt><dd>Converted from Celsius.</dd></dl></div><div class='xr-var-data'><pre>[373657 values with dtype=float64]</pre></div></li><li class='xr-var-item'><div class='xr-var-name'><span>tdps</span></div><div class='xr-var-dims'>(station, time)</div><div class='xr-var-dtype'>float64</div><div class='xr-var-preview xr-preview'>...</div><input id='attrs-bd95ad8d-28f1-49b6-9450-06052e9aa04d' class='xr-var-attrs-in' type='checkbox' ><label for='attrs-bd95ad8d-28f1-49b6-9450-06052e9aa04d' title='Show/Hide attributes'><svg class='icon xr-icon-file-text2'><use xlink:href='#icon-file-text2'></use></svg></label><input id='data-ded10601-a1b7-400c-8a81-2f742dd3c4a5' class='xr-var-data-in' type='checkbox'><label for='data-ded10601-a1b7-400c-8a81-2f742dd3c4a5' title='Show/Hide data repr'><svg class='icon xr-icon-database'><use xlink:href='#icon-database'></use></svg></label><div class='xr-var-attrs'><dl class='xr-attrs'><dt><span>long_name :</span></dt><dd>dew_point_temperature</dd><dt><span>standard_name :</span></dt><dd>dew_point_temperature</dd><dt><span>units :</span></dt><dd>degree_Kelvin</dd><dt><span>ancillary_variables :</span></dt><dd>tdps_qc</dd><dt><span>comment :</span></dt><dd>Converted from Celsius.</dd></dl></div><div class='xr-var-data'><pre>[373657 values with dtype=float64]</pre></div></li><li class='xr-var-item'><div class='xr-var-name'><span>pr</span></div><div class='xr-var-dims'>(station, time)</div><div class='xr-var-dtype'>float64</div><div class='xr-var-preview xr-preview'>...</div><input id='attrs-cdb491b5-02b5-482e-a8d3-a7df3f4d752d' class='xr-var-attrs-in' type='checkbox' ><label for='attrs-cdb491b5-02b5-482e-a8d3-a7df3f4d752d' title='Show/Hide attributes'><svg class='icon xr-icon-file-text2'><use xlink:href='#icon-file-text2'></use></svg></label><input id='data-0708f531-7fb1-4c97-945e-384c5c61a87d' class='xr-var-data-in' type='checkbox'><label for='data-0708f531-7fb1-4c97-945e-384c5c61a87d' title='Show/Hide data repr'><svg class='icon xr-icon-database'><use xlink:href='#icon-database'></use></svg></label><div class='xr-var-attrs'><dl class='xr-attrs'><dt><span>long_name :</span></dt><dd>precipitation_accumuation</dd><dt><span>units :</span></dt><dd>mm/?</dd><dt><span>ancillary_variables :</span></dt><dd>pr_qc pr_depth_qc pr_duration</dd><dt><span>comment :</span></dt><dd></dd></dl></div><div class='xr-var-data'><pre>[373657 values with dtype=float64]</pre></div></li><li class='xr-var-item'><div class='xr-var-name'><span>sfcWind</span></div><div class='xr-var-dims'>(station, time)</div><div class='xr-var-dtype'>float64</div><div class='xr-var-preview xr-preview'>...</div><input id='attrs-d26241a2-5451-448a-a6fc-43d72fcc05f3' class='xr-var-attrs-in' type='checkbox' ><label for='attrs-d26241a2-5451-448a-a6fc-43d72fcc05f3' title='Show/Hide attributes'><svg class='icon xr-icon-file-text2'><use xlink:href='#icon-file-text2'></use></svg></label><input id='data-253e5384-2508-4594-8fe6-9c544b1e009d' class='xr-var-data-in' type='checkbox'><label for='data-253e5384-2508-4594-8fe6-9c544b1e009d' title='Show/Hide data repr'><svg class='icon xr-icon-database'><use xlink:href='#icon-database'></use></svg></label><div class='xr-var-attrs'><dl class='xr-attrs'><dt><span>long_name :</span></dt><dd>wind_speed</dd><dt><span>standard_name :</span></dt><dd>wind_speed</dd><dt><span>units :</span></dt><dd>m s-1</dd><dt><span>ancillary_variables :</span></dt><dd>sfcWind_qc sfcWind_method</dd><dt><span>comment :</span></dt><dd>Method of wind speed calculation varies, see sfcWind_method.</dd></dl></div><div class='xr-var-data'><pre>[373657 values with dtype=float64]</pre></div></li><li class='xr-var-item'><div class='xr-var-name'><span>sfcWind_dir</span></div><div class='xr-var-dims'>(station, time)</div><div class='xr-var-dtype'>float64</div><div class='xr-var-preview xr-preview'>...</div><input id='attrs-6206e77a-5024-4795-9b30-e9fa94909701' class='xr-var-attrs-in' type='checkbox' ><label for='attrs-6206e77a-5024-4795-9b30-e9fa94909701' title='Show/Hide attributes'><svg class='icon xr-icon-file-text2'><use xlink:href='#icon-file-text2'></use></svg></label><input id='data-11b00cd1-c549-41fd-97d4-d2581eceb6c8' class='xr-var-data-in' type='checkbox'><label for='data-11b00cd1-c549-41fd-97d4-d2581eceb6c8' title='Show/Hide data repr'><svg class='icon xr-icon-database'><use xlink:href='#icon-database'></use></svg></label><div class='xr-var-attrs'><dl class='xr-attrs'><dt><span>long_name :</span></dt><dd>wind_direction</dd><dt><span>standard_name :</span></dt><dd>wind_from_direction</dd><dt><span>units :</span></dt><dd>degrees_clockwise_from_north</dd><dt><span>ancillary_variables :</span></dt><dd>sfcWind_dir_qc</dd></dl></div><div class='xr-var-data'><pre>[373657 values with dtype=float64]</pre></div></li><li class='xr-var-item'><div class='xr-var-name'><span>elevation</span></div><div class='xr-var-dims'>(station, time)</div><div class='xr-var-dtype'>float64</div><div class='xr-var-preview xr-preview'>...</div><input id='attrs-6c72588c-66a3-438b-82dc-cc88616e8231' class='xr-var-attrs-in' type='checkbox' ><label for='attrs-6c72588c-66a3-438b-82dc-cc88616e8231' title='Show/Hide attributes'><svg class='icon xr-icon-file-text2'><use xlink:href='#icon-file-text2'></use></svg></label><input id='data-9ac5c764-3dc5-4719-aac8-4d2d58d8085f' class='xr-var-data-in' type='checkbox'><label for='data-9ac5c764-3dc5-4719-aac8-4d2d58d8085f' title='Show/Hide data repr'><svg class='icon xr-icon-database'><use xlink:href='#icon-database'></use></svg></label><div class='xr-var-attrs'><dl class='xr-attrs'><dt><span>standard_name :</span></dt><dd>height_above_mean_sea_level</dd><dt><span>long_name :</span></dt><dd>station_elevation</dd><dt><span>units :</span></dt><dd>meter</dd><dt><span>positive :</span></dt><dd>up</dd></dl></div><div class='xr-var-data'><pre>[373657 values with dtype=float64]</pre></div></li><li class='xr-var-item'><div class='xr-var-name'><span>qaqc_process</span></div><div class='xr-var-dims'>(station, time)</div><div class='xr-var-dtype'>object</div><div class='xr-var-preview xr-preview'>...</div><input id='attrs-86d537f4-273b-4481-8462-07d8cfe3b06f' class='xr-var-attrs-in' type='checkbox' ><label for='attrs-86d537f4-273b-4481-8462-07d8cfe3b06f' title='Show/Hide attributes'><svg class='icon xr-icon-file-text2'><use xlink:href='#icon-file-text2'></use></svg></label><input id='data-c1de7bfd-0821-4ec2-b179-832f5e8824e9' class='xr-var-data-in' type='checkbox'><label for='data-c1de7bfd-0821-4ec2-b179-832f5e8824e9' title='Show/Hide data repr'><svg class='icon xr-icon-database'><use xlink:href='#icon-database'></use></svg></label><div class='xr-var-attrs'><dl class='xr-attrs'><dt><span>long_name :</span></dt><dd>qaqc_process_type</dd><dt><span>flag_values :</span></dt><dd>V01 V02 V03</dd><dt><span>flag_meanings :</span></dt><dd>no_qaqc automated_qaqc subjected_to_qaqc</dd></dl></div><div class='xr-var-data'><pre>[373657 values with dtype=object]</pre></div></li><li class='xr-var-item'><div class='xr-var-name'><span>ps_qc</span></div><div class='xr-var-dims'>(station, time)</div><div class='xr-var-dtype'>object</div><div class='xr-var-preview xr-preview'>...</div><input id='attrs-22ea525e-4c2a-4252-85fd-0ec5fa7345a8' class='xr-var-attrs-in' type='checkbox' ><label for='attrs-22ea525e-4c2a-4252-85fd-0ec5fa7345a8' title='Show/Hide attributes'><svg class='icon xr-icon-file-text2'><use xlink:href='#icon-file-text2'></use></svg></label><input id='data-197a0a2e-9b80-47c0-872b-71ea58dc4a54' class='xr-var-data-in' type='checkbox'><label for='data-197a0a2e-9b80-47c0-872b-71ea58dc4a54' title='Show/Hide data repr'><svg class='icon xr-icon-database'><use xlink:href='#icon-database'></use></svg></label><div class='xr-var-attrs'><dl class='xr-attrs'><dt><span>flag_values :</span></dt><dd>0 1 2 3 4 5 6 7 M 9</dd><dt><span>flag_meanings :</span></dt><dd>See QA/QC csv for network.</dd></dl></div><div class='xr-var-data'><pre>[373657 values with dtype=object]</pre></div></li><li class='xr-var-item'><div class='xr-var-name'><span>ps_altimeter</span></div><div class='xr-var-dims'>(station, time)</div><div class='xr-var-dtype'>float64</div><div class='xr-var-preview xr-preview'>...</div><input id='attrs-0e623b85-bdec-4695-a6aa-9046f98957c4' class='xr-var-attrs-in' type='checkbox' ><label for='attrs-0e623b85-bdec-4695-a6aa-9046f98957c4' title='Show/Hide attributes'><svg class='icon xr-icon-file-text2'><use xlink:href='#icon-file-text2'></use></svg></label><input id='data-58697fed-5896-4e55-b558-d334c9f3d177' class='xr-var-data-in' type='checkbox'><label for='data-58697fed-5896-4e55-b558-d334c9f3d177' title='Show/Hide data repr'><svg class='icon xr-icon-database'><use xlink:href='#icon-database'></use></svg></label><div class='xr-var-attrs'><dl class='xr-attrs'><dt><span>long_name :</span></dt><dd>altimeter_setting</dd><dt><span>units :</span></dt><dd>Pa</dd><dt><span>ancillary_variables :</span></dt><dd>ps ps_qc ps_altimeter ps_altimeter_qc</dd><dt><span>comment :</span></dt><dd>Converted from hPa to Pa. The pressure value to which an aircraft altimeter is set so that it will indicate the altitude relative to mean sea level of an aircraft on the ground at the location for which the value was determined.</dd></dl></div><div class='xr-var-data'><pre>[373657 values with dtype=float64]</pre></div></li><li class='xr-var-item'><div class='xr-var-name'><span>ps_altimeter_qc</span></div><div class='xr-var-dims'>(station, time)</div><div class='xr-var-dtype'>object</div><div class='xr-var-preview xr-preview'>...</div><input id='attrs-c6f9bf9f-1e6b-4f59-bf4e-aef8bc24c8b8' class='xr-var-attrs-in' type='checkbox' ><label for='attrs-c6f9bf9f-1e6b-4f59-bf4e-aef8bc24c8b8' title='Show/Hide attributes'><svg class='icon xr-icon-file-text2'><use xlink:href='#icon-file-text2'></use></svg></label><input id='data-4dcc5d2c-955e-406d-913e-2ac0ed9f2cfb' class='xr-var-data-in' type='checkbox'><label for='data-4dcc5d2c-955e-406d-913e-2ac0ed9f2cfb' title='Show/Hide data repr'><svg class='icon xr-icon-database'><use xlink:href='#icon-database'></use></svg></label><div class='xr-var-attrs'><dl class='xr-attrs'><dt><span>flag_values :</span></dt><dd>0 1 2 3 4 5 6 7 M 9</dd><dt><span>flag_meanings :</span></dt><dd>See QA/QC csv for network.</dd></dl></div><div class='xr-var-data'><pre>[373657 values with dtype=object]</pre></div></li><li class='xr-var-item'><div class='xr-var-name'><span>psl_qc</span></div><div class='xr-var-dims'>(station, time)</div><div class='xr-var-dtype'>object</div><div class='xr-var-preview xr-preview'>...</div><input id='attrs-938dbc62-b938-4828-a288-fa561c2de586' class='xr-var-attrs-in' type='checkbox' disabled><label for='attrs-938dbc62-b938-4828-a288-fa561c2de586' title='Show/Hide attributes'><svg class='icon xr-icon-file-text2'><use xlink:href='#icon-file-text2'></use></svg></label><input id='data-81d750ad-5b7d-4480-aa8b-08a0ddb2a98e' class='xr-var-data-in' type='checkbox'><label for='data-81d750ad-5b7d-4480-aa8b-08a0ddb2a98e' title='Show/Hide data repr'><svg class='icon xr-icon-database'><use xlink:href='#icon-database'></use></svg></label><div class='xr-var-attrs'><dl class='xr-attrs'></dl></div><div class='xr-var-data'><pre>[373657 values with dtype=object]</pre></div></li><li class='xr-var-item'><div class='xr-var-name'><span>tas_qc</span></div><div class='xr-var-dims'>(station, time)</div><div class='xr-var-dtype'>object</div><div class='xr-var-preview xr-preview'>...</div><input id='attrs-4983bb50-b443-4a17-bb51-06f69e5b99c2' class='xr-var-attrs-in' type='checkbox' ><label for='attrs-4983bb50-b443-4a17-bb51-06f69e5b99c2' title='Show/Hide attributes'><svg class='icon xr-icon-file-text2'><use xlink:href='#icon-file-text2'></use></svg></label><input id='data-c15e768b-3ff5-4771-952f-dd0047826914' class='xr-var-data-in' type='checkbox'><label for='data-c15e768b-3ff5-4771-952f-dd0047826914' title='Show/Hide data repr'><svg class='icon xr-icon-database'><use xlink:href='#icon-database'></use></svg></label><div class='xr-var-attrs'><dl class='xr-attrs'><dt><span>flag_values :</span></dt><dd>0 1 2 3 4 5 6 7 9 A C I M P R U</dd><dt><span>flag_meanings :</span></dt><dd>See QA/QC csv for network.</dd></dl></div><div class='xr-var-data'><pre>[373657 values with dtype=object]</pre></div></li><li class='xr-var-item'><div class='xr-var-name'><span>tdps_qc</span></div><div class='xr-var-dims'>(station, time)</div><div class='xr-var-dtype'>object</div><div class='xr-var-preview xr-preview'>...</div><input id='attrs-472272b4-a7c3-4be9-932a-e2fc40a1861a' class='xr-var-attrs-in' type='checkbox' ><label for='attrs-472272b4-a7c3-4be9-932a-e2fc40a1861a' title='Show/Hide attributes'><svg class='icon xr-icon-file-text2'><use xlink:href='#icon-file-text2'></use></svg></label><input id='data-f1ac2cd6-5c18-40c9-b612-7737dcc4ad21' class='xr-var-data-in' type='checkbox'><label for='data-f1ac2cd6-5c18-40c9-b612-7737dcc4ad21' title='Show/Hide data repr'><svg class='icon xr-icon-database'><use xlink:href='#icon-database'></use></svg></label><div class='xr-var-attrs'><dl class='xr-attrs'><dt><span>flag_values :</span></dt><dd>0 1 2 3 4 5 6 7 9 A C I M P R U</dd><dt><span>flag_meanings :</span></dt><dd>See QA/QC csv for network.</dd></dl></div><div class='xr-var-data'><pre>[373657 values with dtype=object]</pre></div></li><li class='xr-var-item'><div class='xr-var-name'><span>pr_qc</span></div><div class='xr-var-dims'>(station, time)</div><div class='xr-var-dtype'>object</div><div class='xr-var-preview xr-preview'>...</div><input id='attrs-6a541893-9537-4bef-afa6-aea16a56fa2e' class='xr-var-attrs-in' type='checkbox' ><label for='attrs-6a541893-9537-4bef-afa6-aea16a56fa2e' title='Show/Hide attributes'><svg class='icon xr-icon-file-text2'><use xlink:href='#icon-file-text2'></use></svg></label><input id='data-92ea7cf6-64e8-4bbd-abca-af4f17086479' class='xr-var-data-in' type='checkbox'><label for='data-92ea7cf6-64e8-4bbd-abca-af4f17086479' title='Show/Hide data repr'><svg class='icon xr-icon-database'><use xlink:href='#icon-database'></use></svg></label><div class='xr-var-attrs'><dl class='xr-attrs'><dt><span>flag_values :</span></dt><dd>0 1 2 3 4 5 6 7 9 A I M P R U</dd><dt><span>flag_meanings :</span></dt><dd>See QA/QC csv for network.</dd></dl></div><div class='xr-var-data'><pre>[373657 values with dtype=object]</pre></div></li><li class='xr-var-item'><div class='xr-var-name'><span>pr_duration</span></div><div class='xr-var-dims'>(station, time)</div><div class='xr-var-dtype'>timedelta64[ns]</div><div class='xr-var-preview xr-preview'>...</div><input id='attrs-07b01f31-bcf8-4e80-9238-4ab20b6bf054' class='xr-var-attrs-in' type='checkbox' ><label for='attrs-07b01f31-bcf8-4e80-9238-4ab20b6bf054' title='Show/Hide attributes'><svg class='icon xr-icon-file-text2'><use xlink:href='#icon-file-text2'></use></svg></label><input id='data-1541fb34-7c3e-4b58-b6df-22288adac88b' class='xr-var-data-in' type='checkbox'><label for='data-1541fb34-7c3e-4b58-b6df-22288adac88b' title='Show/Hide data repr'><svg class='icon xr-icon-database'><use xlink:href='#icon-database'></use></svg></label><div class='xr-var-attrs'><dl class='xr-attrs'><dt><span>long_name :</span></dt><dd>precipitation measurement interval</dd><dt><span>ancillary_variables :</span></dt><dd>pr pr_qc pr_depth_qc</dd></dl></div><div class='xr-var-data'><pre>[373657 values with dtype=timedelta64[ns]]</pre></div></li><li class='xr-var-item'><div class='xr-var-name'><span>pr_depth_qc</span></div><div class='xr-var-dims'>(station, time)</div><div class='xr-var-dtype'>float64</div><div class='xr-var-preview xr-preview'>...</div><input id='attrs-4429bcf6-ea73-46c5-ad28-0b04f755b51a' class='xr-var-attrs-in' type='checkbox' ><label for='attrs-4429bcf6-ea73-46c5-ad28-0b04f755b51a' title='Show/Hide attributes'><svg class='icon xr-icon-file-text2'><use xlink:href='#icon-file-text2'></use></svg></label><input id='data-f0be3243-46bd-4c16-a91a-20755ae366e8' class='xr-var-data-in' type='checkbox'><label for='data-f0be3243-46bd-4c16-a91a-20755ae366e8' title='Show/Hide data repr'><svg class='icon xr-icon-database'><use xlink:href='#icon-database'></use></svg></label><div class='xr-var-attrs'><dl class='xr-attrs'><dt><span>flag_values :</span></dt><dd>1 2 3 4 5 6 7 8 E I J 9</dd><dt><span>flag_meanings :</span></dt><dd>See QA/QC csv for network.</dd></dl></div><div class='xr-var-data'><pre>[373657 values with dtype=float64]</pre></div></li><li class='xr-var-item'><div class='xr-var-name'><span>sfcWind_qc</span></div><div class='xr-var-dims'>(station, time)</div><div class='xr-var-dtype'>object</div><div class='xr-var-preview xr-preview'>...</div><input id='attrs-06eaa0fb-e3bd-4c7f-976e-31bc6df7fefe' class='xr-var-attrs-in' type='checkbox' disabled><label for='attrs-06eaa0fb-e3bd-4c7f-976e-31bc6df7fefe' title='Show/Hide attributes'><svg class='icon xr-icon-file-text2'><use xlink:href='#icon-file-text2'></use></svg></label><input id='data-27cfa94a-2873-4407-8f4d-82c32061938f' class='xr-var-data-in' type='checkbox'><label for='data-27cfa94a-2873-4407-8f4d-82c32061938f' title='Show/Hide data repr'><svg class='icon xr-icon-database'><use xlink:href='#icon-database'></use></svg></label><div class='xr-var-attrs'><dl class='xr-attrs'></dl></div><div class='xr-var-data'><pre>[373657 values with dtype=object]</pre></div></li><li class='xr-var-item'><div class='xr-var-name'><span>sfcWind_method</span></div><div class='xr-var-dims'>(station, time)</div><div class='xr-var-dtype'>object</div><div class='xr-var-preview xr-preview'>...</div><input id='attrs-991958a6-ccdb-4637-8497-06956e157613' class='xr-var-attrs-in' type='checkbox' ><label for='attrs-991958a6-ccdb-4637-8497-06956e157613' title='Show/Hide attributes'><svg class='icon xr-icon-file-text2'><use xlink:href='#icon-file-text2'></use></svg></label><input id='data-f35e1336-b44f-4fdf-a3f8-ea4091f4e1f4' class='xr-var-data-in' type='checkbox'><label for='data-f35e1336-b44f-4fdf-a3f8-ea4091f4e1f4' title='Show/Hide data repr'><svg class='icon xr-icon-database'><use xlink:href='#icon-database'></use></svg></label><div class='xr-var-attrs'><dl class='xr-attrs'><dt><span>long_name :</span></dt><dd>wind_speed_calculation_method</dd><dt><span>flag_values :</span></dt><dd>0 1 2 3 4 5 6 7 9</dd><dt><span>flag_meanings :</span></dt><dd>See QA/QC csv for network.</dd></dl></div><div class='xr-var-data'><pre>[373657 values with dtype=object]</pre></div></li><li class='xr-var-item'><div class='xr-var-name'><span>sfcWind_dir_qc</span></div><div class='xr-var-dims'>(station, time)</div><div class='xr-var-dtype'>object</div><div class='xr-var-preview xr-preview'>...</div><input id='attrs-3714c9a0-735c-41ab-afe8-0dc612a92b8f' class='xr-var-attrs-in' type='checkbox' ><label for='attrs-3714c9a0-735c-41ab-afe8-0dc612a92b8f' title='Show/Hide attributes'><svg class='icon xr-icon-file-text2'><use xlink:href='#icon-file-text2'></use></svg></label><input id='data-ec1c1178-8dea-4828-b9d5-90e103d24008' class='xr-var-data-in' type='checkbox'><label for='data-ec1c1178-8dea-4828-b9d5-90e103d24008' title='Show/Hide data repr'><svg class='icon xr-icon-database'><use xlink:href='#icon-database'></use></svg></label><div class='xr-var-attrs'><dl class='xr-attrs'><dt><span>flag_values :</span></dt><dd>0 1 2 3 4 5 6 7 9</dd><dt><span>flag_meanings :</span></dt><dd>See QA/QC csv for network.</dd></dl></div><div class='xr-var-data'><pre>[373657 values with dtype=object]</pre></div></li></ul></div></li><li class='xr-section-item'><input id='section-050501c0-b456-4900-a860-31fdeb84473d' class='xr-section-summary-in' type='checkbox'  ><label for='section-050501c0-b456-4900-a860-31fdeb84473d' class='xr-section-summary' >Attributes: <span>(18)</span></label><div class='xr-section-inline-details'></div><div class='xr-section-details'><dl class='xr-attrs'><dt><span>title :</span></dt><dd>ASOS/AWOS cleaned</dd><dt><span>institution :</span></dt><dd>Eagle Rock Analytics / Cal Adapt</dd><dt><span>source :</span></dt><dd></dd><dt><span>history :</span></dt><dd>ASOSAWOS_clean.py script run on 02-06-2023, 23:43:53 UTC</dd><dt><span>comment :</span></dt><dd>Intermediate data product: may not have been subject to any cleaning or QA/QC processing</dd><dt><span>license :</span></dt><dd></dd><dt><span>citation :</span></dt><dd></dd><dt><span>disclaimer :</span></dt><dd>This document was prepared as a result of work sponsored by the California Energy Commission (PIR-19-006). It does not necessarily represent the views of the Energy Commission, its employees, or the State of California. Neither the Commission, the State of California, nor the Commission&#x27;s employees, contractors, or subcontractors makes any warranty, express or implied, or assumes any legal liability for the information in this document; nor does any party represent that the use of this information will not infringe upon privately owned rights. This document has not been approved or disapproved by the Commission, nor has the Commission passed upon the accuracy of the information in this document.</dd><dt><span>station_name :</span></dt><dd>HOLLISTER MUNICIPAL AIRPORT</dd><dt><span>USAF :</span></dt><dd>749179</dd><dt><span>WBAN :</span></dt><dd>392</dd><dt><span>ICAO :</span></dt><dd>KCVH</dd><dt><span>CALL :</span></dt><dd>CVH</dd><dt><span>Networks :</span></dt><dd>AWOS</dd><dt><span>thermometer_height_m :</span></dt><dd>nan</dd><dt><span>anemometer_height_m :</span></dt><dd>nan</dd><dt><span>barometer_elev_m :</span></dt><dd>nan</dd><dt><span>raw_files_merged :</span></dt><dd>14</dd></dl></div></li></ul></div></div>"
      ],
      "text/plain": [
       "<xarray.Dataset>\n",
       "Dimensions:          (station: 1, time: 373657)\n",
       "Coordinates:\n",
       "  * time             (time) datetime64[ns] 2009-02-01 ... 2022-08-31T23:55:00\n",
       "    lat              (station, time) float64 ...\n",
       "    lon              (station, time) float64 ...\n",
       "  * station          (station) object 'ASOSAWOS_74917900392'\n",
       "Data variables: (12/20)\n",
       "    ps               (station, time) float64 ...\n",
       "    tas              (station, time) float64 ...\n",
       "    tdps             (station, time) float64 ...\n",
       "    pr               (station, time) float64 ...\n",
       "    sfcWind          (station, time) float64 ...\n",
       "    sfcWind_dir      (station, time) float64 ...\n",
       "    ...               ...\n",
       "    pr_qc            (station, time) object ...\n",
       "    pr_duration      (station, time) timedelta64[ns] ...\n",
       "    pr_depth_qc      (station, time) float64 ...\n",
       "    sfcWind_qc       (station, time) object ...\n",
       "    sfcWind_method   (station, time) object ...\n",
       "    sfcWind_dir_qc   (station, time) object ...\n",
       "Attributes: (12/18)\n",
       "    title:                 ASOS/AWOS cleaned\n",
       "    institution:           Eagle Rock Analytics / Cal Adapt\n",
       "    source:                \n",
       "    history:               ASOSAWOS_clean.py script run on 02-06-2023, 23:43:...\n",
       "    comment:               Intermediate data product: may not have been subje...\n",
       "    license:               \n",
       "    ...                    ...\n",
       "    CALL:                  CVH\n",
       "    Networks:              AWOS\n",
       "    thermometer_height_m:  nan\n",
       "    anemometer_height_m:   nan\n",
       "    barometer_elev_m:      nan\n",
       "    raw_files_merged:      14"
      ]
     },
     "execution_count": 6,
     "metadata": {},
     "output_type": "execute_result"
    }
   ],
   "source": [
    "\"\"\" Or we can test on a locally stored station \n",
    "    file directly\n",
    "\"\"\"\n",
    "ds = xr.open_dataset('Train_Files/ASOSAWOS_74917900392.nc')\n",
    "ds"
   ]
  },
  {
   "cell_type": "code",
   "execution_count": null,
   "id": "827325d1-dc75-492c-80b0-718253c85c18",
   "metadata": {
    "tags": []
   },
   "outputs": [],
   "source": [
    "# ds.ps_altimeter.plot()"
   ]
  },
  {
   "cell_type": "code",
   "execution_count": 7,
   "id": "02516e57-4a46-4d71-b400-4333086ad16a",
   "metadata": {
    "execution": {
     "iopub.execute_input": "2024-02-13T16:40:34.084561Z",
     "iopub.status.busy": "2024-02-13T16:40:34.084268Z",
     "iopub.status.idle": "2024-02-13T16:40:35.410875Z",
     "shell.execute_reply": "2024-02-13T16:40:35.410495Z",
     "shell.execute_reply.started": "2024-02-13T16:40:34.084551Z"
    },
    "tags": []
   },
   "outputs": [
    {
     "name": "stderr",
     "output_type": "stream",
     "text": [
      "/Users/hector/anaconda3/envs/era_py39/lib/python3.9/site-packages/pandas/core/arrays/timedeltas.py:908: RuntimeWarning: invalid value encountered in cast\n",
      "  base = data.astype(np.int64)\n",
      "/Users/hector/anaconda3/envs/era_py39/lib/python3.9/site-packages/pandas/core/arrays/timedeltas.py:912: RuntimeWarning: invalid value encountered in cast\n",
      "  data = (base * m + (frac * m).astype(np.int64)).view(\"timedelta64[ns]\")\n"
     ]
    },
    {
     "data": {
      "text/html": [
       "<div>\n",
       "<style scoped>\n",
       "    .dataframe tbody tr th:only-of-type {\n",
       "        vertical-align: middle;\n",
       "    }\n",
       "\n",
       "    .dataframe tbody tr th {\n",
       "        vertical-align: top;\n",
       "    }\n",
       "\n",
       "    .dataframe thead th {\n",
       "        text-align: right;\n",
       "    }\n",
       "</style>\n",
       "<table border=\"1\" class=\"dataframe\">\n",
       "  <thead>\n",
       "    <tr style=\"text-align: right;\">\n",
       "      <th></th>\n",
       "      <th>time</th>\n",
       "      <th>ps</th>\n",
       "      <th>tas</th>\n",
       "      <th>tdps</th>\n",
       "      <th>pr</th>\n",
       "      <th>sfcWind</th>\n",
       "      <th>sfcWind_dir</th>\n",
       "      <th>elevation</th>\n",
       "      <th>qaqc_process</th>\n",
       "      <th>ps_qc</th>\n",
       "      <th>...</th>\n",
       "      <th>tdps_eraqc</th>\n",
       "      <th>pr_eraqc</th>\n",
       "      <th>sfcWind_eraqc</th>\n",
       "      <th>sfcWind_dir_eraqc</th>\n",
       "      <th>elevation_eraqc</th>\n",
       "      <th>ps_altimeter_eraqc</th>\n",
       "      <th>pr_duration_eraqc</th>\n",
       "      <th>anemometer_height_m</th>\n",
       "      <th>thermometer_height_m</th>\n",
       "      <th>station</th>\n",
       "    </tr>\n",
       "  </thead>\n",
       "  <tbody>\n",
       "    <tr>\n",
       "      <th>0</th>\n",
       "      <td>2009-02-01 00:00:00</td>\n",
       "      <td>NaN</td>\n",
       "      <td>294.15</td>\n",
       "      <td>280.15</td>\n",
       "      <td>NaN</td>\n",
       "      <td>4.6</td>\n",
       "      <td>320.0</td>\n",
       "      <td>72.0</td>\n",
       "      <td>V020</td>\n",
       "      <td>9</td>\n",
       "      <td>...</td>\n",
       "      <td>NaN</td>\n",
       "      <td>NaN</td>\n",
       "      <td>NaN</td>\n",
       "      <td>NaN</td>\n",
       "      <td>NaN</td>\n",
       "      <td>NaN</td>\n",
       "      <td>NaT</td>\n",
       "      <td>NaN</td>\n",
       "      <td>NaN</td>\n",
       "      <td>ASOSAWOS_74917900392</td>\n",
       "    </tr>\n",
       "    <tr>\n",
       "      <th>1</th>\n",
       "      <td>2009-02-01 00:15:00</td>\n",
       "      <td>NaN</td>\n",
       "      <td>292.15</td>\n",
       "      <td>280.15</td>\n",
       "      <td>NaN</td>\n",
       "      <td>5.7</td>\n",
       "      <td>320.0</td>\n",
       "      <td>72.0</td>\n",
       "      <td>V020</td>\n",
       "      <td>9</td>\n",
       "      <td>...</td>\n",
       "      <td>NaN</td>\n",
       "      <td>NaN</td>\n",
       "      <td>NaN</td>\n",
       "      <td>NaN</td>\n",
       "      <td>NaN</td>\n",
       "      <td>NaN</td>\n",
       "      <td>NaT</td>\n",
       "      <td>NaN</td>\n",
       "      <td>NaN</td>\n",
       "      <td>ASOSAWOS_74917900392</td>\n",
       "    </tr>\n",
       "  </tbody>\n",
       "</table>\n",
       "<p>2 rows × 35 columns</p>\n",
       "</div>"
      ],
      "text/plain": [
       "                 time  ps     tas    tdps  pr  sfcWind  sfcWind_dir  \\\n",
       "0 2009-02-01 00:00:00 NaN  294.15  280.15 NaN      4.6        320.0   \n",
       "1 2009-02-01 00:15:00 NaN  292.15  280.15 NaN      5.7        320.0   \n",
       "\n",
       "   elevation qaqc_process ps_qc  ...  tdps_eraqc pr_eraqc sfcWind_eraqc  \\\n",
       "0       72.0         V020     9  ...         NaN      NaN           NaN   \n",
       "1       72.0         V020     9  ...         NaN      NaN           NaN   \n",
       "\n",
       "  sfcWind_dir_eraqc elevation_eraqc ps_altimeter_eraqc pr_duration_eraqc  \\\n",
       "0               NaN             NaN                NaN               NaT   \n",
       "1               NaN             NaN                NaN               NaT   \n",
       "\n",
       "   anemometer_height_m thermometer_height_m               station  \n",
       "0                  NaN                  NaN  ASOSAWOS_74917900392  \n",
       "1                  NaN                  NaN  ASOSAWOS_74917900392  \n",
       "\n",
       "[2 rows x 35 columns]"
      ]
     },
     "execution_count": 7,
     "metadata": {},
     "output_type": "execute_result"
    }
   ],
   "source": [
    "\"\"\" Then, the idea is to convert to pandas df in the \n",
    "    format needed for the qaqc pipeline\n",
    "\"\"\"\n",
    "df, MultiIndex, attrs, var_attrs = qaqc_ds_to_df(ds)\n",
    "df.head(2)"
   ]
  },
  {
   "cell_type": "code",
   "execution_count": null,
   "id": "89ccc72a-9163-4b25-9cab-f4566fbe0eb3",
   "metadata": {
    "tags": []
   },
   "outputs": [],
   "source": [
    "# new_df = qaqc_unusual_large_jumps(df, plot=True, local=True, verbose=True)"
   ]
  },
  {
   "cell_type": "code",
   "execution_count": null,
   "id": "aa51aa7b-619c-4b11-9843-04cc676b2706",
   "metadata": {
    "tags": []
   },
   "outputs": [],
   "source": [
    "# new_df = qaqc_unusual_repeated_streaks(df, plot=True, local=True, verbose=True)"
   ]
  },
  {
   "cell_type": "code",
   "execution_count": null,
   "id": "21912d7e-2a6d-4515-8c83-250cb4662103",
   "metadata": {
    "tags": []
   },
   "outputs": [],
   "source": [
    "# new_df = qaqc_unusual_large_jumps(new_df, plot=True, local=True, verbose=True)"
   ]
  },
  {
   "cell_type": "code",
   "execution_count": 10,
   "id": "2e44c616-4d2a-47fc-b92d-0e8cc7a8b398",
   "metadata": {
    "execution": {
     "iopub.execute_input": "2024-02-13T16:41:09.165457Z",
     "iopub.status.busy": "2024-02-13T16:41:09.165176Z",
     "iopub.status.idle": "2024-02-13T16:41:45.277459Z",
     "shell.execute_reply": "2024-02-13T16:41:45.276888Z",
     "shell.execute_reply.started": "2024-02-13T16:41:09.165447Z"
    },
    "tags": []
   },
   "outputs": [
    {
     "ename": "KeyboardInterrupt",
     "evalue": "",
     "output_type": "error",
     "traceback": [
      "\u001b[0;31m---------------------------------------------------------------------------\u001b[0m",
      "\u001b[0;31mKeyboardInterrupt\u001b[0m                         Traceback (most recent call last)",
      "Cell \u001b[0;32mIn[10], line 1\u001b[0m\n\u001b[0;32m----> 1\u001b[0m new_df \u001b[38;5;241m=\u001b[39m \u001b[43mqaqc_unusual_gaps\u001b[49m\u001b[43m(\u001b[49m\u001b[43mdf\u001b[49m\u001b[43m,\u001b[49m\u001b[43m \u001b[49m\u001b[43mplots\u001b[49m\u001b[38;5;241;43m=\u001b[39;49m\u001b[38;5;28;43;01mTrue\u001b[39;49;00m\u001b[43m,\u001b[49m\u001b[43m \u001b[49m\u001b[43mverbose\u001b[49m\u001b[38;5;241;43m=\u001b[39;49m\u001b[38;5;28;43;01mTrue\u001b[39;49;00m\u001b[43m)\u001b[49m\n",
      "File \u001b[0;32m~/ERA_work/PARALLEL/historical-obs-platform/test_platform/scripts/3_qaqc_data/qaqc_unusual_gaps.py:80\u001b[0m, in \u001b[0;36mqaqc_unusual_gaps\u001b[0;34m(df, iqr_thresh, plots, verbose)\u001b[0m\n\u001b[1;32m     77\u001b[0m     \u001b[38;5;28;01mreturn\u001b[39;00m df\n\u001b[1;32m     79\u001b[0m \u001b[38;5;28;01melse\u001b[39;00m:\n\u001b[0;32m---> 80\u001b[0m     df_part1 \u001b[38;5;241m=\u001b[39m \u001b[43mqaqc_dist_gap_part1\u001b[49m\u001b[43m(\u001b[49m\u001b[43mdf\u001b[49m\u001b[43m,\u001b[49m\u001b[43m \u001b[49m\u001b[43mvars_to_check\u001b[49m\u001b[43m,\u001b[49m\u001b[43m \u001b[49m\u001b[43miqr_thresh\u001b[49m\u001b[43m,\u001b[49m\u001b[43m \u001b[49m\u001b[43mplots\u001b[49m\u001b[43m,\u001b[49m\u001b[43m \u001b[49m\u001b[43mverbose\u001b[49m\u001b[38;5;241;43m=\u001b[39;49m\u001b[43mverbose\u001b[49m\u001b[43m)\u001b[49m\n\u001b[1;32m     81\u001b[0m     df_part2 \u001b[38;5;241m=\u001b[39m qaqc_dist_gap_part2(df_part1, vars_to_check, plots, verbose\u001b[38;5;241m=\u001b[39mverbose)\n\u001b[1;32m     83\u001b[0m     \u001b[38;5;28;01mif\u001b[39;00m plots \u001b[38;5;241m==\u001b[39m \u001b[38;5;28;01mTrue\u001b[39;00m:\n",
      "File \u001b[0;32m~/ERA_work/PARALLEL/historical-obs-platform/test_platform/scripts/3_qaqc_data/qaqc_unusual_gaps.py:209\u001b[0m, in \u001b[0;36mqaqc_dist_gap_part1\u001b[0;34m(df, vars_to_check, iqr_thresh, plot, verbose)\u001b[0m\n\u001b[1;32m    205\u001b[0m \u001b[38;5;28;01mfor\u001b[39;00m var \u001b[38;5;129;01min\u001b[39;00m vars_to_check:\n\u001b[1;32m    206\u001b[0m     \u001b[38;5;28;01mfor\u001b[39;00m month \u001b[38;5;129;01min\u001b[39;00m \u001b[38;5;28mrange\u001b[39m(\u001b[38;5;241m1\u001b[39m,\u001b[38;5;241m13\u001b[39m): \n\u001b[1;32m    207\u001b[0m \n\u001b[1;32m    208\u001b[0m         \u001b[38;5;66;03m# per variable bypass check\u001b[39;00m\n\u001b[0;32m--> 209\u001b[0m         df \u001b[38;5;241m=\u001b[39m \u001b[43mqaqc_dist_var_bypass_check\u001b[49m\u001b[43m(\u001b[49m\u001b[43mdf\u001b[49m\u001b[43m,\u001b[49m\u001b[43m \u001b[49m\u001b[43mvars_to_check\u001b[49m\u001b[43m)\u001b[49m \u001b[38;5;66;03m# flag here is 20\u001b[39;00m\n\u001b[1;32m    210\u001b[0m         \u001b[38;5;28;01mif\u001b[39;00m \u001b[38;5;241m20\u001b[39m \u001b[38;5;129;01min\u001b[39;00m df[var\u001b[38;5;241m+\u001b[39m\u001b[38;5;124m'\u001b[39m\u001b[38;5;124m_eraqc\u001b[39m\u001b[38;5;124m'\u001b[39m]:\n\u001b[1;32m    211\u001b[0m             \u001b[38;5;28;01mcontinue\u001b[39;00m \u001b[38;5;66;03m# skip variable\u001b[39;00m\n",
      "File \u001b[0;32m~/ERA_work/PARALLEL/historical-obs-platform/test_platform/scripts/3_qaqc_data/qaqc_unusual_gaps.py:174\u001b[0m, in \u001b[0;36mqaqc_dist_var_bypass_check\u001b[0;34m(df, vars_to_check, min_num_months)\u001b[0m\n\u001b[1;32m    171\u001b[0m             df[var\u001b[38;5;241m+\u001b[39m\u001b[38;5;124m'\u001b[39m\u001b[38;5;124m_eraqc\u001b[39m\u001b[38;5;124m'\u001b[39m] \u001b[38;5;241m=\u001b[39m \u001b[38;5;241m20\u001b[39m \u001b[38;5;66;03m# see era_qaqc_flag_meanings.csv\u001b[39;00m\n\u001b[1;32m    173\u001b[0m         \u001b[38;5;66;03m# if not all months have nans, need to assess how many years do\u001b[39;00m\n\u001b[0;32m--> 174\u001b[0m         \u001b[38;5;28;01melif\u001b[39;00m monthly_med(df)\u001b[38;5;241m.\u001b[39mloc[\u001b[43mmonthly_med\u001b[49m\u001b[43m(\u001b[49m\u001b[43mdf\u001b[49m\u001b[43m)\u001b[49m[\u001b[38;5;124m'\u001b[39m\u001b[38;5;124mmonth\u001b[39m\u001b[38;5;124m'\u001b[39m] \u001b[38;5;241m==\u001b[39m month][var]\u001b[38;5;241m.\u001b[39misna()\u001b[38;5;241m.\u001b[39msum() \u001b[38;5;241m>\u001b[39m min_num_months:                \n\u001b[1;32m    175\u001b[0m             df[var\u001b[38;5;241m+\u001b[39m\u001b[38;5;124m'\u001b[39m\u001b[38;5;124m_eraqc\u001b[39m\u001b[38;5;124m'\u001b[39m] \u001b[38;5;241m=\u001b[39m \u001b[38;5;241m20\u001b[39m \u001b[38;5;66;03m# see era_qaqc_flag_meanings.csv\u001b[39;00m\n\u001b[1;32m    177\u001b[0m \u001b[38;5;28;01mreturn\u001b[39;00m df\n",
      "File \u001b[0;32m~/ERA_work/PARALLEL/historical-obs-platform/test_platform/scripts/3_qaqc_data/qaqc_unusual_gaps.py:353\u001b[0m, in \u001b[0;36mmonthly_med\u001b[0;34m(df)\u001b[0m\n\u001b[1;32m    351\u001b[0m \u001b[38;5;28;01mdef\u001b[39;00m \u001b[38;5;21mmonthly_med\u001b[39m(df):\n\u001b[1;32m    352\u001b[0m \u001b[38;5;250m    \u001b[39m\u001b[38;5;124;03m\"\"\"Part 1: Calculates the monthly median\"\"\"\u001b[39;00m\n\u001b[0;32m--> 353\u001b[0m     \u001b[38;5;28;01mreturn\u001b[39;00m \u001b[43mdf\u001b[49m\u001b[38;5;241;43m.\u001b[39;49m\u001b[43mresample\u001b[49m\u001b[43m(\u001b[49m\u001b[38;5;124;43m'\u001b[39;49m\u001b[38;5;124;43mM\u001b[39;49m\u001b[38;5;124;43m'\u001b[39;49m\u001b[43m,\u001b[49m\u001b[43m \u001b[49m\u001b[43mon\u001b[49m\u001b[38;5;241;43m=\u001b[39;49m\u001b[38;5;124;43m'\u001b[39;49m\u001b[38;5;124;43mtime\u001b[39;49m\u001b[38;5;124;43m'\u001b[39;49m\u001b[43m)\u001b[49m\u001b[38;5;241;43m.\u001b[39;49m\u001b[43mmedian\u001b[49m\u001b[43m(\u001b[49m\u001b[43mnumeric_only\u001b[49m\u001b[38;5;241;43m=\u001b[39;49m\u001b[38;5;28;43;01mTrue\u001b[39;49;00m\u001b[43m)\u001b[49m\n",
      "File \u001b[0;32m~/anaconda3/envs/era_py39/lib/python3.9/site-packages/pandas/core/resample.py:1101\u001b[0m, in \u001b[0;36m_add_downsample_kernel.<locals>.f\u001b[0;34m(self, numeric_only, *args, **kwargs)\u001b[0m\n\u001b[1;32m   1097\u001b[0m \u001b[38;5;28;01mdef\u001b[39;00m \u001b[38;5;21mf\u001b[39m(  \u001b[38;5;66;03m# type: ignore[misc]\u001b[39;00m\n\u001b[1;32m   1098\u001b[0m     \u001b[38;5;28mself\u001b[39m, numeric_only: \u001b[38;5;28mbool\u001b[39m \u001b[38;5;241m|\u001b[39m lib\u001b[38;5;241m.\u001b[39mNoDefault \u001b[38;5;241m=\u001b[39m lib\u001b[38;5;241m.\u001b[39mno_default, \u001b[38;5;241m*\u001b[39margs, \u001b[38;5;241m*\u001b[39m\u001b[38;5;241m*\u001b[39mkwargs\n\u001b[1;32m   1099\u001b[0m ):\n\u001b[1;32m   1100\u001b[0m     nv\u001b[38;5;241m.\u001b[39mvalidate_resampler_func(name, args, kwargs)\n\u001b[0;32m-> 1101\u001b[0m     \u001b[38;5;28;01mreturn\u001b[39;00m \u001b[38;5;28;43mself\u001b[39;49m\u001b[38;5;241;43m.\u001b[39;49m\u001b[43m_downsample\u001b[49m\u001b[43m(\u001b[49m\u001b[43mname\u001b[49m\u001b[43m,\u001b[49m\u001b[43m \u001b[49m\u001b[43mnumeric_only\u001b[49m\u001b[38;5;241;43m=\u001b[39;49m\u001b[43mnumeric_only\u001b[49m\u001b[43m)\u001b[49m\n",
      "File \u001b[0;32m~/anaconda3/envs/era_py39/lib/python3.9/site-packages/pandas/core/resample.py:1283\u001b[0m, in \u001b[0;36mDatetimeIndexResampler._downsample\u001b[0;34m(self, how, **kwargs)\u001b[0m\n\u001b[1;32m   1279\u001b[0m     \u001b[38;5;28;01mreturn\u001b[39;00m \u001b[38;5;28mself\u001b[39m\u001b[38;5;241m.\u001b[39masfreq()\n\u001b[1;32m   1281\u001b[0m \u001b[38;5;66;03m# we are downsampling\u001b[39;00m\n\u001b[1;32m   1282\u001b[0m \u001b[38;5;66;03m# we want to call the actual grouper method here\u001b[39;00m\n\u001b[0;32m-> 1283\u001b[0m result \u001b[38;5;241m=\u001b[39m \u001b[43mobj\u001b[49m\u001b[38;5;241;43m.\u001b[39;49m\u001b[43mgroupby\u001b[49m\u001b[43m(\u001b[49m\u001b[38;5;28;43mself\u001b[39;49m\u001b[38;5;241;43m.\u001b[39;49m\u001b[43mgrouper\u001b[49m\u001b[43m,\u001b[49m\u001b[43m \u001b[49m\u001b[43maxis\u001b[49m\u001b[38;5;241;43m=\u001b[39;49m\u001b[38;5;28;43mself\u001b[39;49m\u001b[38;5;241;43m.\u001b[39;49m\u001b[43maxis\u001b[49m\u001b[43m)\u001b[49m\u001b[38;5;241;43m.\u001b[39;49m\u001b[43maggregate\u001b[49m\u001b[43m(\u001b[49m\u001b[43mhow\u001b[49m\u001b[43m,\u001b[49m\u001b[43m \u001b[49m\u001b[38;5;241;43m*\u001b[39;49m\u001b[38;5;241;43m*\u001b[39;49m\u001b[43mkwargs\u001b[49m\u001b[43m)\u001b[49m\n\u001b[1;32m   1285\u001b[0m result \u001b[38;5;241m=\u001b[39m \u001b[38;5;28mself\u001b[39m\u001b[38;5;241m.\u001b[39m_apply_loffset(result)\n\u001b[1;32m   1286\u001b[0m \u001b[38;5;28;01mreturn\u001b[39;00m \u001b[38;5;28mself\u001b[39m\u001b[38;5;241m.\u001b[39m_wrap_result(result)\n",
      "File \u001b[0;32m~/anaconda3/envs/era_py39/lib/python3.9/site-packages/pandas/core/groupby/generic.py:890\u001b[0m, in \u001b[0;36mDataFrameGroupBy.aggregate\u001b[0;34m(self, func, engine, engine_kwargs, *args, **kwargs)\u001b[0m\n\u001b[1;32m    887\u001b[0m func \u001b[38;5;241m=\u001b[39m maybe_mangle_lambdas(func)\n\u001b[1;32m    889\u001b[0m op \u001b[38;5;241m=\u001b[39m GroupByApply(\u001b[38;5;28mself\u001b[39m, func, args, kwargs)\n\u001b[0;32m--> 890\u001b[0m result \u001b[38;5;241m=\u001b[39m \u001b[43mop\u001b[49m\u001b[38;5;241;43m.\u001b[39;49m\u001b[43magg\u001b[49m\u001b[43m(\u001b[49m\u001b[43m)\u001b[49m\n\u001b[1;32m    891\u001b[0m \u001b[38;5;28;01mif\u001b[39;00m \u001b[38;5;129;01mnot\u001b[39;00m is_dict_like(func) \u001b[38;5;129;01mand\u001b[39;00m result \u001b[38;5;129;01mis\u001b[39;00m \u001b[38;5;129;01mnot\u001b[39;00m \u001b[38;5;28;01mNone\u001b[39;00m:\n\u001b[1;32m    892\u001b[0m     \u001b[38;5;28;01mreturn\u001b[39;00m result\n",
      "File \u001b[0;32m~/anaconda3/envs/era_py39/lib/python3.9/site-packages/pandas/core/apply.py:166\u001b[0m, in \u001b[0;36mApply.agg\u001b[0;34m(self)\u001b[0m\n\u001b[1;32m    163\u001b[0m kwargs \u001b[38;5;241m=\u001b[39m \u001b[38;5;28mself\u001b[39m\u001b[38;5;241m.\u001b[39mkwargs\n\u001b[1;32m    165\u001b[0m \u001b[38;5;28;01mif\u001b[39;00m \u001b[38;5;28misinstance\u001b[39m(arg, \u001b[38;5;28mstr\u001b[39m):\n\u001b[0;32m--> 166\u001b[0m     \u001b[38;5;28;01mreturn\u001b[39;00m \u001b[38;5;28;43mself\u001b[39;49m\u001b[38;5;241;43m.\u001b[39;49m\u001b[43mapply_str\u001b[49m\u001b[43m(\u001b[49m\u001b[43m)\u001b[49m\n\u001b[1;32m    168\u001b[0m \u001b[38;5;28;01mif\u001b[39;00m is_dict_like(arg):\n\u001b[1;32m    169\u001b[0m     \u001b[38;5;28;01mreturn\u001b[39;00m \u001b[38;5;28mself\u001b[39m\u001b[38;5;241m.\u001b[39magg_dict_like()\n",
      "File \u001b[0;32m~/anaconda3/envs/era_py39/lib/python3.9/site-packages/pandas/core/apply.py:557\u001b[0m, in \u001b[0;36mApply.apply_str\u001b[0;34m(self)\u001b[0m\n\u001b[1;32m    555\u001b[0m     \u001b[38;5;28;01melif\u001b[39;00m \u001b[38;5;28mself\u001b[39m\u001b[38;5;241m.\u001b[39maxis \u001b[38;5;241m!=\u001b[39m \u001b[38;5;241m0\u001b[39m:\n\u001b[1;32m    556\u001b[0m         \u001b[38;5;28;01mraise\u001b[39;00m \u001b[38;5;167;01mValueError\u001b[39;00m(\u001b[38;5;124mf\u001b[39m\u001b[38;5;124m\"\u001b[39m\u001b[38;5;124mOperation \u001b[39m\u001b[38;5;132;01m{\u001b[39;00mf\u001b[38;5;132;01m}\u001b[39;00m\u001b[38;5;124m does not support axis=1\u001b[39m\u001b[38;5;124m\"\u001b[39m)\n\u001b[0;32m--> 557\u001b[0m \u001b[38;5;28;01mreturn\u001b[39;00m \u001b[38;5;28;43mself\u001b[39;49m\u001b[38;5;241;43m.\u001b[39;49m\u001b[43m_try_aggregate_string_function\u001b[49m\u001b[43m(\u001b[49m\u001b[43mobj\u001b[49m\u001b[43m,\u001b[49m\u001b[43m \u001b[49m\u001b[43mf\u001b[49m\u001b[43m,\u001b[49m\u001b[43m \u001b[49m\u001b[38;5;241;43m*\u001b[39;49m\u001b[38;5;28;43mself\u001b[39;49m\u001b[38;5;241;43m.\u001b[39;49m\u001b[43margs\u001b[49m\u001b[43m,\u001b[49m\u001b[43m \u001b[49m\u001b[38;5;241;43m*\u001b[39;49m\u001b[38;5;241;43m*\u001b[39;49m\u001b[38;5;28;43mself\u001b[39;49m\u001b[38;5;241;43m.\u001b[39;49m\u001b[43mkwargs\u001b[49m\u001b[43m)\u001b[49m\n",
      "File \u001b[0;32m~/anaconda3/envs/era_py39/lib/python3.9/site-packages/pandas/core/apply.py:626\u001b[0m, in \u001b[0;36mApply._try_aggregate_string_function\u001b[0;34m(self, obj, arg, *args, **kwargs)\u001b[0m\n\u001b[1;32m    624\u001b[0m \u001b[38;5;28;01mif\u001b[39;00m f \u001b[38;5;129;01mis\u001b[39;00m \u001b[38;5;129;01mnot\u001b[39;00m \u001b[38;5;28;01mNone\u001b[39;00m:\n\u001b[1;32m    625\u001b[0m     \u001b[38;5;28;01mif\u001b[39;00m \u001b[38;5;28mcallable\u001b[39m(f):\n\u001b[0;32m--> 626\u001b[0m         \u001b[38;5;28;01mreturn\u001b[39;00m \u001b[43mf\u001b[49m\u001b[43m(\u001b[49m\u001b[38;5;241;43m*\u001b[39;49m\u001b[43margs\u001b[49m\u001b[43m,\u001b[49m\u001b[43m \u001b[49m\u001b[38;5;241;43m*\u001b[39;49m\u001b[38;5;241;43m*\u001b[39;49m\u001b[43mkwargs\u001b[49m\u001b[43m)\u001b[49m\n\u001b[1;32m    628\u001b[0m     \u001b[38;5;66;03m# people may try to aggregate on a non-callable attribute\u001b[39;00m\n\u001b[1;32m    629\u001b[0m     \u001b[38;5;66;03m# but don't let them think they can pass args to it\u001b[39;00m\n\u001b[1;32m    630\u001b[0m     \u001b[38;5;28;01massert\u001b[39;00m \u001b[38;5;28mlen\u001b[39m(args) \u001b[38;5;241m==\u001b[39m \u001b[38;5;241m0\u001b[39m\n",
      "File \u001b[0;32m~/anaconda3/envs/era_py39/lib/python3.9/site-packages/pandas/core/groupby/groupby.py:2190\u001b[0m, in \u001b[0;36mGroupBy.median\u001b[0;34m(self, numeric_only)\u001b[0m\n\u001b[1;32m   2172\u001b[0m \u001b[38;5;250m\u001b[39m\u001b[38;5;124;03m\"\"\"\u001b[39;00m\n\u001b[1;32m   2173\u001b[0m \u001b[38;5;124;03mCompute median of groups, excluding missing values.\u001b[39;00m\n\u001b[1;32m   2174\u001b[0m \n\u001b[0;32m   (...)\u001b[0m\n\u001b[1;32m   2186\u001b[0m \u001b[38;5;124;03m    Median of values within each group.\u001b[39;00m\n\u001b[1;32m   2187\u001b[0m \u001b[38;5;124;03m\"\"\"\u001b[39;00m\n\u001b[1;32m   2188\u001b[0m numeric_only_bool \u001b[38;5;241m=\u001b[39m \u001b[38;5;28mself\u001b[39m\u001b[38;5;241m.\u001b[39m_resolve_numeric_only(\u001b[38;5;124m\"\u001b[39m\u001b[38;5;124mmedian\u001b[39m\u001b[38;5;124m\"\u001b[39m, numeric_only, axis\u001b[38;5;241m=\u001b[39m\u001b[38;5;241m0\u001b[39m)\n\u001b[0;32m-> 2190\u001b[0m result \u001b[38;5;241m=\u001b[39m \u001b[38;5;28;43mself\u001b[39;49m\u001b[38;5;241;43m.\u001b[39;49m\u001b[43m_cython_agg_general\u001b[49m\u001b[43m(\u001b[49m\n\u001b[1;32m   2191\u001b[0m \u001b[43m    \u001b[49m\u001b[38;5;124;43m\"\u001b[39;49m\u001b[38;5;124;43mmedian\u001b[39;49m\u001b[38;5;124;43m\"\u001b[39;49m\u001b[43m,\u001b[49m\n\u001b[1;32m   2192\u001b[0m \u001b[43m    \u001b[49m\u001b[43malt\u001b[49m\u001b[38;5;241;43m=\u001b[39;49m\u001b[38;5;28;43;01mlambda\u001b[39;49;00m\u001b[43m \u001b[49m\u001b[43mx\u001b[49m\u001b[43m:\u001b[49m\u001b[43m \u001b[49m\u001b[43mSeries\u001b[49m\u001b[43m(\u001b[49m\u001b[43mx\u001b[49m\u001b[43m)\u001b[49m\u001b[38;5;241;43m.\u001b[39;49m\u001b[43mmedian\u001b[49m\u001b[43m(\u001b[49m\u001b[43mnumeric_only\u001b[49m\u001b[38;5;241;43m=\u001b[39;49m\u001b[43mnumeric_only_bool\u001b[49m\u001b[43m)\u001b[49m\u001b[43m,\u001b[49m\n\u001b[1;32m   2193\u001b[0m \u001b[43m    \u001b[49m\u001b[43mnumeric_only\u001b[49m\u001b[38;5;241;43m=\u001b[39;49m\u001b[43mnumeric_only\u001b[49m\u001b[43m,\u001b[49m\n\u001b[1;32m   2194\u001b[0m \u001b[43m\u001b[49m\u001b[43m)\u001b[49m\n\u001b[1;32m   2195\u001b[0m \u001b[38;5;28;01mreturn\u001b[39;00m result\u001b[38;5;241m.\u001b[39m__finalize__(\u001b[38;5;28mself\u001b[39m\u001b[38;5;241m.\u001b[39mobj, method\u001b[38;5;241m=\u001b[39m\u001b[38;5;124m\"\u001b[39m\u001b[38;5;124mgroupby\u001b[39m\u001b[38;5;124m\"\u001b[39m)\n",
      "File \u001b[0;32m~/anaconda3/envs/era_py39/lib/python3.9/site-packages/pandas/core/groupby/groupby.py:1793\u001b[0m, in \u001b[0;36mGroupBy._cython_agg_general\u001b[0;34m(self, how, alt, numeric_only, min_count, ignore_failures, **kwargs)\u001b[0m\n\u001b[1;32m   1789\u001b[0m     \u001b[38;5;28;01mreturn\u001b[39;00m result\n\u001b[1;32m   1791\u001b[0m \u001b[38;5;66;03m# TypeError -> we may have an exception in trying to aggregate\u001b[39;00m\n\u001b[1;32m   1792\u001b[0m \u001b[38;5;66;03m#  continue and exclude the block\u001b[39;00m\n\u001b[0;32m-> 1793\u001b[0m new_mgr \u001b[38;5;241m=\u001b[39m \u001b[43mdata\u001b[49m\u001b[38;5;241;43m.\u001b[39;49m\u001b[43mgrouped_reduce\u001b[49m\u001b[43m(\u001b[49m\u001b[43marray_func\u001b[49m\u001b[43m,\u001b[49m\u001b[43m \u001b[49m\u001b[43mignore_failures\u001b[49m\u001b[38;5;241;43m=\u001b[39;49m\u001b[43mignore_failures\u001b[49m\u001b[43m)\u001b[49m\n\u001b[1;32m   1795\u001b[0m \u001b[38;5;28;01mif\u001b[39;00m \u001b[38;5;129;01mnot\u001b[39;00m is_ser \u001b[38;5;129;01mand\u001b[39;00m \u001b[38;5;28mlen\u001b[39m(new_mgr) \u001b[38;5;241m<\u001b[39m orig_len:\n\u001b[1;32m   1796\u001b[0m     warn_dropping_nuisance_columns_deprecated(\u001b[38;5;28mtype\u001b[39m(\u001b[38;5;28mself\u001b[39m), how, numeric_only)\n",
      "File \u001b[0;32m~/anaconda3/envs/era_py39/lib/python3.9/site-packages/pandas/core/internals/managers.py:1504\u001b[0m, in \u001b[0;36mBlockManager.grouped_reduce\u001b[0;34m(self, func, ignore_failures)\u001b[0m\n\u001b[1;32m   1502\u001b[0m \u001b[38;5;28;01melse\u001b[39;00m:\n\u001b[1;32m   1503\u001b[0m     \u001b[38;5;28;01mtry\u001b[39;00m:\n\u001b[0;32m-> 1504\u001b[0m         applied \u001b[38;5;241m=\u001b[39m \u001b[43mblk\u001b[49m\u001b[38;5;241;43m.\u001b[39;49m\u001b[43mapply\u001b[49m\u001b[43m(\u001b[49m\u001b[43mfunc\u001b[49m\u001b[43m)\u001b[49m\n\u001b[1;32m   1505\u001b[0m     \u001b[38;5;28;01mexcept\u001b[39;00m (\u001b[38;5;167;01mTypeError\u001b[39;00m, \u001b[38;5;167;01mNotImplementedError\u001b[39;00m):\n\u001b[1;32m   1506\u001b[0m         \u001b[38;5;28;01mif\u001b[39;00m \u001b[38;5;129;01mnot\u001b[39;00m ignore_failures:\n",
      "File \u001b[0;32m~/anaconda3/envs/era_py39/lib/python3.9/site-packages/pandas/core/internals/blocks.py:352\u001b[0m, in \u001b[0;36mBlock.apply\u001b[0;34m(self, func, **kwargs)\u001b[0m\n\u001b[1;32m    346\u001b[0m \u001b[38;5;129m@final\u001b[39m\n\u001b[1;32m    347\u001b[0m \u001b[38;5;28;01mdef\u001b[39;00m \u001b[38;5;21mapply\u001b[39m(\u001b[38;5;28mself\u001b[39m, func, \u001b[38;5;241m*\u001b[39m\u001b[38;5;241m*\u001b[39mkwargs) \u001b[38;5;241m-\u001b[39m\u001b[38;5;241m>\u001b[39m \u001b[38;5;28mlist\u001b[39m[Block]:\n\u001b[1;32m    348\u001b[0m \u001b[38;5;250m    \u001b[39m\u001b[38;5;124;03m\"\"\"\u001b[39;00m\n\u001b[1;32m    349\u001b[0m \u001b[38;5;124;03m    apply the function to my values; return a block if we are not\u001b[39;00m\n\u001b[1;32m    350\u001b[0m \u001b[38;5;124;03m    one\u001b[39;00m\n\u001b[1;32m    351\u001b[0m \u001b[38;5;124;03m    \"\"\"\u001b[39;00m\n\u001b[0;32m--> 352\u001b[0m     result \u001b[38;5;241m=\u001b[39m \u001b[43mfunc\u001b[49m\u001b[43m(\u001b[49m\u001b[38;5;28;43mself\u001b[39;49m\u001b[38;5;241;43m.\u001b[39;49m\u001b[43mvalues\u001b[49m\u001b[43m,\u001b[49m\u001b[43m \u001b[49m\u001b[38;5;241;43m*\u001b[39;49m\u001b[38;5;241;43m*\u001b[39;49m\u001b[43mkwargs\u001b[49m\u001b[43m)\u001b[49m\n\u001b[1;32m    354\u001b[0m     \u001b[38;5;28;01mreturn\u001b[39;00m \u001b[38;5;28mself\u001b[39m\u001b[38;5;241m.\u001b[39m_split_op_result(result)\n",
      "File \u001b[0;32m~/anaconda3/envs/era_py39/lib/python3.9/site-packages/pandas/core/groupby/groupby.py:1774\u001b[0m, in \u001b[0;36mGroupBy._cython_agg_general.<locals>.array_func\u001b[0;34m(values)\u001b[0m\n\u001b[1;32m   1772\u001b[0m \u001b[38;5;28;01mdef\u001b[39;00m \u001b[38;5;21marray_func\u001b[39m(values: ArrayLike) \u001b[38;5;241m-\u001b[39m\u001b[38;5;241m>\u001b[39m ArrayLike:\n\u001b[1;32m   1773\u001b[0m     \u001b[38;5;28;01mtry\u001b[39;00m:\n\u001b[0;32m-> 1774\u001b[0m         result \u001b[38;5;241m=\u001b[39m \u001b[38;5;28;43mself\u001b[39;49m\u001b[38;5;241;43m.\u001b[39;49m\u001b[43mgrouper\u001b[49m\u001b[38;5;241;43m.\u001b[39;49m\u001b[43m_cython_operation\u001b[49m\u001b[43m(\u001b[49m\n\u001b[1;32m   1775\u001b[0m \u001b[43m            \u001b[49m\u001b[38;5;124;43m\"\u001b[39;49m\u001b[38;5;124;43maggregate\u001b[39;49m\u001b[38;5;124;43m\"\u001b[39;49m\u001b[43m,\u001b[49m\n\u001b[1;32m   1776\u001b[0m \u001b[43m            \u001b[49m\u001b[43mvalues\u001b[49m\u001b[43m,\u001b[49m\n\u001b[1;32m   1777\u001b[0m \u001b[43m            \u001b[49m\u001b[43mhow\u001b[49m\u001b[43m,\u001b[49m\n\u001b[1;32m   1778\u001b[0m \u001b[43m            \u001b[49m\u001b[43maxis\u001b[49m\u001b[38;5;241;43m=\u001b[39;49m\u001b[43mdata\u001b[49m\u001b[38;5;241;43m.\u001b[39;49m\u001b[43mndim\u001b[49m\u001b[43m \u001b[49m\u001b[38;5;241;43m-\u001b[39;49m\u001b[43m \u001b[49m\u001b[38;5;241;43m1\u001b[39;49m\u001b[43m,\u001b[49m\n\u001b[1;32m   1779\u001b[0m \u001b[43m            \u001b[49m\u001b[43mmin_count\u001b[49m\u001b[38;5;241;43m=\u001b[39;49m\u001b[43mmin_count\u001b[49m\u001b[43m,\u001b[49m\n\u001b[1;32m   1780\u001b[0m \u001b[43m            \u001b[49m\u001b[38;5;241;43m*\u001b[39;49m\u001b[38;5;241;43m*\u001b[39;49m\u001b[43mkwargs\u001b[49m\u001b[43m,\u001b[49m\n\u001b[1;32m   1781\u001b[0m \u001b[43m        \u001b[49m\u001b[43m)\u001b[49m\n\u001b[1;32m   1782\u001b[0m     \u001b[38;5;28;01mexcept\u001b[39;00m \u001b[38;5;167;01mNotImplementedError\u001b[39;00m:\n\u001b[1;32m   1783\u001b[0m         \u001b[38;5;66;03m# generally if we have numeric_only=False\u001b[39;00m\n\u001b[1;32m   1784\u001b[0m         \u001b[38;5;66;03m# and non-applicable functions\u001b[39;00m\n\u001b[1;32m   1785\u001b[0m         \u001b[38;5;66;03m# try to python agg\u001b[39;00m\n\u001b[1;32m   1786\u001b[0m         \u001b[38;5;66;03m# TODO: shouldn't min_count matter?\u001b[39;00m\n\u001b[1;32m   1787\u001b[0m         result \u001b[38;5;241m=\u001b[39m \u001b[38;5;28mself\u001b[39m\u001b[38;5;241m.\u001b[39m_agg_py_fallback(values, ndim\u001b[38;5;241m=\u001b[39mdata\u001b[38;5;241m.\u001b[39mndim, alt\u001b[38;5;241m=\u001b[39malt)\n",
      "File \u001b[0;32m~/anaconda3/envs/era_py39/lib/python3.9/site-packages/pandas/core/groupby/ops.py:1040\u001b[0m, in \u001b[0;36mBaseGrouper._cython_operation\u001b[0;34m(self, kind, values, how, axis, min_count, **kwargs)\u001b[0m\n\u001b[1;32m   1038\u001b[0m ids, _, _ \u001b[38;5;241m=\u001b[39m \u001b[38;5;28mself\u001b[39m\u001b[38;5;241m.\u001b[39mgroup_info\n\u001b[1;32m   1039\u001b[0m ngroups \u001b[38;5;241m=\u001b[39m \u001b[38;5;28mself\u001b[39m\u001b[38;5;241m.\u001b[39mngroups\n\u001b[0;32m-> 1040\u001b[0m \u001b[38;5;28;01mreturn\u001b[39;00m \u001b[43mcy_op\u001b[49m\u001b[38;5;241;43m.\u001b[39;49m\u001b[43mcython_operation\u001b[49m\u001b[43m(\u001b[49m\n\u001b[1;32m   1041\u001b[0m \u001b[43m    \u001b[49m\u001b[43mvalues\u001b[49m\u001b[38;5;241;43m=\u001b[39;49m\u001b[43mvalues\u001b[49m\u001b[43m,\u001b[49m\n\u001b[1;32m   1042\u001b[0m \u001b[43m    \u001b[49m\u001b[43maxis\u001b[49m\u001b[38;5;241;43m=\u001b[39;49m\u001b[43maxis\u001b[49m\u001b[43m,\u001b[49m\n\u001b[1;32m   1043\u001b[0m \u001b[43m    \u001b[49m\u001b[43mmin_count\u001b[49m\u001b[38;5;241;43m=\u001b[39;49m\u001b[43mmin_count\u001b[49m\u001b[43m,\u001b[49m\n\u001b[1;32m   1044\u001b[0m \u001b[43m    \u001b[49m\u001b[43mcomp_ids\u001b[49m\u001b[38;5;241;43m=\u001b[39;49m\u001b[43mids\u001b[49m\u001b[43m,\u001b[49m\n\u001b[1;32m   1045\u001b[0m \u001b[43m    \u001b[49m\u001b[43mngroups\u001b[49m\u001b[38;5;241;43m=\u001b[39;49m\u001b[43mngroups\u001b[49m\u001b[43m,\u001b[49m\n\u001b[1;32m   1046\u001b[0m \u001b[43m    \u001b[49m\u001b[38;5;241;43m*\u001b[39;49m\u001b[38;5;241;43m*\u001b[39;49m\u001b[43mkwargs\u001b[49m\u001b[43m,\u001b[49m\n\u001b[1;32m   1047\u001b[0m \u001b[43m\u001b[49m\u001b[43m)\u001b[49m\n",
      "File \u001b[0;32m~/anaconda3/envs/era_py39/lib/python3.9/site-packages/pandas/core/groupby/ops.py:708\u001b[0m, in \u001b[0;36mWrappedCythonOp.cython_operation\u001b[0;34m(self, values, axis, min_count, comp_ids, ngroups, **kwargs)\u001b[0m\n\u001b[1;32m    698\u001b[0m \u001b[38;5;28;01mif\u001b[39;00m \u001b[38;5;129;01mnot\u001b[39;00m \u001b[38;5;28misinstance\u001b[39m(values, np\u001b[38;5;241m.\u001b[39mndarray):\n\u001b[1;32m    699\u001b[0m     \u001b[38;5;66;03m# i.e. ExtensionArray\u001b[39;00m\n\u001b[1;32m    700\u001b[0m     \u001b[38;5;28;01mreturn\u001b[39;00m \u001b[38;5;28mself\u001b[39m\u001b[38;5;241m.\u001b[39m_ea_wrap_cython_operation(\n\u001b[1;32m    701\u001b[0m         values,\n\u001b[1;32m    702\u001b[0m         min_count\u001b[38;5;241m=\u001b[39mmin_count,\n\u001b[0;32m   (...)\u001b[0m\n\u001b[1;32m    705\u001b[0m         \u001b[38;5;241m*\u001b[39m\u001b[38;5;241m*\u001b[39mkwargs,\n\u001b[1;32m    706\u001b[0m     )\n\u001b[0;32m--> 708\u001b[0m \u001b[38;5;28;01mreturn\u001b[39;00m \u001b[38;5;28;43mself\u001b[39;49m\u001b[38;5;241;43m.\u001b[39;49m\u001b[43m_cython_op_ndim_compat\u001b[49m\u001b[43m(\u001b[49m\n\u001b[1;32m    709\u001b[0m \u001b[43m    \u001b[49m\u001b[43mvalues\u001b[49m\u001b[43m,\u001b[49m\n\u001b[1;32m    710\u001b[0m \u001b[43m    \u001b[49m\u001b[43mmin_count\u001b[49m\u001b[38;5;241;43m=\u001b[39;49m\u001b[43mmin_count\u001b[49m\u001b[43m,\u001b[49m\n\u001b[1;32m    711\u001b[0m \u001b[43m    \u001b[49m\u001b[43mngroups\u001b[49m\u001b[38;5;241;43m=\u001b[39;49m\u001b[43mngroups\u001b[49m\u001b[43m,\u001b[49m\n\u001b[1;32m    712\u001b[0m \u001b[43m    \u001b[49m\u001b[43mcomp_ids\u001b[49m\u001b[38;5;241;43m=\u001b[39;49m\u001b[43mcomp_ids\u001b[49m\u001b[43m,\u001b[49m\n\u001b[1;32m    713\u001b[0m \u001b[43m    \u001b[49m\u001b[43mmask\u001b[49m\u001b[38;5;241;43m=\u001b[39;49m\u001b[38;5;28;43;01mNone\u001b[39;49;00m\u001b[43m,\u001b[49m\n\u001b[1;32m    714\u001b[0m \u001b[43m    \u001b[49m\u001b[38;5;241;43m*\u001b[39;49m\u001b[38;5;241;43m*\u001b[39;49m\u001b[43mkwargs\u001b[49m\u001b[43m,\u001b[49m\n\u001b[1;32m    715\u001b[0m \u001b[43m\u001b[49m\u001b[43m)\u001b[49m\n",
      "File \u001b[0;32m~/anaconda3/envs/era_py39/lib/python3.9/site-packages/pandas/core/groupby/ops.py:527\u001b[0m, in \u001b[0;36mWrappedCythonOp._cython_op_ndim_compat\u001b[0;34m(self, values, min_count, ngroups, comp_ids, mask, result_mask, **kwargs)\u001b[0m\n\u001b[1;32m    524\u001b[0m     \u001b[38;5;66;03m# otherwise we have OHLC\u001b[39;00m\n\u001b[1;32m    525\u001b[0m     \u001b[38;5;28;01mreturn\u001b[39;00m res\u001b[38;5;241m.\u001b[39mT\n\u001b[0;32m--> 527\u001b[0m \u001b[38;5;28;01mreturn\u001b[39;00m \u001b[38;5;28;43mself\u001b[39;49m\u001b[38;5;241;43m.\u001b[39;49m\u001b[43m_call_cython_op\u001b[49m\u001b[43m(\u001b[49m\n\u001b[1;32m    528\u001b[0m \u001b[43m    \u001b[49m\u001b[43mvalues\u001b[49m\u001b[43m,\u001b[49m\n\u001b[1;32m    529\u001b[0m \u001b[43m    \u001b[49m\u001b[43mmin_count\u001b[49m\u001b[38;5;241;43m=\u001b[39;49m\u001b[43mmin_count\u001b[49m\u001b[43m,\u001b[49m\n\u001b[1;32m    530\u001b[0m \u001b[43m    \u001b[49m\u001b[43mngroups\u001b[49m\u001b[38;5;241;43m=\u001b[39;49m\u001b[43mngroups\u001b[49m\u001b[43m,\u001b[49m\n\u001b[1;32m    531\u001b[0m \u001b[43m    \u001b[49m\u001b[43mcomp_ids\u001b[49m\u001b[38;5;241;43m=\u001b[39;49m\u001b[43mcomp_ids\u001b[49m\u001b[43m,\u001b[49m\n\u001b[1;32m    532\u001b[0m \u001b[43m    \u001b[49m\u001b[43mmask\u001b[49m\u001b[38;5;241;43m=\u001b[39;49m\u001b[43mmask\u001b[49m\u001b[43m,\u001b[49m\n\u001b[1;32m    533\u001b[0m \u001b[43m    \u001b[49m\u001b[43mresult_mask\u001b[49m\u001b[38;5;241;43m=\u001b[39;49m\u001b[43mresult_mask\u001b[49m\u001b[43m,\u001b[49m\n\u001b[1;32m    534\u001b[0m \u001b[43m    \u001b[49m\u001b[38;5;241;43m*\u001b[39;49m\u001b[38;5;241;43m*\u001b[39;49m\u001b[43mkwargs\u001b[49m\u001b[43m,\u001b[49m\n\u001b[1;32m    535\u001b[0m \u001b[43m\u001b[49m\u001b[43m)\u001b[49m\n",
      "File \u001b[0;32m~/anaconda3/envs/era_py39/lib/python3.9/site-packages/pandas/core/groupby/ops.py:612\u001b[0m, in \u001b[0;36mWrappedCythonOp._call_cython_op\u001b[0;34m(self, values, min_count, ngroups, comp_ids, mask, result_mask, **kwargs)\u001b[0m\n\u001b[1;32m    602\u001b[0m         func(\n\u001b[1;32m    603\u001b[0m             result,\n\u001b[1;32m    604\u001b[0m             counts,\n\u001b[0;32m   (...)\u001b[0m\n\u001b[1;32m    609\u001b[0m             result_mask\u001b[38;5;241m=\u001b[39mresult_mask,\n\u001b[1;32m    610\u001b[0m         )\n\u001b[1;32m    611\u001b[0m     \u001b[38;5;28;01melse\u001b[39;00m:\n\u001b[0;32m--> 612\u001b[0m         \u001b[43mfunc\u001b[49m\u001b[43m(\u001b[49m\u001b[43mresult\u001b[49m\u001b[43m,\u001b[49m\u001b[43m \u001b[49m\u001b[43mcounts\u001b[49m\u001b[43m,\u001b[49m\u001b[43m \u001b[49m\u001b[43mvalues\u001b[49m\u001b[43m,\u001b[49m\u001b[43m \u001b[49m\u001b[43mcomp_ids\u001b[49m\u001b[43m,\u001b[49m\u001b[43m \u001b[49m\u001b[43mmin_count\u001b[49m\u001b[43m,\u001b[49m\u001b[43m \u001b[49m\u001b[38;5;241;43m*\u001b[39;49m\u001b[38;5;241;43m*\u001b[39;49m\u001b[43mkwargs\u001b[49m\u001b[43m)\u001b[49m\n\u001b[1;32m    613\u001b[0m \u001b[38;5;28;01melse\u001b[39;00m:\n\u001b[1;32m    614\u001b[0m     \u001b[38;5;66;03m# TODO: min_count\u001b[39;00m\n\u001b[1;32m    615\u001b[0m     \u001b[38;5;28;01mif\u001b[39;00m \u001b[38;5;28mself\u001b[39m\u001b[38;5;241m.\u001b[39muses_mask():\n",
      "\u001b[0;31mKeyboardInterrupt\u001b[0m: "
     ]
    }
   ],
   "source": [
    "new_df = qaqc_unusual_gaps(df, plots=True, verbose=True)"
   ]
  },
  {
   "cell_type": "code",
   "execution_count": null,
   "id": "fd9f92e6-914a-4996-a402-6e933842d304",
   "metadata": {},
   "outputs": [],
   "source": []
  }
 ],
 "metadata": {
  "kernelspec": {
   "display_name": "era_py39",
   "language": "python",
   "name": "era_py39"
  },
  "language_info": {
   "codemirror_mode": {
    "name": "ipython",
    "version": 3
   },
   "file_extension": ".py",
   "mimetype": "text/x-python",
   "name": "python",
   "nbconvert_exporter": "python",
   "pygments_lexer": "ipython3",
   "version": "3.9.16"
  },
  "varInspector": {
   "cols": {
    "lenName": 16,
    "lenType": 16,
    "lenVar": 40
   },
   "kernels_config": {
    "python": {
     "delete_cmd_postfix": "",
     "delete_cmd_prefix": "del ",
     "library": "var_list.py",
     "varRefreshCmd": "print(var_dic_list())"
    },
    "r": {
     "delete_cmd_postfix": ") ",
     "delete_cmd_prefix": "rm(",
     "library": "var_list.r",
     "varRefreshCmd": "cat(var_dic_list()) "
    }
   },
   "types_to_exclude": [
    "module",
    "function",
    "builtin_function_or_method",
    "instance",
    "_Feature"
   ],
   "window_display": false
  }
 },
 "nbformat": 4,
 "nbformat_minor": 5
}
