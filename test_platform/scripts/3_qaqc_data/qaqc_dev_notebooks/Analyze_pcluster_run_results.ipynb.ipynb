{
 "cells": [
  {
   "cell_type": "code",
   "execution_count": 10,
   "id": "3bbc5e39-8800-4990-b0db-0e46d1a127e0",
   "metadata": {
    "execution": {
     "iopub.execute_input": "2025-04-08T19:42:56.391973Z",
     "iopub.status.busy": "2025-04-08T19:42:56.391064Z",
     "iopub.status.idle": "2025-04-08T19:42:56.397320Z",
     "shell.execute_reply": "2025-04-08T19:42:56.396138Z",
     "shell.execute_reply.started": "2025-04-08T19:42:56.391920Z"
    }
   },
   "outputs": [],
   "source": [
    "# Import libraries\n",
    "\n",
    "import boto3\n",
    "import numpy as np"
   ]
  },
  {
   "cell_type": "code",
   "execution_count": 2,
   "id": "ccd739b4-8512-47cf-9540-c91cb392f06d",
   "metadata": {
    "execution": {
     "iopub.execute_input": "2025-04-08T19:35:10.873049Z",
     "iopub.status.busy": "2025-04-08T19:35:10.872281Z",
     "iopub.status.idle": "2025-04-08T19:35:11.002488Z",
     "shell.execute_reply": "2025-04-08T19:35:11.002040Z",
     "shell.execute_reply.started": "2025-04-08T19:35:10.873009Z"
    }
   },
   "outputs": [],
   "source": [
    "# Initialize the S3 client\n",
    "s3_client = boto3.client('s3')\n",
    "\n",
    "# Define the bucket name and base directory\n",
    "bucket_name = 'wecc-historical-wx'"
   ]
  },
  {
   "cell_type": "code",
   "execution_count": 11,
   "id": "c72ca629-2b32-4de6-b531-5ce44ae52f88",
   "metadata": {
    "execution": {
     "iopub.execute_input": "2025-04-08T19:43:19.496745Z",
     "iopub.status.busy": "2025-04-08T19:43:19.495719Z",
     "iopub.status.idle": "2025-04-08T19:43:19.504437Z",
     "shell.execute_reply": "2025-04-08T19:43:19.503746Z",
     "shell.execute_reply.started": "2025-04-08T19:43:19.496656Z"
    }
   },
   "outputs": [],
   "source": [
    "# Create dictionary to save cleaned and qaqc'ed file counts\n",
    "processed_files = {}\n",
    "\n",
    "# Read network names from the file\n",
    "file_path = '../networks-input.dat'\n",
    "\n",
    "with open(file_path, 'r') as f:\n",
    "    network_names = [line.strip() for line in f if line.strip()]\n",
    "for network in network_names:\n",
    "    processed_files[network] = []"
   ]
  },
  {
   "cell_type": "code",
   "execution_count": 6,
   "id": "b5f1bb52-4158-4fef-9755-d16fc8a62f4f",
   "metadata": {
    "execution": {
     "iopub.execute_input": "2025-04-08T19:42:19.157254Z",
     "iopub.status.busy": "2025-04-08T19:42:19.156466Z",
     "iopub.status.idle": "2025-04-08T19:42:22.304111Z",
     "shell.execute_reply": "2025-04-08T19:42:22.303662Z",
     "shell.execute_reply.started": "2025-04-08T19:42:19.157199Z"
    }
   },
   "outputs": [
    {
     "name": "stdout",
     "output_type": "stream",
     "text": [
      "Network: ASOSAWOS, .nc files count: 455\n",
      "Network: CAHYDRO, .nc files count: 106\n",
      "Network: CDEC, .nc files count: 8\n",
      "Network: CIMIS, .nc files count: 260\n",
      "Network: CNRFC, .nc files count: 693\n",
      "Network: CRN, .nc files count: 105\n",
      "Network: HNXWFO, .nc files count: 28\n",
      "Network: HOLFUY, .nc files count: 12\n",
      "Network: HPWREN, .nc files count: 36\n",
      "Network: LOXWFO, .nc files count: 55\n",
      "Network: MAP, .nc files count: 138\n",
      "Network: MARITIME, .nc files count: 80\n",
      "Network: MTRWFO, .nc files count: 25\n",
      "Network: NCAWOS, .nc files count: 38\n",
      "Network: NDBC, .nc files count: 79\n",
      "Network: NOS-NWLON, .nc files count: 38\n",
      "Network: NOS-PORTS, .nc files count: 21\n",
      "Network: OtherISD, .nc files count: 463\n",
      "Network: SCAN, .nc files count: 91\n",
      "Network: SGXWFO, .nc files count: 267\n",
      "Network: SHASAVAL, .nc files count: 6\n",
      "Network: SNOTEL, .nc files count: 866\n",
      "Network: VCAPCD, .nc files count: 6\n"
     ]
    }
   ],
   "source": [
    "# Clean base dir\n",
    "base_directory = '2_clean_wx/'\n",
    "\n",
    "# Read network names from the file\n",
    "file_path = '../networks-input.dat'\n",
    "with open(file_path, 'r') as f:\n",
    "    network_names = [line.strip() for line in f if line.strip()]\n",
    "\n",
    "# Iterate over each network and count the .nc files\n",
    "for network in network_names:\n",
    "    prefix = f\"{base_directory}{network}/\"\n",
    "    response = s3_client.list_objects_v2(Bucket=bucket_name, Prefix=prefix)\n",
    "    if 'Contents' in response:\n",
    "        nc_files = [obj['Key'] for obj in response['Contents'] if obj['Key'].endswith('.nc')]\n",
    "        print(f\"Network: {network}, .nc files count: {len(nc_files)}\")\n",
    "        processed_files[network].append(len(nc_files))\n",
    "    else:\n",
    "        print(f\"Network: {network}, No .nc files found.\")"
   ]
  },
  {
   "cell_type": "code",
   "execution_count": 8,
   "id": "1ca916a6-7d55-4eac-be03-43e1758cea47",
   "metadata": {
    "execution": {
     "iopub.execute_input": "2025-04-08T19:42:29.212267Z",
     "iopub.status.busy": "2025-04-08T19:42:29.211932Z",
     "iopub.status.idle": "2025-04-08T19:42:33.041422Z",
     "shell.execute_reply": "2025-04-08T19:42:33.040304Z",
     "shell.execute_reply.started": "2025-04-08T19:42:29.212253Z"
    }
   },
   "outputs": [
    {
     "name": "stdout",
     "output_type": "stream",
     "text": [
      "ASOSAWOS: 452 .zarr folders\n",
      "CAHYDRO: 106 .zarr folders\n",
      "CDEC: 8 .zarr folders\n",
      "CIMIS: 259 .zarr folders\n",
      "CNRFC: 693 .zarr folders\n",
      "CRN: 85 .zarr folders\n",
      "HNXWFO: 13 .zarr folders\n",
      "HOLFUY: 12 .zarr folders\n",
      "HPWREN: 36 .zarr folders\n",
      "LOXWFO: 54 .zarr folders\n",
      "MAP: 138 .zarr folders\n",
      "MARITIME: 80 .zarr folders\n",
      "MTRWFO: 25 .zarr folders\n",
      "NCAWOS: 31 .zarr folders\n",
      "NDBC: 79 .zarr folders\n",
      "NOS-NWLON: 32 .zarr folders\n",
      "NOS-PORTS: 21 .zarr folders\n",
      "OtherISD: 459 .zarr folders\n",
      "SCAN: 86 .zarr folders\n",
      "SGXWFO: 267 .zarr folders\n",
      "SHASAVAL: 6 .zarr folders\n",
      "SNOTEL: 860 .zarr folders\n",
      "VCAPCD: 3 .zarr folders\n"
     ]
    }
   ],
   "source": [
    "# QAQC base dir\n",
    "base_prefix = '3_qaqc_wx/'\n",
    "\n",
    "# Read the 23 network names from your file\n",
    "with open(\"../networks-input.dat\", \"r\") as f:\n",
    "    networks = [line.strip() for line in f if line.strip()]\n",
    "\n",
    "# Count .zarr/ folders for each network\n",
    "for network in networks:\n",
    "    prefix = f\"{base_prefix}{network}/\"\n",
    "    paginator = s3_client.get_paginator(\"list_objects_v2\")\n",
    "\n",
    "    zarr_folders = set()\n",
    "    for page in paginator.paginate(Bucket=bucket_name, Prefix=prefix, Delimiter=\"/\"):\n",
    "        files = [p['Prefix'] for p in page['CommonPrefixes']]\n",
    "        files = [f for f in files if f.endswith(\".zarr/\")]\n",
    "        files = np.unique(files)\n",
    "    print(f\"{network}: {len(files)} .zarr folders\")\n",
    "    processed_files[network].append(len(files))"
   ]
  },
  {
   "cell_type": "markdown",
   "id": "6270dd47-0de8-4816-99c2-33b032b36723",
   "metadata": {},
   "source": [
    "## Result:\n",
    "\n",
    "Display how many files were in the clean folder vs how many there are in the QAQC folder"
   ]
  },
  {
   "cell_type": "code",
   "execution_count": 9,
   "id": "e5542084-5bab-416b-8a5f-a665c7cd1938",
   "metadata": {
    "execution": {
     "iopub.execute_input": "2025-04-08T19:42:36.292902Z",
     "iopub.status.busy": "2025-04-08T19:42:36.292163Z",
     "iopub.status.idle": "2025-04-08T19:42:36.309175Z",
     "shell.execute_reply": "2025-04-08T19:42:36.308753Z",
     "shell.execute_reply.started": "2025-04-08T19:42:36.292852Z"
    }
   },
   "outputs": [
    {
     "data": {
      "text/plain": [
       "{'ASOSAWOS': [455, 452],\n",
       " 'CAHYDRO': [106, 106],\n",
       " 'CDEC': [8, 8],\n",
       " 'CIMIS': [260, 259],\n",
       " 'CNRFC': [693, 693],\n",
       " 'CRN': [105, 85],\n",
       " 'HNXWFO': [28, 13],\n",
       " 'HOLFUY': [12, 12],\n",
       " 'HPWREN': [36, 36],\n",
       " 'LOXWFO': [55, 54],\n",
       " 'MAP': [138, 138],\n",
       " 'MARITIME': [80, 80],\n",
       " 'MTRWFO': [25, 25],\n",
       " 'NCAWOS': [38, 31],\n",
       " 'NDBC': [79, 79],\n",
       " 'NOS-NWLON': [38, 32],\n",
       " 'NOS-PORTS': [21, 21],\n",
       " 'OtherISD': [463, 459],\n",
       " 'SCAN': [91, 86],\n",
       " 'SGXWFO': [267, 267],\n",
       " 'SHASAVAL': [6, 6],\n",
       " 'SNOTEL': [866, 860],\n",
       " 'VCAPCD': [6, 3]}"
      ]
     },
     "execution_count": 9,
     "metadata": {},
     "output_type": "execute_result"
    }
   ],
   "source": [
    "processed_files"
   ]
  }
 ],
 "metadata": {
  "kernelspec": {
   "display_name": "hist-obs",
   "language": "python",
   "name": "hist-obs"
  },
  "language_info": {
   "codemirror_mode": {
    "name": "ipython",
    "version": 3
   },
   "file_extension": ".py",
   "mimetype": "text/x-python",
   "name": "python",
   "nbconvert_exporter": "python",
   "pygments_lexer": "ipython3",
   "version": "3.9.18"
  }
 },
 "nbformat": 4,
 "nbformat_minor": 5
}
