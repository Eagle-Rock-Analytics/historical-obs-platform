{
 "cells": [
  {
   "cell_type": "code",
   "execution_count": 1,
   "id": "3bbc5e39-8800-4990-b0db-0e46d1a127e0",
   "metadata": {
    "execution": {
     "iopub.execute_input": "2025-04-08T20:05:26.862755Z",
     "iopub.status.busy": "2025-04-08T20:05:26.862566Z",
     "iopub.status.idle": "2025-04-08T20:05:27.233981Z",
     "shell.execute_reply": "2025-04-08T20:05:27.233696Z",
     "shell.execute_reply.started": "2025-04-08T20:05:26.862740Z"
    }
   },
   "outputs": [],
   "source": [
    "# Import libraries\n",
    "\n",
    "import boto3\n",
    "import numpy as np\n",
    "import pandas as pd\n",
    "import re\n",
    "import glob"
   ]
  },
  {
   "cell_type": "code",
   "execution_count": 2,
   "id": "ccd739b4-8512-47cf-9540-c91cb392f06d",
   "metadata": {
    "execution": {
     "iopub.execute_input": "2025-04-08T20:05:27.234507Z",
     "iopub.status.busy": "2025-04-08T20:05:27.234366Z",
     "iopub.status.idle": "2025-04-08T20:05:27.339142Z",
     "shell.execute_reply": "2025-04-08T20:05:27.338844Z",
     "shell.execute_reply.started": "2025-04-08T20:05:27.234496Z"
    }
   },
   "outputs": [],
   "source": [
    "# Initialize the S3 client\n",
    "s3_client = boto3.client(\"s3\")\n",
    "\n",
    "# Define the bucket name and base directory\n",
    "bucket_name = \"wecc-historical-wx\""
   ]
  },
  {
   "cell_type": "code",
   "execution_count": 3,
   "id": "c72ca629-2b32-4de6-b531-5ce44ae52f88",
   "metadata": {
    "execution": {
     "iopub.execute_input": "2025-04-08T20:05:27.339756Z",
     "iopub.status.busy": "2025-04-08T20:05:27.339658Z",
     "iopub.status.idle": "2025-04-08T20:05:27.342523Z",
     "shell.execute_reply": "2025-04-08T20:05:27.342211Z",
     "shell.execute_reply.started": "2025-04-08T20:05:27.339746Z"
    }
   },
   "outputs": [],
   "source": [
    "# Create dictionary to save cleaned and qaqc'ed file counts\n",
    "processed_files = {}\n",
    "\n",
    "# Read network names from the file\n",
    "file_path = \"../networks-input.dat\"\n",
    "\n",
    "with open(file_path, \"r\") as f:\n",
    "    network_names = [line.strip() for line in f if line.strip()]\n",
    "for network in network_names:\n",
    "    processed_files[network] = []"
   ]
  },
  {
   "cell_type": "code",
   "execution_count": 4,
   "id": "b5f1bb52-4158-4fef-9755-d16fc8a62f4f",
   "metadata": {
    "execution": {
     "iopub.execute_input": "2025-04-08T20:05:27.343032Z",
     "iopub.status.busy": "2025-04-08T20:05:27.342946Z",
     "iopub.status.idle": "2025-04-08T20:05:30.584420Z",
     "shell.execute_reply": "2025-04-08T20:05:30.583853Z",
     "shell.execute_reply.started": "2025-04-08T20:05:27.343021Z"
    }
   },
   "outputs": [
    {
     "name": "stdout",
     "output_type": "stream",
     "text": [
      "Network: ASOSAWOS, .nc files count: 455\n",
      "Network: CAHYDRO, .nc files count: 106\n",
      "Network: CDEC, .nc files count: 8\n",
      "Network: CIMIS, .nc files count: 260\n",
      "Network: CNRFC, .nc files count: 693\n",
      "Network: CRN, .nc files count: 105\n",
      "Network: HNXWFO, .nc files count: 28\n",
      "Network: HOLFUY, .nc files count: 12\n",
      "Network: HPWREN, .nc files count: 36\n",
      "Network: LOXWFO, .nc files count: 55\n",
      "Network: MAP, .nc files count: 138\n",
      "Network: MARITIME, .nc files count: 80\n",
      "Network: MTRWFO, .nc files count: 25\n",
      "Network: NCAWOS, .nc files count: 38\n",
      "Network: NDBC, .nc files count: 79\n",
      "Network: NOS-NWLON, .nc files count: 38\n",
      "Network: NOS-PORTS, .nc files count: 21\n",
      "Network: OtherISD, .nc files count: 463\n",
      "Network: SCAN, .nc files count: 91\n",
      "Network: SGXWFO, .nc files count: 267\n",
      "Network: SHASAVAL, .nc files count: 6\n",
      "Network: SNOTEL, .nc files count: 866\n",
      "Network: VCAPCD, .nc files count: 6\n"
     ]
    }
   ],
   "source": [
    "# Clean base dir\n",
    "base_directory = \"2_clean_wx/\"\n",
    "\n",
    "# Read network names from the file\n",
    "file_path = \"../networks-input.dat\"\n",
    "with open(file_path, \"r\") as f:\n",
    "    network_names = [line.strip() for line in f if line.strip()]\n",
    "\n",
    "# Iterate over each network and count the .nc files\n",
    "for network in network_names:\n",
    "    prefix = f\"{base_directory}{network}/\"\n",
    "    response = s3_client.list_objects_v2(Bucket=bucket_name, Prefix=prefix)\n",
    "    if \"Contents\" in response:\n",
    "        nc_files = [\n",
    "            obj[\"Key\"] for obj in response[\"Contents\"] if obj[\"Key\"].endswith(\".nc\")\n",
    "        ]\n",
    "        print(f\"Network: {network}, .nc files count: {len(nc_files)}\")\n",
    "        processed_files[network].append(len(nc_files))\n",
    "    else:\n",
    "        print(f\"Network: {network}, No .nc files found.\")"
   ]
  },
  {
   "cell_type": "code",
   "execution_count": 5,
   "id": "1ca916a6-7d55-4eac-be03-43e1758cea47",
   "metadata": {
    "execution": {
     "iopub.execute_input": "2025-04-08T20:05:30.585543Z",
     "iopub.status.busy": "2025-04-08T20:05:30.585331Z",
     "iopub.status.idle": "2025-04-08T20:05:33.840934Z",
     "shell.execute_reply": "2025-04-08T20:05:33.839799Z",
     "shell.execute_reply.started": "2025-04-08T20:05:30.585518Z"
    }
   },
   "outputs": [
    {
     "name": "stdout",
     "output_type": "stream",
     "text": [
      "ASOSAWOS: 452 .zarr folders\n",
      "CAHYDRO: 106 .zarr folders\n",
      "CDEC: 8 .zarr folders\n",
      "CIMIS: 259 .zarr folders\n",
      "CNRFC: 693 .zarr folders\n",
      "CRN: 85 .zarr folders\n",
      "HNXWFO: 13 .zarr folders\n",
      "HOLFUY: 12 .zarr folders\n",
      "HPWREN: 36 .zarr folders\n",
      "LOXWFO: 54 .zarr folders\n",
      "MAP: 138 .zarr folders\n",
      "MARITIME: 80 .zarr folders\n",
      "MTRWFO: 25 .zarr folders\n",
      "NCAWOS: 31 .zarr folders\n",
      "NDBC: 79 .zarr folders\n",
      "NOS-NWLON: 32 .zarr folders\n",
      "NOS-PORTS: 21 .zarr folders\n",
      "OtherISD: 459 .zarr folders\n",
      "SCAN: 86 .zarr folders\n",
      "SGXWFO: 267 .zarr folders\n",
      "SHASAVAL: 6 .zarr folders\n",
      "SNOTEL: 860 .zarr folders\n",
      "VCAPCD: 3 .zarr folders\n"
     ]
    }
   ],
   "source": [
    "# QAQC base dir\n",
    "base_prefix = \"3_qaqc_wx/\"\n",
    "\n",
    "# Read the 23 network names from your file\n",
    "with open(\"../networks-input.dat\", \"r\") as f:\n",
    "    networks = [line.strip() for line in f if line.strip()]\n",
    "\n",
    "# Count .zarr/ folders for each network\n",
    "for network in networks:\n",
    "    prefix = f\"{base_prefix}{network}/\"\n",
    "    paginator = s3_client.get_paginator(\"list_objects_v2\")\n",
    "\n",
    "    zarr_folders = set()\n",
    "    for page in paginator.paginate(Bucket=bucket_name, Prefix=prefix, Delimiter=\"/\"):\n",
    "        files = [p[\"Prefix\"] for p in page[\"CommonPrefixes\"]]\n",
    "        files = [f for f in files if f.endswith(\".zarr/\")]\n",
    "        files = np.unique(files)\n",
    "    print(f\"{network}: {len(files)} .zarr folders\")\n",
    "    processed_files[network].append(len(files))"
   ]
  },
  {
   "cell_type": "markdown",
   "id": "6270dd47-0de8-4816-99c2-33b032b36723",
   "metadata": {},
   "source": [
    "## Result:\n",
    "\n",
    "Display how many files were in the clean folder vs how many there are in the QAQC folder"
   ]
  },
  {
   "cell_type": "code",
   "execution_count": 6,
   "id": "e5542084-5bab-416b-8a5f-a665c7cd1938",
   "metadata": {
    "execution": {
     "iopub.execute_input": "2025-04-08T20:05:33.845578Z",
     "iopub.status.busy": "2025-04-08T20:05:33.845027Z",
     "iopub.status.idle": "2025-04-08T20:05:33.860613Z",
     "shell.execute_reply": "2025-04-08T20:05:33.859662Z",
     "shell.execute_reply.started": "2025-04-08T20:05:33.845533Z"
    }
   },
   "outputs": [
    {
     "data": {
      "text/plain": [
       "{'ASOSAWOS': [455, 452],\n",
       " 'CAHYDRO': [106, 106],\n",
       " 'CDEC': [8, 8],\n",
       " 'CIMIS': [260, 259],\n",
       " 'CNRFC': [693, 693],\n",
       " 'CRN': [105, 85],\n",
       " 'HNXWFO': [28, 13],\n",
       " 'HOLFUY': [12, 12],\n",
       " 'HPWREN': [36, 36],\n",
       " 'LOXWFO': [55, 54],\n",
       " 'MAP': [138, 138],\n",
       " 'MARITIME': [80, 80],\n",
       " 'MTRWFO': [25, 25],\n",
       " 'NCAWOS': [38, 31],\n",
       " 'NDBC': [79, 79],\n",
       " 'NOS-NWLON': [38, 32],\n",
       " 'NOS-PORTS': [21, 21],\n",
       " 'OtherISD': [463, 459],\n",
       " 'SCAN': [91, 86],\n",
       " 'SGXWFO': [267, 267],\n",
       " 'SHASAVAL': [6, 6],\n",
       " 'SNOTEL': [866, 860],\n",
       " 'VCAPCD': [6, 3]}"
      ]
     },
     "execution_count": 6,
     "metadata": {},
     "output_type": "execute_result"
    }
   ],
   "source": [
    "processed_files"
   ]
  },
  {
   "cell_type": "code",
   "execution_count": null,
   "id": "100863fb-614e-48c6-b00a-71db3f9adbf5",
   "metadata": {},
   "outputs": [],
   "source": []
  },
  {
   "cell_type": "code",
   "execution_count": 13,
   "id": "dd7bc093-649b-477a-be32-d3ef7f674e9c",
   "metadata": {
    "execution": {
     "iopub.execute_input": "2025-04-08T20:06:53.325063Z",
     "iopub.status.busy": "2025-04-08T20:06:53.324304Z",
     "iopub.status.idle": "2025-04-08T20:06:53.343069Z",
     "shell.execute_reply": "2025-04-08T20:06:53.342199Z",
     "shell.execute_reply.started": "2025-04-08T20:06:53.325017Z"
    }
   },
   "outputs": [],
   "source": [
    "# Collect all files matching the pattern\n",
    "files = glob.glob(\"../hist-obs_*_output.txt\")\n",
    "\n",
    "data = []\n",
    "\n",
    "# Regular expressions\n",
    "stations_re = re.compile(r\"Running a sample of (\\d+) files\")\n",
    "network_re = re.compile(r\"Network:\\s+([^\\n\\r]+)\")\n",
    "time_re = re.compile(r\"Job completed in (\\d+) seconds\")\n",
    "\n",
    "for filename in files:\n",
    "    with open(filename, \"r\") as f:\n",
    "        content = f.read()\n",
    "\n",
    "        stations_match = stations_re.search(content)\n",
    "        network_match = network_re.search(content)\n",
    "        time_match = time_re.search(content)\n",
    "\n",
    "        if stations_match and network_match and time_match:\n",
    "            stations = int(stations_match.group(1))\n",
    "            network_name = network_match.group(1).strip()\n",
    "            seconds = int(time_match.group(1))\n",
    "            minutes = seconds / 60\n",
    "        elif stations_match is None:\n",
    "            stations = np.nan\n",
    "\n",
    "        data.append((network_name, stations, seconds, minutes))"
   ]
  },
  {
   "cell_type": "code",
   "execution_count": 14,
   "id": "9fcd6f72-a1af-4fae-b921-9b6e98c40360",
   "metadata": {
    "execution": {
     "iopub.execute_input": "2025-04-08T20:06:53.853588Z",
     "iopub.status.busy": "2025-04-08T20:06:53.852928Z",
     "iopub.status.idle": "2025-04-08T20:06:53.871636Z",
     "shell.execute_reply": "2025-04-08T20:06:53.870770Z",
     "shell.execute_reply.started": "2025-04-08T20:06:53.853553Z"
    }
   },
   "outputs": [
    {
     "name": "stdout",
     "output_type": "stream",
     "text": [
      "      Network  Number of stations  Elapsed time seconds  Elapsed time minutes\n",
      "0      MTRWFO                25.0                   191              3.183333\n",
      "1      HOLFUY                12.0                   184              3.066667\n",
      "2       CNRFC               693.0                   630             10.500000\n",
      "3   NOS-NWLON                38.0                   770             12.833333\n",
      "4    SHASAVAL                 6.0                   172              2.866667\n",
      "5         MAP               138.0                  1082             18.033333\n",
      "6     CAHYDRO               106.0                   403              6.716667\n",
      "7        SCAN                91.0                   167              2.783333\n",
      "8        SCAN                 NaN                   167              2.783333\n",
      "9      NCAWOS                37.0                   715             11.916667\n",
      "10     NCAWOS                 NaN                   715             11.916667\n",
      "11     HPWREN                36.0                  1981             33.016667\n",
      "12     HPWREN                 NaN                  1981             33.016667\n",
      "13  NOS-PORTS                21.0                   581              9.683333\n",
      "14     SGXWFO               267.0                  2241             37.350000\n",
      "15   ASOSAWOS               455.0                  3533             58.883333\n",
      "16   MARITIME                80.0                   631             10.516667\n",
      "17   OtherISD               462.0                  1749             29.150000\n",
      "18     SNOTEL               866.0                  1200             20.000000\n",
      "19       NDBC                79.0                   530              8.833333\n",
      "20       NDBC                 NaN                   530              8.833333\n",
      "21       NDBC                 NaN                   530              8.833333\n",
      "22       CDEC                 8.0                   498              8.300000\n"
     ]
    }
   ],
   "source": [
    "# Create DataFrame\n",
    "df = pd.DataFrame(\n",
    "    data,\n",
    "    columns=[\n",
    "        \"Network\",\n",
    "        \"Number of stations\",\n",
    "        \"Elapsed time seconds\",\n",
    "        \"Elapsed time minutes\",\n",
    "    ],\n",
    ")\n",
    "# df.set_index(\"Network\", inplace=True)\n",
    "\n",
    "print(df)"
   ]
  },
  {
   "cell_type": "code",
   "execution_count": null,
   "id": "4d49b90d-4fc1-4333-82f9-b62483a4307e",
   "metadata": {},
   "outputs": [],
   "source": []
  }
 ],
 "metadata": {
  "kernelspec": {
   "display_name": "hist-obs",
   "language": "python",
   "name": "hist-obs"
  },
  "language_info": {
   "codemirror_mode": {
    "name": "ipython",
    "version": 3
   },
   "file_extension": ".py",
   "mimetype": "text/x-python",
   "name": "python",
   "nbconvert_exporter": "python",
   "pygments_lexer": "ipython3",
   "version": "3.9.18"
  }
 },
 "nbformat": 4,
 "nbformat_minor": 5
}
