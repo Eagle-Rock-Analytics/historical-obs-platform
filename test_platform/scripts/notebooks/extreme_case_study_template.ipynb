{
 "cells": [
  {
   "cell_type": "markdown",
   "id": "599c058e-f4c9-45e8-b286-1ef639f32229",
   "metadata": {},
   "source": [
    "### Extreme Event Case Study: EVENT\n",
    "\n",
    "Provide 2-3 sentences on the HDP purpose (victoria to provide)\n",
    "\n",
    "Provide 2-3 sentences on historical context of the event"
   ]
  },
  {
   "cell_type": "code",
   "execution_count": null,
   "id": "acd46770-e4e5-495a-ad66-6c35e0ae4695",
   "metadata": {},
   "outputs": [],
   "source": [
    "# imports"
   ]
  },
  {
   "cell_type": "code",
   "execution_count": null,
   "id": "6faeb185-fa4f-4b62-871b-79c4e5ea08c9",
   "metadata": {},
   "outputs": [],
   "source": [
    "# using google doc for event\n",
    "# subset all stations for time dates, probably within a 2 week window on either side\n",
    "# depending on the event, susbet for specific variables (ask Victoria)"
   ]
  },
  {
   "cell_type": "code",
   "execution_count": null,
   "id": "75a9627d-3d27-47f5-98e6-adb0f0bf52f9",
   "metadata": {},
   "outputs": [],
   "source": [
    "# produce simple timeseries plots of variable over the event\n",
    "# include QC flags\n",
    "# if possible, add shaded bars or something (look at old code) to indicate the event itself"
   ]
  },
  {
   "cell_type": "code",
   "execution_count": null,
   "id": "8a0bc7e8-b921-4de1-a0d0-3d45118416dc",
   "metadata": {},
   "outputs": [],
   "source": [
    "# some kind of map"
   ]
  },
  {
   "cell_type": "code",
   "execution_count": null,
   "id": "c630ec00-ed0e-480a-a0cc-7212977d5204",
   "metadata": {},
   "outputs": [],
   "source": [
    "# table / stats \"read out\" on extremes during the event"
   ]
  },
  {
   "cell_type": "code",
   "execution_count": null,
   "id": "21fa9533-dd35-4de3-821c-4270d08587ec",
   "metadata": {},
   "outputs": [],
   "source": [
    "# table / stats \"read out\" on QC flags, including if we think refinement to QC tests would improve coverage"
   ]
  },
  {
   "cell_type": "code",
   "execution_count": null,
   "id": "e6977bc1-3175-4924-89a4-7498febadb5a",
   "metadata": {},
   "outputs": [],
   "source": [
    "# some function/thing in terms of how many stations \"detected\" the event"
   ]
  },
  {
   "cell_type": "code",
   "execution_count": null,
   "id": "698f2990-6ac5-468f-a659-77ecb06eed23",
   "metadata": {},
   "outputs": [],
   "source": [
    "# summary information via markdown close out of what we have learned"
   ]
  }
 ],
 "metadata": {
  "kernelspec": {
   "display_name": "Python 3 (ipykernel)",
   "language": "python",
   "name": "python3"
  },
  "language_info": {
   "codemirror_mode": {
    "name": "ipython",
    "version": 3
   },
   "file_extension": ".py",
   "mimetype": "text/x-python",
   "name": "python",
   "nbconvert_exporter": "python",
   "pygments_lexer": "ipython3",
   "version": "3.10.13"
  }
 },
 "nbformat": 4,
 "nbformat_minor": 5
}
