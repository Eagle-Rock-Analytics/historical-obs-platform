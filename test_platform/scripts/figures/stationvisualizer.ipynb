{
 "cells": [
  {
   "cell_type": "markdown",
   "id": "dce162d6",
   "metadata": {},
   "source": [
    "# Station Visualizer"
   ]
  },
  {
   "cell_type": "markdown",
   "id": "305b61f8",
   "metadata": {},
   "source": [
    "This notebook generates a station map and a chart showing station distribution over time, for a given stage (raw, clean, QAQC, merge). Note that this reflects the information provided in station lists, and not actual station data availability (i.e., this figure should be re-made following the cleaning stage to reflect dropped stations and the actual temporal availability of data). "
   ]
  },
  {
   "cell_type": "code",
   "execution_count": null,
   "id": "3e80ed1d",
   "metadata": {},
   "outputs": [],
   "source": [
    "import time\n",
    "import boto3\n",
    "import numpy as np\n",
    "import pandas as pd\n",
    "import xarray as xr\n",
    "\n",
    "# Set AWS credentials\n",
    "s3 = boto3.resource(\"s3\")\n",
    "s3_cl = boto3.client(\"s3\")  # for lower-level processes\n",
    "\n",
    "# Set relative paths to other folders and objects in repository.\n",
    "BUCKET_NAME = \"wecc-historical-wx\"\n",
    "RAW_DIR = \"1_raw_wx\"\n",
    "CLEAN_DIR = \"2_clean_wx\"\n",
    "QAQC_DIR = \"3_qaqc_wx\"\n",
    "MERGE_DIR = \"4_merge_wx\""
   ]
  },
  {
   "cell_type": "code",
   "execution_count": 14,
   "id": "2cc6d3c0",
   "metadata": {},
   "outputs": [],
   "source": [
    "station_list = pd.read_csv(\n",
    "    f\"s3://{BUCKET_NAME}/{RAW_DIR}/all_network_stationlist_pull.csv\"\n",
    ")"
   ]
  },
  {
   "cell_type": "code",
   "execution_count": 15,
   "id": "f8fe627a",
   "metadata": {},
   "outputs": [
    {
     "data": {
      "text/html": [
       "<div>\n",
       "<style scoped>\n",
       "    .dataframe tbody tr th:only-of-type {\n",
       "        vertical-align: middle;\n",
       "    }\n",
       "\n",
       "    .dataframe tbody tr th {\n",
       "        vertical-align: top;\n",
       "    }\n",
       "\n",
       "    .dataframe thead th {\n",
       "        text-align: right;\n",
       "    }\n",
       "</style>\n",
       "<table border=\"1\" class=\"dataframe\">\n",
       "  <thead>\n",
       "    <tr style=\"text-align: right;\">\n",
       "      <th></th>\n",
       "      <th>Unnamed: 0</th>\n",
       "      <th>name</th>\n",
       "      <th>latitude</th>\n",
       "      <th>longitude</th>\n",
       "      <th>elevation</th>\n",
       "      <th>start-date</th>\n",
       "      <th>end-date</th>\n",
       "      <th>pulled</th>\n",
       "      <th>time_checked</th>\n",
       "      <th>network</th>\n",
       "    </tr>\n",
       "  </thead>\n",
       "  <tbody>\n",
       "    <tr>\n",
       "      <th>0</th>\n",
       "      <td>0</td>\n",
       "      <td>BOISE AIR TERMINAL/GOWEN FD AIRPORT</td>\n",
       "      <td>43.567</td>\n",
       "      <td>-116.241</td>\n",
       "      <td>860.5</td>\n",
       "      <td>1931-01-01 00:00:00+00:00</td>\n",
       "      <td>2023-03-22 00:00:00+00:00</td>\n",
       "      <td>Y</td>\n",
       "      <td>2023-03-23 21:42:22+00:00</td>\n",
       "      <td>ASOSAWOS</td>\n",
       "    </tr>\n",
       "  </tbody>\n",
       "</table>\n",
       "</div>"
      ],
      "text/plain": [
       "   Unnamed: 0                                 name  latitude  longitude  \\\n",
       "0           0  BOISE AIR TERMINAL/GOWEN FD AIRPORT    43.567   -116.241   \n",
       "\n",
       "   elevation                 start-date                   end-date pulled  \\\n",
       "0      860.5  1931-01-01 00:00:00+00:00  2023-03-22 00:00:00+00:00      Y   \n",
       "\n",
       "                time_checked   network  \n",
       "0  2023-03-23 21:42:22+00:00  ASOSAWOS  "
      ]
     },
     "execution_count": 15,
     "metadata": {},
     "output_type": "execute_result"
    }
   ],
   "source": [
    "station_list.head(1)"
   ]
  },
  {
   "cell_type": "code",
   "execution_count": 5,
   "id": "40001ef5",
   "metadata": {},
   "outputs": [
    {
     "data": {
      "text/plain": [
       "0        1931-01-01 00:00:00+00:00\n",
       "1        2006-01-01 00:00:00+00:00\n",
       "2        2006-01-01 00:00:00+00:00\n",
       "3        2006-01-01 00:00:00+00:00\n",
       "4        2006-01-01 00:00:00+00:00\n",
       "                   ...            \n",
       "15875    2010-05-27 00:00:00+00:00\n",
       "15876    2010-05-27 00:00:00+00:00\n",
       "15877    2010-05-27 00:00:00+00:00\n",
       "15878    2010-05-27 00:00:00+00:00\n",
       "15879    2012-10-04 00:00:00+00:00\n",
       "Name: start-date, Length: 15880, dtype: object"
      ]
     },
     "execution_count": 5,
     "metadata": {},
     "output_type": "execute_result"
    }
   ],
   "source": [
    "station_list['start-date']"
   ]
  },
  {
   "cell_type": "code",
   "execution_count": 6,
   "id": "5b7d299f",
   "metadata": {},
   "outputs": [],
   "source": [
    "station_list[\"start-date\"] = pd.to_datetime(station_list[\"start-date\"], utc=True)\n",
    "station_list[\"end-date\"] = pd.to_datetime(station_list[\"end-date\"], utc=True)"
   ]
  },
  {
   "cell_type": "code",
   "execution_count": 7,
   "id": "2b5636f7",
   "metadata": {},
   "outputs": [
    {
     "data": {
      "text/plain": [
       "0       1931-01-01 00:00:00+00:00\n",
       "1       2006-01-01 00:00:00+00:00\n",
       "2       2006-01-01 00:00:00+00:00\n",
       "3       2006-01-01 00:00:00+00:00\n",
       "4       2006-01-01 00:00:00+00:00\n",
       "                   ...           \n",
       "15875   2010-05-27 00:00:00+00:00\n",
       "15876   2010-05-27 00:00:00+00:00\n",
       "15877   2010-05-27 00:00:00+00:00\n",
       "15878   2010-05-27 00:00:00+00:00\n",
       "15879   2012-10-04 00:00:00+00:00\n",
       "Name: start-date, Length: 15880, dtype: datetime64[ns, UTC]"
      ]
     },
     "execution_count": 7,
     "metadata": {},
     "output_type": "execute_result"
    }
   ],
   "source": [
    "station_list[\"start-date\"]"
   ]
  },
  {
   "cell_type": "code",
   "execution_count": 8,
   "id": "3a6876bf",
   "metadata": {},
   "outputs": [],
   "source": [
    "subdf = station_list.loc[~station_list[\"start-date\"].isnull()].copy()"
   ]
  },
  {
   "cell_type": "code",
   "execution_count": 9,
   "id": "349f1553",
   "metadata": {},
   "outputs": [
    {
     "data": {
      "text/plain": [
       "15410"
      ]
     },
     "execution_count": 9,
     "metadata": {},
     "output_type": "execute_result"
    }
   ],
   "source": [
    "len(subdf)"
   ]
  },
  {
   "cell_type": "code",
   "execution_count": 10,
   "id": "d30d6378",
   "metadata": {},
   "outputs": [
    {
     "data": {
      "text/plain": [
       "15880"
      ]
     },
     "execution_count": 10,
     "metadata": {},
     "output_type": "execute_result"
    }
   ],
   "source": [
    "len(station_list)"
   ]
  },
  {
   "cell_type": "code",
   "execution_count": 12,
   "id": "7e240f67",
   "metadata": {},
   "outputs": [],
   "source": [
    "## Filter out non-downloaded rows\n",
    "subdf = subdf.loc[subdf[\"pulled\"] != \"N\"].copy()"
   ]
  },
  {
   "cell_type": "code",
   "execution_count": 13,
   "id": "712fb5a1",
   "metadata": {},
   "outputs": [
    {
     "data": {
      "text/plain": [
       "15394"
      ]
     },
     "execution_count": 13,
     "metadata": {},
     "output_type": "execute_result"
    }
   ],
   "source": [
    "len(subdf)"
   ]
  }
 ],
 "metadata": {
  "kernelspec": {
   "display_name": "hist-obs",
   "language": "python",
   "name": "python3"
  },
  "language_info": {
   "codemirror_mode": {
    "name": "ipython",
    "version": 3
   },
   "file_extension": ".py",
   "mimetype": "text/x-python",
   "name": "python",
   "nbconvert_exporter": "python",
   "pygments_lexer": "ipython3",
   "version": "3.10.13"
  }
 },
 "nbformat": 4,
 "nbformat_minor": 5
}
