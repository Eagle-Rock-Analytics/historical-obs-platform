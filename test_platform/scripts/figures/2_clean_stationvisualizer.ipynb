{
 "cells": [
  {
   "cell_type": "markdown",
   "id": "c5ae4fa7",
   "metadata": {},
   "source": [
    "## 2_clean/station visualizations\n",
    "\n",
    "The following notebook produces several key items related to all stations that have **cleaned** data:\n",
    "- Updates the master list of all stations with raw data, using station lists available for each network\n",
    "- Figure 1: station chart showing **actual** station temporal distribution\n",
    "    - This figure represents information from the cleaned station lists, indicating actual station data availability\n",
    "    - This figure is an update from the `1_pull_stationvisualizer` notebook\n"
   ]
  },
  {
   "cell_type": "code",
   "execution_count": null,
   "id": "27c87ea4",
   "metadata": {},
   "outputs": [],
   "source": []
  }
 ],
 "metadata": {
  "kernelspec": {
   "display_name": "Python 3 (ipykernel)",
   "language": "python",
   "name": "python3"
  },
  "language_info": {
   "codemirror_mode": {
    "name": "ipython",
    "version": 3
   },
   "file_extension": ".py",
   "mimetype": "text/x-python",
   "name": "python",
   "nbconvert_exporter": "python",
   "pygments_lexer": "ipython3",
   "version": "3.10.5"
  }
 },
 "nbformat": 4,
 "nbformat_minor": 5
}
