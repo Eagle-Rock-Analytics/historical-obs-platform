{
 "cells": [
  {
   "cell_type": "markdown",
   "id": "2f107480-b89b-4dc8-a146-8ef1fee66c4e",
   "metadata": {},
   "source": [
    "# GHCNh library and description"
   ]
  },
  {
   "cell_type": "markdown",
   "id": "a1989f75-f9c9-4e5c-be55-e45b2f5c19d0",
   "metadata": {},
   "source": [
    "## Global Historical Climatology Network hourly (GHCNh)"
   ]
  },
  {
   "cell_type": "markdown",
   "id": "2a04399a-b88c-49fe-8651-e6389e85cbd4",
   "metadata": {},
   "source": [
    "### Eagle Rock Analytic's GHCNh library"
   ]
  },
  {
   "cell_type": "markdown",
   "id": "0cdeeff7-fce1-4ddb-b555-26ef0ee459f9",
   "metadata": {},
   "source": [
    "#### Clone GHCNh library"
   ]
  },
  {
   "cell_type": "markdown",
   "id": "2ec80644-fcbe-4f59-9629-bd3dd0c724bc",
   "metadata": {},
   "source": [
    "```bash\n",
    "git clone https://github.com/Eagle-Rock-Analytics/GHCNh.git\n",
    "cd GHCNh\n",
    "branch=\"origin/ghcnh_class_dev\"\n",
    "git branch --track ${branch##origin/} $branch"
   ]
  },
  {
   "cell_type": "markdown",
   "id": "c064e9d8-e782-4914-9afb-2eed3628519f",
   "metadata": {},
   "source": [
    "#### Import GHCNh class"
   ]
  },
  {
   "cell_type": "markdown",
   "id": "23d7cc4c-db2a-4de3-9663-31af76b118d1",
   "metadata": {
    "execution": {
     "iopub.execute_input": "2024-08-08T16:31:12.935997Z",
     "iopub.status.busy": "2024-08-08T16:31:12.933722Z",
     "iopub.status.idle": "2024-08-08T16:31:12.947029Z",
     "shell.execute_reply": "2024-08-08T16:31:12.945531Z",
     "shell.execute_reply.started": "2024-08-08T16:31:12.935916Z"
    }
   },
   "source": [
    "```python\n",
    "from GHCNh.GHCNh_lib import GHCNh\n",
    "ghcnh = GHCNh()```"
   ]
  },
  {
   "cell_type": "markdown",
   "id": "d44c1437-c188-4338-9482-4b7446796dca",
   "metadata": {},
   "source": [
    "#### Plot GHCNh stations"
   ]
  },
  {
   "cell_type": "markdown",
   "id": "41675e1f-4dab-4f59-9810-26cfc561d3e0",
   "metadata": {
    "execution": {
     "iopub.execute_input": "2024-08-08T16:31:12.935997Z",
     "iopub.status.busy": "2024-08-08T16:31:12.933722Z",
     "iopub.status.idle": "2024-08-08T16:31:12.947029Z",
     "shell.execute_reply": "2024-08-08T16:31:12.945531Z",
     "shell.execute_reply.started": "2024-08-08T16:31:12.935916Z"
    }
   },
   "source": [
    "```python\n",
    "wecc_terr = \"s3://wecc-historical-wx/0_maps/WECC_Informational_MarineCoastal_Boundary_land.shp\"\n",
    "wecc_mar = \"s3://wecc-historical-wx/0_maps/WECC_Informational_MarineCoastal_Boundary_marine.shp\"\n",
    "t = gpd.read_file(wecc_terr).iloc[0].geometry  ## Read in terrestrial WECC shapefile.\n",
    "m = gpd.read_file(wecc_mar).iloc[0].geometry   ## Read in marine WECC shapefile.\n",
    "\n",
    "fig,ax = plt.subplots(subplot_kw={'projection':ccrs.PlateCarree()})\n",
    "\n",
    "ax.coastlines()\n",
    "ax.add_feature(cf.BORDERS)\n",
    "ax.add_geometries(m, crs=ccrs.PlateCarree(), color=\"C0\", alpha=0.25)\n",
    "ax.add_geometries(t, crs=ccrs.PlateCarree(), color=\"C1\", alpha=0.25)\n",
    "# ax.add_feature(cf.STATES, lw=0.5)\n",
    "ax.set_extent([-130, -100, 28, 52])\n",
    "ax.plot(ghcnh.stations_df['longitude'], ghcnh.stations_df['latitude'], \n",
    "        marker='.', lw=0, c=\"k\", ms=2, label=\"WECC\")\n",
    "tmp = ghcnh.stations_df[~ghcnh.stations_df['is_in_wecc']]\n",
    "ax.plot(tmp['longitude'], tmp['latitude'], \n",
    "        marker='.', lw=0, c=\"red\", ms=2, label=\"Not WECC\")\n",
    "ax.legend()\n",
    "ax.xaxis.set_major_locator(MaxNLocator(integer=True))\n",
    "ax.yaxis.set_major_locator(MaxNLocator(integer=True))\n",
    "\n",
    "gl = ax.gridlines(crs=ccrs.PlateCarree(), draw_labels=[\"bottom\", \"left\"],\n",
    "                  ls=\":\", lw=0.5)\n",
    "ax.set_title(\"GHCNh stations\");\n",
    "```"
   ]
  },
  {
   "cell_type": "markdown",
   "id": "bd447ce1-f492-45ee-a06d-ce386251b0bb",
   "metadata": {},
   "source": [
    "#### Select WECC "
   ]
  },
  {
   "cell_type": "markdown",
   "id": "8cf5f068-74c2-42f2-9378-ebff391037d1",
   "metadata": {},
   "source": [
    "``` python\n",
    "ghcnh.select_wecc()\n",
    "id = ghcnh.stations_df['id'].iloc[0]\n",
    "print(id)\n",
    "ghcnh.read_data_from_url(id=id)\n",
    "ghcnh.station_data\n",
    "```"
   ]
  },
  {
   "cell_type": "markdown",
   "id": "189baf40-eed9-4987-a395-5ec5000fc05c",
   "metadata": {},
   "source": [
    "#### Plot some variables from the read station"
   ]
  },
  {
   "cell_type": "markdown",
   "id": "24464caa-290e-4ea5-9d64-c64bc6629186",
   "metadata": {},
   "source": [
    "``` python\n",
    "fig,ax = plt.subplots()\n",
    "\n",
    "ghcnh.station_data.plot(ax=ax, x=\"time\", y=\"temperature\")\n",
    "ghcnh.station_data.plot(ax=ax, x=\"time\", y=\"dew_point_temperature\")\n",
    "ax.set_title(id);\n",
    "```"
   ]
  },
  {
   "cell_type": "markdown",
   "id": "9200cd09-0603-4936-97ab-d1fafeda0c3a",
   "metadata": {},
   "source": [
    "## Test ERA's GHCNh library"
   ]
  },
  {
   "cell_type": "code",
   "execution_count": null,
   "id": "37d97c6d-0e96-4769-8f37-5933f0a3ffb0",
   "metadata": {
    "execution": {
     "iopub.execute_input": "2024-08-28T20:04:51.342156Z",
     "iopub.status.busy": "2024-08-28T20:04:51.342043Z",
     "iopub.status.idle": "2024-08-28T20:04:53.262254Z",
     "shell.execute_reply": "2024-08-28T20:04:53.261851Z",
     "shell.execute_reply.started": "2024-08-28T20:04:51.342143Z"
    }
   },
   "outputs": [],
   "source": [
    "# import libraries\n",
    "import pandas as pd\n",
    "import numpy as np\n",
    "import xarray as xr\n",
    "import geopandas as gpd\n",
    "import matplotlib.pyplot as plt\n",
    "import cartopy.crs as ccrs\n",
    "import cartopy.feature as cf\n",
    "from matplotlib.ticker import MaxNLocator\n",
    "import sys\n",
    "\n",
    "%load_ext autoreload\n",
    "%autoreload 2"
   ]
  },
  {
   "cell_type": "markdown",
   "id": "15c4c772-02b3-420d-bf5a-c7bfbda79c10",
   "metadata": {},
   "source": [
    "#### Append local GHCNh library path"
   ]
  },
  {
   "cell_type": "code",
   "execution_count": null,
   "id": "a4982cc3-4a99-4d39-96a9-d139f3efac49",
   "metadata": {
    "execution": {
     "iopub.execute_input": "2024-08-28T20:04:53.263032Z",
     "iopub.status.busy": "2024-08-28T20:04:53.262748Z",
     "iopub.status.idle": "2024-08-28T20:04:53.280436Z",
     "shell.execute_reply": "2024-08-28T20:04:53.279935Z",
     "shell.execute_reply.started": "2024-08-28T20:04:53.263019Z"
    }
   },
   "outputs": [],
   "source": [
    "ghcnh_lib_path = \"/Users/hector/ERA_work/historical-obs-platform/test_platform/scripts/3_qaqc_data/qaqc_eval_notebooks/GHCNh\"\n",
    "sys.path.append(ghcnh_lib_path)"
   ]
  },
  {
   "cell_type": "code",
   "execution_count": null,
   "id": "3deb170a-39f7-49d4-baad-6dfcd247af78",
   "metadata": {
    "execution": {
     "iopub.execute_input": "2024-08-28T20:04:53.281202Z",
     "iopub.status.busy": "2024-08-28T20:04:53.281083Z",
     "iopub.status.idle": "2024-08-28T20:04:53.334069Z",
     "shell.execute_reply": "2024-08-28T20:04:53.333593Z",
     "shell.execute_reply.started": "2024-08-28T20:04:53.281190Z"
    }
   },
   "outputs": [],
   "source": [
    "# from GHCNh.GHCNh_lib import GHCNh  # If GHCNh is within current folder\n",
    "from GHCNh_lib import GHCNh  # If GHCNh is was appended to path"
   ]
  },
  {
   "cell_type": "markdown",
   "id": "3badfdef-8499-4981-9f76-4616fd5bc411",
   "metadata": {},
   "source": [
    "#### Create GHCNh class"
   ]
  },
  {
   "cell_type": "code",
   "execution_count": null,
   "id": "4fdeeae0-1f91-43bc-8913-49ea4a1bd462",
   "metadata": {
    "execution": {
     "iopub.execute_input": "2024-08-28T20:04:53.334922Z",
     "iopub.status.busy": "2024-08-28T20:04:53.334728Z",
     "iopub.status.idle": "2024-08-28T20:04:53.376835Z",
     "shell.execute_reply": "2024-08-28T20:04:53.376456Z",
     "shell.execute_reply.started": "2024-08-28T20:04:53.334906Z"
    }
   },
   "outputs": [],
   "source": [
    "%%time\n",
    "ghcnh = GHCNh(stations_local=True)\n",
    "ghcnh.stations_df.head()"
   ]
  },
  {
   "cell_type": "markdown",
   "id": "474694d0-7d98-4eef-9fdf-4e4045bb2a07",
   "metadata": {},
   "source": [
    "#### Select WECC stations"
   ]
  },
  {
   "cell_type": "code",
   "execution_count": null,
   "id": "95c096e6-0667-4008-84cd-2fb9c27d33ff",
   "metadata": {
    "execution": {
     "iopub.execute_input": "2024-08-28T20:04:53.377469Z",
     "iopub.status.busy": "2024-08-28T20:04:53.377348Z",
     "iopub.status.idle": "2024-08-28T20:04:53.401711Z",
     "shell.execute_reply": "2024-08-28T20:04:53.401251Z",
     "shell.execute_reply.started": "2024-08-28T20:04:53.377457Z"
    }
   },
   "outputs": [],
   "source": [
    "ghcnh.select_wecc()\n",
    "ghcnh.stations_df.head()"
   ]
  },
  {
   "cell_type": "markdown",
   "id": "1015e3c0-97f4-4bfc-9cdf-1cb54476fc3f",
   "metadata": {
    "execution": {
     "iopub.execute_input": "2024-08-27T21:24:51.809463Z",
     "iopub.status.busy": "2024-08-27T21:24:51.809214Z",
     "iopub.status.idle": "2024-08-27T21:24:51.811306Z",
     "shell.execute_reply": "2024-08-27T21:24:51.810902Z",
     "shell.execute_reply.started": "2024-08-27T21:24:51.809429Z"
    }
   },
   "source": [
    "#### Show the name/id of the first GHCNh's WECC station"
   ]
  },
  {
   "cell_type": "code",
   "execution_count": null,
   "id": "8236cf4b-58c0-46d8-b4e5-6b3366de4249",
   "metadata": {
    "execution": {
     "iopub.execute_input": "2024-08-28T20:04:53.402617Z",
     "iopub.status.busy": "2024-08-28T20:04:53.402408Z",
     "iopub.status.idle": "2024-08-28T20:04:53.457879Z",
     "shell.execute_reply": "2024-08-28T20:04:53.457464Z",
     "shell.execute_reply.started": "2024-08-28T20:04:53.402604Z"
    }
   },
   "outputs": [],
   "source": [
    "%%time\n",
    "id = ghcnh.stations_df[\"id\"].iloc[0]\n",
    "id"
   ]
  },
  {
   "cell_type": "markdown",
   "id": "63887695-1653-4dd4-bcbf-2495084ce530",
   "metadata": {},
   "source": [
    "#### Read station data from url (or from local file if exists)\n",
    "- Save file to disk if save=True"
   ]
  },
  {
   "cell_type": "code",
   "execution_count": null,
   "id": "2273e86d-3463-4c9a-a759-1008456e524e",
   "metadata": {
    "execution": {
     "iopub.execute_input": "2024-08-28T20:04:53.460222Z",
     "iopub.status.busy": "2024-08-28T20:04:53.460016Z",
     "iopub.status.idle": "2024-08-28T20:04:54.626423Z",
     "shell.execute_reply": "2024-08-28T20:04:54.625907Z",
     "shell.execute_reply.started": "2024-08-28T20:04:53.460204Z"
    }
   },
   "outputs": [],
   "source": [
    "ghcnh.read_data_from_url(id, save=True)"
   ]
  },
  {
   "cell_type": "code",
   "execution_count": null,
   "id": "f8cbf506-39ad-47da-9de5-08e172cfbd0d",
   "metadata": {
    "execution": {
     "iopub.execute_input": "2024-08-28T20:04:54.627125Z",
     "iopub.status.busy": "2024-08-28T20:04:54.627008Z",
     "iopub.status.idle": "2024-08-28T20:04:54.652886Z",
     "shell.execute_reply": "2024-08-28T20:04:54.652521Z",
     "shell.execute_reply.started": "2024-08-28T20:04:54.627113Z"
    }
   },
   "outputs": [],
   "source": [
    "ghcnh.station_data.head(3)"
   ]
  },
  {
   "cell_type": "markdown",
   "id": "69fd71db-fdb5-4c60-a19a-2c9609f0f11a",
   "metadata": {},
   "source": [
    "#### Extract mean lon,lat of the station for plotting"
   ]
  },
  {
   "cell_type": "code",
   "execution_count": null,
   "id": "40286890-26e4-4cd5-8daa-089d9bd1567d",
   "metadata": {
    "execution": {
     "iopub.execute_input": "2024-08-28T20:04:54.653838Z",
     "iopub.status.busy": "2024-08-28T20:04:54.653715Z",
     "iopub.status.idle": "2024-08-28T20:04:54.673951Z",
     "shell.execute_reply": "2024-08-28T20:04:54.673590Z",
     "shell.execute_reply.started": "2024-08-28T20:04:54.653826Z"
    }
   },
   "outputs": [],
   "source": [
    "lon = ghcnh.station_data.Longitude.mean()\n",
    "lat = ghcnh.station_data.Latitude.mean()\n",
    "print(\"{}, {:.5f}, {:.5f}\".format(id, lon, lat))"
   ]
  },
  {
   "cell_type": "markdown",
   "id": "f847bca4-65ed-4094-a659-5d83ce9c3786",
   "metadata": {},
   "source": [
    "#### Plot station example variables"
   ]
  },
  {
   "cell_type": "code",
   "execution_count": null,
   "id": "e71250ee-30df-4dd4-bc38-45841e96dd95",
   "metadata": {
    "execution": {
     "iopub.execute_input": "2024-08-28T20:04:54.674550Z",
     "iopub.status.busy": "2024-08-28T20:04:54.674433Z",
     "iopub.status.idle": "2024-08-28T20:04:55.600025Z",
     "shell.execute_reply": "2024-08-28T20:04:55.599676Z",
     "shell.execute_reply.started": "2024-08-28T20:04:54.674539Z"
    }
   },
   "outputs": [],
   "source": [
    "fig, ax = plt.subplots(figsize=(9, 3))\n",
    "\n",
    "ghcnh.station_data.plot(ax=ax, x=\"time\", y=\"temperature\")\n",
    "ghcnh.station_data.plot(ax=ax, x=\"time\", y=\"dew_point_temperature\")\n",
    "ax.set_title(\"{}  ({:.3f}, {:.3f})\".format(id, lon, lat));"
   ]
  },
  {
   "cell_type": "markdown",
   "id": "84128dc3-142d-416e-9baf-e82d235af455",
   "metadata": {},
   "source": [
    "#### Convert station dataframe to geopandas"
   ]
  },
  {
   "cell_type": "code",
   "execution_count": null,
   "id": "b274b526-0c92-455d-be6b-af2b3c39b6ab",
   "metadata": {
    "execution": {
     "iopub.execute_input": "2024-08-28T20:04:55.600702Z",
     "iopub.status.busy": "2024-08-28T20:04:55.600596Z",
     "iopub.status.idle": "2024-08-28T20:04:57.866169Z",
     "shell.execute_reply": "2024-08-28T20:04:57.865849Z",
     "shell.execute_reply.started": "2024-08-28T20:04:55.600691Z"
    }
   },
   "outputs": [],
   "source": [
    "ghcnh.convert_df_to_gpd()\n",
    "ghcnh.stations_df.head(3)"
   ]
  },
  {
   "cell_type": "code",
   "execution_count": null,
   "id": "da7f060d-c95c-4861-9c06-9826d9d09401",
   "metadata": {},
   "outputs": [],
   "source": []
  },
  {
   "cell_type": "code",
   "execution_count": null,
   "id": "1ec1415c-5b92-48a8-b330-ae7d80e47c0f",
   "metadata": {},
   "outputs": [],
   "source": []
  },
  {
   "cell_type": "code",
   "execution_count": null,
   "id": "0879d444-0ccb-4abe-9acb-d52b153c7ee7",
   "metadata": {},
   "outputs": [],
   "source": []
  },
  {
   "cell_type": "markdown",
   "id": "8e57b6b5-9b8d-43cd-91a8-e09cb9909993",
   "metadata": {},
   "source": [
    "## Description of GHCNh dataset and psv files"
   ]
  },
  {
   "cell_type": "markdown",
   "id": "40579fa5-00c7-4d2d-b2ba-111bc38eb214",
   "metadata": {},
   "source": [
    "### General information"
   ]
  },
  {
   "cell_type": "markdown",
   "id": "7839ef6a-6756-4e01-b0f6-210397cff9b7",
   "metadata": {},
   "source": [
    "Each station “psv” file is made up of a unique identifier and time step followed by\n",
    "- **30 variable fields**:\n",
    "    * Each with 5 associated metadata/attribute fields\n",
    "- All fields are “pipe” separated (pipe = “|”).\n",
    "- Each of the variables and metadata fields are described with explicit names in a header line at the beginning of each station file.\n",
    "    * Note that the header length is quite long and is also pipe delimited.\n",
    " \n"
   ]
  },
  {
   "cell_type": "markdown",
   "id": "3cadc7c7-1b5c-490c-bd82-b3b961336f66",
   "metadata": {},
   "source": [
    "**Each station record is indexed to:** \n",
    "- a single GHCN Station_ID\n",
    "- Station_name\n",
    "- Latitude\n",
    "- Longitude\n",
    "- Elevation\n",
    "\n",
    "which was extracted from metadata provided by one or more data sources.\n",
    "\n",
    "**Each observation is also indexed to:**\n",
    "\n",
    "- a single Year, Month, Day, Hour and Minute in Coordinated Universal Time (UTC)."
   ]
  },
  {
   "cell_type": "markdown",
   "id": "4a7471d5-0c2f-4ae1-83da-753f91246dc0",
   "metadata": {},
   "source": [
    "Following the identifier, coordinates and time stamp for the observation, there are **38 sets of observations for 38 variables** and their accompanying metadata/attributes as follows:\n",
    "\n",
    "- **variable** (see section IV, Table 1)\n",
    "- **variable_Measurement_Code** (see section V, Table 2)\n",
    "- **variable_Quality_Code** (see section VI, Table 3)\n",
    "- **variable_Report_Type** (see section VII, Table 4)\n",
    "- **variable_Source_Code** (see section VII, Table 5)\n",
    "- **variable_Source_Station_ID** (original identifier provided in the data source)\n",
    "\n",
    "Where variable refers to the list of variables in Table 1 and their units. \n",
    "\n",
    "A list of potential Measurement_Codes by variable type is provided in Table2. \n",
    "\n",
    "The list of Quality_Codes is provided in Table 3. \n",
    "\n",
    "Table 4 provides the list of possible report types. \n",
    "\n",
    "All column numbers and names are provided in Appendix Table A1.\n"
   ]
  },
  {
   "cell_type": "markdown",
   "id": "b534d829-2624-4cc8-942b-35c1a99ca859",
   "metadata": {},
   "source": [
    "### Primary data variables"
   ]
  },
  {
   "cell_type": "markdown",
   "id": "89701764-56e9-4397-9fb4-c68cb725ae93",
   "metadata": {},
   "source": [
    "#### <u>Table 1: Elements/Variables</u>"
   ]
  },
  {
   "cell_type": "markdown",
   "id": "21372509-452d-434c-8441-be01675c4138",
   "metadata": {},
   "source": [
    "<div style=\"display: inline-block\">\n",
    "    \n",
    "| Variable   |      Description      |  Units |\n",
    "|---|---|---|\n",
    "| temperature | <div style=\"width: 40em;\">  2 meter (circa) Above Ground Level Air (dry bulb) Temperature </div>| 0C to tenths |\n",
    "| dew_point_temperature | <div style=\"width: 40em;\">  Dew Point Temperature </div>| 0C to tenths |\n",
    "| station_level_pressure | <div style=\"width: 40em;\"> The pressure that is observed at a specific elevation and is the true barometric pressure of a location. It is the pressure exerted by the atmosphere at a point as a result of gravity acting upon the \"column\" of air that lies directly above the point </div> | hPa |\n",
    "| wind_direction | <div style=\"width:  40em;\"> Wind Direction from true north using compass directions (e.g. 360 = true north, 180 = south, 270 = west, etc.). Note: A direction of “000” is given for calm winds </div>| whole degrees |\n",
    "| wind_speed | <div style=\"width:  40em;\"> Wind Speed </div> | meters per second |\n",
    "| wind_gust | <div style=\"width:  40em;\"> Peak short duration (usually < 20 seconds) wind speed (meters per second) that exceeds the wind_speed average </div> |  |\n",
    "| precipitation | <div style=\"width:  40em;\"> total liquid precipitation (rain or melted snow) for past hour; a “T” in the measurement code column indicates a trace amount of precipitation </div> | millimeters |\n",
    "| relative_humidity | <div style=\"width:  40em;\"> Relative humidity is calculated from air (dry bulb) temperature and dew point temperature </div> | whole percent |\n",
    "| wet_bulb_temperature | <div style=\"width:  40em;\"> Present weather observation; MW1 - MW3 is sourced from manual reports; up to 3 observations per report </div> | 0C to tenths |\n",
    "| pres_wx_MW1 | <div style=\"width:  40em;\"> Present weather observation; MW1 - MW3 is sourced from manual reports; up to 3 observations per report </div> | code |\n",
    "| pres_wx_MW2 | <div style=\"width:  40em;\"> see above </div> | code |\n",
    "| pres_wx_MW3 | <div style=\"width:  40em;\"> see above </div> | code |\n",
    "| pres_wx_AU1 | <div style=\"width:  40em;\"> weather observation; AU1 - AU3 is sourced from automated ASOS/AWOS sensors; up to 3 observations per report </div> | code |\n",
    "| pres_wx_AU2 | <div style=\"width:  40em;\"> see above </div> | code |\n",
    "| pres_wx_AU3 | <div style=\"width:  40em;\"> see above </div> | code |\n",
    "| pres_wx_AW1 | <div style=\"width:  40em;\"> Present weather observation; AW1 - AW3 is sourced from automated sensors; up to 3 observations per report </div> | code |\n",
    "| pres_wx_AW2 | <div style=\"width:  40em;\"> see above </div> | code |\n",
    "| pres_wx_AW3 | <div style=\"width:  40em;\"> see above </div> | code |\n",
    "| snow_depth | <div style=\"width:  40em;\"> depth of snowpack on the ground </div> | centimeters/m |\n",
    "| visibility | <div style=\"width:  40em;\"> horizontal distance at which an object can be seen and identified </div> | kilometers |\n",
    "| altimeter | <div style=\"width:  40em;\"> the pressure \"reduced\" to mean sea level using the temperature profile of the \"standard\" atmosphere, which is representative of average conditions over the United States at 40 degrees north latitude </div> | millibars/hPa |\n",
    "| pressure_3hr_change | <div style=\"width:  40em;\"> change in atmospheric pressure measured at the beginning and end of a three hour period; accompanied by tendency code in measurement code field </div> | millibars/hPa |\n",
    "| sky_cover_1 | <div style=\"width:  40em;\"> Fraction of total celestial dome with sky coverage; defines a layer in oktas (i.e. eights) or tenths of sky covered by cloud; up to 3 observations </div> | code |\n",
    "| sky_cover_2 | <div style=\"width:  40em;\"> see above </div> | code |\n",
    "| sky_cover_3 | <div style=\"width:  40em;\"> see above </div> | (see Table X for code definitions) |\n",
    "| sky_cover_baseht_1 | <div style=\"width:  40em;\"> Discrete cloud base heights at lowest point of layer; up to 3 vertical layers can be reported; clear skies reported as a single layer </div> | meters |\n",
    "| sky_cover_baseht_2 | <div style=\"width:  40em;\"> see above </div> |  |\n",
    "| sky_cover_baseht_3 | <div style=\"width:  40em;\"> see above </div> |  |\n",
    "| precipitation_3_hour | <div style=\"width:  40em;\"> 3-hour total liquid precipitation (rain or melted snow) accumulation from FM12/SYNOP reports; a “T” in the measurement code column   indicates a trace amount of precipitation. Accumulations can be reported over 3, 6, 9, 12, 15, 18, 21 and 24 hours. </div> | millimeters |\n",
    "| precipitation_6_hour | <div style=\"width:  40em;\"> see above </div> |  |\n",
    "| precipitation_9_hour | <div style=\"width:  40em;\"> see above </div> |  |\n",
    "| precipitation_12_hour | <div style=\"width:  40em;\"> see above </div> |  |\n",
    "| precipitation_15_hour | <div style=\"width:  40em;\"> see above </div> |  |\n",
    "| precipitation_18_hour | <div style=\"width:  40em;\"> see above </div> |  |\n",
    "| precipitation_21_hour | <div style=\"width:  40em;\"> see above </div> |  |\n",
    "| precipitation_24_hour | <div style=\"width:  40em;\"> see above </div> |  |\n",
    "| remarks | <div style=\"width:  40em;\"> Hourly Remarks present the raw surface observation data in the original format  encoded into ICAO-standardized METAR (FM15) or FM12 (SYNOP), FM16 (SPECI) etc format for global dissemination. Further information on decoding these observations can be found in the Federal Meteorological Handbook (FMH) No. 1, Surface Weather Observations & Reports. </div> |  |\n",
    "\n",
    "</div>"
   ]
  },
  {
   "cell_type": "markdown",
   "id": "28411d45-11d9-4107-84fe-d4191ebccfeb",
   "metadata": {},
   "source": [
    "### VI. List of Quality Check codes"
   ]
  },
  {
   "cell_type": "markdown",
   "id": "61317beb-dd9f-4dce-b47f-3e7268ba9395",
   "metadata": {},
   "source": [
    "#### <u> Table 3: QC (code varies by source) </u>\n",
    "\n",
    "<div style=\"width: 60em;\">\n",
    "A general set of quality control checks is applied to a subset of variables after all sources are integrated into a set of unique period of record station files. These checks are described in Dunn et al. (2016). In addition, GHCNh preserves the Quality Control information of its component sources. The set of general flags that apply to the integrated set of sources and the variables temperature, dew_point_temperature, station_level_pressure, sea_level_pressure, wind_direction, and wind_speed\n",
    "</div>"
   ]
  },
  {
   "cell_type": "markdown",
   "id": "19e7ef0d-a011-4f4c-8ca3-bd8a422f8aa7",
   "metadata": {},
   "source": [
    "**The list of codes include:**\n",
    "<div style=\"display: inline-block\">\n",
    "    \n",
    "|    |    |\n",
    "|---|---|\n",
    "|  \n",
    "| \"L\" : \"0,\" | # failed Logical consistency |\n",
    "| \"o\" : \"1,\" | # outlier check |\n",
    "| \"F\" : \"2,\" | # Frequent value check |\n",
    "| \"U\" : \"3,\" | # diUrnal inconsistency check |\n",
    "| \"D\" : \"4,\" | # Distribution 1 |\n",
    "| \"d\" : \"5,\" | # distribution 2 |\n",
    "| \"W\" : \"6,\" | # World records exceedance |\n",
    "| \"K\" : \"7,\" | # StreaK check |\n",
    "| \"C\" : \"8,\" | # Climatological outlier |\n",
    "| \"T\" : \"9,\" | # Timestamp issue |\n",
    "| \"S\" : \"10,\" | # Spike check |\n",
    "| \"h\" : \"11,\" | # humidity |\n",
    "| \"V\" : \"12,\" | # Variance |\n",
    "| \"w\" : \"13,\" | # winds |\n",
    "| \"N\" : \"14,\" | # Neighbor comparison outlier |\n",
    "| \"E\" : \"15,\" | # clEan up |\n",
    "| \"p\" : \"16,\" | # pressure |\n",
    "| \"H\" : \"17,\" | # High flag rate |\n",
    "\n",
    "</div>"
   ]
  },
  {
   "cell_type": "markdown",
   "id": "a2959009-75e8-4caa-a387-1ee4b3a1313f",
   "metadata": {},
   "source": [
    "#### The Legacy Codes for Sources 313, 314, 315, 322, 335, 343, 344, 345, 346 include 0 = Passed gross limits check\n",
    "<div style=\"display: inline-block\">\n",
    "    \n",
    "|    |    |\n",
    "|---|---|\n",
    "|  \n",
    "| 1 |  Passed all quality control checks |\n",
    "| 2 | Suspect |\n",
    "| 3 | Erroneous |\n",
    "| 4 | Passed gross limits check, data originate from an NCEI data source |\n",
    "| 5 | Passed all quality control checks, data originate from an NCEI data source |\n",
    "| 6 | Suspect, data originate from an NCEI data source |\n",
    "| 7 | Erroneous, data originate from an NCEI data source |\n",
    "| 9 | Passed gross limits check if element is present |\n",
    "| A | Data value flagged as suspect, but accepted as good value. |\n",
    "| U | Data value replaced with edited value. |\n",
    "| P | Data value not originally flagged as suspect, but replaced by validator. |\n",
    "| I | Data value not originally in data, but inserted by validator. |\n",
    "| M | Manual change made to value based on information provided by NWS or FAA. |\n",
    "| C | <div style=\"width:  60em;\"> Temperature and dew point received from Automated Weather Observing Systems (AWOS) are reported in whole degrees Celsius. Automated QC flags these values, but they are accepted as valid. </div>|\n",
    "| R | Data value replaced with value computed by NCEI software. |\n",
    "\n",
    "</div>"
   ]
  },
  {
   "cell_type": "markdown",
   "id": "f473998f-a6f3-4c91-9b32-89cc338f9235",
   "metadata": {},
   "source": [
    "#### And Legacy Codes for Sources: 220, 221, 222, 223, 347, 348 include 0 Not Checked \n",
    "<div style=\"display: inline-block\">\n",
    "    \n",
    "|    |    |\n",
    "|---|---|\n",
    "| 1 | Good |\n",
    "| 2 | Suspect |\n",
    "| 3 | Erroneous |\n",
    "| 4 | Calculated |\n",
    "| 5 | Removed |\n",
    "\n",
    "</div>"
   ]
  },
  {
   "cell_type": "markdown",
   "id": "cffbc4da-78c3-48e9-9509-195de5335db7",
   "metadata": {},
   "source": [
    "#### Derived variables (relative humidity and wet-bulb temperature) can have the following QC flags: \n",
    "<div style=\"display: inline-block\">\n",
    "    \n",
    "|    |    |\n",
    "|---|---|\n",
    "| o | Out of range (relative humidity only - with values < 1 or > 100) |\n",
    "| f | Suspect or Error flags for 1 or more of the input measurements |\n",
    "\n",
    "</div>"
   ]
  },
  {
   "cell_type": "markdown",
   "id": "6fe92b8c-bc06-4504-b936-68359e30ec80",
   "metadata": {},
   "source": [
    "### Variables/columns of each GHCNh psv file / dataframe"
   ]
  },
  {
   "cell_type": "markdown",
   "id": "a56fab95-3e29-4f79-8a90-8f7c96199bf4",
   "metadata": {},
   "source": [
    "### Table A1: Columns/Headers"
   ]
  },
  {
   "cell_type": "markdown",
   "id": "208d985f-3e4b-42e0-907f-0acf687f6f53",
   "metadata": {},
   "source": [
    "<div style=\"display: inline-block\">\n",
    "<div style=\"display: flex; justify-content: space-between;\">\n",
    "<div style=\"width: 45%;\">\n",
    "  \n",
    "| Col# | Header |\n",
    "|---|---|\n",
    "| 1 | Station_ID |\n",
    "| 2 | Station_name |\n",
    "| 3 | Year |\n",
    "| 4 | Month |\n",
    "| 5 | Day |\n",
    "| 6 | Hour |\n",
    "| 7 | Minute |\n",
    "| 8 | Latitude |\n",
    "| 9 | Longitude |\n",
    "| 10 | Elevation |\n",
    "</div>\n",
    "<div style=\"width: 45%;\">\n",
    "\n",
    "| Col# | Header |\n",
    "|---|---|\n",
    "| 11 | temperature |\n",
    "| 12 | temperature_Measurement_Code |\n",
    "| 13 | temperature_Quality_Code |\n",
    "| 14 | temperature_Report_Type |\n",
    "| 15 | temperature_Source_Code |\n",
    "| 16 | temperature_Source_Station_ID |\n",
    "| 17 | dew_point_temperature |\n",
    "| 18 | dew_point_temperature_Measurement_Code |\n",
    "| 19 | dew_point_temperature_Quality_Code |\n",
    "| 20 | dew_point_temperature_Report_Type |\n",
    "| 21 | dew_point_temperature_Source_Code |\n",
    "| 22 | dew_point_temperature_Source_Station_ID |\n",
    "</div>\n",
    "<div style=\"width: 45%;\">\n",
    "\n",
    "| Col# | Header |\n",
    "|---|---|\n",
    "| 23 | station_level_pressure |\n",
    "| 24 | station_level_pressure_Measurement_Code |\n",
    "| 25 | station_level_pressure_Quality_Code |\n",
    "| 26 | station_level_pressure_Report_Type |\n",
    "| 27 | station_level_pressure_Source_Code |\n",
    "| 28 | station_level_pressure_Source_Station_ID |\n",
    "| 29 | sea_level_pressure |\n",
    "| 30 | sea_level_pressure_Measurement_Code |\n",
    "| 31 | sea_level_pressure_Quality_Code |\n",
    "| 32 | sea_level_pressure_Report_Type |\n",
    "| 33 | sea_level_pressure_Source_Code |\n",
    "| 34 | sea_level_pressure_Source_Station_ID |\n",
    "</div>\n",
    "</div>\n",
    "</div>"
   ]
  },
  {
   "cell_type": "code",
   "execution_count": null,
   "id": "cb0ecace-5799-4c8d-9a54-6045045c13ec",
   "metadata": {},
   "outputs": [],
   "source": []
  },
  {
   "cell_type": "markdown",
   "id": "2d99e787-ea46-49f3-9afb-78a3d1c9ef68",
   "metadata": {},
   "source": [
    "<div style=\"display: inline-block\">\n",
    "<div style=\"display: flex; justify-content: space-between;\">\n",
    "<div style=\"width: 45%;\">\n",
    "  \n",
    "| Col# | Header |\n",
    "|---|---|\n",
    "| 35 | wind_direction |\n",
    "| 36 | wind_direction_Measurement_Code |\n",
    "| 37 | wind_direction_Quality_Code |\n",
    "| 38 | wind_direction_Report_Type |\n",
    "| 39 | wind_direction_Source_Code |\n",
    "| 40 | wind_direction_Source_Station_ID |\n",
    "| 41 | wind_speed |\n",
    "| 42 | wind_speed_Measurement_Code |\n",
    "| 43 | wind_speed_Quality_Code |\n",
    "| 44 | wind_speed_Report_Type |\n",
    "| 45 | wind_speed_Source_Code |\n",
    "| 46 | wind_speed_Source_Station_ID |\n",
    "| 47 | wind_gust |\n",
    "| 48 | wind_gust_Measurement_Code |\n",
    "| 49 | wind_gust_Quality_Code |\n",
    "| 50 | wind_gust_Report_Type |\n",
    "| 51 | wind_gust_Source_Code |\n",
    "| 52 | wind_gust_Source_Station_ID |\n",
    "</div>\n",
    "<div style=\"width: 45%;\">\n",
    "\n",
    "| Col# | Header |\n",
    "|---|---|\n",
    "| 53 | precipitation |\n",
    "| 54 | precipitation_Measurement_Code |\n",
    "| 55 | precipitation_Quality_Code |\n",
    "| 56 | precipitation_Report_Type |\n",
    "| 57 | precipitation_Source_Code |\n",
    "| 58 | precipitation_Source_Station_ID |\n",
    "| 59 | relative_humidity |\n",
    "| 60 | relative_humidity_Measurement_Code |\n",
    "| 61 | relative_humidity_Quality_Code |\n",
    "| 62 | relative_humidity_Report_Type |\n",
    "| 63 | relative_humidity_Source_Code |\n",
    "| 64 | relative_humidity_Source_Station_ID |\n",
    "| 65 | wet_bulb_temperature |\n",
    "| 66 | wet_bulb_temperature_Measurement_Code |\n",
    "| 67 | wet_bulb_temperature_Quality_Code |\n",
    "| 68 | wet_bulb_temperature_Report_Type |\n",
    "| 69 | wet_bulb_temperature_Source_Code |\n",
    "| 70 | wet_bulb_temperature_Source_Station_ID |\n",
    "</div>\n",
    "<div style=\"width: 45%;\">\n",
    "\n",
    "| Col# | Header |\n",
    "|---|---|\n",
    "| 71 | pres_wx_MW1 |\n",
    "| 72 | pres_wx_MW1_Measurement_Code |\n",
    "| 73 | pres_wx_MW1_Quality_Code |\n",
    "| 74 | pres_wx_MW1_Report_Type |\n",
    "| 75 | pres_wx_MW1_Source_Code |\n",
    "| 76 | pres_wx_MW1_Source_Station_ID |\n",
    "| 77 | pres_wx_MW2 |\n",
    "| 78 | pres_wx_MW2_Measurement_Code |\n",
    "| 79 | pres_wx_MW2_Quality_Code |\n",
    "| 80 | pres_wx_MW2_Report_Type |\n",
    "| 81 | pres_wx_MW2_Source_Code |\n",
    "| 82 | pres_wx_MW2_Source_Station_ID |\n",
    "| 83 | pres_wx_MW3 |\n",
    "| 84 | pres_wx_MW3_Measurement_Code |\n",
    "| 85 | pres_wx_MW3_Quality_Code |\n",
    "| 86 | pres_wx_MW3_Report_Type |\n",
    "| 87 | pres_wx_MW3_Source_Code |\n",
    "| 88 | pres_wx_MW3_Source_Station_ID |\n",
    "</div>\n",
    "</div>\n",
    "</div>"
   ]
  },
  {
   "cell_type": "markdown",
   "id": "fb5c79d5-f5c6-4bb8-b4d6-49de0ac7c96d",
   "metadata": {},
   "source": [
    "<div style=\"display: inline-block\">\n",
    "<div style=\"display: flex; justify-content: space-between;\">\n",
    "<div style=\"width: 45%;\">\n",
    "  \n",
    "| Col# | Header |\n",
    "|---|---|\n",
    "| 89 | pres_wx_AU1 |\n",
    "| 90 | pres_wx_AU1_Measurement_Code |\n",
    "| 91 | pres_wx_AU1_Quality_Code |\n",
    "| 92 | pres_wx_AU1_Report_Type |\n",
    "| 93 | pres_wx_AU1_Source_Code |\n",
    "| 94 | pres_wx_AU1_Source_Station_ID |\n",
    "| 95 | pres_wx_AU2 |\n",
    "| 96 | pres_wx_AU2_Measurement_Code |\n",
    "| 97 | pres_wx_AU2_Quality_Code |\n",
    "| 98 | pres_wx_AU2_Report_Type |\n",
    "| 99 | pres_wx_AU2_Source_Code |\n",
    "| 100 | pres_wx_AU2_Source_Station_ID |\n",
    "| 101 | pres_wx_AU3 |\n",
    "| 102 | pres_wx_AU3_Measurement_Code |\n",
    "| 103 | pres_wx_AU3_Quality_Code |\n",
    "| 104 | pres_wx_AU3_Report_Type |\n",
    "| 105 | pres_wx_AU3_Source_Code |\n",
    "| 106 | pres_wx_AU3_Source_Station_ID |\n",
    "</div>\n",
    "<div style=\"width: 45%;\">\n",
    "    \n",
    "| Col# | Header |\n",
    "|---|---|\n",
    "| 107 | pres_wx_AW1 |\n",
    "| 108 | pres_wx_AW1_Measurement_Code |\n",
    "| 109 | pres_wx_AW1_Quality_Code |\n",
    "| 110 | pres_wx_AW1_Report_Type |\n",
    "| 111 | pres_wx_AW1_Source_Code |\n",
    "| 112 | pres_wx_AW1_Source_Station_ID |\n",
    "| 113 | pres_wx_AW2 |\n",
    "| 114 | pres_wx_AW2_Measurement_Code |\n",
    "| 115 | pres_wx_AW2_Quality_Code |\n",
    "| 116 | pres_wx_AW2_Report_Type |\n",
    "| 117 | pres_wx_AW2_Source_Code |\n",
    "| 118 | pres_wx_AW2_Source_Station_ID |\n",
    "| 119 | pres_wx_AW3 |\n",
    "| 120 | pres_wx_AW3_Measurement_Code |\n",
    "| 121 | pres_wx_AW3_Quality_Code |\n",
    "| 122 | pres_wx_AW3_Report_Type |\n",
    "| 123 | pres_wx_AW3_Source_Code |\n",
    "| 124 | pres_wx_AW3_Source_Station_ID |\n",
    "</div>\n",
    "<div style=\"width: 45%;\">\n",
    "\n",
    "| Col# | Header |\n",
    "|---|---|\n",
    "| 125 | snow_depth |\n",
    "| 126 | snow_depth_Measurement_Code |\n",
    "| 127 | snow_depth_Quality_Code |\n",
    "| 128 | snow_depth_Report_Type |\n",
    "| 129 | snow_depth_Source_Code |\n",
    "| 130 | snow_depth_Source_Station_ID |\n",
    "| 131 | visibility |\n",
    "| 132 | visibility_Measurement_Code |\n",
    "| 133 | visibility_Quality_Code |\n",
    "| 134 | visibility_Report_Type |\n",
    "| 135 | visibility_Source_Code |\n",
    "| 136 | visibility_Source_Station_ID |\n",
    "| 137 | altimeter |\n",
    "| 138 | altimeter_Measurement_Code |\n",
    "| 139 | altimeter_Quality_Code |\n",
    "| 140 | altimeter_Report_Type |\n",
    "| 141 | altimeter_Source_Code |\n",
    "| 142 | altimeter_Source_Station_ID |\n",
    "</div>\n",
    "</div>\n",
    "</div>"
   ]
  },
  {
   "cell_type": "markdown",
   "id": "e50cd9b9-cadb-4ea9-a0b9-faeb0ef6e039",
   "metadata": {},
   "source": [
    "<div style=\"display: inline-block\">\n",
    "<div style=\"display: flex; justify-content: space-between;\">\n",
    "<div style=\"width: 45%;\">\n",
    "\n",
    "| Col# | Header |\n",
    "|---|---|\n",
    "| 143 | pressure_3hr_change |\n",
    "| 144 | pressure_3hr_change_Measurement_Code |\n",
    "| 145 | pressure_3hr_change_Quality_Code |\n",
    "| 146 | pressure_3hr_change_Report_Type |\n",
    "| 147 | pressure_3hr_change_Source_Code |\n",
    "| 148 | pressure_3hr_change_Source_Station_ID |\n",
    "| 149 | sky_cover_1 |\n",
    "| 150 | sky_cover_1_Measurement_Code |\n",
    "| 151 | sky_cover_1_Quality_Code |\n",
    "| 152 | sky_cover_1_Report_Type |\n",
    "| 153 | sky_cover_1_Source_Code |\n",
    "| 154 | sky_cover_1_Source_Station_ID |\n",
    "| 155 | sky_cover_baseht_1 |\n",
    "| 156 | sky_cover_baseht_1_Measurement_Code |\n",
    "| 157 | sky_cover_baseht_1_Quality_Code |\n",
    "| 158 | sky_cover_baseht_1_Report_Type |\n",
    "| 159 | sky_cover_baseht_1_Source_Code |\n",
    "| 160 | sky_cover_baseht_1_Source_Station_ID |\n",
    "</div>\n",
    "<div style=\"width: 45%;\">\n",
    "    \n",
    "| Col# | Header |\n",
    "|---|---|\n",
    "| 161 | sky_cover_2 |\n",
    "| 162 | sky_cover_2_Measurement_Code |\n",
    "| 163 | sky_cover_2_Quality_Code |\n",
    "| 164 | sky_cover_2_Report_Type |\n",
    "| 165 | sky_cover_2_Source_Code |\n",
    "| 166 | sky_cover_2_Source_Station_ID |\n",
    "| 167 | sky_cover_baseht_2 |\n",
    "| 168 | sky_cover_baseht_2_Measurement_Code |\n",
    "| 169 | sky_cover_baseht_2_Quality_Code |\n",
    "| 170 | sky_cover_baseht_2_Report_Type |\n",
    "| 171 | sky_cover_baseht_2_Source_Code |\n",
    "| 172 | sky_cover_baseht_2_Source_Station_ID |\n",
    "| 173 | sky_cover_3 |\n",
    "| 174 | sky_cover_3_Measurement_Code |\n",
    "| 175 | sky_cover_3_Quality_Code |\n",
    "| 176 | sky_cover_3_Report_Type |\n",
    "| 177 | sky_cover_3_Source_Code |\n",
    "| 178 | sky_cover_3_Source_Station_ID |\n",
    "</div>\n",
    "<div style=\"width: 45%;\">\n",
    "    \n",
    "| Col# | Header |\n",
    "|---|---|\n",
    "| 179 | sky_cover_baseht_3 |\n",
    "| 180 | sky_cover_baseht_3_Measurement_Code |\n",
    "| 181 | sky_cover_baseht_3_Quality_Code |\n",
    "| 182 | sky_cover_baseht_3_Report_Type |\n",
    "| 183 | sky_cover_baseht_3_Source_Code |\n",
    "| 184 | sky_cover_baseht_3_Source_Station_ID |\n",
    "| 185 | precipitation_3_hour |\n",
    "| 186 | precipitation_3_hour_Measurement_Code |\n",
    "| 187 | precipitation_3_hour_Quality_Code |\n",
    "| 188 | precipitation_3_hour_Report_Type |\n",
    "| 189 | precipitation_3_hour_Source_Code |\n",
    "| 190 | precipitation_3_hour_Source_Station_ID |\n",
    "| 191 | precipitation_6_hour |\n",
    "| 192 | precipitation_6_hour_Measurement_Code |\n",
    "| 193 | precipitation_6_hour_Quality_Code |\n",
    "| 194 | precipitation_6_hour_Report_Type |\n",
    "| 195 | precipitation_6_hour_Source_Code |\n",
    "| 196 | precipitation_6_hour_Source_Station_ID |\n",
    "</div>\n",
    "</div>\n",
    "</div>"
   ]
  },
  {
   "cell_type": "markdown",
   "id": "aeae1b6d-30f0-4e13-8a2a-cc23e25fc521",
   "metadata": {},
   "source": [
    "<div style=\"display: inline-block\">\n",
    "<div style=\"display: flex; justify-content: space-between;\">\n",
    "<div style=\"width: 45%;\">\n",
    "\n",
    "| Col# | Header |\n",
    "|---|---|\n",
    "| 197 | precipitation_9_hour |\n",
    "| 198 | precipitation_9_hour_Measurement_Code |\n",
    "| 199 | precipitation_9_hour_Quality_Code |\n",
    "| 200 | precipitation_9_hour_Report_Type |\n",
    "| 201 | precipitation_9_hour_Source_Code |\n",
    "| 202 | precipitation_9_hour_Source_Station_ID |\n",
    "| 203 | precipitation_12_hour |\n",
    "| 204 | precipitation_12_hour_Measurement_Code |\n",
    "| 205 | precipitation_12_hour_Quality_Code |\n",
    "| 206 | precipitation_12_hour_Report_Type |\n",
    "| 207 | precipitation_12_hour_Source_Code |\n",
    "| 208 | precipitation_12_hour_Source_Station_ID |\n",
    "| 209 | precipitation_15_hour |\n",
    "| 210 | precipitation_15_hour_Measurement_Code |\n",
    "| 211 | precipitation_15_hour_Quality_Code |\n",
    "| 212 | precipitation_15_hour_Report_Type |\n",
    "| 213 | precipitation_15_hour_Source_Code |\n",
    "| 214 | precipitation_15_hour_Source_Station_ID |\n",
    "</div>\n",
    "<div style=\"width: 45%;\">\n",
    "    \n",
    "| Col# | Header |\n",
    "|---|---|\n",
    "| 215 | precipitation_18_hour |\n",
    "| 216 | precipitation_18_hour_Measurement_Code |\n",
    "| 217 | precipitation_18_hour_Quality_Code |\n",
    "| 218 | precipitation_18_hour_Report_Type |\n",
    "| 219 | precipitation_18_hour_Source_Code |\n",
    "| 220 | precipitation_18_hour_Source_Station_ID |\n",
    "| 221 | precipitation_21_hour |\n",
    "| 222 | precipitation_21_hour_Measurement_Code |\n",
    "| 223 | precipitation_21_hour_Quality_Code |\n",
    "| 224 | precipitation_21_hour_Report_Type |\n",
    "| 225 | precipitation_21_hour_Source_Code |\n",
    "| 226 | precipitation_21_hour_Source_Station_ID |\n",
    "| 227 | precipitation_24_hour |\n",
    "| 228 | precipitation_24_hour_Measurement_Code |\n",
    "| 229 | precipitation_24_hour_Quality_Code |\n",
    "| 230 | precipitation_24_hour_Report_Type |\n",
    "| 231 | precipitation_24_hour_Source_Code |\n",
    "| 232 | precipitation_24_hour_Source_Station_ID |\n",
    "</div>\n",
    "<div style=\"width: 45%;\">\n",
    "    \n",
    "| Col# | Header |\n",
    "|---|---|\n",
    "| 233 | remarks |\n",
    "| 234 | remarks_Measurement_Code |\n",
    "| 235 | remarks_Quality_Code |\n",
    "| 236 | remarks_Report_Type |\n",
    "| 237 | remarks_Source_Code |\n",
    "| 238 | remarks_Source_Station_ID |\n",
    "</div>\n",
    "</div>\n",
    "</div>"
   ]
  },
  {
   "cell_type": "code",
   "execution_count": null,
   "id": "eb682063-3db6-4eee-bb2d-92fd92d727e9",
   "metadata": {},
   "outputs": [],
   "source": []
  },
  {
   "cell_type": "code",
   "execution_count": null,
   "id": "d72bea76-1cb1-4a20-9402-d12618722701",
   "metadata": {},
   "outputs": [],
   "source": []
  },
  {
   "cell_type": "code",
   "execution_count": null,
   "id": "bafeed6f-abee-4584-8973-3e370f5d22c8",
   "metadata": {},
   "outputs": [],
   "source": []
  },
  {
   "cell_type": "code",
   "execution_count": null,
   "id": "0cbedfe5-4eeb-4430-8701-3ac59c1993b5",
   "metadata": {},
   "outputs": [],
   "source": []
  },
  {
   "cell_type": "code",
   "execution_count": null,
   "id": "fdee22e5-07f1-43ce-8686-3f45d3ad4ac5",
   "metadata": {},
   "outputs": [],
   "source": []
  },
  {
   "cell_type": "code",
   "execution_count": null,
   "id": "84ad1100-998f-44f1-ab89-2193d115882a",
   "metadata": {},
   "outputs": [],
   "source": []
  },
  {
   "cell_type": "code",
   "execution_count": null,
   "id": "9c039242-25a0-4168-9576-9dc6113b12c2",
   "metadata": {},
   "outputs": [],
   "source": []
  },
  {
   "cell_type": "code",
   "execution_count": null,
   "id": "1613a916-90d1-4335-b786-1ad002827a21",
   "metadata": {},
   "outputs": [],
   "source": []
  },
  {
   "cell_type": "code",
   "execution_count": null,
   "id": "d583c105-21a5-4977-9adc-3b793a2300ad",
   "metadata": {},
   "outputs": [],
   "source": []
  },
  {
   "cell_type": "code",
   "execution_count": null,
   "id": "268ed3dd-0784-4820-b676-255c587545ad",
   "metadata": {},
   "outputs": [],
   "source": []
  },
  {
   "cell_type": "code",
   "execution_count": null,
   "id": "3f428619-b7ac-40ec-8983-999119496c13",
   "metadata": {},
   "outputs": [],
   "source": []
  },
  {
   "cell_type": "code",
   "execution_count": null,
   "id": "f1e13bc4-abf1-4fa2-bf5d-92b9309fa26b",
   "metadata": {},
   "outputs": [],
   "source": []
  },
  {
   "cell_type": "code",
   "execution_count": null,
   "id": "80ae9545-0a3a-4a36-aa5b-847a5e8235b2",
   "metadata": {},
   "outputs": [],
   "source": []
  },
  {
   "cell_type": "code",
   "execution_count": null,
   "id": "be8d44b8-fe19-4c16-97c3-4a168675b3a0",
   "metadata": {},
   "outputs": [],
   "source": []
  },
  {
   "cell_type": "code",
   "execution_count": null,
   "id": "36646ad8-c499-4a79-8842-b2119ba71f63",
   "metadata": {},
   "outputs": [],
   "source": []
  },
  {
   "cell_type": "code",
   "execution_count": null,
   "id": "2d29d95f-b5b5-4da5-a0ea-e6ddca1c7271",
   "metadata": {},
   "outputs": [],
   "source": []
  },
  {
   "cell_type": "code",
   "execution_count": null,
   "id": "ded80155-fc4c-4413-8f6c-789817832fa2",
   "metadata": {},
   "outputs": [],
   "source": []
  },
  {
   "cell_type": "code",
   "execution_count": null,
   "id": "15a6f75f-b81f-4aca-9c53-d19026b1275a",
   "metadata": {},
   "outputs": [],
   "source": []
  },
  {
   "cell_type": "code",
   "execution_count": null,
   "id": "b63b0093-79db-463a-8f26-27cc0c93e96d",
   "metadata": {},
   "outputs": [],
   "source": []
  },
  {
   "cell_type": "code",
   "execution_count": null,
   "id": "a96a8f00-4aa9-40b5-91e8-2cec801fe8f3",
   "metadata": {},
   "outputs": [],
   "source": []
  }
 ],
 "metadata": {
  "kernelspec": {
   "display_name": "hist-obs",
   "language": "python",
   "name": "hist-obs"
  },
  "language_info": {
   "codemirror_mode": {
    "name": "ipython",
    "version": 3
   },
   "file_extension": ".py",
   "mimetype": "text/x-python",
   "name": "python",
   "nbconvert_exporter": "python",
   "pygments_lexer": "ipython3",
   "version": "3.9.18"
  }
 },
 "nbformat": 4,
 "nbformat_minor": 5
}
