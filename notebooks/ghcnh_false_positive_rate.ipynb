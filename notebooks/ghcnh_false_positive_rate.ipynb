{
 "cells": [
  {
   "cell_type": "markdown",
   "id": "2f107480-b89b-4dc8-a146-8ef1fee66c4e",
   "metadata": {},
   "source": [
    "# GHCNh false positive rate"
   ]
  },
  {
   "cell_type": "markdown",
   "id": "07f483d6-b778-4aa0-9eb8-bcb59a86cea6",
   "metadata": {},
   "source": [
    "## Load libraries"
   ]
  },
  {
   "cell_type": "code",
   "execution_count": null,
   "id": "6bf98323-af90-43a5-8a0c-ebfc0be02d60",
   "metadata": {
    "execution": {
     "iopub.execute_input": "2024-10-02T22:27:27.280385Z",
     "iopub.status.busy": "2024-10-02T22:27:27.280295Z",
     "iopub.status.idle": "2024-10-02T22:27:36.299270Z",
     "shell.execute_reply": "2024-10-02T22:27:36.298689Z",
     "shell.execute_reply.started": "2024-10-02T22:27:27.280374Z"
    }
   },
   "outputs": [],
   "source": [
    "# import libraries\n",
    "import pandas as pd\n",
    "import numpy as np\n",
    "import matplotlib.pyplot as plt\n",
    "import cartopy.crs as ccrs\n",
    "import sys\n",
    "import os\n",
    "\n",
    "ghcnh_lib_path = \"/Users/hector/ERA_work/historical-obs-platform/test_platform/scripts/3_qaqc_data/qaqc_eval_notebooks/GHCNh\"\n",
    "sys.path.append(ghcnh_lib_path)\n",
    "from GHCNh_lib import GHCNh  # If GHCNh is was appended to path\n",
    "\n",
    "sys.path.append(os.path.abspath(\"../scripts/3_qaqc_data\"))\n",
    "from qaqc_eval_utils import *\n",
    "\n",
    "%matplotlib inline\n",
    "\n",
    "%load_ext autoreload\n",
    "%autoreload 2"
   ]
  },
  {
   "cell_type": "markdown",
   "id": "246801a9-b1a3-4369-9b7a-409423fbd911",
   "metadata": {},
   "source": [
    "## GHCNh dataset"
   ]
  },
  {
   "cell_type": "markdown",
   "id": "f29a23de-8ed6-41bc-95a0-7957a62b9b0d",
   "metadata": {},
   "source": [
    "### GHCNh test the convert to geopandas DataFrame"
   ]
  },
  {
   "cell_type": "code",
   "execution_count": null,
   "id": "fd979aa5-ba57-445f-98f5-079834afade8",
   "metadata": {
    "execution": {
     "iopub.execute_input": "2024-10-02T22:27:36.300034Z",
     "iopub.status.busy": "2024-10-02T22:27:36.299925Z",
     "iopub.status.idle": "2024-10-02T22:27:39.311711Z",
     "shell.execute_reply": "2024-10-02T22:27:39.311438Z",
     "shell.execute_reply.started": "2024-10-02T22:27:36.300023Z"
    }
   },
   "outputs": [],
   "source": [
    "%%time\n",
    "ghcnh = GHCNh(stations_local=True)\n",
    "ghcnh.select_wecc()\n",
    "id = ghcnh.stations_df[\"id\"].iloc[0]\n",
    "ghcnh.read_data_from_url(id, save=True)\n",
    "ghcnh.convert_df_to_gpd()\n",
    "lon = ghcnh.station_data.Longitude.mean()\n",
    "lat = ghcnh.station_data.Latitude.mean()\n",
    "print(\"{}, {:.5f}, {:.5f}\".format(id, lon, lat))\n",
    "ghcnh.station_data.head(3)"
   ]
  },
  {
   "cell_type": "markdown",
   "id": "460d1c34-c527-400c-8fed-14f384e6002a",
   "metadata": {},
   "source": [
    "## Train stations and even evaluation"
   ]
  },
  {
   "cell_type": "markdown",
   "id": "ee32ab34-554e-43a9-8bec-7d8e07150347",
   "metadata": {},
   "source": [
    "### Read in stations"
   ]
  },
  {
   "cell_type": "code",
   "execution_count": null,
   "id": "b768ca2a-0d08-4824-81c9-4b4325ed326e",
   "metadata": {
    "execution": {
     "iopub.execute_input": "2024-10-02T22:27:39.312439Z",
     "iopub.status.busy": "2024-10-02T22:27:39.312277Z",
     "iopub.status.idle": "2024-10-02T22:27:39.333627Z",
     "shell.execute_reply": "2024-10-02T22:27:39.333270Z",
     "shell.execute_reply.started": "2024-10-02T22:27:39.312420Z"
    }
   },
   "outputs": [],
   "source": [
    "train_stns = pd.read_csv(\"../qaqc_training_station_list_events.csv\")"
   ]
  },
  {
   "cell_type": "markdown",
   "id": "dfa0b2f9-4289-45c0-aed2-f07e5513d220",
   "metadata": {},
   "source": [
    "### How to identify other events of interest using a start and end date"
   ]
  },
  {
   "cell_type": "code",
   "execution_count": null,
   "id": "02c39e75-fccd-4915-be01-c77f9508dbb3",
   "metadata": {
    "execution": {
     "iopub.execute_input": "2024-10-02T22:27:39.334238Z",
     "iopub.status.busy": "2024-10-02T22:27:39.334139Z",
     "iopub.status.idle": "2024-10-02T22:27:39.360419Z",
     "shell.execute_reply": "2024-10-02T22:27:39.360154Z",
     "shell.execute_reply.started": "2024-10-02T22:27:39.334228Z"
    }
   },
   "outputs": [],
   "source": [
    "alt_start_date = \"2007-10-20\"\n",
    "alt_end_date = \"2007-10-24\"\n",
    "alt_event_stns = find_other_events(\n",
    "    train_stns, event_start=alt_start_date, event_end=alt_end_date, buffer=14, subset=5\n",
    ")\n",
    "alt_event_stns.head(3)"
   ]
  },
  {
   "cell_type": "markdown",
   "id": "80be1a57-b1fe-4106-b045-5de1e0056864",
   "metadata": {},
   "source": [
    "### Original functionality of `subset_eval_stns` function, random sampling from trainint stations"
   ]
  },
  {
   "cell_type": "code",
   "execution_count": null,
   "id": "7504cc69-4747-4ee1-8d6d-91e042742f33",
   "metadata": {
    "execution": {
     "iopub.execute_input": "2024-10-02T22:27:39.361050Z",
     "iopub.status.busy": "2024-10-02T22:27:39.360929Z",
     "iopub.status.idle": "2024-10-02T22:27:39.925905Z",
     "shell.execute_reply": "2024-10-02T22:27:39.925578Z",
     "shell.execute_reply.started": "2024-10-02T22:27:39.361040Z"
    }
   },
   "outputs": [],
   "source": [
    "eval_stations = subset_eval_stns(\n",
    "    event_to_eval=\"santa_ana_wind\", stn_list=train_stns, subset=5, return_stn_ids=True\n",
    ")\n",
    "eval_stations.head(3)"
   ]
  },
  {
   "cell_type": "code",
   "execution_count": null,
   "id": "374ceec1-4b15-466c-ba18-7237f47ec6f7",
   "metadata": {
    "execution": {
     "iopub.execute_input": "2024-10-02T22:27:39.926495Z",
     "iopub.status.busy": "2024-10-02T22:27:39.926395Z",
     "iopub.status.idle": "2024-10-02T22:27:39.945106Z",
     "shell.execute_reply": "2024-10-02T22:27:39.944830Z",
     "shell.execute_reply.started": "2024-10-02T22:27:39.926485Z"
    }
   },
   "outputs": [],
   "source": [
    "eval_stations[\"era-id\"].values[-1]\n",
    "# eval_stations.loc[eval_stations['era-id']==stn_id]"
   ]
  },
  {
   "cell_type": "code",
   "execution_count": null,
   "id": "1aa20598-2caa-450f-ac65-a9a3cdfb52cd",
   "metadata": {
    "execution": {
     "iopub.execute_input": "2024-10-02T22:27:39.947277Z",
     "iopub.status.busy": "2024-10-02T22:27:39.947168Z",
     "iopub.status.idle": "2024-10-02T22:27:45.741008Z",
     "shell.execute_reply": "2024-10-02T22:27:45.740705Z",
     "shell.execute_reply.started": "2024-10-02T22:27:39.947267Z"
    }
   },
   "outputs": [],
   "source": [
    "fig, ax = stn_visualize(\n",
    "    stn_id=eval_stations[\"era-id\"].values[-1],\n",
    "    stn_list=eval_stations,\n",
    "    event_to_eval=\"santa_ana_wind\",\n",
    ")\n",
    "\n",
    "ax.plot(\n",
    "    ghcnh.stations_df.longitude,\n",
    "    ghcnh.stations_df.latitude,\n",
    "    \"x\",\n",
    "    markersize=4,\n",
    "    transform=ccrs.PlateCarree(),\n",
    "    mfc=\"none\",\n",
    ")"
   ]
  },
  {
   "cell_type": "markdown",
   "id": "b6ea2523-1778-481a-a847-41d52a92eb9b",
   "metadata": {},
   "source": [
    "### New addition, specific station flag\n",
    "\n",
    "<div style=\"width: 50em;\">\n",
    "Specific station flag introduced to control which station we are analyzing\n",
    "Useful for debugging, down the line this would help to manage using the same\n",
    "station and not download different stations every time in the nearest stations\n",
    "part (down)\n",
    "</div>"
   ]
  },
  {
   "cell_type": "code",
   "execution_count": null,
   "id": "1f1c8318-a7b9-4ea0-8cf8-c838bb57a24e",
   "metadata": {
    "execution": {
     "iopub.execute_input": "2024-10-02T22:42:27.509786Z",
     "iopub.status.busy": "2024-10-02T22:42:27.508001Z",
     "iopub.status.idle": "2024-10-02T22:42:27.609716Z",
     "shell.execute_reply": "2024-10-02T22:42:27.609350Z",
     "shell.execute_reply.started": "2024-10-02T22:42:27.509703Z"
    }
   },
   "outputs": [],
   "source": [
    "\"\"\" Test when station is not in the training/event dataframe\n",
    "This would lead to the error:\n",
    "'ValueError: Station CIMIS_80 is not within the training/event dataset'\n",
    "\"\"\"\n",
    "\n",
    "# eval_stations = subset_eval_stns(\n",
    "#     event_to_eval = 'santa_ana_wind',\n",
    "#     stn_list = train_stns,\n",
    "#     specific_station='CIMIS_80',\n",
    "#     return_stn_ids = True\n",
    "# )\n",
    "# eval_stations"
   ]
  },
  {
   "cell_type": "code",
   "execution_count": null,
   "id": "1b374fb9-7058-46d3-a479-3da850b4e791",
   "metadata": {
    "execution": {
     "iopub.execute_input": "2024-10-02T22:27:48.475436Z",
     "iopub.status.busy": "2024-10-02T22:27:48.474819Z",
     "iopub.status.idle": "2024-10-02T22:27:48.517204Z",
     "shell.execute_reply": "2024-10-02T22:27:48.516702Z",
     "shell.execute_reply.started": "2024-10-02T22:27:48.475392Z"
    }
   },
   "outputs": [],
   "source": [
    "# specific_station = 'CIMIS_45'\n",
    "specific_station = \"CIMIS_75\""
   ]
  },
  {
   "cell_type": "code",
   "execution_count": null,
   "id": "101b57fb-30cb-47f0-967a-0c0782f90a4d",
   "metadata": {
    "execution": {
     "iopub.execute_input": "2024-10-02T22:27:48.974439Z",
     "iopub.status.busy": "2024-10-02T22:27:48.973655Z",
     "iopub.status.idle": "2024-10-02T22:27:49.379652Z",
     "shell.execute_reply": "2024-10-02T22:27:49.379314Z",
     "shell.execute_reply.started": "2024-10-02T22:27:48.974371Z"
    }
   },
   "outputs": [],
   "source": [
    "eval_stations = subset_eval_stns(\n",
    "    event_to_eval=\"santa_ana_wind\",\n",
    "    stn_list=train_stns,\n",
    "    specific_station=specific_station,\n",
    "    return_stn_ids=True,\n",
    ")\n",
    "eval_stations"
   ]
  },
  {
   "cell_type": "markdown",
   "id": "b40c99b1-8608-4cd1-bbbb-d90f367341ad",
   "metadata": {},
   "source": [
    "#### Plot 'specific station' from the training and the GHCNh stations in the 'area'"
   ]
  },
  {
   "cell_type": "code",
   "execution_count": null,
   "id": "3f8cc510-ed96-4ca2-9050-f79f511d512e",
   "metadata": {
    "execution": {
     "iopub.execute_input": "2024-10-02T22:27:49.403391Z",
     "iopub.status.busy": "2024-10-02T22:27:49.403234Z",
     "iopub.status.idle": "2024-10-02T22:27:49.807085Z",
     "shell.execute_reply": "2024-10-02T22:27:49.806638Z",
     "shell.execute_reply.started": "2024-10-02T22:27:49.403379Z"
    }
   },
   "outputs": [],
   "source": [
    "fig, ax = stn_visualize(\n",
    "    stn_id=specific_station, stn_list=eval_stations, event_to_eval=\"santa_ana_wind\"\n",
    ")\n",
    "\n",
    "ax.plot(\n",
    "    ghcnh.stations_df.longitude,\n",
    "    ghcnh.stations_df.latitude,\n",
    "    \"x\",\n",
    "    markersize=4,\n",
    "    transform=ccrs.PlateCarree(),\n",
    "    mfc=\"none\",\n",
    ")"
   ]
  },
  {
   "cell_type": "markdown",
   "id": "8e2a793b-e5e5-410d-9f47-991c99dd5925",
   "metadata": {},
   "source": [
    "## GHCNh stations distance to the testing stations\n",
    "\n",
    "<div style=\"width: 50em;\">\n",
    "Create a distnace to specific station column for the ghcnh dataframe\n",
    "Then, sort by distance to have the nearest stations to the one we are evaluating\n",
    "</div>"
   ]
  },
  {
   "cell_type": "markdown",
   "id": "a8948ca2-56c4-4610-85a8-e8bf1a138d19",
   "metadata": {},
   "source": [
    "### Create distance and sort it"
   ]
  },
  {
   "cell_type": "code",
   "execution_count": null,
   "id": "03d95769-1d0b-4bd5-a6b8-01e01cd40222",
   "metadata": {
    "execution": {
     "iopub.execute_input": "2024-10-02T22:27:49.808389Z",
     "iopub.status.busy": "2024-10-02T22:27:49.808258Z",
     "iopub.status.idle": "2024-10-02T22:27:49.842909Z",
     "shell.execute_reply": "2024-10-02T22:27:49.842613Z",
     "shell.execute_reply.started": "2024-10-02T22:27:49.808378Z"
    }
   },
   "outputs": [],
   "source": [
    "stn_id = eval_stations[\"era-id\"].values[-1]\n",
    "point = eval_stations.loc[eval_stations[\"era-id\"] == stn_id].geometry.iloc[0]\n",
    "ghcnh_stations_df = ghcnh.stations_df.copy()\n",
    "display(eval_stations.loc[eval_stations[\"era-id\"] == stn_id, [\"longitude\", \"latitude\"]])\n",
    "ghcnh_stations_df[\"distance_to_eval\"] = ghcnh_stations_df.distance(\n",
    "    point,\n",
    ")\n",
    "ghcnh_stations_df = ghcnh_stations_df.sort_values(by=\"distance_to_eval\")\n",
    "ghcnh_stations_df.head(5)"
   ]
  },
  {
   "cell_type": "markdown",
   "id": "479b0170-3f7d-4c75-a686-d65830af9fb8",
   "metadata": {},
   "source": [
    "### Plot the closest 10 stations to the train/eval station"
   ]
  },
  {
   "cell_type": "code",
   "execution_count": null,
   "id": "bff506b0-873c-4a6c-acbf-6e105e5ae1af",
   "metadata": {
    "execution": {
     "iopub.execute_input": "2024-10-02T22:27:49.843581Z",
     "iopub.status.busy": "2024-10-02T22:27:49.843448Z",
     "iopub.status.idle": "2024-10-02T22:27:50.219620Z",
     "shell.execute_reply": "2024-10-02T22:27:50.219277Z",
     "shell.execute_reply.started": "2024-10-02T22:27:49.843571Z"
    }
   },
   "outputs": [],
   "source": [
    "fig, ax = stn_visualize(\n",
    "    stn_id=specific_station, stn_list=eval_stations, event_to_eval=\"santa_ana_wind\"\n",
    ")\n",
    "\n",
    "plot_df = ghcnh_stations_df.iloc[:10]\n",
    "ax.plot(\n",
    "    plot_df.longitude,\n",
    "    plot_df.latitude,\n",
    "    \"x\",\n",
    "    markersize=6,\n",
    "    transform=ccrs.PlateCarree(),\n",
    "    mfc=\"none\",\n",
    ");"
   ]
  },
  {
   "cell_type": "code",
   "execution_count": null,
   "id": "79115793-dd89-499b-bc6c-3127f1fcb67f",
   "metadata": {
    "execution": {
     "iopub.execute_input": "2024-10-02T22:27:50.220371Z",
     "iopub.status.busy": "2024-10-02T22:27:50.220122Z",
     "iopub.status.idle": "2024-10-02T22:27:50.240886Z",
     "shell.execute_reply": "2024-10-02T22:27:50.240589Z",
     "shell.execute_reply.started": "2024-10-02T22:27:50.220351Z"
    }
   },
   "outputs": [],
   "source": [
    "era2ghcn_vars"
   ]
  },
  {
   "cell_type": "code",
   "execution_count": null,
   "id": "8e7922ce-be61-4d80-a12f-ced0db800727",
   "metadata": {
    "execution": {
     "iopub.execute_input": "2024-10-02T22:27:50.241547Z",
     "iopub.status.busy": "2024-10-02T22:27:50.241398Z",
     "iopub.status.idle": "2024-10-02T22:27:50.260907Z",
     "shell.execute_reply": "2024-10-02T22:27:50.260563Z",
     "shell.execute_reply.started": "2024-10-02T22:27:50.241534Z"
    }
   },
   "outputs": [],
   "source": [
    "# df, vars = return_ghcn_vars(ghcnh.station_data, 'tas')"
   ]
  },
  {
   "cell_type": "code",
   "execution_count": null,
   "id": "b2737077-28e4-4b01-a499-813cb7b7b0b1",
   "metadata": {
    "execution": {
     "iopub.execute_input": "2024-10-02T22:27:50.286022Z",
     "iopub.status.busy": "2024-10-02T22:27:50.285761Z",
     "iopub.status.idle": "2024-10-02T22:27:50.304018Z",
     "shell.execute_reply": "2024-10-02T22:27:50.303686Z",
     "shell.execute_reply.started": "2024-10-02T22:27:50.286010Z"
    }
   },
   "outputs": [],
   "source": [
    "# len(df.temperature_Quality_Code.dropna())/len(df.temperature_Quality_Code)"
   ]
  },
  {
   "cell_type": "code",
   "execution_count": null,
   "id": "a4dcd8f5-180d-4a1a-bf92-26a5f1d210d3",
   "metadata": {
    "execution": {
     "iopub.execute_input": "2024-10-02T22:27:50.306016Z",
     "iopub.status.busy": "2024-10-02T22:27:50.305835Z",
     "iopub.status.idle": "2024-10-02T22:28:16.684447Z",
     "shell.execute_reply": "2024-10-02T22:28:16.683968Z",
     "shell.execute_reply.started": "2024-10-02T22:27:50.306002Z"
    }
   },
   "outputs": [],
   "source": [
    "%%time\n",
    "ds = pull_nc_from_aws(specific_station)  # manually retrieve a specific station\n",
    "ds"
   ]
  },
  {
   "cell_type": "code",
   "execution_count": null,
   "id": "d21bc546-5cc9-4c93-bbbe-2e0deae1ec20",
   "metadata": {
    "execution": {
     "iopub.execute_input": "2024-10-02T22:28:16.719783Z",
     "iopub.status.busy": "2024-10-02T22:28:16.719639Z",
     "iopub.status.idle": "2024-10-02T22:33:40.352051Z",
     "shell.execute_reply": "2024-10-02T22:33:40.351652Z",
     "shell.execute_reply.started": "2024-10-02T22:28:16.719771Z"
    }
   },
   "outputs": [],
   "source": [
    "%%time\n",
    "df, MultiIndex, attrs, var_attrs, era_qc_vars = qaqc_ds_to_df(ds)\n",
    "df.head(3)"
   ]
  },
  {
   "cell_type": "code",
   "execution_count": null,
   "id": "5016b5ef-795f-4fcd-9000-669e1d74aa7f",
   "metadata": {
    "execution": {
     "iopub.execute_input": "2024-10-02T22:33:41.841491Z",
     "iopub.status.busy": "2024-10-02T22:33:41.841331Z",
     "iopub.status.idle": "2024-10-02T22:33:42.267851Z",
     "shell.execute_reply": "2024-10-02T22:33:42.267516Z",
     "shell.execute_reply.started": "2024-10-02T22:33:41.841479Z"
    }
   },
   "outputs": [],
   "source": [
    "%%time\n",
    "df, MultiIndex, attrs, var_attrs, era_qc_vars = qaqc_ds_to_df(ds)\n",
    "df.head(3)"
   ]
  },
  {
   "cell_type": "markdown",
   "id": "6918c3a2-7794-456a-9aa9-7366d3bb71dd",
   "metadata": {},
   "source": [
    "### Why is the first time `qaqc_ds_to_df` much much slower than the second? "
   ]
  },
  {
   "cell_type": "markdown",
   "id": "94a358d8-4d52-4819-b29b-86bacd1e714c",
   "metadata": {},
   "source": [
    "<div style=\"width: 50em;\">\n",
    "The first time, `s3.open()` is done. This does reads the dataset in a lazy way. When converting to df, the whole file needs\n",
    "to be read to memory, which `s3.open()` does much slower than s3.download()`\n",
    "</div>"
   ]
  },
  {
   "cell_type": "markdown",
   "id": "28850bb5-360f-4d0e-89ec-ad4d51226bd3",
   "metadata": {},
   "source": [
    "<div style=\"width: 50em;\">\n",
    "\n",
    "_From ChatGPT:_\n",
    "\n",
    "When comparing s3.open and s3.download, the performance difference typically depends on how data is accessed and processed. Here’s an overview of the two methods:\n",
    "\n",
    "1. **`s3.open()`**:\n",
    "Use Case: Opens a file from an S3 bucket as a file-like object.\n",
    "Performance:\n",
    "When using s3.open, data is streamed in smaller chunks, allowing for on-the-fly reading (useful when handling large files). This reduces memory overhead since the file is not loaded into memory at once.\n",
    "However, this streaming approach can make accessing data slower, especially when performing repeated read operations, as it incurs overhead due to network latency and chunk retrieval.\n",
    "2. **`s3.download()`**:\n",
    "Use Case: Downloads a file from S3 and stores it locally or in memory.\n",
    "Performance:\n",
    "s3.download typically downloads the entire file at once, which can be faster when you need the whole file to be processed or manipulated. There’s less latency involved after the file is downloaded, as subsequent operations on the local or in-memory copy are fast.\n",
    "However, downloading large files can be slower initially (compared to streaming) and can consume significant memory.\n",
    "Summary:\n",
    "s3.open is slower for operations that require reading large amounts of data repeatedly due to chunk-based streaming.\n",
    "s3.download is faster when you need the entire file at once, as you download the full data and can work with it in memory without additional network operations.\n",
    "When to Use Each:\n",
    "Use s3.open() for large files or if you only need partial access to the file (e.g., processing chunks of data or streaming video).\n",
    "Use s3.download() when you want the entire file available immediately or if you need faster access after the file is fully downloaded.\n",
    "</div>"
   ]
  },
  {
   "cell_type": "markdown",
   "id": "d40753d6-e283-4098-aa70-ba91bfc2564f",
   "metadata": {},
   "source": [
    "<div style=\"width: 50em;\">\n",
    "One way to handle this, specially for speed in debugging and testing, is to download the file to a temporary file, with the option to save to disk if we want to. Since downloading the file it's much faster, this process will be faster. Also, we can set an instruction to look first locally, if the file is not there, then download from s3 bucket\n",
    "</div>"
   ]
  },
  {
   "cell_type": "code",
   "execution_count": null,
   "id": "beb255e2-7a5e-4b28-b262-b4759bc44833",
   "metadata": {
    "execution": {
     "iopub.execute_input": "2024-10-02T22:33:47.907243Z",
     "iopub.status.busy": "2024-10-02T22:33:47.907101Z",
     "iopub.status.idle": "2024-10-02T22:33:48.768047Z",
     "shell.execute_reply": "2024-10-02T22:33:48.767660Z",
     "shell.execute_reply.started": "2024-10-02T22:33:47.907232Z"
    }
   },
   "outputs": [],
   "source": [
    "%%time\n",
    "ds = download_nc_from_aws(specific_station)\n",
    "ds"
   ]
  },
  {
   "cell_type": "markdown",
   "id": "831acdbc-32ea-47f3-949d-c6c352336fad",
   "metadata": {},
   "source": [
    "#### Download the file to local folder with `save=True"
   ]
  },
  {
   "cell_type": "code",
   "execution_count": null,
   "id": "1d1bb308-4b5e-4c13-bd2e-f65f8ae7c5af",
   "metadata": {
    "execution": {
     "iopub.execute_input": "2024-10-02T22:33:48.768848Z",
     "iopub.status.busy": "2024-10-02T22:33:48.768662Z",
     "iopub.status.idle": "2024-10-02T22:33:49.528443Z",
     "shell.execute_reply": "2024-10-02T22:33:49.528111Z",
     "shell.execute_reply.started": "2024-10-02T22:33:48.768838Z"
    }
   },
   "outputs": [],
   "source": [
    "ds = download_nc_from_aws(specific_station, save=True)\n",
    "ds"
   ]
  },
  {
   "cell_type": "markdown",
   "id": "486debd5-6f1a-445e-9674-52bfe626335a",
   "metadata": {},
   "source": [
    "### Once the file was downloaded, reading from disk should be faster for testing"
   ]
  },
  {
   "cell_type": "code",
   "execution_count": null,
   "id": "05cfafb1-0b6d-4cd2-b9a7-8e9b263a4291",
   "metadata": {
    "execution": {
     "iopub.execute_input": "2024-10-02T22:33:49.528980Z",
     "iopub.status.busy": "2024-10-02T22:33:49.528884Z",
     "iopub.status.idle": "2024-10-02T22:33:50.279499Z",
     "shell.execute_reply": "2024-10-02T22:33:50.279084Z",
     "shell.execute_reply.started": "2024-10-02T22:33:49.528971Z"
    }
   },
   "outputs": [],
   "source": [
    "%%time\n",
    "ds = download_nc_from_aws(specific_station)\n",
    "ds"
   ]
  },
  {
   "cell_type": "code",
   "execution_count": null,
   "id": "b307539c-9321-42c2-9400-4e44657deadb",
   "metadata": {
    "execution": {
     "iopub.execute_input": "2024-10-02T22:33:50.283145Z",
     "iopub.status.busy": "2024-10-02T22:33:50.283002Z",
     "iopub.status.idle": "2024-10-02T22:33:51.006824Z",
     "shell.execute_reply": "2024-10-02T22:33:51.006412Z",
     "shell.execute_reply.started": "2024-10-02T22:33:50.283136Z"
    }
   },
   "outputs": [],
   "source": [
    "%%time\n",
    "df, MultiIndex, attrs, var_attrs, era_qc_vars = qaqc_ds_to_df(ds)\n",
    "df.head(3)"
   ]
  },
  {
   "cell_type": "markdown",
   "id": "e9e82593-b611-47e3-8bf2-220ed4e05e1c",
   "metadata": {},
   "source": [
    "#### Check if the ds_to_df problem was fixed\n",
    "\n",
    "`ds_to_df` function was deleting all flags and converting them to nans"
   ]
  },
  {
   "cell_type": "code",
   "execution_count": null,
   "id": "886a2fba-e3a5-4e46-9de2-c76b596a6903",
   "metadata": {
    "execution": {
     "iopub.execute_input": "2024-10-02T22:33:51.007471Z",
     "iopub.status.busy": "2024-10-02T22:33:51.007390Z",
     "iopub.status.idle": "2024-10-02T22:33:51.094776Z",
     "shell.execute_reply": "2024-10-02T22:33:51.094361Z",
     "shell.execute_reply.started": "2024-10-02T22:33:51.007462Z"
    }
   },
   "outputs": [],
   "source": [
    "fig, ax = plt.subplots(figsize=(7, 3))\n",
    "ds.tas_eraqc.plot(ax=ax, marker=\".\", lw=0);"
   ]
  },
  {
   "cell_type": "code",
   "execution_count": null,
   "id": "27d28ea4-ab39-4d3a-bf49-0a657c2bd481",
   "metadata": {
    "execution": {
     "iopub.execute_input": "2024-10-02T22:33:51.095486Z",
     "iopub.status.busy": "2024-10-02T22:33:51.095290Z",
     "iopub.status.idle": "2024-10-02T22:33:51.170380Z",
     "shell.execute_reply": "2024-10-02T22:33:51.169972Z",
     "shell.execute_reply.started": "2024-10-02T22:33:51.095476Z"
    }
   },
   "outputs": [],
   "source": [
    "fig, ax = plt.subplots(figsize=(7, 3))\n",
    "df.tas_eraqc.plot(ax=ax, marker=\".\", lw=0);"
   ]
  },
  {
   "cell_type": "code",
   "execution_count": null,
   "id": "26e170e4-bc65-4e1c-b41a-2e06d2fc1969",
   "metadata": {},
   "outputs": [],
   "source": []
  },
  {
   "cell_type": "markdown",
   "id": "2c40f37a-89f4-43e6-b676-14fbe7f62081",
   "metadata": {},
   "source": [
    "## Classification metrics: precision, recall, false positive, and false negative rates"
   ]
  },
  {
   "cell_type": "markdown",
   "id": "29a74f7c-6edd-4d73-aca2-8d3f930d3cf4",
   "metadata": {},
   "source": [
    "<div style=\"width: 50em;\">\n",
    "    \n",
    "**Accuracy** is the most obvious classification metric, which is defined as the number of correct predictions divided by the total number of observations.\n",
    "\n",
    "The biggest problem with accuracy is that it will let us down in situations where one class occurs with much higher frequency than another.  \n",
    "</div>"
   ]
  },
  {
   "cell_type": "markdown",
   "id": "ebdcc088-d008-4db8-88dd-8b6f17442642",
   "metadata": {},
   "source": [
    "<div style=\"width: 50em;\">\n",
    "\n",
    "---\n",
    "**Discussion**\n",
    "\n",
    "- We are tasked to build an QA/QC that analyzes weather stations. The goal is to build a pipeline that recognize \"bad\" values and flags them. Accuracy aims to flag as many \"bad\" avlues as the ground truth \"bad\" observations. \n",
    "- If our QA/QC gets a 1-% accuracy score, would we be happy with this outcome?\n",
    "---\n",
    "When accuracy is not a useful metric, we can instead focus on the uncommon class , in this case, the flag values:\n",
    "- If QA/QC pipeline marks an obvservartion as \"bad\", how likely is it for that obsrevation is actually an error?\", or\n",
    "- What percent of \"real\"/ground truth bad observations are correctly flagged by our pipeline?\"\n",
    "\n",
    "These are the concepts of **precision** and **recall**, respectively. \n",
    "\n",
    "</div>"
   ]
  },
  {
   "cell_type": "markdown",
   "id": "1657004f-726b-4b2a-bca6-aa46f0acd8fa",
   "metadata": {
    "execution": {
     "iopub.execute_input": "2024-10-02T18:56:54.233974Z",
     "iopub.status.busy": "2024-10-02T18:56:54.232352Z",
     "iopub.status.idle": "2024-10-02T18:56:54.703155Z",
     "shell.execute_reply": "2024-10-02T18:56:54.702297Z",
     "shell.execute_reply.started": "2024-10-02T18:56:54.233940Z"
    }
   },
   "source": [
    "<div style=\"width: 50em;\">\n",
    "\n",
    "In the figure below, \"correct\" observations are representend in blue and \"bad\" observations are red. We pick the \"flag\" class to be the **positive class**. The arrows denote the results of our QA/QC pipeline. A blue arrow means the pipeline classifies the observation as \"good\" and a red arrow means the pipeline flags the observation as \"bad\".\n",
    "\n",
    "![errors](precision_recall.svg)\n",
    "\n",
    "Notice that there are instances when the QA/QC makes a correct classification, either it classifies that a \"good\" observation is good (true negative) or it flags that a bad observation is bad (true positive). But occasionally it makes an error. There are two types of errors, we either flagged a good observation as \"bad\" (false positive, also called type I error) or we classified an \"real bad\" observation as correct (false negative, also called type II error). \n",
    "\n",
    "* **Precision** is then defined as the number of true positives divided by the number of all positive *predictions*. Maximizing precision means **minimizing false positives**.\n",
    "* **Recall** is defined as number of true positives divided by the number all positive *observations*. Maximizing recall means **minimizing false negatives**.\n",
    "---\n",
    "</div>"
   ]
  },
  {
   "cell_type": "markdown",
   "id": "9c84e4ca-b886-407b-bed4-af6097c8370a",
   "metadata": {
    "execution": {
     "iopub.execute_input": "2024-10-02T18:56:54.233974Z",
     "iopub.status.busy": "2024-10-02T18:56:54.232352Z",
     "iopub.status.idle": "2024-10-02T18:56:54.703155Z",
     "shell.execute_reply": "2024-10-02T18:56:54.702297Z",
     "shell.execute_reply.started": "2024-10-02T18:56:54.233940Z"
    }
   },
   "source": [
    "<div style=\"width: 50em;\">\n",
    "    \n",
    "**In summary**:\n",
    "\n",
    "Accuracy is the number of correct predictions divided by the total number of observations:\n",
    "- Minimizing false positives means maximizing precision.\n",
    "- Minimizing false negatives means maximizing recall\n",
    "</div>"
   ]
  },
  {
   "cell_type": "markdown",
   "id": "ce2a6906-4e91-43ed-b3d0-f1f6dc7cbed6",
   "metadata": {},
   "source": [
    "### False positive and false negative rates"
   ]
  },
  {
   "cell_type": "markdown",
   "id": "ea9356b3-0359-42ac-aaf0-94b7c723c2f8",
   "metadata": {},
   "source": [
    "<div style=\"width: 50em;\">\n",
    "\n",
    "The **false positive rate (FPR)** is the proportion of all negatives that still yield positive test outcomes, i.e., the conditional probability of a positive test result given an event that was not present. The false positive rate depends on the significance level. The **specificity** of the test is equal to 1 minus the false positive rate.\n",
    "\n",
    "- In statistical hypothesis testing, this fraction is given the Greek letter α, and 1 − α is defined as the specificity of the test. \n",
    "\n",
    "- Increasing the specificity of the test lowers the probability of type I errors, but may raise the probability of type II errors (false negatives that reject the alternative hypothesis when it is true).\n",
    "\n",
    "Complementarily, the **false negative rate (FNR)** is the proportion of positives which yield negative test outcomes with the test, i.e., the conditional probability of a negative test result given that the condition being looked for is present.\n",
    "\n",
    "- In statistical hypothesis testing, this fraction is given the letter β. The \"power\" (or the \"sensitivity\") of the test is equal to 1 − β.\n",
    "\n",
    "</div>"
   ]
  },
  {
   "cell_type": "markdown",
   "id": "309ba9d5-2725-4e94-aa8d-257fa81b6452",
   "metadata": {},
   "source": [
    "#### False positive rate (FPR)"
   ]
  },
  {
   "cell_type": "markdown",
   "id": "5ef7b358-4fe9-4779-96a7-627d5a4a2870",
   "metadata": {},
   "source": [
    "<div style=\"width: 50em;\">\n",
    "\n",
    "**FPR** is a metric used to evaluate the performance of a classification model, particularly in binary classification. It measures the proportion of negative instances (i.e., instances that actually belong to the negative class) that are incorrectly classified as positive by the model.\n",
    "\n",
    "$$\\text{False Positive Rate (FPR)} = \\frac{\\text{False Positives (FP)}}{\\text{False Positives (FP)} + \\text{True Negatives (TN)}}\\,\\text{,}$$\n",
    "where:\n",
    "\n",
    "False Positives (FP): The number of instances where the model incorrectly predicted the positive class, but they actually belong to the negative class.\n",
    "\n",
    "True Negatives (TN): The number of instances where the model correctly predicted the negative class.\n",
    "</div>"
   ]
  },
  {
   "cell_type": "markdown",
   "id": "58d2151b-26a4-4210-afc7-429d0bdb2319",
   "metadata": {},
   "source": [
    "<div style=\"width: 50em;\">\n",
    "\n",
    "**Interpretation:**\n",
    "\n",
    "The false positive rate tells you how often your model incorrectly classifies negatives as positives.\n",
    "\n",
    "- A low FPR is desirable, especially in cases where false positives carry significant costs (e.g., fraud detection, medical diagnoses).\n",
    "- A high FPR means the model is making too many incorrect positive predictions, which can lead to undesirable outcomes.\n",
    "</div>"
   ]
  },
  {
   "cell_type": "markdown",
   "id": "939a9f03-98e3-40f0-b78d-1ef1bc8f00a6",
   "metadata": {},
   "source": [
    "#### False negativerate (FPR)"
   ]
  },
  {
   "cell_type": "markdown",
   "id": "e2f37f09-b6fe-4b90-b767-2a19641ba58e",
   "metadata": {},
   "source": [
    "<div style=\"width: 50em;\">\n",
    "    \n",
    "The **False Negative Rate (FNR)** is a metric used in binary classification to measure the proportion of positive instances that are incorrectly classified as negative by the model. In other words, it tells you how often the model fails to detect positives (i.e., actual positives that were classified as negatives).\n",
    "\n",
    "$$\\text{False Negative Rate (FNR)} = \\frac{\\text{False Negatives (FN)}}{\\text{False Negatives (FN)} + \\text{True Positives (TP)}} \\, \\text{,}$$\n",
    "where\n",
    "\n",
    "False Negatives (FN): The number of instances where the model incorrectly predicted the negative class, but they actually belong to the positive class.\n",
    "\n",
    "True Positives (TP): The number of instances where the model correctly predicted the positive class.\n",
    "</div>"
   ]
  },
  {
   "cell_type": "markdown",
   "id": "329f478b-36bd-44a1-94bc-bedf9ca65095",
   "metadata": {},
   "source": [
    "<div style=\"width: 50em;\">\n",
    "\n",
    "**Interpretation:**\n",
    "\n",
    "- A low FNR is desirable, especially in applications where missing positive instances is costly (e.g., failing to detect a disease or fraud).\n",
    "- A high FNR means the model is missing too many actual positives, which can lead to harmful consequences.\n",
    "</div>"
   ]
  },
  {
   "cell_type": "markdown",
   "id": "efa82f7f-e8ec-4c0c-a5cc-8edf9b80349f",
   "metadata": {},
   "source": [
    "<div style=\"width: 50em;\">\n",
    "\n",
    "**Relation to Sensitivity (Recall)**\n",
    "\n",
    "The False Negative Rate (FNR) is related to Sensitivity (Recall), which measures the proportion of true positives identified by the model. Sensitivity is given by:\n",
    "$$\\text{Sensitivity (Recall)} = \\frac{\\text{True Positives (TP)}}{\\text{True Positives (TP)} + \\text{False Negatives (FN)}}$$\n",
    "</div>"
   ]
  },
  {
   "cell_type": "markdown",
   "id": "cc2da18c-3cf6-46ab-96c5-a1704de55799",
   "metadata": {},
   "source": [
    "## FPR/FNR in terms of our QA/QC process"
   ]
  },
  {
   "cell_type": "markdown",
   "id": "a38f3463-d496-4e7c-ae86-83f31fcf768e",
   "metadata": {},
   "source": [
    "<img src=\"era_obs.png\" alt=\"ERA_obs\" width=\"700\"/>\n",
    "</img>"
   ]
  },
  {
   "cell_type": "markdown",
   "id": "15857c51-345d-4262-90af-768dd469f9ac",
   "metadata": {},
   "source": [
    "<div style=\"width: 50em;\">\n",
    "\n",
    "* **False possitive rate (FPR)**\n",
    "\n",
    "**FPR** measures the proportion of \"good\" observations that are incorrectly classified as \"bad\" by the pipeline.\n",
    "\n",
    "$$\\text{False Positive Rate (FPR)} = \\frac{\\text{False Positives (FP)}}{\\text{False Positives (FP)} + \\text{True Negatives (TN)}}\\,\\text{,}$$\n",
    "where:\n",
    "\n",
    "FP: Number of incorrectly flagged observation by the QA/QC.\n",
    "\n",
    "TN: Number of observations that were correctly not flagged by QA/QC.\n",
    "</div>"
   ]
  },
  {
   "cell_type": "markdown",
   "id": "2c45bde2-68d6-4b7b-a463-8a52fdd012e9",
   "metadata": {},
   "source": [
    "* **False negative rate (FNR)**\n",
    "\n",
    "<div style=\"width: 50em;\">\n",
    "    \n",
    "**FNR**: proportion of \"bad\" observations incorrectly misded by the QA/QC. In other words, how often the QA/QC fails to detect \"bad\" values.\n",
    "\n",
    "$$\\text{FNR} = \\frac{\\text{False Negatives (FN)}}{\\text{False Negatives (FN)} + \\text{True Positives (TP)}} \\, \\text{,}$$\n",
    "where\n",
    "\n",
    "FN: Number of incorrectly missed \"bad\" observations not flagged by QA/QC.\n",
    "\n",
    "TP: Number correctly flagged observation by QA/QC.\n",
    "</div>"
   ]
  },
  {
   "cell_type": "code",
   "execution_count": null,
   "id": "09829877-5428-4f04-873f-a3a24e7bc39a",
   "metadata": {
    "execution": {
     "iopub.execute_input": "2024-10-02T22:33:52.517137Z",
     "iopub.status.busy": "2024-10-02T22:33:52.517025Z",
     "iopub.status.idle": "2024-10-02T22:33:52.537175Z",
     "shell.execute_reply": "2024-10-02T22:33:52.536732Z",
     "shell.execute_reply.started": "2024-10-02T22:33:52.517127Z"
    }
   },
   "outputs": [],
   "source": [
    "era2ghcn_vars"
   ]
  },
  {
   "cell_type": "code",
   "execution_count": null,
   "id": "f048773e-b251-4b42-93ed-342ce0ef469a",
   "metadata": {
    "execution": {
     "iopub.execute_input": "2024-10-02T22:33:52.537859Z",
     "iopub.status.busy": "2024-10-02T22:33:52.537766Z",
     "iopub.status.idle": "2024-10-02T22:33:52.556777Z",
     "shell.execute_reply": "2024-10-02T22:33:52.556340Z",
     "shell.execute_reply.started": "2024-10-02T22:33:52.537850Z"
    }
   },
   "outputs": [],
   "source": [
    "ghcn2era_vars"
   ]
  },
  {
   "cell_type": "markdown",
   "id": "b4cef0de-efbd-4f1a-9c86-924e542374ae",
   "metadata": {},
   "source": [
    "### GHCNh legacy quality flags"
   ]
  },
  {
   "cell_type": "markdown",
   "id": "9f6f3c70-5593-409b-a55a-eff3e87724c3",
   "metadata": {},
   "source": [
    "<div style=\"width: 50em;\">\n",
    "\n",
    "- GHCN datasets quality code (flags) have a very annoying thing: the **legacy codes.**\n",
    "- For some reason, GHCN flags are letters or `str(numbers)`. But also, they have `int` or `float` in there. \n",
    "- It took a loooooot of digging and confusing, but whenever a letter or a str(number) is the flag, those\n",
    "are the GHCN flags. Whenever there is a float or int, the flag is legacy (this is what I understand so far). \n",
    "- Before realizing this, the percentage of flagged data in GHCN was almost 100%, because there is a flag that is \"data is ok\"\n",
    "- So, I had to re-write this and differentiate from str(number) and actual float/int numbers (I put a comment in the percentage function down there)\n",
    "- Also, the next few cells show a little bit of this struggling and how the flags are handled\n",
    "</div>"
   ]
  },
  {
   "cell_type": "code",
   "execution_count": null,
   "id": "ee8e90c1-64ab-42a3-9548-81dc4639e016",
   "metadata": {
    "execution": {
     "iopub.execute_input": "2024-10-02T22:33:52.557403Z",
     "iopub.status.busy": "2024-10-02T22:33:52.557319Z",
     "iopub.status.idle": "2024-10-02T22:33:52.579177Z",
     "shell.execute_reply": "2024-10-02T22:33:52.578787Z",
     "shell.execute_reply.started": "2024-10-02T22:33:52.557394Z"
    }
   },
   "outputs": [],
   "source": [
    "ghcnh.station_data[\"temperature_Quality_Code\"][\n",
    "    ghcnh.station_data[\"temperature_Quality_Code\"].isna()\n",
    "]"
   ]
  },
  {
   "cell_type": "code",
   "execution_count": null,
   "id": "28978087-50f8-40bd-8f49-6de84f6f313e",
   "metadata": {
    "execution": {
     "iopub.execute_input": "2024-10-02T22:33:52.580003Z",
     "iopub.status.busy": "2024-10-02T22:33:52.579859Z",
     "iopub.status.idle": "2024-10-02T22:33:52.632485Z",
     "shell.execute_reply": "2024-10-02T22:33:52.632104Z",
     "shell.execute_reply.started": "2024-10-02T22:33:52.579991Z"
    }
   },
   "outputs": [],
   "source": [
    "ghcnh.station_data[\"temperature_Quality_Code\"][\n",
    "    ~ghcnh.station_data[\"temperature_Quality_Code\"].isna()\n",
    "]"
   ]
  },
  {
   "cell_type": "code",
   "execution_count": null,
   "id": "c1c053f2-e8a7-451c-85a5-1a6e67eac090",
   "metadata": {
    "execution": {
     "iopub.execute_input": "2024-10-02T22:33:52.633295Z",
     "iopub.status.busy": "2024-10-02T22:33:52.633025Z",
     "iopub.status.idle": "2024-10-02T22:33:52.655227Z",
     "shell.execute_reply": "2024-10-02T22:33:52.654654Z",
     "shell.execute_reply.started": "2024-10-02T22:33:52.633281Z"
    }
   },
   "outputs": [],
   "source": [
    "bad = ~ghcnh.station_data[\"temperature_Quality_Code\"].isna()"
   ]
  },
  {
   "cell_type": "code",
   "execution_count": null,
   "id": "a112e97e-f45a-4742-b357-f485999511a3",
   "metadata": {
    "execution": {
     "iopub.execute_input": "2024-10-02T22:33:52.657021Z",
     "iopub.status.busy": "2024-10-02T22:33:52.656618Z",
     "iopub.status.idle": "2024-10-02T22:33:52.677698Z",
     "shell.execute_reply": "2024-10-02T22:33:52.677330Z",
     "shell.execute_reply.started": "2024-10-02T22:33:52.657009Z"
    }
   },
   "outputs": [],
   "source": [
    "len(ghcnh.station_data[\"temperature\"]), len(ghcnh.station_data[\"temperature\"][bad])"
   ]
  },
  {
   "cell_type": "raw",
   "id": "02d4dafb-30b8-4b81-8469-0eb931d3fe04",
   "metadata": {},
   "source": [
    "\"L\" : \"0,\", # failed Logical consistency\n",
    "\"o\" : \"1,\", # outlier check\n",
    "\"F\" : \"2,\", # Frequent value check\n",
    "\"U\" : \"3,\", # diUrnal inconsistency check\n",
    "\"D\" : \"4,\", # Distribution 1\n",
    "\"d\" : \"5,\", # distribution 2\n",
    "\"W\" : \"6,\", # World records exceedance\n",
    "\"K\" : \"7,\", # StreaK check\n",
    "\"C\" : \"8,\", # Climatological outlier\n",
    "\"T\" : \"9,\", # Timestamp issue\n",
    "\"S\" : \"10,\", # Spike check\n",
    "\"h\" : \"11,\", # humidity\n",
    "\"V\" : \"12,\", # Variance\n",
    "\"w\" : \"13,\", # winds\n",
    "\"N\" : \"14,\", # Neighbor comparison outlier\n",
    "\"E\" : \"15,\", # clEan up\n",
    "\"p\" : \"16,\", # pressure\n",
    "\"H\" : \"17,\", # High flag rat"
   ]
  },
  {
   "cell_type": "raw",
   "id": "7e1fd90b-93bd-47f5-9b16-6b20357787c6",
   "metadata": {},
   "source": [
    "The Legacy Codes for Sources 313, 314, 315, 322, 335, 343, 344, 345, 346 include\n",
    "0 = Passed gross limits check\n",
    "1 = Passed all quality control checks\n",
    "2 = Suspect\n",
    "3 = Erroneous\n",
    "4 = Passed gross limits check, data originate from an NCEI data source\n",
    "5 = Passed all quality control checks, data originate from an NCEI data source\n",
    "6 = Suspect, data originate from an NCEI data source\n",
    "7 = Erroneous, data originate from an NCEI data source\n",
    "9 = Passed gross limits check if element is present\n",
    "A – Data value flagged as suspect, but accepted as good value.\n",
    "U – Data value replaced with edited value.\n",
    "P – Data value not originally flagged as suspect, but replaced by validator.\n",
    "I – Data value not originally in data, but inserted by validator.\n",
    "M – Manual change made to value based on information provided by NWS or FAA.\n",
    "C – Temperature and dew point received from Automated Weather Observing Systems (AWOS)\n",
    "are reported in whole degrees Celsius. Automated QC flags these values, but they are accepted\n",
    "as valid.\n",
    "R – Data value replaced with value computed by NCEI software.\n",
    "\n",
    "And Legacy Codes for Sources: 220, 221, 222, 223, 347, 348 include\n",
    "0 Not Checked\n",
    "1 Good\n",
    "2 Suspect\n",
    "3 Erroneous\n",
    "4 Calculated\n",
    "5 Removed\n",
    "\n",
    "Derived variables (relative humidity and wet-bulb temperature) can have the following QC flags:\n",
    "o - Out of range (relative humidity only - with values < 1 or > 100)\n",
    "f - Suspect or Error flags for 1 or more of the input measurements"
   ]
  },
  {
   "cell_type": "code",
   "execution_count": null,
   "id": "8306b221-68b4-4c6a-97dd-3a5e3c175777",
   "metadata": {
    "execution": {
     "iopub.execute_input": "2024-10-02T22:33:52.678447Z",
     "iopub.status.busy": "2024-10-02T22:33:52.678290Z",
     "iopub.status.idle": "2024-10-02T22:33:52.698809Z",
     "shell.execute_reply": "2024-10-02T22:33:52.698452Z",
     "shell.execute_reply.started": "2024-10-02T22:33:52.678433Z"
    }
   },
   "outputs": [],
   "source": [
    "\"\"\"# FOR NOW, new stations (not downloaded locally) are failing, data is not available \"\"\"\n",
    "\n",
    "# id = ghcnh_stations_df['id'].iloc[5]\n",
    "# ghcnh.read_data_from_url(id, save=True)"
   ]
  },
  {
   "cell_type": "code",
   "execution_count": null,
   "id": "188f2fa0-0238-4b17-ae36-0d4ab2d4efaf",
   "metadata": {
    "execution": {
     "iopub.execute_input": "2024-10-02T22:33:52.699628Z",
     "iopub.status.busy": "2024-10-02T22:33:52.699405Z",
     "iopub.status.idle": "2024-10-02T22:33:59.524545Z",
     "shell.execute_reply": "2024-10-02T22:33:59.524110Z",
     "shell.execute_reply.started": "2024-10-02T22:33:52.699608Z"
    }
   },
   "outputs": [],
   "source": [
    "id = ghcnh_stations_df[\"id\"].iloc[1]\n",
    "print(id)\n",
    "ghcnh.read_data_from_url(id, save=True)\n",
    "ghcnh.convert_df_to_gpd()"
   ]
  },
  {
   "cell_type": "code",
   "execution_count": null,
   "id": "5b206a47-2b47-4b3c-8eb3-863ade47d75a",
   "metadata": {
    "execution": {
     "iopub.execute_input": "2024-10-02T22:33:59.525086Z",
     "iopub.status.busy": "2024-10-02T22:33:59.524999Z",
     "iopub.status.idle": "2024-10-02T22:33:59.544459Z",
     "shell.execute_reply": "2024-10-02T22:33:59.543941Z",
     "shell.execute_reply.started": "2024-10-02T22:33:59.525077Z"
    }
   },
   "outputs": [],
   "source": [
    "# flags = [\"L\",\"o\",\"F\",\"U\",\"D\",\"d\",\"W\",\"K\",\"C\",\"T\",\"S\",\"h\",\"V\",\"w\",\"N\",\"E\",\"p\",\"H\",\n",
    "#          \"0\",\"1\",\"2\",\"3\",\"4\",\"5\",\"6\",\"7\",\"8\",\"9\",\"10\",\"11\",\"12\",\"13\",\"14\",\"15\",\"16\",\"17\"\n",
    "#         ]\n",
    "# for f in flags:\n",
    "#     size = len(ghcnh.station_data['temperature_Quality_Code'][ghcnh.station_data['temperature_Quality_Code']==f])\n",
    "#     if f.isnumeric():\n",
    "#         size = size + len(ghcnh.station_data['temperature_Quality_Code'][ghcnh.station_data['temperature_Quality_Code']==int(f)])\n",
    "#     if size>0:\n",
    "#         print(\"{}:\\t{}\".format(f,size))"
   ]
  },
  {
   "cell_type": "code",
   "execution_count": null,
   "id": "452d9aae-7647-4e80-83dd-d40f0096fe5a",
   "metadata": {
    "execution": {
     "iopub.execute_input": "2024-10-02T22:33:59.545037Z",
     "iopub.status.busy": "2024-10-02T22:33:59.544929Z",
     "iopub.status.idle": "2024-10-02T22:33:59.565385Z",
     "shell.execute_reply": "2024-10-02T22:33:59.565022Z",
     "shell.execute_reply.started": "2024-10-02T22:33:59.545026Z"
    }
   },
   "outputs": [],
   "source": [
    "ghcnh.station_data[\"temperature_Quality_Code\"].unique()"
   ]
  },
  {
   "cell_type": "code",
   "execution_count": null,
   "id": "896fa8b0-9dc1-4b6b-8798-cd55f33a6be5",
   "metadata": {
    "execution": {
     "iopub.execute_input": "2024-10-02T22:33:59.566133Z",
     "iopub.status.busy": "2024-10-02T22:33:59.566011Z",
     "iopub.status.idle": "2024-10-02T22:33:59.882709Z",
     "shell.execute_reply": "2024-10-02T22:33:59.882344Z",
     "shell.execute_reply.started": "2024-10-02T22:33:59.566121Z"
    }
   },
   "outputs": [],
   "source": [
    "print(ghcnh.station_data[\"temperature_Source_Code\"].unique())\n",
    "\n",
    "flags = [\n",
    "    \"L\",\n",
    "    \"o\",\n",
    "    \"F\",\n",
    "    \"U\",\n",
    "    \"D\",\n",
    "    \"d\",\n",
    "    \"W\",\n",
    "    \"K\",\n",
    "    \"C\",\n",
    "    \"T\",\n",
    "    \"S\",\n",
    "    \"h\",\n",
    "    \"V\",\n",
    "    \"w\",\n",
    "    \"N\",\n",
    "    \"E\",\n",
    "    \"p\",\n",
    "    \"H\",\n",
    "    \"0\",\n",
    "    \"1\",\n",
    "    \"2\",\n",
    "    \"3\",\n",
    "    \"4\",\n",
    "    \"5\",\n",
    "    \"6\",\n",
    "    \"7\",\n",
    "    \"8\",\n",
    "    \"9\",\n",
    "    \"10\",\n",
    "    \"11\",\n",
    "    \"12\",\n",
    "    \"13\",\n",
    "    \"14\",\n",
    "    \"15\",\n",
    "    \"16\",\n",
    "    \"17\",\n",
    "    0,\n",
    "    1,\n",
    "    2,\n",
    "    3,\n",
    "    4,\n",
    "    5,\n",
    "    6,\n",
    "    7,\n",
    "    8,\n",
    "    9,\n",
    "    10,\n",
    "    11,\n",
    "    12,\n",
    "    13,\n",
    "    14,\n",
    "    15,\n",
    "    16,\n",
    "    17,\n",
    "]\n",
    "for f in flags:\n",
    "    size = len(\n",
    "        ghcnh.station_data[\"temperature_Quality_Code\"][\n",
    "            ghcnh.station_data[\"temperature_Quality_Code\"] == f\n",
    "        ]\n",
    "    )\n",
    "    if size > 0:\n",
    "        print(\"{} {}:\\t{}\".format(type(f), f, size))"
   ]
  },
  {
   "cell_type": "code",
   "execution_count": null,
   "id": "e8c7ce8c-ecc4-4a25-842f-52526c306676",
   "metadata": {
    "execution": {
     "iopub.execute_input": "2024-10-02T22:33:59.883305Z",
     "iopub.status.busy": "2024-10-02T22:33:59.883209Z",
     "iopub.status.idle": "2024-10-02T22:33:59.913436Z",
     "shell.execute_reply": "2024-10-02T22:33:59.913125Z",
     "shell.execute_reply.started": "2024-10-02T22:33:59.883296Z"
    }
   },
   "outputs": [],
   "source": [
    "ghcnh.station_data[\"temperature_Quality_Code\"].transform(type).unique()"
   ]
  },
  {
   "cell_type": "code",
   "execution_count": null,
   "id": "b1568dfa-ee8d-4389-85e2-aa7f860a9f88",
   "metadata": {
    "execution": {
     "iopub.execute_input": "2024-10-02T22:33:59.914075Z",
     "iopub.status.busy": "2024-10-02T22:33:59.913973Z",
     "iopub.status.idle": "2024-10-02T22:33:59.932360Z",
     "shell.execute_reply": "2024-10-02T22:33:59.932034Z",
     "shell.execute_reply.started": "2024-10-02T22:33:59.914065Z"
    }
   },
   "outputs": [],
   "source": [
    "# (223+4+12255+2+4+7786+13)/len(ghcnh.station_data['temperature_Quality_Code'])"
   ]
  },
  {
   "cell_type": "markdown",
   "id": "210182e8-cfc9-40ce-ac9d-913f1713c0f6",
   "metadata": {},
   "source": [
    "### Percentage of observation flagged"
   ]
  },
  {
   "cell_type": "code",
   "execution_count": null,
   "id": "095d0d9d-02b1-4089-beea-144aade17663",
   "metadata": {
    "execution": {
     "iopub.execute_input": "2024-10-02T22:33:59.932999Z",
     "iopub.status.busy": "2024-10-02T22:33:59.932887Z",
     "iopub.status.idle": "2024-10-02T22:33:59.953490Z",
     "shell.execute_reply": "2024-10-02T22:33:59.953150Z",
     "shell.execute_reply.started": "2024-10-02T22:33:59.932988Z"
    }
   },
   "outputs": [],
   "source": [
    "def percentage_of_flags(df, var=None, ghcn=False, show=False):\n",
    "    if ghcn:\n",
    "        qc_var = var + \"_Quality_Code\"\n",
    "    else:\n",
    "        qc_var = var + \"_eraqc\"\n",
    "\n",
    "    isnan = df[qc_var].isna()\n",
    "    flagged_values = df.loc[~isnan, qc_var]\n",
    "    non_flagged_values = df.loc[isnan, qc_var]\n",
    "\n",
    "    # To deal with GHCN legacy flags\n",
    "    if ghcn:\n",
    "        legacy = ghcnh.station_data[\"temperature_Quality_Code\"].transform(\n",
    "            lambda row: type(row) == int or type(row) == float\n",
    "        )\n",
    "        isnan = np.logical_and(~isnan, ~legacy)\n",
    "        flagged_values = df.loc[isnan, qc_var]\n",
    "\n",
    "    perc = 100 * len(flagged_values) / len(df[qc_var])\n",
    "\n",
    "    if show:\n",
    "        print(\"{:.4f} % flagged values\".format(perc))\n",
    "\n",
    "    return perc"
   ]
  },
  {
   "cell_type": "code",
   "execution_count": null,
   "id": "b2caf4ba-0d2c-4f59-a2cc-4297e6ec1f7c",
   "metadata": {
    "execution": {
     "iopub.execute_input": "2024-10-02T22:33:59.954031Z",
     "iopub.status.busy": "2024-10-02T22:33:59.953931Z",
     "iopub.status.idle": "2024-10-02T22:34:00.025482Z",
     "shell.execute_reply": "2024-10-02T22:34:00.025174Z",
     "shell.execute_reply.started": "2024-10-02T22:33:59.954022Z"
    }
   },
   "outputs": [],
   "source": [
    "var = \"tas\"\n",
    "ghcn_var = era2ghcn_vars[var]\n",
    "\n",
    "print(\"\\n{}\".format(specific_station))\n",
    "print(df.iloc[[0, -1]][\"time\"].values)\n",
    "perc = percentage_of_flags(df, var, ghcn=False, show=True)\n",
    "\n",
    "print(\"\\n{}\".format(ghcnh.station_data[\"Station_ID\"].iloc[0]))\n",
    "print(ghcnh.station_data.iloc[[0, -1]][\"time\"].values)\n",
    "perc = percentage_of_flags(ghcnh.station_data, ghcn_var, ghcn=True, show=True)"
   ]
  },
  {
   "cell_type": "code",
   "execution_count": null,
   "id": "f8b218f0-1536-4d08-b7fa-3017bc481f93",
   "metadata": {
    "execution": {
     "iopub.execute_input": "2024-10-02T22:34:55.671225Z",
     "iopub.status.busy": "2024-10-02T22:34:55.670524Z",
     "iopub.status.idle": "2024-10-02T22:35:42.089487Z",
     "shell.execute_reply": "2024-10-02T22:35:42.088889Z",
     "shell.execute_reply.started": "2024-10-02T22:34:55.671167Z"
    }
   },
   "outputs": [],
   "source": [
    "print(\"=============================\")\n",
    "print(\"ERA QA/QC:\\t{}\".format(specific_station))\n",
    "print(df.iloc[[0, -1]][\"time\"].values)\n",
    "perc = percentage_of_flags(df, var, ghcn=False, show=True)\n",
    "\n",
    "for i in range(3):\n",
    "    id = ghcnh_stations_df[\"id\"].iloc[i]\n",
    "    ghcnh.read_data_from_url(id, save=True)\n",
    "    ghcnh.convert_df_to_gpd()\n",
    "    ghcnh_df = ghcnh.station_data.copy()\n",
    "\n",
    "    tmp_df = return_ghcn_vars(ghcnh_df, var)\n",
    "    print(\"=============================\")\n",
    "    print(\"{}\".format(id))\n",
    "    print(ghcnh_df.iloc[[0, -1]][\"time\"].values)\n",
    "    perc = percentage_of_flags(tmp_df, ghcn_var, ghcn=True, show=True)"
   ]
  },
  {
   "cell_type": "code",
   "execution_count": null,
   "id": "12e6c615-9df1-44fd-a16f-7976b5783622",
   "metadata": {
    "execution": {
     "iopub.execute_input": "2024-10-02T22:35:46.197187Z",
     "iopub.status.busy": "2024-10-02T22:35:46.197085Z",
     "iopub.status.idle": "2024-10-02T22:36:36.131953Z",
     "shell.execute_reply": "2024-10-02T22:36:36.131357Z",
     "shell.execute_reply.started": "2024-10-02T22:35:46.197178Z"
    }
   },
   "outputs": [],
   "source": [
    "print(\"=============================\")\n",
    "print(\"ERA QA/QC:\\t{}\".format(specific_station))\n",
    "print(df.iloc[[0, -1]][\"time\"].values)\n",
    "perc = percentage_of_flags(df, var, ghcn=False, show=True)\n",
    "\n",
    "for i in range(3):\n",
    "    id = ghcnh_stations_df[\"id\"].iloc[i]\n",
    "    ghcnh.read_data_from_url(id, save=True)\n",
    "    ghcnh.convert_df_to_gpd()\n",
    "    ghcnh_df = ghcnh.station_data.copy()\n",
    "\n",
    "    tmp_df = return_ghcn_vars(ghcnh_df, var)\n",
    "    print(\"=============================\")\n",
    "    print(\"{}\".format(id))\n",
    "    print(ghcnh_df.iloc[[0, -1]][\"time\"].values)\n",
    "    perc = percentage_of_flags(tmp_df, ghcn_var, ghcn=True, show=True)"
   ]
  },
  {
   "cell_type": "markdown",
   "id": "6df2fe7a-7974-4a8c-975f-883c578d1bc7",
   "metadata": {},
   "source": [
    "### Station flag/time/coords statistics"
   ]
  },
  {
   "cell_type": "code",
   "execution_count": null,
   "id": "8d28a8c0-52f9-45b6-99aa-1f884854fc68",
   "metadata": {
    "execution": {
     "iopub.execute_input": "2024-10-02T22:34:00.031494Z",
     "iopub.status.busy": "2024-10-02T22:34:00.031328Z",
     "iopub.status.idle": "2024-10-02T22:34:00.051621Z",
     "shell.execute_reply": "2024-10-02T22:34:00.051132Z",
     "shell.execute_reply.started": "2024-10-02T22:34:00.031484Z"
    }
   },
   "outputs": [],
   "source": [
    "def station_statistics(df, var=None, ghcn=False, show=False):\n",
    "    t0, t1 = df.iloc[[0, -1]][\"time\"].values\n",
    "\n",
    "    nTimes = len(df)\n",
    "\n",
    "    if ghcn:\n",
    "        coords = [(lon, lat) for lon, lat in zip(df[\"Longitude\"], df[\"Latitude\"])]\n",
    "    else:\n",
    "        coords = [(lon, lat) for lon, lat in zip(df[\"lon\"], df[\"lat\"])]\n",
    "    coords = set(coords)\n",
    "\n",
    "    frequency = pd.Timedelta(df[\"time\"].diff().median(), \"h\")\n",
    "\n",
    "    if ghcn:\n",
    "        variables = [var for var in df.columns if var in list(era2ghcn_vars.values())]\n",
    "    else:\n",
    "        variables = [var for var in df.columns if var in list(era2ghcn_vars.keys())]\n",
    "\n",
    "    flag_percentages = {}\n",
    "    for var in variables:\n",
    "        flag_percentages[var] = percentage_of_flags(df, var=var, ghcn=ghcn, show=False)\n",
    "\n",
    "    return variables, t0, t1, nTimes, frequency, flag_percentages, coords"
   ]
  },
  {
   "cell_type": "code",
   "execution_count": null,
   "id": "1b2548a4-5f4e-4d88-acec-a242e90720fb",
   "metadata": {
    "execution": {
     "iopub.execute_input": "2024-10-02T22:34:00.052206Z",
     "iopub.status.busy": "2024-10-02T22:34:00.052115Z",
     "iopub.status.idle": "2024-10-02T22:34:00.070735Z",
     "shell.execute_reply": "2024-10-02T22:34:00.070379Z",
     "shell.execute_reply.started": "2024-10-02T22:34:00.052197Z"
    }
   },
   "outputs": [],
   "source": [
    "ghcnh.station_data.columns"
   ]
  },
  {
   "cell_type": "code",
   "execution_count": null,
   "id": "efaec793-0ac4-4294-bd54-74013b82742f",
   "metadata": {
    "execution": {
     "iopub.execute_input": "2024-10-02T22:34:00.071443Z",
     "iopub.status.busy": "2024-10-02T22:34:00.071353Z",
     "iopub.status.idle": "2024-10-02T22:34:00.174280Z",
     "shell.execute_reply": "2024-10-02T22:34:00.171745Z",
     "shell.execute_reply.started": "2024-10-02T22:34:00.071433Z"
    }
   },
   "outputs": [],
   "source": [
    "station_statistics(df)"
   ]
  },
  {
   "cell_type": "code",
   "execution_count": null,
   "id": "b77d9c05-e368-4020-b957-835252c1242e",
   "metadata": {
    "execution": {
     "iopub.execute_input": "2024-10-02T22:34:00.181336Z",
     "iopub.status.busy": "2024-10-02T22:34:00.179749Z",
     "iopub.status.idle": "2024-10-02T22:34:00.412824Z",
     "shell.execute_reply": "2024-10-02T22:34:00.412473Z",
     "shell.execute_reply.started": "2024-10-02T22:34:00.181313Z"
    }
   },
   "outputs": [],
   "source": [
    "station_statistics(ghcnh.station_data, ghcn=True)"
   ]
  },
  {
   "cell_type": "code",
   "execution_count": null,
   "id": "ff0c9e98-724a-45d2-bd32-66fb99ba59d3",
   "metadata": {
    "execution": {
     "iopub.execute_input": "2024-10-02T22:40:08.040375Z",
     "iopub.status.busy": "2024-10-02T22:40:08.039846Z",
     "iopub.status.idle": "2024-10-02T22:40:08.121489Z",
     "shell.execute_reply": "2024-10-02T22:40:08.121096Z",
     "shell.execute_reply.started": "2024-10-02T22:40:08.040338Z"
    }
   },
   "outputs": [],
   "source": [
    "def print_station_stats(stats):\n",
    "    variables, t0, t1, nTimes, frequency, flag_percentages, coords = stats\n",
    "    print(\"Variables: {}\".format(variables))\n",
    "    print(\"Timespan: {}-{}\".format(t0, t1))\n",
    "    print(\"Coordinates:\")\n",
    "    for c in coords:\n",
    "        print(\"{}\".format(c))\n",
    "    print(\"Number of observations: {}\".format(nTimes))\n",
    "    print(\"Frequency: {}\".format(frequency))\n",
    "    print(\".............................\")\n",
    "    print(\"Flag percentages:\")\n",
    "    print(\".............................\")\n",
    "    for var, pc in flag_percentages.items():\n",
    "        print(\"{}: {:.4f}%\".format(var, pc))"
   ]
  },
  {
   "cell_type": "code",
   "execution_count": null,
   "id": "02f5b338-a19e-483c-b443-f67fc855dfb2",
   "metadata": {
    "execution": {
     "iopub.execute_input": "2024-10-02T22:40:13.214058Z",
     "iopub.status.busy": "2024-10-02T22:40:13.213936Z",
     "iopub.status.idle": "2024-10-02T22:41:03.271094Z",
     "shell.execute_reply": "2024-10-02T22:41:03.270434Z",
     "shell.execute_reply.started": "2024-10-02T22:40:13.214048Z"
    }
   },
   "outputs": [],
   "source": [
    "print(\"=============================\")\n",
    "print(\"ERA QA/QC:\\t{}\".format(specific_station))\n",
    "print(\"-----------------------------\")\n",
    "stats = station_statistics(df)\n",
    "print_station_stats(stats)\n",
    "for i in range(3):\n",
    "    id = ghcnh_stations_df[\"id\"].iloc[i]\n",
    "    ghcnh.read_data_from_url(id, save=True)\n",
    "    ghcnh.convert_df_to_gpd()\n",
    "    ghcnh_df = ghcnh.station_data.copy()\n",
    "    stats = station_statistics(ghcnh_df, ghcn=True)\n",
    "    print(\"\\n=============================\")\n",
    "    print(\"{}\".format(id))\n",
    "    print(\"-----------------------------\")\n",
    "    print_station_stats(stats)"
   ]
  },
  {
   "cell_type": "code",
   "execution_count": null,
   "id": "c9f6e4f7-0097-42e0-948f-73a9e8400be2",
   "metadata": {
    "execution": {
     "iopub.execute_input": "2024-10-03T16:54:36.633940Z",
     "iopub.status.busy": "2024-10-03T16:54:36.632857Z",
     "iopub.status.idle": "2024-10-03T16:54:36.716554Z",
     "shell.execute_reply": "2024-10-03T16:54:36.715915Z",
     "shell.execute_reply.started": "2024-10-03T16:54:36.633879Z"
    }
   },
   "outputs": [],
   "source": [
    "ghcnh_stations_df.iloc[1]"
   ]
  },
  {
   "cell_type": "code",
   "execution_count": null,
   "id": "d0bb8738-6be1-45a2-a560-0bcae2f4e8ab",
   "metadata": {},
   "outputs": [],
   "source": []
  },
  {
   "cell_type": "code",
   "execution_count": null,
   "id": "bc23384e-1f0f-4ed6-83e3-6d6429e2c6a7",
   "metadata": {},
   "outputs": [],
   "source": []
  },
  {
   "cell_type": "code",
   "execution_count": null,
   "id": "bf18f1af-8e74-4a9f-bc2c-93dcd268dc49",
   "metadata": {},
   "outputs": [],
   "source": []
  },
  {
   "cell_type": "code",
   "execution_count": null,
   "id": "4ccb3b82-92d6-4ed9-8030-a0fb3b97c3c8",
   "metadata": {},
   "outputs": [],
   "source": []
  },
  {
   "cell_type": "code",
   "execution_count": null,
   "id": "0288e107-c5d3-4297-87c3-87de5e44902f",
   "metadata": {},
   "outputs": [],
   "source": []
  },
  {
   "cell_type": "code",
   "execution_count": null,
   "id": "5d3d447d-5e16-477b-a91f-047babf1243c",
   "metadata": {
    "execution": {
     "iopub.status.busy": "2024-10-02T22:27:46.762313Z",
     "iopub.status.idle": "2024-10-02T22:27:46.762523Z",
     "shell.execute_reply": "2024-10-02T22:27:46.762427Z",
     "shell.execute_reply.started": "2024-10-02T22:27:46.762421Z"
    }
   },
   "outputs": [],
   "source": [
    "ghcnh_df[vars[var] + \"_Quality_Code\"]"
   ]
  },
  {
   "cell_type": "code",
   "execution_count": null,
   "id": "ff570cb7-8246-41c2-a129-21c77513ed49",
   "metadata": {
    "execution": {
     "iopub.status.busy": "2024-10-02T22:27:46.763391Z",
     "iopub.status.idle": "2024-10-02T22:27:46.763547Z",
     "shell.execute_reply": "2024-10-02T22:27:46.763463Z",
     "shell.execute_reply.started": "2024-10-02T22:27:46.763457Z"
    }
   },
   "outputs": [],
   "source": [
    "ghcnh_df[vars[var]].plot()\n",
    "ghcnh_df.dropna(subset=vars[var] + \"_Quality_Code\")[vars[var]].plot(marker=\".\", lw=0)"
   ]
  },
  {
   "cell_type": "code",
   "execution_count": null,
   "id": "ff3b3a7a-8115-4f65-9687-f2263d2098ed",
   "metadata": {
    "execution": {
     "iopub.status.busy": "2024-10-02T22:27:46.764717Z",
     "iopub.status.idle": "2024-10-02T22:27:46.764848Z",
     "shell.execute_reply": "2024-10-02T22:27:46.764782Z",
     "shell.execute_reply.started": "2024-10-02T22:27:46.764777Z"
    }
   },
   "outputs": [],
   "source": [
    "fig, ax = plt.subplots(figsize=(10, 3))\n",
    "pd.DataFrame(ghcnh_df).iloc[5000:5200].plot(\n",
    "    x=\"time\", y=\"temperature\", marker=\"x\", lw=0, ax=ax\n",
    ")\n",
    "pd.DataFrame(ghcnh_df).iloc[5000:5200].dropna(subset=vars[var] + \"_Quality_Code\").plot(\n",
    "    x=\"time\", y=\"temperature\", marker=\"o\", mfc=\"none\", lw=0, ax=ax\n",
    ")"
   ]
  },
  {
   "cell_type": "code",
   "execution_count": null,
   "id": "f34191d1-fa6f-46d7-86fd-dc888aad0477",
   "metadata": {
    "execution": {
     "iopub.status.busy": "2024-10-02T22:27:46.765721Z",
     "iopub.status.idle": "2024-10-02T22:27:46.766007Z",
     "shell.execute_reply": "2024-10-02T22:27:46.765909Z",
     "shell.execute_reply.started": "2024-10-02T22:27:46.765903Z"
    }
   },
   "outputs": [],
   "source": [
    "len(ghcnh_df.dropna(subset=vars[var] + \"_Quality_Code\")) / len(ghcnh_df)"
   ]
  },
  {
   "cell_type": "code",
   "execution_count": null,
   "id": "d3d25c1b-8924-4dbd-9505-ce9553752465",
   "metadata": {
    "execution": {
     "iopub.status.busy": "2024-10-02T22:27:46.766713Z",
     "iopub.status.idle": "2024-10-02T22:27:46.766981Z",
     "shell.execute_reply": "2024-10-02T22:27:46.766854Z",
     "shell.execute_reply.started": "2024-10-02T22:27:46.766848Z"
    }
   },
   "outputs": [],
   "source": [
    "print(\n",
    "    len(ghcnh_df[vars[var] + \"_Quality_Code\"].dropna())\n",
    "    / len(ghcnh_df[vars[var] + \"_Quality_Code\"])\n",
    ")"
   ]
  },
  {
   "cell_type": "code",
   "execution_count": null,
   "id": "b9a048e6-5f83-4dbd-b09d-ee039f12e62f",
   "metadata": {
    "execution": {
     "iopub.status.busy": "2024-10-02T22:27:46.767621Z",
     "iopub.status.idle": "2024-10-02T22:27:46.767779Z",
     "shell.execute_reply": "2024-10-02T22:27:46.767689Z",
     "shell.execute_reply.started": "2024-10-02T22:27:46.767683Z"
    }
   },
   "outputs": [],
   "source": [
    "ghcnh_df[vars[var] + \"_Quality_Code\"].unique()"
   ]
  },
  {
   "cell_type": "code",
   "execution_count": null,
   "id": "c8392c54-d15d-4923-8555-ad0bf53bb34c",
   "metadata": {
    "execution": {
     "iopub.status.busy": "2024-10-02T22:27:46.768445Z",
     "iopub.status.idle": "2024-10-02T22:27:46.768715Z",
     "shell.execute_reply": "2024-10-02T22:27:46.768609Z",
     "shell.execute_reply.started": "2024-10-02T22:27:46.768510Z"
    }
   },
   "outputs": [],
   "source": [
    "np.setdiff1d(ghcnh_df[vars[var] + \"_Quality_Code\"].dropna().index, ghcnh_df.index)"
   ]
  },
  {
   "cell_type": "code",
   "execution_count": null,
   "id": "ac0495c1-ecb0-4259-b6b9-032ac67326fb",
   "metadata": {
    "execution": {
     "iopub.status.busy": "2024-10-02T22:27:46.770778Z",
     "iopub.status.idle": "2024-10-02T22:27:46.770981Z",
     "shell.execute_reply": "2024-10-02T22:27:46.770900Z",
     "shell.execute_reply.started": "2024-10-02T22:27:46.770893Z"
    }
   },
   "outputs": [],
   "source": [
    "ind = pd.isna(ghcnh_df[vars[var] + \"_Quality_Code\"])\n",
    "len(np.where(ind)[0])\n",
    "len(plot_df[ind])"
   ]
  },
  {
   "cell_type": "code",
   "execution_count": null,
   "id": "9e6a6311-998b-4f80-b411-1fdda5ac35ec",
   "metadata": {
    "execution": {
     "iopub.status.busy": "2024-10-02T22:27:46.771713Z",
     "iopub.status.idle": "2024-10-02T22:27:46.771865Z",
     "shell.execute_reply": "2024-10-02T22:27:46.771794Z",
     "shell.execute_reply.started": "2024-10-02T22:27:46.771788Z"
    }
   },
   "outputs": [],
   "source": [
    "fig, ax = plt.subplots(figsize=(10, 3))\n",
    "plot_df = pd.DataFrame(ghcnh_df)\n",
    "plot_df.plot(\n",
    "    x=\"time\", y=vars[var], ax=ax, marker=\".\", lw=0.5, color=\"black\", markersize=2\n",
    ")\n",
    "ax.fill_between(\n",
    "    x=plot_df[ind].time,\n",
    "    y1=ax.get_ylim()[0],\n",
    "    y2=ax.get_ylim()[1],\n",
    "    color=\"skyblue\",\n",
    "    alpha=0.5,\n",
    ")\n",
    "# plot_df = plot_df[ind]\n",
    "# plot_df.plot(x=\"time\", y=vars[var],\n",
    "#              ax=ax, marker=\"o\", lw=0.0, color=\"red\",\n",
    "#              markersize=4, label='Streaks', mfc='none')"
   ]
  },
  {
   "cell_type": "code",
   "execution_count": null,
   "id": "6bd626cc-3376-46f6-9d9f-0a2019ec44ca",
   "metadata": {
    "execution": {
     "iopub.status.busy": "2024-10-02T22:27:46.773003Z",
     "iopub.status.idle": "2024-10-02T22:27:46.773168Z",
     "shell.execute_reply": "2024-10-02T22:27:46.773062Z",
     "shell.execute_reply.started": "2024-10-02T22:27:46.773057Z"
    }
   },
   "outputs": [],
   "source": [
    "fig, ax = plt.subplots(figsize=(10, 3))\n",
    "plot_df = pd.DataFrame(ghcnh_df)\n",
    "plot_df.plot(\n",
    "    x=\"time\", y=vars[var], ax=ax, marker=\".\", lw=0.5, color=\"black\", markersize=2\n",
    ")\n",
    "plot_df = plot_df[plot_df[vars[var] + \"_Quality_Code\"] == \"K\"]\n",
    "plot_df.plot(\n",
    "    x=\"time\",\n",
    "    y=vars[var],\n",
    "    ax=ax,\n",
    "    marker=\"o\",\n",
    "    lw=0.0,\n",
    "    color=\"red\",\n",
    "    markersize=4,\n",
    "    label=\"Streaks\",\n",
    "    mfc=\"none\",\n",
    ")"
   ]
  },
  {
   "cell_type": "code",
   "execution_count": null,
   "id": "4382dee7-5d18-4f81-be46-5f4565ecd534",
   "metadata": {
    "execution": {
     "iopub.status.busy": "2024-10-02T22:27:46.773836Z",
     "iopub.status.idle": "2024-10-02T22:27:46.774059Z",
     "shell.execute_reply": "2024-10-02T22:27:46.773972Z",
     "shell.execute_reply.started": "2024-10-02T22:27:46.773965Z"
    }
   },
   "outputs": [],
   "source": [
    "fig, ax = plt.subplots(figsize=(10, 3))\n",
    "plot_df = pd.DataFrame(ghcnh_df)\n",
    "plot_df.plot(\n",
    "    x=\"time\", y=vars[var], ax=ax, marker=\".\", lw=0.5, color=\"black\", markersize=2\n",
    ")\n",
    "plot_df = plot_df[plot_df[vars[var] + \"_Quality_Code\"] == \"K\"]\n",
    "plot_df.plot(\n",
    "    x=\"time\",\n",
    "    y=vars[var],\n",
    "    ax=ax,\n",
    "    marker=\"o\",\n",
    "    lw=0.0,\n",
    "    color=\"red\",\n",
    "    markersize=4,\n",
    "    label=\"Streaks\",\n",
    "    mfc=\"none\",\n",
    ")\n",
    "ax.set_xlim(np.datetime64(\"2003-03-08\"), np.datetime64(\"2003-03-23\"))"
   ]
  },
  {
   "cell_type": "code",
   "execution_count": null,
   "id": "2c5f74b3-be3a-45be-a93c-8b8d71417a61",
   "metadata": {},
   "outputs": [],
   "source": []
  },
  {
   "cell_type": "code",
   "execution_count": null,
   "id": "a54f8347-0f7f-4ac0-86a2-dbc400b8978b",
   "metadata": {},
   "outputs": [],
   "source": []
  },
  {
   "cell_type": "code",
   "execution_count": null,
   "id": "4981741b-18b3-4047-9989-1f261e190622",
   "metadata": {
    "execution": {
     "iopub.status.busy": "2024-10-02T22:27:46.775138Z",
     "iopub.status.idle": "2024-10-02T22:27:46.775298Z",
     "shell.execute_reply": "2024-10-02T22:27:46.775218Z",
     "shell.execute_reply.started": "2024-10-02T22:27:46.775211Z"
    }
   },
   "outputs": [],
   "source": [
    "fig, ax = plt.subplots(figsize=(10, 3))\n",
    "plot_df = pd.DataFrame(ghcnh_df)\n",
    "plot_df.plot(\n",
    "    x=\"time\", y=vars[var], ax=ax, marker=\".\", lw=0.5, color=\"black\", markersize=2\n",
    ")\n",
    "plot_df = plot_df[plot_df[vars[var] + \"_Quality_Code\"] == \"o\"]\n",
    "plot_df.plot(\n",
    "    x=\"time\",\n",
    "    y=vars[var],\n",
    "    ax=ax,\n",
    "    marker=\"o\",\n",
    "    lw=0.0,\n",
    "    color=\"red\",\n",
    "    markersize=4,\n",
    "    label=\"Out of range\",\n",
    "    mfc=\"none\",\n",
    ")"
   ]
  },
  {
   "cell_type": "code",
   "execution_count": null,
   "id": "ad3f72b6-94dd-46b6-a7b4-cd41331ec487",
   "metadata": {
    "execution": {
     "iopub.status.busy": "2024-10-02T22:27:46.776157Z",
     "iopub.status.idle": "2024-10-02T22:27:46.776307Z",
     "shell.execute_reply": "2024-10-02T22:27:46.776231Z",
     "shell.execute_reply.started": "2024-10-02T22:27:46.776224Z"
    }
   },
   "outputs": [],
   "source": [
    "fig, ax = plt.subplots(figsize=(10, 3))\n",
    "plot_df = pd.DataFrame(ghcnh_df)\n",
    "plot_df.plot(\n",
    "    x=\"time\", y=vars[var], ax=ax, marker=\".\", lw=0.5, color=\"black\", markersize=2\n",
    ")\n",
    "plot_df = plot_df[plot_df[vars[var] + \"_Quality_Code\"] == \"f\"]\n",
    "plot_df.plot(\n",
    "    x=\"time\",\n",
    "    y=vars[var],\n",
    "    ax=ax,\n",
    "    marker=\"x\",\n",
    "    lw=0.0,\n",
    "    color=\"red\",\n",
    "    markersize=4,\n",
    "    label=\"Suspect or Error\",\n",
    "    mfc=\"none\",\n",
    ")"
   ]
  },
  {
   "cell_type": "code",
   "execution_count": null,
   "id": "9c56333d-bd02-4516-a994-040fabe35a10",
   "metadata": {},
   "outputs": [],
   "source": []
  },
  {
   "cell_type": "code",
   "execution_count": null,
   "id": "1aac1584-d382-486c-b70c-dc6b67cd8b35",
   "metadata": {},
   "outputs": [],
   "source": []
  },
  {
   "cell_type": "code",
   "execution_count": null,
   "id": "506580a7-4a57-40db-aa97-c5bba116d9d3",
   "metadata": {},
   "outputs": [],
   "source": []
  },
  {
   "cell_type": "code",
   "execution_count": null,
   "id": "b0cae81a-64ea-49df-982d-fc8af0e730fd",
   "metadata": {},
   "outputs": [],
   "source": []
  },
  {
   "cell_type": "code",
   "execution_count": null,
   "id": "73441fa3-d610-41cd-b4e6-7ebc3960c5c8",
   "metadata": {
    "execution": {
     "iopub.status.busy": "2024-10-02T22:27:46.776949Z",
     "iopub.status.idle": "2024-10-02T22:27:46.777214Z",
     "shell.execute_reply": "2024-10-02T22:27:46.777126Z",
     "shell.execute_reply.started": "2024-10-02T22:27:46.777116Z"
    }
   },
   "outputs": [],
   "source": [
    "ghcnh_df.columns"
   ]
  },
  {
   "cell_type": "code",
   "execution_count": null,
   "id": "84ab82ca-40e0-4c68-abc0-6dc52e17648a",
   "metadata": {
    "execution": {
     "iopub.status.busy": "2024-10-02T22:27:46.777686Z",
     "iopub.status.idle": "2024-10-02T22:27:46.778036Z",
     "shell.execute_reply": "2024-10-02T22:27:46.777945Z",
     "shell.execute_reply.started": "2024-10-02T22:27:46.777939Z"
    }
   },
   "outputs": [],
   "source": [
    "ghcnh_df[\"relative_humidity_Measurement_Code\"].unique()"
   ]
  },
  {
   "cell_type": "code",
   "execution_count": null,
   "id": "cf75e610-25e2-4925-a01e-f17f464b4415",
   "metadata": {
    "execution": {
     "iopub.status.busy": "2024-10-02T22:27:46.778782Z",
     "iopub.status.idle": "2024-10-02T22:27:46.778964Z",
     "shell.execute_reply": "2024-10-02T22:27:46.778859Z",
     "shell.execute_reply.started": "2024-10-02T22:27:46.778853Z"
    }
   },
   "outputs": [],
   "source": [
    "ghcnh_df[\"relative_humidity_Quality_Code\"].unique()"
   ]
  },
  {
   "cell_type": "code",
   "execution_count": null,
   "id": "fdce475c-0c63-4350-a4d7-a1eaee9a535a",
   "metadata": {
    "execution": {
     "iopub.status.busy": "2024-10-02T22:27:46.779930Z",
     "iopub.status.idle": "2024-10-02T22:27:46.780120Z",
     "shell.execute_reply": "2024-10-02T22:27:46.780017Z",
     "shell.execute_reply.started": "2024-10-02T22:27:46.779997Z"
    }
   },
   "outputs": [],
   "source": [
    "ghcnh_df[\"relative_humidity_Report_Type\"].unique()"
   ]
  },
  {
   "cell_type": "code",
   "execution_count": null,
   "id": "552059a7-d063-4bb4-93d7-79e027bfa3cf",
   "metadata": {
    "execution": {
     "iopub.status.busy": "2024-10-02T22:27:46.780815Z",
     "iopub.status.idle": "2024-10-02T22:27:46.780957Z",
     "shell.execute_reply": "2024-10-02T22:27:46.780879Z",
     "shell.execute_reply.started": "2024-10-02T22:27:46.780874Z"
    }
   },
   "outputs": [],
   "source": [
    "ghcnh_df[\"relative_humidity_Source_Code\"].unique()"
   ]
  },
  {
   "cell_type": "code",
   "execution_count": null,
   "id": "63f6b39f-273e-41ff-a1f2-eab1e4f5f437",
   "metadata": {
    "execution": {
     "iopub.status.busy": "2024-10-02T22:27:46.781638Z",
     "iopub.status.idle": "2024-10-02T22:27:46.781795Z",
     "shell.execute_reply": "2024-10-02T22:27:46.781708Z",
     "shell.execute_reply.started": "2024-10-02T22:27:46.781702Z"
    }
   },
   "outputs": [],
   "source": [
    "ghcnh_df[\"relative_humidity_Source_Station_ID\"].unique()"
   ]
  },
  {
   "cell_type": "code",
   "execution_count": null,
   "id": "cdbf984f-9edc-4d00-9094-085e7c1c0fd6",
   "metadata": {
    "execution": {
     "iopub.status.busy": "2024-10-02T22:27:46.782550Z",
     "iopub.status.idle": "2024-10-02T22:27:46.782687Z",
     "shell.execute_reply": "2024-10-02T22:27:46.782610Z",
     "shell.execute_reply.started": "2024-10-02T22:27:46.782604Z"
    }
   },
   "outputs": [],
   "source": [
    "# df[var+\"_eraqc\"]"
   ]
  },
  {
   "cell_type": "code",
   "execution_count": null,
   "id": "68b8e1e6-3af2-4d63-afb7-1c36c678deae",
   "metadata": {},
   "outputs": [],
   "source": []
  },
  {
   "cell_type": "code",
   "execution_count": null,
   "id": "cb6a59de-853c-4964-82b0-44e120bfc90c",
   "metadata": {
    "execution": {
     "iopub.status.busy": "2024-10-02T22:27:46.783075Z",
     "iopub.status.idle": "2024-10-02T22:27:46.783225Z",
     "shell.execute_reply": "2024-10-02T22:27:46.783142Z",
     "shell.execute_reply.started": "2024-10-02T22:27:46.783136Z"
    }
   },
   "outputs": [],
   "source": [
    "s3 = s3fs.S3FileSystem(anon=False)"
   ]
  },
  {
   "cell_type": "code",
   "execution_count": null,
   "id": "afb8b27a-9f35-4261-9777-cad0d4bdc72c",
   "metadata": {
    "execution": {
     "iopub.status.busy": "2024-10-02T22:27:46.783880Z",
     "iopub.status.idle": "2024-10-02T22:27:46.784046Z",
     "shell.execute_reply": "2024-10-02T22:27:46.783943Z",
     "shell.execute_reply.started": "2024-10-02T22:27:46.783937Z"
    }
   },
   "outputs": [],
   "source": [
    "fname = specific_station\n",
    "network = fname.split(\"_\")[0]\n",
    "s3_url = \"s3://wecc-historical-wx/3_qaqc_wx_dev/{}/{}.nc\".format(network, fname)"
   ]
  },
  {
   "cell_type": "code",
   "execution_count": null,
   "id": "66049cb4-1f93-4ef9-8c07-d5ed4e26ae8f",
   "metadata": {
    "execution": {
     "iopub.status.busy": "2024-10-02T22:27:46.785827Z",
     "iopub.status.idle": "2024-10-02T22:27:46.785971Z",
     "shell.execute_reply": "2024-10-02T22:27:46.785898Z",
     "shell.execute_reply.started": "2024-10-02T22:27:46.785892Z"
    }
   },
   "outputs": [],
   "source": [
    "s3.download()"
   ]
  },
  {
   "cell_type": "code",
   "execution_count": null,
   "id": "cd6f0ea5-e6aa-496a-8675-36f86751772e",
   "metadata": {},
   "outputs": [],
   "source": []
  },
  {
   "cell_type": "code",
   "execution_count": null,
   "id": "ab3e83b5-7b2a-4d3f-8473-a5b7f23df257",
   "metadata": {},
   "outputs": [],
   "source": []
  },
  {
   "cell_type": "code",
   "execution_count": null,
   "id": "2da80e73-97ad-4f6a-b67c-ac06870e8044",
   "metadata": {},
   "outputs": [],
   "source": []
  },
  {
   "cell_type": "code",
   "execution_count": null,
   "id": "88cbef22-6cb9-4fbf-a129-0dac7ae4f616",
   "metadata": {
    "execution": {
     "iopub.status.busy": "2024-10-02T22:27:46.786850Z",
     "iopub.status.idle": "2024-10-02T22:27:46.787229Z",
     "shell.execute_reply": "2024-10-02T22:27:46.787151Z",
     "shell.execute_reply.started": "2024-10-02T22:27:46.787141Z"
    }
   },
   "outputs": [],
   "source": [
    "df.dropna(subset=vars[\"tas\"])"
   ]
  },
  {
   "cell_type": "code",
   "execution_count": null,
   "id": "f38057b3-da70-44f0-9790-212197e5b60c",
   "metadata": {
    "execution": {
     "iopub.status.busy": "2024-10-02T22:27:46.787678Z",
     "iopub.status.idle": "2024-10-02T22:27:46.787821Z",
     "shell.execute_reply": "2024-10-02T22:27:46.787730Z",
     "shell.execute_reply.started": "2024-10-02T22:27:46.787725Z"
    }
   },
   "outputs": [],
   "source": [
    "len(df.temperature_Quality_Code.dropna()) / len(df.temperature_Quality_Code)"
   ]
  },
  {
   "cell_type": "markdown",
   "id": "323c9ace-c316-4755-a52c-f82b79f77c13",
   "metadata": {},
   "source": [
    "- ERA5 map\n",
    "- Accumulated flags\n",
    "- Interpolated stations or mean\n"
   ]
  },
  {
   "cell_type": "code",
   "execution_count": null,
   "id": "58d30dbb-902f-4b44-8126-ca0588849831",
   "metadata": {
    "execution": {
     "iopub.status.busy": "2024-10-02T22:27:46.788277Z",
     "iopub.status.idle": "2024-10-02T22:27:46.788512Z",
     "shell.execute_reply": "2024-10-02T22:27:46.788422Z",
     "shell.execute_reply.started": "2024-10-02T22:27:46.788416Z"
    }
   },
   "outputs": [],
   "source": [
    "ghcnh.convert_df_to_gpd(ghcnh.station_data)"
   ]
  },
  {
   "cell_type": "code",
   "execution_count": null,
   "id": "ef8e2e53-1ff6-4016-9c51-73ac4cdfa4a7",
   "metadata": {},
   "outputs": [],
   "source": []
  },
  {
   "cell_type": "code",
   "execution_count": null,
   "id": "e761d2ac-8be6-44cb-b389-89fc9f517a8a",
   "metadata": {},
   "outputs": [],
   "source": []
  },
  {
   "cell_type": "code",
   "execution_count": null,
   "id": "77355bab-9b10-4bc4-9671-5c093ec98507",
   "metadata": {},
   "outputs": [],
   "source": []
  },
  {
   "cell_type": "code",
   "execution_count": null,
   "id": "57c35dc6-7fa7-4717-9311-d1acb4ae9ded",
   "metadata": {},
   "outputs": [],
   "source": []
  },
  {
   "cell_type": "code",
   "execution_count": null,
   "id": "ca430745-b684-4685-b75f-a68e7e56b8e8",
   "metadata": {},
   "outputs": [],
   "source": []
  },
  {
   "cell_type": "code",
   "execution_count": null,
   "id": "50dac15d-db66-4ad1-9371-c1ebbd26d40a",
   "metadata": {},
   "outputs": [],
   "source": []
  },
  {
   "cell_type": "code",
   "execution_count": null,
   "id": "7e22f5b5-4c0f-48ec-b8cf-d6aa9b9ac493",
   "metadata": {},
   "outputs": [],
   "source": []
  },
  {
   "cell_type": "code",
   "execution_count": null,
   "id": "2a149eff-fa7c-4aa1-80bf-75b653170817",
   "metadata": {},
   "outputs": [],
   "source": []
  },
  {
   "cell_type": "code",
   "execution_count": null,
   "id": "9e191a5d-d49a-416e-a267-d2239fb8cb90",
   "metadata": {},
   "outputs": [],
   "source": []
  },
  {
   "cell_type": "code",
   "execution_count": null,
   "id": "068938ff-368d-4f64-8ee4-0a6a93b12752",
   "metadata": {},
   "outputs": [],
   "source": []
  },
  {
   "cell_type": "code",
   "execution_count": null,
   "id": "89bcb580-0b52-4d3c-b749-423257f52517",
   "metadata": {},
   "outputs": [],
   "source": []
  },
  {
   "cell_type": "code",
   "execution_count": null,
   "id": "31d9f120-f714-4b7f-9746-31b17727dd89",
   "metadata": {},
   "outputs": [],
   "source": []
  },
  {
   "cell_type": "code",
   "execution_count": null,
   "id": "45f02703-62c2-4461-9ccd-16f0c184c882",
   "metadata": {},
   "outputs": [],
   "source": []
  },
  {
   "cell_type": "code",
   "execution_count": null,
   "id": "d5006fa5-1490-494f-b70d-6ed5dfa81d3e",
   "metadata": {},
   "outputs": [],
   "source": []
  },
  {
   "cell_type": "code",
   "execution_count": null,
   "id": "21e2c79a-448b-4362-9e76-5f82d97ce080",
   "metadata": {},
   "outputs": [],
   "source": []
  },
  {
   "cell_type": "code",
   "execution_count": null,
   "id": "9395fce8-4953-44ac-9b31-cda7b89650dd",
   "metadata": {},
   "outputs": [],
   "source": []
  },
  {
   "cell_type": "code",
   "execution_count": null,
   "id": "948d8b05-db8c-4ff5-8eea-27fb2f99bf90",
   "metadata": {},
   "outputs": [],
   "source": []
  },
  {
   "cell_type": "code",
   "execution_count": null,
   "id": "a3c8bb20-dcea-4b4d-a283-f5abd0655cf4",
   "metadata": {},
   "outputs": [],
   "source": []
  },
  {
   "cell_type": "code",
   "execution_count": null,
   "id": "8f88f8d7-f0e0-4431-97af-c8b8852ea60b",
   "metadata": {},
   "outputs": [],
   "source": []
  }
 ],
 "metadata": {
  "kernelspec": {
   "display_name": "hist-obs",
   "language": "python",
   "name": "hist-obs"
  },
  "language_info": {
   "codemirror_mode": {
    "name": "ipython",
    "version": 3
   },
   "file_extension": ".py",
   "mimetype": "text/x-python",
   "name": "python",
   "nbconvert_exporter": "python",
   "pygments_lexer": "ipython3",
   "version": "3.9.18"
  }
 },
 "nbformat": 4,
 "nbformat_minor": 5
}
