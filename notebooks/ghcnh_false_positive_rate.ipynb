{
 "cells": [
  {
   "cell_type": "markdown",
   "id": "2f107480-b89b-4dc8-a146-8ef1fee66c4e",
   "metadata": {},
   "source": [
    "# GHCNh false positive rate"
   ]
  },
  {
   "cell_type": "markdown",
   "id": "07f483d6-b778-4aa0-9eb8-bcb59a86cea6",
   "metadata": {},
   "source": [
    "## Load libraries"
   ]
  },
  {
   "cell_type": "code",
   "execution_count": 1,
   "id": "6bf98323-af90-43a5-8a0c-ebfc0be02d60",
   "metadata": {
    "execution": {
     "iopub.execute_input": "2024-10-02T22:27:27.280385Z",
     "iopub.status.busy": "2024-10-02T22:27:27.280295Z",
     "iopub.status.idle": "2024-10-02T22:27:36.299270Z",
     "shell.execute_reply": "2024-10-02T22:27:36.298689Z",
     "shell.execute_reply.started": "2024-10-02T22:27:27.280374Z"
    }
   },
   "outputs": [],
   "source": [
    "# import libraries\n",
    "import pandas as pd\n",
    "import numpy as np\n",
    "import xarray as xr\n",
    "import geopandas as gpd\n",
    "from geopandas import GeoDataFrame\n",
    "from shapely.geometry import Point\n",
    "import matplotlib.pyplot as plt\n",
    "import cartopy.crs as ccrs\n",
    "import cartopy.feature as cf\n",
    "from matplotlib.ticker import MaxNLocator\n",
    "import sys\n",
    "\n",
    "ghcnh_lib_path = \"/Users/hector/ERA_work/historical-obs-platform/test_platform/scripts/3_qaqc_data/qaqc_eval_notebooks/GHCNh\"\n",
    "sys.path.append(ghcnh_lib_path)\n",
    "from GHCNh_lib import GHCNh  # If GHCNh is was appended to path\n",
    "from qaqc_eval_utils import *\n",
    "\n",
    "%matplotlib inline\n",
    "\n",
    "%load_ext autoreload\n",
    "%autoreload 2"
   ]
  },
  {
   "cell_type": "markdown",
   "id": "246801a9-b1a3-4369-9b7a-409423fbd911",
   "metadata": {},
   "source": [
    "## GHCNh dataset"
   ]
  },
  {
   "cell_type": "markdown",
   "id": "f29a23de-8ed6-41bc-95a0-7957a62b9b0d",
   "metadata": {},
   "source": [
    "### GHCNh test the convert to geopandas DataFrame"
   ]
  },
  {
   "cell_type": "code",
   "execution_count": 2,
   "id": "fd979aa5-ba57-445f-98f5-079834afade8",
   "metadata": {
    "execution": {
     "iopub.execute_input": "2024-10-02T22:27:36.300034Z",
     "iopub.status.busy": "2024-10-02T22:27:36.299925Z",
     "iopub.status.idle": "2024-10-02T22:27:39.311711Z",
     "shell.execute_reply": "2024-10-02T22:27:39.311438Z",
     "shell.execute_reply.started": "2024-10-02T22:27:36.300023Z"
    }
   },
   "outputs": [
    {
     "name": "stdout",
     "output_type": "stream",
     "text": [
      "CAW00025343, -133.05000, 54.25000\n",
      "CPU times: user 2.8 s, sys: 180 ms, total: 2.98 s\n",
      "Wall time: 2.98 s\n"
     ]
    },
    {
     "data": {
      "text/html": [
       "<div>\n",
       "<style scoped>\n",
       "    .dataframe tbody tr th:only-of-type {\n",
       "        vertical-align: middle;\n",
       "    }\n",
       "\n",
       "    .dataframe tbody tr th {\n",
       "        vertical-align: top;\n",
       "    }\n",
       "\n",
       "    .dataframe thead th {\n",
       "        text-align: right;\n",
       "    }\n",
       "</style>\n",
       "<table border=\"1\" class=\"dataframe\">\n",
       "  <thead>\n",
       "    <tr style=\"text-align: right;\">\n",
       "      <th></th>\n",
       "      <th>Station_ID</th>\n",
       "      <th>Station_name</th>\n",
       "      <th>Year</th>\n",
       "      <th>Month</th>\n",
       "      <th>Day</th>\n",
       "      <th>Hour</th>\n",
       "      <th>Minute</th>\n",
       "      <th>Latitude</th>\n",
       "      <th>Longitude</th>\n",
       "      <th>Elevation</th>\n",
       "      <th>...</th>\n",
       "      <th>precipitation_24_hour_Source_Code</th>\n",
       "      <th>precipitation_24_hour_Source_Station_ID</th>\n",
       "      <th>remarks</th>\n",
       "      <th>remarks_Measurement_Code</th>\n",
       "      <th>remarks_Quality_Code</th>\n",
       "      <th>remarks_Report_Type</th>\n",
       "      <th>remarks_Source_Code</th>\n",
       "      <th>remarks_Source_Station_ID</th>\n",
       "      <th>time</th>\n",
       "      <th>geometry</th>\n",
       "    </tr>\n",
       "  </thead>\n",
       "  <tbody>\n",
       "    <tr>\n",
       "      <th>0</th>\n",
       "      <td>CAW00025343</td>\n",
       "      <td>LANGARA</td>\n",
       "      <td>1954</td>\n",
       "      <td>1</td>\n",
       "      <td>1</td>\n",
       "      <td>9</td>\n",
       "      <td>0</td>\n",
       "      <td>54.25</td>\n",
       "      <td>-133.05</td>\n",
       "      <td>41.1</td>\n",
       "      <td>...</td>\n",
       "      <td>NaN</td>\n",
       "      <td>NaN</td>\n",
       "      <td>NaN</td>\n",
       "      <td>NaN</td>\n",
       "      <td>NaN</td>\n",
       "      <td>NaN</td>\n",
       "      <td>NaN</td>\n",
       "      <td>NaN</td>\n",
       "      <td>1954-01-01 09:00:00</td>\n",
       "      <td>POINT (-14811058.250 7217646.198)</td>\n",
       "    </tr>\n",
       "    <tr>\n",
       "      <th>1</th>\n",
       "      <td>CAW00025343</td>\n",
       "      <td>LANGARA</td>\n",
       "      <td>1954</td>\n",
       "      <td>1</td>\n",
       "      <td>1</td>\n",
       "      <td>21</td>\n",
       "      <td>0</td>\n",
       "      <td>54.25</td>\n",
       "      <td>-133.05</td>\n",
       "      <td>41.1</td>\n",
       "      <td>...</td>\n",
       "      <td>NaN</td>\n",
       "      <td>NaN</td>\n",
       "      <td>NaN</td>\n",
       "      <td>NaN</td>\n",
       "      <td>NaN</td>\n",
       "      <td>NaN</td>\n",
       "      <td>NaN</td>\n",
       "      <td>NaN</td>\n",
       "      <td>1954-01-01 21:00:00</td>\n",
       "      <td>POINT (-14811058.250 7217646.198)</td>\n",
       "    </tr>\n",
       "    <tr>\n",
       "      <th>2</th>\n",
       "      <td>CAW00025343</td>\n",
       "      <td>LANGARA</td>\n",
       "      <td>1954</td>\n",
       "      <td>1</td>\n",
       "      <td>2</td>\n",
       "      <td>3</td>\n",
       "      <td>0</td>\n",
       "      <td>54.25</td>\n",
       "      <td>-133.05</td>\n",
       "      <td>41.1</td>\n",
       "      <td>...</td>\n",
       "      <td>NaN</td>\n",
       "      <td>NaN</td>\n",
       "      <td>NaN</td>\n",
       "      <td>NaN</td>\n",
       "      <td>NaN</td>\n",
       "      <td>NaN</td>\n",
       "      <td>NaN</td>\n",
       "      <td>NaN</td>\n",
       "      <td>1954-01-02 03:00:00</td>\n",
       "      <td>POINT (-14811058.250 7217646.198)</td>\n",
       "    </tr>\n",
       "  </tbody>\n",
       "</table>\n",
       "<p>3 rows × 240 columns</p>\n",
       "</div>"
      ],
      "text/plain": [
       "    Station_ID Station_name  Year  Month  Day  Hour  Minute  Latitude  \\\n",
       "0  CAW00025343      LANGARA  1954      1    1     9       0     54.25   \n",
       "1  CAW00025343      LANGARA  1954      1    1    21       0     54.25   \n",
       "2  CAW00025343      LANGARA  1954      1    2     3       0     54.25   \n",
       "\n",
       "   Longitude  Elevation  ...  precipitation_24_hour_Source_Code  \\\n",
       "0    -133.05       41.1  ...                                NaN   \n",
       "1    -133.05       41.1  ...                                NaN   \n",
       "2    -133.05       41.1  ...                                NaN   \n",
       "\n",
       "   precipitation_24_hour_Source_Station_ID remarks remarks_Measurement_Code  \\\n",
       "0                                      NaN     NaN                      NaN   \n",
       "1                                      NaN     NaN                      NaN   \n",
       "2                                      NaN     NaN                      NaN   \n",
       "\n",
       "   remarks_Quality_Code remarks_Report_Type  remarks_Source_Code  \\\n",
       "0                   NaN                 NaN                  NaN   \n",
       "1                   NaN                 NaN                  NaN   \n",
       "2                   NaN                 NaN                  NaN   \n",
       "\n",
       "   remarks_Source_Station_ID                time  \\\n",
       "0                        NaN 1954-01-01 09:00:00   \n",
       "1                        NaN 1954-01-01 21:00:00   \n",
       "2                        NaN 1954-01-02 03:00:00   \n",
       "\n",
       "                            geometry  \n",
       "0  POINT (-14811058.250 7217646.198)  \n",
       "1  POINT (-14811058.250 7217646.198)  \n",
       "2  POINT (-14811058.250 7217646.198)  \n",
       "\n",
       "[3 rows x 240 columns]"
      ]
     },
     "execution_count": 2,
     "metadata": {},
     "output_type": "execute_result"
    }
   ],
   "source": [
    "%%time\n",
    "ghcnh = GHCNh(stations_local=True)\n",
    "ghcnh.select_wecc()\n",
    "id = ghcnh.stations_df[\"id\"].iloc[0]\n",
    "ghcnh.read_data_from_url(id, save=True)\n",
    "ghcnh.convert_df_to_gpd()\n",
    "lon = ghcnh.station_data.Longitude.mean()\n",
    "lat = ghcnh.station_data.Latitude.mean()\n",
    "print(\"{}, {:.5f}, {:.5f}\".format(id, lon, lat))\n",
    "ghcnh.station_data.head(3)"
   ]
  },
  {
   "cell_type": "markdown",
   "id": "460d1c34-c527-400c-8fed-14f384e6002a",
   "metadata": {},
   "source": [
    "## Train stations and even evaluation"
   ]
  },
  {
   "cell_type": "markdown",
   "id": "ee32ab34-554e-43a9-8bec-7d8e07150347",
   "metadata": {},
   "source": [
    "### Read in stations"
   ]
  },
  {
   "cell_type": "code",
   "execution_count": 3,
   "id": "b768ca2a-0d08-4824-81c9-4b4325ed326e",
   "metadata": {
    "execution": {
     "iopub.execute_input": "2024-10-02T22:27:39.312439Z",
     "iopub.status.busy": "2024-10-02T22:27:39.312277Z",
     "iopub.status.idle": "2024-10-02T22:27:39.333627Z",
     "shell.execute_reply": "2024-10-02T22:27:39.333270Z",
     "shell.execute_reply.started": "2024-10-02T22:27:39.312420Z"
    }
   },
   "outputs": [],
   "source": [
    "train_stns = pd.read_csv(\"../qaqc_training_station_list_events.csv\")"
   ]
  },
  {
   "cell_type": "markdown",
   "id": "dfa0b2f9-4289-45c0-aed2-f07e5513d220",
   "metadata": {},
   "source": [
    "### How to identify other events of interest using a start and end date"
   ]
  },
  {
   "cell_type": "code",
   "execution_count": 4,
   "id": "02c39e75-fccd-4915-be01-c77f9508dbb3",
   "metadata": {
    "execution": {
     "iopub.execute_input": "2024-10-02T22:27:39.334238Z",
     "iopub.status.busy": "2024-10-02T22:27:39.334139Z",
     "iopub.status.idle": "2024-10-02T22:27:39.360419Z",
     "shell.execute_reply": "2024-10-02T22:27:39.360154Z",
     "shell.execute_reply.started": "2024-10-02T22:27:39.334228Z"
    }
   },
   "outputs": [
    {
     "name": "stdout",
     "output_type": "stream",
     "text": [
      "Subsetting station record for event duration with 14 day buffer...\n",
      "5 stations selected for evaluation for comparison!\n",
      "Stations selected for evaluation:\n",
      " ['HADS_MCAA2', 'RAWS_PARN8', 'HADS_WHRU1', 'ASOSAWOS_72783024149', 'ASOSAWOS_72797094240']\n"
     ]
    },
    {
     "data": {
      "text/html": [
       "<div>\n",
       "<style scoped>\n",
       "    .dataframe tbody tr th:only-of-type {\n",
       "        vertical-align: middle;\n",
       "    }\n",
       "\n",
       "    .dataframe tbody tr th {\n",
       "        vertical-align: top;\n",
       "    }\n",
       "\n",
       "    .dataframe thead th {\n",
       "        text-align: right;\n",
       "    }\n",
       "</style>\n",
       "<table border=\"1\" class=\"dataframe\">\n",
       "  <thead>\n",
       "    <tr style=\"text-align: right;\">\n",
       "      <th></th>\n",
       "      <th>network</th>\n",
       "      <th>era-id</th>\n",
       "      <th>elevation</th>\n",
       "      <th>latitude</th>\n",
       "      <th>longitude</th>\n",
       "      <th>start_date</th>\n",
       "      <th>end_date</th>\n",
       "      <th>event_type</th>\n",
       "      <th>notes</th>\n",
       "    </tr>\n",
       "  </thead>\n",
       "  <tbody>\n",
       "    <tr>\n",
       "      <th>446</th>\n",
       "      <td>HADS</td>\n",
       "      <td>HADS_MCAA2</td>\n",
       "      <td>44.0</td>\n",
       "      <td>58.398060</td>\n",
       "      <td>-134.60944</td>\n",
       "      <td>2007-03-22 00:00:00+00:00</td>\n",
       "      <td>2023-01-16 16:00:00+00:00</td>\n",
       "      <td>AR, mudslide, aug2020_heatwave, sep2020_heatwa...</td>\n",
       "      <td>NaN</td>\n",
       "    </tr>\n",
       "    <tr>\n",
       "      <th>847</th>\n",
       "      <td>RAWS</td>\n",
       "      <td>RAWS_PARN8</td>\n",
       "      <td>2101.0</td>\n",
       "      <td>47.974167</td>\n",
       "      <td>-102.22250</td>\n",
       "      <td>2002-04-18 00:00:00+00:00</td>\n",
       "      <td>2013-07-28 19:02:00+00:00</td>\n",
       "      <td>NaN</td>\n",
       "      <td>NaN</td>\n",
       "    </tr>\n",
       "    <tr>\n",
       "      <th>474</th>\n",
       "      <td>HADS</td>\n",
       "      <td>HADS_WHRU1</td>\n",
       "      <td>7361.0</td>\n",
       "      <td>40.600560</td>\n",
       "      <td>-109.92639</td>\n",
       "      <td>2000-01-17 00:00:00+00:00</td>\n",
       "      <td>2023-01-16 16:00:00+00:00</td>\n",
       "      <td>AR, mudslide, aug2020_heatwave, sep2020_heatwa...</td>\n",
       "      <td>NaN</td>\n",
       "    </tr>\n",
       "  </tbody>\n",
       "</table>\n",
       "</div>"
      ],
      "text/plain": [
       "    network      era-id  elevation   latitude  longitude  \\\n",
       "446    HADS  HADS_MCAA2       44.0  58.398060 -134.60944   \n",
       "847    RAWS  RAWS_PARN8     2101.0  47.974167 -102.22250   \n",
       "474    HADS  HADS_WHRU1     7361.0  40.600560 -109.92639   \n",
       "\n",
       "                   start_date                  end_date  \\\n",
       "446 2007-03-22 00:00:00+00:00 2023-01-16 16:00:00+00:00   \n",
       "847 2002-04-18 00:00:00+00:00 2013-07-28 19:02:00+00:00   \n",
       "474 2000-01-17 00:00:00+00:00 2023-01-16 16:00:00+00:00   \n",
       "\n",
       "                                            event_type notes  \n",
       "446  AR, mudslide, aug2020_heatwave, sep2020_heatwa...   NaN  \n",
       "847                                                NaN   NaN  \n",
       "474  AR, mudslide, aug2020_heatwave, sep2020_heatwa...   NaN  "
      ]
     },
     "execution_count": 4,
     "metadata": {},
     "output_type": "execute_result"
    }
   ],
   "source": [
    "alt_start_date = \"2007-10-20\"\n",
    "alt_end_date = \"2007-10-24\"\n",
    "alt_event_stns = find_other_events(\n",
    "    train_stns, event_start=alt_start_date, event_end=alt_end_date, buffer=14, subset=5\n",
    ")\n",
    "alt_event_stns.head(3)"
   ]
  },
  {
   "cell_type": "markdown",
   "id": "80be1a57-b1fe-4106-b045-5de1e0056864",
   "metadata": {},
   "source": [
    "### Original functionality of `subset_eval_stns` function, random sampling from trainint stations"
   ]
  },
  {
   "cell_type": "code",
   "execution_count": 5,
   "id": "7504cc69-4747-4ee1-8d6d-91e042742f33",
   "metadata": {
    "execution": {
     "iopub.execute_input": "2024-10-02T22:27:39.361050Z",
     "iopub.status.busy": "2024-10-02T22:27:39.360929Z",
     "iopub.status.idle": "2024-10-02T22:27:39.925905Z",
     "shell.execute_reply": "2024-10-02T22:27:39.925578Z",
     "shell.execute_reply.started": "2024-10-02T22:27:39.361040Z"
    }
   },
   "outputs": [
    {
     "name": "stdout",
     "output_type": "stream",
     "text": [
      "17 potential stations available for evaluation for santa_ana_wind event.\n",
      "5 stations selected for evaluation for santa_ana_wind event!\n",
      "Stations selected for evaluation:\n",
      " ['ASOSAWOS_72383023187', 'ASOSAWOS_72297023129', 'CIMIS_45', 'ASOSAWOS_72292023191', 'ASOSAWOS_72288023152']\n"
     ]
    },
    {
     "data": {
      "text/html": [
       "<div>\n",
       "<style scoped>\n",
       "    .dataframe tbody tr th:only-of-type {\n",
       "        vertical-align: middle;\n",
       "    }\n",
       "\n",
       "    .dataframe tbody tr th {\n",
       "        vertical-align: top;\n",
       "    }\n",
       "\n",
       "    .dataframe thead th {\n",
       "        text-align: right;\n",
       "    }\n",
       "</style>\n",
       "<table border=\"1\" class=\"dataframe\">\n",
       "  <thead>\n",
       "    <tr style=\"text-align: right;\">\n",
       "      <th></th>\n",
       "      <th>network</th>\n",
       "      <th>era-id</th>\n",
       "      <th>elevation</th>\n",
       "      <th>latitude</th>\n",
       "      <th>longitude</th>\n",
       "      <th>start_date</th>\n",
       "      <th>end_date</th>\n",
       "      <th>event_type</th>\n",
       "      <th>notes</th>\n",
       "      <th>STATEFP</th>\n",
       "      <th>...</th>\n",
       "      <th>CBSAFP</th>\n",
       "      <th>METDIVFP</th>\n",
       "      <th>FUNCSTAT</th>\n",
       "      <th>ALAND</th>\n",
       "      <th>AWATER</th>\n",
       "      <th>INTPTLAT</th>\n",
       "      <th>INTPTLON</th>\n",
       "      <th>Shape_Leng</th>\n",
       "      <th>Shape_Area</th>\n",
       "      <th>geometry</th>\n",
       "    </tr>\n",
       "  </thead>\n",
       "  <tbody>\n",
       "    <tr>\n",
       "      <th>7</th>\n",
       "      <td>ASOSAWOS</td>\n",
       "      <td>ASOSAWOS_72383023187</td>\n",
       "      <td>1374.6480</td>\n",
       "      <td>34.744</td>\n",
       "      <td>-118.725</td>\n",
       "      <td>1973-01-01 00:00:00+00:00</td>\n",
       "      <td>2022-12-31 00:00:00+00:00</td>\n",
       "      <td>all</td>\n",
       "      <td>NaN</td>\n",
       "      <td>06</td>\n",
       "      <td>...</td>\n",
       "      <td>31080</td>\n",
       "      <td>31084</td>\n",
       "      <td>A</td>\n",
       "      <td>1.051186e+10</td>\n",
       "      <td>1.793485e+09</td>\n",
       "      <td>+34.1963983</td>\n",
       "      <td>-118.2618616</td>\n",
       "      <td>883876.944789</td>\n",
       "      <td>1.803431e+10</td>\n",
       "      <td>POINT (-13216406.544 4129145.958)</td>\n",
       "    </tr>\n",
       "    <tr>\n",
       "      <th>4</th>\n",
       "      <td>ASOSAWOS</td>\n",
       "      <td>ASOSAWOS_72297023129</td>\n",
       "      <td>10.3632</td>\n",
       "      <td>33.812</td>\n",
       "      <td>-118.147</td>\n",
       "      <td>1943-01-01 00:00:00+00:00</td>\n",
       "      <td>2022-12-31 00:00:00+00:00</td>\n",
       "      <td>all</td>\n",
       "      <td>NaN</td>\n",
       "      <td>06</td>\n",
       "      <td>...</td>\n",
       "      <td>31080</td>\n",
       "      <td>31084</td>\n",
       "      <td>A</td>\n",
       "      <td>1.051186e+10</td>\n",
       "      <td>1.793485e+09</td>\n",
       "      <td>+34.1963983</td>\n",
       "      <td>-118.2618616</td>\n",
       "      <td>883876.944789</td>\n",
       "      <td>1.803431e+10</td>\n",
       "      <td>POINT (-13152063.879 4003586.068)</td>\n",
       "    </tr>\n",
       "    <tr>\n",
       "      <th>12</th>\n",
       "      <td>CIMIS</td>\n",
       "      <td>CIMIS_45</td>\n",
       "      <td>370.0000</td>\n",
       "      <td>32.787</td>\n",
       "      <td>-117.135</td>\n",
       "      <td>1985-06-09 00:00:00+00:00</td>\n",
       "      <td>1989-04-27 00:00:00+00:00</td>\n",
       "      <td>santa_ana_wind</td>\n",
       "      <td>NaN</td>\n",
       "      <td>06</td>\n",
       "      <td>...</td>\n",
       "      <td>41740</td>\n",
       "      <td>NaN</td>\n",
       "      <td>A</td>\n",
       "      <td>1.090437e+10</td>\n",
       "      <td>8.174046e+08</td>\n",
       "      <td>+33.0236041</td>\n",
       "      <td>-116.7761174</td>\n",
       "      <td>553042.602989</td>\n",
       "      <td>1.672201e+10</td>\n",
       "      <td>POINT (-13039408.554 3867065.784)</td>\n",
       "    </tr>\n",
       "  </tbody>\n",
       "</table>\n",
       "<p>3 rows × 29 columns</p>\n",
       "</div>"
      ],
      "text/plain": [
       "     network                era-id  elevation  latitude  longitude  \\\n",
       "7   ASOSAWOS  ASOSAWOS_72383023187  1374.6480    34.744   -118.725   \n",
       "4   ASOSAWOS  ASOSAWOS_72297023129    10.3632    33.812   -118.147   \n",
       "12     CIMIS              CIMIS_45   370.0000    32.787   -117.135   \n",
       "\n",
       "                  start_date                  end_date      event_type notes  \\\n",
       "7  1973-01-01 00:00:00+00:00 2022-12-31 00:00:00+00:00             all   NaN   \n",
       "4  1943-01-01 00:00:00+00:00 2022-12-31 00:00:00+00:00             all   NaN   \n",
       "12 1985-06-09 00:00:00+00:00 1989-04-27 00:00:00+00:00  santa_ana_wind   NaN   \n",
       "\n",
       "   STATEFP  ... CBSAFP METDIVFP FUNCSTAT         ALAND        AWATER  \\\n",
       "7       06  ...  31080    31084        A  1.051186e+10  1.793485e+09   \n",
       "4       06  ...  31080    31084        A  1.051186e+10  1.793485e+09   \n",
       "12      06  ...  41740      NaN        A  1.090437e+10  8.174046e+08   \n",
       "\n",
       "       INTPTLAT      INTPTLON     Shape_Leng    Shape_Area  \\\n",
       "7   +34.1963983  -118.2618616  883876.944789  1.803431e+10   \n",
       "4   +34.1963983  -118.2618616  883876.944789  1.803431e+10   \n",
       "12  +33.0236041  -116.7761174  553042.602989  1.672201e+10   \n",
       "\n",
       "                             geometry  \n",
       "7   POINT (-13216406.544 4129145.958)  \n",
       "4   POINT (-13152063.879 4003586.068)  \n",
       "12  POINT (-13039408.554 3867065.784)  \n",
       "\n",
       "[3 rows x 29 columns]"
      ]
     },
     "execution_count": 5,
     "metadata": {},
     "output_type": "execute_result"
    }
   ],
   "source": [
    "eval_stations = subset_eval_stns(\n",
    "    event_to_eval=\"santa_ana_wind\", stn_list=train_stns, subset=5, return_stn_ids=True\n",
    ")\n",
    "eval_stations.head(3)"
   ]
  },
  {
   "cell_type": "code",
   "execution_count": 6,
   "id": "374ceec1-4b15-466c-ba18-7237f47ec6f7",
   "metadata": {
    "execution": {
     "iopub.execute_input": "2024-10-02T22:27:39.926495Z",
     "iopub.status.busy": "2024-10-02T22:27:39.926395Z",
     "iopub.status.idle": "2024-10-02T22:27:39.945106Z",
     "shell.execute_reply": "2024-10-02T22:27:39.944830Z",
     "shell.execute_reply.started": "2024-10-02T22:27:39.926485Z"
    }
   },
   "outputs": [
    {
     "data": {
      "text/plain": [
       "'ASOSAWOS_72288023152'"
      ]
     },
     "execution_count": 6,
     "metadata": {},
     "output_type": "execute_result"
    }
   ],
   "source": [
    "eval_stations[\"era-id\"].values[-1]\n",
    "# eval_stations.loc[eval_stations['era-id']==stn_id]"
   ]
  },
  {
   "cell_type": "code",
   "execution_count": 7,
   "id": "1aa20598-2caa-450f-ac65-a9a3cdfb52cd",
   "metadata": {
    "execution": {
     "iopub.execute_input": "2024-10-02T22:27:39.947277Z",
     "iopub.status.busy": "2024-10-02T22:27:39.947168Z",
     "iopub.status.idle": "2024-10-02T22:27:45.741008Z",
     "shell.execute_reply": "2024-10-02T22:27:45.740705Z",
     "shell.execute_reply.started": "2024-10-02T22:27:39.947267Z"
    }
   },
   "outputs": [
    {
     "data": {
      "text/plain": [
       "[<matplotlib.lines.Line2D at 0x377d50610>]"
      ]
     },
     "execution_count": 7,
     "metadata": {},
     "output_type": "execute_result"
    },
    {
     "data": {
      "image/png": "[encoded data removed]",
      "text/plain": [
       "<Figure size 640x480 with 1 Axes>"
      ]
     },
     "metadata": {},
     "output_type": "display_data"
    }
   ],
   "source": [
    "fig, ax = stn_visualize(\n",
    "    stn_id=eval_stations[\"era-id\"].values[-1],\n",
    "    stn_list=eval_stations,\n",
    "    event_to_eval=\"santa_ana_wind\",\n",
    ")\n",
    "\n",
    "ax.plot(\n",
    "    ghcnh.stations_df.longitude,\n",
    "    ghcnh.stations_df.latitude,\n",
    "    \"x\",\n",
    "    markersize=4,\n",
    "    transform=ccrs.PlateCarree(),\n",
    "    mfc=\"none\",\n",
    ")"
   ]
  },
  {
   "cell_type": "markdown",
   "id": "b6ea2523-1778-481a-a847-41d52a92eb9b",
   "metadata": {},
   "source": [
    "### New addition, specific station flag\n",
    "\n",
    "<div style=\"width: 50em;\">\n",
    "Specific station flag introduced to control which station we are analyzing\n",
    "Useful for debugging, down the line this would help to manage using the same\n",
    "station and not download different stations every time in the nearest stations\n",
    "part (down)\n",
    "</div>"
   ]
  },
  {
   "cell_type": "code",
   "execution_count": 56,
   "id": "1f1c8318-a7b9-4ea0-8cf8-c838bb57a24e",
   "metadata": {
    "execution": {
     "iopub.execute_input": "2024-10-02T22:42:27.509786Z",
     "iopub.status.busy": "2024-10-02T22:42:27.508001Z",
     "iopub.status.idle": "2024-10-02T22:42:27.609716Z",
     "shell.execute_reply": "2024-10-02T22:42:27.609350Z",
     "shell.execute_reply.started": "2024-10-02T22:42:27.509703Z"
    }
   },
   "outputs": [
    {
     "data": {
      "text/plain": [
       "\" Test when station is not in the training/event dataframe\\nThis would lead to the error:\\n'ValueError: Station CIMIS_80 is not within the training/event dataset'\\n\""
      ]
     },
     "execution_count": 56,
     "metadata": {},
     "output_type": "execute_result"
    }
   ],
   "source": [
    "\"\"\" Test when station is not in the training/event dataframe\n",
    "This would lead to the error:\n",
    "'ValueError: Station CIMIS_80 is not within the training/event dataset'\n",
    "\"\"\"\n",
    "\n",
    "# eval_stations = subset_eval_stns(\n",
    "#     event_to_eval = 'santa_ana_wind',\n",
    "#     stn_list = train_stns,\n",
    "#     specific_station='CIMIS_80',\n",
    "#     return_stn_ids = True\n",
    "# )\n",
    "# eval_stations"
   ]
  },
  {
   "cell_type": "code",
   "execution_count": 9,
   "id": "1b374fb9-7058-46d3-a479-3da850b4e791",
   "metadata": {
    "execution": {
     "iopub.execute_input": "2024-10-02T22:27:48.475436Z",
     "iopub.status.busy": "2024-10-02T22:27:48.474819Z",
     "iopub.status.idle": "2024-10-02T22:27:48.517204Z",
     "shell.execute_reply": "2024-10-02T22:27:48.516702Z",
     "shell.execute_reply.started": "2024-10-02T22:27:48.475392Z"
    }
   },
   "outputs": [],
   "source": [
    "# specific_station = 'CIMIS_45'\n",
    "specific_station = \"CIMIS_75\""
   ]
  },
  {
   "cell_type": "code",
   "execution_count": 10,
   "id": "101b57fb-30cb-47f0-967a-0c0782f90a4d",
   "metadata": {
    "execution": {
     "iopub.execute_input": "2024-10-02T22:27:48.974439Z",
     "iopub.status.busy": "2024-10-02T22:27:48.973655Z",
     "iopub.status.idle": "2024-10-02T22:27:49.379652Z",
     "shell.execute_reply": "2024-10-02T22:27:49.379314Z",
     "shell.execute_reply.started": "2024-10-02T22:27:48.974371Z"
    }
   },
   "outputs": [
    {
     "name": "stdout",
     "output_type": "stream",
     "text": [
      "17 potential stations available for evaluation for santa_ana_wind event.\n"
     ]
    },
    {
     "data": {
      "text/html": [
       "<div>\n",
       "<style scoped>\n",
       "    .dataframe tbody tr th:only-of-type {\n",
       "        vertical-align: middle;\n",
       "    }\n",
       "\n",
       "    .dataframe tbody tr th {\n",
       "        vertical-align: top;\n",
       "    }\n",
       "\n",
       "    .dataframe thead th {\n",
       "        text-align: right;\n",
       "    }\n",
       "</style>\n",
       "<table border=\"1\" class=\"dataframe\">\n",
       "  <thead>\n",
       "    <tr style=\"text-align: right;\">\n",
       "      <th></th>\n",
       "      <th>network</th>\n",
       "      <th>era-id</th>\n",
       "      <th>elevation</th>\n",
       "      <th>latitude</th>\n",
       "      <th>longitude</th>\n",
       "      <th>start_date</th>\n",
       "      <th>end_date</th>\n",
       "      <th>event_type</th>\n",
       "      <th>notes</th>\n",
       "      <th>geometry</th>\n",
       "    </tr>\n",
       "  </thead>\n",
       "  <tbody>\n",
       "    <tr>\n",
       "      <th>82</th>\n",
       "      <td>CIMIS</td>\n",
       "      <td>CIMIS_75</td>\n",
       "      <td>410.0</td>\n",
       "      <td>33.68845</td>\n",
       "      <td>-117.72118</td>\n",
       "      <td>1987-10-07 00:00:00+00:00</td>\n",
       "      <td>2024-01-22 13:36:19.951554+00:00</td>\n",
       "      <td>all</td>\n",
       "      <td>NaN</td>\n",
       "      <td>POINT (-13104661.813 3987044.797)</td>\n",
       "    </tr>\n",
       "  </tbody>\n",
       "</table>\n",
       "</div>"
      ],
      "text/plain": [
       "   network    era-id  elevation  latitude  longitude  \\\n",
       "82   CIMIS  CIMIS_75      410.0  33.68845 -117.72118   \n",
       "\n",
       "                  start_date                         end_date event_type  \\\n",
       "82 1987-10-07 00:00:00+00:00 2024-01-22 13:36:19.951554+00:00        all   \n",
       "\n",
       "   notes                           geometry  \n",
       "82   NaN  POINT (-13104661.813 3987044.797)  "
      ]
     },
     "execution_count": 10,
     "metadata": {},
     "output_type": "execute_result"
    }
   ],
   "source": [
    "eval_stations = subset_eval_stns(\n",
    "    event_to_eval=\"santa_ana_wind\",\n",
    "    stn_list=train_stns,\n",
    "    specific_station=specific_station,\n",
    "    return_stn_ids=True,\n",
    ")\n",
    "eval_stations"
   ]
  },
  {
   "cell_type": "markdown",
   "id": "b40c99b1-8608-4cd1-bbbb-d90f367341ad",
   "metadata": {},
   "source": [
    "#### Plot 'specific station' from the training and the GHCNh stations in the 'area'"
   ]
  },
  {
   "cell_type": "code",
   "execution_count": 11,
   "id": "3f8cc510-ed96-4ca2-9050-f79f511d512e",
   "metadata": {
    "execution": {
     "iopub.execute_input": "2024-10-02T22:27:49.403391Z",
     "iopub.status.busy": "2024-10-02T22:27:49.403234Z",
     "iopub.status.idle": "2024-10-02T22:27:49.807085Z",
     "shell.execute_reply": "2024-10-02T22:27:49.806638Z",
     "shell.execute_reply.started": "2024-10-02T22:27:49.403379Z"
    }
   },
   "outputs": [
    {
     "data": {
      "text/plain": [
       "[<matplotlib.lines.Line2D at 0x33f6db160>]"
      ]
     },
     "execution_count": 11,
     "metadata": {},
     "output_type": "execute_result"
    },
    {
     "data": {
      "image/png": "[encoded data removed]",
      "text/plain": [
       "<Figure size 640x480 with 1 Axes>"
      ]
     },
     "metadata": {},
     "output_type": "display_data"
    }
   ],
   "source": [
    "fig, ax = stn_visualize(\n",
    "    stn_id=specific_station, stn_list=eval_stations, event_to_eval=\"santa_ana_wind\"\n",
    ")\n",
    "\n",
    "ax.plot(\n",
    "    ghcnh.stations_df.longitude,\n",
    "    ghcnh.stations_df.latitude,\n",
    "    \"x\",\n",
    "    markersize=4,\n",
    "    transform=ccrs.PlateCarree(),\n",
    "    mfc=\"none\",\n",
    ")"
   ]
  },
  {
   "cell_type": "markdown",
   "id": "8e2a793b-e5e5-410d-9f47-991c99dd5925",
   "metadata": {},
   "source": [
    "## GHCNh stations distance to the testing stations\n",
    "\n",
    "<div style=\"width: 50em;\">\n",
    "Create a distnace to specific station column for the ghcnh dataframe\n",
    "Then, sort by distance to have the nearest stations to the one we are evaluating\n",
    "</div>"
   ]
  },
  {
   "cell_type": "markdown",
   "id": "a8948ca2-56c4-4610-85a8-e8bf1a138d19",
   "metadata": {},
   "source": [
    "### Create distance and sort it"
   ]
  },
  {
   "cell_type": "code",
   "execution_count": 12,
   "id": "03d95769-1d0b-4bd5-a6b8-01e01cd40222",
   "metadata": {
    "execution": {
     "iopub.execute_input": "2024-10-02T22:27:49.808389Z",
     "iopub.status.busy": "2024-10-02T22:27:49.808258Z",
     "iopub.status.idle": "2024-10-02T22:27:49.842909Z",
     "shell.execute_reply": "2024-10-02T22:27:49.842613Z",
     "shell.execute_reply.started": "2024-10-02T22:27:49.808378Z"
    }
   },
   "outputs": [
    {
     "data": {
      "text/html": [
       "<div>\n",
       "<style scoped>\n",
       "    .dataframe tbody tr th:only-of-type {\n",
       "        vertical-align: middle;\n",
       "    }\n",
       "\n",
       "    .dataframe tbody tr th {\n",
       "        vertical-align: top;\n",
       "    }\n",
       "\n",
       "    .dataframe thead th {\n",
       "        text-align: right;\n",
       "    }\n",
       "</style>\n",
       "<table border=\"1\" class=\"dataframe\">\n",
       "  <thead>\n",
       "    <tr style=\"text-align: right;\">\n",
       "      <th></th>\n",
       "      <th>longitude</th>\n",
       "      <th>latitude</th>\n",
       "    </tr>\n",
       "  </thead>\n",
       "  <tbody>\n",
       "    <tr>\n",
       "      <th>82</th>\n",
       "      <td>-117.72118</td>\n",
       "      <td>33.68845</td>\n",
       "    </tr>\n",
       "  </tbody>\n",
       "</table>\n",
       "</div>"
      ],
      "text/plain": [
       "    longitude  latitude\n",
       "82 -117.72118  33.68845"
      ]
     },
     "metadata": {},
     "output_type": "display_data"
    },
    {
     "data": {
      "text/html": [
       "<div>\n",
       "<style scoped>\n",
       "    .dataframe tbody tr th:only-of-type {\n",
       "        vertical-align: middle;\n",
       "    }\n",
       "\n",
       "    .dataframe tbody tr th {\n",
       "        vertical-align: top;\n",
       "    }\n",
       "\n",
       "    .dataframe thead th {\n",
       "        text-align: right;\n",
       "    }\n",
       "</style>\n",
       "<table border=\"1\" class=\"dataframe\">\n",
       "  <thead>\n",
       "    <tr style=\"text-align: right;\">\n",
       "      <th></th>\n",
       "      <th>id</th>\n",
       "      <th>latitude</th>\n",
       "      <th>longitude</th>\n",
       "      <th>elevation</th>\n",
       "      <th>state</th>\n",
       "      <th>name</th>\n",
       "      <th>gsn_flag</th>\n",
       "      <th>hcn</th>\n",
       "      <th>crn_flag</th>\n",
       "      <th>wmo_id</th>\n",
       "      <th>url</th>\n",
       "      <th>is_in_wecc</th>\n",
       "      <th>geometry</th>\n",
       "      <th>distance_to_eval</th>\n",
       "    </tr>\n",
       "  </thead>\n",
       "  <tbody>\n",
       "    <tr>\n",
       "      <th>5627</th>\n",
       "      <td>USW00093184</td>\n",
       "      <td>33.6797</td>\n",
       "      <td>-117.8675</td>\n",
       "      <td>13.1</td>\n",
       "      <td>CA</td>\n",
       "      <td>SANTA ANA JOHN WAYNE AP</td>\n",
       "      <td></td>\n",
       "      <td></td>\n",
       "      <td></td>\n",
       "      <td>NaN</td>\n",
       "      <td>https://www.ncei.noaa.gov/oa/global-historical...</td>\n",
       "      <td>True</td>\n",
       "      <td>POINT (-13120950.081 3985874.222)</td>\n",
       "      <td>16330.276109</td>\n",
       "    </tr>\n",
       "    <tr>\n",
       "      <th>5138</th>\n",
       "      <td>USW00053175</td>\n",
       "      <td>33.8978</td>\n",
       "      <td>-117.6025</td>\n",
       "      <td>162.5</td>\n",
       "      <td>CA</td>\n",
       "      <td>CORONA MUNICIPAL AP</td>\n",
       "      <td></td>\n",
       "      <td></td>\n",
       "      <td></td>\n",
       "      <td>NaN</td>\n",
       "      <td>https://www.ncei.noaa.gov/oa/global-historical...</td>\n",
       "      <td>True</td>\n",
       "      <td>POINT (-13091450.416 4015087.305)</td>\n",
       "      <td>30998.762024</td>\n",
       "    </tr>\n",
       "    <tr>\n",
       "      <th>3575</th>\n",
       "      <td>USW00003166</td>\n",
       "      <td>33.8717</td>\n",
       "      <td>-117.9855</td>\n",
       "      <td>26.2</td>\n",
       "      <td>CA</td>\n",
       "      <td>FULLERTON MUNI AP</td>\n",
       "      <td></td>\n",
       "      <td></td>\n",
       "      <td></td>\n",
       "      <td>NaN</td>\n",
       "      <td>https://www.ncei.noaa.gov/oa/global-historical...</td>\n",
       "      <td>True</td>\n",
       "      <td>POINT (-13134085.781 4011587.454)</td>\n",
       "      <td>38315.948053</td>\n",
       "    </tr>\n",
       "    <tr>\n",
       "      <th>5110</th>\n",
       "      <td>USW00053141</td>\n",
       "      <td>33.7900</td>\n",
       "      <td>-118.0519</td>\n",
       "      <td>10.7</td>\n",
       "      <td>CA</td>\n",
       "      <td>LOS ALAMITOS AAF</td>\n",
       "      <td></td>\n",
       "      <td></td>\n",
       "      <td></td>\n",
       "      <td>NaN</td>\n",
       "      <td>https://www.ncei.noaa.gov/oa/global-historical...</td>\n",
       "      <td>True</td>\n",
       "      <td>POINT (-13141477.395 4000638.892)</td>\n",
       "      <td>39245.209887</td>\n",
       "    </tr>\n",
       "    <tr>\n",
       "      <th>3582</th>\n",
       "      <td>USW00003179</td>\n",
       "      <td>33.9756</td>\n",
       "      <td>-117.6250</td>\n",
       "      <td>193.9</td>\n",
       "      <td>CA</td>\n",
       "      <td>CHINO AP</td>\n",
       "      <td></td>\n",
       "      <td></td>\n",
       "      <td></td>\n",
       "      <td>NaN</td>\n",
       "      <td>https://www.ncei.noaa.gov/oa/global-historical...</td>\n",
       "      <td>True</td>\n",
       "      <td>POINT (-13093955.105 4025526.173)</td>\n",
       "      <td>39943.083072</td>\n",
       "    </tr>\n",
       "  </tbody>\n",
       "</table>\n",
       "</div>"
      ],
      "text/plain": [
       "               id  latitude  longitude  elevation state  \\\n",
       "5627  USW00093184   33.6797  -117.8675       13.1    CA   \n",
       "5138  USW00053175   33.8978  -117.6025      162.5    CA   \n",
       "3575  USW00003166   33.8717  -117.9855       26.2    CA   \n",
       "5110  USW00053141   33.7900  -118.0519       10.7    CA   \n",
       "3582  USW00003179   33.9756  -117.6250      193.9    CA   \n",
       "\n",
       "                                 name gsn_flag   hcn crn_flag  wmo_id  \\\n",
       "5627   SANTA ANA JOHN WAYNE AP                                    NaN   \n",
       "5138   CORONA MUNICIPAL AP                                        NaN   \n",
       "3575   FULLERTON MUNI AP                                          NaN   \n",
       "5110   LOS ALAMITOS AAF                                           NaN   \n",
       "3582   CHINO AP                                                   NaN   \n",
       "\n",
       "                                                    url  is_in_wecc  \\\n",
       "5627  https://www.ncei.noaa.gov/oa/global-historical...        True   \n",
       "5138  https://www.ncei.noaa.gov/oa/global-historical...        True   \n",
       "3575  https://www.ncei.noaa.gov/oa/global-historical...        True   \n",
       "5110  https://www.ncei.noaa.gov/oa/global-historical...        True   \n",
       "3582  https://www.ncei.noaa.gov/oa/global-historical...        True   \n",
       "\n",
       "                               geometry  distance_to_eval  \n",
       "5627  POINT (-13120950.081 3985874.222)      16330.276109  \n",
       "5138  POINT (-13091450.416 4015087.305)      30998.762024  \n",
       "3575  POINT (-13134085.781 4011587.454)      38315.948053  \n",
       "5110  POINT (-13141477.395 4000638.892)      39245.209887  \n",
       "3582  POINT (-13093955.105 4025526.173)      39943.083072  "
      ]
     },
     "execution_count": 12,
     "metadata": {},
     "output_type": "execute_result"
    }
   ],
   "source": [
    "stn_id = eval_stations[\"era-id\"].values[-1]\n",
    "point = eval_stations.loc[eval_stations[\"era-id\"] == stn_id].geometry.iloc[0]\n",
    "ghcnh_stations_df = ghcnh.stations_df.copy()\n",
    "display(eval_stations.loc[eval_stations[\"era-id\"] == stn_id, [\"longitude\", \"latitude\"]])\n",
    "ghcnh_stations_df[\"distance_to_eval\"] = ghcnh_stations_df.distance(\n",
    "    point,\n",
    ")\n",
    "ghcnh_stations_df = ghcnh_stations_df.sort_values(by=\"distance_to_eval\")\n",
    "ghcnh_stations_df.head(5)"
   ]
  },
  {
   "cell_type": "markdown",
   "id": "479b0170-3f7d-4c75-a686-d65830af9fb8",
   "metadata": {},
   "source": [
    "### Plot the closest 10 stations to the train/eval station"
   ]
  },
  {
   "cell_type": "code",
   "execution_count": 13,
   "id": "bff506b0-873c-4a6c-acbf-6e105e5ae1af",
   "metadata": {
    "execution": {
     "iopub.execute_input": "2024-10-02T22:27:49.843581Z",
     "iopub.status.busy": "2024-10-02T22:27:49.843448Z",
     "iopub.status.idle": "2024-10-02T22:27:50.219620Z",
     "shell.execute_reply": "2024-10-02T22:27:50.219277Z",
     "shell.execute_reply.started": "2024-10-02T22:27:49.843571Z"
    }
   },
   "outputs": [
    {
     "data": {
      "image/png": "[encoded data removed]",
      "text/plain": [
       "<Figure size 640x480 with 1 Axes>"
      ]
     },
     "metadata": {},
     "output_type": "display_data"
    }
   ],
   "source": [
    "fig, ax = stn_visualize(\n",
    "    stn_id=specific_station, stn_list=eval_stations, event_to_eval=\"santa_ana_wind\"\n",
    ")\n",
    "\n",
    "plot_df = ghcnh_stations_df.iloc[:10]\n",
    "ax.plot(\n",
    "    plot_df.longitude,\n",
    "    plot_df.latitude,\n",
    "    \"x\",\n",
    "    markersize=6,\n",
    "    transform=ccrs.PlateCarree(),\n",
    "    mfc=\"none\",\n",
    ");"
   ]
  },
  {
   "cell_type": "code",
   "execution_count": 14,
   "id": "79115793-dd89-499b-bc6c-3127f1fcb67f",
   "metadata": {
    "execution": {
     "iopub.execute_input": "2024-10-02T22:27:50.220371Z",
     "iopub.status.busy": "2024-10-02T22:27:50.220122Z",
     "iopub.status.idle": "2024-10-02T22:27:50.240886Z",
     "shell.execute_reply": "2024-10-02T22:27:50.240589Z",
     "shell.execute_reply.started": "2024-10-02T22:27:50.220351Z"
    }
   },
   "outputs": [
    {
     "data": {
      "text/plain": [
       "{'tas': 'temperature',\n",
       " 'tdps': 'dew_point_temperature',\n",
       " 'tdps_derived': 'dew_point_temperature',\n",
       " 'ps': 'station_level_pressure',\n",
       " 'psl': 'station_level_pressure',\n",
       " 'sfcWind_dir': 'wind_direction',\n",
       " 'sfcWind': 'wind_speed',\n",
       " 'hurs': 'relative_humidity',\n",
       " 'rsds': 'N/A',\n",
       " 'pr': 'precipitation',\n",
       " 'pr_1h': 'precipitation',\n",
       " 'pr_5min': 'precipitation'}"
      ]
     },
     "execution_count": 14,
     "metadata": {},
     "output_type": "execute_result"
    }
   ],
   "source": [
    "era2ghcn_vars"
   ]
  },
  {
   "cell_type": "code",
   "execution_count": 15,
   "id": "8e7922ce-be61-4d80-a12f-ced0db800727",
   "metadata": {
    "execution": {
     "iopub.execute_input": "2024-10-02T22:27:50.241547Z",
     "iopub.status.busy": "2024-10-02T22:27:50.241398Z",
     "iopub.status.idle": "2024-10-02T22:27:50.260907Z",
     "shell.execute_reply": "2024-10-02T22:27:50.260563Z",
     "shell.execute_reply.started": "2024-10-02T22:27:50.241534Z"
    }
   },
   "outputs": [],
   "source": [
    "# df, vars = return_ghcn_vars(ghcnh.station_data, 'tas')"
   ]
  },
  {
   "cell_type": "code",
   "execution_count": 16,
   "id": "b2737077-28e4-4b01-a499-813cb7b7b0b1",
   "metadata": {
    "execution": {
     "iopub.execute_input": "2024-10-02T22:27:50.286022Z",
     "iopub.status.busy": "2024-10-02T22:27:50.285761Z",
     "iopub.status.idle": "2024-10-02T22:27:50.304018Z",
     "shell.execute_reply": "2024-10-02T22:27:50.303686Z",
     "shell.execute_reply.started": "2024-10-02T22:27:50.286010Z"
    }
   },
   "outputs": [],
   "source": [
    "# len(df.temperature_Quality_Code.dropna())/len(df.temperature_Quality_Code)"
   ]
  },
  {
   "cell_type": "code",
   "execution_count": 17,
   "id": "a4dcd8f5-180d-4a1a-bf92-26a5f1d210d3",
   "metadata": {
    "execution": {
     "iopub.execute_input": "2024-10-02T22:27:50.306016Z",
     "iopub.status.busy": "2024-10-02T22:27:50.305835Z",
     "iopub.status.idle": "2024-10-02T22:28:16.684447Z",
     "shell.execute_reply": "2024-10-02T22:28:16.683968Z",
     "shell.execute_reply.started": "2024-10-02T22:27:50.306002Z"
    }
   },
   "outputs": [
    {
     "name": "stdout",
     "output_type": "stream",
     "text": [
      "Retrieving data for station...\n",
      "s3://wecc-historical-wx/3_qaqc_wx_dev/CIMIS/CIMIS_75.nc\n",
      "CPU times: user 2.7 s, sys: 1.14 s, total: 3.84 s\n",
      "Wall time: 26.3 s\n"
     ]
    },
    {
     "data": {
      "text/html": [
       "<div><svg style=\"position: absolute; width: 0; height: 0; overflow: hidden\">\n",
       "<defs>\n",
       "<symbol id=\"icon-database\" viewBox=\"0 0 32 32\">\n",
       "<path d=\"M16 0c-8.837 0-16 2.239-16 5v4c0 2.761 7.163 5 16 5s16-2.239 16-5v-4c0-2.761-7.163-5-16-5z\"></path>\n",
       "<path d=\"M16 17c-8.837 0-16-2.239-16-5v6c0 2.761 7.163 5 16 5s16-2.239 16-5v-6c0 2.761-7.163 5-16 5z\"></path>\n",
       "<path d=\"M16 26c-8.837 0-16-2.239-16-5v6c0 2.761 7.163 5 16 5s16-2.239 16-5v-6c0 2.761-7.163 5-16 5z\"></path>\n",
       "</symbol>\n",
       "<symbol id=\"icon-file-text2\" viewBox=\"0 0 32 32\">\n",
       "<path d=\"M28.681 7.159c-0.694-0.947-1.662-2.053-2.724-3.116s-2.169-2.030-3.116-2.724c-1.612-1.182-2.393-1.319-2.841-1.319h-15.5c-1.378 0-2.5 1.121-2.5 2.5v27c0 1.378 1.122 2.5 2.5 2.5h23c1.378 0 2.5-1.122 2.5-2.5v-19.5c0-0.448-0.137-1.23-1.319-2.841zM24.543 5.457c0.959 0.959 1.712 1.825 2.268 2.543h-4.811v-4.811c0.718 0.556 1.584 1.309 2.543 2.268zM28 29.5c0 0.271-0.229 0.5-0.5 0.5h-23c-0.271 0-0.5-0.229-0.5-0.5v-27c0-0.271 0.229-0.5 0.5-0.5 0 0 15.499-0 15.5 0v7c0 0.552 0.448 1 1 1h7v19.5z\"></path>\n",
       "<path d=\"M23 26h-14c-0.552 0-1-0.448-1-1s0.448-1 1-1h14c0.552 0 1 0.448 1 1s-0.448 1-1 1z\"></path>\n",
       "<path d=\"M23 22h-14c-0.552 0-1-0.448-1-1s0.448-1 1-1h14c0.552 0 1 0.448 1 1s-0.448 1-1 1z\"></path>\n",
       "<path d=\"M23 18h-14c-0.552 0-1-0.448-1-1s0.448-1 1-1h14c0.552 0 1 0.448 1 1s-0.448 1-1 1z\"></path>\n",
       "</symbol>\n",
       "</defs>\n",
       "</svg>\n",
       "<style>/* CSS stylesheet for displaying xarray objects in jupyterlab.\n",
       " *\n",
       " */\n",
       "\n",
       ":root {\n",
       "  --xr-font-color0: var(--jp-content-font-color0, rgba(0, 0, 0, 1));\n",
       "  --xr-font-color2: var(--jp-content-font-color2, rgba(0, 0, 0, 0.54));\n",
       "  --xr-font-color3: var(--jp-content-font-color3, rgba(0, 0, 0, 0.38));\n",
       "  --xr-border-color: var(--jp-border-color2, #e0e0e0);\n",
       "  --xr-disabled-color: var(--jp-layout-color3, #bdbdbd);\n",
       "  --xr-background-color: var(--jp-layout-color0, white);\n",
       "  --xr-background-color-row-even: var(--jp-layout-color1, white);\n",
       "  --xr-background-color-row-odd: var(--jp-layout-color2, #eeeeee);\n",
       "}\n",
       "\n",
       "html[theme=dark],\n",
       "body.vscode-dark {\n",
       "  --xr-font-color0: rgba(255, 255, 255, 1);\n",
       "  --xr-font-color2: rgba(255, 255, 255, 0.54);\n",
       "  --xr-font-color3: rgba(255, 255, 255, 0.38);\n",
       "  --xr-border-color: #1F1F1F;\n",
       "  --xr-disabled-color: #515151;\n",
       "  --xr-background-color: #111111;\n",
       "  --xr-background-color-row-even: #111111;\n",
       "  --xr-background-color-row-odd: #313131;\n",
       "}\n",
       "\n",
       ".xr-wrap {\n",
       "  display: block !important;\n",
       "  min-width: 300px;\n",
       "  max-width: 700px;\n",
       "}\n",
       "\n",
       ".xr-text-repr-fallback {\n",
       "  /* fallback to plain text repr when CSS is not injected (untrusted notebook) */\n",
       "  display: none;\n",
       "}\n",
       "\n",
       ".xr-header {\n",
       "  padding-top: 6px;\n",
       "  padding-bottom: 6px;\n",
       "  margin-bottom: 4px;\n",
       "  border-bottom: solid 1px var(--xr-border-color);\n",
       "}\n",
       "\n",
       ".xr-header > div,\n",
       ".xr-header > ul {\n",
       "  display: inline;\n",
       "  margin-top: 0;\n",
       "  margin-bottom: 0;\n",
       "}\n",
       "\n",
       ".xr-obj-type,\n",
       ".xr-array-name {\n",
       "  margin-left: 2px;\n",
       "  margin-right: 10px;\n",
       "}\n",
       "\n",
       ".xr-obj-type {\n",
       "  color: var(--xr-font-color2);\n",
       "}\n",
       "\n",
       ".xr-sections {\n",
       "  padding-left: 0 !important;\n",
       "  display: grid;\n",
       "  grid-template-columns: 150px auto auto 1fr 20px 20px;\n",
       "}\n",
       "\n",
       ".xr-section-item {\n",
       "  display: contents;\n",
       "}\n",
       "\n",
       ".xr-section-item input {\n",
       "  display: none;\n",
       "}\n",
       "\n",
       ".xr-section-item input + label {\n",
       "  color: var(--xr-disabled-color);\n",
       "}\n",
       "\n",
       ".xr-section-item input:enabled + label {\n",
       "  cursor: pointer;\n",
       "  color: var(--xr-font-color2);\n",
       "}\n",
       "\n",
       ".xr-section-item input:enabled + label:hover {\n",
       "  color: var(--xr-font-color0);\n",
       "}\n",
       "\n",
       ".xr-section-summary {\n",
       "  grid-column: 1;\n",
       "  color: var(--xr-font-color2);\n",
       "  font-weight: 500;\n",
       "}\n",
       "\n",
       ".xr-section-summary > span {\n",
       "  display: inline-block;\n",
       "  padding-left: 0.5em;\n",
       "}\n",
       "\n",
       ".xr-section-summary-in:disabled + label {\n",
       "  color: var(--xr-font-color2);\n",
       "}\n",
       "\n",
       ".xr-section-summary-in + label:before {\n",
       "  display: inline-block;\n",
       "  content: '►';\n",
       "  font-size: 11px;\n",
       "  width: 15px;\n",
       "  text-align: center;\n",
       "}\n",
       "\n",
       ".xr-section-summary-in:disabled + label:before {\n",
       "  color: var(--xr-disabled-color);\n",
       "}\n",
       "\n",
       ".xr-section-summary-in:checked + label:before {\n",
       "  content: '▼';\n",
       "}\n",
       "\n",
       ".xr-section-summary-in:checked + label > span {\n",
       "  display: none;\n",
       "}\n",
       "\n",
       ".xr-section-summary,\n",
       ".xr-section-inline-details {\n",
       "  padding-top: 4px;\n",
       "  padding-bottom: 4px;\n",
       "}\n",
       "\n",
       ".xr-section-inline-details {\n",
       "  grid-column: 2 / -1;\n",
       "}\n",
       "\n",
       ".xr-section-details {\n",
       "  display: none;\n",
       "  grid-column: 1 / -1;\n",
       "  margin-bottom: 5px;\n",
       "}\n",
       "\n",
       ".xr-section-summary-in:checked ~ .xr-section-details {\n",
       "  display: contents;\n",
       "}\n",
       "\n",
       ".xr-array-wrap {\n",
       "  grid-column: 1 / -1;\n",
       "  display: grid;\n",
       "  grid-template-columns: 20px auto;\n",
       "}\n",
       "\n",
       ".xr-array-wrap > label {\n",
       "  grid-column: 1;\n",
       "  vertical-align: top;\n",
       "}\n",
       "\n",
       ".xr-preview {\n",
       "  color: var(--xr-font-color3);\n",
       "}\n",
       "\n",
       ".xr-array-preview,\n",
       ".xr-array-data {\n",
       "  padding: 0 5px !important;\n",
       "  grid-column: 2;\n",
       "}\n",
       "\n",
       ".xr-array-data,\n",
       ".xr-array-in:checked ~ .xr-array-preview {\n",
       "  display: none;\n",
       "}\n",
       "\n",
       ".xr-array-in:checked ~ .xr-array-data,\n",
       ".xr-array-preview {\n",
       "  display: inline-block;\n",
       "}\n",
       "\n",
       ".xr-dim-list {\n",
       "  display: inline-block !important;\n",
       "  list-style: none;\n",
       "  padding: 0 !important;\n",
       "  margin: 0;\n",
       "}\n",
       "\n",
       ".xr-dim-list li {\n",
       "  display: inline-block;\n",
       "  padding: 0;\n",
       "  margin: 0;\n",
       "}\n",
       "\n",
       ".xr-dim-list:before {\n",
       "  content: '(';\n",
       "}\n",
       "\n",
       ".xr-dim-list:after {\n",
       "  content: ')';\n",
       "}\n",
       "\n",
       ".xr-dim-list li:not(:last-child):after {\n",
       "  content: ',';\n",
       "  padding-right: 5px;\n",
       "}\n",
       "\n",
       ".xr-has-index {\n",
       "  font-weight: bold;\n",
       "}\n",
       "\n",
       ".xr-var-list,\n",
       ".xr-var-item {\n",
       "  display: contents;\n",
       "}\n",
       "\n",
       ".xr-var-item > div,\n",
       ".xr-var-item label,\n",
       ".xr-var-item > .xr-var-name span {\n",
       "  background-color: var(--xr-background-color-row-even);\n",
       "  margin-bottom: 0;\n",
       "}\n",
       "\n",
       ".xr-var-item > .xr-var-name:hover span {\n",
       "  padding-right: 5px;\n",
       "}\n",
       "\n",
       ".xr-var-list > li:nth-child(odd) > div,\n",
       ".xr-var-list > li:nth-child(odd) > label,\n",
       ".xr-var-list > li:nth-child(odd) > .xr-var-name span {\n",
       "  background-color: var(--xr-background-color-row-odd);\n",
       "}\n",
       "\n",
       ".xr-var-name {\n",
       "  grid-column: 1;\n",
       "}\n",
       "\n",
       ".xr-var-dims {\n",
       "  grid-column: 2;\n",
       "}\n",
       "\n",
       ".xr-var-dtype {\n",
       "  grid-column: 3;\n",
       "  text-align: right;\n",
       "  color: var(--xr-font-color2);\n",
       "}\n",
       "\n",
       ".xr-var-preview {\n",
       "  grid-column: 4;\n",
       "}\n",
       "\n",
       ".xr-var-name,\n",
       ".xr-var-dims,\n",
       ".xr-var-dtype,\n",
       ".xr-preview,\n",
       ".xr-attrs dt {\n",
       "  white-space: nowrap;\n",
       "  overflow: hidden;\n",
       "  text-overflow: ellipsis;\n",
       "  padding-right: 10px;\n",
       "}\n",
       "\n",
       ".xr-var-name:hover,\n",
       ".xr-var-dims:hover,\n",
       ".xr-var-dtype:hover,\n",
       ".xr-attrs dt:hover {\n",
       "  overflow: visible;\n",
       "  width: auto;\n",
       "  z-index: 1;\n",
       "}\n",
       "\n",
       ".xr-var-attrs,\n",
       ".xr-var-data {\n",
       "  display: none;\n",
       "  background-color: var(--xr-background-color) !important;\n",
       "  padding-bottom: 5px !important;\n",
       "}\n",
       "\n",
       ".xr-var-attrs-in:checked ~ .xr-var-attrs,\n",
       ".xr-var-data-in:checked ~ .xr-var-data {\n",
       "  display: block;\n",
       "}\n",
       "\n",
       ".xr-var-data > table {\n",
       "  float: right;\n",
       "}\n",
       "\n",
       ".xr-var-name span,\n",
       ".xr-var-data,\n",
       ".xr-attrs {\n",
       "  padding-left: 25px !important;\n",
       "}\n",
       "\n",
       ".xr-attrs,\n",
       ".xr-var-attrs,\n",
       ".xr-var-data {\n",
       "  grid-column: 1 / -1;\n",
       "}\n",
       "\n",
       "dl.xr-attrs {\n",
       "  padding: 0;\n",
       "  margin: 0;\n",
       "  display: grid;\n",
       "  grid-template-columns: 125px auto;\n",
       "}\n",
       "\n",
       ".xr-attrs dt,\n",
       ".xr-attrs dd {\n",
       "  padding: 0;\n",
       "  margin: 0;\n",
       "  float: left;\n",
       "  padding-right: 10px;\n",
       "  width: auto;\n",
       "}\n",
       "\n",
       ".xr-attrs dt {\n",
       "  font-weight: normal;\n",
       "  grid-column: 1;\n",
       "}\n",
       "\n",
       ".xr-attrs dt:hover span {\n",
       "  display: inline-block;\n",
       "  background: var(--xr-background-color);\n",
       "  padding-right: 10px;\n",
       "}\n",
       "\n",
       ".xr-attrs dd {\n",
       "  grid-column: 2;\n",
       "  white-space: pre-wrap;\n",
       "  word-break: break-all;\n",
       "}\n",
       "\n",
       ".xr-icon-database,\n",
       ".xr-icon-file-text2 {\n",
       "  display: inline-block;\n",
       "  vertical-align: middle;\n",
       "  width: 1em;\n",
       "  height: 1.5em !important;\n",
       "  stroke-width: 0;\n",
       "  stroke: currentColor;\n",
       "  fill: currentColor;\n",
       "}\n",
       "</style><pre class='xr-text-repr-fallback'>&lt;xarray.Dataset&gt;\n",
       "Dimensions:               (station: 1, time: 305943)\n",
       "Coordinates:\n",
       "  * station               (station) object &#x27;CIMIS_75&#x27;\n",
       "  * time                  (time) datetime64[ns] 1987-10-07T09:00:00 ... 2022-...\n",
       "Data variables: (12/30)\n",
       "    tas                   (station, time) float64 ...\n",
       "    pr                    (station, time) float64 ...\n",
       "    hurs                  (station, time) float64 ...\n",
       "    rsds                  (station, time) float64 ...\n",
       "    sfcWind               (station, time) float64 ...\n",
       "    sfcWind_dir           (station, time) float64 ...\n",
       "    ...                    ...\n",
       "    sfcWind_dir_eraqc     (station, time) float64 ...\n",
       "    elevation_eraqc       (station, time) float64 ...\n",
       "    tdps_derived_eraqc    (station, time) float64 ...\n",
       "    pvp_derived_eraqc     (station, time) float64 ...\n",
       "    anemometer_height_m   (station, time) float64 ...\n",
       "    thermometer_height_m  (station, time) float64 ...\n",
       "Attributes: (12/16)\n",
       "    title:                 CIMIS quality controlled\n",
       "    institution:           Eagle Rock Analytics / Cal Adapt\n",
       "    source:                \n",
       "    history:               CIMIS_clean.py script run on 02-13-2023, 22:25:54 ...\n",
       "    comment:               Intermediate data product: may not have been subje...\n",
       "    license:               \n",
       "    ...                    ...\n",
       "    wind_vane_height_m:    2.0\n",
       "    anemometer_height_m:   2.0\n",
       "    thermometer_height_m:  1.5\n",
       "    humidity_height_m:     1.5\n",
       "    rain_gauge_height_m:   1.0\n",
       "    raw_files_merged:      47</pre><div class='xr-wrap' style='display:none'><div class='xr-header'><div class='xr-obj-type'>xarray.Dataset</div></div><ul class='xr-sections'><li class='xr-section-item'><input id='section-eebb2773-a3a3-4340-9d4e-578e8effd7e4' class='xr-section-summary-in' type='checkbox' disabled ><label for='section-eebb2773-a3a3-4340-9d4e-578e8effd7e4' class='xr-section-summary'  title='Expand/collapse section'>Dimensions:</label><div class='xr-section-inline-details'><ul class='xr-dim-list'><li><span class='xr-has-index'>station</span>: 1</li><li><span class='xr-has-index'>time</span>: 305943</li></ul></div><div class='xr-section-details'></div></li><li class='xr-section-item'><input id='section-c4ea8f0a-1327-496f-bce9-cf4ddd42f655' class='xr-section-summary-in' type='checkbox'  checked><label for='section-c4ea8f0a-1327-496f-bce9-cf4ddd42f655' class='xr-section-summary' >Coordinates: <span>(2)</span></label><div class='xr-section-inline-details'></div><div class='xr-section-details'><ul class='xr-var-list'><li class='xr-var-item'><div class='xr-var-name'><span class='xr-has-index'>station</span></div><div class='xr-var-dims'>(station)</div><div class='xr-var-dtype'>object</div><div class='xr-var-preview xr-preview'>&#x27;CIMIS_75&#x27;</div><input id='attrs-7b1bfbc2-4819-449d-b523-4f5ec415a130' class='xr-var-attrs-in' type='checkbox' disabled><label for='attrs-7b1bfbc2-4819-449d-b523-4f5ec415a130' title='Show/Hide attributes'><svg class='icon xr-icon-file-text2'><use xlink:href='#icon-file-text2'></use></svg></label><input id='data-218c85ce-d0b9-4554-9636-a382e88d4faa' class='xr-var-data-in' type='checkbox'><label for='data-218c85ce-d0b9-4554-9636-a382e88d4faa' title='Show/Hide data repr'><svg class='icon xr-icon-database'><use xlink:href='#icon-database'></use></svg></label><div class='xr-var-attrs'><dl class='xr-attrs'></dl></div><div class='xr-var-data'><pre>array([&#x27;CIMIS_75&#x27;], dtype=object)</pre></div></li><li class='xr-var-item'><div class='xr-var-name'><span class='xr-has-index'>time</span></div><div class='xr-var-dims'>(time)</div><div class='xr-var-dtype'>datetime64[ns]</div><div class='xr-var-preview xr-preview'>1987-10-07T09:00:00 ... 2022-08-...</div><input id='attrs-75acafd2-7f5f-4f7d-bfeb-a3713eff69ac' class='xr-var-attrs-in' type='checkbox' disabled><label for='attrs-75acafd2-7f5f-4f7d-bfeb-a3713eff69ac' title='Show/Hide attributes'><svg class='icon xr-icon-file-text2'><use xlink:href='#icon-file-text2'></use></svg></label><input id='data-909d1e1f-235c-4686-ad8d-8e759360479a' class='xr-var-data-in' type='checkbox'><label for='data-909d1e1f-235c-4686-ad8d-8e759360479a' title='Show/Hide data repr'><svg class='icon xr-icon-database'><use xlink:href='#icon-database'></use></svg></label><div class='xr-var-attrs'><dl class='xr-attrs'></dl></div><div class='xr-var-data'><pre>array([&#x27;1987-10-07T09:00:00.000000000&#x27;, &#x27;1987-10-07T10:00:00.000000000&#x27;,\n",
       "       &#x27;1987-10-07T11:00:00.000000000&#x27;, ..., &#x27;2022-08-31T21:00:00.000000000&#x27;,\n",
       "       &#x27;2022-08-31T22:00:00.000000000&#x27;, &#x27;2022-08-31T23:00:00.000000000&#x27;],\n",
       "      dtype=&#x27;datetime64[ns]&#x27;)</pre></div></li></ul></div></li><li class='xr-section-item'><input id='section-248969d8-c591-4b49-87a2-04d64f179444' class='xr-section-summary-in' type='checkbox'  ><label for='section-248969d8-c591-4b49-87a2-04d64f179444' class='xr-section-summary' >Data variables: <span>(30)</span></label><div class='xr-section-inline-details'></div><div class='xr-section-details'><ul class='xr-var-list'><li class='xr-var-item'><div class='xr-var-name'><span>tas</span></div><div class='xr-var-dims'>(station, time)</div><div class='xr-var-dtype'>float64</div><div class='xr-var-preview xr-preview'>...</div><input id='attrs-5059e374-7c7e-4676-aaf7-f75aa21f2103' class='xr-var-attrs-in' type='checkbox' ><label for='attrs-5059e374-7c7e-4676-aaf7-f75aa21f2103' title='Show/Hide attributes'><svg class='icon xr-icon-file-text2'><use xlink:href='#icon-file-text2'></use></svg></label><input id='data-e551399d-9b0c-4627-aace-402a50bce923' class='xr-var-data-in' type='checkbox'><label for='data-e551399d-9b0c-4627-aace-402a50bce923' title='Show/Hide data repr'><svg class='icon xr-icon-database'><use xlink:href='#icon-database'></use></svg></label><div class='xr-var-attrs'><dl class='xr-attrs'><dt><span>long_name :</span></dt><dd>air_temperature</dd><dt><span>standard_name :</span></dt><dd>air_temperature</dd><dt><span>units :</span></dt><dd>degree_Kelvin</dd><dt><span>ancillary_variables :</span></dt><dd>tas_qc, tas_eraqc</dd><dt><span>comment :</span></dt><dd>Converted from Celsius to Kelvin.</dd></dl></div><div class='xr-var-data'><pre>[305943 values with dtype=float64]</pre></div></li><li class='xr-var-item'><div class='xr-var-name'><span>pr</span></div><div class='xr-var-dims'>(station, time)</div><div class='xr-var-dtype'>float64</div><div class='xr-var-preview xr-preview'>...</div><input id='attrs-348654ef-6f6d-44ce-85a1-ff4ba7118e06' class='xr-var-attrs-in' type='checkbox' ><label for='attrs-348654ef-6f6d-44ce-85a1-ff4ba7118e06' title='Show/Hide attributes'><svg class='icon xr-icon-file-text2'><use xlink:href='#icon-file-text2'></use></svg></label><input id='data-a56fc6eb-1d18-406e-b1fc-0a62293aea21' class='xr-var-data-in' type='checkbox'><label for='data-a56fc6eb-1d18-406e-b1fc-0a62293aea21' title='Show/Hide data repr'><svg class='icon xr-icon-database'><use xlink:href='#icon-database'></use></svg></label><div class='xr-var-attrs'><dl class='xr-attrs'><dt><span>long_name :</span></dt><dd>precipitation_accumulation</dd><dt><span>units :</span></dt><dd>mm/hour</dd><dt><span>ancillary_variables :</span></dt><dd>pr_qc, pr_eraqc</dd><dt><span>comment :</span></dt><dd>Accumulated precipitation.</dd></dl></div><div class='xr-var-data'><pre>[305943 values with dtype=float64]</pre></div></li><li class='xr-var-item'><div class='xr-var-name'><span>hurs</span></div><div class='xr-var-dims'>(station, time)</div><div class='xr-var-dtype'>float64</div><div class='xr-var-preview xr-preview'>...</div><input id='attrs-24ca272a-a7f8-499c-83f1-8f921f9f7428' class='xr-var-attrs-in' type='checkbox' ><label for='attrs-24ca272a-a7f8-499c-83f1-8f921f9f7428' title='Show/Hide attributes'><svg class='icon xr-icon-file-text2'><use xlink:href='#icon-file-text2'></use></svg></label><input id='data-4ca4b08d-d157-42f5-abef-915ec2b5f8d2' class='xr-var-data-in' type='checkbox'><label for='data-4ca4b08d-d157-42f5-abef-915ec2b5f8d2' title='Show/Hide data repr'><svg class='icon xr-icon-database'><use xlink:href='#icon-database'></use></svg></label><div class='xr-var-attrs'><dl class='xr-attrs'><dt><span>long_name :</span></dt><dd>relative_humidity</dd><dt><span>standard_name :</span></dt><dd>relative_humidity</dd><dt><span>units :</span></dt><dd>percent</dd><dt><span>ancillary_variables :</span></dt><dd>hurs_qc, hurs_eraqc</dd></dl></div><div class='xr-var-data'><pre>[305943 values with dtype=float64]</pre></div></li><li class='xr-var-item'><div class='xr-var-name'><span>rsds</span></div><div class='xr-var-dims'>(station, time)</div><div class='xr-var-dtype'>float64</div><div class='xr-var-preview xr-preview'>...</div><input id='attrs-6be5124c-b618-47dc-9d0f-cf11a21ac50b' class='xr-var-attrs-in' type='checkbox' ><label for='attrs-6be5124c-b618-47dc-9d0f-cf11a21ac50b' title='Show/Hide attributes'><svg class='icon xr-icon-file-text2'><use xlink:href='#icon-file-text2'></use></svg></label><input id='data-bf091c36-099b-47ae-9de3-e11c98891dff' class='xr-var-data-in' type='checkbox'><label for='data-bf091c36-099b-47ae-9de3-e11c98891dff' title='Show/Hide data repr'><svg class='icon xr-icon-database'><use xlink:href='#icon-database'></use></svg></label><div class='xr-var-attrs'><dl class='xr-attrs'><dt><span>long_name :</span></dt><dd>solar_radiation</dd><dt><span>standard_name :</span></dt><dd>surface_downwelling_shortwave_flux_in_air</dd><dt><span>units :</span></dt><dd>W m-2</dd><dt><span>ancillary_variables :</span></dt><dd>rsds_qc, rsds_eraqc</dd></dl></div><div class='xr-var-data'><pre>[305943 values with dtype=float64]</pre></div></li><li class='xr-var-item'><div class='xr-var-name'><span>sfcWind</span></div><div class='xr-var-dims'>(station, time)</div><div class='xr-var-dtype'>float64</div><div class='xr-var-preview xr-preview'>...</div><input id='attrs-e4ee7fd7-1ed9-4784-96ec-5f6e8e9d51f3' class='xr-var-attrs-in' type='checkbox' ><label for='attrs-e4ee7fd7-1ed9-4784-96ec-5f6e8e9d51f3' title='Show/Hide attributes'><svg class='icon xr-icon-file-text2'><use xlink:href='#icon-file-text2'></use></svg></label><input id='data-59f98e17-c099-453a-810d-128591d61d1d' class='xr-var-data-in' type='checkbox'><label for='data-59f98e17-c099-453a-810d-128591d61d1d' title='Show/Hide data repr'><svg class='icon xr-icon-database'><use xlink:href='#icon-database'></use></svg></label><div class='xr-var-attrs'><dl class='xr-attrs'><dt><span>long_name :</span></dt><dd>wind_speed</dd><dt><span>standard_name :</span></dt><dd>wind_speed</dd><dt><span>units :</span></dt><dd>m s-1</dd><dt><span>ancillary_variables :</span></dt><dd>sfcWind_qc, sfcWind_eraqc</dd></dl></div><div class='xr-var-data'><pre>[305943 values with dtype=float64]</pre></div></li><li class='xr-var-item'><div class='xr-var-name'><span>sfcWind_dir</span></div><div class='xr-var-dims'>(station, time)</div><div class='xr-var-dtype'>float64</div><div class='xr-var-preview xr-preview'>...</div><input id='attrs-cbe024d3-16cd-44ff-a72d-155cffaa68e0' class='xr-var-attrs-in' type='checkbox' ><label for='attrs-cbe024d3-16cd-44ff-a72d-155cffaa68e0' title='Show/Hide attributes'><svg class='icon xr-icon-file-text2'><use xlink:href='#icon-file-text2'></use></svg></label><input id='data-46e68367-3477-4e2d-88fc-43284327c344' class='xr-var-data-in' type='checkbox'><label for='data-46e68367-3477-4e2d-88fc-43284327c344' title='Show/Hide data repr'><svg class='icon xr-icon-database'><use xlink:href='#icon-database'></use></svg></label><div class='xr-var-attrs'><dl class='xr-attrs'><dt><span>long_name :</span></dt><dd>wind_direction</dd><dt><span>standard_name :</span></dt><dd>wind_from_direction</dd><dt><span>units :</span></dt><dd>degrees_clockwise_from_north</dd><dt><span>ancillary_variables :</span></dt><dd>sfcWind_dir_qc, sfcWind_dir_eraqc</dd><dt><span>comment :</span></dt><dd>Wind direction is defined by the direction that the wind is coming from (i.e., a northerly wind originates in the north and blows towards the south).</dd></dl></div><div class='xr-var-data'><pre>[305943 values with dtype=float64]</pre></div></li><li class='xr-var-item'><div class='xr-var-name'><span>pr_qc</span></div><div class='xr-var-dims'>(station, time)</div><div class='xr-var-dtype'>object</div><div class='xr-var-preview xr-preview'>...</div><input id='attrs-55bc397b-8b25-40af-acb9-05ed9b964968' class='xr-var-attrs-in' type='checkbox' ><label for='attrs-55bc397b-8b25-40af-acb9-05ed9b964968' title='Show/Hide attributes'><svg class='icon xr-icon-file-text2'><use xlink:href='#icon-file-text2'></use></svg></label><input id='data-debb648b-15df-4d51-94d8-b60abba8531b' class='xr-var-data-in' type='checkbox'><label for='data-debb648b-15df-4d51-94d8-b60abba8531b' title='Show/Hide data repr'><svg class='icon xr-icon-database'><use xlink:href='#icon-database'></use></svg></label><div class='xr-var-attrs'><dl class='xr-attrs'><dt><span>flag_values :</span></dt><dd>M P Q R Y</dd><dt><span>flag_meanings :</span></dt><dd>See QA/QC csv for network.</dd></dl></div><div class='xr-var-data'><pre>[305943 values with dtype=object]</pre></div></li><li class='xr-var-item'><div class='xr-var-name'><span>rsds_qc</span></div><div class='xr-var-dims'>(station, time)</div><div class='xr-var-dtype'>object</div><div class='xr-var-preview xr-preview'>...</div><input id='attrs-7c9887a8-806d-4edb-8750-00e9d8ab5c5b' class='xr-var-attrs-in' type='checkbox' ><label for='attrs-7c9887a8-806d-4edb-8750-00e9d8ab5c5b' title='Show/Hide attributes'><svg class='icon xr-icon-file-text2'><use xlink:href='#icon-file-text2'></use></svg></label><input id='data-da63b294-7c10-49af-812c-b4e66813f454' class='xr-var-data-in' type='checkbox'><label for='data-da63b294-7c10-49af-812c-b4e66813f454' title='Show/Hide data repr'><svg class='icon xr-icon-database'><use xlink:href='#icon-database'></use></svg></label><div class='xr-var-attrs'><dl class='xr-attrs'><dt><span>flag_values :</span></dt><dd>M P R S Y</dd><dt><span>flag_meanings :</span></dt><dd>See QA/QC csv for network.</dd></dl></div><div class='xr-var-data'><pre>[305943 values with dtype=object]</pre></div></li><li class='xr-var-item'><div class='xr-var-name'><span>pvp_derived_qc</span></div><div class='xr-var-dims'>(station, time)</div><div class='xr-var-dtype'>object</div><div class='xr-var-preview xr-preview'>...</div><input id='attrs-b16ffadb-f670-4172-b2ac-1f0e0a1d6c46' class='xr-var-attrs-in' type='checkbox' ><label for='attrs-b16ffadb-f670-4172-b2ac-1f0e0a1d6c46' title='Show/Hide attributes'><svg class='icon xr-icon-file-text2'><use xlink:href='#icon-file-text2'></use></svg></label><input id='data-9fa96533-80f1-4d52-b69f-54538cd011e2' class='xr-var-data-in' type='checkbox'><label for='data-9fa96533-80f1-4d52-b69f-54538cd011e2' title='Show/Hide data repr'><svg class='icon xr-icon-database'><use xlink:href='#icon-database'></use></svg></label><div class='xr-var-attrs'><dl class='xr-attrs'><dt><span>flag_values :</span></dt><dd>M P Q R S Y</dd><dt><span>flag_meanings :</span></dt><dd>See QA/QC csv for network.</dd></dl></div><div class='xr-var-data'><pre>[305943 values with dtype=object]</pre></div></li><li class='xr-var-item'><div class='xr-var-name'><span>tas_qc</span></div><div class='xr-var-dims'>(station, time)</div><div class='xr-var-dtype'>object</div><div class='xr-var-preview xr-preview'>...</div><input id='attrs-edba0dab-51f1-4efe-920e-cea9e10c4a49' class='xr-var-attrs-in' type='checkbox' ><label for='attrs-edba0dab-51f1-4efe-920e-cea9e10c4a49' title='Show/Hide attributes'><svg class='icon xr-icon-file-text2'><use xlink:href='#icon-file-text2'></use></svg></label><input id='data-bfaefa42-8bb2-497d-8f0b-fe8282ab3f5e' class='xr-var-data-in' type='checkbox'><label for='data-bfaefa42-8bb2-497d-8f0b-fe8282ab3f5e' title='Show/Hide data repr'><svg class='icon xr-icon-database'><use xlink:href='#icon-database'></use></svg></label><div class='xr-var-attrs'><dl class='xr-attrs'><dt><span>flag_values :</span></dt><dd>M P R S Y</dd><dt><span>flag_meanings :</span></dt><dd>See QA/QC csv for network.</dd></dl></div><div class='xr-var-data'><pre>[305943 values with dtype=object]</pre></div></li><li class='xr-var-item'><div class='xr-var-name'><span>hurs_qc</span></div><div class='xr-var-dims'>(station, time)</div><div class='xr-var-dtype'>object</div><div class='xr-var-preview xr-preview'>...</div><input id='attrs-e7747141-b176-4736-b3e6-324a7e48c815' class='xr-var-attrs-in' type='checkbox' ><label for='attrs-e7747141-b176-4736-b3e6-324a7e48c815' title='Show/Hide attributes'><svg class='icon xr-icon-file-text2'><use xlink:href='#icon-file-text2'></use></svg></label><input id='data-c84e8008-d295-44e0-9bcb-664fa440f023' class='xr-var-data-in' type='checkbox'><label for='data-c84e8008-d295-44e0-9bcb-664fa440f023' title='Show/Hide data repr'><svg class='icon xr-icon-database'><use xlink:href='#icon-database'></use></svg></label><div class='xr-var-attrs'><dl class='xr-attrs'><dt><span>flag_values :</span></dt><dd>M Q R S Y</dd><dt><span>flag_meanings :</span></dt><dd>See QA/QC csv for network.</dd></dl></div><div class='xr-var-data'><pre>[305943 values with dtype=object]</pre></div></li><li class='xr-var-item'><div class='xr-var-name'><span>tdps_derived_qc</span></div><div class='xr-var-dims'>(station, time)</div><div class='xr-var-dtype'>object</div><div class='xr-var-preview xr-preview'>...</div><input id='attrs-bb5ec598-7cd0-4f84-926e-294a97bf6a77' class='xr-var-attrs-in' type='checkbox' ><label for='attrs-bb5ec598-7cd0-4f84-926e-294a97bf6a77' title='Show/Hide attributes'><svg class='icon xr-icon-file-text2'><use xlink:href='#icon-file-text2'></use></svg></label><input id='data-c95fb017-d647-46ff-9dd7-eee8749473ce' class='xr-var-data-in' type='checkbox'><label for='data-c95fb017-d647-46ff-9dd7-eee8749473ce' title='Show/Hide data repr'><svg class='icon xr-icon-database'><use xlink:href='#icon-database'></use></svg></label><div class='xr-var-attrs'><dl class='xr-attrs'><dt><span>flag_values :</span></dt><dd>M Q R S Y</dd><dt><span>flag_meanings :</span></dt><dd>See QA/QC csv for network.</dd></dl></div><div class='xr-var-data'><pre>[305943 values with dtype=object]</pre></div></li><li class='xr-var-item'><div class='xr-var-name'><span>sfcWind_qc</span></div><div class='xr-var-dims'>(station, time)</div><div class='xr-var-dtype'>object</div><div class='xr-var-preview xr-preview'>...</div><input id='attrs-0e5c146a-2d3a-4508-84f2-02ce67b5f257' class='xr-var-attrs-in' type='checkbox' ><label for='attrs-0e5c146a-2d3a-4508-84f2-02ce67b5f257' title='Show/Hide attributes'><svg class='icon xr-icon-file-text2'><use xlink:href='#icon-file-text2'></use></svg></label><input id='data-ffb59315-0e4e-4b15-873e-e96a4ef41cd0' class='xr-var-data-in' type='checkbox'><label for='data-ffb59315-0e4e-4b15-873e-e96a4ef41cd0' title='Show/Hide data repr'><svg class='icon xr-icon-database'><use xlink:href='#icon-database'></use></svg></label><div class='xr-var-attrs'><dl class='xr-attrs'><dt><span>flag_values :</span></dt><dd>I M P R S Y</dd><dt><span>flag_meanings :</span></dt><dd>See QA/QC csv for network.</dd></dl></div><div class='xr-var-data'><pre>[305943 values with dtype=object]</pre></div></li><li class='xr-var-item'><div class='xr-var-name'><span>sfcWind_dir_qc</span></div><div class='xr-var-dims'>(station, time)</div><div class='xr-var-dtype'>object</div><div class='xr-var-preview xr-preview'>...</div><input id='attrs-a80c70cf-552e-42a8-b46c-cbd3a3fcebb9' class='xr-var-attrs-in' type='checkbox' ><label for='attrs-a80c70cf-552e-42a8-b46c-cbd3a3fcebb9' title='Show/Hide attributes'><svg class='icon xr-icon-file-text2'><use xlink:href='#icon-file-text2'></use></svg></label><input id='data-6af31a05-f73b-44de-9bb9-e828805e0787' class='xr-var-data-in' type='checkbox'><label for='data-6af31a05-f73b-44de-9bb9-e828805e0787' title='Show/Hide data repr'><svg class='icon xr-icon-database'><use xlink:href='#icon-database'></use></svg></label><div class='xr-var-attrs'><dl class='xr-attrs'><dt><span>flag_values :</span></dt><dd>I M P Q R</dd><dt><span>flag_meanings :</span></dt><dd>See QA/QC csv for network.</dd></dl></div><div class='xr-var-data'><pre>[305943 values with dtype=object]</pre></div></li><li class='xr-var-item'><div class='xr-var-name'><span>elevation</span></div><div class='xr-var-dims'>(station, time)</div><div class='xr-var-dtype'>float64</div><div class='xr-var-preview xr-preview'>...</div><input id='attrs-a7a23316-f61d-463f-a240-1829d6123ddf' class='xr-var-attrs-in' type='checkbox' ><label for='attrs-a7a23316-f61d-463f-a240-1829d6123ddf' title='Show/Hide attributes'><svg class='icon xr-icon-file-text2'><use xlink:href='#icon-file-text2'></use></svg></label><input id='data-c5a76b60-0921-473b-926e-b7d11e76fcdd' class='xr-var-data-in' type='checkbox'><label for='data-c5a76b60-0921-473b-926e-b7d11e76fcdd' title='Show/Hide data repr'><svg class='icon xr-icon-database'><use xlink:href='#icon-database'></use></svg></label><div class='xr-var-attrs'><dl class='xr-attrs'><dt><span>standard_name :</span></dt><dd>height_above_mean_sea_level</dd><dt><span>long_name :</span></dt><dd>station_elevation</dd><dt><span>units :</span></dt><dd>meters</dd><dt><span>positive :</span></dt><dd>up</dd><dt><span>comment :</span></dt><dd>Converted from feet to meters.</dd><dt><span>ancillary_variables :</span></dt><dd>elevation_eraqc</dd></dl></div><div class='xr-var-data'><pre>[305943 values with dtype=float64]</pre></div></li><li class='xr-var-item'><div class='xr-var-name'><span>tdps_derived</span></div><div class='xr-var-dims'>(station, time)</div><div class='xr-var-dtype'>float64</div><div class='xr-var-preview xr-preview'>...</div><input id='attrs-6048b309-6ea9-4dde-815f-c028928353d3' class='xr-var-attrs-in' type='checkbox' ><label for='attrs-6048b309-6ea9-4dde-815f-c028928353d3' title='Show/Hide attributes'><svg class='icon xr-icon-file-text2'><use xlink:href='#icon-file-text2'></use></svg></label><input id='data-65b549b3-441e-41c6-bb07-9db5fa5848f8' class='xr-var-data-in' type='checkbox'><label for='data-65b549b3-441e-41c6-bb07-9db5fa5848f8' title='Show/Hide data repr'><svg class='icon xr-icon-database'><use xlink:href='#icon-database'></use></svg></label><div class='xr-var-attrs'><dl class='xr-attrs'><dt><span>long_name :</span></dt><dd>dew_point_temperature</dd><dt><span>standard_name :</span></dt><dd>dew_point_temperature</dd><dt><span>units :</span></dt><dd>degree_Kelvin</dd><dt><span>ancillary_variables :</span></dt><dd>tdps_derived_qc, tdps_derived_eraqc</dd><dt><span>comment :</span></dt><dd>Derived by CIMIS from vapor pressure and air temperature. Converted from Celsius to Kelvin.</dd></dl></div><div class='xr-var-data'><pre>[305943 values with dtype=float64]</pre></div></li><li class='xr-var-item'><div class='xr-var-name'><span>pvp_derived</span></div><div class='xr-var-dims'>(station, time)</div><div class='xr-var-dtype'>float64</div><div class='xr-var-preview xr-preview'>...</div><input id='attrs-f4d79a34-8250-4b7a-ab37-a88da4815986' class='xr-var-attrs-in' type='checkbox' ><label for='attrs-f4d79a34-8250-4b7a-ab37-a88da4815986' title='Show/Hide attributes'><svg class='icon xr-icon-file-text2'><use xlink:href='#icon-file-text2'></use></svg></label><input id='data-5375af21-9a3f-4be9-abaf-7423236d5de7' class='xr-var-data-in' type='checkbox'><label for='data-5375af21-9a3f-4be9-abaf-7423236d5de7' title='Show/Hide data repr'><svg class='icon xr-icon-database'><use xlink:href='#icon-database'></use></svg></label><div class='xr-var-attrs'><dl class='xr-attrs'><dt><span>long_name :</span></dt><dd>partial_vapor_pressure</dd><dt><span>standard_name :</span></dt><dd>water_vapor_partial_pressure_in_air</dd><dt><span>units :</span></dt><dd>Pa</dd><dt><span>ancillary_variables :</span></dt><dd>pvp_qc, pvp_derived_eraqc</dd><dt><span>comment :</span></dt><dd>Derived by CIMIS from relative humidity and air temperature measurements. Converted from kPa to Pa.</dd></dl></div><div class='xr-var-data'><pre>[305943 values with dtype=float64]</pre></div></li><li class='xr-var-item'><div class='xr-var-name'><span>lat</span></div><div class='xr-var-dims'>(station, time)</div><div class='xr-var-dtype'>float64</div><div class='xr-var-preview xr-preview'>...</div><input id='attrs-97924da5-c932-4553-9d26-e5baaf0c891c' class='xr-var-attrs-in' type='checkbox' disabled><label for='attrs-97924da5-c932-4553-9d26-e5baaf0c891c' title='Show/Hide attributes'><svg class='icon xr-icon-file-text2'><use xlink:href='#icon-file-text2'></use></svg></label><input id='data-c0c8faf7-73e1-42fb-8afb-e029580358cf' class='xr-var-data-in' type='checkbox'><label for='data-c0c8faf7-73e1-42fb-8afb-e029580358cf' title='Show/Hide data repr'><svg class='icon xr-icon-database'><use xlink:href='#icon-database'></use></svg></label><div class='xr-var-attrs'><dl class='xr-attrs'></dl></div><div class='xr-var-data'><pre>[305943 values with dtype=float64]</pre></div></li><li class='xr-var-item'><div class='xr-var-name'><span>lon</span></div><div class='xr-var-dims'>(station, time)</div><div class='xr-var-dtype'>float64</div><div class='xr-var-preview xr-preview'>...</div><input id='attrs-a625816f-580a-4e62-bd25-c3c3693faa4d' class='xr-var-attrs-in' type='checkbox' disabled><label for='attrs-a625816f-580a-4e62-bd25-c3c3693faa4d' title='Show/Hide attributes'><svg class='icon xr-icon-file-text2'><use xlink:href='#icon-file-text2'></use></svg></label><input id='data-02ccc217-8e0b-4b12-a809-d18aae1b0ef7' class='xr-var-data-in' type='checkbox'><label for='data-02ccc217-8e0b-4b12-a809-d18aae1b0ef7' title='Show/Hide data repr'><svg class='icon xr-icon-database'><use xlink:href='#icon-database'></use></svg></label><div class='xr-var-attrs'><dl class='xr-attrs'></dl></div><div class='xr-var-data'><pre>[305943 values with dtype=float64]</pre></div></li><li class='xr-var-item'><div class='xr-var-name'><span>tas_eraqc</span></div><div class='xr-var-dims'>(station, time)</div><div class='xr-var-dtype'>float64</div><div class='xr-var-preview xr-preview'>...</div><input id='attrs-2d5a98ff-d21d-41d6-8f68-b91d7ad0fb8f' class='xr-var-attrs-in' type='checkbox' disabled><label for='attrs-2d5a98ff-d21d-41d6-8f68-b91d7ad0fb8f' title='Show/Hide attributes'><svg class='icon xr-icon-file-text2'><use xlink:href='#icon-file-text2'></use></svg></label><input id='data-997e386f-9a18-4420-933b-006d9cc27365' class='xr-var-data-in' type='checkbox'><label for='data-997e386f-9a18-4420-933b-006d9cc27365' title='Show/Hide data repr'><svg class='icon xr-icon-database'><use xlink:href='#icon-database'></use></svg></label><div class='xr-var-attrs'><dl class='xr-attrs'></dl></div><div class='xr-var-data'><pre>[305943 values with dtype=float64]</pre></div></li><li class='xr-var-item'><div class='xr-var-name'><span>pr_eraqc</span></div><div class='xr-var-dims'>(station, time)</div><div class='xr-var-dtype'>float64</div><div class='xr-var-preview xr-preview'>...</div><input id='attrs-c45a8788-44ba-4059-afbb-ea718060d8cb' class='xr-var-attrs-in' type='checkbox' disabled><label for='attrs-c45a8788-44ba-4059-afbb-ea718060d8cb' title='Show/Hide attributes'><svg class='icon xr-icon-file-text2'><use xlink:href='#icon-file-text2'></use></svg></label><input id='data-cbeb7264-9186-4fb1-bf64-f37bdb01488f' class='xr-var-data-in' type='checkbox'><label for='data-cbeb7264-9186-4fb1-bf64-f37bdb01488f' title='Show/Hide data repr'><svg class='icon xr-icon-database'><use xlink:href='#icon-database'></use></svg></label><div class='xr-var-attrs'><dl class='xr-attrs'></dl></div><div class='xr-var-data'><pre>[305943 values with dtype=float64]</pre></div></li><li class='xr-var-item'><div class='xr-var-name'><span>hurs_eraqc</span></div><div class='xr-var-dims'>(station, time)</div><div class='xr-var-dtype'>float64</div><div class='xr-var-preview xr-preview'>...</div><input id='attrs-5fa86dac-7afe-4df0-80c4-00e8016bfe3e' class='xr-var-attrs-in' type='checkbox' disabled><label for='attrs-5fa86dac-7afe-4df0-80c4-00e8016bfe3e' title='Show/Hide attributes'><svg class='icon xr-icon-file-text2'><use xlink:href='#icon-file-text2'></use></svg></label><input id='data-ad2ad82b-169e-4d1e-b04e-fb93a20341e1' class='xr-var-data-in' type='checkbox'><label for='data-ad2ad82b-169e-4d1e-b04e-fb93a20341e1' title='Show/Hide data repr'><svg class='icon xr-icon-database'><use xlink:href='#icon-database'></use></svg></label><div class='xr-var-attrs'><dl class='xr-attrs'></dl></div><div class='xr-var-data'><pre>[305943 values with dtype=float64]</pre></div></li><li class='xr-var-item'><div class='xr-var-name'><span>rsds_eraqc</span></div><div class='xr-var-dims'>(station, time)</div><div class='xr-var-dtype'>float64</div><div class='xr-var-preview xr-preview'>...</div><input id='attrs-6f8285aa-2227-49cd-8d92-d335602a4311' class='xr-var-attrs-in' type='checkbox' disabled><label for='attrs-6f8285aa-2227-49cd-8d92-d335602a4311' title='Show/Hide attributes'><svg class='icon xr-icon-file-text2'><use xlink:href='#icon-file-text2'></use></svg></label><input id='data-29312ce0-ffaf-458a-a096-65cfa482247d' class='xr-var-data-in' type='checkbox'><label for='data-29312ce0-ffaf-458a-a096-65cfa482247d' title='Show/Hide data repr'><svg class='icon xr-icon-database'><use xlink:href='#icon-database'></use></svg></label><div class='xr-var-attrs'><dl class='xr-attrs'></dl></div><div class='xr-var-data'><pre>[305943 values with dtype=float64]</pre></div></li><li class='xr-var-item'><div class='xr-var-name'><span>sfcWind_eraqc</span></div><div class='xr-var-dims'>(station, time)</div><div class='xr-var-dtype'>float64</div><div class='xr-var-preview xr-preview'>...</div><input id='attrs-6f1d923c-4cc5-4655-80cc-ed35c0c6fea9' class='xr-var-attrs-in' type='checkbox' disabled><label for='attrs-6f1d923c-4cc5-4655-80cc-ed35c0c6fea9' title='Show/Hide attributes'><svg class='icon xr-icon-file-text2'><use xlink:href='#icon-file-text2'></use></svg></label><input id='data-e868c177-f169-4f0f-bed0-2421c8f6ff72' class='xr-var-data-in' type='checkbox'><label for='data-e868c177-f169-4f0f-bed0-2421c8f6ff72' title='Show/Hide data repr'><svg class='icon xr-icon-database'><use xlink:href='#icon-database'></use></svg></label><div class='xr-var-attrs'><dl class='xr-attrs'></dl></div><div class='xr-var-data'><pre>[305943 values with dtype=float64]</pre></div></li><li class='xr-var-item'><div class='xr-var-name'><span>sfcWind_dir_eraqc</span></div><div class='xr-var-dims'>(station, time)</div><div class='xr-var-dtype'>float64</div><div class='xr-var-preview xr-preview'>...</div><input id='attrs-5d8528b9-bf8d-41cc-beed-9bed4f01514d' class='xr-var-attrs-in' type='checkbox' disabled><label for='attrs-5d8528b9-bf8d-41cc-beed-9bed4f01514d' title='Show/Hide attributes'><svg class='icon xr-icon-file-text2'><use xlink:href='#icon-file-text2'></use></svg></label><input id='data-6d697d30-92ed-4832-8405-0edeac9c2710' class='xr-var-data-in' type='checkbox'><label for='data-6d697d30-92ed-4832-8405-0edeac9c2710' title='Show/Hide data repr'><svg class='icon xr-icon-database'><use xlink:href='#icon-database'></use></svg></label><div class='xr-var-attrs'><dl class='xr-attrs'></dl></div><div class='xr-var-data'><pre>[305943 values with dtype=float64]</pre></div></li><li class='xr-var-item'><div class='xr-var-name'><span>elevation_eraqc</span></div><div class='xr-var-dims'>(station, time)</div><div class='xr-var-dtype'>float64</div><div class='xr-var-preview xr-preview'>...</div><input id='attrs-fb50cebb-63ac-484c-8af6-c8cd335daff5' class='xr-var-attrs-in' type='checkbox' disabled><label for='attrs-fb50cebb-63ac-484c-8af6-c8cd335daff5' title='Show/Hide attributes'><svg class='icon xr-icon-file-text2'><use xlink:href='#icon-file-text2'></use></svg></label><input id='data-6e8676f0-919c-4d27-90d7-095b47088ee2' class='xr-var-data-in' type='checkbox'><label for='data-6e8676f0-919c-4d27-90d7-095b47088ee2' title='Show/Hide data repr'><svg class='icon xr-icon-database'><use xlink:href='#icon-database'></use></svg></label><div class='xr-var-attrs'><dl class='xr-attrs'></dl></div><div class='xr-var-data'><pre>[305943 values with dtype=float64]</pre></div></li><li class='xr-var-item'><div class='xr-var-name'><span>tdps_derived_eraqc</span></div><div class='xr-var-dims'>(station, time)</div><div class='xr-var-dtype'>float64</div><div class='xr-var-preview xr-preview'>...</div><input id='attrs-a80a0c03-bde0-42de-905c-291a912edd4e' class='xr-var-attrs-in' type='checkbox' disabled><label for='attrs-a80a0c03-bde0-42de-905c-291a912edd4e' title='Show/Hide attributes'><svg class='icon xr-icon-file-text2'><use xlink:href='#icon-file-text2'></use></svg></label><input id='data-a7723be5-65db-426e-bd9a-5d8d62568511' class='xr-var-data-in' type='checkbox'><label for='data-a7723be5-65db-426e-bd9a-5d8d62568511' title='Show/Hide data repr'><svg class='icon xr-icon-database'><use xlink:href='#icon-database'></use></svg></label><div class='xr-var-attrs'><dl class='xr-attrs'></dl></div><div class='xr-var-data'><pre>[305943 values with dtype=float64]</pre></div></li><li class='xr-var-item'><div class='xr-var-name'><span>pvp_derived_eraqc</span></div><div class='xr-var-dims'>(station, time)</div><div class='xr-var-dtype'>float64</div><div class='xr-var-preview xr-preview'>...</div><input id='attrs-d23fe0cd-f56a-483e-9fdb-6bf0885ba736' class='xr-var-attrs-in' type='checkbox' disabled><label for='attrs-d23fe0cd-f56a-483e-9fdb-6bf0885ba736' title='Show/Hide attributes'><svg class='icon xr-icon-file-text2'><use xlink:href='#icon-file-text2'></use></svg></label><input id='data-339388bd-983e-44c3-9116-4d7f92001836' class='xr-var-data-in' type='checkbox'><label for='data-339388bd-983e-44c3-9116-4d7f92001836' title='Show/Hide data repr'><svg class='icon xr-icon-database'><use xlink:href='#icon-database'></use></svg></label><div class='xr-var-attrs'><dl class='xr-attrs'></dl></div><div class='xr-var-data'><pre>[305943 values with dtype=float64]</pre></div></li><li class='xr-var-item'><div class='xr-var-name'><span>anemometer_height_m</span></div><div class='xr-var-dims'>(station, time)</div><div class='xr-var-dtype'>float64</div><div class='xr-var-preview xr-preview'>...</div><input id='attrs-578a05d0-d41a-4c65-bd12-93aa817e3c89' class='xr-var-attrs-in' type='checkbox' disabled><label for='attrs-578a05d0-d41a-4c65-bd12-93aa817e3c89' title='Show/Hide attributes'><svg class='icon xr-icon-file-text2'><use xlink:href='#icon-file-text2'></use></svg></label><input id='data-fc0f41d4-953c-4c89-89c8-88931a7e3b27' class='xr-var-data-in' type='checkbox'><label for='data-fc0f41d4-953c-4c89-89c8-88931a7e3b27' title='Show/Hide data repr'><svg class='icon xr-icon-database'><use xlink:href='#icon-database'></use></svg></label><div class='xr-var-attrs'><dl class='xr-attrs'></dl></div><div class='xr-var-data'><pre>[305943 values with dtype=float64]</pre></div></li><li class='xr-var-item'><div class='xr-var-name'><span>thermometer_height_m</span></div><div class='xr-var-dims'>(station, time)</div><div class='xr-var-dtype'>float64</div><div class='xr-var-preview xr-preview'>...</div><input id='attrs-79d56cdc-3371-4f61-bf3c-05dd227b8c26' class='xr-var-attrs-in' type='checkbox' disabled><label for='attrs-79d56cdc-3371-4f61-bf3c-05dd227b8c26' title='Show/Hide attributes'><svg class='icon xr-icon-file-text2'><use xlink:href='#icon-file-text2'></use></svg></label><input id='data-9906793f-402e-4ce1-8999-dbe9e8a5e53c' class='xr-var-data-in' type='checkbox'><label for='data-9906793f-402e-4ce1-8999-dbe9e8a5e53c' title='Show/Hide data repr'><svg class='icon xr-icon-database'><use xlink:href='#icon-database'></use></svg></label><div class='xr-var-attrs'><dl class='xr-attrs'></dl></div><div class='xr-var-data'><pre>[305943 values with dtype=float64]</pre></div></li></ul></div></li><li class='xr-section-item'><input id='section-1b67af92-2a66-498e-8d1d-8880b8843330' class='xr-section-summary-in' type='checkbox'  ><label for='section-1b67af92-2a66-498e-8d1d-8880b8843330' class='xr-section-summary' >Attributes: <span>(16)</span></label><div class='xr-section-inline-details'></div><div class='xr-section-details'><dl class='xr-attrs'><dt><span>title :</span></dt><dd>CIMIS quality controlled</dd><dt><span>institution :</span></dt><dd>Eagle Rock Analytics / Cal Adapt</dd><dt><span>source :</span></dt><dd></dd><dt><span>history :</span></dt><dd>CIMIS_clean.py script run on 02-13-2023, 22:25:54 UTC \n",
       "ALLNETWORKS_qaqc.py script run on 08-07-2024, 20:52:09 UTC</dd><dt><span>comment :</span></dt><dd>Intermediate data product: may not have been subject to any cleaning or QA/QC processing \n",
       "An intermediate data product: subject to cleaning but may not be subject to full QA/QC processing.</dd><dt><span>license :</span></dt><dd></dd><dt><span>citation :</span></dt><dd></dd><dt><span>disclaimer :</span></dt><dd>This document was prepared as a result of work sponsored by the California Energy Commission (PIR-19-006). It does not necessarily represent the views of the Energy Commission, its employees, or the State of California. Neither the Commission, the State of California, nor the Commission&#x27;s employees, contractors, or subcontractors makes any warranty, express or implied, or assumes any legal liability for the information in this document; nor does any party represent that the use of this information will not infringe upon privately owned rights. This document has not been approved or disapproved by the Commission, nor has the Commission passed upon the accuracy of the information in this document.</dd><dt><span>station_name :</span></dt><dd>Irvine</dd><dt><span>pyranometer_height_m :</span></dt><dd>2.0</dd><dt><span>wind_vane_height_m :</span></dt><dd>2.0</dd><dt><span>anemometer_height_m :</span></dt><dd>2.0</dd><dt><span>thermometer_height_m :</span></dt><dd>1.5</dd><dt><span>humidity_height_m :</span></dt><dd>1.5</dd><dt><span>rain_gauge_height_m :</span></dt><dd>1.0</dd><dt><span>raw_files_merged :</span></dt><dd>47</dd></dl></div></li></ul></div></div>"
      ],
      "text/plain": [
       "<xarray.Dataset>\n",
       "Dimensions:               (station: 1, time: 305943)\n",
       "Coordinates:\n",
       "  * station               (station) object 'CIMIS_75'\n",
       "  * time                  (time) datetime64[ns] 1987-10-07T09:00:00 ... 2022-...\n",
       "Data variables: (12/30)\n",
       "    tas                   (station, time) float64 ...\n",
       "    pr                    (station, time) float64 ...\n",
       "    hurs                  (station, time) float64 ...\n",
       "    rsds                  (station, time) float64 ...\n",
       "    sfcWind               (station, time) float64 ...\n",
       "    sfcWind_dir           (station, time) float64 ...\n",
       "    ...                    ...\n",
       "    sfcWind_dir_eraqc     (station, time) float64 ...\n",
       "    elevation_eraqc       (station, time) float64 ...\n",
       "    tdps_derived_eraqc    (station, time) float64 ...\n",
       "    pvp_derived_eraqc     (station, time) float64 ...\n",
       "    anemometer_height_m   (station, time) float64 ...\n",
       "    thermometer_height_m  (station, time) float64 ...\n",
       "Attributes: (12/16)\n",
       "    title:                 CIMIS quality controlled\n",
       "    institution:           Eagle Rock Analytics / Cal Adapt\n",
       "    source:                \n",
       "    history:               CIMIS_clean.py script run on 02-13-2023, 22:25:54 ...\n",
       "    comment:               Intermediate data product: may not have been subje...\n",
       "    license:               \n",
       "    ...                    ...\n",
       "    wind_vane_height_m:    2.0\n",
       "    anemometer_height_m:   2.0\n",
       "    thermometer_height_m:  1.5\n",
       "    humidity_height_m:     1.5\n",
       "    rain_gauge_height_m:   1.0\n",
       "    raw_files_merged:      47"
      ]
     },
     "execution_count": 17,
     "metadata": {},
     "output_type": "execute_result"
    }
   ],
   "source": [
    "%%time\n",
    "ds = pull_nc_from_aws(specific_station)  # manually retrieve a specific station\n",
    "ds"
   ]
  },
  {
   "cell_type": "code",
   "execution_count": 18,
   "id": "d21bc546-5cc9-4c93-bbbe-2e0deae1ec20",
   "metadata": {
    "execution": {
     "iopub.execute_input": "2024-10-02T22:28:16.719783Z",
     "iopub.status.busy": "2024-10-02T22:28:16.719639Z",
     "iopub.status.idle": "2024-10-02T22:33:40.352051Z",
     "shell.execute_reply": "2024-10-02T22:33:40.351652Z",
     "shell.execute_reply.started": "2024-10-02T22:28:16.719771Z"
    }
   },
   "outputs": [
    {
     "name": "stdout",
     "output_type": "stream",
     "text": [
      "era_qc existing variables:\n",
      "['tas_eraqc', 'pr_eraqc', 'hurs_eraqc', 'rsds_eraqc', 'sfcWind_eraqc', 'sfcWind_dir_eraqc', 'elevation_eraqc', 'tdps_derived_eraqc', 'pvp_derived_eraqc']\n",
      "0 created era_qc variables\n",
      "CPU times: user 30.8 s, sys: 16.4 s, total: 47.2 s\n",
      "Wall time: 5min 23s\n"
     ]
    },
    {
     "data": {
      "text/html": [
       "<div>\n",
       "<style scoped>\n",
       "    .dataframe tbody tr th:only-of-type {\n",
       "        vertical-align: middle;\n",
       "    }\n",
       "\n",
       "    .dataframe tbody tr th {\n",
       "        vertical-align: top;\n",
       "    }\n",
       "\n",
       "    .dataframe thead th {\n",
       "        text-align: right;\n",
       "    }\n",
       "</style>\n",
       "<table border=\"1\" class=\"dataframe\">\n",
       "  <thead>\n",
       "    <tr style=\"text-align: right;\">\n",
       "      <th></th>\n",
       "      <th>time</th>\n",
       "      <th>tas</th>\n",
       "      <th>pr</th>\n",
       "      <th>hurs</th>\n",
       "      <th>rsds</th>\n",
       "      <th>sfcWind</th>\n",
       "      <th>sfcWind_dir</th>\n",
       "      <th>pr_qc</th>\n",
       "      <th>rsds_qc</th>\n",
       "      <th>pvp_derived_qc</th>\n",
       "      <th>...</th>\n",
       "      <th>tdps_derived_eraqc</th>\n",
       "      <th>pvp_derived_eraqc</th>\n",
       "      <th>anemometer_height_m</th>\n",
       "      <th>thermometer_height_m</th>\n",
       "      <th>station</th>\n",
       "      <th>hour</th>\n",
       "      <th>day</th>\n",
       "      <th>month</th>\n",
       "      <th>year</th>\n",
       "      <th>date</th>\n",
       "    </tr>\n",
       "  </thead>\n",
       "  <tbody>\n",
       "    <tr>\n",
       "      <th>0</th>\n",
       "      <td>1987-10-07 09:00:00</td>\n",
       "      <td>290.75</td>\n",
       "      <td>0.0</td>\n",
       "      <td>9.0</td>\n",
       "      <td>0.0</td>\n",
       "      <td>0.8</td>\n",
       "      <td>87.1</td>\n",
       "      <td>nan</td>\n",
       "      <td>nan</td>\n",
       "      <td>nan</td>\n",
       "      <td>...</td>\n",
       "      <td>NaN</td>\n",
       "      <td>NaN</td>\n",
       "      <td>2.0</td>\n",
       "      <td>1.5</td>\n",
       "      <td>CIMIS_75</td>\n",
       "      <td>9</td>\n",
       "      <td>7</td>\n",
       "      <td>10</td>\n",
       "      <td>1987</td>\n",
       "      <td>1987-10-07</td>\n",
       "    </tr>\n",
       "    <tr>\n",
       "      <th>1</th>\n",
       "      <td>1987-10-07 10:00:00</td>\n",
       "      <td>290.85</td>\n",
       "      <td>0.0</td>\n",
       "      <td>7.0</td>\n",
       "      <td>-1.0</td>\n",
       "      <td>0.7</td>\n",
       "      <td>76.2</td>\n",
       "      <td>nan</td>\n",
       "      <td>nan</td>\n",
       "      <td>nan</td>\n",
       "      <td>...</td>\n",
       "      <td>NaN</td>\n",
       "      <td>NaN</td>\n",
       "      <td>2.0</td>\n",
       "      <td>1.5</td>\n",
       "      <td>CIMIS_75</td>\n",
       "      <td>10</td>\n",
       "      <td>7</td>\n",
       "      <td>10</td>\n",
       "      <td>1987</td>\n",
       "      <td>1987-10-07</td>\n",
       "    </tr>\n",
       "    <tr>\n",
       "      <th>2</th>\n",
       "      <td>1987-10-07 11:00:00</td>\n",
       "      <td>290.65</td>\n",
       "      <td>0.0</td>\n",
       "      <td>7.0</td>\n",
       "      <td>-1.0</td>\n",
       "      <td>1.0</td>\n",
       "      <td>11.7</td>\n",
       "      <td>nan</td>\n",
       "      <td>nan</td>\n",
       "      <td>nan</td>\n",
       "      <td>...</td>\n",
       "      <td>NaN</td>\n",
       "      <td>NaN</td>\n",
       "      <td>2.0</td>\n",
       "      <td>1.5</td>\n",
       "      <td>CIMIS_75</td>\n",
       "      <td>11</td>\n",
       "      <td>7</td>\n",
       "      <td>10</td>\n",
       "      <td>1987</td>\n",
       "      <td>1987-10-07</td>\n",
       "    </tr>\n",
       "  </tbody>\n",
       "</table>\n",
       "<p>3 rows × 37 columns</p>\n",
       "</div>"
      ],
      "text/plain": [
       "                 time     tas   pr  hurs  rsds  sfcWind  sfcWind_dir pr_qc  \\\n",
       "0 1987-10-07 09:00:00  290.75  0.0   9.0   0.0      0.8         87.1   nan   \n",
       "1 1987-10-07 10:00:00  290.85  0.0   7.0  -1.0      0.7         76.2   nan   \n",
       "2 1987-10-07 11:00:00  290.65  0.0   7.0  -1.0      1.0         11.7   nan   \n",
       "\n",
       "  rsds_qc pvp_derived_qc  ... tdps_derived_eraqc pvp_derived_eraqc  \\\n",
       "0     nan            nan  ...                NaN               NaN   \n",
       "1     nan            nan  ...                NaN               NaN   \n",
       "2     nan            nan  ...                NaN               NaN   \n",
       "\n",
       "  anemometer_height_m thermometer_height_m   station  hour  day  month  year  \\\n",
       "0                 2.0                  1.5  CIMIS_75     9    7     10  1987   \n",
       "1                 2.0                  1.5  CIMIS_75    10    7     10  1987   \n",
       "2                 2.0                  1.5  CIMIS_75    11    7     10  1987   \n",
       "\n",
       "         date  \n",
       "0  1987-10-07  \n",
       "1  1987-10-07  \n",
       "2  1987-10-07  \n",
       "\n",
       "[3 rows x 37 columns]"
      ]
     },
     "execution_count": 18,
     "metadata": {},
     "output_type": "execute_result"
    }
   ],
   "source": [
    "%%time\n",
    "df, MultiIndex, attrs, var_attrs, era_qc_vars = qaqc_ds_to_df(ds)\n",
    "df.head(3)"
   ]
  },
  {
   "cell_type": "code",
   "execution_count": 19,
   "id": "5016b5ef-795f-4fcd-9000-669e1d74aa7f",
   "metadata": {
    "execution": {
     "iopub.execute_input": "2024-10-02T22:33:41.841491Z",
     "iopub.status.busy": "2024-10-02T22:33:41.841331Z",
     "iopub.status.idle": "2024-10-02T22:33:42.267851Z",
     "shell.execute_reply": "2024-10-02T22:33:42.267516Z",
     "shell.execute_reply.started": "2024-10-02T22:33:41.841479Z"
    }
   },
   "outputs": [
    {
     "name": "stdout",
     "output_type": "stream",
     "text": [
      "era_qc existing variables:\n",
      "['tas_eraqc', 'pr_eraqc', 'hurs_eraqc', 'rsds_eraqc', 'sfcWind_eraqc', 'sfcWind_dir_eraqc', 'elevation_eraqc', 'tdps_derived_eraqc', 'pvp_derived_eraqc']\n",
      "0 created era_qc variables\n",
      "CPU times: user 313 ms, sys: 63.1 ms, total: 376 ms\n",
      "Wall time: 401 ms\n"
     ]
    },
    {
     "data": {
      "text/html": [
       "<div>\n",
       "<style scoped>\n",
       "    .dataframe tbody tr th:only-of-type {\n",
       "        vertical-align: middle;\n",
       "    }\n",
       "\n",
       "    .dataframe tbody tr th {\n",
       "        vertical-align: top;\n",
       "    }\n",
       "\n",
       "    .dataframe thead th {\n",
       "        text-align: right;\n",
       "    }\n",
       "</style>\n",
       "<table border=\"1\" class=\"dataframe\">\n",
       "  <thead>\n",
       "    <tr style=\"text-align: right;\">\n",
       "      <th></th>\n",
       "      <th>time</th>\n",
       "      <th>tas</th>\n",
       "      <th>pr</th>\n",
       "      <th>hurs</th>\n",
       "      <th>rsds</th>\n",
       "      <th>sfcWind</th>\n",
       "      <th>sfcWind_dir</th>\n",
       "      <th>pr_qc</th>\n",
       "      <th>rsds_qc</th>\n",
       "      <th>pvp_derived_qc</th>\n",
       "      <th>...</th>\n",
       "      <th>tdps_derived_eraqc</th>\n",
       "      <th>pvp_derived_eraqc</th>\n",
       "      <th>anemometer_height_m</th>\n",
       "      <th>thermometer_height_m</th>\n",
       "      <th>station</th>\n",
       "      <th>hour</th>\n",
       "      <th>day</th>\n",
       "      <th>month</th>\n",
       "      <th>year</th>\n",
       "      <th>date</th>\n",
       "    </tr>\n",
       "  </thead>\n",
       "  <tbody>\n",
       "    <tr>\n",
       "      <th>0</th>\n",
       "      <td>1987-10-07 09:00:00</td>\n",
       "      <td>290.75</td>\n",
       "      <td>0.0</td>\n",
       "      <td>9.0</td>\n",
       "      <td>0.0</td>\n",
       "      <td>0.8</td>\n",
       "      <td>87.1</td>\n",
       "      <td>nan</td>\n",
       "      <td>nan</td>\n",
       "      <td>nan</td>\n",
       "      <td>...</td>\n",
       "      <td>NaN</td>\n",
       "      <td>NaN</td>\n",
       "      <td>2.0</td>\n",
       "      <td>1.5</td>\n",
       "      <td>CIMIS_75</td>\n",
       "      <td>9</td>\n",
       "      <td>7</td>\n",
       "      <td>10</td>\n",
       "      <td>1987</td>\n",
       "      <td>1987-10-07</td>\n",
       "    </tr>\n",
       "    <tr>\n",
       "      <th>1</th>\n",
       "      <td>1987-10-07 10:00:00</td>\n",
       "      <td>290.85</td>\n",
       "      <td>0.0</td>\n",
       "      <td>7.0</td>\n",
       "      <td>-1.0</td>\n",
       "      <td>0.7</td>\n",
       "      <td>76.2</td>\n",
       "      <td>nan</td>\n",
       "      <td>nan</td>\n",
       "      <td>nan</td>\n",
       "      <td>...</td>\n",
       "      <td>NaN</td>\n",
       "      <td>NaN</td>\n",
       "      <td>2.0</td>\n",
       "      <td>1.5</td>\n",
       "      <td>CIMIS_75</td>\n",
       "      <td>10</td>\n",
       "      <td>7</td>\n",
       "      <td>10</td>\n",
       "      <td>1987</td>\n",
       "      <td>1987-10-07</td>\n",
       "    </tr>\n",
       "    <tr>\n",
       "      <th>2</th>\n",
       "      <td>1987-10-07 11:00:00</td>\n",
       "      <td>290.65</td>\n",
       "      <td>0.0</td>\n",
       "      <td>7.0</td>\n",
       "      <td>-1.0</td>\n",
       "      <td>1.0</td>\n",
       "      <td>11.7</td>\n",
       "      <td>nan</td>\n",
       "      <td>nan</td>\n",
       "      <td>nan</td>\n",
       "      <td>...</td>\n",
       "      <td>NaN</td>\n",
       "      <td>NaN</td>\n",
       "      <td>2.0</td>\n",
       "      <td>1.5</td>\n",
       "      <td>CIMIS_75</td>\n",
       "      <td>11</td>\n",
       "      <td>7</td>\n",
       "      <td>10</td>\n",
       "      <td>1987</td>\n",
       "      <td>1987-10-07</td>\n",
       "    </tr>\n",
       "  </tbody>\n",
       "</table>\n",
       "<p>3 rows × 37 columns</p>\n",
       "</div>"
      ],
      "text/plain": [
       "                 time     tas   pr  hurs  rsds  sfcWind  sfcWind_dir pr_qc  \\\n",
       "0 1987-10-07 09:00:00  290.75  0.0   9.0   0.0      0.8         87.1   nan   \n",
       "1 1987-10-07 10:00:00  290.85  0.0   7.0  -1.0      0.7         76.2   nan   \n",
       "2 1987-10-07 11:00:00  290.65  0.0   7.0  -1.0      1.0         11.7   nan   \n",
       "\n",
       "  rsds_qc pvp_derived_qc  ... tdps_derived_eraqc pvp_derived_eraqc  \\\n",
       "0     nan            nan  ...                NaN               NaN   \n",
       "1     nan            nan  ...                NaN               NaN   \n",
       "2     nan            nan  ...                NaN               NaN   \n",
       "\n",
       "  anemometer_height_m thermometer_height_m   station  hour  day  month  year  \\\n",
       "0                 2.0                  1.5  CIMIS_75     9    7     10  1987   \n",
       "1                 2.0                  1.5  CIMIS_75    10    7     10  1987   \n",
       "2                 2.0                  1.5  CIMIS_75    11    7     10  1987   \n",
       "\n",
       "         date  \n",
       "0  1987-10-07  \n",
       "1  1987-10-07  \n",
       "2  1987-10-07  \n",
       "\n",
       "[3 rows x 37 columns]"
      ]
     },
     "execution_count": 19,
     "metadata": {},
     "output_type": "execute_result"
    }
   ],
   "source": [
    "%%time\n",
    "df, MultiIndex, attrs, var_attrs, era_qc_vars = qaqc_ds_to_df(ds)\n",
    "df.head(3)"
   ]
  },
  {
   "cell_type": "markdown",
   "id": "6918c3a2-7794-456a-9aa9-7366d3bb71dd",
   "metadata": {},
   "source": [
    "### Why is the first time `qaqc_ds_to_df` much much slower than the second? "
   ]
  },
  {
   "cell_type": "markdown",
   "id": "94a358d8-4d52-4819-b29b-86bacd1e714c",
   "metadata": {},
   "source": [
    "<div style=\"width: 50em;\">\n",
    "The first time, `s3.open()` is done. This does reads the dataset in a lazy way. When converting to df, the whole file needs\n",
    "to be read to memory, which `s3.open()` does much slower than s3.download()`\n",
    "</div>"
   ]
  },
  {
   "cell_type": "markdown",
   "id": "28850bb5-360f-4d0e-89ec-ad4d51226bd3",
   "metadata": {},
   "source": [
    "<div style=\"width: 50em;\">\n",
    "\n",
    "_From ChatGPT:_\n",
    "\n",
    "When comparing s3.open and s3.download, the performance difference typically depends on how data is accessed and processed. Here’s an overview of the two methods:\n",
    "\n",
    "1. **`s3.open()`**:\n",
    "Use Case: Opens a file from an S3 bucket as a file-like object.\n",
    "Performance:\n",
    "When using s3.open, data is streamed in smaller chunks, allowing for on-the-fly reading (useful when handling large files). This reduces memory overhead since the file is not loaded into memory at once.\n",
    "However, this streaming approach can make accessing data slower, especially when performing repeated read operations, as it incurs overhead due to network latency and chunk retrieval.\n",
    "2. **`s3.download()`**:\n",
    "Use Case: Downloads a file from S3 and stores it locally or in memory.\n",
    "Performance:\n",
    "s3.download typically downloads the entire file at once, which can be faster when you need the whole file to be processed or manipulated. There’s less latency involved after the file is downloaded, as subsequent operations on the local or in-memory copy are fast.\n",
    "However, downloading large files can be slower initially (compared to streaming) and can consume significant memory.\n",
    "Summary:\n",
    "s3.open is slower for operations that require reading large amounts of data repeatedly due to chunk-based streaming.\n",
    "s3.download is faster when you need the entire file at once, as you download the full data and can work with it in memory without additional network operations.\n",
    "When to Use Each:\n",
    "Use s3.open() for large files or if you only need partial access to the file (e.g., processing chunks of data or streaming video).\n",
    "Use s3.download() when you want the entire file available immediately or if you need faster access after the file is fully downloaded.\n",
    "</div>"
   ]
  },
  {
   "cell_type": "markdown",
   "id": "d40753d6-e283-4098-aa70-ba91bfc2564f",
   "metadata": {},
   "source": [
    "<div style=\"width: 50em;\">\n",
    "One way to handle this, specially for speed in debugging and testing, is to download the file to a temporary file, with the option to save to disk if we want to. Since downloading the file it's much faster, this process will be faster. Also, we can set an instruction to look first locally, if the file is not there, then download from s3 bucket\n",
    "</div>"
   ]
  },
  {
   "cell_type": "code",
   "execution_count": 20,
   "id": "beb255e2-7a5e-4b28-b262-b4759bc44833",
   "metadata": {
    "execution": {
     "iopub.execute_input": "2024-10-02T22:33:47.907243Z",
     "iopub.status.busy": "2024-10-02T22:33:47.907101Z",
     "iopub.status.idle": "2024-10-02T22:33:48.768047Z",
     "shell.execute_reply": "2024-10-02T22:33:48.767660Z",
     "shell.execute_reply.started": "2024-10-02T22:33:47.907232Z"
    }
   },
   "outputs": [
    {
     "name": "stdout",
     "output_type": "stream",
     "text": [
      "Retrieving data for station...\n",
      "CPU times: user 674 ms, sys: 70.1 ms, total: 744 ms\n",
      "Wall time: 828 ms\n"
     ]
    },
    {
     "data": {
      "text/html": [
       "<div><svg style=\"position: absolute; width: 0; height: 0; overflow: hidden\">\n",
       "<defs>\n",
       "<symbol id=\"icon-database\" viewBox=\"0 0 32 32\">\n",
       "<path d=\"M16 0c-8.837 0-16 2.239-16 5v4c0 2.761 7.163 5 16 5s16-2.239 16-5v-4c0-2.761-7.163-5-16-5z\"></path>\n",
       "<path d=\"M16 17c-8.837 0-16-2.239-16-5v6c0 2.761 7.163 5 16 5s16-2.239 16-5v-6c0 2.761-7.163 5-16 5z\"></path>\n",
       "<path d=\"M16 26c-8.837 0-16-2.239-16-5v6c0 2.761 7.163 5 16 5s16-2.239 16-5v-6c0 2.761-7.163 5-16 5z\"></path>\n",
       "</symbol>\n",
       "<symbol id=\"icon-file-text2\" viewBox=\"0 0 32 32\">\n",
       "<path d=\"M28.681 7.159c-0.694-0.947-1.662-2.053-2.724-3.116s-2.169-2.030-3.116-2.724c-1.612-1.182-2.393-1.319-2.841-1.319h-15.5c-1.378 0-2.5 1.121-2.5 2.5v27c0 1.378 1.122 2.5 2.5 2.5h23c1.378 0 2.5-1.122 2.5-2.5v-19.5c0-0.448-0.137-1.23-1.319-2.841zM24.543 5.457c0.959 0.959 1.712 1.825 2.268 2.543h-4.811v-4.811c0.718 0.556 1.584 1.309 2.543 2.268zM28 29.5c0 0.271-0.229 0.5-0.5 0.5h-23c-0.271 0-0.5-0.229-0.5-0.5v-27c0-0.271 0.229-0.5 0.5-0.5 0 0 15.499-0 15.5 0v7c0 0.552 0.448 1 1 1h7v19.5z\"></path>\n",
       "<path d=\"M23 26h-14c-0.552 0-1-0.448-1-1s0.448-1 1-1h14c0.552 0 1 0.448 1 1s-0.448 1-1 1z\"></path>\n",
       "<path d=\"M23 22h-14c-0.552 0-1-0.448-1-1s0.448-1 1-1h14c0.552 0 1 0.448 1 1s-0.448 1-1 1z\"></path>\n",
       "<path d=\"M23 18h-14c-0.552 0-1-0.448-1-1s0.448-1 1-1h14c0.552 0 1 0.448 1 1s-0.448 1-1 1z\"></path>\n",
       "</symbol>\n",
       "</defs>\n",
       "</svg>\n",
       "<style>/* CSS stylesheet for displaying xarray objects in jupyterlab.\n",
       " *\n",
       " */\n",
       "\n",
       ":root {\n",
       "  --xr-font-color0: var(--jp-content-font-color0, rgba(0, 0, 0, 1));\n",
       "  --xr-font-color2: var(--jp-content-font-color2, rgba(0, 0, 0, 0.54));\n",
       "  --xr-font-color3: var(--jp-content-font-color3, rgba(0, 0, 0, 0.38));\n",
       "  --xr-border-color: var(--jp-border-color2, #e0e0e0);\n",
       "  --xr-disabled-color: var(--jp-layout-color3, #bdbdbd);\n",
       "  --xr-background-color: var(--jp-layout-color0, white);\n",
       "  --xr-background-color-row-even: var(--jp-layout-color1, white);\n",
       "  --xr-background-color-row-odd: var(--jp-layout-color2, #eeeeee);\n",
       "}\n",
       "\n",
       "html[theme=dark],\n",
       "body.vscode-dark {\n",
       "  --xr-font-color0: rgba(255, 255, 255, 1);\n",
       "  --xr-font-color2: rgba(255, 255, 255, 0.54);\n",
       "  --xr-font-color3: rgba(255, 255, 255, 0.38);\n",
       "  --xr-border-color: #1F1F1F;\n",
       "  --xr-disabled-color: #515151;\n",
       "  --xr-background-color: #111111;\n",
       "  --xr-background-color-row-even: #111111;\n",
       "  --xr-background-color-row-odd: #313131;\n",
       "}\n",
       "\n",
       ".xr-wrap {\n",
       "  display: block !important;\n",
       "  min-width: 300px;\n",
       "  max-width: 700px;\n",
       "}\n",
       "\n",
       ".xr-text-repr-fallback {\n",
       "  /* fallback to plain text repr when CSS is not injected (untrusted notebook) */\n",
       "  display: none;\n",
       "}\n",
       "\n",
       ".xr-header {\n",
       "  padding-top: 6px;\n",
       "  padding-bottom: 6px;\n",
       "  margin-bottom: 4px;\n",
       "  border-bottom: solid 1px var(--xr-border-color);\n",
       "}\n",
       "\n",
       ".xr-header > div,\n",
       ".xr-header > ul {\n",
       "  display: inline;\n",
       "  margin-top: 0;\n",
       "  margin-bottom: 0;\n",
       "}\n",
       "\n",
       ".xr-obj-type,\n",
       ".xr-array-name {\n",
       "  margin-left: 2px;\n",
       "  margin-right: 10px;\n",
       "}\n",
       "\n",
       ".xr-obj-type {\n",
       "  color: var(--xr-font-color2);\n",
       "}\n",
       "\n",
       ".xr-sections {\n",
       "  padding-left: 0 !important;\n",
       "  display: grid;\n",
       "  grid-template-columns: 150px auto auto 1fr 20px 20px;\n",
       "}\n",
       "\n",
       ".xr-section-item {\n",
       "  display: contents;\n",
       "}\n",
       "\n",
       ".xr-section-item input {\n",
       "  display: none;\n",
       "}\n",
       "\n",
       ".xr-section-item input + label {\n",
       "  color: var(--xr-disabled-color);\n",
       "}\n",
       "\n",
       ".xr-section-item input:enabled + label {\n",
       "  cursor: pointer;\n",
       "  color: var(--xr-font-color2);\n",
       "}\n",
       "\n",
       ".xr-section-item input:enabled + label:hover {\n",
       "  color: var(--xr-font-color0);\n",
       "}\n",
       "\n",
       ".xr-section-summary {\n",
       "  grid-column: 1;\n",
       "  color: var(--xr-font-color2);\n",
       "  font-weight: 500;\n",
       "}\n",
       "\n",
       ".xr-section-summary > span {\n",
       "  display: inline-block;\n",
       "  padding-left: 0.5em;\n",
       "}\n",
       "\n",
       ".xr-section-summary-in:disabled + label {\n",
       "  color: var(--xr-font-color2);\n",
       "}\n",
       "\n",
       ".xr-section-summary-in + label:before {\n",
       "  display: inline-block;\n",
       "  content: '►';\n",
       "  font-size: 11px;\n",
       "  width: 15px;\n",
       "  text-align: center;\n",
       "}\n",
       "\n",
       ".xr-section-summary-in:disabled + label:before {\n",
       "  color: var(--xr-disabled-color);\n",
       "}\n",
       "\n",
       ".xr-section-summary-in:checked + label:before {\n",
       "  content: '▼';\n",
       "}\n",
       "\n",
       ".xr-section-summary-in:checked + label > span {\n",
       "  display: none;\n",
       "}\n",
       "\n",
       ".xr-section-summary,\n",
       ".xr-section-inline-details {\n",
       "  padding-top: 4px;\n",
       "  padding-bottom: 4px;\n",
       "}\n",
       "\n",
       ".xr-section-inline-details {\n",
       "  grid-column: 2 / -1;\n",
       "}\n",
       "\n",
       ".xr-section-details {\n",
       "  display: none;\n",
       "  grid-column: 1 / -1;\n",
       "  margin-bottom: 5px;\n",
       "}\n",
       "\n",
       ".xr-section-summary-in:checked ~ .xr-section-details {\n",
       "  display: contents;\n",
       "}\n",
       "\n",
       ".xr-array-wrap {\n",
       "  grid-column: 1 / -1;\n",
       "  display: grid;\n",
       "  grid-template-columns: 20px auto;\n",
       "}\n",
       "\n",
       ".xr-array-wrap > label {\n",
       "  grid-column: 1;\n",
       "  vertical-align: top;\n",
       "}\n",
       "\n",
       ".xr-preview {\n",
       "  color: var(--xr-font-color3);\n",
       "}\n",
       "\n",
       ".xr-array-preview,\n",
       ".xr-array-data {\n",
       "  padding: 0 5px !important;\n",
       "  grid-column: 2;\n",
       "}\n",
       "\n",
       ".xr-array-data,\n",
       ".xr-array-in:checked ~ .xr-array-preview {\n",
       "  display: none;\n",
       "}\n",
       "\n",
       ".xr-array-in:checked ~ .xr-array-data,\n",
       ".xr-array-preview {\n",
       "  display: inline-block;\n",
       "}\n",
       "\n",
       ".xr-dim-list {\n",
       "  display: inline-block !important;\n",
       "  list-style: none;\n",
       "  padding: 0 !important;\n",
       "  margin: 0;\n",
       "}\n",
       "\n",
       ".xr-dim-list li {\n",
       "  display: inline-block;\n",
       "  padding: 0;\n",
       "  margin: 0;\n",
       "}\n",
       "\n",
       ".xr-dim-list:before {\n",
       "  content: '(';\n",
       "}\n",
       "\n",
       ".xr-dim-list:after {\n",
       "  content: ')';\n",
       "}\n",
       "\n",
       ".xr-dim-list li:not(:last-child):after {\n",
       "  content: ',';\n",
       "  padding-right: 5px;\n",
       "}\n",
       "\n",
       ".xr-has-index {\n",
       "  font-weight: bold;\n",
       "}\n",
       "\n",
       ".xr-var-list,\n",
       ".xr-var-item {\n",
       "  display: contents;\n",
       "}\n",
       "\n",
       ".xr-var-item > div,\n",
       ".xr-var-item label,\n",
       ".xr-var-item > .xr-var-name span {\n",
       "  background-color: var(--xr-background-color-row-even);\n",
       "  margin-bottom: 0;\n",
       "}\n",
       "\n",
       ".xr-var-item > .xr-var-name:hover span {\n",
       "  padding-right: 5px;\n",
       "}\n",
       "\n",
       ".xr-var-list > li:nth-child(odd) > div,\n",
       ".xr-var-list > li:nth-child(odd) > label,\n",
       ".xr-var-list > li:nth-child(odd) > .xr-var-name span {\n",
       "  background-color: var(--xr-background-color-row-odd);\n",
       "}\n",
       "\n",
       ".xr-var-name {\n",
       "  grid-column: 1;\n",
       "}\n",
       "\n",
       ".xr-var-dims {\n",
       "  grid-column: 2;\n",
       "}\n",
       "\n",
       ".xr-var-dtype {\n",
       "  grid-column: 3;\n",
       "  text-align: right;\n",
       "  color: var(--xr-font-color2);\n",
       "}\n",
       "\n",
       ".xr-var-preview {\n",
       "  grid-column: 4;\n",
       "}\n",
       "\n",
       ".xr-var-name,\n",
       ".xr-var-dims,\n",
       ".xr-var-dtype,\n",
       ".xr-preview,\n",
       ".xr-attrs dt {\n",
       "  white-space: nowrap;\n",
       "  overflow: hidden;\n",
       "  text-overflow: ellipsis;\n",
       "  padding-right: 10px;\n",
       "}\n",
       "\n",
       ".xr-var-name:hover,\n",
       ".xr-var-dims:hover,\n",
       ".xr-var-dtype:hover,\n",
       ".xr-attrs dt:hover {\n",
       "  overflow: visible;\n",
       "  width: auto;\n",
       "  z-index: 1;\n",
       "}\n",
       "\n",
       ".xr-var-attrs,\n",
       ".xr-var-data {\n",
       "  display: none;\n",
       "  background-color: var(--xr-background-color) !important;\n",
       "  padding-bottom: 5px !important;\n",
       "}\n",
       "\n",
       ".xr-var-attrs-in:checked ~ .xr-var-attrs,\n",
       ".xr-var-data-in:checked ~ .xr-var-data {\n",
       "  display: block;\n",
       "}\n",
       "\n",
       ".xr-var-data > table {\n",
       "  float: right;\n",
       "}\n",
       "\n",
       ".xr-var-name span,\n",
       ".xr-var-data,\n",
       ".xr-attrs {\n",
       "  padding-left: 25px !important;\n",
       "}\n",
       "\n",
       ".xr-attrs,\n",
       ".xr-var-attrs,\n",
       ".xr-var-data {\n",
       "  grid-column: 1 / -1;\n",
       "}\n",
       "\n",
       "dl.xr-attrs {\n",
       "  padding: 0;\n",
       "  margin: 0;\n",
       "  display: grid;\n",
       "  grid-template-columns: 125px auto;\n",
       "}\n",
       "\n",
       ".xr-attrs dt,\n",
       ".xr-attrs dd {\n",
       "  padding: 0;\n",
       "  margin: 0;\n",
       "  float: left;\n",
       "  padding-right: 10px;\n",
       "  width: auto;\n",
       "}\n",
       "\n",
       ".xr-attrs dt {\n",
       "  font-weight: normal;\n",
       "  grid-column: 1;\n",
       "}\n",
       "\n",
       ".xr-attrs dt:hover span {\n",
       "  display: inline-block;\n",
       "  background: var(--xr-background-color);\n",
       "  padding-right: 10px;\n",
       "}\n",
       "\n",
       ".xr-attrs dd {\n",
       "  grid-column: 2;\n",
       "  white-space: pre-wrap;\n",
       "  word-break: break-all;\n",
       "}\n",
       "\n",
       ".xr-icon-database,\n",
       ".xr-icon-file-text2 {\n",
       "  display: inline-block;\n",
       "  vertical-align: middle;\n",
       "  width: 1em;\n",
       "  height: 1.5em !important;\n",
       "  stroke-width: 0;\n",
       "  stroke: currentColor;\n",
       "  fill: currentColor;\n",
       "}\n",
       "</style><pre class='xr-text-repr-fallback'>&lt;xarray.Dataset&gt;\n",
       "Dimensions:               (station: 1, time: 305943)\n",
       "Coordinates:\n",
       "  * station               (station) object &#x27;CIMIS_75&#x27;\n",
       "  * time                  (time) datetime64[ns] 1987-10-07T09:00:00 ... 2022-...\n",
       "Data variables: (12/30)\n",
       "    tas                   (station, time) float64 290.8 290.8 ... 309.6 310.3\n",
       "    pr                    (station, time) float64 0.0 0.0 0.0 ... 0.0 0.0 0.0\n",
       "    hurs                  (station, time) float64 9.0 7.0 7.0 ... 27.0 24.0 24.0\n",
       "    rsds                  (station, time) float64 0.0 -1.0 -1.0 ... 803.0 678.0\n",
       "    sfcWind               (station, time) float64 0.8 0.7 1.0 ... 3.2 3.2 3.2\n",
       "    sfcWind_dir           (station, time) float64 87.1 76.2 11.7 ... 191.0 188.0\n",
       "    ...                    ...\n",
       "    sfcWind_dir_eraqc     (station, time) float64 nan nan nan ... nan nan nan\n",
       "    elevation_eraqc       (station, time) float64 nan nan nan ... nan nan nan\n",
       "    tdps_derived_eraqc    (station, time) float64 nan nan nan ... nan nan nan\n",
       "    pvp_derived_eraqc     (station, time) float64 nan nan nan ... nan nan nan\n",
       "    anemometer_height_m   (station, time) float64 2.0 2.0 2.0 ... 2.0 2.0 2.0\n",
       "    thermometer_height_m  (station, time) float64 1.5 1.5 1.5 ... 1.5 1.5 1.5\n",
       "Attributes: (12/16)\n",
       "    title:                 CIMIS quality controlled\n",
       "    institution:           Eagle Rock Analytics / Cal Adapt\n",
       "    source:                \n",
       "    history:               CIMIS_clean.py script run on 02-13-2023, 22:25:54 ...\n",
       "    comment:               Intermediate data product: may not have been subje...\n",
       "    license:               \n",
       "    ...                    ...\n",
       "    wind_vane_height_m:    2.0\n",
       "    anemometer_height_m:   2.0\n",
       "    thermometer_height_m:  1.5\n",
       "    humidity_height_m:     1.5\n",
       "    rain_gauge_height_m:   1.0\n",
       "    raw_files_merged:      47</pre><div class='xr-wrap' style='display:none'><div class='xr-header'><div class='xr-obj-type'>xarray.Dataset</div></div><ul class='xr-sections'><li class='xr-section-item'><input id='section-979ab24d-5193-4773-9bc1-8b1a5c2a53b8' class='xr-section-summary-in' type='checkbox' disabled ><label for='section-979ab24d-5193-4773-9bc1-8b1a5c2a53b8' class='xr-section-summary'  title='Expand/collapse section'>Dimensions:</label><div class='xr-section-inline-details'><ul class='xr-dim-list'><li><span class='xr-has-index'>station</span>: 1</li><li><span class='xr-has-index'>time</span>: 305943</li></ul></div><div class='xr-section-details'></div></li><li class='xr-section-item'><input id='section-f111ec2d-3943-4cf6-af74-4a0119b3704a' class='xr-section-summary-in' type='checkbox'  checked><label for='section-f111ec2d-3943-4cf6-af74-4a0119b3704a' class='xr-section-summary' >Coordinates: <span>(2)</span></label><div class='xr-section-inline-details'></div><div class='xr-section-details'><ul class='xr-var-list'><li class='xr-var-item'><div class='xr-var-name'><span class='xr-has-index'>station</span></div><div class='xr-var-dims'>(station)</div><div class='xr-var-dtype'>object</div><div class='xr-var-preview xr-preview'>&#x27;CIMIS_75&#x27;</div><input id='attrs-ce626e10-e62c-4f8a-8610-0cb5508f7a36' class='xr-var-attrs-in' type='checkbox' disabled><label for='attrs-ce626e10-e62c-4f8a-8610-0cb5508f7a36' title='Show/Hide attributes'><svg class='icon xr-icon-file-text2'><use xlink:href='#icon-file-text2'></use></svg></label><input id='data-5ea2081d-4326-41c3-b60c-0f447fd44c3d' class='xr-var-data-in' type='checkbox'><label for='data-5ea2081d-4326-41c3-b60c-0f447fd44c3d' title='Show/Hide data repr'><svg class='icon xr-icon-database'><use xlink:href='#icon-database'></use></svg></label><div class='xr-var-attrs'><dl class='xr-attrs'></dl></div><div class='xr-var-data'><pre>array([&#x27;CIMIS_75&#x27;], dtype=object)</pre></div></li><li class='xr-var-item'><div class='xr-var-name'><span class='xr-has-index'>time</span></div><div class='xr-var-dims'>(time)</div><div class='xr-var-dtype'>datetime64[ns]</div><div class='xr-var-preview xr-preview'>1987-10-07T09:00:00 ... 2022-08-...</div><input id='attrs-b8f35110-a477-4f22-a907-54a1c36f5f89' class='xr-var-attrs-in' type='checkbox' disabled><label for='attrs-b8f35110-a477-4f22-a907-54a1c36f5f89' title='Show/Hide attributes'><svg class='icon xr-icon-file-text2'><use xlink:href='#icon-file-text2'></use></svg></label><input id='data-8630a8d9-b53e-4292-9060-3f53f1d1d4ab' class='xr-var-data-in' type='checkbox'><label for='data-8630a8d9-b53e-4292-9060-3f53f1d1d4ab' title='Show/Hide data repr'><svg class='icon xr-icon-database'><use xlink:href='#icon-database'></use></svg></label><div class='xr-var-attrs'><dl class='xr-attrs'></dl></div><div class='xr-var-data'><pre>array([&#x27;1987-10-07T09:00:00.000000000&#x27;, &#x27;1987-10-07T10:00:00.000000000&#x27;,\n",
       "       &#x27;1987-10-07T11:00:00.000000000&#x27;, ..., &#x27;2022-08-31T21:00:00.000000000&#x27;,\n",
       "       &#x27;2022-08-31T22:00:00.000000000&#x27;, &#x27;2022-08-31T23:00:00.000000000&#x27;],\n",
       "      dtype=&#x27;datetime64[ns]&#x27;)</pre></div></li></ul></div></li><li class='xr-section-item'><input id='section-fb203a8e-1b23-43d9-99a1-82c0e212b685' class='xr-section-summary-in' type='checkbox'  ><label for='section-fb203a8e-1b23-43d9-99a1-82c0e212b685' class='xr-section-summary' >Data variables: <span>(30)</span></label><div class='xr-section-inline-details'></div><div class='xr-section-details'><ul class='xr-var-list'><li class='xr-var-item'><div class='xr-var-name'><span>tas</span></div><div class='xr-var-dims'>(station, time)</div><div class='xr-var-dtype'>float64</div><div class='xr-var-preview xr-preview'>290.8 290.8 290.6 ... 309.6 310.3</div><input id='attrs-bfed6167-bfe7-4e74-a522-02a7a18213ae' class='xr-var-attrs-in' type='checkbox' ><label for='attrs-bfed6167-bfe7-4e74-a522-02a7a18213ae' title='Show/Hide attributes'><svg class='icon xr-icon-file-text2'><use xlink:href='#icon-file-text2'></use></svg></label><input id='data-77e3a5f5-c10d-4136-b13a-e14b9b5cfce4' class='xr-var-data-in' type='checkbox'><label for='data-77e3a5f5-c10d-4136-b13a-e14b9b5cfce4' title='Show/Hide data repr'><svg class='icon xr-icon-database'><use xlink:href='#icon-database'></use></svg></label><div class='xr-var-attrs'><dl class='xr-attrs'><dt><span>long_name :</span></dt><dd>air_temperature</dd><dt><span>standard_name :</span></dt><dd>air_temperature</dd><dt><span>units :</span></dt><dd>degree_Kelvin</dd><dt><span>ancillary_variables :</span></dt><dd>tas_qc, tas_eraqc</dd><dt><span>comment :</span></dt><dd>Converted from Celsius to Kelvin.</dd></dl></div><div class='xr-var-data'><pre>array([[290.75, 290.85, 290.65, ..., 308.45, 309.65, 310.35]])</pre></div></li><li class='xr-var-item'><div class='xr-var-name'><span>pr</span></div><div class='xr-var-dims'>(station, time)</div><div class='xr-var-dtype'>float64</div><div class='xr-var-preview xr-preview'>0.0 0.0 0.0 0.0 ... 0.0 0.0 0.0 0.0</div><input id='attrs-91bcab60-c9cd-4f63-aa1d-f3ead8904af7' class='xr-var-attrs-in' type='checkbox' ><label for='attrs-91bcab60-c9cd-4f63-aa1d-f3ead8904af7' title='Show/Hide attributes'><svg class='icon xr-icon-file-text2'><use xlink:href='#icon-file-text2'></use></svg></label><input id='data-1bf437ba-39da-4c96-87bc-5af380dd0943' class='xr-var-data-in' type='checkbox'><label for='data-1bf437ba-39da-4c96-87bc-5af380dd0943' title='Show/Hide data repr'><svg class='icon xr-icon-database'><use xlink:href='#icon-database'></use></svg></label><div class='xr-var-attrs'><dl class='xr-attrs'><dt><span>long_name :</span></dt><dd>precipitation_accumulation</dd><dt><span>units :</span></dt><dd>mm/hour</dd><dt><span>ancillary_variables :</span></dt><dd>pr_qc, pr_eraqc</dd><dt><span>comment :</span></dt><dd>Accumulated precipitation.</dd></dl></div><div class='xr-var-data'><pre>array([[0., 0., 0., ..., 0., 0., 0.]])</pre></div></li><li class='xr-var-item'><div class='xr-var-name'><span>hurs</span></div><div class='xr-var-dims'>(station, time)</div><div class='xr-var-dtype'>float64</div><div class='xr-var-preview xr-preview'>9.0 7.0 7.0 7.0 ... 27.0 24.0 24.0</div><input id='attrs-a44d9b92-e096-4ef7-ad2f-52e973b34621' class='xr-var-attrs-in' type='checkbox' ><label for='attrs-a44d9b92-e096-4ef7-ad2f-52e973b34621' title='Show/Hide attributes'><svg class='icon xr-icon-file-text2'><use xlink:href='#icon-file-text2'></use></svg></label><input id='data-2c67798e-47a7-4c09-965c-2f656d942127' class='xr-var-data-in' type='checkbox'><label for='data-2c67798e-47a7-4c09-965c-2f656d942127' title='Show/Hide data repr'><svg class='icon xr-icon-database'><use xlink:href='#icon-database'></use></svg></label><div class='xr-var-attrs'><dl class='xr-attrs'><dt><span>long_name :</span></dt><dd>relative_humidity</dd><dt><span>standard_name :</span></dt><dd>relative_humidity</dd><dt><span>units :</span></dt><dd>percent</dd><dt><span>ancillary_variables :</span></dt><dd>hurs_qc, hurs_eraqc</dd></dl></div><div class='xr-var-data'><pre>array([[ 9.,  7.,  7., ..., 27., 24., 24.]])</pre></div></li><li class='xr-var-item'><div class='xr-var-name'><span>rsds</span></div><div class='xr-var-dims'>(station, time)</div><div class='xr-var-dtype'>float64</div><div class='xr-var-preview xr-preview'>0.0 -1.0 -1.0 ... 874.0 803.0 678.0</div><input id='attrs-09ae50d5-32cd-446b-92f1-8c75a4c1f56a' class='xr-var-attrs-in' type='checkbox' ><label for='attrs-09ae50d5-32cd-446b-92f1-8c75a4c1f56a' title='Show/Hide attributes'><svg class='icon xr-icon-file-text2'><use xlink:href='#icon-file-text2'></use></svg></label><input id='data-02be7483-c8e9-4021-999c-844fe4eadcf9' class='xr-var-data-in' type='checkbox'><label for='data-02be7483-c8e9-4021-999c-844fe4eadcf9' title='Show/Hide data repr'><svg class='icon xr-icon-database'><use xlink:href='#icon-database'></use></svg></label><div class='xr-var-attrs'><dl class='xr-attrs'><dt><span>long_name :</span></dt><dd>solar_radiation</dd><dt><span>standard_name :</span></dt><dd>surface_downwelling_shortwave_flux_in_air</dd><dt><span>units :</span></dt><dd>W m-2</dd><dt><span>ancillary_variables :</span></dt><dd>rsds_qc, rsds_eraqc</dd></dl></div><div class='xr-var-data'><pre>array([[  0.,  -1.,  -1., ..., 874., 803., 678.]])</pre></div></li><li class='xr-var-item'><div class='xr-var-name'><span>sfcWind</span></div><div class='xr-var-dims'>(station, time)</div><div class='xr-var-dtype'>float64</div><div class='xr-var-preview xr-preview'>0.8 0.7 1.0 0.9 ... 3.2 3.2 3.2 3.2</div><input id='attrs-8d842563-9b20-400e-8a79-97ef97202545' class='xr-var-attrs-in' type='checkbox' ><label for='attrs-8d842563-9b20-400e-8a79-97ef97202545' title='Show/Hide attributes'><svg class='icon xr-icon-file-text2'><use xlink:href='#icon-file-text2'></use></svg></label><input id='data-21383db7-1873-4cc4-8e5f-7991e23e6c6c' class='xr-var-data-in' type='checkbox'><label for='data-21383db7-1873-4cc4-8e5f-7991e23e6c6c' title='Show/Hide data repr'><svg class='icon xr-icon-database'><use xlink:href='#icon-database'></use></svg></label><div class='xr-var-attrs'><dl class='xr-attrs'><dt><span>long_name :</span></dt><dd>wind_speed</dd><dt><span>standard_name :</span></dt><dd>wind_speed</dd><dt><span>units :</span></dt><dd>m s-1</dd><dt><span>ancillary_variables :</span></dt><dd>sfcWind_qc, sfcWind_eraqc</dd></dl></div><div class='xr-var-data'><pre>array([[0.8, 0.7, 1. , ..., 3.2, 3.2, 3.2]])</pre></div></li><li class='xr-var-item'><div class='xr-var-name'><span>sfcWind_dir</span></div><div class='xr-var-dims'>(station, time)</div><div class='xr-var-dtype'>float64</div><div class='xr-var-preview xr-preview'>87.1 76.2 11.7 ... 191.0 188.0</div><input id='attrs-ee4de5e1-87bf-4ae0-8ac1-834f64a1f1e1' class='xr-var-attrs-in' type='checkbox' ><label for='attrs-ee4de5e1-87bf-4ae0-8ac1-834f64a1f1e1' title='Show/Hide attributes'><svg class='icon xr-icon-file-text2'><use xlink:href='#icon-file-text2'></use></svg></label><input id='data-4a8b0654-ddd5-4dc1-a9f7-caa10de45a92' class='xr-var-data-in' type='checkbox'><label for='data-4a8b0654-ddd5-4dc1-a9f7-caa10de45a92' title='Show/Hide data repr'><svg class='icon xr-icon-database'><use xlink:href='#icon-database'></use></svg></label><div class='xr-var-attrs'><dl class='xr-attrs'><dt><span>long_name :</span></dt><dd>wind_direction</dd><dt><span>standard_name :</span></dt><dd>wind_from_direction</dd><dt><span>units :</span></dt><dd>degrees_clockwise_from_north</dd><dt><span>ancillary_variables :</span></dt><dd>sfcWind_dir_qc, sfcWind_dir_eraqc</dd><dt><span>comment :</span></dt><dd>Wind direction is defined by the direction that the wind is coming from (i.e., a northerly wind originates in the north and blows towards the south).</dd></dl></div><div class='xr-var-data'><pre>array([[ 87.1,  76.2,  11.7, ..., 196. , 191. , 188. ]])</pre></div></li><li class='xr-var-item'><div class='xr-var-name'><span>pr_qc</span></div><div class='xr-var-dims'>(station, time)</div><div class='xr-var-dtype'>object</div><div class='xr-var-preview xr-preview'>&#x27;nan&#x27; &#x27;nan&#x27; &#x27;nan&#x27; ... &#x27;nan&#x27; &#x27;nan&#x27;</div><input id='attrs-2cc2cf2d-df27-4d93-a66a-be76510768ac' class='xr-var-attrs-in' type='checkbox' ><label for='attrs-2cc2cf2d-df27-4d93-a66a-be76510768ac' title='Show/Hide attributes'><svg class='icon xr-icon-file-text2'><use xlink:href='#icon-file-text2'></use></svg></label><input id='data-95efbb94-278a-4e23-8ea3-47e228c1e15c' class='xr-var-data-in' type='checkbox'><label for='data-95efbb94-278a-4e23-8ea3-47e228c1e15c' title='Show/Hide data repr'><svg class='icon xr-icon-database'><use xlink:href='#icon-database'></use></svg></label><div class='xr-var-attrs'><dl class='xr-attrs'><dt><span>flag_values :</span></dt><dd>M P Q R Y</dd><dt><span>flag_meanings :</span></dt><dd>See QA/QC csv for network.</dd></dl></div><div class='xr-var-data'><pre>array([[&#x27;nan&#x27;, &#x27;nan&#x27;, &#x27;nan&#x27;, ..., &#x27;nan&#x27;, &#x27;nan&#x27;, &#x27;nan&#x27;]], dtype=object)</pre></div></li><li class='xr-var-item'><div class='xr-var-name'><span>rsds_qc</span></div><div class='xr-var-dims'>(station, time)</div><div class='xr-var-dtype'>object</div><div class='xr-var-preview xr-preview'>&#x27;nan&#x27; &#x27;nan&#x27; &#x27;nan&#x27; ... &#x27;nan&#x27; &#x27;nan&#x27;</div><input id='attrs-ff5da37f-e7dc-4303-beee-f373e6ec0de0' class='xr-var-attrs-in' type='checkbox' ><label for='attrs-ff5da37f-e7dc-4303-beee-f373e6ec0de0' title='Show/Hide attributes'><svg class='icon xr-icon-file-text2'><use xlink:href='#icon-file-text2'></use></svg></label><input id='data-6ae10a53-d502-4321-a24f-9b55c768c5d4' class='xr-var-data-in' type='checkbox'><label for='data-6ae10a53-d502-4321-a24f-9b55c768c5d4' title='Show/Hide data repr'><svg class='icon xr-icon-database'><use xlink:href='#icon-database'></use></svg></label><div class='xr-var-attrs'><dl class='xr-attrs'><dt><span>flag_values :</span></dt><dd>M P R S Y</dd><dt><span>flag_meanings :</span></dt><dd>See QA/QC csv for network.</dd></dl></div><div class='xr-var-data'><pre>array([[&#x27;nan&#x27;, &#x27;nan&#x27;, &#x27;nan&#x27;, ..., &#x27;nan&#x27;, &#x27;nan&#x27;, &#x27;nan&#x27;]], dtype=object)</pre></div></li><li class='xr-var-item'><div class='xr-var-name'><span>pvp_derived_qc</span></div><div class='xr-var-dims'>(station, time)</div><div class='xr-var-dtype'>object</div><div class='xr-var-preview xr-preview'>&#x27;nan&#x27; &#x27;nan&#x27; &#x27;nan&#x27; ... &#x27;nan&#x27; &#x27;nan&#x27;</div><input id='attrs-c1ee8f67-d953-44d3-935b-08aff9d65aef' class='xr-var-attrs-in' type='checkbox' ><label for='attrs-c1ee8f67-d953-44d3-935b-08aff9d65aef' title='Show/Hide attributes'><svg class='icon xr-icon-file-text2'><use xlink:href='#icon-file-text2'></use></svg></label><input id='data-b07905dc-6c2b-4e2c-a686-44718a6d36e6' class='xr-var-data-in' type='checkbox'><label for='data-b07905dc-6c2b-4e2c-a686-44718a6d36e6' title='Show/Hide data repr'><svg class='icon xr-icon-database'><use xlink:href='#icon-database'></use></svg></label><div class='xr-var-attrs'><dl class='xr-attrs'><dt><span>flag_values :</span></dt><dd>M P Q R S Y</dd><dt><span>flag_meanings :</span></dt><dd>See QA/QC csv for network.</dd></dl></div><div class='xr-var-data'><pre>array([[&#x27;nan&#x27;, &#x27;nan&#x27;, &#x27;nan&#x27;, ..., &#x27;nan&#x27;, &#x27;nan&#x27;, &#x27;nan&#x27;]], dtype=object)</pre></div></li><li class='xr-var-item'><div class='xr-var-name'><span>tas_qc</span></div><div class='xr-var-dims'>(station, time)</div><div class='xr-var-dtype'>object</div><div class='xr-var-preview xr-preview'>&#x27;nan&#x27; &#x27;nan&#x27; &#x27;nan&#x27; ... &#x27;nan&#x27; &#x27;Y&#x27; &#x27;Y&#x27;</div><input id='attrs-fd71a675-239c-43de-bf7b-6430536e850d' class='xr-var-attrs-in' type='checkbox' ><label for='attrs-fd71a675-239c-43de-bf7b-6430536e850d' title='Show/Hide attributes'><svg class='icon xr-icon-file-text2'><use xlink:href='#icon-file-text2'></use></svg></label><input id='data-55763058-85af-40b0-a7e0-aaf9151f144c' class='xr-var-data-in' type='checkbox'><label for='data-55763058-85af-40b0-a7e0-aaf9151f144c' title='Show/Hide data repr'><svg class='icon xr-icon-database'><use xlink:href='#icon-database'></use></svg></label><div class='xr-var-attrs'><dl class='xr-attrs'><dt><span>flag_values :</span></dt><dd>M P R S Y</dd><dt><span>flag_meanings :</span></dt><dd>See QA/QC csv for network.</dd></dl></div><div class='xr-var-data'><pre>array([[&#x27;nan&#x27;, &#x27;nan&#x27;, &#x27;nan&#x27;, ..., &#x27;nan&#x27;, &#x27;Y&#x27;, &#x27;Y&#x27;]], dtype=object)</pre></div></li><li class='xr-var-item'><div class='xr-var-name'><span>hurs_qc</span></div><div class='xr-var-dims'>(station, time)</div><div class='xr-var-dtype'>object</div><div class='xr-var-preview xr-preview'>&#x27;nan&#x27; &#x27;nan&#x27; &#x27;nan&#x27; ... &#x27;nan&#x27; &#x27;Y&#x27; &#x27;Y&#x27;</div><input id='attrs-69d70e13-cd8d-49e5-98e3-3fe264a017ff' class='xr-var-attrs-in' type='checkbox' ><label for='attrs-69d70e13-cd8d-49e5-98e3-3fe264a017ff' title='Show/Hide attributes'><svg class='icon xr-icon-file-text2'><use xlink:href='#icon-file-text2'></use></svg></label><input id='data-ab52e9f9-8af6-4844-9430-5509c21197d1' class='xr-var-data-in' type='checkbox'><label for='data-ab52e9f9-8af6-4844-9430-5509c21197d1' title='Show/Hide data repr'><svg class='icon xr-icon-database'><use xlink:href='#icon-database'></use></svg></label><div class='xr-var-attrs'><dl class='xr-attrs'><dt><span>flag_values :</span></dt><dd>M Q R S Y</dd><dt><span>flag_meanings :</span></dt><dd>See QA/QC csv for network.</dd></dl></div><div class='xr-var-data'><pre>array([[&#x27;nan&#x27;, &#x27;nan&#x27;, &#x27;nan&#x27;, ..., &#x27;nan&#x27;, &#x27;Y&#x27;, &#x27;Y&#x27;]], dtype=object)</pre></div></li><li class='xr-var-item'><div class='xr-var-name'><span>tdps_derived_qc</span></div><div class='xr-var-dims'>(station, time)</div><div class='xr-var-dtype'>object</div><div class='xr-var-preview xr-preview'>&#x27;nan&#x27; &#x27;nan&#x27; &#x27;nan&#x27; ... &#x27;nan&#x27; &#x27;Y&#x27; &#x27;Y&#x27;</div><input id='attrs-52398221-319d-4d71-91a8-70b2be986450' class='xr-var-attrs-in' type='checkbox' ><label for='attrs-52398221-319d-4d71-91a8-70b2be986450' title='Show/Hide attributes'><svg class='icon xr-icon-file-text2'><use xlink:href='#icon-file-text2'></use></svg></label><input id='data-a0fb1785-59b9-48bb-a926-3c51e413f58a' class='xr-var-data-in' type='checkbox'><label for='data-a0fb1785-59b9-48bb-a926-3c51e413f58a' title='Show/Hide data repr'><svg class='icon xr-icon-database'><use xlink:href='#icon-database'></use></svg></label><div class='xr-var-attrs'><dl class='xr-attrs'><dt><span>flag_values :</span></dt><dd>M Q R S Y</dd><dt><span>flag_meanings :</span></dt><dd>See QA/QC csv for network.</dd></dl></div><div class='xr-var-data'><pre>array([[&#x27;nan&#x27;, &#x27;nan&#x27;, &#x27;nan&#x27;, ..., &#x27;nan&#x27;, &#x27;Y&#x27;, &#x27;Y&#x27;]], dtype=object)</pre></div></li><li class='xr-var-item'><div class='xr-var-name'><span>sfcWind_qc</span></div><div class='xr-var-dims'>(station, time)</div><div class='xr-var-dtype'>object</div><div class='xr-var-preview xr-preview'>&#x27;nan&#x27; &#x27;nan&#x27; &#x27;nan&#x27; ... &#x27;nan&#x27; &#x27;nan&#x27;</div><input id='attrs-da357ece-0f14-40d4-93b1-b113fb5ae600' class='xr-var-attrs-in' type='checkbox' ><label for='attrs-da357ece-0f14-40d4-93b1-b113fb5ae600' title='Show/Hide attributes'><svg class='icon xr-icon-file-text2'><use xlink:href='#icon-file-text2'></use></svg></label><input id='data-a56dbf06-de1e-4b80-a0dd-8cfe7e7d3303' class='xr-var-data-in' type='checkbox'><label for='data-a56dbf06-de1e-4b80-a0dd-8cfe7e7d3303' title='Show/Hide data repr'><svg class='icon xr-icon-database'><use xlink:href='#icon-database'></use></svg></label><div class='xr-var-attrs'><dl class='xr-attrs'><dt><span>flag_values :</span></dt><dd>I M P R S Y</dd><dt><span>flag_meanings :</span></dt><dd>See QA/QC csv for network.</dd></dl></div><div class='xr-var-data'><pre>array([[&#x27;nan&#x27;, &#x27;nan&#x27;, &#x27;nan&#x27;, ..., &#x27;nan&#x27;, &#x27;nan&#x27;, &#x27;nan&#x27;]], dtype=object)</pre></div></li><li class='xr-var-item'><div class='xr-var-name'><span>sfcWind_dir_qc</span></div><div class='xr-var-dims'>(station, time)</div><div class='xr-var-dtype'>object</div><div class='xr-var-preview xr-preview'>&#x27;nan&#x27; &#x27;nan&#x27; &#x27;nan&#x27; ... &#x27;nan&#x27; &#x27;nan&#x27;</div><input id='attrs-9cce2255-6039-4218-88b0-48d0de824f15' class='xr-var-attrs-in' type='checkbox' ><label for='attrs-9cce2255-6039-4218-88b0-48d0de824f15' title='Show/Hide attributes'><svg class='icon xr-icon-file-text2'><use xlink:href='#icon-file-text2'></use></svg></label><input id='data-58c3d3c8-ea05-4f2b-8007-6cd2e907275c' class='xr-var-data-in' type='checkbox'><label for='data-58c3d3c8-ea05-4f2b-8007-6cd2e907275c' title='Show/Hide data repr'><svg class='icon xr-icon-database'><use xlink:href='#icon-database'></use></svg></label><div class='xr-var-attrs'><dl class='xr-attrs'><dt><span>flag_values :</span></dt><dd>I M P Q R</dd><dt><span>flag_meanings :</span></dt><dd>See QA/QC csv for network.</dd></dl></div><div class='xr-var-data'><pre>array([[&#x27;nan&#x27;, &#x27;nan&#x27;, &#x27;nan&#x27;, ..., &#x27;nan&#x27;, &#x27;nan&#x27;, &#x27;nan&#x27;]], dtype=object)</pre></div></li><li class='xr-var-item'><div class='xr-var-name'><span>elevation</span></div><div class='xr-var-dims'>(station, time)</div><div class='xr-var-dtype'>float64</div><div class='xr-var-preview xr-preview'>125.0 125.0 125.0 ... 125.0 125.0</div><input id='attrs-aeff4d62-9347-43b0-9d6a-cefcd810e91c' class='xr-var-attrs-in' type='checkbox' ><label for='attrs-aeff4d62-9347-43b0-9d6a-cefcd810e91c' title='Show/Hide attributes'><svg class='icon xr-icon-file-text2'><use xlink:href='#icon-file-text2'></use></svg></label><input id='data-e05c1b6c-64b2-4dd4-98f8-bcc795923ba8' class='xr-var-data-in' type='checkbox'><label for='data-e05c1b6c-64b2-4dd4-98f8-bcc795923ba8' title='Show/Hide data repr'><svg class='icon xr-icon-database'><use xlink:href='#icon-database'></use></svg></label><div class='xr-var-attrs'><dl class='xr-attrs'><dt><span>standard_name :</span></dt><dd>height_above_mean_sea_level</dd><dt><span>long_name :</span></dt><dd>station_elevation</dd><dt><span>units :</span></dt><dd>meters</dd><dt><span>positive :</span></dt><dd>up</dd><dt><span>comment :</span></dt><dd>Converted from feet to meters.</dd><dt><span>ancillary_variables :</span></dt><dd>elevation_eraqc</dd></dl></div><div class='xr-var-data'><pre>array([[124.968, 124.968, 124.968, ..., 124.968, 124.968, 124.968]])</pre></div></li><li class='xr-var-item'><div class='xr-var-name'><span>tdps_derived</span></div><div class='xr-var-dims'>(station, time)</div><div class='xr-var-dtype'>float64</div><div class='xr-var-preview xr-preview'>256.9 255.1 254.0 ... 285.8 286.5</div><input id='attrs-4e0fd1d1-0c65-4301-af45-609f8529567e' class='xr-var-attrs-in' type='checkbox' ><label for='attrs-4e0fd1d1-0c65-4301-af45-609f8529567e' title='Show/Hide attributes'><svg class='icon xr-icon-file-text2'><use xlink:href='#icon-file-text2'></use></svg></label><input id='data-fa2a15af-fe8f-4b4b-9a86-1fdb1ade69ee' class='xr-var-data-in' type='checkbox'><label for='data-fa2a15af-fe8f-4b4b-9a86-1fdb1ade69ee' title='Show/Hide data repr'><svg class='icon xr-icon-database'><use xlink:href='#icon-database'></use></svg></label><div class='xr-var-attrs'><dl class='xr-attrs'><dt><span>long_name :</span></dt><dd>dew_point_temperature</dd><dt><span>standard_name :</span></dt><dd>dew_point_temperature</dd><dt><span>units :</span></dt><dd>degree_Kelvin</dd><dt><span>ancillary_variables :</span></dt><dd>tdps_derived_qc, tdps_derived_eraqc</dd><dt><span>comment :</span></dt><dd>Derived by CIMIS from vapor pressure and air temperature. Converted from Celsius to Kelvin.</dd></dl></div><div class='xr-var-data'><pre>array([[256.95, 255.15, 254.05, ..., 286.85, 285.75, 286.55]])</pre></div></li><li class='xr-var-item'><div class='xr-var-name'><span>pvp_derived</span></div><div class='xr-var-dims'>(station, time)</div><div class='xr-var-dtype'>float64</div><div class='xr-var-preview xr-preview'>200.0 100.0 ... 1.5e+03 1.5e+03</div><input id='attrs-5dc76fa4-dc0f-417c-afc7-df028ea87009' class='xr-var-attrs-in' type='checkbox' ><label for='attrs-5dc76fa4-dc0f-417c-afc7-df028ea87009' title='Show/Hide attributes'><svg class='icon xr-icon-file-text2'><use xlink:href='#icon-file-text2'></use></svg></label><input id='data-0709e61a-1855-4e90-a6c5-60d51d9fe3d2' class='xr-var-data-in' type='checkbox'><label for='data-0709e61a-1855-4e90-a6c5-60d51d9fe3d2' title='Show/Hide data repr'><svg class='icon xr-icon-database'><use xlink:href='#icon-database'></use></svg></label><div class='xr-var-attrs'><dl class='xr-attrs'><dt><span>long_name :</span></dt><dd>partial_vapor_pressure</dd><dt><span>standard_name :</span></dt><dd>water_vapor_partial_pressure_in_air</dd><dt><span>units :</span></dt><dd>Pa</dd><dt><span>ancillary_variables :</span></dt><dd>pvp_qc, pvp_derived_eraqc</dd><dt><span>comment :</span></dt><dd>Derived by CIMIS from relative humidity and air temperature measurements. Converted from kPa to Pa.</dd></dl></div><div class='xr-var-data'><pre>array([[ 200.,  100.,  100., ..., 1600., 1500., 1500.]])</pre></div></li><li class='xr-var-item'><div class='xr-var-name'><span>lat</span></div><div class='xr-var-dims'>(station, time)</div><div class='xr-var-dtype'>float64</div><div class='xr-var-preview xr-preview'>33.69 33.69 33.69 ... 33.69 33.69</div><input id='attrs-38f765c6-e0e3-425b-9b7e-e22fd63c5cd1' class='xr-var-attrs-in' type='checkbox' disabled><label for='attrs-38f765c6-e0e3-425b-9b7e-e22fd63c5cd1' title='Show/Hide attributes'><svg class='icon xr-icon-file-text2'><use xlink:href='#icon-file-text2'></use></svg></label><input id='data-7212ba5e-0d5d-4f50-a198-52ae7aaf2af2' class='xr-var-data-in' type='checkbox'><label for='data-7212ba5e-0d5d-4f50-a198-52ae7aaf2af2' title='Show/Hide data repr'><svg class='icon xr-icon-database'><use xlink:href='#icon-database'></use></svg></label><div class='xr-var-attrs'><dl class='xr-attrs'></dl></div><div class='xr-var-data'><pre>array([[33.68845, 33.68845, 33.68845, ..., 33.68845, 33.68845, 33.68845]])</pre></div></li><li class='xr-var-item'><div class='xr-var-name'><span>lon</span></div><div class='xr-var-dims'>(station, time)</div><div class='xr-var-dtype'>float64</div><div class='xr-var-preview xr-preview'>-117.7 -117.7 ... -117.7 -117.7</div><input id='attrs-cb4e447a-d7e2-4ee1-8b9f-628eb77e8563' class='xr-var-attrs-in' type='checkbox' disabled><label for='attrs-cb4e447a-d7e2-4ee1-8b9f-628eb77e8563' title='Show/Hide attributes'><svg class='icon xr-icon-file-text2'><use xlink:href='#icon-file-text2'></use></svg></label><input id='data-8105010f-f8dd-43de-975a-2dee99a3ffea' class='xr-var-data-in' type='checkbox'><label for='data-8105010f-f8dd-43de-975a-2dee99a3ffea' title='Show/Hide data repr'><svg class='icon xr-icon-database'><use xlink:href='#icon-database'></use></svg></label><div class='xr-var-attrs'><dl class='xr-attrs'></dl></div><div class='xr-var-data'><pre>array([[-117.72117778, -117.72117778, -117.72117778, ..., -117.72117778,\n",
       "        -117.72117778, -117.72117778]])</pre></div></li><li class='xr-var-item'><div class='xr-var-name'><span>tas_eraqc</span></div><div class='xr-var-dims'>(station, time)</div><div class='xr-var-dtype'>float64</div><div class='xr-var-preview xr-preview'>nan nan nan nan ... nan nan nan nan</div><input id='attrs-ced48c3a-730c-4046-b529-2743236c8207' class='xr-var-attrs-in' type='checkbox' disabled><label for='attrs-ced48c3a-730c-4046-b529-2743236c8207' title='Show/Hide attributes'><svg class='icon xr-icon-file-text2'><use xlink:href='#icon-file-text2'></use></svg></label><input id='data-8fe1cf0e-b9a0-4b66-9c0c-bfaa7803b8ee' class='xr-var-data-in' type='checkbox'><label for='data-8fe1cf0e-b9a0-4b66-9c0c-bfaa7803b8ee' title='Show/Hide data repr'><svg class='icon xr-icon-database'><use xlink:href='#icon-database'></use></svg></label><div class='xr-var-attrs'><dl class='xr-attrs'></dl></div><div class='xr-var-data'><pre>array([[nan, nan, nan, ..., nan, nan, nan]])</pre></div></li><li class='xr-var-item'><div class='xr-var-name'><span>pr_eraqc</span></div><div class='xr-var-dims'>(station, time)</div><div class='xr-var-dtype'>float64</div><div class='xr-var-preview xr-preview'>nan nan nan nan ... nan nan nan nan</div><input id='attrs-e0b7fced-c11c-45fc-a6ac-bbd1a6d7cbf3' class='xr-var-attrs-in' type='checkbox' disabled><label for='attrs-e0b7fced-c11c-45fc-a6ac-bbd1a6d7cbf3' title='Show/Hide attributes'><svg class='icon xr-icon-file-text2'><use xlink:href='#icon-file-text2'></use></svg></label><input id='data-c6a0f055-c515-4749-9dc7-25e9b472d34c' class='xr-var-data-in' type='checkbox'><label for='data-c6a0f055-c515-4749-9dc7-25e9b472d34c' title='Show/Hide data repr'><svg class='icon xr-icon-database'><use xlink:href='#icon-database'></use></svg></label><div class='xr-var-attrs'><dl class='xr-attrs'></dl></div><div class='xr-var-data'><pre>array([[nan, nan, nan, ..., nan, nan, nan]])</pre></div></li><li class='xr-var-item'><div class='xr-var-name'><span>hurs_eraqc</span></div><div class='xr-var-dims'>(station, time)</div><div class='xr-var-dtype'>float64</div><div class='xr-var-preview xr-preview'>nan nan nan nan ... nan nan nan nan</div><input id='attrs-7d6cb0cb-1ee7-48da-ae0c-8e7044090902' class='xr-var-attrs-in' type='checkbox' disabled><label for='attrs-7d6cb0cb-1ee7-48da-ae0c-8e7044090902' title='Show/Hide attributes'><svg class='icon xr-icon-file-text2'><use xlink:href='#icon-file-text2'></use></svg></label><input id='data-f595f7c3-8981-45c4-850f-effa73906832' class='xr-var-data-in' type='checkbox'><label for='data-f595f7c3-8981-45c4-850f-effa73906832' title='Show/Hide data repr'><svg class='icon xr-icon-database'><use xlink:href='#icon-database'></use></svg></label><div class='xr-var-attrs'><dl class='xr-attrs'></dl></div><div class='xr-var-data'><pre>array([[nan, nan, nan, ..., nan, nan, nan]])</pre></div></li><li class='xr-var-item'><div class='xr-var-name'><span>rsds_eraqc</span></div><div class='xr-var-dims'>(station, time)</div><div class='xr-var-dtype'>float64</div><div class='xr-var-preview xr-preview'>nan nan nan nan ... nan nan nan nan</div><input id='attrs-2d37cdb8-677f-48c5-ba09-2b78db46eed2' class='xr-var-attrs-in' type='checkbox' disabled><label for='attrs-2d37cdb8-677f-48c5-ba09-2b78db46eed2' title='Show/Hide attributes'><svg class='icon xr-icon-file-text2'><use xlink:href='#icon-file-text2'></use></svg></label><input id='data-67e12ea1-c97e-4ed6-9458-4789a9bf0755' class='xr-var-data-in' type='checkbox'><label for='data-67e12ea1-c97e-4ed6-9458-4789a9bf0755' title='Show/Hide data repr'><svg class='icon xr-icon-database'><use xlink:href='#icon-database'></use></svg></label><div class='xr-var-attrs'><dl class='xr-attrs'></dl></div><div class='xr-var-data'><pre>array([[nan, nan, nan, ..., nan, nan, nan]])</pre></div></li><li class='xr-var-item'><div class='xr-var-name'><span>sfcWind_eraqc</span></div><div class='xr-var-dims'>(station, time)</div><div class='xr-var-dtype'>float64</div><div class='xr-var-preview xr-preview'>nan nan nan nan ... nan nan nan nan</div><input id='attrs-2fc7fd14-cac0-4d27-92a5-41cb0af6419e' class='xr-var-attrs-in' type='checkbox' disabled><label for='attrs-2fc7fd14-cac0-4d27-92a5-41cb0af6419e' title='Show/Hide attributes'><svg class='icon xr-icon-file-text2'><use xlink:href='#icon-file-text2'></use></svg></label><input id='data-e04608fb-65d1-4198-9cdb-2fcae364aa2a' class='xr-var-data-in' type='checkbox'><label for='data-e04608fb-65d1-4198-9cdb-2fcae364aa2a' title='Show/Hide data repr'><svg class='icon xr-icon-database'><use xlink:href='#icon-database'></use></svg></label><div class='xr-var-attrs'><dl class='xr-attrs'></dl></div><div class='xr-var-data'><pre>array([[nan, nan, nan, ..., nan, nan, nan]])</pre></div></li><li class='xr-var-item'><div class='xr-var-name'><span>sfcWind_dir_eraqc</span></div><div class='xr-var-dims'>(station, time)</div><div class='xr-var-dtype'>float64</div><div class='xr-var-preview xr-preview'>nan nan nan nan ... nan nan nan nan</div><input id='attrs-eb2b6b9f-31d4-4390-a3e2-9d86d39760a2' class='xr-var-attrs-in' type='checkbox' disabled><label for='attrs-eb2b6b9f-31d4-4390-a3e2-9d86d39760a2' title='Show/Hide attributes'><svg class='icon xr-icon-file-text2'><use xlink:href='#icon-file-text2'></use></svg></label><input id='data-6b332aad-f452-4a05-a97e-8305d01c9818' class='xr-var-data-in' type='checkbox'><label for='data-6b332aad-f452-4a05-a97e-8305d01c9818' title='Show/Hide data repr'><svg class='icon xr-icon-database'><use xlink:href='#icon-database'></use></svg></label><div class='xr-var-attrs'><dl class='xr-attrs'></dl></div><div class='xr-var-data'><pre>array([[nan, nan, nan, ..., nan, nan, nan]])</pre></div></li><li class='xr-var-item'><div class='xr-var-name'><span>elevation_eraqc</span></div><div class='xr-var-dims'>(station, time)</div><div class='xr-var-dtype'>float64</div><div class='xr-var-preview xr-preview'>nan nan nan nan ... nan nan nan nan</div><input id='attrs-18f9e8fc-86d8-4c4a-be98-bc2b178c163d' class='xr-var-attrs-in' type='checkbox' disabled><label for='attrs-18f9e8fc-86d8-4c4a-be98-bc2b178c163d' title='Show/Hide attributes'><svg class='icon xr-icon-file-text2'><use xlink:href='#icon-file-text2'></use></svg></label><input id='data-eeb7a35f-fb01-4e2d-b6ea-00e992f859de' class='xr-var-data-in' type='checkbox'><label for='data-eeb7a35f-fb01-4e2d-b6ea-00e992f859de' title='Show/Hide data repr'><svg class='icon xr-icon-database'><use xlink:href='#icon-database'></use></svg></label><div class='xr-var-attrs'><dl class='xr-attrs'></dl></div><div class='xr-var-data'><pre>array([[nan, nan, nan, ..., nan, nan, nan]])</pre></div></li><li class='xr-var-item'><div class='xr-var-name'><span>tdps_derived_eraqc</span></div><div class='xr-var-dims'>(station, time)</div><div class='xr-var-dtype'>float64</div><div class='xr-var-preview xr-preview'>nan nan nan nan ... nan nan nan nan</div><input id='attrs-0a7d2f38-0754-411f-9b70-4a38e66f4091' class='xr-var-attrs-in' type='checkbox' disabled><label for='attrs-0a7d2f38-0754-411f-9b70-4a38e66f4091' title='Show/Hide attributes'><svg class='icon xr-icon-file-text2'><use xlink:href='#icon-file-text2'></use></svg></label><input id='data-6c7f1656-921f-4450-aeb8-9f6fb3b7bb52' class='xr-var-data-in' type='checkbox'><label for='data-6c7f1656-921f-4450-aeb8-9f6fb3b7bb52' title='Show/Hide data repr'><svg class='icon xr-icon-database'><use xlink:href='#icon-database'></use></svg></label><div class='xr-var-attrs'><dl class='xr-attrs'></dl></div><div class='xr-var-data'><pre>array([[nan, nan, nan, ..., nan, nan, nan]])</pre></div></li><li class='xr-var-item'><div class='xr-var-name'><span>pvp_derived_eraqc</span></div><div class='xr-var-dims'>(station, time)</div><div class='xr-var-dtype'>float64</div><div class='xr-var-preview xr-preview'>nan nan nan nan ... nan nan nan nan</div><input id='attrs-5fbaddd6-56ed-425b-aeab-be862585fa67' class='xr-var-attrs-in' type='checkbox' disabled><label for='attrs-5fbaddd6-56ed-425b-aeab-be862585fa67' title='Show/Hide attributes'><svg class='icon xr-icon-file-text2'><use xlink:href='#icon-file-text2'></use></svg></label><input id='data-56d51d6f-0ea4-4e6c-bd85-081c28d0357f' class='xr-var-data-in' type='checkbox'><label for='data-56d51d6f-0ea4-4e6c-bd85-081c28d0357f' title='Show/Hide data repr'><svg class='icon xr-icon-database'><use xlink:href='#icon-database'></use></svg></label><div class='xr-var-attrs'><dl class='xr-attrs'></dl></div><div class='xr-var-data'><pre>array([[nan, nan, nan, ..., nan, nan, nan]])</pre></div></li><li class='xr-var-item'><div class='xr-var-name'><span>anemometer_height_m</span></div><div class='xr-var-dims'>(station, time)</div><div class='xr-var-dtype'>float64</div><div class='xr-var-preview xr-preview'>2.0 2.0 2.0 2.0 ... 2.0 2.0 2.0 2.0</div><input id='attrs-03956268-432b-4630-801a-be0bf31d2473' class='xr-var-attrs-in' type='checkbox' disabled><label for='attrs-03956268-432b-4630-801a-be0bf31d2473' title='Show/Hide attributes'><svg class='icon xr-icon-file-text2'><use xlink:href='#icon-file-text2'></use></svg></label><input id='data-a96a5037-3315-4ed9-91ff-510b5c7fb933' class='xr-var-data-in' type='checkbox'><label for='data-a96a5037-3315-4ed9-91ff-510b5c7fb933' title='Show/Hide data repr'><svg class='icon xr-icon-database'><use xlink:href='#icon-database'></use></svg></label><div class='xr-var-attrs'><dl class='xr-attrs'></dl></div><div class='xr-var-data'><pre>array([[2., 2., 2., ..., 2., 2., 2.]])</pre></div></li><li class='xr-var-item'><div class='xr-var-name'><span>thermometer_height_m</span></div><div class='xr-var-dims'>(station, time)</div><div class='xr-var-dtype'>float64</div><div class='xr-var-preview xr-preview'>1.5 1.5 1.5 1.5 ... 1.5 1.5 1.5 1.5</div><input id='attrs-ed6766bf-360f-4311-8d7a-af4ac3342081' class='xr-var-attrs-in' type='checkbox' disabled><label for='attrs-ed6766bf-360f-4311-8d7a-af4ac3342081' title='Show/Hide attributes'><svg class='icon xr-icon-file-text2'><use xlink:href='#icon-file-text2'></use></svg></label><input id='data-09a559b3-f3bc-4eea-8cc0-b48c50c22a50' class='xr-var-data-in' type='checkbox'><label for='data-09a559b3-f3bc-4eea-8cc0-b48c50c22a50' title='Show/Hide data repr'><svg class='icon xr-icon-database'><use xlink:href='#icon-database'></use></svg></label><div class='xr-var-attrs'><dl class='xr-attrs'></dl></div><div class='xr-var-data'><pre>array([[1.5, 1.5, 1.5, ..., 1.5, 1.5, 1.5]])</pre></div></li></ul></div></li><li class='xr-section-item'><input id='section-446ada4e-7a6b-4469-b03a-e1ef87a68bc3' class='xr-section-summary-in' type='checkbox'  ><label for='section-446ada4e-7a6b-4469-b03a-e1ef87a68bc3' class='xr-section-summary' >Attributes: <span>(16)</span></label><div class='xr-section-inline-details'></div><div class='xr-section-details'><dl class='xr-attrs'><dt><span>title :</span></dt><dd>CIMIS quality controlled</dd><dt><span>institution :</span></dt><dd>Eagle Rock Analytics / Cal Adapt</dd><dt><span>source :</span></dt><dd></dd><dt><span>history :</span></dt><dd>CIMIS_clean.py script run on 02-13-2023, 22:25:54 UTC \n",
       "ALLNETWORKS_qaqc.py script run on 08-07-2024, 20:52:09 UTC</dd><dt><span>comment :</span></dt><dd>Intermediate data product: may not have been subject to any cleaning or QA/QC processing \n",
       "An intermediate data product: subject to cleaning but may not be subject to full QA/QC processing.</dd><dt><span>license :</span></dt><dd></dd><dt><span>citation :</span></dt><dd></dd><dt><span>disclaimer :</span></dt><dd>This document was prepared as a result of work sponsored by the California Energy Commission (PIR-19-006). It does not necessarily represent the views of the Energy Commission, its employees, or the State of California. Neither the Commission, the State of California, nor the Commission&#x27;s employees, contractors, or subcontractors makes any warranty, express or implied, or assumes any legal liability for the information in this document; nor does any party represent that the use of this information will not infringe upon privately owned rights. This document has not been approved or disapproved by the Commission, nor has the Commission passed upon the accuracy of the information in this document.</dd><dt><span>station_name :</span></dt><dd>Irvine</dd><dt><span>pyranometer_height_m :</span></dt><dd>2.0</dd><dt><span>wind_vane_height_m :</span></dt><dd>2.0</dd><dt><span>anemometer_height_m :</span></dt><dd>2.0</dd><dt><span>thermometer_height_m :</span></dt><dd>1.5</dd><dt><span>humidity_height_m :</span></dt><dd>1.5</dd><dt><span>rain_gauge_height_m :</span></dt><dd>1.0</dd><dt><span>raw_files_merged :</span></dt><dd>47</dd></dl></div></li></ul></div></div>"
      ],
      "text/plain": [
       "<xarray.Dataset>\n",
       "Dimensions:               (station: 1, time: 305943)\n",
       "Coordinates:\n",
       "  * station               (station) object 'CIMIS_75'\n",
       "  * time                  (time) datetime64[ns] 1987-10-07T09:00:00 ... 2022-...\n",
       "Data variables: (12/30)\n",
       "    tas                   (station, time) float64 290.8 290.8 ... 309.6 310.3\n",
       "    pr                    (station, time) float64 0.0 0.0 0.0 ... 0.0 0.0 0.0\n",
       "    hurs                  (station, time) float64 9.0 7.0 7.0 ... 27.0 24.0 24.0\n",
       "    rsds                  (station, time) float64 0.0 -1.0 -1.0 ... 803.0 678.0\n",
       "    sfcWind               (station, time) float64 0.8 0.7 1.0 ... 3.2 3.2 3.2\n",
       "    sfcWind_dir           (station, time) float64 87.1 76.2 11.7 ... 191.0 188.0\n",
       "    ...                    ...\n",
       "    sfcWind_dir_eraqc     (station, time) float64 nan nan nan ... nan nan nan\n",
       "    elevation_eraqc       (station, time) float64 nan nan nan ... nan nan nan\n",
       "    tdps_derived_eraqc    (station, time) float64 nan nan nan ... nan nan nan\n",
       "    pvp_derived_eraqc     (station, time) float64 nan nan nan ... nan nan nan\n",
       "    anemometer_height_m   (station, time) float64 2.0 2.0 2.0 ... 2.0 2.0 2.0\n",
       "    thermometer_height_m  (station, time) float64 1.5 1.5 1.5 ... 1.5 1.5 1.5\n",
       "Attributes: (12/16)\n",
       "    title:                 CIMIS quality controlled\n",
       "    institution:           Eagle Rock Analytics / Cal Adapt\n",
       "    source:                \n",
       "    history:               CIMIS_clean.py script run on 02-13-2023, 22:25:54 ...\n",
       "    comment:               Intermediate data product: may not have been subje...\n",
       "    license:               \n",
       "    ...                    ...\n",
       "    wind_vane_height_m:    2.0\n",
       "    anemometer_height_m:   2.0\n",
       "    thermometer_height_m:  1.5\n",
       "    humidity_height_m:     1.5\n",
       "    rain_gauge_height_m:   1.0\n",
       "    raw_files_merged:      47"
      ]
     },
     "execution_count": 20,
     "metadata": {},
     "output_type": "execute_result"
    }
   ],
   "source": [
    "%%time\n",
    "ds = download_nc_from_aws(specific_station)\n",
    "ds"
   ]
  },
  {
   "cell_type": "markdown",
   "id": "831acdbc-32ea-47f3-949d-c6c352336fad",
   "metadata": {},
   "source": [
    "#### Download the file to local folder with `save=True"
   ]
  },
  {
   "cell_type": "code",
   "execution_count": 21,
   "id": "1d1bb308-4b5e-4c13-bd2e-f65f8ae7c5af",
   "metadata": {
    "execution": {
     "iopub.execute_input": "2024-10-02T22:33:48.768848Z",
     "iopub.status.busy": "2024-10-02T22:33:48.768662Z",
     "iopub.status.idle": "2024-10-02T22:33:49.528443Z",
     "shell.execute_reply": "2024-10-02T22:33:49.528111Z",
     "shell.execute_reply.started": "2024-10-02T22:33:48.768838Z"
    }
   },
   "outputs": [
    {
     "name": "stdout",
     "output_type": "stream",
     "text": [
      "Retrieving data for station...\n"
     ]
    },
    {
     "data": {
      "text/html": [
       "<div><svg style=\"position: absolute; width: 0; height: 0; overflow: hidden\">\n",
       "<defs>\n",
       "<symbol id=\"icon-database\" viewBox=\"0 0 32 32\">\n",
       "<path d=\"M16 0c-8.837 0-16 2.239-16 5v4c0 2.761 7.163 5 16 5s16-2.239 16-5v-4c0-2.761-7.163-5-16-5z\"></path>\n",
       "<path d=\"M16 17c-8.837 0-16-2.239-16-5v6c0 2.761 7.163 5 16 5s16-2.239 16-5v-6c0 2.761-7.163 5-16 5z\"></path>\n",
       "<path d=\"M16 26c-8.837 0-16-2.239-16-5v6c0 2.761 7.163 5 16 5s16-2.239 16-5v-6c0 2.761-7.163 5-16 5z\"></path>\n",
       "</symbol>\n",
       "<symbol id=\"icon-file-text2\" viewBox=\"0 0 32 32\">\n",
       "<path d=\"M28.681 7.159c-0.694-0.947-1.662-2.053-2.724-3.116s-2.169-2.030-3.116-2.724c-1.612-1.182-2.393-1.319-2.841-1.319h-15.5c-1.378 0-2.5 1.121-2.5 2.5v27c0 1.378 1.122 2.5 2.5 2.5h23c1.378 0 2.5-1.122 2.5-2.5v-19.5c0-0.448-0.137-1.23-1.319-2.841zM24.543 5.457c0.959 0.959 1.712 1.825 2.268 2.543h-4.811v-4.811c0.718 0.556 1.584 1.309 2.543 2.268zM28 29.5c0 0.271-0.229 0.5-0.5 0.5h-23c-0.271 0-0.5-0.229-0.5-0.5v-27c0-0.271 0.229-0.5 0.5-0.5 0 0 15.499-0 15.5 0v7c0 0.552 0.448 1 1 1h7v19.5z\"></path>\n",
       "<path d=\"M23 26h-14c-0.552 0-1-0.448-1-1s0.448-1 1-1h14c0.552 0 1 0.448 1 1s-0.448 1-1 1z\"></path>\n",
       "<path d=\"M23 22h-14c-0.552 0-1-0.448-1-1s0.448-1 1-1h14c0.552 0 1 0.448 1 1s-0.448 1-1 1z\"></path>\n",
       "<path d=\"M23 18h-14c-0.552 0-1-0.448-1-1s0.448-1 1-1h14c0.552 0 1 0.448 1 1s-0.448 1-1 1z\"></path>\n",
       "</symbol>\n",
       "</defs>\n",
       "</svg>\n",
       "<style>/* CSS stylesheet for displaying xarray objects in jupyterlab.\n",
       " *\n",
       " */\n",
       "\n",
       ":root {\n",
       "  --xr-font-color0: var(--jp-content-font-color0, rgba(0, 0, 0, 1));\n",
       "  --xr-font-color2: var(--jp-content-font-color2, rgba(0, 0, 0, 0.54));\n",
       "  --xr-font-color3: var(--jp-content-font-color3, rgba(0, 0, 0, 0.38));\n",
       "  --xr-border-color: var(--jp-border-color2, #e0e0e0);\n",
       "  --xr-disabled-color: var(--jp-layout-color3, #bdbdbd);\n",
       "  --xr-background-color: var(--jp-layout-color0, white);\n",
       "  --xr-background-color-row-even: var(--jp-layout-color1, white);\n",
       "  --xr-background-color-row-odd: var(--jp-layout-color2, #eeeeee);\n",
       "}\n",
       "\n",
       "html[theme=dark],\n",
       "body.vscode-dark {\n",
       "  --xr-font-color0: rgba(255, 255, 255, 1);\n",
       "  --xr-font-color2: rgba(255, 255, 255, 0.54);\n",
       "  --xr-font-color3: rgba(255, 255, 255, 0.38);\n",
       "  --xr-border-color: #1F1F1F;\n",
       "  --xr-disabled-color: #515151;\n",
       "  --xr-background-color: #111111;\n",
       "  --xr-background-color-row-even: #111111;\n",
       "  --xr-background-color-row-odd: #313131;\n",
       "}\n",
       "\n",
       ".xr-wrap {\n",
       "  display: block !important;\n",
       "  min-width: 300px;\n",
       "  max-width: 700px;\n",
       "}\n",
       "\n",
       ".xr-text-repr-fallback {\n",
       "  /* fallback to plain text repr when CSS is not injected (untrusted notebook) */\n",
       "  display: none;\n",
       "}\n",
       "\n",
       ".xr-header {\n",
       "  padding-top: 6px;\n",
       "  padding-bottom: 6px;\n",
       "  margin-bottom: 4px;\n",
       "  border-bottom: solid 1px var(--xr-border-color);\n",
       "}\n",
       "\n",
       ".xr-header > div,\n",
       ".xr-header > ul {\n",
       "  display: inline;\n",
       "  margin-top: 0;\n",
       "  margin-bottom: 0;\n",
       "}\n",
       "\n",
       ".xr-obj-type,\n",
       ".xr-array-name {\n",
       "  margin-left: 2px;\n",
       "  margin-right: 10px;\n",
       "}\n",
       "\n",
       ".xr-obj-type {\n",
       "  color: var(--xr-font-color2);\n",
       "}\n",
       "\n",
       ".xr-sections {\n",
       "  padding-left: 0 !important;\n",
       "  display: grid;\n",
       "  grid-template-columns: 150px auto auto 1fr 20px 20px;\n",
       "}\n",
       "\n",
       ".xr-section-item {\n",
       "  display: contents;\n",
       "}\n",
       "\n",
       ".xr-section-item input {\n",
       "  display: none;\n",
       "}\n",
       "\n",
       ".xr-section-item input + label {\n",
       "  color: var(--xr-disabled-color);\n",
       "}\n",
       "\n",
       ".xr-section-item input:enabled + label {\n",
       "  cursor: pointer;\n",
       "  color: var(--xr-font-color2);\n",
       "}\n",
       "\n",
       ".xr-section-item input:enabled + label:hover {\n",
       "  color: var(--xr-font-color0);\n",
       "}\n",
       "\n",
       ".xr-section-summary {\n",
       "  grid-column: 1;\n",
       "  color: var(--xr-font-color2);\n",
       "  font-weight: 500;\n",
       "}\n",
       "\n",
       ".xr-section-summary > span {\n",
       "  display: inline-block;\n",
       "  padding-left: 0.5em;\n",
       "}\n",
       "\n",
       ".xr-section-summary-in:disabled + label {\n",
       "  color: var(--xr-font-color2);\n",
       "}\n",
       "\n",
       ".xr-section-summary-in + label:before {\n",
       "  display: inline-block;\n",
       "  content: '►';\n",
       "  font-size: 11px;\n",
       "  width: 15px;\n",
       "  text-align: center;\n",
       "}\n",
       "\n",
       ".xr-section-summary-in:disabled + label:before {\n",
       "  color: var(--xr-disabled-color);\n",
       "}\n",
       "\n",
       ".xr-section-summary-in:checked + label:before {\n",
       "  content: '▼';\n",
       "}\n",
       "\n",
       ".xr-section-summary-in:checked + label > span {\n",
       "  display: none;\n",
       "}\n",
       "\n",
       ".xr-section-summary,\n",
       ".xr-section-inline-details {\n",
       "  padding-top: 4px;\n",
       "  padding-bottom: 4px;\n",
       "}\n",
       "\n",
       ".xr-section-inline-details {\n",
       "  grid-column: 2 / -1;\n",
       "}\n",
       "\n",
       ".xr-section-details {\n",
       "  display: none;\n",
       "  grid-column: 1 / -1;\n",
       "  margin-bottom: 5px;\n",
       "}\n",
       "\n",
       ".xr-section-summary-in:checked ~ .xr-section-details {\n",
       "  display: contents;\n",
       "}\n",
       "\n",
       ".xr-array-wrap {\n",
       "  grid-column: 1 / -1;\n",
       "  display: grid;\n",
       "  grid-template-columns: 20px auto;\n",
       "}\n",
       "\n",
       ".xr-array-wrap > label {\n",
       "  grid-column: 1;\n",
       "  vertical-align: top;\n",
       "}\n",
       "\n",
       ".xr-preview {\n",
       "  color: var(--xr-font-color3);\n",
       "}\n",
       "\n",
       ".xr-array-preview,\n",
       ".xr-array-data {\n",
       "  padding: 0 5px !important;\n",
       "  grid-column: 2;\n",
       "}\n",
       "\n",
       ".xr-array-data,\n",
       ".xr-array-in:checked ~ .xr-array-preview {\n",
       "  display: none;\n",
       "}\n",
       "\n",
       ".xr-array-in:checked ~ .xr-array-data,\n",
       ".xr-array-preview {\n",
       "  display: inline-block;\n",
       "}\n",
       "\n",
       ".xr-dim-list {\n",
       "  display: inline-block !important;\n",
       "  list-style: none;\n",
       "  padding: 0 !important;\n",
       "  margin: 0;\n",
       "}\n",
       "\n",
       ".xr-dim-list li {\n",
       "  display: inline-block;\n",
       "  padding: 0;\n",
       "  margin: 0;\n",
       "}\n",
       "\n",
       ".xr-dim-list:before {\n",
       "  content: '(';\n",
       "}\n",
       "\n",
       ".xr-dim-list:after {\n",
       "  content: ')';\n",
       "}\n",
       "\n",
       ".xr-dim-list li:not(:last-child):after {\n",
       "  content: ',';\n",
       "  padding-right: 5px;\n",
       "}\n",
       "\n",
       ".xr-has-index {\n",
       "  font-weight: bold;\n",
       "}\n",
       "\n",
       ".xr-var-list,\n",
       ".xr-var-item {\n",
       "  display: contents;\n",
       "}\n",
       "\n",
       ".xr-var-item > div,\n",
       ".xr-var-item label,\n",
       ".xr-var-item > .xr-var-name span {\n",
       "  background-color: var(--xr-background-color-row-even);\n",
       "  margin-bottom: 0;\n",
       "}\n",
       "\n",
       ".xr-var-item > .xr-var-name:hover span {\n",
       "  padding-right: 5px;\n",
       "}\n",
       "\n",
       ".xr-var-list > li:nth-child(odd) > div,\n",
       ".xr-var-list > li:nth-child(odd) > label,\n",
       ".xr-var-list > li:nth-child(odd) > .xr-var-name span {\n",
       "  background-color: var(--xr-background-color-row-odd);\n",
       "}\n",
       "\n",
       ".xr-var-name {\n",
       "  grid-column: 1;\n",
       "}\n",
       "\n",
       ".xr-var-dims {\n",
       "  grid-column: 2;\n",
       "}\n",
       "\n",
       ".xr-var-dtype {\n",
       "  grid-column: 3;\n",
       "  text-align: right;\n",
       "  color: var(--xr-font-color2);\n",
       "}\n",
       "\n",
       ".xr-var-preview {\n",
       "  grid-column: 4;\n",
       "}\n",
       "\n",
       ".xr-var-name,\n",
       ".xr-var-dims,\n",
       ".xr-var-dtype,\n",
       ".xr-preview,\n",
       ".xr-attrs dt {\n",
       "  white-space: nowrap;\n",
       "  overflow: hidden;\n",
       "  text-overflow: ellipsis;\n",
       "  padding-right: 10px;\n",
       "}\n",
       "\n",
       ".xr-var-name:hover,\n",
       ".xr-var-dims:hover,\n",
       ".xr-var-dtype:hover,\n",
       ".xr-attrs dt:hover {\n",
       "  overflow: visible;\n",
       "  width: auto;\n",
       "  z-index: 1;\n",
       "}\n",
       "\n",
       ".xr-var-attrs,\n",
       ".xr-var-data {\n",
       "  display: none;\n",
       "  background-color: var(--xr-background-color) !important;\n",
       "  padding-bottom: 5px !important;\n",
       "}\n",
       "\n",
       ".xr-var-attrs-in:checked ~ .xr-var-attrs,\n",
       ".xr-var-data-in:checked ~ .xr-var-data {\n",
       "  display: block;\n",
       "}\n",
       "\n",
       ".xr-var-data > table {\n",
       "  float: right;\n",
       "}\n",
       "\n",
       ".xr-var-name span,\n",
       ".xr-var-data,\n",
       ".xr-attrs {\n",
       "  padding-left: 25px !important;\n",
       "}\n",
       "\n",
       ".xr-attrs,\n",
       ".xr-var-attrs,\n",
       ".xr-var-data {\n",
       "  grid-column: 1 / -1;\n",
       "}\n",
       "\n",
       "dl.xr-attrs {\n",
       "  padding: 0;\n",
       "  margin: 0;\n",
       "  display: grid;\n",
       "  grid-template-columns: 125px auto;\n",
       "}\n",
       "\n",
       ".xr-attrs dt,\n",
       ".xr-attrs dd {\n",
       "  padding: 0;\n",
       "  margin: 0;\n",
       "  float: left;\n",
       "  padding-right: 10px;\n",
       "  width: auto;\n",
       "}\n",
       "\n",
       ".xr-attrs dt {\n",
       "  font-weight: normal;\n",
       "  grid-column: 1;\n",
       "}\n",
       "\n",
       ".xr-attrs dt:hover span {\n",
       "  display: inline-block;\n",
       "  background: var(--xr-background-color);\n",
       "  padding-right: 10px;\n",
       "}\n",
       "\n",
       ".xr-attrs dd {\n",
       "  grid-column: 2;\n",
       "  white-space: pre-wrap;\n",
       "  word-break: break-all;\n",
       "}\n",
       "\n",
       ".xr-icon-database,\n",
       ".xr-icon-file-text2 {\n",
       "  display: inline-block;\n",
       "  vertical-align: middle;\n",
       "  width: 1em;\n",
       "  height: 1.5em !important;\n",
       "  stroke-width: 0;\n",
       "  stroke: currentColor;\n",
       "  fill: currentColor;\n",
       "}\n",
       "</style><pre class='xr-text-repr-fallback'>&lt;xarray.Dataset&gt;\n",
       "Dimensions:               (station: 1, time: 305943)\n",
       "Coordinates:\n",
       "  * station               (station) object &#x27;CIMIS_75&#x27;\n",
       "  * time                  (time) datetime64[ns] 1987-10-07T09:00:00 ... 2022-...\n",
       "Data variables: (12/30)\n",
       "    tas                   (station, time) float64 290.8 290.8 ... 309.6 310.3\n",
       "    pr                    (station, time) float64 0.0 0.0 0.0 ... 0.0 0.0 0.0\n",
       "    hurs                  (station, time) float64 9.0 7.0 7.0 ... 27.0 24.0 24.0\n",
       "    rsds                  (station, time) float64 0.0 -1.0 -1.0 ... 803.0 678.0\n",
       "    sfcWind               (station, time) float64 0.8 0.7 1.0 ... 3.2 3.2 3.2\n",
       "    sfcWind_dir           (station, time) float64 87.1 76.2 11.7 ... 191.0 188.0\n",
       "    ...                    ...\n",
       "    sfcWind_dir_eraqc     (station, time) float64 nan nan nan ... nan nan nan\n",
       "    elevation_eraqc       (station, time) float64 nan nan nan ... nan nan nan\n",
       "    tdps_derived_eraqc    (station, time) float64 nan nan nan ... nan nan nan\n",
       "    pvp_derived_eraqc     (station, time) float64 nan nan nan ... nan nan nan\n",
       "    anemometer_height_m   (station, time) float64 2.0 2.0 2.0 ... 2.0 2.0 2.0\n",
       "    thermometer_height_m  (station, time) float64 1.5 1.5 1.5 ... 1.5 1.5 1.5\n",
       "Attributes: (12/16)\n",
       "    title:                 CIMIS quality controlled\n",
       "    institution:           Eagle Rock Analytics / Cal Adapt\n",
       "    source:                \n",
       "    history:               CIMIS_clean.py script run on 02-13-2023, 22:25:54 ...\n",
       "    comment:               Intermediate data product: may not have been subje...\n",
       "    license:               \n",
       "    ...                    ...\n",
       "    wind_vane_height_m:    2.0\n",
       "    anemometer_height_m:   2.0\n",
       "    thermometer_height_m:  1.5\n",
       "    humidity_height_m:     1.5\n",
       "    rain_gauge_height_m:   1.0\n",
       "    raw_files_merged:      47</pre><div class='xr-wrap' style='display:none'><div class='xr-header'><div class='xr-obj-type'>xarray.Dataset</div></div><ul class='xr-sections'><li class='xr-section-item'><input id='section-e5f6f8c7-aeaa-44ff-8e39-43195f719550' class='xr-section-summary-in' type='checkbox' disabled ><label for='section-e5f6f8c7-aeaa-44ff-8e39-43195f719550' class='xr-section-summary'  title='Expand/collapse section'>Dimensions:</label><div class='xr-section-inline-details'><ul class='xr-dim-list'><li><span class='xr-has-index'>station</span>: 1</li><li><span class='xr-has-index'>time</span>: 305943</li></ul></div><div class='xr-section-details'></div></li><li class='xr-section-item'><input id='section-7c370d27-e8c1-46e2-9a56-3e3ad5cf309b' class='xr-section-summary-in' type='checkbox'  checked><label for='section-7c370d27-e8c1-46e2-9a56-3e3ad5cf309b' class='xr-section-summary' >Coordinates: <span>(2)</span></label><div class='xr-section-inline-details'></div><div class='xr-section-details'><ul class='xr-var-list'><li class='xr-var-item'><div class='xr-var-name'><span class='xr-has-index'>station</span></div><div class='xr-var-dims'>(station)</div><div class='xr-var-dtype'>object</div><div class='xr-var-preview xr-preview'>&#x27;CIMIS_75&#x27;</div><input id='attrs-6fd58092-110e-42e8-9b5c-f19e56ea6e5f' class='xr-var-attrs-in' type='checkbox' disabled><label for='attrs-6fd58092-110e-42e8-9b5c-f19e56ea6e5f' title='Show/Hide attributes'><svg class='icon xr-icon-file-text2'><use xlink:href='#icon-file-text2'></use></svg></label><input id='data-b58789c4-3f57-4b1f-bdd9-f79e20d5a018' class='xr-var-data-in' type='checkbox'><label for='data-b58789c4-3f57-4b1f-bdd9-f79e20d5a018' title='Show/Hide data repr'><svg class='icon xr-icon-database'><use xlink:href='#icon-database'></use></svg></label><div class='xr-var-attrs'><dl class='xr-attrs'></dl></div><div class='xr-var-data'><pre>array([&#x27;CIMIS_75&#x27;], dtype=object)</pre></div></li><li class='xr-var-item'><div class='xr-var-name'><span class='xr-has-index'>time</span></div><div class='xr-var-dims'>(time)</div><div class='xr-var-dtype'>datetime64[ns]</div><div class='xr-var-preview xr-preview'>1987-10-07T09:00:00 ... 2022-08-...</div><input id='attrs-d7ce69e7-65da-4308-97ea-96efc88fb94f' class='xr-var-attrs-in' type='checkbox' disabled><label for='attrs-d7ce69e7-65da-4308-97ea-96efc88fb94f' title='Show/Hide attributes'><svg class='icon xr-icon-file-text2'><use xlink:href='#icon-file-text2'></use></svg></label><input id='data-672cea6e-24f7-466d-904c-96ff7de32849' class='xr-var-data-in' type='checkbox'><label for='data-672cea6e-24f7-466d-904c-96ff7de32849' title='Show/Hide data repr'><svg class='icon xr-icon-database'><use xlink:href='#icon-database'></use></svg></label><div class='xr-var-attrs'><dl class='xr-attrs'></dl></div><div class='xr-var-data'><pre>array([&#x27;1987-10-07T09:00:00.000000000&#x27;, &#x27;1987-10-07T10:00:00.000000000&#x27;,\n",
       "       &#x27;1987-10-07T11:00:00.000000000&#x27;, ..., &#x27;2022-08-31T21:00:00.000000000&#x27;,\n",
       "       &#x27;2022-08-31T22:00:00.000000000&#x27;, &#x27;2022-08-31T23:00:00.000000000&#x27;],\n",
       "      dtype=&#x27;datetime64[ns]&#x27;)</pre></div></li></ul></div></li><li class='xr-section-item'><input id='section-e176fd9f-5d37-4ede-96aa-09d6e5f51b79' class='xr-section-summary-in' type='checkbox'  ><label for='section-e176fd9f-5d37-4ede-96aa-09d6e5f51b79' class='xr-section-summary' >Data variables: <span>(30)</span></label><div class='xr-section-inline-details'></div><div class='xr-section-details'><ul class='xr-var-list'><li class='xr-var-item'><div class='xr-var-name'><span>tas</span></div><div class='xr-var-dims'>(station, time)</div><div class='xr-var-dtype'>float64</div><div class='xr-var-preview xr-preview'>290.8 290.8 290.6 ... 309.6 310.3</div><input id='attrs-6777b14b-751b-4531-8034-dc0801956ab9' class='xr-var-attrs-in' type='checkbox' ><label for='attrs-6777b14b-751b-4531-8034-dc0801956ab9' title='Show/Hide attributes'><svg class='icon xr-icon-file-text2'><use xlink:href='#icon-file-text2'></use></svg></label><input id='data-054a2747-eaec-429e-84bb-46ba2edb23a8' class='xr-var-data-in' type='checkbox'><label for='data-054a2747-eaec-429e-84bb-46ba2edb23a8' title='Show/Hide data repr'><svg class='icon xr-icon-database'><use xlink:href='#icon-database'></use></svg></label><div class='xr-var-attrs'><dl class='xr-attrs'><dt><span>long_name :</span></dt><dd>air_temperature</dd><dt><span>standard_name :</span></dt><dd>air_temperature</dd><dt><span>units :</span></dt><dd>degree_Kelvin</dd><dt><span>ancillary_variables :</span></dt><dd>tas_qc, tas_eraqc</dd><dt><span>comment :</span></dt><dd>Converted from Celsius to Kelvin.</dd></dl></div><div class='xr-var-data'><pre>array([[290.75, 290.85, 290.65, ..., 308.45, 309.65, 310.35]])</pre></div></li><li class='xr-var-item'><div class='xr-var-name'><span>pr</span></div><div class='xr-var-dims'>(station, time)</div><div class='xr-var-dtype'>float64</div><div class='xr-var-preview xr-preview'>0.0 0.0 0.0 0.0 ... 0.0 0.0 0.0 0.0</div><input id='attrs-d46d7dba-a1dd-4f4d-bf22-c87c077e1e1d' class='xr-var-attrs-in' type='checkbox' ><label for='attrs-d46d7dba-a1dd-4f4d-bf22-c87c077e1e1d' title='Show/Hide attributes'><svg class='icon xr-icon-file-text2'><use xlink:href='#icon-file-text2'></use></svg></label><input id='data-20a87b1b-ea16-49b1-bb40-f082296e8af4' class='xr-var-data-in' type='checkbox'><label for='data-20a87b1b-ea16-49b1-bb40-f082296e8af4' title='Show/Hide data repr'><svg class='icon xr-icon-database'><use xlink:href='#icon-database'></use></svg></label><div class='xr-var-attrs'><dl class='xr-attrs'><dt><span>long_name :</span></dt><dd>precipitation_accumulation</dd><dt><span>units :</span></dt><dd>mm/hour</dd><dt><span>ancillary_variables :</span></dt><dd>pr_qc, pr_eraqc</dd><dt><span>comment :</span></dt><dd>Accumulated precipitation.</dd></dl></div><div class='xr-var-data'><pre>array([[0., 0., 0., ..., 0., 0., 0.]])</pre></div></li><li class='xr-var-item'><div class='xr-var-name'><span>hurs</span></div><div class='xr-var-dims'>(station, time)</div><div class='xr-var-dtype'>float64</div><div class='xr-var-preview xr-preview'>9.0 7.0 7.0 7.0 ... 27.0 24.0 24.0</div><input id='attrs-b6db7085-e32e-4171-8fa1-ca4d2ca723e4' class='xr-var-attrs-in' type='checkbox' ><label for='attrs-b6db7085-e32e-4171-8fa1-ca4d2ca723e4' title='Show/Hide attributes'><svg class='icon xr-icon-file-text2'><use xlink:href='#icon-file-text2'></use></svg></label><input id='data-25049fea-34ae-4f63-9270-dc38d29941f9' class='xr-var-data-in' type='checkbox'><label for='data-25049fea-34ae-4f63-9270-dc38d29941f9' title='Show/Hide data repr'><svg class='icon xr-icon-database'><use xlink:href='#icon-database'></use></svg></label><div class='xr-var-attrs'><dl class='xr-attrs'><dt><span>long_name :</span></dt><dd>relative_humidity</dd><dt><span>standard_name :</span></dt><dd>relative_humidity</dd><dt><span>units :</span></dt><dd>percent</dd><dt><span>ancillary_variables :</span></dt><dd>hurs_qc, hurs_eraqc</dd></dl></div><div class='xr-var-data'><pre>array([[ 9.,  7.,  7., ..., 27., 24., 24.]])</pre></div></li><li class='xr-var-item'><div class='xr-var-name'><span>rsds</span></div><div class='xr-var-dims'>(station, time)</div><div class='xr-var-dtype'>float64</div><div class='xr-var-preview xr-preview'>0.0 -1.0 -1.0 ... 874.0 803.0 678.0</div><input id='attrs-7e1fb027-1218-41f3-9b79-35c91b4f517e' class='xr-var-attrs-in' type='checkbox' ><label for='attrs-7e1fb027-1218-41f3-9b79-35c91b4f517e' title='Show/Hide attributes'><svg class='icon xr-icon-file-text2'><use xlink:href='#icon-file-text2'></use></svg></label><input id='data-3b6b6a76-967c-4637-8252-c356ebdb6347' class='xr-var-data-in' type='checkbox'><label for='data-3b6b6a76-967c-4637-8252-c356ebdb6347' title='Show/Hide data repr'><svg class='icon xr-icon-database'><use xlink:href='#icon-database'></use></svg></label><div class='xr-var-attrs'><dl class='xr-attrs'><dt><span>long_name :</span></dt><dd>solar_radiation</dd><dt><span>standard_name :</span></dt><dd>surface_downwelling_shortwave_flux_in_air</dd><dt><span>units :</span></dt><dd>W m-2</dd><dt><span>ancillary_variables :</span></dt><dd>rsds_qc, rsds_eraqc</dd></dl></div><div class='xr-var-data'><pre>array([[  0.,  -1.,  -1., ..., 874., 803., 678.]])</pre></div></li><li class='xr-var-item'><div class='xr-var-name'><span>sfcWind</span></div><div class='xr-var-dims'>(station, time)</div><div class='xr-var-dtype'>float64</div><div class='xr-var-preview xr-preview'>0.8 0.7 1.0 0.9 ... 3.2 3.2 3.2 3.2</div><input id='attrs-d80d4d70-abf9-49a2-87f1-4da03c633047' class='xr-var-attrs-in' type='checkbox' ><label for='attrs-d80d4d70-abf9-49a2-87f1-4da03c633047' title='Show/Hide attributes'><svg class='icon xr-icon-file-text2'><use xlink:href='#icon-file-text2'></use></svg></label><input id='data-3d9e4ce8-9588-4b6b-bafd-84590370e092' class='xr-var-data-in' type='checkbox'><label for='data-3d9e4ce8-9588-4b6b-bafd-84590370e092' title='Show/Hide data repr'><svg class='icon xr-icon-database'><use xlink:href='#icon-database'></use></svg></label><div class='xr-var-attrs'><dl class='xr-attrs'><dt><span>long_name :</span></dt><dd>wind_speed</dd><dt><span>standard_name :</span></dt><dd>wind_speed</dd><dt><span>units :</span></dt><dd>m s-1</dd><dt><span>ancillary_variables :</span></dt><dd>sfcWind_qc, sfcWind_eraqc</dd></dl></div><div class='xr-var-data'><pre>array([[0.8, 0.7, 1. , ..., 3.2, 3.2, 3.2]])</pre></div></li><li class='xr-var-item'><div class='xr-var-name'><span>sfcWind_dir</span></div><div class='xr-var-dims'>(station, time)</div><div class='xr-var-dtype'>float64</div><div class='xr-var-preview xr-preview'>87.1 76.2 11.7 ... 191.0 188.0</div><input id='attrs-bd533f17-0c21-442c-a5b0-3b8718c677c9' class='xr-var-attrs-in' type='checkbox' ><label for='attrs-bd533f17-0c21-442c-a5b0-3b8718c677c9' title='Show/Hide attributes'><svg class='icon xr-icon-file-text2'><use xlink:href='#icon-file-text2'></use></svg></label><input id='data-1da85601-fe94-4271-9dfc-9ee504907c81' class='xr-var-data-in' type='checkbox'><label for='data-1da85601-fe94-4271-9dfc-9ee504907c81' title='Show/Hide data repr'><svg class='icon xr-icon-database'><use xlink:href='#icon-database'></use></svg></label><div class='xr-var-attrs'><dl class='xr-attrs'><dt><span>long_name :</span></dt><dd>wind_direction</dd><dt><span>standard_name :</span></dt><dd>wind_from_direction</dd><dt><span>units :</span></dt><dd>degrees_clockwise_from_north</dd><dt><span>ancillary_variables :</span></dt><dd>sfcWind_dir_qc, sfcWind_dir_eraqc</dd><dt><span>comment :</span></dt><dd>Wind direction is defined by the direction that the wind is coming from (i.e., a northerly wind originates in the north and blows towards the south).</dd></dl></div><div class='xr-var-data'><pre>array([[ 87.1,  76.2,  11.7, ..., 196. , 191. , 188. ]])</pre></div></li><li class='xr-var-item'><div class='xr-var-name'><span>pr_qc</span></div><div class='xr-var-dims'>(station, time)</div><div class='xr-var-dtype'>object</div><div class='xr-var-preview xr-preview'>&#x27;nan&#x27; &#x27;nan&#x27; &#x27;nan&#x27; ... &#x27;nan&#x27; &#x27;nan&#x27;</div><input id='attrs-887675c4-98ae-4683-8bba-b8149a34a147' class='xr-var-attrs-in' type='checkbox' ><label for='attrs-887675c4-98ae-4683-8bba-b8149a34a147' title='Show/Hide attributes'><svg class='icon xr-icon-file-text2'><use xlink:href='#icon-file-text2'></use></svg></label><input id='data-87eac9e5-422d-493e-ab7e-08c2923ede55' class='xr-var-data-in' type='checkbox'><label for='data-87eac9e5-422d-493e-ab7e-08c2923ede55' title='Show/Hide data repr'><svg class='icon xr-icon-database'><use xlink:href='#icon-database'></use></svg></label><div class='xr-var-attrs'><dl class='xr-attrs'><dt><span>flag_values :</span></dt><dd>M P Q R Y</dd><dt><span>flag_meanings :</span></dt><dd>See QA/QC csv for network.</dd></dl></div><div class='xr-var-data'><pre>array([[&#x27;nan&#x27;, &#x27;nan&#x27;, &#x27;nan&#x27;, ..., &#x27;nan&#x27;, &#x27;nan&#x27;, &#x27;nan&#x27;]], dtype=object)</pre></div></li><li class='xr-var-item'><div class='xr-var-name'><span>rsds_qc</span></div><div class='xr-var-dims'>(station, time)</div><div class='xr-var-dtype'>object</div><div class='xr-var-preview xr-preview'>&#x27;nan&#x27; &#x27;nan&#x27; &#x27;nan&#x27; ... &#x27;nan&#x27; &#x27;nan&#x27;</div><input id='attrs-7add179a-4148-4548-b190-049032698046' class='xr-var-attrs-in' type='checkbox' ><label for='attrs-7add179a-4148-4548-b190-049032698046' title='Show/Hide attributes'><svg class='icon xr-icon-file-text2'><use xlink:href='#icon-file-text2'></use></svg></label><input id='data-9600212b-b903-436e-b6b0-933156825f7c' class='xr-var-data-in' type='checkbox'><label for='data-9600212b-b903-436e-b6b0-933156825f7c' title='Show/Hide data repr'><svg class='icon xr-icon-database'><use xlink:href='#icon-database'></use></svg></label><div class='xr-var-attrs'><dl class='xr-attrs'><dt><span>flag_values :</span></dt><dd>M P R S Y</dd><dt><span>flag_meanings :</span></dt><dd>See QA/QC csv for network.</dd></dl></div><div class='xr-var-data'><pre>array([[&#x27;nan&#x27;, &#x27;nan&#x27;, &#x27;nan&#x27;, ..., &#x27;nan&#x27;, &#x27;nan&#x27;, &#x27;nan&#x27;]], dtype=object)</pre></div></li><li class='xr-var-item'><div class='xr-var-name'><span>pvp_derived_qc</span></div><div class='xr-var-dims'>(station, time)</div><div class='xr-var-dtype'>object</div><div class='xr-var-preview xr-preview'>&#x27;nan&#x27; &#x27;nan&#x27; &#x27;nan&#x27; ... &#x27;nan&#x27; &#x27;nan&#x27;</div><input id='attrs-65776cc2-0900-4aeb-a11f-37b508ad4b57' class='xr-var-attrs-in' type='checkbox' ><label for='attrs-65776cc2-0900-4aeb-a11f-37b508ad4b57' title='Show/Hide attributes'><svg class='icon xr-icon-file-text2'><use xlink:href='#icon-file-text2'></use></svg></label><input id='data-3e5fc088-8227-4cac-90a1-9c16e0499b86' class='xr-var-data-in' type='checkbox'><label for='data-3e5fc088-8227-4cac-90a1-9c16e0499b86' title='Show/Hide data repr'><svg class='icon xr-icon-database'><use xlink:href='#icon-database'></use></svg></label><div class='xr-var-attrs'><dl class='xr-attrs'><dt><span>flag_values :</span></dt><dd>M P Q R S Y</dd><dt><span>flag_meanings :</span></dt><dd>See QA/QC csv for network.</dd></dl></div><div class='xr-var-data'><pre>array([[&#x27;nan&#x27;, &#x27;nan&#x27;, &#x27;nan&#x27;, ..., &#x27;nan&#x27;, &#x27;nan&#x27;, &#x27;nan&#x27;]], dtype=object)</pre></div></li><li class='xr-var-item'><div class='xr-var-name'><span>tas_qc</span></div><div class='xr-var-dims'>(station, time)</div><div class='xr-var-dtype'>object</div><div class='xr-var-preview xr-preview'>&#x27;nan&#x27; &#x27;nan&#x27; &#x27;nan&#x27; ... &#x27;nan&#x27; &#x27;Y&#x27; &#x27;Y&#x27;</div><input id='attrs-032fbd15-1367-4739-be5a-c1b92822c929' class='xr-var-attrs-in' type='checkbox' ><label for='attrs-032fbd15-1367-4739-be5a-c1b92822c929' title='Show/Hide attributes'><svg class='icon xr-icon-file-text2'><use xlink:href='#icon-file-text2'></use></svg></label><input id='data-286beb83-b517-4aa7-803b-c33aa1e5b10b' class='xr-var-data-in' type='checkbox'><label for='data-286beb83-b517-4aa7-803b-c33aa1e5b10b' title='Show/Hide data repr'><svg class='icon xr-icon-database'><use xlink:href='#icon-database'></use></svg></label><div class='xr-var-attrs'><dl class='xr-attrs'><dt><span>flag_values :</span></dt><dd>M P R S Y</dd><dt><span>flag_meanings :</span></dt><dd>See QA/QC csv for network.</dd></dl></div><div class='xr-var-data'><pre>array([[&#x27;nan&#x27;, &#x27;nan&#x27;, &#x27;nan&#x27;, ..., &#x27;nan&#x27;, &#x27;Y&#x27;, &#x27;Y&#x27;]], dtype=object)</pre></div></li><li class='xr-var-item'><div class='xr-var-name'><span>hurs_qc</span></div><div class='xr-var-dims'>(station, time)</div><div class='xr-var-dtype'>object</div><div class='xr-var-preview xr-preview'>&#x27;nan&#x27; &#x27;nan&#x27; &#x27;nan&#x27; ... &#x27;nan&#x27; &#x27;Y&#x27; &#x27;Y&#x27;</div><input id='attrs-b573951a-6cbe-44ed-b955-07938fcfd936' class='xr-var-attrs-in' type='checkbox' ><label for='attrs-b573951a-6cbe-44ed-b955-07938fcfd936' title='Show/Hide attributes'><svg class='icon xr-icon-file-text2'><use xlink:href='#icon-file-text2'></use></svg></label><input id='data-ad192118-b92b-46e0-a766-cc1aad9a5d93' class='xr-var-data-in' type='checkbox'><label for='data-ad192118-b92b-46e0-a766-cc1aad9a5d93' title='Show/Hide data repr'><svg class='icon xr-icon-database'><use xlink:href='#icon-database'></use></svg></label><div class='xr-var-attrs'><dl class='xr-attrs'><dt><span>flag_values :</span></dt><dd>M Q R S Y</dd><dt><span>flag_meanings :</span></dt><dd>See QA/QC csv for network.</dd></dl></div><div class='xr-var-data'><pre>array([[&#x27;nan&#x27;, &#x27;nan&#x27;, &#x27;nan&#x27;, ..., &#x27;nan&#x27;, &#x27;Y&#x27;, &#x27;Y&#x27;]], dtype=object)</pre></div></li><li class='xr-var-item'><div class='xr-var-name'><span>tdps_derived_qc</span></div><div class='xr-var-dims'>(station, time)</div><div class='xr-var-dtype'>object</div><div class='xr-var-preview xr-preview'>&#x27;nan&#x27; &#x27;nan&#x27; &#x27;nan&#x27; ... &#x27;nan&#x27; &#x27;Y&#x27; &#x27;Y&#x27;</div><input id='attrs-f05d28a4-3932-46ae-ac91-20aef64850da' class='xr-var-attrs-in' type='checkbox' ><label for='attrs-f05d28a4-3932-46ae-ac91-20aef64850da' title='Show/Hide attributes'><svg class='icon xr-icon-file-text2'><use xlink:href='#icon-file-text2'></use></svg></label><input id='data-613afaec-a3a8-4fa4-84bd-d3fceebb73fd' class='xr-var-data-in' type='checkbox'><label for='data-613afaec-a3a8-4fa4-84bd-d3fceebb73fd' title='Show/Hide data repr'><svg class='icon xr-icon-database'><use xlink:href='#icon-database'></use></svg></label><div class='xr-var-attrs'><dl class='xr-attrs'><dt><span>flag_values :</span></dt><dd>M Q R S Y</dd><dt><span>flag_meanings :</span></dt><dd>See QA/QC csv for network.</dd></dl></div><div class='xr-var-data'><pre>array([[&#x27;nan&#x27;, &#x27;nan&#x27;, &#x27;nan&#x27;, ..., &#x27;nan&#x27;, &#x27;Y&#x27;, &#x27;Y&#x27;]], dtype=object)</pre></div></li><li class='xr-var-item'><div class='xr-var-name'><span>sfcWind_qc</span></div><div class='xr-var-dims'>(station, time)</div><div class='xr-var-dtype'>object</div><div class='xr-var-preview xr-preview'>&#x27;nan&#x27; &#x27;nan&#x27; &#x27;nan&#x27; ... &#x27;nan&#x27; &#x27;nan&#x27;</div><input id='attrs-a86e2a12-b129-4e8d-b226-2636328aee06' class='xr-var-attrs-in' type='checkbox' ><label for='attrs-a86e2a12-b129-4e8d-b226-2636328aee06' title='Show/Hide attributes'><svg class='icon xr-icon-file-text2'><use xlink:href='#icon-file-text2'></use></svg></label><input id='data-8dc3af98-b474-4e13-8231-59fb6e987c76' class='xr-var-data-in' type='checkbox'><label for='data-8dc3af98-b474-4e13-8231-59fb6e987c76' title='Show/Hide data repr'><svg class='icon xr-icon-database'><use xlink:href='#icon-database'></use></svg></label><div class='xr-var-attrs'><dl class='xr-attrs'><dt><span>flag_values :</span></dt><dd>I M P R S Y</dd><dt><span>flag_meanings :</span></dt><dd>See QA/QC csv for network.</dd></dl></div><div class='xr-var-data'><pre>array([[&#x27;nan&#x27;, &#x27;nan&#x27;, &#x27;nan&#x27;, ..., &#x27;nan&#x27;, &#x27;nan&#x27;, &#x27;nan&#x27;]], dtype=object)</pre></div></li><li class='xr-var-item'><div class='xr-var-name'><span>sfcWind_dir_qc</span></div><div class='xr-var-dims'>(station, time)</div><div class='xr-var-dtype'>object</div><div class='xr-var-preview xr-preview'>&#x27;nan&#x27; &#x27;nan&#x27; &#x27;nan&#x27; ... &#x27;nan&#x27; &#x27;nan&#x27;</div><input id='attrs-2cf1fc7f-a596-4d0e-9dd8-ff243ca45272' class='xr-var-attrs-in' type='checkbox' ><label for='attrs-2cf1fc7f-a596-4d0e-9dd8-ff243ca45272' title='Show/Hide attributes'><svg class='icon xr-icon-file-text2'><use xlink:href='#icon-file-text2'></use></svg></label><input id='data-aa98a09f-a4d8-4306-9cbb-4b6a3bd910db' class='xr-var-data-in' type='checkbox'><label for='data-aa98a09f-a4d8-4306-9cbb-4b6a3bd910db' title='Show/Hide data repr'><svg class='icon xr-icon-database'><use xlink:href='#icon-database'></use></svg></label><div class='xr-var-attrs'><dl class='xr-attrs'><dt><span>flag_values :</span></dt><dd>I M P Q R</dd><dt><span>flag_meanings :</span></dt><dd>See QA/QC csv for network.</dd></dl></div><div class='xr-var-data'><pre>array([[&#x27;nan&#x27;, &#x27;nan&#x27;, &#x27;nan&#x27;, ..., &#x27;nan&#x27;, &#x27;nan&#x27;, &#x27;nan&#x27;]], dtype=object)</pre></div></li><li class='xr-var-item'><div class='xr-var-name'><span>elevation</span></div><div class='xr-var-dims'>(station, time)</div><div class='xr-var-dtype'>float64</div><div class='xr-var-preview xr-preview'>125.0 125.0 125.0 ... 125.0 125.0</div><input id='attrs-7fdb5ac3-b17a-4677-be80-94c0e57aef56' class='xr-var-attrs-in' type='checkbox' ><label for='attrs-7fdb5ac3-b17a-4677-be80-94c0e57aef56' title='Show/Hide attributes'><svg class='icon xr-icon-file-text2'><use xlink:href='#icon-file-text2'></use></svg></label><input id='data-5206cc97-d2a6-43bc-93b6-b229e957cd68' class='xr-var-data-in' type='checkbox'><label for='data-5206cc97-d2a6-43bc-93b6-b229e957cd68' title='Show/Hide data repr'><svg class='icon xr-icon-database'><use xlink:href='#icon-database'></use></svg></label><div class='xr-var-attrs'><dl class='xr-attrs'><dt><span>standard_name :</span></dt><dd>height_above_mean_sea_level</dd><dt><span>long_name :</span></dt><dd>station_elevation</dd><dt><span>units :</span></dt><dd>meters</dd><dt><span>positive :</span></dt><dd>up</dd><dt><span>comment :</span></dt><dd>Converted from feet to meters.</dd><dt><span>ancillary_variables :</span></dt><dd>elevation_eraqc</dd></dl></div><div class='xr-var-data'><pre>array([[124.968, 124.968, 124.968, ..., 124.968, 124.968, 124.968]])</pre></div></li><li class='xr-var-item'><div class='xr-var-name'><span>tdps_derived</span></div><div class='xr-var-dims'>(station, time)</div><div class='xr-var-dtype'>float64</div><div class='xr-var-preview xr-preview'>256.9 255.1 254.0 ... 285.8 286.5</div><input id='attrs-6fd06748-3611-4f06-b8f0-4fdb1f7771f6' class='xr-var-attrs-in' type='checkbox' ><label for='attrs-6fd06748-3611-4f06-b8f0-4fdb1f7771f6' title='Show/Hide attributes'><svg class='icon xr-icon-file-text2'><use xlink:href='#icon-file-text2'></use></svg></label><input id='data-fdeacfce-009c-4175-827a-73e67a1de494' class='xr-var-data-in' type='checkbox'><label for='data-fdeacfce-009c-4175-827a-73e67a1de494' title='Show/Hide data repr'><svg class='icon xr-icon-database'><use xlink:href='#icon-database'></use></svg></label><div class='xr-var-attrs'><dl class='xr-attrs'><dt><span>long_name :</span></dt><dd>dew_point_temperature</dd><dt><span>standard_name :</span></dt><dd>dew_point_temperature</dd><dt><span>units :</span></dt><dd>degree_Kelvin</dd><dt><span>ancillary_variables :</span></dt><dd>tdps_derived_qc, tdps_derived_eraqc</dd><dt><span>comment :</span></dt><dd>Derived by CIMIS from vapor pressure and air temperature. Converted from Celsius to Kelvin.</dd></dl></div><div class='xr-var-data'><pre>array([[256.95, 255.15, 254.05, ..., 286.85, 285.75, 286.55]])</pre></div></li><li class='xr-var-item'><div class='xr-var-name'><span>pvp_derived</span></div><div class='xr-var-dims'>(station, time)</div><div class='xr-var-dtype'>float64</div><div class='xr-var-preview xr-preview'>200.0 100.0 ... 1.5e+03 1.5e+03</div><input id='attrs-db5f2018-191b-4ec0-bcb2-25eea0db8385' class='xr-var-attrs-in' type='checkbox' ><label for='attrs-db5f2018-191b-4ec0-bcb2-25eea0db8385' title='Show/Hide attributes'><svg class='icon xr-icon-file-text2'><use xlink:href='#icon-file-text2'></use></svg></label><input id='data-907db06a-63f7-4d0a-80b6-604ff20d9acd' class='xr-var-data-in' type='checkbox'><label for='data-907db06a-63f7-4d0a-80b6-604ff20d9acd' title='Show/Hide data repr'><svg class='icon xr-icon-database'><use xlink:href='#icon-database'></use></svg></label><div class='xr-var-attrs'><dl class='xr-attrs'><dt><span>long_name :</span></dt><dd>partial_vapor_pressure</dd><dt><span>standard_name :</span></dt><dd>water_vapor_partial_pressure_in_air</dd><dt><span>units :</span></dt><dd>Pa</dd><dt><span>ancillary_variables :</span></dt><dd>pvp_qc, pvp_derived_eraqc</dd><dt><span>comment :</span></dt><dd>Derived by CIMIS from relative humidity and air temperature measurements. Converted from kPa to Pa.</dd></dl></div><div class='xr-var-data'><pre>array([[ 200.,  100.,  100., ..., 1600., 1500., 1500.]])</pre></div></li><li class='xr-var-item'><div class='xr-var-name'><span>lat</span></div><div class='xr-var-dims'>(station, time)</div><div class='xr-var-dtype'>float64</div><div class='xr-var-preview xr-preview'>33.69 33.69 33.69 ... 33.69 33.69</div><input id='attrs-f340f3c0-7bd5-454c-bee4-1ba19bbc4cfc' class='xr-var-attrs-in' type='checkbox' disabled><label for='attrs-f340f3c0-7bd5-454c-bee4-1ba19bbc4cfc' title='Show/Hide attributes'><svg class='icon xr-icon-file-text2'><use xlink:href='#icon-file-text2'></use></svg></label><input id='data-2330f156-b8d7-4ec9-af8c-d63a918903d3' class='xr-var-data-in' type='checkbox'><label for='data-2330f156-b8d7-4ec9-af8c-d63a918903d3' title='Show/Hide data repr'><svg class='icon xr-icon-database'><use xlink:href='#icon-database'></use></svg></label><div class='xr-var-attrs'><dl class='xr-attrs'></dl></div><div class='xr-var-data'><pre>array([[33.68845, 33.68845, 33.68845, ..., 33.68845, 33.68845, 33.68845]])</pre></div></li><li class='xr-var-item'><div class='xr-var-name'><span>lon</span></div><div class='xr-var-dims'>(station, time)</div><div class='xr-var-dtype'>float64</div><div class='xr-var-preview xr-preview'>-117.7 -117.7 ... -117.7 -117.7</div><input id='attrs-64a68ae2-5aad-49c9-b07a-c79e3e6ffa0d' class='xr-var-attrs-in' type='checkbox' disabled><label for='attrs-64a68ae2-5aad-49c9-b07a-c79e3e6ffa0d' title='Show/Hide attributes'><svg class='icon xr-icon-file-text2'><use xlink:href='#icon-file-text2'></use></svg></label><input id='data-3159b5d4-8385-4aef-ab54-1f83dcbb90b3' class='xr-var-data-in' type='checkbox'><label for='data-3159b5d4-8385-4aef-ab54-1f83dcbb90b3' title='Show/Hide data repr'><svg class='icon xr-icon-database'><use xlink:href='#icon-database'></use></svg></label><div class='xr-var-attrs'><dl class='xr-attrs'></dl></div><div class='xr-var-data'><pre>array([[-117.72117778, -117.72117778, -117.72117778, ..., -117.72117778,\n",
       "        -117.72117778, -117.72117778]])</pre></div></li><li class='xr-var-item'><div class='xr-var-name'><span>tas_eraqc</span></div><div class='xr-var-dims'>(station, time)</div><div class='xr-var-dtype'>float64</div><div class='xr-var-preview xr-preview'>nan nan nan nan ... nan nan nan nan</div><input id='attrs-50bb94d8-7680-40c9-9e96-d873003464af' class='xr-var-attrs-in' type='checkbox' disabled><label for='attrs-50bb94d8-7680-40c9-9e96-d873003464af' title='Show/Hide attributes'><svg class='icon xr-icon-file-text2'><use xlink:href='#icon-file-text2'></use></svg></label><input id='data-aa4e5e95-df28-4fb8-8824-37e72e047637' class='xr-var-data-in' type='checkbox'><label for='data-aa4e5e95-df28-4fb8-8824-37e72e047637' title='Show/Hide data repr'><svg class='icon xr-icon-database'><use xlink:href='#icon-database'></use></svg></label><div class='xr-var-attrs'><dl class='xr-attrs'></dl></div><div class='xr-var-data'><pre>array([[nan, nan, nan, ..., nan, nan, nan]])</pre></div></li><li class='xr-var-item'><div class='xr-var-name'><span>pr_eraqc</span></div><div class='xr-var-dims'>(station, time)</div><div class='xr-var-dtype'>float64</div><div class='xr-var-preview xr-preview'>nan nan nan nan ... nan nan nan nan</div><input id='attrs-36285ea7-2207-446e-b1ea-171594637632' class='xr-var-attrs-in' type='checkbox' disabled><label for='attrs-36285ea7-2207-446e-b1ea-171594637632' title='Show/Hide attributes'><svg class='icon xr-icon-file-text2'><use xlink:href='#icon-file-text2'></use></svg></label><input id='data-e16ac862-845d-4d09-b305-e767dd686cf7' class='xr-var-data-in' type='checkbox'><label for='data-e16ac862-845d-4d09-b305-e767dd686cf7' title='Show/Hide data repr'><svg class='icon xr-icon-database'><use xlink:href='#icon-database'></use></svg></label><div class='xr-var-attrs'><dl class='xr-attrs'></dl></div><div class='xr-var-data'><pre>array([[nan, nan, nan, ..., nan, nan, nan]])</pre></div></li><li class='xr-var-item'><div class='xr-var-name'><span>hurs_eraqc</span></div><div class='xr-var-dims'>(station, time)</div><div class='xr-var-dtype'>float64</div><div class='xr-var-preview xr-preview'>nan nan nan nan ... nan nan nan nan</div><input id='attrs-d148e998-157d-48c3-9936-40aacb54d28c' class='xr-var-attrs-in' type='checkbox' disabled><label for='attrs-d148e998-157d-48c3-9936-40aacb54d28c' title='Show/Hide attributes'><svg class='icon xr-icon-file-text2'><use xlink:href='#icon-file-text2'></use></svg></label><input id='data-fe77ec56-3961-442a-99e8-9168db2d56aa' class='xr-var-data-in' type='checkbox'><label for='data-fe77ec56-3961-442a-99e8-9168db2d56aa' title='Show/Hide data repr'><svg class='icon xr-icon-database'><use xlink:href='#icon-database'></use></svg></label><div class='xr-var-attrs'><dl class='xr-attrs'></dl></div><div class='xr-var-data'><pre>array([[nan, nan, nan, ..., nan, nan, nan]])</pre></div></li><li class='xr-var-item'><div class='xr-var-name'><span>rsds_eraqc</span></div><div class='xr-var-dims'>(station, time)</div><div class='xr-var-dtype'>float64</div><div class='xr-var-preview xr-preview'>nan nan nan nan ... nan nan nan nan</div><input id='attrs-d5c89167-7153-4a5a-8540-748f4b1ddc69' class='xr-var-attrs-in' type='checkbox' disabled><label for='attrs-d5c89167-7153-4a5a-8540-748f4b1ddc69' title='Show/Hide attributes'><svg class='icon xr-icon-file-text2'><use xlink:href='#icon-file-text2'></use></svg></label><input id='data-48db621e-235f-4409-91ef-c2e2233b6185' class='xr-var-data-in' type='checkbox'><label for='data-48db621e-235f-4409-91ef-c2e2233b6185' title='Show/Hide data repr'><svg class='icon xr-icon-database'><use xlink:href='#icon-database'></use></svg></label><div class='xr-var-attrs'><dl class='xr-attrs'></dl></div><div class='xr-var-data'><pre>array([[nan, nan, nan, ..., nan, nan, nan]])</pre></div></li><li class='xr-var-item'><div class='xr-var-name'><span>sfcWind_eraqc</span></div><div class='xr-var-dims'>(station, time)</div><div class='xr-var-dtype'>float64</div><div class='xr-var-preview xr-preview'>nan nan nan nan ... nan nan nan nan</div><input id='attrs-2d0f5813-94c6-45c8-a0b7-89f5c4061462' class='xr-var-attrs-in' type='checkbox' disabled><label for='attrs-2d0f5813-94c6-45c8-a0b7-89f5c4061462' title='Show/Hide attributes'><svg class='icon xr-icon-file-text2'><use xlink:href='#icon-file-text2'></use></svg></label><input id='data-f516d4ca-9502-4650-8286-c1274fa4dec5' class='xr-var-data-in' type='checkbox'><label for='data-f516d4ca-9502-4650-8286-c1274fa4dec5' title='Show/Hide data repr'><svg class='icon xr-icon-database'><use xlink:href='#icon-database'></use></svg></label><div class='xr-var-attrs'><dl class='xr-attrs'></dl></div><div class='xr-var-data'><pre>array([[nan, nan, nan, ..., nan, nan, nan]])</pre></div></li><li class='xr-var-item'><div class='xr-var-name'><span>sfcWind_dir_eraqc</span></div><div class='xr-var-dims'>(station, time)</div><div class='xr-var-dtype'>float64</div><div class='xr-var-preview xr-preview'>nan nan nan nan ... nan nan nan nan</div><input id='attrs-9c5545ea-759e-49d1-817c-640c117ff8af' class='xr-var-attrs-in' type='checkbox' disabled><label for='attrs-9c5545ea-759e-49d1-817c-640c117ff8af' title='Show/Hide attributes'><svg class='icon xr-icon-file-text2'><use xlink:href='#icon-file-text2'></use></svg></label><input id='data-227d501b-e949-4050-93db-bf6e4d9447fd' class='xr-var-data-in' type='checkbox'><label for='data-227d501b-e949-4050-93db-bf6e4d9447fd' title='Show/Hide data repr'><svg class='icon xr-icon-database'><use xlink:href='#icon-database'></use></svg></label><div class='xr-var-attrs'><dl class='xr-attrs'></dl></div><div class='xr-var-data'><pre>array([[nan, nan, nan, ..., nan, nan, nan]])</pre></div></li><li class='xr-var-item'><div class='xr-var-name'><span>elevation_eraqc</span></div><div class='xr-var-dims'>(station, time)</div><div class='xr-var-dtype'>float64</div><div class='xr-var-preview xr-preview'>nan nan nan nan ... nan nan nan nan</div><input id='attrs-9fc165a5-697b-44c7-9c38-72c3ac25a79c' class='xr-var-attrs-in' type='checkbox' disabled><label for='attrs-9fc165a5-697b-44c7-9c38-72c3ac25a79c' title='Show/Hide attributes'><svg class='icon xr-icon-file-text2'><use xlink:href='#icon-file-text2'></use></svg></label><input id='data-cd5faec2-4d1a-42ee-a109-016bdd58420c' class='xr-var-data-in' type='checkbox'><label for='data-cd5faec2-4d1a-42ee-a109-016bdd58420c' title='Show/Hide data repr'><svg class='icon xr-icon-database'><use xlink:href='#icon-database'></use></svg></label><div class='xr-var-attrs'><dl class='xr-attrs'></dl></div><div class='xr-var-data'><pre>array([[nan, nan, nan, ..., nan, nan, nan]])</pre></div></li><li class='xr-var-item'><div class='xr-var-name'><span>tdps_derived_eraqc</span></div><div class='xr-var-dims'>(station, time)</div><div class='xr-var-dtype'>float64</div><div class='xr-var-preview xr-preview'>nan nan nan nan ... nan nan nan nan</div><input id='attrs-e1167a17-298f-439d-9a10-8949f4e0d74c' class='xr-var-attrs-in' type='checkbox' disabled><label for='attrs-e1167a17-298f-439d-9a10-8949f4e0d74c' title='Show/Hide attributes'><svg class='icon xr-icon-file-text2'><use xlink:href='#icon-file-text2'></use></svg></label><input id='data-81436209-8abb-4744-a859-a219354de06c' class='xr-var-data-in' type='checkbox'><label for='data-81436209-8abb-4744-a859-a219354de06c' title='Show/Hide data repr'><svg class='icon xr-icon-database'><use xlink:href='#icon-database'></use></svg></label><div class='xr-var-attrs'><dl class='xr-attrs'></dl></div><div class='xr-var-data'><pre>array([[nan, nan, nan, ..., nan, nan, nan]])</pre></div></li><li class='xr-var-item'><div class='xr-var-name'><span>pvp_derived_eraqc</span></div><div class='xr-var-dims'>(station, time)</div><div class='xr-var-dtype'>float64</div><div class='xr-var-preview xr-preview'>nan nan nan nan ... nan nan nan nan</div><input id='attrs-4e63cf75-b05f-4113-9d13-852eb59e05f0' class='xr-var-attrs-in' type='checkbox' disabled><label for='attrs-4e63cf75-b05f-4113-9d13-852eb59e05f0' title='Show/Hide attributes'><svg class='icon xr-icon-file-text2'><use xlink:href='#icon-file-text2'></use></svg></label><input id='data-d3ce95eb-724b-4ffa-a916-b9ba4afb5ba2' class='xr-var-data-in' type='checkbox'><label for='data-d3ce95eb-724b-4ffa-a916-b9ba4afb5ba2' title='Show/Hide data repr'><svg class='icon xr-icon-database'><use xlink:href='#icon-database'></use></svg></label><div class='xr-var-attrs'><dl class='xr-attrs'></dl></div><div class='xr-var-data'><pre>array([[nan, nan, nan, ..., nan, nan, nan]])</pre></div></li><li class='xr-var-item'><div class='xr-var-name'><span>anemometer_height_m</span></div><div class='xr-var-dims'>(station, time)</div><div class='xr-var-dtype'>float64</div><div class='xr-var-preview xr-preview'>2.0 2.0 2.0 2.0 ... 2.0 2.0 2.0 2.0</div><input id='attrs-16dd0b1b-6301-45b6-9246-57009f53206f' class='xr-var-attrs-in' type='checkbox' disabled><label for='attrs-16dd0b1b-6301-45b6-9246-57009f53206f' title='Show/Hide attributes'><svg class='icon xr-icon-file-text2'><use xlink:href='#icon-file-text2'></use></svg></label><input id='data-448a79be-ef2e-4f1e-b4c7-da0f1e185a2d' class='xr-var-data-in' type='checkbox'><label for='data-448a79be-ef2e-4f1e-b4c7-da0f1e185a2d' title='Show/Hide data repr'><svg class='icon xr-icon-database'><use xlink:href='#icon-database'></use></svg></label><div class='xr-var-attrs'><dl class='xr-attrs'></dl></div><div class='xr-var-data'><pre>array([[2., 2., 2., ..., 2., 2., 2.]])</pre></div></li><li class='xr-var-item'><div class='xr-var-name'><span>thermometer_height_m</span></div><div class='xr-var-dims'>(station, time)</div><div class='xr-var-dtype'>float64</div><div class='xr-var-preview xr-preview'>1.5 1.5 1.5 1.5 ... 1.5 1.5 1.5 1.5</div><input id='attrs-1c923831-54f8-4725-a380-33f2686b144d' class='xr-var-attrs-in' type='checkbox' disabled><label for='attrs-1c923831-54f8-4725-a380-33f2686b144d' title='Show/Hide attributes'><svg class='icon xr-icon-file-text2'><use xlink:href='#icon-file-text2'></use></svg></label><input id='data-bbc75aa0-f76a-4e94-9fdc-0ab3e11f4836' class='xr-var-data-in' type='checkbox'><label for='data-bbc75aa0-f76a-4e94-9fdc-0ab3e11f4836' title='Show/Hide data repr'><svg class='icon xr-icon-database'><use xlink:href='#icon-database'></use></svg></label><div class='xr-var-attrs'><dl class='xr-attrs'></dl></div><div class='xr-var-data'><pre>array([[1.5, 1.5, 1.5, ..., 1.5, 1.5, 1.5]])</pre></div></li></ul></div></li><li class='xr-section-item'><input id='section-6b3fcd6f-1c7d-4a58-a4b6-4362af98509f' class='xr-section-summary-in' type='checkbox'  ><label for='section-6b3fcd6f-1c7d-4a58-a4b6-4362af98509f' class='xr-section-summary' >Attributes: <span>(16)</span></label><div class='xr-section-inline-details'></div><div class='xr-section-details'><dl class='xr-attrs'><dt><span>title :</span></dt><dd>CIMIS quality controlled</dd><dt><span>institution :</span></dt><dd>Eagle Rock Analytics / Cal Adapt</dd><dt><span>source :</span></dt><dd></dd><dt><span>history :</span></dt><dd>CIMIS_clean.py script run on 02-13-2023, 22:25:54 UTC \n",
       "ALLNETWORKS_qaqc.py script run on 08-07-2024, 20:52:09 UTC</dd><dt><span>comment :</span></dt><dd>Intermediate data product: may not have been subject to any cleaning or QA/QC processing \n",
       "An intermediate data product: subject to cleaning but may not be subject to full QA/QC processing.</dd><dt><span>license :</span></dt><dd></dd><dt><span>citation :</span></dt><dd></dd><dt><span>disclaimer :</span></dt><dd>This document was prepared as a result of work sponsored by the California Energy Commission (PIR-19-006). It does not necessarily represent the views of the Energy Commission, its employees, or the State of California. Neither the Commission, the State of California, nor the Commission&#x27;s employees, contractors, or subcontractors makes any warranty, express or implied, or assumes any legal liability for the information in this document; nor does any party represent that the use of this information will not infringe upon privately owned rights. This document has not been approved or disapproved by the Commission, nor has the Commission passed upon the accuracy of the information in this document.</dd><dt><span>station_name :</span></dt><dd>Irvine</dd><dt><span>pyranometer_height_m :</span></dt><dd>2.0</dd><dt><span>wind_vane_height_m :</span></dt><dd>2.0</dd><dt><span>anemometer_height_m :</span></dt><dd>2.0</dd><dt><span>thermometer_height_m :</span></dt><dd>1.5</dd><dt><span>humidity_height_m :</span></dt><dd>1.5</dd><dt><span>rain_gauge_height_m :</span></dt><dd>1.0</dd><dt><span>raw_files_merged :</span></dt><dd>47</dd></dl></div></li></ul></div></div>"
      ],
      "text/plain": [
       "<xarray.Dataset>\n",
       "Dimensions:               (station: 1, time: 305943)\n",
       "Coordinates:\n",
       "  * station               (station) object 'CIMIS_75'\n",
       "  * time                  (time) datetime64[ns] 1987-10-07T09:00:00 ... 2022-...\n",
       "Data variables: (12/30)\n",
       "    tas                   (station, time) float64 290.8 290.8 ... 309.6 310.3\n",
       "    pr                    (station, time) float64 0.0 0.0 0.0 ... 0.0 0.0 0.0\n",
       "    hurs                  (station, time) float64 9.0 7.0 7.0 ... 27.0 24.0 24.0\n",
       "    rsds                  (station, time) float64 0.0 -1.0 -1.0 ... 803.0 678.0\n",
       "    sfcWind               (station, time) float64 0.8 0.7 1.0 ... 3.2 3.2 3.2\n",
       "    sfcWind_dir           (station, time) float64 87.1 76.2 11.7 ... 191.0 188.0\n",
       "    ...                    ...\n",
       "    sfcWind_dir_eraqc     (station, time) float64 nan nan nan ... nan nan nan\n",
       "    elevation_eraqc       (station, time) float64 nan nan nan ... nan nan nan\n",
       "    tdps_derived_eraqc    (station, time) float64 nan nan nan ... nan nan nan\n",
       "    pvp_derived_eraqc     (station, time) float64 nan nan nan ... nan nan nan\n",
       "    anemometer_height_m   (station, time) float64 2.0 2.0 2.0 ... 2.0 2.0 2.0\n",
       "    thermometer_height_m  (station, time) float64 1.5 1.5 1.5 ... 1.5 1.5 1.5\n",
       "Attributes: (12/16)\n",
       "    title:                 CIMIS quality controlled\n",
       "    institution:           Eagle Rock Analytics / Cal Adapt\n",
       "    source:                \n",
       "    history:               CIMIS_clean.py script run on 02-13-2023, 22:25:54 ...\n",
       "    comment:               Intermediate data product: may not have been subje...\n",
       "    license:               \n",
       "    ...                    ...\n",
       "    wind_vane_height_m:    2.0\n",
       "    anemometer_height_m:   2.0\n",
       "    thermometer_height_m:  1.5\n",
       "    humidity_height_m:     1.5\n",
       "    rain_gauge_height_m:   1.0\n",
       "    raw_files_merged:      47"
      ]
     },
     "execution_count": 21,
     "metadata": {},
     "output_type": "execute_result"
    }
   ],
   "source": [
    "ds = download_nc_from_aws(specific_station, save=True)\n",
    "ds"
   ]
  },
  {
   "cell_type": "markdown",
   "id": "486debd5-6f1a-445e-9674-52bfe626335a",
   "metadata": {},
   "source": [
    "### Once the file was downloaded, reading from disk should be faster for testing"
   ]
  },
  {
   "cell_type": "code",
   "execution_count": 22,
   "id": "05cfafb1-0b6d-4cd2-b9a7-8e9b263a4291",
   "metadata": {
    "execution": {
     "iopub.execute_input": "2024-10-02T22:33:49.528980Z",
     "iopub.status.busy": "2024-10-02T22:33:49.528884Z",
     "iopub.status.idle": "2024-10-02T22:33:50.279499Z",
     "shell.execute_reply": "2024-10-02T22:33:50.279084Z",
     "shell.execute_reply.started": "2024-10-02T22:33:49.528971Z"
    }
   },
   "outputs": [
    {
     "name": "stdout",
     "output_type": "stream",
     "text": [
      "Retrieving data for station...\n",
      "CPU times: user 658 ms, sys: 57.3 ms, total: 715 ms\n",
      "Wall time: 719 ms\n"
     ]
    },
    {
     "data": {
      "text/html": [
       "<div><svg style=\"position: absolute; width: 0; height: 0; overflow: hidden\">\n",
       "<defs>\n",
       "<symbol id=\"icon-database\" viewBox=\"0 0 32 32\">\n",
       "<path d=\"M16 0c-8.837 0-16 2.239-16 5v4c0 2.761 7.163 5 16 5s16-2.239 16-5v-4c0-2.761-7.163-5-16-5z\"></path>\n",
       "<path d=\"M16 17c-8.837 0-16-2.239-16-5v6c0 2.761 7.163 5 16 5s16-2.239 16-5v-6c0 2.761-7.163 5-16 5z\"></path>\n",
       "<path d=\"M16 26c-8.837 0-16-2.239-16-5v6c0 2.761 7.163 5 16 5s16-2.239 16-5v-6c0 2.761-7.163 5-16 5z\"></path>\n",
       "</symbol>\n",
       "<symbol id=\"icon-file-text2\" viewBox=\"0 0 32 32\">\n",
       "<path d=\"M28.681 7.159c-0.694-0.947-1.662-2.053-2.724-3.116s-2.169-2.030-3.116-2.724c-1.612-1.182-2.393-1.319-2.841-1.319h-15.5c-1.378 0-2.5 1.121-2.5 2.5v27c0 1.378 1.122 2.5 2.5 2.5h23c1.378 0 2.5-1.122 2.5-2.5v-19.5c0-0.448-0.137-1.23-1.319-2.841zM24.543 5.457c0.959 0.959 1.712 1.825 2.268 2.543h-4.811v-4.811c0.718 0.556 1.584 1.309 2.543 2.268zM28 29.5c0 0.271-0.229 0.5-0.5 0.5h-23c-0.271 0-0.5-0.229-0.5-0.5v-27c0-0.271 0.229-0.5 0.5-0.5 0 0 15.499-0 15.5 0v7c0 0.552 0.448 1 1 1h7v19.5z\"></path>\n",
       "<path d=\"M23 26h-14c-0.552 0-1-0.448-1-1s0.448-1 1-1h14c0.552 0 1 0.448 1 1s-0.448 1-1 1z\"></path>\n",
       "<path d=\"M23 22h-14c-0.552 0-1-0.448-1-1s0.448-1 1-1h14c0.552 0 1 0.448 1 1s-0.448 1-1 1z\"></path>\n",
       "<path d=\"M23 18h-14c-0.552 0-1-0.448-1-1s0.448-1 1-1h14c0.552 0 1 0.448 1 1s-0.448 1-1 1z\"></path>\n",
       "</symbol>\n",
       "</defs>\n",
       "</svg>\n",
       "<style>/* CSS stylesheet for displaying xarray objects in jupyterlab.\n",
       " *\n",
       " */\n",
       "\n",
       ":root {\n",
       "  --xr-font-color0: var(--jp-content-font-color0, rgba(0, 0, 0, 1));\n",
       "  --xr-font-color2: var(--jp-content-font-color2, rgba(0, 0, 0, 0.54));\n",
       "  --xr-font-color3: var(--jp-content-font-color3, rgba(0, 0, 0, 0.38));\n",
       "  --xr-border-color: var(--jp-border-color2, #e0e0e0);\n",
       "  --xr-disabled-color: var(--jp-layout-color3, #bdbdbd);\n",
       "  --xr-background-color: var(--jp-layout-color0, white);\n",
       "  --xr-background-color-row-even: var(--jp-layout-color1, white);\n",
       "  --xr-background-color-row-odd: var(--jp-layout-color2, #eeeeee);\n",
       "}\n",
       "\n",
       "html[theme=dark],\n",
       "body.vscode-dark {\n",
       "  --xr-font-color0: rgba(255, 255, 255, 1);\n",
       "  --xr-font-color2: rgba(255, 255, 255, 0.54);\n",
       "  --xr-font-color3: rgba(255, 255, 255, 0.38);\n",
       "  --xr-border-color: #1F1F1F;\n",
       "  --xr-disabled-color: #515151;\n",
       "  --xr-background-color: #111111;\n",
       "  --xr-background-color-row-even: #111111;\n",
       "  --xr-background-color-row-odd: #313131;\n",
       "}\n",
       "\n",
       ".xr-wrap {\n",
       "  display: block !important;\n",
       "  min-width: 300px;\n",
       "  max-width: 700px;\n",
       "}\n",
       "\n",
       ".xr-text-repr-fallback {\n",
       "  /* fallback to plain text repr when CSS is not injected (untrusted notebook) */\n",
       "  display: none;\n",
       "}\n",
       "\n",
       ".xr-header {\n",
       "  padding-top: 6px;\n",
       "  padding-bottom: 6px;\n",
       "  margin-bottom: 4px;\n",
       "  border-bottom: solid 1px var(--xr-border-color);\n",
       "}\n",
       "\n",
       ".xr-header > div,\n",
       ".xr-header > ul {\n",
       "  display: inline;\n",
       "  margin-top: 0;\n",
       "  margin-bottom: 0;\n",
       "}\n",
       "\n",
       ".xr-obj-type,\n",
       ".xr-array-name {\n",
       "  margin-left: 2px;\n",
       "  margin-right: 10px;\n",
       "}\n",
       "\n",
       ".xr-obj-type {\n",
       "  color: var(--xr-font-color2);\n",
       "}\n",
       "\n",
       ".xr-sections {\n",
       "  padding-left: 0 !important;\n",
       "  display: grid;\n",
       "  grid-template-columns: 150px auto auto 1fr 20px 20px;\n",
       "}\n",
       "\n",
       ".xr-section-item {\n",
       "  display: contents;\n",
       "}\n",
       "\n",
       ".xr-section-item input {\n",
       "  display: none;\n",
       "}\n",
       "\n",
       ".xr-section-item input + label {\n",
       "  color: var(--xr-disabled-color);\n",
       "}\n",
       "\n",
       ".xr-section-item input:enabled + label {\n",
       "  cursor: pointer;\n",
       "  color: var(--xr-font-color2);\n",
       "}\n",
       "\n",
       ".xr-section-item input:enabled + label:hover {\n",
       "  color: var(--xr-font-color0);\n",
       "}\n",
       "\n",
       ".xr-section-summary {\n",
       "  grid-column: 1;\n",
       "  color: var(--xr-font-color2);\n",
       "  font-weight: 500;\n",
       "}\n",
       "\n",
       ".xr-section-summary > span {\n",
       "  display: inline-block;\n",
       "  padding-left: 0.5em;\n",
       "}\n",
       "\n",
       ".xr-section-summary-in:disabled + label {\n",
       "  color: var(--xr-font-color2);\n",
       "}\n",
       "\n",
       ".xr-section-summary-in + label:before {\n",
       "  display: inline-block;\n",
       "  content: '►';\n",
       "  font-size: 11px;\n",
       "  width: 15px;\n",
       "  text-align: center;\n",
       "}\n",
       "\n",
       ".xr-section-summary-in:disabled + label:before {\n",
       "  color: var(--xr-disabled-color);\n",
       "}\n",
       "\n",
       ".xr-section-summary-in:checked + label:before {\n",
       "  content: '▼';\n",
       "}\n",
       "\n",
       ".xr-section-summary-in:checked + label > span {\n",
       "  display: none;\n",
       "}\n",
       "\n",
       ".xr-section-summary,\n",
       ".xr-section-inline-details {\n",
       "  padding-top: 4px;\n",
       "  padding-bottom: 4px;\n",
       "}\n",
       "\n",
       ".xr-section-inline-details {\n",
       "  grid-column: 2 / -1;\n",
       "}\n",
       "\n",
       ".xr-section-details {\n",
       "  display: none;\n",
       "  grid-column: 1 / -1;\n",
       "  margin-bottom: 5px;\n",
       "}\n",
       "\n",
       ".xr-section-summary-in:checked ~ .xr-section-details {\n",
       "  display: contents;\n",
       "}\n",
       "\n",
       ".xr-array-wrap {\n",
       "  grid-column: 1 / -1;\n",
       "  display: grid;\n",
       "  grid-template-columns: 20px auto;\n",
       "}\n",
       "\n",
       ".xr-array-wrap > label {\n",
       "  grid-column: 1;\n",
       "  vertical-align: top;\n",
       "}\n",
       "\n",
       ".xr-preview {\n",
       "  color: var(--xr-font-color3);\n",
       "}\n",
       "\n",
       ".xr-array-preview,\n",
       ".xr-array-data {\n",
       "  padding: 0 5px !important;\n",
       "  grid-column: 2;\n",
       "}\n",
       "\n",
       ".xr-array-data,\n",
       ".xr-array-in:checked ~ .xr-array-preview {\n",
       "  display: none;\n",
       "}\n",
       "\n",
       ".xr-array-in:checked ~ .xr-array-data,\n",
       ".xr-array-preview {\n",
       "  display: inline-block;\n",
       "}\n",
       "\n",
       ".xr-dim-list {\n",
       "  display: inline-block !important;\n",
       "  list-style: none;\n",
       "  padding: 0 !important;\n",
       "  margin: 0;\n",
       "}\n",
       "\n",
       ".xr-dim-list li {\n",
       "  display: inline-block;\n",
       "  padding: 0;\n",
       "  margin: 0;\n",
       "}\n",
       "\n",
       ".xr-dim-list:before {\n",
       "  content: '(';\n",
       "}\n",
       "\n",
       ".xr-dim-list:after {\n",
       "  content: ')';\n",
       "}\n",
       "\n",
       ".xr-dim-list li:not(:last-child):after {\n",
       "  content: ',';\n",
       "  padding-right: 5px;\n",
       "}\n",
       "\n",
       ".xr-has-index {\n",
       "  font-weight: bold;\n",
       "}\n",
       "\n",
       ".xr-var-list,\n",
       ".xr-var-item {\n",
       "  display: contents;\n",
       "}\n",
       "\n",
       ".xr-var-item > div,\n",
       ".xr-var-item label,\n",
       ".xr-var-item > .xr-var-name span {\n",
       "  background-color: var(--xr-background-color-row-even);\n",
       "  margin-bottom: 0;\n",
       "}\n",
       "\n",
       ".xr-var-item > .xr-var-name:hover span {\n",
       "  padding-right: 5px;\n",
       "}\n",
       "\n",
       ".xr-var-list > li:nth-child(odd) > div,\n",
       ".xr-var-list > li:nth-child(odd) > label,\n",
       ".xr-var-list > li:nth-child(odd) > .xr-var-name span {\n",
       "  background-color: var(--xr-background-color-row-odd);\n",
       "}\n",
       "\n",
       ".xr-var-name {\n",
       "  grid-column: 1;\n",
       "}\n",
       "\n",
       ".xr-var-dims {\n",
       "  grid-column: 2;\n",
       "}\n",
       "\n",
       ".xr-var-dtype {\n",
       "  grid-column: 3;\n",
       "  text-align: right;\n",
       "  color: var(--xr-font-color2);\n",
       "}\n",
       "\n",
       ".xr-var-preview {\n",
       "  grid-column: 4;\n",
       "}\n",
       "\n",
       ".xr-var-name,\n",
       ".xr-var-dims,\n",
       ".xr-var-dtype,\n",
       ".xr-preview,\n",
       ".xr-attrs dt {\n",
       "  white-space: nowrap;\n",
       "  overflow: hidden;\n",
       "  text-overflow: ellipsis;\n",
       "  padding-right: 10px;\n",
       "}\n",
       "\n",
       ".xr-var-name:hover,\n",
       ".xr-var-dims:hover,\n",
       ".xr-var-dtype:hover,\n",
       ".xr-attrs dt:hover {\n",
       "  overflow: visible;\n",
       "  width: auto;\n",
       "  z-index: 1;\n",
       "}\n",
       "\n",
       ".xr-var-attrs,\n",
       ".xr-var-data {\n",
       "  display: none;\n",
       "  background-color: var(--xr-background-color) !important;\n",
       "  padding-bottom: 5px !important;\n",
       "}\n",
       "\n",
       ".xr-var-attrs-in:checked ~ .xr-var-attrs,\n",
       ".xr-var-data-in:checked ~ .xr-var-data {\n",
       "  display: block;\n",
       "}\n",
       "\n",
       ".xr-var-data > table {\n",
       "  float: right;\n",
       "}\n",
       "\n",
       ".xr-var-name span,\n",
       ".xr-var-data,\n",
       ".xr-attrs {\n",
       "  padding-left: 25px !important;\n",
       "}\n",
       "\n",
       ".xr-attrs,\n",
       ".xr-var-attrs,\n",
       ".xr-var-data {\n",
       "  grid-column: 1 / -1;\n",
       "}\n",
       "\n",
       "dl.xr-attrs {\n",
       "  padding: 0;\n",
       "  margin: 0;\n",
       "  display: grid;\n",
       "  grid-template-columns: 125px auto;\n",
       "}\n",
       "\n",
       ".xr-attrs dt,\n",
       ".xr-attrs dd {\n",
       "  padding: 0;\n",
       "  margin: 0;\n",
       "  float: left;\n",
       "  padding-right: 10px;\n",
       "  width: auto;\n",
       "}\n",
       "\n",
       ".xr-attrs dt {\n",
       "  font-weight: normal;\n",
       "  grid-column: 1;\n",
       "}\n",
       "\n",
       ".xr-attrs dt:hover span {\n",
       "  display: inline-block;\n",
       "  background: var(--xr-background-color);\n",
       "  padding-right: 10px;\n",
       "}\n",
       "\n",
       ".xr-attrs dd {\n",
       "  grid-column: 2;\n",
       "  white-space: pre-wrap;\n",
       "  word-break: break-all;\n",
       "}\n",
       "\n",
       ".xr-icon-database,\n",
       ".xr-icon-file-text2 {\n",
       "  display: inline-block;\n",
       "  vertical-align: middle;\n",
       "  width: 1em;\n",
       "  height: 1.5em !important;\n",
       "  stroke-width: 0;\n",
       "  stroke: currentColor;\n",
       "  fill: currentColor;\n",
       "}\n",
       "</style><pre class='xr-text-repr-fallback'>&lt;xarray.Dataset&gt;\n",
       "Dimensions:               (station: 1, time: 305943)\n",
       "Coordinates:\n",
       "  * station               (station) object &#x27;CIMIS_75&#x27;\n",
       "  * time                  (time) datetime64[ns] 1987-10-07T09:00:00 ... 2022-...\n",
       "Data variables: (12/30)\n",
       "    tas                   (station, time) float64 290.8 290.8 ... 309.6 310.3\n",
       "    pr                    (station, time) float64 0.0 0.0 0.0 ... 0.0 0.0 0.0\n",
       "    hurs                  (station, time) float64 9.0 7.0 7.0 ... 27.0 24.0 24.0\n",
       "    rsds                  (station, time) float64 0.0 -1.0 -1.0 ... 803.0 678.0\n",
       "    sfcWind               (station, time) float64 0.8 0.7 1.0 ... 3.2 3.2 3.2\n",
       "    sfcWind_dir           (station, time) float64 87.1 76.2 11.7 ... 191.0 188.0\n",
       "    ...                    ...\n",
       "    sfcWind_dir_eraqc     (station, time) float64 nan nan nan ... nan nan nan\n",
       "    elevation_eraqc       (station, time) float64 nan nan nan ... nan nan nan\n",
       "    tdps_derived_eraqc    (station, time) float64 nan nan nan ... nan nan nan\n",
       "    pvp_derived_eraqc     (station, time) float64 nan nan nan ... nan nan nan\n",
       "    anemometer_height_m   (station, time) float64 2.0 2.0 2.0 ... 2.0 2.0 2.0\n",
       "    thermometer_height_m  (station, time) float64 1.5 1.5 1.5 ... 1.5 1.5 1.5\n",
       "Attributes: (12/16)\n",
       "    title:                 CIMIS quality controlled\n",
       "    institution:           Eagle Rock Analytics / Cal Adapt\n",
       "    source:                \n",
       "    history:               CIMIS_clean.py script run on 02-13-2023, 22:25:54 ...\n",
       "    comment:               Intermediate data product: may not have been subje...\n",
       "    license:               \n",
       "    ...                    ...\n",
       "    wind_vane_height_m:    2.0\n",
       "    anemometer_height_m:   2.0\n",
       "    thermometer_height_m:  1.5\n",
       "    humidity_height_m:     1.5\n",
       "    rain_gauge_height_m:   1.0\n",
       "    raw_files_merged:      47</pre><div class='xr-wrap' style='display:none'><div class='xr-header'><div class='xr-obj-type'>xarray.Dataset</div></div><ul class='xr-sections'><li class='xr-section-item'><input id='section-3b98f194-2b7c-4527-8fab-8fb9a422ab8e' class='xr-section-summary-in' type='checkbox' disabled ><label for='section-3b98f194-2b7c-4527-8fab-8fb9a422ab8e' class='xr-section-summary'  title='Expand/collapse section'>Dimensions:</label><div class='xr-section-inline-details'><ul class='xr-dim-list'><li><span class='xr-has-index'>station</span>: 1</li><li><span class='xr-has-index'>time</span>: 305943</li></ul></div><div class='xr-section-details'></div></li><li class='xr-section-item'><input id='section-4d773a62-9719-4035-995f-e5b00908ca5e' class='xr-section-summary-in' type='checkbox'  checked><label for='section-4d773a62-9719-4035-995f-e5b00908ca5e' class='xr-section-summary' >Coordinates: <span>(2)</span></label><div class='xr-section-inline-details'></div><div class='xr-section-details'><ul class='xr-var-list'><li class='xr-var-item'><div class='xr-var-name'><span class='xr-has-index'>station</span></div><div class='xr-var-dims'>(station)</div><div class='xr-var-dtype'>object</div><div class='xr-var-preview xr-preview'>&#x27;CIMIS_75&#x27;</div><input id='attrs-d10bb58f-029a-4904-affb-15130bb369aa' class='xr-var-attrs-in' type='checkbox' disabled><label for='attrs-d10bb58f-029a-4904-affb-15130bb369aa' title='Show/Hide attributes'><svg class='icon xr-icon-file-text2'><use xlink:href='#icon-file-text2'></use></svg></label><input id='data-7949727f-6d33-42c3-9915-f6942f0f4648' class='xr-var-data-in' type='checkbox'><label for='data-7949727f-6d33-42c3-9915-f6942f0f4648' title='Show/Hide data repr'><svg class='icon xr-icon-database'><use xlink:href='#icon-database'></use></svg></label><div class='xr-var-attrs'><dl class='xr-attrs'></dl></div><div class='xr-var-data'><pre>array([&#x27;CIMIS_75&#x27;], dtype=object)</pre></div></li><li class='xr-var-item'><div class='xr-var-name'><span class='xr-has-index'>time</span></div><div class='xr-var-dims'>(time)</div><div class='xr-var-dtype'>datetime64[ns]</div><div class='xr-var-preview xr-preview'>1987-10-07T09:00:00 ... 2022-08-...</div><input id='attrs-1680413b-a389-4ec2-8c38-5c2a2c07cce8' class='xr-var-attrs-in' type='checkbox' disabled><label for='attrs-1680413b-a389-4ec2-8c38-5c2a2c07cce8' title='Show/Hide attributes'><svg class='icon xr-icon-file-text2'><use xlink:href='#icon-file-text2'></use></svg></label><input id='data-c2023b30-25bf-4d6a-a0b8-418b21599488' class='xr-var-data-in' type='checkbox'><label for='data-c2023b30-25bf-4d6a-a0b8-418b21599488' title='Show/Hide data repr'><svg class='icon xr-icon-database'><use xlink:href='#icon-database'></use></svg></label><div class='xr-var-attrs'><dl class='xr-attrs'></dl></div><div class='xr-var-data'><pre>array([&#x27;1987-10-07T09:00:00.000000000&#x27;, &#x27;1987-10-07T10:00:00.000000000&#x27;,\n",
       "       &#x27;1987-10-07T11:00:00.000000000&#x27;, ..., &#x27;2022-08-31T21:00:00.000000000&#x27;,\n",
       "       &#x27;2022-08-31T22:00:00.000000000&#x27;, &#x27;2022-08-31T23:00:00.000000000&#x27;],\n",
       "      dtype=&#x27;datetime64[ns]&#x27;)</pre></div></li></ul></div></li><li class='xr-section-item'><input id='section-d98a1e14-25cc-4708-83ad-2810d1d95a87' class='xr-section-summary-in' type='checkbox'  ><label for='section-d98a1e14-25cc-4708-83ad-2810d1d95a87' class='xr-section-summary' >Data variables: <span>(30)</span></label><div class='xr-section-inline-details'></div><div class='xr-section-details'><ul class='xr-var-list'><li class='xr-var-item'><div class='xr-var-name'><span>tas</span></div><div class='xr-var-dims'>(station, time)</div><div class='xr-var-dtype'>float64</div><div class='xr-var-preview xr-preview'>290.8 290.8 290.6 ... 309.6 310.3</div><input id='attrs-99a06286-3df4-4fa0-b51a-bc8899f2b3cf' class='xr-var-attrs-in' type='checkbox' ><label for='attrs-99a06286-3df4-4fa0-b51a-bc8899f2b3cf' title='Show/Hide attributes'><svg class='icon xr-icon-file-text2'><use xlink:href='#icon-file-text2'></use></svg></label><input id='data-fc3b03ff-cdad-4058-b7ac-5800d832cc68' class='xr-var-data-in' type='checkbox'><label for='data-fc3b03ff-cdad-4058-b7ac-5800d832cc68' title='Show/Hide data repr'><svg class='icon xr-icon-database'><use xlink:href='#icon-database'></use></svg></label><div class='xr-var-attrs'><dl class='xr-attrs'><dt><span>long_name :</span></dt><dd>air_temperature</dd><dt><span>standard_name :</span></dt><dd>air_temperature</dd><dt><span>units :</span></dt><dd>degree_Kelvin</dd><dt><span>ancillary_variables :</span></dt><dd>tas_qc, tas_eraqc</dd><dt><span>comment :</span></dt><dd>Converted from Celsius to Kelvin.</dd></dl></div><div class='xr-var-data'><pre>array([[290.75, 290.85, 290.65, ..., 308.45, 309.65, 310.35]])</pre></div></li><li class='xr-var-item'><div class='xr-var-name'><span>pr</span></div><div class='xr-var-dims'>(station, time)</div><div class='xr-var-dtype'>float64</div><div class='xr-var-preview xr-preview'>0.0 0.0 0.0 0.0 ... 0.0 0.0 0.0 0.0</div><input id='attrs-c72c3ad4-31a2-4026-a482-2df7b6307b11' class='xr-var-attrs-in' type='checkbox' ><label for='attrs-c72c3ad4-31a2-4026-a482-2df7b6307b11' title='Show/Hide attributes'><svg class='icon xr-icon-file-text2'><use xlink:href='#icon-file-text2'></use></svg></label><input id='data-aa9eb05d-420f-42fd-a577-5de66ce37f57' class='xr-var-data-in' type='checkbox'><label for='data-aa9eb05d-420f-42fd-a577-5de66ce37f57' title='Show/Hide data repr'><svg class='icon xr-icon-database'><use xlink:href='#icon-database'></use></svg></label><div class='xr-var-attrs'><dl class='xr-attrs'><dt><span>long_name :</span></dt><dd>precipitation_accumulation</dd><dt><span>units :</span></dt><dd>mm/hour</dd><dt><span>ancillary_variables :</span></dt><dd>pr_qc, pr_eraqc</dd><dt><span>comment :</span></dt><dd>Accumulated precipitation.</dd></dl></div><div class='xr-var-data'><pre>array([[0., 0., 0., ..., 0., 0., 0.]])</pre></div></li><li class='xr-var-item'><div class='xr-var-name'><span>hurs</span></div><div class='xr-var-dims'>(station, time)</div><div class='xr-var-dtype'>float64</div><div class='xr-var-preview xr-preview'>9.0 7.0 7.0 7.0 ... 27.0 24.0 24.0</div><input id='attrs-90606801-518a-4942-83ee-38878eedd9a2' class='xr-var-attrs-in' type='checkbox' ><label for='attrs-90606801-518a-4942-83ee-38878eedd9a2' title='Show/Hide attributes'><svg class='icon xr-icon-file-text2'><use xlink:href='#icon-file-text2'></use></svg></label><input id='data-4846d098-2842-47f4-bcd4-dc6756c09a9a' class='xr-var-data-in' type='checkbox'><label for='data-4846d098-2842-47f4-bcd4-dc6756c09a9a' title='Show/Hide data repr'><svg class='icon xr-icon-database'><use xlink:href='#icon-database'></use></svg></label><div class='xr-var-attrs'><dl class='xr-attrs'><dt><span>long_name :</span></dt><dd>relative_humidity</dd><dt><span>standard_name :</span></dt><dd>relative_humidity</dd><dt><span>units :</span></dt><dd>percent</dd><dt><span>ancillary_variables :</span></dt><dd>hurs_qc, hurs_eraqc</dd></dl></div><div class='xr-var-data'><pre>array([[ 9.,  7.,  7., ..., 27., 24., 24.]])</pre></div></li><li class='xr-var-item'><div class='xr-var-name'><span>rsds</span></div><div class='xr-var-dims'>(station, time)</div><div class='xr-var-dtype'>float64</div><div class='xr-var-preview xr-preview'>0.0 -1.0 -1.0 ... 874.0 803.0 678.0</div><input id='attrs-34b94247-8a1d-4789-96ad-e7d1afdf759f' class='xr-var-attrs-in' type='checkbox' ><label for='attrs-34b94247-8a1d-4789-96ad-e7d1afdf759f' title='Show/Hide attributes'><svg class='icon xr-icon-file-text2'><use xlink:href='#icon-file-text2'></use></svg></label><input id='data-a543b4b6-f62f-4a6d-a5cc-993c3001895c' class='xr-var-data-in' type='checkbox'><label for='data-a543b4b6-f62f-4a6d-a5cc-993c3001895c' title='Show/Hide data repr'><svg class='icon xr-icon-database'><use xlink:href='#icon-database'></use></svg></label><div class='xr-var-attrs'><dl class='xr-attrs'><dt><span>long_name :</span></dt><dd>solar_radiation</dd><dt><span>standard_name :</span></dt><dd>surface_downwelling_shortwave_flux_in_air</dd><dt><span>units :</span></dt><dd>W m-2</dd><dt><span>ancillary_variables :</span></dt><dd>rsds_qc, rsds_eraqc</dd></dl></div><div class='xr-var-data'><pre>array([[  0.,  -1.,  -1., ..., 874., 803., 678.]])</pre></div></li><li class='xr-var-item'><div class='xr-var-name'><span>sfcWind</span></div><div class='xr-var-dims'>(station, time)</div><div class='xr-var-dtype'>float64</div><div class='xr-var-preview xr-preview'>0.8 0.7 1.0 0.9 ... 3.2 3.2 3.2 3.2</div><input id='attrs-4ffbab35-6367-4021-8c14-32b14b92cc53' class='xr-var-attrs-in' type='checkbox' ><label for='attrs-4ffbab35-6367-4021-8c14-32b14b92cc53' title='Show/Hide attributes'><svg class='icon xr-icon-file-text2'><use xlink:href='#icon-file-text2'></use></svg></label><input id='data-820c402d-fe62-464a-abc0-399765d0c4c1' class='xr-var-data-in' type='checkbox'><label for='data-820c402d-fe62-464a-abc0-399765d0c4c1' title='Show/Hide data repr'><svg class='icon xr-icon-database'><use xlink:href='#icon-database'></use></svg></label><div class='xr-var-attrs'><dl class='xr-attrs'><dt><span>long_name :</span></dt><dd>wind_speed</dd><dt><span>standard_name :</span></dt><dd>wind_speed</dd><dt><span>units :</span></dt><dd>m s-1</dd><dt><span>ancillary_variables :</span></dt><dd>sfcWind_qc, sfcWind_eraqc</dd></dl></div><div class='xr-var-data'><pre>array([[0.8, 0.7, 1. , ..., 3.2, 3.2, 3.2]])</pre></div></li><li class='xr-var-item'><div class='xr-var-name'><span>sfcWind_dir</span></div><div class='xr-var-dims'>(station, time)</div><div class='xr-var-dtype'>float64</div><div class='xr-var-preview xr-preview'>87.1 76.2 11.7 ... 191.0 188.0</div><input id='attrs-f52329b7-e3da-4d07-a431-fbe5b3e6ab61' class='xr-var-attrs-in' type='checkbox' ><label for='attrs-f52329b7-e3da-4d07-a431-fbe5b3e6ab61' title='Show/Hide attributes'><svg class='icon xr-icon-file-text2'><use xlink:href='#icon-file-text2'></use></svg></label><input id='data-47e105b7-73b6-4432-83ee-5cab40cff891' class='xr-var-data-in' type='checkbox'><label for='data-47e105b7-73b6-4432-83ee-5cab40cff891' title='Show/Hide data repr'><svg class='icon xr-icon-database'><use xlink:href='#icon-database'></use></svg></label><div class='xr-var-attrs'><dl class='xr-attrs'><dt><span>long_name :</span></dt><dd>wind_direction</dd><dt><span>standard_name :</span></dt><dd>wind_from_direction</dd><dt><span>units :</span></dt><dd>degrees_clockwise_from_north</dd><dt><span>ancillary_variables :</span></dt><dd>sfcWind_dir_qc, sfcWind_dir_eraqc</dd><dt><span>comment :</span></dt><dd>Wind direction is defined by the direction that the wind is coming from (i.e., a northerly wind originates in the north and blows towards the south).</dd></dl></div><div class='xr-var-data'><pre>array([[ 87.1,  76.2,  11.7, ..., 196. , 191. , 188. ]])</pre></div></li><li class='xr-var-item'><div class='xr-var-name'><span>pr_qc</span></div><div class='xr-var-dims'>(station, time)</div><div class='xr-var-dtype'>object</div><div class='xr-var-preview xr-preview'>&#x27;nan&#x27; &#x27;nan&#x27; &#x27;nan&#x27; ... &#x27;nan&#x27; &#x27;nan&#x27;</div><input id='attrs-5f747cc5-ba00-459f-87db-980a457455f2' class='xr-var-attrs-in' type='checkbox' ><label for='attrs-5f747cc5-ba00-459f-87db-980a457455f2' title='Show/Hide attributes'><svg class='icon xr-icon-file-text2'><use xlink:href='#icon-file-text2'></use></svg></label><input id='data-13d39d8a-bf9b-4c5f-ad0c-819077cc2624' class='xr-var-data-in' type='checkbox'><label for='data-13d39d8a-bf9b-4c5f-ad0c-819077cc2624' title='Show/Hide data repr'><svg class='icon xr-icon-database'><use xlink:href='#icon-database'></use></svg></label><div class='xr-var-attrs'><dl class='xr-attrs'><dt><span>flag_values :</span></dt><dd>M P Q R Y</dd><dt><span>flag_meanings :</span></dt><dd>See QA/QC csv for network.</dd></dl></div><div class='xr-var-data'><pre>array([[&#x27;nan&#x27;, &#x27;nan&#x27;, &#x27;nan&#x27;, ..., &#x27;nan&#x27;, &#x27;nan&#x27;, &#x27;nan&#x27;]], dtype=object)</pre></div></li><li class='xr-var-item'><div class='xr-var-name'><span>rsds_qc</span></div><div class='xr-var-dims'>(station, time)</div><div class='xr-var-dtype'>object</div><div class='xr-var-preview xr-preview'>&#x27;nan&#x27; &#x27;nan&#x27; &#x27;nan&#x27; ... &#x27;nan&#x27; &#x27;nan&#x27;</div><input id='attrs-446ef2e1-9920-47db-9935-78e867edb128' class='xr-var-attrs-in' type='checkbox' ><label for='attrs-446ef2e1-9920-47db-9935-78e867edb128' title='Show/Hide attributes'><svg class='icon xr-icon-file-text2'><use xlink:href='#icon-file-text2'></use></svg></label><input id='data-d966f140-6011-43f7-a2a5-5201e5e514b6' class='xr-var-data-in' type='checkbox'><label for='data-d966f140-6011-43f7-a2a5-5201e5e514b6' title='Show/Hide data repr'><svg class='icon xr-icon-database'><use xlink:href='#icon-database'></use></svg></label><div class='xr-var-attrs'><dl class='xr-attrs'><dt><span>flag_values :</span></dt><dd>M P R S Y</dd><dt><span>flag_meanings :</span></dt><dd>See QA/QC csv for network.</dd></dl></div><div class='xr-var-data'><pre>array([[&#x27;nan&#x27;, &#x27;nan&#x27;, &#x27;nan&#x27;, ..., &#x27;nan&#x27;, &#x27;nan&#x27;, &#x27;nan&#x27;]], dtype=object)</pre></div></li><li class='xr-var-item'><div class='xr-var-name'><span>pvp_derived_qc</span></div><div class='xr-var-dims'>(station, time)</div><div class='xr-var-dtype'>object</div><div class='xr-var-preview xr-preview'>&#x27;nan&#x27; &#x27;nan&#x27; &#x27;nan&#x27; ... &#x27;nan&#x27; &#x27;nan&#x27;</div><input id='attrs-e8094641-dbc1-45b3-86ac-84c88873019c' class='xr-var-attrs-in' type='checkbox' ><label for='attrs-e8094641-dbc1-45b3-86ac-84c88873019c' title='Show/Hide attributes'><svg class='icon xr-icon-file-text2'><use xlink:href='#icon-file-text2'></use></svg></label><input id='data-3bbad18a-5534-48bc-8426-a2e31566055f' class='xr-var-data-in' type='checkbox'><label for='data-3bbad18a-5534-48bc-8426-a2e31566055f' title='Show/Hide data repr'><svg class='icon xr-icon-database'><use xlink:href='#icon-database'></use></svg></label><div class='xr-var-attrs'><dl class='xr-attrs'><dt><span>flag_values :</span></dt><dd>M P Q R S Y</dd><dt><span>flag_meanings :</span></dt><dd>See QA/QC csv for network.</dd></dl></div><div class='xr-var-data'><pre>array([[&#x27;nan&#x27;, &#x27;nan&#x27;, &#x27;nan&#x27;, ..., &#x27;nan&#x27;, &#x27;nan&#x27;, &#x27;nan&#x27;]], dtype=object)</pre></div></li><li class='xr-var-item'><div class='xr-var-name'><span>tas_qc</span></div><div class='xr-var-dims'>(station, time)</div><div class='xr-var-dtype'>object</div><div class='xr-var-preview xr-preview'>&#x27;nan&#x27; &#x27;nan&#x27; &#x27;nan&#x27; ... &#x27;nan&#x27; &#x27;Y&#x27; &#x27;Y&#x27;</div><input id='attrs-cdc36174-4a26-4f60-8be9-dba4ba9b5673' class='xr-var-attrs-in' type='checkbox' ><label for='attrs-cdc36174-4a26-4f60-8be9-dba4ba9b5673' title='Show/Hide attributes'><svg class='icon xr-icon-file-text2'><use xlink:href='#icon-file-text2'></use></svg></label><input id='data-d191f8cb-8641-43a4-aef2-2048e1d0eb1a' class='xr-var-data-in' type='checkbox'><label for='data-d191f8cb-8641-43a4-aef2-2048e1d0eb1a' title='Show/Hide data repr'><svg class='icon xr-icon-database'><use xlink:href='#icon-database'></use></svg></label><div class='xr-var-attrs'><dl class='xr-attrs'><dt><span>flag_values :</span></dt><dd>M P R S Y</dd><dt><span>flag_meanings :</span></dt><dd>See QA/QC csv for network.</dd></dl></div><div class='xr-var-data'><pre>array([[&#x27;nan&#x27;, &#x27;nan&#x27;, &#x27;nan&#x27;, ..., &#x27;nan&#x27;, &#x27;Y&#x27;, &#x27;Y&#x27;]], dtype=object)</pre></div></li><li class='xr-var-item'><div class='xr-var-name'><span>hurs_qc</span></div><div class='xr-var-dims'>(station, time)</div><div class='xr-var-dtype'>object</div><div class='xr-var-preview xr-preview'>&#x27;nan&#x27; &#x27;nan&#x27; &#x27;nan&#x27; ... &#x27;nan&#x27; &#x27;Y&#x27; &#x27;Y&#x27;</div><input id='attrs-8ea65e17-7ae4-41f1-a049-e74d94a3d478' class='xr-var-attrs-in' type='checkbox' ><label for='attrs-8ea65e17-7ae4-41f1-a049-e74d94a3d478' title='Show/Hide attributes'><svg class='icon xr-icon-file-text2'><use xlink:href='#icon-file-text2'></use></svg></label><input id='data-ca0d0aaf-703f-4439-8865-aa09d3d19d2c' class='xr-var-data-in' type='checkbox'><label for='data-ca0d0aaf-703f-4439-8865-aa09d3d19d2c' title='Show/Hide data repr'><svg class='icon xr-icon-database'><use xlink:href='#icon-database'></use></svg></label><div class='xr-var-attrs'><dl class='xr-attrs'><dt><span>flag_values :</span></dt><dd>M Q R S Y</dd><dt><span>flag_meanings :</span></dt><dd>See QA/QC csv for network.</dd></dl></div><div class='xr-var-data'><pre>array([[&#x27;nan&#x27;, &#x27;nan&#x27;, &#x27;nan&#x27;, ..., &#x27;nan&#x27;, &#x27;Y&#x27;, &#x27;Y&#x27;]], dtype=object)</pre></div></li><li class='xr-var-item'><div class='xr-var-name'><span>tdps_derived_qc</span></div><div class='xr-var-dims'>(station, time)</div><div class='xr-var-dtype'>object</div><div class='xr-var-preview xr-preview'>&#x27;nan&#x27; &#x27;nan&#x27; &#x27;nan&#x27; ... &#x27;nan&#x27; &#x27;Y&#x27; &#x27;Y&#x27;</div><input id='attrs-89ca7978-853b-4786-9f37-96546bfd0771' class='xr-var-attrs-in' type='checkbox' ><label for='attrs-89ca7978-853b-4786-9f37-96546bfd0771' title='Show/Hide attributes'><svg class='icon xr-icon-file-text2'><use xlink:href='#icon-file-text2'></use></svg></label><input id='data-69423c6d-4faa-4ef1-af8f-99e645780c85' class='xr-var-data-in' type='checkbox'><label for='data-69423c6d-4faa-4ef1-af8f-99e645780c85' title='Show/Hide data repr'><svg class='icon xr-icon-database'><use xlink:href='#icon-database'></use></svg></label><div class='xr-var-attrs'><dl class='xr-attrs'><dt><span>flag_values :</span></dt><dd>M Q R S Y</dd><dt><span>flag_meanings :</span></dt><dd>See QA/QC csv for network.</dd></dl></div><div class='xr-var-data'><pre>array([[&#x27;nan&#x27;, &#x27;nan&#x27;, &#x27;nan&#x27;, ..., &#x27;nan&#x27;, &#x27;Y&#x27;, &#x27;Y&#x27;]], dtype=object)</pre></div></li><li class='xr-var-item'><div class='xr-var-name'><span>sfcWind_qc</span></div><div class='xr-var-dims'>(station, time)</div><div class='xr-var-dtype'>object</div><div class='xr-var-preview xr-preview'>&#x27;nan&#x27; &#x27;nan&#x27; &#x27;nan&#x27; ... &#x27;nan&#x27; &#x27;nan&#x27;</div><input id='attrs-8d73cfd1-873e-47cb-ba07-39360d600b1b' class='xr-var-attrs-in' type='checkbox' ><label for='attrs-8d73cfd1-873e-47cb-ba07-39360d600b1b' title='Show/Hide attributes'><svg class='icon xr-icon-file-text2'><use xlink:href='#icon-file-text2'></use></svg></label><input id='data-e5077360-a16b-4427-9177-4631fe4398af' class='xr-var-data-in' type='checkbox'><label for='data-e5077360-a16b-4427-9177-4631fe4398af' title='Show/Hide data repr'><svg class='icon xr-icon-database'><use xlink:href='#icon-database'></use></svg></label><div class='xr-var-attrs'><dl class='xr-attrs'><dt><span>flag_values :</span></dt><dd>I M P R S Y</dd><dt><span>flag_meanings :</span></dt><dd>See QA/QC csv for network.</dd></dl></div><div class='xr-var-data'><pre>array([[&#x27;nan&#x27;, &#x27;nan&#x27;, &#x27;nan&#x27;, ..., &#x27;nan&#x27;, &#x27;nan&#x27;, &#x27;nan&#x27;]], dtype=object)</pre></div></li><li class='xr-var-item'><div class='xr-var-name'><span>sfcWind_dir_qc</span></div><div class='xr-var-dims'>(station, time)</div><div class='xr-var-dtype'>object</div><div class='xr-var-preview xr-preview'>&#x27;nan&#x27; &#x27;nan&#x27; &#x27;nan&#x27; ... &#x27;nan&#x27; &#x27;nan&#x27;</div><input id='attrs-8d917fe9-0d51-49a8-bc3e-11f720bad0aa' class='xr-var-attrs-in' type='checkbox' ><label for='attrs-8d917fe9-0d51-49a8-bc3e-11f720bad0aa' title='Show/Hide attributes'><svg class='icon xr-icon-file-text2'><use xlink:href='#icon-file-text2'></use></svg></label><input id='data-86fcef65-3cd3-4d33-9d5a-08d7cf7f67f4' class='xr-var-data-in' type='checkbox'><label for='data-86fcef65-3cd3-4d33-9d5a-08d7cf7f67f4' title='Show/Hide data repr'><svg class='icon xr-icon-database'><use xlink:href='#icon-database'></use></svg></label><div class='xr-var-attrs'><dl class='xr-attrs'><dt><span>flag_values :</span></dt><dd>I M P Q R</dd><dt><span>flag_meanings :</span></dt><dd>See QA/QC csv for network.</dd></dl></div><div class='xr-var-data'><pre>array([[&#x27;nan&#x27;, &#x27;nan&#x27;, &#x27;nan&#x27;, ..., &#x27;nan&#x27;, &#x27;nan&#x27;, &#x27;nan&#x27;]], dtype=object)</pre></div></li><li class='xr-var-item'><div class='xr-var-name'><span>elevation</span></div><div class='xr-var-dims'>(station, time)</div><div class='xr-var-dtype'>float64</div><div class='xr-var-preview xr-preview'>125.0 125.0 125.0 ... 125.0 125.0</div><input id='attrs-c9b32d9a-9d74-45d3-97c5-e706f5da971a' class='xr-var-attrs-in' type='checkbox' ><label for='attrs-c9b32d9a-9d74-45d3-97c5-e706f5da971a' title='Show/Hide attributes'><svg class='icon xr-icon-file-text2'><use xlink:href='#icon-file-text2'></use></svg></label><input id='data-a12d06c5-c45f-459d-a5b0-05730adda6ad' class='xr-var-data-in' type='checkbox'><label for='data-a12d06c5-c45f-459d-a5b0-05730adda6ad' title='Show/Hide data repr'><svg class='icon xr-icon-database'><use xlink:href='#icon-database'></use></svg></label><div class='xr-var-attrs'><dl class='xr-attrs'><dt><span>standard_name :</span></dt><dd>height_above_mean_sea_level</dd><dt><span>long_name :</span></dt><dd>station_elevation</dd><dt><span>units :</span></dt><dd>meters</dd><dt><span>positive :</span></dt><dd>up</dd><dt><span>comment :</span></dt><dd>Converted from feet to meters.</dd><dt><span>ancillary_variables :</span></dt><dd>elevation_eraqc</dd></dl></div><div class='xr-var-data'><pre>array([[124.968, 124.968, 124.968, ..., 124.968, 124.968, 124.968]])</pre></div></li><li class='xr-var-item'><div class='xr-var-name'><span>tdps_derived</span></div><div class='xr-var-dims'>(station, time)</div><div class='xr-var-dtype'>float64</div><div class='xr-var-preview xr-preview'>256.9 255.1 254.0 ... 285.8 286.5</div><input id='attrs-841a274c-6aaa-4bfe-8e29-0bd98302c8cd' class='xr-var-attrs-in' type='checkbox' ><label for='attrs-841a274c-6aaa-4bfe-8e29-0bd98302c8cd' title='Show/Hide attributes'><svg class='icon xr-icon-file-text2'><use xlink:href='#icon-file-text2'></use></svg></label><input id='data-d969cdfb-4341-4c3e-b18c-14a95a4f7faf' class='xr-var-data-in' type='checkbox'><label for='data-d969cdfb-4341-4c3e-b18c-14a95a4f7faf' title='Show/Hide data repr'><svg class='icon xr-icon-database'><use xlink:href='#icon-database'></use></svg></label><div class='xr-var-attrs'><dl class='xr-attrs'><dt><span>long_name :</span></dt><dd>dew_point_temperature</dd><dt><span>standard_name :</span></dt><dd>dew_point_temperature</dd><dt><span>units :</span></dt><dd>degree_Kelvin</dd><dt><span>ancillary_variables :</span></dt><dd>tdps_derived_qc, tdps_derived_eraqc</dd><dt><span>comment :</span></dt><dd>Derived by CIMIS from vapor pressure and air temperature. Converted from Celsius to Kelvin.</dd></dl></div><div class='xr-var-data'><pre>array([[256.95, 255.15, 254.05, ..., 286.85, 285.75, 286.55]])</pre></div></li><li class='xr-var-item'><div class='xr-var-name'><span>pvp_derived</span></div><div class='xr-var-dims'>(station, time)</div><div class='xr-var-dtype'>float64</div><div class='xr-var-preview xr-preview'>200.0 100.0 ... 1.5e+03 1.5e+03</div><input id='attrs-f391acac-7b16-4eb0-9065-19bab358990f' class='xr-var-attrs-in' type='checkbox' ><label for='attrs-f391acac-7b16-4eb0-9065-19bab358990f' title='Show/Hide attributes'><svg class='icon xr-icon-file-text2'><use xlink:href='#icon-file-text2'></use></svg></label><input id='data-830dc664-8b90-43d7-bbe0-48a18f1d3ab2' class='xr-var-data-in' type='checkbox'><label for='data-830dc664-8b90-43d7-bbe0-48a18f1d3ab2' title='Show/Hide data repr'><svg class='icon xr-icon-database'><use xlink:href='#icon-database'></use></svg></label><div class='xr-var-attrs'><dl class='xr-attrs'><dt><span>long_name :</span></dt><dd>partial_vapor_pressure</dd><dt><span>standard_name :</span></dt><dd>water_vapor_partial_pressure_in_air</dd><dt><span>units :</span></dt><dd>Pa</dd><dt><span>ancillary_variables :</span></dt><dd>pvp_qc, pvp_derived_eraqc</dd><dt><span>comment :</span></dt><dd>Derived by CIMIS from relative humidity and air temperature measurements. Converted from kPa to Pa.</dd></dl></div><div class='xr-var-data'><pre>array([[ 200.,  100.,  100., ..., 1600., 1500., 1500.]])</pre></div></li><li class='xr-var-item'><div class='xr-var-name'><span>lat</span></div><div class='xr-var-dims'>(station, time)</div><div class='xr-var-dtype'>float64</div><div class='xr-var-preview xr-preview'>33.69 33.69 33.69 ... 33.69 33.69</div><input id='attrs-5f88488a-e180-4942-a482-d6fb52a10e20' class='xr-var-attrs-in' type='checkbox' disabled><label for='attrs-5f88488a-e180-4942-a482-d6fb52a10e20' title='Show/Hide attributes'><svg class='icon xr-icon-file-text2'><use xlink:href='#icon-file-text2'></use></svg></label><input id='data-17139e25-4f80-4300-96ba-882bb5c2fcbf' class='xr-var-data-in' type='checkbox'><label for='data-17139e25-4f80-4300-96ba-882bb5c2fcbf' title='Show/Hide data repr'><svg class='icon xr-icon-database'><use xlink:href='#icon-database'></use></svg></label><div class='xr-var-attrs'><dl class='xr-attrs'></dl></div><div class='xr-var-data'><pre>array([[33.68845, 33.68845, 33.68845, ..., 33.68845, 33.68845, 33.68845]])</pre></div></li><li class='xr-var-item'><div class='xr-var-name'><span>lon</span></div><div class='xr-var-dims'>(station, time)</div><div class='xr-var-dtype'>float64</div><div class='xr-var-preview xr-preview'>-117.7 -117.7 ... -117.7 -117.7</div><input id='attrs-5d9910ba-07df-403f-8ab0-564613c40c4a' class='xr-var-attrs-in' type='checkbox' disabled><label for='attrs-5d9910ba-07df-403f-8ab0-564613c40c4a' title='Show/Hide attributes'><svg class='icon xr-icon-file-text2'><use xlink:href='#icon-file-text2'></use></svg></label><input id='data-1eabf3ec-eb73-487c-8181-75d81e316de6' class='xr-var-data-in' type='checkbox'><label for='data-1eabf3ec-eb73-487c-8181-75d81e316de6' title='Show/Hide data repr'><svg class='icon xr-icon-database'><use xlink:href='#icon-database'></use></svg></label><div class='xr-var-attrs'><dl class='xr-attrs'></dl></div><div class='xr-var-data'><pre>array([[-117.72117778, -117.72117778, -117.72117778, ..., -117.72117778,\n",
       "        -117.72117778, -117.72117778]])</pre></div></li><li class='xr-var-item'><div class='xr-var-name'><span>tas_eraqc</span></div><div class='xr-var-dims'>(station, time)</div><div class='xr-var-dtype'>float64</div><div class='xr-var-preview xr-preview'>nan nan nan nan ... nan nan nan nan</div><input id='attrs-49305df1-917b-4c37-83b7-3ad5ffa35261' class='xr-var-attrs-in' type='checkbox' disabled><label for='attrs-49305df1-917b-4c37-83b7-3ad5ffa35261' title='Show/Hide attributes'><svg class='icon xr-icon-file-text2'><use xlink:href='#icon-file-text2'></use></svg></label><input id='data-6ff9d633-e961-48e6-9755-e05d131c4f20' class='xr-var-data-in' type='checkbox'><label for='data-6ff9d633-e961-48e6-9755-e05d131c4f20' title='Show/Hide data repr'><svg class='icon xr-icon-database'><use xlink:href='#icon-database'></use></svg></label><div class='xr-var-attrs'><dl class='xr-attrs'></dl></div><div class='xr-var-data'><pre>array([[nan, nan, nan, ..., nan, nan, nan]])</pre></div></li><li class='xr-var-item'><div class='xr-var-name'><span>pr_eraqc</span></div><div class='xr-var-dims'>(station, time)</div><div class='xr-var-dtype'>float64</div><div class='xr-var-preview xr-preview'>nan nan nan nan ... nan nan nan nan</div><input id='attrs-78e08584-e599-4bd3-ba55-bf054e6235c1' class='xr-var-attrs-in' type='checkbox' disabled><label for='attrs-78e08584-e599-4bd3-ba55-bf054e6235c1' title='Show/Hide attributes'><svg class='icon xr-icon-file-text2'><use xlink:href='#icon-file-text2'></use></svg></label><input id='data-9fbe5321-0805-4c62-ad2b-bd04e9d820a3' class='xr-var-data-in' type='checkbox'><label for='data-9fbe5321-0805-4c62-ad2b-bd04e9d820a3' title='Show/Hide data repr'><svg class='icon xr-icon-database'><use xlink:href='#icon-database'></use></svg></label><div class='xr-var-attrs'><dl class='xr-attrs'></dl></div><div class='xr-var-data'><pre>array([[nan, nan, nan, ..., nan, nan, nan]])</pre></div></li><li class='xr-var-item'><div class='xr-var-name'><span>hurs_eraqc</span></div><div class='xr-var-dims'>(station, time)</div><div class='xr-var-dtype'>float64</div><div class='xr-var-preview xr-preview'>nan nan nan nan ... nan nan nan nan</div><input id='attrs-43dabf2a-27f3-4a1a-a347-93f6f0c102ec' class='xr-var-attrs-in' type='checkbox' disabled><label for='attrs-43dabf2a-27f3-4a1a-a347-93f6f0c102ec' title='Show/Hide attributes'><svg class='icon xr-icon-file-text2'><use xlink:href='#icon-file-text2'></use></svg></label><input id='data-964aaa1e-6d5a-4033-b88c-377a7a00a15f' class='xr-var-data-in' type='checkbox'><label for='data-964aaa1e-6d5a-4033-b88c-377a7a00a15f' title='Show/Hide data repr'><svg class='icon xr-icon-database'><use xlink:href='#icon-database'></use></svg></label><div class='xr-var-attrs'><dl class='xr-attrs'></dl></div><div class='xr-var-data'><pre>array([[nan, nan, nan, ..., nan, nan, nan]])</pre></div></li><li class='xr-var-item'><div class='xr-var-name'><span>rsds_eraqc</span></div><div class='xr-var-dims'>(station, time)</div><div class='xr-var-dtype'>float64</div><div class='xr-var-preview xr-preview'>nan nan nan nan ... nan nan nan nan</div><input id='attrs-e2a18490-d486-4445-a6e8-eff2632fd74f' class='xr-var-attrs-in' type='checkbox' disabled><label for='attrs-e2a18490-d486-4445-a6e8-eff2632fd74f' title='Show/Hide attributes'><svg class='icon xr-icon-file-text2'><use xlink:href='#icon-file-text2'></use></svg></label><input id='data-bf41801f-1615-4556-9b2a-693155daaab2' class='xr-var-data-in' type='checkbox'><label for='data-bf41801f-1615-4556-9b2a-693155daaab2' title='Show/Hide data repr'><svg class='icon xr-icon-database'><use xlink:href='#icon-database'></use></svg></label><div class='xr-var-attrs'><dl class='xr-attrs'></dl></div><div class='xr-var-data'><pre>array([[nan, nan, nan, ..., nan, nan, nan]])</pre></div></li><li class='xr-var-item'><div class='xr-var-name'><span>sfcWind_eraqc</span></div><div class='xr-var-dims'>(station, time)</div><div class='xr-var-dtype'>float64</div><div class='xr-var-preview xr-preview'>nan nan nan nan ... nan nan nan nan</div><input id='attrs-a1cd9a05-dc34-4dff-8e29-ebc84db15859' class='xr-var-attrs-in' type='checkbox' disabled><label for='attrs-a1cd9a05-dc34-4dff-8e29-ebc84db15859' title='Show/Hide attributes'><svg class='icon xr-icon-file-text2'><use xlink:href='#icon-file-text2'></use></svg></label><input id='data-2f2473ca-4876-45a3-ab2c-62a7db261df8' class='xr-var-data-in' type='checkbox'><label for='data-2f2473ca-4876-45a3-ab2c-62a7db261df8' title='Show/Hide data repr'><svg class='icon xr-icon-database'><use xlink:href='#icon-database'></use></svg></label><div class='xr-var-attrs'><dl class='xr-attrs'></dl></div><div class='xr-var-data'><pre>array([[nan, nan, nan, ..., nan, nan, nan]])</pre></div></li><li class='xr-var-item'><div class='xr-var-name'><span>sfcWind_dir_eraqc</span></div><div class='xr-var-dims'>(station, time)</div><div class='xr-var-dtype'>float64</div><div class='xr-var-preview xr-preview'>nan nan nan nan ... nan nan nan nan</div><input id='attrs-4195b357-4230-423e-a331-38b1c14d8cb5' class='xr-var-attrs-in' type='checkbox' disabled><label for='attrs-4195b357-4230-423e-a331-38b1c14d8cb5' title='Show/Hide attributes'><svg class='icon xr-icon-file-text2'><use xlink:href='#icon-file-text2'></use></svg></label><input id='data-bdf3b9a0-30a2-4945-802a-3a0e907f103b' class='xr-var-data-in' type='checkbox'><label for='data-bdf3b9a0-30a2-4945-802a-3a0e907f103b' title='Show/Hide data repr'><svg class='icon xr-icon-database'><use xlink:href='#icon-database'></use></svg></label><div class='xr-var-attrs'><dl class='xr-attrs'></dl></div><div class='xr-var-data'><pre>array([[nan, nan, nan, ..., nan, nan, nan]])</pre></div></li><li class='xr-var-item'><div class='xr-var-name'><span>elevation_eraqc</span></div><div class='xr-var-dims'>(station, time)</div><div class='xr-var-dtype'>float64</div><div class='xr-var-preview xr-preview'>nan nan nan nan ... nan nan nan nan</div><input id='attrs-ab395e05-2493-4e00-a2b2-c1b087d76a93' class='xr-var-attrs-in' type='checkbox' disabled><label for='attrs-ab395e05-2493-4e00-a2b2-c1b087d76a93' title='Show/Hide attributes'><svg class='icon xr-icon-file-text2'><use xlink:href='#icon-file-text2'></use></svg></label><input id='data-5cba8e40-5ea4-451d-a2a6-82530a4484b4' class='xr-var-data-in' type='checkbox'><label for='data-5cba8e40-5ea4-451d-a2a6-82530a4484b4' title='Show/Hide data repr'><svg class='icon xr-icon-database'><use xlink:href='#icon-database'></use></svg></label><div class='xr-var-attrs'><dl class='xr-attrs'></dl></div><div class='xr-var-data'><pre>array([[nan, nan, nan, ..., nan, nan, nan]])</pre></div></li><li class='xr-var-item'><div class='xr-var-name'><span>tdps_derived_eraqc</span></div><div class='xr-var-dims'>(station, time)</div><div class='xr-var-dtype'>float64</div><div class='xr-var-preview xr-preview'>nan nan nan nan ... nan nan nan nan</div><input id='attrs-5ca40b4b-d56c-45aa-8c18-6423dc661904' class='xr-var-attrs-in' type='checkbox' disabled><label for='attrs-5ca40b4b-d56c-45aa-8c18-6423dc661904' title='Show/Hide attributes'><svg class='icon xr-icon-file-text2'><use xlink:href='#icon-file-text2'></use></svg></label><input id='data-da22da6d-fd78-4136-923d-76dbfadde970' class='xr-var-data-in' type='checkbox'><label for='data-da22da6d-fd78-4136-923d-76dbfadde970' title='Show/Hide data repr'><svg class='icon xr-icon-database'><use xlink:href='#icon-database'></use></svg></label><div class='xr-var-attrs'><dl class='xr-attrs'></dl></div><div class='xr-var-data'><pre>array([[nan, nan, nan, ..., nan, nan, nan]])</pre></div></li><li class='xr-var-item'><div class='xr-var-name'><span>pvp_derived_eraqc</span></div><div class='xr-var-dims'>(station, time)</div><div class='xr-var-dtype'>float64</div><div class='xr-var-preview xr-preview'>nan nan nan nan ... nan nan nan nan</div><input id='attrs-7eaa53d0-0eed-48e7-92a1-1c2b65344205' class='xr-var-attrs-in' type='checkbox' disabled><label for='attrs-7eaa53d0-0eed-48e7-92a1-1c2b65344205' title='Show/Hide attributes'><svg class='icon xr-icon-file-text2'><use xlink:href='#icon-file-text2'></use></svg></label><input id='data-e5da892d-e55a-44a4-970b-b43965eec2aa' class='xr-var-data-in' type='checkbox'><label for='data-e5da892d-e55a-44a4-970b-b43965eec2aa' title='Show/Hide data repr'><svg class='icon xr-icon-database'><use xlink:href='#icon-database'></use></svg></label><div class='xr-var-attrs'><dl class='xr-attrs'></dl></div><div class='xr-var-data'><pre>array([[nan, nan, nan, ..., nan, nan, nan]])</pre></div></li><li class='xr-var-item'><div class='xr-var-name'><span>anemometer_height_m</span></div><div class='xr-var-dims'>(station, time)</div><div class='xr-var-dtype'>float64</div><div class='xr-var-preview xr-preview'>2.0 2.0 2.0 2.0 ... 2.0 2.0 2.0 2.0</div><input id='attrs-ccd0e98b-1f82-416d-9272-de5aadea51da' class='xr-var-attrs-in' type='checkbox' disabled><label for='attrs-ccd0e98b-1f82-416d-9272-de5aadea51da' title='Show/Hide attributes'><svg class='icon xr-icon-file-text2'><use xlink:href='#icon-file-text2'></use></svg></label><input id='data-6a524599-6175-4910-8dfc-fdcc71edb00f' class='xr-var-data-in' type='checkbox'><label for='data-6a524599-6175-4910-8dfc-fdcc71edb00f' title='Show/Hide data repr'><svg class='icon xr-icon-database'><use xlink:href='#icon-database'></use></svg></label><div class='xr-var-attrs'><dl class='xr-attrs'></dl></div><div class='xr-var-data'><pre>array([[2., 2., 2., ..., 2., 2., 2.]])</pre></div></li><li class='xr-var-item'><div class='xr-var-name'><span>thermometer_height_m</span></div><div class='xr-var-dims'>(station, time)</div><div class='xr-var-dtype'>float64</div><div class='xr-var-preview xr-preview'>1.5 1.5 1.5 1.5 ... 1.5 1.5 1.5 1.5</div><input id='attrs-e78f0fba-dd3e-4b47-a0dd-98cd46a92f7e' class='xr-var-attrs-in' type='checkbox' disabled><label for='attrs-e78f0fba-dd3e-4b47-a0dd-98cd46a92f7e' title='Show/Hide attributes'><svg class='icon xr-icon-file-text2'><use xlink:href='#icon-file-text2'></use></svg></label><input id='data-089c5c80-091f-4528-b630-71704a483378' class='xr-var-data-in' type='checkbox'><label for='data-089c5c80-091f-4528-b630-71704a483378' title='Show/Hide data repr'><svg class='icon xr-icon-database'><use xlink:href='#icon-database'></use></svg></label><div class='xr-var-attrs'><dl class='xr-attrs'></dl></div><div class='xr-var-data'><pre>array([[1.5, 1.5, 1.5, ..., 1.5, 1.5, 1.5]])</pre></div></li></ul></div></li><li class='xr-section-item'><input id='section-59aec894-fd3c-499d-a518-ff78292b6b6e' class='xr-section-summary-in' type='checkbox'  ><label for='section-59aec894-fd3c-499d-a518-ff78292b6b6e' class='xr-section-summary' >Attributes: <span>(16)</span></label><div class='xr-section-inline-details'></div><div class='xr-section-details'><dl class='xr-attrs'><dt><span>title :</span></dt><dd>CIMIS quality controlled</dd><dt><span>institution :</span></dt><dd>Eagle Rock Analytics / Cal Adapt</dd><dt><span>source :</span></dt><dd></dd><dt><span>history :</span></dt><dd>CIMIS_clean.py script run on 02-13-2023, 22:25:54 UTC \n",
       "ALLNETWORKS_qaqc.py script run on 08-07-2024, 20:52:09 UTC</dd><dt><span>comment :</span></dt><dd>Intermediate data product: may not have been subject to any cleaning or QA/QC processing \n",
       "An intermediate data product: subject to cleaning but may not be subject to full QA/QC processing.</dd><dt><span>license :</span></dt><dd></dd><dt><span>citation :</span></dt><dd></dd><dt><span>disclaimer :</span></dt><dd>This document was prepared as a result of work sponsored by the California Energy Commission (PIR-19-006). It does not necessarily represent the views of the Energy Commission, its employees, or the State of California. Neither the Commission, the State of California, nor the Commission&#x27;s employees, contractors, or subcontractors makes any warranty, express or implied, or assumes any legal liability for the information in this document; nor does any party represent that the use of this information will not infringe upon privately owned rights. This document has not been approved or disapproved by the Commission, nor has the Commission passed upon the accuracy of the information in this document.</dd><dt><span>station_name :</span></dt><dd>Irvine</dd><dt><span>pyranometer_height_m :</span></dt><dd>2.0</dd><dt><span>wind_vane_height_m :</span></dt><dd>2.0</dd><dt><span>anemometer_height_m :</span></dt><dd>2.0</dd><dt><span>thermometer_height_m :</span></dt><dd>1.5</dd><dt><span>humidity_height_m :</span></dt><dd>1.5</dd><dt><span>rain_gauge_height_m :</span></dt><dd>1.0</dd><dt><span>raw_files_merged :</span></dt><dd>47</dd></dl></div></li></ul></div></div>"
      ],
      "text/plain": [
       "<xarray.Dataset>\n",
       "Dimensions:               (station: 1, time: 305943)\n",
       "Coordinates:\n",
       "  * station               (station) object 'CIMIS_75'\n",
       "  * time                  (time) datetime64[ns] 1987-10-07T09:00:00 ... 2022-...\n",
       "Data variables: (12/30)\n",
       "    tas                   (station, time) float64 290.8 290.8 ... 309.6 310.3\n",
       "    pr                    (station, time) float64 0.0 0.0 0.0 ... 0.0 0.0 0.0\n",
       "    hurs                  (station, time) float64 9.0 7.0 7.0 ... 27.0 24.0 24.0\n",
       "    rsds                  (station, time) float64 0.0 -1.0 -1.0 ... 803.0 678.0\n",
       "    sfcWind               (station, time) float64 0.8 0.7 1.0 ... 3.2 3.2 3.2\n",
       "    sfcWind_dir           (station, time) float64 87.1 76.2 11.7 ... 191.0 188.0\n",
       "    ...                    ...\n",
       "    sfcWind_dir_eraqc     (station, time) float64 nan nan nan ... nan nan nan\n",
       "    elevation_eraqc       (station, time) float64 nan nan nan ... nan nan nan\n",
       "    tdps_derived_eraqc    (station, time) float64 nan nan nan ... nan nan nan\n",
       "    pvp_derived_eraqc     (station, time) float64 nan nan nan ... nan nan nan\n",
       "    anemometer_height_m   (station, time) float64 2.0 2.0 2.0 ... 2.0 2.0 2.0\n",
       "    thermometer_height_m  (station, time) float64 1.5 1.5 1.5 ... 1.5 1.5 1.5\n",
       "Attributes: (12/16)\n",
       "    title:                 CIMIS quality controlled\n",
       "    institution:           Eagle Rock Analytics / Cal Adapt\n",
       "    source:                \n",
       "    history:               CIMIS_clean.py script run on 02-13-2023, 22:25:54 ...\n",
       "    comment:               Intermediate data product: may not have been subje...\n",
       "    license:               \n",
       "    ...                    ...\n",
       "    wind_vane_height_m:    2.0\n",
       "    anemometer_height_m:   2.0\n",
       "    thermometer_height_m:  1.5\n",
       "    humidity_height_m:     1.5\n",
       "    rain_gauge_height_m:   1.0\n",
       "    raw_files_merged:      47"
      ]
     },
     "execution_count": 22,
     "metadata": {},
     "output_type": "execute_result"
    }
   ],
   "source": [
    "%%time\n",
    "ds = download_nc_from_aws(specific_station)\n",
    "ds"
   ]
  },
  {
   "cell_type": "code",
   "execution_count": 23,
   "id": "b307539c-9321-42c2-9400-4e44657deadb",
   "metadata": {
    "execution": {
     "iopub.execute_input": "2024-10-02T22:33:50.283145Z",
     "iopub.status.busy": "2024-10-02T22:33:50.283002Z",
     "iopub.status.idle": "2024-10-02T22:33:51.006824Z",
     "shell.execute_reply": "2024-10-02T22:33:51.006412Z",
     "shell.execute_reply.started": "2024-10-02T22:33:50.283136Z"
    }
   },
   "outputs": [
    {
     "name": "stdout",
     "output_type": "stream",
     "text": [
      "era_qc existing variables:\n",
      "['tas_eraqc', 'pr_eraqc', 'hurs_eraqc', 'rsds_eraqc', 'sfcWind_eraqc', 'sfcWind_dir_eraqc', 'elevation_eraqc', 'tdps_derived_eraqc', 'pvp_derived_eraqc']\n",
      "0 created era_qc variables\n",
      "CPU times: user 589 ms, sys: 77.4 ms, total: 666 ms\n",
      "Wall time: 675 ms\n"
     ]
    },
    {
     "data": {
      "text/html": [
       "<div>\n",
       "<style scoped>\n",
       "    .dataframe tbody tr th:only-of-type {\n",
       "        vertical-align: middle;\n",
       "    }\n",
       "\n",
       "    .dataframe tbody tr th {\n",
       "        vertical-align: top;\n",
       "    }\n",
       "\n",
       "    .dataframe thead th {\n",
       "        text-align: right;\n",
       "    }\n",
       "</style>\n",
       "<table border=\"1\" class=\"dataframe\">\n",
       "  <thead>\n",
       "    <tr style=\"text-align: right;\">\n",
       "      <th></th>\n",
       "      <th>time</th>\n",
       "      <th>tas</th>\n",
       "      <th>pr</th>\n",
       "      <th>hurs</th>\n",
       "      <th>rsds</th>\n",
       "      <th>sfcWind</th>\n",
       "      <th>sfcWind_dir</th>\n",
       "      <th>pr_qc</th>\n",
       "      <th>rsds_qc</th>\n",
       "      <th>pvp_derived_qc</th>\n",
       "      <th>...</th>\n",
       "      <th>tdps_derived_eraqc</th>\n",
       "      <th>pvp_derived_eraqc</th>\n",
       "      <th>anemometer_height_m</th>\n",
       "      <th>thermometer_height_m</th>\n",
       "      <th>station</th>\n",
       "      <th>hour</th>\n",
       "      <th>day</th>\n",
       "      <th>month</th>\n",
       "      <th>year</th>\n",
       "      <th>date</th>\n",
       "    </tr>\n",
       "  </thead>\n",
       "  <tbody>\n",
       "    <tr>\n",
       "      <th>0</th>\n",
       "      <td>1987-10-07 09:00:00</td>\n",
       "      <td>290.75</td>\n",
       "      <td>0.0</td>\n",
       "      <td>9.0</td>\n",
       "      <td>0.0</td>\n",
       "      <td>0.8</td>\n",
       "      <td>87.1</td>\n",
       "      <td>nan</td>\n",
       "      <td>nan</td>\n",
       "      <td>nan</td>\n",
       "      <td>...</td>\n",
       "      <td>NaN</td>\n",
       "      <td>NaN</td>\n",
       "      <td>2.0</td>\n",
       "      <td>1.5</td>\n",
       "      <td>CIMIS_75</td>\n",
       "      <td>9</td>\n",
       "      <td>7</td>\n",
       "      <td>10</td>\n",
       "      <td>1987</td>\n",
       "      <td>1987-10-07</td>\n",
       "    </tr>\n",
       "    <tr>\n",
       "      <th>1</th>\n",
       "      <td>1987-10-07 10:00:00</td>\n",
       "      <td>290.85</td>\n",
       "      <td>0.0</td>\n",
       "      <td>7.0</td>\n",
       "      <td>-1.0</td>\n",
       "      <td>0.7</td>\n",
       "      <td>76.2</td>\n",
       "      <td>nan</td>\n",
       "      <td>nan</td>\n",
       "      <td>nan</td>\n",
       "      <td>...</td>\n",
       "      <td>NaN</td>\n",
       "      <td>NaN</td>\n",
       "      <td>2.0</td>\n",
       "      <td>1.5</td>\n",
       "      <td>CIMIS_75</td>\n",
       "      <td>10</td>\n",
       "      <td>7</td>\n",
       "      <td>10</td>\n",
       "      <td>1987</td>\n",
       "      <td>1987-10-07</td>\n",
       "    </tr>\n",
       "    <tr>\n",
       "      <th>2</th>\n",
       "      <td>1987-10-07 11:00:00</td>\n",
       "      <td>290.65</td>\n",
       "      <td>0.0</td>\n",
       "      <td>7.0</td>\n",
       "      <td>-1.0</td>\n",
       "      <td>1.0</td>\n",
       "      <td>11.7</td>\n",
       "      <td>nan</td>\n",
       "      <td>nan</td>\n",
       "      <td>nan</td>\n",
       "      <td>...</td>\n",
       "      <td>NaN</td>\n",
       "      <td>NaN</td>\n",
       "      <td>2.0</td>\n",
       "      <td>1.5</td>\n",
       "      <td>CIMIS_75</td>\n",
       "      <td>11</td>\n",
       "      <td>7</td>\n",
       "      <td>10</td>\n",
       "      <td>1987</td>\n",
       "      <td>1987-10-07</td>\n",
       "    </tr>\n",
       "  </tbody>\n",
       "</table>\n",
       "<p>3 rows × 37 columns</p>\n",
       "</div>"
      ],
      "text/plain": [
       "                 time     tas   pr  hurs  rsds  sfcWind  sfcWind_dir pr_qc  \\\n",
       "0 1987-10-07 09:00:00  290.75  0.0   9.0   0.0      0.8         87.1   nan   \n",
       "1 1987-10-07 10:00:00  290.85  0.0   7.0  -1.0      0.7         76.2   nan   \n",
       "2 1987-10-07 11:00:00  290.65  0.0   7.0  -1.0      1.0         11.7   nan   \n",
       "\n",
       "  rsds_qc pvp_derived_qc  ... tdps_derived_eraqc pvp_derived_eraqc  \\\n",
       "0     nan            nan  ...                NaN               NaN   \n",
       "1     nan            nan  ...                NaN               NaN   \n",
       "2     nan            nan  ...                NaN               NaN   \n",
       "\n",
       "  anemometer_height_m thermometer_height_m   station  hour  day  month  year  \\\n",
       "0                 2.0                  1.5  CIMIS_75     9    7     10  1987   \n",
       "1                 2.0                  1.5  CIMIS_75    10    7     10  1987   \n",
       "2                 2.0                  1.5  CIMIS_75    11    7     10  1987   \n",
       "\n",
       "         date  \n",
       "0  1987-10-07  \n",
       "1  1987-10-07  \n",
       "2  1987-10-07  \n",
       "\n",
       "[3 rows x 37 columns]"
      ]
     },
     "execution_count": 23,
     "metadata": {},
     "output_type": "execute_result"
    }
   ],
   "source": [
    "%%time\n",
    "df, MultiIndex, attrs, var_attrs, era_qc_vars = qaqc_ds_to_df(ds)\n",
    "df.head(3)"
   ]
  },
  {
   "cell_type": "markdown",
   "id": "e9e82593-b611-47e3-8bf2-220ed4e05e1c",
   "metadata": {},
   "source": [
    "#### Check if the ds_to_df problem was fixed\n",
    "\n",
    "`ds_to_df` function was deleting all flags and converting them to nans"
   ]
  },
  {
   "cell_type": "code",
   "execution_count": 24,
   "id": "886a2fba-e3a5-4e46-9de2-c76b596a6903",
   "metadata": {
    "execution": {
     "iopub.execute_input": "2024-10-02T22:33:51.007471Z",
     "iopub.status.busy": "2024-10-02T22:33:51.007390Z",
     "iopub.status.idle": "2024-10-02T22:33:51.094776Z",
     "shell.execute_reply": "2024-10-02T22:33:51.094361Z",
     "shell.execute_reply.started": "2024-10-02T22:33:51.007462Z"
    }
   },
   "outputs": [
    {
     "data": {
      "image/png": "[encoded data removed]",
      "text/plain": [
       "<Figure size 700x300 with 1 Axes>"
      ]
     },
     "metadata": {},
     "output_type": "display_data"
    }
   ],
   "source": [
    "fig, ax = plt.subplots(figsize=(7, 3))\n",
    "ds.tas_eraqc.plot(ax=ax, marker=\".\", lw=0);"
   ]
  },
  {
   "cell_type": "code",
   "execution_count": 25,
   "id": "27d28ea4-ab39-4d3a-bf49-0a657c2bd481",
   "metadata": {
    "execution": {
     "iopub.execute_input": "2024-10-02T22:33:51.095486Z",
     "iopub.status.busy": "2024-10-02T22:33:51.095290Z",
     "iopub.status.idle": "2024-10-02T22:33:51.170380Z",
     "shell.execute_reply": "2024-10-02T22:33:51.169972Z",
     "shell.execute_reply.started": "2024-10-02T22:33:51.095476Z"
    }
   },
   "outputs": [
    {
     "data": {
      "image/png": "[encoded data removed]",
      "text/plain": [
       "<Figure size 700x300 with 1 Axes>"
      ]
     },
     "metadata": {},
     "output_type": "display_data"
    }
   ],
   "source": [
    "fig, ax = plt.subplots(figsize=(7, 3))\n",
    "df.tas_eraqc.plot(ax=ax, marker=\".\", lw=0);"
   ]
  },
  {
   "cell_type": "code",
   "execution_count": null,
   "id": "26e170e4-bc65-4e1c-b41a-2e06d2fc1969",
   "metadata": {},
   "outputs": [],
   "source": []
  },
  {
   "cell_type": "markdown",
   "id": "2c40f37a-89f4-43e6-b676-14fbe7f62081",
   "metadata": {},
   "source": [
    "## Classification metrics: precision, recall, false positive, and false negative rates"
   ]
  },
  {
   "cell_type": "markdown",
   "id": "29a74f7c-6edd-4d73-aca2-8d3f930d3cf4",
   "metadata": {},
   "source": [
    "<div style=\"width: 50em;\">\n",
    "    \n",
    "**Accuracy** is the most obvious classification metric, which is defined as the number of correct predictions divided by the total number of observations.\n",
    "\n",
    "The biggest problem with accuracy is that it will let us down in situations where one class occurs with much higher frequency than another.  \n",
    "</div>"
   ]
  },
  {
   "cell_type": "markdown",
   "id": "ebdcc088-d008-4db8-88dd-8b6f17442642",
   "metadata": {},
   "source": [
    "<div style=\"width: 50em;\">\n",
    "\n",
    "---\n",
    "**Discussion**\n",
    "\n",
    "- We are tasked to build an QA/QC that analyzes weather stations. The goal is to build a pipeline that recognize \"bad\" values and flags them. Accuracy aims to flag as many \"bad\" avlues as the ground truth \"bad\" observations. \n",
    "- If our QA/QC gets a 1-% accuracy score, would we be happy with this outcome?\n",
    "---\n",
    "When accuracy is not a useful metric, we can instead focus on the uncommon class , in this case, the flag values:\n",
    "- If QA/QC pipeline marks an obvservartion as \"bad\", how likely is it for that obsrevation is actually an error?\", or\n",
    "- What percent of \"real\"/ground truth bad observations are correctly flagged by our pipeline?\"\n",
    "\n",
    "These are the concepts of **precision** and **recall**, respectively. \n",
    "\n",
    "</div>"
   ]
  },
  {
   "cell_type": "markdown",
   "id": "1657004f-726b-4b2a-bca6-aa46f0acd8fa",
   "metadata": {
    "execution": {
     "iopub.execute_input": "2024-10-02T18:56:54.233974Z",
     "iopub.status.busy": "2024-10-02T18:56:54.232352Z",
     "iopub.status.idle": "2024-10-02T18:56:54.703155Z",
     "shell.execute_reply": "2024-10-02T18:56:54.702297Z",
     "shell.execute_reply.started": "2024-10-02T18:56:54.233940Z"
    }
   },
   "source": [
    "<div style=\"width: 50em;\">\n",
    "\n",
    "In the figure below, \"correct\" observations are representend in blue and \"bad\" observations are red. We pick the \"flag\" class to be the **positive class**. The arrows denote the results of our QA/QC pipeline. A blue arrow means the pipeline classifies the observation as \"good\" and a red arrow means the pipeline flags the observation as \"bad\".\n",
    "\n",
    "![errors](precision_recall.svg)\n",
    "\n",
    "Notice that there are instances when the QA/QC makes a correct classification, either it classifies that a \"good\" observation is good (true negative) or it flags that a bad observation is bad (true positive). But occasionally it makes an error. There are two types of errors, we either flagged a good observation as \"bad\" (false positive, also called type I error) or we classified an \"real bad\" observation as correct (false negative, also called type II error). \n",
    "\n",
    "* **Precision** is then defined as the number of true positives divided by the number of all positive *predictions*. Maximizing precision means **minimizing false positives**.\n",
    "* **Recall** is defined as number of true positives divided by the number all positive *observations*. Maximizing recall means **minimizing false negatives**.\n",
    "---\n",
    "</div>"
   ]
  },
  {
   "cell_type": "markdown",
   "id": "9c84e4ca-b886-407b-bed4-af6097c8370a",
   "metadata": {
    "execution": {
     "iopub.execute_input": "2024-10-02T18:56:54.233974Z",
     "iopub.status.busy": "2024-10-02T18:56:54.232352Z",
     "iopub.status.idle": "2024-10-02T18:56:54.703155Z",
     "shell.execute_reply": "2024-10-02T18:56:54.702297Z",
     "shell.execute_reply.started": "2024-10-02T18:56:54.233940Z"
    }
   },
   "source": [
    "<div style=\"width: 50em;\">\n",
    "    \n",
    "**In summary**:\n",
    "\n",
    "Accuracy is the number of correct predictions divided by the total number of observations:\n",
    "- Minimizing false positives means maximizing precision.\n",
    "- Minimizing false negatives means maximizing recall\n",
    "</div>"
   ]
  },
  {
   "cell_type": "markdown",
   "id": "ce2a6906-4e91-43ed-b3d0-f1f6dc7cbed6",
   "metadata": {},
   "source": [
    "### False positive and false negative rates"
   ]
  },
  {
   "cell_type": "markdown",
   "id": "ea9356b3-0359-42ac-aaf0-94b7c723c2f8",
   "metadata": {},
   "source": [
    "<div style=\"width: 50em;\">\n",
    "\n",
    "The **false positive rate (FPR)** is the proportion of all negatives that still yield positive test outcomes, i.e., the conditional probability of a positive test result given an event that was not present. The false positive rate depends on the significance level. The **specificity** of the test is equal to 1 minus the false positive rate.\n",
    "\n",
    "- In statistical hypothesis testing, this fraction is given the Greek letter α, and 1 − α is defined as the specificity of the test. \n",
    "\n",
    "- Increasing the specificity of the test lowers the probability of type I errors, but may raise the probability of type II errors (false negatives that reject the alternative hypothesis when it is true).\n",
    "\n",
    "Complementarily, the **false negative rate (FNR)** is the proportion of positives which yield negative test outcomes with the test, i.e., the conditional probability of a negative test result given that the condition being looked for is present.\n",
    "\n",
    "- In statistical hypothesis testing, this fraction is given the letter β. The \"power\" (or the \"sensitivity\") of the test is equal to 1 − β.\n",
    "\n",
    "</div>"
   ]
  },
  {
   "cell_type": "markdown",
   "id": "309ba9d5-2725-4e94-aa8d-257fa81b6452",
   "metadata": {},
   "source": [
    "#### False positive rate (FPR)"
   ]
  },
  {
   "cell_type": "markdown",
   "id": "5ef7b358-4fe9-4779-96a7-627d5a4a2870",
   "metadata": {},
   "source": [
    "<div style=\"width: 50em;\">\n",
    "\n",
    "**FPR** is a metric used to evaluate the performance of a classification model, particularly in binary classification. It measures the proportion of negative instances (i.e., instances that actually belong to the negative class) that are incorrectly classified as positive by the model.\n",
    "\n",
    "$$\\text{False Positive Rate (FPR)} = \\frac{\\text{False Positives (FP)}}{\\text{False Positives (FP)} + \\text{True Negatives (TN)}}\\,\\text{,}$$\n",
    "where:\n",
    "\n",
    "False Positives (FP): The number of instances where the model incorrectly predicted the positive class, but they actually belong to the negative class.\n",
    "\n",
    "True Negatives (TN): The number of instances where the model correctly predicted the negative class.\n",
    "</div>"
   ]
  },
  {
   "cell_type": "markdown",
   "id": "58d2151b-26a4-4210-afc7-429d0bdb2319",
   "metadata": {},
   "source": [
    "<div style=\"width: 50em;\">\n",
    "\n",
    "**Interpretation:**\n",
    "\n",
    "The false positive rate tells you how often your model incorrectly classifies negatives as positives.\n",
    "\n",
    "- A low FPR is desirable, especially in cases where false positives carry significant costs (e.g., fraud detection, medical diagnoses).\n",
    "- A high FPR means the model is making too many incorrect positive predictions, which can lead to undesirable outcomes.\n",
    "</div>"
   ]
  },
  {
   "cell_type": "markdown",
   "id": "939a9f03-98e3-40f0-b78d-1ef1bc8f00a6",
   "metadata": {},
   "source": [
    "#### False negativerate (FPR)"
   ]
  },
  {
   "cell_type": "markdown",
   "id": "e2f37f09-b6fe-4b90-b767-2a19641ba58e",
   "metadata": {},
   "source": [
    "<div style=\"width: 50em;\">\n",
    "    \n",
    "The **False Negative Rate (FNR)** is a metric used in binary classification to measure the proportion of positive instances that are incorrectly classified as negative by the model. In other words, it tells you how often the model fails to detect positives (i.e., actual positives that were classified as negatives).\n",
    "\n",
    "$$\\text{False Negative Rate (FNR)} = \\frac{\\text{False Negatives (FN)}}{\\text{False Negatives (FN)} + \\text{True Positives (TP)}} \\, \\text{,}$$\n",
    "where\n",
    "\n",
    "False Negatives (FN): The number of instances where the model incorrectly predicted the negative class, but they actually belong to the positive class.\n",
    "\n",
    "True Positives (TP): The number of instances where the model correctly predicted the positive class.\n",
    "</div>"
   ]
  },
  {
   "cell_type": "markdown",
   "id": "329f478b-36bd-44a1-94bc-bedf9ca65095",
   "metadata": {},
   "source": [
    "<div style=\"width: 50em;\">\n",
    "\n",
    "**Interpretation:**\n",
    "\n",
    "- A low FNR is desirable, especially in applications where missing positive instances is costly (e.g., failing to detect a disease or fraud).\n",
    "- A high FNR means the model is missing too many actual positives, which can lead to harmful consequences.\n",
    "</div>"
   ]
  },
  {
   "cell_type": "markdown",
   "id": "efa82f7f-e8ec-4c0c-a5cc-8edf9b80349f",
   "metadata": {},
   "source": [
    "<div style=\"width: 50em;\">\n",
    "\n",
    "**Relation to Sensitivity (Recall)**\n",
    "\n",
    "The False Negative Rate (FNR) is related to Sensitivity (Recall), which measures the proportion of true positives identified by the model. Sensitivity is given by:\n",
    "$$\\text{Sensitivity (Recall)} = \\frac{\\text{True Positives (TP)}}{\\text{True Positives (TP)} + \\text{False Negatives (FN)}}$$\n",
    "</div>"
   ]
  },
  {
   "cell_type": "markdown",
   "id": "cc2da18c-3cf6-46ab-96c5-a1704de55799",
   "metadata": {},
   "source": [
    "## FPR/FNR in terms of our QA/QC process"
   ]
  },
  {
   "cell_type": "markdown",
   "id": "a38f3463-d496-4e7c-ae86-83f31fcf768e",
   "metadata": {},
   "source": [
    "<img src=\"era_obs.png\" alt=\"ERA_obs\" width=\"700\"/>\n",
    "</img>"
   ]
  },
  {
   "cell_type": "markdown",
   "id": "15857c51-345d-4262-90af-768dd469f9ac",
   "metadata": {},
   "source": [
    "<div style=\"width: 50em;\">\n",
    "\n",
    "* **False possitive rate (FPR)**\n",
    "\n",
    "**FPR** measures the proportion of \"good\" observations that are incorrectly classified as \"bad\" by the pipeline.\n",
    "\n",
    "$$\\text{False Positive Rate (FPR)} = \\frac{\\text{False Positives (FP)}}{\\text{False Positives (FP)} + \\text{True Negatives (TN)}}\\,\\text{,}$$\n",
    "where:\n",
    "\n",
    "FP: Number of incorrectly flagged observation by the QA/QC.\n",
    "\n",
    "TN: Number of observations that were correctly not flagged by QA/QC.\n",
    "</div>"
   ]
  },
  {
   "cell_type": "markdown",
   "id": "2c45bde2-68d6-4b7b-a463-8a52fdd012e9",
   "metadata": {},
   "source": [
    "* **False negative rate (FNR)**\n",
    "\n",
    "<div style=\"width: 50em;\">\n",
    "    \n",
    "**FNR**: proportion of \"bad\" observations incorrectly misded by the QA/QC. In other words, how often the QA/QC fails to detect \"bad\" values.\n",
    "\n",
    "$$\\text{FNR} = \\frac{\\text{False Negatives (FN)}}{\\text{False Negatives (FN)} + \\text{True Positives (TP)}} \\, \\text{,}$$\n",
    "where\n",
    "\n",
    "FN: Number of incorrectly missed \"bad\" observations not flagged by QA/QC.\n",
    "\n",
    "TP: Number correctly flagged observation by QA/QC.\n",
    "</div>"
   ]
  },
  {
   "cell_type": "code",
   "execution_count": 26,
   "id": "09829877-5428-4f04-873f-a3a24e7bc39a",
   "metadata": {
    "execution": {
     "iopub.execute_input": "2024-10-02T22:33:52.517137Z",
     "iopub.status.busy": "2024-10-02T22:33:52.517025Z",
     "iopub.status.idle": "2024-10-02T22:33:52.537175Z",
     "shell.execute_reply": "2024-10-02T22:33:52.536732Z",
     "shell.execute_reply.started": "2024-10-02T22:33:52.517127Z"
    }
   },
   "outputs": [
    {
     "data": {
      "text/plain": [
       "{'tas': 'temperature',\n",
       " 'tdps': 'dew_point_temperature',\n",
       " 'tdps_derived': 'dew_point_temperature',\n",
       " 'ps': 'station_level_pressure',\n",
       " 'psl': 'station_level_pressure',\n",
       " 'sfcWind_dir': 'wind_direction',\n",
       " 'sfcWind': 'wind_speed',\n",
       " 'hurs': 'relative_humidity',\n",
       " 'rsds': 'N/A',\n",
       " 'pr': 'precipitation',\n",
       " 'pr_1h': 'precipitation',\n",
       " 'pr_5min': 'precipitation'}"
      ]
     },
     "execution_count": 26,
     "metadata": {},
     "output_type": "execute_result"
    }
   ],
   "source": [
    "era2ghcn_vars"
   ]
  },
  {
   "cell_type": "code",
   "execution_count": 27,
   "id": "f048773e-b251-4b42-93ed-342ce0ef469a",
   "metadata": {
    "execution": {
     "iopub.execute_input": "2024-10-02T22:33:52.537859Z",
     "iopub.status.busy": "2024-10-02T22:33:52.537766Z",
     "iopub.status.idle": "2024-10-02T22:33:52.556777Z",
     "shell.execute_reply": "2024-10-02T22:33:52.556340Z",
     "shell.execute_reply.started": "2024-10-02T22:33:52.537850Z"
    }
   },
   "outputs": [
    {
     "data": {
      "text/plain": [
       "{'temperature': 'tas',\n",
       " 'dew_point_temperature': 'tdps_derived',\n",
       " 'station_level_pressure': 'psl',\n",
       " 'wind_direction': 'sfcWind_dir',\n",
       " 'wind_speed': 'sfcWind',\n",
       " 'relative_humidity': 'hurs',\n",
       " 'N/A': 'rsds',\n",
       " 'precipitation': 'pr_5min'}"
      ]
     },
     "execution_count": 27,
     "metadata": {},
     "output_type": "execute_result"
    }
   ],
   "source": [
    "ghcn2era_vars"
   ]
  },
  {
   "cell_type": "markdown",
   "id": "b4cef0de-efbd-4f1a-9c86-924e542374ae",
   "metadata": {},
   "source": [
    "### GHCNh legacy quality flags"
   ]
  },
  {
   "cell_type": "markdown",
   "id": "9f6f3c70-5593-409b-a55a-eff3e87724c3",
   "metadata": {},
   "source": [
    "<div style=\"width: 50em;\">\n",
    "\n",
    "- GHCN datasets quality code (flags) have a very annoying thing: the **legacy codes.**\n",
    "- For some reason, GHCN flags are letters or `str(numbers)`. But also, they have `int` or `float` in there. \n",
    "- It took a loooooot of digging and confusing, but whenever a letter or a str(number) is the flag, those\n",
    "are the GHCN flags. Whenever there is a float or int, the flag is legacy (this is what I understand so far). \n",
    "- Before realizing this, the percentage of flagged data in GHCN was almost 100%, because there is a flag that is \"data is ok\"\n",
    "- So, I had to re-write this and differentiate from str(number) and actual float/int numbers (I put a comment in the percentage function down there)\n",
    "- Also, the next few cells show a little bit of this struggling and how the flags are handled\n",
    "</div>"
   ]
  },
  {
   "cell_type": "code",
   "execution_count": 28,
   "id": "ee8e90c1-64ab-42a3-9548-81dc4639e016",
   "metadata": {
    "execution": {
     "iopub.execute_input": "2024-10-02T22:33:52.557403Z",
     "iopub.status.busy": "2024-10-02T22:33:52.557319Z",
     "iopub.status.idle": "2024-10-02T22:33:52.579177Z",
     "shell.execute_reply": "2024-10-02T22:33:52.578787Z",
     "shell.execute_reply.started": "2024-10-02T22:33:52.557394Z"
    }
   },
   "outputs": [
    {
     "data": {
      "text/plain": [
       "712      NaN\n",
       "8845     NaN\n",
       "53620    NaN\n",
       "54227    NaN\n",
       "55559    NaN\n",
       "        ... \n",
       "87434    NaN\n",
       "87500    NaN\n",
       "87529    NaN\n",
       "87536    NaN\n",
       "87537    NaN\n",
       "Name: temperature_Quality_Code, Length: 3486, dtype: object"
      ]
     },
     "execution_count": 28,
     "metadata": {},
     "output_type": "execute_result"
    }
   ],
   "source": [
    "ghcnh.station_data[\"temperature_Quality_Code\"][\n",
    "    ghcnh.station_data[\"temperature_Quality_Code\"].isna()\n",
    "]"
   ]
  },
  {
   "cell_type": "code",
   "execution_count": 29,
   "id": "28978087-50f8-40bd-8f49-6de84f6f313e",
   "metadata": {
    "execution": {
     "iopub.execute_input": "2024-10-02T22:33:52.580003Z",
     "iopub.status.busy": "2024-10-02T22:33:52.579859Z",
     "iopub.status.idle": "2024-10-02T22:33:52.632485Z",
     "shell.execute_reply": "2024-10-02T22:33:52.632104Z",
     "shell.execute_reply.started": "2024-10-02T22:33:52.579991Z"
    }
   },
   "outputs": [
    {
     "data": {
      "text/plain": [
       "0        U\n",
       "1        U\n",
       "2        4\n",
       "3        4\n",
       "4        4\n",
       "        ..\n",
       "87613    1\n",
       "87614    1\n",
       "87615    1\n",
       "87616    1\n",
       "87617    o\n",
       "Name: temperature_Quality_Code, Length: 84132, dtype: object"
      ]
     },
     "execution_count": 29,
     "metadata": {},
     "output_type": "execute_result"
    }
   ],
   "source": [
    "ghcnh.station_data[\"temperature_Quality_Code\"][\n",
    "    ~ghcnh.station_data[\"temperature_Quality_Code\"].isna()\n",
    "]"
   ]
  },
  {
   "cell_type": "code",
   "execution_count": 30,
   "id": "c1c053f2-e8a7-451c-85a5-1a6e67eac090",
   "metadata": {
    "execution": {
     "iopub.execute_input": "2024-10-02T22:33:52.633295Z",
     "iopub.status.busy": "2024-10-02T22:33:52.633025Z",
     "iopub.status.idle": "2024-10-02T22:33:52.655227Z",
     "shell.execute_reply": "2024-10-02T22:33:52.654654Z",
     "shell.execute_reply.started": "2024-10-02T22:33:52.633281Z"
    }
   },
   "outputs": [],
   "source": [
    "bad = ~ghcnh.station_data[\"temperature_Quality_Code\"].isna()"
   ]
  },
  {
   "cell_type": "code",
   "execution_count": 31,
   "id": "a112e97e-f45a-4742-b357-f485999511a3",
   "metadata": {
    "execution": {
     "iopub.execute_input": "2024-10-02T22:33:52.657021Z",
     "iopub.status.busy": "2024-10-02T22:33:52.656618Z",
     "iopub.status.idle": "2024-10-02T22:33:52.677698Z",
     "shell.execute_reply": "2024-10-02T22:33:52.677330Z",
     "shell.execute_reply.started": "2024-10-02T22:33:52.657009Z"
    }
   },
   "outputs": [
    {
     "data": {
      "text/plain": [
       "(87618, 84132)"
      ]
     },
     "execution_count": 31,
     "metadata": {},
     "output_type": "execute_result"
    }
   ],
   "source": [
    "len(ghcnh.station_data[\"temperature\"]), len(ghcnh.station_data[\"temperature\"][bad])"
   ]
  },
  {
   "cell_type": "raw",
   "id": "02d4dafb-30b8-4b81-8469-0eb931d3fe04",
   "metadata": {},
   "source": [
    "\"L\" : \"0,\", # failed Logical consistency\n",
    "\"o\" : \"1,\", # outlier check\n",
    "\"F\" : \"2,\", # Frequent value check\n",
    "\"U\" : \"3,\", # diUrnal inconsistency check\n",
    "\"D\" : \"4,\", # Distribution 1\n",
    "\"d\" : \"5,\", # distribution 2\n",
    "\"W\" : \"6,\", # World records exceedance\n",
    "\"K\" : \"7,\", # StreaK check\n",
    "\"C\" : \"8,\", # Climatological outlier\n",
    "\"T\" : \"9,\", # Timestamp issue\n",
    "\"S\" : \"10,\", # Spike check\n",
    "\"h\" : \"11,\", # humidity\n",
    "\"V\" : \"12,\", # Variance\n",
    "\"w\" : \"13,\", # winds\n",
    "\"N\" : \"14,\", # Neighbor comparison outlier\n",
    "\"E\" : \"15,\", # clEan up\n",
    "\"p\" : \"16,\", # pressure\n",
    "\"H\" : \"17,\", # High flag rat"
   ]
  },
  {
   "cell_type": "raw",
   "id": "7e1fd90b-93bd-47f5-9b16-6b20357787c6",
   "metadata": {},
   "source": [
    "The Legacy Codes for Sources 313, 314, 315, 322, 335, 343, 344, 345, 346 include\n",
    "0 = Passed gross limits check\n",
    "1 = Passed all quality control checks\n",
    "2 = Suspect\n",
    "3 = Erroneous\n",
    "4 = Passed gross limits check, data originate from an NCEI data source\n",
    "5 = Passed all quality control checks, data originate from an NCEI data source\n",
    "6 = Suspect, data originate from an NCEI data source\n",
    "7 = Erroneous, data originate from an NCEI data source\n",
    "9 = Passed gross limits check if element is present\n",
    "A – Data value flagged as suspect, but accepted as good value.\n",
    "U – Data value replaced with edited value.\n",
    "P – Data value not originally flagged as suspect, but replaced by validator.\n",
    "I – Data value not originally in data, but inserted by validator.\n",
    "M – Manual change made to value based on information provided by NWS or FAA.\n",
    "C – Temperature and dew point received from Automated Weather Observing Systems (AWOS)\n",
    "are reported in whole degrees Celsius. Automated QC flags these values, but they are accepted\n",
    "as valid.\n",
    "R – Data value replaced with value computed by NCEI software.\n",
    "\n",
    "And Legacy Codes for Sources: 220, 221, 222, 223, 347, 348 include\n",
    "0 Not Checked\n",
    "1 Good\n",
    "2 Suspect\n",
    "3 Erroneous\n",
    "4 Calculated\n",
    "5 Removed\n",
    "\n",
    "Derived variables (relative humidity and wet-bulb temperature) can have the following QC flags:\n",
    "o - Out of range (relative humidity only - with values < 1 or > 100)\n",
    "f - Suspect or Error flags for 1 or more of the input measurements"
   ]
  },
  {
   "cell_type": "code",
   "execution_count": 32,
   "id": "8306b221-68b4-4c6a-97dd-3a5e3c175777",
   "metadata": {
    "execution": {
     "iopub.execute_input": "2024-10-02T22:33:52.678447Z",
     "iopub.status.busy": "2024-10-02T22:33:52.678290Z",
     "iopub.status.idle": "2024-10-02T22:33:52.698809Z",
     "shell.execute_reply": "2024-10-02T22:33:52.698452Z",
     "shell.execute_reply.started": "2024-10-02T22:33:52.678433Z"
    }
   },
   "outputs": [
    {
     "data": {
      "text/plain": [
       "'# FOR NOW, new stations (not downloaded locally) are failing, data is not available '"
      ]
     },
     "execution_count": 32,
     "metadata": {},
     "output_type": "execute_result"
    }
   ],
   "source": [
    "\"\"\"# FOR NOW, new stations (not downloaded locally) are failing, data is not available \"\"\"\n",
    "\n",
    "# id = ghcnh_stations_df['id'].iloc[5]\n",
    "# ghcnh.read_data_from_url(id, save=True)"
   ]
  },
  {
   "cell_type": "code",
   "execution_count": 33,
   "id": "188f2fa0-0238-4b17-ae36-0d4ab2d4efaf",
   "metadata": {
    "execution": {
     "iopub.execute_input": "2024-10-02T22:33:52.699628Z",
     "iopub.status.busy": "2024-10-02T22:33:52.699405Z",
     "iopub.status.idle": "2024-10-02T22:33:59.524545Z",
     "shell.execute_reply": "2024-10-02T22:33:59.524110Z",
     "shell.execute_reply.started": "2024-10-02T22:33:52.699608Z"
    }
   },
   "outputs": [
    {
     "name": "stdout",
     "output_type": "stream",
     "text": [
      "USW00053175\n"
     ]
    }
   ],
   "source": [
    "id = ghcnh_stations_df[\"id\"].iloc[1]\n",
    "print(id)\n",
    "ghcnh.read_data_from_url(id, save=True)\n",
    "ghcnh.convert_df_to_gpd()"
   ]
  },
  {
   "cell_type": "code",
   "execution_count": 34,
   "id": "5b206a47-2b47-4b3c-8eb3-863ade47d75a",
   "metadata": {
    "execution": {
     "iopub.execute_input": "2024-10-02T22:33:59.525086Z",
     "iopub.status.busy": "2024-10-02T22:33:59.524999Z",
     "iopub.status.idle": "2024-10-02T22:33:59.544459Z",
     "shell.execute_reply": "2024-10-02T22:33:59.543941Z",
     "shell.execute_reply.started": "2024-10-02T22:33:59.525077Z"
    }
   },
   "outputs": [],
   "source": [
    "# flags = [\"L\",\"o\",\"F\",\"U\",\"D\",\"d\",\"W\",\"K\",\"C\",\"T\",\"S\",\"h\",\"V\",\"w\",\"N\",\"E\",\"p\",\"H\",\n",
    "#          \"0\",\"1\",\"2\",\"3\",\"4\",\"5\",\"6\",\"7\",\"8\",\"9\",\"10\",\"11\",\"12\",\"13\",\"14\",\"15\",\"16\",\"17\"\n",
    "#         ]\n",
    "# for f in flags:\n",
    "#     size = len(ghcnh.station_data['temperature_Quality_Code'][ghcnh.station_data['temperature_Quality_Code']==f])\n",
    "#     if f.isnumeric():\n",
    "#         size = size + len(ghcnh.station_data['temperature_Quality_Code'][ghcnh.station_data['temperature_Quality_Code']==int(f)])\n",
    "#     if size>0:\n",
    "#         print(\"{}:\\t{}\".format(f,size))"
   ]
  },
  {
   "cell_type": "code",
   "execution_count": 35,
   "id": "452d9aae-7647-4e80-83dd-d40f0096fe5a",
   "metadata": {
    "execution": {
     "iopub.execute_input": "2024-10-02T22:33:59.545037Z",
     "iopub.status.busy": "2024-10-02T22:33:59.544929Z",
     "iopub.status.idle": "2024-10-02T22:33:59.565385Z",
     "shell.execute_reply": "2024-10-02T22:33:59.565022Z",
     "shell.execute_reply.started": "2024-10-02T22:33:59.545026Z"
    }
   },
   "outputs": [
    {
     "data": {
      "text/plain": [
       "array([1.0, 9.0, nan, 4.0, '1', '4', 'N', 'K', 5.0, 6.0, 2, '5', '6', '2'],\n",
       "      dtype=object)"
      ]
     },
     "execution_count": 35,
     "metadata": {},
     "output_type": "execute_result"
    }
   ],
   "source": [
    "ghcnh.station_data[\"temperature_Quality_Code\"].unique()"
   ]
  },
  {
   "cell_type": "code",
   "execution_count": 36,
   "id": "896fa8b0-9dc1-4b6b-8798-cd55f33a6be5",
   "metadata": {
    "execution": {
     "iopub.execute_input": "2024-10-02T22:33:59.566133Z",
     "iopub.status.busy": "2024-10-02T22:33:59.566011Z",
     "iopub.status.idle": "2024-10-02T22:33:59.882709Z",
     "shell.execute_reply": "2024-10-02T22:33:59.882344Z",
     "shell.execute_reply.started": "2024-10-02T22:33:59.566121Z"
    }
   },
   "outputs": [
    {
     "name": "stdout",
     "output_type": "stream",
     "text": [
      "[223.  nan 343.]\n",
      "<class 'str'> K:\t223\n",
      "<class 'str'> N:\t4\n",
      "<class 'str'> 1:\t12255\n",
      "<class 'str'> 2:\t2\n",
      "<class 'str'> 4:\t4\n",
      "<class 'str'> 5:\t7786\n",
      "<class 'str'> 6:\t13\n",
      "<class 'int'> 1:\t61321\n",
      "<class 'int'> 2:\t3\n",
      "<class 'int'> 4:\t2\n",
      "<class 'int'> 5:\t104233\n",
      "<class 'int'> 6:\t177\n",
      "<class 'int'> 9:\t32\n"
     ]
    }
   ],
   "source": [
    "print(ghcnh.station_data[\"temperature_Source_Code\"].unique())\n",
    "\n",
    "flags = [\n",
    "    \"L\",\n",
    "    \"o\",\n",
    "    \"F\",\n",
    "    \"U\",\n",
    "    \"D\",\n",
    "    \"d\",\n",
    "    \"W\",\n",
    "    \"K\",\n",
    "    \"C\",\n",
    "    \"T\",\n",
    "    \"S\",\n",
    "    \"h\",\n",
    "    \"V\",\n",
    "    \"w\",\n",
    "    \"N\",\n",
    "    \"E\",\n",
    "    \"p\",\n",
    "    \"H\",\n",
    "    \"0\",\n",
    "    \"1\",\n",
    "    \"2\",\n",
    "    \"3\",\n",
    "    \"4\",\n",
    "    \"5\",\n",
    "    \"6\",\n",
    "    \"7\",\n",
    "    \"8\",\n",
    "    \"9\",\n",
    "    \"10\",\n",
    "    \"11\",\n",
    "    \"12\",\n",
    "    \"13\",\n",
    "    \"14\",\n",
    "    \"15\",\n",
    "    \"16\",\n",
    "    \"17\",\n",
    "    0,\n",
    "    1,\n",
    "    2,\n",
    "    3,\n",
    "    4,\n",
    "    5,\n",
    "    6,\n",
    "    7,\n",
    "    8,\n",
    "    9,\n",
    "    10,\n",
    "    11,\n",
    "    12,\n",
    "    13,\n",
    "    14,\n",
    "    15,\n",
    "    16,\n",
    "    17,\n",
    "]\n",
    "for f in flags:\n",
    "    size = len(\n",
    "        ghcnh.station_data[\"temperature_Quality_Code\"][\n",
    "            ghcnh.station_data[\"temperature_Quality_Code\"] == f\n",
    "        ]\n",
    "    )\n",
    "    if size > 0:\n",
    "        print(\"{} {}:\\t{}\".format(type(f), f, size))"
   ]
  },
  {
   "cell_type": "code",
   "execution_count": 37,
   "id": "e8c7ce8c-ecc4-4a25-842f-52526c306676",
   "metadata": {
    "execution": {
     "iopub.execute_input": "2024-10-02T22:33:59.883305Z",
     "iopub.status.busy": "2024-10-02T22:33:59.883209Z",
     "iopub.status.idle": "2024-10-02T22:33:59.913436Z",
     "shell.execute_reply": "2024-10-02T22:33:59.913125Z",
     "shell.execute_reply.started": "2024-10-02T22:33:59.883296Z"
    }
   },
   "outputs": [
    {
     "data": {
      "text/plain": [
       "array([<class 'float'>, <class 'str'>, <class 'int'>], dtype=object)"
      ]
     },
     "execution_count": 37,
     "metadata": {},
     "output_type": "execute_result"
    }
   ],
   "source": [
    "ghcnh.station_data[\"temperature_Quality_Code\"].transform(type).unique()"
   ]
  },
  {
   "cell_type": "code",
   "execution_count": 38,
   "id": "b1568dfa-ee8d-4389-85e2-aa7f860a9f88",
   "metadata": {
    "execution": {
     "iopub.execute_input": "2024-10-02T22:33:59.914075Z",
     "iopub.status.busy": "2024-10-02T22:33:59.913973Z",
     "iopub.status.idle": "2024-10-02T22:33:59.932360Z",
     "shell.execute_reply": "2024-10-02T22:33:59.932034Z",
     "shell.execute_reply.started": "2024-10-02T22:33:59.914065Z"
    }
   },
   "outputs": [],
   "source": [
    "# (223+4+12255+2+4+7786+13)/len(ghcnh.station_data['temperature_Quality_Code'])"
   ]
  },
  {
   "cell_type": "markdown",
   "id": "210182e8-cfc9-40ce-ac9d-913f1713c0f6",
   "metadata": {},
   "source": [
    "### Percentage of observation flagged"
   ]
  },
  {
   "cell_type": "code",
   "execution_count": 39,
   "id": "095d0d9d-02b1-4089-beea-144aade17663",
   "metadata": {
    "execution": {
     "iopub.execute_input": "2024-10-02T22:33:59.932999Z",
     "iopub.status.busy": "2024-10-02T22:33:59.932887Z",
     "iopub.status.idle": "2024-10-02T22:33:59.953490Z",
     "shell.execute_reply": "2024-10-02T22:33:59.953150Z",
     "shell.execute_reply.started": "2024-10-02T22:33:59.932988Z"
    }
   },
   "outputs": [],
   "source": [
    "def percentage_of_flags(df, var=None, ghcn=False, show=False):\n",
    "    if ghcn:\n",
    "        qc_var = var + \"_Quality_Code\"\n",
    "    else:\n",
    "        qc_var = var + \"_eraqc\"\n",
    "\n",
    "    isnan = df[qc_var].isna()\n",
    "    flagged_values = df.loc[~isnan, qc_var]\n",
    "    non_flagged_values = df.loc[isnan, qc_var]\n",
    "\n",
    "    # To deal with GHCN legacy flags\n",
    "    if ghcn:\n",
    "        legacy = ghcnh.station_data[\"temperature_Quality_Code\"].transform(\n",
    "            lambda row: type(row) == int or type(row) == float\n",
    "        )\n",
    "        isnan = np.logical_and(~isnan, ~legacy)\n",
    "        flagged_values = df.loc[isnan, qc_var]\n",
    "\n",
    "    perc = 100 * len(flagged_values) / len(df[qc_var])\n",
    "\n",
    "    if show:\n",
    "        print(\"{:.4f} % flagged values\".format(perc))\n",
    "\n",
    "    return perc"
   ]
  },
  {
   "cell_type": "code",
   "execution_count": 40,
   "id": "b2caf4ba-0d2c-4f59-a2cc-4297e6ec1f7c",
   "metadata": {
    "execution": {
     "iopub.execute_input": "2024-10-02T22:33:59.954031Z",
     "iopub.status.busy": "2024-10-02T22:33:59.953931Z",
     "iopub.status.idle": "2024-10-02T22:34:00.025482Z",
     "shell.execute_reply": "2024-10-02T22:34:00.025174Z",
     "shell.execute_reply.started": "2024-10-02T22:33:59.954022Z"
    }
   },
   "outputs": [
    {
     "name": "stdout",
     "output_type": "stream",
     "text": [
      "\n",
      "CIMIS_75\n",
      "['1987-10-07T09:00:00.000000000' '2022-08-31T23:00:00.000000000']\n",
      "0.1690 % flagged values\n",
      "\n",
      "USW00053175\n",
      "['2006-09-07T19:00:00.000000000' '2024-06-26T01:56:00.000000000']\n",
      "10.7769 % flagged values\n"
     ]
    }
   ],
   "source": [
    "var = \"tas\"\n",
    "ghcn_var = era2ghcn_vars[var]\n",
    "\n",
    "print(\"\\n{}\".format(specific_station))\n",
    "print(df.iloc[[0, -1]][\"time\"].values)\n",
    "perc = percentage_of_flags(df, var, ghcn=False, show=True)\n",
    "\n",
    "print(\"\\n{}\".format(ghcnh.station_data[\"Station_ID\"].iloc[0]))\n",
    "print(ghcnh.station_data.iloc[[0, -1]][\"time\"].values)\n",
    "perc = percentage_of_flags(ghcnh.station_data, ghcn_var, ghcn=True, show=True)"
   ]
  },
  {
   "cell_type": "code",
   "execution_count": 45,
   "id": "f8b218f0-1536-4d08-b7fa-3017bc481f93",
   "metadata": {
    "execution": {
     "iopub.execute_input": "2024-10-02T22:34:55.671225Z",
     "iopub.status.busy": "2024-10-02T22:34:55.670524Z",
     "iopub.status.idle": "2024-10-02T22:35:42.089487Z",
     "shell.execute_reply": "2024-10-02T22:35:42.088889Z",
     "shell.execute_reply.started": "2024-10-02T22:34:55.671167Z"
    }
   },
   "outputs": [
    {
     "name": "stdout",
     "output_type": "stream",
     "text": [
      "=============================\n",
      "ERA QA/QC:\tCIMIS_75\n",
      "['1987-10-07T09:00:00.000000000' '2022-08-31T23:00:00.000000000']\n",
      "0.1690 % flagged values\n",
      "=============================\n",
      "USW00093184\n",
      "['1940-06-17T22:00:00.000000000' '2024-06-26T01:53:00.000000000']\n",
      "33.5406 % flagged values\n",
      "=============================\n",
      "USW00053175\n",
      "['2006-09-07T19:00:00.000000000' '2024-06-26T01:56:00.000000000']\n",
      "10.7769 % flagged values\n",
      "=============================\n",
      "USW00003166\n",
      "['1973-01-01T00:00:00.000000000' '2024-06-24T14:53:00.000000000']\n",
      "19.6791 % flagged values\n"
     ]
    }
   ],
   "source": [
    "print(\"=============================\")\n",
    "print(\"ERA QA/QC:\\t{}\".format(specific_station))\n",
    "print(df.iloc[[0, -1]][\"time\"].values)\n",
    "perc = percentage_of_flags(df, var, ghcn=False, show=True)\n",
    "\n",
    "for i in range(3):\n",
    "    id = ghcnh_stations_df[\"id\"].iloc[i]\n",
    "    ghcnh.read_data_from_url(id, save=True)\n",
    "    ghcnh.convert_df_to_gpd()\n",
    "    ghcnh_df = ghcnh.station_data.copy()\n",
    "\n",
    "    tmp_df = return_ghcn_vars(ghcnh_df, var)\n",
    "    print(\"=============================\")\n",
    "    print(\"{}\".format(id))\n",
    "    print(ghcnh_df.iloc[[0, -1]][\"time\"].values)\n",
    "    perc = percentage_of_flags(tmp_df, ghcn_var, ghcn=True, show=True)"
   ]
  },
  {
   "cell_type": "code",
   "execution_count": 46,
   "id": "12e6c615-9df1-44fd-a16f-7976b5783622",
   "metadata": {
    "execution": {
     "iopub.execute_input": "2024-10-02T22:35:46.197187Z",
     "iopub.status.busy": "2024-10-02T22:35:46.197085Z",
     "iopub.status.idle": "2024-10-02T22:36:36.131953Z",
     "shell.execute_reply": "2024-10-02T22:36:36.131357Z",
     "shell.execute_reply.started": "2024-10-02T22:35:46.197178Z"
    }
   },
   "outputs": [
    {
     "name": "stdout",
     "output_type": "stream",
     "text": [
      "=============================\n",
      "ERA QA/QC:\tCIMIS_75\n",
      "['1987-10-07T09:00:00.000000000' '2022-08-31T23:00:00.000000000']\n",
      "0.0000 % flagged values\n",
      "=============================\n",
      "USW00093184\n",
      "['1940-06-17T22:00:00.000000000' '2024-06-26T01:53:00.000000000']\n",
      "0.0190 % flagged values\n",
      "=============================\n",
      "USW00053175\n",
      "['2006-09-07T19:00:00.000000000' '2024-06-26T01:56:00.000000000']\n",
      "0.0085 % flagged values\n",
      "=============================\n",
      "USW00003166\n",
      "['1973-01-01T00:00:00.000000000' '2024-06-24T14:53:00.000000000']\n",
      "0.0129 % flagged values\n"
     ]
    }
   ],
   "source": [
    "print(\"=============================\")\n",
    "print(\"ERA QA/QC:\\t{}\".format(specific_station))\n",
    "print(df.iloc[[0, -1]][\"time\"].values)\n",
    "perc = percentage_of_flags(df, var, ghcn=False, show=True)\n",
    "\n",
    "for i in range(3):\n",
    "    id = ghcnh_stations_df[\"id\"].iloc[i]\n",
    "    ghcnh.read_data_from_url(id, save=True)\n",
    "    ghcnh.convert_df_to_gpd()\n",
    "    ghcnh_df = ghcnh.station_data.copy()\n",
    "\n",
    "    tmp_df = return_ghcn_vars(ghcnh_df, var)\n",
    "    print(\"=============================\")\n",
    "    print(\"{}\".format(id))\n",
    "    print(ghcnh_df.iloc[[0, -1]][\"time\"].values)\n",
    "    perc = percentage_of_flags(tmp_df, ghcn_var, ghcn=True, show=True)"
   ]
  },
  {
   "cell_type": "markdown",
   "id": "6df2fe7a-7974-4a8c-975f-883c578d1bc7",
   "metadata": {},
   "source": [
    "### Station flag/time/coords statistics"
   ]
  },
  {
   "cell_type": "code",
   "execution_count": 41,
   "id": "8d28a8c0-52f9-45b6-99aa-1f884854fc68",
   "metadata": {
    "execution": {
     "iopub.execute_input": "2024-10-02T22:34:00.031494Z",
     "iopub.status.busy": "2024-10-02T22:34:00.031328Z",
     "iopub.status.idle": "2024-10-02T22:34:00.051621Z",
     "shell.execute_reply": "2024-10-02T22:34:00.051132Z",
     "shell.execute_reply.started": "2024-10-02T22:34:00.031484Z"
    }
   },
   "outputs": [],
   "source": [
    "def station_statistics(df, var=None, ghcn=False, show=False):\n",
    "    t0, t1 = df.iloc[[0, -1]][\"time\"].values\n",
    "\n",
    "    nTimes = len(df)\n",
    "\n",
    "    if ghcn:\n",
    "        coords = [(lon, lat) for lon, lat in zip(df[\"Longitude\"], df[\"Latitude\"])]\n",
    "    else:\n",
    "        coords = [(lon, lat) for lon, lat in zip(df[\"lon\"], df[\"lat\"])]\n",
    "    coords = set(coords)\n",
    "\n",
    "    frequency = pd.Timedelta(df[\"time\"].diff().median(), \"h\")\n",
    "\n",
    "    if ghcn:\n",
    "        variables = [var for var in df.columns if var in list(era2ghcn_vars.values())]\n",
    "    else:\n",
    "        variables = [var for var in df.columns if var in list(era2ghcn_vars.keys())]\n",
    "\n",
    "    flag_percentages = {}\n",
    "    for var in variables:\n",
    "        flag_percentages[var] = percentage_of_flags(df, var=var, ghcn=ghcn, show=False)\n",
    "\n",
    "    return variables, t0, t1, nTimes, frequency, flag_percentages, coords"
   ]
  },
  {
   "cell_type": "code",
   "execution_count": 42,
   "id": "1b2548a4-5f4e-4d88-acec-a242e90720fb",
   "metadata": {
    "execution": {
     "iopub.execute_input": "2024-10-02T22:34:00.052206Z",
     "iopub.status.busy": "2024-10-02T22:34:00.052115Z",
     "iopub.status.idle": "2024-10-02T22:34:00.070735Z",
     "shell.execute_reply": "2024-10-02T22:34:00.070379Z",
     "shell.execute_reply.started": "2024-10-02T22:34:00.052197Z"
    }
   },
   "outputs": [
    {
     "data": {
      "text/plain": [
       "Index(['Station_ID', 'Station_name', 'Year', 'Month', 'Day', 'Hour', 'Minute',\n",
       "       'Latitude', 'Longitude', 'Elevation',\n",
       "       ...\n",
       "       'precipitation_24_hour_Source_Code',\n",
       "       'precipitation_24_hour_Source_Station_ID', 'remarks',\n",
       "       'remarks_Measurement_Code', 'remarks_Quality_Code',\n",
       "       'remarks_Report_Type', 'remarks_Source_Code',\n",
       "       'remarks_Source_Station_ID', 'time', 'geometry'],\n",
       "      dtype='object', length=240)"
      ]
     },
     "execution_count": 42,
     "metadata": {},
     "output_type": "execute_result"
    }
   ],
   "source": [
    "ghcnh.station_data.columns"
   ]
  },
  {
   "cell_type": "code",
   "execution_count": 43,
   "id": "efaec793-0ac4-4294-bd54-74013b82742f",
   "metadata": {
    "execution": {
     "iopub.execute_input": "2024-10-02T22:34:00.071443Z",
     "iopub.status.busy": "2024-10-02T22:34:00.071353Z",
     "iopub.status.idle": "2024-10-02T22:34:00.174280Z",
     "shell.execute_reply": "2024-10-02T22:34:00.171745Z",
     "shell.execute_reply.started": "2024-10-02T22:34:00.071433Z"
    }
   },
   "outputs": [
    {
     "data": {
      "text/plain": [
       "(['tas', 'pr', 'hurs', 'rsds', 'sfcWind', 'sfcWind_dir', 'tdps_derived'],\n",
       " numpy.datetime64('1987-10-07T09:00:00.000000000'),\n",
       " numpy.datetime64('2022-08-31T23:00:00.000000000'),\n",
       " 305943,\n",
       " Timedelta('0 days 01:00:00'),\n",
       " {'tas': 0.16898572609930607,\n",
       "  'pr': 0.0,\n",
       "  'hurs': 0.0,\n",
       "  'rsds': 0.051970465086633784,\n",
       "  'sfcWind': 0.6808457784620011,\n",
       "  'sfcWind_dir': 0.41184142144124886,\n",
       "  'tdps_derived': 0.6739817547713136},\n",
       " {(-117.721177777778, 33.688449999999996)})"
      ]
     },
     "execution_count": 43,
     "metadata": {},
     "output_type": "execute_result"
    }
   ],
   "source": [
    "station_statistics(df)"
   ]
  },
  {
   "cell_type": "code",
   "execution_count": 44,
   "id": "b77d9c05-e368-4020-b957-835252c1242e",
   "metadata": {
    "execution": {
     "iopub.execute_input": "2024-10-02T22:34:00.181336Z",
     "iopub.status.busy": "2024-10-02T22:34:00.179749Z",
     "iopub.status.idle": "2024-10-02T22:34:00.412824Z",
     "shell.execute_reply": "2024-10-02T22:34:00.412473Z",
     "shell.execute_reply.started": "2024-10-02T22:34:00.181313Z"
    }
   },
   "outputs": [
    {
     "data": {
      "text/plain": [
       "(['temperature',\n",
       "  'dew_point_temperature',\n",
       "  'station_level_pressure',\n",
       "  'wind_direction',\n",
       "  'wind_speed',\n",
       "  'precipitation',\n",
       "  'relative_humidity'],\n",
       " numpy.datetime64('2006-09-07T19:00:00.000000000'),\n",
       " numpy.datetime64('2024-06-26T01:56:00.000000000'),\n",
       " 188245,\n",
       " Timedelta('0 days 01:00:00'),\n",
       " {'temperature': 10.776913065420064,\n",
       "  'dew_point_temperature': 10.249940237456507,\n",
       "  'station_level_pressure': 4.021355148875136,\n",
       "  'wind_direction': 10.51661398709129,\n",
       "  'wind_speed': 10.51661398709129,\n",
       "  'precipitation': 1.0481022072299397,\n",
       "  'relative_humidity': 0.008499561741347712},\n",
       " {(-117.6025, 33.8978)})"
      ]
     },
     "execution_count": 44,
     "metadata": {},
     "output_type": "execute_result"
    }
   ],
   "source": [
    "station_statistics(ghcnh.station_data, ghcn=True)"
   ]
  },
  {
   "cell_type": "code",
   "execution_count": 54,
   "id": "ff0c9e98-724a-45d2-bd32-66fb99ba59d3",
   "metadata": {
    "execution": {
     "iopub.execute_input": "2024-10-02T22:40:08.040375Z",
     "iopub.status.busy": "2024-10-02T22:40:08.039846Z",
     "iopub.status.idle": "2024-10-02T22:40:08.121489Z",
     "shell.execute_reply": "2024-10-02T22:40:08.121096Z",
     "shell.execute_reply.started": "2024-10-02T22:40:08.040338Z"
    }
   },
   "outputs": [],
   "source": [
    "def print_station_stats(stats):\n",
    "    variables, t0, t1, nTimes, frequency, flag_percentages, coords = stats\n",
    "    print(\"Variables: {}\".format(variables))\n",
    "    print(\"Timespan: {}-{}\".format(t0, t1))\n",
    "    print(\"Coordinates:\")\n",
    "    for c in coords:\n",
    "        print(\"{}\".format(c))\n",
    "    print(\"Number of observations: {}\".format(nTimes))\n",
    "    print(\"Frequency: {}\".format(frequency))\n",
    "    print(\".............................\")\n",
    "    print(\"Flag percentages:\")\n",
    "    print(\".............................\")\n",
    "    for var, pc in flag_percentages.items():\n",
    "        print(\"{}: {:.4f}%\".format(var, pc))"
   ]
  },
  {
   "cell_type": "code",
   "execution_count": 55,
   "id": "02f5b338-a19e-483c-b443-f67fc855dfb2",
   "metadata": {
    "execution": {
     "iopub.execute_input": "2024-10-02T22:40:13.214058Z",
     "iopub.status.busy": "2024-10-02T22:40:13.213936Z",
     "iopub.status.idle": "2024-10-02T22:41:03.271094Z",
     "shell.execute_reply": "2024-10-02T22:41:03.270434Z",
     "shell.execute_reply.started": "2024-10-02T22:40:13.214048Z"
    }
   },
   "outputs": [
    {
     "name": "stdout",
     "output_type": "stream",
     "text": [
      "=============================\n",
      "ERA QA/QC:\tCIMIS_75\n",
      "-----------------------------\n",
      "Variables: ['tas', 'pr', 'hurs', 'rsds', 'sfcWind', 'sfcWind_dir', 'tdps_derived']\n",
      "Timespan: 1987-10-07T09:00:00.000000000-2022-08-31T23:00:00.000000000\n",
      "Coordinates:\n",
      "(-117.721177777778, 33.688449999999996)\n",
      "Number of observations: 305943\n",
      "Frequency: 0 days 01:00:00\n",
      ".............................\n",
      "Flag percentages:\n",
      ".............................\n",
      "tas: 0.1690%\n",
      "pr: 0.0000%\n",
      "hurs: 0.0000%\n",
      "rsds: 0.0520%\n",
      "sfcWind: 0.6808%\n",
      "sfcWind_dir: 0.4118%\n",
      "tdps_derived: 0.6740%\n",
      "\n",
      "=============================\n",
      "USW00093184\n",
      "-----------------------------\n",
      "Variables: ['temperature', 'dew_point_temperature', 'station_level_pressure', 'wind_direction', 'wind_speed', 'precipitation', 'relative_humidity']\n",
      "Timespan: 1940-06-17T22:00:00.000000000-2024-06-26T01:53:00.000000000\n",
      "Coordinates:\n",
      "(-117.8675, 33.6797)\n",
      "Number of observations: 494747\n",
      "Frequency: 0 days 01:00:00\n",
      ".............................\n",
      "Flag percentages:\n",
      ".............................\n",
      "temperature: 33.5406%\n",
      "dew_point_temperature: 25.5900%\n",
      "station_level_pressure: 8.3978%\n",
      "wind_direction: 33.4763%\n",
      "wind_speed: 33.4694%\n",
      "precipitation: 7.1489%\n",
      "relative_humidity: 0.0190%\n",
      "\n",
      "=============================\n",
      "USW00053175\n",
      "-----------------------------\n",
      "Variables: ['temperature', 'dew_point_temperature', 'station_level_pressure', 'wind_direction', 'wind_speed', 'precipitation', 'relative_humidity']\n",
      "Timespan: 2006-09-07T19:00:00.000000000-2024-06-26T01:56:00.000000000\n",
      "Coordinates:\n",
      "(-117.6025, 33.8978)\n",
      "Number of observations: 188245\n",
      "Frequency: 0 days 01:00:00\n",
      ".............................\n",
      "Flag percentages:\n",
      ".............................\n",
      "temperature: 10.7769%\n",
      "dew_point_temperature: 10.2499%\n",
      "station_level_pressure: 4.0214%\n",
      "wind_direction: 10.5166%\n",
      "wind_speed: 10.5166%\n",
      "precipitation: 1.0481%\n",
      "relative_humidity: 0.0085%\n",
      "\n",
      "=============================\n",
      "USW00003166\n",
      "-----------------------------\n",
      "Variables: ['temperature', 'dew_point_temperature', 'station_level_pressure', 'wind_direction', 'wind_speed', 'precipitation', 'relative_humidity']\n",
      "Timespan: 1973-01-01T00:00:00.000000000-2024-06-24T14:53:00.000000000\n",
      "Coordinates:\n",
      "(-117.9855, 33.8717)\n",
      "Number of observations: 404196\n",
      "Frequency: 0 days 01:00:00\n",
      ".............................\n",
      "Flag percentages:\n",
      ".............................\n",
      "temperature: 19.6791%\n",
      "dew_point_temperature: 17.9747%\n",
      "station_level_pressure: 8.0827%\n",
      "wind_direction: 19.6162%\n",
      "wind_speed: 19.6140%\n",
      "precipitation: 7.2161%\n",
      "relative_humidity: 0.0129%\n"
     ]
    }
   ],
   "source": [
    "print(\"=============================\")\n",
    "print(\"ERA QA/QC:\\t{}\".format(specific_station))\n",
    "print(\"-----------------------------\")\n",
    "stats = station_statistics(df)\n",
    "print_station_stats(stats)\n",
    "for i in range(3):\n",
    "    id = ghcnh_stations_df[\"id\"].iloc[i]\n",
    "    ghcnh.read_data_from_url(id, save=True)\n",
    "    ghcnh.convert_df_to_gpd()\n",
    "    ghcnh_df = ghcnh.station_data.copy()\n",
    "    stats = station_statistics(ghcnh_df, ghcn=True)\n",
    "    print(\"\\n=============================\")\n",
    "    print(\"{}\".format(id))\n",
    "    print(\"-----------------------------\")\n",
    "    print_station_stats(stats)"
   ]
  },
  {
   "cell_type": "code",
   "execution_count": 58,
   "id": "c9f6e4f7-0097-42e0-948f-73a9e8400be2",
   "metadata": {
    "execution": {
     "iopub.execute_input": "2024-10-03T16:54:36.633940Z",
     "iopub.status.busy": "2024-10-03T16:54:36.632857Z",
     "iopub.status.idle": "2024-10-03T16:54:36.716554Z",
     "shell.execute_reply": "2024-10-03T16:54:36.715915Z",
     "shell.execute_reply.started": "2024-10-03T16:54:36.633879Z"
    }
   },
   "outputs": [
    {
     "data": {
      "text/plain": [
       "id                                                        USW00053175\n",
       "latitude                                                      33.8978\n",
       "longitude                                                   -117.6025\n",
       "elevation                                                       162.5\n",
       "state                                                              CA\n",
       "name                                   CORONA MUNICIPAL AP           \n",
       "gsn_flag                                                             \n",
       "hcn                                                                  \n",
       "crn_flag                                                             \n",
       "wmo_id                                                            NaN\n",
       "url                 https://www.ncei.noaa.gov/oa/global-historical...\n",
       "is_in_wecc                                                       True\n",
       "geometry                POINT (-13091450.416015955 4015087.304536296)\n",
       "distance_to_eval                                         30998.762024\n",
       "Name: 5138, dtype: object"
      ]
     },
     "execution_count": 58,
     "metadata": {},
     "output_type": "execute_result"
    }
   ],
   "source": [
    "ghcnh_stations_df.iloc[1]"
   ]
  },
  {
   "cell_type": "code",
   "execution_count": null,
   "id": "d0bb8738-6be1-45a2-a560-0bcae2f4e8ab",
   "metadata": {},
   "outputs": [],
   "source": []
  },
  {
   "cell_type": "code",
   "execution_count": null,
   "id": "bc23384e-1f0f-4ed6-83e3-6d6429e2c6a7",
   "metadata": {},
   "outputs": [],
   "source": []
  },
  {
   "cell_type": "code",
   "execution_count": null,
   "id": "bf18f1af-8e74-4a9f-bc2c-93dcd268dc49",
   "metadata": {},
   "outputs": [],
   "source": []
  },
  {
   "cell_type": "code",
   "execution_count": null,
   "id": "4ccb3b82-92d6-4ed9-8030-a0fb3b97c3c8",
   "metadata": {},
   "outputs": [],
   "source": []
  },
  {
   "cell_type": "code",
   "execution_count": null,
   "id": "0288e107-c5d3-4297-87c3-87de5e44902f",
   "metadata": {},
   "outputs": [],
   "source": []
  },
  {
   "cell_type": "code",
   "execution_count": null,
   "id": "5d3d447d-5e16-477b-a91f-047babf1243c",
   "metadata": {
    "execution": {
     "iopub.status.busy": "2024-10-02T22:27:46.762313Z",
     "iopub.status.idle": "2024-10-02T22:27:46.762523Z",
     "shell.execute_reply": "2024-10-02T22:27:46.762427Z",
     "shell.execute_reply.started": "2024-10-02T22:27:46.762421Z"
    }
   },
   "outputs": [],
   "source": [
    "ghcnh_df[vars[var] + \"_Quality_Code\"]"
   ]
  },
  {
   "cell_type": "code",
   "execution_count": null,
   "id": "ff570cb7-8246-41c2-a129-21c77513ed49",
   "metadata": {
    "execution": {
     "iopub.status.busy": "2024-10-02T22:27:46.763391Z",
     "iopub.status.idle": "2024-10-02T22:27:46.763547Z",
     "shell.execute_reply": "2024-10-02T22:27:46.763463Z",
     "shell.execute_reply.started": "2024-10-02T22:27:46.763457Z"
    }
   },
   "outputs": [],
   "source": [
    "ghcnh_df[vars[var]].plot()\n",
    "ghcnh_df.dropna(subset=vars[var] + \"_Quality_Code\")[vars[var]].plot(marker=\".\", lw=0)"
   ]
  },
  {
   "cell_type": "code",
   "execution_count": null,
   "id": "ff3b3a7a-8115-4f65-9687-f2263d2098ed",
   "metadata": {
    "execution": {
     "iopub.status.busy": "2024-10-02T22:27:46.764717Z",
     "iopub.status.idle": "2024-10-02T22:27:46.764848Z",
     "shell.execute_reply": "2024-10-02T22:27:46.764782Z",
     "shell.execute_reply.started": "2024-10-02T22:27:46.764777Z"
    }
   },
   "outputs": [],
   "source": [
    "fig, ax = plt.subplots(figsize=(10, 3))\n",
    "pd.DataFrame(ghcnh_df).iloc[5000:5200].plot(\n",
    "    x=\"time\", y=\"temperature\", marker=\"x\", lw=0, ax=ax\n",
    ")\n",
    "pd.DataFrame(ghcnh_df).iloc[5000:5200].dropna(subset=vars[var] + \"_Quality_Code\").plot(\n",
    "    x=\"time\", y=\"temperature\", marker=\"o\", mfc=\"none\", lw=0, ax=ax\n",
    ")"
   ]
  },
  {
   "cell_type": "code",
   "execution_count": null,
   "id": "f34191d1-fa6f-46d7-86fd-dc888aad0477",
   "metadata": {
    "execution": {
     "iopub.status.busy": "2024-10-02T22:27:46.765721Z",
     "iopub.status.idle": "2024-10-02T22:27:46.766007Z",
     "shell.execute_reply": "2024-10-02T22:27:46.765909Z",
     "shell.execute_reply.started": "2024-10-02T22:27:46.765903Z"
    }
   },
   "outputs": [],
   "source": [
    "len(ghcnh_df.dropna(subset=vars[var] + \"_Quality_Code\")) / len(ghcnh_df)"
   ]
  },
  {
   "cell_type": "code",
   "execution_count": null,
   "id": "d3d25c1b-8924-4dbd-9505-ce9553752465",
   "metadata": {
    "execution": {
     "iopub.status.busy": "2024-10-02T22:27:46.766713Z",
     "iopub.status.idle": "2024-10-02T22:27:46.766981Z",
     "shell.execute_reply": "2024-10-02T22:27:46.766854Z",
     "shell.execute_reply.started": "2024-10-02T22:27:46.766848Z"
    }
   },
   "outputs": [],
   "source": [
    "print(\n",
    "    len(ghcnh_df[vars[var] + \"_Quality_Code\"].dropna())\n",
    "    / len(ghcnh_df[vars[var] + \"_Quality_Code\"])\n",
    ")"
   ]
  },
  {
   "cell_type": "code",
   "execution_count": null,
   "id": "b9a048e6-5f83-4dbd-b09d-ee039f12e62f",
   "metadata": {
    "execution": {
     "iopub.status.busy": "2024-10-02T22:27:46.767621Z",
     "iopub.status.idle": "2024-10-02T22:27:46.767779Z",
     "shell.execute_reply": "2024-10-02T22:27:46.767689Z",
     "shell.execute_reply.started": "2024-10-02T22:27:46.767683Z"
    }
   },
   "outputs": [],
   "source": [
    "ghcnh_df[vars[var] + \"_Quality_Code\"].unique()"
   ]
  },
  {
   "cell_type": "code",
   "execution_count": null,
   "id": "c8392c54-d15d-4923-8555-ad0bf53bb34c",
   "metadata": {
    "execution": {
     "iopub.status.busy": "2024-10-02T22:27:46.768445Z",
     "iopub.status.idle": "2024-10-02T22:27:46.768715Z",
     "shell.execute_reply": "2024-10-02T22:27:46.768609Z",
     "shell.execute_reply.started": "2024-10-02T22:27:46.768510Z"
    }
   },
   "outputs": [],
   "source": [
    "np.setdiff1d(ghcnh_df[vars[var] + \"_Quality_Code\"].dropna().index, ghcnh_df.index)"
   ]
  },
  {
   "cell_type": "code",
   "execution_count": null,
   "id": "ac0495c1-ecb0-4259-b6b9-032ac67326fb",
   "metadata": {
    "execution": {
     "iopub.status.busy": "2024-10-02T22:27:46.770778Z",
     "iopub.status.idle": "2024-10-02T22:27:46.770981Z",
     "shell.execute_reply": "2024-10-02T22:27:46.770900Z",
     "shell.execute_reply.started": "2024-10-02T22:27:46.770893Z"
    }
   },
   "outputs": [],
   "source": [
    "ind = pd.isna(ghcnh_df[vars[var] + \"_Quality_Code\"])\n",
    "len(np.where(ind)[0])\n",
    "len(plot_df[ind])"
   ]
  },
  {
   "cell_type": "code",
   "execution_count": null,
   "id": "9e6a6311-998b-4f80-b411-1fdda5ac35ec",
   "metadata": {
    "execution": {
     "iopub.status.busy": "2024-10-02T22:27:46.771713Z",
     "iopub.status.idle": "2024-10-02T22:27:46.771865Z",
     "shell.execute_reply": "2024-10-02T22:27:46.771794Z",
     "shell.execute_reply.started": "2024-10-02T22:27:46.771788Z"
    }
   },
   "outputs": [],
   "source": [
    "fig, ax = plt.subplots(figsize=(10, 3))\n",
    "plot_df = pd.DataFrame(ghcnh_df)\n",
    "plot_df.plot(\n",
    "    x=\"time\", y=vars[var], ax=ax, marker=\".\", lw=0.5, color=\"black\", markersize=2\n",
    ")\n",
    "ax.fill_between(\n",
    "    x=plot_df[ind].time,\n",
    "    y1=ax.get_ylim()[0],\n",
    "    y2=ax.get_ylim()[1],\n",
    "    color=\"skyblue\",\n",
    "    alpha=0.5,\n",
    ")\n",
    "# plot_df = plot_df[ind]\n",
    "# plot_df.plot(x=\"time\", y=vars[var],\n",
    "#              ax=ax, marker=\"o\", lw=0.0, color=\"red\",\n",
    "#              markersize=4, label='Streaks', mfc='none')"
   ]
  },
  {
   "cell_type": "code",
   "execution_count": null,
   "id": "6bd626cc-3376-46f6-9d9f-0a2019ec44ca",
   "metadata": {
    "execution": {
     "iopub.status.busy": "2024-10-02T22:27:46.773003Z",
     "iopub.status.idle": "2024-10-02T22:27:46.773168Z",
     "shell.execute_reply": "2024-10-02T22:27:46.773062Z",
     "shell.execute_reply.started": "2024-10-02T22:27:46.773057Z"
    }
   },
   "outputs": [],
   "source": [
    "fig, ax = plt.subplots(figsize=(10, 3))\n",
    "plot_df = pd.DataFrame(ghcnh_df)\n",
    "plot_df.plot(\n",
    "    x=\"time\", y=vars[var], ax=ax, marker=\".\", lw=0.5, color=\"black\", markersize=2\n",
    ")\n",
    "plot_df = plot_df[plot_df[vars[var] + \"_Quality_Code\"] == \"K\"]\n",
    "plot_df.plot(\n",
    "    x=\"time\",\n",
    "    y=vars[var],\n",
    "    ax=ax,\n",
    "    marker=\"o\",\n",
    "    lw=0.0,\n",
    "    color=\"red\",\n",
    "    markersize=4,\n",
    "    label=\"Streaks\",\n",
    "    mfc=\"none\",\n",
    ")"
   ]
  },
  {
   "cell_type": "code",
   "execution_count": null,
   "id": "4382dee7-5d18-4f81-be46-5f4565ecd534",
   "metadata": {
    "execution": {
     "iopub.status.busy": "2024-10-02T22:27:46.773836Z",
     "iopub.status.idle": "2024-10-02T22:27:46.774059Z",
     "shell.execute_reply": "2024-10-02T22:27:46.773972Z",
     "shell.execute_reply.started": "2024-10-02T22:27:46.773965Z"
    }
   },
   "outputs": [],
   "source": [
    "fig, ax = plt.subplots(figsize=(10, 3))\n",
    "plot_df = pd.DataFrame(ghcnh_df)\n",
    "plot_df.plot(\n",
    "    x=\"time\", y=vars[var], ax=ax, marker=\".\", lw=0.5, color=\"black\", markersize=2\n",
    ")\n",
    "plot_df = plot_df[plot_df[vars[var] + \"_Quality_Code\"] == \"K\"]\n",
    "plot_df.plot(\n",
    "    x=\"time\",\n",
    "    y=vars[var],\n",
    "    ax=ax,\n",
    "    marker=\"o\",\n",
    "    lw=0.0,\n",
    "    color=\"red\",\n",
    "    markersize=4,\n",
    "    label=\"Streaks\",\n",
    "    mfc=\"none\",\n",
    ")\n",
    "ax.set_xlim(np.datetime64(\"2003-03-08\"), np.datetime64(\"2003-03-23\"))"
   ]
  },
  {
   "cell_type": "code",
   "execution_count": null,
   "id": "2c5f74b3-be3a-45be-a93c-8b8d71417a61",
   "metadata": {},
   "outputs": [],
   "source": []
  },
  {
   "cell_type": "code",
   "execution_count": null,
   "id": "a54f8347-0f7f-4ac0-86a2-dbc400b8978b",
   "metadata": {},
   "outputs": [],
   "source": []
  },
  {
   "cell_type": "code",
   "execution_count": null,
   "id": "4981741b-18b3-4047-9989-1f261e190622",
   "metadata": {
    "execution": {
     "iopub.status.busy": "2024-10-02T22:27:46.775138Z",
     "iopub.status.idle": "2024-10-02T22:27:46.775298Z",
     "shell.execute_reply": "2024-10-02T22:27:46.775218Z",
     "shell.execute_reply.started": "2024-10-02T22:27:46.775211Z"
    }
   },
   "outputs": [],
   "source": [
    "fig, ax = plt.subplots(figsize=(10, 3))\n",
    "plot_df = pd.DataFrame(ghcnh_df)\n",
    "plot_df.plot(\n",
    "    x=\"time\", y=vars[var], ax=ax, marker=\".\", lw=0.5, color=\"black\", markersize=2\n",
    ")\n",
    "plot_df = plot_df[plot_df[vars[var] + \"_Quality_Code\"] == \"o\"]\n",
    "plot_df.plot(\n",
    "    x=\"time\",\n",
    "    y=vars[var],\n",
    "    ax=ax,\n",
    "    marker=\"o\",\n",
    "    lw=0.0,\n",
    "    color=\"red\",\n",
    "    markersize=4,\n",
    "    label=\"Out of range\",\n",
    "    mfc=\"none\",\n",
    ")"
   ]
  },
  {
   "cell_type": "code",
   "execution_count": null,
   "id": "ad3f72b6-94dd-46b6-a7b4-cd41331ec487",
   "metadata": {
    "execution": {
     "iopub.status.busy": "2024-10-02T22:27:46.776157Z",
     "iopub.status.idle": "2024-10-02T22:27:46.776307Z",
     "shell.execute_reply": "2024-10-02T22:27:46.776231Z",
     "shell.execute_reply.started": "2024-10-02T22:27:46.776224Z"
    }
   },
   "outputs": [],
   "source": [
    "fig, ax = plt.subplots(figsize=(10, 3))\n",
    "plot_df = pd.DataFrame(ghcnh_df)\n",
    "plot_df.plot(\n",
    "    x=\"time\", y=vars[var], ax=ax, marker=\".\", lw=0.5, color=\"black\", markersize=2\n",
    ")\n",
    "plot_df = plot_df[plot_df[vars[var] + \"_Quality_Code\"] == \"f\"]\n",
    "plot_df.plot(\n",
    "    x=\"time\",\n",
    "    y=vars[var],\n",
    "    ax=ax,\n",
    "    marker=\"x\",\n",
    "    lw=0.0,\n",
    "    color=\"red\",\n",
    "    markersize=4,\n",
    "    label=\"Suspect or Error\",\n",
    "    mfc=\"none\",\n",
    ")"
   ]
  },
  {
   "cell_type": "code",
   "execution_count": null,
   "id": "9c56333d-bd02-4516-a994-040fabe35a10",
   "metadata": {},
   "outputs": [],
   "source": []
  },
  {
   "cell_type": "code",
   "execution_count": null,
   "id": "1aac1584-d382-486c-b70c-dc6b67cd8b35",
   "metadata": {},
   "outputs": [],
   "source": []
  },
  {
   "cell_type": "code",
   "execution_count": null,
   "id": "506580a7-4a57-40db-aa97-c5bba116d9d3",
   "metadata": {},
   "outputs": [],
   "source": []
  },
  {
   "cell_type": "code",
   "execution_count": null,
   "id": "b0cae81a-64ea-49df-982d-fc8af0e730fd",
   "metadata": {},
   "outputs": [],
   "source": []
  },
  {
   "cell_type": "code",
   "execution_count": null,
   "id": "73441fa3-d610-41cd-b4e6-7ebc3960c5c8",
   "metadata": {
    "execution": {
     "iopub.status.busy": "2024-10-02T22:27:46.776949Z",
     "iopub.status.idle": "2024-10-02T22:27:46.777214Z",
     "shell.execute_reply": "2024-10-02T22:27:46.777126Z",
     "shell.execute_reply.started": "2024-10-02T22:27:46.777116Z"
    }
   },
   "outputs": [],
   "source": [
    "ghcnh_df.columns"
   ]
  },
  {
   "cell_type": "code",
   "execution_count": null,
   "id": "84ab82ca-40e0-4c68-abc0-6dc52e17648a",
   "metadata": {
    "execution": {
     "iopub.status.busy": "2024-10-02T22:27:46.777686Z",
     "iopub.status.idle": "2024-10-02T22:27:46.778036Z",
     "shell.execute_reply": "2024-10-02T22:27:46.777945Z",
     "shell.execute_reply.started": "2024-10-02T22:27:46.777939Z"
    }
   },
   "outputs": [],
   "source": [
    "ghcnh_df[\"relative_humidity_Measurement_Code\"].unique()"
   ]
  },
  {
   "cell_type": "code",
   "execution_count": null,
   "id": "cf75e610-25e2-4925-a01e-f17f464b4415",
   "metadata": {
    "execution": {
     "iopub.status.busy": "2024-10-02T22:27:46.778782Z",
     "iopub.status.idle": "2024-10-02T22:27:46.778964Z",
     "shell.execute_reply": "2024-10-02T22:27:46.778859Z",
     "shell.execute_reply.started": "2024-10-02T22:27:46.778853Z"
    }
   },
   "outputs": [],
   "source": [
    "ghcnh_df[\"relative_humidity_Quality_Code\"].unique()"
   ]
  },
  {
   "cell_type": "code",
   "execution_count": null,
   "id": "fdce475c-0c63-4350-a4d7-a1eaee9a535a",
   "metadata": {
    "execution": {
     "iopub.status.busy": "2024-10-02T22:27:46.779930Z",
     "iopub.status.idle": "2024-10-02T22:27:46.780120Z",
     "shell.execute_reply": "2024-10-02T22:27:46.780017Z",
     "shell.execute_reply.started": "2024-10-02T22:27:46.779997Z"
    }
   },
   "outputs": [],
   "source": [
    "ghcnh_df[\"relative_humidity_Report_Type\"].unique()"
   ]
  },
  {
   "cell_type": "code",
   "execution_count": null,
   "id": "552059a7-d063-4bb4-93d7-79e027bfa3cf",
   "metadata": {
    "execution": {
     "iopub.status.busy": "2024-10-02T22:27:46.780815Z",
     "iopub.status.idle": "2024-10-02T22:27:46.780957Z",
     "shell.execute_reply": "2024-10-02T22:27:46.780879Z",
     "shell.execute_reply.started": "2024-10-02T22:27:46.780874Z"
    }
   },
   "outputs": [],
   "source": [
    "ghcnh_df[\"relative_humidity_Source_Code\"].unique()"
   ]
  },
  {
   "cell_type": "code",
   "execution_count": null,
   "id": "63f6b39f-273e-41ff-a1f2-eab1e4f5f437",
   "metadata": {
    "execution": {
     "iopub.status.busy": "2024-10-02T22:27:46.781638Z",
     "iopub.status.idle": "2024-10-02T22:27:46.781795Z",
     "shell.execute_reply": "2024-10-02T22:27:46.781708Z",
     "shell.execute_reply.started": "2024-10-02T22:27:46.781702Z"
    }
   },
   "outputs": [],
   "source": [
    "ghcnh_df[\"relative_humidity_Source_Station_ID\"].unique()"
   ]
  },
  {
   "cell_type": "code",
   "execution_count": null,
   "id": "cdbf984f-9edc-4d00-9094-085e7c1c0fd6",
   "metadata": {
    "execution": {
     "iopub.status.busy": "2024-10-02T22:27:46.782550Z",
     "iopub.status.idle": "2024-10-02T22:27:46.782687Z",
     "shell.execute_reply": "2024-10-02T22:27:46.782610Z",
     "shell.execute_reply.started": "2024-10-02T22:27:46.782604Z"
    }
   },
   "outputs": [],
   "source": [
    "# df[var+\"_eraqc\"]"
   ]
  },
  {
   "cell_type": "code",
   "execution_count": null,
   "id": "68b8e1e6-3af2-4d63-afb7-1c36c678deae",
   "metadata": {},
   "outputs": [],
   "source": []
  },
  {
   "cell_type": "code",
   "execution_count": null,
   "id": "cb6a59de-853c-4964-82b0-44e120bfc90c",
   "metadata": {
    "execution": {
     "iopub.status.busy": "2024-10-02T22:27:46.783075Z",
     "iopub.status.idle": "2024-10-02T22:27:46.783225Z",
     "shell.execute_reply": "2024-10-02T22:27:46.783142Z",
     "shell.execute_reply.started": "2024-10-02T22:27:46.783136Z"
    }
   },
   "outputs": [],
   "source": [
    "s3 = s3fs.S3FileSystem(anon=False)"
   ]
  },
  {
   "cell_type": "code",
   "execution_count": null,
   "id": "afb8b27a-9f35-4261-9777-cad0d4bdc72c",
   "metadata": {
    "execution": {
     "iopub.status.busy": "2024-10-02T22:27:46.783880Z",
     "iopub.status.idle": "2024-10-02T22:27:46.784046Z",
     "shell.execute_reply": "2024-10-02T22:27:46.783943Z",
     "shell.execute_reply.started": "2024-10-02T22:27:46.783937Z"
    }
   },
   "outputs": [],
   "source": [
    "fname = specific_station\n",
    "network = fname.split(\"_\")[0]\n",
    "s3_url = \"s3://wecc-historical-wx/3_qaqc_wx_dev/{}/{}.nc\".format(network, fname)"
   ]
  },
  {
   "cell_type": "code",
   "execution_count": null,
   "id": "66049cb4-1f93-4ef9-8c07-d5ed4e26ae8f",
   "metadata": {
    "execution": {
     "iopub.status.busy": "2024-10-02T22:27:46.785827Z",
     "iopub.status.idle": "2024-10-02T22:27:46.785971Z",
     "shell.execute_reply": "2024-10-02T22:27:46.785898Z",
     "shell.execute_reply.started": "2024-10-02T22:27:46.785892Z"
    }
   },
   "outputs": [],
   "source": [
    "s3.download()"
   ]
  },
  {
   "cell_type": "code",
   "execution_count": null,
   "id": "cd6f0ea5-e6aa-496a-8675-36f86751772e",
   "metadata": {},
   "outputs": [],
   "source": []
  },
  {
   "cell_type": "code",
   "execution_count": null,
   "id": "ab3e83b5-7b2a-4d3f-8473-a5b7f23df257",
   "metadata": {},
   "outputs": [],
   "source": []
  },
  {
   "cell_type": "code",
   "execution_count": null,
   "id": "2da80e73-97ad-4f6a-b67c-ac06870e8044",
   "metadata": {},
   "outputs": [],
   "source": []
  },
  {
   "cell_type": "code",
   "execution_count": null,
   "id": "88cbef22-6cb9-4fbf-a129-0dac7ae4f616",
   "metadata": {
    "execution": {
     "iopub.status.busy": "2024-10-02T22:27:46.786850Z",
     "iopub.status.idle": "2024-10-02T22:27:46.787229Z",
     "shell.execute_reply": "2024-10-02T22:27:46.787151Z",
     "shell.execute_reply.started": "2024-10-02T22:27:46.787141Z"
    }
   },
   "outputs": [],
   "source": [
    "df.dropna(subset=vars[\"tas\"])"
   ]
  },
  {
   "cell_type": "code",
   "execution_count": null,
   "id": "f38057b3-da70-44f0-9790-212197e5b60c",
   "metadata": {
    "execution": {
     "iopub.status.busy": "2024-10-02T22:27:46.787678Z",
     "iopub.status.idle": "2024-10-02T22:27:46.787821Z",
     "shell.execute_reply": "2024-10-02T22:27:46.787730Z",
     "shell.execute_reply.started": "2024-10-02T22:27:46.787725Z"
    }
   },
   "outputs": [],
   "source": [
    "len(df.temperature_Quality_Code.dropna()) / len(df.temperature_Quality_Code)"
   ]
  },
  {
   "cell_type": "markdown",
   "id": "323c9ace-c316-4755-a52c-f82b79f77c13",
   "metadata": {},
   "source": [
    "- ERA5 map\n",
    "- Accumulated flags\n",
    "- Interpolated stations or mean\n"
   ]
  },
  {
   "cell_type": "code",
   "execution_count": null,
   "id": "58d30dbb-902f-4b44-8126-ca0588849831",
   "metadata": {
    "execution": {
     "iopub.status.busy": "2024-10-02T22:27:46.788277Z",
     "iopub.status.idle": "2024-10-02T22:27:46.788512Z",
     "shell.execute_reply": "2024-10-02T22:27:46.788422Z",
     "shell.execute_reply.started": "2024-10-02T22:27:46.788416Z"
    }
   },
   "outputs": [],
   "source": [
    "ghcnh.convert_df_to_gpd(ghcnh.station_data)"
   ]
  },
  {
   "cell_type": "code",
   "execution_count": null,
   "id": "ef8e2e53-1ff6-4016-9c51-73ac4cdfa4a7",
   "metadata": {},
   "outputs": [],
   "source": []
  },
  {
   "cell_type": "code",
   "execution_count": null,
   "id": "e761d2ac-8be6-44cb-b389-89fc9f517a8a",
   "metadata": {},
   "outputs": [],
   "source": []
  },
  {
   "cell_type": "code",
   "execution_count": null,
   "id": "77355bab-9b10-4bc4-9671-5c093ec98507",
   "metadata": {},
   "outputs": [],
   "source": []
  },
  {
   "cell_type": "code",
   "execution_count": null,
   "id": "57c35dc6-7fa7-4717-9311-d1acb4ae9ded",
   "metadata": {},
   "outputs": [],
   "source": []
  },
  {
   "cell_type": "code",
   "execution_count": null,
   "id": "ca430745-b684-4685-b75f-a68e7e56b8e8",
   "metadata": {},
   "outputs": [],
   "source": []
  },
  {
   "cell_type": "code",
   "execution_count": null,
   "id": "50dac15d-db66-4ad1-9371-c1ebbd26d40a",
   "metadata": {},
   "outputs": [],
   "source": []
  },
  {
   "cell_type": "code",
   "execution_count": null,
   "id": "7e22f5b5-4c0f-48ec-b8cf-d6aa9b9ac493",
   "metadata": {},
   "outputs": [],
   "source": []
  },
  {
   "cell_type": "code",
   "execution_count": null,
   "id": "2a149eff-fa7c-4aa1-80bf-75b653170817",
   "metadata": {},
   "outputs": [],
   "source": []
  },
  {
   "cell_type": "code",
   "execution_count": null,
   "id": "9e191a5d-d49a-416e-a267-d2239fb8cb90",
   "metadata": {},
   "outputs": [],
   "source": []
  },
  {
   "cell_type": "code",
   "execution_count": null,
   "id": "068938ff-368d-4f64-8ee4-0a6a93b12752",
   "metadata": {},
   "outputs": [],
   "source": []
  },
  {
   "cell_type": "code",
   "execution_count": null,
   "id": "89bcb580-0b52-4d3c-b749-423257f52517",
   "metadata": {},
   "outputs": [],
   "source": []
  },
  {
   "cell_type": "code",
   "execution_count": null,
   "id": "31d9f120-f714-4b7f-9746-31b17727dd89",
   "metadata": {},
   "outputs": [],
   "source": []
  },
  {
   "cell_type": "code",
   "execution_count": null,
   "id": "45f02703-62c2-4461-9ccd-16f0c184c882",
   "metadata": {},
   "outputs": [],
   "source": []
  },
  {
   "cell_type": "code",
   "execution_count": null,
   "id": "d5006fa5-1490-494f-b70d-6ed5dfa81d3e",
   "metadata": {},
   "outputs": [],
   "source": []
  },
  {
   "cell_type": "code",
   "execution_count": null,
   "id": "21e2c79a-448b-4362-9e76-5f82d97ce080",
   "metadata": {},
   "outputs": [],
   "source": []
  },
  {
   "cell_type": "code",
   "execution_count": null,
   "id": "9395fce8-4953-44ac-9b31-cda7b89650dd",
   "metadata": {},
   "outputs": [],
   "source": []
  },
  {
   "cell_type": "code",
   "execution_count": null,
   "id": "948d8b05-db8c-4ff5-8eea-27fb2f99bf90",
   "metadata": {},
   "outputs": [],
   "source": []
  },
  {
   "cell_type": "code",
   "execution_count": null,
   "id": "a3c8bb20-dcea-4b4d-a283-f5abd0655cf4",
   "metadata": {},
   "outputs": [],
   "source": []
  },
  {
   "cell_type": "code",
   "execution_count": null,
   "id": "8f88f8d7-f0e0-4431-97af-c8b8852ea60b",
   "metadata": {},
   "outputs": [],
   "source": []
  }
 ],
 "metadata": {
  "kernelspec": {
   "display_name": "hist-obs",
   "language": "python",
   "name": "hist-obs"
  },
  "language_info": {
   "codemirror_mode": {
    "name": "ipython",
    "version": 3
   },
   "file_extension": ".py",
   "mimetype": "text/x-python",
   "name": "python",
   "nbconvert_exporter": "python",
   "pygments_lexer": "ipython3",
   "version": "3.9.18"
  }
 },
 "nbformat": 4,
 "nbformat_minor": 5
}
