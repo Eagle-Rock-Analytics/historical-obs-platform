{
 "cells": [
  {
   "cell_type": "markdown",
   "id": "0f98ffc0",
   "metadata": {},
   "source": [
    "# IOU Service Area Maps\n",
    "The following notebook provides an example of how to subset for a specific area. "
   ]
  },
  {
   "cell_type": "code",
   "execution_count": null,
   "id": "9fa38cae",
   "metadata": {},
   "outputs": [],
   "source": [
    "# imports\n",
    "import pandas as pd\n",
    "import geopandas as gpd\n",
    "from figure_utils import get_service_area_map"
   ]
  },
  {
   "cell_type": "markdown",
   "id": "9e4b6cba",
   "metadata": {},
   "source": [
    "Read in the station list and relevant shapefiles."
   ]
  },
  {
   "cell_type": "code",
   "execution_count": null,
   "id": "80f03185",
   "metadata": {},
   "outputs": [],
   "source": [
    "# Read in merge station list\n",
    "stn_list = pd.read_csv(\"s3://wecc-historical-wx/4_merge_wx/all_network_stationlist_merge.csv\")"
   ]
  },
  {
   "cell_type": "code",
   "execution_count": null,
   "id": "e3eaebf1",
   "metadata": {},
   "outputs": [],
   "source": [
    "# Convert it into geodataframe\n",
    "stns_gdf = gpd.GeoDataFrame(\n",
    "    stn_list,\n",
    "    geometry=gpd.points_from_xy(stn_list.longitude, stn_list.latitude, crs=\"EPSG:4326\"),\n",
    ")"
   ]
  },
  {
   "cell_type": "code",
   "execution_count": null,
   "id": "09eddff0",
   "metadata": {},
   "outputs": [],
   "source": [
    "# Read in IOU service territories shapefile -- Replace this file if you are interested in a different region!\n",
    "service_territories = gpd.read_file(\n",
    "    \"s3://wecc-historical-wx/0_maps/California_Natural_Gas_Service_Area/\"\n",
    ")\n",
    "service_territories = service_territories.to_crs(stns_gdf.crs)  # Convert to station CRS"
   ]
  },
  {
   "cell_type": "markdown",
   "id": "ec944a0d",
   "metadata": {},
   "source": [
    "Next, we'll identify which stations are within our desired area and visualize them. "
   ]
  },
  {
   "cell_type": "code",
   "execution_count": null,
   "id": "17ce5761",
   "metadata": {},
   "outputs": [],
   "source": [
    "# Identify which region we're interested in -- we'll demo with PG&E service territory\n",
    "pge_geom = service_territories[service_territories[\"ABR\"] == (\"PG&E\")]"
   ]
  },
  {
   "cell_type": "code",
   "execution_count": null,
   "id": "7c63861c",
   "metadata": {},
   "outputs": [],
   "source": [
    "# Filter down to stations that are in the service territory\n",
    "stns_gdf[\"intersects\"] = stns_gdf.intersects(pge_geom.unary_union)"
   ]
  },
  {
   "cell_type": "code",
   "execution_count": null,
   "id": "e19d13ea",
   "metadata": {},
   "outputs": [],
   "source": [
    "# Get just those stations, drop the others\n",
    "pge_stns = stns_gdf[stns_gdf[\"intersects\"] == True].reset_index(\n",
    "    drop=True\n",
    ")"
   ]
  },
  {
   "cell_type": "markdown",
   "id": "c276996f-4fc4-4b04-90dd-51480a5a710c",
   "metadata": {},
   "source": [
    "Let's look at a map!"
   ]
  },
  {
   "cell_type": "code",
   "execution_count": null,
   "id": "2da5f8c8",
   "metadata": {},
   "outputs": [],
   "source": [
    "get_service_area_map('PG&E',save_local=False)"
   ]
  }
 ],
 "metadata": {
  "kernelspec": {
   "display_name": "Python 3 (ipykernel)",
   "language": "python",
   "name": "python3"
  },
  "language_info": {
   "codemirror_mode": {
    "name": "ipython",
    "version": 3
   },
   "file_extension": ".py",
   "mimetype": "text/x-python",
   "name": "python",
   "nbconvert_exporter": "python",
   "pygments_lexer": "ipython3",
   "version": "3.10.13"
  }
 },
 "nbformat": 4,
 "nbformat_minor": 5
}
