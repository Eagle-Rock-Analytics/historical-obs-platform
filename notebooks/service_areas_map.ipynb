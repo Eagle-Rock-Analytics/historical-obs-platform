{
 "cells": [
  {
   "cell_type": "markdown",
   "id": "0f98ffc0",
   "metadata": {},
   "source": [
    "# IOU Service Area Maps"
   ]
  },
  {
   "cell_type": "code",
   "execution_count": null,
   "id": "9fa38cae",
   "metadata": {},
   "outputs": [],
   "source": [
    "# imports\n",
    "import boto3\n",
    "import numpy as np\n",
    "import pandas as pd\n",
    "import xarray as xr\n",
    "import geopandas as gpd\n",
    "import matplotlib.pyplot as plt\n",
    "import os\n",
    "from shapely.geometry import Point\n",
    "import sys  # Used for progress bar\n",
    "from case_study_eval_utils import *\n",
    "from figure_utils import *\n",
    "import datetime\n",
    "import sys\n",
    "import os\n",
    "\n",
    "# Import qaqc stage plot functions\n",
    "sys.path.append(os.path.abspath(\"../scripts/3_qaqc_data\"))\n",
    "from qaqc_plot import flagged_timeseries_plot, _plot_format_helper, id_flag\n",
    "\n",
    "# Set AWS credentials\n",
    "s3 = boto3.resource(\"s3\")\n",
    "s3_cl = boto3.client(\"s3\")  # for lower-level processes\n",
    "\n",
    "# Set relative paths to other folders and objects in repository.\n",
    "BUCKET_NAME = \"wecc-historical-wx\"\n",
    "QAQC_DIR = \"3_qaqc_wx\"\n",
    "MERGE_DIR = \"4_merge_wx\"\n",
    "stations_csv_path = f\"s3://{BUCKET_NAME}/{QAQC_DIR}/all_network_stationlist_qaqc.csv\""
   ]
  },
  {
   "cell_type": "markdown",
   "id": "9e4b6cba",
   "metadata": {},
   "source": [
    "## Setup"
   ]
  },
  {
   "cell_type": "code",
   "execution_count": null,
   "id": "80f03185",
   "metadata": {},
   "outputs": [],
   "source": [
    "\n",
    "# read in merge station list\n",
    "stn_list = pd.read_csv(\n",
    "    \"s3://wecc-historical-wx/4_merge_wx/all_network_stationlist_merge.csv\"\n",
    ")"
   ]
  },
  {
   "cell_type": "code",
   "execution_count": null,
   "id": "e3eaebf1",
   "metadata": {},
   "outputs": [],
   "source": [
    "# convert it into geodataframe\n",
    "stns_gdf = gpd.GeoDataFrame(\n",
    "    stn_list,\n",
    "    geometry=gpd.points_from_xy(stn_list.longitude, stn_list.latitude, crs=\"EPSG:4326\"),\n",
    ")"
   ]
  },
  {
   "cell_type": "code",
   "execution_count": null,
   "id": "09eddff0",
   "metadata": {},
   "outputs": [],
   "source": [
    "# read in IOU service territories shapefile\n",
    "\n",
    "# read in  CA county boundaries shapefile\n",
    "service_territories = gpd.read_file(\n",
    "    \"s3://wecc-historical-wx/0_maps/California_Natural_Gas_Service_Area/\"\n",
    ")\n",
    "service_territories = service_territories.to_crs(stns_gdf.crs)  # Convert to station CRS"
   ]
  },
  {
   "cell_type": "markdown",
   "id": "79c01eba",
   "metadata": {},
   "source": [
    "## PG&E"
   ]
  },
  {
   "cell_type": "markdown",
   "id": "ec944a0d",
   "metadata": {},
   "source": [
    "### Filter stations"
   ]
  },
  {
   "cell_type": "code",
   "execution_count": null,
   "id": "17ce5761",
   "metadata": {},
   "outputs": [],
   "source": [
    "# define the event geometry - we'll focus on one county for now (San Diego - where the largest fires occurred)\n",
    "pge_geom = service_territories[\n",
    "    service_territories[\"ABR\"] == (\"PG&E\")\n",
    "]"
   ]
  },
  {
   "cell_type": "code",
   "execution_count": null,
   "id": "7c63861c",
   "metadata": {},
   "outputs": [],
   "source": [
    "# filter down to stations that are in the target service territory\n",
    "stns_gdf[\"intersects\"] = stns_gdf.intersects(\n",
    "    pge_geom.unary_union\n",
    ")  # See which stations intersect with the target polygon"
   ]
  },
  {
   "cell_type": "code",
   "execution_count": null,
   "id": "e19d13ea",
   "metadata": {},
   "outputs": [],
   "source": [
    "pge_stns = stns_gdf[stns_gdf[\"intersects\"] == True].reset_index(\n",
    "    drop=True\n",
    ")  # Get just those stations, drop the others"
   ]
  },
  {
   "cell_type": "code",
   "execution_count": null,
   "id": "2da5f8c8",
   "metadata": {},
   "outputs": [],
   "source": [
    "get_station_map('PG&E',save_local=True)"
   ]
  },
  {
   "cell_type": "code",
   "execution_count": null,
   "id": "d7730406",
   "metadata": {},
   "outputs": [],
   "source": [
    "len(pge_stns)"
   ]
  },
  {
   "cell_type": "markdown",
   "id": "14783e6d",
   "metadata": {},
   "source": [
    "## SDG&E"
   ]
  },
  {
   "cell_type": "code",
   "execution_count": null,
   "id": "88a895fc",
   "metadata": {},
   "outputs": [],
   "source": [
    "# define the event geometry - we'll focus on one county for now (San Diego - where the largest fires occurred)\n",
    "sdge_geom = service_territories[service_territories[\"ABR\"] == (\"SDG&E\")]"
   ]
  },
  {
   "cell_type": "code",
   "execution_count": null,
   "id": "bfe04c75",
   "metadata": {},
   "outputs": [],
   "source": [
    "# filter down to stations that are in the target service territory\n",
    "stns_gdf[\"intersects\"] = stns_gdf.intersects(\n",
    "    sdge_geom.unary_union\n",
    ")  # See which stations intersect with the target polygon"
   ]
  },
  {
   "cell_type": "code",
   "execution_count": null,
   "id": "015c6aa4",
   "metadata": {},
   "outputs": [],
   "source": [
    "sdge_stns = stns_gdf[stns_gdf[\"intersects\"] == True].reset_index(\n",
    "    drop=True\n",
    ")  # Get just those stations, drop the others"
   ]
  },
  {
   "cell_type": "code",
   "execution_count": null,
   "id": "643074ca",
   "metadata": {},
   "outputs": [],
   "source": [
    "get_station_map(\"SDG&E\")"
   ]
  },
  {
   "cell_type": "code",
   "execution_count": null,
   "id": "92a3a004",
   "metadata": {},
   "outputs": [],
   "source": [
    "len(sdge_stns)"
   ]
  },
  {
   "cell_type": "markdown",
   "id": "93d70ae3",
   "metadata": {},
   "source": [
    "## SoCalGas"
   ]
  },
  {
   "cell_type": "code",
   "execution_count": null,
   "id": "8904ab89",
   "metadata": {},
   "outputs": [],
   "source": [
    "# define the event geometry - we'll focus on one county for now (San Diego - where the largest fires occurred)\n",
    "scg_geom = service_territories[\n",
    "    service_territories[\"ABR\"] == (\"SCG\")\n",
    "]"
   ]
  },
  {
   "cell_type": "code",
   "execution_count": null,
   "id": "7c657560",
   "metadata": {},
   "outputs": [],
   "source": [
    "# filter down to stations that are in the target service territory\n",
    "stns_gdf[\"intersects\"] = stns_gdf.intersects(\n",
    "    scg_geom.unary_union\n",
    ")  # See which stations intersect with the target polygon"
   ]
  },
  {
   "cell_type": "code",
   "execution_count": null,
   "id": "10dcd783",
   "metadata": {},
   "outputs": [],
   "source": [
    "scg_stns = stns_gdf[stns_gdf[\"intersects\"] == True].reset_index(\n",
    "    drop=True\n",
    ")  # Get just those stations, drop the others"
   ]
  },
  {
   "cell_type": "code",
   "execution_count": null,
   "id": "c10ddc4c",
   "metadata": {},
   "outputs": [],
   "source": [
    "get_station_map(\"SCG\")"
   ]
  },
  {
   "cell_type": "code",
   "execution_count": null,
   "id": "58a0e8e1",
   "metadata": {},
   "outputs": [],
   "source": [
    "len(scg_stns)"
   ]
  }
 ],
 "metadata": {
  "kernelspec": {
   "display_name": "hist-obs",
   "language": "python",
   "name": "python3"
  },
  "language_info": {
   "codemirror_mode": {
    "name": "ipython",
    "version": 3
   },
   "file_extension": ".py",
   "mimetype": "text/x-python",
   "name": "python",
   "nbconvert_exporter": "python",
   "pygments_lexer": "ipython3",
   "version": "3.10.13"
  }
 },
 "nbformat": 4,
 "nbformat_minor": 5
}
