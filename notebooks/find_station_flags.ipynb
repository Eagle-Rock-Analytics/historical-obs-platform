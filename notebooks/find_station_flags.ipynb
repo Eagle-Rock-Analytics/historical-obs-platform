{
 "cells": [
  {
   "cell_type": "markdown",
   "id": "24263655-e41b-4a21-89a4-c257218966b4",
   "metadata": {
    "execution": {
     "iopub.execute_input": "2024-10-08T17:48:40.598634Z",
     "iopub.status.busy": "2024-10-08T17:48:40.597905Z",
     "iopub.status.idle": "2024-10-08T17:48:40.610572Z",
     "shell.execute_reply": "2024-10-08T17:48:40.609081Z",
     "shell.execute_reply.started": "2024-10-08T17:48:40.598586Z"
    }
   },
   "source": [
    "# Find weather stations that set flags\n",
    "From the AWS data catalog of station data, find the subset of weather stations that set flags \n",
    "<br>Output a DataFrame"
   ]
  },
  {
   "cell_type": "code",
   "execution_count": 2,
   "id": "5bf3a491",
   "metadata": {},
   "outputs": [],
   "source": [
    "import xarray as xr\n",
    "import pandas as pd\n",
    "import geopandas as gpd\n",
    "import matplotlib.pyplot as plt\n",
    "import numpy as np\n",
    "from tqdm import tqdm"
   ]
  },
  {
   "cell_type": "markdown",
   "id": "8ad8d2d2",
   "metadata": {},
   "source": [
    "## 1. Define some helper functions"
   ]
  },
  {
   "cell_type": "code",
   "execution_count": 3,
   "id": "37908e6c",
   "metadata": {},
   "outputs": [],
   "source": [
    "def find_flags(station_ds):\n",
    "    \"\"\"Find unique flags in a Dataset.\n",
    "    Filters through flag variables; assumes flag variables contain the substring '_eraqc'\n",
    "\n",
    "    Parameters\n",
    "    ----------\n",
    "    station_ds: xr.Dataset\n",
    "        Dataset containing station data, with each variable as a unique data variable\n",
    "\n",
    "    Returns\n",
    "    -------\n",
    "    unique_flags: list or None\n",
    "        List of unique flag values found in station_ds\n",
    "        Returns None if no flags found for any variable\n",
    "\n",
    "    \"\"\"\n",
    "\n",
    "    # Get the string names of the eraqc flag variables\n",
    "    era_flag_var_names = [var for var in station_ds.data_vars if \"_eraqc\" in var]\n",
    "\n",
    "    # Subset Dataset to just contain flag variables\n",
    "    station_flags_ds = station_ds[era_flag_var_names]\n",
    "\n",
    "    # Check for nulls in the flag variables\n",
    "    # If all are null, that means the station set no flags for this event!\n",
    "    all_null = station_flags_ds.to_array().isnull().all().item()\n",
    "    unique_flags = None\n",
    "\n",
    "    # If there are some flags set, find out what they are\n",
    "    if not all_null:\n",
    "        # Stack all the variables, since we don't care which variables the flags belong to\n",
    "        # Makes it easier to search the array (fewer lines of code :)\n",
    "        # Works like np.flatten, but on an xarray object\n",
    "        stacked = station_flags_ds.to_array().stack(\n",
    "            {\"everything\": [\"variable\", \"time\"]}\n",
    "        )\n",
    "\n",
    "        # Drop all non-null values\n",
    "        # i.e. [nan, nan, 23, nan, 17] --> [23, 17]\n",
    "        all_flags = stacked.where(~stacked.isnull(), drop=True)\n",
    "\n",
    "        # Get unique flag values as integers\n",
    "        # nan is treated as a float so the .isnull() step converted floats to ints (I think)\n",
    "        # i.e. [23.0, 23.0, 23.0, 17.0, 23.0, 19.0, 19.0] --> [23, 17, 19]\n",
    "        unique_flags = list(np.unique(all_flags.values).astype(int))\n",
    "\n",
    "    return unique_flags"
   ]
  },
  {
   "cell_type": "markdown",
   "id": "92e980d4",
   "metadata": {},
   "source": [
    "## 2. Read in county shapefile and station metadata csv\n",
    "County shapefile is used for getting event geometry <br>Station metadata is used to get the station ids to read in station data from the S3 bucket"
   ]
  },
  {
   "cell_type": "code",
   "execution_count": 4,
   "id": "711e4aa3",
   "metadata": {},
   "outputs": [],
   "source": [
    "# Read in a list of weather stations\n",
    "# We just use the names of the stations to filter\n",
    "# Ideally I'd like to see this moved to the AWS bucket\n",
    "train_stns = pd.read_csv(\"../data/qaqc_training_station_list.csv\")\n",
    "\n",
    "# Create new geometry column from lat and lon columns\n",
    "# This will enable us to filter through the GeoDataFrame using our county geometry\n",
    "train_stns = gpd.GeoDataFrame(\n",
    "    train_stns,\n",
    "    geometry=gpd.points_from_xy(\n",
    "        train_stns.longitude, train_stns.latitude, crs=\"EPSG:4326\"\n",
    "    ),\n",
    ")"
   ]
  },
  {
   "cell_type": "code",
   "execution_count": 5,
   "id": "f7f18ec8",
   "metadata": {},
   "outputs": [],
   "source": [
    "# Read in county shapefiles from S3\n",
    "ca_counties = gpd.read_file(\n",
    "    \"s3://wecc-historical-wx/0_maps/ca_counties/CA_Counties.shp\"\n",
    ")\n",
    "ca_counties = ca_counties.to_crs(train_stns.crs)  # Convert to station CRS\n",
    "# ca_counties.head()"
   ]
  },
  {
   "cell_type": "code",
   "execution_count": 6,
   "id": "3437aa6e",
   "metadata": {},
   "outputs": [
    {
     "data": {
      "image/png": "[encoded data removed]",
      "text/plain": [
       "<Figure size 640x480 with 1 Axes>"
      ]
     },
     "metadata": {},
     "output_type": "display_data"
    }
   ],
   "source": [
    "# Plot all the stations and all the counties\n",
    "# This is a check to ensure both have the same projection\n",
    "fig, ax = plt.subplots()\n",
    "ca_counties.boundary.plot(color=\"black\", ax=ax, linewidth=0.75, zorder=10)\n",
    "train_stns.geometry.plot(markersize=0.9, ax=ax, zorder=15);"
   ]
  },
  {
   "cell_type": "markdown",
   "id": "1f5c665d",
   "metadata": {},
   "source": [
    "## 3. Set your event date and (optional) event geometry\n",
    "For example, lets use the 2007 Santa Ana winds october 19 to November 16, 2007"
   ]
  },
  {
   "cell_type": "code",
   "execution_count": 33,
   "id": "3257bd3a",
   "metadata": {},
   "outputs": [],
   "source": [
    "event_start_date = \"2007-10-19\"\n",
    "event_end_date = \"2007-11-16\"\n",
    "\n",
    "# Focusing on a subset of the impacted counties to speed up the notebook and for illustration purposes\n",
    "event_counties = [\n",
    "    # \"San Diego\",\n",
    "    # \"Los Angeles\",\n",
    "    \"Ventura\",\n",
    "    \"Santa Barbara\",\n",
    "    # \"San Bernardino\",\n",
    "    # \"Orange\",\n",
    "    # \"Riverside\",\n",
    "]\n",
    "event_geom = ca_counties[ca_counties[\"NAME\"].isin(event_counties)]  # Get event geometry"
   ]
  },
  {
   "cell_type": "markdown",
   "id": "d7537350",
   "metadata": {},
   "source": [
    "## 4. Get the stations that intersect the event geometry"
   ]
  },
  {
   "cell_type": "code",
   "execution_count": 29,
   "id": "18387ee2",
   "metadata": {},
   "outputs": [
    {
     "data": {
      "text/html": [
       "<div>\n",
       "<style scoped>\n",
       "    .dataframe tbody tr th:only-of-type {\n",
       "        vertical-align: middle;\n",
       "    }\n",
       "\n",
       "    .dataframe tbody tr th {\n",
       "        vertical-align: top;\n",
       "    }\n",
       "\n",
       "    .dataframe thead th {\n",
       "        text-align: right;\n",
       "    }\n",
       "</style>\n",
       "<table border=\"1\" class=\"dataframe\">\n",
       "  <thead>\n",
       "    <tr style=\"text-align: right;\">\n",
       "      <th></th>\n",
       "      <th>era-id</th>\n",
       "      <th>elevation</th>\n",
       "      <th>network</th>\n",
       "      <th>longitude</th>\n",
       "      <th>latitude</th>\n",
       "      <th>geometry</th>\n",
       "      <th>intersects</th>\n",
       "    </tr>\n",
       "  </thead>\n",
       "  <tbody>\n",
       "    <tr>\n",
       "      <th>0</th>\n",
       "      <td>CNRFC_TCTC1</td>\n",
       "      <td>2900.0</td>\n",
       "      <td>CNRFC</td>\n",
       "      <td>-119.90880</td>\n",
       "      <td>34.52080</td>\n",
       "      <td>POINT (-119.90880 34.52080)</td>\n",
       "      <td>True</td>\n",
       "    </tr>\n",
       "    <tr>\n",
       "      <th>1</th>\n",
       "      <td>CWOP_C7260</td>\n",
       "      <td>430.0</td>\n",
       "      <td>CWOP</td>\n",
       "      <td>-120.42267</td>\n",
       "      <td>34.88400</td>\n",
       "      <td>POINT (-120.42267 34.88400)</td>\n",
       "      <td>True</td>\n",
       "    </tr>\n",
       "    <tr>\n",
       "      <th>2</th>\n",
       "      <td>RAWS_CEEC1</td>\n",
       "      <td>1707.0</td>\n",
       "      <td>RAWS</td>\n",
       "      <td>-118.71956</td>\n",
       "      <td>34.18657</td>\n",
       "      <td>POINT (-118.71956 34.18657)</td>\n",
       "      <td>True</td>\n",
       "    </tr>\n",
       "    <tr>\n",
       "      <th>3</th>\n",
       "      <td>CNRFC_LLDC1</td>\n",
       "      <td>1160.0</td>\n",
       "      <td>CNRFC</td>\n",
       "      <td>-118.69030</td>\n",
       "      <td>34.30210</td>\n",
       "      <td>POINT (-118.69030 34.30210)</td>\n",
       "      <td>True</td>\n",
       "    </tr>\n",
       "    <tr>\n",
       "      <th>4</th>\n",
       "      <td>CNRFC_ECIC1</td>\n",
       "      <td>3458.0</td>\n",
       "      <td>CNRFC</td>\n",
       "      <td>-119.63750</td>\n",
       "      <td>34.48278</td>\n",
       "      <td>POINT (-119.63750 34.48278)</td>\n",
       "      <td>True</td>\n",
       "    </tr>\n",
       "    <tr>\n",
       "      <th>5</th>\n",
       "      <td>RAWS_TR155</td>\n",
       "      <td>7743.0</td>\n",
       "      <td>RAWS</td>\n",
       "      <td>-118.98117</td>\n",
       "      <td>34.76731</td>\n",
       "      <td>POINT (-118.98117 34.76731)</td>\n",
       "      <td>True</td>\n",
       "    </tr>\n",
       "    <tr>\n",
       "      <th>6</th>\n",
       "      <td>CWOP_AV377</td>\n",
       "      <td>3970.0</td>\n",
       "      <td>CWOP</td>\n",
       "      <td>-119.71317</td>\n",
       "      <td>34.49467</td>\n",
       "      <td>POINT (-119.71317 34.49467)</td>\n",
       "      <td>True</td>\n",
       "    </tr>\n",
       "  </tbody>\n",
       "</table>\n",
       "</div>"
      ],
      "text/plain": [
       "        era-id  elevation network  longitude  latitude  \\\n",
       "0  CNRFC_TCTC1     2900.0   CNRFC -119.90880  34.52080   \n",
       "1   CWOP_C7260      430.0    CWOP -120.42267  34.88400   \n",
       "2   RAWS_CEEC1     1707.0    RAWS -118.71956  34.18657   \n",
       "3  CNRFC_LLDC1     1160.0   CNRFC -118.69030  34.30210   \n",
       "4  CNRFC_ECIC1     3458.0   CNRFC -119.63750  34.48278   \n",
       "5   RAWS_TR155     7743.0    RAWS -118.98117  34.76731   \n",
       "6   CWOP_AV377     3970.0    CWOP -119.71317  34.49467   \n",
       "\n",
       "                      geometry  intersects  \n",
       "0  POINT (-119.90880 34.52080)        True  \n",
       "1  POINT (-120.42267 34.88400)        True  \n",
       "2  POINT (-118.71956 34.18657)        True  \n",
       "3  POINT (-118.69030 34.30210)        True  \n",
       "4  POINT (-119.63750 34.48278)        True  \n",
       "5  POINT (-118.98117 34.76731)        True  \n",
       "6  POINT (-119.71317 34.49467)        True  "
      ]
     },
     "execution_count": 29,
     "metadata": {},
     "output_type": "execute_result"
    }
   ],
   "source": [
    "train_stns[\"intersects\"] = train_stns.intersects(\n",
    "    event_geom.unary_union\n",
    ")  # See which stations intersect with the event polygon\n",
    "event_stns = train_stns[train_stns[\"intersects\"] == True].reset_index(\n",
    "    drop=True\n",
    ")  # Get just those stations, drop the others\n",
    "event_stns"
   ]
  },
  {
   "cell_type": "code",
   "execution_count": 30,
   "id": "534579fd",
   "metadata": {},
   "outputs": [
    {
     "data": {
      "image/png": "[encoded data removed]",
      "text/plain": [
       "<Figure size 640x480 with 1 Axes>"
      ]
     },
     "metadata": {},
     "output_type": "display_data"
    }
   ],
   "source": [
    "# Make a plot to visualize the stations and event poly\n",
    "fig, ax = plt.subplots()\n",
    "event_geom.boundary.plot(color=\"black\", ax=ax, zorder=10)\n",
    "event_stns.geometry.plot(markersize=15, ax=ax, zorder=15);"
   ]
  },
  {
   "cell_type": "markdown",
   "id": "b774a027",
   "metadata": {},
   "source": [
    "## 5. Filter through stations to see if flags were set"
   ]
  },
  {
   "cell_type": "code",
   "execution_count": 31,
   "id": "bfc48585",
   "metadata": {},
   "outputs": [
    {
     "name": "stderr",
     "output_type": "stream",
     "text": [
      "  0%|          | 0/7 [00:00<?, ?it/s]"
     ]
    },
    {
     "name": "stderr",
     "output_type": "stream",
     "text": [
      "100%|██████████| 7/7 [00:09<00:00,  1.30s/it]\n"
     ]
    }
   ],
   "source": [
    "# Flags, network, and station ID will be stored here\n",
    "# Dictionary can be easily convered to a DataFrame and output as a csv\n",
    "stations_with_flags = {\"network\": [], \"era-id\": [], \"flags\": []}\n",
    "\n",
    "# Loop through each station to look for flags\n",
    "for i in tqdm(range(len(event_stns))):\n",
    "    # Get info for one station\n",
    "    network_name, station_id = event_stns.iloc[i][[\"network\", \"era-id\"]]\n",
    "\n",
    "    station_ds = xr.open_zarr(f\"s3://wecc-historical-wx/3_qaqc_wx/{network_name}/{station_id}.zarr\").compute()\n",
    "\n",
    "    # Reduce dimension of object\n",
    "    # \"station\" is a singleton dimension\n",
    "    station_ds = station_ds.squeeze()\n",
    "\n",
    "    # Subset Dataset to event time period\n",
    "    station_ds = station_ds.sel(time=slice(event_start_date, event_end_date))\n",
    "\n",
    "    # Look for flags\n",
    "    # If no flags found, find_flags returns None\n",
    "    unique_flags = find_flags(station_ds)\n",
    "\n",
    "    # If flags are found, save them to the dictionary\n",
    "    if unique_flags is not None:\n",
    "        stations_with_flags[\"network\"].append(network_name)\n",
    "        stations_with_flags[\"era-id\"].append(station_id)\n",
    "        stations_with_flags[\"flags\"].append(unique_flags)"
   ]
  },
  {
   "cell_type": "code",
   "execution_count": 32,
   "id": "435b5aec",
   "metadata": {},
   "outputs": [
    {
     "data": {
      "text/html": [
       "<div>\n",
       "<style scoped>\n",
       "    .dataframe tbody tr th:only-of-type {\n",
       "        vertical-align: middle;\n",
       "    }\n",
       "\n",
       "    .dataframe tbody tr th {\n",
       "        vertical-align: top;\n",
       "    }\n",
       "\n",
       "    .dataframe thead th {\n",
       "        text-align: right;\n",
       "    }\n",
       "</style>\n",
       "<table border=\"1\" class=\"dataframe\">\n",
       "  <thead>\n",
       "    <tr style=\"text-align: right;\">\n",
       "      <th></th>\n",
       "      <th>network</th>\n",
       "      <th>era-id</th>\n",
       "      <th>flags</th>\n",
       "    </tr>\n",
       "  </thead>\n",
       "  <tbody>\n",
       "    <tr>\n",
       "      <th>0</th>\n",
       "      <td>CWOP</td>\n",
       "      <td>CWOP_C7260</td>\n",
       "      <td>[13, 14, 15, 27, 28]</td>\n",
       "    </tr>\n",
       "    <tr>\n",
       "      <th>1</th>\n",
       "      <td>RAWS</td>\n",
       "      <td>RAWS_CEEC1</td>\n",
       "      <td>[14, 15, 35]</td>\n",
       "    </tr>\n",
       "  </tbody>\n",
       "</table>\n",
       "</div>"
      ],
      "text/plain": [
       "  network      era-id                 flags\n",
       "0    CWOP  CWOP_C7260  [13, 14, 15, 27, 28]\n",
       "1    RAWS  RAWS_CEEC1          [14, 15, 35]"
      ]
     },
     "execution_count": 32,
     "metadata": {},
     "output_type": "execute_result"
    }
   ],
   "source": [
    "# Output a DataFrame\n",
    "# Note: No record which variables these flags belong to\n",
    "stations_with_flags_df = pd.DataFrame(stations_with_flags)\n",
    "stations_with_flags_df"
   ]
  }
 ],
 "metadata": {
  "kernelspec": {
   "display_name": "hist-obs",
   "language": "python",
   "name": "python3"
  },
  "language_info": {
   "codemirror_mode": {
    "name": "ipython",
    "version": 3
   },
   "file_extension": ".py",
   "mimetype": "text/x-python",
   "name": "python",
   "nbconvert_exporter": "python",
   "pygments_lexer": "ipython3",
   "version": "3.10.13"
  }
 },
 "nbformat": 4,
 "nbformat_minor": 5
}
