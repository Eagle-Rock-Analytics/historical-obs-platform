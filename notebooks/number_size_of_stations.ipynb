{
 "cells": [
  {
   "cell_type": "code",
   "execution_count": null,
   "id": "4c38354e-a2ef-4277-b7c0-3381540ad706",
   "metadata": {
    "execution": {
     "iopub.execute_input": "2024-08-08T17:32:39.940894Z",
     "iopub.status.busy": "2024-08-08T17:32:39.940174Z",
     "iopub.status.idle": "2024-08-08T17:32:39.949006Z",
     "shell.execute_reply": "2024-08-08T17:32:39.947288Z",
     "shell.execute_reply.started": "2024-08-08T17:32:39.940851Z"
    }
   },
   "outputs": [],
   "source": [
    "import os\n",
    "import pandas as pd\n",
    "import sys\n",
    "\n",
    "sys.path.append(os.path.abspath(\"../scripts/3_qaqc_data\"))\n",
    "from qaqc_utils import *"
   ]
  },
  {
   "cell_type": "code",
   "execution_count": null,
   "id": "a4563178-ba0d-4ef8-8fd0-0d851d532fc2",
   "metadata": {
    "execution": {
     "iopub.execute_input": "2024-08-08T17:32:42.027784Z",
     "iopub.status.busy": "2024-08-08T17:32:42.027210Z",
     "iopub.status.idle": "2024-08-08T17:32:42.038049Z",
     "shell.execute_reply": "2024-08-08T17:32:42.037093Z",
     "shell.execute_reply.started": "2024-08-08T17:32:42.027741Z"
    }
   },
   "outputs": [],
   "source": [
    "def file_on_s3(da):\n",
    "    files = []  # Get files\n",
    "    for item in s3.Bucket(bucket_name).objects.filter(Prefix=da[\"cleandir\"].iloc[0]):\n",
    "        file = str(item.key)\n",
    "        files += [file]\n",
    "    file_st = [f.split(\".nc\")[0].split(\"/\")[-1] for f in files if f.endswith(\".nc\")]\n",
    "    return da[\"era-id\"].isin(file_st)"
   ]
  },
  {
   "cell_type": "code",
   "execution_count": null,
   "id": "f748c28d-e69c-490c-a80e-d491c590e10a",
   "metadata": {
    "execution": {
     "iopub.execute_input": "2024-08-08T17:42:03.213445Z",
     "iopub.status.busy": "2024-08-08T17:42:03.212779Z",
     "iopub.status.idle": "2024-08-08T17:42:03.231757Z",
     "shell.execute_reply": "2024-08-08T17:42:03.230945Z",
     "shell.execute_reply.started": "2024-08-08T17:42:03.213409Z"
    }
   },
   "outputs": [],
   "source": [
    "def read_network_files_training():\n",
    "    df = pd.read_csv(\"../temp_clean_all_station_list.csv\")\n",
    "    df[\"rawdir\"] = df[\"network\"].apply(lambda row: \"1_raw_wx/{}/\".format(row))\n",
    "    df[\"cleandir\"] = df[\"network\"].apply(lambda row: \"2_clean_wx/{}/\".format(row))\n",
    "    df[\"qaqcdir\"] = df[\"network\"].apply(lambda row: \"3_qaqc_wx_dev/{}/\".format(row))\n",
    "    df[\"mergedir\"] = df[\"network\"].apply(lambda row: \"4_merge_wx/{}/\".format(row))\n",
    "    df[\"key\"] = df.apply(lambda row: row[\"cleandir\"] + row[\"era-id\"] + \".nc\", axis=1)\n",
    "    df[\"exist\"] = np.zeros(len(df)).astype(\"bool\")\n",
    "    for n in df[\"network\"].unique():\n",
    "        print(n)\n",
    "        ind = df[\"network\"] == n\n",
    "        df.loc[ind, \"exist\"] = file_on_s3(df[ind])\n",
    "    df = df[df[\"exist\"]]\n",
    "    df[\"file_size\"] = df[\"key\"].apply(\n",
    "        lambda row: s3_cl.head_object(Bucket=bucket_name, Key=row)[\"ContentLength\"]\n",
    "    )\n",
    "    df = df.sort_values(by=[\"file_size\", \"network\", \"era-id\"]).drop(columns=\"exist\")\n",
    "    num_groups = len(df) // (72 * 3)\n",
    "    total_size = df[\"file_size\"].sum()\n",
    "    target_size = total_size / num_groups\n",
    "    target_size\n",
    "    groups = []\n",
    "    current_group = []\n",
    "    current_group_size = 0\n",
    "    df_sorted = df.sort_values(by=\"file_size\", ascending=False)\n",
    "    # for index, row in df_sorted.iterrows():\n",
    "    #     if current_group_size + row['file_size'] > target_size and current_group:\n",
    "    #         groups.append(pd.DataFrame(current_group))\n",
    "    #         current_group = []\n",
    "    #         current_group_size = 0\n",
    "    #     current_group.append(row)\n",
    "    #     current_group_size += row['file_size']\n",
    "    # if current_group:\n",
    "    #     groups.append(pd.DataFrame(current_group))\n",
    "    # final_df = pd.concat([df.assign(Group=i) for i, df in enumerate(groups)]).reset_index(drop=True).drop(columns=\"Group\")\n",
    "    return df"
   ]
  },
  {
   "cell_type": "code",
   "execution_count": null,
   "id": "1bdcd147-72ff-404d-9c2b-c1c0e238d0fc",
   "metadata": {
    "execution": {
     "iopub.execute_input": "2024-08-08T17:42:06.895446Z",
     "iopub.status.busy": "2024-08-08T17:42:06.894690Z",
     "iopub.status.idle": "2024-08-08T18:04:51.677744Z",
     "shell.execute_reply": "2024-08-08T18:04:51.677205Z",
     "shell.execute_reply.started": "2024-08-08T17:42:06.895403Z"
    }
   },
   "outputs": [],
   "source": [
    "%%time\n",
    "df = read_network_files_training()"
   ]
  },
  {
   "cell_type": "code",
   "execution_count": null,
   "id": "47fe44a7-7eef-41ef-a4c7-bbc63f617dc9",
   "metadata": {
    "execution": {
     "iopub.execute_input": "2024-08-08T18:04:51.686023Z",
     "iopub.status.busy": "2024-08-08T18:04:51.685858Z",
     "iopub.status.idle": "2024-08-08T18:04:51.826118Z",
     "shell.execute_reply": "2024-08-08T18:04:51.825648Z",
     "shell.execute_reply.started": "2024-08-08T18:04:51.686013Z"
    }
   },
   "outputs": [],
   "source": [
    "df.to_csv(\"clean_all_station_list_wsize.csv\")"
   ]
  },
  {
   "cell_type": "code",
   "execution_count": null,
   "id": "28c3b6bc-f226-41bd-bfef-d43cd1a2177e",
   "metadata": {
    "execution": {
     "iopub.execute_input": "2024-08-08T19:02:03.372645Z",
     "iopub.status.busy": "2024-08-08T19:02:03.372036Z",
     "iopub.status.idle": "2024-08-08T19:02:03.612910Z",
     "shell.execute_reply": "2024-08-08T19:02:03.612587Z",
     "shell.execute_reply.started": "2024-08-08T19:02:03.372610Z"
    }
   },
   "outputs": [],
   "source": [
    "fig, ax = plt.subplots()\n",
    "(df[\"file_size\"] / 1e6).plot.hist(\n",
    "    ax=ax, bins=np.arange(50, 650, 50), edgecolor=\"black\", facecolor=\"C0\"\n",
    ")\n",
    "ax.set_yscale(\"log\")\n",
    "ax.set_ylabel(\"Number of stations\")\n",
    "ax.set_xlabel(\"File size [MB]\")\n",
    "ax.set_title(\"Full run\");"
   ]
  },
  {
   "cell_type": "code",
   "execution_count": null,
   "id": "2ee36a0b-fde5-4227-963b-2a60a04fa3c7",
   "metadata": {
    "execution": {
     "iopub.execute_input": "2024-08-08T19:02:14.216871Z",
     "iopub.status.busy": "2024-08-08T19:02:14.216379Z",
     "iopub.status.idle": "2024-08-08T19:02:14.303675Z",
     "shell.execute_reply": "2024-08-08T19:02:14.303370Z",
     "shell.execute_reply.started": "2024-08-08T19:02:14.216843Z"
    }
   },
   "outputs": [],
   "source": [
    "fig, ax = plt.subplots()\n",
    "(df[\"file_size\"] / 1e6).plot.hist(\n",
    "    ax=ax, bins=np.arange(50, 650, 50), edgecolor=\"black\", facecolor=\"C0\"\n",
    ")\n",
    "ax.set_ylabel(\"Number of stations\")\n",
    "ax.set_xlabel(\"File size [MB]\")\n",
    "ax.set_title(\"Full run\");"
   ]
  },
  {
   "cell_type": "code",
   "execution_count": null,
   "id": "b4b2ec2d-55df-492e-b234-2617ed2e4d1b",
   "metadata": {},
   "outputs": [],
   "source": []
  }
 ],
 "metadata": {
  "kernelspec": {
   "display_name": "hist-obs",
   "language": "python",
   "name": "hist-obs"
  },
  "language_info": {
   "codemirror_mode": {
    "name": "ipython",
    "version": 3
   },
   "file_extension": ".py",
   "mimetype": "text/x-python",
   "name": "python",
   "nbconvert_exporter": "python",
   "pygments_lexer": "ipython3",
   "version": "3.9.18"
  }
 },
 "nbformat": 4,
 "nbformat_minor": 5
}
