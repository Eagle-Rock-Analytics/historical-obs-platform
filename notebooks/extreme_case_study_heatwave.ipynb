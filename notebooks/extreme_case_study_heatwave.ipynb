{
 "cells": [
  {
   "cell_type": "markdown",
   "id": "599c058e-f4c9-45e8-b286-1ef639f32229",
   "metadata": {},
   "source": [
    "### Extreme Event Case Study: Labor Day 2022 Heatwave\n",
    "\n",
    "The **Historical Observations Data Platform** is a cloud-based, historical weather observations dataset that enables access to high-quality, rigorously quality-controlled open climate and weather data. The historical weather stations included in this dataset include information that can assess the severity, duration, frequency, and rate of change over time of extreme weather events, as well as supporting projections downscaling efforts. Stringent QA/QC procedures, in-line with international protocols, are applied with custom modifications relevant to the Western US and the energy sector are included (such as temperature and precipitation extremes, winds, and solar radiation). This notebook is a detailed investigation into how the QA/QC protocol performed during a known extreme event that stressed communities and the electric grid. \n",
    "\n",
    "\n",
    "The **Labor Day 2022 Heatwave** was a 10-day significant extreme heat event impacting the Western US, particularly California, with record-breaking air temperatures that strained the power grid. The heatwave resulted in widespread power outages across the state with severe impacts including [extreme loss of life](https://www.cdph.ca.gov/Programs/OHE/CDPH%20Document%20Library/Climate-Health-Equity/CDPH-2022-Heat-Wave-Excess-Mortality-Report.pdf), [unprecedented high energy demand](https://www.sdgetoday.com/news/conservation-efforts-and-energy-storage-support-grid-reliability-during-labor-day-heatwave#:~:text=California%20was%20hot%20this%20past,the%20state%20weathered%20the%20heat.), and multiple world records broken for air temperature. <br>\n",
    "Records broken: \n",
    "- Sacramento, 116°F\n",
    "- Livermore, 116°F, *record last set in 1950*\n",
    "- Pasadena, 103°F, *record last set in 1938*\n",
    "- Long Beach, 109°F\n"
   ]
  },
  {
   "cell_type": "code",
   "execution_count": 1,
   "id": "acd46770-e4e5-495a-ad66-6c35e0ae4695",
   "metadata": {},
   "outputs": [],
   "source": [
    "# Import relevant python packages\n",
    "import pandas as pd\n",
    "import xarray as xr\n",
    "\n",
    "from case_study_eval_utils import *\n",
    "# event_info, event_subset"
   ]
  },
  {
   "cell_type": "code",
   "execution_count": 2,
   "id": "3c991b88",
   "metadata": {},
   "outputs": [],
   "source": [
    "# Settings for Labor Day Heatwave\n",
    "event = \"aug2022_heatwave\"\n",
    "event_start_date = \"2022-08-30\"\n",
    "event_end_date = \"2022-09-09\" \n",
    "\n",
    "# Read in all stations list\n",
    "all_stns = pd.read_csv(\n",
    "    \"s3://wecc-historical-wx/4_merge_wx/all_network_stationlist_merge.csv\"\n",
    ")"
   ]
  },
  {
   "cell_type": "code",
   "execution_count": 14,
   "id": "eb13e3a1",
   "metadata": {},
   "outputs": [
    {
     "data": {
      "text/plain": [
       "Index(['Unnamed: 0', 'era-id', 'latitude', 'longitude', 'elevation',\n",
       "       'start-date', 'end-date', 'pulled', 'time_checked', 'network',\n",
       "       'cleaned', 'time_cleaned', 'tas_nobs', 'tdps_nobs', 'tdps_derived_nobs',\n",
       "       'ps_nobs', 'ps_derived_nobs', 'psl_nobs', 'ps_altimeter_nobs',\n",
       "       'pr_nobs', 'pr_5min_nobs', 'pr_1h_nobs', 'pr_24h_nobs',\n",
       "       'pr_localmid_nobs', 'hurs_nobs', 'sfcwind_nobs', 'sfcwind_dir_nobs',\n",
       "       'rsds_nobs', 'total_nobs', 'qaqc', 'time_qaqc', 'merged', 'time_merge'],\n",
       "      dtype='object')"
      ]
     },
     "execution_count": 14,
     "metadata": {},
     "output_type": "execute_result"
    }
   ],
   "source": [
    "all_stns.columns"
   ]
  },
  {
   "cell_type": "code",
   "execution_count": 21,
   "id": "2ccceb27",
   "metadata": {},
   "outputs": [],
   "source": [
    "def event_subset(\n",
    "    df: pd.DataFrame,\n",
    "    event: str,\n",
    "    buffer: int | None = 7,\n",
    "    alt_start_date: str | None = None,\n",
    "    alt_end_date: str | None = None,\n",
    ") -> pd.DataFrame:\n",
    "    \"\"\"\n",
    "    Subsets for the event itself + buffer around to identify event.\n",
    "\n",
    "    Parameters\n",
    "    ---------\n",
    "    df: pd.DataFrame\n",
    "        stationlist dataframe\n",
    "    event : str\n",
    "        name of event\n",
    "    buffer : int, optional\n",
    "        number of days to include as a buffer around event start/end date\n",
    "    alt_start_date : str\n",
    "        date of different event, must be in format \"YYYY-MM-DD\"\n",
    "    alt_end_date : str\n",
    "        date of different event, must be in format \"YYYY-MM-DD\"\n",
    "\n",
    "    Returns\n",
    "    -------\n",
    "    event_sub : pd.DataFrame\n",
    "        subset of stationlist within date range of event or alternative\n",
    "    \"\"\"\n",
    "\n",
    "    print(\n",
    "        f\"Subsetting station record for event duration with {str(buffer)} day buffer...\"\n",
    "    )\n",
    "\n",
    "    alt_start_date = datetime.datetime(alt_start_date)\n",
    "    alt_end_date = datetime.datetime(alt_end_date)\n",
    "\n",
    "    # set to searchable datetime\n",
    "    df[\"start-date\"] = pd.to_datetime(df[\"start-date\"])\n",
    "    df[\"end-date\"] = pd.to_datetime(df[\"end-date\"])\n",
    "\n",
    "    # grab dates from lookup dictionary\n",
    "    event_start, event_end = event_info(event, alt_start_date, alt_end_date)\n",
    "\n",
    "    # subset for event dates + buffer\n",
    "    datemask = (\n",
    "        df[\"start-date\"]\n",
    "        >= (pd.Timestamp(event_start) - datetime.timedelta(days=buffer))\n",
    "    ) & (df[\"end-date\"] <= (pd.Timestamp(event_end) + datetime.timedelta(days=buffer)))\n",
    "    event_sub = df.loc[datemask]\n",
    "\n",
    "    return event_sub"
   ]
  },
  {
   "cell_type": "code",
   "execution_count": 22,
   "id": "6faeb185-fa4f-4b62-871b-79c4e5ea08c9",
   "metadata": {},
   "outputs": [
    {
     "name": "stdout",
     "output_type": "stream",
     "text": [
      "Subsetting station record for event duration with 7 day buffer...\n"
     ]
    },
    {
     "ename": "TypeError",
     "evalue": "'str' object cannot be interpreted as an integer",
     "output_type": "error",
     "traceback": [
      "\u001b[0;31m---------------------------------------------------------------------------\u001b[0m",
      "\u001b[0;31mTypeError\u001b[0m                                 Traceback (most recent call last)",
      "Cell \u001b[0;32mIn[22], line 2\u001b[0m\n\u001b[1;32m      1\u001b[0m \u001b[38;5;66;03m# Retrieve all stations that report observations during the event, using a 2-week window on either side\u001b[39;00m\n\u001b[0;32m----> 2\u001b[0m event_stns \u001b[38;5;241m=\u001b[39m \u001b[43mevent_subset\u001b[49m\u001b[43m(\u001b[49m\n\u001b[1;32m      3\u001b[0m \u001b[43m    \u001b[49m\u001b[43mall_stns\u001b[49m\u001b[43m,\u001b[49m\n\u001b[1;32m      4\u001b[0m \u001b[43m    \u001b[49m\u001b[43mevent\u001b[49m\u001b[43m,\u001b[49m\n\u001b[1;32m      5\u001b[0m \u001b[43m    \u001b[49m\u001b[38;5;241;43m7\u001b[39;49m\u001b[43m,\u001b[49m\n\u001b[1;32m      6\u001b[0m \u001b[43m    \u001b[49m\u001b[38;5;124;43m\"\u001b[39;49m\u001b[38;5;124;43m2022-08-30\u001b[39;49m\u001b[38;5;124;43m\"\u001b[39;49m\u001b[43m,\u001b[49m\n\u001b[1;32m      7\u001b[0m \u001b[43m    \u001b[49m\u001b[38;5;124;43m\"\u001b[39;49m\u001b[38;5;124;43m2022-09-09\u001b[39;49m\u001b[38;5;124;43m\"\u001b[39;49m\n\u001b[1;32m      8\u001b[0m \u001b[43m)\u001b[49m \n\u001b[1;32m     11\u001b[0m \u001b[38;5;66;03m# # subset all stations for time dates, probably within a 2 week window on either side\u001b[39;00m\n\u001b[1;32m     12\u001b[0m \u001b[38;5;66;03m# depending on the event, susbet for specific variables (ask Victoria)\u001b[39;00m\n",
      "Cell \u001b[0;32mIn[21], line 34\u001b[0m, in \u001b[0;36mevent_subset\u001b[0;34m(df, event, buffer, alt_start_date, alt_end_date)\u001b[0m\n\u001b[1;32m      8\u001b[0m \u001b[38;5;250m\u001b[39m\u001b[38;5;124;03m\"\"\"\u001b[39;00m\n\u001b[1;32m      9\u001b[0m \u001b[38;5;124;03mSubsets for the event itself + buffer around to identify event.\u001b[39;00m\n\u001b[1;32m     10\u001b[0m \n\u001b[0;32m   (...)\u001b[0m\n\u001b[1;32m     27\u001b[0m \u001b[38;5;124;03m    subset of stationlist within date range of event or alternative\u001b[39;00m\n\u001b[1;32m     28\u001b[0m \u001b[38;5;124;03m\"\"\"\u001b[39;00m\n\u001b[1;32m     30\u001b[0m \u001b[38;5;28mprint\u001b[39m(\n\u001b[1;32m     31\u001b[0m     \u001b[38;5;124mf\u001b[39m\u001b[38;5;124m\"\u001b[39m\u001b[38;5;124mSubsetting station record for event duration with \u001b[39m\u001b[38;5;132;01m{\u001b[39;00m\u001b[38;5;28mstr\u001b[39m(buffer)\u001b[38;5;132;01m}\u001b[39;00m\u001b[38;5;124m day buffer...\u001b[39m\u001b[38;5;124m\"\u001b[39m\n\u001b[1;32m     32\u001b[0m )\n\u001b[0;32m---> 34\u001b[0m alt_start_date \u001b[38;5;241m=\u001b[39m \u001b[43mdatetime\u001b[49m\u001b[38;5;241;43m.\u001b[39;49m\u001b[43mdatetime\u001b[49m\u001b[43m(\u001b[49m\u001b[43malt_start_date\u001b[49m\u001b[43m)\u001b[49m\n\u001b[1;32m     35\u001b[0m alt_end_date \u001b[38;5;241m=\u001b[39m datetime\u001b[38;5;241m.\u001b[39mdatetime(alt_end_date)\n\u001b[1;32m     37\u001b[0m \u001b[38;5;66;03m# set to searchable datetime\u001b[39;00m\n",
      "\u001b[0;31mTypeError\u001b[0m: 'str' object cannot be interpreted as an integer"
     ]
    }
   ],
   "source": [
    "# Retrieve all stations that report observations during the event, using a 2-week window on either side\n",
    "event_stns = event_subset(\n",
    "    all_stns,\n",
    "    event,\n",
    "    7,\n",
    "    \"2022-08-30\",\n",
    "    \"2022-09-09\"\n",
    ") \n",
    " \n",
    "\n",
    "# # subset all stations for time dates, probably within a 2 week window on either side\n",
    "# depending on the event, susbet for specific variables (ask Victoria)"
   ]
  },
  {
   "cell_type": "code",
   "execution_count": null,
   "id": "75a9627d-3d27-47f5-98e6-adb0f0bf52f9",
   "metadata": {},
   "outputs": [],
   "source": [
    "# produce simple timeseries plots of variable over the event\n",
    "# include QC flags\n",
    "# if possible, add shaded bars or something (look at old code) to indicate the event itself"
   ]
  },
  {
   "cell_type": "code",
   "execution_count": null,
   "id": "8a0bc7e8-b921-4de1-a0d0-3d45118416dc",
   "metadata": {},
   "outputs": [],
   "source": [
    "# some kind of map"
   ]
  },
  {
   "cell_type": "code",
   "execution_count": null,
   "id": "c630ec00-ed0e-480a-a0cc-7212977d5204",
   "metadata": {},
   "outputs": [],
   "source": [
    "# table / stats \"read out\" on extremes during the event"
   ]
  },
  {
   "cell_type": "code",
   "execution_count": null,
   "id": "21fa9533-dd35-4de3-821c-4270d08587ec",
   "metadata": {},
   "outputs": [],
   "source": [
    "# table / stats \"read out\" on QC flags, including if we think refinement to QC tests would improve coverage"
   ]
  },
  {
   "cell_type": "code",
   "execution_count": null,
   "id": "e6977bc1-3175-4924-89a4-7498febadb5a",
   "metadata": {},
   "outputs": [],
   "source": [
    "# some function/thing in terms of how many stations \"detected\" the event"
   ]
  },
  {
   "cell_type": "code",
   "execution_count": null,
   "id": "698f2990-6ac5-468f-a659-77ecb06eed23",
   "metadata": {},
   "outputs": [],
   "source": [
    "# summary information via markdown close out of what we have learned"
   ]
  }
 ],
 "metadata": {
  "kernelspec": {
   "display_name": "hdp-slim",
   "language": "python",
   "name": "python3"
  },
  "language_info": {
   "codemirror_mode": {
    "name": "ipython",
    "version": 3
   },
   "file_extension": ".py",
   "mimetype": "text/x-python",
   "name": "python",
   "nbconvert_exporter": "python",
   "pygments_lexer": "ipython3",
   "version": "3.10.13"
  }
 },
 "nbformat": 4,
 "nbformat_minor": 5
}
