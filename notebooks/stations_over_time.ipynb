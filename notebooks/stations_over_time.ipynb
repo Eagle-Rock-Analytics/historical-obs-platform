{
 "cells": [
  {
   "cell_type": "markdown",
   "id": "dce162d6",
   "metadata": {},
   "source": [
    "# Stations over time"
   ]
  },
  {
   "cell_type": "markdown",
   "id": "305b61f8",
   "metadata": {},
   "source": [
    "This notebook generates a station map and a chart showing station distribution over time using the `all network stationlist`, for a given stage (raw, clean, QAQC, merge) of data processing."
   ]
  },
  {
   "cell_type": "code",
   "execution_count": null,
   "id": "3e80ed1d",
   "metadata": {
    "execution": {
     "iopub.execute_input": "2025-07-03T20:12:46.259158Z",
     "iopub.status.busy": "2025-07-03T20:12:46.258659Z",
     "iopub.status.idle": "2025-07-03T20:12:47.549918Z",
     "shell.execute_reply": "2025-07-03T20:12:47.549399Z",
     "shell.execute_reply.started": "2025-07-03T20:12:46.259111Z"
    }
   },
   "outputs": [],
   "source": [
    "from figure_utils import plot_chart\n",
    "import matplotlib.pyplot as plt"
   ]
  },
  {
   "cell_type": "markdown",
   "id": "46766961",
   "metadata": {},
   "source": [
    "## 1. Pull"
   ]
  },
  {
   "cell_type": "code",
   "execution_count": null,
   "id": "4b79b8db",
   "metadata": {
    "execution": {
     "iopub.execute_input": "2025-07-03T20:12:47.550788Z",
     "iopub.status.busy": "2025-07-03T20:12:47.550571Z",
     "iopub.status.idle": "2025-07-03T20:12:58.925300Z",
     "shell.execute_reply": "2025-07-03T20:12:58.924921Z",
     "shell.execute_reply.started": "2025-07-03T20:12:47.550773Z"
    }
   },
   "outputs": [],
   "source": [
    "plot_chart('pull')"
   ]
  },
  {
   "cell_type": "markdown",
   "id": "8a2e709a",
   "metadata": {},
   "source": [
    "## 2. Clean"
   ]
  },
  {
   "cell_type": "code",
   "execution_count": null,
   "id": "485b4768",
   "metadata": {
    "execution": {
     "iopub.execute_input": "2025-07-03T20:13:05.343356Z",
     "iopub.status.busy": "2025-07-03T20:13:05.342508Z",
     "iopub.status.idle": "2025-07-03T20:13:16.036898Z",
     "shell.execute_reply": "2025-07-03T20:13:16.036531Z",
     "shell.execute_reply.started": "2025-07-03T20:13:05.343311Z"
    }
   },
   "outputs": [],
   "source": [
    "plot_chart(\"clean\")"
   ]
  },
  {
   "cell_type": "markdown",
   "id": "23740530",
   "metadata": {},
   "source": [
    "## 3. QAQC"
   ]
  },
  {
   "cell_type": "code",
   "execution_count": null,
   "id": "a1c24cd2",
   "metadata": {
    "execution": {
     "iopub.execute_input": "2025-07-03T20:13:16.037975Z",
     "iopub.status.busy": "2025-07-03T20:13:16.037737Z",
     "iopub.status.idle": "2025-07-03T20:13:26.632064Z",
     "shell.execute_reply": "2025-07-03T20:13:26.631703Z",
     "shell.execute_reply.started": "2025-07-03T20:13:16.037962Z"
    }
   },
   "outputs": [],
   "source": [
    "plot_chart(\"qaqc\")"
   ]
  },
  {
   "cell_type": "markdown",
   "id": "bfca71d7",
   "metadata": {},
   "source": [
    "## 4. Merge"
   ]
  },
  {
   "cell_type": "code",
   "execution_count": null,
   "id": "d0115fff",
   "metadata": {
    "execution": {
     "iopub.execute_input": "2025-07-03T20:13:26.632829Z",
     "iopub.status.busy": "2025-07-03T20:13:26.632620Z",
     "iopub.status.idle": "2025-07-03T20:13:37.463980Z",
     "shell.execute_reply": "2025-07-03T20:13:37.463596Z",
     "shell.execute_reply.started": "2025-07-03T20:13:26.632815Z"
    }
   },
   "outputs": [],
   "source": [
    "plot_chart(\"merge\")\n",
    "plt.savefig(\"../figures/merge_stations_over_time.png\", dpi=300, bbox_inches=\"tight\")"
   ]
  }
 ],
 "metadata": {
  "kernelspec": {
   "display_name": "hist-obs",
   "language": "python",
   "name": "python3"
  },
  "language_info": {
   "codemirror_mode": {
    "name": "ipython",
    "version": 3
   },
   "file_extension": ".py",
   "mimetype": "text/x-python",
   "name": "python",
   "nbconvert_exporter": "python",
   "pygments_lexer": "ipython3",
   "version": "3.10.13"
  }
 },
 "nbformat": 4,
 "nbformat_minor": 5
}
