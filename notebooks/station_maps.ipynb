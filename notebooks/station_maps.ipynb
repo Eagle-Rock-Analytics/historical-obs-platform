{
 "cells": [
  {
   "cell_type": "markdown",
   "id": "dce162d6",
   "metadata": {},
   "source": [
    "# Station Maps"
   ]
  },
  {
   "cell_type": "markdown",
   "id": "305b61f8",
   "metadata": {},
   "source": [
    "The notebook generates maps of station location for each phase. Two maps are generated for each phase:\n",
    "\n",
    "1. map of all station locations\n",
    "2. map of locations of stations from networks containing more than 100 stations"
   ]
  },
  {
   "cell_type": "code",
   "execution_count": null,
   "id": "3e80ed1d",
   "metadata": {
    "execution": {
     "iopub.execute_input": "2025-07-03T20:15:08.423048Z",
     "iopub.status.busy": "2025-07-03T20:15:08.422301Z",
     "iopub.status.idle": "2025-07-03T20:15:09.559760Z",
     "shell.execute_reply": "2025-07-03T20:15:09.559305Z",
     "shell.execute_reply.started": "2025-07-03T20:15:08.423005Z"
    }
   },
   "outputs": [],
   "source": [
    "from notebook_utils.figure_utils import get_station_map_v1\n",
    "\n",
    "shapepath = \"s3://wecc-historical-wx/0_maps/tl_2021_us_state\""
   ]
  },
  {
   "cell_type": "markdown",
   "id": "46766961",
   "metadata": {},
   "source": [
    "## 1. Pull"
   ]
  },
  {
   "cell_type": "code",
   "execution_count": null,
   "id": "4b79b8db",
   "metadata": {
    "execution": {
     "iopub.execute_input": "2025-07-03T20:15:09.619206Z",
     "iopub.status.busy": "2025-07-03T20:15:09.618839Z",
     "iopub.status.idle": "2025-07-03T20:15:34.588648Z",
     "shell.execute_reply": "2025-07-03T20:15:34.588141Z",
     "shell.execute_reply.started": "2025-07-03T20:15:09.619182Z"
    }
   },
   "outputs": [],
   "source": [
    "get_station_map_v1('pull', shapepath)"
   ]
  },
  {
   "cell_type": "markdown",
   "id": "8a2e709a",
   "metadata": {},
   "source": [
    "## 2. Clean"
   ]
  },
  {
   "cell_type": "code",
   "execution_count": null,
   "id": "485b4768",
   "metadata": {
    "execution": {
     "iopub.execute_input": "2025-07-03T20:15:34.590044Z",
     "iopub.status.busy": "2025-07-03T20:15:34.589908Z",
     "iopub.status.idle": "2025-07-03T20:15:44.600725Z",
     "shell.execute_reply": "2025-07-03T20:15:44.600295Z",
     "shell.execute_reply.started": "2025-07-03T20:15:34.590032Z"
    }
   },
   "outputs": [],
   "source": [
    "get_station_map_v1(\"clean\", shapepath)"
   ]
  },
  {
   "cell_type": "markdown",
   "id": "23740530",
   "metadata": {},
   "source": [
    "## 3. QAQC"
   ]
  },
  {
   "cell_type": "code",
   "execution_count": null,
   "id": "a1c24cd2",
   "metadata": {
    "execution": {
     "iopub.execute_input": "2025-07-03T20:15:44.602010Z",
     "iopub.status.busy": "2025-07-03T20:15:44.601842Z",
     "iopub.status.idle": "2025-07-03T20:15:53.173439Z",
     "shell.execute_reply": "2025-07-03T20:15:53.173027Z",
     "shell.execute_reply.started": "2025-07-03T20:15:44.601997Z"
    }
   },
   "outputs": [],
   "source": [
    "get_station_map_v1(\"qaqc\", shapepath)"
   ]
  },
  {
   "cell_type": "markdown",
   "id": "bfca71d7",
   "metadata": {},
   "source": [
    "## 4. Merge"
   ]
  },
  {
   "cell_type": "code",
   "execution_count": null,
   "id": "d0115fff",
   "metadata": {
    "execution": {
     "iopub.execute_input": "2025-07-03T20:15:53.174706Z",
     "iopub.status.busy": "2025-07-03T20:15:53.174584Z",
     "iopub.status.idle": "2025-07-03T20:16:03.440888Z",
     "shell.execute_reply": "2025-07-03T20:16:03.440478Z",
     "shell.execute_reply.started": "2025-07-03T20:15:53.174695Z"
    }
   },
   "outputs": [],
   "source": [
    "get_station_map_v1(\"merge\", shapepath)"
   ]
  }
 ],
 "metadata": {
  "kernelspec": {
   "display_name": "hist-obs",
   "language": "python",
   "name": "python3"
  },
  "language_info": {
   "codemirror_mode": {
    "name": "ipython",
    "version": 3
   },
   "file_extension": ".py",
   "mimetype": "text/x-python",
   "name": "python",
   "nbconvert_exporter": "python",
   "pygments_lexer": "ipython3",
   "version": "3.10.13"
  }
 },
 "nbformat": 4,
 "nbformat_minor": 5
}
