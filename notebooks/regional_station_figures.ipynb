{
 "cells": [
  {
   "cell_type": "markdown",
   "id": "84cfc162-e75b-4120-a18e-8eb962ebe9fb",
   "metadata": {
    "execution": {
     "iopub.execute_input": "2024-11-07T14:56:47.205164Z",
     "iopub.status.busy": "2024-11-07T14:56:47.204257Z",
     "iopub.status.idle": "2024-11-07T14:56:47.211448Z",
     "shell.execute_reply": "2024-11-07T14:56:47.210601Z",
     "shell.execute_reply.started": "2024-11-07T14:56:47.205107Z"
    }
   },
   "source": [
    "# Produce regional figures\n",
    "The following script is used to identify stations within a specific geographic region (counties, spatial extent) and produce simple maps of their location. These can be produced for one-off requests. \n",
    "Examples:\n",
    "- Santa Clara subset for precipitation sensors, for VW\n",
    "- San Diego subset for hypothetical station replacement, for CEC"
   ]
  },
  {
   "cell_type": "code",
   "execution_count": null,
   "id": "3c5a40ee-d26f-4c7a-8ecb-10c3a146d5b4",
   "metadata": {},
   "outputs": [],
   "source": [
    "import pandas as pd\n",
    "import geopandas as gpd\n",
    "import contextily as cx\n",
    "from shapely.geometry import Point\n",
    "from pyproj import CRS, Transformer\n",
    "\n",
    "%matplotlib inline"
   ]
  },
  {
   "cell_type": "code",
   "execution_count": null,
   "id": "27b434d0-caf4-4129-8b0d-db6d3d3f4cb6",
   "metadata": {},
   "outputs": [],
   "source": [
    "# Helper function for plotting\n",
    "def latlon_to_mercator_cartopy(lat, lon):\n",
    "    proj_latlon = CRS('EPSG:4326')\n",
    "    proj_mercator = CRS('EPSG:3857')\n",
    "    \n",
    "    # Transform the coordinates\n",
    "    transformer = Transformer.from_crs(proj_latlon, proj_mercator, always_xy=True)\n",
    "    x,y = transformer.transform(lon, lat)\n",
    "    \n",
    "    return x, y\n",
    "\n",
    "# Shapefile of CA counties, for subsetting for a specific area\n",
    "ca_counties = gpd.read_file(\"s3://wecc-historical-wx/0_maps/ca_counties/CA_Counties.shp\" )"
   ]
  },
  {
   "cell_type": "code",
   "execution_count": null,
   "id": "18725684-9734-44cd-9b1b-96a90b9b174d",
   "metadata": {},
   "outputs": [],
   "source": [
    "# Read in all stations\n",
    "df_all = pd.read_csv(\"s3://wecc-historical-wx/2_clean_wx/temp_clean_all_station_list.csv\")\n",
    "\n",
    "# Subset for cleaned stations (Y flag)\n",
    "df_clean = df_all.loc[df_all['cleaned'] == 'Y']"
   ]
  },
  {
   "cell_type": "markdown",
   "id": "39e664f3-9ff0-4e09-a1fe-5a23a6f9b7a6",
   "metadata": {},
   "source": [
    "#### Example of subsetting for a variable + region\n",
    "Looking at stations in the Santa Clara region for precipitation sensors"
   ]
  },
  {
   "cell_type": "code",
   "execution_count": null,
   "id": "13b56be5-0c4f-43e4-93d8-f075d12f2cc6",
   "metadata": {},
   "outputs": [],
   "source": [
    "# Pick specific county\n",
    "target_county = ca_counties[ca_counties['NAME'] == 'Santa Clara']"
   ]
  },
  {
   "cell_type": "code",
   "execution_count": null,
   "id": "3d8162d2-430b-4ea4-bbb3-336dc2e2b506",
   "metadata": {},
   "outputs": [],
   "source": [
    "# Identify stations with precipitation sensors, looking for sensors with more than 5 observations to avoid stations that have a single observation\n",
    "df_clean_pr = df_clean.loc[(df_clean[['pr_nobs', 'pr_5min_nobs', 'pr_1h_nobs', 'pr_24h_nobs', 'pr_localmid_nobs']] > 5).any(axis=1)]\n",
    "\n",
    "# Option to output the subsetted stations with precip\n",
    "#df_clean_pr.to_csv('histobs_stns_all_precip.csv')"
   ]
  },
  {
   "cell_type": "code",
   "execution_count": null,
   "id": "a0e3af9b-465a-4236-bde8-eebf8ea02d1b",
   "metadata": {},
   "outputs": [],
   "source": [
    "# Set up a map\n",
    "geometry = [Point(latlon_to_mercator_cartopy(lat,lon)) for lat,lon in zip (df_clean.latitude, df_clean.longitude)]\n",
    "pr_stns = gpd.GeoDataFrame(df_clean, geometry=geometry).set_crs(crs=\"EPSG:3857\", allow_override=True) # adding geometry column\n",
    "pr_stns = gpd.overlay(pr_stns, target_county, how=\"intersection\") # subsetting for stations within county boundaries\n",
    "print(f'Number of stations: {len(pr_stns)}')"
   ]
  },
  {
   "cell_type": "code",
   "execution_count": null,
   "id": "725bfac3-b926-4221-86ac-5d24dba764bf",
   "metadata": {},
   "outputs": [],
   "source": [
    "# Mapping\n",
    "ax = pr_stns.plot(column='network', markersize=8, legend=True, figsize=(10,10))\n",
    "cx.add_basemap(ax, source=cx.providers.CartoDB.Voyager)\n",
    "\n",
    "# Also, can use your geodataframe and .explore() to zoom around\n",
    "# pr_stns.explore()"
   ]
  },
  {
   "cell_type": "markdown",
   "id": "60013356-964c-434a-8c1b-d8233acb1a1b",
   "metadata": {},
   "source": [
    "#### Example of subsetting for a specific region + network\n",
    "Looking at sensors in San Diego county, and specific networks"
   ]
  },
  {
   "cell_type": "code",
   "execution_count": null,
   "id": "50770a85-06f6-4320-8b0d-654371c696e8",
   "metadata": {},
   "outputs": [],
   "source": [
    "# Pick specific county\n",
    "target_county = ca_counties[ca_counties['NAME'] == 'San Diego']"
   ]
  },
  {
   "cell_type": "code",
   "execution_count": null,
   "id": "20554a0e-80c2-4360-a4e8-d7cbf47b0e6c",
   "metadata": {},
   "outputs": [],
   "source": [
    "# Subset for those stations\n",
    "geometry = [Point(latlon_to_mercator_cartopy(lat,lon)) for lat,lon in zip (df_clean.latitude, df_clean.longitude)]\n",
    "sd_stns = gpd.GeoDataFrame(df_clean, geometry=geometry).set_crs(crs=\"EPSG:3857\", allow_override=True) # adding geometry column\n",
    "sd_stns = gpd.overlay(sd_stns, target_county, how=\"intersection\") # subsetting for stations within county boundaries\n",
    "print(f'Number of stations: {len(sd_stns)}')\n",
    "\n",
    "# Option to export \n",
    "#sd_stns.to_csv('histobs_stns_san_diego_county.csv')"
   ]
  },
  {
   "cell_type": "code",
   "execution_count": null,
   "id": "38fe1a94-7665-4306-bdc4-0d49f52b1af0",
   "metadata": {},
   "outputs": [],
   "source": [
    "# Subset for specific network\n",
    "sd_stns_network_subset = sd_stns.loc[(sd_stns['network'] == 'OtherISD') | (sd_stns['network'] == 'ASOSAWOS')]\n",
    "\n",
    "# Mapping\n",
    "ax = sd_stns_network_subset.plot(column='network', markersize=8, legend=True, figsize=(10,10))\n",
    "cx.add_basemap(ax, source=cx.providers.CartoDB.Voyager)"
   ]
  }
 ],
 "metadata": {
  "kernelspec": {
   "display_name": "hist-obs",
   "language": "python",
   "name": "python3"
  },
  "language_info": {
   "codemirror_mode": {
    "name": "ipython",
    "version": 3
   },
   "file_extension": ".py",
   "mimetype": "text/x-python",
   "name": "python",
   "nbconvert_exporter": "python",
   "pygments_lexer": "ipython3",
   "version": "3.10.13"
  }
 },
 "nbformat": 4,
 "nbformat_minor": 5
}
